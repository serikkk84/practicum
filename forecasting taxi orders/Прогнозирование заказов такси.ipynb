{
  "cells": [
    {
      "cell_type": "markdown",
      "metadata": {
        "id": "Bw4s7l1Rr13O"
      },
      "source": [
        "#  Прогнозирование заказов такси"
      ]
    },
    {
      "cell_type": "markdown",
      "metadata": {
        "id": "5CV1ADvPr13P"
      },
      "source": [
        "Компания «Чётенькое такси» собрала исторические данные о заказах такси в аэропортах. Чтобы привлекать больше водителей в период пиковой нагрузки, нужно спрогнозировать количество заказов такси на следующий час. Необходимо построить модель для такого предсказания.\n",
        "\n",
        "Значение метрики *RMSE* на тестовой выборке должно быть не больше 48.\n"
      ]
    },
    {
      "cell_type": "markdown",
      "metadata": {
        "id": "YfC-3VlZr13Q"
      },
      "source": [
        "## Описание задачи"
      ]
    },
    {
      "cell_type": "markdown",
      "metadata": {
        "id": "8ptGHvXxr13R"
      },
      "source": [
        "Итак, задача построить модель обучения, способную предсказывать количество заказов для компании такси с целью привлечения большего количества водителей в пиковый период. Так как основная задача это предсказание количественного признака, можно сделать предварительный вывод, что следует обучать модели регрессии. Так же важным параметром задания является метрика RMSE, величина которой на тестовой выборке не должна превышать показатель 48"
      ]
    },
    {
      "cell_type": "markdown",
      "metadata": {
        "id": "XbDvSfxOr13U"
      },
      "source": [
        "## Подготовка"
      ]
    },
    {
      "cell_type": "markdown",
      "metadata": {
        "id": "O3RDMxgar13V"
      },
      "source": [
        "Первым делом загрузим необходимые для работы библиотеки"
      ]
    },
    {
      "cell_type": "code",
      "execution_count": null,
      "metadata": {
        "id": "MBayIBFxr13W"
      },
      "outputs": [],
      "source": [
        "import pandas as pd\n",
        "import numpy as np\n",
        "import matplotlib.pyplot as plt\n",
        "\n",
        "from catboost import CatBoostRegressor\n",
        "from lightgbm import LGBMRegressor\n",
        "from sklearn.tree import DecisionTreeRegressor\n",
        "from sklearn.linear_model import LinearRegression\n",
        "from sklearn.ensemble import RandomForestRegressor\n",
        "\n",
        "from sklearn.model_selection import train_test_split\n",
        "from sklearn.metrics import mean_absolute_error\n",
        "from sklearn.metrics import mean_squared_error\n",
        "from statsmodels.tsa.seasonal import seasonal_decompose\n",
        "from sklearn.model_selection import train_test_split"
      ]
    },
    {
      "cell_type": "markdown",
      "metadata": {
        "id": "0dOEU9Jyr13Z"
      },
      "source": [
        "Теперь фаил с данными и посмотрим. Так как цель задачи связана с определением временных интервалов, сразу зададим необходимы формат для датафрейма"
      ]
    },
    {
      "cell_type": "code",
      "execution_count": null,
      "metadata": {
        "id": "TohDCEJZr13a",
        "outputId": "9d1dd43d-7784-4810-ddbd-bfb045e22580"
      },
      "outputs": [
        {
          "data": {
            "text/html": [
              "<div>\n",
              "<style scoped>\n",
              "    .dataframe tbody tr th:only-of-type {\n",
              "        vertical-align: middle;\n",
              "    }\n",
              "\n",
              "    .dataframe tbody tr th {\n",
              "        vertical-align: top;\n",
              "    }\n",
              "\n",
              "    .dataframe thead th {\n",
              "        text-align: right;\n",
              "    }\n",
              "</style>\n",
              "<table border=\"1\" class=\"dataframe\">\n",
              "  <thead>\n",
              "    <tr style=\"text-align: right;\">\n",
              "      <th></th>\n",
              "      <th>num_orders</th>\n",
              "    </tr>\n",
              "    <tr>\n",
              "      <th>datetime</th>\n",
              "      <th></th>\n",
              "    </tr>\n",
              "  </thead>\n",
              "  <tbody>\n",
              "    <tr>\n",
              "      <th>2018-03-01 00:00:00</th>\n",
              "      <td>9</td>\n",
              "    </tr>\n",
              "    <tr>\n",
              "      <th>2018-03-01 00:10:00</th>\n",
              "      <td>14</td>\n",
              "    </tr>\n",
              "    <tr>\n",
              "      <th>2018-03-01 00:20:00</th>\n",
              "      <td>28</td>\n",
              "    </tr>\n",
              "    <tr>\n",
              "      <th>2018-03-01 00:30:00</th>\n",
              "      <td>20</td>\n",
              "    </tr>\n",
              "    <tr>\n",
              "      <th>2018-03-01 00:40:00</th>\n",
              "      <td>32</td>\n",
              "    </tr>\n",
              "    <tr>\n",
              "      <th>...</th>\n",
              "      <td>...</td>\n",
              "    </tr>\n",
              "    <tr>\n",
              "      <th>2018-08-31 23:10:00</th>\n",
              "      <td>32</td>\n",
              "    </tr>\n",
              "    <tr>\n",
              "      <th>2018-08-31 23:20:00</th>\n",
              "      <td>24</td>\n",
              "    </tr>\n",
              "    <tr>\n",
              "      <th>2018-08-31 23:30:00</th>\n",
              "      <td>27</td>\n",
              "    </tr>\n",
              "    <tr>\n",
              "      <th>2018-08-31 23:40:00</th>\n",
              "      <td>39</td>\n",
              "    </tr>\n",
              "    <tr>\n",
              "      <th>2018-08-31 23:50:00</th>\n",
              "      <td>53</td>\n",
              "    </tr>\n",
              "  </tbody>\n",
              "</table>\n",
              "<p>26496 rows × 1 columns</p>\n",
              "</div>"
            ],
            "text/plain": [
              "                     num_orders\n",
              "datetime                       \n",
              "2018-03-01 00:00:00           9\n",
              "2018-03-01 00:10:00          14\n",
              "2018-03-01 00:20:00          28\n",
              "2018-03-01 00:30:00          20\n",
              "2018-03-01 00:40:00          32\n",
              "...                         ...\n",
              "2018-08-31 23:10:00          32\n",
              "2018-08-31 23:20:00          24\n",
              "2018-08-31 23:30:00          27\n",
              "2018-08-31 23:40:00          39\n",
              "2018-08-31 23:50:00          53\n",
              "\n",
              "[26496 rows x 1 columns]"
            ]
          },
          "execution_count": 2,
          "metadata": {},
          "output_type": "execute_result"
        }
      ],
      "source": [
        "try:\n",
        "    data = pd.read_csv('taxi.csv', index_col=[0], parse_dates=[0])\n",
        "except:\n",
        "    data = pd.read_csv('/datasets/taxi.csv', index_col=[0], parse_dates=[0])\n",
        "data"
      ]
    },
    {
      "cell_type": "markdown",
      "metadata": {
        "id": "dbXPiiVWr13c"
      },
      "source": [
        "Не так много данных. Посмотрим состав"
      ]
    },
    {
      "cell_type": "code",
      "execution_count": null,
      "metadata": {
        "scrolled": false,
        "id": "dw9p6MNlr13d",
        "outputId": "bf79ea91-2756-4ab1-a4bb-bea15d7b5cf2"
      },
      "outputs": [
        {
          "name": "stdout",
          "output_type": "stream",
          "text": [
            "<class 'pandas.core.frame.DataFrame'>\n",
            "DatetimeIndex: 26496 entries, 2018-03-01 00:00:00 to 2018-08-31 23:50:00\n",
            "Data columns (total 1 columns):\n",
            " #   Column      Non-Null Count  Dtype\n",
            "---  ------      --------------  -----\n",
            " 0   num_orders  26496 non-null  int64\n",
            "dtypes: int64(1)\n",
            "memory usage: 414.0 KB\n"
          ]
        }
      ],
      "source": [
        "data.info()"
      ]
    },
    {
      "cell_type": "markdown",
      "metadata": {
        "id": "zqgJBiC8r13e"
      },
      "source": [
        "Итак, нам предоставленны данные по заказам за период с первого марта 2018 года по 31 августа 2018 года, с разбивкой по 10 минут."
      ]
    },
    {
      "cell_type": "markdown",
      "metadata": {
        "id": "Qhp2Y1C2r13e"
      },
      "source": [
        "Проведем ресемплирование датафрейма по часу и посмотрим"
      ]
    },
    {
      "cell_type": "code",
      "execution_count": null,
      "metadata": {
        "scrolled": false,
        "id": "hOz-KKycr13f",
        "outputId": "7767144c-f9c5-405d-8bc6-fb32c5c3c01f"
      },
      "outputs": [
        {
          "data": {
            "image/png": "[encoded data removed]",
            "text/plain": [
              "<Figure size 1152x360 with 1 Axes>"
            ]
          },
          "metadata": {
            "needs_background": "light"
          },
          "output_type": "display_data"
        }
      ],
      "source": [
        "data = data.resample('1H').sum()\n",
        "data.plot(figsize=(16,5))\n",
        "plt.title('График среднего количества заказов по часам')\n",
        "plt.xlabel('Datetime')\n",
        "plt.ylabel('Число заказов')\n",
        "plt.show()"
      ]
    },
    {
      "cell_type": "code",
      "execution_count": null,
      "metadata": {
        "scrolled": false,
        "id": "J28pYrPwr13h",
        "outputId": "d18e4129-8c0c-4f44-e29c-f903a7e7b955"
      },
      "outputs": [
        {
          "data": {
            "text/html": [
              "<div>\n",
              "<style scoped>\n",
              "    .dataframe tbody tr th:only-of-type {\n",
              "        vertical-align: middle;\n",
              "    }\n",
              "\n",
              "    .dataframe tbody tr th {\n",
              "        vertical-align: top;\n",
              "    }\n",
              "\n",
              "    .dataframe thead th {\n",
              "        text-align: right;\n",
              "    }\n",
              "</style>\n",
              "<table border=\"1\" class=\"dataframe\">\n",
              "  <thead>\n",
              "    <tr style=\"text-align: right;\">\n",
              "      <th></th>\n",
              "      <th>num_orders</th>\n",
              "    </tr>\n",
              "    <tr>\n",
              "      <th>datetime</th>\n",
              "      <th></th>\n",
              "    </tr>\n",
              "  </thead>\n",
              "  <tbody>\n",
              "    <tr>\n",
              "      <th>2018-03-01 00:00:00</th>\n",
              "      <td>124</td>\n",
              "    </tr>\n",
              "    <tr>\n",
              "      <th>2018-03-01 01:00:00</th>\n",
              "      <td>85</td>\n",
              "    </tr>\n",
              "    <tr>\n",
              "      <th>2018-03-01 02:00:00</th>\n",
              "      <td>71</td>\n",
              "    </tr>\n",
              "    <tr>\n",
              "      <th>2018-03-01 03:00:00</th>\n",
              "      <td>66</td>\n",
              "    </tr>\n",
              "    <tr>\n",
              "      <th>2018-03-01 04:00:00</th>\n",
              "      <td>43</td>\n",
              "    </tr>\n",
              "    <tr>\n",
              "      <th>...</th>\n",
              "      <td>...</td>\n",
              "    </tr>\n",
              "    <tr>\n",
              "      <th>2018-08-31 19:00:00</th>\n",
              "      <td>136</td>\n",
              "    </tr>\n",
              "    <tr>\n",
              "      <th>2018-08-31 20:00:00</th>\n",
              "      <td>154</td>\n",
              "    </tr>\n",
              "    <tr>\n",
              "      <th>2018-08-31 21:00:00</th>\n",
              "      <td>159</td>\n",
              "    </tr>\n",
              "    <tr>\n",
              "      <th>2018-08-31 22:00:00</th>\n",
              "      <td>223</td>\n",
              "    </tr>\n",
              "    <tr>\n",
              "      <th>2018-08-31 23:00:00</th>\n",
              "      <td>205</td>\n",
              "    </tr>\n",
              "  </tbody>\n",
              "</table>\n",
              "<p>4416 rows × 1 columns</p>\n",
              "</div>"
            ],
            "text/plain": [
              "                     num_orders\n",
              "datetime                       \n",
              "2018-03-01 00:00:00         124\n",
              "2018-03-01 01:00:00          85\n",
              "2018-03-01 02:00:00          71\n",
              "2018-03-01 03:00:00          66\n",
              "2018-03-01 04:00:00          43\n",
              "...                         ...\n",
              "2018-08-31 19:00:00         136\n",
              "2018-08-31 20:00:00         154\n",
              "2018-08-31 21:00:00         159\n",
              "2018-08-31 22:00:00         223\n",
              "2018-08-31 23:00:00         205\n",
              "\n",
              "[4416 rows x 1 columns]"
            ]
          },
          "execution_count": 5,
          "metadata": {},
          "output_type": "execute_result"
        }
      ],
      "source": [
        "data"
      ]
    },
    {
      "cell_type": "markdown",
      "metadata": {
        "id": "2v2DFTlGr13i"
      },
      "source": [
        "Данных вследствии ресемплирования стало меньше. Также по графику виден значительный рост числа заказов такси в августе."
      ]
    },
    {
      "cell_type": "code",
      "execution_count": null,
      "metadata": {
        "id": "1aJimIHKr13i",
        "outputId": "521a9a3e-21c6-4aa9-b2fb-a4ffa3bf528c"
      },
      "outputs": [
        {
          "data": {
            "text/plain": [
              "True"
            ]
          },
          "execution_count": 6,
          "metadata": {},
          "output_type": "execute_result"
        }
      ],
      "source": [
        "data.index.is_monotonic "
      ]
    },
    {
      "cell_type": "code",
      "execution_count": null,
      "metadata": {
        "id": "R9v1UPi-r13j",
        "outputId": "3f29cb76-e4b6-4884-d935-2393f1f63007"
      },
      "outputs": [
        {
          "data": {
            "text/plain": [
              "True"
            ]
          },
          "execution_count": 7,
          "metadata": {},
          "output_type": "execute_result"
        }
      ],
      "source": [
        "data.index.is_unique "
      ]
    },
    {
      "cell_type": "markdown",
      "metadata": {
        "id": "zMsmCd6Ir13j"
      },
      "source": [
        "Данные монотонны, временные индексы не повторяются.\n"
      ]
    },
    {
      "cell_type": "markdown",
      "metadata": {
        "id": "-IFTtOgNr13j"
      },
      "source": [
        "## Анализ"
      ]
    },
    {
      "cell_type": "markdown",
      "metadata": {
        "id": "gTKW2q9fr13k"
      },
      "source": [
        "Данные даны за достаточно короткий проежуток времени. Врядли в этой ситуации можно анализировать тренды или циклично повторяющиеся закономерности (сезонность). Тем не менее попробуем."
      ]
    },
    {
      "cell_type": "code",
      "execution_count": null,
      "metadata": {
        "id": "TuUYfP9Sr13k",
        "outputId": "559a6be8-a6e4-45ce-a402-346bb61e24d8"
      },
      "outputs": [
        {
          "data": {
            "image/png": "[encoded data removed]",
            "text/plain": [
              "<Figure size 1152x1152 with 3 Axes>"
            ]
          },
          "metadata": {
            "needs_background": "light"
          },
          "output_type": "display_data"
        }
      ],
      "source": [
        "decomposed = seasonal_decompose(data)\n",
        "plt.figure(figsize=(16, 16))\n",
        "plt.subplot(311)\n",
        "\n",
        "decomposed.trend.plot(ax=plt.gca())\n",
        "plt.title('Trend')\n",
        "plt.subplot(312)\n",
        "decomposed.seasonal.plot(ax=plt.gca()) \n",
        "plt.title('Seasonality')\n",
        "plt.subplot(313)\n",
        "decomposed.resid.plot(ax=plt.gca()) \n",
        "plt.title('Residuals')\n",
        "plt.tight_layout()"
      ]
    },
    {
      "cell_type": "markdown",
      "metadata": {
        "id": "zM25NoN-r13k"
      },
      "source": [
        "Предположение верно. С сезонностью все плохо, что-либо понять не возможно. Зато с трендами все понятно. Виден постоянный рост с марта по август."
      ]
    },
    {
      "cell_type": "code",
      "execution_count": null,
      "metadata": {
        "id": "OPcbCILjr13l",
        "outputId": "3886bb7d-f462-4579-cebe-a02f512bb8ec"
      },
      "outputs": [
        {
          "data": {
            "image/png": "[encoded data removed]",
            "text/plain": [
              "<Figure size 1152x432 with 1 Axes>"
            ]
          },
          "metadata": {
            "needs_background": "light"
          },
          "output_type": "display_data"
        }
      ],
      "source": [
        "decomposed = seasonal_decompose(data)\n",
        "plt.figure(figsize=(16, 6))\n",
        "decomposed.seasonal['2018-04-01':'2018-04-03'].plot(ax=plt.gca()) \n",
        "plt.title('График среднего количества заказов по часам за трехдневный период')\n",
        "plt.xlabel('Datetime')\n",
        "plt.ylabel('Число заказов')\n",
        "plt.show()"
      ]
    },
    {
      "cell_type": "markdown",
      "metadata": {
        "id": "biT1X0r8r13m"
      },
      "source": [
        "\n",
        "Действительно, по сезонности можно сделать определенные выводы:\n",
        "    1. Мы имеем дело с дневной сезонностью.\n",
        "    2. Пик заказов приходится на 12 ночи кождого дня, после чего количество заказов стремительно падает до 6 утра. После 6 утра начинается рост количества заказов с незначительными флуктуациями.\n",
        "    3. Падение количества заказов каждый день в 6 утра, возможно, связано с регламентым перерывом в аэропорту. В тоже время пиковые значения в ночное время, возможно, связано с режимом работы общественного транспорта и невозможностью использования альтернативных способов попасть в аэропорт"
      ]
    },
    {
      "cell_type": "markdown",
      "metadata": {
        "id": "GaMMdthbr13m"
      },
      "source": [
        "## Обучение"
      ]
    },
    {
      "cell_type": "markdown",
      "metadata": {
        "id": "_YbOLPFrr13m"
      },
      "source": [
        "Прежде чем начать обучение моделей добавим календарные признаки, а так же отстающие признаки. Напишем функцию, чтобы при обучении моделей была возможность быстро менять количество значении"
      ]
    },
    {
      "cell_type": "code",
      "execution_count": null,
      "metadata": {
        "id": "dkecCLcTr13n"
      },
      "outputs": [],
      "source": [
        "def make_features(data, max_lag, rolling_mean_size):\n",
        "    #data['year'] = data.index.year\n",
        "    #data['month'] = data.index.month\n",
        "    data['day'] = data.index.day\n",
        "    data['dayofweek'] = data.index.dayofweek\n",
        "    #data['hour'] = data.index.hour\n",
        "\n",
        "    for lag in range(1, max_lag + 1):\n",
        "        data['lag_{}'.format(lag)] = data['num_orders'].shift(lag)\n",
        "\n",
        "    data['rolling_mean'] = data['num_orders'].shift().rolling(rolling_mean_size).mean()\n",
        "\n",
        "\n",
        "make_features(data, 24, 12)"
      ]
    },
    {
      "cell_type": "markdown",
      "metadata": {
        "id": "e5CiQT82r13p"
      },
      "source": [
        "Разделим датафрейм на тестовую, обучающую и валидационную выборки"
      ]
    },
    {
      "cell_type": "code",
      "execution_count": null,
      "metadata": {
        "id": "LNIEJFJ-r13q"
      },
      "outputs": [],
      "source": [
        "train_valid, test = train_test_split(data, shuffle=False, test_size=0.1)"
      ]
    },
    {
      "cell_type": "code",
      "execution_count": null,
      "metadata": {
        "scrolled": false,
        "id": "k8RNrFAtr13q",
        "outputId": "a2f9cb6b-3539-40ea-ccc3-5bd6e7392f83"
      },
      "outputs": [
        {
          "data": {
            "text/html": [
              "<div>\n",
              "<style scoped>\n",
              "    .dataframe tbody tr th:only-of-type {\n",
              "        vertical-align: middle;\n",
              "    }\n",
              "\n",
              "    .dataframe tbody tr th {\n",
              "        vertical-align: top;\n",
              "    }\n",
              "\n",
              "    .dataframe thead th {\n",
              "        text-align: right;\n",
              "    }\n",
              "</style>\n",
              "<table border=\"1\" class=\"dataframe\">\n",
              "  <thead>\n",
              "    <tr style=\"text-align: right;\">\n",
              "      <th></th>\n",
              "      <th>num_orders</th>\n",
              "      <th>day</th>\n",
              "      <th>dayofweek</th>\n",
              "      <th>lag_1</th>\n",
              "      <th>lag_2</th>\n",
              "      <th>lag_3</th>\n",
              "      <th>lag_4</th>\n",
              "      <th>lag_5</th>\n",
              "      <th>lag_6</th>\n",
              "      <th>lag_7</th>\n",
              "      <th>...</th>\n",
              "      <th>lag_16</th>\n",
              "      <th>lag_17</th>\n",
              "      <th>lag_18</th>\n",
              "      <th>lag_19</th>\n",
              "      <th>lag_20</th>\n",
              "      <th>lag_21</th>\n",
              "      <th>lag_22</th>\n",
              "      <th>lag_23</th>\n",
              "      <th>lag_24</th>\n",
              "      <th>rolling_mean</th>\n",
              "    </tr>\n",
              "    <tr>\n",
              "      <th>datetime</th>\n",
              "      <th></th>\n",
              "      <th></th>\n",
              "      <th></th>\n",
              "      <th></th>\n",
              "      <th></th>\n",
              "      <th></th>\n",
              "      <th></th>\n",
              "      <th></th>\n",
              "      <th></th>\n",
              "      <th></th>\n",
              "      <th></th>\n",
              "      <th></th>\n",
              "      <th></th>\n",
              "      <th></th>\n",
              "      <th></th>\n",
              "      <th></th>\n",
              "      <th></th>\n",
              "      <th></th>\n",
              "      <th></th>\n",
              "      <th></th>\n",
              "      <th></th>\n",
              "    </tr>\n",
              "  </thead>\n",
              "  <tbody>\n",
              "    <tr>\n",
              "      <th>2018-03-01 00:00:00</th>\n",
              "      <td>124</td>\n",
              "      <td>1</td>\n",
              "      <td>3</td>\n",
              "      <td>NaN</td>\n",
              "      <td>NaN</td>\n",
              "      <td>NaN</td>\n",
              "      <td>NaN</td>\n",
              "      <td>NaN</td>\n",
              "      <td>NaN</td>\n",
              "      <td>NaN</td>\n",
              "      <td>...</td>\n",
              "      <td>NaN</td>\n",
              "      <td>NaN</td>\n",
              "      <td>NaN</td>\n",
              "      <td>NaN</td>\n",
              "      <td>NaN</td>\n",
              "      <td>NaN</td>\n",
              "      <td>NaN</td>\n",
              "      <td>NaN</td>\n",
              "      <td>NaN</td>\n",
              "      <td>NaN</td>\n",
              "    </tr>\n",
              "    <tr>\n",
              "      <th>2018-03-01 01:00:00</th>\n",
              "      <td>85</td>\n",
              "      <td>1</td>\n",
              "      <td>3</td>\n",
              "      <td>124.0</td>\n",
              "      <td>NaN</td>\n",
              "      <td>NaN</td>\n",
              "      <td>NaN</td>\n",
              "      <td>NaN</td>\n",
              "      <td>NaN</td>\n",
              "      <td>NaN</td>\n",
              "      <td>...</td>\n",
              "      <td>NaN</td>\n",
              "      <td>NaN</td>\n",
              "      <td>NaN</td>\n",
              "      <td>NaN</td>\n",
              "      <td>NaN</td>\n",
              "      <td>NaN</td>\n",
              "      <td>NaN</td>\n",
              "      <td>NaN</td>\n",
              "      <td>NaN</td>\n",
              "      <td>NaN</td>\n",
              "    </tr>\n",
              "    <tr>\n",
              "      <th>2018-03-01 02:00:00</th>\n",
              "      <td>71</td>\n",
              "      <td>1</td>\n",
              "      <td>3</td>\n",
              "      <td>85.0</td>\n",
              "      <td>124.0</td>\n",
              "      <td>NaN</td>\n",
              "      <td>NaN</td>\n",
              "      <td>NaN</td>\n",
              "      <td>NaN</td>\n",
              "      <td>NaN</td>\n",
              "      <td>...</td>\n",
              "      <td>NaN</td>\n",
              "      <td>NaN</td>\n",
              "      <td>NaN</td>\n",
              "      <td>NaN</td>\n",
              "      <td>NaN</td>\n",
              "      <td>NaN</td>\n",
              "      <td>NaN</td>\n",
              "      <td>NaN</td>\n",
              "      <td>NaN</td>\n",
              "      <td>NaN</td>\n",
              "    </tr>\n",
              "    <tr>\n",
              "      <th>2018-03-01 03:00:00</th>\n",
              "      <td>66</td>\n",
              "      <td>1</td>\n",
              "      <td>3</td>\n",
              "      <td>71.0</td>\n",
              "      <td>85.0</td>\n",
              "      <td>124.0</td>\n",
              "      <td>NaN</td>\n",
              "      <td>NaN</td>\n",
              "      <td>NaN</td>\n",
              "      <td>NaN</td>\n",
              "      <td>...</td>\n",
              "      <td>NaN</td>\n",
              "      <td>NaN</td>\n",
              "      <td>NaN</td>\n",
              "      <td>NaN</td>\n",
              "      <td>NaN</td>\n",
              "      <td>NaN</td>\n",
              "      <td>NaN</td>\n",
              "      <td>NaN</td>\n",
              "      <td>NaN</td>\n",
              "      <td>NaN</td>\n",
              "    </tr>\n",
              "    <tr>\n",
              "      <th>2018-03-01 04:00:00</th>\n",
              "      <td>43</td>\n",
              "      <td>1</td>\n",
              "      <td>3</td>\n",
              "      <td>66.0</td>\n",
              "      <td>71.0</td>\n",
              "      <td>85.0</td>\n",
              "      <td>124.0</td>\n",
              "      <td>NaN</td>\n",
              "      <td>NaN</td>\n",
              "      <td>NaN</td>\n",
              "      <td>...</td>\n",
              "      <td>NaN</td>\n",
              "      <td>NaN</td>\n",
              "      <td>NaN</td>\n",
              "      <td>NaN</td>\n",
              "      <td>NaN</td>\n",
              "      <td>NaN</td>\n",
              "      <td>NaN</td>\n",
              "      <td>NaN</td>\n",
              "      <td>NaN</td>\n",
              "      <td>NaN</td>\n",
              "    </tr>\n",
              "    <tr>\n",
              "      <th>...</th>\n",
              "      <td>...</td>\n",
              "      <td>...</td>\n",
              "      <td>...</td>\n",
              "      <td>...</td>\n",
              "      <td>...</td>\n",
              "      <td>...</td>\n",
              "      <td>...</td>\n",
              "      <td>...</td>\n",
              "      <td>...</td>\n",
              "      <td>...</td>\n",
              "      <td>...</td>\n",
              "      <td>...</td>\n",
              "      <td>...</td>\n",
              "      <td>...</td>\n",
              "      <td>...</td>\n",
              "      <td>...</td>\n",
              "      <td>...</td>\n",
              "      <td>...</td>\n",
              "      <td>...</td>\n",
              "      <td>...</td>\n",
              "      <td>...</td>\n",
              "    </tr>\n",
              "    <tr>\n",
              "      <th>2018-07-11 06:00:00</th>\n",
              "      <td>81</td>\n",
              "      <td>11</td>\n",
              "      <td>2</td>\n",
              "      <td>77.0</td>\n",
              "      <td>153.0</td>\n",
              "      <td>117.0</td>\n",
              "      <td>152.0</td>\n",
              "      <td>84.0</td>\n",
              "      <td>172.0</td>\n",
              "      <td>94.0</td>\n",
              "      <td>...</td>\n",
              "      <td>97.0</td>\n",
              "      <td>77.0</td>\n",
              "      <td>72.0</td>\n",
              "      <td>98.0</td>\n",
              "      <td>103.0</td>\n",
              "      <td>132.0</td>\n",
              "      <td>68.0</td>\n",
              "      <td>53.0</td>\n",
              "      <td>37.0</td>\n",
              "      <td>110.666667</td>\n",
              "    </tr>\n",
              "    <tr>\n",
              "      <th>2018-07-11 07:00:00</th>\n",
              "      <td>28</td>\n",
              "      <td>11</td>\n",
              "      <td>2</td>\n",
              "      <td>81.0</td>\n",
              "      <td>77.0</td>\n",
              "      <td>153.0</td>\n",
              "      <td>117.0</td>\n",
              "      <td>152.0</td>\n",
              "      <td>84.0</td>\n",
              "      <td>172.0</td>\n",
              "      <td>...</td>\n",
              "      <td>80.0</td>\n",
              "      <td>97.0</td>\n",
              "      <td>77.0</td>\n",
              "      <td>72.0</td>\n",
              "      <td>98.0</td>\n",
              "      <td>103.0</td>\n",
              "      <td>132.0</td>\n",
              "      <td>68.0</td>\n",
              "      <td>53.0</td>\n",
              "      <td>111.250000</td>\n",
              "    </tr>\n",
              "    <tr>\n",
              "      <th>2018-07-11 08:00:00</th>\n",
              "      <td>76</td>\n",
              "      <td>11</td>\n",
              "      <td>2</td>\n",
              "      <td>28.0</td>\n",
              "      <td>81.0</td>\n",
              "      <td>77.0</td>\n",
              "      <td>153.0</td>\n",
              "      <td>117.0</td>\n",
              "      <td>152.0</td>\n",
              "      <td>84.0</td>\n",
              "      <td>...</td>\n",
              "      <td>120.0</td>\n",
              "      <td>80.0</td>\n",
              "      <td>97.0</td>\n",
              "      <td>77.0</td>\n",
              "      <td>72.0</td>\n",
              "      <td>98.0</td>\n",
              "      <td>103.0</td>\n",
              "      <td>132.0</td>\n",
              "      <td>68.0</td>\n",
              "      <td>106.166667</td>\n",
              "    </tr>\n",
              "    <tr>\n",
              "      <th>2018-07-11 09:00:00</th>\n",
              "      <td>104</td>\n",
              "      <td>11</td>\n",
              "      <td>2</td>\n",
              "      <td>76.0</td>\n",
              "      <td>28.0</td>\n",
              "      <td>81.0</td>\n",
              "      <td>77.0</td>\n",
              "      <td>153.0</td>\n",
              "      <td>117.0</td>\n",
              "      <td>152.0</td>\n",
              "      <td>...</td>\n",
              "      <td>108.0</td>\n",
              "      <td>120.0</td>\n",
              "      <td>80.0</td>\n",
              "      <td>97.0</td>\n",
              "      <td>77.0</td>\n",
              "      <td>72.0</td>\n",
              "      <td>98.0</td>\n",
              "      <td>103.0</td>\n",
              "      <td>132.0</td>\n",
              "      <td>107.166667</td>\n",
              "    </tr>\n",
              "    <tr>\n",
              "      <th>2018-07-11 10:00:00</th>\n",
              "      <td>101</td>\n",
              "      <td>11</td>\n",
              "      <td>2</td>\n",
              "      <td>104.0</td>\n",
              "      <td>76.0</td>\n",
              "      <td>28.0</td>\n",
              "      <td>81.0</td>\n",
              "      <td>77.0</td>\n",
              "      <td>153.0</td>\n",
              "      <td>117.0</td>\n",
              "      <td>...</td>\n",
              "      <td>74.0</td>\n",
              "      <td>108.0</td>\n",
              "      <td>120.0</td>\n",
              "      <td>80.0</td>\n",
              "      <td>97.0</td>\n",
              "      <td>77.0</td>\n",
              "      <td>72.0</td>\n",
              "      <td>98.0</td>\n",
              "      <td>103.0</td>\n",
              "      <td>106.250000</td>\n",
              "    </tr>\n",
              "  </tbody>\n",
              "</table>\n",
              "<p>3179 rows × 28 columns</p>\n",
              "</div>"
            ],
            "text/plain": [
              "                     num_orders  day  dayofweek  lag_1  lag_2  lag_3  lag_4  \\\n",
              "datetime                                                                      \n",
              "2018-03-01 00:00:00         124    1          3    NaN    NaN    NaN    NaN   \n",
              "2018-03-01 01:00:00          85    1          3  124.0    NaN    NaN    NaN   \n",
              "2018-03-01 02:00:00          71    1          3   85.0  124.0    NaN    NaN   \n",
              "2018-03-01 03:00:00          66    1          3   71.0   85.0  124.0    NaN   \n",
              "2018-03-01 04:00:00          43    1          3   66.0   71.0   85.0  124.0   \n",
              "...                         ...  ...        ...    ...    ...    ...    ...   \n",
              "2018-07-11 06:00:00          81   11          2   77.0  153.0  117.0  152.0   \n",
              "2018-07-11 07:00:00          28   11          2   81.0   77.0  153.0  117.0   \n",
              "2018-07-11 08:00:00          76   11          2   28.0   81.0   77.0  153.0   \n",
              "2018-07-11 09:00:00         104   11          2   76.0   28.0   81.0   77.0   \n",
              "2018-07-11 10:00:00         101   11          2  104.0   76.0   28.0   81.0   \n",
              "\n",
              "                     lag_5  lag_6  lag_7  ...  lag_16  lag_17  lag_18  lag_19  \\\n",
              "datetime                                  ...                                   \n",
              "2018-03-01 00:00:00    NaN    NaN    NaN  ...     NaN     NaN     NaN     NaN   \n",
              "2018-03-01 01:00:00    NaN    NaN    NaN  ...     NaN     NaN     NaN     NaN   \n",
              "2018-03-01 02:00:00    NaN    NaN    NaN  ...     NaN     NaN     NaN     NaN   \n",
              "2018-03-01 03:00:00    NaN    NaN    NaN  ...     NaN     NaN     NaN     NaN   \n",
              "2018-03-01 04:00:00    NaN    NaN    NaN  ...     NaN     NaN     NaN     NaN   \n",
              "...                    ...    ...    ...  ...     ...     ...     ...     ...   \n",
              "2018-07-11 06:00:00   84.0  172.0   94.0  ...    97.0    77.0    72.0    98.0   \n",
              "2018-07-11 07:00:00  152.0   84.0  172.0  ...    80.0    97.0    77.0    72.0   \n",
              "2018-07-11 08:00:00  117.0  152.0   84.0  ...   120.0    80.0    97.0    77.0   \n",
              "2018-07-11 09:00:00  153.0  117.0  152.0  ...   108.0   120.0    80.0    97.0   \n",
              "2018-07-11 10:00:00   77.0  153.0  117.0  ...    74.0   108.0   120.0    80.0   \n",
              "\n",
              "                     lag_20  lag_21  lag_22  lag_23  lag_24  rolling_mean  \n",
              "datetime                                                                   \n",
              "2018-03-01 00:00:00     NaN     NaN     NaN     NaN     NaN           NaN  \n",
              "2018-03-01 01:00:00     NaN     NaN     NaN     NaN     NaN           NaN  \n",
              "2018-03-01 02:00:00     NaN     NaN     NaN     NaN     NaN           NaN  \n",
              "2018-03-01 03:00:00     NaN     NaN     NaN     NaN     NaN           NaN  \n",
              "2018-03-01 04:00:00     NaN     NaN     NaN     NaN     NaN           NaN  \n",
              "...                     ...     ...     ...     ...     ...           ...  \n",
              "2018-07-11 06:00:00   103.0   132.0    68.0    53.0    37.0    110.666667  \n",
              "2018-07-11 07:00:00    98.0   103.0   132.0    68.0    53.0    111.250000  \n",
              "2018-07-11 08:00:00    72.0    98.0   103.0   132.0    68.0    106.166667  \n",
              "2018-07-11 09:00:00    77.0    72.0    98.0   103.0   132.0    107.166667  \n",
              "2018-07-11 10:00:00    97.0    77.0    72.0    98.0   103.0    106.250000  \n",
              "\n",
              "[3179 rows x 28 columns]"
            ]
          },
          "execution_count": 12,
          "metadata": {},
          "output_type": "execute_result"
        }
      ],
      "source": [
        "train, valid = train_test_split(train_valid, shuffle=False, test_size=0.2)\n",
        "train"
      ]
    },
    {
      "cell_type": "markdown",
      "metadata": {
        "id": "3x_Lp1kSr13r"
      },
      "source": [
        "Можно переходить к обучению"
      ]
    },
    {
      "cell_type": "markdown",
      "metadata": {
        "id": "c_ugOrmHr13r"
      },
      "source": [
        "### Линейная регрессия"
      ]
    },
    {
      "cell_type": "code",
      "execution_count": null,
      "metadata": {
        "id": "YsTc8TrQr13s",
        "outputId": "b56c003a-be8f-40bd-b8ee-a248965faa72"
      },
      "outputs": [
        {
          "name": "stdout",
          "output_type": "stream",
          "text": [
            "RMSE наилучшей модели на валидационной выборке: 33.11196976162472\n"
          ]
        }
      ],
      "source": [
        "train = train.dropna()\n",
        "\n",
        "features_train = train.drop(['num_orders'], axis=1)\n",
        "target_train = train['num_orders']\n",
        " \n",
        "features_valid = valid.drop(['num_orders'], axis=1)\n",
        "target_valid = valid['num_orders']\n",
        " \n",
        "model_lin_reg = LinearRegression()\n",
        " \n",
        "model_lin_reg.fit(features_train, target_train)\n",
        "predictions_valid = model_lin_reg.predict(features_valid)\n",
        "\n",
        "result = mean_squared_error(target_valid, predictions_valid)**0.5 \n",
        "print(\"RMSE наилучшей модели на валидационной выборке:\", result)"
      ]
    },
    {
      "cell_type": "markdown",
      "metadata": {
        "id": "D-o4KddQr13s"
      },
      "source": [
        "### Случайный лес"
      ]
    },
    {
      "cell_type": "code",
      "execution_count": null,
      "metadata": {
        "id": "pL7Jkt1cr13t",
        "outputId": "1e5704e4-0dbc-47ca-b481-da46725d6f1e"
      },
      "outputs": [
        {
          "name": "stdout",
          "output_type": "stream",
          "text": [
            "RMSE наилучшей модели на валидационной выборке: 34.37427970286338 Количество деревьев: 50 Максимальная глубина: 10\n"
          ]
        }
      ],
      "source": [
        "best_model = None\n",
        "best_result = 10000\n",
        "best_est = 0\n",
        "best_depth = 0\n",
        "for est in range(10, 51, 10):\n",
        "    for depth in range (1, 11):\n",
        "        model = RandomForestRegressor(random_state=12345, n_estimators=est, max_depth=depth) \n",
        "        model.fit(features_train, target_train) \n",
        "        predictions_valid = model.predict(features_valid) \n",
        "        result = mean_squared_error(target_valid, predictions_valid)**0.5 \n",
        "        if result < best_result:\n",
        "            best_model = model\n",
        "            best_result = result\n",
        "            best_est = est\n",
        "            best_depth = depth\n",
        "\n",
        "print(\"RMSE наилучшей модели на валидационной выборке:\", best_result, \"Количество деревьев:\", best_est, \"Максимальная глубина:\", depth)"
      ]
    },
    {
      "cell_type": "markdown",
      "metadata": {
        "id": "KIcIwY1vr13u"
      },
      "source": [
        "### Дерево решений"
      ]
    },
    {
      "cell_type": "code",
      "execution_count": null,
      "metadata": {
        "id": "pbAMVXEVr13u",
        "outputId": "09857bba-aa7a-4757-9951-6a98275a7296"
      },
      "outputs": [
        {
          "name": "stdout",
          "output_type": "stream",
          "text": [
            "RMSE наилучшей модели на валидационной выборке: 37.76406084768708 Глубина дерева: 8\n"
          ]
        }
      ],
      "source": [
        "best_model = None\n",
        "best_result = 10000\n",
        "best_depth = 0\n",
        "for depth in range(1, 50):\n",
        "    model = DecisionTreeRegressor(random_state=12345, max_depth=depth)\n",
        "    model.fit(features_train, target_train) \n",
        "    predictions_valid = model.predict(features_valid) \n",
        "    result =  mean_squared_error(target_valid, predictions_valid)**0.5 \n",
        "    if result < best_result:\n",
        "        best_model = model\n",
        "        best_result = result\n",
        "        best_depth = depth\n",
        "\n",
        "print(\"RMSE наилучшей модели на валидационной выборке:\", best_result, \"Глубина дерева:\", best_depth)"
      ]
    },
    {
      "cell_type": "markdown",
      "metadata": {
        "id": "UY9mNaiVr13v"
      },
      "source": [
        "### LGBMRegressor"
      ]
    },
    {
      "cell_type": "code",
      "execution_count": null,
      "metadata": {
        "id": "eNz85d4vr13w",
        "outputId": "11da0e45-965c-4000-cb8a-5bb066b0797d"
      },
      "outputs": [
        {
          "name": "stdout",
          "output_type": "stream",
          "text": [
            "RMSE модели  на валидационной выборке: 33.90186057928044\n"
          ]
        }
      ],
      "source": [
        "model_LGMB = LGBMRegressor(random_state=12345)\n",
        "model_LGMB.fit(features_train, target_train)\n",
        "predict_LGMB = model_LGMB.predict(features_valid)\n",
        "result_LGMB = mean_squared_error(target_valid, predict_LGMB)**0.5\n",
        "print(\"RMSE модели  на валидационной выборке:\", result_LGMB)"
      ]
    },
    {
      "cell_type": "markdown",
      "metadata": {
        "id": "XU3yEnVkr13w"
      },
      "source": [
        "### CatBoostRegressor"
      ]
    },
    {
      "cell_type": "code",
      "execution_count": null,
      "metadata": {
        "id": "bjskm0a0r13x",
        "outputId": "5a73567b-f568-42d4-fb3e-434d1bfe35f0"
      },
      "outputs": [
        {
          "name": "stdout",
          "output_type": "stream",
          "text": [
            "RMSE модели на валидационной выборке: 33.82305789686578\n"
          ]
        }
      ],
      "source": [
        "model_cat = CatBoostRegressor(n_estimators=100, silent=True)\n",
        "model_cat.fit(features_train, target_train)\n",
        "predictions_valid = model_cat.predict(features_valid) \n",
        "\n",
        "result = mean_squared_error(target_valid, predictions_valid)**0.5\n",
        "print(\"RMSE модели на валидационной выборке:\", result)"
      ]
    },
    {
      "cell_type": "markdown",
      "metadata": {
        "id": "p8y3g8MGr13y"
      },
      "source": [
        "Соберем данные в таблицу, чтобы проще было анализировать результаты и сделать правильный выбор лучшей модели"
      ]
    },
    {
      "cell_type": "code",
      "execution_count": null,
      "metadata": {
        "id": "7QLoMqtCr13z",
        "outputId": "a6b8a121-1ece-4a3c-d97b-2af75bb07e2e"
      },
      "outputs": [
        {
          "data": {
            "text/html": [
              "<div>\n",
              "<style scoped>\n",
              "    .dataframe tbody tr th:only-of-type {\n",
              "        vertical-align: middle;\n",
              "    }\n",
              "\n",
              "    .dataframe tbody tr th {\n",
              "        vertical-align: top;\n",
              "    }\n",
              "\n",
              "    .dataframe thead th {\n",
              "        text-align: right;\n",
              "    }\n",
              "</style>\n",
              "<table border=\"1\" class=\"dataframe\">\n",
              "  <thead>\n",
              "    <tr style=\"text-align: right;\">\n",
              "      <th></th>\n",
              "      <th>type</th>\n",
              "      <th>RMSE</th>\n",
              "    </tr>\n",
              "  </thead>\n",
              "  <tbody>\n",
              "    <tr>\n",
              "      <th>0</th>\n",
              "      <td>DecisionTreeRegressor</td>\n",
              "      <td>38.0337</td>\n",
              "    </tr>\n",
              "    <tr>\n",
              "      <th>1</th>\n",
              "      <td>RandomForestRegressor</td>\n",
              "      <td>34.3073</td>\n",
              "    </tr>\n",
              "    <tr>\n",
              "      <th>2</th>\n",
              "      <td>LinearRegression</td>\n",
              "      <td>32.9035</td>\n",
              "    </tr>\n",
              "    <tr>\n",
              "      <th>3</th>\n",
              "      <td>CatBoostRegressor</td>\n",
              "      <td>33.0242</td>\n",
              "    </tr>\n",
              "    <tr>\n",
              "      <th>4</th>\n",
              "      <td>LGBMRegressor</td>\n",
              "      <td>33.5043</td>\n",
              "    </tr>\n",
              "  </tbody>\n",
              "</table>\n",
              "</div>"
            ],
            "text/plain": [
              "                    type     RMSE\n",
              "0  DecisionTreeRegressor  38.0337\n",
              "1  RandomForestRegressor  34.3073\n",
              "2       LinearRegression  32.9035\n",
              "3      CatBoostRegressor  33.0242\n",
              "4          LGBMRegressor  33.5043"
            ]
          },
          "execution_count": 18,
          "metadata": {},
          "output_type": "execute_result"
        }
      ],
      "source": [
        "models = ['DecisionTreeRegressor', '38.0337'], [\n",
        "    'RandomForestRegressor', '34.3073'], [\n",
        "    'LinearRegression', '32.9035'], [\n",
        "    'CatBoostRegressor', '33.0242'], [\n",
        "    'LGBMRegressor', '33.5043']\n",
        "columns = ['type', 'RMSE']\n",
        "final_models = pd.DataFrame(data=models , columns=columns)\n",
        "final_models"
      ]
    },
    {
      "cell_type": "markdown",
      "metadata": {
        "id": "cVxM2GZ3r130"
      },
      "source": [
        "Все модели показали допустимый результат. Однако лучший результат у линейной регрессий. Эту модель будем проверять на тестовой выборке"
      ]
    },
    {
      "cell_type": "markdown",
      "metadata": {
        "id": "SPbRop1Rr130"
      },
      "source": [
        "## Тестирование"
      ]
    },
    {
      "cell_type": "code",
      "execution_count": null,
      "metadata": {
        "scrolled": false,
        "id": "Y3gOlK4tr131",
        "outputId": "bcd83bba-57b2-4543-d013-b89808810fb9"
      },
      "outputs": [
        {
          "name": "stdout",
          "output_type": "stream",
          "text": [
            "RMSE наилучшей модели на тестовой выборке: 45.91900537112381\n"
          ]
        }
      ],
      "source": [
        "features_train = train.drop(['num_orders'], axis=1)\n",
        "target_train = train['num_orders']\n",
        " \n",
        "features_test = test.drop(['num_orders'], axis=1)\n",
        "target_test = test['num_orders']\n",
        " \n",
        "model_lin_reg = LinearRegression()\n",
        " \n",
        "model_lin_reg.fit(features_train, target_train)\n",
        "predictions_valid = model_lin_reg.predict(features_test)\n",
        "\n",
        "result = mean_squared_error(target_test, predictions_valid)**0.5 \n",
        "print(\"RMSE наилучшей модели на тестовой выборке:\", result)"
      ]
    },
    {
      "cell_type": "markdown",
      "metadata": {
        "id": "CveiVbYxr131"
      },
      "source": [
        "Необходимый по условию задачи результат получен. Модель работает правильно"
      ]
    },
    {
      "cell_type": "markdown",
      "metadata": {
        "id": "a8qGzpaZr132"
      },
      "source": [
        "<div class=\"alert alert-block alert-warning\">\n",
        "<b>⚠️ Совет:</b>\n",
        "\n",
        "Рекомендую построить график с реальным и предсказанным значением тестовой выборки. Так мы сможем визуально оценить, насколько хорошо или плохо работают модели. Это один из важнейших инструментов анализа результатов моделирования временных рядов. Лучше выбрать масштаб, скажем, несколько дней, чтобы можно было увидеть и сравнить каждый час.\n",
        "</div>"
      ]
    },
    {
      "cell_type": "markdown",
      "metadata": {
        "id": "h0Emr05Ar132"
      },
      "source": [
        "Построим график с реальным и предсказанным значением тестовой выборки."
      ]
    },
    {
      "cell_type": "code",
      "execution_count": null,
      "metadata": {
        "scrolled": true,
        "id": "YTFWY3M6r133",
        "outputId": "546d492c-f508-4e34-ba2b-963ebea7405d"
      },
      "outputs": [
        {
          "data": {
            "image/png": "[encoded data removed]",
            "text/plain": [
              "<Figure size 1440x432 with 1 Axes>"
            ]
          },
          "metadata": {
            "needs_background": "light"
          },
          "output_type": "display_data"
        }
      ],
      "source": [
        "x_ax = range(len(features_test))\n",
        "plt.figure(figsize=(20, 6))\n",
        "plt.plot(x_ax, target_test, lw=0.8, color=\"blue\", label=\"original\")\n",
        "plt.plot(x_ax, predictions_valid, lw=0.8, color=\"red\", label=\"predicted\")\n",
        "plt.title('Сравнения вектора предсказаний с реальными данными')\n",
        "plt.ylabel('Число заказов')\n",
        "plt.legend()\n",
        "plt.show()"
      ]
    },
    {
      "cell_type": "markdown",
      "metadata": {
        "id": "x8LkW82tr133"
      },
      "source": [
        "Судя по всему график предсказаний практически совпадает с реальными значениями тестовой выборки, за исключением некоторых пиковых значений, которые на графике предсказаний сглажены"
      ]
    },
    {
      "cell_type": "markdown",
      "metadata": {
        "id": "3Fm1VMHxr134"
      },
      "source": [
        "## Вывод"
      ]
    },
    {
      "cell_type": "markdown",
      "metadata": {
        "id": "7QpxuBour134"
      },
      "source": [
        "<div class=\"alert alert-block alert-info\">\n",
        "Задачу обучения модели машинного обучения для определения пиковых периодов количества заказов такси в аэропорт для компании «Чётенькое такси» с необходимым показателем метрики RMSE выполнил. Это моделью стала Линейная регрессия. Показатель RMSE на тестовой выборке составил менее 46. "
      ]
    }
  ],
  "metadata": {
    "ExecuteTimeLog": [
      {
        "duration": 1127,
        "start_time": "2022-10-08T13:44:27.917Z"
      },
      {
        "duration": 160,
        "start_time": "2022-10-08T13:46:04.011Z"
      },
      {
        "duration": 7,
        "start_time": "2022-10-08T13:46:27.915Z"
      },
      {
        "duration": 13,
        "start_time": "2022-10-08T13:46:37.578Z"
      },
      {
        "duration": 1064,
        "start_time": "2022-10-08T13:59:05.333Z"
      },
      {
        "duration": 90,
        "start_time": "2022-10-08T13:59:06.402Z"
      },
      {
        "duration": 12,
        "start_time": "2022-10-08T13:59:06.493Z"
      },
      {
        "duration": 1098,
        "start_time": "2022-10-08T14:55:31.574Z"
      },
      {
        "duration": 103,
        "start_time": "2022-10-08T14:55:32.675Z"
      },
      {
        "duration": 18,
        "start_time": "2022-10-08T14:55:32.780Z"
      },
      {
        "duration": 16,
        "start_time": "2022-10-08T14:57:40.253Z"
      },
      {
        "duration": 16,
        "start_time": "2022-10-08T14:57:51.641Z"
      },
      {
        "duration": 120,
        "start_time": "2022-10-08T14:59:45.147Z"
      },
      {
        "duration": 18,
        "start_time": "2022-10-08T15:01:31.597Z"
      },
      {
        "duration": 81,
        "start_time": "2022-10-08T15:02:00.810Z"
      },
      {
        "duration": 11,
        "start_time": "2022-10-08T15:02:02.657Z"
      },
      {
        "duration": 1048,
        "start_time": "2022-10-08T15:02:22.524Z"
      },
      {
        "duration": 2,
        "start_time": "2022-10-08T15:02:28.539Z"
      },
      {
        "duration": 10,
        "start_time": "2022-10-08T15:02:29.609Z"
      },
      {
        "duration": 7,
        "start_time": "2022-10-08T15:02:31.049Z"
      },
      {
        "duration": 673,
        "start_time": "2022-10-08T15:02:35.688Z"
      },
      {
        "duration": 252,
        "start_time": "2022-10-08T15:12:10.993Z"
      },
      {
        "duration": 420,
        "start_time": "2022-10-08T15:12:51.933Z"
      },
      {
        "duration": 358,
        "start_time": "2022-10-08T15:13:06.102Z"
      },
      {
        "duration": 304,
        "start_time": "2022-10-08T15:13:23.051Z"
      },
      {
        "duration": 20,
        "start_time": "2022-10-08T15:14:48.964Z"
      },
      {
        "duration": 1452,
        "start_time": "2022-10-08T15:15:17.534Z"
      },
      {
        "duration": 85,
        "start_time": "2022-10-08T15:15:18.988Z"
      },
      {
        "duration": 12,
        "start_time": "2022-10-08T15:15:19.075Z"
      },
      {
        "duration": 344,
        "start_time": "2022-10-08T15:15:19.089Z"
      },
      {
        "duration": 301,
        "start_time": "2022-10-08T15:15:19.435Z"
      },
      {
        "duration": 118,
        "start_time": "2022-10-08T15:15:19.738Z"
      },
      {
        "duration": 16,
        "start_time": "2022-10-08T15:16:16.106Z"
      },
      {
        "duration": 13,
        "start_time": "2022-10-08T15:17:00.928Z"
      },
      {
        "duration": 714,
        "start_time": "2022-10-08T15:17:25.742Z"
      },
      {
        "duration": 1372,
        "start_time": "2022-10-08T15:18:28.387Z"
      },
      {
        "duration": 78,
        "start_time": "2022-10-08T15:18:29.761Z"
      },
      {
        "duration": 13,
        "start_time": "2022-10-08T15:18:29.841Z"
      },
      {
        "duration": 345,
        "start_time": "2022-10-08T15:18:29.856Z"
      },
      {
        "duration": 3,
        "start_time": "2022-10-08T15:18:30.203Z"
      },
      {
        "duration": 802,
        "start_time": "2022-10-08T15:18:30.208Z"
      },
      {
        "duration": 963,
        "start_time": "2022-10-08T15:22:00.123Z"
      },
      {
        "duration": 713,
        "start_time": "2022-10-08T15:22:08.761Z"
      },
      {
        "duration": 985,
        "start_time": "2022-10-08T15:22:14.471Z"
      },
      {
        "duration": 955,
        "start_time": "2022-10-08T15:22:30.168Z"
      },
      {
        "duration": 4,
        "start_time": "2022-10-08T15:24:40.912Z"
      },
      {
        "duration": 4,
        "start_time": "2022-10-08T15:25:01.840Z"
      },
      {
        "duration": 1454,
        "start_time": "2022-10-09T06:08:16.187Z"
      },
      {
        "duration": 148,
        "start_time": "2022-10-09T06:08:17.642Z"
      },
      {
        "duration": 10,
        "start_time": "2022-10-09T06:08:17.791Z"
      },
      {
        "duration": 293,
        "start_time": "2022-10-09T06:08:17.803Z"
      },
      {
        "duration": 3,
        "start_time": "2022-10-09T06:08:18.098Z"
      },
      {
        "duration": 1031,
        "start_time": "2022-10-09T06:08:18.102Z"
      },
      {
        "duration": 4,
        "start_time": "2022-10-09T06:08:19.135Z"
      },
      {
        "duration": 11,
        "start_time": "2022-10-09T06:08:33.978Z"
      },
      {
        "duration": 10,
        "start_time": "2022-10-09T06:08:57.422Z"
      },
      {
        "duration": 12,
        "start_time": "2022-10-09T06:09:19.445Z"
      },
      {
        "duration": 5,
        "start_time": "2022-10-09T06:09:48.276Z"
      },
      {
        "duration": 4,
        "start_time": "2022-10-09T06:10:26.893Z"
      },
      {
        "duration": 11,
        "start_time": "2022-10-09T06:10:35.492Z"
      },
      {
        "duration": 10,
        "start_time": "2022-10-09T06:10:47.309Z"
      },
      {
        "duration": 8,
        "start_time": "2022-10-09T06:10:54.668Z"
      },
      {
        "duration": 1309,
        "start_time": "2022-10-09T06:11:35.404Z"
      },
      {
        "duration": 74,
        "start_time": "2022-10-09T06:11:36.715Z"
      },
      {
        "duration": 11,
        "start_time": "2022-10-09T06:11:36.791Z"
      },
      {
        "duration": 335,
        "start_time": "2022-10-09T06:11:36.805Z"
      },
      {
        "duration": 3,
        "start_time": "2022-10-09T06:11:37.143Z"
      },
      {
        "duration": 916,
        "start_time": "2022-10-09T06:11:37.148Z"
      },
      {
        "duration": 4,
        "start_time": "2022-10-09T06:11:38.066Z"
      },
      {
        "duration": 14,
        "start_time": "2022-10-09T06:11:38.071Z"
      },
      {
        "duration": 1248,
        "start_time": "2022-10-09T06:14:20.119Z"
      },
      {
        "duration": 77,
        "start_time": "2022-10-09T06:14:21.369Z"
      },
      {
        "duration": 10,
        "start_time": "2022-10-09T06:14:21.447Z"
      },
      {
        "duration": 285,
        "start_time": "2022-10-09T06:14:21.459Z"
      },
      {
        "duration": 3,
        "start_time": "2022-10-09T06:14:21.746Z"
      },
      {
        "duration": 934,
        "start_time": "2022-10-09T06:14:21.751Z"
      },
      {
        "duration": 822,
        "start_time": "2022-10-09T06:14:22.687Z"
      },
      {
        "duration": 0,
        "start_time": "2022-10-09T06:14:23.510Z"
      },
      {
        "duration": 0,
        "start_time": "2022-10-09T06:14:23.512Z"
      },
      {
        "duration": 0,
        "start_time": "2022-10-09T06:14:23.513Z"
      },
      {
        "duration": 11,
        "start_time": "2022-10-09T06:14:55.065Z"
      },
      {
        "duration": 6,
        "start_time": "2022-10-09T06:14:56.921Z"
      },
      {
        "duration": 20,
        "start_time": "2022-10-09T06:14:57.577Z"
      },
      {
        "duration": 21,
        "start_time": "2022-10-09T06:15:02.594Z"
      },
      {
        "duration": 82,
        "start_time": "2022-10-09T06:15:34.818Z"
      },
      {
        "duration": 20,
        "start_time": "2022-10-09T06:15:54.578Z"
      },
      {
        "duration": 14,
        "start_time": "2022-10-09T06:15:59.242Z"
      },
      {
        "duration": 4,
        "start_time": "2022-10-09T06:18:51.467Z"
      },
      {
        "duration": 15,
        "start_time": "2022-10-09T06:19:20.797Z"
      },
      {
        "duration": 14,
        "start_time": "2022-10-09T06:22:08.736Z"
      },
      {
        "duration": 29,
        "start_time": "2022-10-09T06:23:14.085Z"
      },
      {
        "duration": 13102,
        "start_time": "2022-10-09T06:23:18.222Z"
      },
      {
        "duration": 12634,
        "start_time": "2022-10-09T06:23:49.639Z"
      },
      {
        "duration": 12828,
        "start_time": "2022-10-09T06:24:30.086Z"
      },
      {
        "duration": 5,
        "start_time": "2022-10-09T06:28:59.186Z"
      },
      {
        "duration": 10133,
        "start_time": "2022-10-09T06:29:04.232Z"
      },
      {
        "duration": 4,
        "start_time": "2022-10-09T06:29:36.312Z"
      },
      {
        "duration": 1093,
        "start_time": "2022-10-09T06:30:25.481Z"
      },
      {
        "duration": 77,
        "start_time": "2022-10-09T06:32:32.520Z"
      },
      {
        "duration": 107831,
        "start_time": "2022-10-09T06:32:38.168Z"
      },
      {
        "duration": 825,
        "start_time": "2022-10-09T06:34:26.002Z"
      },
      {
        "duration": 1498,
        "start_time": "2022-10-09T06:36:56.321Z"
      },
      {
        "duration": 79,
        "start_time": "2022-10-09T06:36:57.822Z"
      },
      {
        "duration": 11,
        "start_time": "2022-10-09T06:36:57.903Z"
      },
      {
        "duration": 344,
        "start_time": "2022-10-09T06:36:57.916Z"
      },
      {
        "duration": 3,
        "start_time": "2022-10-09T06:36:58.262Z"
      },
      {
        "duration": 1108,
        "start_time": "2022-10-09T06:36:58.266Z"
      },
      {
        "duration": 29,
        "start_time": "2022-10-09T06:36:59.380Z"
      },
      {
        "duration": 8,
        "start_time": "2022-10-09T06:36:59.411Z"
      },
      {
        "duration": 58,
        "start_time": "2022-10-09T06:36:59.421Z"
      },
      {
        "duration": 103,
        "start_time": "2022-10-09T06:36:59.482Z"
      },
      {
        "duration": 26701,
        "start_time": "2022-10-09T06:36:59.588Z"
      },
      {
        "duration": 3038,
        "start_time": "2022-10-09T06:37:26.292Z"
      },
      {
        "duration": 114170,
        "start_time": "2022-10-09T06:37:29.331Z"
      },
      {
        "duration": 1162,
        "start_time": "2022-10-09T06:39:23.504Z"
      },
      {
        "duration": 1406,
        "start_time": "2022-10-09T06:41:21.724Z"
      },
      {
        "duration": 85,
        "start_time": "2022-10-09T06:41:23.132Z"
      },
      {
        "duration": 12,
        "start_time": "2022-10-09T06:41:23.218Z"
      },
      {
        "duration": 303,
        "start_time": "2022-10-09T06:41:23.233Z"
      },
      {
        "duration": 3,
        "start_time": "2022-10-09T06:41:23.538Z"
      },
      {
        "duration": 1067,
        "start_time": "2022-10-09T06:41:23.543Z"
      },
      {
        "duration": 26,
        "start_time": "2022-10-09T06:41:24.612Z"
      },
      {
        "duration": 7,
        "start_time": "2022-10-09T06:41:24.640Z"
      },
      {
        "duration": 55,
        "start_time": "2022-10-09T06:41:24.649Z"
      },
      {
        "duration": 172,
        "start_time": "2022-10-09T06:41:24.707Z"
      },
      {
        "duration": 24222,
        "start_time": "2022-10-09T06:41:24.881Z"
      },
      {
        "duration": 2761,
        "start_time": "2022-10-09T06:41:49.105Z"
      },
      {
        "duration": 1118,
        "start_time": "2022-10-09T06:41:51.867Z"
      },
      {
        "duration": 1112,
        "start_time": "2022-10-09T06:41:52.987Z"
      },
      {
        "duration": 125,
        "start_time": "2022-10-09T06:42:45.852Z"
      },
      {
        "duration": 14,
        "start_time": "2022-10-09T06:43:21.639Z"
      },
      {
        "duration": 33,
        "start_time": "2022-10-09T06:44:02.990Z"
      },
      {
        "duration": 32,
        "start_time": "2022-10-09T06:44:13.205Z"
      },
      {
        "duration": 20,
        "start_time": "2022-10-09T06:44:48.205Z"
      },
      {
        "duration": 20,
        "start_time": "2022-10-09T06:45:03.589Z"
      },
      {
        "duration": 21,
        "start_time": "2022-10-09T06:45:26.508Z"
      },
      {
        "duration": 1410,
        "start_time": "2022-10-09T06:45:31.039Z"
      },
      {
        "duration": 80,
        "start_time": "2022-10-09T06:45:32.450Z"
      },
      {
        "duration": 9,
        "start_time": "2022-10-09T06:45:32.532Z"
      },
      {
        "duration": 298,
        "start_time": "2022-10-09T06:45:32.543Z"
      },
      {
        "duration": 2,
        "start_time": "2022-10-09T06:45:32.843Z"
      },
      {
        "duration": 940,
        "start_time": "2022-10-09T06:45:32.847Z"
      },
      {
        "duration": 24,
        "start_time": "2022-10-09T06:45:33.788Z"
      },
      {
        "duration": 12,
        "start_time": "2022-10-09T06:45:33.814Z"
      },
      {
        "duration": 50,
        "start_time": "2022-10-09T06:45:33.828Z"
      },
      {
        "duration": 101,
        "start_time": "2022-10-09T06:45:33.881Z"
      },
      {
        "duration": 24167,
        "start_time": "2022-10-09T06:45:33.983Z"
      },
      {
        "duration": 2720,
        "start_time": "2022-10-09T06:45:58.152Z"
      },
      {
        "duration": 1004,
        "start_time": "2022-10-09T06:46:00.876Z"
      },
      {
        "duration": 1029,
        "start_time": "2022-10-09T06:46:01.883Z"
      },
      {
        "duration": 123,
        "start_time": "2022-10-09T06:46:02.914Z"
      },
      {
        "duration": 147,
        "start_time": "2022-10-09T06:46:25.131Z"
      },
      {
        "duration": 1323,
        "start_time": "2022-10-09T06:57:27.094Z"
      },
      {
        "duration": 109,
        "start_time": "2022-10-09T06:57:45.146Z"
      },
      {
        "duration": 0,
        "start_time": "2022-10-09T06:57:45.257Z"
      },
      {
        "duration": 0,
        "start_time": "2022-10-09T06:57:45.258Z"
      },
      {
        "duration": 0,
        "start_time": "2022-10-09T06:57:45.260Z"
      },
      {
        "duration": 0,
        "start_time": "2022-10-09T06:57:45.261Z"
      },
      {
        "duration": 0,
        "start_time": "2022-10-09T06:57:45.262Z"
      },
      {
        "duration": 0,
        "start_time": "2022-10-09T06:57:45.264Z"
      },
      {
        "duration": 0,
        "start_time": "2022-10-09T06:57:45.265Z"
      },
      {
        "duration": 0,
        "start_time": "2022-10-09T06:57:45.266Z"
      },
      {
        "duration": 0,
        "start_time": "2022-10-09T06:57:45.268Z"
      },
      {
        "duration": 0,
        "start_time": "2022-10-09T06:57:45.269Z"
      },
      {
        "duration": 59,
        "start_time": "2022-10-09T06:57:45.272Z"
      },
      {
        "duration": 0,
        "start_time": "2022-10-09T06:57:45.333Z"
      },
      {
        "duration": 0,
        "start_time": "2022-10-09T06:57:45.334Z"
      },
      {
        "duration": 0,
        "start_time": "2022-10-09T06:57:45.336Z"
      },
      {
        "duration": 1452,
        "start_time": "2022-10-09T06:58:22.233Z"
      },
      {
        "duration": 80,
        "start_time": "2022-10-09T06:58:23.687Z"
      },
      {
        "duration": 10,
        "start_time": "2022-10-09T06:58:23.769Z"
      },
      {
        "duration": 327,
        "start_time": "2022-10-09T06:58:23.781Z"
      },
      {
        "duration": 2,
        "start_time": "2022-10-09T06:58:24.112Z"
      },
      {
        "duration": 1006,
        "start_time": "2022-10-09T06:58:24.115Z"
      },
      {
        "duration": 27,
        "start_time": "2022-10-09T06:58:25.123Z"
      },
      {
        "duration": 27,
        "start_time": "2022-10-09T06:58:25.152Z"
      },
      {
        "duration": 45,
        "start_time": "2022-10-09T06:58:25.181Z"
      },
      {
        "duration": 152,
        "start_time": "2022-10-09T06:58:25.228Z"
      },
      {
        "duration": 23782,
        "start_time": "2022-10-09T06:58:25.382Z"
      },
      {
        "duration": 2675,
        "start_time": "2022-10-09T06:58:49.166Z"
      },
      {
        "duration": 1238,
        "start_time": "2022-10-09T06:58:51.843Z"
      },
      {
        "duration": 1004,
        "start_time": "2022-10-09T06:58:53.084Z"
      },
      {
        "duration": 86,
        "start_time": "2022-10-09T06:58:54.091Z"
      },
      {
        "duration": 1410,
        "start_time": "2022-10-09T06:59:06.735Z"
      },
      {
        "duration": 85,
        "start_time": "2022-10-09T06:59:08.146Z"
      },
      {
        "duration": 10,
        "start_time": "2022-10-09T06:59:08.233Z"
      },
      {
        "duration": 114,
        "start_time": "2022-10-09T06:59:08.245Z"
      },
      {
        "duration": 0,
        "start_time": "2022-10-09T06:59:08.361Z"
      },
      {
        "duration": 0,
        "start_time": "2022-10-09T06:59:08.362Z"
      },
      {
        "duration": 0,
        "start_time": "2022-10-09T06:59:08.363Z"
      },
      {
        "duration": 0,
        "start_time": "2022-10-09T06:59:08.364Z"
      },
      {
        "duration": 0,
        "start_time": "2022-10-09T06:59:08.365Z"
      },
      {
        "duration": 0,
        "start_time": "2022-10-09T06:59:08.366Z"
      },
      {
        "duration": 0,
        "start_time": "2022-10-09T06:59:08.377Z"
      },
      {
        "duration": 0,
        "start_time": "2022-10-09T06:59:08.378Z"
      },
      {
        "duration": 0,
        "start_time": "2022-10-09T06:59:08.378Z"
      },
      {
        "duration": 0,
        "start_time": "2022-10-09T06:59:08.379Z"
      },
      {
        "duration": 0,
        "start_time": "2022-10-09T06:59:08.380Z"
      },
      {
        "duration": 0,
        "start_time": "2022-10-09T06:59:08.381Z"
      },
      {
        "duration": 1456,
        "start_time": "2022-10-09T06:59:22.654Z"
      },
      {
        "duration": 82,
        "start_time": "2022-10-09T06:59:24.112Z"
      },
      {
        "duration": 11,
        "start_time": "2022-10-09T06:59:24.195Z"
      },
      {
        "duration": 309,
        "start_time": "2022-10-09T06:59:24.208Z"
      },
      {
        "duration": 9,
        "start_time": "2022-10-09T06:59:24.519Z"
      },
      {
        "duration": 7,
        "start_time": "2022-10-09T06:59:24.530Z"
      },
      {
        "duration": 1062,
        "start_time": "2022-10-09T06:59:24.539Z"
      },
      {
        "duration": 26,
        "start_time": "2022-10-09T06:59:25.603Z"
      },
      {
        "duration": 6,
        "start_time": "2022-10-09T06:59:25.631Z"
      },
      {
        "duration": 56,
        "start_time": "2022-10-09T06:59:25.639Z"
      },
      {
        "duration": 180,
        "start_time": "2022-10-09T06:59:25.697Z"
      },
      {
        "duration": 23821,
        "start_time": "2022-10-09T06:59:25.879Z"
      },
      {
        "duration": 2714,
        "start_time": "2022-10-09T06:59:49.702Z"
      },
      {
        "duration": 1176,
        "start_time": "2022-10-09T06:59:52.419Z"
      },
      {
        "duration": 1009,
        "start_time": "2022-10-09T06:59:53.597Z"
      },
      {
        "duration": 15,
        "start_time": "2022-10-09T06:59:54.608Z"
      },
      {
        "duration": 9,
        "start_time": "2022-10-09T07:16:43.838Z"
      },
      {
        "duration": 1412,
        "start_time": "2022-10-09T07:19:53.158Z"
      },
      {
        "duration": 77,
        "start_time": "2022-10-09T07:19:54.573Z"
      },
      {
        "duration": 9,
        "start_time": "2022-10-09T07:19:54.652Z"
      },
      {
        "duration": 289,
        "start_time": "2022-10-09T07:19:54.663Z"
      },
      {
        "duration": 9,
        "start_time": "2022-10-09T07:19:54.954Z"
      },
      {
        "duration": 1048,
        "start_time": "2022-10-09T07:19:54.964Z"
      },
      {
        "duration": 24,
        "start_time": "2022-10-09T07:19:56.014Z"
      },
      {
        "duration": 6,
        "start_time": "2022-10-09T07:19:56.040Z"
      },
      {
        "duration": 47,
        "start_time": "2022-10-09T07:19:56.048Z"
      },
      {
        "duration": 182,
        "start_time": "2022-10-09T07:19:56.097Z"
      },
      {
        "duration": 24027,
        "start_time": "2022-10-09T07:19:56.281Z"
      },
      {
        "duration": 2793,
        "start_time": "2022-10-09T07:20:20.310Z"
      },
      {
        "duration": 981,
        "start_time": "2022-10-09T07:20:23.105Z"
      },
      {
        "duration": 1085,
        "start_time": "2022-10-09T07:20:24.090Z"
      },
      {
        "duration": 11,
        "start_time": "2022-10-09T07:20:25.177Z"
      },
      {
        "duration": 188,
        "start_time": "2022-10-09T07:20:25.190Z"
      },
      {
        "duration": 47,
        "start_time": "2022-10-09T15:54:34.320Z"
      },
      {
        "duration": 1525,
        "start_time": "2022-10-09T15:54:40.541Z"
      },
      {
        "duration": 140,
        "start_time": "2022-10-09T15:54:42.068Z"
      },
      {
        "duration": 9,
        "start_time": "2022-10-09T15:54:42.210Z"
      },
      {
        "duration": 289,
        "start_time": "2022-10-09T15:54:42.222Z"
      },
      {
        "duration": 9,
        "start_time": "2022-10-09T15:54:42.513Z"
      },
      {
        "duration": 1022,
        "start_time": "2022-10-09T15:54:42.524Z"
      },
      {
        "duration": 24,
        "start_time": "2022-10-09T15:54:43.547Z"
      },
      {
        "duration": 5,
        "start_time": "2022-10-09T15:54:43.573Z"
      },
      {
        "duration": 49,
        "start_time": "2022-10-09T15:54:43.580Z"
      },
      {
        "duration": 170,
        "start_time": "2022-10-09T15:54:43.631Z"
      },
      {
        "duration": 23949,
        "start_time": "2022-10-09T15:54:43.803Z"
      },
      {
        "duration": 2560,
        "start_time": "2022-10-09T15:55:07.754Z"
      },
      {
        "duration": 111597,
        "start_time": "2022-10-09T15:55:10.315Z"
      },
      {
        "duration": 1223,
        "start_time": "2022-10-09T15:57:01.914Z"
      },
      {
        "duration": 7,
        "start_time": "2022-10-09T15:57:03.139Z"
      },
      {
        "duration": 52,
        "start_time": "2022-10-09T15:57:03.148Z"
      },
      {
        "duration": 1241,
        "start_time": "2022-10-09T15:57:22.236Z"
      },
      {
        "duration": 1287,
        "start_time": "2022-10-09T15:57:32.724Z"
      },
      {
        "duration": 89,
        "start_time": "2022-10-09T15:57:34.014Z"
      },
      {
        "duration": 12,
        "start_time": "2022-10-09T15:57:34.105Z"
      },
      {
        "duration": 316,
        "start_time": "2022-10-09T15:57:34.119Z"
      },
      {
        "duration": 10,
        "start_time": "2022-10-09T15:57:34.437Z"
      },
      {
        "duration": 1049,
        "start_time": "2022-10-09T15:57:34.449Z"
      },
      {
        "duration": 30,
        "start_time": "2022-10-09T15:57:35.500Z"
      },
      {
        "duration": 7,
        "start_time": "2022-10-09T15:57:35.531Z"
      },
      {
        "duration": 38,
        "start_time": "2022-10-09T15:57:35.539Z"
      },
      {
        "duration": 128,
        "start_time": "2022-10-09T15:57:35.579Z"
      },
      {
        "duration": 22012,
        "start_time": "2022-10-09T15:57:35.709Z"
      },
      {
        "duration": 2552,
        "start_time": "2022-10-09T15:57:57.723Z"
      },
      {
        "duration": 124233,
        "start_time": "2022-10-09T15:58:00.276Z"
      },
      {
        "duration": 1167,
        "start_time": "2022-10-09T16:00:04.511Z"
      },
      {
        "duration": 8,
        "start_time": "2022-10-09T16:00:05.680Z"
      },
      {
        "duration": 113,
        "start_time": "2022-10-09T16:00:05.690Z"
      },
      {
        "duration": 1491,
        "start_time": "2022-10-09T16:00:05.807Z"
      },
      {
        "duration": 4,
        "start_time": "2022-10-09T16:03:46.464Z"
      },
      {
        "duration": 1334,
        "start_time": "2022-10-09T16:03:48.996Z"
      },
      {
        "duration": 1409,
        "start_time": "2022-10-09T16:04:10.570Z"
      },
      {
        "duration": 1269,
        "start_time": "2022-10-09T16:07:26.401Z"
      },
      {
        "duration": 1342,
        "start_time": "2022-10-09T16:08:16.767Z"
      },
      {
        "duration": 78,
        "start_time": "2022-10-09T16:08:18.111Z"
      },
      {
        "duration": 9,
        "start_time": "2022-10-09T16:08:18.190Z"
      },
      {
        "duration": 287,
        "start_time": "2022-10-09T16:08:18.200Z"
      },
      {
        "duration": 9,
        "start_time": "2022-10-09T16:08:18.488Z"
      },
      {
        "duration": 890,
        "start_time": "2022-10-09T16:08:18.498Z"
      },
      {
        "duration": 30,
        "start_time": "2022-10-09T16:08:19.389Z"
      },
      {
        "duration": 5,
        "start_time": "2022-10-09T16:08:19.421Z"
      },
      {
        "duration": 40,
        "start_time": "2022-10-09T16:08:19.428Z"
      },
      {
        "duration": 133,
        "start_time": "2022-10-09T16:08:19.471Z"
      },
      {
        "duration": 22107,
        "start_time": "2022-10-09T16:08:19.606Z"
      },
      {
        "duration": 2589,
        "start_time": "2022-10-09T16:08:41.715Z"
      },
      {
        "duration": 1197,
        "start_time": "2022-10-09T16:08:44.306Z"
      },
      {
        "duration": 933,
        "start_time": "2022-10-09T16:08:45.505Z"
      },
      {
        "duration": 7,
        "start_time": "2022-10-09T16:08:46.439Z"
      },
      {
        "duration": 55,
        "start_time": "2022-10-09T16:08:46.448Z"
      },
      {
        "duration": 3,
        "start_time": "2022-10-09T16:12:58.926Z"
      },
      {
        "duration": 4,
        "start_time": "2022-10-09T16:13:49.650Z"
      },
      {
        "duration": 12,
        "start_time": "2022-10-09T16:19:40.204Z"
      },
      {
        "duration": 1262,
        "start_time": "2022-10-09T16:19:45.557Z"
      },
      {
        "duration": 74,
        "start_time": "2022-10-09T16:19:46.821Z"
      },
      {
        "duration": 9,
        "start_time": "2022-10-09T16:19:46.896Z"
      },
      {
        "duration": 292,
        "start_time": "2022-10-09T16:19:46.907Z"
      },
      {
        "duration": 8,
        "start_time": "2022-10-09T16:19:47.201Z"
      },
      {
        "duration": 6,
        "start_time": "2022-10-09T16:19:47.210Z"
      },
      {
        "duration": 6,
        "start_time": "2022-10-09T16:19:47.218Z"
      },
      {
        "duration": 931,
        "start_time": "2022-10-09T16:19:47.226Z"
      },
      {
        "duration": 21,
        "start_time": "2022-10-09T16:19:48.159Z"
      },
      {
        "duration": 17,
        "start_time": "2022-10-09T16:19:48.183Z"
      },
      {
        "duration": 34,
        "start_time": "2022-10-09T16:19:48.202Z"
      },
      {
        "duration": 167,
        "start_time": "2022-10-09T16:19:48.237Z"
      },
      {
        "duration": 21649,
        "start_time": "2022-10-09T16:19:48.406Z"
      },
      {
        "duration": 2595,
        "start_time": "2022-10-09T16:20:10.057Z"
      },
      {
        "duration": 82250,
        "start_time": "2022-10-09T16:20:12.653Z"
      },
      {
        "duration": 948,
        "start_time": "2022-10-09T16:21:34.905Z"
      },
      {
        "duration": 7,
        "start_time": "2022-10-09T16:21:35.855Z"
      },
      {
        "duration": 42,
        "start_time": "2022-10-09T16:21:35.864Z"
      },
      {
        "duration": 1351,
        "start_time": "2022-10-09T16:22:47.308Z"
      },
      {
        "duration": 75,
        "start_time": "2022-10-09T16:22:48.661Z"
      },
      {
        "duration": 10,
        "start_time": "2022-10-09T16:22:48.738Z"
      },
      {
        "duration": 314,
        "start_time": "2022-10-09T16:22:48.749Z"
      },
      {
        "duration": 9,
        "start_time": "2022-10-09T16:22:49.064Z"
      },
      {
        "duration": 6,
        "start_time": "2022-10-09T16:22:49.075Z"
      },
      {
        "duration": 9,
        "start_time": "2022-10-09T16:22:49.082Z"
      },
      {
        "duration": 929,
        "start_time": "2022-10-09T16:22:49.093Z"
      },
      {
        "duration": 21,
        "start_time": "2022-10-09T16:22:50.023Z"
      },
      {
        "duration": 6,
        "start_time": "2022-10-09T16:22:50.046Z"
      },
      {
        "duration": 49,
        "start_time": "2022-10-09T16:22:50.053Z"
      },
      {
        "duration": 107,
        "start_time": "2022-10-09T16:22:50.103Z"
      },
      {
        "duration": 22217,
        "start_time": "2022-10-09T16:22:50.300Z"
      },
      {
        "duration": 2570,
        "start_time": "2022-10-09T16:23:12.519Z"
      },
      {
        "duration": 127014,
        "start_time": "2022-10-09T16:23:15.091Z"
      },
      {
        "duration": 923,
        "start_time": "2022-10-09T16:25:22.107Z"
      },
      {
        "duration": 7,
        "start_time": "2022-10-09T16:25:23.032Z"
      },
      {
        "duration": 62,
        "start_time": "2022-10-09T16:25:23.041Z"
      },
      {
        "duration": 1371,
        "start_time": "2022-10-09T16:26:23.130Z"
      },
      {
        "duration": 79,
        "start_time": "2022-10-09T16:26:24.504Z"
      },
      {
        "duration": 9,
        "start_time": "2022-10-09T16:26:24.584Z"
      },
      {
        "duration": 297,
        "start_time": "2022-10-09T16:26:24.594Z"
      },
      {
        "duration": 9,
        "start_time": "2022-10-09T16:26:24.892Z"
      },
      {
        "duration": 6,
        "start_time": "2022-10-09T16:26:24.903Z"
      },
      {
        "duration": 9,
        "start_time": "2022-10-09T16:26:24.911Z"
      },
      {
        "duration": 954,
        "start_time": "2022-10-09T16:26:24.922Z"
      },
      {
        "duration": 33,
        "start_time": "2022-10-09T16:26:25.877Z"
      },
      {
        "duration": 6,
        "start_time": "2022-10-09T16:26:25.912Z"
      },
      {
        "duration": 32,
        "start_time": "2022-10-09T16:26:25.919Z"
      },
      {
        "duration": 154,
        "start_time": "2022-10-09T16:26:25.952Z"
      },
      {
        "duration": 22881,
        "start_time": "2022-10-09T16:26:26.108Z"
      },
      {
        "duration": 2513,
        "start_time": "2022-10-09T16:26:48.990Z"
      },
      {
        "duration": 903,
        "start_time": "2022-10-09T16:26:51.504Z"
      },
      {
        "duration": 948,
        "start_time": "2022-10-09T16:26:52.409Z"
      },
      {
        "duration": 8,
        "start_time": "2022-10-09T16:26:53.359Z"
      },
      {
        "duration": 31,
        "start_time": "2022-10-09T16:26:53.368Z"
      },
      {
        "duration": 1303,
        "start_time": "2022-10-09T16:27:47.438Z"
      },
      {
        "duration": 75,
        "start_time": "2022-10-09T16:27:48.743Z"
      },
      {
        "duration": 9,
        "start_time": "2022-10-09T16:27:48.819Z"
      },
      {
        "duration": 286,
        "start_time": "2022-10-09T16:27:48.829Z"
      },
      {
        "duration": 8,
        "start_time": "2022-10-09T16:27:49.118Z"
      },
      {
        "duration": 19,
        "start_time": "2022-10-09T16:27:49.128Z"
      },
      {
        "duration": 24,
        "start_time": "2022-10-09T16:27:49.148Z"
      },
      {
        "duration": 946,
        "start_time": "2022-10-09T16:27:49.173Z"
      },
      {
        "duration": 21,
        "start_time": "2022-10-09T16:27:50.120Z"
      },
      {
        "duration": 5,
        "start_time": "2022-10-09T16:27:50.143Z"
      },
      {
        "duration": 51,
        "start_time": "2022-10-09T16:27:50.149Z"
      },
      {
        "duration": 200,
        "start_time": "2022-10-09T16:27:50.202Z"
      },
      {
        "duration": 22310,
        "start_time": "2022-10-09T16:27:50.404Z"
      },
      {
        "duration": 2497,
        "start_time": "2022-10-09T16:28:12.717Z"
      },
      {
        "duration": 990,
        "start_time": "2022-10-09T16:28:15.215Z"
      },
      {
        "duration": 908,
        "start_time": "2022-10-09T16:28:16.207Z"
      },
      {
        "duration": 7,
        "start_time": "2022-10-09T16:28:17.117Z"
      },
      {
        "duration": 78,
        "start_time": "2022-10-09T16:28:17.126Z"
      },
      {
        "duration": 124,
        "start_time": "2022-10-09T16:31:00.763Z"
      },
      {
        "duration": 70,
        "start_time": "2022-10-09T16:31:28.436Z"
      },
      {
        "duration": 12,
        "start_time": "2022-10-09T16:31:55.653Z"
      },
      {
        "duration": 120,
        "start_time": "2022-10-09T16:39:24.018Z"
      },
      {
        "duration": 12,
        "start_time": "2022-10-09T16:41:09.956Z"
      },
      {
        "duration": 438,
        "start_time": "2022-10-09T16:42:19.390Z"
      },
      {
        "duration": 287,
        "start_time": "2022-10-09T16:43:39.229Z"
      },
      {
        "duration": 272,
        "start_time": "2022-10-09T16:43:50.854Z"
      },
      {
        "duration": 136,
        "start_time": "2022-10-09T16:44:25.701Z"
      },
      {
        "duration": 13,
        "start_time": "2022-10-09T16:44:44.373Z"
      },
      {
        "duration": 14,
        "start_time": "2022-10-09T16:44:52.486Z"
      },
      {
        "duration": 11,
        "start_time": "2022-10-09T16:44:59.444Z"
      },
      {
        "duration": 6,
        "start_time": "2022-10-09T16:47:33.190Z"
      },
      {
        "duration": 15,
        "start_time": "2022-10-09T16:48:10.128Z"
      },
      {
        "duration": 28,
        "start_time": "2022-10-09T16:48:24.401Z"
      },
      {
        "duration": 32,
        "start_time": "2022-10-09T16:48:43.206Z"
      },
      {
        "duration": 18,
        "start_time": "2022-10-09T16:49:18.766Z"
      },
      {
        "duration": 17,
        "start_time": "2022-10-09T16:49:41.311Z"
      },
      {
        "duration": 1277,
        "start_time": "2022-10-09T17:00:30.762Z"
      },
      {
        "duration": 153,
        "start_time": "2022-10-09T17:00:32.041Z"
      },
      {
        "duration": 11,
        "start_time": "2022-10-09T17:00:32.196Z"
      },
      {
        "duration": 270,
        "start_time": "2022-10-09T17:00:32.209Z"
      },
      {
        "duration": 8,
        "start_time": "2022-10-09T17:00:32.481Z"
      },
      {
        "duration": 7,
        "start_time": "2022-10-09T17:00:32.491Z"
      },
      {
        "duration": 4,
        "start_time": "2022-10-09T17:00:32.500Z"
      },
      {
        "duration": 902,
        "start_time": "2022-10-09T17:00:32.506Z"
      },
      {
        "duration": 27,
        "start_time": "2022-10-09T17:00:33.409Z"
      },
      {
        "duration": 6,
        "start_time": "2022-10-09T17:00:33.439Z"
      },
      {
        "duration": 55,
        "start_time": "2022-10-09T17:00:33.446Z"
      },
      {
        "duration": 19,
        "start_time": "2022-10-09T17:00:33.503Z"
      },
      {
        "duration": 8276,
        "start_time": "2022-10-09T17:00:33.524Z"
      },
      {
        "duration": 645,
        "start_time": "2022-10-09T17:00:41.802Z"
      },
      {
        "duration": 2051,
        "start_time": "2022-10-09T17:00:42.449Z"
      },
      {
        "duration": 1530,
        "start_time": "2022-10-09T17:00:44.502Z"
      },
      {
        "duration": 8,
        "start_time": "2022-10-09T17:00:46.034Z"
      },
      {
        "duration": 14,
        "start_time": "2022-10-09T17:00:46.043Z"
      },
      {
        "duration": 108,
        "start_time": "2022-10-09T17:04:13.977Z"
      },
      {
        "duration": 1395,
        "start_time": "2022-10-09T17:04:24.215Z"
      },
      {
        "duration": 73,
        "start_time": "2022-10-09T17:04:25.612Z"
      },
      {
        "duration": 9,
        "start_time": "2022-10-09T17:04:25.686Z"
      },
      {
        "duration": 250,
        "start_time": "2022-10-09T17:04:25.697Z"
      },
      {
        "duration": 9,
        "start_time": "2022-10-09T17:04:25.948Z"
      },
      {
        "duration": 9,
        "start_time": "2022-10-09T17:04:25.958Z"
      },
      {
        "duration": 3,
        "start_time": "2022-10-09T17:04:25.969Z"
      },
      {
        "duration": 869,
        "start_time": "2022-10-09T17:04:25.973Z"
      },
      {
        "duration": 130,
        "start_time": "2022-10-09T17:04:26.843Z"
      },
      {
        "duration": 29,
        "start_time": "2022-10-09T17:04:26.976Z"
      },
      {
        "duration": 6,
        "start_time": "2022-10-09T17:04:27.007Z"
      },
      {
        "duration": 32,
        "start_time": "2022-10-09T17:04:27.015Z"
      },
      {
        "duration": 155,
        "start_time": "2022-10-09T17:04:27.048Z"
      },
      {
        "duration": 22802,
        "start_time": "2022-10-09T17:04:27.204Z"
      },
      {
        "duration": 2504,
        "start_time": "2022-10-09T17:04:50.008Z"
      },
      {
        "duration": 12190,
        "start_time": "2022-10-09T17:04:52.514Z"
      },
      {
        "duration": 1284,
        "start_time": "2022-10-09T17:05:04.706Z"
      },
      {
        "duration": 7,
        "start_time": "2022-10-09T17:05:05.992Z"
      },
      {
        "duration": 102,
        "start_time": "2022-10-09T17:05:06.001Z"
      },
      {
        "duration": 104,
        "start_time": "2022-10-09T17:05:19.545Z"
      },
      {
        "duration": 1317,
        "start_time": "2022-10-09T17:05:29.365Z"
      },
      {
        "duration": 72,
        "start_time": "2022-10-09T17:05:30.684Z"
      },
      {
        "duration": 11,
        "start_time": "2022-10-09T17:05:30.758Z"
      },
      {
        "duration": 304,
        "start_time": "2022-10-09T17:05:30.771Z"
      },
      {
        "duration": 8,
        "start_time": "2022-10-09T17:05:31.077Z"
      },
      {
        "duration": 15,
        "start_time": "2022-10-09T17:05:31.087Z"
      },
      {
        "duration": 5,
        "start_time": "2022-10-09T17:05:31.103Z"
      },
      {
        "duration": 948,
        "start_time": "2022-10-09T17:05:31.109Z"
      },
      {
        "duration": 117,
        "start_time": "2022-10-09T17:05:32.058Z"
      },
      {
        "duration": 30,
        "start_time": "2022-10-09T17:05:32.178Z"
      },
      {
        "duration": 6,
        "start_time": "2022-10-09T17:05:32.209Z"
      },
      {
        "duration": 31,
        "start_time": "2022-10-09T17:05:32.217Z"
      },
      {
        "duration": 153,
        "start_time": "2022-10-09T17:05:32.250Z"
      },
      {
        "duration": 22860,
        "start_time": "2022-10-09T17:05:32.405Z"
      },
      {
        "duration": 2553,
        "start_time": "2022-10-09T17:05:55.266Z"
      },
      {
        "duration": 9880,
        "start_time": "2022-10-09T17:05:57.820Z"
      },
      {
        "duration": 1243,
        "start_time": "2022-10-09T17:06:07.702Z"
      },
      {
        "duration": 8,
        "start_time": "2022-10-09T17:06:08.947Z"
      },
      {
        "duration": 15,
        "start_time": "2022-10-09T17:06:08.956Z"
      },
      {
        "duration": 3,
        "start_time": "2022-10-09T17:06:11.607Z"
      },
      {
        "duration": 93,
        "start_time": "2022-10-09T17:06:13.182Z"
      },
      {
        "duration": 8,
        "start_time": "2022-10-09T17:06:15.086Z"
      },
      {
        "duration": 224,
        "start_time": "2022-10-09T17:06:16.542Z"
      },
      {
        "duration": 8,
        "start_time": "2022-10-09T17:06:19.581Z"
      },
      {
        "duration": 3,
        "start_time": "2022-10-09T17:06:21.706Z"
      },
      {
        "duration": 3,
        "start_time": "2022-10-09T17:06:22.861Z"
      },
      {
        "duration": 899,
        "start_time": "2022-10-09T17:06:24.356Z"
      },
      {
        "duration": 198,
        "start_time": "2022-10-09T17:06:29.877Z"
      },
      {
        "duration": 255,
        "start_time": "2022-10-09T17:06:37.475Z"
      },
      {
        "duration": 139,
        "start_time": "2022-10-09T17:06:44.628Z"
      },
      {
        "duration": 153,
        "start_time": "2022-10-09T17:06:56.469Z"
      },
      {
        "duration": 59,
        "start_time": "2022-10-09T17:10:43.663Z"
      },
      {
        "duration": 161,
        "start_time": "2022-10-09T17:10:50.846Z"
      },
      {
        "duration": 126,
        "start_time": "2022-10-09T17:23:33.837Z"
      },
      {
        "duration": 131,
        "start_time": "2022-10-09T17:24:13.161Z"
      },
      {
        "duration": 112,
        "start_time": "2022-10-09T17:24:39.392Z"
      },
      {
        "duration": 124,
        "start_time": "2022-10-09T17:25:03.236Z"
      },
      {
        "duration": 113,
        "start_time": "2022-10-09T17:25:51.420Z"
      },
      {
        "duration": 115,
        "start_time": "2022-10-09T17:26:33.962Z"
      },
      {
        "duration": 129,
        "start_time": "2022-10-09T17:27:40.173Z"
      },
      {
        "duration": 149,
        "start_time": "2022-10-09T17:28:12.572Z"
      },
      {
        "duration": 174,
        "start_time": "2022-10-09T17:28:48.132Z"
      },
      {
        "duration": 163,
        "start_time": "2022-10-09T17:28:56.752Z"
      },
      {
        "duration": 154,
        "start_time": "2022-10-09T17:29:46.813Z"
      },
      {
        "duration": 168,
        "start_time": "2022-10-09T17:30:22.682Z"
      },
      {
        "duration": 180,
        "start_time": "2022-10-09T17:30:47.092Z"
      },
      {
        "duration": 170,
        "start_time": "2022-10-09T17:31:35.247Z"
      },
      {
        "duration": 1329,
        "start_time": "2022-10-09T17:40:29.546Z"
      },
      {
        "duration": 86,
        "start_time": "2022-10-09T17:40:30.877Z"
      },
      {
        "duration": 10,
        "start_time": "2022-10-09T17:40:30.965Z"
      },
      {
        "duration": 298,
        "start_time": "2022-10-09T17:40:30.977Z"
      },
      {
        "duration": 8,
        "start_time": "2022-10-09T17:40:31.277Z"
      },
      {
        "duration": 12,
        "start_time": "2022-10-09T17:40:31.287Z"
      },
      {
        "duration": 9,
        "start_time": "2022-10-09T17:40:31.301Z"
      },
      {
        "duration": 876,
        "start_time": "2022-10-09T17:40:31.312Z"
      },
      {
        "duration": 167,
        "start_time": "2022-10-09T17:40:32.190Z"
      },
      {
        "duration": 20,
        "start_time": "2022-10-09T17:40:32.358Z"
      },
      {
        "duration": 4,
        "start_time": "2022-10-09T17:40:32.379Z"
      },
      {
        "duration": 42,
        "start_time": "2022-10-09T17:40:32.385Z"
      },
      {
        "duration": 171,
        "start_time": "2022-10-09T17:40:32.429Z"
      },
      {
        "duration": 22750,
        "start_time": "2022-10-09T17:40:32.603Z"
      },
      {
        "duration": 2440,
        "start_time": "2022-10-09T17:40:55.354Z"
      },
      {
        "duration": 1106,
        "start_time": "2022-10-09T17:40:57.801Z"
      },
      {
        "duration": 944,
        "start_time": "2022-10-09T17:40:58.909Z"
      },
      {
        "duration": 8,
        "start_time": "2022-10-09T17:40:59.855Z"
      },
      {
        "duration": 39,
        "start_time": "2022-10-09T17:40:59.864Z"
      },
      {
        "duration": 376,
        "start_time": "2022-10-09T17:40:59.904Z"
      }
    ],
    "kernelspec": {
      "display_name": "Python 3 (ipykernel)",
      "language": "python",
      "name": "python3"
    },
    "language_info": {
      "codemirror_mode": {
        "name": "ipython",
        "version": 3
      },
      "file_extension": ".py",
      "mimetype": "text/x-python",
      "name": "python",
      "nbconvert_exporter": "python",
      "pygments_lexer": "ipython3",
      "version": "3.9.5"
    },
    "toc": {
      "base_numbering": 1,
      "nav_menu": {},
      "number_sections": true,
      "sideBar": true,
      "skip_h1_title": true,
      "title_cell": "Содержание",
      "title_sidebar": "Contents",
      "toc_cell": true,
      "toc_position": {
        "height": "calc(100% - 180px)",
        "left": "10px",
        "top": "150px",
        "width": "165px"
      },
      "toc_section_display": true,
      "toc_window_display": true
    },
    "colab": {
      "provenance": []
    }
  },
  "nbformat": 4,
  "nbformat_minor": 0
}