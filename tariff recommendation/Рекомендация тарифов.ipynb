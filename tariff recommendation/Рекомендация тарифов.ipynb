{
  "cells": [
    {
      "cell_type": "markdown",
      "metadata": {
        "id": "view-in-github",
        "colab_type": "text"
      },
      "source": [
        "<a href=\"https://colab.research.google.com/github/serikkk84/practicum/blob/main/tariff%20recommendation/%D0%A0%D0%B5%D0%BA%D0%BE%D0%BC%D0%B5%D0%BD%D0%B4%D0%B0%D1%86%D0%B8%D1%8F%20%D1%82%D0%B0%D1%80%D0%B8%D1%84%D0%BE%D0%B2.ipynb\" target=\"_parent\"><img src=\"https://colab.research.google.com/assets/colab-badge.svg\" alt=\"Open In Colab\"/></a>"
      ]
    },
    {
      "cell_type": "markdown",
      "metadata": {
        "id": "Ps3ZSQhwNtC1"
      },
      "source": [
        "# Рекомендация тарифов"
      ]
    },
    {
      "cell_type": "markdown",
      "metadata": {
        "id": "qUD3liUfNtC1"
      },
      "source": [
        "В нашем распоряжении данные о поведении клиентов. Нужно построить модель для задачи классификации, которая выберет подходящий тариф. \n",
        "\n",
        "Необходимо постройть модель с максимально большим значением *accuracy*. Чтобы сдать проект успешно, нужно довести долю правильных ответов на тестовой выборке по крайней мере до 0.75. "
      ]
    },
    {
      "cell_type": "markdown",
      "metadata": {
        "id": "0E_rRdQ5NtC2"
      },
      "source": [
        "## Откроем и изучим файл"
      ]
    },
    {
      "cell_type": "markdown",
      "metadata": {
        "id": "DQYRLCXaNtC2"
      },
      "source": [
        "Импортируем библиотеки\n"
      ]
    },
    {
      "cell_type": "code",
      "execution_count": null,
      "metadata": {
        "id": "w3oeut4bNtC3"
      },
      "outputs": [],
      "source": [
        "import pandas as pd\n",
        "from sklearn.tree import DecisionTreeClassifier\n",
        "from sklearn.ensemble import RandomForestClassifier\n",
        "from sklearn.linear_model import LogisticRegression \n",
        "from sklearn.metrics import accuracy_score\n",
        "from sklearn.model_selection import train_test_split\n",
        "from joblib import dump"
      ]
    },
    {
      "cell_type": "markdown",
      "metadata": {
        "id": "uFjLfZ7TNtC4"
      },
      "source": [
        "Загрузим и посмотрим базу данных."
      ]
    },
    {
      "cell_type": "code",
      "execution_count": null,
      "metadata": {
        "id": "6qRB5GDJNtC5",
        "outputId": "7c0da728-bf07-4bbb-851b-ebc6d6850b61"
      },
      "outputs": [
        {
          "data": {
            "text/html": [
              "<div>\n",
              "<style scoped>\n",
              "    .dataframe tbody tr th:only-of-type {\n",
              "        vertical-align: middle;\n",
              "    }\n",
              "\n",
              "    .dataframe tbody tr th {\n",
              "        vertical-align: top;\n",
              "    }\n",
              "\n",
              "    .dataframe thead th {\n",
              "        text-align: right;\n",
              "    }\n",
              "</style>\n",
              "<table border=\"1\" class=\"dataframe\">\n",
              "  <thead>\n",
              "    <tr style=\"text-align: right;\">\n",
              "      <th></th>\n",
              "      <th>calls</th>\n",
              "      <th>minutes</th>\n",
              "      <th>messages</th>\n",
              "      <th>mb_used</th>\n",
              "      <th>is_ultra</th>\n",
              "    </tr>\n",
              "  </thead>\n",
              "  <tbody>\n",
              "    <tr>\n",
              "      <th>0</th>\n",
              "      <td>40.0</td>\n",
              "      <td>311.90</td>\n",
              "      <td>83.0</td>\n",
              "      <td>19915.42</td>\n",
              "      <td>0</td>\n",
              "    </tr>\n",
              "    <tr>\n",
              "      <th>1</th>\n",
              "      <td>85.0</td>\n",
              "      <td>516.75</td>\n",
              "      <td>56.0</td>\n",
              "      <td>22696.96</td>\n",
              "      <td>0</td>\n",
              "    </tr>\n",
              "    <tr>\n",
              "      <th>2</th>\n",
              "      <td>77.0</td>\n",
              "      <td>467.66</td>\n",
              "      <td>86.0</td>\n",
              "      <td>21060.45</td>\n",
              "      <td>0</td>\n",
              "    </tr>\n",
              "    <tr>\n",
              "      <th>3</th>\n",
              "      <td>106.0</td>\n",
              "      <td>745.53</td>\n",
              "      <td>81.0</td>\n",
              "      <td>8437.39</td>\n",
              "      <td>1</td>\n",
              "    </tr>\n",
              "    <tr>\n",
              "      <th>4</th>\n",
              "      <td>66.0</td>\n",
              "      <td>418.74</td>\n",
              "      <td>1.0</td>\n",
              "      <td>14502.75</td>\n",
              "      <td>0</td>\n",
              "    </tr>\n",
              "    <tr>\n",
              "      <th>...</th>\n",
              "      <td>...</td>\n",
              "      <td>...</td>\n",
              "      <td>...</td>\n",
              "      <td>...</td>\n",
              "      <td>...</td>\n",
              "    </tr>\n",
              "    <tr>\n",
              "      <th>3209</th>\n",
              "      <td>122.0</td>\n",
              "      <td>910.98</td>\n",
              "      <td>20.0</td>\n",
              "      <td>35124.90</td>\n",
              "      <td>1</td>\n",
              "    </tr>\n",
              "    <tr>\n",
              "      <th>3210</th>\n",
              "      <td>25.0</td>\n",
              "      <td>190.36</td>\n",
              "      <td>0.0</td>\n",
              "      <td>3275.61</td>\n",
              "      <td>0</td>\n",
              "    </tr>\n",
              "    <tr>\n",
              "      <th>3211</th>\n",
              "      <td>97.0</td>\n",
              "      <td>634.44</td>\n",
              "      <td>70.0</td>\n",
              "      <td>13974.06</td>\n",
              "      <td>0</td>\n",
              "    </tr>\n",
              "    <tr>\n",
              "      <th>3212</th>\n",
              "      <td>64.0</td>\n",
              "      <td>462.32</td>\n",
              "      <td>90.0</td>\n",
              "      <td>31239.78</td>\n",
              "      <td>0</td>\n",
              "    </tr>\n",
              "    <tr>\n",
              "      <th>3213</th>\n",
              "      <td>80.0</td>\n",
              "      <td>566.09</td>\n",
              "      <td>6.0</td>\n",
              "      <td>29480.52</td>\n",
              "      <td>1</td>\n",
              "    </tr>\n",
              "  </tbody>\n",
              "</table>\n",
              "<p>3214 rows × 5 columns</p>\n",
              "</div>"
            ],
            "text/plain": [
              "      calls  minutes  messages   mb_used  is_ultra\n",
              "0      40.0   311.90      83.0  19915.42         0\n",
              "1      85.0   516.75      56.0  22696.96         0\n",
              "2      77.0   467.66      86.0  21060.45         0\n",
              "3     106.0   745.53      81.0   8437.39         1\n",
              "4      66.0   418.74       1.0  14502.75         0\n",
              "...     ...      ...       ...       ...       ...\n",
              "3209  122.0   910.98      20.0  35124.90         1\n",
              "3210   25.0   190.36       0.0   3275.61         0\n",
              "3211   97.0   634.44      70.0  13974.06         0\n",
              "3212   64.0   462.32      90.0  31239.78         0\n",
              "3213   80.0   566.09       6.0  29480.52         1\n",
              "\n",
              "[3214 rows x 5 columns]"
            ]
          },
          "execution_count": 2,
          "metadata": {},
          "output_type": "execute_result"
        }
      ],
      "source": [
        "try:\n",
        "    df_calls = pd.read_csv('users_behavior.csv')\n",
        "except:\n",
        "    df_calls = pd.read_csv('/datasets/users_behavior.csv')\n",
        "df_calls"
      ]
    },
    {
      "cell_type": "markdown",
      "metadata": {
        "id": "mgyLf_61NtC7"
      },
      "source": [
        "Итак, мы имеем данные по услугам мобильного оператора для конкретного пользователя. Всего в базе данных 3214 строк - объектов и 5 колоннок, четыре из которых - признаки, а пятая - \"is_ultra\" - целевой признак, который обученная модель должна предсказывать. Также очевидно, что программа будет предсказывать категоральные данные (выберет ли клиент тариф ультра - 1, или нет - 0), поэтому изучим три модели обучения: решающее дерево (DecisionTreeClassifier), случайный лес (RandomForestClassifier) и  логистическая регрессия (LogisticRegression)."
      ]
    },
    {
      "cell_type": "markdown",
      "metadata": {
        "id": "aZriiSqYNtC8"
      },
      "source": [
        "По условиям задачи предобработка данных не требуется, поэтому сразу переходим к разделению выборки."
      ]
    },
    {
      "cell_type": "markdown",
      "metadata": {
        "id": "Be26bybiNtC8"
      },
      "source": [
        "## Разобьем данные на выборки"
      ]
    },
    {
      "cell_type": "markdown",
      "metadata": {
        "id": "G7afhPLXNtC9"
      },
      "source": [
        "Сначала отделим тестовую выборку от общего датасета в размере 20%"
      ]
    },
    {
      "cell_type": "code",
      "execution_count": null,
      "metadata": {
        "id": "0PSkeY4VNtC9"
      },
      "outputs": [],
      "source": [
        "df_train, df_test = train_test_split(df_calls, test_size=0.20, random_state=12345)"
      ]
    },
    {
      "cell_type": "markdown",
      "metadata": {
        "id": "ObNGwzn0NtC9"
      },
      "source": [
        "И проверим"
      ]
    },
    {
      "cell_type": "code",
      "execution_count": null,
      "metadata": {
        "id": "03tHs_bGNtC-",
        "outputId": "e990154f-10aa-4676-c8a8-c3d7cf6444a2"
      },
      "outputs": [
        {
          "data": {
            "text/plain": [
              "(      calls  minutes  messages   mb_used  is_ultra\n",
              " 348    77.0   522.65      14.0  19462.45         0\n",
              " 1172  144.0  1031.79      99.0  40174.34         1\n",
              " 2315   48.0   341.65       0.0  19000.02         0\n",
              " 954    52.0   383.90      40.0  24574.82         0\n",
              " 2918   77.0   445.00     100.0  10518.28         1\n",
              " ...     ...      ...       ...       ...       ...\n",
              " 2817   12.0    86.62      22.0  36628.85         1\n",
              " 546    65.0   458.46       0.0  15214.25         1\n",
              " 382   144.0   906.18       0.0  25002.44         1\n",
              " 2177   38.0   301.27      37.0  28914.24         1\n",
              " 482   160.0  1084.05      95.0  36843.92         1\n",
              " \n",
              " [2571 rows x 5 columns],\n",
              "       calls  minutes  messages   mb_used  is_ultra\n",
              " 1415   82.0   507.89      88.0  17543.37         1\n",
              " 916    50.0   375.91      35.0  12388.40         0\n",
              " 1670   83.0   540.49      41.0   9127.74         0\n",
              " 686    79.0   562.99      19.0  25508.19         1\n",
              " 2951   78.0   531.29      20.0   9217.25         0\n",
              " ...     ...      ...       ...       ...       ...\n",
              " 2061   66.0   478.48       0.0  16962.58         0\n",
              " 1510   40.0   334.24      91.0  11304.14         0\n",
              " 2215   62.0   436.68      52.0  12311.24         0\n",
              " 664   117.0   739.27     124.0  22818.56         1\n",
              " 1196   66.0   461.84      85.0  14264.14         0\n",
              " \n",
              " [643 rows x 5 columns])"
            ]
          },
          "execution_count": 4,
          "metadata": {},
          "output_type": "execute_result"
        }
      ],
      "source": [
        "df_train, df_test "
      ]
    },
    {
      "cell_type": "markdown",
      "metadata": {
        "id": "fiNv-hm2NtC-"
      },
      "source": [
        "Теперь отделим валидационную. Чтобы программа заранеее не обучилась на готовых решениях, делить будем не первоначальный датафрейм, а 'df_train'. Так же возьмем 25%, чтобы валидационная выборка была равна тестовой, а их отношение к базовой соответствовала 3:1:1."
      ]
    },
    {
      "cell_type": "code",
      "execution_count": null,
      "metadata": {
        "id": "0GbPMgrgNtC-"
      },
      "outputs": [],
      "source": [
        "df_train, df_valid = train_test_split(df_train, test_size=0.25, random_state=12345)"
      ]
    },
    {
      "cell_type": "markdown",
      "metadata": {
        "id": "gksgE3f9NtC_"
      },
      "source": [
        "И проверим"
      ]
    },
    {
      "cell_type": "code",
      "execution_count": null,
      "metadata": {
        "id": "0cp5yV53NtC_",
        "outputId": "1095657f-5f32-4827-e7d6-33e855da789d"
      },
      "outputs": [
        {
          "data": {
            "text/plain": [
              "(      calls  minutes  messages   mb_used  is_ultra\n",
              " 2656   30.0   185.07      34.0  17166.53         0\n",
              " 823    42.0   290.69      77.0  21507.03         0\n",
              " 2566   41.0   289.83      15.0  22151.73         0\n",
              " 1451   45.0   333.49      50.0  17275.47         0\n",
              " 2953   43.0   300.39      69.0  17277.83         0\n",
              " ...     ...      ...       ...       ...       ...\n",
              " 1043  106.0   796.79      23.0  42250.70         1\n",
              " 2132   18.0   117.80       0.0  10006.79         1\n",
              " 1642   87.0   583.02       1.0  11213.97         0\n",
              " 1495   63.0   408.68      63.0  24970.26         0\n",
              " 510    83.0   597.83       0.0  16273.02         0\n",
              " \n",
              " [1928 rows x 5 columns],\n",
              "       calls  minutes  messages   mb_used  is_ultra\n",
              " 2699   71.0   512.53      27.0  15772.68         0\n",
              " 242   183.0  1247.04     150.0  29186.41         1\n",
              " 2854   34.0   246.06      31.0   8448.76         0\n",
              " 1638   63.0   468.66       0.0  11794.34         0\n",
              " 1632    4.0    19.85      28.0  13107.42         0\n",
              " ...     ...      ...       ...       ...       ...\n",
              " 2551   83.0   539.32      33.0  20967.28         0\n",
              " 1261   80.0   552.33      23.0  18457.85         0\n",
              " 1658  111.0   899.74       0.0  26866.61         0\n",
              " 353    68.0   493.00      29.0  20021.73         0\n",
              " 1806   62.0   364.31       0.0  13259.50         0\n",
              " \n",
              " [643 rows x 5 columns])"
            ]
          },
          "execution_count": 6,
          "metadata": {},
          "output_type": "execute_result"
        }
      ],
      "source": [
        "df_train, df_valid "
      ]
    },
    {
      "cell_type": "markdown",
      "metadata": {
        "id": "CGF8HmkINtDA"
      },
      "source": [
        "Все получилось корректно. Можно переходить к исследованию качества моделей"
      ]
    },
    {
      "cell_type": "markdown",
      "metadata": {
        "id": "s-8IaRbfNtDA"
      },
      "source": [
        "## Исследование моделей"
      ]
    },
    {
      "cell_type": "markdown",
      "metadata": {
        "id": "tyuo_6AoNtDA"
      },
      "source": [
        "### Решающее дерево"
      ]
    },
    {
      "cell_type": "markdown",
      "metadata": {
        "id": "S1dtHH3UNtDA"
      },
      "source": [
        "Разделим датафрейм на признаки - features, и целевой признак - target"
      ]
    },
    {
      "cell_type": "code",
      "execution_count": null,
      "metadata": {
        "id": "RJG2h8qPNtDB"
      },
      "outputs": [],
      "source": [
        "features_train = df_train.drop(['is_ultra'], axis=1)\n",
        "target_train = df_train['is_ultra']\n",
        "features_valid = df_valid.drop(['is_ultra'], axis=1)\n",
        "target_valid = df_valid['is_ultra']"
      ]
    },
    {
      "cell_type": "markdown",
      "metadata": {
        "id": "IAafn6EKNtDB"
      },
      "source": [
        "Обучим решающее дерево на тренировачном фрейме и посмотрим его аккуратность меняя уровень глубины дерева от 1 до 27"
      ]
    },
    {
      "cell_type": "code",
      "execution_count": null,
      "metadata": {
        "id": "KCUdRFpBNtDC",
        "outputId": "3011b117-c4d7-4ff9-8a55-db8a95d316fd"
      },
      "outputs": [
        {
          "name": "stdout",
          "output_type": "stream",
          "text": [
            "max_depth = 1 : 0.7387247278382582\n",
            "max_depth = 2 : 0.7573872472783826\n",
            "max_depth = 3 : 0.7651632970451011\n",
            "max_depth = 4 : 0.7636080870917574\n",
            "max_depth = 5 : 0.7589424572317263\n",
            "max_depth = 6 : 0.7573872472783826\n",
            "max_depth = 7 : 0.7744945567651633\n",
            "max_depth = 8 : 0.7667185069984448\n",
            "max_depth = 9 : 0.7620528771384136\n",
            "max_depth = 10 : 0.7713841368584758\n",
            "max_depth = 11 : 0.7589424572317263\n",
            "max_depth = 12 : 0.7558320373250389\n",
            "max_depth = 13 : 0.749611197511664\n",
            "max_depth = 14 : 0.7573872472783826\n",
            "max_depth = 15 : 0.7527216174183515\n",
            "max_depth = 16 : 0.749611197511664\n",
            "max_depth = 17 : 0.7387247278382582\n",
            "max_depth = 18 : 0.7418351477449455\n",
            "max_depth = 19 : 0.7356143079315708\n",
            "max_depth = 20 : 0.7293934681181959\n",
            "max_depth = 21 : 0.7325038880248833\n",
            "max_depth = 22 : 0.71850699844479\n",
            "max_depth = 23 : 0.7293934681181959\n",
            "max_depth = 24 : 0.7262830482115086\n",
            "max_depth = 25 : 0.7293934681181959\n",
            "max_depth = 26 : 0.7231726283048211\n",
            "           0\n",
            "1   0.738725\n",
            "2   0.757387\n",
            "3   0.765163\n",
            "4   0.763608\n",
            "5   0.758942\n",
            "6   0.757387\n",
            "7   0.774495\n",
            "8   0.766719\n",
            "9   0.762053\n",
            "10  0.771384\n",
            "11  0.758942\n",
            "12  0.755832\n",
            "13  0.749611\n",
            "14  0.757387\n",
            "15  0.752722\n",
            "16  0.749611\n",
            "17  0.738725\n",
            "18  0.741835\n",
            "19  0.735614\n",
            "20  0.729393\n",
            "21  0.732504\n",
            "22  0.718507\n",
            "23  0.729393\n",
            "24  0.726283\n",
            "25  0.729393\n",
            "26  0.723173\n"
          ]
        }
      ],
      "source": [
        "Depth= []\n",
        "Accuracy = []\n",
        "for depth in range(1,27): \n",
        "    model = DecisionTreeClassifier(random_state=12345, max_depth=depth)\n",
        "    model.fit(features_train, target_train)\n",
        "    predictions_valid = model.predict(features_valid)\n",
        "    Depth.append(depth)\n",
        "    Accuracy.append(accuracy_score(target_valid, predictions_valid))\n",
        "    print(\"max_depth =\", depth, \": \", end='')\n",
        "    print(accuracy_score(target_valid, predictions_valid)) \n",
        "df_tree = pd.DataFrame(Accuracy, Depth)\n",
        "print(df_tree)"
      ]
    },
    {
      "cell_type": "code",
      "execution_count": null,
      "metadata": {
        "id": "A6TPpok9NtDD",
        "outputId": "fb460a19-b73b-40fb-a7ce-e0e99b91cb02"
      },
      "outputs": [
        {
          "data": {
            "image/png": "[encoded data removed]",
            "text/plain": [
              "<Figure size 1080x360 with 1 Axes>"
            ]
          },
          "metadata": {
            "needs_background": "light"
          },
          "output_type": "display_data"
        }
      ],
      "source": [
        "import matplotlib.pyplot as plt\n",
        "df_tree.plot(figsize=(15, 5))\n",
        "plt.grid();"
      ]
    },
    {
      "cell_type": "markdown",
      "metadata": {
        "id": "tH-SaH0tNtDE"
      },
      "source": [
        "Не высокий уровень accuracy на всех уровнях решающего дерева. За лучший вариант возьмем модель с глубиной дерева -7."
      ]
    },
    {
      "cell_type": "markdown",
      "metadata": {
        "id": "BepAdDzGNtDE"
      },
      "source": [
        "### Случайный лес"
      ]
    },
    {
      "cell_type": "markdown",
      "metadata": {
        "id": "K5FY5unZNtDF"
      },
      "source": [
        "Попробуем обучить модель используя 'случайный лес' с числом деревьев до 15."
      ]
    },
    {
      "cell_type": "code",
      "execution_count": null,
      "metadata": {
        "id": "d8zC0D0ONtDF",
        "outputId": "0332cfe6-7959-4aca-f173-c20d86b309cb"
      },
      "outputs": [
        {
          "name": "stdout",
          "output_type": "stream",
          "text": [
            "Accuracy наилучшей модели на валидационной выборке: 0.7884914463452566\n",
            "Лучшая модель на валидационной выборке: RandomForestClassifier(n_estimators=10, random_state=12345)\n"
          ]
        }
      ],
      "source": [
        "best_model = None\n",
        "best_result = 0\n",
        "for est in range(1, 16):\n",
        "    model = RandomForestClassifier(random_state=12345, n_estimators=est) \n",
        "    model.fit(features_train, target_train) \n",
        "    result = model.score(features_valid, target_valid) \n",
        "    if result > best_result:\n",
        "        best_model = model\n",
        "        best_result = result \n",
        "\n",
        "print(\"Accuracy наилучшей модели на валидационной выборке:\", best_result)\n",
        "print(\"Лучшая модель на валидационной выборке:\", best_model)"
      ]
    },
    {
      "cell_type": "markdown",
      "metadata": {
        "id": "DPOPvl3aNtDG"
      },
      "source": [
        "Чуть усложним, изменив количество деревьев до 50 с шагом подбора равном 10, и подберем наилучшую глубину случайного леса установив параметр depth от 1 до 11"
      ]
    },
    {
      "cell_type": "code",
      "execution_count": null,
      "metadata": {
        "id": "AUDRLH_jNtDG",
        "outputId": "00f037a6-a636-4ab6-8445-7963525cb1aa"
      },
      "outputs": [
        {
          "name": "stdout",
          "output_type": "stream",
          "text": [
            "Accuracy  наилучшей модели на валидационной выборке: 0.7978227060653188 Количество деревьев: 50 Максимальная глубина: 10\n"
          ]
        }
      ],
      "source": [
        "best_model = None\n",
        "best_result = 0\n",
        "best_est = 0\n",
        "best_depth = 0\n",
        "for est in range(10, 51, 10):\n",
        "    for depth in range (1, 11):\n",
        "        model = RandomForestClassifier(random_state=12345, n_estimators=est, max_depth=depth) \n",
        "        model.fit(features_train, target_train) \n",
        "        predictions_valid = model.predict(features_valid) \n",
        "        result = model.score(features_valid, target_valid) \n",
        "        if result > best_result:\n",
        "            best_model = model\n",
        "            best_result = result\n",
        "            best_est = est\n",
        "            best_depth = depth\n",
        "\n",
        "print(\"Accuracy  наилучшей модели на валидационной выборке:\", best_result, \"Количество деревьев:\", best_est, \"Максимальная глубина:\", depth)"
      ]
    },
    {
      "cell_type": "markdown",
      "metadata": {
        "id": "61lC5gZ1NtDH"
      },
      "source": [
        "Показатель аккуратности случайного леса выше, чем решающего дерева. Возьмем на данном этапе за лучшую модель случайный лес с количеством деревьев - 50 и максимальной глубиной -10."
      ]
    },
    {
      "cell_type": "markdown",
      "metadata": {
        "id": "wO82NMFeNtDI"
      },
      "source": [
        "### Логистическая регрессия"
      ]
    },
    {
      "cell_type": "markdown",
      "metadata": {
        "id": "PYIU2_fxNtDI"
      },
      "source": [
        "Обучим модель использую логистическую регрессию. Возьмем базовый алгоритм 'lbfgs', а колличество итераций обучения - 1000."
      ]
    },
    {
      "cell_type": "code",
      "execution_count": null,
      "metadata": {
        "id": "D-DdPBocNtDI"
      },
      "outputs": [],
      "source": [
        "model = LogisticRegression(random_state=12345, solver='lbfgs', max_iter=1000) "
      ]
    },
    {
      "cell_type": "code",
      "execution_count": null,
      "metadata": {
        "id": "x8WnSeUENtDJ",
        "outputId": "478d6e5d-5d9c-419f-a794-4468ddd17a1a"
      },
      "outputs": [
        {
          "name": "stdout",
          "output_type": "stream",
          "text": [
            "Accuracy модели на валидационной выборке: 0.7262830482115086\n"
          ]
        }
      ],
      "source": [
        "model.fit(features_train, target_train) \n",
        "predictions = model.predict(features_valid)\n",
        "print(\"Accuracy модели на валидационной выборке:\", model.score(features_valid, target_valid))"
      ]
    },
    {
      "cell_type": "markdown",
      "metadata": {
        "id": "a5DHsG1xNtDJ"
      },
      "source": [
        "Аккуратность обученой модели посредством логистической регрессий ниже чем у других."
      ]
    },
    {
      "cell_type": "markdown",
      "metadata": {
        "id": "9IrUEsWZNtDJ"
      },
      "source": [
        "## Проверка модели на тестовой выборке"
      ]
    },
    {
      "cell_type": "markdown",
      "metadata": {
        "id": "1lSlT7ZkNtDK"
      },
      "source": [
        "Очевидно, наилучшая модель обучения, несмотря на довольно низкую скорость обработки данных, - это случайный лес с количеством деревьем 50 и максимальной глубиной 10. Проверим тестовую выборку на указанной моделе."
      ]
    },
    {
      "cell_type": "code",
      "execution_count": null,
      "metadata": {
        "id": "_dFUB9GiNtDK",
        "outputId": "303f3e9b-b845-4fe8-8a70-0a7f81966ed8"
      },
      "outputs": [
        {
          "name": "stdout",
          "output_type": "stream",
          "text": [
            "Accuracy наилучшей модели обученной библиотекой 'RandomForestClassifier'с количеством деревьев 50 и максимальной глубиной 10: 0.7993779160186625\n"
          ]
        }
      ],
      "source": [
        "features_test = df_test.drop(['is_ultra'], axis=1)\n",
        "target_test = df_test['is_ultra']\n",
        "\n",
        "model = RandomForestClassifier(random_state=12345, n_estimators=50, max_depth=10) \n",
        "model.fit(features_train, target_train) \n",
        "result = model.score(features_test, target_test) \n",
        "print(\"Accuracy наилучшей модели обученной библиотекой 'RandomForestClassifier'с количеством деревьев 50 и максимальной глубиной 10:\", result)"
      ]
    },
    {
      "cell_type": "code",
      "execution_count": null,
      "metadata": {
        "scrolled": true,
        "id": "psRm5ep8NtDL",
        "outputId": "f4fd6db4-22ba-483d-e37f-6fbe8bea0878"
      },
      "outputs": [
        {
          "data": {
            "text/html": [
              "<div>\n",
              "<style scoped>\n",
              "    .dataframe tbody tr th:only-of-type {\n",
              "        vertical-align: middle;\n",
              "    }\n",
              "\n",
              "    .dataframe tbody tr th {\n",
              "        vertical-align: top;\n",
              "    }\n",
              "\n",
              "    .dataframe thead th {\n",
              "        text-align: right;\n",
              "    }\n",
              "</style>\n",
              "<table border=\"1\" class=\"dataframe\">\n",
              "  <thead>\n",
              "    <tr style=\"text-align: right;\">\n",
              "      <th></th>\n",
              "      <th>calls</th>\n",
              "      <th>minutes</th>\n",
              "      <th>messages</th>\n",
              "      <th>mb_used</th>\n",
              "      <th>is_ultra</th>\n",
              "    </tr>\n",
              "  </thead>\n",
              "  <tbody>\n",
              "    <tr>\n",
              "      <th>0</th>\n",
              "      <td>30.0</td>\n",
              "      <td>185.07</td>\n",
              "      <td>34.0</td>\n",
              "      <td>17166.53</td>\n",
              "      <td>0</td>\n",
              "    </tr>\n",
              "    <tr>\n",
              "      <th>1</th>\n",
              "      <td>42.0</td>\n",
              "      <td>290.69</td>\n",
              "      <td>77.0</td>\n",
              "      <td>21507.03</td>\n",
              "      <td>0</td>\n",
              "    </tr>\n",
              "    <tr>\n",
              "      <th>2</th>\n",
              "      <td>41.0</td>\n",
              "      <td>289.83</td>\n",
              "      <td>15.0</td>\n",
              "      <td>22151.73</td>\n",
              "      <td>0</td>\n",
              "    </tr>\n",
              "    <tr>\n",
              "      <th>3</th>\n",
              "      <td>45.0</td>\n",
              "      <td>333.49</td>\n",
              "      <td>50.0</td>\n",
              "      <td>17275.47</td>\n",
              "      <td>0</td>\n",
              "    </tr>\n",
              "    <tr>\n",
              "      <th>4</th>\n",
              "      <td>43.0</td>\n",
              "      <td>300.39</td>\n",
              "      <td>69.0</td>\n",
              "      <td>17277.83</td>\n",
              "      <td>0</td>\n",
              "    </tr>\n",
              "    <tr>\n",
              "      <th>...</th>\n",
              "      <td>...</td>\n",
              "      <td>...</td>\n",
              "      <td>...</td>\n",
              "      <td>...</td>\n",
              "      <td>...</td>\n",
              "    </tr>\n",
              "    <tr>\n",
              "      <th>2566</th>\n",
              "      <td>83.0</td>\n",
              "      <td>539.32</td>\n",
              "      <td>33.0</td>\n",
              "      <td>20967.28</td>\n",
              "      <td>0</td>\n",
              "    </tr>\n",
              "    <tr>\n",
              "      <th>2567</th>\n",
              "      <td>80.0</td>\n",
              "      <td>552.33</td>\n",
              "      <td>23.0</td>\n",
              "      <td>18457.85</td>\n",
              "      <td>0</td>\n",
              "    </tr>\n",
              "    <tr>\n",
              "      <th>2568</th>\n",
              "      <td>111.0</td>\n",
              "      <td>899.74</td>\n",
              "      <td>0.0</td>\n",
              "      <td>26866.61</td>\n",
              "      <td>0</td>\n",
              "    </tr>\n",
              "    <tr>\n",
              "      <th>2569</th>\n",
              "      <td>68.0</td>\n",
              "      <td>493.00</td>\n",
              "      <td>29.0</td>\n",
              "      <td>20021.73</td>\n",
              "      <td>0</td>\n",
              "    </tr>\n",
              "    <tr>\n",
              "      <th>2570</th>\n",
              "      <td>62.0</td>\n",
              "      <td>364.31</td>\n",
              "      <td>0.0</td>\n",
              "      <td>13259.50</td>\n",
              "      <td>0</td>\n",
              "    </tr>\n",
              "  </tbody>\n",
              "</table>\n",
              "<p>2571 rows × 5 columns</p>\n",
              "</div>"
            ],
            "text/plain": [
              "      calls  minutes  messages   mb_used  is_ultra\n",
              "0      30.0   185.07      34.0  17166.53         0\n",
              "1      42.0   290.69      77.0  21507.03         0\n",
              "2      41.0   289.83      15.0  22151.73         0\n",
              "3      45.0   333.49      50.0  17275.47         0\n",
              "4      43.0   300.39      69.0  17277.83         0\n",
              "...     ...      ...       ...       ...       ...\n",
              "2566   83.0   539.32      33.0  20967.28         0\n",
              "2567   80.0   552.33      23.0  18457.85         0\n",
              "2568  111.0   899.74       0.0  26866.61         0\n",
              "2569   68.0   493.00      29.0  20021.73         0\n",
              "2570   62.0   364.31       0.0  13259.50         0\n",
              "\n",
              "[2571 rows x 5 columns]"
            ]
          },
          "execution_count": 16,
          "metadata": {},
          "output_type": "execute_result"
        }
      ],
      "source": [
        "df_new_train = df_train.append(df_valid, ignore_index=True)\n",
        "df_new_train"
      ]
    },
    {
      "cell_type": "code",
      "execution_count": null,
      "metadata": {
        "id": "t_jmwC40NtDM",
        "outputId": "358b2dab-90c4-4a5e-e6eb-d86e1b4e1795"
      },
      "outputs": [
        {
          "name": "stdout",
          "output_type": "stream",
          "text": [
            "Accuracy наилучшей модели обученной библиотекой 'RandomForestClassifier'с количеством деревьев 50 и максимальной глубиной 10: 0.7978227060653188\n"
          ]
        }
      ],
      "source": [
        "features_new_train = df_new_train.drop(['is_ultra'], axis=1)\n",
        "target_new_train = df_new_train['is_ultra']\n",
        "features_test = df_test.drop(['is_ultra'], axis=1)\n",
        "target_test = df_test['is_ultra']\n",
        "\n",
        "model = RandomForestClassifier(random_state=12345, n_estimators=50, max_depth=10) \n",
        "model.fit(features_new_train, target_new_train) \n",
        "result = model.score(features_test, target_test) \n",
        "print(\"Accuracy наилучшей модели обученной библиотекой 'RandomForestClassifier'с количеством деревьев 50 и максимальной глубиной 10:\", result)"
      ]
    },
    {
      "cell_type": "markdown",
      "metadata": {
        "id": "j7I4kJR_NtDM"
      },
      "source": [
        "Не очень высокий показатель аккуратности, тем не менее выше минимально требуемого 0,75. "
      ]
    },
    {
      "cell_type": "markdown",
      "metadata": {
        "id": "TDOgzdIjNtDO"
      },
      "source": [
        "## Вывод"
      ]
    },
    {
      "cell_type": "markdown",
      "metadata": {
        "id": "FnmE84KLNtDO"
      },
      "source": [
        "Не смотря на довольно низкую скорость обработки данных, наилучшая обученная модель для решения поставленной задачи - это случайный лес с количеством деревьев равным 50, а макимальной глубиной равной десяти. Думаю, в данном случае это действительно лучшая модель, так как скоростью обработки можно пренебречь, по причине того что данная программа предназанчается для оператора, а не для пользования клиентами, для которых скорость является также приоритетным показателем на равне с аккуратностью предсказаний."
      ]
    }
  ],
  "metadata": {
    "ExecuteTimeLog": [
      {
        "duration": 1073,
        "start_time": "2022-07-04T11:43:37.610Z"
      },
      {
        "duration": 78,
        "start_time": "2022-07-04T11:44:10.168Z"
      },
      {
        "duration": 5,
        "start_time": "2022-07-04T11:45:03.615Z"
      },
      {
        "duration": 13,
        "start_time": "2022-07-04T11:45:28.499Z"
      },
      {
        "duration": 6,
        "start_time": "2022-07-04T11:45:57.465Z"
      },
      {
        "duration": 14,
        "start_time": "2022-07-04T11:46:25.745Z"
      },
      {
        "duration": 5,
        "start_time": "2022-07-04T11:47:49.895Z"
      },
      {
        "duration": 48,
        "start_time": "2022-07-04T11:48:19.546Z"
      },
      {
        "duration": 562,
        "start_time": "2022-07-04T11:49:13.245Z"
      },
      {
        "duration": 4701,
        "start_time": "2022-07-04T11:49:42.147Z"
      },
      {
        "duration": 3,
        "start_time": "2022-07-04T11:50:50.193Z"
      },
      {
        "duration": 43,
        "start_time": "2022-07-04T11:51:01.967Z"
      },
      {
        "duration": 180,
        "start_time": "2022-07-04T11:52:04.556Z"
      },
      {
        "duration": 1700,
        "start_time": "2022-07-04T15:43:18.303Z"
      },
      {
        "duration": 86,
        "start_time": "2022-07-04T15:43:20.006Z"
      },
      {
        "duration": 5,
        "start_time": "2022-07-04T15:43:20.094Z"
      },
      {
        "duration": 30,
        "start_time": "2022-07-04T15:43:20.102Z"
      },
      {
        "duration": 20,
        "start_time": "2022-07-04T15:43:20.136Z"
      },
      {
        "duration": 18,
        "start_time": "2022-07-04T15:43:20.158Z"
      },
      {
        "duration": 9,
        "start_time": "2022-07-04T15:43:20.178Z"
      },
      {
        "duration": 56,
        "start_time": "2022-07-04T15:43:20.189Z"
      },
      {
        "duration": 582,
        "start_time": "2022-07-04T15:43:20.248Z"
      },
      {
        "duration": 4358,
        "start_time": "2022-07-04T15:43:20.833Z"
      },
      {
        "duration": 4,
        "start_time": "2022-07-04T15:43:25.193Z"
      },
      {
        "duration": 68,
        "start_time": "2022-07-04T15:43:25.199Z"
      },
      {
        "duration": 197,
        "start_time": "2022-07-04T15:43:25.269Z"
      },
      {
        "duration": 3,
        "start_time": "2022-07-04T15:43:40.865Z"
      },
      {
        "duration": 8,
        "start_time": "2022-07-04T15:43:50.135Z"
      },
      {
        "duration": 15,
        "start_time": "2022-07-04T15:43:50.975Z"
      },
      {
        "duration": 6,
        "start_time": "2022-07-04T15:43:53.158Z"
      },
      {
        "duration": 38,
        "start_time": "2022-07-04T15:43:54.065Z"
      },
      {
        "duration": 484,
        "start_time": "2022-07-04T15:43:55.838Z"
      },
      {
        "duration": 9,
        "start_time": "2022-07-04T15:43:59.324Z"
      },
      {
        "duration": 34,
        "start_time": "2022-07-04T15:43:59.766Z"
      },
      {
        "duration": 160,
        "start_time": "2022-07-04T15:44:01.515Z"
      },
      {
        "duration": 41,
        "start_time": "2022-07-04T15:45:38.347Z"
      },
      {
        "duration": 1058,
        "start_time": "2022-07-06T04:36:01.723Z"
      },
      {
        "duration": 109,
        "start_time": "2022-07-06T04:36:04.079Z"
      },
      {
        "duration": 11,
        "start_time": "2022-07-06T04:36:07.570Z"
      },
      {
        "duration": 11,
        "start_time": "2022-07-06T04:36:09.188Z"
      },
      {
        "duration": 5,
        "start_time": "2022-07-06T04:36:11.434Z"
      },
      {
        "duration": 14,
        "start_time": "2022-07-06T04:36:13.587Z"
      },
      {
        "duration": 22,
        "start_time": "2022-07-06T04:36:16.961Z"
      },
      {
        "duration": 110,
        "start_time": "2022-07-06T04:36:18.465Z"
      },
      {
        "duration": 41,
        "start_time": "2022-07-06T04:36:20.516Z"
      },
      {
        "duration": 39,
        "start_time": "2022-07-06T04:36:43.689Z"
      },
      {
        "duration": 691,
        "start_time": "2022-07-06T04:38:06.399Z"
      },
      {
        "duration": 22,
        "start_time": "2022-07-06T04:41:58.189Z"
      },
      {
        "duration": 42,
        "start_time": "2022-07-06T04:43:58.386Z"
      },
      {
        "duration": 48,
        "start_time": "2022-07-06T04:44:14.172Z"
      },
      {
        "duration": 32,
        "start_time": "2022-07-06T04:45:52.083Z"
      },
      {
        "duration": 10,
        "start_time": "2022-07-06T04:46:40.159Z"
      },
      {
        "duration": 87,
        "start_time": "2022-07-06T04:47:56.605Z"
      },
      {
        "duration": 18,
        "start_time": "2022-07-06T04:51:42.267Z"
      },
      {
        "duration": 13,
        "start_time": "2022-07-06T04:51:52.005Z"
      },
      {
        "duration": 15,
        "start_time": "2022-07-06T04:52:01.781Z"
      },
      {
        "duration": 13,
        "start_time": "2022-07-06T04:52:09.268Z"
      },
      {
        "duration": 45,
        "start_time": "2022-07-06T04:55:47.181Z"
      },
      {
        "duration": 45,
        "start_time": "2022-07-06T04:56:36.364Z"
      },
      {
        "duration": 21,
        "start_time": "2022-07-06T04:56:50.388Z"
      },
      {
        "duration": 26,
        "start_time": "2022-07-06T04:57:18.261Z"
      },
      {
        "duration": 33,
        "start_time": "2022-07-06T04:59:24.832Z"
      },
      {
        "duration": 61,
        "start_time": "2022-07-06T05:00:04.723Z"
      },
      {
        "duration": 38,
        "start_time": "2022-07-06T05:02:25.986Z"
      },
      {
        "duration": 157,
        "start_time": "2022-07-06T05:03:00.074Z"
      },
      {
        "duration": 174,
        "start_time": "2022-07-06T05:03:28.581Z"
      },
      {
        "duration": 47,
        "start_time": "2022-07-06T05:03:50.702Z"
      },
      {
        "duration": 159,
        "start_time": "2022-07-06T05:03:53.907Z"
      },
      {
        "duration": 6,
        "start_time": "2022-07-06T05:04:57.269Z"
      },
      {
        "duration": 77,
        "start_time": "2022-07-06T05:06:59.542Z"
      },
      {
        "duration": 64,
        "start_time": "2022-07-06T05:07:11.391Z"
      },
      {
        "duration": 88,
        "start_time": "2022-07-06T05:07:30.080Z"
      },
      {
        "duration": 221,
        "start_time": "2022-07-06T05:07:32.299Z"
      },
      {
        "duration": 680,
        "start_time": "2022-07-06T05:14:37.737Z"
      },
      {
        "duration": 6035,
        "start_time": "2022-07-06T05:15:10.100Z"
      },
      {
        "duration": 5,
        "start_time": "2022-07-06T05:23:46.494Z"
      },
      {
        "duration": 41,
        "start_time": "2022-07-06T05:23:59.726Z"
      },
      {
        "duration": 26,
        "start_time": "2022-07-06T05:24:52.894Z"
      },
      {
        "duration": 11,
        "start_time": "2022-07-06T05:25:06.284Z"
      },
      {
        "duration": 24,
        "start_time": "2022-07-06T05:25:16.574Z"
      },
      {
        "duration": 27,
        "start_time": "2022-07-06T05:28:40.310Z"
      },
      {
        "duration": 1090,
        "start_time": "2022-07-06T05:28:57.475Z"
      },
      {
        "duration": 69,
        "start_time": "2022-07-06T05:28:58.570Z"
      },
      {
        "duration": 15,
        "start_time": "2022-07-06T05:28:58.641Z"
      },
      {
        "duration": 39,
        "start_time": "2022-07-06T05:28:58.664Z"
      },
      {
        "duration": 6,
        "start_time": "2022-07-06T05:28:58.705Z"
      },
      {
        "duration": 11,
        "start_time": "2022-07-06T05:28:58.713Z"
      },
      {
        "duration": 6,
        "start_time": "2022-07-06T05:28:58.726Z"
      },
      {
        "duration": 10,
        "start_time": "2022-07-06T05:28:58.733Z"
      },
      {
        "duration": 90,
        "start_time": "2022-07-06T05:28:58.750Z"
      },
      {
        "duration": 435,
        "start_time": "2022-07-06T05:28:58.842Z"
      },
      {
        "duration": 536,
        "start_time": "2022-07-06T05:28:59.280Z"
      },
      {
        "duration": 4149,
        "start_time": "2022-07-06T05:28:59.817Z"
      },
      {
        "duration": 7,
        "start_time": "2022-07-06T05:29:03.968Z"
      },
      {
        "duration": 63,
        "start_time": "2022-07-06T05:29:03.977Z"
      },
      {
        "duration": 181,
        "start_time": "2022-07-06T05:29:04.041Z"
      },
      {
        "duration": 25,
        "start_time": "2022-07-06T05:29:04.224Z"
      },
      {
        "duration": 140,
        "start_time": "2022-07-06T05:29:25.727Z"
      },
      {
        "duration": 18,
        "start_time": "2022-07-06T05:29:52.209Z"
      },
      {
        "duration": 216,
        "start_time": "2022-07-06T05:31:59.659Z"
      },
      {
        "duration": 202,
        "start_time": "2022-07-06T05:32:35.364Z"
      },
      {
        "duration": 1544,
        "start_time": "2022-07-06T22:58:27.141Z"
      },
      {
        "duration": 94,
        "start_time": "2022-07-06T22:58:28.687Z"
      },
      {
        "duration": 5,
        "start_time": "2022-07-06T22:58:28.783Z"
      },
      {
        "duration": 15,
        "start_time": "2022-07-06T22:58:28.790Z"
      },
      {
        "duration": 6,
        "start_time": "2022-07-06T22:58:28.806Z"
      },
      {
        "duration": 19,
        "start_time": "2022-07-06T22:58:28.813Z"
      },
      {
        "duration": 9,
        "start_time": "2022-07-06T22:58:28.833Z"
      },
      {
        "duration": 6,
        "start_time": "2022-07-06T22:58:28.843Z"
      },
      {
        "duration": 259,
        "start_time": "2022-07-06T22:58:28.850Z"
      },
      {
        "duration": 384,
        "start_time": "2022-07-06T22:58:29.111Z"
      },
      {
        "duration": 509,
        "start_time": "2022-07-06T22:58:29.496Z"
      },
      {
        "duration": 3774,
        "start_time": "2022-07-06T22:58:30.007Z"
      },
      {
        "duration": 2,
        "start_time": "2022-07-06T22:58:33.783Z"
      },
      {
        "duration": 44,
        "start_time": "2022-07-06T22:58:33.787Z"
      },
      {
        "duration": 171,
        "start_time": "2022-07-06T22:58:33.832Z"
      },
      {
        "duration": 13,
        "start_time": "2022-07-06T22:58:34.005Z"
      },
      {
        "duration": 203,
        "start_time": "2022-07-06T22:58:34.019Z"
      },
      {
        "duration": 146,
        "start_time": "2022-07-06T23:01:00.128Z"
      }
    ],
    "kernelspec": {
      "display_name": "Python 3 (ipykernel)",
      "language": "python",
      "name": "python3"
    },
    "language_info": {
      "codemirror_mode": {
        "name": "ipython",
        "version": 3
      },
      "file_extension": ".py",
      "mimetype": "text/x-python",
      "name": "python",
      "nbconvert_exporter": "python",
      "pygments_lexer": "ipython3",
      "version": "3.9.5"
    },
    "toc": {
      "base_numbering": 1,
      "nav_menu": {},
      "number_sections": true,
      "sideBar": true,
      "skip_h1_title": true,
      "title_cell": "Table of Contents",
      "title_sidebar": "Contents",
      "toc_cell": false,
      "toc_position": {},
      "toc_section_display": true,
      "toc_window_display": false
    },
    "colab": {
      "provenance": [],
      "include_colab_link": true
    }
  },
  "nbformat": 4,
  "nbformat_minor": 0
}