{
  "cells": [
    {
      "cell_type": "markdown",
      "metadata": {
        "id": "view-in-github",
        "colab_type": "text"
      },
      "source": [
        "<a href=\"https://colab.research.google.com/github/serikkk84/practicum/blob/main/final%20_project/%D0%BE%D1%82%D1%82%D0%BE%D0%BA%20%D0%BA%D0%BB%D0%B8%D0%B5%D0%BD%D1%82%D0%BE%D0%B2%20%D0%BE%D0%BF%D0%B5%D1%80%D0%B0%D1%82%D0%BE%D1%80%D0%B0%20%D1%81%D0%B2%D1%8F%D0%B7%D0%B8.ipynb\" target=\"_parent\"><img src=\"https://colab.research.google.com/assets/colab-badge.svg\" alt=\"Open In Colab\"/></a>"
      ]
    },
    {
      "cell_type": "markdown",
      "id": "f7d3166c",
      "metadata": {
        "id": "f7d3166c"
      },
      "source": [
        "# Отток клиентов"
      ]
    },
    {
      "cell_type": "markdown",
      "id": "e388f8e1",
      "metadata": {
        "id": "e388f8e1"
      },
      "source": [
        "Итак, нам поставлена задача обучить модель, прогнозирующую отток клиентов оператора связи «Ниединогоразрыва.ком», с целью сохранения лояльности таких клиентов путем предоставления им специальных промокодов и условий. Для решения задачи компания предоставила данные по клиентам по состоянию на 1 февраля 2020 года. Необходимым условием при обучении модели является получение метрики AUC-ROC не менее 0,75. "
      ]
    },
    {
      "cell_type": "markdown",
      "id": "56898c06",
      "metadata": {
        "id": "56898c06"
      },
      "source": [
        "Поставленная задача понятна. Для решения разделим ее на три этапа:\n",
        "\n",
        "1. Загрузка и первичный анализ данных. Построение плана исследования.\n",
        "2. Обучение не менее 3 различных моделей и поиск наилучших гиперпараметров.\n",
        "3. В случае получения необходимой метрики, составление отчета о проделанной работе для передачи его в компанию."
      ]
    },
    {
      "cell_type": "markdown",
      "id": "b3ef9612",
      "metadata": {
        "id": "b3ef9612"
      },
      "source": [
        "## Этап загрузки и первичного анализа"
      ]
    },
    {
      "cell_type": "markdown",
      "id": "f67dfeb9",
      "metadata": {
        "id": "f67dfeb9"
      },
      "source": [
        "### Загрузка данных"
      ]
    },
    {
      "cell_type": "markdown",
      "id": "7f4ad98d",
      "metadata": {
        "id": "7f4ad98d"
      },
      "source": [
        "Первым делом загрузим необходимые библиотеки"
      ]
    },
    {
      "cell_type": "code",
      "execution_count": null,
      "id": "8826ae60",
      "metadata": {
        "id": "8826ae60",
        "outputId": "b3ead577-8b7a-4bc1-d2d6-3fc0a935c903"
      },
      "outputs": [
        {
          "name": "stdout",
          "output_type": "stream",
          "text": [
            "Collecting phik\n",
            "  Downloading phik-0.12.3-cp39-cp39-manylinux_2_17_x86_64.manylinux2014_x86_64.whl (679 kB)\n",
            "\u001b[K     |████████████████████████████████| 679 kB 1.2 MB/s eta 0:00:01\n",
            "\u001b[?25hRequirement already satisfied: numpy>=1.18.0 in /opt/conda/lib/python3.9/site-packages (from phik) (1.21.1)\n",
            "Requirement already satisfied: pandas>=0.25.1 in /opt/conda/lib/python3.9/site-packages (from phik) (1.2.4)\n",
            "Requirement already satisfied: scipy>=1.5.2 in /opt/conda/lib/python3.9/site-packages (from phik) (1.9.1)\n",
            "Requirement already satisfied: matplotlib>=2.2.3 in /opt/conda/lib/python3.9/site-packages (from phik) (3.3.4)\n",
            "Requirement already satisfied: joblib>=0.14.1 in /opt/conda/lib/python3.9/site-packages (from phik) (1.1.0)\n",
            "Requirement already satisfied: kiwisolver>=1.0.1 in /opt/conda/lib/python3.9/site-packages (from matplotlib>=2.2.3->phik) (1.4.4)\n",
            "Requirement already satisfied: python-dateutil>=2.1 in /opt/conda/lib/python3.9/site-packages (from matplotlib>=2.2.3->phik) (2.8.1)\n",
            "Requirement already satisfied: cycler>=0.10 in /opt/conda/lib/python3.9/site-packages (from matplotlib>=2.2.3->phik) (0.11.0)\n",
            "Requirement already satisfied: pyparsing!=2.0.4,!=2.1.2,!=2.1.6,>=2.0.3 in /opt/conda/lib/python3.9/site-packages (from matplotlib>=2.2.3->phik) (2.4.7)\n",
            "Requirement already satisfied: pillow>=6.2.0 in /opt/conda/lib/python3.9/site-packages (from matplotlib>=2.2.3->phik) (8.4.0)\n",
            "Requirement already satisfied: pytz>=2017.3 in /opt/conda/lib/python3.9/site-packages (from pandas>=0.25.1->phik) (2021.1)\n",
            "Requirement already satisfied: six>=1.5 in /opt/conda/lib/python3.9/site-packages (from python-dateutil>=2.1->matplotlib>=2.2.3->phik) (1.16.0)\n",
            "Installing collected packages: phik\n",
            "Successfully installed phik-0.12.3\n"
          ]
        }
      ],
      "source": [
        "!pip install phik"
      ]
    },
    {
      "cell_type": "code",
      "execution_count": null,
      "id": "96eed728",
      "metadata": {
        "id": "96eed728"
      },
      "outputs": [],
      "source": [
        "# pip install shap\n"
      ]
    },
    {
      "cell_type": "code",
      "execution_count": null,
      "id": "078d85bf",
      "metadata": {
        "id": "078d85bf",
        "outputId": "a3c55751-4058-4f39-b90a-2d06db2fe39e"
      },
      "outputs": [
        {
          "name": "stdout",
          "output_type": "stream",
          "text": [
            "Requirement already satisfied: lightgbm in /opt/conda/lib/python3.9/site-packages (3.3.1)\r\n",
            "Requirement already satisfied: scipy in /opt/conda/lib/python3.9/site-packages (from lightgbm) (1.9.1)\r\n",
            "Requirement already satisfied: numpy in /opt/conda/lib/python3.9/site-packages (from lightgbm) (1.21.1)\r\n",
            "Requirement already satisfied: scikit-learn!=0.22.0 in /opt/conda/lib/python3.9/site-packages (from lightgbm) (0.24.1)\r\n",
            "Requirement already satisfied: wheel in /opt/conda/lib/python3.9/site-packages (from lightgbm) (0.36.2)\r\n",
            "Requirement already satisfied: joblib>=0.11 in /opt/conda/lib/python3.9/site-packages (from scikit-learn!=0.22.0->lightgbm) (1.1.0)\r\n",
            "Requirement already satisfied: threadpoolctl>=2.0.0 in /opt/conda/lib/python3.9/site-packages (from scikit-learn!=0.22.0->lightgbm) (3.1.0)\r\n"
          ]
        }
      ],
      "source": [
        "!pip install lightgbm"
      ]
    },
    {
      "cell_type": "code",
      "execution_count": null,
      "id": "da5de127",
      "metadata": {
        "id": "da5de127"
      },
      "outputs": [],
      "source": [
        "import pandas as pd\n",
        "import seaborn as sns\n",
        "\n",
        "import warnings\n",
        "warnings.simplefilter(action='ignore', category=FutureWarning)\n",
        "\n",
        "import matplotlib.pyplot as plt\n",
        "\n",
        "import phik\n",
        "from phik.report import plot_correlation_matrix\n",
        "from phik import report\n",
        "\n",
        "from sklearn.model_selection import train_test_split\n",
        "\n",
        "from sklearn.model_selection import GridSearchCV\n",
        "from catboost import CatBoostClassifier\n",
        "from sklearn.tree import DecisionTreeClassifier\n",
        "from sklearn.linear_model import LogisticRegression \n",
        "from sklearn.metrics import roc_auc_score\n",
        "import numpy as np\n",
        "from sklearn.utils import shuffle\n",
        "from lightgbm import LGBMClassifier\n",
        "\n",
        "from sklearn.preprocessing import (\n",
        "    OneHotEncoder,\n",
        "    OrdinalEncoder,\n",
        "    StandardScaler\n",
        ")\n",
        "\n",
        "from sklearn.metrics import confusion_matrix\n",
        "from sklearn.metrics import roc_curve, auc\n"
      ]
    },
    {
      "cell_type": "markdown",
      "id": "21b0f051",
      "metadata": {
        "id": "21b0f051"
      },
      "source": [
        "Список загрузок будет пополняться по ходу исследования"
      ]
    },
    {
      "cell_type": "markdown",
      "id": "3f254628",
      "metadata": {
        "id": "3f254628"
      },
      "source": [
        "#### Загрузим первый фаил."
      ]
    },
    {
      "cell_type": "code",
      "execution_count": null,
      "id": "2a74c838",
      "metadata": {
        "scrolled": true,
        "id": "2a74c838",
        "outputId": "1b704be8-8e98-4295-fb15-fbfa05815c72"
      },
      "outputs": [
        {
          "data": {
            "text/html": [
              "<div>\n",
              "<style scoped>\n",
              "    .dataframe tbody tr th:only-of-type {\n",
              "        vertical-align: middle;\n",
              "    }\n",
              "\n",
              "    .dataframe tbody tr th {\n",
              "        vertical-align: top;\n",
              "    }\n",
              "\n",
              "    .dataframe thead th {\n",
              "        text-align: right;\n",
              "    }\n",
              "</style>\n",
              "<table border=\"1\" class=\"dataframe\">\n",
              "  <thead>\n",
              "    <tr style=\"text-align: right;\">\n",
              "      <th></th>\n",
              "      <th>customerID</th>\n",
              "      <th>BeginDate</th>\n",
              "      <th>EndDate</th>\n",
              "      <th>Type</th>\n",
              "      <th>PaperlessBilling</th>\n",
              "      <th>PaymentMethod</th>\n",
              "      <th>MonthlyCharges</th>\n",
              "      <th>TotalCharges</th>\n",
              "    </tr>\n",
              "  </thead>\n",
              "  <tbody>\n",
              "    <tr>\n",
              "      <th>0</th>\n",
              "      <td>7590-VHVEG</td>\n",
              "      <td>2020-01-01</td>\n",
              "      <td>No</td>\n",
              "      <td>Month-to-month</td>\n",
              "      <td>Yes</td>\n",
              "      <td>Electronic check</td>\n",
              "      <td>29.85</td>\n",
              "      <td>29.85</td>\n",
              "    </tr>\n",
              "    <tr>\n",
              "      <th>1</th>\n",
              "      <td>5575-GNVDE</td>\n",
              "      <td>2017-04-01</td>\n",
              "      <td>No</td>\n",
              "      <td>One year</td>\n",
              "      <td>No</td>\n",
              "      <td>Mailed check</td>\n",
              "      <td>56.95</td>\n",
              "      <td>1889.5</td>\n",
              "    </tr>\n",
              "    <tr>\n",
              "      <th>2</th>\n",
              "      <td>3668-QPYBK</td>\n",
              "      <td>2019-10-01</td>\n",
              "      <td>2019-12-01 00:00:00</td>\n",
              "      <td>Month-to-month</td>\n",
              "      <td>Yes</td>\n",
              "      <td>Mailed check</td>\n",
              "      <td>53.85</td>\n",
              "      <td>108.15</td>\n",
              "    </tr>\n",
              "    <tr>\n",
              "      <th>3</th>\n",
              "      <td>7795-CFOCW</td>\n",
              "      <td>2016-05-01</td>\n",
              "      <td>No</td>\n",
              "      <td>One year</td>\n",
              "      <td>No</td>\n",
              "      <td>Bank transfer (automatic)</td>\n",
              "      <td>42.30</td>\n",
              "      <td>1840.75</td>\n",
              "    </tr>\n",
              "    <tr>\n",
              "      <th>4</th>\n",
              "      <td>9237-HQITU</td>\n",
              "      <td>2019-09-01</td>\n",
              "      <td>2019-11-01 00:00:00</td>\n",
              "      <td>Month-to-month</td>\n",
              "      <td>Yes</td>\n",
              "      <td>Electronic check</td>\n",
              "      <td>70.70</td>\n",
              "      <td>151.65</td>\n",
              "    </tr>\n",
              "    <tr>\n",
              "      <th>...</th>\n",
              "      <td>...</td>\n",
              "      <td>...</td>\n",
              "      <td>...</td>\n",
              "      <td>...</td>\n",
              "      <td>...</td>\n",
              "      <td>...</td>\n",
              "      <td>...</td>\n",
              "      <td>...</td>\n",
              "    </tr>\n",
              "    <tr>\n",
              "      <th>7038</th>\n",
              "      <td>6840-RESVB</td>\n",
              "      <td>2018-02-01</td>\n",
              "      <td>No</td>\n",
              "      <td>One year</td>\n",
              "      <td>Yes</td>\n",
              "      <td>Mailed check</td>\n",
              "      <td>84.80</td>\n",
              "      <td>1990.5</td>\n",
              "    </tr>\n",
              "    <tr>\n",
              "      <th>7039</th>\n",
              "      <td>2234-XADUH</td>\n",
              "      <td>2014-02-01</td>\n",
              "      <td>No</td>\n",
              "      <td>One year</td>\n",
              "      <td>Yes</td>\n",
              "      <td>Credit card (automatic)</td>\n",
              "      <td>103.20</td>\n",
              "      <td>7362.9</td>\n",
              "    </tr>\n",
              "    <tr>\n",
              "      <th>7040</th>\n",
              "      <td>4801-JZAZL</td>\n",
              "      <td>2019-03-01</td>\n",
              "      <td>No</td>\n",
              "      <td>Month-to-month</td>\n",
              "      <td>Yes</td>\n",
              "      <td>Electronic check</td>\n",
              "      <td>29.60</td>\n",
              "      <td>346.45</td>\n",
              "    </tr>\n",
              "    <tr>\n",
              "      <th>7041</th>\n",
              "      <td>8361-LTMKD</td>\n",
              "      <td>2019-07-01</td>\n",
              "      <td>2019-11-01 00:00:00</td>\n",
              "      <td>Month-to-month</td>\n",
              "      <td>Yes</td>\n",
              "      <td>Mailed check</td>\n",
              "      <td>74.40</td>\n",
              "      <td>306.6</td>\n",
              "    </tr>\n",
              "    <tr>\n",
              "      <th>7042</th>\n",
              "      <td>3186-AJIEK</td>\n",
              "      <td>2014-08-01</td>\n",
              "      <td>No</td>\n",
              "      <td>Two year</td>\n",
              "      <td>Yes</td>\n",
              "      <td>Bank transfer (automatic)</td>\n",
              "      <td>105.65</td>\n",
              "      <td>6844.5</td>\n",
              "    </tr>\n",
              "  </tbody>\n",
              "</table>\n",
              "<p>7043 rows × 8 columns</p>\n",
              "</div>"
            ],
            "text/plain": [
              "      customerID   BeginDate              EndDate            Type  \\\n",
              "0     7590-VHVEG  2020-01-01                   No  Month-to-month   \n",
              "1     5575-GNVDE  2017-04-01                   No        One year   \n",
              "2     3668-QPYBK  2019-10-01  2019-12-01 00:00:00  Month-to-month   \n",
              "3     7795-CFOCW  2016-05-01                   No        One year   \n",
              "4     9237-HQITU  2019-09-01  2019-11-01 00:00:00  Month-to-month   \n",
              "...          ...         ...                  ...             ...   \n",
              "7038  6840-RESVB  2018-02-01                   No        One year   \n",
              "7039  2234-XADUH  2014-02-01                   No        One year   \n",
              "7040  4801-JZAZL  2019-03-01                   No  Month-to-month   \n",
              "7041  8361-LTMKD  2019-07-01  2019-11-01 00:00:00  Month-to-month   \n",
              "7042  3186-AJIEK  2014-08-01                   No        Two year   \n",
              "\n",
              "     PaperlessBilling              PaymentMethod  MonthlyCharges TotalCharges  \n",
              "0                 Yes           Electronic check           29.85        29.85  \n",
              "1                  No               Mailed check           56.95       1889.5  \n",
              "2                 Yes               Mailed check           53.85       108.15  \n",
              "3                  No  Bank transfer (automatic)           42.30      1840.75  \n",
              "4                 Yes           Electronic check           70.70       151.65  \n",
              "...               ...                        ...             ...          ...  \n",
              "7038              Yes               Mailed check           84.80       1990.5  \n",
              "7039              Yes    Credit card (automatic)          103.20       7362.9  \n",
              "7040              Yes           Electronic check           29.60       346.45  \n",
              "7041              Yes               Mailed check           74.40        306.6  \n",
              "7042              Yes  Bank transfer (automatic)          105.65       6844.5  \n",
              "\n",
              "[7043 rows x 8 columns]"
            ]
          },
          "execution_count": 5,
          "metadata": {},
          "output_type": "execute_result"
        }
      ],
      "source": [
        "try:\n",
        "    contract = pd.read_csv('/datasets/final_provider/contract.csv')\n",
        "except:\n",
        "    contract = pd.read_csv('contract.csv')\n",
        "contract"
      ]
    },
    {
      "cell_type": "code",
      "execution_count": null,
      "id": "3756292d",
      "metadata": {
        "scrolled": false,
        "id": "3756292d",
        "outputId": "c9396f24-5052-445a-9984-cfec53128a8b"
      },
      "outputs": [
        {
          "name": "stdout",
          "output_type": "stream",
          "text": [
            "<class 'pandas.core.frame.DataFrame'>\n",
            "RangeIndex: 7043 entries, 0 to 7042\n",
            "Data columns (total 8 columns):\n",
            " #   Column            Non-Null Count  Dtype  \n",
            "---  ------            --------------  -----  \n",
            " 0   customerID        7043 non-null   object \n",
            " 1   BeginDate         7043 non-null   object \n",
            " 2   EndDate           7043 non-null   object \n",
            " 3   Type              7043 non-null   object \n",
            " 4   PaperlessBilling  7043 non-null   object \n",
            " 5   PaymentMethod     7043 non-null   object \n",
            " 6   MonthlyCharges    7043 non-null   float64\n",
            " 7   TotalCharges      7043 non-null   object \n",
            "dtypes: float64(1), object(7)\n",
            "memory usage: 440.3+ KB\n"
          ]
        }
      ],
      "source": [
        "contract.info()"
      ]
    },
    {
      "cell_type": "markdown",
      "id": "390a0553",
      "metadata": {
        "id": "390a0553"
      },
      "source": [
        "В первом же файле мы получили целевой признак в колонке 'EndDate'. Тип данных object, следовательно будем обрабатывать данные целевого признака. Так же, думаю, надо будет поменять тип данных для столбцов 'BeginDate' и 'TotalCharges'."
      ]
    },
    {
      "cell_type": "markdown",
      "id": "7bb4775e",
      "metadata": {
        "id": "7bb4775e"
      },
      "source": [
        "Другие колонци содержат категоральные данные, их так же для некоторых моделей будем кодировать."
      ]
    },
    {
      "cell_type": "markdown",
      "id": "782881ee",
      "metadata": {
        "id": "782881ee"
      },
      "source": [
        "Посмотрим на дисбаланс классов по целевому признаку"
      ]
    },
    {
      "cell_type": "code",
      "execution_count": null,
      "id": "997d77a6",
      "metadata": {
        "id": "997d77a6",
        "outputId": "799035b8-73d8-4d5d-ccd8-aa3e200eb269"
      },
      "outputs": [
        {
          "data": {
            "text/plain": [
              "customerID          5174\n",
              "BeginDate           5174\n",
              "EndDate             5174\n",
              "Type                5174\n",
              "PaperlessBilling    5174\n",
              "PaymentMethod       5174\n",
              "MonthlyCharges      5174\n",
              "TotalCharges        5174\n",
              "dtype: int64"
            ]
          },
          "execution_count": 7,
          "metadata": {},
          "output_type": "execute_result"
        }
      ],
      "source": [
        "contract.query('EndDate == \"No\"').count()"
      ]
    },
    {
      "cell_type": "markdown",
      "id": "8e51f033",
      "metadata": {
        "id": "8e51f033"
      },
      "source": [
        "Действительно дисбаланс имеется, а именно количество клиентов прекративших взаимоотношения с компанией составляет чуть менне трети от числа оставшихся лояльными. Держим дисбаланс на заметке, возможно, придется апсемплить базу."
      ]
    },
    {
      "cell_type": "markdown",
      "id": "5af16dfa",
      "metadata": {
        "id": "5af16dfa"
      },
      "source": [
        "Ну и на всякий случай посмотрим уникальные значения в столбцах с категоральными данными"
      ]
    },
    {
      "cell_type": "code",
      "execution_count": null,
      "id": "1a1e391f",
      "metadata": {
        "id": "1a1e391f",
        "outputId": "9cc23123-d67c-4b6f-da22-9617122d414e"
      },
      "outputs": [
        {
          "data": {
            "text/plain": [
              "array(['Month-to-month', 'One year', 'Two year'], dtype=object)"
            ]
          },
          "execution_count": 8,
          "metadata": {},
          "output_type": "execute_result"
        }
      ],
      "source": [
        "contract['Type'].unique()"
      ]
    },
    {
      "cell_type": "code",
      "execution_count": null,
      "id": "d5bb40f0",
      "metadata": {
        "id": "d5bb40f0",
        "outputId": "8051d2bd-e1d4-4a7e-b1a0-eba80a133a13"
      },
      "outputs": [
        {
          "data": {
            "text/plain": [
              "array(['Yes', 'No'], dtype=object)"
            ]
          },
          "execution_count": 9,
          "metadata": {},
          "output_type": "execute_result"
        }
      ],
      "source": [
        "contract['PaperlessBilling'].unique()"
      ]
    },
    {
      "cell_type": "code",
      "execution_count": null,
      "id": "5f2dced8",
      "metadata": {
        "id": "5f2dced8",
        "outputId": "343aa11b-d5b7-44f1-b922-c0087c1b6778"
      },
      "outputs": [
        {
          "data": {
            "text/plain": [
              "array(['Electronic check', 'Mailed check', 'Bank transfer (automatic)',\n",
              "       'Credit card (automatic)'], dtype=object)"
            ]
          },
          "execution_count": 10,
          "metadata": {},
          "output_type": "execute_result"
        }
      ],
      "source": [
        "contract['PaymentMethod'].unique()"
      ]
    },
    {
      "cell_type": "markdown",
      "id": "bd8ba406",
      "metadata": {
        "id": "bd8ba406"
      },
      "source": [
        "Данные не содержат вбросов и аномалий, готовы к кодировке и обучению"
      ]
    },
    {
      "cell_type": "markdown",
      "id": "22d9df4c",
      "metadata": {
        "id": "22d9df4c"
      },
      "source": [
        "#### Второй фаил"
      ]
    },
    {
      "cell_type": "code",
      "execution_count": null,
      "id": "17c45a65",
      "metadata": {
        "id": "17c45a65",
        "outputId": "cef0a171-b8c9-440b-d63a-6aaae5c709b1"
      },
      "outputs": [
        {
          "data": {
            "text/html": [
              "<div>\n",
              "<style scoped>\n",
              "    .dataframe tbody tr th:only-of-type {\n",
              "        vertical-align: middle;\n",
              "    }\n",
              "\n",
              "    .dataframe tbody tr th {\n",
              "        vertical-align: top;\n",
              "    }\n",
              "\n",
              "    .dataframe thead th {\n",
              "        text-align: right;\n",
              "    }\n",
              "</style>\n",
              "<table border=\"1\" class=\"dataframe\">\n",
              "  <thead>\n",
              "    <tr style=\"text-align: right;\">\n",
              "      <th></th>\n",
              "      <th>customerID</th>\n",
              "      <th>gender</th>\n",
              "      <th>SeniorCitizen</th>\n",
              "      <th>Partner</th>\n",
              "      <th>Dependents</th>\n",
              "    </tr>\n",
              "  </thead>\n",
              "  <tbody>\n",
              "    <tr>\n",
              "      <th>0</th>\n",
              "      <td>7590-VHVEG</td>\n",
              "      <td>Female</td>\n",
              "      <td>0</td>\n",
              "      <td>Yes</td>\n",
              "      <td>No</td>\n",
              "    </tr>\n",
              "    <tr>\n",
              "      <th>1</th>\n",
              "      <td>5575-GNVDE</td>\n",
              "      <td>Male</td>\n",
              "      <td>0</td>\n",
              "      <td>No</td>\n",
              "      <td>No</td>\n",
              "    </tr>\n",
              "    <tr>\n",
              "      <th>2</th>\n",
              "      <td>3668-QPYBK</td>\n",
              "      <td>Male</td>\n",
              "      <td>0</td>\n",
              "      <td>No</td>\n",
              "      <td>No</td>\n",
              "    </tr>\n",
              "    <tr>\n",
              "      <th>3</th>\n",
              "      <td>7795-CFOCW</td>\n",
              "      <td>Male</td>\n",
              "      <td>0</td>\n",
              "      <td>No</td>\n",
              "      <td>No</td>\n",
              "    </tr>\n",
              "    <tr>\n",
              "      <th>4</th>\n",
              "      <td>9237-HQITU</td>\n",
              "      <td>Female</td>\n",
              "      <td>0</td>\n",
              "      <td>No</td>\n",
              "      <td>No</td>\n",
              "    </tr>\n",
              "    <tr>\n",
              "      <th>...</th>\n",
              "      <td>...</td>\n",
              "      <td>...</td>\n",
              "      <td>...</td>\n",
              "      <td>...</td>\n",
              "      <td>...</td>\n",
              "    </tr>\n",
              "    <tr>\n",
              "      <th>7038</th>\n",
              "      <td>6840-RESVB</td>\n",
              "      <td>Male</td>\n",
              "      <td>0</td>\n",
              "      <td>Yes</td>\n",
              "      <td>Yes</td>\n",
              "    </tr>\n",
              "    <tr>\n",
              "      <th>7039</th>\n",
              "      <td>2234-XADUH</td>\n",
              "      <td>Female</td>\n",
              "      <td>0</td>\n",
              "      <td>Yes</td>\n",
              "      <td>Yes</td>\n",
              "    </tr>\n",
              "    <tr>\n",
              "      <th>7040</th>\n",
              "      <td>4801-JZAZL</td>\n",
              "      <td>Female</td>\n",
              "      <td>0</td>\n",
              "      <td>Yes</td>\n",
              "      <td>Yes</td>\n",
              "    </tr>\n",
              "    <tr>\n",
              "      <th>7041</th>\n",
              "      <td>8361-LTMKD</td>\n",
              "      <td>Male</td>\n",
              "      <td>1</td>\n",
              "      <td>Yes</td>\n",
              "      <td>No</td>\n",
              "    </tr>\n",
              "    <tr>\n",
              "      <th>7042</th>\n",
              "      <td>3186-AJIEK</td>\n",
              "      <td>Male</td>\n",
              "      <td>0</td>\n",
              "      <td>No</td>\n",
              "      <td>No</td>\n",
              "    </tr>\n",
              "  </tbody>\n",
              "</table>\n",
              "<p>7043 rows × 5 columns</p>\n",
              "</div>"
            ],
            "text/plain": [
              "      customerID  gender  SeniorCitizen Partner Dependents\n",
              "0     7590-VHVEG  Female              0     Yes         No\n",
              "1     5575-GNVDE    Male              0      No         No\n",
              "2     3668-QPYBK    Male              0      No         No\n",
              "3     7795-CFOCW    Male              0      No         No\n",
              "4     9237-HQITU  Female              0      No         No\n",
              "...          ...     ...            ...     ...        ...\n",
              "7038  6840-RESVB    Male              0     Yes        Yes\n",
              "7039  2234-XADUH  Female              0     Yes        Yes\n",
              "7040  4801-JZAZL  Female              0     Yes        Yes\n",
              "7041  8361-LTMKD    Male              1     Yes         No\n",
              "7042  3186-AJIEK    Male              0      No         No\n",
              "\n",
              "[7043 rows x 5 columns]"
            ]
          },
          "execution_count": 11,
          "metadata": {},
          "output_type": "execute_result"
        }
      ],
      "source": [
        "try:\n",
        "    personal = pd.read_csv('/datasets/final_provider/personal.csv')\n",
        "except:\n",
        "    personal = pd.read_csv('personal.csv')\n",
        "personal"
      ]
    },
    {
      "cell_type": "code",
      "execution_count": null,
      "id": "a09dadf0",
      "metadata": {
        "scrolled": true,
        "id": "a09dadf0",
        "outputId": "f59d8bdc-d7db-4d99-b287-12a94c68353a"
      },
      "outputs": [
        {
          "name": "stdout",
          "output_type": "stream",
          "text": [
            "<class 'pandas.core.frame.DataFrame'>\n",
            "RangeIndex: 7043 entries, 0 to 7042\n",
            "Data columns (total 5 columns):\n",
            " #   Column         Non-Null Count  Dtype \n",
            "---  ------         --------------  ----- \n",
            " 0   customerID     7043 non-null   object\n",
            " 1   gender         7043 non-null   object\n",
            " 2   SeniorCitizen  7043 non-null   int64 \n",
            " 3   Partner        7043 non-null   object\n",
            " 4   Dependents     7043 non-null   object\n",
            "dtypes: int64(1), object(4)\n",
            "memory usage: 275.2+ KB\n"
          ]
        }
      ],
      "source": [
        "personal.info()"
      ]
    },
    {
      "cell_type": "markdown",
      "id": "251a03da",
      "metadata": {
        "id": "251a03da"
      },
      "source": [
        "Здесь мы видим данные по каждому клиенту. Количество строк совпадает с первым файлом, что логично, а также обе базы имеют общую колонку 'customerID' что позволит нам объединить данные.\n",
        "\n",
        "Состав данных понятен. В основном категоральные. Будем кондировать."
      ]
    },
    {
      "cell_type": "markdown",
      "id": "b38a74b6",
      "metadata": {
        "id": "b38a74b6"
      },
      "source": [
        "На всякий случай убедимся, что нет аномалий."
      ]
    },
    {
      "cell_type": "code",
      "execution_count": null,
      "id": "32131d34",
      "metadata": {
        "scrolled": true,
        "id": "32131d34",
        "outputId": "f1e1a20a-c78d-4827-8e45-6bf1fa2308db"
      },
      "outputs": [
        {
          "data": {
            "text/plain": [
              "array(['Female', 'Male'], dtype=object)"
            ]
          },
          "execution_count": 13,
          "metadata": {},
          "output_type": "execute_result"
        }
      ],
      "source": [
        "personal['gender'].unique()"
      ]
    },
    {
      "cell_type": "code",
      "execution_count": null,
      "id": "b14e2d38",
      "metadata": {
        "id": "b14e2d38",
        "outputId": "aff2d0dc-7a7f-4894-ad50-9d11c4b744fb"
      },
      "outputs": [
        {
          "data": {
            "text/plain": [
              "array([0, 1])"
            ]
          },
          "execution_count": 14,
          "metadata": {},
          "output_type": "execute_result"
        }
      ],
      "source": [
        "personal['SeniorCitizen'].unique()"
      ]
    },
    {
      "cell_type": "code",
      "execution_count": null,
      "id": "095dab5a",
      "metadata": {
        "id": "095dab5a",
        "outputId": "7f846b6d-7d66-4fa4-efb3-e99b27645b54"
      },
      "outputs": [
        {
          "data": {
            "text/plain": [
              "array(['Yes', 'No'], dtype=object)"
            ]
          },
          "execution_count": 15,
          "metadata": {},
          "output_type": "execute_result"
        }
      ],
      "source": [
        "personal['Partner'].unique()"
      ]
    },
    {
      "cell_type": "code",
      "execution_count": null,
      "id": "9fde23ae",
      "metadata": {
        "id": "9fde23ae",
        "outputId": "89c5dcdd-223b-449b-c4e5-2d3499d7b599"
      },
      "outputs": [
        {
          "data": {
            "text/plain": [
              "array(['No', 'Yes'], dtype=object)"
            ]
          },
          "execution_count": 16,
          "metadata": {},
          "output_type": "execute_result"
        }
      ],
      "source": [
        "personal['Dependents'].unique()"
      ]
    },
    {
      "cell_type": "markdown",
      "id": "cd4bcb88",
      "metadata": {
        "id": "cd4bcb88"
      },
      "source": [
        "Данные готовы к работе."
      ]
    },
    {
      "cell_type": "markdown",
      "id": "2d4243fd",
      "metadata": {
        "id": "2d4243fd"
      },
      "source": [
        "Посмотрим распределение клиентов по категориям. В этом нет пока никакой необходимости. Просто интересно"
      ]
    },
    {
      "cell_type": "code",
      "execution_count": null,
      "id": "08450639",
      "metadata": {
        "scrolled": false,
        "id": "08450639",
        "outputId": "7bd14c86-3f61-4719-f622-cbdca397b981"
      },
      "outputs": [
        {
          "data": {
            "text/plain": [
              "<AxesSubplot:xlabel='gender', ylabel='count'>"
            ]
          },
          "execution_count": 17,
          "metadata": {},
          "output_type": "execute_result"
        },
        {
          "data": {
            "image/png": "[encoded data removed]",
            "text/plain": [
              "<Figure size 432x288 with 1 Axes>"
            ]
          },
          "metadata": {
            "needs_background": "light"
          },
          "output_type": "display_data"
        }
      ],
      "source": [
        "sns.countplot(personal.gender)"
      ]
    },
    {
      "cell_type": "code",
      "execution_count": null,
      "id": "c7ccc128",
      "metadata": {
        "id": "c7ccc128",
        "outputId": "a6113f82-c594-4b27-8cfc-3411bcfcfad9"
      },
      "outputs": [
        {
          "data": {
            "text/plain": [
              "<AxesSubplot:xlabel='Partner', ylabel='count'>"
            ]
          },
          "execution_count": 18,
          "metadata": {},
          "output_type": "execute_result"
        },
        {
          "data": {
            "image/png": "[encoded data removed]",
            "text/plain": [
              "<Figure size 432x288 with 1 Axes>"
            ]
          },
          "metadata": {
            "needs_background": "light"
          },
          "output_type": "display_data"
        }
      ],
      "source": [
        "sns.countplot(personal.Partner)"
      ]
    },
    {
      "cell_type": "code",
      "execution_count": null,
      "id": "745ee756",
      "metadata": {
        "id": "745ee756",
        "outputId": "47f284d1-fb7e-4176-b38f-665f8850e6f0"
      },
      "outputs": [
        {
          "data": {
            "text/plain": [
              "<AxesSubplot:xlabel='Dependents', ylabel='count'>"
            ]
          },
          "execution_count": 19,
          "metadata": {},
          "output_type": "execute_result"
        },
        {
          "data": {
            "image/png": "[encoded data removed]",
            "text/plain": [
              "<Figure size 432x288 with 1 Axes>"
            ]
          },
          "metadata": {
            "needs_background": "light"
          },
          "output_type": "display_data"
        }
      ],
      "source": [
        "sns.countplot(personal.Dependents)"
      ]
    },
    {
      "cell_type": "code",
      "execution_count": null,
      "id": "ec3823e2",
      "metadata": {
        "scrolled": true,
        "id": "ec3823e2",
        "outputId": "2e68d124-b9ea-4964-f307-ba7e058f71e3"
      },
      "outputs": [
        {
          "data": {
            "text/plain": [
              "<AxesSubplot:xlabel='SeniorCitizen', ylabel='count'>"
            ]
          },
          "execution_count": 20,
          "metadata": {},
          "output_type": "execute_result"
        },
        {
          "data": {
            "image/png": "[encoded data removed]",
            "text/plain": [
              "<Figure size 432x288 with 1 Axes>"
            ]
          },
          "metadata": {
            "needs_background": "light"
          },
          "output_type": "display_data"
        }
      ],
      "source": [
        "sns.countplot(personal.SeniorCitizen)"
      ]
    },
    {
      "cell_type": "markdown",
      "id": "20b3c354",
      "metadata": {
        "id": "20b3c354"
      },
      "source": [
        "Мужчин и женщин среди клиентов компании примерно поровну, как и клиентов состоящих и несостоящих в отношениях с партнером. В то же время, пенсионеров примерно в пять раз меньше, чем работающих. Так же, среди клиентгов компании большую часть составляют те у кого нет иждевенцев. Соотношение примерно три к одному. "
      ]
    },
    {
      "cell_type": "markdown",
      "id": "83a5ebaa",
      "metadata": {
        "id": "83a5ebaa"
      },
      "source": [
        "#### Третий фаил"
      ]
    },
    {
      "cell_type": "code",
      "execution_count": null,
      "id": "1a6de625",
      "metadata": {
        "id": "1a6de625",
        "outputId": "6412f3f5-54d4-4d90-caf8-931d9e155550"
      },
      "outputs": [
        {
          "data": {
            "text/html": [
              "<div>\n",
              "<style scoped>\n",
              "    .dataframe tbody tr th:only-of-type {\n",
              "        vertical-align: middle;\n",
              "    }\n",
              "\n",
              "    .dataframe tbody tr th {\n",
              "        vertical-align: top;\n",
              "    }\n",
              "\n",
              "    .dataframe thead th {\n",
              "        text-align: right;\n",
              "    }\n",
              "</style>\n",
              "<table border=\"1\" class=\"dataframe\">\n",
              "  <thead>\n",
              "    <tr style=\"text-align: right;\">\n",
              "      <th></th>\n",
              "      <th>customerID</th>\n",
              "      <th>InternetService</th>\n",
              "      <th>OnlineSecurity</th>\n",
              "      <th>OnlineBackup</th>\n",
              "      <th>DeviceProtection</th>\n",
              "      <th>TechSupport</th>\n",
              "      <th>StreamingTV</th>\n",
              "      <th>StreamingMovies</th>\n",
              "    </tr>\n",
              "  </thead>\n",
              "  <tbody>\n",
              "    <tr>\n",
              "      <th>0</th>\n",
              "      <td>7590-VHVEG</td>\n",
              "      <td>DSL</td>\n",
              "      <td>No</td>\n",
              "      <td>Yes</td>\n",
              "      <td>No</td>\n",
              "      <td>No</td>\n",
              "      <td>No</td>\n",
              "      <td>No</td>\n",
              "    </tr>\n",
              "    <tr>\n",
              "      <th>1</th>\n",
              "      <td>5575-GNVDE</td>\n",
              "      <td>DSL</td>\n",
              "      <td>Yes</td>\n",
              "      <td>No</td>\n",
              "      <td>Yes</td>\n",
              "      <td>No</td>\n",
              "      <td>No</td>\n",
              "      <td>No</td>\n",
              "    </tr>\n",
              "    <tr>\n",
              "      <th>2</th>\n",
              "      <td>3668-QPYBK</td>\n",
              "      <td>DSL</td>\n",
              "      <td>Yes</td>\n",
              "      <td>Yes</td>\n",
              "      <td>No</td>\n",
              "      <td>No</td>\n",
              "      <td>No</td>\n",
              "      <td>No</td>\n",
              "    </tr>\n",
              "    <tr>\n",
              "      <th>3</th>\n",
              "      <td>7795-CFOCW</td>\n",
              "      <td>DSL</td>\n",
              "      <td>Yes</td>\n",
              "      <td>No</td>\n",
              "      <td>Yes</td>\n",
              "      <td>Yes</td>\n",
              "      <td>No</td>\n",
              "      <td>No</td>\n",
              "    </tr>\n",
              "    <tr>\n",
              "      <th>4</th>\n",
              "      <td>9237-HQITU</td>\n",
              "      <td>Fiber optic</td>\n",
              "      <td>No</td>\n",
              "      <td>No</td>\n",
              "      <td>No</td>\n",
              "      <td>No</td>\n",
              "      <td>No</td>\n",
              "      <td>No</td>\n",
              "    </tr>\n",
              "    <tr>\n",
              "      <th>...</th>\n",
              "      <td>...</td>\n",
              "      <td>...</td>\n",
              "      <td>...</td>\n",
              "      <td>...</td>\n",
              "      <td>...</td>\n",
              "      <td>...</td>\n",
              "      <td>...</td>\n",
              "      <td>...</td>\n",
              "    </tr>\n",
              "    <tr>\n",
              "      <th>5512</th>\n",
              "      <td>6840-RESVB</td>\n",
              "      <td>DSL</td>\n",
              "      <td>Yes</td>\n",
              "      <td>No</td>\n",
              "      <td>Yes</td>\n",
              "      <td>Yes</td>\n",
              "      <td>Yes</td>\n",
              "      <td>Yes</td>\n",
              "    </tr>\n",
              "    <tr>\n",
              "      <th>5513</th>\n",
              "      <td>2234-XADUH</td>\n",
              "      <td>Fiber optic</td>\n",
              "      <td>No</td>\n",
              "      <td>Yes</td>\n",
              "      <td>Yes</td>\n",
              "      <td>No</td>\n",
              "      <td>Yes</td>\n",
              "      <td>Yes</td>\n",
              "    </tr>\n",
              "    <tr>\n",
              "      <th>5514</th>\n",
              "      <td>4801-JZAZL</td>\n",
              "      <td>DSL</td>\n",
              "      <td>Yes</td>\n",
              "      <td>No</td>\n",
              "      <td>No</td>\n",
              "      <td>No</td>\n",
              "      <td>No</td>\n",
              "      <td>No</td>\n",
              "    </tr>\n",
              "    <tr>\n",
              "      <th>5515</th>\n",
              "      <td>8361-LTMKD</td>\n",
              "      <td>Fiber optic</td>\n",
              "      <td>No</td>\n",
              "      <td>No</td>\n",
              "      <td>No</td>\n",
              "      <td>No</td>\n",
              "      <td>No</td>\n",
              "      <td>No</td>\n",
              "    </tr>\n",
              "    <tr>\n",
              "      <th>5516</th>\n",
              "      <td>3186-AJIEK</td>\n",
              "      <td>Fiber optic</td>\n",
              "      <td>Yes</td>\n",
              "      <td>No</td>\n",
              "      <td>Yes</td>\n",
              "      <td>Yes</td>\n",
              "      <td>Yes</td>\n",
              "      <td>Yes</td>\n",
              "    </tr>\n",
              "  </tbody>\n",
              "</table>\n",
              "<p>5517 rows × 8 columns</p>\n",
              "</div>"
            ],
            "text/plain": [
              "      customerID InternetService OnlineSecurity OnlineBackup DeviceProtection  \\\n",
              "0     7590-VHVEG             DSL             No          Yes               No   \n",
              "1     5575-GNVDE             DSL            Yes           No              Yes   \n",
              "2     3668-QPYBK             DSL            Yes          Yes               No   \n",
              "3     7795-CFOCW             DSL            Yes           No              Yes   \n",
              "4     9237-HQITU     Fiber optic             No           No               No   \n",
              "...          ...             ...            ...          ...              ...   \n",
              "5512  6840-RESVB             DSL            Yes           No              Yes   \n",
              "5513  2234-XADUH     Fiber optic             No          Yes              Yes   \n",
              "5514  4801-JZAZL             DSL            Yes           No               No   \n",
              "5515  8361-LTMKD     Fiber optic             No           No               No   \n",
              "5516  3186-AJIEK     Fiber optic            Yes           No              Yes   \n",
              "\n",
              "     TechSupport StreamingTV StreamingMovies  \n",
              "0             No          No              No  \n",
              "1             No          No              No  \n",
              "2             No          No              No  \n",
              "3            Yes          No              No  \n",
              "4             No          No              No  \n",
              "...          ...         ...             ...  \n",
              "5512         Yes         Yes             Yes  \n",
              "5513          No         Yes             Yes  \n",
              "5514          No          No              No  \n",
              "5515          No          No              No  \n",
              "5516         Yes         Yes             Yes  \n",
              "\n",
              "[5517 rows x 8 columns]"
            ]
          },
          "execution_count": 21,
          "metadata": {},
          "output_type": "execute_result"
        }
      ],
      "source": [
        "try:\n",
        "    internet = pd.read_csv('/datasets/final_provider/internet.csv')\n",
        "except:\n",
        "    internet = pd.read_csv('internet.csv')\n",
        "internet"
      ]
    },
    {
      "cell_type": "code",
      "execution_count": null,
      "id": "ce87ef7f",
      "metadata": {
        "scrolled": true,
        "id": "ce87ef7f",
        "outputId": "6e6d4131-ac77-48cf-cc13-78d8028ad776"
      },
      "outputs": [
        {
          "name": "stdout",
          "output_type": "stream",
          "text": [
            "<class 'pandas.core.frame.DataFrame'>\n",
            "RangeIndex: 5517 entries, 0 to 5516\n",
            "Data columns (total 8 columns):\n",
            " #   Column            Non-Null Count  Dtype \n",
            "---  ------            --------------  ----- \n",
            " 0   customerID        5517 non-null   object\n",
            " 1   InternetService   5517 non-null   object\n",
            " 2   OnlineSecurity    5517 non-null   object\n",
            " 3   OnlineBackup      5517 non-null   object\n",
            " 4   DeviceProtection  5517 non-null   object\n",
            " 5   TechSupport       5517 non-null   object\n",
            " 6   StreamingTV       5517 non-null   object\n",
            " 7   StreamingMovies   5517 non-null   object\n",
            "dtypes: object(8)\n",
            "memory usage: 344.9+ KB\n"
          ]
        }
      ],
      "source": [
        "internet.info()"
      ]
    },
    {
      "cell_type": "markdown",
      "id": "71a260f3",
      "metadata": {
        "id": "71a260f3"
      },
      "source": [
        "В этом файле мы видим информацию о пользователях услугами интернет. Фаил так же содержитстолбец 'customerID', что позволит объеденить его с двумя предыдущими, однако, здесть меньше строк, что говорит о том, что не все клиенты пользуются услугами internet. При объединении получим пропуски, будем заполнять ."
      ]
    },
    {
      "cell_type": "markdown",
      "id": "f2e5e8ca",
      "metadata": {
        "id": "f2e5e8ca"
      },
      "source": [
        "Проверим на аномалии."
      ]
    },
    {
      "cell_type": "code",
      "execution_count": null,
      "id": "21efc27c",
      "metadata": {
        "id": "21efc27c",
        "outputId": "e3589826-b2b2-4d69-ca06-323cc863cfed"
      },
      "outputs": [
        {
          "data": {
            "text/plain": [
              "array(['DSL', 'Fiber optic'], dtype=object)"
            ]
          },
          "execution_count": 23,
          "metadata": {},
          "output_type": "execute_result"
        }
      ],
      "source": [
        "internet['InternetService'].unique()"
      ]
    },
    {
      "cell_type": "code",
      "execution_count": null,
      "id": "c565340a",
      "metadata": {
        "id": "c565340a",
        "outputId": "2e08bd3a-9222-4cb6-c439-e949139e574d"
      },
      "outputs": [
        {
          "data": {
            "text/plain": [
              "array(['No', 'Yes'], dtype=object)"
            ]
          },
          "execution_count": 24,
          "metadata": {},
          "output_type": "execute_result"
        }
      ],
      "source": [
        "internet['OnlineSecurity'].unique()"
      ]
    },
    {
      "cell_type": "code",
      "execution_count": null,
      "id": "d9890d6e",
      "metadata": {
        "id": "d9890d6e",
        "outputId": "30e17f27-d0fc-4b3f-fc1e-88708e8f38ce"
      },
      "outputs": [
        {
          "data": {
            "text/plain": [
              "array(['Yes', 'No'], dtype=object)"
            ]
          },
          "execution_count": 25,
          "metadata": {},
          "output_type": "execute_result"
        }
      ],
      "source": [
        "internet['OnlineBackup'].unique()"
      ]
    },
    {
      "cell_type": "code",
      "execution_count": null,
      "id": "8c67e387",
      "metadata": {
        "id": "8c67e387",
        "outputId": "5aa8bafe-284c-49a8-8970-83d5dac98aaa"
      },
      "outputs": [
        {
          "data": {
            "text/plain": [
              "array(['No', 'Yes'], dtype=object)"
            ]
          },
          "execution_count": 26,
          "metadata": {},
          "output_type": "execute_result"
        }
      ],
      "source": [
        "internet['DeviceProtection'].unique()"
      ]
    },
    {
      "cell_type": "code",
      "execution_count": null,
      "id": "eacceae9",
      "metadata": {
        "id": "eacceae9",
        "outputId": "97c0eab7-b057-4745-c032-65bf9681a7d3"
      },
      "outputs": [
        {
          "data": {
            "text/plain": [
              "array(['No', 'Yes'], dtype=object)"
            ]
          },
          "execution_count": 27,
          "metadata": {},
          "output_type": "execute_result"
        }
      ],
      "source": [
        "internet['TechSupport'].unique()"
      ]
    },
    {
      "cell_type": "code",
      "execution_count": null,
      "id": "4b8e0bda",
      "metadata": {
        "id": "4b8e0bda",
        "outputId": "5474639d-bd63-4fa0-934f-18fc88622858"
      },
      "outputs": [
        {
          "data": {
            "text/plain": [
              "array(['No', 'Yes'], dtype=object)"
            ]
          },
          "execution_count": 28,
          "metadata": {},
          "output_type": "execute_result"
        }
      ],
      "source": [
        "internet['StreamingTV'].unique()"
      ]
    },
    {
      "cell_type": "code",
      "execution_count": null,
      "id": "a1e542fc",
      "metadata": {
        "id": "a1e542fc",
        "outputId": "95493b9c-d61b-40ec-c251-3a1866ac86ac"
      },
      "outputs": [
        {
          "data": {
            "text/plain": [
              "array(['No', 'Yes'], dtype=object)"
            ]
          },
          "execution_count": 29,
          "metadata": {},
          "output_type": "execute_result"
        }
      ],
      "source": [
        "internet['StreamingMovies'].unique()"
      ]
    },
    {
      "cell_type": "markdown",
      "id": "21253b10",
      "metadata": {
        "id": "21253b10"
      },
      "source": [
        "Данные готовы к работе"
      ]
    },
    {
      "cell_type": "markdown",
      "id": "4c8ead99",
      "metadata": {
        "id": "4c8ead99"
      },
      "source": [
        "#### Четвертый фаил"
      ]
    },
    {
      "cell_type": "code",
      "execution_count": null,
      "id": "1bbc8efb",
      "metadata": {
        "id": "1bbc8efb",
        "outputId": "de5fda98-8ada-4f9e-f9f1-7b2c93dfd051"
      },
      "outputs": [
        {
          "data": {
            "text/html": [
              "<div>\n",
              "<style scoped>\n",
              "    .dataframe tbody tr th:only-of-type {\n",
              "        vertical-align: middle;\n",
              "    }\n",
              "\n",
              "    .dataframe tbody tr th {\n",
              "        vertical-align: top;\n",
              "    }\n",
              "\n",
              "    .dataframe thead th {\n",
              "        text-align: right;\n",
              "    }\n",
              "</style>\n",
              "<table border=\"1\" class=\"dataframe\">\n",
              "  <thead>\n",
              "    <tr style=\"text-align: right;\">\n",
              "      <th></th>\n",
              "      <th>customerID</th>\n",
              "      <th>MultipleLines</th>\n",
              "    </tr>\n",
              "  </thead>\n",
              "  <tbody>\n",
              "    <tr>\n",
              "      <th>0</th>\n",
              "      <td>5575-GNVDE</td>\n",
              "      <td>No</td>\n",
              "    </tr>\n",
              "    <tr>\n",
              "      <th>1</th>\n",
              "      <td>3668-QPYBK</td>\n",
              "      <td>No</td>\n",
              "    </tr>\n",
              "    <tr>\n",
              "      <th>2</th>\n",
              "      <td>9237-HQITU</td>\n",
              "      <td>No</td>\n",
              "    </tr>\n",
              "    <tr>\n",
              "      <th>3</th>\n",
              "      <td>9305-CDSKC</td>\n",
              "      <td>Yes</td>\n",
              "    </tr>\n",
              "    <tr>\n",
              "      <th>4</th>\n",
              "      <td>1452-KIOVK</td>\n",
              "      <td>Yes</td>\n",
              "    </tr>\n",
              "    <tr>\n",
              "      <th>...</th>\n",
              "      <td>...</td>\n",
              "      <td>...</td>\n",
              "    </tr>\n",
              "    <tr>\n",
              "      <th>6356</th>\n",
              "      <td>2569-WGERO</td>\n",
              "      <td>No</td>\n",
              "    </tr>\n",
              "    <tr>\n",
              "      <th>6357</th>\n",
              "      <td>6840-RESVB</td>\n",
              "      <td>Yes</td>\n",
              "    </tr>\n",
              "    <tr>\n",
              "      <th>6358</th>\n",
              "      <td>2234-XADUH</td>\n",
              "      <td>Yes</td>\n",
              "    </tr>\n",
              "    <tr>\n",
              "      <th>6359</th>\n",
              "      <td>8361-LTMKD</td>\n",
              "      <td>Yes</td>\n",
              "    </tr>\n",
              "    <tr>\n",
              "      <th>6360</th>\n",
              "      <td>3186-AJIEK</td>\n",
              "      <td>No</td>\n",
              "    </tr>\n",
              "  </tbody>\n",
              "</table>\n",
              "<p>6361 rows × 2 columns</p>\n",
              "</div>"
            ],
            "text/plain": [
              "      customerID MultipleLines\n",
              "0     5575-GNVDE            No\n",
              "1     3668-QPYBK            No\n",
              "2     9237-HQITU            No\n",
              "3     9305-CDSKC           Yes\n",
              "4     1452-KIOVK           Yes\n",
              "...          ...           ...\n",
              "6356  2569-WGERO            No\n",
              "6357  6840-RESVB           Yes\n",
              "6358  2234-XADUH           Yes\n",
              "6359  8361-LTMKD           Yes\n",
              "6360  3186-AJIEK            No\n",
              "\n",
              "[6361 rows x 2 columns]"
            ]
          },
          "execution_count": 30,
          "metadata": {},
          "output_type": "execute_result"
        }
      ],
      "source": [
        "try:\n",
        "    phone = pd.read_csv('/datasets/final_provider/phone.csv')\n",
        "except:\n",
        "    phone = pd.read_csv('phone.csv')\n",
        "phone"
      ]
    },
    {
      "cell_type": "code",
      "execution_count": null,
      "id": "0d725dbf",
      "metadata": {
        "id": "0d725dbf",
        "outputId": "d545ab7b-1542-41ea-bd78-2264c4119d19"
      },
      "outputs": [
        {
          "name": "stdout",
          "output_type": "stream",
          "text": [
            "<class 'pandas.core.frame.DataFrame'>\n",
            "RangeIndex: 6361 entries, 0 to 6360\n",
            "Data columns (total 2 columns):\n",
            " #   Column         Non-Null Count  Dtype \n",
            "---  ------         --------------  ----- \n",
            " 0   customerID     6361 non-null   object\n",
            " 1   MultipleLines  6361 non-null   object\n",
            "dtypes: object(2)\n",
            "memory usage: 99.5+ KB\n"
          ]
        }
      ],
      "source": [
        "phone.info()"
      ]
    },
    {
      "cell_type": "markdown",
      "id": "5c76059d",
      "metadata": {
        "id": "5c76059d"
      },
      "source": [
        "В этом файле мы видим данные о пользователях телефонными услугами. Так же есть возможность для объединения данных по id."
      ]
    },
    {
      "cell_type": "markdown",
      "id": "6a486b51",
      "metadata": {
        "id": "6a486b51"
      },
      "source": [
        "Проверим уникальные значения."
      ]
    },
    {
      "cell_type": "code",
      "execution_count": null,
      "id": "647cdef9",
      "metadata": {
        "id": "647cdef9",
        "outputId": "80b2d066-87f0-4cb2-aec0-182de55391dc"
      },
      "outputs": [
        {
          "data": {
            "text/plain": [
              "array(['No', 'Yes'], dtype=object)"
            ]
          },
          "execution_count": 32,
          "metadata": {},
          "output_type": "execute_result"
        }
      ],
      "source": [
        "phone['MultipleLines'].unique()"
      ]
    },
    {
      "cell_type": "markdown",
      "id": "d5c5c8e1",
      "metadata": {
        "id": "d5c5c8e1"
      },
      "source": [
        "Данные готовы к работе"
      ]
    },
    {
      "cell_type": "markdown",
      "id": "909ae1ef",
      "metadata": {
        "id": "909ae1ef"
      },
      "source": [
        "### Вывод по первому этапу"
      ]
    },
    {
      "cell_type": "markdown",
      "id": "a49eea97",
      "metadata": {
        "id": "a49eea97"
      },
      "source": [
        "Данные загружаются и читаются. На первом этапе пропуски отсутствуют, однако появяться на этапе слияния данных. Некоторые столбцы нуждаются в обработке, а именно в смене типа данных. Так же не забываем об обработке данных целевого признака, а именно замене дат расторжения договоров на категорию 'Yes'. "
      ]
    },
    {
      "cell_type": "markdown",
      "id": "32c3ae3d",
      "metadata": {
        "id": "32c3ae3d"
      },
      "source": [
        "Перед переходом ко второму этапу составим примерный план дальнейших действий."
      ]
    },
    {
      "cell_type": "markdown",
      "id": "fb67eedc",
      "metadata": {
        "id": "fb67eedc"
      },
      "source": [
        "### Вопросы по  первому этапу"
      ]
    },
    {
      "cell_type": "markdown",
      "id": "0cf84ba9",
      "metadata": {
        "id": "0cf84ba9"
      },
      "source": [
        "1. Что важнее для заказчика: скорость обучения модели, скорость предсказания или качество итоговой метрики?"
      ]
    },
    {
      "cell_type": "markdown",
      "id": "a9396cb4",
      "metadata": {
        "id": "a9396cb4"
      },
      "source": [
        "## План второго этапа."
      ]
    },
    {
      "cell_type": "markdown",
      "id": "bbe3bac1",
      "metadata": {
        "id": "bbe3bac1"
      },
      "source": [
        "1. Изменение типов данных некоторых столбцов в первом датафрейме и обработка данных целевого признака.\n",
        "2. Слияние таблиц. \n",
        "3. Работа с пропусками в новой таблице.\n",
        "4. Поиск и удаление данных, которые могут привести к утечке данных, методом корреляции.\n",
        "5. Разделение датафрейма на тренировочную и тестовую выборку.\n",
        "6. Создание копии общей базы для кодирования в ней категоральных признаков для некоторых моделей.\n",
        "7. Обучение модели дерева решений и поиск лучших гиперпараметров для нее.\n",
        "8. Обучение модели случайного леса и поиск лучших гиперпараметров для нее.\n",
        "9. Обучение линейной модели и поиск лучших гиперпараметров для нее.\n",
        "10. Обучение модели градиентного бустинга и поиск лучших гиперпараметров для нее.\n",
        "11. Объединение полученных данных в таблицу и выбор лучшей модели для ее последующего тестирования."
      ]
    },
    {
      "cell_type": "markdown",
      "id": "6b26f6a1",
      "metadata": {
        "id": "6b26f6a1"
      },
      "source": [
        "## Этап второй. Обучение моделей."
      ]
    },
    {
      "cell_type": "markdown",
      "id": "36a27869",
      "metadata": {
        "id": "36a27869"
      },
      "source": [
        "### Обработка данных"
      ]
    },
    {
      "cell_type": "markdown",
      "id": "84dd544f",
      "metadata": {
        "id": "84dd544f"
      },
      "source": [
        "Начнем с целевого признака. В столбце 'EndDate' мы имеем либо значение 'No', что означает продолжение сотрудничества клиента с компанией, либо дату расторжения договора в формате object. Заменим значение на 0 - клиент продолжает сотрудничество, и 1 - договор расторгнут"
      ]
    },
    {
      "cell_type": "code",
      "execution_count": null,
      "id": "c4503676",
      "metadata": {
        "id": "c4503676",
        "outputId": "5011e363-1ac6-4a7e-febf-fa93bf45ecd7"
      },
      "outputs": [
        {
          "data": {
            "text/html": [
              "<div>\n",
              "<style scoped>\n",
              "    .dataframe tbody tr th:only-of-type {\n",
              "        vertical-align: middle;\n",
              "    }\n",
              "\n",
              "    .dataframe tbody tr th {\n",
              "        vertical-align: top;\n",
              "    }\n",
              "\n",
              "    .dataframe thead th {\n",
              "        text-align: right;\n",
              "    }\n",
              "</style>\n",
              "<table border=\"1\" class=\"dataframe\">\n",
              "  <thead>\n",
              "    <tr style=\"text-align: right;\">\n",
              "      <th></th>\n",
              "      <th>customerID</th>\n",
              "      <th>BeginDate</th>\n",
              "      <th>EndDate</th>\n",
              "      <th>Type</th>\n",
              "      <th>PaperlessBilling</th>\n",
              "      <th>PaymentMethod</th>\n",
              "      <th>MonthlyCharges</th>\n",
              "      <th>TotalCharges</th>\n",
              "      <th>target</th>\n",
              "    </tr>\n",
              "  </thead>\n",
              "  <tbody>\n",
              "    <tr>\n",
              "      <th>0</th>\n",
              "      <td>7590-VHVEG</td>\n",
              "      <td>2020-01-01</td>\n",
              "      <td>No</td>\n",
              "      <td>Month-to-month</td>\n",
              "      <td>Yes</td>\n",
              "      <td>Electronic check</td>\n",
              "      <td>29.85</td>\n",
              "      <td>29.85</td>\n",
              "      <td>0</td>\n",
              "    </tr>\n",
              "    <tr>\n",
              "      <th>1</th>\n",
              "      <td>5575-GNVDE</td>\n",
              "      <td>2017-04-01</td>\n",
              "      <td>No</td>\n",
              "      <td>One year</td>\n",
              "      <td>No</td>\n",
              "      <td>Mailed check</td>\n",
              "      <td>56.95</td>\n",
              "      <td>1889.5</td>\n",
              "      <td>0</td>\n",
              "    </tr>\n",
              "    <tr>\n",
              "      <th>2</th>\n",
              "      <td>3668-QPYBK</td>\n",
              "      <td>2019-10-01</td>\n",
              "      <td>2019-12-01 00:00:00</td>\n",
              "      <td>Month-to-month</td>\n",
              "      <td>Yes</td>\n",
              "      <td>Mailed check</td>\n",
              "      <td>53.85</td>\n",
              "      <td>108.15</td>\n",
              "      <td>1</td>\n",
              "    </tr>\n",
              "    <tr>\n",
              "      <th>3</th>\n",
              "      <td>7795-CFOCW</td>\n",
              "      <td>2016-05-01</td>\n",
              "      <td>No</td>\n",
              "      <td>One year</td>\n",
              "      <td>No</td>\n",
              "      <td>Bank transfer (automatic)</td>\n",
              "      <td>42.30</td>\n",
              "      <td>1840.75</td>\n",
              "      <td>0</td>\n",
              "    </tr>\n",
              "    <tr>\n",
              "      <th>4</th>\n",
              "      <td>9237-HQITU</td>\n",
              "      <td>2019-09-01</td>\n",
              "      <td>2019-11-01 00:00:00</td>\n",
              "      <td>Month-to-month</td>\n",
              "      <td>Yes</td>\n",
              "      <td>Electronic check</td>\n",
              "      <td>70.70</td>\n",
              "      <td>151.65</td>\n",
              "      <td>1</td>\n",
              "    </tr>\n",
              "    <tr>\n",
              "      <th>...</th>\n",
              "      <td>...</td>\n",
              "      <td>...</td>\n",
              "      <td>...</td>\n",
              "      <td>...</td>\n",
              "      <td>...</td>\n",
              "      <td>...</td>\n",
              "      <td>...</td>\n",
              "      <td>...</td>\n",
              "      <td>...</td>\n",
              "    </tr>\n",
              "    <tr>\n",
              "      <th>7038</th>\n",
              "      <td>6840-RESVB</td>\n",
              "      <td>2018-02-01</td>\n",
              "      <td>No</td>\n",
              "      <td>One year</td>\n",
              "      <td>Yes</td>\n",
              "      <td>Mailed check</td>\n",
              "      <td>84.80</td>\n",
              "      <td>1990.5</td>\n",
              "      <td>0</td>\n",
              "    </tr>\n",
              "    <tr>\n",
              "      <th>7039</th>\n",
              "      <td>2234-XADUH</td>\n",
              "      <td>2014-02-01</td>\n",
              "      <td>No</td>\n",
              "      <td>One year</td>\n",
              "      <td>Yes</td>\n",
              "      <td>Credit card (automatic)</td>\n",
              "      <td>103.20</td>\n",
              "      <td>7362.9</td>\n",
              "      <td>0</td>\n",
              "    </tr>\n",
              "    <tr>\n",
              "      <th>7040</th>\n",
              "      <td>4801-JZAZL</td>\n",
              "      <td>2019-03-01</td>\n",
              "      <td>No</td>\n",
              "      <td>Month-to-month</td>\n",
              "      <td>Yes</td>\n",
              "      <td>Electronic check</td>\n",
              "      <td>29.60</td>\n",
              "      <td>346.45</td>\n",
              "      <td>0</td>\n",
              "    </tr>\n",
              "    <tr>\n",
              "      <th>7041</th>\n",
              "      <td>8361-LTMKD</td>\n",
              "      <td>2019-07-01</td>\n",
              "      <td>2019-11-01 00:00:00</td>\n",
              "      <td>Month-to-month</td>\n",
              "      <td>Yes</td>\n",
              "      <td>Mailed check</td>\n",
              "      <td>74.40</td>\n",
              "      <td>306.6</td>\n",
              "      <td>1</td>\n",
              "    </tr>\n",
              "    <tr>\n",
              "      <th>7042</th>\n",
              "      <td>3186-AJIEK</td>\n",
              "      <td>2014-08-01</td>\n",
              "      <td>No</td>\n",
              "      <td>Two year</td>\n",
              "      <td>Yes</td>\n",
              "      <td>Bank transfer (automatic)</td>\n",
              "      <td>105.65</td>\n",
              "      <td>6844.5</td>\n",
              "      <td>0</td>\n",
              "    </tr>\n",
              "  </tbody>\n",
              "</table>\n",
              "<p>7043 rows × 9 columns</p>\n",
              "</div>"
            ],
            "text/plain": [
              "      customerID   BeginDate              EndDate            Type  \\\n",
              "0     7590-VHVEG  2020-01-01                   No  Month-to-month   \n",
              "1     5575-GNVDE  2017-04-01                   No        One year   \n",
              "2     3668-QPYBK  2019-10-01  2019-12-01 00:00:00  Month-to-month   \n",
              "3     7795-CFOCW  2016-05-01                   No        One year   \n",
              "4     9237-HQITU  2019-09-01  2019-11-01 00:00:00  Month-to-month   \n",
              "...          ...         ...                  ...             ...   \n",
              "7038  6840-RESVB  2018-02-01                   No        One year   \n",
              "7039  2234-XADUH  2014-02-01                   No        One year   \n",
              "7040  4801-JZAZL  2019-03-01                   No  Month-to-month   \n",
              "7041  8361-LTMKD  2019-07-01  2019-11-01 00:00:00  Month-to-month   \n",
              "7042  3186-AJIEK  2014-08-01                   No        Two year   \n",
              "\n",
              "     PaperlessBilling              PaymentMethod  MonthlyCharges TotalCharges  \\\n",
              "0                 Yes           Electronic check           29.85        29.85   \n",
              "1                  No               Mailed check           56.95       1889.5   \n",
              "2                 Yes               Mailed check           53.85       108.15   \n",
              "3                  No  Bank transfer (automatic)           42.30      1840.75   \n",
              "4                 Yes           Electronic check           70.70       151.65   \n",
              "...               ...                        ...             ...          ...   \n",
              "7038              Yes               Mailed check           84.80       1990.5   \n",
              "7039              Yes    Credit card (automatic)          103.20       7362.9   \n",
              "7040              Yes           Electronic check           29.60       346.45   \n",
              "7041              Yes               Mailed check           74.40        306.6   \n",
              "7042              Yes  Bank transfer (automatic)          105.65       6844.5   \n",
              "\n",
              "     target  \n",
              "0         0  \n",
              "1         0  \n",
              "2         1  \n",
              "3         0  \n",
              "4         1  \n",
              "...     ...  \n",
              "7038      0  \n",
              "7039      0  \n",
              "7040      0  \n",
              "7041      1  \n",
              "7042      0  \n",
              "\n",
              "[7043 rows x 9 columns]"
            ]
          },
          "execution_count": 33,
          "metadata": {},
          "output_type": "execute_result"
        }
      ],
      "source": [
        "contract['target'] = ''\n",
        "contract.loc[contract['EndDate'] != 'No', 'target'] = 1\n",
        "contract.loc[contract['EndDate'] == 'No', 'target'] = 0\n",
        "\n",
        "contract"
      ]
    },
    {
      "cell_type": "markdown",
      "id": "f52fd395",
      "metadata": {
        "id": "f52fd395"
      },
      "source": [
        "И проверим полученные данные на уникальность"
      ]
    },
    {
      "cell_type": "code",
      "execution_count": null,
      "id": "d010751a",
      "metadata": {
        "id": "d010751a",
        "outputId": "22dd08b2-c387-4b95-ec20-d114535dece3"
      },
      "outputs": [
        {
          "data": {
            "text/plain": [
              "array([0, 1], dtype=object)"
            ]
          },
          "execution_count": 34,
          "metadata": {},
          "output_type": "execute_result"
        }
      ],
      "source": [
        "contract['target'].unique()"
      ]
    },
    {
      "cell_type": "markdown",
      "id": "c2f6f568",
      "metadata": {
        "id": "c2f6f568"
      },
      "source": [
        "Теперь заменими типы данных в столбцах 'BeginDate' и 'TotalCharges' на date и float соответственно"
      ]
    },
    {
      "cell_type": "code",
      "execution_count": null,
      "id": "a5a9ca3c",
      "metadata": {
        "id": "a5a9ca3c"
      },
      "outputs": [],
      "source": [
        "contract['BeginDate'] = pd.to_datetime(contract['BeginDate'])\n",
        "\n",
        "#contract['BeginDate'].info()"
      ]
    },
    {
      "cell_type": "code",
      "execution_count": null,
      "id": "6eca85f3",
      "metadata": {
        "id": "6eca85f3"
      },
      "outputs": [],
      "source": [
        "contract['TotalCharges'] = pd.to_numeric(contract['TotalCharges'], errors='coerce') \n",
        "#contract['TotalCharges'].info()"
      ]
    },
    {
      "cell_type": "markdown",
      "id": "7bbd9562",
      "metadata": {
        "id": "7bbd9562"
      },
      "source": [
        "С датами получилось все корректно, а вот в колонке 'TotalCharges' мы не смогла перевести 11 значений в числовой формат. Думаю, можно удалить эти строки после слияния таблиц"
      ]
    },
    {
      "cell_type": "markdown",
      "id": "034999e6",
      "metadata": {
        "id": "034999e6"
      },
      "source": [
        "### Слияние таблиц"
      ]
    },
    {
      "cell_type": "markdown",
      "id": "db09a0e0",
      "metadata": {
        "id": "db09a0e0"
      },
      "source": [
        "Объединим все таблицы в единый датафрейм методом merge. За исходную базу возьмем фаил contract, так как он содержит все данные по всем договорам. Присоединять будем по колонке 'customerID', так как она является общей для всех файлов."
      ]
    },
    {
      "cell_type": "code",
      "execution_count": null,
      "id": "6e42af92",
      "metadata": {
        "id": "6e42af92",
        "outputId": "c779d1f6-09da-48c4-d520-bae1b4352339"
      },
      "outputs": [
        {
          "data": {
            "text/html": [
              "<div>\n",
              "<style scoped>\n",
              "    .dataframe tbody tr th:only-of-type {\n",
              "        vertical-align: middle;\n",
              "    }\n",
              "\n",
              "    .dataframe tbody tr th {\n",
              "        vertical-align: top;\n",
              "    }\n",
              "\n",
              "    .dataframe thead th {\n",
              "        text-align: right;\n",
              "    }\n",
              "</style>\n",
              "<table border=\"1\" class=\"dataframe\">\n",
              "  <thead>\n",
              "    <tr style=\"text-align: right;\">\n",
              "      <th></th>\n",
              "      <th>customerID</th>\n",
              "      <th>BeginDate</th>\n",
              "      <th>EndDate</th>\n",
              "      <th>Type</th>\n",
              "      <th>PaperlessBilling</th>\n",
              "      <th>PaymentMethod</th>\n",
              "      <th>MonthlyCharges</th>\n",
              "      <th>TotalCharges</th>\n",
              "      <th>target</th>\n",
              "      <th>gender</th>\n",
              "      <th>SeniorCitizen</th>\n",
              "      <th>Partner</th>\n",
              "      <th>Dependents</th>\n",
              "    </tr>\n",
              "  </thead>\n",
              "  <tbody>\n",
              "    <tr>\n",
              "      <th>0</th>\n",
              "      <td>7590-VHVEG</td>\n",
              "      <td>2020-01-01</td>\n",
              "      <td>No</td>\n",
              "      <td>Month-to-month</td>\n",
              "      <td>Yes</td>\n",
              "      <td>Electronic check</td>\n",
              "      <td>29.85</td>\n",
              "      <td>29.85</td>\n",
              "      <td>0</td>\n",
              "      <td>Female</td>\n",
              "      <td>0</td>\n",
              "      <td>Yes</td>\n",
              "      <td>No</td>\n",
              "    </tr>\n",
              "    <tr>\n",
              "      <th>1</th>\n",
              "      <td>5575-GNVDE</td>\n",
              "      <td>2017-04-01</td>\n",
              "      <td>No</td>\n",
              "      <td>One year</td>\n",
              "      <td>No</td>\n",
              "      <td>Mailed check</td>\n",
              "      <td>56.95</td>\n",
              "      <td>1889.50</td>\n",
              "      <td>0</td>\n",
              "      <td>Male</td>\n",
              "      <td>0</td>\n",
              "      <td>No</td>\n",
              "      <td>No</td>\n",
              "    </tr>\n",
              "    <tr>\n",
              "      <th>2</th>\n",
              "      <td>3668-QPYBK</td>\n",
              "      <td>2019-10-01</td>\n",
              "      <td>2019-12-01 00:00:00</td>\n",
              "      <td>Month-to-month</td>\n",
              "      <td>Yes</td>\n",
              "      <td>Mailed check</td>\n",
              "      <td>53.85</td>\n",
              "      <td>108.15</td>\n",
              "      <td>1</td>\n",
              "      <td>Male</td>\n",
              "      <td>0</td>\n",
              "      <td>No</td>\n",
              "      <td>No</td>\n",
              "    </tr>\n",
              "    <tr>\n",
              "      <th>3</th>\n",
              "      <td>7795-CFOCW</td>\n",
              "      <td>2016-05-01</td>\n",
              "      <td>No</td>\n",
              "      <td>One year</td>\n",
              "      <td>No</td>\n",
              "      <td>Bank transfer (automatic)</td>\n",
              "      <td>42.30</td>\n",
              "      <td>1840.75</td>\n",
              "      <td>0</td>\n",
              "      <td>Male</td>\n",
              "      <td>0</td>\n",
              "      <td>No</td>\n",
              "      <td>No</td>\n",
              "    </tr>\n",
              "    <tr>\n",
              "      <th>4</th>\n",
              "      <td>9237-HQITU</td>\n",
              "      <td>2019-09-01</td>\n",
              "      <td>2019-11-01 00:00:00</td>\n",
              "      <td>Month-to-month</td>\n",
              "      <td>Yes</td>\n",
              "      <td>Electronic check</td>\n",
              "      <td>70.70</td>\n",
              "      <td>151.65</td>\n",
              "      <td>1</td>\n",
              "      <td>Female</td>\n",
              "      <td>0</td>\n",
              "      <td>No</td>\n",
              "      <td>No</td>\n",
              "    </tr>\n",
              "    <tr>\n",
              "      <th>...</th>\n",
              "      <td>...</td>\n",
              "      <td>...</td>\n",
              "      <td>...</td>\n",
              "      <td>...</td>\n",
              "      <td>...</td>\n",
              "      <td>...</td>\n",
              "      <td>...</td>\n",
              "      <td>...</td>\n",
              "      <td>...</td>\n",
              "      <td>...</td>\n",
              "      <td>...</td>\n",
              "      <td>...</td>\n",
              "      <td>...</td>\n",
              "    </tr>\n",
              "    <tr>\n",
              "      <th>7038</th>\n",
              "      <td>6840-RESVB</td>\n",
              "      <td>2018-02-01</td>\n",
              "      <td>No</td>\n",
              "      <td>One year</td>\n",
              "      <td>Yes</td>\n",
              "      <td>Mailed check</td>\n",
              "      <td>84.80</td>\n",
              "      <td>1990.50</td>\n",
              "      <td>0</td>\n",
              "      <td>Male</td>\n",
              "      <td>0</td>\n",
              "      <td>Yes</td>\n",
              "      <td>Yes</td>\n",
              "    </tr>\n",
              "    <tr>\n",
              "      <th>7039</th>\n",
              "      <td>2234-XADUH</td>\n",
              "      <td>2014-02-01</td>\n",
              "      <td>No</td>\n",
              "      <td>One year</td>\n",
              "      <td>Yes</td>\n",
              "      <td>Credit card (automatic)</td>\n",
              "      <td>103.20</td>\n",
              "      <td>7362.90</td>\n",
              "      <td>0</td>\n",
              "      <td>Female</td>\n",
              "      <td>0</td>\n",
              "      <td>Yes</td>\n",
              "      <td>Yes</td>\n",
              "    </tr>\n",
              "    <tr>\n",
              "      <th>7040</th>\n",
              "      <td>4801-JZAZL</td>\n",
              "      <td>2019-03-01</td>\n",
              "      <td>No</td>\n",
              "      <td>Month-to-month</td>\n",
              "      <td>Yes</td>\n",
              "      <td>Electronic check</td>\n",
              "      <td>29.60</td>\n",
              "      <td>346.45</td>\n",
              "      <td>0</td>\n",
              "      <td>Female</td>\n",
              "      <td>0</td>\n",
              "      <td>Yes</td>\n",
              "      <td>Yes</td>\n",
              "    </tr>\n",
              "    <tr>\n",
              "      <th>7041</th>\n",
              "      <td>8361-LTMKD</td>\n",
              "      <td>2019-07-01</td>\n",
              "      <td>2019-11-01 00:00:00</td>\n",
              "      <td>Month-to-month</td>\n",
              "      <td>Yes</td>\n",
              "      <td>Mailed check</td>\n",
              "      <td>74.40</td>\n",
              "      <td>306.60</td>\n",
              "      <td>1</td>\n",
              "      <td>Male</td>\n",
              "      <td>1</td>\n",
              "      <td>Yes</td>\n",
              "      <td>No</td>\n",
              "    </tr>\n",
              "    <tr>\n",
              "      <th>7042</th>\n",
              "      <td>3186-AJIEK</td>\n",
              "      <td>2014-08-01</td>\n",
              "      <td>No</td>\n",
              "      <td>Two year</td>\n",
              "      <td>Yes</td>\n",
              "      <td>Bank transfer (automatic)</td>\n",
              "      <td>105.65</td>\n",
              "      <td>6844.50</td>\n",
              "      <td>0</td>\n",
              "      <td>Male</td>\n",
              "      <td>0</td>\n",
              "      <td>No</td>\n",
              "      <td>No</td>\n",
              "    </tr>\n",
              "  </tbody>\n",
              "</table>\n",
              "<p>7043 rows × 13 columns</p>\n",
              "</div>"
            ],
            "text/plain": [
              "      customerID  BeginDate              EndDate            Type  \\\n",
              "0     7590-VHVEG 2020-01-01                   No  Month-to-month   \n",
              "1     5575-GNVDE 2017-04-01                   No        One year   \n",
              "2     3668-QPYBK 2019-10-01  2019-12-01 00:00:00  Month-to-month   \n",
              "3     7795-CFOCW 2016-05-01                   No        One year   \n",
              "4     9237-HQITU 2019-09-01  2019-11-01 00:00:00  Month-to-month   \n",
              "...          ...        ...                  ...             ...   \n",
              "7038  6840-RESVB 2018-02-01                   No        One year   \n",
              "7039  2234-XADUH 2014-02-01                   No        One year   \n",
              "7040  4801-JZAZL 2019-03-01                   No  Month-to-month   \n",
              "7041  8361-LTMKD 2019-07-01  2019-11-01 00:00:00  Month-to-month   \n",
              "7042  3186-AJIEK 2014-08-01                   No        Two year   \n",
              "\n",
              "     PaperlessBilling              PaymentMethod  MonthlyCharges  \\\n",
              "0                 Yes           Electronic check           29.85   \n",
              "1                  No               Mailed check           56.95   \n",
              "2                 Yes               Mailed check           53.85   \n",
              "3                  No  Bank transfer (automatic)           42.30   \n",
              "4                 Yes           Electronic check           70.70   \n",
              "...               ...                        ...             ...   \n",
              "7038              Yes               Mailed check           84.80   \n",
              "7039              Yes    Credit card (automatic)          103.20   \n",
              "7040              Yes           Electronic check           29.60   \n",
              "7041              Yes               Mailed check           74.40   \n",
              "7042              Yes  Bank transfer (automatic)          105.65   \n",
              "\n",
              "      TotalCharges target  gender  SeniorCitizen Partner Dependents  \n",
              "0            29.85      0  Female              0     Yes         No  \n",
              "1          1889.50      0    Male              0      No         No  \n",
              "2           108.15      1    Male              0      No         No  \n",
              "3          1840.75      0    Male              0      No         No  \n",
              "4           151.65      1  Female              0      No         No  \n",
              "...            ...    ...     ...            ...     ...        ...  \n",
              "7038       1990.50      0    Male              0     Yes        Yes  \n",
              "7039       7362.90      0  Female              0     Yes        Yes  \n",
              "7040        346.45      0  Female              0     Yes        Yes  \n",
              "7041        306.60      1    Male              1     Yes         No  \n",
              "7042       6844.50      0    Male              0      No         No  \n",
              "\n",
              "[7043 rows x 13 columns]"
            ]
          },
          "execution_count": 38,
          "metadata": {},
          "output_type": "execute_result"
        }
      ],
      "source": [
        "data = contract.merge(personal, on='customerID', how='left')\n",
        "data"
      ]
    },
    {
      "cell_type": "code",
      "execution_count": null,
      "id": "992557d5",
      "metadata": {
        "id": "992557d5"
      },
      "outputs": [],
      "source": [
        "data = data.merge(internet, on='customerID', how='left')"
      ]
    },
    {
      "cell_type": "code",
      "execution_count": null,
      "id": "7f8be8ad",
      "metadata": {
        "id": "7f8be8ad"
      },
      "outputs": [],
      "source": [
        "data = data.merge(phone, on='customerID', how='left')"
      ]
    },
    {
      "cell_type": "code",
      "execution_count": null,
      "id": "f264439d",
      "metadata": {
        "id": "f264439d",
        "outputId": "bc9ba007-d6e7-4221-b3dc-2aa2a8ca17da"
      },
      "outputs": [
        {
          "name": "stdout",
          "output_type": "stream",
          "text": [
            "<class 'pandas.core.frame.DataFrame'>\n",
            "Int64Index: 7043 entries, 0 to 7042\n",
            "Data columns (total 21 columns):\n",
            " #   Column            Non-Null Count  Dtype         \n",
            "---  ------            --------------  -----         \n",
            " 0   customerID        7043 non-null   object        \n",
            " 1   BeginDate         7043 non-null   datetime64[ns]\n",
            " 2   EndDate           7043 non-null   object        \n",
            " 3   Type              7043 non-null   object        \n",
            " 4   PaperlessBilling  7043 non-null   object        \n",
            " 5   PaymentMethod     7043 non-null   object        \n",
            " 6   MonthlyCharges    7043 non-null   float64       \n",
            " 7   TotalCharges      7032 non-null   float64       \n",
            " 8   target            7043 non-null   object        \n",
            " 9   gender            7043 non-null   object        \n",
            " 10  SeniorCitizen     7043 non-null   int64         \n",
            " 11  Partner           7043 non-null   object        \n",
            " 12  Dependents        7043 non-null   object        \n",
            " 13  InternetService   5517 non-null   object        \n",
            " 14  OnlineSecurity    5517 non-null   object        \n",
            " 15  OnlineBackup      5517 non-null   object        \n",
            " 16  DeviceProtection  5517 non-null   object        \n",
            " 17  TechSupport       5517 non-null   object        \n",
            " 18  StreamingTV       5517 non-null   object        \n",
            " 19  StreamingMovies   5517 non-null   object        \n",
            " 20  MultipleLines     6361 non-null   object        \n",
            "dtypes: datetime64[ns](1), float64(2), int64(1), object(17)\n",
            "memory usage: 1.2+ MB\n"
          ]
        }
      ],
      "source": [
        "data.info()"
      ]
    },
    {
      "cell_type": "markdown",
      "id": "2f4f2110",
      "metadata": {
        "id": "2f4f2110"
      },
      "source": [
        "Удалим 11 строк с некорректными данными в колонке 'TotalCharges'"
      ]
    },
    {
      "cell_type": "code",
      "execution_count": null,
      "id": "ec66b034",
      "metadata": {
        "scrolled": true,
        "id": "ec66b034"
      },
      "outputs": [],
      "source": [
        "data['TotalCharges'] = data['TotalCharges'].fillna('0')\n",
        "data.drop(data[data.TotalCharges == '0'].index, inplace=True)\n"
      ]
    },
    {
      "cell_type": "markdown",
      "metadata": {
        "id": "BcF_4GxVuNnV"
      },
      "source": [
        "Заполним пропуски значением 'No', так как пропуски в новой таблице означают, что клиент просто не пользуется услугами интернета или телефонии"
      ],
      "id": "BcF_4GxVuNnV"
    },
    {
      "cell_type": "code",
      "execution_count": null,
      "id": "5f814365",
      "metadata": {
        "id": "5f814365",
        "outputId": "44fcb2a4-fc59-4ac5-aad2-ca5a3c1b8ed2"
      },
      "outputs": [
        {
          "name": "stdout",
          "output_type": "stream",
          "text": [
            "<class 'pandas.core.frame.DataFrame'>\n",
            "Int64Index: 7032 entries, 0 to 7042\n",
            "Data columns (total 21 columns):\n",
            " #   Column            Non-Null Count  Dtype         \n",
            "---  ------            --------------  -----         \n",
            " 0   customerID        7032 non-null   object        \n",
            " 1   BeginDate         7032 non-null   datetime64[ns]\n",
            " 2   EndDate           7032 non-null   object        \n",
            " 3   Type              7032 non-null   object        \n",
            " 4   PaperlessBilling  7032 non-null   object        \n",
            " 5   PaymentMethod     7032 non-null   object        \n",
            " 6   MonthlyCharges    7032 non-null   float64       \n",
            " 7   TotalCharges      7032 non-null   float64       \n",
            " 8   target            7032 non-null   int64         \n",
            " 9   gender            7032 non-null   object        \n",
            " 10  SeniorCitizen     7032 non-null   int64         \n",
            " 11  Partner           7032 non-null   object        \n",
            " 12  Dependents        7032 non-null   object        \n",
            " 13  InternetService   7032 non-null   object        \n",
            " 14  OnlineSecurity    7032 non-null   object        \n",
            " 15  OnlineBackup      7032 non-null   object        \n",
            " 16  DeviceProtection  7032 non-null   object        \n",
            " 17  TechSupport       7032 non-null   object        \n",
            " 18  StreamingTV       7032 non-null   object        \n",
            " 19  StreamingMovies   7032 non-null   object        \n",
            " 20  MultipleLines     7032 non-null   object        \n",
            "dtypes: datetime64[ns](1), float64(2), int64(2), object(16)\n",
            "memory usage: 1.2+ MB\n"
          ]
        }
      ],
      "source": [
        "data = data.fillna('No')\n",
        "data.info()"
      ]
    },
    {
      "cell_type": "markdown",
      "id": "ae94badd",
      "metadata": {
        "id": "ae94badd"
      },
      "source": [
        "И снова тип столбца 'TotalCharges' стал object. Заменим"
      ]
    },
    {
      "cell_type": "code",
      "execution_count": null,
      "id": "504a115d",
      "metadata": {
        "id": "504a115d"
      },
      "outputs": [],
      "source": [
        "data['TotalCharges'] = pd.to_numeric(data['TotalCharges'], errors='coerce') \n",
        "#data['TotalCharges'].info()"
      ]
    },
    {
      "cell_type": "markdown",
      "id": "4c980d16",
      "metadata": {
        "id": "4c980d16"
      },
      "source": [
        "Так же можно удалить колонку 'customerID', так как она больше не нужна"
      ]
    },
    {
      "cell_type": "code",
      "execution_count": null,
      "id": "93d91eac",
      "metadata": {
        "id": "93d91eac"
      },
      "outputs": [],
      "source": [
        "data = data.drop(['customerID'], axis=1)"
      ]
    },
    {
      "cell_type": "markdown",
      "id": "6181ec14",
      "metadata": {
        "id": "6181ec14"
      },
      "source": [
        "### Проверка корреляций"
      ]
    },
    {
      "cell_type": "markdown",
      "id": "e159d2a7",
      "metadata": {
        "id": "e159d2a7"
      },
      "source": [
        "Перед проверкой корреляции создадим новый признак - длительность контракта в днях. Для этого значения 'No' в столбце 'EndDate' заменим датой составления фрейма, а именно 1 февраля 2020 года.  "
      ]
    },
    {
      "cell_type": "code",
      "execution_count": null,
      "id": "968b34c1",
      "metadata": {
        "id": "968b34c1",
        "outputId": "b1d4617a-16b7-4752-be24-95a479bd2237"
      },
      "outputs": [
        {
          "data": {
            "text/html": [
              "<div>\n",
              "<style scoped>\n",
              "    .dataframe tbody tr th:only-of-type {\n",
              "        vertical-align: middle;\n",
              "    }\n",
              "\n",
              "    .dataframe tbody tr th {\n",
              "        vertical-align: top;\n",
              "    }\n",
              "\n",
              "    .dataframe thead th {\n",
              "        text-align: right;\n",
              "    }\n",
              "</style>\n",
              "<table border=\"1\" class=\"dataframe\">\n",
              "  <thead>\n",
              "    <tr style=\"text-align: right;\">\n",
              "      <th></th>\n",
              "      <th>BeginDate</th>\n",
              "      <th>EndDate</th>\n",
              "      <th>Type</th>\n",
              "      <th>PaperlessBilling</th>\n",
              "      <th>PaymentMethod</th>\n",
              "      <th>MonthlyCharges</th>\n",
              "      <th>TotalCharges</th>\n",
              "      <th>target</th>\n",
              "      <th>gender</th>\n",
              "      <th>SeniorCitizen</th>\n",
              "      <th>...</th>\n",
              "      <th>Dependents</th>\n",
              "      <th>InternetService</th>\n",
              "      <th>OnlineSecurity</th>\n",
              "      <th>OnlineBackup</th>\n",
              "      <th>DeviceProtection</th>\n",
              "      <th>TechSupport</th>\n",
              "      <th>StreamingTV</th>\n",
              "      <th>StreamingMovies</th>\n",
              "      <th>MultipleLines</th>\n",
              "      <th>duration</th>\n",
              "    </tr>\n",
              "  </thead>\n",
              "  <tbody>\n",
              "    <tr>\n",
              "      <th>0</th>\n",
              "      <td>2020-01-01</td>\n",
              "      <td>2020-02-01</td>\n",
              "      <td>Month-to-month</td>\n",
              "      <td>Yes</td>\n",
              "      <td>Electronic check</td>\n",
              "      <td>29.85</td>\n",
              "      <td>29.85</td>\n",
              "      <td>0</td>\n",
              "      <td>Female</td>\n",
              "      <td>0</td>\n",
              "      <td>...</td>\n",
              "      <td>No</td>\n",
              "      <td>DSL</td>\n",
              "      <td>No</td>\n",
              "      <td>Yes</td>\n",
              "      <td>No</td>\n",
              "      <td>No</td>\n",
              "      <td>No</td>\n",
              "      <td>No</td>\n",
              "      <td>No</td>\n",
              "      <td>31.0</td>\n",
              "    </tr>\n",
              "    <tr>\n",
              "      <th>1</th>\n",
              "      <td>2017-04-01</td>\n",
              "      <td>2020-02-01</td>\n",
              "      <td>One year</td>\n",
              "      <td>No</td>\n",
              "      <td>Mailed check</td>\n",
              "      <td>56.95</td>\n",
              "      <td>1889.50</td>\n",
              "      <td>0</td>\n",
              "      <td>Male</td>\n",
              "      <td>0</td>\n",
              "      <td>...</td>\n",
              "      <td>No</td>\n",
              "      <td>DSL</td>\n",
              "      <td>Yes</td>\n",
              "      <td>No</td>\n",
              "      <td>Yes</td>\n",
              "      <td>No</td>\n",
              "      <td>No</td>\n",
              "      <td>No</td>\n",
              "      <td>No</td>\n",
              "      <td>1036.0</td>\n",
              "    </tr>\n",
              "    <tr>\n",
              "      <th>2</th>\n",
              "      <td>2019-10-01</td>\n",
              "      <td>2019-12-01</td>\n",
              "      <td>Month-to-month</td>\n",
              "      <td>Yes</td>\n",
              "      <td>Mailed check</td>\n",
              "      <td>53.85</td>\n",
              "      <td>108.15</td>\n",
              "      <td>1</td>\n",
              "      <td>Male</td>\n",
              "      <td>0</td>\n",
              "      <td>...</td>\n",
              "      <td>No</td>\n",
              "      <td>DSL</td>\n",
              "      <td>Yes</td>\n",
              "      <td>Yes</td>\n",
              "      <td>No</td>\n",
              "      <td>No</td>\n",
              "      <td>No</td>\n",
              "      <td>No</td>\n",
              "      <td>No</td>\n",
              "      <td>61.0</td>\n",
              "    </tr>\n",
              "    <tr>\n",
              "      <th>3</th>\n",
              "      <td>2016-05-01</td>\n",
              "      <td>2020-02-01</td>\n",
              "      <td>One year</td>\n",
              "      <td>No</td>\n",
              "      <td>Bank transfer (automatic)</td>\n",
              "      <td>42.30</td>\n",
              "      <td>1840.75</td>\n",
              "      <td>0</td>\n",
              "      <td>Male</td>\n",
              "      <td>0</td>\n",
              "      <td>...</td>\n",
              "      <td>No</td>\n",
              "      <td>DSL</td>\n",
              "      <td>Yes</td>\n",
              "      <td>No</td>\n",
              "      <td>Yes</td>\n",
              "      <td>Yes</td>\n",
              "      <td>No</td>\n",
              "      <td>No</td>\n",
              "      <td>No</td>\n",
              "      <td>1371.0</td>\n",
              "    </tr>\n",
              "    <tr>\n",
              "      <th>4</th>\n",
              "      <td>2019-09-01</td>\n",
              "      <td>2019-11-01</td>\n",
              "      <td>Month-to-month</td>\n",
              "      <td>Yes</td>\n",
              "      <td>Electronic check</td>\n",
              "      <td>70.70</td>\n",
              "      <td>151.65</td>\n",
              "      <td>1</td>\n",
              "      <td>Female</td>\n",
              "      <td>0</td>\n",
              "      <td>...</td>\n",
              "      <td>No</td>\n",
              "      <td>Fiber optic</td>\n",
              "      <td>No</td>\n",
              "      <td>No</td>\n",
              "      <td>No</td>\n",
              "      <td>No</td>\n",
              "      <td>No</td>\n",
              "      <td>No</td>\n",
              "      <td>No</td>\n",
              "      <td>61.0</td>\n",
              "    </tr>\n",
              "    <tr>\n",
              "      <th>...</th>\n",
              "      <td>...</td>\n",
              "      <td>...</td>\n",
              "      <td>...</td>\n",
              "      <td>...</td>\n",
              "      <td>...</td>\n",
              "      <td>...</td>\n",
              "      <td>...</td>\n",
              "      <td>...</td>\n",
              "      <td>...</td>\n",
              "      <td>...</td>\n",
              "      <td>...</td>\n",
              "      <td>...</td>\n",
              "      <td>...</td>\n",
              "      <td>...</td>\n",
              "      <td>...</td>\n",
              "      <td>...</td>\n",
              "      <td>...</td>\n",
              "      <td>...</td>\n",
              "      <td>...</td>\n",
              "      <td>...</td>\n",
              "      <td>...</td>\n",
              "    </tr>\n",
              "    <tr>\n",
              "      <th>7038</th>\n",
              "      <td>2018-02-01</td>\n",
              "      <td>2020-02-01</td>\n",
              "      <td>One year</td>\n",
              "      <td>Yes</td>\n",
              "      <td>Mailed check</td>\n",
              "      <td>84.80</td>\n",
              "      <td>1990.50</td>\n",
              "      <td>0</td>\n",
              "      <td>Male</td>\n",
              "      <td>0</td>\n",
              "      <td>...</td>\n",
              "      <td>Yes</td>\n",
              "      <td>DSL</td>\n",
              "      <td>Yes</td>\n",
              "      <td>No</td>\n",
              "      <td>Yes</td>\n",
              "      <td>Yes</td>\n",
              "      <td>Yes</td>\n",
              "      <td>Yes</td>\n",
              "      <td>Yes</td>\n",
              "      <td>730.0</td>\n",
              "    </tr>\n",
              "    <tr>\n",
              "      <th>7039</th>\n",
              "      <td>2014-02-01</td>\n",
              "      <td>2020-02-01</td>\n",
              "      <td>One year</td>\n",
              "      <td>Yes</td>\n",
              "      <td>Credit card (automatic)</td>\n",
              "      <td>103.20</td>\n",
              "      <td>7362.90</td>\n",
              "      <td>0</td>\n",
              "      <td>Female</td>\n",
              "      <td>0</td>\n",
              "      <td>...</td>\n",
              "      <td>Yes</td>\n",
              "      <td>Fiber optic</td>\n",
              "      <td>No</td>\n",
              "      <td>Yes</td>\n",
              "      <td>Yes</td>\n",
              "      <td>No</td>\n",
              "      <td>Yes</td>\n",
              "      <td>Yes</td>\n",
              "      <td>Yes</td>\n",
              "      <td>2191.0</td>\n",
              "    </tr>\n",
              "    <tr>\n",
              "      <th>7040</th>\n",
              "      <td>2019-03-01</td>\n",
              "      <td>2020-02-01</td>\n",
              "      <td>Month-to-month</td>\n",
              "      <td>Yes</td>\n",
              "      <td>Electronic check</td>\n",
              "      <td>29.60</td>\n",
              "      <td>346.45</td>\n",
              "      <td>0</td>\n",
              "      <td>Female</td>\n",
              "      <td>0</td>\n",
              "      <td>...</td>\n",
              "      <td>Yes</td>\n",
              "      <td>DSL</td>\n",
              "      <td>Yes</td>\n",
              "      <td>No</td>\n",
              "      <td>No</td>\n",
              "      <td>No</td>\n",
              "      <td>No</td>\n",
              "      <td>No</td>\n",
              "      <td>No</td>\n",
              "      <td>337.0</td>\n",
              "    </tr>\n",
              "    <tr>\n",
              "      <th>7041</th>\n",
              "      <td>2019-07-01</td>\n",
              "      <td>2019-11-01</td>\n",
              "      <td>Month-to-month</td>\n",
              "      <td>Yes</td>\n",
              "      <td>Mailed check</td>\n",
              "      <td>74.40</td>\n",
              "      <td>306.60</td>\n",
              "      <td>1</td>\n",
              "      <td>Male</td>\n",
              "      <td>1</td>\n",
              "      <td>...</td>\n",
              "      <td>No</td>\n",
              "      <td>Fiber optic</td>\n",
              "      <td>No</td>\n",
              "      <td>No</td>\n",
              "      <td>No</td>\n",
              "      <td>No</td>\n",
              "      <td>No</td>\n",
              "      <td>No</td>\n",
              "      <td>Yes</td>\n",
              "      <td>123.0</td>\n",
              "    </tr>\n",
              "    <tr>\n",
              "      <th>7042</th>\n",
              "      <td>2014-08-01</td>\n",
              "      <td>2020-02-01</td>\n",
              "      <td>Two year</td>\n",
              "      <td>Yes</td>\n",
              "      <td>Bank transfer (automatic)</td>\n",
              "      <td>105.65</td>\n",
              "      <td>6844.50</td>\n",
              "      <td>0</td>\n",
              "      <td>Male</td>\n",
              "      <td>0</td>\n",
              "      <td>...</td>\n",
              "      <td>No</td>\n",
              "      <td>Fiber optic</td>\n",
              "      <td>Yes</td>\n",
              "      <td>No</td>\n",
              "      <td>Yes</td>\n",
              "      <td>Yes</td>\n",
              "      <td>Yes</td>\n",
              "      <td>Yes</td>\n",
              "      <td>No</td>\n",
              "      <td>2010.0</td>\n",
              "    </tr>\n",
              "  </tbody>\n",
              "</table>\n",
              "<p>7032 rows × 21 columns</p>\n",
              "</div>"
            ],
            "text/plain": [
              "      BeginDate    EndDate            Type PaperlessBilling  \\\n",
              "0    2020-01-01 2020-02-01  Month-to-month              Yes   \n",
              "1    2017-04-01 2020-02-01        One year               No   \n",
              "2    2019-10-01 2019-12-01  Month-to-month              Yes   \n",
              "3    2016-05-01 2020-02-01        One year               No   \n",
              "4    2019-09-01 2019-11-01  Month-to-month              Yes   \n",
              "...         ...        ...             ...              ...   \n",
              "7038 2018-02-01 2020-02-01        One year              Yes   \n",
              "7039 2014-02-01 2020-02-01        One year              Yes   \n",
              "7040 2019-03-01 2020-02-01  Month-to-month              Yes   \n",
              "7041 2019-07-01 2019-11-01  Month-to-month              Yes   \n",
              "7042 2014-08-01 2020-02-01        Two year              Yes   \n",
              "\n",
              "                  PaymentMethod  MonthlyCharges  TotalCharges  target  gender  \\\n",
              "0              Electronic check           29.85         29.85       0  Female   \n",
              "1                  Mailed check           56.95       1889.50       0    Male   \n",
              "2                  Mailed check           53.85        108.15       1    Male   \n",
              "3     Bank transfer (automatic)           42.30       1840.75       0    Male   \n",
              "4              Electronic check           70.70        151.65       1  Female   \n",
              "...                         ...             ...           ...     ...     ...   \n",
              "7038               Mailed check           84.80       1990.50       0    Male   \n",
              "7039    Credit card (automatic)          103.20       7362.90       0  Female   \n",
              "7040           Electronic check           29.60        346.45       0  Female   \n",
              "7041               Mailed check           74.40        306.60       1    Male   \n",
              "7042  Bank transfer (automatic)          105.65       6844.50       0    Male   \n",
              "\n",
              "      SeniorCitizen  ... Dependents InternetService OnlineSecurity  \\\n",
              "0                 0  ...         No             DSL             No   \n",
              "1                 0  ...         No             DSL            Yes   \n",
              "2                 0  ...         No             DSL            Yes   \n",
              "3                 0  ...         No             DSL            Yes   \n",
              "4                 0  ...         No     Fiber optic             No   \n",
              "...             ...  ...        ...             ...            ...   \n",
              "7038              0  ...        Yes             DSL            Yes   \n",
              "7039              0  ...        Yes     Fiber optic             No   \n",
              "7040              0  ...        Yes             DSL            Yes   \n",
              "7041              1  ...         No     Fiber optic             No   \n",
              "7042              0  ...         No     Fiber optic            Yes   \n",
              "\n",
              "     OnlineBackup DeviceProtection TechSupport StreamingTV StreamingMovies  \\\n",
              "0             Yes               No          No          No              No   \n",
              "1              No              Yes          No          No              No   \n",
              "2             Yes               No          No          No              No   \n",
              "3              No              Yes         Yes          No              No   \n",
              "4              No               No          No          No              No   \n",
              "...           ...              ...         ...         ...             ...   \n",
              "7038           No              Yes         Yes         Yes             Yes   \n",
              "7039          Yes              Yes          No         Yes             Yes   \n",
              "7040           No               No          No          No              No   \n",
              "7041           No               No          No          No              No   \n",
              "7042           No              Yes         Yes         Yes             Yes   \n",
              "\n",
              "     MultipleLines duration  \n",
              "0               No     31.0  \n",
              "1               No   1036.0  \n",
              "2               No     61.0  \n",
              "3               No   1371.0  \n",
              "4               No     61.0  \n",
              "...            ...      ...  \n",
              "7038           Yes    730.0  \n",
              "7039           Yes   2191.0  \n",
              "7040            No    337.0  \n",
              "7041           Yes    123.0  \n",
              "7042            No   2010.0  \n",
              "\n",
              "[7032 rows x 21 columns]"
            ]
          },
          "execution_count": 49,
          "metadata": {},
          "output_type": "execute_result"
        }
      ],
      "source": [
        "data.loc[data['EndDate'] == 'No', 'EndDate'] = '2020-02-01'\n",
        "data['EndDate'] = pd.to_datetime(data['EndDate'])\n",
        "data['duration'] =(data['EndDate'] - data['BeginDate']) / np.timedelta64 ( 1 , 'D')\n",
        "data"
      ]
    },
    {
      "cell_type": "code",
      "execution_count": null,
      "id": "f4942f94",
      "metadata": {
        "id": "f4942f94"
      },
      "outputs": [],
      "source": [
        "data = data.drop(['BeginDate', 'EndDate'], axis=1)"
      ]
    },
    {
      "cell_type": "markdown",
      "id": "57e2dd5a",
      "metadata": {
        "id": "57e2dd5a"
      },
      "source": [
        "Проверим уровень корреляции целевого признака с другими данными с целью избежать его утечки при обучении"
      ]
    },
    {
      "cell_type": "code",
      "execution_count": null,
      "id": "eb193353",
      "metadata": {
        "id": "eb193353",
        "outputId": "f5445017-a9f4-4b4a-8f13-08ee6d60c820"
      },
      "outputs": [
        {
          "name": "stdout",
          "output_type": "stream",
          "text": [
            "interval columns not set, guessing: ['MonthlyCharges', 'TotalCharges', 'target', 'SeniorCitizen', 'duration']\n"
          ]
        },
        {
          "data": {
            "image/png": "[encoded data removed]",
            "text/plain": [
              "<Figure size 1440x1440 with 2 Axes>"
            ]
          },
          "metadata": {
            "needs_background": "light"
          },
          "output_type": "display_data"
        }
      ],
      "source": [
        "phik_overview = data.phik_matrix()\n",
        "phik_overview.round(2)\n",
        "plot_correlation_matrix(phik_overview.values, \n",
        "                        x_labels=phik_overview.columns, \n",
        "                        y_labels=phik_overview.index, \n",
        "                        vmin=0, vmax=1, color_map=\"Greens\", \n",
        "                        title=r\"correlation $\\phi_K$\", \n",
        "                        fontsize_factor=1.5, \n",
        "                        figsize=(20, 20))\n",
        "plt.tight_layout()"
      ]
    },
    {
      "cell_type": "markdown",
      "id": "0119eb0d",
      "metadata": {
        "id": "0119eb0d"
      },
      "source": [
        "### Разделелие датафрейма"
      ]
    },
    {
      "cell_type": "markdown",
      "id": "3bac1bb4",
      "metadata": {
        "id": "3bac1bb4"
      },
      "source": [
        "Разделим базу данных на обучающую и тестовою"
      ]
    },
    {
      "cell_type": "code",
      "execution_count": null,
      "id": "38743e4c",
      "metadata": {
        "id": "38743e4c"
      },
      "outputs": [],
      "source": [
        "y = data['target']\n",
        "X = data.drop('target', axis=1)\n",
        "X_train, X_test, y_train, y_test = train_test_split(X, y,stratify=y, test_size=0.25, random_state=121222)\n"
      ]
    },
    {
      "cell_type": "markdown",
      "id": "8e7db8b0",
      "metadata": {
        "id": "8e7db8b0"
      },
      "source": [
        "### Кодирование признаков"
      ]
    },
    {
      "cell_type": "markdown",
      "id": "534e74da",
      "metadata": {
        "id": "534e74da"
      },
      "source": [
        "Проведем кодирование признаков методом OrdinalEncoder для бустинга и деревьев. Для этого создадим копию датафрейма."
      ]
    },
    {
      "cell_type": "code",
      "execution_count": null,
      "id": "de81f160",
      "metadata": {
        "id": "de81f160",
        "outputId": "d13c43b8-5562-4e68-acfe-3944dd0c658c"
      },
      "outputs": [
        {
          "data": {
            "text/plain": [
              "['MonthlyCharges', 'TotalCharges', 'SeniorCitizen', 'duration']"
            ]
          },
          "execution_count": 53,
          "metadata": {},
          "output_type": "execute_result"
        }
      ],
      "source": [
        "num_features = X_train.select_dtypes(exclude='object').columns.to_list()\n",
        "num_features"
      ]
    },
    {
      "cell_type": "code",
      "execution_count": null,
      "id": "a124387b",
      "metadata": {
        "scrolled": false,
        "id": "a124387b",
        "outputId": "7011d148-a1b8-4641-c537-7b845ea51fe7"
      },
      "outputs": [
        {
          "data": {
            "text/plain": [
              "['Type',\n",
              " 'PaperlessBilling',\n",
              " 'PaymentMethod',\n",
              " 'gender',\n",
              " 'Partner',\n",
              " 'Dependents',\n",
              " 'InternetService',\n",
              " 'OnlineSecurity',\n",
              " 'OnlineBackup',\n",
              " 'DeviceProtection',\n",
              " 'TechSupport',\n",
              " 'StreamingTV',\n",
              " 'StreamingMovies',\n",
              " 'MultipleLines']"
            ]
          },
          "execution_count": 54,
          "metadata": {},
          "output_type": "execute_result"
        }
      ],
      "source": [
        "#data_ord_enc = data.copy()scaler = StandardScaler()\n",
        "object_features = X_train.select_dtypes(include='object').columns.to_list()\n",
        "object_features"
      ]
    },
    {
      "cell_type": "code",
      "execution_count": null,
      "id": "deaee9f3",
      "metadata": {
        "scrolled": true,
        "id": "deaee9f3",
        "outputId": "9a01e213-7b1f-4afa-fe26-27a3bc1ba8c2"
      },
      "outputs": [
        {
          "data": {
            "text/html": [
              "<div>\n",
              "<style scoped>\n",
              "    .dataframe tbody tr th:only-of-type {\n",
              "        vertical-align: middle;\n",
              "    }\n",
              "\n",
              "    .dataframe tbody tr th {\n",
              "        vertical-align: top;\n",
              "    }\n",
              "\n",
              "    .dataframe thead th {\n",
              "        text-align: right;\n",
              "    }\n",
              "</style>\n",
              "<table border=\"1\" class=\"dataframe\">\n",
              "  <thead>\n",
              "    <tr style=\"text-align: right;\">\n",
              "      <th></th>\n",
              "      <th>Type</th>\n",
              "      <th>PaperlessBilling</th>\n",
              "      <th>PaymentMethod</th>\n",
              "      <th>MonthlyCharges</th>\n",
              "      <th>TotalCharges</th>\n",
              "      <th>gender</th>\n",
              "      <th>SeniorCitizen</th>\n",
              "      <th>Partner</th>\n",
              "      <th>Dependents</th>\n",
              "      <th>InternetService</th>\n",
              "      <th>OnlineSecurity</th>\n",
              "      <th>OnlineBackup</th>\n",
              "      <th>DeviceProtection</th>\n",
              "      <th>TechSupport</th>\n",
              "      <th>StreamingTV</th>\n",
              "      <th>StreamingMovies</th>\n",
              "      <th>MultipleLines</th>\n",
              "      <th>duration</th>\n",
              "    </tr>\n",
              "  </thead>\n",
              "  <tbody>\n",
              "    <tr>\n",
              "      <th>4862</th>\n",
              "      <td>Month-to-month</td>\n",
              "      <td>Yes</td>\n",
              "      <td>Electronic check</td>\n",
              "      <td>0.211394</td>\n",
              "      <td>-0.945526</td>\n",
              "      <td>Female</td>\n",
              "      <td>-0.440787</td>\n",
              "      <td>No</td>\n",
              "      <td>No</td>\n",
              "      <td>Fiber optic</td>\n",
              "      <td>No</td>\n",
              "      <td>No</td>\n",
              "      <td>No</td>\n",
              "      <td>No</td>\n",
              "      <td>No</td>\n",
              "      <td>No</td>\n",
              "      <td>No</td>\n",
              "      <td>-1.243106</td>\n",
              "    </tr>\n",
              "    <tr>\n",
              "      <th>1367</th>\n",
              "      <td>Month-to-month</td>\n",
              "      <td>Yes</td>\n",
              "      <td>Electronic check</td>\n",
              "      <td>0.584212</td>\n",
              "      <td>1.163702</td>\n",
              "      <td>Male</td>\n",
              "      <td>2.268668</td>\n",
              "      <td>Yes</td>\n",
              "      <td>No</td>\n",
              "      <td>Fiber optic</td>\n",
              "      <td>No</td>\n",
              "      <td>Yes</td>\n",
              "      <td>No</td>\n",
              "      <td>No</td>\n",
              "      <td>No</td>\n",
              "      <td>No</td>\n",
              "      <td>Yes</td>\n",
              "      <td>1.163379</td>\n",
              "    </tr>\n",
              "    <tr>\n",
              "      <th>6969</th>\n",
              "      <td>Month-to-month</td>\n",
              "      <td>No</td>\n",
              "      <td>Mailed check</td>\n",
              "      <td>-1.467950</td>\n",
              "      <td>-0.997495</td>\n",
              "      <td>Male</td>\n",
              "      <td>-0.440787</td>\n",
              "      <td>No</td>\n",
              "      <td>No</td>\n",
              "      <td>No</td>\n",
              "      <td>No</td>\n",
              "      <td>No</td>\n",
              "      <td>No</td>\n",
              "      <td>No</td>\n",
              "      <td>No</td>\n",
              "      <td>No</td>\n",
              "      <td>No</td>\n",
              "      <td>-1.284643</td>\n",
              "    </tr>\n",
              "    <tr>\n",
              "      <th>932</th>\n",
              "      <td>Two year</td>\n",
              "      <td>No</td>\n",
              "      <td>Credit card (automatic)</td>\n",
              "      <td>-1.507895</td>\n",
              "      <td>-0.429226</td>\n",
              "      <td>Male</td>\n",
              "      <td>-0.440787</td>\n",
              "      <td>Yes</td>\n",
              "      <td>No</td>\n",
              "      <td>No</td>\n",
              "      <td>No</td>\n",
              "      <td>No</td>\n",
              "      <td>No</td>\n",
              "      <td>No</td>\n",
              "      <td>No</td>\n",
              "      <td>No</td>\n",
              "      <td>No</td>\n",
              "      <td>1.610910</td>\n",
              "    </tr>\n",
              "    <tr>\n",
              "      <th>1469</th>\n",
              "      <td>Month-to-month</td>\n",
              "      <td>No</td>\n",
              "      <td>Bank transfer (automatic)</td>\n",
              "      <td>1.138445</td>\n",
              "      <td>0.531274</td>\n",
              "      <td>Male</td>\n",
              "      <td>-0.440787</td>\n",
              "      <td>No</td>\n",
              "      <td>No</td>\n",
              "      <td>Fiber optic</td>\n",
              "      <td>No</td>\n",
              "      <td>No</td>\n",
              "      <td>No</td>\n",
              "      <td>Yes</td>\n",
              "      <td>Yes</td>\n",
              "      <td>Yes</td>\n",
              "      <td>Yes</td>\n",
              "      <td>0.183902</td>\n",
              "    </tr>\n",
              "    <tr>\n",
              "      <th>...</th>\n",
              "      <td>...</td>\n",
              "      <td>...</td>\n",
              "      <td>...</td>\n",
              "      <td>...</td>\n",
              "      <td>...</td>\n",
              "      <td>...</td>\n",
              "      <td>...</td>\n",
              "      <td>...</td>\n",
              "      <td>...</td>\n",
              "      <td>...</td>\n",
              "      <td>...</td>\n",
              "      <td>...</td>\n",
              "      <td>...</td>\n",
              "      <td>...</td>\n",
              "      <td>...</td>\n",
              "      <td>...</td>\n",
              "      <td>...</td>\n",
              "      <td>...</td>\n",
              "    </tr>\n",
              "    <tr>\n",
              "      <th>2757</th>\n",
              "      <td>One year</td>\n",
              "      <td>No</td>\n",
              "      <td>Bank transfer (automatic)</td>\n",
              "      <td>0.660773</td>\n",
              "      <td>1.581287</td>\n",
              "      <td>Female</td>\n",
              "      <td>-0.440787</td>\n",
              "      <td>Yes</td>\n",
              "      <td>Yes</td>\n",
              "      <td>Fiber optic</td>\n",
              "      <td>Yes</td>\n",
              "      <td>No</td>\n",
              "      <td>Yes</td>\n",
              "      <td>No</td>\n",
              "      <td>No</td>\n",
              "      <td>No</td>\n",
              "      <td>Yes</td>\n",
              "      <td>1.491657</td>\n",
              "    </tr>\n",
              "    <tr>\n",
              "      <th>2443</th>\n",
              "      <td>Two year</td>\n",
              "      <td>No</td>\n",
              "      <td>Credit card (automatic)</td>\n",
              "      <td>1.496284</td>\n",
              "      <td>2.483336</td>\n",
              "      <td>Female</td>\n",
              "      <td>-0.440787</td>\n",
              "      <td>Yes</td>\n",
              "      <td>Yes</td>\n",
              "      <td>Fiber optic</td>\n",
              "      <td>Yes</td>\n",
              "      <td>Yes</td>\n",
              "      <td>Yes</td>\n",
              "      <td>No</td>\n",
              "      <td>Yes</td>\n",
              "      <td>Yes</td>\n",
              "      <td>Yes</td>\n",
              "      <td>1.610910</td>\n",
              "    </tr>\n",
              "    <tr>\n",
              "      <th>2596</th>\n",
              "      <td>One year</td>\n",
              "      <td>Yes</td>\n",
              "      <td>Credit card (automatic)</td>\n",
              "      <td>-0.191382</td>\n",
              "      <td>-0.468761</td>\n",
              "      <td>Female</td>\n",
              "      <td>-0.440787</td>\n",
              "      <td>Yes</td>\n",
              "      <td>Yes</td>\n",
              "      <td>DSL</td>\n",
              "      <td>No</td>\n",
              "      <td>Yes</td>\n",
              "      <td>No</td>\n",
              "      <td>No</td>\n",
              "      <td>Yes</td>\n",
              "      <td>No</td>\n",
              "      <td>No</td>\n",
              "      <td>-0.465956</td>\n",
              "    </tr>\n",
              "    <tr>\n",
              "      <th>6091</th>\n",
              "      <td>Month-to-month</td>\n",
              "      <td>Yes</td>\n",
              "      <td>Mailed check</td>\n",
              "      <td>0.740662</td>\n",
              "      <td>-0.937385</td>\n",
              "      <td>Male</td>\n",
              "      <td>2.268668</td>\n",
              "      <td>Yes</td>\n",
              "      <td>No</td>\n",
              "      <td>Fiber optic</td>\n",
              "      <td>No</td>\n",
              "      <td>No</td>\n",
              "      <td>No</td>\n",
              "      <td>No</td>\n",
              "      <td>Yes</td>\n",
              "      <td>No</td>\n",
              "      <td>Yes</td>\n",
              "      <td>-1.243106</td>\n",
              "    </tr>\n",
              "    <tr>\n",
              "      <th>2133</th>\n",
              "      <td>Month-to-month</td>\n",
              "      <td>Yes</td>\n",
              "      <td>Electronic check</td>\n",
              "      <td>0.198079</td>\n",
              "      <td>-0.975349</td>\n",
              "      <td>Female</td>\n",
              "      <td>2.268668</td>\n",
              "      <td>No</td>\n",
              "      <td>No</td>\n",
              "      <td>Fiber optic</td>\n",
              "      <td>No</td>\n",
              "      <td>No</td>\n",
              "      <td>No</td>\n",
              "      <td>No</td>\n",
              "      <td>No</td>\n",
              "      <td>No</td>\n",
              "      <td>No</td>\n",
              "      <td>-1.284643</td>\n",
              "    </tr>\n",
              "  </tbody>\n",
              "</table>\n",
              "<p>5274 rows × 18 columns</p>\n",
              "</div>"
            ],
            "text/plain": [
              "                Type PaperlessBilling              PaymentMethod  \\\n",
              "4862  Month-to-month              Yes           Electronic check   \n",
              "1367  Month-to-month              Yes           Electronic check   \n",
              "6969  Month-to-month               No               Mailed check   \n",
              "932         Two year               No    Credit card (automatic)   \n",
              "1469  Month-to-month               No  Bank transfer (automatic)   \n",
              "...              ...              ...                        ...   \n",
              "2757        One year               No  Bank transfer (automatic)   \n",
              "2443        Two year               No    Credit card (automatic)   \n",
              "2596        One year              Yes    Credit card (automatic)   \n",
              "6091  Month-to-month              Yes               Mailed check   \n",
              "2133  Month-to-month              Yes           Electronic check   \n",
              "\n",
              "      MonthlyCharges  TotalCharges  gender  SeniorCitizen Partner Dependents  \\\n",
              "4862        0.211394     -0.945526  Female      -0.440787      No         No   \n",
              "1367        0.584212      1.163702    Male       2.268668     Yes         No   \n",
              "6969       -1.467950     -0.997495    Male      -0.440787      No         No   \n",
              "932        -1.507895     -0.429226    Male      -0.440787     Yes         No   \n",
              "1469        1.138445      0.531274    Male      -0.440787      No         No   \n",
              "...              ...           ...     ...            ...     ...        ...   \n",
              "2757        0.660773      1.581287  Female      -0.440787     Yes        Yes   \n",
              "2443        1.496284      2.483336  Female      -0.440787     Yes        Yes   \n",
              "2596       -0.191382     -0.468761  Female      -0.440787     Yes        Yes   \n",
              "6091        0.740662     -0.937385    Male       2.268668     Yes         No   \n",
              "2133        0.198079     -0.975349  Female       2.268668      No         No   \n",
              "\n",
              "     InternetService OnlineSecurity OnlineBackup DeviceProtection TechSupport  \\\n",
              "4862     Fiber optic             No           No               No          No   \n",
              "1367     Fiber optic             No          Yes               No          No   \n",
              "6969              No             No           No               No          No   \n",
              "932               No             No           No               No          No   \n",
              "1469     Fiber optic             No           No               No         Yes   \n",
              "...              ...            ...          ...              ...         ...   \n",
              "2757     Fiber optic            Yes           No              Yes          No   \n",
              "2443     Fiber optic            Yes          Yes              Yes          No   \n",
              "2596             DSL             No          Yes               No          No   \n",
              "6091     Fiber optic             No           No               No          No   \n",
              "2133     Fiber optic             No           No               No          No   \n",
              "\n",
              "     StreamingTV StreamingMovies MultipleLines  duration  \n",
              "4862          No              No            No -1.243106  \n",
              "1367          No              No           Yes  1.163379  \n",
              "6969          No              No            No -1.284643  \n",
              "932           No              No            No  1.610910  \n",
              "1469         Yes             Yes           Yes  0.183902  \n",
              "...          ...             ...           ...       ...  \n",
              "2757          No              No           Yes  1.491657  \n",
              "2443         Yes             Yes           Yes  1.610910  \n",
              "2596         Yes              No            No -0.465956  \n",
              "6091         Yes              No           Yes -1.243106  \n",
              "2133          No              No            No -1.284643  \n",
              "\n",
              "[5274 rows x 18 columns]"
            ]
          },
          "execution_count": 55,
          "metadata": {},
          "output_type": "execute_result"
        }
      ],
      "source": [
        "scaler = StandardScaler()\n",
        "X_train_stand = X_train.copy()\n",
        "X_train_stand[num_features] = scaler.fit_transform(X_train[num_features])\n",
        "X_train_stand"
      ]
    },
    {
      "cell_type": "code",
      "execution_count": null,
      "id": "5e25ab30",
      "metadata": {
        "id": "5e25ab30"
      },
      "outputs": [],
      "source": [
        "X_test_stand = X_test.copy()\n",
        "X_test_stand[num_features] = scaler.transform(X_test[num_features])"
      ]
    },
    {
      "cell_type": "markdown",
      "id": "cdaee151",
      "metadata": {
        "id": "cdaee151"
      },
      "source": [
        " Теперь кодирование."
      ]
    },
    {
      "cell_type": "code",
      "execution_count": null,
      "id": "0b2182f3",
      "metadata": {
        "id": "0b2182f3"
      },
      "outputs": [],
      "source": [
        "ord_enc = OrdinalEncoder(handle_unknown='use_encoded_value', unknown_value=-1)\n",
        "X_train_ord_enc = ord_enc.fit_transform(X_train[object_features])\n"
      ]
    },
    {
      "cell_type": "markdown",
      "id": "652fb088",
      "metadata": {
        "id": "652fb088"
      },
      "source": [
        "Для линейных моделей создадим отделный фрейм с прямым кодированием категоральных данных"
      ]
    },
    {
      "cell_type": "code",
      "execution_count": null,
      "id": "010aea45",
      "metadata": {
        "scrolled": true,
        "id": "010aea45",
        "outputId": "fa2d7624-6256-4a7a-c812-5f555a12ad04"
      },
      "outputs": [
        {
          "data": {
            "text/html": [
              "<div>\n",
              "<style scoped>\n",
              "    .dataframe tbody tr th:only-of-type {\n",
              "        vertical-align: middle;\n",
              "    }\n",
              "\n",
              "    .dataframe tbody tr th {\n",
              "        vertical-align: top;\n",
              "    }\n",
              "\n",
              "    .dataframe thead th {\n",
              "        text-align: right;\n",
              "    }\n",
              "</style>\n",
              "<table border=\"1\" class=\"dataframe\">\n",
              "  <thead>\n",
              "    <tr style=\"text-align: right;\">\n",
              "      <th></th>\n",
              "      <th>MonthlyCharges</th>\n",
              "      <th>TotalCharges</th>\n",
              "      <th>SeniorCitizen</th>\n",
              "      <th>duration</th>\n",
              "      <th>Type_One year</th>\n",
              "      <th>Type_Two year</th>\n",
              "      <th>PaperlessBilling_Yes</th>\n",
              "      <th>PaymentMethod_Credit card (automatic)</th>\n",
              "      <th>PaymentMethod_Electronic check</th>\n",
              "      <th>PaymentMethod_Mailed check</th>\n",
              "      <th>...</th>\n",
              "      <th>Dependents_Yes</th>\n",
              "      <th>InternetService_Fiber optic</th>\n",
              "      <th>InternetService_No</th>\n",
              "      <th>OnlineSecurity_Yes</th>\n",
              "      <th>OnlineBackup_Yes</th>\n",
              "      <th>DeviceProtection_Yes</th>\n",
              "      <th>TechSupport_Yes</th>\n",
              "      <th>StreamingTV_Yes</th>\n",
              "      <th>StreamingMovies_Yes</th>\n",
              "      <th>MultipleLines_Yes</th>\n",
              "    </tr>\n",
              "  </thead>\n",
              "  <tbody>\n",
              "    <tr>\n",
              "      <th>4862</th>\n",
              "      <td>0.211394</td>\n",
              "      <td>-0.945526</td>\n",
              "      <td>-0.440787</td>\n",
              "      <td>-1.243106</td>\n",
              "      <td>0</td>\n",
              "      <td>0</td>\n",
              "      <td>1</td>\n",
              "      <td>0</td>\n",
              "      <td>1</td>\n",
              "      <td>0</td>\n",
              "      <td>...</td>\n",
              "      <td>0</td>\n",
              "      <td>1</td>\n",
              "      <td>0</td>\n",
              "      <td>0</td>\n",
              "      <td>0</td>\n",
              "      <td>0</td>\n",
              "      <td>0</td>\n",
              "      <td>0</td>\n",
              "      <td>0</td>\n",
              "      <td>0</td>\n",
              "    </tr>\n",
              "    <tr>\n",
              "      <th>1367</th>\n",
              "      <td>0.584212</td>\n",
              "      <td>1.163702</td>\n",
              "      <td>2.268668</td>\n",
              "      <td>1.163379</td>\n",
              "      <td>0</td>\n",
              "      <td>0</td>\n",
              "      <td>1</td>\n",
              "      <td>0</td>\n",
              "      <td>1</td>\n",
              "      <td>0</td>\n",
              "      <td>...</td>\n",
              "      <td>0</td>\n",
              "      <td>1</td>\n",
              "      <td>0</td>\n",
              "      <td>0</td>\n",
              "      <td>1</td>\n",
              "      <td>0</td>\n",
              "      <td>0</td>\n",
              "      <td>0</td>\n",
              "      <td>0</td>\n",
              "      <td>1</td>\n",
              "    </tr>\n",
              "    <tr>\n",
              "      <th>6969</th>\n",
              "      <td>-1.467950</td>\n",
              "      <td>-0.997495</td>\n",
              "      <td>-0.440787</td>\n",
              "      <td>-1.284643</td>\n",
              "      <td>0</td>\n",
              "      <td>0</td>\n",
              "      <td>0</td>\n",
              "      <td>0</td>\n",
              "      <td>0</td>\n",
              "      <td>1</td>\n",
              "      <td>...</td>\n",
              "      <td>0</td>\n",
              "      <td>0</td>\n",
              "      <td>1</td>\n",
              "      <td>0</td>\n",
              "      <td>0</td>\n",
              "      <td>0</td>\n",
              "      <td>0</td>\n",
              "      <td>0</td>\n",
              "      <td>0</td>\n",
              "      <td>0</td>\n",
              "    </tr>\n",
              "    <tr>\n",
              "      <th>932</th>\n",
              "      <td>-1.507895</td>\n",
              "      <td>-0.429226</td>\n",
              "      <td>-0.440787</td>\n",
              "      <td>1.610910</td>\n",
              "      <td>0</td>\n",
              "      <td>1</td>\n",
              "      <td>0</td>\n",
              "      <td>1</td>\n",
              "      <td>0</td>\n",
              "      <td>0</td>\n",
              "      <td>...</td>\n",
              "      <td>0</td>\n",
              "      <td>0</td>\n",
              "      <td>1</td>\n",
              "      <td>0</td>\n",
              "      <td>0</td>\n",
              "      <td>0</td>\n",
              "      <td>0</td>\n",
              "      <td>0</td>\n",
              "      <td>0</td>\n",
              "      <td>0</td>\n",
              "    </tr>\n",
              "    <tr>\n",
              "      <th>1469</th>\n",
              "      <td>1.138445</td>\n",
              "      <td>0.531274</td>\n",
              "      <td>-0.440787</td>\n",
              "      <td>0.183902</td>\n",
              "      <td>0</td>\n",
              "      <td>0</td>\n",
              "      <td>0</td>\n",
              "      <td>0</td>\n",
              "      <td>0</td>\n",
              "      <td>0</td>\n",
              "      <td>...</td>\n",
              "      <td>0</td>\n",
              "      <td>1</td>\n",
              "      <td>0</td>\n",
              "      <td>0</td>\n",
              "      <td>0</td>\n",
              "      <td>0</td>\n",
              "      <td>1</td>\n",
              "      <td>1</td>\n",
              "      <td>1</td>\n",
              "      <td>1</td>\n",
              "    </tr>\n",
              "    <tr>\n",
              "      <th>...</th>\n",
              "      <td>...</td>\n",
              "      <td>...</td>\n",
              "      <td>...</td>\n",
              "      <td>...</td>\n",
              "      <td>...</td>\n",
              "      <td>...</td>\n",
              "      <td>...</td>\n",
              "      <td>...</td>\n",
              "      <td>...</td>\n",
              "      <td>...</td>\n",
              "      <td>...</td>\n",
              "      <td>...</td>\n",
              "      <td>...</td>\n",
              "      <td>...</td>\n",
              "      <td>...</td>\n",
              "      <td>...</td>\n",
              "      <td>...</td>\n",
              "      <td>...</td>\n",
              "      <td>...</td>\n",
              "      <td>...</td>\n",
              "      <td>...</td>\n",
              "    </tr>\n",
              "    <tr>\n",
              "      <th>2757</th>\n",
              "      <td>0.660773</td>\n",
              "      <td>1.581287</td>\n",
              "      <td>-0.440787</td>\n",
              "      <td>1.491657</td>\n",
              "      <td>1</td>\n",
              "      <td>0</td>\n",
              "      <td>0</td>\n",
              "      <td>0</td>\n",
              "      <td>0</td>\n",
              "      <td>0</td>\n",
              "      <td>...</td>\n",
              "      <td>1</td>\n",
              "      <td>1</td>\n",
              "      <td>0</td>\n",
              "      <td>1</td>\n",
              "      <td>0</td>\n",
              "      <td>1</td>\n",
              "      <td>0</td>\n",
              "      <td>0</td>\n",
              "      <td>0</td>\n",
              "      <td>1</td>\n",
              "    </tr>\n",
              "    <tr>\n",
              "      <th>2443</th>\n",
              "      <td>1.496284</td>\n",
              "      <td>2.483336</td>\n",
              "      <td>-0.440787</td>\n",
              "      <td>1.610910</td>\n",
              "      <td>0</td>\n",
              "      <td>1</td>\n",
              "      <td>0</td>\n",
              "      <td>1</td>\n",
              "      <td>0</td>\n",
              "      <td>0</td>\n",
              "      <td>...</td>\n",
              "      <td>1</td>\n",
              "      <td>1</td>\n",
              "      <td>0</td>\n",
              "      <td>1</td>\n",
              "      <td>1</td>\n",
              "      <td>1</td>\n",
              "      <td>0</td>\n",
              "      <td>1</td>\n",
              "      <td>1</td>\n",
              "      <td>1</td>\n",
              "    </tr>\n",
              "    <tr>\n",
              "      <th>2596</th>\n",
              "      <td>-0.191382</td>\n",
              "      <td>-0.468761</td>\n",
              "      <td>-0.440787</td>\n",
              "      <td>-0.465956</td>\n",
              "      <td>1</td>\n",
              "      <td>0</td>\n",
              "      <td>1</td>\n",
              "      <td>1</td>\n",
              "      <td>0</td>\n",
              "      <td>0</td>\n",
              "      <td>...</td>\n",
              "      <td>1</td>\n",
              "      <td>0</td>\n",
              "      <td>0</td>\n",
              "      <td>0</td>\n",
              "      <td>1</td>\n",
              "      <td>0</td>\n",
              "      <td>0</td>\n",
              "      <td>1</td>\n",
              "      <td>0</td>\n",
              "      <td>0</td>\n",
              "    </tr>\n",
              "    <tr>\n",
              "      <th>6091</th>\n",
              "      <td>0.740662</td>\n",
              "      <td>-0.937385</td>\n",
              "      <td>2.268668</td>\n",
              "      <td>-1.243106</td>\n",
              "      <td>0</td>\n",
              "      <td>0</td>\n",
              "      <td>1</td>\n",
              "      <td>0</td>\n",
              "      <td>0</td>\n",
              "      <td>1</td>\n",
              "      <td>...</td>\n",
              "      <td>0</td>\n",
              "      <td>1</td>\n",
              "      <td>0</td>\n",
              "      <td>0</td>\n",
              "      <td>0</td>\n",
              "      <td>0</td>\n",
              "      <td>0</td>\n",
              "      <td>1</td>\n",
              "      <td>0</td>\n",
              "      <td>1</td>\n",
              "    </tr>\n",
              "    <tr>\n",
              "      <th>2133</th>\n",
              "      <td>0.198079</td>\n",
              "      <td>-0.975349</td>\n",
              "      <td>2.268668</td>\n",
              "      <td>-1.284643</td>\n",
              "      <td>0</td>\n",
              "      <td>0</td>\n",
              "      <td>1</td>\n",
              "      <td>0</td>\n",
              "      <td>1</td>\n",
              "      <td>0</td>\n",
              "      <td>...</td>\n",
              "      <td>0</td>\n",
              "      <td>1</td>\n",
              "      <td>0</td>\n",
              "      <td>0</td>\n",
              "      <td>0</td>\n",
              "      <td>0</td>\n",
              "      <td>0</td>\n",
              "      <td>0</td>\n",
              "      <td>0</td>\n",
              "      <td>0</td>\n",
              "    </tr>\n",
              "  </tbody>\n",
              "</table>\n",
              "<p>5274 rows × 22 columns</p>\n",
              "</div>"
            ],
            "text/plain": [
              "      MonthlyCharges  TotalCharges  SeniorCitizen  duration  Type_One year  \\\n",
              "4862        0.211394     -0.945526      -0.440787 -1.243106              0   \n",
              "1367        0.584212      1.163702       2.268668  1.163379              0   \n",
              "6969       -1.467950     -0.997495      -0.440787 -1.284643              0   \n",
              "932        -1.507895     -0.429226      -0.440787  1.610910              0   \n",
              "1469        1.138445      0.531274      -0.440787  0.183902              0   \n",
              "...              ...           ...            ...       ...            ...   \n",
              "2757        0.660773      1.581287      -0.440787  1.491657              1   \n",
              "2443        1.496284      2.483336      -0.440787  1.610910              0   \n",
              "2596       -0.191382     -0.468761      -0.440787 -0.465956              1   \n",
              "6091        0.740662     -0.937385       2.268668 -1.243106              0   \n",
              "2133        0.198079     -0.975349       2.268668 -1.284643              0   \n",
              "\n",
              "      Type_Two year  PaperlessBilling_Yes  \\\n",
              "4862              0                     1   \n",
              "1367              0                     1   \n",
              "6969              0                     0   \n",
              "932               1                     0   \n",
              "1469              0                     0   \n",
              "...             ...                   ...   \n",
              "2757              0                     0   \n",
              "2443              1                     0   \n",
              "2596              0                     1   \n",
              "6091              0                     1   \n",
              "2133              0                     1   \n",
              "\n",
              "      PaymentMethod_Credit card (automatic)  PaymentMethod_Electronic check  \\\n",
              "4862                                      0                               1   \n",
              "1367                                      0                               1   \n",
              "6969                                      0                               0   \n",
              "932                                       1                               0   \n",
              "1469                                      0                               0   \n",
              "...                                     ...                             ...   \n",
              "2757                                      0                               0   \n",
              "2443                                      1                               0   \n",
              "2596                                      1                               0   \n",
              "6091                                      0                               0   \n",
              "2133                                      0                               1   \n",
              "\n",
              "      PaymentMethod_Mailed check  ...  Dependents_Yes  \\\n",
              "4862                           0  ...               0   \n",
              "1367                           0  ...               0   \n",
              "6969                           1  ...               0   \n",
              "932                            0  ...               0   \n",
              "1469                           0  ...               0   \n",
              "...                          ...  ...             ...   \n",
              "2757                           0  ...               1   \n",
              "2443                           0  ...               1   \n",
              "2596                           0  ...               1   \n",
              "6091                           1  ...               0   \n",
              "2133                           0  ...               0   \n",
              "\n",
              "      InternetService_Fiber optic  InternetService_No  OnlineSecurity_Yes  \\\n",
              "4862                            1                   0                   0   \n",
              "1367                            1                   0                   0   \n",
              "6969                            0                   1                   0   \n",
              "932                             0                   1                   0   \n",
              "1469                            1                   0                   0   \n",
              "...                           ...                 ...                 ...   \n",
              "2757                            1                   0                   1   \n",
              "2443                            1                   0                   1   \n",
              "2596                            0                   0                   0   \n",
              "6091                            1                   0                   0   \n",
              "2133                            1                   0                   0   \n",
              "\n",
              "      OnlineBackup_Yes  DeviceProtection_Yes  TechSupport_Yes  \\\n",
              "4862                 0                     0                0   \n",
              "1367                 1                     0                0   \n",
              "6969                 0                     0                0   \n",
              "932                  0                     0                0   \n",
              "1469                 0                     0                1   \n",
              "...                ...                   ...              ...   \n",
              "2757                 0                     1                0   \n",
              "2443                 1                     1                0   \n",
              "2596                 1                     0                0   \n",
              "6091                 0                     0                0   \n",
              "2133                 0                     0                0   \n",
              "\n",
              "      StreamingTV_Yes  StreamingMovies_Yes  MultipleLines_Yes  \n",
              "4862                0                    0                  0  \n",
              "1367                0                    0                  1  \n",
              "6969                0                    0                  0  \n",
              "932                 0                    0                  0  \n",
              "1469                1                    1                  1  \n",
              "...               ...                  ...                ...  \n",
              "2757                0                    0                  1  \n",
              "2443                1                    1                  1  \n",
              "2596                1                    0                  0  \n",
              "6091                1                    0                  1  \n",
              "2133                0                    0                  0  \n",
              "\n",
              "[5274 rows x 22 columns]"
            ]
          },
          "execution_count": 61,
          "metadata": {},
          "output_type": "execute_result"
        }
      ],
      "source": [
        "X_train_ohe = pd.get_dummies(X_train_stand, drop_first=True)\n",
        "X_test_ohe = pd.get_dummies(X_test_stand, drop_first=True)\n",
        "\n",
        "X_train_ohe\n"
      ]
    },
    {
      "cell_type": "markdown",
      "id": "10900c0f",
      "metadata": {
        "id": "10900c0f"
      },
      "source": [
        "### Обучение моделей"
      ]
    },
    {
      "cell_type": "markdown",
      "id": "2ccb80d6",
      "metadata": {
        "id": "2ccb80d6"
      },
      "source": [
        "Создадим фрейм для объедеинения результатов обучения"
      ]
    },
    {
      "cell_type": "code",
      "execution_count": null,
      "id": "44c7938d",
      "metadata": {
        "id": "44c7938d"
      },
      "outputs": [],
      "source": [
        "models = pd.DataFrame(columns=['Model', 'ROC_AUC'])\n",
        "def metrics(model_name, roc_auc, df):\n",
        "    \n",
        "    df.loc[model_name,'Model'] = model_name\n",
        "    df.loc[model_name,'ROC_AUC'] = roc_auc\n",
        "    \n",
        "    return df"
      ]
    },
    {
      "cell_type": "markdown",
      "id": "437ab425",
      "metadata": {
        "id": "437ab425"
      },
      "source": [
        "#### CatBoostClassifier"
      ]
    },
    {
      "cell_type": "code",
      "execution_count": null,
      "id": "2d55272c",
      "metadata": {
        "id": "2d55272c"
      },
      "outputs": [],
      "source": [
        "CBC = CatBoostClassifier(random_state=121222, auto_class_weights  = 'Balanced')\n",
        "parameters = {'depth': [1, 2, 3],\n",
        "              'learning_rate' : [0.4 , 0.5],\n",
        "              'iterations'    : [80, 90, 100],\n",
        "                               }"
      ]
    },
    {
      "cell_type": "code",
      "execution_count": null,
      "id": "fb39b214",
      "metadata": {
        "id": "fb39b214"
      },
      "outputs": [],
      "source": [
        "grid = GridSearchCV(estimator=CBC, param_grid = parameters, cv = 3, n_jobs=-1, scoring='roc_auc')\n",
        "grid.fit(X_train_ord_enc, y_train)\n",
        "print(\"best parameters \", grid.best_params_)\n",
        "print(\"roc_auc :\", grid.best_score_)\n",
        "metrics('CatBoostClassifier', grid.best_score_, models)"
      ]
    },
    {
      "cell_type": "markdown",
      "id": "f0ee6edb",
      "metadata": {
        "id": "f0ee6edb"
      },
      "source": [
        " Проверим CatBoost на необработанных данных, без масштабирования. Категоральные признаки передадим через параметр 'cat_features'.</div>"
      ]
    },
    {
      "cell_type": "code",
      "execution_count": null,
      "id": "13774353",
      "metadata": {
        "id": "13774353"
      },
      "outputs": [],
      "source": [
        "grid_unprepeared = GridSearchCV(estimator=CBC, param_grid = parameters, cv = 3, n_jobs=-1, scoring='roc_auc')\n",
        "cat_features = ['Type', 'PaperlessBilling', 'PaymentMethod',  'gender', 'Partner', 'Dependents',\n",
        "             'InternetService', 'OnlineSecurity', 'OnlineBackup', 'DeviceProtection',\n",
        "              'TechSupport', 'StreamingTV', 'StreamingMovies', 'MultipleLines']\n",
        "\n",
        "grid_unprepeared.fit(X_train, y_train, cat_features=cat_features)\n",
        "print(\"best parameters \", grid_unprepeared.best_params_)\n",
        "print(\"roc_auc :\", grid_unprepeared.best_score_)\n",
        "metrics('CatBoostClassifier_unprepeared', grid_unprepeared.best_score_, models)"
      ]
    },
    {
      "cell_type": "markdown",
      "id": "ab76b129",
      "metadata": {
        "id": "ab76b129"
      },
      "source": [
        "#### DecisionTreeClassifier"
      ]
    },
    {
      "cell_type": "code",
      "execution_count": null,
      "id": "2eb096e5",
      "metadata": {
        "id": "2eb096e5",
        "outputId": "85e06fca-7c86-4240-d923-7ab4221c53f6"
      },
      "outputs": [
        {
          "name": "stdout",
          "output_type": "stream",
          "text": [
            "Fitting 4 folds for each of 686 candidates, totalling 2744 fits\n",
            "best parameters  {'max_leaf_nodes': 16, 'min_samples_split': 2}\n",
            "roc_auc : 0.8095781690952146\n"
          ]
        },
        {
          "data": {
            "text/html": [
              "<div>\n",
              "<style scoped>\n",
              "    .dataframe tbody tr th:only-of-type {\n",
              "        vertical-align: middle;\n",
              "    }\n",
              "\n",
              "    .dataframe tbody tr th {\n",
              "        vertical-align: top;\n",
              "    }\n",
              "\n",
              "    .dataframe thead th {\n",
              "        text-align: right;\n",
              "    }\n",
              "</style>\n",
              "<table border=\"1\" class=\"dataframe\">\n",
              "  <thead>\n",
              "    <tr style=\"text-align: right;\">\n",
              "      <th></th>\n",
              "      <th>Model</th>\n",
              "      <th>ROC_AUC</th>\n",
              "    </tr>\n",
              "  </thead>\n",
              "  <tbody>\n",
              "    <tr>\n",
              "      <th>CatBoostClassifier</th>\n",
              "      <td>CatBoostClassifier</td>\n",
              "      <td>0.828003</td>\n",
              "    </tr>\n",
              "    <tr>\n",
              "      <th>CatBoostClassifier_unprepeared</th>\n",
              "      <td>CatBoostClassifier_unprepeared</td>\n",
              "      <td>0.878732</td>\n",
              "    </tr>\n",
              "    <tr>\n",
              "      <th>DecisionTreeClassifier</th>\n",
              "      <td>DecisionTreeClassifier</td>\n",
              "      <td>0.809578</td>\n",
              "    </tr>\n",
              "  </tbody>\n",
              "</table>\n",
              "</div>"
            ],
            "text/plain": [
              "                                                         Model   ROC_AUC\n",
              "CatBoostClassifier                          CatBoostClassifier  0.828003\n",
              "CatBoostClassifier_unprepeared  CatBoostClassifier_unprepeared  0.878732\n",
              "DecisionTreeClassifier                  DecisionTreeClassifier  0.809578"
            ]
          },
          "execution_count": 73,
          "metadata": {},
          "output_type": "execute_result"
        }
      ],
      "source": [
        "params = {'max_leaf_nodes': list(range(2, 100)), 'min_samples_split': [2, 3, 4, 5, 6, 7, 8]}\n",
        "grid_search_cv = GridSearchCV(DecisionTreeClassifier(random_state=121222), params, verbose=1, cv=4, scoring='roc_auc')\n",
        "grid_search_cv.fit(X_train_ord_enc, y_train)\n",
        "print(\"best parameters \", grid_search_cv.best_params_)\n",
        "print(\"roc_auc :\", grid_search_cv.best_score_)\n",
        "metrics('DecisionTreeClassifier', grid_search_cv.best_score_, models)"
      ]
    },
    {
      "cell_type": "markdown",
      "id": "3202d95a",
      "metadata": {
        "id": "3202d95a"
      },
      "source": [
        "#### LogisticRegression"
      ]
    },
    {
      "cell_type": "code",
      "execution_count": null,
      "id": "40fa4772",
      "metadata": {
        "id": "40fa4772"
      },
      "outputs": [],
      "source": [
        "grid_log_reg={\"C\":np.logspace(-4, 4, 15), \"penalty\":[\"l1\", \"l2\", \"none\", 'elasticnet'], \n",
        "              \"class_weight\" : [None, 'balanced'], \"solver\" : ['liblinear', 'lbfgs'],                                                          \n",
        "              \"multi_class\" : ['auto', 'ovr', 'multinomial']}\n",
        "logreg=LogisticRegression(random_state=121222,)\n",
        "logreg_cv=GridSearchCV(logreg, grid_log_reg, cv=3, scoring='roc_auc')\n",
        "logreg_cv.fit(X_train_ohe, y_train)\n",
        "\n",
        "print(\"best parameters \", logreg_cv.best_params_)\n",
        "print(\"roc_auc :\", logreg_cv.best_score_)\n",
        "metrics('LogisticRegression', logreg_cv.best_score_, models)"
      ]
    },
    {
      "cell_type": "markdown",
      "id": "4ee85ba9",
      "metadata": {
        "id": "4ee85ba9"
      },
      "source": [
        "#### Анализ полученных результатов"
      ]
    },
    {
      "cell_type": "markdown",
      "id": "25596d23",
      "metadata": {
        "id": "25596d23"
      },
      "source": [
        "Посмотрим данные общей таблицы и выберем лучшую модель"
      ]
    },
    {
      "cell_type": "code",
      "execution_count": null,
      "id": "7251bbcf",
      "metadata": {
        "scrolled": false,
        "id": "7251bbcf",
        "outputId": "e8073cd2-d3de-4496-866c-8ea7e4419c3e"
      },
      "outputs": [
        {
          "data": {
            "text/html": [
              "<div>\n",
              "<style scoped>\n",
              "    .dataframe tbody tr th:only-of-type {\n",
              "        vertical-align: middle;\n",
              "    }\n",
              "\n",
              "    .dataframe tbody tr th {\n",
              "        vertical-align: top;\n",
              "    }\n",
              "\n",
              "    .dataframe thead th {\n",
              "        text-align: right;\n",
              "    }\n",
              "</style>\n",
              "<table border=\"1\" class=\"dataframe\">\n",
              "  <thead>\n",
              "    <tr style=\"text-align: right;\">\n",
              "      <th></th>\n",
              "      <th>Model</th>\n",
              "      <th>ROC_AUC</th>\n",
              "    </tr>\n",
              "  </thead>\n",
              "  <tbody>\n",
              "    <tr>\n",
              "      <th>CatBoostClassifier</th>\n",
              "      <td>CatBoostClassifier</td>\n",
              "      <td>0.828003</td>\n",
              "    </tr>\n",
              "    <tr>\n",
              "      <th>CatBoostClassifier_unprepeared</th>\n",
              "      <td>CatBoostClassifier_unprepeared</td>\n",
              "      <td>0.878732</td>\n",
              "    </tr>\n",
              "    <tr>\n",
              "      <th>DecisionTreeClassifier</th>\n",
              "      <td>DecisionTreeClassifier</td>\n",
              "      <td>0.809578</td>\n",
              "    </tr>\n",
              "    <tr>\n",
              "      <th>LogisticRegression</th>\n",
              "      <td>LogisticRegression</td>\n",
              "      <td>0.846528</td>\n",
              "    </tr>\n",
              "  </tbody>\n",
              "</table>\n",
              "</div>"
            ],
            "text/plain": [
              "                                                         Model   ROC_AUC\n",
              "CatBoostClassifier                          CatBoostClassifier  0.828003\n",
              "CatBoostClassifier_unprepeared  CatBoostClassifier_unprepeared  0.878732\n",
              "DecisionTreeClassifier                  DecisionTreeClassifier  0.809578\n",
              "LogisticRegression                          LogisticRegression  0.846528"
            ]
          },
          "execution_count": 77,
          "metadata": {},
          "output_type": "execute_result"
        }
      ],
      "source": [
        "models"
      ]
    },
    {
      "cell_type": "markdown",
      "id": "8a729ac0",
      "metadata": {
        "id": "8a729ac0"
      },
      "source": [
        "Лучшей моделью стала CatBoostClassifier_unprepeared\t с метрикой ROC-AUC равной 0.878732 на тренировочной выборке."
      ]
    },
    {
      "cell_type": "markdown",
      "id": "01a35e19",
      "metadata": {
        "id": "01a35e19"
      },
      "source": [
        "#### Проверка на тествой выборке"
      ]
    },
    {
      "cell_type": "code",
      "execution_count": null,
      "id": "7daa60bf",
      "metadata": {
        "id": "7daa60bf",
        "outputId": "a2bf6e4f-b4bf-4f04-ffec-d58148fcdde0"
      },
      "outputs": [
        {
          "name": "stdout",
          "output_type": "stream",
          "text": [
            "roc_auc на тестовой выборке: 0.894889176758219\n"
          ]
        }
      ],
      "source": [
        "\n",
        "test_predict = grid_unprepeared.predict_proba(X_test)\n",
        "test_predict = test_predict[:, 1]\n",
        "print(\"roc_auc на тестовой выборке:\", roc_auc_score(y_test, test_predict))"
      ]
    },
    {
      "cell_type": "markdown",
      "id": "8e453192",
      "metadata": {
        "id": "8e453192"
      },
      "source": [
        "Оценим важность признаков."
      ]
    },
    {
      "cell_type": "code",
      "execution_count": null,
      "id": "ef63b0d4",
      "metadata": {
        "scrolled": false,
        "id": "ef63b0d4",
        "outputId": "f6f4b375-bea5-486d-c0c9-65a4cedf9174"
      },
      "outputs": [
        {
          "data": {
            "image/png": "[encoded data removed]",
            "text/plain": [
              "<Figure size 1152x576 with 1 Axes>"
            ]
          },
          "metadata": {
            "needs_background": "light"
          },
          "output_type": "display_data"
        }
      ],
      "source": [
        "importance = pd.Series(grid_unprepeared.best_estimator_.feature_importances_,\n",
        "                         data.drop(['target'], axis=1).columns)\n",
        "\n",
        "\n",
        "fig, ax = plt.subplots(figsize=(16,8))\n",
        "importance.plot.bar(ax=ax)\n",
        "ax.set_title(\"Важность признаков\")\n",
        "ax.set_ylabel('Важность')\n",
        "fig.tight_layout()\n"
      ]
    },
    {
      "cell_type": "markdown",
      "id": "c0c90d1c",
      "metadata": {
        "id": "c0c90d1c"
      },
      "source": [
        "Построим график ROC-кривой."
      ]
    },
    {
      "cell_type": "code",
      "execution_count": null,
      "id": "b642adeb",
      "metadata": {
        "id": "b642adeb",
        "outputId": "032ad160-7566-4b38-8e53-a0243cb9d6dd"
      },
      "outputs": [
        {
          "data": {
            "image/png": "[encoded data removed]",
            "text/plain": [
              "<Figure size 432x288 with 1 Axes>"
            ]
          },
          "metadata": {
            "needs_background": "light"
          },
          "output_type": "display_data"
        }
      ],
      "source": [
        "fpr, tpr, treshold = roc_curve(y_test, test_predict)\n",
        "roc_auc = auc(fpr, tpr)\n",
        "plt.plot(fpr, tpr, color='darkorange',\n",
        "         label='ROC кривая (area = %0.2f)' % roc_auc)\n",
        "plt.plot([0, 1], [0, 1], color='navy', linestyle='--')\n",
        "plt.xlim([0.0, 1.0])\n",
        "plt.ylim([0.0, 1.05])\n",
        "plt.xlabel('False Positive Rate')\n",
        "plt.ylabel('True Positive Rate')\n",
        "plt.title('Пример ROC-кривой')\n",
        "plt.legend(loc=\"lower right\")\n",
        "plt.show()"
      ]
    },
    {
      "cell_type": "markdown",
      "id": "264f3212",
      "metadata": {
        "id": "264f3212"
      },
      "source": [
        " И посмотрим на матрицу ошибок."
      ]
    },
    {
      "cell_type": "code",
      "execution_count": null,
      "id": "0efc0372",
      "metadata": {
        "scrolled": true,
        "id": "0efc0372",
        "outputId": "25e0934c-9c51-49e0-ae8f-218b8ea472ca"
      },
      "outputs": [
        {
          "data": {
            "text/plain": [
              "array([[1012,  279],\n",
              "       [  85,  382]])"
            ]
          },
          "execution_count": 81,
          "metadata": {},
          "output_type": "execute_result"
        }
      ],
      "source": [
        "confusion_matrix(y_test, test_predict.round())"
      ]
    },
    {
      "cell_type": "markdown",
      "id": "7a16cb19",
      "metadata": {
        "id": "7a16cb19"
      },
      "source": [
        " Впринципе, матрица ошибок показывает, что предсказания в большей части корректны. Программа правильно предсказала 1012 клиента, которые остались и 382 клиентов которые ушли. 85 раз программа ошибочно предсказала, что клиент останется. Много, возможно, если изменить порог AUC-ROC и снизить число FALSE NEGATIVE, компания сможет путем предоставления клиентам доп опции сохранит  лояльность клиентов. "
      ]
    },
    {
      "cell_type": "markdown",
      "id": "cec15ca3",
      "metadata": {
        "id": "cec15ca3"
      },
      "source": [
        "## Отчет об исследовании"
      ]
    },
    {
      "cell_type": "markdown",
      "id": "4ee8801a",
      "metadata": {
        "id": "4ee8801a"
      },
      "source": [
        "### Цель исследования"
      ]
    },
    {
      "cell_type": "markdown",
      "id": "da45e35e",
      "metadata": {
        "id": "da45e35e"
      },
      "source": [
        "Итак, перед нашим отделом была поставлена задача разаработать и обучить в течении двух недель модель, способную предсказывать отток клиентов телекомоператора «Ниединогоразрыва.ком» с требуемым качеством по метрике ROC-AUC > 0.85, с целью сохранения лояльности таких клиентов путем предоставления телекомоператором им специальных промокодов и условий."
      ]
    },
    {
      "cell_type": "markdown",
      "id": "3420c88d",
      "metadata": {
        "id": "3420c88d"
      },
      "source": [
        "### Загрузка данных и составление плана"
      ]
    },
    {
      "cell_type": "markdown",
      "id": "8f4ed350",
      "metadata": {
        "id": "8f4ed350"
      },
      "source": [
        "На первом этапе я ознакомился с предоставленными телекомоператором данными, а именно 4 файла с информацией по состоянию на 1 февраля 2020 года, включающие в себя:\n",
        "1. contract - фаил содержащий информацию о конирактах с клиентами, включающий информацию о дате заключения и расторжения договора, способах оплаты, а так же ежемесячных и ежегодных платежах. Безусловно, фаил содержит важнейшую информацию, включая целевой признак - столбец 'EndDate' с информацией о дате расторжения контракта, либо значением 'No' если клиент продолжает сотрудничество с компанией.\n",
        "2. personal - информация о клиентах банка, такая как пол, статус пенсионера, наличие иждевенцев и прочее.\n",
        "3. phone и internet -информация об услугах, предоставляемых телекомоператором, такие как наличие выделенной линии, стриминговые сервисы или многоканальная телефония."
      ]
    },
    {
      "cell_type": "markdown",
      "id": "d6debd56",
      "metadata": {
        "id": "d6debd56"
      },
      "source": [
        "Первоначальная загрузка и предварительный анализ показали, что данные полные, не содержат пропусков или некорректных данных. Кроме того, внимание привлекло то, что файлы phone и internet, содержат отличное от первого датасета количество строк, что логично, так как некоторые клиенты просто не используют некоторые из услуг."
      ]
    },
    {
      "cell_type": "markdown",
      "id": "10e5226c",
      "metadata": {
        "id": "10e5226c"
      },
      "source": [
        "Также был составлен предвварительный план исследования, включающий в себя следующие пункты:\n",
        "1. Изменение типов данных некоторых столбцов в первом датафрейме и обработка данных целевого признака.\n",
        "2. Слияние таблиц. \n",
        "3. Работа с пропусками в новой таблице.\n",
        "4. Поиск и удаление данных, которые могут привести к утечке данных, методом корреляции.\n",
        "5. Разделение датафрейма на тренировочную и тестовую выборку.\n",
        "6. Создание копии общей базы для кодирования в ней категоральных признаков для некоторых моделей.\n",
        "7. Обучение модели дерева решений и поиск лучших гиперпараметров для нее.\n",
        "8. Обучение модели случайного леса и поиск лучших гиперпараметров для нее.\n",
        "9. Обучение линейной модели и поиск лучших гиперпараметров для нее.\n",
        "10. Обучение модели градиентного бустинга и поиск лучших гиперпараметров для нее.\n",
        "11. Объединение полученных данных в таблицу и выбор лучшей модели для ее последующего тестирования."
      ]
    },
    {
      "cell_type": "markdown",
      "id": "aaa83f2a",
      "metadata": {
        "id": "aaa83f2a"
      },
      "source": [
        "### Вополнение шагов согласно плану."
      ]
    },
    {
      "cell_type": "markdown",
      "id": "f9548638",
      "metadata": {
        "id": "f9548638"
      },
      "source": [
        "1. Некоторые столбцы датафреймов имели тип данных не соответствующий содержанию. Тип данных был изменен, например в колонке 'BeginDate'  с типа object на datetime, а в колонке 'TotalCharges' на тип float. Уже на этом этапе столкнулся с проблемой, 11 строк в столбце 'TotalCharges' не были обработаны и были пропущение параметром 'coerce'. Мною было принято решение просто удалить эти строки так как они составляют ничтножно малую долю от общего фрейма. Так же был выделен целевой признак в отдельную колонку 'target' со значениями 1-клиент ушел и 0-клиент продолжает сотрудничество. Затем, по рекомендации тимлида мною был создан дополнительный признак duration, содержащий информацию о длительности контракта в днях.\n",
        "2. Было произведено слияние таблиц методом merge по общей колонке 'customerID'.\n",
        "3. Пропуски, полученные в результате присоединения таблиц phone и internet были заполнены значением 'No', что соответствует тому, что клиент просто не использовал данный тип услуг.\n",
        "4. Проверка корреляции методом phik, показала, что сильных связей между данными нет и мы можем не опасаться утечки целевого признака. \n",
        "5. Разделил новую таблицу data на тренировочную и тестовую выборку (25%) методом train_test_split.\n",
        "6. Создал копии тренировочных и тестовых выборок содержыщих признаки и провел кодирование их категоральных признаков методами OrdinalEncoder и get_dummies, а также масштабирование числовых данных методом StandardScaler, для разных моделей.\n",
        "7. Создание функции для объединения в таблицу полученных результатов машинного обучения. Обучение CatBoostClassifier с использованием кросс-валидации для поиска лучших параметров с применением кодированных методом OrdinalEncoder категоральных признаков.\n",
        "8. Обучение CatBoostClassifier_unprepeared с использованием кросс-валидации для поиска лучших параметров с применением некодированных признаков, с непосредственным их кодированием моделью, путем передачи списка категоральных признаков методом cat_features.\n",
        "9. Обучение DecisionTreeClassifier с использованием кросс-валидации для поиска лучших параметров с применением кодированных методом OrdinalEncoder категоральных признаков.\n",
        "10. Обучение LogisticRegression с использованием кросс-валидации для поиска лучших параметров с применениеммасштабирования числовых признаков и  кодированных методом get_dummies категоральных признаков.\n",
        "11. Вывод таблицы с данными машинного обучения по всем моделям и выбор модели CatBoostClassifier_unprepeared, показавшей лучшии результат метрики ROC-AUC равной 0.878732."
      ]
    },
    {
      "cell_type": "code",
      "execution_count": null,
      "id": "7228b8f1",
      "metadata": {
        "id": "7228b8f1",
        "outputId": "0332462d-48d6-416c-c0f4-466803992cc4"
      },
      "outputs": [
        {
          "data": {
            "text/html": [
              "<div>\n",
              "<style scoped>\n",
              "    .dataframe tbody tr th:only-of-type {\n",
              "        vertical-align: middle;\n",
              "    }\n",
              "\n",
              "    .dataframe tbody tr th {\n",
              "        vertical-align: top;\n",
              "    }\n",
              "\n",
              "    .dataframe thead th {\n",
              "        text-align: right;\n",
              "    }\n",
              "</style>\n",
              "<table border=\"1\" class=\"dataframe\">\n",
              "  <thead>\n",
              "    <tr style=\"text-align: right;\">\n",
              "      <th></th>\n",
              "      <th>Model</th>\n",
              "      <th>ROC_AUC</th>\n",
              "    </tr>\n",
              "  </thead>\n",
              "  <tbody>\n",
              "    <tr>\n",
              "      <th>CatBoostClassifier</th>\n",
              "      <td>CatBoostClassifier</td>\n",
              "      <td>0.828003</td>\n",
              "    </tr>\n",
              "    <tr>\n",
              "      <th>CatBoostClassifier_unprepeared</th>\n",
              "      <td>CatBoostClassifier_unprepeared</td>\n",
              "      <td>0.878732</td>\n",
              "    </tr>\n",
              "    <tr>\n",
              "      <th>DecisionTreeClassifier</th>\n",
              "      <td>DecisionTreeClassifier</td>\n",
              "      <td>0.809578</td>\n",
              "    </tr>\n",
              "    <tr>\n",
              "      <th>LogisticRegression</th>\n",
              "      <td>LogisticRegression</td>\n",
              "      <td>0.846528</td>\n",
              "    </tr>\n",
              "  </tbody>\n",
              "</table>\n",
              "</div>"
            ],
            "text/plain": [
              "                                                         Model   ROC_AUC\n",
              "CatBoostClassifier                          CatBoostClassifier  0.828003\n",
              "CatBoostClassifier_unprepeared  CatBoostClassifier_unprepeared  0.878732\n",
              "DecisionTreeClassifier                  DecisionTreeClassifier  0.809578\n",
              "LogisticRegression                          LogisticRegression  0.846528"
            ]
          },
          "execution_count": 82,
          "metadata": {},
          "output_type": "execute_result"
        }
      ],
      "source": [
        "models"
      ]
    },
    {
      "cell_type": "markdown",
      "id": "ef330fb0",
      "metadata": {
        "id": "ef330fb0"
      },
      "source": [
        "### Результат выполнения первоначального плана"
      ]
    },
    {
      "cell_type": "markdown",
      "id": "950c3d53",
      "metadata": {
        "id": "950c3d53"
      },
      "source": [
        "По ходу исследования мною были выполнены все пункты плана за исключением обучения модели случайного леса, так как модель градиентного бустинга, показавшая хороший показатель метрики исследовалась первой, в то время как простые модели как дерево решении показали гораздо более низкий результат. Как результат, мною было принято исключить этот пункт с целью сохранения времени и ресурсов."
      ]
    },
    {
      "cell_type": "markdown",
      "id": "7606fd1b",
      "metadata": {
        "id": "7606fd1b"
      },
      "source": [
        "### Трудности"
      ]
    },
    {
      "cell_type": "markdown",
      "id": "96860ef6",
      "metadata": {
        "id": "96860ef6"
      },
      "source": [
        "Наибольшей проблемой по ходу исследования стало отображение важности признаков лучшей модели. Причиной стало невозвможность напрямую использвать лучшую модель полученную при кросс-валидации grid_unpredicted с атрибутом feature_importances_, как это обычно делал ранее, использовав напрямую необходимую модель ML."
      ]
    },
    {
      "cell_type": "markdown",
      "id": "ab77edea",
      "metadata": {
        "id": "ab77edea"
      },
      "source": [
        "Проблема была решена при более детальном изучении документации grid_search, где я нашел необходимую информацию для построения гистограммы важности признаков, а именно атрибут grid_unprepeared.best_estimator_.feature_importances_."
      ]
    },
    {
      "cell_type": "markdown",
      "id": "be58de8a",
      "metadata": {
        "id": "be58de8a"
      },
      "source": [
        "### Проверка результата на тествой моделе"
      ]
    },
    {
      "cell_type": "markdown",
      "id": "d757fba5",
      "metadata": {
        "id": "d757fba5"
      },
      "source": [
        "Лучшая модель CatBoostClassifier_unprepeared со следующими параметрами: 'depth': 3, 'iterations': 100, 'learning_rate': 0.5,  показала метрику roc_auc на тестовой выборке: 0.894889176758219, что соответствует минимальному требованию заказчика. "
      ]
    },
    {
      "cell_type": "markdown",
      "id": "37ebbd2b",
      "metadata": {
        "id": "37ebbd2b"
      },
      "source": [
        "Задача выполнена, однако, для полноты исследования мною была построена гистограмма важности признаков, ROC-кривая и матрица ошибок на основании которых для маркетологов «Ниединогоразрыва.ком» можно подготовить комплекс предложений, связанных с корректировкой порога вероятности, с целью еще сильнее улучшить метрику Recall и точнее предсказывать отточных клиентов."
      ]
    },
    {
      "cell_type": "markdown",
      "id": "1b18e5ff",
      "metadata": {
        "id": "1b18e5ff"
      },
      "source": [
        "### Ключевые шаги"
      ]
    },
    {
      "cell_type": "markdown",
      "id": "c9726eca",
      "metadata": {
        "id": "c9726eca"
      },
      "source": [
        "На мой взгляд ключевыми шагами при исследовании стали:\n",
        "1. Выделение синтетического признака duration, позволившего значительно улучшить показатель метрики, и который стал важнейшим признаком, что видно из гостограммы важности признаков"
      ]
    },
    {
      "cell_type": "code",
      "execution_count": null,
      "id": "39e8c32d",
      "metadata": {
        "id": "39e8c32d",
        "outputId": "d8fbe843-d9f3-4d0a-fb27-02202efa2739"
      },
      "outputs": [
        {
          "data": {
            "image/png": "[encoded data removed]",
            "text/plain": [
              "<Figure size 1152x576 with 1 Axes>"
            ]
          },
          "metadata": {
            "needs_background": "light"
          },
          "output_type": "display_data"
        }
      ],
      "source": [
        "fig, ax = plt.subplots(figsize=(16,8))\n",
        "importance.plot.bar(ax=ax)\n",
        "ax.set_title(\"Важность признаков\")\n",
        "ax.set_ylabel('Важность')\n",
        "fig.tight_layout()"
      ]
    },
    {
      "cell_type": "markdown",
      "id": "f15d0a8a",
      "metadata": {
        "id": "f15d0a8a"
      },
      "source": [
        "2. Использование кросс-валидации при поиске лучших гиперпараметров.\n",
        "3. Использование для бустинга чистых(некодированных) категоральных данных и использование внутренних механизмов бустинга для их преобразования."
      ]
    }
  ],
  "metadata": {
    "ExecuteTimeLog": [
      {
        "duration": 61,
        "start_time": "2022-12-15T12:18:24.394Z"
      },
      {
        "duration": 1327,
        "start_time": "2022-12-15T12:18:29.607Z"
      },
      {
        "duration": 102,
        "start_time": "2022-12-15T12:18:33.055Z"
      },
      {
        "duration": 54,
        "start_time": "2022-12-15T12:41:35.281Z"
      },
      {
        "duration": 1253,
        "start_time": "2022-12-15T12:43:20.407Z"
      },
      {
        "duration": 208,
        "start_time": "2022-12-15T12:43:25.278Z"
      },
      {
        "duration": 126,
        "start_time": "2022-12-15T12:46:00.850Z"
      },
      {
        "duration": 60,
        "start_time": "2022-12-15T13:13:15.913Z"
      },
      {
        "duration": 51,
        "start_time": "2022-12-15T13:14:31.061Z"
      },
      {
        "duration": 77,
        "start_time": "2022-12-15T13:15:48.399Z"
      },
      {
        "duration": 1114,
        "start_time": "2022-12-15T13:45:39.297Z"
      },
      {
        "duration": 67,
        "start_time": "2022-12-15T13:45:40.413Z"
      },
      {
        "duration": 12,
        "start_time": "2022-12-15T13:45:40.482Z"
      },
      {
        "duration": 13,
        "start_time": "2022-12-15T13:45:40.496Z"
      },
      {
        "duration": 5,
        "start_time": "2022-12-15T13:45:40.510Z"
      },
      {
        "duration": 12,
        "start_time": "2022-12-15T13:45:40.516Z"
      },
      {
        "duration": 6,
        "start_time": "2022-12-15T13:45:40.530Z"
      },
      {
        "duration": 36,
        "start_time": "2022-12-15T13:45:40.537Z"
      },
      {
        "duration": 12,
        "start_time": "2022-12-15T13:45:40.578Z"
      },
      {
        "duration": 8,
        "start_time": "2022-12-15T13:45:40.592Z"
      },
      {
        "duration": 11,
        "start_time": "2022-12-15T13:45:40.602Z"
      },
      {
        "duration": 8,
        "start_time": "2022-12-15T13:45:40.615Z"
      },
      {
        "duration": 9,
        "start_time": "2022-12-15T13:45:40.625Z"
      },
      {
        "duration": 124,
        "start_time": "2022-12-15T13:45:40.636Z"
      },
      {
        "duration": 127,
        "start_time": "2022-12-15T13:45:40.762Z"
      },
      {
        "duration": 125,
        "start_time": "2022-12-15T13:45:40.892Z"
      },
      {
        "duration": 119,
        "start_time": "2022-12-15T13:45:41.019Z"
      },
      {
        "duration": 117,
        "start_time": "2022-12-15T13:45:41.139Z"
      },
      {
        "duration": 11,
        "start_time": "2022-12-15T13:45:41.258Z"
      },
      {
        "duration": 19,
        "start_time": "2022-12-15T13:45:41.270Z"
      },
      {
        "duration": 56,
        "start_time": "2022-12-15T13:45:41.291Z"
      },
      {
        "duration": 41,
        "start_time": "2022-12-15T13:45:41.348Z"
      },
      {
        "duration": 29,
        "start_time": "2022-12-15T13:45:41.391Z"
      },
      {
        "duration": 8,
        "start_time": "2022-12-15T13:45:41.421Z"
      },
      {
        "duration": 14,
        "start_time": "2022-12-15T13:45:41.431Z"
      },
      {
        "duration": 29,
        "start_time": "2022-12-15T13:45:41.447Z"
      },
      {
        "duration": 52,
        "start_time": "2022-12-15T13:45:41.477Z"
      },
      {
        "duration": 10,
        "start_time": "2022-12-15T13:45:41.532Z"
      },
      {
        "duration": 5,
        "start_time": "2022-12-15T13:45:41.544Z"
      },
      {
        "duration": 1317,
        "start_time": "2022-12-16T05:22:25.916Z"
      },
      {
        "duration": 113,
        "start_time": "2022-12-16T05:22:27.234Z"
      },
      {
        "duration": 47,
        "start_time": "2022-12-16T05:23:16.152Z"
      },
      {
        "duration": 48,
        "start_time": "2022-12-18T17:37:43.231Z"
      },
      {
        "duration": 55,
        "start_time": "2022-12-18T17:40:53.477Z"
      },
      {
        "duration": 44,
        "start_time": "2022-12-18T17:43:06.070Z"
      },
      {
        "duration": 51,
        "start_time": "2022-12-18T18:00:41.209Z"
      },
      {
        "duration": 44,
        "start_time": "2022-12-18T18:06:53.954Z"
      },
      {
        "duration": 49,
        "start_time": "2022-12-18T18:26:48.163Z"
      },
      {
        "duration": 3116,
        "start_time": "2022-12-18T19:10:58.502Z"
      },
      {
        "duration": 1537,
        "start_time": "2022-12-18T19:11:01.620Z"
      },
      {
        "duration": 113,
        "start_time": "2022-12-18T19:11:03.159Z"
      },
      {
        "duration": 13,
        "start_time": "2022-12-18T19:11:03.275Z"
      },
      {
        "duration": 14,
        "start_time": "2022-12-18T19:11:03.290Z"
      },
      {
        "duration": 5,
        "start_time": "2022-12-18T19:11:03.306Z"
      },
      {
        "duration": 10,
        "start_time": "2022-12-18T19:11:03.313Z"
      },
      {
        "duration": 6,
        "start_time": "2022-12-18T19:11:03.324Z"
      },
      {
        "duration": 121,
        "start_time": "2022-12-18T19:11:03.332Z"
      },
      {
        "duration": 11,
        "start_time": "2022-12-18T19:11:03.455Z"
      },
      {
        "duration": 6,
        "start_time": "2022-12-18T19:11:03.468Z"
      },
      {
        "duration": 6,
        "start_time": "2022-12-18T19:11:03.475Z"
      },
      {
        "duration": 8,
        "start_time": "2022-12-18T19:11:03.483Z"
      },
      {
        "duration": 6,
        "start_time": "2022-12-18T19:11:03.493Z"
      },
      {
        "duration": 119,
        "start_time": "2022-12-18T19:11:03.500Z"
      },
      {
        "duration": 116,
        "start_time": "2022-12-18T19:11:03.620Z"
      },
      {
        "duration": 108,
        "start_time": "2022-12-18T19:11:03.738Z"
      },
      {
        "duration": 111,
        "start_time": "2022-12-18T19:11:03.848Z"
      },
      {
        "duration": 67,
        "start_time": "2022-12-18T19:11:03.961Z"
      },
      {
        "duration": 11,
        "start_time": "2022-12-18T19:11:04.030Z"
      },
      {
        "duration": 4,
        "start_time": "2022-12-18T19:11:04.043Z"
      },
      {
        "duration": 6,
        "start_time": "2022-12-18T19:11:04.049Z"
      },
      {
        "duration": 7,
        "start_time": "2022-12-18T19:11:04.056Z"
      },
      {
        "duration": 5,
        "start_time": "2022-12-18T19:11:04.064Z"
      },
      {
        "duration": 5,
        "start_time": "2022-12-18T19:11:04.070Z"
      },
      {
        "duration": 8,
        "start_time": "2022-12-18T19:11:04.076Z"
      },
      {
        "duration": 31,
        "start_time": "2022-12-18T19:11:04.085Z"
      },
      {
        "duration": 111,
        "start_time": "2022-12-18T19:11:04.191Z"
      },
      {
        "duration": 10,
        "start_time": "2022-12-18T19:11:04.304Z"
      },
      {
        "duration": 15,
        "start_time": "2022-12-18T19:11:04.316Z"
      },
      {
        "duration": 29,
        "start_time": "2022-12-18T19:11:04.333Z"
      },
      {
        "duration": 5,
        "start_time": "2022-12-18T19:11:04.363Z"
      },
      {
        "duration": 10,
        "start_time": "2022-12-18T19:11:04.370Z"
      },
      {
        "duration": 119,
        "start_time": "2022-12-18T19:11:04.382Z"
      },
      {
        "duration": 0,
        "start_time": "2022-12-18T19:11:04.502Z"
      },
      {
        "duration": 0,
        "start_time": "2022-12-18T19:11:04.504Z"
      },
      {
        "duration": 0,
        "start_time": "2022-12-18T19:11:04.512Z"
      },
      {
        "duration": 0,
        "start_time": "2022-12-18T19:11:04.513Z"
      },
      {
        "duration": 0,
        "start_time": "2022-12-18T19:11:04.514Z"
      },
      {
        "duration": 0,
        "start_time": "2022-12-18T19:11:04.515Z"
      },
      {
        "duration": 0,
        "start_time": "2022-12-18T19:11:04.516Z"
      },
      {
        "duration": 0,
        "start_time": "2022-12-18T19:11:04.517Z"
      },
      {
        "duration": 0,
        "start_time": "2022-12-18T19:11:04.519Z"
      },
      {
        "duration": 0,
        "start_time": "2022-12-18T19:11:04.520Z"
      },
      {
        "duration": 0,
        "start_time": "2022-12-18T19:11:04.521Z"
      },
      {
        "duration": 0,
        "start_time": "2022-12-18T19:11:04.522Z"
      },
      {
        "duration": 0,
        "start_time": "2022-12-18T19:11:04.523Z"
      },
      {
        "duration": 0,
        "start_time": "2022-12-18T19:11:04.524Z"
      },
      {
        "duration": 0,
        "start_time": "2022-12-18T19:11:04.525Z"
      },
      {
        "duration": 0,
        "start_time": "2022-12-18T19:11:04.526Z"
      },
      {
        "duration": 0,
        "start_time": "2022-12-18T19:11:04.527Z"
      },
      {
        "duration": 0,
        "start_time": "2022-12-18T19:11:04.528Z"
      },
      {
        "duration": 0,
        "start_time": "2022-12-18T19:11:04.529Z"
      },
      {
        "duration": 0,
        "start_time": "2022-12-18T19:11:04.530Z"
      },
      {
        "duration": 0,
        "start_time": "2022-12-18T19:11:04.531Z"
      },
      {
        "duration": 0,
        "start_time": "2022-12-18T19:11:04.533Z"
      },
      {
        "duration": 0,
        "start_time": "2022-12-18T19:11:04.534Z"
      },
      {
        "duration": 0,
        "start_time": "2022-12-18T19:11:04.535Z"
      },
      {
        "duration": 0,
        "start_time": "2022-12-18T19:11:04.536Z"
      },
      {
        "duration": 0,
        "start_time": "2022-12-18T19:11:04.537Z"
      },
      {
        "duration": 0,
        "start_time": "2022-12-18T19:11:04.538Z"
      },
      {
        "duration": 0,
        "start_time": "2022-12-18T19:11:04.539Z"
      },
      {
        "duration": 0,
        "start_time": "2022-12-18T19:11:04.540Z"
      },
      {
        "duration": 0,
        "start_time": "2022-12-18T19:11:04.541Z"
      },
      {
        "duration": 0,
        "start_time": "2022-12-18T19:11:04.542Z"
      },
      {
        "duration": 0,
        "start_time": "2022-12-18T19:11:04.543Z"
      },
      {
        "duration": 0,
        "start_time": "2022-12-18T19:11:04.544Z"
      },
      {
        "duration": 0,
        "start_time": "2022-12-18T19:11:04.545Z"
      },
      {
        "duration": 4,
        "start_time": "2022-12-18T19:13:13.495Z"
      },
      {
        "duration": 11,
        "start_time": "2022-12-18T19:13:22.583Z"
      },
      {
        "duration": 635,
        "start_time": "2022-12-18T19:14:43.403Z"
      },
      {
        "duration": 410,
        "start_time": "2022-12-18T19:15:28.972Z"
      },
      {
        "duration": 19,
        "start_time": "2022-12-18T19:15:48.459Z"
      },
      {
        "duration": 2006,
        "start_time": "2022-12-18T19:16:06.232Z"
      },
      {
        "duration": 1387,
        "start_time": "2022-12-18T19:16:08.240Z"
      },
      {
        "duration": 64,
        "start_time": "2022-12-18T19:16:09.629Z"
      },
      {
        "duration": 11,
        "start_time": "2022-12-18T19:16:09.695Z"
      },
      {
        "duration": 14,
        "start_time": "2022-12-18T19:16:09.707Z"
      },
      {
        "duration": 5,
        "start_time": "2022-12-18T19:16:09.722Z"
      },
      {
        "duration": 8,
        "start_time": "2022-12-18T19:16:09.729Z"
      },
      {
        "duration": 6,
        "start_time": "2022-12-18T19:16:09.738Z"
      },
      {
        "duration": 31,
        "start_time": "2022-12-18T19:16:09.746Z"
      },
      {
        "duration": 10,
        "start_time": "2022-12-18T19:16:09.781Z"
      },
      {
        "duration": 5,
        "start_time": "2022-12-18T19:16:09.793Z"
      },
      {
        "duration": 17,
        "start_time": "2022-12-18T19:16:09.799Z"
      },
      {
        "duration": 6,
        "start_time": "2022-12-18T19:16:09.817Z"
      },
      {
        "duration": 5,
        "start_time": "2022-12-18T19:16:09.825Z"
      },
      {
        "duration": 140,
        "start_time": "2022-12-18T19:16:09.831Z"
      },
      {
        "duration": 112,
        "start_time": "2022-12-18T19:16:09.972Z"
      },
      {
        "duration": 101,
        "start_time": "2022-12-18T19:16:10.086Z"
      },
      {
        "duration": 106,
        "start_time": "2022-12-18T19:16:10.188Z"
      },
      {
        "duration": 31,
        "start_time": "2022-12-18T19:16:10.295Z"
      },
      {
        "duration": 10,
        "start_time": "2022-12-18T19:16:10.327Z"
      },
      {
        "duration": 6,
        "start_time": "2022-12-18T19:16:10.339Z"
      },
      {
        "duration": 5,
        "start_time": "2022-12-18T19:16:10.347Z"
      },
      {
        "duration": 5,
        "start_time": "2022-12-18T19:16:10.354Z"
      },
      {
        "duration": 5,
        "start_time": "2022-12-18T19:16:10.361Z"
      },
      {
        "duration": 6,
        "start_time": "2022-12-18T19:16:10.367Z"
      },
      {
        "duration": 6,
        "start_time": "2022-12-18T19:16:10.374Z"
      },
      {
        "duration": 34,
        "start_time": "2022-12-18T19:16:10.382Z"
      },
      {
        "duration": 25,
        "start_time": "2022-12-18T19:16:10.489Z"
      },
      {
        "duration": 9,
        "start_time": "2022-12-18T19:16:10.515Z"
      },
      {
        "duration": 9,
        "start_time": "2022-12-18T19:16:10.525Z"
      },
      {
        "duration": 19,
        "start_time": "2022-12-18T19:16:10.535Z"
      },
      {
        "duration": 4,
        "start_time": "2022-12-18T19:16:10.556Z"
      },
      {
        "duration": 15,
        "start_time": "2022-12-18T19:16:10.561Z"
      },
      {
        "duration": 9,
        "start_time": "2022-12-18T19:16:10.578Z"
      },
      {
        "duration": 135,
        "start_time": "2022-12-18T19:16:10.588Z"
      },
      {
        "duration": 0,
        "start_time": "2022-12-18T19:16:10.724Z"
      },
      {
        "duration": 0,
        "start_time": "2022-12-18T19:16:10.725Z"
      },
      {
        "duration": 0,
        "start_time": "2022-12-18T19:16:10.726Z"
      },
      {
        "duration": 0,
        "start_time": "2022-12-18T19:16:10.727Z"
      },
      {
        "duration": 0,
        "start_time": "2022-12-18T19:16:10.728Z"
      },
      {
        "duration": 0,
        "start_time": "2022-12-18T19:16:10.729Z"
      },
      {
        "duration": 0,
        "start_time": "2022-12-18T19:16:10.730Z"
      },
      {
        "duration": 0,
        "start_time": "2022-12-18T19:16:10.731Z"
      },
      {
        "duration": 0,
        "start_time": "2022-12-18T19:16:10.732Z"
      },
      {
        "duration": 0,
        "start_time": "2022-12-18T19:16:10.733Z"
      },
      {
        "duration": 0,
        "start_time": "2022-12-18T19:16:10.734Z"
      },
      {
        "duration": 0,
        "start_time": "2022-12-18T19:16:10.735Z"
      },
      {
        "duration": 0,
        "start_time": "2022-12-18T19:16:10.736Z"
      },
      {
        "duration": 0,
        "start_time": "2022-12-18T19:16:10.738Z"
      },
      {
        "duration": 0,
        "start_time": "2022-12-18T19:16:10.739Z"
      },
      {
        "duration": 0,
        "start_time": "2022-12-18T19:16:10.740Z"
      },
      {
        "duration": 0,
        "start_time": "2022-12-18T19:16:10.741Z"
      },
      {
        "duration": 0,
        "start_time": "2022-12-18T19:16:10.742Z"
      },
      {
        "duration": 0,
        "start_time": "2022-12-18T19:16:10.743Z"
      },
      {
        "duration": 0,
        "start_time": "2022-12-18T19:16:10.744Z"
      },
      {
        "duration": 0,
        "start_time": "2022-12-18T19:16:10.745Z"
      },
      {
        "duration": 0,
        "start_time": "2022-12-18T19:16:10.746Z"
      },
      {
        "duration": 0,
        "start_time": "2022-12-18T19:16:10.747Z"
      },
      {
        "duration": 0,
        "start_time": "2022-12-18T19:16:10.748Z"
      },
      {
        "duration": 0,
        "start_time": "2022-12-18T19:16:10.750Z"
      },
      {
        "duration": 0,
        "start_time": "2022-12-18T19:16:10.751Z"
      },
      {
        "duration": 0,
        "start_time": "2022-12-18T19:16:10.752Z"
      },
      {
        "duration": 0,
        "start_time": "2022-12-18T19:16:10.753Z"
      },
      {
        "duration": 0,
        "start_time": "2022-12-18T19:16:10.754Z"
      },
      {
        "duration": 0,
        "start_time": "2022-12-18T19:16:10.755Z"
      },
      {
        "duration": 0,
        "start_time": "2022-12-18T19:16:10.756Z"
      },
      {
        "duration": 0,
        "start_time": "2022-12-18T19:16:10.757Z"
      },
      {
        "duration": 0,
        "start_time": "2022-12-18T19:16:10.758Z"
      },
      {
        "duration": 22,
        "start_time": "2022-12-18T19:17:06.574Z"
      },
      {
        "duration": 11,
        "start_time": "2022-12-18T19:19:01.303Z"
      },
      {
        "duration": 11,
        "start_time": "2022-12-18T19:29:00.223Z"
      },
      {
        "duration": 2053,
        "start_time": "2022-12-18T19:29:12.448Z"
      },
      {
        "duration": 1459,
        "start_time": "2022-12-18T19:29:14.503Z"
      },
      {
        "duration": 66,
        "start_time": "2022-12-18T19:29:15.964Z"
      },
      {
        "duration": 14,
        "start_time": "2022-12-18T19:29:16.032Z"
      },
      {
        "duration": 11,
        "start_time": "2022-12-18T19:29:16.047Z"
      },
      {
        "duration": 5,
        "start_time": "2022-12-18T19:29:16.059Z"
      },
      {
        "duration": 6,
        "start_time": "2022-12-18T19:29:16.066Z"
      },
      {
        "duration": 5,
        "start_time": "2022-12-18T19:29:16.074Z"
      },
      {
        "duration": 47,
        "start_time": "2022-12-18T19:29:16.080Z"
      },
      {
        "duration": 11,
        "start_time": "2022-12-18T19:29:16.129Z"
      },
      {
        "duration": 7,
        "start_time": "2022-12-18T19:29:16.141Z"
      },
      {
        "duration": 5,
        "start_time": "2022-12-18T19:29:16.150Z"
      },
      {
        "duration": 6,
        "start_time": "2022-12-18T19:29:16.156Z"
      },
      {
        "duration": 7,
        "start_time": "2022-12-18T19:29:16.163Z"
      },
      {
        "duration": 152,
        "start_time": "2022-12-18T19:29:16.171Z"
      },
      {
        "duration": 118,
        "start_time": "2022-12-18T19:29:16.325Z"
      },
      {
        "duration": 103,
        "start_time": "2022-12-18T19:29:16.444Z"
      },
      {
        "duration": 122,
        "start_time": "2022-12-18T19:29:16.549Z"
      },
      {
        "duration": 35,
        "start_time": "2022-12-18T19:29:16.673Z"
      },
      {
        "duration": 14,
        "start_time": "2022-12-18T19:29:16.709Z"
      },
      {
        "duration": 9,
        "start_time": "2022-12-18T19:29:16.726Z"
      },
      {
        "duration": 9,
        "start_time": "2022-12-18T19:29:16.738Z"
      },
      {
        "duration": 12,
        "start_time": "2022-12-18T19:29:16.749Z"
      },
      {
        "duration": 12,
        "start_time": "2022-12-18T19:29:16.763Z"
      },
      {
        "duration": 11,
        "start_time": "2022-12-18T19:29:16.777Z"
      },
      {
        "duration": 23,
        "start_time": "2022-12-18T19:29:16.790Z"
      },
      {
        "duration": 6,
        "start_time": "2022-12-18T19:29:16.816Z"
      },
      {
        "duration": 27,
        "start_time": "2022-12-18T19:29:16.894Z"
      },
      {
        "duration": 9,
        "start_time": "2022-12-18T19:29:16.922Z"
      },
      {
        "duration": 6,
        "start_time": "2022-12-18T19:29:16.933Z"
      },
      {
        "duration": 138,
        "start_time": "2022-12-18T19:29:16.940Z"
      },
      {
        "duration": 0,
        "start_time": "2022-12-18T19:29:17.080Z"
      },
      {
        "duration": 0,
        "start_time": "2022-12-18T19:29:17.082Z"
      },
      {
        "duration": 0,
        "start_time": "2022-12-18T19:29:17.084Z"
      },
      {
        "duration": 0,
        "start_time": "2022-12-18T19:29:17.085Z"
      },
      {
        "duration": 0,
        "start_time": "2022-12-18T19:29:17.087Z"
      },
      {
        "duration": 0,
        "start_time": "2022-12-18T19:29:17.089Z"
      },
      {
        "duration": 0,
        "start_time": "2022-12-18T19:29:17.090Z"
      },
      {
        "duration": 0,
        "start_time": "2022-12-18T19:29:17.113Z"
      },
      {
        "duration": 0,
        "start_time": "2022-12-18T19:29:17.114Z"
      },
      {
        "duration": 0,
        "start_time": "2022-12-18T19:29:17.115Z"
      },
      {
        "duration": 0,
        "start_time": "2022-12-18T19:29:17.118Z"
      },
      {
        "duration": 0,
        "start_time": "2022-12-18T19:29:17.119Z"
      },
      {
        "duration": 0,
        "start_time": "2022-12-18T19:29:17.121Z"
      },
      {
        "duration": 0,
        "start_time": "2022-12-18T19:29:17.123Z"
      },
      {
        "duration": 0,
        "start_time": "2022-12-18T19:29:17.124Z"
      },
      {
        "duration": 0,
        "start_time": "2022-12-18T19:29:17.126Z"
      },
      {
        "duration": 0,
        "start_time": "2022-12-18T19:29:17.127Z"
      },
      {
        "duration": 0,
        "start_time": "2022-12-18T19:29:17.128Z"
      },
      {
        "duration": 0,
        "start_time": "2022-12-18T19:29:17.130Z"
      },
      {
        "duration": 0,
        "start_time": "2022-12-18T19:29:17.131Z"
      },
      {
        "duration": 0,
        "start_time": "2022-12-18T19:29:17.133Z"
      },
      {
        "duration": 0,
        "start_time": "2022-12-18T19:29:17.134Z"
      },
      {
        "duration": 0,
        "start_time": "2022-12-18T19:29:17.135Z"
      },
      {
        "duration": 0,
        "start_time": "2022-12-18T19:29:17.137Z"
      },
      {
        "duration": 0,
        "start_time": "2022-12-18T19:29:17.138Z"
      },
      {
        "duration": 0,
        "start_time": "2022-12-18T19:29:17.139Z"
      },
      {
        "duration": 0,
        "start_time": "2022-12-18T19:29:17.141Z"
      },
      {
        "duration": 0,
        "start_time": "2022-12-18T19:29:17.142Z"
      },
      {
        "duration": 0,
        "start_time": "2022-12-18T19:29:17.143Z"
      },
      {
        "duration": 0,
        "start_time": "2022-12-18T19:29:17.144Z"
      },
      {
        "duration": 0,
        "start_time": "2022-12-18T19:29:17.145Z"
      },
      {
        "duration": 1,
        "start_time": "2022-12-18T19:29:17.146Z"
      },
      {
        "duration": 0,
        "start_time": "2022-12-18T19:29:17.148Z"
      },
      {
        "duration": 0,
        "start_time": "2022-12-18T19:29:17.149Z"
      },
      {
        "duration": 0,
        "start_time": "2022-12-18T19:29:17.150Z"
      },
      {
        "duration": 0,
        "start_time": "2022-12-18T19:29:17.152Z"
      },
      {
        "duration": 0,
        "start_time": "2022-12-18T19:29:17.213Z"
      },
      {
        "duration": 16,
        "start_time": "2022-12-18T19:36:53.872Z"
      },
      {
        "duration": 18,
        "start_time": "2022-12-18T19:37:07.368Z"
      },
      {
        "duration": 24,
        "start_time": "2022-12-18T19:37:26.809Z"
      },
      {
        "duration": 2129,
        "start_time": "2022-12-18T19:37:47.978Z"
      },
      {
        "duration": 1425,
        "start_time": "2022-12-18T19:37:50.109Z"
      },
      {
        "duration": 67,
        "start_time": "2022-12-18T19:37:51.535Z"
      },
      {
        "duration": 16,
        "start_time": "2022-12-18T19:37:51.605Z"
      },
      {
        "duration": 11,
        "start_time": "2022-12-18T19:37:51.623Z"
      },
      {
        "duration": 5,
        "start_time": "2022-12-18T19:37:51.636Z"
      },
      {
        "duration": 10,
        "start_time": "2022-12-18T19:37:51.642Z"
      },
      {
        "duration": 8,
        "start_time": "2022-12-18T19:37:51.654Z"
      },
      {
        "duration": 34,
        "start_time": "2022-12-18T19:37:51.664Z"
      },
      {
        "duration": 21,
        "start_time": "2022-12-18T19:37:51.700Z"
      },
      {
        "duration": 10,
        "start_time": "2022-12-18T19:37:51.723Z"
      },
      {
        "duration": 7,
        "start_time": "2022-12-18T19:37:51.736Z"
      },
      {
        "duration": 9,
        "start_time": "2022-12-18T19:37:51.745Z"
      },
      {
        "duration": 8,
        "start_time": "2022-12-18T19:37:51.756Z"
      },
      {
        "duration": 155,
        "start_time": "2022-12-18T19:37:51.766Z"
      },
      {
        "duration": 145,
        "start_time": "2022-12-18T19:37:51.923Z"
      },
      {
        "duration": 125,
        "start_time": "2022-12-18T19:37:52.070Z"
      },
      {
        "duration": 131,
        "start_time": "2022-12-18T19:37:52.199Z"
      },
      {
        "duration": 31,
        "start_time": "2022-12-18T19:37:52.332Z"
      },
      {
        "duration": 11,
        "start_time": "2022-12-18T19:37:52.365Z"
      },
      {
        "duration": 12,
        "start_time": "2022-12-18T19:37:52.378Z"
      },
      {
        "duration": 9,
        "start_time": "2022-12-18T19:37:52.391Z"
      },
      {
        "duration": 12,
        "start_time": "2022-12-18T19:37:52.402Z"
      },
      {
        "duration": 11,
        "start_time": "2022-12-18T19:37:52.416Z"
      },
      {
        "duration": 9,
        "start_time": "2022-12-18T19:37:52.429Z"
      },
      {
        "duration": 9,
        "start_time": "2022-12-18T19:37:52.440Z"
      },
      {
        "duration": 7,
        "start_time": "2022-12-18T19:37:52.450Z"
      },
      {
        "duration": 24,
        "start_time": "2022-12-18T19:37:52.537Z"
      },
      {
        "duration": 11,
        "start_time": "2022-12-18T19:37:52.562Z"
      },
      {
        "duration": 5,
        "start_time": "2022-12-18T19:37:52.575Z"
      },
      {
        "duration": 34,
        "start_time": "2022-12-18T19:37:52.581Z"
      },
      {
        "duration": 9,
        "start_time": "2022-12-18T19:37:52.617Z"
      },
      {
        "duration": 11,
        "start_time": "2022-12-18T19:37:52.627Z"
      },
      {
        "duration": 8,
        "start_time": "2022-12-18T19:37:52.640Z"
      },
      {
        "duration": 138,
        "start_time": "2022-12-18T19:37:52.650Z"
      },
      {
        "duration": 0,
        "start_time": "2022-12-18T19:37:52.790Z"
      },
      {
        "duration": 0,
        "start_time": "2022-12-18T19:37:52.791Z"
      },
      {
        "duration": 0,
        "start_time": "2022-12-18T19:37:52.792Z"
      },
      {
        "duration": 0,
        "start_time": "2022-12-18T19:37:52.793Z"
      },
      {
        "duration": 0,
        "start_time": "2022-12-18T19:37:52.794Z"
      },
      {
        "duration": 0,
        "start_time": "2022-12-18T19:37:52.795Z"
      },
      {
        "duration": 0,
        "start_time": "2022-12-18T19:37:52.812Z"
      },
      {
        "duration": 0,
        "start_time": "2022-12-18T19:37:52.813Z"
      },
      {
        "duration": 0,
        "start_time": "2022-12-18T19:37:52.815Z"
      },
      {
        "duration": 0,
        "start_time": "2022-12-18T19:37:52.816Z"
      },
      {
        "duration": 0,
        "start_time": "2022-12-18T19:37:52.818Z"
      },
      {
        "duration": 0,
        "start_time": "2022-12-18T19:37:52.820Z"
      },
      {
        "duration": 0,
        "start_time": "2022-12-18T19:37:52.821Z"
      },
      {
        "duration": 0,
        "start_time": "2022-12-18T19:37:52.823Z"
      },
      {
        "duration": 0,
        "start_time": "2022-12-18T19:37:52.825Z"
      },
      {
        "duration": 0,
        "start_time": "2022-12-18T19:37:52.826Z"
      },
      {
        "duration": 0,
        "start_time": "2022-12-18T19:37:52.828Z"
      },
      {
        "duration": 0,
        "start_time": "2022-12-18T19:37:52.829Z"
      },
      {
        "duration": 0,
        "start_time": "2022-12-18T19:37:52.830Z"
      },
      {
        "duration": 0,
        "start_time": "2022-12-18T19:37:52.832Z"
      },
      {
        "duration": 1,
        "start_time": "2022-12-18T19:37:52.833Z"
      },
      {
        "duration": 0,
        "start_time": "2022-12-18T19:37:52.835Z"
      },
      {
        "duration": 0,
        "start_time": "2022-12-18T19:37:52.836Z"
      },
      {
        "duration": 0,
        "start_time": "2022-12-18T19:37:52.838Z"
      },
      {
        "duration": 0,
        "start_time": "2022-12-18T19:37:52.840Z"
      },
      {
        "duration": 0,
        "start_time": "2022-12-18T19:37:52.841Z"
      },
      {
        "duration": 0,
        "start_time": "2022-12-18T19:37:52.843Z"
      },
      {
        "duration": 0,
        "start_time": "2022-12-18T19:37:52.844Z"
      },
      {
        "duration": 0,
        "start_time": "2022-12-18T19:37:52.847Z"
      },
      {
        "duration": 0,
        "start_time": "2022-12-18T19:37:52.848Z"
      },
      {
        "duration": 0,
        "start_time": "2022-12-18T19:37:52.849Z"
      },
      {
        "duration": 0,
        "start_time": "2022-12-18T19:37:52.851Z"
      },
      {
        "duration": 0,
        "start_time": "2022-12-18T19:37:52.912Z"
      },
      {
        "duration": 11,
        "start_time": "2022-12-18T19:39:03.882Z"
      },
      {
        "duration": 11,
        "start_time": "2022-12-18T19:39:15.913Z"
      },
      {
        "duration": 11,
        "start_time": "2022-12-18T19:40:29.200Z"
      },
      {
        "duration": 2099,
        "start_time": "2022-12-18T19:40:40.083Z"
      },
      {
        "duration": 1455,
        "start_time": "2022-12-18T19:40:42.185Z"
      },
      {
        "duration": 64,
        "start_time": "2022-12-18T19:40:43.642Z"
      },
      {
        "duration": 14,
        "start_time": "2022-12-18T19:40:43.709Z"
      },
      {
        "duration": 27,
        "start_time": "2022-12-18T19:40:43.725Z"
      },
      {
        "duration": 6,
        "start_time": "2022-12-18T19:40:43.754Z"
      },
      {
        "duration": 6,
        "start_time": "2022-12-18T19:40:43.762Z"
      },
      {
        "duration": 7,
        "start_time": "2022-12-18T19:40:43.769Z"
      },
      {
        "duration": 47,
        "start_time": "2022-12-18T19:40:43.777Z"
      },
      {
        "duration": 12,
        "start_time": "2022-12-18T19:40:43.827Z"
      },
      {
        "duration": 11,
        "start_time": "2022-12-18T19:40:43.841Z"
      },
      {
        "duration": 10,
        "start_time": "2022-12-18T19:40:43.854Z"
      },
      {
        "duration": 14,
        "start_time": "2022-12-18T19:40:43.866Z"
      },
      {
        "duration": 6,
        "start_time": "2022-12-18T19:40:43.882Z"
      },
      {
        "duration": 158,
        "start_time": "2022-12-18T19:40:43.890Z"
      },
      {
        "duration": 149,
        "start_time": "2022-12-18T19:40:44.050Z"
      },
      {
        "duration": 137,
        "start_time": "2022-12-18T19:40:44.201Z"
      },
      {
        "duration": 116,
        "start_time": "2022-12-18T19:40:44.340Z"
      },
      {
        "duration": 34,
        "start_time": "2022-12-18T19:40:44.458Z"
      },
      {
        "duration": 21,
        "start_time": "2022-12-18T19:40:44.495Z"
      },
      {
        "duration": 14,
        "start_time": "2022-12-18T19:40:44.518Z"
      },
      {
        "duration": 7,
        "start_time": "2022-12-18T19:40:44.534Z"
      },
      {
        "duration": 10,
        "start_time": "2022-12-18T19:40:44.543Z"
      },
      {
        "duration": 6,
        "start_time": "2022-12-18T19:40:44.556Z"
      },
      {
        "duration": 8,
        "start_time": "2022-12-18T19:40:44.564Z"
      },
      {
        "duration": 6,
        "start_time": "2022-12-18T19:40:44.575Z"
      },
      {
        "duration": 6,
        "start_time": "2022-12-18T19:40:44.612Z"
      },
      {
        "duration": 47,
        "start_time": "2022-12-18T19:40:44.717Z"
      },
      {
        "duration": 14,
        "start_time": "2022-12-18T19:40:44.766Z"
      },
      {
        "duration": 7,
        "start_time": "2022-12-18T19:40:44.781Z"
      },
      {
        "duration": 140,
        "start_time": "2022-12-18T19:40:44.789Z"
      },
      {
        "duration": 0,
        "start_time": "2022-12-18T19:40:44.931Z"
      },
      {
        "duration": 0,
        "start_time": "2022-12-18T19:40:44.932Z"
      },
      {
        "duration": 0,
        "start_time": "2022-12-18T19:40:44.933Z"
      },
      {
        "duration": 1,
        "start_time": "2022-12-18T19:40:44.934Z"
      },
      {
        "duration": 0,
        "start_time": "2022-12-18T19:40:44.936Z"
      },
      {
        "duration": 0,
        "start_time": "2022-12-18T19:40:44.937Z"
      },
      {
        "duration": 0,
        "start_time": "2022-12-18T19:40:44.939Z"
      },
      {
        "duration": 0,
        "start_time": "2022-12-18T19:40:44.941Z"
      },
      {
        "duration": 0,
        "start_time": "2022-12-18T19:40:44.944Z"
      },
      {
        "duration": 0,
        "start_time": "2022-12-18T19:40:44.947Z"
      },
      {
        "duration": 0,
        "start_time": "2022-12-18T19:40:44.949Z"
      },
      {
        "duration": 0,
        "start_time": "2022-12-18T19:40:44.950Z"
      },
      {
        "duration": 0,
        "start_time": "2022-12-18T19:40:44.951Z"
      },
      {
        "duration": 0,
        "start_time": "2022-12-18T19:40:44.952Z"
      },
      {
        "duration": 0,
        "start_time": "2022-12-18T19:40:44.954Z"
      },
      {
        "duration": 0,
        "start_time": "2022-12-18T19:40:44.955Z"
      },
      {
        "duration": 0,
        "start_time": "2022-12-18T19:40:44.957Z"
      },
      {
        "duration": 0,
        "start_time": "2022-12-18T19:40:44.958Z"
      },
      {
        "duration": 0,
        "start_time": "2022-12-18T19:40:44.960Z"
      },
      {
        "duration": 0,
        "start_time": "2022-12-18T19:40:44.961Z"
      },
      {
        "duration": 0,
        "start_time": "2022-12-18T19:40:44.963Z"
      },
      {
        "duration": 0,
        "start_time": "2022-12-18T19:40:44.964Z"
      },
      {
        "duration": 0,
        "start_time": "2022-12-18T19:40:44.966Z"
      },
      {
        "duration": 0,
        "start_time": "2022-12-18T19:40:44.967Z"
      },
      {
        "duration": 0,
        "start_time": "2022-12-18T19:40:44.969Z"
      },
      {
        "duration": 0,
        "start_time": "2022-12-18T19:40:45.013Z"
      },
      {
        "duration": 0,
        "start_time": "2022-12-18T19:40:45.015Z"
      },
      {
        "duration": 0,
        "start_time": "2022-12-18T19:40:45.016Z"
      },
      {
        "duration": 0,
        "start_time": "2022-12-18T19:40:45.017Z"
      },
      {
        "duration": 0,
        "start_time": "2022-12-18T19:40:45.019Z"
      },
      {
        "duration": 0,
        "start_time": "2022-12-18T19:40:45.020Z"
      },
      {
        "duration": 0,
        "start_time": "2022-12-18T19:40:45.022Z"
      },
      {
        "duration": 0,
        "start_time": "2022-12-18T19:40:45.024Z"
      },
      {
        "duration": 0,
        "start_time": "2022-12-18T19:40:45.025Z"
      },
      {
        "duration": 0,
        "start_time": "2022-12-18T19:40:45.027Z"
      },
      {
        "duration": 0,
        "start_time": "2022-12-18T19:40:45.029Z"
      },
      {
        "duration": 0,
        "start_time": "2022-12-18T19:40:45.030Z"
      },
      {
        "duration": 13,
        "start_time": "2022-12-18T19:41:12.093Z"
      },
      {
        "duration": 23,
        "start_time": "2022-12-18T19:41:57.927Z"
      },
      {
        "duration": 25,
        "start_time": "2022-12-18T19:42:04.133Z"
      },
      {
        "duration": 20,
        "start_time": "2022-12-18T19:42:08.914Z"
      },
      {
        "duration": 21,
        "start_time": "2022-12-18T19:42:20.924Z"
      },
      {
        "duration": 27,
        "start_time": "2022-12-18T19:42:41.614Z"
      },
      {
        "duration": 2126,
        "start_time": "2022-12-18T19:42:49.944Z"
      },
      {
        "duration": 1388,
        "start_time": "2022-12-18T19:42:52.073Z"
      },
      {
        "duration": 67,
        "start_time": "2022-12-18T19:42:53.463Z"
      },
      {
        "duration": 13,
        "start_time": "2022-12-18T19:42:53.533Z"
      },
      {
        "duration": 17,
        "start_time": "2022-12-18T19:42:53.548Z"
      },
      {
        "duration": 5,
        "start_time": "2022-12-18T19:42:53.567Z"
      },
      {
        "duration": 8,
        "start_time": "2022-12-18T19:42:53.574Z"
      },
      {
        "duration": 30,
        "start_time": "2022-12-18T19:42:53.584Z"
      },
      {
        "duration": 31,
        "start_time": "2022-12-18T19:42:53.616Z"
      },
      {
        "duration": 15,
        "start_time": "2022-12-18T19:42:53.651Z"
      },
      {
        "duration": 8,
        "start_time": "2022-12-18T19:42:53.668Z"
      },
      {
        "duration": 8,
        "start_time": "2022-12-18T19:42:53.678Z"
      },
      {
        "duration": 25,
        "start_time": "2022-12-18T19:42:53.689Z"
      },
      {
        "duration": 8,
        "start_time": "2022-12-18T19:42:53.716Z"
      },
      {
        "duration": 141,
        "start_time": "2022-12-18T19:42:53.725Z"
      },
      {
        "duration": 121,
        "start_time": "2022-12-18T19:42:53.868Z"
      },
      {
        "duration": 125,
        "start_time": "2022-12-18T19:42:53.991Z"
      },
      {
        "duration": 121,
        "start_time": "2022-12-18T19:42:54.118Z"
      },
      {
        "duration": 34,
        "start_time": "2022-12-18T19:42:54.241Z"
      },
      {
        "duration": 12,
        "start_time": "2022-12-18T19:42:54.277Z"
      },
      {
        "duration": 8,
        "start_time": "2022-12-18T19:42:54.291Z"
      },
      {
        "duration": 5,
        "start_time": "2022-12-18T19:42:54.312Z"
      },
      {
        "duration": 7,
        "start_time": "2022-12-18T19:42:54.318Z"
      },
      {
        "duration": 13,
        "start_time": "2022-12-18T19:42:54.327Z"
      },
      {
        "duration": 13,
        "start_time": "2022-12-18T19:42:54.343Z"
      },
      {
        "duration": 10,
        "start_time": "2022-12-18T19:42:54.357Z"
      },
      {
        "duration": 9,
        "start_time": "2022-12-18T19:42:54.369Z"
      },
      {
        "duration": 47,
        "start_time": "2022-12-18T19:42:54.478Z"
      },
      {
        "duration": 11,
        "start_time": "2022-12-18T19:42:54.527Z"
      },
      {
        "duration": 28,
        "start_time": "2022-12-18T19:42:54.540Z"
      },
      {
        "duration": 29,
        "start_time": "2022-12-18T19:42:54.570Z"
      },
      {
        "duration": 6,
        "start_time": "2022-12-18T19:42:54.601Z"
      },
      {
        "duration": 19,
        "start_time": "2022-12-18T19:42:54.610Z"
      },
      {
        "duration": 14,
        "start_time": "2022-12-18T19:42:54.631Z"
      },
      {
        "duration": 122,
        "start_time": "2022-12-18T19:42:54.647Z"
      },
      {
        "duration": 0,
        "start_time": "2022-12-18T19:42:54.771Z"
      },
      {
        "duration": 0,
        "start_time": "2022-12-18T19:42:54.772Z"
      },
      {
        "duration": 0,
        "start_time": "2022-12-18T19:42:54.774Z"
      },
      {
        "duration": 0,
        "start_time": "2022-12-18T19:42:54.775Z"
      },
      {
        "duration": 0,
        "start_time": "2022-12-18T19:42:54.776Z"
      },
      {
        "duration": 0,
        "start_time": "2022-12-18T19:42:54.778Z"
      },
      {
        "duration": 0,
        "start_time": "2022-12-18T19:42:54.780Z"
      },
      {
        "duration": 0,
        "start_time": "2022-12-18T19:42:54.781Z"
      },
      {
        "duration": 0,
        "start_time": "2022-12-18T19:42:54.782Z"
      },
      {
        "duration": 0,
        "start_time": "2022-12-18T19:42:54.783Z"
      },
      {
        "duration": 0,
        "start_time": "2022-12-18T19:42:54.784Z"
      },
      {
        "duration": 0,
        "start_time": "2022-12-18T19:42:54.786Z"
      },
      {
        "duration": 0,
        "start_time": "2022-12-18T19:42:54.787Z"
      },
      {
        "duration": 0,
        "start_time": "2022-12-18T19:42:54.812Z"
      },
      {
        "duration": 0,
        "start_time": "2022-12-18T19:42:54.814Z"
      },
      {
        "duration": 0,
        "start_time": "2022-12-18T19:42:54.815Z"
      },
      {
        "duration": 0,
        "start_time": "2022-12-18T19:42:54.816Z"
      },
      {
        "duration": 0,
        "start_time": "2022-12-18T19:42:54.817Z"
      },
      {
        "duration": 0,
        "start_time": "2022-12-18T19:42:54.818Z"
      },
      {
        "duration": 0,
        "start_time": "2022-12-18T19:42:54.820Z"
      },
      {
        "duration": 0,
        "start_time": "2022-12-18T19:42:54.821Z"
      },
      {
        "duration": 0,
        "start_time": "2022-12-18T19:42:54.823Z"
      },
      {
        "duration": 0,
        "start_time": "2022-12-18T19:42:54.825Z"
      },
      {
        "duration": 0,
        "start_time": "2022-12-18T19:42:54.826Z"
      },
      {
        "duration": 0,
        "start_time": "2022-12-18T19:42:54.827Z"
      },
      {
        "duration": 0,
        "start_time": "2022-12-18T19:42:54.828Z"
      },
      {
        "duration": 0,
        "start_time": "2022-12-18T19:42:54.829Z"
      },
      {
        "duration": 0,
        "start_time": "2022-12-18T19:42:54.830Z"
      },
      {
        "duration": 0,
        "start_time": "2022-12-18T19:42:54.831Z"
      },
      {
        "duration": 0,
        "start_time": "2022-12-18T19:42:54.831Z"
      },
      {
        "duration": 0,
        "start_time": "2022-12-18T19:42:54.832Z"
      },
      {
        "duration": 0,
        "start_time": "2022-12-18T19:42:54.833Z"
      },
      {
        "duration": 0,
        "start_time": "2022-12-18T19:42:54.834Z"
      },
      {
        "duration": 4,
        "start_time": "2022-12-18T19:46:37.248Z"
      },
      {
        "duration": 4,
        "start_time": "2022-12-18T19:47:11.003Z"
      },
      {
        "duration": 44,
        "start_time": "2022-12-18T19:48:25.026Z"
      },
      {
        "duration": 12,
        "start_time": "2022-12-18T19:48:31.736Z"
      },
      {
        "duration": 12,
        "start_time": "2022-12-18T19:48:33.666Z"
      },
      {
        "duration": 22,
        "start_time": "2022-12-18T19:48:36.434Z"
      },
      {
        "duration": 22,
        "start_time": "2022-12-18T19:50:05.811Z"
      },
      {
        "duration": 19,
        "start_time": "2022-12-18T19:52:42.999Z"
      },
      {
        "duration": 19,
        "start_time": "2022-12-18T19:52:53.455Z"
      },
      {
        "duration": 20,
        "start_time": "2022-12-18T19:52:59.551Z"
      },
      {
        "duration": 19,
        "start_time": "2022-12-18T19:53:10.401Z"
      },
      {
        "duration": 50,
        "start_time": "2022-12-18T19:54:04.227Z"
      },
      {
        "duration": 20,
        "start_time": "2022-12-18T19:54:21.894Z"
      },
      {
        "duration": 39,
        "start_time": "2022-12-18T19:54:39.111Z"
      },
      {
        "duration": 12,
        "start_time": "2022-12-18T19:54:47.457Z"
      },
      {
        "duration": 515,
        "start_time": "2022-12-18T19:54:58.905Z"
      },
      {
        "duration": 510,
        "start_time": "2022-12-18T19:55:13.618Z"
      },
      {
        "duration": 2111,
        "start_time": "2022-12-18T19:55:20.121Z"
      },
      {
        "duration": 1401,
        "start_time": "2022-12-18T19:55:22.234Z"
      },
      {
        "duration": 68,
        "start_time": "2022-12-18T19:55:23.637Z"
      },
      {
        "duration": 14,
        "start_time": "2022-12-18T19:55:23.708Z"
      },
      {
        "duration": 27,
        "start_time": "2022-12-18T19:55:23.724Z"
      },
      {
        "duration": 6,
        "start_time": "2022-12-18T19:55:23.753Z"
      },
      {
        "duration": 10,
        "start_time": "2022-12-18T19:55:23.760Z"
      },
      {
        "duration": 8,
        "start_time": "2022-12-18T19:55:23.772Z"
      },
      {
        "duration": 39,
        "start_time": "2022-12-18T19:55:23.782Z"
      },
      {
        "duration": 12,
        "start_time": "2022-12-18T19:55:23.824Z"
      },
      {
        "duration": 8,
        "start_time": "2022-12-18T19:55:23.837Z"
      },
      {
        "duration": 7,
        "start_time": "2022-12-18T19:55:23.847Z"
      },
      {
        "duration": 7,
        "start_time": "2022-12-18T19:55:23.856Z"
      },
      {
        "duration": 7,
        "start_time": "2022-12-18T19:55:23.864Z"
      },
      {
        "duration": 152,
        "start_time": "2022-12-18T19:55:23.872Z"
      },
      {
        "duration": 120,
        "start_time": "2022-12-18T19:55:24.025Z"
      },
      {
        "duration": 109,
        "start_time": "2022-12-18T19:55:24.147Z"
      },
      {
        "duration": 119,
        "start_time": "2022-12-18T19:55:24.258Z"
      },
      {
        "duration": 33,
        "start_time": "2022-12-18T19:55:24.379Z"
      },
      {
        "duration": 11,
        "start_time": "2022-12-18T19:55:24.413Z"
      },
      {
        "duration": 8,
        "start_time": "2022-12-18T19:55:24.426Z"
      },
      {
        "duration": 6,
        "start_time": "2022-12-18T19:55:24.435Z"
      },
      {
        "duration": 6,
        "start_time": "2022-12-18T19:55:24.443Z"
      },
      {
        "duration": 6,
        "start_time": "2022-12-18T19:55:24.451Z"
      },
      {
        "duration": 6,
        "start_time": "2022-12-18T19:55:24.459Z"
      },
      {
        "duration": 8,
        "start_time": "2022-12-18T19:55:24.467Z"
      },
      {
        "duration": 35,
        "start_time": "2022-12-18T19:55:24.477Z"
      },
      {
        "duration": 25,
        "start_time": "2022-12-18T19:55:24.596Z"
      },
      {
        "duration": 10,
        "start_time": "2022-12-18T19:55:24.623Z"
      },
      {
        "duration": 9,
        "start_time": "2022-12-18T19:55:24.635Z"
      },
      {
        "duration": 23,
        "start_time": "2022-12-18T19:55:24.646Z"
      },
      {
        "duration": 12,
        "start_time": "2022-12-18T19:55:24.670Z"
      },
      {
        "duration": 19,
        "start_time": "2022-12-18T19:55:24.683Z"
      },
      {
        "duration": 10,
        "start_time": "2022-12-18T19:55:24.712Z"
      },
      {
        "duration": 10,
        "start_time": "2022-12-18T19:55:24.723Z"
      },
      {
        "duration": 42,
        "start_time": "2022-12-18T19:55:24.735Z"
      },
      {
        "duration": 13,
        "start_time": "2022-12-18T19:55:24.779Z"
      },
      {
        "duration": 24,
        "start_time": "2022-12-18T19:55:24.794Z"
      },
      {
        "duration": 24,
        "start_time": "2022-12-18T19:55:24.820Z"
      },
      {
        "duration": 2,
        "start_time": "2022-12-18T19:55:24.845Z"
      },
      {
        "duration": 37,
        "start_time": "2022-12-18T19:55:24.849Z"
      },
      {
        "duration": 155,
        "start_time": "2022-12-18T19:55:24.889Z"
      },
      {
        "duration": 0,
        "start_time": "2022-12-18T19:55:25.045Z"
      },
      {
        "duration": 0,
        "start_time": "2022-12-18T19:55:25.047Z"
      },
      {
        "duration": 0,
        "start_time": "2022-12-18T19:55:25.048Z"
      },
      {
        "duration": 0,
        "start_time": "2022-12-18T19:55:25.049Z"
      },
      {
        "duration": 0,
        "start_time": "2022-12-18T19:55:25.051Z"
      },
      {
        "duration": 0,
        "start_time": "2022-12-18T19:55:25.053Z"
      },
      {
        "duration": 0,
        "start_time": "2022-12-18T19:55:25.054Z"
      },
      {
        "duration": 1,
        "start_time": "2022-12-18T19:55:25.055Z"
      },
      {
        "duration": 0,
        "start_time": "2022-12-18T19:55:25.057Z"
      },
      {
        "duration": 0,
        "start_time": "2022-12-18T19:55:25.058Z"
      },
      {
        "duration": 0,
        "start_time": "2022-12-18T19:55:25.060Z"
      },
      {
        "duration": 0,
        "start_time": "2022-12-18T19:55:25.061Z"
      },
      {
        "duration": 0,
        "start_time": "2022-12-18T19:55:25.063Z"
      },
      {
        "duration": 0,
        "start_time": "2022-12-18T19:55:25.064Z"
      },
      {
        "duration": 0,
        "start_time": "2022-12-18T19:55:25.066Z"
      },
      {
        "duration": 0,
        "start_time": "2022-12-18T19:55:25.067Z"
      },
      {
        "duration": 0,
        "start_time": "2022-12-18T19:55:25.069Z"
      },
      {
        "duration": 0,
        "start_time": "2022-12-18T19:55:25.070Z"
      },
      {
        "duration": 0,
        "start_time": "2022-12-18T19:55:25.111Z"
      },
      {
        "duration": 0,
        "start_time": "2022-12-18T19:55:25.113Z"
      },
      {
        "duration": 0,
        "start_time": "2022-12-18T19:55:25.114Z"
      },
      {
        "duration": 0,
        "start_time": "2022-12-18T19:55:25.116Z"
      },
      {
        "duration": 0,
        "start_time": "2022-12-18T19:55:25.117Z"
      },
      {
        "duration": 0,
        "start_time": "2022-12-18T19:55:25.118Z"
      },
      {
        "duration": 0,
        "start_time": "2022-12-18T19:55:25.119Z"
      },
      {
        "duration": 0,
        "start_time": "2022-12-18T19:55:25.119Z"
      },
      {
        "duration": 2787,
        "start_time": "2022-12-18T20:11:09.373Z"
      },
      {
        "duration": 1617,
        "start_time": "2022-12-18T20:11:12.162Z"
      },
      {
        "duration": 172,
        "start_time": "2022-12-18T20:11:13.781Z"
      },
      {
        "duration": 18,
        "start_time": "2022-12-18T20:11:13.956Z"
      },
      {
        "duration": 22,
        "start_time": "2022-12-18T20:11:13.976Z"
      },
      {
        "duration": 5,
        "start_time": "2022-12-18T20:11:14.000Z"
      },
      {
        "duration": 18,
        "start_time": "2022-12-18T20:11:14.007Z"
      },
      {
        "duration": 56,
        "start_time": "2022-12-18T20:11:14.027Z"
      },
      {
        "duration": 82,
        "start_time": "2022-12-18T20:11:14.086Z"
      },
      {
        "duration": 13,
        "start_time": "2022-12-18T20:11:14.171Z"
      },
      {
        "duration": 21,
        "start_time": "2022-12-18T20:11:14.186Z"
      },
      {
        "duration": 14,
        "start_time": "2022-12-18T20:11:14.209Z"
      },
      {
        "duration": 22,
        "start_time": "2022-12-18T20:11:14.225Z"
      },
      {
        "duration": 17,
        "start_time": "2022-12-18T20:11:14.249Z"
      },
      {
        "duration": 161,
        "start_time": "2022-12-18T20:11:14.269Z"
      },
      {
        "duration": 113,
        "start_time": "2022-12-18T20:11:14.431Z"
      },
      {
        "duration": 100,
        "start_time": "2022-12-18T20:11:14.545Z"
      },
      {
        "duration": 103,
        "start_time": "2022-12-18T20:11:14.647Z"
      },
      {
        "duration": 91,
        "start_time": "2022-12-18T20:11:14.752Z"
      },
      {
        "duration": 11,
        "start_time": "2022-12-18T20:11:14.845Z"
      },
      {
        "duration": 9,
        "start_time": "2022-12-18T20:11:14.858Z"
      },
      {
        "duration": 6,
        "start_time": "2022-12-18T20:11:14.869Z"
      },
      {
        "duration": 6,
        "start_time": "2022-12-18T20:11:14.876Z"
      },
      {
        "duration": 6,
        "start_time": "2022-12-18T20:11:14.883Z"
      },
      {
        "duration": 6,
        "start_time": "2022-12-18T20:11:14.890Z"
      },
      {
        "duration": 25,
        "start_time": "2022-12-18T20:11:14.898Z"
      },
      {
        "duration": 5,
        "start_time": "2022-12-18T20:11:14.926Z"
      },
      {
        "duration": 75,
        "start_time": "2022-12-18T20:11:15.022Z"
      },
      {
        "duration": 9,
        "start_time": "2022-12-18T20:11:15.099Z"
      },
      {
        "duration": 7,
        "start_time": "2022-12-18T20:11:15.109Z"
      },
      {
        "duration": 26,
        "start_time": "2022-12-18T20:11:15.118Z"
      },
      {
        "duration": 7,
        "start_time": "2022-12-18T20:11:15.146Z"
      },
      {
        "duration": 11,
        "start_time": "2022-12-18T20:11:15.155Z"
      },
      {
        "duration": 11,
        "start_time": "2022-12-18T20:11:15.167Z"
      },
      {
        "duration": 7,
        "start_time": "2022-12-18T20:11:15.179Z"
      },
      {
        "duration": 40,
        "start_time": "2022-12-18T20:11:15.187Z"
      },
      {
        "duration": 11,
        "start_time": "2022-12-18T20:11:15.228Z"
      },
      {
        "duration": 12,
        "start_time": "2022-12-18T20:11:15.241Z"
      },
      {
        "duration": 16,
        "start_time": "2022-12-18T20:11:15.254Z"
      },
      {
        "duration": 2,
        "start_time": "2022-12-18T20:11:15.272Z"
      },
      {
        "duration": 14,
        "start_time": "2022-12-18T20:11:15.276Z"
      },
      {
        "duration": 54,
        "start_time": "2022-12-18T20:11:15.291Z"
      },
      {
        "duration": 126,
        "start_time": "2022-12-18T20:11:15.346Z"
      },
      {
        "duration": 0,
        "start_time": "2022-12-18T20:11:15.473Z"
      },
      {
        "duration": 0,
        "start_time": "2022-12-18T20:11:15.475Z"
      },
      {
        "duration": 0,
        "start_time": "2022-12-18T20:11:15.477Z"
      },
      {
        "duration": 0,
        "start_time": "2022-12-18T20:11:15.478Z"
      },
      {
        "duration": 0,
        "start_time": "2022-12-18T20:11:15.480Z"
      },
      {
        "duration": 0,
        "start_time": "2022-12-18T20:11:15.482Z"
      },
      {
        "duration": 0,
        "start_time": "2022-12-18T20:11:15.483Z"
      },
      {
        "duration": 0,
        "start_time": "2022-12-18T20:11:15.485Z"
      },
      {
        "duration": 0,
        "start_time": "2022-12-18T20:11:15.487Z"
      },
      {
        "duration": 0,
        "start_time": "2022-12-18T20:11:15.489Z"
      },
      {
        "duration": 0,
        "start_time": "2022-12-18T20:11:15.521Z"
      },
      {
        "duration": 0,
        "start_time": "2022-12-18T20:11:15.523Z"
      },
      {
        "duration": 0,
        "start_time": "2022-12-18T20:11:15.527Z"
      },
      {
        "duration": 0,
        "start_time": "2022-12-18T20:11:15.528Z"
      },
      {
        "duration": 0,
        "start_time": "2022-12-18T20:11:15.530Z"
      },
      {
        "duration": 0,
        "start_time": "2022-12-18T20:11:15.531Z"
      },
      {
        "duration": 0,
        "start_time": "2022-12-18T20:11:15.532Z"
      },
      {
        "duration": 0,
        "start_time": "2022-12-18T20:11:15.533Z"
      },
      {
        "duration": 0,
        "start_time": "2022-12-18T20:11:15.535Z"
      },
      {
        "duration": 0,
        "start_time": "2022-12-18T20:11:15.537Z"
      },
      {
        "duration": 0,
        "start_time": "2022-12-18T20:11:15.538Z"
      },
      {
        "duration": 0,
        "start_time": "2022-12-18T20:11:15.540Z"
      },
      {
        "duration": 0,
        "start_time": "2022-12-18T20:11:15.543Z"
      },
      {
        "duration": 0,
        "start_time": "2022-12-18T20:11:15.544Z"
      },
      {
        "duration": 0,
        "start_time": "2022-12-18T20:11:15.546Z"
      },
      {
        "duration": 0,
        "start_time": "2022-12-18T20:11:15.547Z"
      },
      {
        "duration": 24,
        "start_time": "2022-12-18T20:11:54.689Z"
      },
      {
        "duration": 4,
        "start_time": "2022-12-18T20:12:10.552Z"
      },
      {
        "duration": 7,
        "start_time": "2022-12-18T20:13:14.307Z"
      },
      {
        "duration": 11,
        "start_time": "2022-12-18T20:28:30.620Z"
      },
      {
        "duration": 10,
        "start_time": "2022-12-18T20:28:38.915Z"
      },
      {
        "duration": 8,
        "start_time": "2022-12-18T20:28:54.678Z"
      },
      {
        "duration": 4,
        "start_time": "2022-12-18T20:30:56.099Z"
      },
      {
        "duration": 36,
        "start_time": "2022-12-18T20:31:37.864Z"
      },
      {
        "duration": 1700,
        "start_time": "2022-12-18T20:38:16.230Z"
      },
      {
        "duration": 5,
        "start_time": "2022-12-18T20:39:25.394Z"
      },
      {
        "duration": 4381,
        "start_time": "2022-12-18T20:42:52.563Z"
      },
      {
        "duration": 4035,
        "start_time": "2022-12-18T20:43:20.136Z"
      },
      {
        "duration": 2098,
        "start_time": "2022-12-18T20:44:09.386Z"
      },
      {
        "duration": 1421,
        "start_time": "2022-12-18T20:44:11.486Z"
      },
      {
        "duration": 73,
        "start_time": "2022-12-18T20:44:12.909Z"
      },
      {
        "duration": 12,
        "start_time": "2022-12-18T20:44:12.984Z"
      },
      {
        "duration": 13,
        "start_time": "2022-12-18T20:44:12.998Z"
      },
      {
        "duration": 5,
        "start_time": "2022-12-18T20:44:13.012Z"
      },
      {
        "duration": 15,
        "start_time": "2022-12-18T20:44:13.018Z"
      },
      {
        "duration": 6,
        "start_time": "2022-12-18T20:44:13.035Z"
      },
      {
        "duration": 32,
        "start_time": "2022-12-18T20:44:13.043Z"
      },
      {
        "duration": 12,
        "start_time": "2022-12-18T20:44:13.077Z"
      },
      {
        "duration": 7,
        "start_time": "2022-12-18T20:44:13.090Z"
      },
      {
        "duration": 5,
        "start_time": "2022-12-18T20:44:13.099Z"
      },
      {
        "duration": 6,
        "start_time": "2022-12-18T20:44:13.106Z"
      },
      {
        "duration": 12,
        "start_time": "2022-12-18T20:44:13.127Z"
      },
      {
        "duration": 131,
        "start_time": "2022-12-18T20:44:13.141Z"
      },
      {
        "duration": 115,
        "start_time": "2022-12-18T20:44:13.274Z"
      },
      {
        "duration": 103,
        "start_time": "2022-12-18T20:44:13.391Z"
      },
      {
        "duration": 108,
        "start_time": "2022-12-18T20:44:13.496Z"
      },
      {
        "duration": 41,
        "start_time": "2022-12-18T20:44:13.605Z"
      },
      {
        "duration": 12,
        "start_time": "2022-12-18T20:44:13.647Z"
      },
      {
        "duration": 13,
        "start_time": "2022-12-18T20:44:13.661Z"
      },
      {
        "duration": 9,
        "start_time": "2022-12-18T20:44:13.675Z"
      },
      {
        "duration": 10,
        "start_time": "2022-12-18T20:44:13.685Z"
      },
      {
        "duration": 7,
        "start_time": "2022-12-18T20:44:13.697Z"
      },
      {
        "duration": 28,
        "start_time": "2022-12-18T20:44:13.706Z"
      },
      {
        "duration": 8,
        "start_time": "2022-12-18T20:44:13.737Z"
      },
      {
        "duration": 8,
        "start_time": "2022-12-18T20:44:13.747Z"
      },
      {
        "duration": 24,
        "start_time": "2022-12-18T20:44:13.850Z"
      },
      {
        "duration": 11,
        "start_time": "2022-12-18T20:44:13.876Z"
      },
      {
        "duration": 11,
        "start_time": "2022-12-18T20:44:13.888Z"
      },
      {
        "duration": 36,
        "start_time": "2022-12-18T20:44:13.900Z"
      },
      {
        "duration": 5,
        "start_time": "2022-12-18T20:44:13.939Z"
      },
      {
        "duration": 8,
        "start_time": "2022-12-18T20:44:13.947Z"
      },
      {
        "duration": 15,
        "start_time": "2022-12-18T20:44:13.957Z"
      },
      {
        "duration": 16,
        "start_time": "2022-12-18T20:44:13.974Z"
      },
      {
        "duration": 45,
        "start_time": "2022-12-18T20:44:13.992Z"
      },
      {
        "duration": 15,
        "start_time": "2022-12-18T20:44:14.039Z"
      },
      {
        "duration": 27,
        "start_time": "2022-12-18T20:44:14.056Z"
      },
      {
        "duration": 19,
        "start_time": "2022-12-18T20:44:14.088Z"
      },
      {
        "duration": 9,
        "start_time": "2022-12-18T20:44:14.108Z"
      },
      {
        "duration": 35,
        "start_time": "2022-12-18T20:44:14.119Z"
      },
      {
        "duration": 40,
        "start_time": "2022-12-18T20:44:14.157Z"
      },
      {
        "duration": 4,
        "start_time": "2022-12-18T20:44:14.199Z"
      },
      {
        "duration": 30,
        "start_time": "2022-12-18T20:44:14.205Z"
      },
      {
        "duration": 1482,
        "start_time": "2022-12-18T20:44:14.237Z"
      },
      {
        "duration": 43,
        "start_time": "2022-12-18T20:44:15.721Z"
      },
      {
        "duration": 5,
        "start_time": "2022-12-18T20:44:15.765Z"
      },
      {
        "duration": 4099,
        "start_time": "2022-12-18T20:44:15.772Z"
      },
      {
        "duration": 3,
        "start_time": "2022-12-18T20:44:19.873Z"
      },
      {
        "duration": 8,
        "start_time": "2022-12-18T20:44:19.877Z"
      },
      {
        "duration": 65,
        "start_time": "2022-12-18T20:44:19.887Z"
      },
      {
        "duration": 12,
        "start_time": "2022-12-18T20:44:19.953Z"
      },
      {
        "duration": 2,
        "start_time": "2022-12-18T20:44:19.967Z"
      },
      {
        "duration": 13,
        "start_time": "2022-12-18T20:44:19.971Z"
      },
      {
        "duration": 5,
        "start_time": "2022-12-18T20:44:19.985Z"
      },
      {
        "duration": 8,
        "start_time": "2022-12-18T20:44:19.991Z"
      },
      {
        "duration": 8,
        "start_time": "2022-12-18T20:44:20.000Z"
      },
      {
        "duration": 1349,
        "start_time": "2022-12-18T20:44:20.009Z"
      },
      {
        "duration": 0,
        "start_time": "2022-12-18T20:44:21.360Z"
      },
      {
        "duration": 0,
        "start_time": "2022-12-18T20:44:21.362Z"
      },
      {
        "duration": 0,
        "start_time": "2022-12-18T20:44:21.364Z"
      },
      {
        "duration": 0,
        "start_time": "2022-12-18T20:44:21.365Z"
      },
      {
        "duration": 0,
        "start_time": "2022-12-18T20:44:21.366Z"
      },
      {
        "duration": 0,
        "start_time": "2022-12-18T20:44:21.368Z"
      },
      {
        "duration": 0,
        "start_time": "2022-12-18T20:44:21.369Z"
      },
      {
        "duration": 1,
        "start_time": "2022-12-18T20:44:21.370Z"
      },
      {
        "duration": 0,
        "start_time": "2022-12-18T20:44:21.371Z"
      },
      {
        "duration": 0,
        "start_time": "2022-12-18T20:44:21.373Z"
      },
      {
        "duration": 0,
        "start_time": "2022-12-18T20:44:21.374Z"
      },
      {
        "duration": 0,
        "start_time": "2022-12-18T20:44:21.375Z"
      },
      {
        "duration": 0,
        "start_time": "2022-12-18T20:44:21.376Z"
      },
      {
        "duration": 0,
        "start_time": "2022-12-18T20:44:21.378Z"
      },
      {
        "duration": 2220,
        "start_time": "2022-12-18T20:46:25.939Z"
      },
      {
        "duration": 1426,
        "start_time": "2022-12-18T20:46:28.161Z"
      },
      {
        "duration": 83,
        "start_time": "2022-12-18T20:46:29.588Z"
      },
      {
        "duration": 22,
        "start_time": "2022-12-18T20:46:29.674Z"
      },
      {
        "duration": 28,
        "start_time": "2022-12-18T20:46:29.698Z"
      },
      {
        "duration": 8,
        "start_time": "2022-12-18T20:46:29.736Z"
      },
      {
        "duration": 9,
        "start_time": "2022-12-18T20:46:29.747Z"
      },
      {
        "duration": 8,
        "start_time": "2022-12-18T20:46:29.758Z"
      },
      {
        "duration": 34,
        "start_time": "2022-12-18T20:46:29.767Z"
      },
      {
        "duration": 27,
        "start_time": "2022-12-18T20:46:29.804Z"
      },
      {
        "duration": 29,
        "start_time": "2022-12-18T20:46:29.834Z"
      },
      {
        "duration": 10,
        "start_time": "2022-12-18T20:46:29.865Z"
      },
      {
        "duration": 9,
        "start_time": "2022-12-18T20:46:29.877Z"
      },
      {
        "duration": 12,
        "start_time": "2022-12-18T20:46:29.888Z"
      },
      {
        "duration": 140,
        "start_time": "2022-12-18T20:46:29.902Z"
      },
      {
        "duration": 118,
        "start_time": "2022-12-18T20:46:30.044Z"
      },
      {
        "duration": 113,
        "start_time": "2022-12-18T20:46:30.164Z"
      },
      {
        "duration": 116,
        "start_time": "2022-12-18T20:46:30.278Z"
      },
      {
        "duration": 36,
        "start_time": "2022-12-18T20:46:30.396Z"
      },
      {
        "duration": 17,
        "start_time": "2022-12-18T20:46:30.438Z"
      },
      {
        "duration": 37,
        "start_time": "2022-12-18T20:46:30.456Z"
      },
      {
        "duration": 24,
        "start_time": "2022-12-18T20:46:30.495Z"
      },
      {
        "duration": 25,
        "start_time": "2022-12-18T20:46:30.525Z"
      },
      {
        "duration": 29,
        "start_time": "2022-12-18T20:46:30.552Z"
      },
      {
        "duration": 17,
        "start_time": "2022-12-18T20:46:30.583Z"
      },
      {
        "duration": 39,
        "start_time": "2022-12-18T20:46:30.602Z"
      },
      {
        "duration": 14,
        "start_time": "2022-12-18T20:46:30.643Z"
      },
      {
        "duration": 43,
        "start_time": "2022-12-18T20:46:30.745Z"
      },
      {
        "duration": 13,
        "start_time": "2022-12-18T20:46:30.791Z"
      },
      {
        "duration": 37,
        "start_time": "2022-12-18T20:46:30.806Z"
      },
      {
        "duration": 44,
        "start_time": "2022-12-18T20:46:30.844Z"
      },
      {
        "duration": 12,
        "start_time": "2022-12-18T20:46:30.889Z"
      },
      {
        "duration": 37,
        "start_time": "2022-12-18T20:46:30.903Z"
      },
      {
        "duration": 15,
        "start_time": "2022-12-18T20:46:30.943Z"
      },
      {
        "duration": 21,
        "start_time": "2022-12-18T20:46:30.961Z"
      },
      {
        "duration": 58,
        "start_time": "2022-12-18T20:46:30.984Z"
      },
      {
        "duration": 12,
        "start_time": "2022-12-18T20:46:31.044Z"
      },
      {
        "duration": 36,
        "start_time": "2022-12-18T20:46:31.058Z"
      },
      {
        "duration": 20,
        "start_time": "2022-12-18T20:46:31.096Z"
      },
      {
        "duration": 26,
        "start_time": "2022-12-18T20:46:31.118Z"
      },
      {
        "duration": 41,
        "start_time": "2022-12-18T20:46:31.146Z"
      },
      {
        "duration": 54,
        "start_time": "2022-12-18T20:46:31.189Z"
      },
      {
        "duration": 18,
        "start_time": "2022-12-18T20:46:31.246Z"
      },
      {
        "duration": 20,
        "start_time": "2022-12-18T20:46:31.265Z"
      },
      {
        "duration": 24,
        "start_time": "2022-12-18T20:46:31.287Z"
      },
      {
        "duration": 46,
        "start_time": "2022-12-18T20:46:31.313Z"
      },
      {
        "duration": 6,
        "start_time": "2022-12-18T20:46:31.361Z"
      },
      {
        "duration": 5107,
        "start_time": "2022-12-18T20:46:31.369Z"
      },
      {
        "duration": 2,
        "start_time": "2022-12-18T20:46:36.478Z"
      },
      {
        "duration": 11,
        "start_time": "2022-12-18T20:46:36.482Z"
      },
      {
        "duration": 63,
        "start_time": "2022-12-18T20:46:36.495Z"
      },
      {
        "duration": 11,
        "start_time": "2022-12-18T20:46:36.560Z"
      },
      {
        "duration": 2,
        "start_time": "2022-12-18T20:46:36.573Z"
      },
      {
        "duration": 11,
        "start_time": "2022-12-18T20:46:36.577Z"
      },
      {
        "duration": 4,
        "start_time": "2022-12-18T20:46:36.590Z"
      },
      {
        "duration": 21,
        "start_time": "2022-12-18T20:46:36.595Z"
      },
      {
        "duration": 23,
        "start_time": "2022-12-18T20:46:36.618Z"
      },
      {
        "duration": 1321,
        "start_time": "2022-12-18T20:46:36.643Z"
      },
      {
        "duration": 0,
        "start_time": "2022-12-18T20:46:37.966Z"
      },
      {
        "duration": 0,
        "start_time": "2022-12-18T20:46:37.967Z"
      },
      {
        "duration": 0,
        "start_time": "2022-12-18T20:46:37.969Z"
      },
      {
        "duration": 0,
        "start_time": "2022-12-18T20:46:37.970Z"
      },
      {
        "duration": 0,
        "start_time": "2022-12-18T20:46:37.972Z"
      },
      {
        "duration": 0,
        "start_time": "2022-12-18T20:46:37.973Z"
      },
      {
        "duration": 0,
        "start_time": "2022-12-18T20:46:37.975Z"
      },
      {
        "duration": 0,
        "start_time": "2022-12-18T20:46:37.976Z"
      },
      {
        "duration": 0,
        "start_time": "2022-12-18T20:46:37.977Z"
      },
      {
        "duration": 0,
        "start_time": "2022-12-18T20:46:37.979Z"
      },
      {
        "duration": 0,
        "start_time": "2022-12-18T20:46:37.980Z"
      },
      {
        "duration": 0,
        "start_time": "2022-12-18T20:46:37.981Z"
      },
      {
        "duration": 0,
        "start_time": "2022-12-18T20:46:37.983Z"
      },
      {
        "duration": 0,
        "start_time": "2022-12-18T20:46:37.984Z"
      },
      {
        "duration": 6,
        "start_time": "2022-12-18T20:49:12.175Z"
      },
      {
        "duration": 71,
        "start_time": "2022-12-18T20:51:24.237Z"
      },
      {
        "duration": 6,
        "start_time": "2022-12-18T20:51:33.570Z"
      },
      {
        "duration": 14,
        "start_time": "2022-12-18T20:56:47.297Z"
      },
      {
        "duration": 10,
        "start_time": "2022-12-18T20:58:49.502Z"
      },
      {
        "duration": 3,
        "start_time": "2022-12-18T21:00:34.477Z"
      },
      {
        "duration": 2120,
        "start_time": "2022-12-18T21:01:42.000Z"
      },
      {
        "duration": 1453,
        "start_time": "2022-12-18T21:01:44.130Z"
      },
      {
        "duration": 70,
        "start_time": "2022-12-18T21:01:45.584Z"
      },
      {
        "duration": 13,
        "start_time": "2022-12-18T21:01:45.656Z"
      },
      {
        "duration": 32,
        "start_time": "2022-12-18T21:01:45.670Z"
      },
      {
        "duration": 16,
        "start_time": "2022-12-18T21:01:45.703Z"
      },
      {
        "duration": 42,
        "start_time": "2022-12-18T21:01:45.721Z"
      },
      {
        "duration": 19,
        "start_time": "2022-12-18T21:01:45.764Z"
      },
      {
        "duration": 83,
        "start_time": "2022-12-18T21:01:45.785Z"
      },
      {
        "duration": 14,
        "start_time": "2022-12-18T21:01:45.872Z"
      },
      {
        "duration": 56,
        "start_time": "2022-12-18T21:01:45.887Z"
      },
      {
        "duration": 29,
        "start_time": "2022-12-18T21:01:45.945Z"
      },
      {
        "duration": 37,
        "start_time": "2022-12-18T21:01:45.976Z"
      },
      {
        "duration": 54,
        "start_time": "2022-12-18T21:01:46.015Z"
      },
      {
        "duration": 136,
        "start_time": "2022-12-18T21:01:46.071Z"
      },
      {
        "duration": 122,
        "start_time": "2022-12-18T21:01:46.208Z"
      },
      {
        "duration": 111,
        "start_time": "2022-12-18T21:01:46.331Z"
      },
      {
        "duration": 103,
        "start_time": "2022-12-18T21:01:46.443Z"
      },
      {
        "duration": 30,
        "start_time": "2022-12-18T21:01:46.548Z"
      },
      {
        "duration": 10,
        "start_time": "2022-12-18T21:01:46.579Z"
      },
      {
        "duration": 24,
        "start_time": "2022-12-18T21:01:46.591Z"
      },
      {
        "duration": 38,
        "start_time": "2022-12-18T21:01:46.616Z"
      },
      {
        "duration": 29,
        "start_time": "2022-12-18T21:01:46.655Z"
      },
      {
        "duration": 26,
        "start_time": "2022-12-18T21:01:46.686Z"
      },
      {
        "duration": 43,
        "start_time": "2022-12-18T21:01:46.713Z"
      },
      {
        "duration": 14,
        "start_time": "2022-12-18T21:01:46.758Z"
      },
      {
        "duration": 7,
        "start_time": "2022-12-18T21:01:46.774Z"
      },
      {
        "duration": 43,
        "start_time": "2022-12-18T21:01:46.859Z"
      },
      {
        "duration": 8,
        "start_time": "2022-12-18T21:01:46.904Z"
      },
      {
        "duration": 6,
        "start_time": "2022-12-18T21:01:46.914Z"
      },
      {
        "duration": 46,
        "start_time": "2022-12-18T21:01:46.921Z"
      },
      {
        "duration": 4,
        "start_time": "2022-12-18T21:01:46.968Z"
      },
      {
        "duration": 3,
        "start_time": "2022-12-18T21:01:46.974Z"
      },
      {
        "duration": 8,
        "start_time": "2022-12-18T21:01:46.979Z"
      },
      {
        "duration": 9,
        "start_time": "2022-12-18T21:01:46.988Z"
      },
      {
        "duration": 32,
        "start_time": "2022-12-18T21:01:46.998Z"
      },
      {
        "duration": 14,
        "start_time": "2022-12-18T21:01:47.035Z"
      },
      {
        "duration": 15,
        "start_time": "2022-12-18T21:01:47.051Z"
      },
      {
        "duration": 15,
        "start_time": "2022-12-18T21:01:47.067Z"
      },
      {
        "duration": 2,
        "start_time": "2022-12-18T21:01:47.084Z"
      },
      {
        "duration": 12,
        "start_time": "2022-12-18T21:01:47.087Z"
      },
      {
        "duration": 46,
        "start_time": "2022-12-18T21:01:47.100Z"
      },
      {
        "duration": 4,
        "start_time": "2022-12-18T21:01:47.151Z"
      },
      {
        "duration": 13,
        "start_time": "2022-12-18T21:01:47.157Z"
      },
      {
        "duration": 2,
        "start_time": "2022-12-18T21:01:47.171Z"
      },
      {
        "duration": 36,
        "start_time": "2022-12-18T21:01:47.175Z"
      },
      {
        "duration": 17,
        "start_time": "2022-12-18T21:01:47.222Z"
      },
      {
        "duration": 4765,
        "start_time": "2022-12-18T21:01:47.243Z"
      },
      {
        "duration": 10,
        "start_time": "2022-12-18T21:01:52.009Z"
      },
      {
        "duration": 5,
        "start_time": "2022-12-18T21:01:52.020Z"
      },
      {
        "duration": 131,
        "start_time": "2022-12-18T21:01:52.030Z"
      },
      {
        "duration": 0,
        "start_time": "2022-12-18T21:01:52.163Z"
      },
      {
        "duration": 0,
        "start_time": "2022-12-18T21:01:52.164Z"
      },
      {
        "duration": 0,
        "start_time": "2022-12-18T21:01:52.165Z"
      },
      {
        "duration": 0,
        "start_time": "2022-12-18T21:01:52.166Z"
      },
      {
        "duration": 0,
        "start_time": "2022-12-18T21:01:52.167Z"
      },
      {
        "duration": 0,
        "start_time": "2022-12-18T21:01:52.168Z"
      },
      {
        "duration": 0,
        "start_time": "2022-12-18T21:01:52.169Z"
      },
      {
        "duration": 0,
        "start_time": "2022-12-18T21:01:52.170Z"
      },
      {
        "duration": 0,
        "start_time": "2022-12-18T21:01:52.171Z"
      },
      {
        "duration": 0,
        "start_time": "2022-12-18T21:01:52.172Z"
      },
      {
        "duration": 0,
        "start_time": "2022-12-18T21:01:52.172Z"
      },
      {
        "duration": 0,
        "start_time": "2022-12-18T21:01:52.174Z"
      },
      {
        "duration": 0,
        "start_time": "2022-12-18T21:01:52.174Z"
      },
      {
        "duration": 0,
        "start_time": "2022-12-18T21:01:52.175Z"
      },
      {
        "duration": 0,
        "start_time": "2022-12-18T21:01:52.176Z"
      },
      {
        "duration": 0,
        "start_time": "2022-12-18T21:01:52.177Z"
      },
      {
        "duration": 0,
        "start_time": "2022-12-18T21:01:52.178Z"
      },
      {
        "duration": 0,
        "start_time": "2022-12-18T21:01:52.179Z"
      },
      {
        "duration": 0,
        "start_time": "2022-12-18T21:01:52.180Z"
      },
      {
        "duration": 0,
        "start_time": "2022-12-18T21:01:52.181Z"
      },
      {
        "duration": 0,
        "start_time": "2022-12-18T21:01:52.182Z"
      },
      {
        "duration": 5,
        "start_time": "2022-12-18T21:02:21.672Z"
      },
      {
        "duration": 3,
        "start_time": "2022-12-18T21:02:23.260Z"
      },
      {
        "duration": 54646,
        "start_time": "2022-12-18T21:02:25.288Z"
      },
      {
        "duration": 2858,
        "start_time": "2022-12-19T06:03:43.090Z"
      },
      {
        "duration": 1551,
        "start_time": "2022-12-19T06:03:45.951Z"
      },
      {
        "duration": 177,
        "start_time": "2022-12-19T06:03:47.504Z"
      },
      {
        "duration": 12,
        "start_time": "2022-12-19T06:03:47.684Z"
      },
      {
        "duration": 12,
        "start_time": "2022-12-19T06:03:47.698Z"
      },
      {
        "duration": 3,
        "start_time": "2022-12-19T06:03:47.712Z"
      },
      {
        "duration": 6,
        "start_time": "2022-12-19T06:03:47.717Z"
      },
      {
        "duration": 7,
        "start_time": "2022-12-19T06:03:47.724Z"
      },
      {
        "duration": 63,
        "start_time": "2022-12-19T06:03:47.732Z"
      },
      {
        "duration": 10,
        "start_time": "2022-12-19T06:03:47.798Z"
      },
      {
        "duration": 7,
        "start_time": "2022-12-19T06:03:47.809Z"
      },
      {
        "duration": 12,
        "start_time": "2022-12-19T06:03:47.817Z"
      },
      {
        "duration": 6,
        "start_time": "2022-12-19T06:03:47.831Z"
      },
      {
        "duration": 8,
        "start_time": "2022-12-19T06:03:47.838Z"
      },
      {
        "duration": 105,
        "start_time": "2022-12-19T06:03:47.847Z"
      },
      {
        "duration": 103,
        "start_time": "2022-12-19T06:03:47.954Z"
      },
      {
        "duration": 102,
        "start_time": "2022-12-19T06:03:48.059Z"
      },
      {
        "duration": 102,
        "start_time": "2022-12-19T06:03:48.163Z"
      },
      {
        "duration": 92,
        "start_time": "2022-12-19T06:03:48.267Z"
      },
      {
        "duration": 9,
        "start_time": "2022-12-19T06:03:48.361Z"
      },
      {
        "duration": 8,
        "start_time": "2022-12-19T06:03:48.372Z"
      },
      {
        "duration": 6,
        "start_time": "2022-12-19T06:03:48.381Z"
      },
      {
        "duration": 6,
        "start_time": "2022-12-19T06:03:48.388Z"
      },
      {
        "duration": 6,
        "start_time": "2022-12-19T06:03:48.396Z"
      },
      {
        "duration": 5,
        "start_time": "2022-12-19T06:03:48.404Z"
      },
      {
        "duration": 7,
        "start_time": "2022-12-19T06:03:48.411Z"
      },
      {
        "duration": 8,
        "start_time": "2022-12-19T06:03:48.419Z"
      },
      {
        "duration": 65,
        "start_time": "2022-12-19T06:03:48.521Z"
      },
      {
        "duration": 9,
        "start_time": "2022-12-19T06:03:48.588Z"
      },
      {
        "duration": 7,
        "start_time": "2022-12-19T06:03:48.599Z"
      },
      {
        "duration": 22,
        "start_time": "2022-12-19T06:03:48.608Z"
      },
      {
        "duration": 4,
        "start_time": "2022-12-19T06:03:48.632Z"
      },
      {
        "duration": 5,
        "start_time": "2022-12-19T06:03:48.637Z"
      },
      {
        "duration": 8,
        "start_time": "2022-12-19T06:03:48.644Z"
      },
      {
        "duration": 25,
        "start_time": "2022-12-19T06:03:48.653Z"
      },
      {
        "duration": 28,
        "start_time": "2022-12-19T06:03:48.680Z"
      },
      {
        "duration": 11,
        "start_time": "2022-12-19T06:03:48.709Z"
      },
      {
        "duration": 11,
        "start_time": "2022-12-19T06:03:48.722Z"
      },
      {
        "duration": 15,
        "start_time": "2022-12-19T06:03:48.735Z"
      },
      {
        "duration": 27,
        "start_time": "2022-12-19T06:03:48.751Z"
      },
      {
        "duration": 13,
        "start_time": "2022-12-19T06:03:48.780Z"
      },
      {
        "duration": 22,
        "start_time": "2022-12-19T06:03:48.794Z"
      },
      {
        "duration": 3,
        "start_time": "2022-12-19T06:03:48.817Z"
      },
      {
        "duration": 11,
        "start_time": "2022-12-19T06:03:48.821Z"
      },
      {
        "duration": 2,
        "start_time": "2022-12-19T06:03:48.833Z"
      },
      {
        "duration": 55,
        "start_time": "2022-12-19T06:03:48.836Z"
      },
      {
        "duration": 4,
        "start_time": "2022-12-19T06:03:48.892Z"
      },
      {
        "duration": 4507,
        "start_time": "2022-12-19T06:03:48.897Z"
      },
      {
        "duration": 9,
        "start_time": "2022-12-19T06:03:53.406Z"
      },
      {
        "duration": 30,
        "start_time": "2022-12-19T06:03:53.417Z"
      },
      {
        "duration": 136,
        "start_time": "2022-12-19T06:03:53.448Z"
      },
      {
        "duration": 0,
        "start_time": "2022-12-19T06:03:53.586Z"
      },
      {
        "duration": 0,
        "start_time": "2022-12-19T06:03:53.587Z"
      },
      {
        "duration": 0,
        "start_time": "2022-12-19T06:03:53.588Z"
      },
      {
        "duration": 0,
        "start_time": "2022-12-19T06:03:53.589Z"
      },
      {
        "duration": 0,
        "start_time": "2022-12-19T06:03:53.590Z"
      },
      {
        "duration": 0,
        "start_time": "2022-12-19T06:03:53.590Z"
      },
      {
        "duration": 0,
        "start_time": "2022-12-19T06:03:53.591Z"
      },
      {
        "duration": 0,
        "start_time": "2022-12-19T06:03:53.592Z"
      },
      {
        "duration": 0,
        "start_time": "2022-12-19T06:03:53.593Z"
      },
      {
        "duration": 0,
        "start_time": "2022-12-19T06:03:53.594Z"
      },
      {
        "duration": 0,
        "start_time": "2022-12-19T06:03:53.595Z"
      },
      {
        "duration": 0,
        "start_time": "2022-12-19T06:03:53.596Z"
      },
      {
        "duration": 0,
        "start_time": "2022-12-19T06:03:53.597Z"
      },
      {
        "duration": 0,
        "start_time": "2022-12-19T06:03:53.598Z"
      },
      {
        "duration": 0,
        "start_time": "2022-12-19T06:03:53.599Z"
      },
      {
        "duration": 0,
        "start_time": "2022-12-19T06:03:53.600Z"
      },
      {
        "duration": 0,
        "start_time": "2022-12-19T06:03:53.601Z"
      },
      {
        "duration": 0,
        "start_time": "2022-12-19T06:03:53.602Z"
      },
      {
        "duration": 0,
        "start_time": "2022-12-19T06:03:53.603Z"
      },
      {
        "duration": 0,
        "start_time": "2022-12-19T06:03:53.604Z"
      },
      {
        "duration": 0,
        "start_time": "2022-12-19T06:03:53.605Z"
      },
      {
        "duration": 10,
        "start_time": "2022-12-19T06:05:00.866Z"
      },
      {
        "duration": 23,
        "start_time": "2022-12-19T06:07:31.752Z"
      },
      {
        "duration": 25,
        "start_time": "2022-12-19T06:08:21.468Z"
      },
      {
        "duration": 13,
        "start_time": "2022-12-19T06:09:13.108Z"
      },
      {
        "duration": 12,
        "start_time": "2022-12-19T06:09:39.064Z"
      },
      {
        "duration": 23,
        "start_time": "2022-12-19T06:09:46.636Z"
      },
      {
        "duration": 14,
        "start_time": "2022-12-19T06:14:22.524Z"
      },
      {
        "duration": 12,
        "start_time": "2022-12-19T06:14:47.164Z"
      },
      {
        "duration": 17,
        "start_time": "2022-12-19T06:15:13.576Z"
      },
      {
        "duration": 25,
        "start_time": "2022-12-19T06:17:33.801Z"
      },
      {
        "duration": 8,
        "start_time": "2022-12-19T06:18:57.358Z"
      },
      {
        "duration": 4,
        "start_time": "2022-12-19T06:19:03.744Z"
      },
      {
        "duration": 17266,
        "start_time": "2022-12-19T06:19:52.266Z"
      },
      {
        "duration": 6,
        "start_time": "2022-12-19T06:20:51.988Z"
      },
      {
        "duration": 3,
        "start_time": "2022-12-19T06:20:53.109Z"
      },
      {
        "duration": 11,
        "start_time": "2022-12-19T06:20:54.201Z"
      },
      {
        "duration": 118577,
        "start_time": "2022-12-19T06:21:00.161Z"
      },
      {
        "duration": 2,
        "start_time": "2022-12-19T06:24:55.387Z"
      },
      {
        "duration": 21,
        "start_time": "2022-12-19T06:30:45.867Z"
      },
      {
        "duration": 38,
        "start_time": "2022-12-19T06:30:55.793Z"
      },
      {
        "duration": 4,
        "start_time": "2022-12-19T06:33:21.269Z"
      },
      {
        "duration": 10,
        "start_time": "2022-12-19T06:38:05.065Z"
      },
      {
        "duration": 10,
        "start_time": "2022-12-19T06:38:17.825Z"
      },
      {
        "duration": 12,
        "start_time": "2022-12-19T06:44:20.663Z"
      },
      {
        "duration": 6,
        "start_time": "2022-12-19T06:44:47.499Z"
      },
      {
        "duration": 10,
        "start_time": "2022-12-19T06:46:24.551Z"
      },
      {
        "duration": 15,
        "start_time": "2022-12-19T06:46:34.579Z"
      },
      {
        "duration": 24,
        "start_time": "2022-12-19T06:46:58.499Z"
      },
      {
        "duration": 16,
        "start_time": "2022-12-19T07:31:45.230Z"
      },
      {
        "duration": 11,
        "start_time": "2022-12-19T07:32:58.639Z"
      },
      {
        "duration": 7,
        "start_time": "2022-12-19T07:34:05.270Z"
      },
      {
        "duration": 6,
        "start_time": "2022-12-19T07:35:53.792Z"
      },
      {
        "duration": 23,
        "start_time": "2022-12-19T07:36:23.006Z"
      },
      {
        "duration": 15,
        "start_time": "2022-12-19T07:38:04.011Z"
      },
      {
        "duration": 6,
        "start_time": "2022-12-19T07:38:08.404Z"
      },
      {
        "duration": 6,
        "start_time": "2022-12-19T07:38:33.951Z"
      },
      {
        "duration": 21,
        "start_time": "2022-12-19T07:40:54.700Z"
      },
      {
        "duration": 34,
        "start_time": "2022-12-19T07:41:03.292Z"
      },
      {
        "duration": 2138,
        "start_time": "2022-12-19T07:42:17.823Z"
      },
      {
        "duration": 1540,
        "start_time": "2022-12-19T07:42:19.964Z"
      },
      {
        "duration": 63,
        "start_time": "2022-12-19T07:42:21.506Z"
      },
      {
        "duration": 13,
        "start_time": "2022-12-19T07:42:21.572Z"
      },
      {
        "duration": 16,
        "start_time": "2022-12-19T07:42:21.586Z"
      },
      {
        "duration": 10,
        "start_time": "2022-12-19T07:42:21.603Z"
      },
      {
        "duration": 8,
        "start_time": "2022-12-19T07:42:21.615Z"
      },
      {
        "duration": 10,
        "start_time": "2022-12-19T07:42:21.625Z"
      },
      {
        "duration": 32,
        "start_time": "2022-12-19T07:42:21.637Z"
      },
      {
        "duration": 11,
        "start_time": "2022-12-19T07:42:21.679Z"
      },
      {
        "duration": 15,
        "start_time": "2022-12-19T07:42:21.693Z"
      },
      {
        "duration": 9,
        "start_time": "2022-12-19T07:42:21.710Z"
      },
      {
        "duration": 10,
        "start_time": "2022-12-19T07:42:21.721Z"
      },
      {
        "duration": 12,
        "start_time": "2022-12-19T07:42:21.732Z"
      },
      {
        "duration": 122,
        "start_time": "2022-12-19T07:42:21.745Z"
      },
      {
        "duration": 118,
        "start_time": "2022-12-19T07:42:21.869Z"
      },
      {
        "duration": 109,
        "start_time": "2022-12-19T07:42:21.989Z"
      },
      {
        "duration": 105,
        "start_time": "2022-12-19T07:42:22.100Z"
      },
      {
        "duration": 32,
        "start_time": "2022-12-19T07:42:22.206Z"
      },
      {
        "duration": 11,
        "start_time": "2022-12-19T07:42:22.239Z"
      },
      {
        "duration": 24,
        "start_time": "2022-12-19T07:42:22.252Z"
      },
      {
        "duration": 33,
        "start_time": "2022-12-19T07:42:22.278Z"
      },
      {
        "duration": 14,
        "start_time": "2022-12-19T07:42:22.312Z"
      },
      {
        "duration": 22,
        "start_time": "2022-12-19T07:42:22.328Z"
      },
      {
        "duration": 24,
        "start_time": "2022-12-19T07:42:22.352Z"
      },
      {
        "duration": 17,
        "start_time": "2022-12-19T07:42:22.379Z"
      },
      {
        "duration": 24,
        "start_time": "2022-12-19T07:42:22.397Z"
      },
      {
        "duration": 24,
        "start_time": "2022-12-19T07:42:22.502Z"
      },
      {
        "duration": 21,
        "start_time": "2022-12-19T07:42:22.527Z"
      },
      {
        "duration": 14,
        "start_time": "2022-12-19T07:42:22.550Z"
      },
      {
        "duration": 33,
        "start_time": "2022-12-19T07:42:22.566Z"
      },
      {
        "duration": 32,
        "start_time": "2022-12-19T07:42:22.601Z"
      },
      {
        "duration": 14,
        "start_time": "2022-12-19T07:42:22.635Z"
      },
      {
        "duration": 19,
        "start_time": "2022-12-19T07:42:22.650Z"
      },
      {
        "duration": 32,
        "start_time": "2022-12-19T07:42:22.671Z"
      },
      {
        "duration": 57,
        "start_time": "2022-12-19T07:42:22.705Z"
      },
      {
        "duration": 12,
        "start_time": "2022-12-19T07:42:22.764Z"
      },
      {
        "duration": 43,
        "start_time": "2022-12-19T07:42:22.778Z"
      },
      {
        "duration": 29,
        "start_time": "2022-12-19T07:42:22.822Z"
      },
      {
        "duration": 4,
        "start_time": "2022-12-19T07:42:22.852Z"
      },
      {
        "duration": 56,
        "start_time": "2022-12-19T07:42:22.857Z"
      },
      {
        "duration": 39,
        "start_time": "2022-12-19T07:42:22.914Z"
      },
      {
        "duration": 27,
        "start_time": "2022-12-19T07:42:22.955Z"
      },
      {
        "duration": 41,
        "start_time": "2022-12-19T07:42:22.984Z"
      },
      {
        "duration": 27,
        "start_time": "2022-12-19T07:42:23.027Z"
      },
      {
        "duration": 55,
        "start_time": "2022-12-19T07:42:23.056Z"
      },
      {
        "duration": 8,
        "start_time": "2022-12-19T07:42:23.113Z"
      },
      {
        "duration": 4893,
        "start_time": "2022-12-19T07:42:23.123Z"
      },
      {
        "duration": 9,
        "start_time": "2022-12-19T07:42:28.018Z"
      },
      {
        "duration": 10,
        "start_time": "2022-12-19T07:42:28.029Z"
      },
      {
        "duration": 13,
        "start_time": "2022-12-19T07:42:28.041Z"
      },
      {
        "duration": 41,
        "start_time": "2022-12-19T07:42:28.055Z"
      },
      {
        "duration": 42,
        "start_time": "2022-12-19T07:42:28.097Z"
      },
      {
        "duration": 2,
        "start_time": "2022-12-19T07:42:28.141Z"
      },
      {
        "duration": 6,
        "start_time": "2022-12-19T07:42:28.145Z"
      },
      {
        "duration": 4,
        "start_time": "2022-12-19T07:42:28.152Z"
      },
      {
        "duration": 38,
        "start_time": "2022-12-19T07:42:28.178Z"
      },
      {
        "duration": 2,
        "start_time": "2022-12-19T07:42:28.218Z"
      },
      {
        "duration": 35,
        "start_time": "2022-12-19T07:42:28.222Z"
      },
      {
        "duration": 129,
        "start_time": "2022-12-19T07:42:28.260Z"
      },
      {
        "duration": 0,
        "start_time": "2022-12-19T07:42:28.391Z"
      },
      {
        "duration": 0,
        "start_time": "2022-12-19T07:42:28.392Z"
      },
      {
        "duration": 0,
        "start_time": "2022-12-19T07:42:28.393Z"
      },
      {
        "duration": 0,
        "start_time": "2022-12-19T07:42:28.394Z"
      },
      {
        "duration": 0,
        "start_time": "2022-12-19T07:42:28.395Z"
      },
      {
        "duration": 0,
        "start_time": "2022-12-19T07:42:28.396Z"
      },
      {
        "duration": 0,
        "start_time": "2022-12-19T07:42:28.397Z"
      },
      {
        "duration": 0,
        "start_time": "2022-12-19T07:42:28.398Z"
      },
      {
        "duration": 0,
        "start_time": "2022-12-19T07:42:28.399Z"
      },
      {
        "duration": 0,
        "start_time": "2022-12-19T07:42:28.401Z"
      },
      {
        "duration": 0,
        "start_time": "2022-12-19T07:42:28.402Z"
      },
      {
        "duration": 0,
        "start_time": "2022-12-19T07:42:28.403Z"
      },
      {
        "duration": 0,
        "start_time": "2022-12-19T07:42:28.404Z"
      },
      {
        "duration": 0,
        "start_time": "2022-12-19T07:42:28.405Z"
      },
      {
        "duration": 3,
        "start_time": "2022-12-19T07:46:06.414Z"
      },
      {
        "duration": 16,
        "start_time": "2022-12-19T07:46:13.199Z"
      },
      {
        "duration": 5,
        "start_time": "2022-12-19T07:46:32.589Z"
      },
      {
        "duration": 4,
        "start_time": "2022-12-19T07:46:49.739Z"
      },
      {
        "duration": 783109,
        "start_time": "2022-12-19T07:47:03.942Z"
      },
      {
        "duration": 3,
        "start_time": "2022-12-19T08:03:02.960Z"
      },
      {
        "duration": 253602,
        "start_time": "2022-12-19T08:03:05.893Z"
      },
      {
        "duration": 12,
        "start_time": "2022-12-19T08:07:56.499Z"
      },
      {
        "duration": 17742,
        "start_time": "2022-12-19T08:08:08.891Z"
      },
      {
        "duration": 197959,
        "start_time": "2022-12-19T08:09:39.220Z"
      },
      {
        "duration": 22,
        "start_time": "2022-12-19T08:15:04.839Z"
      },
      {
        "duration": 2284,
        "start_time": "2022-12-19T21:15:30.022Z"
      },
      {
        "duration": 2171,
        "start_time": "2022-12-19T21:15:32.309Z"
      },
      {
        "duration": 2243,
        "start_time": "2022-12-19T21:15:34.482Z"
      },
      {
        "duration": 1437,
        "start_time": "2022-12-19T21:15:36.728Z"
      },
      {
        "duration": 82,
        "start_time": "2022-12-19T21:15:38.167Z"
      },
      {
        "duration": 12,
        "start_time": "2022-12-19T21:15:38.251Z"
      },
      {
        "duration": 12,
        "start_time": "2022-12-19T21:15:38.265Z"
      },
      {
        "duration": 4,
        "start_time": "2022-12-19T21:15:38.278Z"
      },
      {
        "duration": 6,
        "start_time": "2022-12-19T21:15:38.284Z"
      },
      {
        "duration": 6,
        "start_time": "2022-12-19T21:15:38.293Z"
      },
      {
        "duration": 61,
        "start_time": "2022-12-19T21:15:38.301Z"
      },
      {
        "duration": 12,
        "start_time": "2022-12-19T21:15:38.364Z"
      },
      {
        "duration": 8,
        "start_time": "2022-12-19T21:15:38.377Z"
      },
      {
        "duration": 6,
        "start_time": "2022-12-19T21:15:38.386Z"
      },
      {
        "duration": 41,
        "start_time": "2022-12-19T21:15:38.393Z"
      },
      {
        "duration": 8,
        "start_time": "2022-12-19T21:15:38.435Z"
      },
      {
        "duration": 117,
        "start_time": "2022-12-19T21:15:38.444Z"
      },
      {
        "duration": 118,
        "start_time": "2022-12-19T21:15:38.563Z"
      },
      {
        "duration": 108,
        "start_time": "2022-12-19T21:15:38.682Z"
      },
      {
        "duration": 106,
        "start_time": "2022-12-19T21:15:38.791Z"
      },
      {
        "duration": 40,
        "start_time": "2022-12-19T21:15:38.902Z"
      },
      {
        "duration": 11,
        "start_time": "2022-12-19T21:15:38.944Z"
      },
      {
        "duration": 6,
        "start_time": "2022-12-19T21:15:38.957Z"
      },
      {
        "duration": 9,
        "start_time": "2022-12-19T21:15:38.964Z"
      },
      {
        "duration": 6,
        "start_time": "2022-12-19T21:15:38.974Z"
      },
      {
        "duration": 6,
        "start_time": "2022-12-19T21:15:38.982Z"
      },
      {
        "duration": 37,
        "start_time": "2022-12-19T21:15:39.000Z"
      },
      {
        "duration": 10,
        "start_time": "2022-12-19T21:15:39.121Z"
      },
      {
        "duration": 13,
        "start_time": "2022-12-19T21:15:39.133Z"
      },
      {
        "duration": 25,
        "start_time": "2022-12-19T21:15:39.148Z"
      },
      {
        "duration": 9,
        "start_time": "2022-12-19T21:15:39.175Z"
      },
      {
        "duration": 6,
        "start_time": "2022-12-19T21:15:39.186Z"
      },
      {
        "duration": 29,
        "start_time": "2022-12-19T21:15:39.194Z"
      },
      {
        "duration": 10,
        "start_time": "2022-12-19T21:15:39.228Z"
      },
      {
        "duration": 4,
        "start_time": "2022-12-19T21:15:39.239Z"
      },
      {
        "duration": 8,
        "start_time": "2022-12-19T21:15:39.245Z"
      },
      {
        "duration": 7,
        "start_time": "2022-12-19T21:15:39.254Z"
      },
      {
        "duration": 42,
        "start_time": "2022-12-19T21:15:39.263Z"
      },
      {
        "duration": 21,
        "start_time": "2022-12-19T21:15:39.307Z"
      },
      {
        "duration": 14,
        "start_time": "2022-12-19T21:15:39.330Z"
      },
      {
        "duration": 16,
        "start_time": "2022-12-19T21:15:39.346Z"
      },
      {
        "duration": 2,
        "start_time": "2022-12-19T21:15:39.364Z"
      },
      {
        "duration": 37,
        "start_time": "2022-12-19T21:15:39.368Z"
      },
      {
        "duration": 47,
        "start_time": "2022-12-19T21:15:39.409Z"
      },
      {
        "duration": 3,
        "start_time": "2022-12-19T21:15:39.458Z"
      },
      {
        "duration": 22,
        "start_time": "2022-12-19T21:15:39.462Z"
      },
      {
        "duration": 38,
        "start_time": "2022-12-19T21:15:39.486Z"
      },
      {
        "duration": 11,
        "start_time": "2022-12-19T21:15:39.525Z"
      },
      {
        "duration": 5,
        "start_time": "2022-12-19T21:15:39.537Z"
      },
      {
        "duration": 5035,
        "start_time": "2022-12-19T21:15:39.543Z"
      },
      {
        "duration": 10,
        "start_time": "2022-12-19T21:15:44.579Z"
      },
      {
        "duration": 36,
        "start_time": "2022-12-19T21:15:44.591Z"
      },
      {
        "duration": 24,
        "start_time": "2022-12-19T21:15:44.629Z"
      },
      {
        "duration": 68,
        "start_time": "2022-12-19T21:15:44.654Z"
      },
      {
        "duration": 12,
        "start_time": "2022-12-19T21:15:44.724Z"
      },
      {
        "duration": 51,
        "start_time": "2022-12-19T21:15:44.738Z"
      },
      {
        "duration": 3,
        "start_time": "2022-12-19T21:15:44.791Z"
      },
      {
        "duration": 39,
        "start_time": "2022-12-19T21:15:44.796Z"
      },
      {
        "duration": 8,
        "start_time": "2022-12-19T21:15:44.837Z"
      },
      {
        "duration": 58,
        "start_time": "2022-12-19T21:15:44.846Z"
      },
      {
        "duration": 2,
        "start_time": "2022-12-19T21:15:44.906Z"
      },
      {
        "duration": 19,
        "start_time": "2022-12-19T21:15:44.915Z"
      },
      {
        "duration": 9,
        "start_time": "2022-12-19T21:15:44.936Z"
      },
      {
        "duration": 5,
        "start_time": "2022-12-19T21:15:44.946Z"
      },
      {
        "duration": 17,
        "start_time": "2022-12-19T21:15:44.952Z"
      },
      {
        "duration": 5,
        "start_time": "2022-12-19T21:15:44.970Z"
      },
      {
        "duration": 10,
        "start_time": "2022-12-19T21:15:44.976Z"
      },
      {
        "duration": 1530764,
        "start_time": "2022-12-19T21:15:44.987Z"
      },
      {
        "duration": 1903,
        "start_time": "2022-12-20T04:33:02.085Z"
      },
      {
        "duration": 1923,
        "start_time": "2022-12-20T04:33:03.990Z"
      },
      {
        "duration": 1847,
        "start_time": "2022-12-20T04:33:05.916Z"
      },
      {
        "duration": 1317,
        "start_time": "2022-12-20T04:33:07.766Z"
      },
      {
        "duration": 63,
        "start_time": "2022-12-20T04:33:09.085Z"
      },
      {
        "duration": 12,
        "start_time": "2022-12-20T04:33:09.150Z"
      },
      {
        "duration": 12,
        "start_time": "2022-12-20T04:33:09.164Z"
      },
      {
        "duration": 4,
        "start_time": "2022-12-20T04:33:09.178Z"
      },
      {
        "duration": 8,
        "start_time": "2022-12-20T04:33:09.183Z"
      },
      {
        "duration": 7,
        "start_time": "2022-12-20T04:33:09.193Z"
      },
      {
        "duration": 33,
        "start_time": "2022-12-20T04:33:09.201Z"
      },
      {
        "duration": 10,
        "start_time": "2022-12-20T04:33:09.235Z"
      },
      {
        "duration": 6,
        "start_time": "2022-12-20T04:33:09.247Z"
      },
      {
        "duration": 6,
        "start_time": "2022-12-20T04:33:09.254Z"
      },
      {
        "duration": 6,
        "start_time": "2022-12-20T04:33:09.261Z"
      },
      {
        "duration": 7,
        "start_time": "2022-12-20T04:33:09.268Z"
      },
      {
        "duration": 111,
        "start_time": "2022-12-20T04:33:09.276Z"
      },
      {
        "duration": 103,
        "start_time": "2022-12-20T04:33:09.396Z"
      },
      {
        "duration": 97,
        "start_time": "2022-12-20T04:33:09.501Z"
      },
      {
        "duration": 99,
        "start_time": "2022-12-20T04:33:09.600Z"
      },
      {
        "duration": 30,
        "start_time": "2022-12-20T04:33:09.701Z"
      },
      {
        "duration": 10,
        "start_time": "2022-12-20T04:33:09.733Z"
      },
      {
        "duration": 7,
        "start_time": "2022-12-20T04:33:09.744Z"
      },
      {
        "duration": 5,
        "start_time": "2022-12-20T04:33:09.753Z"
      },
      {
        "duration": 10,
        "start_time": "2022-12-20T04:33:09.760Z"
      },
      {
        "duration": 8,
        "start_time": "2022-12-20T04:33:09.771Z"
      },
      {
        "duration": 17,
        "start_time": "2022-12-20T04:33:09.780Z"
      },
      {
        "duration": 4,
        "start_time": "2022-12-20T04:33:09.867Z"
      },
      {
        "duration": 23,
        "start_time": "2022-12-20T04:33:09.872Z"
      },
      {
        "duration": 31,
        "start_time": "2022-12-20T04:33:09.896Z"
      },
      {
        "duration": 9,
        "start_time": "2022-12-20T04:33:09.929Z"
      },
      {
        "duration": 6,
        "start_time": "2022-12-20T04:33:09.940Z"
      },
      {
        "duration": 20,
        "start_time": "2022-12-20T04:33:09.947Z"
      },
      {
        "duration": 4,
        "start_time": "2022-12-20T04:33:09.969Z"
      },
      {
        "duration": 13,
        "start_time": "2022-12-20T04:33:09.974Z"
      },
      {
        "duration": 9,
        "start_time": "2022-12-20T04:33:09.988Z"
      },
      {
        "duration": 6,
        "start_time": "2022-12-20T04:33:09.999Z"
      },
      {
        "duration": 31,
        "start_time": "2022-12-20T04:33:10.006Z"
      },
      {
        "duration": 11,
        "start_time": "2022-12-20T04:33:10.039Z"
      },
      {
        "duration": 11,
        "start_time": "2022-12-20T04:33:10.051Z"
      },
      {
        "duration": 34,
        "start_time": "2022-12-20T04:33:10.063Z"
      },
      {
        "duration": 3,
        "start_time": "2022-12-20T04:33:10.098Z"
      },
      {
        "duration": 13,
        "start_time": "2022-12-20T04:33:10.102Z"
      },
      {
        "duration": 22,
        "start_time": "2022-12-20T04:33:10.116Z"
      },
      {
        "duration": 3,
        "start_time": "2022-12-20T04:33:10.139Z"
      },
      {
        "duration": 9,
        "start_time": "2022-12-20T04:33:10.144Z"
      },
      {
        "duration": 2,
        "start_time": "2022-12-20T04:33:10.154Z"
      },
      {
        "duration": 39,
        "start_time": "2022-12-20T04:33:10.158Z"
      },
      {
        "duration": 5,
        "start_time": "2022-12-20T04:33:10.198Z"
      },
      {
        "duration": 4476,
        "start_time": "2022-12-20T04:33:10.205Z"
      },
      {
        "duration": 9,
        "start_time": "2022-12-20T04:33:14.683Z"
      },
      {
        "duration": 7,
        "start_time": "2022-12-20T04:33:14.693Z"
      },
      {
        "duration": 6,
        "start_time": "2022-12-20T04:33:14.702Z"
      },
      {
        "duration": 33,
        "start_time": "2022-12-20T04:33:14.710Z"
      },
      {
        "duration": 10,
        "start_time": "2022-12-20T04:33:14.745Z"
      },
      {
        "duration": 40,
        "start_time": "2022-12-20T04:33:14.756Z"
      },
      {
        "duration": 2,
        "start_time": "2022-12-20T04:33:14.798Z"
      },
      {
        "duration": 8,
        "start_time": "2022-12-20T04:33:14.801Z"
      },
      {
        "duration": 6,
        "start_time": "2022-12-20T04:33:14.810Z"
      },
      {
        "duration": 47,
        "start_time": "2022-12-20T04:33:14.818Z"
      },
      {
        "duration": 2,
        "start_time": "2022-12-20T04:33:14.866Z"
      },
      {
        "duration": 5,
        "start_time": "2022-12-20T04:33:14.869Z"
      },
      {
        "duration": 4,
        "start_time": "2022-12-20T04:33:14.876Z"
      },
      {
        "duration": 18,
        "start_time": "2022-12-20T04:33:14.882Z"
      },
      {
        "duration": 12,
        "start_time": "2022-12-20T04:33:14.902Z"
      },
      {
        "duration": 6,
        "start_time": "2022-12-20T04:33:14.915Z"
      },
      {
        "duration": 5,
        "start_time": "2022-12-20T04:33:14.923Z"
      },
      {
        "duration": 1163300,
        "start_time": "2022-12-20T04:33:14.930Z"
      },
      {
        "duration": 3,
        "start_time": "2022-12-20T04:52:38.232Z"
      },
      {
        "duration": 10,
        "start_time": "2022-12-20T04:52:38.236Z"
      },
      {
        "duration": 14609,
        "start_time": "2022-12-20T04:52:38.248Z"
      },
      {
        "duration": 2,
        "start_time": "2022-12-20T04:52:52.859Z"
      },
      {
        "duration": 32143,
        "start_time": "2022-12-20T04:52:52.862Z"
      },
      {
        "duration": 80708,
        "start_time": "2022-12-20T04:53:25.097Z"
      },
      {
        "duration": 8,
        "start_time": "2022-12-20T04:54:45.897Z"
      },
      {
        "duration": 27,
        "start_time": "2022-12-20T04:54:45.907Z"
      },
      {
        "duration": 225,
        "start_time": "2022-12-20T04:54:45.997Z"
      },
      {
        "duration": 8,
        "start_time": "2022-12-20T04:54:46.224Z"
      },
      {
        "duration": 8,
        "start_time": "2022-12-20T04:54:46.236Z"
      },
      {
        "duration": 3,
        "start_time": "2022-12-20T04:55:52.534Z"
      },
      {
        "duration": 40869,
        "start_time": "2022-12-20T04:55:53.588Z"
      },
      {
        "duration": 3,
        "start_time": "2022-12-20T05:07:50.946Z"
      },
      {
        "duration": 24578,
        "start_time": "2022-12-20T05:07:51.565Z"
      },
      {
        "duration": 103,
        "start_time": "2022-12-20T05:08:56.627Z"
      },
      {
        "duration": 11,
        "start_time": "2022-12-20T05:17:14.868Z"
      },
      {
        "duration": 46,
        "start_time": "2022-12-20T05:17:56.107Z"
      },
      {
        "duration": 54,
        "start_time": "2022-12-20T05:18:09.314Z"
      },
      {
        "duration": 224,
        "start_time": "2022-12-20T05:19:59.279Z"
      },
      {
        "duration": 842,
        "start_time": "2022-12-20T05:20:18.294Z"
      },
      {
        "duration": 622,
        "start_time": "2022-12-20T05:21:47.410Z"
      },
      {
        "duration": 641,
        "start_time": "2022-12-20T05:22:05.394Z"
      },
      {
        "duration": 1057,
        "start_time": "2022-12-20T05:22:15.740Z"
      },
      {
        "duration": 854,
        "start_time": "2022-12-20T05:23:05.423Z"
      },
      {
        "duration": 11,
        "start_time": "2022-12-20T05:23:16.014Z"
      },
      {
        "duration": 23,
        "start_time": "2022-12-20T05:24:15.011Z"
      },
      {
        "duration": 718,
        "start_time": "2022-12-20T05:24:29.359Z"
      },
      {
        "duration": 11,
        "start_time": "2022-12-20T05:34:13.752Z"
      },
      {
        "duration": 14073,
        "start_time": "2022-12-20T05:34:53.950Z"
      },
      {
        "duration": 17798,
        "start_time": "2022-12-20T05:35:47.241Z"
      },
      {
        "duration": 10,
        "start_time": "2022-12-20T05:36:29.077Z"
      },
      {
        "duration": 26257,
        "start_time": "2022-12-20T05:36:45.375Z"
      },
      {
        "duration": 11,
        "start_time": "2022-12-20T05:38:55.731Z"
      },
      {
        "duration": 52454,
        "start_time": "2022-12-20T05:39:12.685Z"
      },
      {
        "duration": 241811,
        "start_time": "2022-12-20T05:41:46.361Z"
      },
      {
        "duration": 10,
        "start_time": "2022-12-20T05:46:37.496Z"
      },
      {
        "duration": 23281,
        "start_time": "2022-12-20T05:47:06.746Z"
      },
      {
        "duration": 70834,
        "start_time": "2022-12-20T05:47:31.360Z"
      },
      {
        "duration": 0,
        "start_time": "2022-12-20T05:48:42.196Z"
      },
      {
        "duration": 19448,
        "start_time": "2022-12-20T05:50:34.750Z"
      },
      {
        "duration": 16110,
        "start_time": "2022-12-20T05:51:18.720Z"
      },
      {
        "duration": 49,
        "start_time": "2022-12-20T05:52:31.073Z"
      },
      {
        "duration": 12665,
        "start_time": "2022-12-20T05:53:08.239Z"
      },
      {
        "duration": 9207,
        "start_time": "2022-12-20T05:53:44.899Z"
      },
      {
        "duration": 9263,
        "start_time": "2022-12-20T05:54:20.244Z"
      },
      {
        "duration": 216658,
        "start_time": "2022-12-20T05:55:07.443Z"
      },
      {
        "duration": 1974,
        "start_time": "2022-12-20T06:02:04.632Z"
      },
      {
        "duration": 1861,
        "start_time": "2022-12-20T06:02:06.609Z"
      },
      {
        "duration": 1862,
        "start_time": "2022-12-20T06:02:08.472Z"
      },
      {
        "duration": 1337,
        "start_time": "2022-12-20T06:02:10.336Z"
      },
      {
        "duration": 62,
        "start_time": "2022-12-20T06:02:11.675Z"
      },
      {
        "duration": 13,
        "start_time": "2022-12-20T06:02:11.739Z"
      },
      {
        "duration": 11,
        "start_time": "2022-12-20T06:02:11.754Z"
      },
      {
        "duration": 5,
        "start_time": "2022-12-20T06:02:11.767Z"
      },
      {
        "duration": 6,
        "start_time": "2022-12-20T06:02:11.773Z"
      },
      {
        "duration": 16,
        "start_time": "2022-12-20T06:02:11.782Z"
      },
      {
        "duration": 34,
        "start_time": "2022-12-20T06:02:11.800Z"
      },
      {
        "duration": 12,
        "start_time": "2022-12-20T06:02:11.836Z"
      },
      {
        "duration": 10,
        "start_time": "2022-12-20T06:02:11.849Z"
      },
      {
        "duration": 10,
        "start_time": "2022-12-20T06:02:11.861Z"
      },
      {
        "duration": 13,
        "start_time": "2022-12-20T06:02:11.873Z"
      },
      {
        "duration": 9,
        "start_time": "2022-12-20T06:02:11.888Z"
      },
      {
        "duration": 122,
        "start_time": "2022-12-20T06:02:11.899Z"
      },
      {
        "duration": 106,
        "start_time": "2022-12-20T06:02:12.023Z"
      },
      {
        "duration": 106,
        "start_time": "2022-12-20T06:02:12.131Z"
      },
      {
        "duration": 105,
        "start_time": "2022-12-20T06:02:12.238Z"
      },
      {
        "duration": 31,
        "start_time": "2022-12-20T06:02:12.345Z"
      },
      {
        "duration": 9,
        "start_time": "2022-12-20T06:02:12.378Z"
      },
      {
        "duration": 9,
        "start_time": "2022-12-20T06:02:12.389Z"
      },
      {
        "duration": 4,
        "start_time": "2022-12-20T06:02:12.400Z"
      },
      {
        "duration": 4,
        "start_time": "2022-12-20T06:02:12.406Z"
      },
      {
        "duration": 5,
        "start_time": "2022-12-20T06:02:12.412Z"
      },
      {
        "duration": 5,
        "start_time": "2022-12-20T06:02:12.418Z"
      },
      {
        "duration": 4,
        "start_time": "2022-12-20T06:02:12.514Z"
      },
      {
        "duration": 6,
        "start_time": "2022-12-20T06:02:12.520Z"
      },
      {
        "duration": 25,
        "start_time": "2022-12-20T06:02:12.528Z"
      },
      {
        "duration": 10,
        "start_time": "2022-12-20T06:02:12.555Z"
      },
      {
        "duration": 8,
        "start_time": "2022-12-20T06:02:12.566Z"
      },
      {
        "duration": 36,
        "start_time": "2022-12-20T06:02:12.576Z"
      },
      {
        "duration": 5,
        "start_time": "2022-12-20T06:02:12.613Z"
      },
      {
        "duration": 4,
        "start_time": "2022-12-20T06:02:12.619Z"
      },
      {
        "duration": 9,
        "start_time": "2022-12-20T06:02:12.625Z"
      },
      {
        "duration": 7,
        "start_time": "2022-12-20T06:02:12.635Z"
      },
      {
        "duration": 29,
        "start_time": "2022-12-20T06:02:12.643Z"
      },
      {
        "duration": 32,
        "start_time": "2022-12-20T06:02:12.673Z"
      },
      {
        "duration": 10,
        "start_time": "2022-12-20T06:02:12.706Z"
      },
      {
        "duration": 18,
        "start_time": "2022-12-20T06:02:12.717Z"
      },
      {
        "duration": 2,
        "start_time": "2022-12-20T06:02:12.737Z"
      },
      {
        "duration": 12,
        "start_time": "2022-12-20T06:02:12.741Z"
      },
      {
        "duration": 45,
        "start_time": "2022-12-20T06:02:12.755Z"
      },
      {
        "duration": 3,
        "start_time": "2022-12-20T06:02:12.802Z"
      },
      {
        "duration": 10,
        "start_time": "2022-12-20T06:02:12.807Z"
      },
      {
        "duration": 3,
        "start_time": "2022-12-20T06:02:12.819Z"
      },
      {
        "duration": 9,
        "start_time": "2022-12-20T06:02:12.823Z"
      },
      {
        "duration": 12,
        "start_time": "2022-12-20T06:02:12.833Z"
      },
      {
        "duration": 4460,
        "start_time": "2022-12-20T06:02:12.846Z"
      },
      {
        "duration": 10,
        "start_time": "2022-12-20T06:02:17.308Z"
      },
      {
        "duration": 11,
        "start_time": "2022-12-20T06:02:17.319Z"
      },
      {
        "duration": 8,
        "start_time": "2022-12-20T06:02:17.332Z"
      },
      {
        "duration": 34,
        "start_time": "2022-12-20T06:02:17.342Z"
      },
      {
        "duration": 26,
        "start_time": "2022-12-20T06:02:17.377Z"
      },
      {
        "duration": 28,
        "start_time": "2022-12-20T06:02:17.404Z"
      },
      {
        "duration": 3,
        "start_time": "2022-12-20T06:02:17.434Z"
      },
      {
        "duration": 5,
        "start_time": "2022-12-20T06:02:17.438Z"
      },
      {
        "duration": 36,
        "start_time": "2022-12-20T06:02:17.444Z"
      },
      {
        "duration": 66,
        "start_time": "2022-12-20T06:02:17.482Z"
      },
      {
        "duration": 2,
        "start_time": "2022-12-20T06:02:17.549Z"
      },
      {
        "duration": 19,
        "start_time": "2022-12-20T06:02:17.553Z"
      },
      {
        "duration": 27,
        "start_time": "2022-12-20T06:02:17.573Z"
      },
      {
        "duration": 11,
        "start_time": "2022-12-20T06:02:17.602Z"
      },
      {
        "duration": 15,
        "start_time": "2022-12-20T06:02:17.614Z"
      },
      {
        "duration": 7,
        "start_time": "2022-12-20T06:02:17.631Z"
      },
      {
        "duration": 14,
        "start_time": "2022-12-20T06:02:17.639Z"
      },
      {
        "duration": 25777,
        "start_time": "2022-12-20T06:02:17.654Z"
      },
      {
        "duration": 3,
        "start_time": "2022-12-20T06:02:43.433Z"
      },
      {
        "duration": 7,
        "start_time": "2022-12-20T06:02:43.438Z"
      },
      {
        "duration": 14988,
        "start_time": "2022-12-20T06:02:43.446Z"
      },
      {
        "duration": 2,
        "start_time": "2022-12-20T06:02:58.436Z"
      },
      {
        "duration": 220357,
        "start_time": "2022-12-20T06:02:58.440Z"
      },
      {
        "duration": 372898,
        "start_time": "2022-12-20T06:06:38.803Z"
      },
      {
        "duration": 95,
        "start_time": "2022-12-20T06:12:51.703Z"
      },
      {
        "duration": 21,
        "start_time": "2022-12-20T06:12:51.800Z"
      },
      {
        "duration": 1035,
        "start_time": "2022-12-20T06:12:51.822Z"
      },
      {
        "duration": 124,
        "start_time": "2022-12-20T06:12:52.859Z"
      },
      {
        "duration": 16,
        "start_time": "2022-12-20T06:12:52.985Z"
      },
      {
        "duration": 9,
        "start_time": "2022-12-20T06:13:44.051Z"
      },
      {
        "duration": 107,
        "start_time": "2022-12-20T06:13:53.056Z"
      },
      {
        "duration": 2893,
        "start_time": "2022-12-21T09:44:11.233Z"
      },
      {
        "duration": 2,
        "start_time": "2022-12-21T09:44:14.129Z"
      },
      {
        "duration": 2000,
        "start_time": "2022-12-21T09:44:14.132Z"
      },
      {
        "duration": 1492,
        "start_time": "2022-12-21T09:44:16.134Z"
      },
      {
        "duration": 201,
        "start_time": "2022-12-21T09:44:17.628Z"
      },
      {
        "duration": 13,
        "start_time": "2022-12-21T09:44:17.830Z"
      },
      {
        "duration": 10,
        "start_time": "2022-12-21T09:44:17.845Z"
      },
      {
        "duration": 12,
        "start_time": "2022-12-21T09:44:17.857Z"
      },
      {
        "duration": 8,
        "start_time": "2022-12-21T09:44:17.870Z"
      },
      {
        "duration": 8,
        "start_time": "2022-12-21T09:44:17.880Z"
      },
      {
        "duration": 112,
        "start_time": "2022-12-21T09:44:17.890Z"
      },
      {
        "duration": 10,
        "start_time": "2022-12-21T09:44:18.004Z"
      },
      {
        "duration": 6,
        "start_time": "2022-12-21T09:44:18.016Z"
      },
      {
        "duration": 9,
        "start_time": "2022-12-21T09:44:18.026Z"
      },
      {
        "duration": 7,
        "start_time": "2022-12-21T09:44:18.036Z"
      },
      {
        "duration": 6,
        "start_time": "2022-12-21T09:44:18.045Z"
      },
      {
        "duration": 117,
        "start_time": "2022-12-21T09:44:18.052Z"
      },
      {
        "duration": 100,
        "start_time": "2022-12-21T09:44:18.170Z"
      },
      {
        "duration": 152,
        "start_time": "2022-12-21T09:44:18.272Z"
      },
      {
        "duration": 87,
        "start_time": "2022-12-21T09:44:18.426Z"
      },
      {
        "duration": 55,
        "start_time": "2022-12-21T09:44:18.515Z"
      },
      {
        "duration": 10,
        "start_time": "2022-12-21T09:44:18.572Z"
      },
      {
        "duration": 13,
        "start_time": "2022-12-21T09:44:18.584Z"
      },
      {
        "duration": 6,
        "start_time": "2022-12-21T09:44:18.598Z"
      },
      {
        "duration": 5,
        "start_time": "2022-12-21T09:44:18.605Z"
      },
      {
        "duration": 7,
        "start_time": "2022-12-21T09:44:18.611Z"
      },
      {
        "duration": 8,
        "start_time": "2022-12-21T09:44:18.619Z"
      },
      {
        "duration": 6,
        "start_time": "2022-12-21T09:44:18.628Z"
      },
      {
        "duration": 7,
        "start_time": "2022-12-21T09:44:18.636Z"
      },
      {
        "duration": 98,
        "start_time": "2022-12-21T09:44:18.645Z"
      },
      {
        "duration": 9,
        "start_time": "2022-12-21T09:44:18.744Z"
      },
      {
        "duration": 11,
        "start_time": "2022-12-21T09:44:18.754Z"
      },
      {
        "duration": 17,
        "start_time": "2022-12-21T09:44:18.766Z"
      },
      {
        "duration": 4,
        "start_time": "2022-12-21T09:44:18.785Z"
      },
      {
        "duration": 4,
        "start_time": "2022-12-21T09:44:18.790Z"
      },
      {
        "duration": 8,
        "start_time": "2022-12-21T09:44:18.795Z"
      },
      {
        "duration": 5,
        "start_time": "2022-12-21T09:44:18.805Z"
      },
      {
        "duration": 25,
        "start_time": "2022-12-21T09:44:18.812Z"
      },
      {
        "duration": 9,
        "start_time": "2022-12-21T09:44:18.839Z"
      },
      {
        "duration": 22,
        "start_time": "2022-12-21T09:44:18.849Z"
      },
      {
        "duration": 23,
        "start_time": "2022-12-21T09:44:18.874Z"
      },
      {
        "duration": 2,
        "start_time": "2022-12-21T09:44:18.899Z"
      },
      {
        "duration": 22,
        "start_time": "2022-12-21T09:44:18.902Z"
      },
      {
        "duration": 28,
        "start_time": "2022-12-21T09:44:18.926Z"
      },
      {
        "duration": 3,
        "start_time": "2022-12-21T09:44:18.955Z"
      },
      {
        "duration": 12,
        "start_time": "2022-12-21T09:44:18.959Z"
      },
      {
        "duration": 2,
        "start_time": "2022-12-21T09:44:18.973Z"
      },
      {
        "duration": 5,
        "start_time": "2022-12-21T09:44:18.976Z"
      },
      {
        "duration": 1544,
        "start_time": "2022-12-21T09:44:18.982Z"
      },
      {
        "duration": 0,
        "start_time": "2022-12-21T09:44:20.528Z"
      },
      {
        "duration": 0,
        "start_time": "2022-12-21T09:44:20.530Z"
      },
      {
        "duration": 0,
        "start_time": "2022-12-21T09:44:20.531Z"
      },
      {
        "duration": 0,
        "start_time": "2022-12-21T09:44:20.533Z"
      },
      {
        "duration": 0,
        "start_time": "2022-12-21T09:44:20.534Z"
      },
      {
        "duration": 0,
        "start_time": "2022-12-21T09:44:20.535Z"
      },
      {
        "duration": 0,
        "start_time": "2022-12-21T09:44:20.537Z"
      },
      {
        "duration": 0,
        "start_time": "2022-12-21T09:44:20.539Z"
      },
      {
        "duration": 0,
        "start_time": "2022-12-21T09:44:20.540Z"
      },
      {
        "duration": 0,
        "start_time": "2022-12-21T09:44:20.542Z"
      },
      {
        "duration": 0,
        "start_time": "2022-12-21T09:44:20.543Z"
      },
      {
        "duration": 0,
        "start_time": "2022-12-21T09:44:20.544Z"
      },
      {
        "duration": 0,
        "start_time": "2022-12-21T09:44:20.546Z"
      },
      {
        "duration": 0,
        "start_time": "2022-12-21T09:44:20.548Z"
      },
      {
        "duration": 0,
        "start_time": "2022-12-21T09:44:20.549Z"
      },
      {
        "duration": 0,
        "start_time": "2022-12-21T09:44:20.550Z"
      },
      {
        "duration": 0,
        "start_time": "2022-12-21T09:44:20.552Z"
      },
      {
        "duration": 0,
        "start_time": "2022-12-21T09:44:20.553Z"
      },
      {
        "duration": 0,
        "start_time": "2022-12-21T09:44:20.554Z"
      },
      {
        "duration": 0,
        "start_time": "2022-12-21T09:44:20.556Z"
      },
      {
        "duration": 0,
        "start_time": "2022-12-21T09:44:20.557Z"
      },
      {
        "duration": 0,
        "start_time": "2022-12-21T09:44:20.559Z"
      },
      {
        "duration": 0,
        "start_time": "2022-12-21T09:44:20.560Z"
      },
      {
        "duration": 0,
        "start_time": "2022-12-21T09:44:20.561Z"
      },
      {
        "duration": 0,
        "start_time": "2022-12-21T09:44:20.562Z"
      },
      {
        "duration": 0,
        "start_time": "2022-12-21T09:44:20.563Z"
      },
      {
        "duration": 0,
        "start_time": "2022-12-21T09:44:20.564Z"
      },
      {
        "duration": 0,
        "start_time": "2022-12-21T09:44:20.565Z"
      },
      {
        "duration": 0,
        "start_time": "2022-12-21T09:44:20.566Z"
      },
      {
        "duration": 0,
        "start_time": "2022-12-21T09:44:20.566Z"
      },
      {
        "duration": 0,
        "start_time": "2022-12-21T09:44:20.567Z"
      },
      {
        "duration": 1217,
        "start_time": "2022-12-21T09:44:57.543Z"
      },
      {
        "duration": 4,
        "start_time": "2022-12-21T09:45:19.855Z"
      },
      {
        "duration": 26,
        "start_time": "2022-12-21T09:45:30.003Z"
      },
      {
        "duration": 2086,
        "start_time": "2022-12-21T09:46:12.805Z"
      },
      {
        "duration": 3,
        "start_time": "2022-12-21T09:46:14.893Z"
      },
      {
        "duration": 2040,
        "start_time": "2022-12-21T09:46:14.898Z"
      },
      {
        "duration": 1329,
        "start_time": "2022-12-21T09:46:16.940Z"
      },
      {
        "duration": 63,
        "start_time": "2022-12-21T09:46:18.270Z"
      },
      {
        "duration": 11,
        "start_time": "2022-12-21T09:46:18.334Z"
      },
      {
        "duration": 9,
        "start_time": "2022-12-21T09:46:18.347Z"
      },
      {
        "duration": 4,
        "start_time": "2022-12-21T09:46:18.357Z"
      },
      {
        "duration": 8,
        "start_time": "2022-12-21T09:46:18.363Z"
      },
      {
        "duration": 6,
        "start_time": "2022-12-21T09:46:18.373Z"
      },
      {
        "duration": 31,
        "start_time": "2022-12-21T09:46:18.381Z"
      },
      {
        "duration": 10,
        "start_time": "2022-12-21T09:46:18.414Z"
      },
      {
        "duration": 7,
        "start_time": "2022-12-21T09:46:18.425Z"
      },
      {
        "duration": 6,
        "start_time": "2022-12-21T09:46:18.435Z"
      },
      {
        "duration": 8,
        "start_time": "2022-12-21T09:46:18.442Z"
      },
      {
        "duration": 7,
        "start_time": "2022-12-21T09:46:18.452Z"
      },
      {
        "duration": 114,
        "start_time": "2022-12-21T09:46:18.460Z"
      },
      {
        "duration": 94,
        "start_time": "2022-12-21T09:46:18.575Z"
      },
      {
        "duration": 97,
        "start_time": "2022-12-21T09:46:18.671Z"
      },
      {
        "duration": 90,
        "start_time": "2022-12-21T09:46:18.769Z"
      },
      {
        "duration": 34,
        "start_time": "2022-12-21T09:46:18.860Z"
      },
      {
        "duration": 10,
        "start_time": "2022-12-21T09:46:18.896Z"
      },
      {
        "duration": 9,
        "start_time": "2022-12-21T09:46:18.908Z"
      },
      {
        "duration": 6,
        "start_time": "2022-12-21T09:46:18.918Z"
      },
      {
        "duration": 8,
        "start_time": "2022-12-21T09:46:18.925Z"
      },
      {
        "duration": 7,
        "start_time": "2022-12-21T09:46:18.934Z"
      },
      {
        "duration": 6,
        "start_time": "2022-12-21T09:46:18.942Z"
      },
      {
        "duration": 5,
        "start_time": "2022-12-21T09:46:18.950Z"
      },
      {
        "duration": 5,
        "start_time": "2022-12-21T09:46:18.957Z"
      },
      {
        "duration": 35,
        "start_time": "2022-12-21T09:46:18.963Z"
      },
      {
        "duration": 76,
        "start_time": "2022-12-21T09:46:19.000Z"
      },
      {
        "duration": 21,
        "start_time": "2022-12-21T09:46:19.077Z"
      },
      {
        "duration": 21,
        "start_time": "2022-12-21T09:46:19.100Z"
      },
      {
        "duration": 7,
        "start_time": "2022-12-21T09:46:19.123Z"
      },
      {
        "duration": 5,
        "start_time": "2022-12-21T09:46:19.132Z"
      },
      {
        "duration": 9,
        "start_time": "2022-12-21T09:46:19.139Z"
      },
      {
        "duration": 7,
        "start_time": "2022-12-21T09:46:19.149Z"
      },
      {
        "duration": 56,
        "start_time": "2022-12-21T09:46:19.158Z"
      },
      {
        "duration": 11,
        "start_time": "2022-12-21T09:46:19.216Z"
      },
      {
        "duration": 11,
        "start_time": "2022-12-21T09:46:19.228Z"
      },
      {
        "duration": 16,
        "start_time": "2022-12-21T09:46:19.244Z"
      },
      {
        "duration": 2,
        "start_time": "2022-12-21T09:46:19.262Z"
      },
      {
        "duration": 38,
        "start_time": "2022-12-21T09:46:19.265Z"
      },
      {
        "duration": 26,
        "start_time": "2022-12-21T09:46:19.305Z"
      },
      {
        "duration": 4,
        "start_time": "2022-12-21T09:46:19.332Z"
      },
      {
        "duration": 13,
        "start_time": "2022-12-21T09:46:19.337Z"
      },
      {
        "duration": 3,
        "start_time": "2022-12-21T09:46:19.351Z"
      },
      {
        "duration": 8,
        "start_time": "2022-12-21T09:46:19.355Z"
      },
      {
        "duration": 42,
        "start_time": "2022-12-21T09:46:19.364Z"
      },
      {
        "duration": 3,
        "start_time": "2022-12-21T09:46:19.408Z"
      },
      {
        "duration": 3665,
        "start_time": "2022-12-21T09:46:19.413Z"
      },
      {
        "duration": 9,
        "start_time": "2022-12-21T09:46:23.080Z"
      },
      {
        "duration": 9,
        "start_time": "2022-12-21T09:46:23.090Z"
      },
      {
        "duration": 20,
        "start_time": "2022-12-21T09:46:23.101Z"
      },
      {
        "duration": 34,
        "start_time": "2022-12-21T09:46:23.122Z"
      },
      {
        "duration": 8,
        "start_time": "2022-12-21T09:46:23.157Z"
      },
      {
        "duration": 26,
        "start_time": "2022-12-21T09:46:23.166Z"
      },
      {
        "duration": 2,
        "start_time": "2022-12-21T09:46:23.193Z"
      },
      {
        "duration": 4,
        "start_time": "2022-12-21T09:46:23.197Z"
      },
      {
        "duration": 7,
        "start_time": "2022-12-21T09:46:23.203Z"
      },
      {
        "duration": 60,
        "start_time": "2022-12-21T09:46:23.211Z"
      },
      {
        "duration": 2,
        "start_time": "2022-12-21T09:46:23.273Z"
      },
      {
        "duration": 15,
        "start_time": "2022-12-21T09:46:23.276Z"
      },
      {
        "duration": 37,
        "start_time": "2022-12-21T09:46:23.292Z"
      },
      {
        "duration": 7,
        "start_time": "2022-12-21T09:46:23.331Z"
      },
      {
        "duration": 23,
        "start_time": "2022-12-21T09:46:23.340Z"
      },
      {
        "duration": 18,
        "start_time": "2022-12-21T09:46:23.364Z"
      },
      {
        "duration": 10,
        "start_time": "2022-12-21T09:46:23.383Z"
      },
      {
        "duration": 26617,
        "start_time": "2022-12-21T09:46:23.394Z"
      },
      {
        "duration": 2,
        "start_time": "2022-12-21T09:46:50.012Z"
      },
      {
        "duration": 12,
        "start_time": "2022-12-21T09:46:50.016Z"
      },
      {
        "duration": 14651,
        "start_time": "2022-12-21T09:46:50.030Z"
      },
      {
        "duration": 3,
        "start_time": "2022-12-21T09:47:04.683Z"
      },
      {
        "duration": 202836,
        "start_time": "2022-12-21T09:47:04.687Z"
      },
      {
        "duration": 1,
        "start_time": "2022-12-21T09:50:27.525Z"
      },
      {
        "duration": 0,
        "start_time": "2022-12-21T09:50:27.527Z"
      },
      {
        "duration": 0,
        "start_time": "2022-12-21T09:50:27.528Z"
      },
      {
        "duration": 0,
        "start_time": "2022-12-21T09:50:27.529Z"
      },
      {
        "duration": 0,
        "start_time": "2022-12-21T09:50:27.530Z"
      },
      {
        "duration": 0,
        "start_time": "2022-12-21T09:50:27.531Z"
      },
      {
        "duration": 0,
        "start_time": "2022-12-21T09:50:27.532Z"
      },
      {
        "duration": 738,
        "start_time": "2022-12-21T09:50:40.004Z"
      },
      {
        "duration": 742,
        "start_time": "2022-12-21T09:50:51.632Z"
      },
      {
        "duration": 2265,
        "start_time": "2022-12-21T09:51:18.626Z"
      },
      {
        "duration": 3,
        "start_time": "2022-12-21T09:51:20.893Z"
      },
      {
        "duration": 2011,
        "start_time": "2022-12-21T09:51:20.898Z"
      },
      {
        "duration": 1390,
        "start_time": "2022-12-21T09:51:22.912Z"
      },
      {
        "duration": 72,
        "start_time": "2022-12-21T09:51:24.304Z"
      },
      {
        "duration": 13,
        "start_time": "2022-12-21T09:51:24.378Z"
      },
      {
        "duration": 11,
        "start_time": "2022-12-21T09:51:24.392Z"
      },
      {
        "duration": 19,
        "start_time": "2022-12-21T09:51:24.405Z"
      },
      {
        "duration": 14,
        "start_time": "2022-12-21T09:51:24.426Z"
      },
      {
        "duration": 11,
        "start_time": "2022-12-21T09:51:24.443Z"
      },
      {
        "duration": 38,
        "start_time": "2022-12-21T09:51:24.456Z"
      },
      {
        "duration": 12,
        "start_time": "2022-12-21T09:51:24.495Z"
      },
      {
        "duration": 8,
        "start_time": "2022-12-21T09:51:24.509Z"
      },
      {
        "duration": 7,
        "start_time": "2022-12-21T09:51:24.518Z"
      },
      {
        "duration": 10,
        "start_time": "2022-12-21T09:51:24.527Z"
      },
      {
        "duration": 10,
        "start_time": "2022-12-21T09:51:24.539Z"
      },
      {
        "duration": 131,
        "start_time": "2022-12-21T09:51:24.551Z"
      },
      {
        "duration": 153,
        "start_time": "2022-12-21T09:51:24.683Z"
      },
      {
        "duration": 104,
        "start_time": "2022-12-21T09:51:24.839Z"
      },
      {
        "duration": 101,
        "start_time": "2022-12-21T09:51:24.944Z"
      },
      {
        "duration": 33,
        "start_time": "2022-12-21T09:51:25.046Z"
      },
      {
        "duration": 11,
        "start_time": "2022-12-21T09:51:25.080Z"
      },
      {
        "duration": 4,
        "start_time": "2022-12-21T09:51:25.098Z"
      },
      {
        "duration": 13,
        "start_time": "2022-12-21T09:51:25.104Z"
      },
      {
        "duration": 9,
        "start_time": "2022-12-21T09:51:25.118Z"
      },
      {
        "duration": 7,
        "start_time": "2022-12-21T09:51:25.128Z"
      },
      {
        "duration": 19,
        "start_time": "2022-12-21T09:51:25.137Z"
      },
      {
        "duration": 4,
        "start_time": "2022-12-21T09:51:25.231Z"
      },
      {
        "duration": 6,
        "start_time": "2022-12-21T09:51:25.237Z"
      },
      {
        "duration": 38,
        "start_time": "2022-12-21T09:51:25.245Z"
      },
      {
        "duration": 10,
        "start_time": "2022-12-21T09:51:25.285Z"
      },
      {
        "duration": 9,
        "start_time": "2022-12-21T09:51:25.296Z"
      },
      {
        "duration": 21,
        "start_time": "2022-12-21T09:51:25.306Z"
      },
      {
        "duration": 4,
        "start_time": "2022-12-21T09:51:25.328Z"
      },
      {
        "duration": 11,
        "start_time": "2022-12-21T09:51:25.334Z"
      },
      {
        "duration": 8,
        "start_time": "2022-12-21T09:51:25.346Z"
      },
      {
        "duration": 9,
        "start_time": "2022-12-21T09:51:25.355Z"
      },
      {
        "duration": 40,
        "start_time": "2022-12-21T09:51:25.366Z"
      },
      {
        "duration": 10,
        "start_time": "2022-12-21T09:51:25.408Z"
      },
      {
        "duration": 11,
        "start_time": "2022-12-21T09:51:25.419Z"
      },
      {
        "duration": 18,
        "start_time": "2022-12-21T09:51:25.432Z"
      },
      {
        "duration": 2,
        "start_time": "2022-12-21T09:51:25.451Z"
      },
      {
        "duration": 22,
        "start_time": "2022-12-21T09:51:25.455Z"
      },
      {
        "duration": 36,
        "start_time": "2022-12-21T09:51:25.478Z"
      },
      {
        "duration": 2,
        "start_time": "2022-12-21T09:51:25.516Z"
      },
      {
        "duration": 15,
        "start_time": "2022-12-21T09:51:25.520Z"
      },
      {
        "duration": 2,
        "start_time": "2022-12-21T09:51:25.537Z"
      },
      {
        "duration": 5,
        "start_time": "2022-12-21T09:51:25.541Z"
      },
      {
        "duration": 1360,
        "start_time": "2022-12-21T09:51:25.548Z"
      },
      {
        "duration": 0,
        "start_time": "2022-12-21T09:51:26.909Z"
      },
      {
        "duration": 0,
        "start_time": "2022-12-21T09:51:26.910Z"
      },
      {
        "duration": 0,
        "start_time": "2022-12-21T09:51:26.911Z"
      },
      {
        "duration": 0,
        "start_time": "2022-12-21T09:51:26.913Z"
      },
      {
        "duration": 0,
        "start_time": "2022-12-21T09:51:26.914Z"
      },
      {
        "duration": 0,
        "start_time": "2022-12-21T09:51:26.915Z"
      },
      {
        "duration": 0,
        "start_time": "2022-12-21T09:51:26.916Z"
      },
      {
        "duration": 0,
        "start_time": "2022-12-21T09:51:26.917Z"
      },
      {
        "duration": 0,
        "start_time": "2022-12-21T09:51:26.919Z"
      },
      {
        "duration": 0,
        "start_time": "2022-12-21T09:51:26.920Z"
      },
      {
        "duration": 0,
        "start_time": "2022-12-21T09:51:26.921Z"
      },
      {
        "duration": 0,
        "start_time": "2022-12-21T09:51:26.922Z"
      },
      {
        "duration": 0,
        "start_time": "2022-12-21T09:51:26.923Z"
      },
      {
        "duration": 0,
        "start_time": "2022-12-21T09:51:26.925Z"
      },
      {
        "duration": 0,
        "start_time": "2022-12-21T09:51:26.926Z"
      },
      {
        "duration": 0,
        "start_time": "2022-12-21T09:51:26.927Z"
      },
      {
        "duration": 0,
        "start_time": "2022-12-21T09:51:26.928Z"
      },
      {
        "duration": 0,
        "start_time": "2022-12-21T09:51:26.929Z"
      },
      {
        "duration": 0,
        "start_time": "2022-12-21T09:51:26.930Z"
      },
      {
        "duration": 0,
        "start_time": "2022-12-21T09:51:26.931Z"
      },
      {
        "duration": 0,
        "start_time": "2022-12-21T09:51:26.932Z"
      },
      {
        "duration": 0,
        "start_time": "2022-12-21T09:51:26.933Z"
      },
      {
        "duration": 0,
        "start_time": "2022-12-21T09:51:26.934Z"
      },
      {
        "duration": 0,
        "start_time": "2022-12-21T09:51:26.935Z"
      },
      {
        "duration": 0,
        "start_time": "2022-12-21T09:51:26.936Z"
      },
      {
        "duration": 0,
        "start_time": "2022-12-21T09:51:26.937Z"
      },
      {
        "duration": 0,
        "start_time": "2022-12-21T09:51:26.938Z"
      },
      {
        "duration": 0,
        "start_time": "2022-12-21T09:51:26.939Z"
      },
      {
        "duration": 0,
        "start_time": "2022-12-21T09:51:26.940Z"
      },
      {
        "duration": 27,
        "start_time": "2022-12-21T09:52:58.027Z"
      },
      {
        "duration": 53,
        "start_time": "2022-12-21T09:53:16.478Z"
      },
      {
        "duration": 5,
        "start_time": "2022-12-21T09:54:40.850Z"
      },
      {
        "duration": 4244,
        "start_time": "2022-12-21T09:54:43.882Z"
      },
      {
        "duration": 10,
        "start_time": "2022-12-21T09:55:20.363Z"
      },
      {
        "duration": 6,
        "start_time": "2022-12-21T09:55:24.158Z"
      },
      {
        "duration": 7,
        "start_time": "2022-12-21T09:55:25.479Z"
      },
      {
        "duration": 32,
        "start_time": "2022-12-21T09:55:28.057Z"
      },
      {
        "duration": 11,
        "start_time": "2022-12-21T09:55:31.510Z"
      },
      {
        "duration": 33,
        "start_time": "2022-12-21T09:55:33.921Z"
      },
      {
        "duration": 48,
        "start_time": "2022-12-21T09:55:41.265Z"
      },
      {
        "duration": 5,
        "start_time": "2022-12-21T09:55:54.219Z"
      },
      {
        "duration": 3,
        "start_time": "2022-12-21T09:57:12.868Z"
      },
      {
        "duration": 6376,
        "start_time": "2022-12-21T09:57:25.018Z"
      },
      {
        "duration": 3,
        "start_time": "2022-12-21T09:58:17.067Z"
      },
      {
        "duration": 12,
        "start_time": "2022-12-21T09:58:47.928Z"
      },
      {
        "duration": 55,
        "start_time": "2022-12-21T09:59:16.208Z"
      },
      {
        "duration": 11,
        "start_time": "2022-12-21T09:59:21.694Z"
      },
      {
        "duration": 3,
        "start_time": "2022-12-21T10:02:31.588Z"
      },
      {
        "duration": 3664,
        "start_time": "2022-12-21T10:02:36.318Z"
      },
      {
        "duration": 3,
        "start_time": "2022-12-21T10:04:18.288Z"
      },
      {
        "duration": 3329,
        "start_time": "2022-12-21T10:04:20.216Z"
      },
      {
        "duration": 3,
        "start_time": "2022-12-21T10:04:48.537Z"
      },
      {
        "duration": 26917,
        "start_time": "2022-12-21T10:04:49.318Z"
      },
      {
        "duration": 12481,
        "start_time": "2022-12-21T10:08:24.654Z"
      },
      {
        "duration": 11,
        "start_time": "2022-12-21T10:14:31.918Z"
      },
      {
        "duration": 13371,
        "start_time": "2022-12-21T10:16:59.348Z"
      },
      {
        "duration": 14675,
        "start_time": "2022-12-21T10:26:00.159Z"
      },
      {
        "duration": 267852,
        "start_time": "2022-12-21T10:26:14.836Z"
      },
      {
        "duration": 9,
        "start_time": "2022-12-21T10:30:42.690Z"
      },
      {
        "duration": 11,
        "start_time": "2022-12-21T10:33:04.334Z"
      },
      {
        "duration": 10985,
        "start_time": "2022-12-21T10:36:39.349Z"
      },
      {
        "duration": 21,
        "start_time": "2022-12-21T10:37:36.635Z"
      },
      {
        "duration": 28033,
        "start_time": "2022-12-21T10:38:49.067Z"
      },
      {
        "duration": 11,
        "start_time": "2022-12-21T10:40:00.475Z"
      },
      {
        "duration": 10,
        "start_time": "2022-12-21T10:40:10.936Z"
      },
      {
        "duration": 31872,
        "start_time": "2022-12-21T10:42:06.479Z"
      },
      {
        "duration": 2001,
        "start_time": "2022-12-21T10:44:16.197Z"
      },
      {
        "duration": 3,
        "start_time": "2022-12-21T10:44:18.200Z"
      },
      {
        "duration": 1978,
        "start_time": "2022-12-21T10:44:18.205Z"
      },
      {
        "duration": 1403,
        "start_time": "2022-12-21T10:44:20.185Z"
      },
      {
        "duration": 66,
        "start_time": "2022-12-21T10:44:21.590Z"
      },
      {
        "duration": 11,
        "start_time": "2022-12-21T10:44:21.657Z"
      },
      {
        "duration": 22,
        "start_time": "2022-12-21T10:44:21.670Z"
      },
      {
        "duration": 25,
        "start_time": "2022-12-21T10:44:21.693Z"
      },
      {
        "duration": 17,
        "start_time": "2022-12-21T10:44:21.720Z"
      },
      {
        "duration": 23,
        "start_time": "2022-12-21T10:44:21.738Z"
      },
      {
        "duration": 57,
        "start_time": "2022-12-21T10:44:21.763Z"
      },
      {
        "duration": 10,
        "start_time": "2022-12-21T10:44:21.821Z"
      },
      {
        "duration": 18,
        "start_time": "2022-12-21T10:44:21.832Z"
      },
      {
        "duration": 16,
        "start_time": "2022-12-21T10:44:21.853Z"
      },
      {
        "duration": 21,
        "start_time": "2022-12-21T10:44:21.871Z"
      },
      {
        "duration": 13,
        "start_time": "2022-12-21T10:44:21.893Z"
      },
      {
        "duration": 125,
        "start_time": "2022-12-21T10:44:21.907Z"
      },
      {
        "duration": 111,
        "start_time": "2022-12-21T10:44:22.034Z"
      },
      {
        "duration": 92,
        "start_time": "2022-12-21T10:44:22.146Z"
      },
      {
        "duration": 96,
        "start_time": "2022-12-21T10:44:22.240Z"
      },
      {
        "duration": 33,
        "start_time": "2022-12-21T10:44:22.338Z"
      },
      {
        "duration": 11,
        "start_time": "2022-12-21T10:44:22.373Z"
      },
      {
        "duration": 13,
        "start_time": "2022-12-21T10:44:22.385Z"
      },
      {
        "duration": 4,
        "start_time": "2022-12-21T10:44:22.399Z"
      },
      {
        "duration": 6,
        "start_time": "2022-12-21T10:44:22.404Z"
      },
      {
        "duration": 7,
        "start_time": "2022-12-21T10:44:22.411Z"
      },
      {
        "duration": 9,
        "start_time": "2022-12-21T10:44:22.419Z"
      },
      {
        "duration": 11,
        "start_time": "2022-12-21T10:44:22.429Z"
      },
      {
        "duration": 9,
        "start_time": "2022-12-21T10:44:22.441Z"
      },
      {
        "duration": 55,
        "start_time": "2022-12-21T10:44:22.452Z"
      },
      {
        "duration": 72,
        "start_time": "2022-12-21T10:44:22.509Z"
      },
      {
        "duration": 9,
        "start_time": "2022-12-21T10:44:22.582Z"
      },
      {
        "duration": 22,
        "start_time": "2022-12-21T10:44:22.592Z"
      },
      {
        "duration": 4,
        "start_time": "2022-12-21T10:44:22.615Z"
      },
      {
        "duration": 8,
        "start_time": "2022-12-21T10:44:22.620Z"
      },
      {
        "duration": 8,
        "start_time": "2022-12-21T10:44:22.629Z"
      },
      {
        "duration": 8,
        "start_time": "2022-12-21T10:44:22.638Z"
      },
      {
        "duration": 27,
        "start_time": "2022-12-21T10:44:22.647Z"
      },
      {
        "duration": 21,
        "start_time": "2022-12-21T10:44:22.676Z"
      },
      {
        "duration": 10,
        "start_time": "2022-12-21T10:44:22.699Z"
      },
      {
        "duration": 15,
        "start_time": "2022-12-21T10:44:22.713Z"
      },
      {
        "duration": 2,
        "start_time": "2022-12-21T10:44:22.730Z"
      },
      {
        "duration": 14,
        "start_time": "2022-12-21T10:44:22.733Z"
      },
      {
        "duration": 53,
        "start_time": "2022-12-21T10:44:22.748Z"
      },
      {
        "duration": 3,
        "start_time": "2022-12-21T10:44:22.802Z"
      },
      {
        "duration": 18,
        "start_time": "2022-12-21T10:44:22.807Z"
      },
      {
        "duration": 2,
        "start_time": "2022-12-21T10:44:22.827Z"
      },
      {
        "duration": 4,
        "start_time": "2022-12-21T10:44:22.830Z"
      },
      {
        "duration": 36,
        "start_time": "2022-12-21T10:44:22.835Z"
      },
      {
        "duration": 4,
        "start_time": "2022-12-21T10:44:22.873Z"
      },
      {
        "duration": 4084,
        "start_time": "2022-12-21T10:44:22.878Z"
      },
      {
        "duration": 12,
        "start_time": "2022-12-21T10:44:26.964Z"
      },
      {
        "duration": 6,
        "start_time": "2022-12-21T10:44:26.977Z"
      },
      {
        "duration": 13,
        "start_time": "2022-12-21T10:44:26.985Z"
      },
      {
        "duration": 30,
        "start_time": "2022-12-21T10:44:27.000Z"
      },
      {
        "duration": 8,
        "start_time": "2022-12-21T10:44:27.032Z"
      },
      {
        "duration": 25,
        "start_time": "2022-12-21T10:44:27.041Z"
      },
      {
        "duration": 2,
        "start_time": "2022-12-21T10:44:27.067Z"
      },
      {
        "duration": 2,
        "start_time": "2022-12-21T10:44:27.097Z"
      },
      {
        "duration": 5,
        "start_time": "2022-12-21T10:44:27.101Z"
      },
      {
        "duration": 53,
        "start_time": "2022-12-21T10:44:27.107Z"
      },
      {
        "duration": 2,
        "start_time": "2022-12-21T10:44:27.162Z"
      },
      {
        "duration": 5,
        "start_time": "2022-12-21T10:44:27.165Z"
      },
      {
        "duration": 7,
        "start_time": "2022-12-21T10:44:27.171Z"
      },
      {
        "duration": 18,
        "start_time": "2022-12-21T10:44:27.179Z"
      },
      {
        "duration": 6,
        "start_time": "2022-12-21T10:44:27.198Z"
      },
      {
        "duration": 8,
        "start_time": "2022-12-21T10:44:27.205Z"
      },
      {
        "duration": 7,
        "start_time": "2022-12-21T10:44:27.214Z"
      },
      {
        "duration": 25262,
        "start_time": "2022-12-21T10:44:27.222Z"
      },
      {
        "duration": 30483,
        "start_time": "2022-12-21T10:44:52.485Z"
      },
      {
        "duration": 2,
        "start_time": "2022-12-21T10:45:22.969Z"
      },
      {
        "duration": 13,
        "start_time": "2022-12-21T10:45:22.973Z"
      },
      {
        "duration": 15077,
        "start_time": "2022-12-21T10:45:22.987Z"
      },
      {
        "duration": 2,
        "start_time": "2022-12-21T10:45:38.065Z"
      },
      {
        "duration": 267937,
        "start_time": "2022-12-21T10:45:38.069Z"
      },
      {
        "duration": 2,
        "start_time": "2022-12-21T10:50:06.009Z"
      },
      {
        "duration": 41,
        "start_time": "2022-12-21T10:50:06.014Z"
      },
      {
        "duration": 40,
        "start_time": "2022-12-21T10:50:06.057Z"
      },
      {
        "duration": 1042,
        "start_time": "2022-12-21T10:50:06.098Z"
      },
      {
        "duration": 134,
        "start_time": "2022-12-21T10:50:07.142Z"
      },
      {
        "duration": 9,
        "start_time": "2022-12-21T10:50:07.278Z"
      },
      {
        "duration": 115,
        "start_time": "2022-12-21T10:52:59.642Z"
      },
      {
        "duration": 11,
        "start_time": "2022-12-21T10:53:36.880Z"
      },
      {
        "duration": 10,
        "start_time": "2022-12-21T10:58:26.530Z"
      },
      {
        "duration": 9,
        "start_time": "2022-12-21T11:01:01.615Z"
      },
      {
        "duration": 10,
        "start_time": "2022-12-21T11:03:07.196Z"
      },
      {
        "duration": 12,
        "start_time": "2022-12-21T11:03:29.400Z"
      },
      {
        "duration": 3330,
        "start_time": "2022-12-22T10:43:47.767Z"
      },
      {
        "duration": 3,
        "start_time": "2022-12-22T10:43:51.099Z"
      },
      {
        "duration": 2272,
        "start_time": "2022-12-22T10:43:51.103Z"
      },
      {
        "duration": 1807,
        "start_time": "2022-12-22T10:43:53.377Z"
      },
      {
        "duration": 139,
        "start_time": "2022-12-22T10:43:55.187Z"
      },
      {
        "duration": 14,
        "start_time": "2022-12-22T10:43:55.328Z"
      },
      {
        "duration": 16,
        "start_time": "2022-12-22T10:43:55.344Z"
      },
      {
        "duration": 5,
        "start_time": "2022-12-22T10:43:55.362Z"
      },
      {
        "duration": 7,
        "start_time": "2022-12-22T10:43:55.368Z"
      },
      {
        "duration": 5,
        "start_time": "2022-12-22T10:43:55.377Z"
      },
      {
        "duration": 115,
        "start_time": "2022-12-22T10:43:55.384Z"
      },
      {
        "duration": 14,
        "start_time": "2022-12-22T10:43:55.500Z"
      },
      {
        "duration": 5,
        "start_time": "2022-12-22T10:43:55.515Z"
      },
      {
        "duration": 7,
        "start_time": "2022-12-22T10:43:55.523Z"
      },
      {
        "duration": 8,
        "start_time": "2022-12-22T10:43:55.531Z"
      },
      {
        "duration": 8,
        "start_time": "2022-12-22T10:43:55.541Z"
      },
      {
        "duration": 124,
        "start_time": "2022-12-22T10:43:55.551Z"
      },
      {
        "duration": 115,
        "start_time": "2022-12-22T10:43:55.677Z"
      },
      {
        "duration": 107,
        "start_time": "2022-12-22T10:43:55.793Z"
      },
      {
        "duration": 113,
        "start_time": "2022-12-22T10:43:55.902Z"
      },
      {
        "duration": 61,
        "start_time": "2022-12-22T10:43:56.017Z"
      },
      {
        "duration": 11,
        "start_time": "2022-12-22T10:43:56.080Z"
      },
      {
        "duration": 12,
        "start_time": "2022-12-22T10:43:56.093Z"
      },
      {
        "duration": 10,
        "start_time": "2022-12-22T10:43:56.107Z"
      },
      {
        "duration": 10,
        "start_time": "2022-12-22T10:43:56.119Z"
      },
      {
        "duration": 7,
        "start_time": "2022-12-22T10:43:56.131Z"
      },
      {
        "duration": 6,
        "start_time": "2022-12-22T10:43:56.139Z"
      },
      {
        "duration": 8,
        "start_time": "2022-12-22T10:43:56.147Z"
      },
      {
        "duration": 6,
        "start_time": "2022-12-22T10:43:56.157Z"
      },
      {
        "duration": 72,
        "start_time": "2022-12-22T10:43:56.164Z"
      },
      {
        "duration": 84,
        "start_time": "2022-12-22T10:43:56.238Z"
      },
      {
        "duration": 10,
        "start_time": "2022-12-22T10:43:56.324Z"
      },
      {
        "duration": 21,
        "start_time": "2022-12-22T10:43:56.336Z"
      },
      {
        "duration": 4,
        "start_time": "2022-12-22T10:43:56.359Z"
      },
      {
        "duration": 12,
        "start_time": "2022-12-22T10:43:56.365Z"
      },
      {
        "duration": 10,
        "start_time": "2022-12-22T10:43:56.379Z"
      },
      {
        "duration": 10,
        "start_time": "2022-12-22T10:43:56.391Z"
      },
      {
        "duration": 32,
        "start_time": "2022-12-22T10:43:56.403Z"
      },
      {
        "duration": 26,
        "start_time": "2022-12-22T10:43:56.436Z"
      },
      {
        "duration": 12,
        "start_time": "2022-12-22T10:43:56.464Z"
      },
      {
        "duration": 18,
        "start_time": "2022-12-22T10:43:56.481Z"
      },
      {
        "duration": 2,
        "start_time": "2022-12-22T10:43:56.501Z"
      },
      {
        "duration": 16,
        "start_time": "2022-12-22T10:43:56.505Z"
      },
      {
        "duration": 53,
        "start_time": "2022-12-22T10:43:56.522Z"
      },
      {
        "duration": 4,
        "start_time": "2022-12-22T10:43:56.577Z"
      },
      {
        "duration": 14,
        "start_time": "2022-12-22T10:43:56.582Z"
      },
      {
        "duration": 3,
        "start_time": "2022-12-22T10:43:56.598Z"
      },
      {
        "duration": 6,
        "start_time": "2022-12-22T10:43:56.602Z"
      },
      {
        "duration": 64,
        "start_time": "2022-12-22T10:43:56.610Z"
      },
      {
        "duration": 5,
        "start_time": "2022-12-22T10:43:56.676Z"
      },
      {
        "duration": 4772,
        "start_time": "2022-12-22T10:43:56.683Z"
      },
      {
        "duration": 11,
        "start_time": "2022-12-22T10:44:01.457Z"
      },
      {
        "duration": 24,
        "start_time": "2022-12-22T10:44:01.470Z"
      },
      {
        "duration": 30,
        "start_time": "2022-12-22T10:44:01.496Z"
      },
      {
        "duration": 46,
        "start_time": "2022-12-22T10:44:01.528Z"
      },
      {
        "duration": 29,
        "start_time": "2022-12-22T10:44:01.575Z"
      },
      {
        "duration": 39,
        "start_time": "2022-12-22T10:44:01.606Z"
      },
      {
        "duration": 13,
        "start_time": "2022-12-22T10:44:01.647Z"
      },
      {
        "duration": 16,
        "start_time": "2022-12-22T10:44:01.662Z"
      },
      {
        "duration": 20,
        "start_time": "2022-12-22T10:44:01.680Z"
      },
      {
        "duration": 93,
        "start_time": "2022-12-22T10:44:01.702Z"
      },
      {
        "duration": 2,
        "start_time": "2022-12-22T10:44:01.797Z"
      },
      {
        "duration": 19,
        "start_time": "2022-12-22T10:44:01.800Z"
      },
      {
        "duration": 83,
        "start_time": "2022-12-22T10:44:01.821Z"
      },
      {
        "duration": 27,
        "start_time": "2022-12-22T10:44:01.906Z"
      },
      {
        "duration": 21,
        "start_time": "2022-12-22T10:44:01.935Z"
      },
      {
        "duration": 30,
        "start_time": "2022-12-22T10:44:01.958Z"
      },
      {
        "duration": 23,
        "start_time": "2022-12-22T10:44:01.990Z"
      },
      {
        "duration": 27810,
        "start_time": "2022-12-22T10:44:02.015Z"
      },
      {
        "duration": 30875,
        "start_time": "2022-12-22T10:44:29.827Z"
      },
      {
        "duration": 3,
        "start_time": "2022-12-22T10:45:00.704Z"
      },
      {
        "duration": 17,
        "start_time": "2022-12-22T10:45:00.708Z"
      },
      {
        "duration": 16775,
        "start_time": "2022-12-22T10:45:00.727Z"
      },
      {
        "duration": 2,
        "start_time": "2022-12-22T10:45:17.504Z"
      },
      {
        "duration": 295365,
        "start_time": "2022-12-22T10:45:17.508Z"
      },
      {
        "duration": 2,
        "start_time": "2022-12-22T10:50:12.875Z"
      },
      {
        "duration": 12,
        "start_time": "2022-12-22T10:50:12.879Z"
      },
      {
        "duration": 15,
        "start_time": "2022-12-22T10:50:12.892Z"
      },
      {
        "duration": 141,
        "start_time": "2022-12-22T10:50:12.908Z"
      },
      {
        "duration": 0,
        "start_time": "2022-12-22T10:50:13.051Z"
      },
      {
        "duration": 0,
        "start_time": "2022-12-22T10:50:13.054Z"
      },
      {
        "duration": 0,
        "start_time": "2022-12-22T10:50:13.055Z"
      },
      {
        "duration": 9,
        "start_time": "2022-12-22T10:50:36.746Z"
      },
      {
        "duration": 19,
        "start_time": "2022-12-22T10:53:32.654Z"
      },
      {
        "duration": 181,
        "start_time": "2022-12-22T10:54:00.140Z"
      },
      {
        "duration": 10,
        "start_time": "2022-12-22T10:54:35.074Z"
      },
      {
        "duration": 11,
        "start_time": "2022-12-22T10:54:43.477Z"
      },
      {
        "duration": 26,
        "start_time": "2022-12-22T10:55:19.269Z"
      },
      {
        "duration": 12,
        "start_time": "2022-12-22T11:07:15.674Z"
      },
      {
        "duration": 144,
        "start_time": "2022-12-22T11:09:25.600Z"
      },
      {
        "duration": 11,
        "start_time": "2022-12-22T11:12:30.824Z"
      },
      {
        "duration": 12,
        "start_time": "2022-12-22T11:13:00.984Z"
      },
      {
        "duration": 151,
        "start_time": "2022-12-22T11:13:11.685Z"
      },
      {
        "duration": 12,
        "start_time": "2022-12-22T11:13:58.971Z"
      },
      {
        "duration": 187,
        "start_time": "2022-12-22T11:14:04.613Z"
      },
      {
        "duration": 12,
        "start_time": "2022-12-22T11:18:54.393Z"
      },
      {
        "duration": 314,
        "start_time": "2022-12-22T11:19:00.620Z"
      },
      {
        "duration": 25,
        "start_time": "2022-12-22T11:19:24.304Z"
      },
      {
        "duration": 17,
        "start_time": "2022-12-22T11:19:46.457Z"
      },
      {
        "duration": 12,
        "start_time": "2022-12-22T11:20:09.833Z"
      },
      {
        "duration": 13,
        "start_time": "2022-12-22T11:20:17.973Z"
      },
      {
        "duration": 17,
        "start_time": "2022-12-22T11:20:32.305Z"
      },
      {
        "duration": 154,
        "start_time": "2022-12-22T11:23:30.629Z"
      },
      {
        "duration": 20,
        "start_time": "2022-12-22T11:24:15.986Z"
      },
      {
        "duration": 143,
        "start_time": "2022-12-22T11:24:49.792Z"
      },
      {
        "duration": 11,
        "start_time": "2022-12-22T11:25:48.378Z"
      },
      {
        "duration": 18,
        "start_time": "2022-12-22T11:26:06.056Z"
      },
      {
        "duration": 12,
        "start_time": "2022-12-22T11:26:15.727Z"
      },
      {
        "duration": 280,
        "start_time": "2022-12-22T11:26:28.434Z"
      },
      {
        "duration": 154,
        "start_time": "2022-12-22T11:27:16.581Z"
      },
      {
        "duration": 11,
        "start_time": "2022-12-22T11:27:29.214Z"
      },
      {
        "duration": 14,
        "start_time": "2022-12-22T11:29:53.543Z"
      },
      {
        "duration": 13,
        "start_time": "2022-12-22T11:30:15.725Z"
      },
      {
        "duration": 10,
        "start_time": "2022-12-22T11:36:51.307Z"
      },
      {
        "duration": 11,
        "start_time": "2022-12-22T11:37:42.939Z"
      },
      {
        "duration": 13,
        "start_time": "2022-12-22T11:40:07.650Z"
      },
      {
        "duration": 13,
        "start_time": "2022-12-22T11:41:30.216Z"
      },
      {
        "duration": 13,
        "start_time": "2022-12-22T11:43:47.709Z"
      },
      {
        "duration": 4,
        "start_time": "2022-12-22T11:43:59.320Z"
      },
      {
        "duration": 12,
        "start_time": "2022-12-22T11:46:06.418Z"
      },
      {
        "duration": 16,
        "start_time": "2022-12-22T11:46:21.899Z"
      },
      {
        "duration": 20,
        "start_time": "2022-12-22T11:52:10.259Z"
      },
      {
        "duration": 12,
        "start_time": "2022-12-22T11:52:35.176Z"
      },
      {
        "duration": 12,
        "start_time": "2022-12-22T11:52:55.096Z"
      },
      {
        "duration": 15,
        "start_time": "2022-12-22T11:54:55.278Z"
      },
      {
        "duration": 13,
        "start_time": "2022-12-22T11:55:03.595Z"
      },
      {
        "duration": 17,
        "start_time": "2022-12-22T11:55:28.784Z"
      },
      {
        "duration": 180,
        "start_time": "2022-12-22T11:55:40.633Z"
      },
      {
        "duration": 176,
        "start_time": "2022-12-22T11:55:54.030Z"
      },
      {
        "duration": 17,
        "start_time": "2022-12-22T11:56:56.879Z"
      },
      {
        "duration": 12,
        "start_time": "2022-12-22T11:57:16.923Z"
      },
      {
        "duration": 13,
        "start_time": "2022-12-22T11:58:02.731Z"
      },
      {
        "duration": 32,
        "start_time": "2022-12-22T11:58:14.154Z"
      },
      {
        "duration": 15,
        "start_time": "2022-12-22T11:58:34.354Z"
      },
      {
        "duration": 15,
        "start_time": "2022-12-22T11:58:42.982Z"
      },
      {
        "duration": 445,
        "start_time": "2022-12-22T12:00:08.597Z"
      },
      {
        "duration": 436,
        "start_time": "2022-12-22T12:00:25.169Z"
      },
      {
        "duration": 2351,
        "start_time": "2022-12-22T12:00:34.478Z"
      },
      {
        "duration": 4,
        "start_time": "2022-12-22T12:00:36.831Z"
      },
      {
        "duration": 2198,
        "start_time": "2022-12-22T12:00:36.836Z"
      },
      {
        "duration": 1539,
        "start_time": "2022-12-22T12:00:39.036Z"
      },
      {
        "duration": 68,
        "start_time": "2022-12-22T12:00:40.577Z"
      },
      {
        "duration": 14,
        "start_time": "2022-12-22T12:00:40.647Z"
      },
      {
        "duration": 17,
        "start_time": "2022-12-22T12:00:40.663Z"
      },
      {
        "duration": 5,
        "start_time": "2022-12-22T12:00:40.681Z"
      },
      {
        "duration": 7,
        "start_time": "2022-12-22T12:00:40.688Z"
      },
      {
        "duration": 16,
        "start_time": "2022-12-22T12:00:40.697Z"
      },
      {
        "duration": 46,
        "start_time": "2022-12-22T12:00:40.715Z"
      },
      {
        "duration": 13,
        "start_time": "2022-12-22T12:00:40.762Z"
      },
      {
        "duration": 9,
        "start_time": "2022-12-22T12:00:40.777Z"
      },
      {
        "duration": 10,
        "start_time": "2022-12-22T12:00:40.790Z"
      },
      {
        "duration": 9,
        "start_time": "2022-12-22T12:00:40.802Z"
      },
      {
        "duration": 13,
        "start_time": "2022-12-22T12:00:40.813Z"
      },
      {
        "duration": 130,
        "start_time": "2022-12-22T12:00:40.827Z"
      },
      {
        "duration": 141,
        "start_time": "2022-12-22T12:00:40.959Z"
      },
      {
        "duration": 115,
        "start_time": "2022-12-22T12:00:41.102Z"
      },
      {
        "duration": 109,
        "start_time": "2022-12-22T12:00:41.219Z"
      },
      {
        "duration": 33,
        "start_time": "2022-12-22T12:00:41.330Z"
      },
      {
        "duration": 12,
        "start_time": "2022-12-22T12:00:41.365Z"
      },
      {
        "duration": 18,
        "start_time": "2022-12-22T12:00:41.379Z"
      },
      {
        "duration": 9,
        "start_time": "2022-12-22T12:00:41.399Z"
      },
      {
        "duration": 15,
        "start_time": "2022-12-22T12:00:41.410Z"
      },
      {
        "duration": 6,
        "start_time": "2022-12-22T12:00:41.427Z"
      },
      {
        "duration": 6,
        "start_time": "2022-12-22T12:00:41.435Z"
      },
      {
        "duration": 6,
        "start_time": "2022-12-22T12:00:41.454Z"
      },
      {
        "duration": 8,
        "start_time": "2022-12-22T12:00:41.462Z"
      },
      {
        "duration": 29,
        "start_time": "2022-12-22T12:00:41.472Z"
      },
      {
        "duration": 86,
        "start_time": "2022-12-22T12:00:41.502Z"
      },
      {
        "duration": 10,
        "start_time": "2022-12-22T12:00:41.590Z"
      },
      {
        "duration": 26,
        "start_time": "2022-12-22T12:00:41.602Z"
      },
      {
        "duration": 5,
        "start_time": "2022-12-22T12:00:41.630Z"
      },
      {
        "duration": 22,
        "start_time": "2022-12-22T12:00:41.637Z"
      },
      {
        "duration": 14,
        "start_time": "2022-12-22T12:00:41.661Z"
      },
      {
        "duration": 9,
        "start_time": "2022-12-22T12:00:41.677Z"
      },
      {
        "duration": 37,
        "start_time": "2022-12-22T12:00:41.687Z"
      },
      {
        "duration": 14,
        "start_time": "2022-12-22T12:00:41.725Z"
      },
      {
        "duration": 12,
        "start_time": "2022-12-22T12:00:41.754Z"
      },
      {
        "duration": 18,
        "start_time": "2022-12-22T12:00:41.770Z"
      },
      {
        "duration": 2,
        "start_time": "2022-12-22T12:00:41.790Z"
      },
      {
        "duration": 16,
        "start_time": "2022-12-22T12:00:41.794Z"
      },
      {
        "duration": 53,
        "start_time": "2022-12-22T12:00:41.812Z"
      },
      {
        "duration": 3,
        "start_time": "2022-12-22T12:00:41.867Z"
      },
      {
        "duration": 13,
        "start_time": "2022-12-22T12:00:41.872Z"
      },
      {
        "duration": 3,
        "start_time": "2022-12-22T12:00:41.887Z"
      },
      {
        "duration": 5,
        "start_time": "2022-12-22T12:00:41.892Z"
      },
      {
        "duration": 63,
        "start_time": "2022-12-22T12:00:41.899Z"
      },
      {
        "duration": 6,
        "start_time": "2022-12-22T12:00:41.964Z"
      },
      {
        "duration": 4739,
        "start_time": "2022-12-22T12:00:41.972Z"
      },
      {
        "duration": 10,
        "start_time": "2022-12-22T12:00:46.713Z"
      },
      {
        "duration": 7,
        "start_time": "2022-12-22T12:00:46.725Z"
      },
      {
        "duration": 12,
        "start_time": "2022-12-22T12:00:46.734Z"
      },
      {
        "duration": 37,
        "start_time": "2022-12-22T12:00:46.747Z"
      },
      {
        "duration": 9,
        "start_time": "2022-12-22T12:00:46.786Z"
      },
      {
        "duration": 35,
        "start_time": "2022-12-22T12:00:46.797Z"
      },
      {
        "duration": 3,
        "start_time": "2022-12-22T12:00:46.834Z"
      },
      {
        "duration": 25,
        "start_time": "2022-12-22T12:00:46.838Z"
      },
      {
        "duration": 5,
        "start_time": "2022-12-22T12:00:46.866Z"
      },
      {
        "duration": 56,
        "start_time": "2022-12-22T12:00:46.873Z"
      },
      {
        "duration": 2,
        "start_time": "2022-12-22T12:00:46.931Z"
      },
      {
        "duration": 20,
        "start_time": "2022-12-22T12:00:46.935Z"
      },
      {
        "duration": 10,
        "start_time": "2022-12-22T12:00:46.957Z"
      },
      {
        "duration": 6,
        "start_time": "2022-12-22T12:00:46.969Z"
      },
      {
        "duration": 6,
        "start_time": "2022-12-22T12:00:46.977Z"
      },
      {
        "duration": 14,
        "start_time": "2022-12-22T12:00:46.985Z"
      },
      {
        "duration": 11,
        "start_time": "2022-12-22T12:00:47.001Z"
      },
      {
        "duration": 27574,
        "start_time": "2022-12-22T12:00:47.014Z"
      },
      {
        "duration": 29883,
        "start_time": "2022-12-22T12:01:14.592Z"
      },
      {
        "duration": 3,
        "start_time": "2022-12-22T12:01:44.477Z"
      },
      {
        "duration": 12,
        "start_time": "2022-12-22T12:01:44.482Z"
      },
      {
        "duration": 17595,
        "start_time": "2022-12-22T12:01:44.497Z"
      },
      {
        "duration": 2,
        "start_time": "2022-12-22T12:02:02.094Z"
      },
      {
        "duration": 371686,
        "start_time": "2022-12-22T12:02:02.098Z"
      },
      {
        "duration": 3,
        "start_time": "2022-12-22T12:08:13.786Z"
      },
      {
        "duration": 25,
        "start_time": "2022-12-22T12:08:13.793Z"
      },
      {
        "duration": 23,
        "start_time": "2022-12-22T12:08:13.819Z"
      },
      {
        "duration": 456,
        "start_time": "2022-12-22T12:08:13.844Z"
      },
      {
        "duration": 150,
        "start_time": "2022-12-22T12:08:14.302Z"
      },
      {
        "duration": 10,
        "start_time": "2022-12-22T12:08:14.455Z"
      },
      {
        "duration": 3433,
        "start_time": "2022-12-23T09:26:25.682Z"
      },
      {
        "duration": 3,
        "start_time": "2022-12-23T09:26:29.117Z"
      },
      {
        "duration": 2087,
        "start_time": "2022-12-23T09:26:29.121Z"
      },
      {
        "duration": 1560,
        "start_time": "2022-12-23T09:26:31.211Z"
      },
      {
        "duration": 149,
        "start_time": "2022-12-23T09:26:32.773Z"
      },
      {
        "duration": 11,
        "start_time": "2022-12-23T09:26:32.924Z"
      },
      {
        "duration": 19,
        "start_time": "2022-12-23T09:26:32.937Z"
      },
      {
        "duration": 3,
        "start_time": "2022-12-23T09:26:32.958Z"
      },
      {
        "duration": 7,
        "start_time": "2022-12-23T09:26:32.962Z"
      },
      {
        "duration": 5,
        "start_time": "2022-12-23T09:26:32.971Z"
      },
      {
        "duration": 56,
        "start_time": "2022-12-23T09:26:32.977Z"
      },
      {
        "duration": 10,
        "start_time": "2022-12-23T09:26:33.034Z"
      },
      {
        "duration": 12,
        "start_time": "2022-12-23T09:26:33.045Z"
      },
      {
        "duration": 4,
        "start_time": "2022-12-23T09:26:33.058Z"
      },
      {
        "duration": 6,
        "start_time": "2022-12-23T09:26:33.063Z"
      },
      {
        "duration": 6,
        "start_time": "2022-12-23T09:26:33.070Z"
      },
      {
        "duration": 102,
        "start_time": "2022-12-23T09:26:33.077Z"
      },
      {
        "duration": 105,
        "start_time": "2022-12-23T09:26:33.180Z"
      },
      {
        "duration": 92,
        "start_time": "2022-12-23T09:26:33.286Z"
      },
      {
        "duration": 100,
        "start_time": "2022-12-23T09:26:33.380Z"
      },
      {
        "duration": 100,
        "start_time": "2022-12-23T09:26:33.481Z"
      },
      {
        "duration": 10,
        "start_time": "2022-12-23T09:26:33.583Z"
      },
      {
        "duration": 5,
        "start_time": "2022-12-23T09:26:33.595Z"
      },
      {
        "duration": 4,
        "start_time": "2022-12-23T09:26:33.602Z"
      },
      {
        "duration": 5,
        "start_time": "2022-12-23T09:26:33.607Z"
      },
      {
        "duration": 10,
        "start_time": "2022-12-23T09:26:33.614Z"
      },
      {
        "duration": 9,
        "start_time": "2022-12-23T09:26:33.626Z"
      },
      {
        "duration": 5,
        "start_time": "2022-12-23T09:26:33.712Z"
      },
      {
        "duration": 7,
        "start_time": "2022-12-23T09:26:33.718Z"
      },
      {
        "duration": 48,
        "start_time": "2022-12-23T09:26:33.726Z"
      },
      {
        "duration": 9,
        "start_time": "2022-12-23T09:26:33.775Z"
      },
      {
        "duration": 7,
        "start_time": "2022-12-23T09:26:33.786Z"
      },
      {
        "duration": 19,
        "start_time": "2022-12-23T09:26:33.794Z"
      },
      {
        "duration": 4,
        "start_time": "2022-12-23T09:26:33.815Z"
      },
      {
        "duration": 4,
        "start_time": "2022-12-23T09:26:33.820Z"
      },
      {
        "duration": 8,
        "start_time": "2022-12-23T09:26:33.826Z"
      },
      {
        "duration": 5,
        "start_time": "2022-12-23T09:26:33.836Z"
      },
      {
        "duration": 27,
        "start_time": "2022-12-23T09:26:33.843Z"
      },
      {
        "duration": 11,
        "start_time": "2022-12-23T09:26:33.872Z"
      },
      {
        "duration": 12,
        "start_time": "2022-12-23T09:26:33.905Z"
      },
      {
        "duration": 16,
        "start_time": "2022-12-23T09:26:33.919Z"
      },
      {
        "duration": 2,
        "start_time": "2022-12-23T09:26:33.936Z"
      },
      {
        "duration": 15,
        "start_time": "2022-12-23T09:26:33.939Z"
      },
      {
        "duration": 24,
        "start_time": "2022-12-23T09:26:33.955Z"
      },
      {
        "duration": 3,
        "start_time": "2022-12-23T09:26:34.004Z"
      },
      {
        "duration": 12,
        "start_time": "2022-12-23T09:26:34.008Z"
      },
      {
        "duration": 2,
        "start_time": "2022-12-23T09:26:34.022Z"
      },
      {
        "duration": 6,
        "start_time": "2022-12-23T09:26:34.025Z"
      },
      {
        "duration": 38,
        "start_time": "2022-12-23T09:26:34.032Z"
      },
      {
        "duration": 4,
        "start_time": "2022-12-23T09:26:34.072Z"
      },
      {
        "duration": 4153,
        "start_time": "2022-12-23T09:26:34.077Z"
      },
      {
        "duration": 11,
        "start_time": "2022-12-23T09:26:38.231Z"
      },
      {
        "duration": 10,
        "start_time": "2022-12-23T09:26:38.243Z"
      },
      {
        "duration": 8,
        "start_time": "2022-12-23T09:26:38.255Z"
      },
      {
        "duration": 39,
        "start_time": "2022-12-23T09:26:38.265Z"
      },
      {
        "duration": 8,
        "start_time": "2022-12-23T09:26:38.306Z"
      },
      {
        "duration": 36,
        "start_time": "2022-12-23T09:26:38.315Z"
      },
      {
        "duration": 2,
        "start_time": "2022-12-23T09:26:38.353Z"
      },
      {
        "duration": 9,
        "start_time": "2022-12-23T09:26:38.357Z"
      },
      {
        "duration": 5,
        "start_time": "2022-12-23T09:26:38.368Z"
      },
      {
        "duration": 59,
        "start_time": "2022-12-23T09:26:38.386Z"
      },
      {
        "duration": 2,
        "start_time": "2022-12-23T09:26:38.446Z"
      },
      {
        "duration": 5,
        "start_time": "2022-12-23T09:26:38.450Z"
      },
      {
        "duration": 6,
        "start_time": "2022-12-23T09:26:38.457Z"
      },
      {
        "duration": 8,
        "start_time": "2022-12-23T09:26:38.465Z"
      },
      {
        "duration": 6,
        "start_time": "2022-12-23T09:26:38.474Z"
      },
      {
        "duration": 8,
        "start_time": "2022-12-23T09:26:38.482Z"
      },
      {
        "duration": 14,
        "start_time": "2022-12-23T09:26:38.492Z"
      },
      {
        "duration": 33896,
        "start_time": "2022-12-23T09:26:38.507Z"
      },
      {
        "duration": 37397,
        "start_time": "2022-12-23T09:27:12.405Z"
      },
      {
        "duration": 3,
        "start_time": "2022-12-23T09:27:49.803Z"
      },
      {
        "duration": 7,
        "start_time": "2022-12-23T09:27:49.807Z"
      },
      {
        "duration": 16366,
        "start_time": "2022-12-23T09:27:49.816Z"
      },
      {
        "duration": 3,
        "start_time": "2022-12-23T09:28:06.183Z"
      },
      {
        "duration": 261824,
        "start_time": "2022-12-23T09:28:06.187Z"
      },
      {
        "duration": 2,
        "start_time": "2022-12-23T09:32:28.014Z"
      },
      {
        "duration": 11,
        "start_time": "2022-12-23T09:32:28.018Z"
      },
      {
        "duration": 14,
        "start_time": "2022-12-23T09:32:28.030Z"
      },
      {
        "duration": 395,
        "start_time": "2022-12-23T09:32:28.046Z"
      },
      {
        "duration": 140,
        "start_time": "2022-12-23T09:32:28.442Z"
      },
      {
        "duration": 9,
        "start_time": "2022-12-23T09:32:28.583Z"
      },
      {
        "duration": 107,
        "start_time": "2022-12-23T09:34:39.384Z"
      },
      {
        "duration": 7,
        "start_time": "2022-12-23T09:34:54.033Z"
      },
      {
        "duration": 60,
        "start_time": "2022-12-23T09:53:12.437Z"
      },
      {
        "duration": 371,
        "start_time": "2022-12-23T09:53:32.855Z"
      },
      {
        "duration": 6241,
        "start_time": "2022-12-24T07:34:44.158Z"
      },
      {
        "duration": 2,
        "start_time": "2022-12-24T07:34:50.402Z"
      },
      {
        "duration": 2006,
        "start_time": "2022-12-24T07:34:50.406Z"
      },
      {
        "duration": 1549,
        "start_time": "2022-12-24T07:34:52.414Z"
      },
      {
        "duration": 194,
        "start_time": "2022-12-24T07:34:53.964Z"
      },
      {
        "duration": 12,
        "start_time": "2022-12-24T07:34:54.159Z"
      },
      {
        "duration": 28,
        "start_time": "2022-12-24T07:34:54.173Z"
      },
      {
        "duration": 6,
        "start_time": "2022-12-24T07:34:54.203Z"
      },
      {
        "duration": 7,
        "start_time": "2022-12-24T07:34:54.210Z"
      },
      {
        "duration": 11,
        "start_time": "2022-12-24T07:34:54.219Z"
      },
      {
        "duration": 105,
        "start_time": "2022-12-24T07:34:54.232Z"
      },
      {
        "duration": 11,
        "start_time": "2022-12-24T07:34:54.338Z"
      },
      {
        "duration": 14,
        "start_time": "2022-12-24T07:34:54.350Z"
      },
      {
        "duration": 8,
        "start_time": "2022-12-24T07:34:54.365Z"
      },
      {
        "duration": 15,
        "start_time": "2022-12-24T07:34:54.374Z"
      },
      {
        "duration": 18,
        "start_time": "2022-12-24T07:34:54.391Z"
      },
      {
        "duration": 127,
        "start_time": "2022-12-24T07:34:54.410Z"
      },
      {
        "duration": 117,
        "start_time": "2022-12-24T07:34:54.538Z"
      },
      {
        "duration": 97,
        "start_time": "2022-12-24T07:34:54.656Z"
      },
      {
        "duration": 102,
        "start_time": "2022-12-24T07:34:54.755Z"
      },
      {
        "duration": 55,
        "start_time": "2022-12-24T07:34:54.859Z"
      },
      {
        "duration": 10,
        "start_time": "2022-12-24T07:34:54.916Z"
      },
      {
        "duration": 42,
        "start_time": "2022-12-24T07:34:54.928Z"
      },
      {
        "duration": 34,
        "start_time": "2022-12-24T07:34:54.972Z"
      },
      {
        "duration": 21,
        "start_time": "2022-12-24T07:34:55.008Z"
      },
      {
        "duration": 22,
        "start_time": "2022-12-24T07:34:55.031Z"
      },
      {
        "duration": 32,
        "start_time": "2022-12-24T07:34:55.055Z"
      },
      {
        "duration": 4,
        "start_time": "2022-12-24T07:34:55.163Z"
      },
      {
        "duration": 12,
        "start_time": "2022-12-24T07:34:55.169Z"
      },
      {
        "duration": 118,
        "start_time": "2022-12-24T07:34:55.183Z"
      },
      {
        "duration": 12,
        "start_time": "2022-12-24T07:34:55.303Z"
      },
      {
        "duration": 44,
        "start_time": "2022-12-24T07:34:55.316Z"
      },
      {
        "duration": 27,
        "start_time": "2022-12-24T07:34:55.363Z"
      },
      {
        "duration": 5,
        "start_time": "2022-12-24T07:34:55.393Z"
      },
      {
        "duration": 10,
        "start_time": "2022-12-24T07:34:55.399Z"
      },
      {
        "duration": 12,
        "start_time": "2022-12-24T07:34:55.410Z"
      },
      {
        "duration": 11,
        "start_time": "2022-12-24T07:34:55.424Z"
      },
      {
        "duration": 29,
        "start_time": "2022-12-24T07:34:55.436Z"
      },
      {
        "duration": 10,
        "start_time": "2022-12-24T07:34:55.467Z"
      },
      {
        "duration": 13,
        "start_time": "2022-12-24T07:34:55.478Z"
      },
      {
        "duration": 15,
        "start_time": "2022-12-24T07:34:55.492Z"
      },
      {
        "duration": 13,
        "start_time": "2022-12-24T07:34:55.508Z"
      },
      {
        "duration": 10,
        "start_time": "2022-12-24T07:34:55.522Z"
      },
      {
        "duration": 22,
        "start_time": "2022-12-24T07:34:55.534Z"
      },
      {
        "duration": 22,
        "start_time": "2022-12-24T07:34:55.558Z"
      },
      {
        "duration": 14,
        "start_time": "2022-12-24T07:34:55.581Z"
      },
      {
        "duration": 14,
        "start_time": "2022-12-24T07:34:55.596Z"
      },
      {
        "duration": 4,
        "start_time": "2022-12-24T07:34:55.612Z"
      },
      {
        "duration": 37,
        "start_time": "2022-12-24T07:34:55.618Z"
      },
      {
        "duration": 4,
        "start_time": "2022-12-24T07:34:55.656Z"
      },
      {
        "duration": 4122,
        "start_time": "2022-12-24T07:34:55.662Z"
      },
      {
        "duration": 9,
        "start_time": "2022-12-24T07:34:59.786Z"
      },
      {
        "duration": 9,
        "start_time": "2022-12-24T07:34:59.797Z"
      },
      {
        "duration": 10,
        "start_time": "2022-12-24T07:34:59.808Z"
      },
      {
        "duration": 37,
        "start_time": "2022-12-24T07:34:59.819Z"
      },
      {
        "duration": 8,
        "start_time": "2022-12-24T07:34:59.858Z"
      },
      {
        "duration": 28,
        "start_time": "2022-12-24T07:34:59.867Z"
      },
      {
        "duration": 6,
        "start_time": "2022-12-24T07:34:59.897Z"
      },
      {
        "duration": 13,
        "start_time": "2022-12-24T07:34:59.904Z"
      },
      {
        "duration": 11,
        "start_time": "2022-12-24T07:34:59.919Z"
      },
      {
        "duration": 59,
        "start_time": "2022-12-24T07:34:59.931Z"
      },
      {
        "duration": 2,
        "start_time": "2022-12-24T07:34:59.992Z"
      },
      {
        "duration": 9,
        "start_time": "2022-12-24T07:34:59.996Z"
      },
      {
        "duration": 27,
        "start_time": "2022-12-24T07:35:00.006Z"
      },
      {
        "duration": 22,
        "start_time": "2022-12-24T07:35:00.034Z"
      },
      {
        "duration": 17,
        "start_time": "2022-12-24T07:35:00.058Z"
      },
      {
        "duration": 33,
        "start_time": "2022-12-24T07:35:00.076Z"
      },
      {
        "duration": 25,
        "start_time": "2022-12-24T07:35:00.111Z"
      },
      {
        "duration": 27843,
        "start_time": "2022-12-24T07:35:00.146Z"
      },
      {
        "duration": 28821,
        "start_time": "2022-12-24T07:35:27.991Z"
      },
      {
        "duration": 2,
        "start_time": "2022-12-24T07:35:56.814Z"
      },
      {
        "duration": 8,
        "start_time": "2022-12-24T07:35:56.818Z"
      },
      {
        "duration": 15261,
        "start_time": "2022-12-24T07:35:56.827Z"
      },
      {
        "duration": 2,
        "start_time": "2022-12-24T07:36:12.089Z"
      },
      {
        "duration": 322833,
        "start_time": "2022-12-24T07:36:12.093Z"
      },
      {
        "duration": 3,
        "start_time": "2022-12-24T07:41:34.928Z"
      },
      {
        "duration": 19,
        "start_time": "2022-12-24T07:41:34.933Z"
      },
      {
        "duration": 16,
        "start_time": "2022-12-24T07:41:34.953Z"
      },
      {
        "duration": 426,
        "start_time": "2022-12-24T07:41:34.971Z"
      },
      {
        "duration": 153,
        "start_time": "2022-12-24T07:41:35.399Z"
      },
      {
        "duration": 9,
        "start_time": "2022-12-24T07:41:35.554Z"
      },
      {
        "duration": 14,
        "start_time": "2022-12-24T07:41:35.568Z"
      },
      {
        "duration": 390,
        "start_time": "2022-12-24T07:41:35.584Z"
      }
    ],
    "kernelspec": {
      "display_name": "Python 3 (ipykernel)",
      "language": "python",
      "name": "python3"
    },
    "language_info": {
      "codemirror_mode": {
        "name": "ipython",
        "version": 3
      },
      "file_extension": ".py",
      "mimetype": "text/x-python",
      "name": "python",
      "nbconvert_exporter": "python",
      "pygments_lexer": "ipython3",
      "version": "3.9.5"
    },
    "toc": {
      "base_numbering": 1,
      "nav_menu": {},
      "number_sections": true,
      "sideBar": true,
      "skip_h1_title": true,
      "title_cell": "Table of Contents",
      "title_sidebar": "Contents",
      "toc_cell": false,
      "toc_position": {},
      "toc_section_display": true,
      "toc_window_display": false
    },
    "colab": {
      "provenance": [],
      "include_colab_link": true
    }
  },
  "nbformat": 4,
  "nbformat_minor": 5
}