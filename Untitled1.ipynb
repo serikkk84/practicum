{
  "nbformat": 4,
  "nbformat_minor": 0,
  "metadata": {
    "colab": {
      "provenance": [],
      "authorship_tag": "ABX9TyM14+3MzFMTetsp1CwjTjbr",
      "include_colab_link": true
    },
    "kernelspec": {
      "name": "python3",
      "display_name": "Python 3"
    },
    "language_info": {
      "name": "python"
    }
  },
  "cells": [
    {
      "cell_type": "markdown",
      "metadata": {
        "id": "view-in-github",
        "colab_type": "text"
      },
      "source": [
        "<a href=\"https://colab.research.google.com/github/serikkk84/practicum/blob/main/Untitled1.ipynb\" target=\"_parent\"><img src=\"https://colab.research.google.com/assets/colab-badge.svg\" alt=\"Open In Colab\"/></a>"
      ]
    },
    {
      "cell_type": "markdown",
      "source": [
        "## ЗАДАЧА 1"
      ],
      "metadata": {
        "id": "JwHqgUOpwOBA"
      }
    },
    {
      "cell_type": "code",
      "source": [
        "!pip install pyspark\n"
      ],
      "metadata": {
        "colab": {
          "base_uri": "https://localhost:8080/"
        },
        "id": "6x499AOnLRTh",
        "outputId": "898705be-796c-4121-9f75-d7dc59018313"
      },
      "execution_count": 1,
      "outputs": [
        {
          "output_type": "stream",
          "name": "stdout",
          "text": [
            "Looking in indexes: https://pypi.org/simple, https://us-python.pkg.dev/colab-wheels/public/simple/\n",
            "Collecting pyspark\n",
            "  Downloading pyspark-3.3.2.tar.gz (281.4 MB)\n",
            "\u001b[2K     \u001b[90m━━━━━━━━━━━━━━━━━━━━━━━━━━━━━━━━━━━━━━━\u001b[0m \u001b[32m281.4/281.4 MB\u001b[0m \u001b[31m5.2 MB/s\u001b[0m eta \u001b[36m0:00:00\u001b[0m\n",
            "\u001b[?25h  Preparing metadata (setup.py) ... \u001b[?25l\u001b[?25hdone\n",
            "Collecting py4j==0.10.9.5\n",
            "  Downloading py4j-0.10.9.5-py2.py3-none-any.whl (199 kB)\n",
            "\u001b[2K     \u001b[90m━━━━━━━━━━━━━━━━━━━━━━━━━━━━━━━━━━━━━━\u001b[0m \u001b[32m199.7/199.7 KB\u001b[0m \u001b[31m19.5 MB/s\u001b[0m eta \u001b[36m0:00:00\u001b[0m\n",
            "\u001b[?25hBuilding wheels for collected packages: pyspark\n",
            "  Building wheel for pyspark (setup.py) ... \u001b[?25l\u001b[?25hdone\n",
            "  Created wheel for pyspark: filename=pyspark-3.3.2-py2.py3-none-any.whl size=281824028 sha256=54cf47fd79ca3c5026092e0d8051bf7d4f5a81cf806fed7f9fba1e197fdd188c\n",
            "  Stored in directory: /root/.cache/pip/wheels/6c/e3/9b/0525ce8a69478916513509d43693511463c6468db0de237c86\n",
            "Successfully built pyspark\n",
            "Installing collected packages: py4j, pyspark\n",
            "  Attempting uninstall: py4j\n",
            "    Found existing installation: py4j 0.10.9.7\n",
            "    Uninstalling py4j-0.10.9.7:\n",
            "      Successfully uninstalled py4j-0.10.9.7\n",
            "Successfully installed py4j-0.10.9.5 pyspark-3.3.2\n"
          ]
        }
      ]
    },
    {
      "cell_type": "code",
      "execution_count": 2,
      "metadata": {
        "id": "TWZ7LcOsH7xN"
      },
      "outputs": [],
      "source": [
        "import pandas as pd\n",
        "from pyspark.sql import SparkSession\n",
        "\n",
        "from google.colab import files\n",
        "import io\n",
        "import numpy as np\n"
      ]
    },
    {
      "cell_type": "code",
      "source": [
        "uploaded = files.upload()\n"
      ],
      "metadata": {
        "colab": {
          "base_uri": "https://localhost:8080/",
          "height": 73
        },
        "id": "v0Yyp7yliviW",
        "outputId": "9f6619f9-b83d-4711-9fb4-a14914ee74d7"
      },
      "execution_count": 3,
      "outputs": [
        {
          "output_type": "display_data",
          "data": {
            "text/plain": [
              "<IPython.core.display.HTML object>"
            ],
            "text/html": [
              "\n",
              "     <input type=\"file\" id=\"files-7466898c-5779-441d-835e-e8152f884153\" name=\"files[]\" multiple disabled\n",
              "        style=\"border:none\" />\n",
              "     <output id=\"result-7466898c-5779-441d-835e-e8152f884153\">\n",
              "      Upload widget is only available when the cell has been executed in the\n",
              "      current browser session. Please rerun this cell to enable.\n",
              "      </output>\n",
              "      <script>// Copyright 2017 Google LLC\n",
              "//\n",
              "// Licensed under the Apache License, Version 2.0 (the \"License\");\n",
              "// you may not use this file except in compliance with the License.\n",
              "// You may obtain a copy of the License at\n",
              "//\n",
              "//      http://www.apache.org/licenses/LICENSE-2.0\n",
              "//\n",
              "// Unless required by applicable law or agreed to in writing, software\n",
              "// distributed under the License is distributed on an \"AS IS\" BASIS,\n",
              "// WITHOUT WARRANTIES OR CONDITIONS OF ANY KIND, either express or implied.\n",
              "// See the License for the specific language governing permissions and\n",
              "// limitations under the License.\n",
              "\n",
              "/**\n",
              " * @fileoverview Helpers for google.colab Python module.\n",
              " */\n",
              "(function(scope) {\n",
              "function span(text, styleAttributes = {}) {\n",
              "  const element = document.createElement('span');\n",
              "  element.textContent = text;\n",
              "  for (const key of Object.keys(styleAttributes)) {\n",
              "    element.style[key] = styleAttributes[key];\n",
              "  }\n",
              "  return element;\n",
              "}\n",
              "\n",
              "// Max number of bytes which will be uploaded at a time.\n",
              "const MAX_PAYLOAD_SIZE = 100 * 1024;\n",
              "\n",
              "function _uploadFiles(inputId, outputId) {\n",
              "  const steps = uploadFilesStep(inputId, outputId);\n",
              "  const outputElement = document.getElementById(outputId);\n",
              "  // Cache steps on the outputElement to make it available for the next call\n",
              "  // to uploadFilesContinue from Python.\n",
              "  outputElement.steps = steps;\n",
              "\n",
              "  return _uploadFilesContinue(outputId);\n",
              "}\n",
              "\n",
              "// This is roughly an async generator (not supported in the browser yet),\n",
              "// where there are multiple asynchronous steps and the Python side is going\n",
              "// to poll for completion of each step.\n",
              "// This uses a Promise to block the python side on completion of each step,\n",
              "// then passes the result of the previous step as the input to the next step.\n",
              "function _uploadFilesContinue(outputId) {\n",
              "  const outputElement = document.getElementById(outputId);\n",
              "  const steps = outputElement.steps;\n",
              "\n",
              "  const next = steps.next(outputElement.lastPromiseValue);\n",
              "  return Promise.resolve(next.value.promise).then((value) => {\n",
              "    // Cache the last promise value to make it available to the next\n",
              "    // step of the generator.\n",
              "    outputElement.lastPromiseValue = value;\n",
              "    return next.value.response;\n",
              "  });\n",
              "}\n",
              "\n",
              "/**\n",
              " * Generator function which is called between each async step of the upload\n",
              " * process.\n",
              " * @param {string} inputId Element ID of the input file picker element.\n",
              " * @param {string} outputId Element ID of the output display.\n",
              " * @return {!Iterable<!Object>} Iterable of next steps.\n",
              " */\n",
              "function* uploadFilesStep(inputId, outputId) {\n",
              "  const inputElement = document.getElementById(inputId);\n",
              "  inputElement.disabled = false;\n",
              "\n",
              "  const outputElement = document.getElementById(outputId);\n",
              "  outputElement.innerHTML = '';\n",
              "\n",
              "  const pickedPromise = new Promise((resolve) => {\n",
              "    inputElement.addEventListener('change', (e) => {\n",
              "      resolve(e.target.files);\n",
              "    });\n",
              "  });\n",
              "\n",
              "  const cancel = document.createElement('button');\n",
              "  inputElement.parentElement.appendChild(cancel);\n",
              "  cancel.textContent = 'Cancel upload';\n",
              "  const cancelPromise = new Promise((resolve) => {\n",
              "    cancel.onclick = () => {\n",
              "      resolve(null);\n",
              "    };\n",
              "  });\n",
              "\n",
              "  // Wait for the user to pick the files.\n",
              "  const files = yield {\n",
              "    promise: Promise.race([pickedPromise, cancelPromise]),\n",
              "    response: {\n",
              "      action: 'starting',\n",
              "    }\n",
              "  };\n",
              "\n",
              "  cancel.remove();\n",
              "\n",
              "  // Disable the input element since further picks are not allowed.\n",
              "  inputElement.disabled = true;\n",
              "\n",
              "  if (!files) {\n",
              "    return {\n",
              "      response: {\n",
              "        action: 'complete',\n",
              "      }\n",
              "    };\n",
              "  }\n",
              "\n",
              "  for (const file of files) {\n",
              "    const li = document.createElement('li');\n",
              "    li.append(span(file.name, {fontWeight: 'bold'}));\n",
              "    li.append(span(\n",
              "        `(${file.type || 'n/a'}) - ${file.size} bytes, ` +\n",
              "        `last modified: ${\n",
              "            file.lastModifiedDate ? file.lastModifiedDate.toLocaleDateString() :\n",
              "                                    'n/a'} - `));\n",
              "    const percent = span('0% done');\n",
              "    li.appendChild(percent);\n",
              "\n",
              "    outputElement.appendChild(li);\n",
              "\n",
              "    const fileDataPromise = new Promise((resolve) => {\n",
              "      const reader = new FileReader();\n",
              "      reader.onload = (e) => {\n",
              "        resolve(e.target.result);\n",
              "      };\n",
              "      reader.readAsArrayBuffer(file);\n",
              "    });\n",
              "    // Wait for the data to be ready.\n",
              "    let fileData = yield {\n",
              "      promise: fileDataPromise,\n",
              "      response: {\n",
              "        action: 'continue',\n",
              "      }\n",
              "    };\n",
              "\n",
              "    // Use a chunked sending to avoid message size limits. See b/62115660.\n",
              "    let position = 0;\n",
              "    do {\n",
              "      const length = Math.min(fileData.byteLength - position, MAX_PAYLOAD_SIZE);\n",
              "      const chunk = new Uint8Array(fileData, position, length);\n",
              "      position += length;\n",
              "\n",
              "      const base64 = btoa(String.fromCharCode.apply(null, chunk));\n",
              "      yield {\n",
              "        response: {\n",
              "          action: 'append',\n",
              "          file: file.name,\n",
              "          data: base64,\n",
              "        },\n",
              "      };\n",
              "\n",
              "      let percentDone = fileData.byteLength === 0 ?\n",
              "          100 :\n",
              "          Math.round((position / fileData.byteLength) * 100);\n",
              "      percent.textContent = `${percentDone}% done`;\n",
              "\n",
              "    } while (position < fileData.byteLength);\n",
              "  }\n",
              "\n",
              "  // All done.\n",
              "  yield {\n",
              "    response: {\n",
              "      action: 'complete',\n",
              "    }\n",
              "  };\n",
              "}\n",
              "\n",
              "scope.google = scope.google || {};\n",
              "scope.google.colab = scope.google.colab || {};\n",
              "scope.google.colab._files = {\n",
              "  _uploadFiles,\n",
              "  _uploadFilesContinue,\n",
              "};\n",
              "})(self);\n",
              "</script> "
            ]
          },
          "metadata": {}
        },
        {
          "output_type": "stream",
          "name": "stdout",
          "text": [
            "Saving total.csv to total.csv\n"
          ]
        }
      ]
    },
    {
      "cell_type": "code",
      "source": [
        "data = pd.read_csv(io.BytesIO(uploaded['total.csv']))\n",
        "data"
      ],
      "metadata": {
        "colab": {
          "base_uri": "https://localhost:8080/",
          "height": 269
        },
        "id": "6BSUHTI4w0JG",
        "outputId": "4e40e9bc-e621-43dc-8b32-e6b8eaffcb8a"
      },
      "execution_count": 4,
      "outputs": [
        {
          "output_type": "execute_result",
          "data": {
            "text/plain": [
              "   sales_id       dates  buyer_id seller_id  qty qty_shipped\n",
              "0     85754  2022-04-05         3         a  100         100\n",
              "1     40494  2022-04-12         1         m   10          10\n",
              "2     25651  2022-06-11         4         f   40      (null)\n",
              "3     34489  2022-06-18         1         f   30      (null)\n",
              "4     83056  2022-07-06         2         m   70      (null)\n",
              "5     36044  2022-07-07         2         g   10          10\n",
              "6     96498  2022-07-19         4         e   70          70"
            ],
            "text/html": [
              "\n",
              "  <div id=\"df-e2fc55b4-e38d-4390-809c-33f8866fd97c\">\n",
              "    <div class=\"colab-df-container\">\n",
              "      <div>\n",
              "<style scoped>\n",
              "    .dataframe tbody tr th:only-of-type {\n",
              "        vertical-align: middle;\n",
              "    }\n",
              "\n",
              "    .dataframe tbody tr th {\n",
              "        vertical-align: top;\n",
              "    }\n",
              "\n",
              "    .dataframe thead th {\n",
              "        text-align: right;\n",
              "    }\n",
              "</style>\n",
              "<table border=\"1\" class=\"dataframe\">\n",
              "  <thead>\n",
              "    <tr style=\"text-align: right;\">\n",
              "      <th></th>\n",
              "      <th>sales_id</th>\n",
              "      <th>dates</th>\n",
              "      <th>buyer_id</th>\n",
              "      <th>seller_id</th>\n",
              "      <th>qty</th>\n",
              "      <th>qty_shipped</th>\n",
              "    </tr>\n",
              "  </thead>\n",
              "  <tbody>\n",
              "    <tr>\n",
              "      <th>0</th>\n",
              "      <td>85754</td>\n",
              "      <td>2022-04-05</td>\n",
              "      <td>3</td>\n",
              "      <td>a</td>\n",
              "      <td>100</td>\n",
              "      <td>100</td>\n",
              "    </tr>\n",
              "    <tr>\n",
              "      <th>1</th>\n",
              "      <td>40494</td>\n",
              "      <td>2022-04-12</td>\n",
              "      <td>1</td>\n",
              "      <td>m</td>\n",
              "      <td>10</td>\n",
              "      <td>10</td>\n",
              "    </tr>\n",
              "    <tr>\n",
              "      <th>2</th>\n",
              "      <td>25651</td>\n",
              "      <td>2022-06-11</td>\n",
              "      <td>4</td>\n",
              "      <td>f</td>\n",
              "      <td>40</td>\n",
              "      <td>(null)</td>\n",
              "    </tr>\n",
              "    <tr>\n",
              "      <th>3</th>\n",
              "      <td>34489</td>\n",
              "      <td>2022-06-18</td>\n",
              "      <td>1</td>\n",
              "      <td>f</td>\n",
              "      <td>30</td>\n",
              "      <td>(null)</td>\n",
              "    </tr>\n",
              "    <tr>\n",
              "      <th>4</th>\n",
              "      <td>83056</td>\n",
              "      <td>2022-07-06</td>\n",
              "      <td>2</td>\n",
              "      <td>m</td>\n",
              "      <td>70</td>\n",
              "      <td>(null)</td>\n",
              "    </tr>\n",
              "    <tr>\n",
              "      <th>5</th>\n",
              "      <td>36044</td>\n",
              "      <td>2022-07-07</td>\n",
              "      <td>2</td>\n",
              "      <td>g</td>\n",
              "      <td>10</td>\n",
              "      <td>10</td>\n",
              "    </tr>\n",
              "    <tr>\n",
              "      <th>6</th>\n",
              "      <td>96498</td>\n",
              "      <td>2022-07-19</td>\n",
              "      <td>4</td>\n",
              "      <td>e</td>\n",
              "      <td>70</td>\n",
              "      <td>70</td>\n",
              "    </tr>\n",
              "  </tbody>\n",
              "</table>\n",
              "</div>\n",
              "      <button class=\"colab-df-convert\" onclick=\"convertToInteractive('df-e2fc55b4-e38d-4390-809c-33f8866fd97c')\"\n",
              "              title=\"Convert this dataframe to an interactive table.\"\n",
              "              style=\"display:none;\">\n",
              "        \n",
              "  <svg xmlns=\"http://www.w3.org/2000/svg\" height=\"24px\"viewBox=\"0 0 24 24\"\n",
              "       width=\"24px\">\n",
              "    <path d=\"M0 0h24v24H0V0z\" fill=\"none\"/>\n",
              "    <path d=\"M18.56 5.44l.94 2.06.94-2.06 2.06-.94-2.06-.94-.94-2.06-.94 2.06-2.06.94zm-11 1L8.5 8.5l.94-2.06 2.06-.94-2.06-.94L8.5 2.5l-.94 2.06-2.06.94zm10 10l.94 2.06.94-2.06 2.06-.94-2.06-.94-.94-2.06-.94 2.06-2.06.94z\"/><path d=\"M17.41 7.96l-1.37-1.37c-.4-.4-.92-.59-1.43-.59-.52 0-1.04.2-1.43.59L10.3 9.45l-7.72 7.72c-.78.78-.78 2.05 0 2.83L4 21.41c.39.39.9.59 1.41.59.51 0 1.02-.2 1.41-.59l7.78-7.78 2.81-2.81c.8-.78.8-2.07 0-2.86zM5.41 20L4 18.59l7.72-7.72 1.47 1.35L5.41 20z\"/>\n",
              "  </svg>\n",
              "      </button>\n",
              "      \n",
              "  <style>\n",
              "    .colab-df-container {\n",
              "      display:flex;\n",
              "      flex-wrap:wrap;\n",
              "      gap: 12px;\n",
              "    }\n",
              "\n",
              "    .colab-df-convert {\n",
              "      background-color: #E8F0FE;\n",
              "      border: none;\n",
              "      border-radius: 50%;\n",
              "      cursor: pointer;\n",
              "      display: none;\n",
              "      fill: #1967D2;\n",
              "      height: 32px;\n",
              "      padding: 0 0 0 0;\n",
              "      width: 32px;\n",
              "    }\n",
              "\n",
              "    .colab-df-convert:hover {\n",
              "      background-color: #E2EBFA;\n",
              "      box-shadow: 0px 1px 2px rgba(60, 64, 67, 0.3), 0px 1px 3px 1px rgba(60, 64, 67, 0.15);\n",
              "      fill: #174EA6;\n",
              "    }\n",
              "\n",
              "    [theme=dark] .colab-df-convert {\n",
              "      background-color: #3B4455;\n",
              "      fill: #D2E3FC;\n",
              "    }\n",
              "\n",
              "    [theme=dark] .colab-df-convert:hover {\n",
              "      background-color: #434B5C;\n",
              "      box-shadow: 0px 1px 3px 1px rgba(0, 0, 0, 0.15);\n",
              "      filter: drop-shadow(0px 1px 2px rgba(0, 0, 0, 0.3));\n",
              "      fill: #FFFFFF;\n",
              "    }\n",
              "  </style>\n",
              "\n",
              "      <script>\n",
              "        const buttonEl =\n",
              "          document.querySelector('#df-e2fc55b4-e38d-4390-809c-33f8866fd97c button.colab-df-convert');\n",
              "        buttonEl.style.display =\n",
              "          google.colab.kernel.accessAllowed ? 'block' : 'none';\n",
              "\n",
              "        async function convertToInteractive(key) {\n",
              "          const element = document.querySelector('#df-e2fc55b4-e38d-4390-809c-33f8866fd97c');\n",
              "          const dataTable =\n",
              "            await google.colab.kernel.invokeFunction('convertToInteractive',\n",
              "                                                     [key], {});\n",
              "          if (!dataTable) return;\n",
              "\n",
              "          const docLinkHtml = 'Like what you see? Visit the ' +\n",
              "            '<a target=\"_blank\" href=https://colab.research.google.com/notebooks/data_table.ipynb>data table notebook</a>'\n",
              "            + ' to learn more about interactive tables.';\n",
              "          element.innerHTML = '';\n",
              "          dataTable['output_type'] = 'display_data';\n",
              "          await google.colab.output.renderOutput(dataTable, element);\n",
              "          const docLink = document.createElement('div');\n",
              "          docLink.innerHTML = docLinkHtml;\n",
              "          element.appendChild(docLink);\n",
              "        }\n",
              "      </script>\n",
              "    </div>\n",
              "  </div>\n",
              "  "
            ]
          },
          "metadata": {},
          "execution_count": 4
        }
      ]
    },
    {
      "cell_type": "code",
      "source": [
        "APP_NAME = \"DataFrames\"\n",
        "SPARK_URL = \"local[*]\"\n",
        "\n",
        "spark = SparkSession.builder.appName(APP_NAME) \\\n",
        "                                            .config('spark.ui.showConsoleProgress', 'false') \\\n",
        "                                            .getOrCreate()\n",
        "\n",
        "\n",
        "total = spark.createDataFrame(pd.read_csv(io.BytesIO(uploaded['total.csv'])))\n",
        "\n",
        "\n",
        "total = total.fillna(0)\n",
        "\n",
        "total.registerTempTable(\"total\")\n",
        "\n",
        "print(spark.sql('SELECT ROW_NUMBER() OVER(ORDER BY CAST(dates AS DATE)) AS number, t.sales_id, t.dates, t.buyer_id, t.seller_id, t.qty, t.qty_shipped, a.common_qty, b.first_sale, c.last_sale '\n",
        "                'FROM total as t LEFT OUTER JOIN (SELECT buyer_id, SUM(qty) AS common_qty FROM total GROUP BY buyer_id) as a ON t.buyer_id=a.buyer_id '\n",
        "                'LEFT OUTER JOIN (SELECT buyer_id, MIN(CAST(dates AS DATE)) AS first_sale FROM total GROUP BY buyer_id) as b on t.buyer_id=b.buyer_id '\n",
        "                'LEFT OUTER JOIN (SELECT buyer_id, MAX(CAST(dates AS DATE)) AS last_sale FROM total GROUP BY buyer_id) as c on t.buyer_id=c.buyer_id ').show(10))\n",
        "# < напишите код здесь >"
      ],
      "metadata": {
        "id": "ovTQpVkZaP4k",
        "colab": {
          "base_uri": "https://localhost:8080/"
        },
        "outputId": "e61ddf27-c644-4010-9594-5d02e72967d6"
      },
      "execution_count": 11,
      "outputs": [
        {
          "output_type": "stream",
          "name": "stderr",
          "text": [
            "/usr/local/lib/python3.9/dist-packages/pyspark/sql/dataframe.py:229: FutureWarning: Deprecated in 2.0, use createOrReplaceTempView instead.\n",
            "  warnings.warn(\"Deprecated in 2.0, use createOrReplaceTempView instead.\", FutureWarning)\n"
          ]
        },
        {
          "output_type": "stream",
          "name": "stdout",
          "text": [
            "+------+--------+----------+--------+---------+---+-----------+----------+----------+----------+\n",
            "|number|sales_id|     dates|buyer_id|seller_id|qty|qty_shipped|common_qty|first_sale| last_sale|\n",
            "+------+--------+----------+--------+---------+---+-----------+----------+----------+----------+\n",
            "|     1|   85754|2022-04-05|       3|        a|100|        100|       100|2022-04-05|2022-04-05|\n",
            "|     2|   40494|2022-04-12|       1|        m| 10|         10|        40|2022-04-12|2022-06-18|\n",
            "|     3|   25651|2022-06-11|       4|        f| 40|     (null)|       110|2022-06-11|2022-07-19|\n",
            "|     4|   34489|2022-06-18|       1|        f| 30|     (null)|        40|2022-04-12|2022-06-18|\n",
            "|     5|   83056|2022-07-06|       2|        m| 70|     (null)|        80|2022-07-06|2022-07-07|\n",
            "|     6|   36044|2022-07-07|       2|        g| 10|         10|        80|2022-07-06|2022-07-07|\n",
            "|     7|   96498|2022-07-19|       4|        e| 70|         70|       110|2022-06-11|2022-07-19|\n",
            "+------+--------+----------+--------+---------+---+-----------+----------+----------+----------+\n",
            "\n",
            "None\n"
          ]
        }
      ]
    },
    {
      "cell_type": "markdown",
      "source": [
        "## ЗАДАЧА 2"
      ],
      "metadata": {
        "id": "wEjXoPeTwiO-"
      }
    },
    {
      "cell_type": "markdown",
      "source": [
        "# 1a"
      ],
      "metadata": {
        "id": "Ua4fR45qYwt4"
      }
    },
    {
      "cell_type": "code",
      "source": [
        "SELECT cust.customer_nm,\n",
        "       st.store_nm\n",
        "FROM (SELECT c.customer_id,\n",
        "             c.max,\n",
        "             d.store_id\n",
        "      FROM (SELECT a.customer_id,\n",
        "                  MAX(b.count)\n",
        "            FROM (SELECT customer_id, \n",
        "                         store_id, \n",
        "                         COUNT(sale_id) \n",
        "                 FROM sales\n",
        "                 GROUP BY customer_id, store_id\n",
        "                 ORDER BY customer_id, COUNT(sale_id) DESC) as a \n",
        "            LEFT JOIN (SELECT customer_id, \n",
        "                              store_id, \n",
        "                              COUNT(sale_id) \n",
        "                      FROM sales\n",
        "                      GROUP BY customer_id, store_id\n",
        "                      ORDER BY customer_id, COUNT(sale_id) DESC) AS b ON a.customer_id=b.customer_id AND a.count < b.count\n",
        "            GROUP BY a.customer_id) AS c \n",
        "      LEFT JOIN (SELECT customer_id, \n",
        "                        store_id, \n",
        "                        COUNT(sale_id) \n",
        "                FROM sales \n",
        "                GROUP BY customer_id, store_id \n",
        "                ORDER BY customer_id, COUNT(sale_id) DESC) as d ON c.customer_id=d.customer_id AND c.max=d.count) AS temp1\n",
        "LEFT JOIN customers AS cust ON temp1.customer_id=cust.customer_id\n",
        "LEFT JOIN stores AS st ON temp1.store_id=st.store_id;"
      ],
      "metadata": {
        "id": "87E_Xai5wmgA"
      },
      "execution_count": null,
      "outputs": []
    },
    {
      "cell_type": "markdown",
      "source": [
        "# 1b"
      ],
      "metadata": {
        "id": "GIl16mR80MkT"
      }
    },
    {
      "cell_type": "code",
      "source": [
        "SELECT customer_nm\n",
        "FROM customers\n",
        "WHERE customer_id IN (SELECT a.customer_id\n",
        "                      FROM (SELECT customer_id,\n",
        "                                  EXTRACT(month FROM CAST(dt AS date)),\n",
        "       COUNT (sale_id)\n",
        "FROM sales\n",
        "WHERE EXTRACT(month FROM CAST(dt AS date)) = 2 \n",
        "      AND EXTRACT(year FROM CAST(dt AS date)) = 2023\n",
        "GROUP BY customer_id, EXTRACT(month FROM CAST(dt AS date))\n",
        "HAVING COUNT (sale_id) >= 3) as a\n",
        "INNER JOIN (SELECT customer_id,\n",
        "       EXTRACT(month FROM CAST(dt AS date)),\n",
        "       COUNT (sale_id)\n",
        "FROM sales\n",
        "WHERE EXTRACT(month FROM CAST(dt AS date)) = 1\n",
        "      AND EXTRACT(year FROM CAST(dt AS date)) = 2023\n",
        "GROUP BY customer_id, EXTRACT(month FROM CAST(dt AS date))\n",
        "HAVING COUNT (sale_id) >= 3) as b ON a.customer_id=b.customer_id);"
      ],
      "metadata": {
        "id": "_nvDWjB10SC6"
      },
      "execution_count": null,
      "outputs": []
    },
    {
      "cell_type": "markdown",
      "source": [
        "# 2"
      ],
      "metadata": {
        "id": "EnMkrzFBwEz3"
      }
    },
    {
      "cell_type": "code",
      "source": [
        "SELECT to_char((DATE_TRUNC('month', CAST(a.dt AS timestamp without time zone)) + interval '1 month' - interval '1 day'), 'DD.MM.YYYY') AS month_end_dt,\n",
        "       b.amt AS company_sales_amt,\n",
        "       a.store_id AS store_nm,\n",
        "       a.amt1 AS store_sales_amt,\n",
        "       a.amt1/b.amt AS stores_sales_share     \n",
        "       \n",
        "FROM (SELECT store_id,\n",
        "             SUM(amt) as amt1, \n",
        "             EXTRACT(month FROM CAST(dt AS date)) as month,\n",
        "             EXTRACT(year FROM CAST(dt AS date)) as year,\n",
        "             dt\n",
        "      FROM sales\n",
        "      GROUP by store_id, EXTRACT(month FROM CAST(dt AS date)), EXTRACT(year FROM CAST(dt AS date)), dt\n",
        "      ORDER BY store_id, EXTRACT(year FROM CAST(dt AS date)), EXTRACT(month FROM CAST(dt AS date))) AS a\n",
        "      LEFT OUTER JOIN (SELECT EXTRACT(month FROM CAST(dt AS date)) AS month,\n",
        "                              SUM(amt) AS amt\n",
        "                       FROM sales\n",
        "                       GROUP BY  EXTRACT(month FROM CAST(dt AS date))\n",
        "                       ORDER BY  EXTRACT(month FROM CAST(dt AS date))) AS b ON a.month=b.month\n",
        "ORDER BY a.year, a.month"
      ],
      "metadata": {
        "id": "jAzeeUx0wDVb"
      },
      "execution_count": null,
      "outputs": []
    }
  ]
}