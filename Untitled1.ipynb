{
  "nbformat": 4,
  "nbformat_minor": 0,
  "metadata": {
    "colab": {
      "provenance": [],
      "authorship_tag": "ABX9TyMAYIb5jt29ldfIJlDW9vvh",
      "include_colab_link": true
    },
    "kernelspec": {
      "name": "python3",
      "display_name": "Python 3"
    },
    "language_info": {
      "name": "python"
    }
  },
  "cells": [
    {
      "cell_type": "markdown",
      "metadata": {
        "id": "view-in-github",
        "colab_type": "text"
      },
      "source": [
        "<a href=\"https://colab.research.google.com/github/serikkk84/practicum/blob/main/Untitled1.ipynb\" target=\"_parent\"><img src=\"https://colab.research.google.com/assets/colab-badge.svg\" alt=\"Open In Colab\"/></a>"
      ]
    },
    {
      "cell_type": "code",
      "source": [
        "!pip install pyspark\n"
      ],
      "metadata": {
        "colab": {
          "base_uri": "https://localhost:8080/"
        },
        "id": "6x499AOnLRTh",
        "outputId": "89ce7851-4c50-4650-b3ba-436dea485417"
      },
      "execution_count": 53,
      "outputs": [
        {
          "output_type": "stream",
          "name": "stdout",
          "text": [
            "Looking in indexes: https://pypi.org/simple, https://us-python.pkg.dev/colab-wheels/public/simple/\n",
            "Requirement already satisfied: pyspark in /usr/local/lib/python3.9/dist-packages (3.3.2)\n",
            "Requirement already satisfied: py4j==0.10.9.5 in /usr/local/lib/python3.9/dist-packages (from pyspark) (0.10.9.5)\n"
          ]
        }
      ]
    },
    {
      "cell_type": "code",
      "execution_count": 54,
      "metadata": {
        "id": "TWZ7LcOsH7xN"
      },
      "outputs": [],
      "source": [
        "import pandas as pd\n",
        "from pyspark.sql import SparkSession\n",
        "\n",
        "\n",
        "import numpy as np\n"
      ]
    },
    {
      "cell_type": "code",
      "source": [
        "APP_NAME = \"DataFrames\"\n",
        "SPARK_URL = \"local[*]\"\n",
        "\n",
        "spark = SparkSession.builder.appName(APP_NAME) \\\n",
        "        .config('spark.ui.showConsoleProgress', 'false') \\\n",
        "        .getOrCreate()\n",
        "\n",
        "taxi = spark.read.load('/datasets/pickups_terminal_5.csv', \n",
        "                       format='csv', header='true', inferSchema='true')\n",
        "\n",
        "taxi = taxi.fillna(0)\n",
        "\n",
        "taxi.registerTempTable(\"taxi\")\n",
        "\n",
        "print(spark.sql(\"SELECT * FROM taxi ORDER BY pickups DESC\").show(5))\n",
        "# < напишите код здесь >"
      ],
      "metadata": {
        "id": "ovTQpVkZaP4k"
      },
      "execution_count": null,
      "outputs": []
    }
  ]
}