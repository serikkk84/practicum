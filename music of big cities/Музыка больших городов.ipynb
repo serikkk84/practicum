{
  "cells": [
    {
      "cell_type": "markdown",
      "metadata": {
        "id": "E0vqbgi9ay0H"
      },
      "source": [
        "# Яндекс.Музыка"
      ]
    },
    {
      "cell_type": "markdown",
      "metadata": {
        "id": "VUC88oWjTJw2"
      },
      "source": [
        "\n",
        "**Цель исследования** — проверить три гипотезы:\n",
        "1. Активность пользователей зависит от дня недели. Причём в Москве и Петербурге это проявляется по-разному.\n",
        "2. В понедельник утром в Москве преобладают одни жанры, а в Петербурге — другие. Так же и вечером пятницы преобладают разные жанры — в зависимости от города. \n",
        "3. Москва и Петербург предпочитают разные жанры музыки. В Москве чаще слушают поп-музыку, в Петербурге — русский рэп.\n",
        "\n",
        "**Ход исследования**\n",
        "\n",
        "Данные о поведении пользователей мы получили из файла `yandex_music_project.csv`. О качестве данных ничего не известно. Поэтому перед проверкой гипотез понадобится обзор данных. \n",
        "\n",
        "Мы проверите данные на ошибки и оценим их влияние на исследование. Затем, на этапе предобработки мы отыщем возможность исправить самые критичные ошибки данных.\n",
        " \n",
        "Таким образом, исследование пройдёт в три этапа:\n",
        " 1. Обзор данных.\n",
        " 2. Предобработка данных.\n",
        " 3. Проверка гипотез.\n",
        "\n"
      ]
    },
    {
      "cell_type": "markdown",
      "metadata": {
        "id": "57eAOGIz_Zcs"
      },
      "source": [
        "Загрузим библиотеки\n"
      ]
    },
    {
      "cell_type": "code",
      "execution_count": null,
      "metadata": {
        "id": "AXN7PHPN_Zcs"
      },
      "outputs": [],
      "source": [
        "import pandas as pd "
      ]
    },
    {
      "cell_type": "markdown",
      "metadata": {
        "id": "SG23P8tt_Zcs"
      },
      "source": [
        "Прочитаем файл и сохраним его в переменной"
      ]
    },
    {
      "cell_type": "code",
      "execution_count": null,
      "metadata": {
        "id": "fFVu7vqh_Zct"
      },
      "outputs": [],
      "source": [
        "df = pd.read_csv('/datasets/yandex_music_project.csv') "
      ]
    },
    {
      "cell_type": "markdown",
      "metadata": {
        "id": "rDoOMd3uTqnZ"
      },
      "source": [
        "Выведем на экран первые десять строк таблицы:"
      ]
    },
    {
      "cell_type": "code",
      "execution_count": null,
      "metadata": {
        "id": "oWTVX3gW_Zct",
        "outputId": "fb7f41e7-6159-4001-c6e4-a84bd21ce59f"
      },
      "outputs": [
        {
          "data": {
            "text/html": [
              "<div>\n",
              "<style scoped>\n",
              "    .dataframe tbody tr th:only-of-type {\n",
              "        vertical-align: middle;\n",
              "    }\n",
              "\n",
              "    .dataframe tbody tr th {\n",
              "        vertical-align: top;\n",
              "    }\n",
              "\n",
              "    .dataframe thead th {\n",
              "        text-align: right;\n",
              "    }\n",
              "</style>\n",
              "<table border=\"1\" class=\"dataframe\">\n",
              "  <thead>\n",
              "    <tr style=\"text-align: right;\">\n",
              "      <th></th>\n",
              "      <th>userID</th>\n",
              "      <th>Track</th>\n",
              "      <th>artist</th>\n",
              "      <th>genre</th>\n",
              "      <th>City</th>\n",
              "      <th>time</th>\n",
              "      <th>Day</th>\n",
              "    </tr>\n",
              "  </thead>\n",
              "  <tbody>\n",
              "    <tr>\n",
              "      <th>0</th>\n",
              "      <td>FFB692EC</td>\n",
              "      <td>Kamigata To Boots</td>\n",
              "      <td>The Mass Missile</td>\n",
              "      <td>rock</td>\n",
              "      <td>Saint-Petersburg</td>\n",
              "      <td>20:28:33</td>\n",
              "      <td>Wednesday</td>\n",
              "    </tr>\n",
              "    <tr>\n",
              "      <th>1</th>\n",
              "      <td>55204538</td>\n",
              "      <td>Delayed Because of Accident</td>\n",
              "      <td>Andreas Rönnberg</td>\n",
              "      <td>rock</td>\n",
              "      <td>Moscow</td>\n",
              "      <td>14:07:09</td>\n",
              "      <td>Friday</td>\n",
              "    </tr>\n",
              "    <tr>\n",
              "      <th>2</th>\n",
              "      <td>20EC38</td>\n",
              "      <td>Funiculì funiculà</td>\n",
              "      <td>Mario Lanza</td>\n",
              "      <td>pop</td>\n",
              "      <td>Saint-Petersburg</td>\n",
              "      <td>20:58:07</td>\n",
              "      <td>Wednesday</td>\n",
              "    </tr>\n",
              "    <tr>\n",
              "      <th>3</th>\n",
              "      <td>A3DD03C9</td>\n",
              "      <td>Dragons in the Sunset</td>\n",
              "      <td>Fire + Ice</td>\n",
              "      <td>folk</td>\n",
              "      <td>Saint-Petersburg</td>\n",
              "      <td>08:37:09</td>\n",
              "      <td>Monday</td>\n",
              "    </tr>\n",
              "    <tr>\n",
              "      <th>4</th>\n",
              "      <td>E2DC1FAE</td>\n",
              "      <td>Soul People</td>\n",
              "      <td>Space Echo</td>\n",
              "      <td>dance</td>\n",
              "      <td>Moscow</td>\n",
              "      <td>08:34:34</td>\n",
              "      <td>Monday</td>\n",
              "    </tr>\n",
              "    <tr>\n",
              "      <th>5</th>\n",
              "      <td>842029A1</td>\n",
              "      <td>Преданная</td>\n",
              "      <td>IMPERVTOR</td>\n",
              "      <td>rusrap</td>\n",
              "      <td>Saint-Petersburg</td>\n",
              "      <td>13:09:41</td>\n",
              "      <td>Friday</td>\n",
              "    </tr>\n",
              "    <tr>\n",
              "      <th>6</th>\n",
              "      <td>4CB90AA5</td>\n",
              "      <td>True</td>\n",
              "      <td>Roman Messer</td>\n",
              "      <td>dance</td>\n",
              "      <td>Moscow</td>\n",
              "      <td>13:00:07</td>\n",
              "      <td>Wednesday</td>\n",
              "    </tr>\n",
              "    <tr>\n",
              "      <th>7</th>\n",
              "      <td>F03E1C1F</td>\n",
              "      <td>Feeling This Way</td>\n",
              "      <td>Polina Griffith</td>\n",
              "      <td>dance</td>\n",
              "      <td>Moscow</td>\n",
              "      <td>20:47:49</td>\n",
              "      <td>Wednesday</td>\n",
              "    </tr>\n",
              "    <tr>\n",
              "      <th>8</th>\n",
              "      <td>8FA1D3BE</td>\n",
              "      <td>И вновь продолжается бой</td>\n",
              "      <td>NaN</td>\n",
              "      <td>ruspop</td>\n",
              "      <td>Moscow</td>\n",
              "      <td>09:17:40</td>\n",
              "      <td>Friday</td>\n",
              "    </tr>\n",
              "    <tr>\n",
              "      <th>9</th>\n",
              "      <td>E772D5C0</td>\n",
              "      <td>Pessimist</td>\n",
              "      <td>NaN</td>\n",
              "      <td>dance</td>\n",
              "      <td>Saint-Petersburg</td>\n",
              "      <td>21:20:49</td>\n",
              "      <td>Wednesday</td>\n",
              "    </tr>\n",
              "  </tbody>\n",
              "</table>\n",
              "</div>"
            ],
            "text/plain": [
              "     userID                        Track            artist   genre  \\\n",
              "0  FFB692EC            Kamigata To Boots  The Mass Missile    rock   \n",
              "1  55204538  Delayed Because of Accident  Andreas Rönnberg    rock   \n",
              "2    20EC38            Funiculì funiculà       Mario Lanza     pop   \n",
              "3  A3DD03C9        Dragons in the Sunset        Fire + Ice    folk   \n",
              "4  E2DC1FAE                  Soul People        Space Echo   dance   \n",
              "5  842029A1                    Преданная         IMPERVTOR  rusrap   \n",
              "6  4CB90AA5                         True      Roman Messer   dance   \n",
              "7  F03E1C1F             Feeling This Way   Polina Griffith   dance   \n",
              "8  8FA1D3BE     И вновь продолжается бой               NaN  ruspop   \n",
              "9  E772D5C0                    Pessimist               NaN   dance   \n",
              "\n",
              "             City        time        Day  \n",
              "0  Saint-Petersburg  20:28:33  Wednesday  \n",
              "1            Moscow  14:07:09     Friday  \n",
              "2  Saint-Petersburg  20:58:07  Wednesday  \n",
              "3  Saint-Petersburg  08:37:09     Monday  \n",
              "4            Moscow  08:34:34     Monday  \n",
              "5  Saint-Petersburg  13:09:41     Friday  \n",
              "6            Moscow  13:00:07  Wednesday  \n",
              "7            Moscow  20:47:49  Wednesday  \n",
              "8            Moscow  09:17:40     Friday  \n",
              "9  Saint-Petersburg  21:20:49  Wednesday  "
            ]
          },
          "metadata": {},
          "output_type": "display_data"
        }
      ],
      "source": [
        "display(df.head(10))# получение первых 10 строк таблицы df"
      ]
    },
    {
      "cell_type": "markdown",
      "metadata": {
        "id": "EO73Kwic_Zct"
      },
      "source": [
        "Просмотрим общую информацию о таблице:"
      ]
    },
    {
      "cell_type": "code",
      "execution_count": null,
      "metadata": {
        "id": "DSf2kIb-_Zct",
        "outputId": "b35d08e3-28ec-4594-fd33-2811873f8d84"
      },
      "outputs": [
        {
          "name": "stdout",
          "output_type": "stream",
          "text": [
            "<class 'pandas.core.frame.DataFrame'>\n",
            "RangeIndex: 65079 entries, 0 to 65078\n",
            "Data columns (total 7 columns):\n",
            " #   Column    Non-Null Count  Dtype \n",
            "---  ------    --------------  ----- \n",
            " 0     userID  65079 non-null  object\n",
            " 1   Track     63848 non-null  object\n",
            " 2   artist    57876 non-null  object\n",
            " 3   genre     63881 non-null  object\n",
            " 4     City    65079 non-null  object\n",
            " 5   time      65079 non-null  object\n",
            " 6   Day       65079 non-null  object\n",
            "dtypes: object(7)\n",
            "memory usage: 3.5+ MB\n"
          ]
        }
      ],
      "source": [
        "df.info() # получение общей информации о данных в таблице df"
      ]
    },
    {
      "cell_type": "markdown",
      "metadata": {
        "id": "TaQ2Iwbr_Zct"
      },
      "source": [
        "Итак, в таблице семь столбцов. Тип данных во всех столбцах — `object`.\n",
        "\n",
        "Согласно документации к данным:\n",
        "* `userID` — идентификатор пользователя;\n",
        "* `Track` — название трека;  \n",
        "* `artist` — имя исполнителя;\n",
        "* `genre` — название жанра;\n",
        "* `City` — город пользователя;\n",
        "* `time` — время начала прослушивания;\n",
        "* `Day` — день недели.\n",
        "\n",
        "В названиях колонок видны три нарушения стиля:\n",
        "1. Строчные буквы сочетаются с прописными.\n",
        "2. Встречаются пробелы.\n",
        "\n",
        "\n",
        "Количество значений в столбцах различается. Значит, в данных есть пропущенные значения.\n"
      ]
    },
    {
      "cell_type": "markdown",
      "metadata": {
        "id": "MCB6-dXG_Zct"
      },
      "source": [
        "**Выводы**\n",
        "\n",
        "В каждой строке таблицы — данные о прослушанном треке. Часть колонок описывает саму композицию: название, исполнителя и жанр. Остальные данные рассказывают о пользователе: из какого он города, когда он слушал музыку. \n",
        "\n",
        "Предварительно можно утверждать, что, данных достаточно для проверки гипотез. Но встречаются пропуски в данных, а в названиях колонок — расхождения с хорошим стилем.\n",
        "\n",
        "Чтобы двигаться дальше, нужно устранить проблемы в данных."
      ]
    },
    {
      "cell_type": "markdown",
      "metadata": {
        "id": "SjYF6Ub9_Zct"
      },
      "source": [
        "## Предобработка данных\n",
        "Исправим стиль в заголовках столбцов, исключим пропуски. Затем проверим данные на дубликаты."
      ]
    },
    {
      "cell_type": "markdown",
      "metadata": {
        "id": "dIaKXr29_Zct"
      },
      "source": [
        "### Стиль заголовков\n",
        "Выведем на экран названия столбцов:"
      ]
    },
    {
      "cell_type": "code",
      "execution_count": null,
      "metadata": {
        "id": "oKOTdF_Q_Zct",
        "outputId": "0fd30b6e-24e9-42f6-9c68-4c47479589d6"
      },
      "outputs": [
        {
          "name": "stdout",
          "output_type": "stream",
          "text": [
            "Index(['  userID', 'Track', 'artist', 'genre', '  City  ', 'time', 'Day'], dtype='object')\n"
          ]
        }
      ],
      "source": [
        "print(df.columns) # перечень названий столбцов таблицы df"
      ]
    },
    {
      "cell_type": "markdown",
      "metadata": {
        "id": "zj5534cv_Zct"
      },
      "source": [
        "Приведем названия в соответствие с хорошим стилем:\n",
        "* несколько слов в названии запишем в «змеином_регистре»,\n",
        "* все символы сделаем строчными,\n",
        "* устраним пробелы.\n",
        "\n",
        "Для этого переименуем колонки так:\n",
        "* `'  userID'` → `'user_id'`;\n",
        "* `'Track'` → `'track'`;\n",
        "* `'  City  '` → `'city'`;\n",
        "* `'Day'` → `'day'`."
      ]
    },
    {
      "cell_type": "code",
      "execution_count": null,
      "metadata": {
        "id": "ISlFqs5y_Zct"
      },
      "outputs": [],
      "source": [
        "df = df.rename(columns={'  userID' : 'user_id', 'Track' : 'track', '  City  ' : 'city', 'Day' : 'day'}) # переименование столбцов"
      ]
    },
    {
      "cell_type": "markdown",
      "metadata": {
        "id": "1dqbh00J_Zct"
      },
      "source": [
        "Проверим результат. "
      ]
    },
    {
      "cell_type": "code",
      "execution_count": null,
      "metadata": {
        "id": "d4NOAmTW_Zct",
        "outputId": "344e8264-db7a-4dd0-9b2f-dbcccb949539"
      },
      "outputs": [
        {
          "name": "stdout",
          "output_type": "stream",
          "text": [
            "Index(['user_id', 'track', 'artist', 'genre', 'city', 'time', 'day'], dtype='object')\n"
          ]
        }
      ],
      "source": [
        "print(df.columns)# проверка результатов - перечень названий столбцов"
      ]
    },
    {
      "cell_type": "markdown",
      "metadata": {
        "id": "5ISfbcfY_Zct"
      },
      "source": [
        "### Пропуски значений\n",
        "Сначала посчитаем, сколько в таблице пропущенных значений. "
      ]
    },
    {
      "cell_type": "code",
      "execution_count": null,
      "metadata": {
        "id": "RskX29qr_Zct",
        "outputId": "83983d0e-500a-4d1c-d919-8ec2523608a2"
      },
      "outputs": [
        {
          "name": "stdout",
          "output_type": "stream",
          "text": [
            "user_id       0\n",
            "track      1231\n",
            "artist     7203\n",
            "genre      1198\n",
            "city          0\n",
            "time          0\n",
            "day           0\n",
            "dtype: int64\n"
          ]
        }
      ],
      "source": [
        "print(df.isna().sum())# подсчёт пропусков"
      ]
    },
    {
      "cell_type": "markdown",
      "metadata": {
        "id": "qubhgnlO_Zct"
      },
      "source": [
        "Не все пропущенные значения влияют на исследование. Так в `track` и `artist` пропуски не важны для  работы. Достаточно заменить их явными обозначениями.\n",
        "\n",
        "Но пропуски в `genre` могут помешать сравнению музыкальных вкусов в Москве и Санкт-Петербурге. На практике было бы правильно установить причину пропусков и восстановить данные. К сожалению такой возможности нет. \n",
        "\n",
        "Придётся:\n",
        "* заполнить и эти пропуски явными обозначениями,\n",
        "* оценить, насколько они повредят расчётам. "
      ]
    },
    {
      "cell_type": "markdown",
      "metadata": {
        "id": "fSv2laPA_Zct"
      },
      "source": [
        "Заменим пропущенные значения в столбцах `track`, `artist` и `genre` на строку `'unknown'`. Для этого создадим список `columns_to_replace`, переберем его элементы циклом `for` и для каждого столбца выполним замену пропущенных значений:"
      ]
    },
    {
      "cell_type": "code",
      "execution_count": null,
      "metadata": {
        "id": "KplB5qWs_Zct"
      },
      "outputs": [],
      "source": [
        "columns_to_replace = ['track', 'artist', 'genre'] # перебор названий столбцов в цикле и замена пропущенных значений на 'unknown'\n",
        "for column in columns_to_replace:\n",
        "    df[column] = df[column].fillna('unknown')\n",
        "\n"
      ]
    },
    {
      "cell_type": "markdown",
      "metadata": {
        "id": "Ilsm-MZo_Zct"
      },
      "source": [
        "Убедимся, что в таблице не осталось пропусков. Для этого ещё раз посчитаем пропущенные значения."
      ]
    },
    {
      "cell_type": "code",
      "execution_count": null,
      "metadata": {
        "id": "Tq4nYRX4_Zct",
        "outputId": "84f1070c-461f-45c7-ba64-e0a3ec9d9f0a"
      },
      "outputs": [
        {
          "name": "stdout",
          "output_type": "stream",
          "text": [
            "user_id    0\n",
            "track      0\n",
            "artist     0\n",
            "genre      0\n",
            "city       0\n",
            "time       0\n",
            "day        0\n",
            "dtype: int64\n"
          ]
        }
      ],
      "source": [
        "print(df.isna().sum())# подсчёт пропусков"
      ]
    },
    {
      "cell_type": "markdown",
      "metadata": {
        "id": "BWKRtBJ3_Zct"
      },
      "source": [
        "### Дубликаты\n",
        "Посчитаем явные дубликаты в таблице одной командой:"
      ]
    },
    {
      "cell_type": "code",
      "execution_count": null,
      "metadata": {
        "id": "36eES_S0_Zct",
        "outputId": "8cd521d2-3857-4484-b680-3d224feb2da2"
      },
      "outputs": [
        {
          "name": "stdout",
          "output_type": "stream",
          "text": [
            "3826\n"
          ]
        }
      ],
      "source": [
        "print(df.duplicated().sum())# подсчёт явных дубликатов"
      ]
    },
    {
      "cell_type": "markdown",
      "metadata": {
        "id": "Ot25h6XR_Zct"
      },
      "source": [
        "Вызовем специальный метод `pandas`, чтобы удалить явные дубликаты:"
      ]
    },
    {
      "cell_type": "code",
      "execution_count": null,
      "metadata": {
        "id": "exFHq6tt_Zct"
      },
      "outputs": [],
      "source": [
        "df = df.drop_duplicates().reset_index(drop=True) # удаление явных дубликатов (с удалением старых индексов и формированием новых)\n"
      ]
    },
    {
      "cell_type": "markdown",
      "metadata": {
        "id": "Im2YwBEG_Zct"
      },
      "source": [
        "\n",
        "\n",
        "Ещё раз посчитаем явные дубликаты в таблице"
      ]
    },
    {
      "cell_type": "code",
      "execution_count": null,
      "metadata": {
        "id": "-8PuNWQ0_Zct",
        "outputId": "3051e714-555f-4b60-eccd-199c48b4ceba"
      },
      "outputs": [
        {
          "name": "stdout",
          "output_type": "stream",
          "text": [
            "0\n"
          ]
        }
      ],
      "source": [
        "print(df.duplicated().sum())# проверка на отсутствие дубликатов"
      ]
    },
    {
      "cell_type": "markdown",
      "metadata": {
        "id": "QlFBsxAr_Zct"
      },
      "source": [
        "Теперь избавимся от неявных дубликатов в колонке `genre`. "
      ]
    },
    {
      "cell_type": "markdown",
      "metadata": {
        "id": "eSjWwsOh_Zct"
      },
      "source": [
        "Выведем на экран список уникальных названий жанров, отсортированный в алфавитном порядке. "
      ]
    },
    {
      "cell_type": "code",
      "execution_count": null,
      "metadata": {
        "id": "JIUcqzZN_Zct",
        "outputId": "3284c64f-2daf-41f6-8e02-8738d93a5de3"
      },
      "outputs": [
        {
          "name": "stdout",
          "output_type": "stream",
          "text": [
            "['rock' 'pop' 'folk' 'dance' 'rusrap' 'ruspop' 'world' 'electronic'\n",
            " 'unknown' 'alternative' 'children' 'rnb' 'hip' 'jazz' 'postrock' 'latin'\n",
            " 'classical' 'metal' 'reggae' 'tatar' 'blues' 'instrumental' 'rusrock'\n",
            " 'dnb' 'türk' 'post' 'country' 'psychedelic' 'conjazz' 'indie'\n",
            " 'posthardcore' 'local' 'avantgarde' 'punk' 'videogame' 'techno' 'house'\n",
            " 'christmas' 'melodic' 'caucasian' 'reggaeton' 'soundtrack' 'singer' 'ska'\n",
            " 'shanson' 'ambient' 'film' 'western' 'rap' 'beats' \"hard'n'heavy\"\n",
            " 'progmetal' 'minimal' 'contemporary' 'new' 'soul' 'holiday' 'german'\n",
            " 'tropical' 'fairytail' 'spiritual' 'urban' 'gospel' 'nujazz' 'folkmetal'\n",
            " 'trance' 'miscellaneous' 'anime' 'hardcore' 'progressive' 'chanson'\n",
            " 'numetal' 'vocal' 'estrada' 'russian' 'classicmetal' 'dubstep' 'club'\n",
            " 'deep' 'southern' 'black' 'folkrock' 'fitness' 'french' 'disco'\n",
            " 'religious' 'hiphop' 'drum' 'extrememetal' 'türkçe' 'experimental' 'easy'\n",
            " 'metalcore' 'modern' 'argentinetango' 'old' 'breaks' 'eurofolk'\n",
            " 'stonerrock' 'industrial' 'funk' 'jpop' 'middle' 'variété' 'other'\n",
            " 'adult' 'christian' 'gothic' 'international' 'muslim' 'relax' 'schlager'\n",
            " 'caribbean' 'ukrrock' 'nu' 'breakbeat' 'comedy' 'chill' 'newage'\n",
            " 'specialty' 'uzbek' 'k-pop' 'balkan' 'chinese' 'meditative' 'dub' 'power'\n",
            " 'death' 'grime' 'arabesk' 'romance' 'flamenco' 'leftfield' 'european'\n",
            " 'tech' 'newwave' 'dancehall' 'mpb' 'piano' 'top' 'bigroom' 'opera'\n",
            " 'celtic' 'tradjazz' 'acoustic' 'epicmetal' 'hip-hop' 'historisch'\n",
            " 'downbeat' 'downtempo' 'africa' 'audiobook' 'jewish' 'sängerportrait'\n",
            " 'deutschrock' 'eastern' 'action' 'future' 'electropop' 'folklore'\n",
            " 'bollywood' 'marschmusik' 'rnr' 'karaoke' 'indian' 'rancheras'\n",
            " 'электроника' 'afrikaans' 'tango' 'rhythm' 'sound' 'deutschspr' 'trip'\n",
            " 'lovers' 'choral' 'dancepop' 'podcasts' 'retro' 'smooth' 'mexican'\n",
            " 'brazilian' 'ïîï' 'mood' 'surf' 'author' 'gangsta' 'triphop'\n",
            " 'inspirational' 'idm' 'ethnic' 'bluegrass' 'broadway' 'animated'\n",
            " 'americana' 'karadeniz' 'rockabilly' 'colombian' 'self' 'hop' 'synthrock'\n",
            " 'sertanejo' 'japanese' 'canzone' 'swing' 'lounge' 'sport' 'korean'\n",
            " 'ragga' 'traditional' 'gitarre' 'frankreich' 'alternativepunk' 'emo'\n",
            " 'laiko' 'cantopop' 'glitch' 'documentary' 'rockalternative' 'thrash'\n",
            " 'hymn' 'oceania' 'rockother' 'popeurodance' 'dark' 'vi' 'grunge'\n",
            " 'hardstyle' 'samba' 'garage' 'soft' 'art' 'folktronica' 'entehno'\n",
            " 'mediterranean' 'chamber' 'cuban' 'taraftar' 'rockindie' 'gypsy'\n",
            " 'hardtechno' 'shoegazing' 'skarock' 'bossa' 'salsa' 'latino' 'worldbeat'\n",
            " 'malaysian' 'baile' 'ghazal' 'loungeelectronic' 'arabic' 'popelectronic'\n",
            " 'acid' 'kayokyoku' 'neoklassik' 'tribal' 'tanzorchester' 'native'\n",
            " 'independent' 'cantautori' 'handsup' 'poprussian' 'punjabi' 'synthpop'\n",
            " 'rave' 'französisch' 'quebecois' 'speech' 'soulful' 'teen' 'jam' 'ram'\n",
            " 'horror' 'scenic' 'orchestral' 'neue' 'roots' 'slow' 'jungle' 'indipop'\n",
            " 'axé' 'fado' 'showtunes' 'arena' 'irish' 'mandopop' 'forró' 'popdance'\n",
            " 'dirty' 'regional']\n"
          ]
        }
      ],
      "source": [
        "print(df['genre'].unique()) # Просмотр уникальных названий жанров"
      ]
    },
    {
      "cell_type": "markdown",
      "source": [
        "В списке жанров выявлены следующие неявные дубликаты: \n",
        "*   hip\n",
        "*   hop\n",
        "*   hip-hop"
      ],
      "metadata": {
        "id": "lEw51_DGRR3h"
      }
    },
    {
      "cell_type": "markdown",
      "metadata": {
        "id": "qej-Qmuo_Zct"
      },
      "source": [
        "\n",
        "Чтобы очистить таблицу от неявных дубликатов, напишем функцию `replace_wrong_genres()` с двумя параметрами: \n",
        "* `wrong_genres` — список дубликатов,\n",
        "* `correct_genre` — строка с правильным значением.\n",
        "\n",
        "Функция должна исправить колонку `genre` в таблице `df`: заменить каждое значение из списка `wrong_genres` на значение из `correct_genre`."
      ]
    },
    {
      "cell_type": "code",
      "execution_count": null,
      "metadata": {
        "id": "ErNDkmns_Zct"
      },
      "outputs": [],
      "source": [
        "def replace_wrong_genres(wrong_genres, correct_genre): # Функция для замены неявных дубликатов\n",
        "    for wrong_genre in wrong_genres:\n",
        "        df['genre'] = df['genre'].replace(wrong_genre, correct_genre)\n",
        "        \n"
      ]
    },
    {
      "cell_type": "code",
      "execution_count": null,
      "metadata": {
        "id": "YN5i2hpmSo09"
      },
      "outputs": [],
      "source": [
        "wrong_genres = ['hip', 'hop', 'hip-hop'] # Устранение неявных дубликатов\n",
        "correct_genre = 'hiphop'\n",
        "replace_wrong_genres(wrong_genres, correct_genre)"
      ]
    },
    {
      "cell_type": "markdown",
      "metadata": {
        "id": "zQKF16_RG15m"
      },
      "source": [
        "Проверим, что заменили неправильные названия"
      ]
    },
    {
      "cell_type": "code",
      "execution_count": null,
      "metadata": {
        "id": "wvixALnFG15m",
        "outputId": "8004eb22-d485-4400-bd08-71262ae545c7"
      },
      "outputs": [
        {
          "name": "stdout",
          "output_type": "stream",
          "text": [
            "['rock' 'pop' 'folk' 'dance' 'rusrap' 'ruspop' 'world' 'electronic'\n",
            " 'unknown' 'alternative' 'children' 'rnb' 'hiphop' 'jazz' 'postrock'\n",
            " 'latin' 'classical' 'metal' 'reggae' 'tatar' 'blues' 'instrumental'\n",
            " 'rusrock' 'dnb' 'türk' 'post' 'country' 'psychedelic' 'conjazz' 'indie'\n",
            " 'posthardcore' 'local' 'avantgarde' 'punk' 'videogame' 'techno' 'house'\n",
            " 'christmas' 'melodic' 'caucasian' 'reggaeton' 'soundtrack' 'singer' 'ska'\n",
            " 'shanson' 'ambient' 'film' 'western' 'rap' 'beats' \"hard'n'heavy\"\n",
            " 'progmetal' 'minimal' 'contemporary' 'new' 'soul' 'holiday' 'german'\n",
            " 'tropical' 'fairytail' 'spiritual' 'urban' 'gospel' 'nujazz' 'folkmetal'\n",
            " 'trance' 'miscellaneous' 'anime' 'hardcore' 'progressive' 'chanson'\n",
            " 'numetal' 'vocal' 'estrada' 'russian' 'classicmetal' 'dubstep' 'club'\n",
            " 'deep' 'southern' 'black' 'folkrock' 'fitness' 'french' 'disco'\n",
            " 'religious' 'drum' 'extrememetal' 'türkçe' 'experimental' 'easy'\n",
            " 'metalcore' 'modern' 'argentinetango' 'old' 'breaks' 'eurofolk'\n",
            " 'stonerrock' 'industrial' 'funk' 'jpop' 'middle' 'variété' 'other'\n",
            " 'adult' 'christian' 'gothic' 'international' 'muslim' 'relax' 'schlager'\n",
            " 'caribbean' 'ukrrock' 'nu' 'breakbeat' 'comedy' 'chill' 'newage'\n",
            " 'specialty' 'uzbek' 'k-pop' 'balkan' 'chinese' 'meditative' 'dub' 'power'\n",
            " 'death' 'grime' 'arabesk' 'romance' 'flamenco' 'leftfield' 'european'\n",
            " 'tech' 'newwave' 'dancehall' 'mpb' 'piano' 'top' 'bigroom' 'opera'\n",
            " 'celtic' 'tradjazz' 'acoustic' 'epicmetal' 'historisch' 'downbeat'\n",
            " 'downtempo' 'africa' 'audiobook' 'jewish' 'sängerportrait' 'deutschrock'\n",
            " 'eastern' 'action' 'future' 'electropop' 'folklore' 'bollywood'\n",
            " 'marschmusik' 'rnr' 'karaoke' 'indian' 'rancheras' 'электроника'\n",
            " 'afrikaans' 'tango' 'rhythm' 'sound' 'deutschspr' 'trip' 'lovers'\n",
            " 'choral' 'dancepop' 'podcasts' 'retro' 'smooth' 'mexican' 'brazilian'\n",
            " 'ïîï' 'mood' 'surf' 'author' 'gangsta' 'triphop' 'inspirational' 'idm'\n",
            " 'ethnic' 'bluegrass' 'broadway' 'animated' 'americana' 'karadeniz'\n",
            " 'rockabilly' 'colombian' 'self' 'synthrock' 'sertanejo' 'japanese'\n",
            " 'canzone' 'swing' 'lounge' 'sport' 'korean' 'ragga' 'traditional'\n",
            " 'gitarre' 'frankreich' 'alternativepunk' 'emo' 'laiko' 'cantopop'\n",
            " 'glitch' 'documentary' 'rockalternative' 'thrash' 'hymn' 'oceania'\n",
            " 'rockother' 'popeurodance' 'dark' 'vi' 'grunge' 'hardstyle' 'samba'\n",
            " 'garage' 'soft' 'art' 'folktronica' 'entehno' 'mediterranean' 'chamber'\n",
            " 'cuban' 'taraftar' 'rockindie' 'gypsy' 'hardtechno' 'shoegazing'\n",
            " 'skarock' 'bossa' 'salsa' 'latino' 'worldbeat' 'malaysian' 'baile'\n",
            " 'ghazal' 'loungeelectronic' 'arabic' 'popelectronic' 'acid' 'kayokyoku'\n",
            " 'neoklassik' 'tribal' 'tanzorchester' 'native' 'independent' 'cantautori'\n",
            " 'handsup' 'poprussian' 'punjabi' 'synthpop' 'rave' 'französisch'\n",
            " 'quebecois' 'speech' 'soulful' 'teen' 'jam' 'ram' 'horror' 'scenic'\n",
            " 'orchestral' 'neue' 'roots' 'slow' 'jungle' 'indipop' 'axé' 'fado'\n",
            " 'showtunes' 'arena' 'irish' 'mandopop' 'forró' 'popdance' 'dirty'\n",
            " 'regional']\n"
          ]
        }
      ],
      "source": [
        "print(df['genre'].unique())# Проверка на неявные дубликаты"
      ]
    },
    {
      "cell_type": "markdown",
      "metadata": {
        "id": "jz6a9-7HQUDd"
      },
      "source": [
        "**Выводы**\n",
        "\n",
        "Предобработка обнаружила три проблемы в данных:\n",
        "\n",
        "- нарушения в стиле заголовков,\n",
        "- пропущенные значения,\n",
        "- дубликаты — явные и неявные.\n",
        "\n",
        "\n",
        "Теперь можно перейти к проверке гипотез. "
      ]
    },
    {
      "cell_type": "markdown",
      "metadata": {
        "id": "WttZHXH0SqKk"
      },
      "source": [
        "## Проверка гипотез"
      ]
    },
    {
      "cell_type": "code",
      "execution_count": null,
      "metadata": {
        "id": "-zEg0yusKjoE",
        "outputId": "550d0c88-edbb-4234-f4e7-443254391400"
      },
      "outputs": [
        {
          "data": {
            "text/html": [
              "<div>\n",
              "<style scoped>\n",
              "    .dataframe tbody tr th:only-of-type {\n",
              "        vertical-align: middle;\n",
              "    }\n",
              "\n",
              "    .dataframe tbody tr th {\n",
              "        vertical-align: top;\n",
              "    }\n",
              "\n",
              "    .dataframe thead th {\n",
              "        text-align: right;\n",
              "    }\n",
              "</style>\n",
              "<table border=\"1\" class=\"dataframe\">\n",
              "  <thead>\n",
              "    <tr style=\"text-align: right;\">\n",
              "      <th></th>\n",
              "      <th>user_id</th>\n",
              "      <th>track</th>\n",
              "      <th>artist</th>\n",
              "      <th>genre</th>\n",
              "      <th>city</th>\n",
              "      <th>time</th>\n",
              "      <th>day</th>\n",
              "    </tr>\n",
              "  </thead>\n",
              "  <tbody>\n",
              "    <tr>\n",
              "      <th>0</th>\n",
              "      <td>FFB692EC</td>\n",
              "      <td>Kamigata To Boots</td>\n",
              "      <td>The Mass Missile</td>\n",
              "      <td>rock</td>\n",
              "      <td>Saint-Petersburg</td>\n",
              "      <td>20:28:33</td>\n",
              "      <td>Wednesday</td>\n",
              "    </tr>\n",
              "    <tr>\n",
              "      <th>1</th>\n",
              "      <td>55204538</td>\n",
              "      <td>Delayed Because of Accident</td>\n",
              "      <td>Andreas Rönnberg</td>\n",
              "      <td>rock</td>\n",
              "      <td>Moscow</td>\n",
              "      <td>14:07:09</td>\n",
              "      <td>Friday</td>\n",
              "    </tr>\n",
              "    <tr>\n",
              "      <th>2</th>\n",
              "      <td>20EC38</td>\n",
              "      <td>Funiculì funiculà</td>\n",
              "      <td>Mario Lanza</td>\n",
              "      <td>pop</td>\n",
              "      <td>Saint-Petersburg</td>\n",
              "      <td>20:58:07</td>\n",
              "      <td>Wednesday</td>\n",
              "    </tr>\n",
              "    <tr>\n",
              "      <th>3</th>\n",
              "      <td>A3DD03C9</td>\n",
              "      <td>Dragons in the Sunset</td>\n",
              "      <td>Fire + Ice</td>\n",
              "      <td>folk</td>\n",
              "      <td>Saint-Petersburg</td>\n",
              "      <td>08:37:09</td>\n",
              "      <td>Monday</td>\n",
              "    </tr>\n",
              "    <tr>\n",
              "      <th>4</th>\n",
              "      <td>E2DC1FAE</td>\n",
              "      <td>Soul People</td>\n",
              "      <td>Space Echo</td>\n",
              "      <td>dance</td>\n",
              "      <td>Moscow</td>\n",
              "      <td>08:34:34</td>\n",
              "      <td>Monday</td>\n",
              "    </tr>\n",
              "    <tr>\n",
              "      <th>...</th>\n",
              "      <td>...</td>\n",
              "      <td>...</td>\n",
              "      <td>...</td>\n",
              "      <td>...</td>\n",
              "      <td>...</td>\n",
              "      <td>...</td>\n",
              "      <td>...</td>\n",
              "    </tr>\n",
              "    <tr>\n",
              "      <th>61248</th>\n",
              "      <td>729CBB09</td>\n",
              "      <td>My Name</td>\n",
              "      <td>McLean</td>\n",
              "      <td>rnb</td>\n",
              "      <td>Moscow</td>\n",
              "      <td>13:32:28</td>\n",
              "      <td>Wednesday</td>\n",
              "    </tr>\n",
              "    <tr>\n",
              "      <th>61249</th>\n",
              "      <td>D08D4A55</td>\n",
              "      <td>Maybe One Day (feat. Black Spade)</td>\n",
              "      <td>Blu &amp; Exile</td>\n",
              "      <td>hiphop</td>\n",
              "      <td>Saint-Petersburg</td>\n",
              "      <td>10:00:00</td>\n",
              "      <td>Monday</td>\n",
              "    </tr>\n",
              "    <tr>\n",
              "      <th>61250</th>\n",
              "      <td>C5E3A0D5</td>\n",
              "      <td>Jalopiina</td>\n",
              "      <td>unknown</td>\n",
              "      <td>industrial</td>\n",
              "      <td>Moscow</td>\n",
              "      <td>20:09:26</td>\n",
              "      <td>Friday</td>\n",
              "    </tr>\n",
              "    <tr>\n",
              "      <th>61251</th>\n",
              "      <td>321D0506</td>\n",
              "      <td>Freight Train</td>\n",
              "      <td>Chas McDevitt</td>\n",
              "      <td>rock</td>\n",
              "      <td>Moscow</td>\n",
              "      <td>21:43:59</td>\n",
              "      <td>Friday</td>\n",
              "    </tr>\n",
              "    <tr>\n",
              "      <th>61252</th>\n",
              "      <td>3A64EF84</td>\n",
              "      <td>Tell Me Sweet Little Lies</td>\n",
              "      <td>Monica Lopez</td>\n",
              "      <td>country</td>\n",
              "      <td>Moscow</td>\n",
              "      <td>21:59:46</td>\n",
              "      <td>Friday</td>\n",
              "    </tr>\n",
              "  </tbody>\n",
              "</table>\n",
              "<p>61253 rows × 7 columns</p>\n",
              "</div>"
            ],
            "text/plain": [
              "        user_id                              track            artist  \\\n",
              "0      FFB692EC                  Kamigata To Boots  The Mass Missile   \n",
              "1      55204538        Delayed Because of Accident  Andreas Rönnberg   \n",
              "2        20EC38                  Funiculì funiculà       Mario Lanza   \n",
              "3      A3DD03C9              Dragons in the Sunset        Fire + Ice   \n",
              "4      E2DC1FAE                        Soul People        Space Echo   \n",
              "...         ...                                ...               ...   \n",
              "61248  729CBB09                            My Name            McLean   \n",
              "61249  D08D4A55  Maybe One Day (feat. Black Spade)       Blu & Exile   \n",
              "61250  C5E3A0D5                          Jalopiina           unknown   \n",
              "61251  321D0506                      Freight Train     Chas McDevitt   \n",
              "61252  3A64EF84          Tell Me Sweet Little Lies      Monica Lopez   \n",
              "\n",
              "            genre              city      time        day  \n",
              "0            rock  Saint-Petersburg  20:28:33  Wednesday  \n",
              "1            rock            Moscow  14:07:09     Friday  \n",
              "2             pop  Saint-Petersburg  20:58:07  Wednesday  \n",
              "3            folk  Saint-Petersburg  08:37:09     Monday  \n",
              "4           dance            Moscow  08:34:34     Monday  \n",
              "...           ...               ...       ...        ...  \n",
              "61248         rnb            Moscow  13:32:28  Wednesday  \n",
              "61249      hiphop  Saint-Petersburg  10:00:00     Monday  \n",
              "61250  industrial            Moscow  20:09:26     Friday  \n",
              "61251        rock            Moscow  21:43:59     Friday  \n",
              "61252     country            Moscow  21:59:46     Friday  \n",
              "\n",
              "[61253 rows x 7 columns]"
            ]
          },
          "metadata": {},
          "output_type": "display_data"
        }
      ],
      "source": [
        "display(df)"
      ]
    },
    {
      "cell_type": "markdown",
      "metadata": {
        "id": "Im936VVi_Zcu"
      },
      "source": [
        "### Сравнение поведения пользователей двух столиц"
      ]
    },
    {
      "cell_type": "markdown",
      "metadata": {
        "id": "nwt_MuaL_Zcu"
      },
      "source": [
        "Первая гипотеза утверждает, что пользователи по-разному слушают музыку в Москве и Санкт-Петербурге. Проверим это предположение по данным о трёх днях недели — понедельнике, среде и пятнице. Для этого:\n",
        "\n",
        "* Разделим пользователей Москвы и Санкт-Петербурга\n",
        "* Сравним, сколько треков послушала каждая группа пользователей в понедельник, среду и пятницу.\n"
      ]
    },
    {
      "cell_type": "markdown",
      "metadata": {
        "id": "8Dw_YMmT_Zcu"
      },
      "source": [
        "Сначала выполним каждый из расчётов по отдельности. \n",
        "\n"
      ]
    },
    {
      "cell_type": "code",
      "execution_count": null,
      "metadata": {
        "id": "0_Qs96oh_Zcu",
        "outputId": "c5a9e00e-961b-4adf-ecde-18eb79ac65a6"
      },
      "outputs": [
        {
          "data": {
            "text/plain": [
              "city\n",
              "Moscow              42741\n",
              "Saint-Petersburg    18512\n",
              "Name: user_id, dtype: int64"
            ]
          },
          "execution_count": 26,
          "metadata": {},
          "output_type": "execute_result"
        }
      ],
      "source": [
        "df.groupby('city')['user_id'].count() # Подсчёт прослушиваний в каждом городе\n"
      ]
    },
    {
      "cell_type": "markdown",
      "metadata": {
        "id": "dzli3w8o_Zcu"
      },
      "source": [
        "В Москве прослушиваний больше, чем в Петербурге. Из этого не следует, что московские пользователи чаще слушают музыку. Просто самих пользователей в Москве больше.\n",
        "\n",
        "Теперь сгруппируем данные по дню недели и подсчитаем прослушивания в понедельник, среду и пятницу. \n"
      ]
    },
    {
      "cell_type": "code",
      "execution_count": null,
      "metadata": {
        "id": "uZMKjiJz_Zcu",
        "outputId": "9f19892e-d525-4ce0-9dfa-2d4ce8d0441d"
      },
      "outputs": [
        {
          "data": {
            "text/plain": [
              "day\n",
              "Friday       21840\n",
              "Monday       21354\n",
              "Wednesday    18059\n",
              "Name: user_id, dtype: int64"
            ]
          },
          "execution_count": 27,
          "metadata": {},
          "output_type": "execute_result"
        }
      ],
      "source": [
        "df.groupby('day')['user_id'].count() \n",
        "#print('Прослушиваний в понедельник', count_monday)# Подсчёт прослушиваний в каждый из трёх дней\n",
        "\n",
        "#count_wednesday = df[df['day'] == 'Wednesday']['user_id'].count() \n",
        "#print('Прослушиваний в среду', count_wednesday)\n",
        "      \n",
        "#count_friday = df[df['day'] == 'Friday']['user_id'].count() \n",
        "#print('Прослушиваний в пятницу', count_friday)\n"
      ]
    },
    {
      "cell_type": "markdown",
      "metadata": {
        "id": "cC2tNrlL_Zcu"
      },
      "source": [
        "В среднем пользователи из двух городов менее активны по средам. Но картина может измениться, если рассмотреть каждый город в отдельности."
      ]
    },
    {
      "cell_type": "markdown",
      "metadata": {
        "id": "POzs8bGa_Zcu"
      },
      "source": [
        "\n",
        "\n",
        "Создадим функцию `number_tracks()`, которая посчитает прослушивания для заданного дня и города. Ей понадобятся два параметра:\n",
        "* день недели,\n",
        "* название города.\n",
        "\n",
        "В функции сохраним в переменную строки исходной таблицы, у которых значение:\n",
        "  * в колонке `day` равно параметру `day`,\n",
        "  * в колонке `city` равно параметру `city`.\n",
        "\n",
        "Для этого применим последовательную фильтрацию с логической индексацией.\n",
        "\n",
        "Затем посчитаем значения в столбце `user_id` получившейся таблицы. Результат сохраним в новую переменную. "
      ]
    },
    {
      "cell_type": "code",
      "execution_count": null,
      "metadata": {
        "id": "Nz3GdQB1_Zcu"
      },
      "outputs": [],
      "source": [
        "def number_tracks(day, city): \n",
        "    track_list = df[df['day']==day]  \n",
        "    track_list = track_list[track_list['city']==city]\n",
        "    track_list_count = track_list['user_id'].count() \n",
        "    return track_list_count\n"
      ]
    },
    {
      "cell_type": "markdown",
      "metadata": {
        "id": "ytf7xFrFJQ2r"
      },
      "source": [
        "Вызовем `number_tracks()` шесть раз, меняя значение параметров — так, чтобы получить данные для каждого города в каждый из трёх дней."
      ]
    },
    {
      "cell_type": "code",
      "execution_count": null,
      "metadata": {
        "id": "rJcRATNQ_Zcu",
        "outputId": "c33e4991-19e9-4246-bb26-8e39f09df7f4"
      },
      "outputs": [
        {
          "data": {
            "text/plain": [
              "15740"
            ]
          },
          "execution_count": 125,
          "metadata": {},
          "output_type": "execute_result"
        }
      ],
      "source": [
        "number_tracks('Monday', 'Moscow') # количество прослушиваний в Москве по понедельникам"
      ]
    },
    {
      "cell_type": "code",
      "execution_count": null,
      "metadata": {
        "id": "hq_ncZ5T_Zcu",
        "outputId": "4a85df4f-7933-489a-c787-1c4d1453182a"
      },
      "outputs": [
        {
          "data": {
            "text/plain": [
              "5614"
            ]
          },
          "execution_count": 126,
          "metadata": {},
          "output_type": "execute_result"
        }
      ],
      "source": [
        " number_tracks('Monday', 'Saint-Petersburg')# количество прослушиваний в Санкт-Петербурге по понедельникам"
      ]
    },
    {
      "cell_type": "code",
      "execution_count": null,
      "metadata": {
        "id": "_NTy2VPU_Zcu",
        "outputId": "cc266de4-4aec-40df-8913-3acd839d81db"
      },
      "outputs": [
        {
          "data": {
            "text/plain": [
              "11056"
            ]
          },
          "execution_count": 127,
          "metadata": {},
          "output_type": "execute_result"
        }
      ],
      "source": [
        "number_tracks('Wednesday', 'Moscow')# количество прослушиваний в Москве по средам"
      ]
    },
    {
      "cell_type": "code",
      "execution_count": null,
      "metadata": {
        "id": "j2y3TAwo_Zcu",
        "outputId": "f5c74291-2b60-45fc-a947-939bf9692c74"
      },
      "outputs": [
        {
          "data": {
            "text/plain": [
              "7003"
            ]
          },
          "execution_count": 128,
          "metadata": {},
          "output_type": "execute_result"
        }
      ],
      "source": [
        "number_tracks('Wednesday', 'Saint-Petersburg')# количество прослушиваний в Санкт-Петербурге по средам"
      ]
    },
    {
      "cell_type": "code",
      "execution_count": null,
      "metadata": {
        "id": "vYDw5u_K_Zcu",
        "outputId": "fc870674-a127-4c3c-9673-7f3fa15ffc32"
      },
      "outputs": [
        {
          "data": {
            "text/plain": [
              "15945"
            ]
          },
          "execution_count": 129,
          "metadata": {},
          "output_type": "execute_result"
        }
      ],
      "source": [
        "number_tracks('Friday', 'Moscow')# количество прослушиваний в Москве по пятницам"
      ]
    },
    {
      "cell_type": "code",
      "execution_count": null,
      "metadata": {
        "id": "8_yzFtW3_Zcu",
        "outputId": "e50dee0e-3186-4912-9443-95c09c8cd5f9"
      },
      "outputs": [
        {
          "data": {
            "text/plain": [
              "5895"
            ]
          },
          "execution_count": 130,
          "metadata": {},
          "output_type": "execute_result"
        }
      ],
      "source": [
        "number_tracks('Friday', 'Saint-Petersburg')# количество прослушиваний в Санкт-Петербурге по пятницам"
      ]
    },
    {
      "cell_type": "markdown",
      "metadata": {
        "id": "7QXffbO-_Zcu"
      },
      "source": [
        "Создадим c помощью конструктора `pd.DataFrame` таблицу, где\n",
        "* названия колонок — `['city', 'monday', 'wednesday', 'friday']`;\n",
        "* данные — результаты, которые мы получили с помощью `number_tracks`."
      ]
    },
    {
      "cell_type": "code",
      "execution_count": null,
      "metadata": {
        "id": "APAcLpOr_Zcu",
        "outputId": "217c1f27-0ea1-4ebe-ae3f-ad51ef35aed7"
      },
      "outputs": [
        {
          "data": {
            "text/html": [
              "<div>\n",
              "<style scoped>\n",
              "    .dataframe tbody tr th:only-of-type {\n",
              "        vertical-align: middle;\n",
              "    }\n",
              "\n",
              "    .dataframe tbody tr th {\n",
              "        vertical-align: top;\n",
              "    }\n",
              "\n",
              "    .dataframe thead th {\n",
              "        text-align: right;\n",
              "    }\n",
              "</style>\n",
              "<table border=\"1\" class=\"dataframe\">\n",
              "  <thead>\n",
              "    <tr style=\"text-align: right;\">\n",
              "      <th></th>\n",
              "      <th>city</th>\n",
              "      <th>monday</th>\n",
              "      <th>wednesday</th>\n",
              "      <th>friday</th>\n",
              "    </tr>\n",
              "  </thead>\n",
              "  <tbody>\n",
              "    <tr>\n",
              "      <th>0</th>\n",
              "      <td>Moscow</td>\n",
              "      <td>15740</td>\n",
              "      <td>11056</td>\n",
              "      <td>15945</td>\n",
              "    </tr>\n",
              "    <tr>\n",
              "      <th>1</th>\n",
              "      <td>Saint-Petersburg</td>\n",
              "      <td>5614</td>\n",
              "      <td>7003</td>\n",
              "      <td>5895</td>\n",
              "    </tr>\n",
              "  </tbody>\n",
              "</table>\n",
              "</div>"
            ],
            "text/plain": [
              "               city  monday  wednesday  friday\n",
              "0            Moscow   15740      11056   15945\n",
              "1  Saint-Petersburg    5614       7003    5895"
            ]
          },
          "metadata": {},
          "output_type": "display_data"
        }
      ],
      "source": [
        "data = [['Moscow',15740, 11056, 15945], ['Saint-Petersburg', 5614, 7003, 5895]]\n",
        "columns = ['city', 'monday', 'wednesday', 'friday']\n",
        "chart = pd.DataFrame(data = data, columns = columns) # Таблица с результатами\n",
        "display(chart)"
      ]
    },
    {
      "cell_type": "markdown",
      "metadata": {
        "id": "-EgPIHYu_Zcu"
      },
      "source": [
        "**Выводы**\n",
        "\n",
        "Данные показывают разницу поведения пользователей:\n",
        "\n",
        "- В Москве пик прослушиваний приходится на понедельник и пятницу, а в среду заметен спад.\n",
        "- В Петербурге, наоборот, больше слушают музыку по средам. Активность в понедельник и пятницу здесь почти в равной мере уступает среде.\n",
        "\n",
        "Значит, данные говорят в пользу первой гипотезы."
      ]
    },
    {
      "cell_type": "markdown",
      "metadata": {
        "id": "atZAxtq4_Zcu"
      },
      "source": [
        "### Музыка в начале и в конце недели"
      ]
    },
    {
      "cell_type": "markdown",
      "metadata": {
        "id": "eXrQqXFH_Zcu"
      },
      "source": [
        "Согласно второй гипотезе, утром в понедельник в Москве преобладают одни жанры, а в Петербурге — другие. Так же и вечером пятницы преобладают разные жанры — в зависимости от города."
      ]
    },
    {
      "cell_type": "markdown",
      "metadata": {
        "id": "S8UcW6Hw_Zcu"
      },
      "source": [
        "Сохраним таблицы с данными в две переменные:\n",
        "* по Москве — в `moscow_general`;\n",
        "* по Санкт-Петербургу — в `spb_general`."
      ]
    },
    {
      "cell_type": "code",
      "execution_count": null,
      "metadata": {
        "id": "qeaFfM_P_Zcu"
      },
      "outputs": [],
      "source": [
        "moscow_general = df[df['city'] == 'Moscow']\n",
        "\n"
      ]
    },
    {
      "cell_type": "code",
      "execution_count": null,
      "metadata": {
        "id": "ORaVRKto_Zcu"
      },
      "outputs": [],
      "source": [
        "spb_general = df[df['city'] == 'Saint-Petersburg']\n",
        "   "
      ]
    },
    {
      "cell_type": "markdown",
      "metadata": {
        "id": "MEJV-CX2_Zcu"
      },
      "source": [
        "Создадим функцию `genre_weekday()` с четырьмя параметрами:\n",
        "* таблица (датафрейм) с данными,\n",
        "* день недели,\n",
        "* начальная временная метка в формате 'hh:mm', \n",
        "* последняя временная метка в формате 'hh:mm'.\n",
        "\n",
        "Функция должна вернуть информацию о топ-10 жанров тех треков, которые прослушивали в указанный день, в промежутке между двумя отметками времени."
      ]
    },
    {
      "cell_type": "code",
      "execution_count": null,
      "metadata": {
        "id": "laJT9BYl_Zcu"
      },
      "outputs": [],
      "source": [
        "def genre_weekday(table, day, time1, time2):\n",
        "    genre_df = table[table['day'] == day]\n",
        "    genre_df = genre_df[genre_df['time'] < time2]\n",
        "    genre_df = genre_df[genre_df['time'] > time1]\n",
        "    genre_df_count = genre_df.groupby('genre')['genre'].count()\n",
        "    genre_df_sorted = genre_df_count.sort_values(ascending=False).head(10)\n",
        "    return genre_df_sorted\n"
      ]
    },
    {
      "cell_type": "markdown",
      "metadata": {
        "id": "la2s2_PF_Zcu"
      },
      "source": [
        "Cравним результаты функции `genre_weekday()` для Москвы и Санкт-Петербурга в понедельник утром (с 7:00 до 11:00) и в пятницу вечером (с 17:00 до 23:00):"
      ]
    },
    {
      "cell_type": "code",
      "execution_count": null,
      "metadata": {
        "id": "yz7itPUQ_Zcu",
        "outputId": "f2780f9d-ba58-4f84-e026-050f98604af0"
      },
      "outputs": [
        {
          "data": {
            "text/plain": [
              "genre\n",
              "pop            781\n",
              "dance          549\n",
              "electronic     480\n",
              "rock           474\n",
              "hiphop         286\n",
              "ruspop         186\n",
              "world          181\n",
              "rusrap         175\n",
              "alternative    164\n",
              "unknown        161\n",
              "Name: genre, dtype: int64"
            ]
          },
          "execution_count": 135,
          "metadata": {},
          "output_type": "execute_result"
        }
      ],
      "source": [
        "genre_weekday(moscow_general, 'Monday', '07:00', '11:00')\n"
      ]
    },
    {
      "cell_type": "code",
      "execution_count": null,
      "metadata": {
        "id": "kwUcHPdy_Zcu",
        "outputId": "e58b21d8-c8e7-4bfa-db2e-c18ecf4ee51c"
      },
      "outputs": [
        {
          "data": {
            "text/plain": [
              "genre\n",
              "pop            218\n",
              "dance          182\n",
              "rock           162\n",
              "electronic     147\n",
              "hiphop          80\n",
              "ruspop          64\n",
              "alternative     58\n",
              "rusrap          55\n",
              "jazz            44\n",
              "classical       40\n",
              "Name: genre, dtype: int64"
            ]
          },
          "execution_count": 136,
          "metadata": {},
          "output_type": "execute_result"
        }
      ],
      "source": [
        "genre_weekday(spb_general, 'Monday', '07:00', '11:00')# вызов функции для утра понедельника в Петербурге (вместо df — таблица spb_general)"
      ]
    },
    {
      "cell_type": "code",
      "execution_count": null,
      "metadata": {
        "id": "EzXVRE1o_Zcu",
        "outputId": "a1696b13-47a4-4858-c8e4-6f6e06ec0b00"
      },
      "outputs": [
        {
          "data": {
            "text/plain": [
              "genre\n",
              "pop            713\n",
              "rock           517\n",
              "dance          495\n",
              "electronic     482\n",
              "hiphop         273\n",
              "world          208\n",
              "ruspop         170\n",
              "alternative    163\n",
              "classical      163\n",
              "rusrap         142\n",
              "Name: genre, dtype: int64"
            ]
          },
          "execution_count": 137,
          "metadata": {},
          "output_type": "execute_result"
        }
      ],
      "source": [
        "genre_weekday(moscow_general, 'Friday', '17:00', '23:00')# вызов функции для вечера пятницы в Москве"
      ]
    },
    {
      "cell_type": "code",
      "execution_count": null,
      "metadata": {
        "id": "JZaEKu5v_Zcu",
        "outputId": "020011fe-2b93-48ef-8067-493beffe2e60"
      },
      "outputs": [
        {
          "data": {
            "text/plain": [
              "genre\n",
              "pop            256\n",
              "electronic     216\n",
              "rock           216\n",
              "dance          210\n",
              "hiphop          97\n",
              "alternative     63\n",
              "jazz            61\n",
              "classical       60\n",
              "rusrap          59\n",
              "world           54\n",
              "Name: genre, dtype: int64"
            ]
          },
          "execution_count": 138,
          "metadata": {},
          "output_type": "execute_result"
        }
      ],
      "source": [
        "genre_weekday(spb_general, 'Friday', '17:00', '23:00')# вызов функции для вечера пятницы в Петербурге"
      ]
    },
    {
      "cell_type": "markdown",
      "metadata": {
        "id": "wrCe4MNX_Zcu"
      },
      "source": [
        "**Выводы**\n",
        "\n",
        "Если сравнить топ-10 жанров в понедельник утром, можно сделать такие выводы:\n",
        "\n",
        "1. В Москве и Петербурге слушают похожую музыку. Единственное отличие — в московский рейтинг вошёл жанр “world”, а в петербургский — джаз и классика.\n",
        "\n",
        "2. В Москве пропущенных значений оказалось так много, что значение `'unknown'` заняло десятое место среди самых популярных жанров. Значит, пропущенные значения занимают существенную долю в данных и угрожают достоверности исследования.\n",
        "\n",
        "Вечер пятницы не меняет эту картину. Некоторые жанры поднимаются немного выше, другие спускаются, но в целом топ-10 остаётся тем же самым.\n",
        "\n",
        "Таким образом, вторая гипотеза подтвердилась лишь частично:\n",
        "* Пользователи слушают похожую музыку в начале недели и в конце.\n",
        "* Разница между Москвой и Петербургом не слишком выражена. В Москве чаще слушают русскую популярную музыку, в Петербурге — джаз.\n",
        "\n",
        "Однако пропуски в данных ставят под сомнение этот результат. В Москве их так много, что рейтинг топ-10 мог бы выглядеть иначе, если бы не утерянные  данные о жанрах."
      ]
    },
    {
      "cell_type": "markdown",
      "metadata": {
        "id": "JolODAqr_Zcu"
      },
      "source": [
        "### Жанровые предпочтения в Москве и Петербурге\n",
        "\n",
        "Гипотеза: Петербург — столица рэпа, музыку этого жанра там слушают чаще, чем в Москве.  А Москва — город контрастов, в котором, тем не менее, преобладает поп-музыка."
      ]
    },
    {
      "cell_type": "markdown",
      "metadata": {
        "id": "DlegSvaT_Zcu"
      },
      "source": [
        "Сгруппирууем таблицу `moscow_general` по жанру и посчитаем прослушивания треков каждого жанра методом `count()`. Затем отсортируем результат в порядке убывания и сохраним его в таблице `moscow_genres`."
      ]
    },
    {
      "cell_type": "code",
      "execution_count": null,
      "metadata": {
        "id": "r19lIPke_Zcu"
      },
      "outputs": [],
      "source": [
        "moscow_genres_count = moscow_general.groupby('genre')['genre'].count()\n",
        "moscow_genres = moscow_genres_count.sort_values(ascending=False)\n",
        "\n"
      ]
    },
    {
      "cell_type": "markdown",
      "metadata": {
        "id": "6kMuomxTiIr8"
      },
      "source": [
        "Выведем на экран первые десять строк `moscow_genres`:"
      ]
    },
    {
      "cell_type": "code",
      "execution_count": null,
      "metadata": {
        "id": "WhCSooF8_Zcv",
        "outputId": "44c2167f-04d1-4263-df3e-98fc0fad3225"
      },
      "outputs": [
        {
          "data": {
            "text/plain": [
              "genre\n",
              "pop            5892\n",
              "dance          4435\n",
              "rock           3965\n",
              "electronic     3786\n",
              "hiphop         2096\n",
              "classical      1616\n",
              "world          1432\n",
              "alternative    1379\n",
              "ruspop         1372\n",
              "rusrap         1161\n",
              "Name: genre, dtype: int64"
            ]
          },
          "metadata": {},
          "output_type": "display_data"
        }
      ],
      "source": [
        "display(moscow_genres.head(10)) "
      ]
    },
    {
      "cell_type": "markdown",
      "metadata": {
        "id": "cnPG2vnN_Zcv"
      },
      "source": [
        "Теперь повторим то же и для Петербурга.\n",
        "\n",
        "Сгруппируем таблицу `spb_general` по жанру. Посчитаем прослушивания треков каждого жанра. Результат отсортируем в порядке убывания и сохраним в таблице `spb_genres`:\n"
      ]
    },
    {
      "cell_type": "code",
      "execution_count": null,
      "metadata": {
        "id": "gluLIpE7_Zcv"
      },
      "outputs": [],
      "source": [
        "spb_genres_count = spb_general.groupby('genre')['genre'].count()\n",
        "spb_genres = spb_genres_count.sort_values(ascending=False)\n"
      ]
    },
    {
      "cell_type": "markdown",
      "metadata": {
        "id": "5Doha_ODgyQ8"
      },
      "source": [
        "Выведем на экран первые десять строк `spb_genres`:"
      ]
    },
    {
      "cell_type": "code",
      "execution_count": null,
      "metadata": {
        "id": "uaGJHjVU_Zcv",
        "outputId": "2ad04aac-da37-40f2-894b-d89ad98326da"
      },
      "outputs": [
        {
          "data": {
            "text/plain": [
              "genre\n",
              "pop            2431\n",
              "dance          1932\n",
              "rock           1879\n",
              "electronic     1736\n",
              "hiphop          960\n",
              "alternative     649\n",
              "classical       646\n",
              "rusrap          564\n",
              "ruspop          538\n",
              "world           515\n",
              "Name: genre, dtype: int64"
            ]
          },
          "metadata": {},
          "output_type": "display_data"
        }
      ],
      "source": [
        "display(spb_genres.head(10))"
      ]
    },
    {
      "cell_type": "markdown",
      "metadata": {
        "id": "RY51YJYu_Zcv"
      },
      "source": [
        "**Выводы**"
      ]
    },
    {
      "cell_type": "markdown",
      "metadata": {
        "id": "nVhnJEm__Zcv"
      },
      "source": [
        "Гипотеза частично подтвердилась:\n",
        "* Поп-музыка — самый популярный жанр в Москве, как и предполагала гипотеза. Более того, в топ-10 жанров встречается близкий жанр — русская популярная музыка.\n",
        "* Вопреки ожиданиям, рэп одинаково популярен в Москве и Петербурге. \n"
      ]
    },
    {
      "cell_type": "markdown",
      "metadata": {
        "id": "ykKQ0N65_Zcv"
      },
      "source": [
        "## Итоги исследования"
      ]
    },
    {
      "cell_type": "markdown",
      "metadata": {
        "id": "tjUwbHb3_Zcv"
      },
      "source": [
        "Мы проверили три гипотезы и установили:\n",
        "\n",
        "1. День недели по-разному влияет на активность пользователей в Москве и Петербурге. \n",
        "\n",
        "Первая гипотеза полностью подтвердилась.\n",
        "\n",
        "2. Музыкальные предпочтения не сильно меняются в течение недели — будь то Москва или Петербург. Небольшие различия заметны в начале недели, по понедельникам:\n",
        "* в Москве слушают музыку жанра “world”,\n",
        "* в Петербурге — джаз и классику.\n",
        "\n",
        "Таким образом, вторая гипотеза подтвердилась лишь отчасти. Этот результат мог оказаться иным, если бы не пропуски в данных.\n",
        "\n",
        "3. Во вкусах пользователей Москвы и Петербурга больше общего чем различий. Вопреки ожиданиям, предпочтения жанров в Петербурге напоминают московские.\n",
        "\n",
        "Третья гипотеза не подтвердилась. Если различия в предпочтениях и существуют, на основной массе пользователей они незаметны.\n"
      ]
    }
  ],
  "metadata": {
    "ExecuteTimeLog": [
      {
        "duration": 71,
        "start_time": "2022-03-13T13:15:38.098Z"
      },
      {
        "duration": 61,
        "start_time": "2022-03-13T13:15:56.760Z"
      },
      {
        "duration": 234,
        "start_time": "2022-03-13T13:16:24.839Z"
      },
      {
        "duration": 195,
        "start_time": "2022-03-13T13:16:53.649Z"
      },
      {
        "duration": 183,
        "start_time": "2022-03-13T13:17:56.120Z"
      },
      {
        "duration": 193,
        "start_time": "2022-03-13T13:21:05.132Z"
      },
      {
        "duration": 593,
        "start_time": "2022-03-13T13:21:27.764Z"
      },
      {
        "duration": 1447,
        "start_time": "2022-03-13T13:21:31.893Z"
      },
      {
        "duration": 53,
        "start_time": "2022-03-13T13:22:27.256Z"
      },
      {
        "duration": 173,
        "start_time": "2022-03-13T13:22:33.853Z"
      },
      {
        "duration": 185,
        "start_time": "2022-03-13T13:22:49.320Z"
      },
      {
        "duration": 3,
        "start_time": "2022-03-13T13:22:55.198Z"
      },
      {
        "duration": 3,
        "start_time": "2022-03-13T13:23:08.571Z"
      },
      {
        "duration": 1356,
        "start_time": "2022-03-13T13:25:33.370Z"
      },
      {
        "duration": 214,
        "start_time": "2022-03-13T13:28:02.551Z"
      },
      {
        "duration": 179,
        "start_time": "2022-03-13T13:28:47.855Z"
      },
      {
        "duration": 132,
        "start_time": "2022-03-13T13:30:39.007Z"
      },
      {
        "duration": 8,
        "start_time": "2022-03-13T13:30:45.062Z"
      },
      {
        "duration": 26,
        "start_time": "2022-03-13T13:31:18.440Z"
      },
      {
        "duration": 75,
        "start_time": "2022-03-13T13:37:42.867Z"
      },
      {
        "duration": 23,
        "start_time": "2022-03-13T13:38:08.128Z"
      },
      {
        "duration": 197,
        "start_time": "2022-03-13T13:39:17.582Z"
      },
      {
        "duration": 4,
        "start_time": "2022-03-13T13:39:46.146Z"
      },
      {
        "duration": 4,
        "start_time": "2022-03-13T13:41:25.195Z"
      },
      {
        "duration": 4,
        "start_time": "2022-03-13T13:41:29.308Z"
      },
      {
        "duration": 23,
        "start_time": "2022-03-13T14:19:50.458Z"
      },
      {
        "duration": 4655,
        "start_time": "2022-03-13T14:35:47.083Z"
      },
      {
        "duration": 24,
        "start_time": "2022-03-13T14:36:42.411Z"
      },
      {
        "duration": 4887,
        "start_time": "2022-03-13T14:39:10.586Z"
      },
      {
        "duration": 4458,
        "start_time": "2022-03-13T14:40:11.963Z"
      },
      {
        "duration": 4755,
        "start_time": "2022-03-13T14:41:54.345Z"
      },
      {
        "duration": 4684,
        "start_time": "2022-03-13T14:43:09.766Z"
      },
      {
        "duration": 8,
        "start_time": "2022-03-13T14:46:35.686Z"
      },
      {
        "duration": 22,
        "start_time": "2022-03-13T14:46:46.549Z"
      },
      {
        "duration": 23,
        "start_time": "2022-03-13T14:47:38.549Z"
      },
      {
        "duration": 21,
        "start_time": "2022-03-13T14:47:43.140Z"
      },
      {
        "duration": 57,
        "start_time": "2022-03-13T14:49:10.551Z"
      },
      {
        "duration": 198,
        "start_time": "2022-03-13T14:50:29.196Z"
      },
      {
        "duration": 72,
        "start_time": "2022-03-13T14:50:50.943Z"
      },
      {
        "duration": 56,
        "start_time": "2022-03-13T14:51:25.498Z"
      },
      {
        "duration": 7,
        "start_time": "2022-03-13T14:52:51.695Z"
      },
      {
        "duration": 3,
        "start_time": "2022-03-13T15:03:47.815Z"
      },
      {
        "duration": 396,
        "start_time": "2022-03-13T15:05:59.927Z"
      },
      {
        "duration": 3,
        "start_time": "2022-03-13T15:11:32.508Z"
      },
      {
        "duration": 405,
        "start_time": "2022-03-13T15:11:45.481Z"
      },
      {
        "duration": 348,
        "start_time": "2022-03-13T15:15:24.757Z"
      },
      {
        "duration": 3,
        "start_time": "2022-03-13T15:16:57.166Z"
      },
      {
        "duration": 372,
        "start_time": "2022-03-13T15:17:15.287Z"
      },
      {
        "duration": 11,
        "start_time": "2022-03-13T15:17:59.508Z"
      },
      {
        "duration": 7,
        "start_time": "2022-03-13T15:18:55.428Z"
      },
      {
        "duration": 195,
        "start_time": "2022-03-13T15:23:34.759Z"
      },
      {
        "duration": 203,
        "start_time": "2022-03-13T15:23:47.434Z"
      },
      {
        "duration": 26,
        "start_time": "2022-03-13T15:23:58.110Z"
      },
      {
        "duration": 27,
        "start_time": "2022-03-13T15:24:53.378Z"
      },
      {
        "duration": 41,
        "start_time": "2022-03-13T15:26:33.853Z"
      },
      {
        "duration": 21,
        "start_time": "2022-03-13T15:28:58.030Z"
      },
      {
        "duration": 56,
        "start_time": "2022-03-13T15:31:04.995Z"
      },
      {
        "duration": 192,
        "start_time": "2022-03-13T15:35:27.251Z"
      },
      {
        "duration": 207,
        "start_time": "2022-03-13T15:35:48.642Z"
      },
      {
        "duration": 32,
        "start_time": "2022-03-13T15:35:57.740Z"
      },
      {
        "duration": 43,
        "start_time": "2022-03-13T15:36:11.397Z"
      },
      {
        "duration": 3,
        "start_time": "2022-03-13T15:43:41.769Z"
      },
      {
        "duration": 287,
        "start_time": "2022-03-13T15:46:35.924Z"
      },
      {
        "duration": 401,
        "start_time": "2022-03-13T15:47:37.097Z"
      },
      {
        "duration": 184,
        "start_time": "2022-03-13T15:48:24.275Z"
      },
      {
        "duration": 4,
        "start_time": "2022-03-13T15:52:55.428Z"
      },
      {
        "duration": 185,
        "start_time": "2022-03-13T15:53:04.204Z"
      },
      {
        "duration": 400,
        "start_time": "2022-03-13T15:53:43.905Z"
      },
      {
        "duration": 3,
        "start_time": "2022-03-13T16:00:34.002Z"
      },
      {
        "duration": 395,
        "start_time": "2022-03-13T16:00:40.465Z"
      },
      {
        "duration": 3,
        "start_time": "2022-03-13T16:00:51.601Z"
      },
      {
        "duration": 424,
        "start_time": "2022-03-13T16:00:55.337Z"
      },
      {
        "duration": 358,
        "start_time": "2022-03-13T16:01:24.467Z"
      },
      {
        "duration": 4,
        "start_time": "2022-03-13T16:54:35.490Z"
      },
      {
        "duration": 375,
        "start_time": "2022-03-13T16:54:46.850Z"
      },
      {
        "duration": 275,
        "start_time": "2022-03-13T18:11:37.032Z"
      },
      {
        "duration": 180,
        "start_time": "2022-03-13T18:13:17.202Z"
      },
      {
        "duration": 62,
        "start_time": "2022-03-13T18:16:59.738Z"
      },
      {
        "duration": 176,
        "start_time": "2022-03-13T18:19:07.081Z"
      },
      {
        "duration": 89,
        "start_time": "2022-03-13T18:22:30.630Z"
      },
      {
        "duration": 53,
        "start_time": "2022-03-13T18:22:50.118Z"
      },
      {
        "duration": 55,
        "start_time": "2022-03-13T18:23:44.112Z"
      },
      {
        "duration": 210,
        "start_time": "2022-03-13T18:24:07.663Z"
      },
      {
        "duration": 164,
        "start_time": "2022-03-13T18:29:44.320Z"
      },
      {
        "duration": 3,
        "start_time": "2022-03-13T18:30:11.374Z"
      },
      {
        "duration": 358,
        "start_time": "2022-03-13T18:30:16.048Z"
      },
      {
        "duration": 548,
        "start_time": "2022-03-13T18:31:10.267Z"
      },
      {
        "duration": 137,
        "start_time": "2022-03-13T18:31:13.807Z"
      },
      {
        "duration": 8,
        "start_time": "2022-03-13T18:31:15.336Z"
      },
      {
        "duration": 24,
        "start_time": "2022-03-13T18:31:18.081Z"
      },
      {
        "duration": 3,
        "start_time": "2022-03-13T18:31:23.768Z"
      },
      {
        "duration": 24,
        "start_time": "2022-03-13T18:31:27.143Z"
      },
      {
        "duration": 4,
        "start_time": "2022-03-13T18:31:29.614Z"
      },
      {
        "duration": 22,
        "start_time": "2022-03-13T18:31:31.733Z"
      },
      {
        "duration": 16,
        "start_time": "2022-03-13T18:31:33.848Z"
      },
      {
        "duration": 21,
        "start_time": "2022-03-13T18:31:35.418Z"
      },
      {
        "duration": 55,
        "start_time": "2022-03-13T18:31:38.841Z"
      },
      {
        "duration": 66,
        "start_time": "2022-03-13T18:31:40.692Z"
      },
      {
        "duration": 52,
        "start_time": "2022-03-13T18:31:42.263Z"
      },
      {
        "duration": 6,
        "start_time": "2022-03-13T18:31:44.316Z"
      },
      {
        "duration": 3,
        "start_time": "2022-03-13T18:31:47.138Z"
      },
      {
        "duration": 10,
        "start_time": "2022-03-13T18:31:48.911Z"
      },
      {
        "duration": 6,
        "start_time": "2022-03-13T18:31:50.918Z"
      },
      {
        "duration": 47,
        "start_time": "2022-03-13T18:32:23.591Z"
      },
      {
        "duration": 62,
        "start_time": "2022-03-13T18:32:31.540Z"
      },
      {
        "duration": 4,
        "start_time": "2022-03-13T18:32:35.904Z"
      },
      {
        "duration": 382,
        "start_time": "2022-03-13T18:33:10.648Z"
      },
      {
        "duration": 349,
        "start_time": "2022-03-13T18:36:25.357Z"
      },
      {
        "duration": 3,
        "start_time": "2022-03-13T19:21:39.253Z"
      },
      {
        "duration": 399,
        "start_time": "2022-03-13T19:21:47.685Z"
      },
      {
        "duration": 351,
        "start_time": "2022-03-13T19:21:56.962Z"
      },
      {
        "duration": 4,
        "start_time": "2022-03-13T19:23:01.418Z"
      },
      {
        "duration": 185,
        "start_time": "2022-03-13T19:23:30.966Z"
      },
      {
        "duration": 175,
        "start_time": "2022-03-13T19:23:57.949Z"
      },
      {
        "duration": 56,
        "start_time": "2022-03-13T19:24:34.943Z"
      },
      {
        "duration": 183,
        "start_time": "2022-03-13T19:24:47.259Z"
      },
      {
        "duration": 27,
        "start_time": "2022-03-13T19:25:42.877Z"
      },
      {
        "duration": 28,
        "start_time": "2022-03-13T19:28:48.134Z"
      },
      {
        "duration": 22,
        "start_time": "2022-03-13T19:29:05.413Z"
      },
      {
        "duration": 55,
        "start_time": "2022-03-13T19:29:28.509Z"
      },
      {
        "duration": 8,
        "start_time": "2022-03-13T19:30:05.164Z"
      },
      {
        "duration": 25,
        "start_time": "2022-03-13T19:30:46.924Z"
      },
      {
        "duration": 21,
        "start_time": "2022-03-13T19:31:05.710Z"
      },
      {
        "duration": 2,
        "start_time": "2022-03-13T19:31:14.468Z"
      },
      {
        "duration": 3,
        "start_time": "2022-03-13T19:31:24.157Z"
      },
      {
        "duration": 2,
        "start_time": "2022-03-13T19:31:30.112Z"
      },
      {
        "duration": 3,
        "start_time": "2022-03-13T19:31:35.031Z"
      },
      {
        "duration": 3,
        "start_time": "2022-03-13T19:31:38.446Z"
      },
      {
        "duration": 2,
        "start_time": "2022-03-13T19:31:43.523Z"
      },
      {
        "duration": 2,
        "start_time": "2022-03-13T19:32:00.094Z"
      },
      {
        "duration": 2,
        "start_time": "2022-03-13T19:32:11.119Z"
      },
      {
        "duration": 2,
        "start_time": "2022-03-13T19:32:17.013Z"
      },
      {
        "duration": 21,
        "start_time": "2022-03-13T19:32:22.094Z"
      },
      {
        "duration": 21,
        "start_time": "2022-03-13T19:33:37.719Z"
      },
      {
        "duration": 23,
        "start_time": "2022-03-13T19:34:36.237Z"
      },
      {
        "duration": 23,
        "start_time": "2022-03-13T19:52:27.723Z"
      },
      {
        "duration": 72,
        "start_time": "2022-03-13T19:52:49.538Z"
      },
      {
        "duration": 60,
        "start_time": "2022-03-13T19:52:57.732Z"
      },
      {
        "duration": 191,
        "start_time": "2022-03-13T19:53:53.361Z"
      },
      {
        "duration": 23,
        "start_time": "2022-03-13T19:54:02.636Z"
      },
      {
        "duration": 3,
        "start_time": "2022-03-13T19:55:56.643Z"
      },
      {
        "duration": 59,
        "start_time": "2022-03-13T19:59:15.976Z"
      },
      {
        "duration": 4,
        "start_time": "2022-03-13T20:01:12.005Z"
      },
      {
        "duration": 4,
        "start_time": "2022-03-13T20:01:20.700Z"
      },
      {
        "duration": 282,
        "start_time": "2022-03-13T20:01:25.645Z"
      },
      {
        "duration": 3,
        "start_time": "2022-03-13T20:01:43.951Z"
      },
      {
        "duration": 61,
        "start_time": "2022-03-13T20:01:55.154Z"
      },
      {
        "duration": 372,
        "start_time": "2022-03-13T20:03:12.092Z"
      },
      {
        "duration": 12,
        "start_time": "2022-03-13T20:05:17.039Z"
      },
      {
        "duration": 311,
        "start_time": "2022-03-13T20:06:24.126Z"
      },
      {
        "duration": 172,
        "start_time": "2022-03-13T20:06:47.742Z"
      },
      {
        "duration": 3,
        "start_time": "2022-03-13T20:08:23.645Z"
      },
      {
        "duration": 340,
        "start_time": "2022-03-13T20:08:27.991Z"
      },
      {
        "duration": 175,
        "start_time": "2022-03-13T20:13:48.819Z"
      },
      {
        "duration": 191,
        "start_time": "2022-03-13T20:14:50.053Z"
      },
      {
        "duration": 4,
        "start_time": "2022-03-13T20:15:15.695Z"
      },
      {
        "duration": 358,
        "start_time": "2022-03-13T20:15:25.628Z"
      },
      {
        "duration": 3,
        "start_time": "2022-03-13T20:15:46.509Z"
      },
      {
        "duration": 331,
        "start_time": "2022-03-13T20:15:49.507Z"
      },
      {
        "duration": 4,
        "start_time": "2022-03-13T20:16:01.788Z"
      },
      {
        "duration": 347,
        "start_time": "2022-03-13T20:16:04.735Z"
      },
      {
        "duration": 5,
        "start_time": "2022-03-13T20:17:57.157Z"
      },
      {
        "duration": 358,
        "start_time": "2022-03-13T20:18:02.005Z"
      },
      {
        "duration": 3,
        "start_time": "2022-03-13T20:22:33.903Z"
      },
      {
        "duration": 345,
        "start_time": "2022-03-13T20:22:36.335Z"
      },
      {
        "duration": 6,
        "start_time": "2022-03-13T20:22:43.647Z"
      },
      {
        "duration": 333,
        "start_time": "2022-03-13T20:22:45.276Z"
      },
      {
        "duration": 4,
        "start_time": "2022-03-14T05:43:49.410Z"
      },
      {
        "duration": 605,
        "start_time": "2022-03-14T05:43:55.827Z"
      },
      {
        "duration": 7,
        "start_time": "2022-03-14T05:44:37.328Z"
      },
      {
        "duration": 288,
        "start_time": "2022-03-14T05:44:40.216Z"
      },
      {
        "duration": 4,
        "start_time": "2022-03-14T05:44:52.293Z"
      },
      {
        "duration": 580,
        "start_time": "2022-03-14T05:44:56.325Z"
      },
      {
        "duration": 4,
        "start_time": "2022-03-14T05:46:23.800Z"
      },
      {
        "duration": 578,
        "start_time": "2022-03-14T05:46:28.496Z"
      },
      {
        "duration": 3,
        "start_time": "2022-03-14T06:07:03.322Z"
      },
      {
        "duration": 293,
        "start_time": "2022-03-14T06:07:34.913Z"
      },
      {
        "duration": 585,
        "start_time": "2022-03-14T06:07:50.168Z"
      },
      {
        "duration": 139,
        "start_time": "2022-03-14T06:07:53.158Z"
      },
      {
        "duration": 7,
        "start_time": "2022-03-14T06:07:54.976Z"
      },
      {
        "duration": 24,
        "start_time": "2022-03-14T06:07:57.412Z"
      },
      {
        "duration": 4,
        "start_time": "2022-03-14T06:08:01.277Z"
      },
      {
        "duration": 20,
        "start_time": "2022-03-14T06:08:03.552Z"
      },
      {
        "duration": 3,
        "start_time": "2022-03-14T06:08:04.874Z"
      },
      {
        "duration": 21,
        "start_time": "2022-03-14T06:08:07.612Z"
      },
      {
        "duration": 16,
        "start_time": "2022-03-14T06:08:10.030Z"
      },
      {
        "duration": 21,
        "start_time": "2022-03-14T06:08:12.447Z"
      },
      {
        "duration": 55,
        "start_time": "2022-03-14T06:08:15.887Z"
      },
      {
        "duration": 62,
        "start_time": "2022-03-14T06:08:17.911Z"
      },
      {
        "duration": 52,
        "start_time": "2022-03-14T06:08:19.326Z"
      },
      {
        "duration": 6,
        "start_time": "2022-03-14T06:08:23.023Z"
      },
      {
        "duration": 3,
        "start_time": "2022-03-14T06:08:25.775Z"
      },
      {
        "duration": 9,
        "start_time": "2022-03-14T06:08:27.217Z"
      },
      {
        "duration": 6,
        "start_time": "2022-03-14T06:08:29.719Z"
      },
      {
        "duration": 7,
        "start_time": "2022-03-14T06:08:33.390Z"
      },
      {
        "duration": 40,
        "start_time": "2022-03-14T06:08:36.749Z"
      },
      {
        "duration": 48,
        "start_time": "2022-03-14T06:08:42.171Z"
      },
      {
        "duration": 4,
        "start_time": "2022-03-14T06:08:45.614Z"
      },
      {
        "duration": 613,
        "start_time": "2022-03-14T06:08:48.339Z"
      },
      {
        "duration": 92,
        "start_time": "2022-03-14T06:11:17.718Z"
      },
      {
        "duration": 3,
        "start_time": "2022-03-14T06:12:22.799Z"
      },
      {
        "duration": 602,
        "start_time": "2022-03-14T06:12:35.170Z"
      },
      {
        "duration": 4,
        "start_time": "2022-03-14T06:31:47.238Z"
      },
      {
        "duration": 22,
        "start_time": "2022-03-14T06:31:51.092Z"
      },
      {
        "duration": 16,
        "start_time": "2022-03-14T06:32:07.684Z"
      },
      {
        "duration": 16,
        "start_time": "2022-03-14T06:32:10.126Z"
      },
      {
        "duration": 14,
        "start_time": "2022-03-14T06:32:11.838Z"
      },
      {
        "duration": 19,
        "start_time": "2022-03-14T06:32:14.314Z"
      },
      {
        "duration": 16,
        "start_time": "2022-03-14T06:32:15.675Z"
      },
      {
        "duration": 287,
        "start_time": "2022-03-14T06:32:47.971Z"
      },
      {
        "duration": 265,
        "start_time": "2022-03-14T06:35:57.295Z"
      },
      {
        "duration": 101,
        "start_time": "2022-03-14T06:38:05.203Z"
      },
      {
        "duration": 117,
        "start_time": "2022-03-14T06:38:17.867Z"
      },
      {
        "duration": 104,
        "start_time": "2022-03-14T06:39:40.927Z"
      },
      {
        "duration": 96,
        "start_time": "2022-03-14T06:42:01.593Z"
      },
      {
        "duration": 108,
        "start_time": "2022-03-14T06:42:30.327Z"
      },
      {
        "duration": 8,
        "start_time": "2022-03-14T06:42:50.394Z"
      },
      {
        "duration": 10,
        "start_time": "2022-03-14T06:45:25.034Z"
      },
      {
        "duration": 18,
        "start_time": "2022-03-14T06:45:39.351Z"
      },
      {
        "duration": 12,
        "start_time": "2022-03-14T06:45:47.474Z"
      },
      {
        "duration": 9,
        "start_time": "2022-03-14T06:46:41.611Z"
      },
      {
        "duration": 4,
        "start_time": "2022-03-14T06:58:15.785Z"
      },
      {
        "duration": 616,
        "start_time": "2022-03-14T07:01:26.883Z"
      },
      {
        "duration": 642,
        "start_time": "2022-03-14T07:02:42.873Z"
      },
      {
        "duration": 4,
        "start_time": "2022-03-14T07:03:17.256Z"
      },
      {
        "duration": 630,
        "start_time": "2022-03-14T07:03:20.105Z"
      },
      {
        "duration": 4,
        "start_time": "2022-03-14T07:04:32.121Z"
      },
      {
        "duration": 642,
        "start_time": "2022-03-14T07:04:37.287Z"
      },
      {
        "duration": 4,
        "start_time": "2022-03-14T07:08:37.071Z"
      },
      {
        "duration": 669,
        "start_time": "2022-03-14T07:08:40.613Z"
      },
      {
        "duration": 4,
        "start_time": "2022-03-14T07:10:20.895Z"
      },
      {
        "duration": 584,
        "start_time": "2022-03-14T07:10:24.182Z"
      },
      {
        "duration": 6,
        "start_time": "2022-03-14T07:11:41.570Z"
      },
      {
        "duration": 22,
        "start_time": "2022-03-14T07:11:44.209Z"
      },
      {
        "duration": 4,
        "start_time": "2022-03-14T07:13:10.470Z"
      },
      {
        "duration": 601,
        "start_time": "2022-03-14T07:13:12.694Z"
      },
      {
        "duration": 3,
        "start_time": "2022-03-14T07:13:46.660Z"
      },
      {
        "duration": 678,
        "start_time": "2022-03-14T07:13:48.321Z"
      },
      {
        "duration": 4,
        "start_time": "2022-03-14T07:14:12.272Z"
      },
      {
        "duration": 35,
        "start_time": "2022-03-14T07:14:14.743Z"
      },
      {
        "duration": 4,
        "start_time": "2022-03-14T07:15:09.329Z"
      },
      {
        "duration": 592,
        "start_time": "2022-03-14T07:15:11.606Z"
      },
      {
        "duration": 4,
        "start_time": "2022-03-14T07:15:17.775Z"
      },
      {
        "duration": 22,
        "start_time": "2022-03-14T07:15:19.118Z"
      },
      {
        "duration": 5,
        "start_time": "2022-03-14T07:18:00.185Z"
      },
      {
        "duration": 603,
        "start_time": "2022-03-14T07:18:02.142Z"
      },
      {
        "duration": 4,
        "start_time": "2022-03-14T07:20:01.022Z"
      },
      {
        "duration": 19,
        "start_time": "2022-03-14T07:20:03.481Z"
      },
      {
        "duration": 14,
        "start_time": "2022-03-14T07:21:25.746Z"
      },
      {
        "duration": 23,
        "start_time": "2022-03-14T07:21:44.178Z"
      },
      {
        "duration": 15,
        "start_time": "2022-03-14T07:22:09.266Z"
      },
      {
        "duration": 4,
        "start_time": "2022-03-14T07:24:54.431Z"
      },
      {
        "duration": 307,
        "start_time": "2022-03-14T07:28:13.618Z"
      },
      {
        "duration": 311,
        "start_time": "2022-03-14T07:28:28.018Z"
      },
      {
        "duration": 313,
        "start_time": "2022-03-14T07:28:45.836Z"
      },
      {
        "duration": 327,
        "start_time": "2022-03-14T07:29:07.264Z"
      },
      {
        "duration": 10,
        "start_time": "2022-03-14T07:32:02.072Z"
      },
      {
        "duration": 5,
        "start_time": "2022-03-14T07:32:08.737Z"
      },
      {
        "duration": 319,
        "start_time": "2022-03-14T07:34:13.678Z"
      },
      {
        "duration": 6,
        "start_time": "2022-03-14T07:34:34.445Z"
      },
      {
        "duration": 4,
        "start_time": "2022-03-14T07:35:00.242Z"
      },
      {
        "duration": 46,
        "start_time": "2022-03-14T07:37:25.855Z"
      },
      {
        "duration": 30,
        "start_time": "2022-03-14T07:37:56.385Z"
      },
      {
        "duration": 4,
        "start_time": "2022-03-14T07:38:00.895Z"
      },
      {
        "duration": 16,
        "start_time": "2022-03-14T07:38:03.102Z"
      },
      {
        "duration": 16,
        "start_time": "2022-03-14T07:38:05.272Z"
      },
      {
        "duration": 16,
        "start_time": "2022-03-14T07:38:05.982Z"
      },
      {
        "duration": 16,
        "start_time": "2022-03-14T07:38:06.580Z"
      },
      {
        "duration": 17,
        "start_time": "2022-03-14T07:38:07.181Z"
      },
      {
        "duration": 15,
        "start_time": "2022-03-14T07:38:08.871Z"
      },
      {
        "duration": 9,
        "start_time": "2022-03-14T07:38:11.045Z"
      },
      {
        "duration": 12,
        "start_time": "2022-03-14T07:38:13.559Z"
      },
      {
        "duration": 10,
        "start_time": "2022-03-14T07:38:15.389Z"
      },
      {
        "duration": 19,
        "start_time": "2022-03-14T07:38:17.719Z"
      },
      {
        "duration": 12,
        "start_time": "2022-03-14T07:38:19.392Z"
      },
      {
        "duration": 19,
        "start_time": "2022-03-14T07:38:20.391Z"
      },
      {
        "duration": 12,
        "start_time": "2022-03-14T07:38:21.206Z"
      },
      {
        "duration": 8,
        "start_time": "2022-03-14T07:38:24.261Z"
      },
      {
        "duration": 5,
        "start_time": "2022-03-14T07:38:25.935Z"
      },
      {
        "duration": 6,
        "start_time": "2022-03-14T07:38:29.765Z"
      },
      {
        "duration": 4,
        "start_time": "2022-03-14T07:38:31.005Z"
      },
      {
        "duration": 425,
        "start_time": "2022-03-21T16:29:51.067Z"
      },
      {
        "duration": 207,
        "start_time": "2022-03-21T16:29:51.494Z"
      },
      {
        "duration": 8,
        "start_time": "2022-03-21T16:29:51.703Z"
      },
      {
        "duration": 34,
        "start_time": "2022-03-21T16:29:51.713Z"
      },
      {
        "duration": 3,
        "start_time": "2022-03-21T16:29:51.749Z"
      },
      {
        "duration": 14,
        "start_time": "2022-03-21T16:29:51.754Z"
      },
      {
        "duration": 5,
        "start_time": "2022-03-21T16:29:51.770Z"
      },
      {
        "duration": 28,
        "start_time": "2022-03-21T16:29:51.777Z"
      },
      {
        "duration": 19,
        "start_time": "2022-03-21T16:29:51.833Z"
      },
      {
        "duration": 23,
        "start_time": "2022-03-21T16:29:51.854Z"
      },
      {
        "duration": 93,
        "start_time": "2022-03-21T16:29:51.878Z"
      },
      {
        "duration": 83,
        "start_time": "2022-03-21T16:29:51.973Z"
      },
      {
        "duration": 58,
        "start_time": "2022-03-21T16:29:52.059Z"
      },
      {
        "duration": 7,
        "start_time": "2022-03-21T16:29:52.132Z"
      },
      {
        "duration": 4,
        "start_time": "2022-03-21T16:29:52.141Z"
      },
      {
        "duration": 12,
        "start_time": "2022-03-21T16:29:52.147Z"
      },
      {
        "duration": 7,
        "start_time": "2022-03-21T16:29:52.161Z"
      },
      {
        "duration": 9,
        "start_time": "2022-03-21T16:29:52.169Z"
      },
      {
        "duration": 74,
        "start_time": "2022-03-21T16:29:52.180Z"
      },
      {
        "duration": 32,
        "start_time": "2022-03-21T16:29:52.257Z"
      },
      {
        "duration": 4,
        "start_time": "2022-03-21T16:29:52.291Z"
      },
      {
        "duration": 46,
        "start_time": "2022-03-21T16:29:52.296Z"
      },
      {
        "duration": 15,
        "start_time": "2022-03-21T16:29:52.343Z"
      },
      {
        "duration": 24,
        "start_time": "2022-03-21T16:29:52.360Z"
      },
      {
        "duration": 47,
        "start_time": "2022-03-21T16:29:52.386Z"
      },
      {
        "duration": 29,
        "start_time": "2022-03-21T16:29:52.435Z"
      },
      {
        "duration": 21,
        "start_time": "2022-03-21T16:29:52.465Z"
      },
      {
        "duration": 10,
        "start_time": "2022-03-21T16:29:52.488Z"
      },
      {
        "duration": 42,
        "start_time": "2022-03-21T16:29:52.500Z"
      },
      {
        "duration": 11,
        "start_time": "2022-03-21T16:29:52.544Z"
      },
      {
        "duration": 16,
        "start_time": "2022-03-21T16:29:52.557Z"
      },
      {
        "duration": 27,
        "start_time": "2022-03-21T16:29:52.574Z"
      },
      {
        "duration": 13,
        "start_time": "2022-03-21T16:29:52.603Z"
      },
      {
        "duration": 32,
        "start_time": "2022-03-21T16:29:52.618Z"
      },
      {
        "duration": 14,
        "start_time": "2022-03-21T16:29:52.653Z"
      },
      {
        "duration": 9,
        "start_time": "2022-03-21T16:29:52.669Z"
      },
      {
        "duration": 5,
        "start_time": "2022-03-21T16:29:52.680Z"
      },
      {
        "duration": 13,
        "start_time": "2022-03-21T16:29:52.686Z"
      },
      {
        "duration": 33,
        "start_time": "2022-03-21T16:29:52.701Z"
      },
      {
        "duration": 152,
        "start_time": "2022-03-21T16:33:13.520Z"
      },
      {
        "duration": 48,
        "start_time": "2022-03-21T17:11:17.218Z"
      },
      {
        "duration": 6,
        "start_time": "2022-03-21T17:11:40.085Z"
      },
      {
        "duration": 396,
        "start_time": "2022-03-21T17:11:49.678Z"
      },
      {
        "duration": 143,
        "start_time": "2022-03-21T17:11:51.314Z"
      },
      {
        "duration": 8,
        "start_time": "2022-03-21T17:11:52.719Z"
      },
      {
        "duration": 15,
        "start_time": "2022-03-21T17:12:04.536Z"
      },
      {
        "duration": 11,
        "start_time": "2022-03-21T17:14:09.905Z"
      },
      {
        "duration": 27,
        "start_time": "2022-03-21T17:14:31.696Z"
      },
      {
        "duration": 184,
        "start_time": "2022-03-21T17:24:33.410Z"
      },
      {
        "duration": 188,
        "start_time": "2022-03-21T17:25:49.963Z"
      },
      {
        "duration": 214,
        "start_time": "2022-03-21T17:26:19.358Z"
      },
      {
        "duration": 190,
        "start_time": "2022-03-21T17:27:03.920Z"
      },
      {
        "duration": 217,
        "start_time": "2022-03-21T17:28:28.094Z"
      },
      {
        "duration": 3,
        "start_time": "2022-03-21T17:28:46.721Z"
      },
      {
        "duration": 2,
        "start_time": "2022-03-21T17:28:50.969Z"
      },
      {
        "duration": 200,
        "start_time": "2022-03-21T17:28:55.398Z"
      },
      {
        "duration": 241,
        "start_time": "2022-03-21T17:29:00.712Z"
      },
      {
        "duration": 208,
        "start_time": "2022-03-21T17:29:17.256Z"
      },
      {
        "duration": 201,
        "start_time": "2022-03-21T17:31:00.237Z"
      },
      {
        "duration": 209,
        "start_time": "2022-03-21T17:31:13.181Z"
      },
      {
        "duration": 3,
        "start_time": "2022-03-21T17:32:42.098Z"
      },
      {
        "duration": 9,
        "start_time": "2022-03-21T17:32:44.634Z"
      },
      {
        "duration": 3,
        "start_time": "2022-03-21T17:32:46.371Z"
      },
      {
        "duration": 25,
        "start_time": "2022-03-21T17:32:49.179Z"
      },
      {
        "duration": 19,
        "start_time": "2022-03-21T17:33:04.254Z"
      },
      {
        "duration": 18,
        "start_time": "2022-03-21T17:33:10.207Z"
      },
      {
        "duration": 9657,
        "start_time": "2022-03-21T17:35:37.869Z"
      },
      {
        "duration": 24,
        "start_time": "2022-03-21T17:35:47.987Z"
      },
      {
        "duration": 22,
        "start_time": "2022-03-21T17:39:32.254Z"
      },
      {
        "duration": 3803,
        "start_time": "2022-03-21T17:39:54.710Z"
      },
      {
        "duration": 25,
        "start_time": "2022-03-21T17:43:17.986Z"
      },
      {
        "duration": 3470,
        "start_time": "2022-03-21T17:45:33.444Z"
      },
      {
        "duration": 37,
        "start_time": "2022-03-21T17:45:52.594Z"
      },
      {
        "duration": 3834,
        "start_time": "2022-03-21T17:45:57.590Z"
      },
      {
        "duration": 3,
        "start_time": "2022-03-21T17:46:15.022Z"
      },
      {
        "duration": 3,
        "start_time": "2022-03-21T17:46:47.304Z"
      },
      {
        "duration": 139,
        "start_time": "2022-03-21T17:46:53.480Z"
      },
      {
        "duration": 11,
        "start_time": "2022-03-21T17:46:58.032Z"
      },
      {
        "duration": 28,
        "start_time": "2022-03-21T17:47:02.532Z"
      },
      {
        "duration": 3,
        "start_time": "2022-03-21T17:47:17.781Z"
      },
      {
        "duration": 13,
        "start_time": "2022-03-21T17:47:22.709Z"
      },
      {
        "duration": 4,
        "start_time": "2022-03-21T17:47:29.343Z"
      },
      {
        "duration": 23,
        "start_time": "2022-03-21T17:47:35.069Z"
      },
      {
        "duration": 3883,
        "start_time": "2022-03-21T17:47:41.351Z"
      },
      {
        "duration": 3408,
        "start_time": "2022-03-21T17:48:07.650Z"
      },
      {
        "duration": 7,
        "start_time": "2022-03-21T17:49:13.582Z"
      },
      {
        "duration": 3450,
        "start_time": "2022-03-21T17:49:36.550Z"
      },
      {
        "duration": 3359,
        "start_time": "2022-03-21T17:50:31.556Z"
      },
      {
        "duration": 3613,
        "start_time": "2022-03-21T17:52:18.014Z"
      },
      {
        "duration": 28,
        "start_time": "2022-03-21T17:52:46.056Z"
      },
      {
        "duration": 5435,
        "start_time": "2022-03-21T17:53:37.247Z"
      },
      {
        "duration": 23,
        "start_time": "2022-03-21T17:53:57.429Z"
      },
      {
        "duration": 12,
        "start_time": "2022-03-21T17:58:08.073Z"
      },
      {
        "duration": 7,
        "start_time": "2022-03-21T17:58:16.504Z"
      },
      {
        "duration": 3786,
        "start_time": "2022-03-21T17:58:26.815Z"
      },
      {
        "duration": 3501,
        "start_time": "2022-03-21T17:59:08.494Z"
      },
      {
        "duration": 3,
        "start_time": "2022-03-21T18:00:10.174Z"
      },
      {
        "duration": 3,
        "start_time": "2022-03-21T18:00:13.854Z"
      },
      {
        "duration": 244,
        "start_time": "2022-03-21T18:00:18.590Z"
      },
      {
        "duration": 7,
        "start_time": "2022-03-21T18:00:23.398Z"
      },
      {
        "duration": 15,
        "start_time": "2022-03-21T18:00:37.694Z"
      },
      {
        "duration": 25,
        "start_time": "2022-03-21T18:01:09.029Z"
      },
      {
        "duration": 16,
        "start_time": "2022-03-21T18:01:27.369Z"
      },
      {
        "duration": 23,
        "start_time": "2022-03-21T18:01:31.670Z"
      },
      {
        "duration": 3501,
        "start_time": "2022-03-21T18:03:19.981Z"
      },
      {
        "duration": 16,
        "start_time": "2022-03-21T18:03:30.324Z"
      },
      {
        "duration": 24,
        "start_time": "2022-03-21T18:03:35.013Z"
      },
      {
        "duration": 39,
        "start_time": "2022-03-21T18:05:55.925Z"
      },
      {
        "duration": 72,
        "start_time": "2022-03-21T18:08:02.293Z"
      },
      {
        "duration": 76,
        "start_time": "2022-03-21T18:08:31.380Z"
      },
      {
        "duration": 68,
        "start_time": "2022-03-21T18:08:41.274Z"
      },
      {
        "duration": 69,
        "start_time": "2022-03-21T18:09:03.558Z"
      },
      {
        "duration": 74,
        "start_time": "2022-03-21T18:09:08.903Z"
      },
      {
        "duration": 75,
        "start_time": "2022-03-21T18:09:26.801Z"
      },
      {
        "duration": 88,
        "start_time": "2022-03-21T18:09:43.270Z"
      },
      {
        "duration": 72,
        "start_time": "2022-03-21T18:09:46.469Z"
      },
      {
        "duration": 57,
        "start_time": "2022-03-21T18:09:52.631Z"
      },
      {
        "duration": 61,
        "start_time": "2022-03-21T18:10:05.064Z"
      },
      {
        "duration": 77,
        "start_time": "2022-03-21T18:10:14.061Z"
      },
      {
        "duration": 68,
        "start_time": "2022-03-21T18:10:33.453Z"
      },
      {
        "duration": 86,
        "start_time": "2022-03-21T18:10:44.298Z"
      },
      {
        "duration": 60,
        "start_time": "2022-03-21T18:10:55.110Z"
      },
      {
        "duration": 23,
        "start_time": "2022-03-21T18:10:58.095Z"
      },
      {
        "duration": 61,
        "start_time": "2022-03-21T18:11:00.871Z"
      },
      {
        "duration": 3,
        "start_time": "2022-03-21T18:12:11.015Z"
      },
      {
        "duration": 162,
        "start_time": "2022-03-21T18:12:12.814Z"
      },
      {
        "duration": 15,
        "start_time": "2022-03-21T18:12:14.840Z"
      },
      {
        "duration": 28,
        "start_time": "2022-03-21T18:12:17.206Z"
      },
      {
        "duration": 3,
        "start_time": "2022-03-21T18:12:30.106Z"
      },
      {
        "duration": 10,
        "start_time": "2022-03-21T18:12:32.416Z"
      },
      {
        "duration": 3,
        "start_time": "2022-03-21T18:12:34.423Z"
      },
      {
        "duration": 24,
        "start_time": "2022-03-21T18:12:36.733Z"
      },
      {
        "duration": 18,
        "start_time": "2022-03-21T18:12:39.829Z"
      },
      {
        "duration": 24,
        "start_time": "2022-03-21T18:12:46.655Z"
      },
      {
        "duration": 56,
        "start_time": "2022-03-21T18:12:51.166Z"
      },
      {
        "duration": 63,
        "start_time": "2022-03-21T18:12:55.900Z"
      },
      {
        "duration": 73,
        "start_time": "2022-03-21T18:13:26.333Z"
      },
      {
        "duration": 71,
        "start_time": "2022-03-21T18:15:20.480Z"
      },
      {
        "duration": 67,
        "start_time": "2022-03-21T18:15:30.974Z"
      },
      {
        "duration": 57,
        "start_time": "2022-03-21T18:15:37.751Z"
      },
      {
        "duration": 53,
        "start_time": "2022-03-21T18:17:25.325Z"
      },
      {
        "duration": 8,
        "start_time": "2022-03-21T18:17:29.253Z"
      },
      {
        "duration": 3,
        "start_time": "2022-03-21T18:17:33.214Z"
      },
      {
        "duration": 13,
        "start_time": "2022-03-21T18:17:56.088Z"
      },
      {
        "duration": 10,
        "start_time": "2022-03-21T18:18:00.173Z"
      },
      {
        "duration": 7,
        "start_time": "2022-03-21T18:19:55.534Z"
      },
      {
        "duration": 14,
        "start_time": "2022-03-21T18:20:08.433Z"
      },
      {
        "duration": 3709,
        "start_time": "2022-03-21T18:22:41.974Z"
      },
      {
        "duration": 8,
        "start_time": "2022-03-21T18:23:19.999Z"
      },
      {
        "duration": 13,
        "start_time": "2022-03-21T18:23:42.496Z"
      },
      {
        "duration": 7,
        "start_time": "2022-03-21T18:23:45.446Z"
      },
      {
        "duration": 46,
        "start_time": "2022-03-21T18:24:06.799Z"
      },
      {
        "duration": 48,
        "start_time": "2022-03-21T18:26:04.320Z"
      },
      {
        "duration": 44,
        "start_time": "2022-03-21T18:26:49.287Z"
      },
      {
        "duration": 30,
        "start_time": "2022-03-21T18:28:09.398Z"
      },
      {
        "duration": 35,
        "start_time": "2022-03-21T18:28:24.998Z"
      },
      {
        "duration": 8,
        "start_time": "2022-03-21T18:30:01.156Z"
      },
      {
        "duration": 9,
        "start_time": "2022-03-21T18:30:10.087Z"
      },
      {
        "duration": 8,
        "start_time": "2022-03-21T18:30:16.840Z"
      },
      {
        "duration": 8,
        "start_time": "2022-03-21T18:30:36.590Z"
      },
      {
        "duration": 13,
        "start_time": "2022-03-21T18:30:43.384Z"
      },
      {
        "duration": 32,
        "start_time": "2022-03-21T18:31:08.230Z"
      },
      {
        "duration": 32,
        "start_time": "2022-03-21T18:33:09.225Z"
      },
      {
        "duration": 3,
        "start_time": "2022-03-21T18:36:36.157Z"
      },
      {
        "duration": 18,
        "start_time": "2022-03-21T18:36:39.063Z"
      },
      {
        "duration": 15,
        "start_time": "2022-03-21T18:36:41.014Z"
      },
      {
        "duration": 16,
        "start_time": "2022-03-21T18:36:41.558Z"
      },
      {
        "duration": 15,
        "start_time": "2022-03-21T18:36:41.989Z"
      },
      {
        "duration": 18,
        "start_time": "2022-03-21T18:36:43.431Z"
      },
      {
        "duration": 17,
        "start_time": "2022-03-21T18:36:43.982Z"
      },
      {
        "duration": 7,
        "start_time": "2022-03-21T18:36:45.574Z"
      },
      {
        "duration": 11,
        "start_time": "2022-03-21T18:36:50.711Z"
      },
      {
        "duration": 9,
        "start_time": "2022-03-21T18:36:51.230Z"
      },
      {
        "duration": 4,
        "start_time": "2022-03-21T18:36:53.191Z"
      },
      {
        "duration": 16,
        "start_time": "2022-03-21T18:36:55.678Z"
      },
      {
        "duration": 11,
        "start_time": "2022-03-21T18:36:56.231Z"
      },
      {
        "duration": 21,
        "start_time": "2022-03-21T18:36:56.733Z"
      },
      {
        "duration": 13,
        "start_time": "2022-03-21T18:36:57.307Z"
      },
      {
        "duration": 8,
        "start_time": "2022-03-21T18:37:03.422Z"
      },
      {
        "duration": 4,
        "start_time": "2022-03-21T18:37:05.751Z"
      },
      {
        "duration": 7,
        "start_time": "2022-03-21T18:37:08.851Z"
      },
      {
        "duration": 5,
        "start_time": "2022-03-21T18:37:11.102Z"
      },
      {
        "duration": 43,
        "start_time": "2022-03-21T21:29:37.068Z"
      },
      {
        "duration": 356,
        "start_time": "2022-03-21T21:29:52.608Z"
      },
      {
        "duration": 143,
        "start_time": "2022-03-21T21:29:54.231Z"
      },
      {
        "duration": 17,
        "start_time": "2022-03-21T21:29:55.484Z"
      },
      {
        "duration": 27,
        "start_time": "2022-03-21T21:29:58.765Z"
      },
      {
        "duration": 4,
        "start_time": "2022-03-21T21:30:05.227Z"
      },
      {
        "duration": 12,
        "start_time": "2022-03-21T21:30:07.725Z"
      },
      {
        "duration": 3,
        "start_time": "2022-03-21T21:30:09.833Z"
      },
      {
        "duration": 23,
        "start_time": "2022-03-21T21:30:12.140Z"
      },
      {
        "duration": 16,
        "start_time": "2022-03-21T21:30:14.094Z"
      },
      {
        "duration": 24,
        "start_time": "2022-03-21T21:30:17.126Z"
      },
      {
        "duration": 61,
        "start_time": "2022-03-21T21:30:20.374Z"
      },
      {
        "duration": 72,
        "start_time": "2022-03-21T21:30:22.389Z"
      },
      {
        "duration": 53,
        "start_time": "2022-03-21T21:30:24.179Z"
      },
      {
        "duration": 7,
        "start_time": "2022-03-21T21:30:26.173Z"
      },
      {
        "duration": 4,
        "start_time": "2022-03-21T21:30:29.245Z"
      },
      {
        "duration": 10,
        "start_time": "2022-03-21T21:30:30.987Z"
      },
      {
        "duration": 7,
        "start_time": "2022-03-21T21:30:32.981Z"
      },
      {
        "duration": 12,
        "start_time": "2022-03-21T21:30:36.159Z"
      },
      {
        "duration": 28,
        "start_time": "2022-03-21T21:30:41.238Z"
      },
      {
        "duration": 8,
        "start_time": "2022-03-21T21:30:53.341Z"
      },
      {
        "duration": 6,
        "start_time": "2022-03-21T21:31:49.597Z"
      },
      {
        "duration": 9,
        "start_time": "2022-03-21T21:31:59.323Z"
      },
      {
        "duration": 12,
        "start_time": "2022-03-21T21:32:21.910Z"
      },
      {
        "duration": 9,
        "start_time": "2022-03-21T21:33:00.924Z"
      },
      {
        "duration": 11,
        "start_time": "2022-03-21T21:33:13.457Z"
      },
      {
        "duration": 13,
        "start_time": "2022-03-21T21:35:06.681Z"
      }
    ],
    "colab": {
      "collapsed_sections": [
        "E0vqbgi9ay0H",
        "VUC88oWjTJw2"
      ],
      "name": "yandex_music_project_2021.2.ipynb",
      "provenance": []
    },
    "kernelspec": {
      "display_name": "Python 3 (ipykernel)",
      "language": "python",
      "name": "python3"
    },
    "language_info": {
      "codemirror_mode": {
        "name": "ipython",
        "version": 3
      },
      "file_extension": ".py",
      "mimetype": "text/x-python",
      "name": "python",
      "nbconvert_exporter": "python",
      "pygments_lexer": "ipython3",
      "version": "3.9.5"
    },
    "toc": {
      "base_numbering": 1,
      "nav_menu": {},
      "number_sections": true,
      "sideBar": true,
      "skip_h1_title": true,
      "title_cell": "Table of Contents",
      "title_sidebar": "Contents",
      "toc_cell": false,
      "toc_position": {},
      "toc_section_display": true,
      "toc_window_display": true
    }
  },
  "nbformat": 4,
  "nbformat_minor": 0
}