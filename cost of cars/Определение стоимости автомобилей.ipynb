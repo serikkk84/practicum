{
  "cells": [
    {
      "cell_type": "markdown",
      "metadata": {
        "id": "XjvIZ3jEMzK8"
      },
      "source": [
        "# Определение стоимости автомобилей"
      ]
    },
    {
      "cell_type": "markdown",
      "metadata": {
        "id": "4FVhnOPEMzK8"
      },
      "source": [
        "Сервис по продаже автомобилей с пробегом «Не бит, не крашен» разрабатывает приложение для привлечения новых клиентов. В нём можно быстро узнать рыночную стоимость своего автомобиля. В нашем распоряжении исторические данные: технические характеристики, комплектации и цены автомобилей. Нам нужно построить модель для определения стоимости. \n",
        "\n",
        "Заказчику важны:\n",
        "\n",
        "- качество предсказания;\n",
        "- скорость предсказания;\n",
        "- время обучения."
      ]
    },
    {
      "cell_type": "markdown",
      "metadata": {
        "id": "PfHR8MX3MzK9"
      },
      "source": [
        "## Подготовка данных"
      ]
    },
    {
      "cell_type": "markdown",
      "metadata": {
        "id": "rvuEcbHNMzK-"
      },
      "source": [
        "Итак, нам необходимо обучить модель предсказания стоимсоти автомобиля для привлечения новых клиентов. Так же следует учитывать, что заказчика не только интересует качество предсказания, но так же и скорость."
      ]
    },
    {
      "cell_type": "markdown",
      "metadata": {
        "id": "gb7ChN-wMzK_"
      },
      "source": [
        "Для решения задачи, первым делом необходимо будет изучить данные и провести их предобработку для того, чтобы полученная модель давала наиболее качественные предсказания. Затем обучим несколько разных типов моделей и выберем лучшую из них по метрике RMSE (по заданию не менее 2500) на тестовой выборке с учетом требований заказчика по скорости обучения и предсказания."
      ]
    },
    {
      "cell_type": "markdown",
      "metadata": {
        "id": "3QZr7CzOMzK_"
      },
      "source": [
        "Импортируем необходимый для работы библиотеки"
      ]
    },
    {
      "cell_type": "code",
      "execution_count": null,
      "metadata": {
        "id": "EzY0iyOYMzLA"
      },
      "outputs": [],
      "source": [
        "import pandas as pd\n",
        "import matplotlib.pyplot as plt\n",
        "import seaborn as sns\n",
        "import time\n",
        "\n",
        "\n",
        "import warnings\n",
        "warnings.simplefilter(action='ignore', category=FutureWarning)\n",
        "\n",
        "from sklearn.preprocessing import OrdinalEncoder \n",
        "\n",
        "from sklearn.model_selection import train_test_split\n",
        "from sklearn.metrics import mean_squared_error\n",
        "from sklearn.tree import DecisionTreeRegressor\n",
        "from sklearn.ensemble import RandomForestRegressor\n",
        "from sklearn.linear_model import LinearRegression\n",
        "from catboost import CatBoostRegressor\n",
        "from lightgbm import LGBMRegressor\n",
        "\n",
        "\n",
        "\n"
      ]
    },
    {
      "cell_type": "markdown",
      "metadata": {
        "id": "UXaVAagoMzLD"
      },
      "source": [
        "Загрузим данные."
      ]
    },
    {
      "cell_type": "code",
      "execution_count": null,
      "metadata": {
        "id": "Khl7ONKtMzLD",
        "outputId": "6e7593da-a1f8-41ef-98ef-0b29e21cf378"
      },
      "outputs": [
        {
          "data": {
            "text/html": [
              "<div>\n",
              "<style scoped>\n",
              "    .dataframe tbody tr th:only-of-type {\n",
              "        vertical-align: middle;\n",
              "    }\n",
              "\n",
              "    .dataframe tbody tr th {\n",
              "        vertical-align: top;\n",
              "    }\n",
              "\n",
              "    .dataframe thead th {\n",
              "        text-align: right;\n",
              "    }\n",
              "</style>\n",
              "<table border=\"1\" class=\"dataframe\">\n",
              "  <thead>\n",
              "    <tr style=\"text-align: right;\">\n",
              "      <th></th>\n",
              "      <th>DateCrawled</th>\n",
              "      <th>Price</th>\n",
              "      <th>VehicleType</th>\n",
              "      <th>RegistrationYear</th>\n",
              "      <th>Gearbox</th>\n",
              "      <th>Power</th>\n",
              "      <th>Model</th>\n",
              "      <th>Kilometer</th>\n",
              "      <th>RegistrationMonth</th>\n",
              "      <th>FuelType</th>\n",
              "      <th>Brand</th>\n",
              "      <th>NotRepaired</th>\n",
              "      <th>DateCreated</th>\n",
              "      <th>NumberOfPictures</th>\n",
              "      <th>PostalCode</th>\n",
              "      <th>LastSeen</th>\n",
              "    </tr>\n",
              "  </thead>\n",
              "  <tbody>\n",
              "    <tr>\n",
              "      <th>0</th>\n",
              "      <td>2016-03-24 11:52:17</td>\n",
              "      <td>480</td>\n",
              "      <td>NaN</td>\n",
              "      <td>1993</td>\n",
              "      <td>manual</td>\n",
              "      <td>0</td>\n",
              "      <td>golf</td>\n",
              "      <td>150000</td>\n",
              "      <td>0</td>\n",
              "      <td>petrol</td>\n",
              "      <td>volkswagen</td>\n",
              "      <td>NaN</td>\n",
              "      <td>2016-03-24 00:00:00</td>\n",
              "      <td>0</td>\n",
              "      <td>70435</td>\n",
              "      <td>2016-04-07 03:16:57</td>\n",
              "    </tr>\n",
              "    <tr>\n",
              "      <th>1</th>\n",
              "      <td>2016-03-24 10:58:45</td>\n",
              "      <td>18300</td>\n",
              "      <td>coupe</td>\n",
              "      <td>2011</td>\n",
              "      <td>manual</td>\n",
              "      <td>190</td>\n",
              "      <td>NaN</td>\n",
              "      <td>125000</td>\n",
              "      <td>5</td>\n",
              "      <td>gasoline</td>\n",
              "      <td>audi</td>\n",
              "      <td>yes</td>\n",
              "      <td>2016-03-24 00:00:00</td>\n",
              "      <td>0</td>\n",
              "      <td>66954</td>\n",
              "      <td>2016-04-07 01:46:50</td>\n",
              "    </tr>\n",
              "    <tr>\n",
              "      <th>2</th>\n",
              "      <td>2016-03-14 12:52:21</td>\n",
              "      <td>9800</td>\n",
              "      <td>suv</td>\n",
              "      <td>2004</td>\n",
              "      <td>auto</td>\n",
              "      <td>163</td>\n",
              "      <td>grand</td>\n",
              "      <td>125000</td>\n",
              "      <td>8</td>\n",
              "      <td>gasoline</td>\n",
              "      <td>jeep</td>\n",
              "      <td>NaN</td>\n",
              "      <td>2016-03-14 00:00:00</td>\n",
              "      <td>0</td>\n",
              "      <td>90480</td>\n",
              "      <td>2016-04-05 12:47:46</td>\n",
              "    </tr>\n",
              "    <tr>\n",
              "      <th>3</th>\n",
              "      <td>2016-03-17 16:54:04</td>\n",
              "      <td>1500</td>\n",
              "      <td>small</td>\n",
              "      <td>2001</td>\n",
              "      <td>manual</td>\n",
              "      <td>75</td>\n",
              "      <td>golf</td>\n",
              "      <td>150000</td>\n",
              "      <td>6</td>\n",
              "      <td>petrol</td>\n",
              "      <td>volkswagen</td>\n",
              "      <td>no</td>\n",
              "      <td>2016-03-17 00:00:00</td>\n",
              "      <td>0</td>\n",
              "      <td>91074</td>\n",
              "      <td>2016-03-17 17:40:17</td>\n",
              "    </tr>\n",
              "    <tr>\n",
              "      <th>4</th>\n",
              "      <td>2016-03-31 17:25:20</td>\n",
              "      <td>3600</td>\n",
              "      <td>small</td>\n",
              "      <td>2008</td>\n",
              "      <td>manual</td>\n",
              "      <td>69</td>\n",
              "      <td>fabia</td>\n",
              "      <td>90000</td>\n",
              "      <td>7</td>\n",
              "      <td>gasoline</td>\n",
              "      <td>skoda</td>\n",
              "      <td>no</td>\n",
              "      <td>2016-03-31 00:00:00</td>\n",
              "      <td>0</td>\n",
              "      <td>60437</td>\n",
              "      <td>2016-04-06 10:17:21</td>\n",
              "    </tr>\n",
              "    <tr>\n",
              "      <th>...</th>\n",
              "      <td>...</td>\n",
              "      <td>...</td>\n",
              "      <td>...</td>\n",
              "      <td>...</td>\n",
              "      <td>...</td>\n",
              "      <td>...</td>\n",
              "      <td>...</td>\n",
              "      <td>...</td>\n",
              "      <td>...</td>\n",
              "      <td>...</td>\n",
              "      <td>...</td>\n",
              "      <td>...</td>\n",
              "      <td>...</td>\n",
              "      <td>...</td>\n",
              "      <td>...</td>\n",
              "      <td>...</td>\n",
              "    </tr>\n",
              "    <tr>\n",
              "      <th>354364</th>\n",
              "      <td>2016-03-21 09:50:58</td>\n",
              "      <td>0</td>\n",
              "      <td>NaN</td>\n",
              "      <td>2005</td>\n",
              "      <td>manual</td>\n",
              "      <td>0</td>\n",
              "      <td>colt</td>\n",
              "      <td>150000</td>\n",
              "      <td>7</td>\n",
              "      <td>petrol</td>\n",
              "      <td>mitsubishi</td>\n",
              "      <td>yes</td>\n",
              "      <td>2016-03-21 00:00:00</td>\n",
              "      <td>0</td>\n",
              "      <td>2694</td>\n",
              "      <td>2016-03-21 10:42:49</td>\n",
              "    </tr>\n",
              "    <tr>\n",
              "      <th>354365</th>\n",
              "      <td>2016-03-14 17:48:27</td>\n",
              "      <td>2200</td>\n",
              "      <td>NaN</td>\n",
              "      <td>2005</td>\n",
              "      <td>NaN</td>\n",
              "      <td>0</td>\n",
              "      <td>NaN</td>\n",
              "      <td>20000</td>\n",
              "      <td>1</td>\n",
              "      <td>NaN</td>\n",
              "      <td>sonstige_autos</td>\n",
              "      <td>NaN</td>\n",
              "      <td>2016-03-14 00:00:00</td>\n",
              "      <td>0</td>\n",
              "      <td>39576</td>\n",
              "      <td>2016-04-06 00:46:52</td>\n",
              "    </tr>\n",
              "    <tr>\n",
              "      <th>354366</th>\n",
              "      <td>2016-03-05 19:56:21</td>\n",
              "      <td>1199</td>\n",
              "      <td>convertible</td>\n",
              "      <td>2000</td>\n",
              "      <td>auto</td>\n",
              "      <td>101</td>\n",
              "      <td>fortwo</td>\n",
              "      <td>125000</td>\n",
              "      <td>3</td>\n",
              "      <td>petrol</td>\n",
              "      <td>smart</td>\n",
              "      <td>no</td>\n",
              "      <td>2016-03-05 00:00:00</td>\n",
              "      <td>0</td>\n",
              "      <td>26135</td>\n",
              "      <td>2016-03-11 18:17:12</td>\n",
              "    </tr>\n",
              "    <tr>\n",
              "      <th>354367</th>\n",
              "      <td>2016-03-19 18:57:12</td>\n",
              "      <td>9200</td>\n",
              "      <td>bus</td>\n",
              "      <td>1996</td>\n",
              "      <td>manual</td>\n",
              "      <td>102</td>\n",
              "      <td>transporter</td>\n",
              "      <td>150000</td>\n",
              "      <td>3</td>\n",
              "      <td>gasoline</td>\n",
              "      <td>volkswagen</td>\n",
              "      <td>no</td>\n",
              "      <td>2016-03-19 00:00:00</td>\n",
              "      <td>0</td>\n",
              "      <td>87439</td>\n",
              "      <td>2016-04-07 07:15:26</td>\n",
              "    </tr>\n",
              "    <tr>\n",
              "      <th>354368</th>\n",
              "      <td>2016-03-20 19:41:08</td>\n",
              "      <td>3400</td>\n",
              "      <td>wagon</td>\n",
              "      <td>2002</td>\n",
              "      <td>manual</td>\n",
              "      <td>100</td>\n",
              "      <td>golf</td>\n",
              "      <td>150000</td>\n",
              "      <td>6</td>\n",
              "      <td>gasoline</td>\n",
              "      <td>volkswagen</td>\n",
              "      <td>NaN</td>\n",
              "      <td>2016-03-20 00:00:00</td>\n",
              "      <td>0</td>\n",
              "      <td>40764</td>\n",
              "      <td>2016-03-24 12:45:21</td>\n",
              "    </tr>\n",
              "  </tbody>\n",
              "</table>\n",
              "<p>354369 rows × 16 columns</p>\n",
              "</div>"
            ],
            "text/plain": [
              "                DateCrawled  Price  VehicleType  RegistrationYear Gearbox  \\\n",
              "0       2016-03-24 11:52:17    480          NaN              1993  manual   \n",
              "1       2016-03-24 10:58:45  18300        coupe              2011  manual   \n",
              "2       2016-03-14 12:52:21   9800          suv              2004    auto   \n",
              "3       2016-03-17 16:54:04   1500        small              2001  manual   \n",
              "4       2016-03-31 17:25:20   3600        small              2008  manual   \n",
              "...                     ...    ...          ...               ...     ...   \n",
              "354364  2016-03-21 09:50:58      0          NaN              2005  manual   \n",
              "354365  2016-03-14 17:48:27   2200          NaN              2005     NaN   \n",
              "354366  2016-03-05 19:56:21   1199  convertible              2000    auto   \n",
              "354367  2016-03-19 18:57:12   9200          bus              1996  manual   \n",
              "354368  2016-03-20 19:41:08   3400        wagon              2002  manual   \n",
              "\n",
              "        Power        Model  Kilometer  RegistrationMonth  FuelType  \\\n",
              "0           0         golf     150000                  0    petrol   \n",
              "1         190          NaN     125000                  5  gasoline   \n",
              "2         163        grand     125000                  8  gasoline   \n",
              "3          75         golf     150000                  6    petrol   \n",
              "4          69        fabia      90000                  7  gasoline   \n",
              "...       ...          ...        ...                ...       ...   \n",
              "354364      0         colt     150000                  7    petrol   \n",
              "354365      0          NaN      20000                  1       NaN   \n",
              "354366    101       fortwo     125000                  3    petrol   \n",
              "354367    102  transporter     150000                  3  gasoline   \n",
              "354368    100         golf     150000                  6  gasoline   \n",
              "\n",
              "                 Brand NotRepaired          DateCreated  NumberOfPictures  \\\n",
              "0           volkswagen         NaN  2016-03-24 00:00:00                 0   \n",
              "1                 audi         yes  2016-03-24 00:00:00                 0   \n",
              "2                 jeep         NaN  2016-03-14 00:00:00                 0   \n",
              "3           volkswagen          no  2016-03-17 00:00:00                 0   \n",
              "4                skoda          no  2016-03-31 00:00:00                 0   \n",
              "...                ...         ...                  ...               ...   \n",
              "354364      mitsubishi         yes  2016-03-21 00:00:00                 0   \n",
              "354365  sonstige_autos         NaN  2016-03-14 00:00:00                 0   \n",
              "354366           smart          no  2016-03-05 00:00:00                 0   \n",
              "354367      volkswagen          no  2016-03-19 00:00:00                 0   \n",
              "354368      volkswagen         NaN  2016-03-20 00:00:00                 0   \n",
              "\n",
              "        PostalCode             LastSeen  \n",
              "0            70435  2016-04-07 03:16:57  \n",
              "1            66954  2016-04-07 01:46:50  \n",
              "2            90480  2016-04-05 12:47:46  \n",
              "3            91074  2016-03-17 17:40:17  \n",
              "4            60437  2016-04-06 10:17:21  \n",
              "...            ...                  ...  \n",
              "354364        2694  2016-03-21 10:42:49  \n",
              "354365       39576  2016-04-06 00:46:52  \n",
              "354366       26135  2016-03-11 18:17:12  \n",
              "354367       87439  2016-04-07 07:15:26  \n",
              "354368       40764  2016-03-24 12:45:21  \n",
              "\n",
              "[354369 rows x 16 columns]"
            ]
          },
          "execution_count": 2,
          "metadata": {},
          "output_type": "execute_result"
        }
      ],
      "source": [
        "try:\n",
        "    data = pd.read_csv('autos.csv')\n",
        "except:\n",
        "    data = pd.read_csv('/datasets/autos.csv')\n",
        "data"
      ]
    },
    {
      "cell_type": "markdown",
      "metadata": {
        "id": "Kup4Z_iTMzLE"
      },
      "source": [
        "Данных нереально много. Думаю перед началом предобработки есть смысл удалить часть столбцов, которые совершенно точно не помогут обучению, а будут только замедлять программу."
      ]
    },
    {
      "cell_type": "markdown",
      "metadata": {
        "id": "q40Lrz69MzLF"
      },
      "source": [
        "Думаю, можно смело удалить столбцы:\n",
        "1. DateCrawled - дата скачивания анкеты из базы;\n",
        "2. RegistrationMonth  - месяц регистрации автомобиля (в данных есть стобец \"год регистрации\");\n",
        "3. DateCreated — дата создания анкеты;\n",
        "4. LastSeen — дата последней активности пользователя"
      ]
    },
    {
      "cell_type": "code",
      "execution_count": null,
      "metadata": {
        "id": "pHJcoUCkMzLF"
      },
      "outputs": [],
      "source": [
        "data = data.drop(['DateCrawled', 'RegistrationMonth', 'DateCreated', 'LastSeen'], axis=1)"
      ]
    },
    {
      "cell_type": "markdown",
      "metadata": {
        "id": "TjUloRcyMzLG"
      },
      "source": [
        "Изучим содержимое данных"
      ]
    },
    {
      "cell_type": "code",
      "execution_count": null,
      "metadata": {
        "scrolled": true,
        "id": "GgiiJ3zcMzLH",
        "outputId": "1fed4074-ecc7-469a-b309-84038ebc10cf"
      },
      "outputs": [
        {
          "name": "stdout",
          "output_type": "stream",
          "text": [
            "<class 'pandas.core.frame.DataFrame'>\n",
            "RangeIndex: 354369 entries, 0 to 354368\n",
            "Data columns (total 12 columns):\n",
            " #   Column            Non-Null Count   Dtype \n",
            "---  ------            --------------   ----- \n",
            " 0   Price             354369 non-null  int64 \n",
            " 1   VehicleType       316879 non-null  object\n",
            " 2   RegistrationYear  354369 non-null  int64 \n",
            " 3   Gearbox           334536 non-null  object\n",
            " 4   Power             354369 non-null  int64 \n",
            " 5   Model             334664 non-null  object\n",
            " 6   Kilometer         354369 non-null  int64 \n",
            " 7   FuelType          321474 non-null  object\n",
            " 8   Brand             354369 non-null  object\n",
            " 9   NotRepaired       283215 non-null  object\n",
            " 10  NumberOfPictures  354369 non-null  int64 \n",
            " 11  PostalCode        354369 non-null  int64 \n",
            "dtypes: int64(6), object(6)\n",
            "memory usage: 32.4+ MB\n"
          ]
        }
      ],
      "source": [
        "data.info()"
      ]
    },
    {
      "cell_type": "markdown",
      "metadata": {
        "id": "64uWQfsbMzLI"
      },
      "source": [
        "Самая важная инофрмация содержется в столбце - \"Цена\", это целевой признак, с него и начнем. Посмотрим на распределение, чтобы определить аномальные значения."
      ]
    },
    {
      "cell_type": "code",
      "execution_count": null,
      "metadata": {
        "scrolled": true,
        "id": "6N0nFheZMzLI",
        "outputId": "e9685c79-f5f5-4b91-8768-479044ac2382"
      },
      "outputs": [
        {
          "data": {
            "text/plain": [
              "<AxesSubplot:>"
            ]
          },
          "execution_count": 5,
          "metadata": {},
          "output_type": "execute_result"
        },
        {
          "data": {
            "image/png": "[encoded data removed]",
            "text/plain": [
              "<Figure size 432x288 with 1 Axes>"
            ]
          },
          "metadata": {
            "needs_background": "light"
          },
          "output_type": "display_data"
        }
      ],
      "source": [
        "data['Price'].hist()\n"
      ]
    },
    {
      "cell_type": "markdown",
      "metadata": {
        "id": "cgzdvUEgMzLJ"
      },
      "source": [
        "Очеь много автомобилей с ценой близкой нулю. Посмотрим."
      ]
    },
    {
      "cell_type": "code",
      "execution_count": null,
      "metadata": {
        "id": "TY_SxpB3MzLJ",
        "outputId": "2e171f96-462b-4986-8a47-6a93930e654b"
      },
      "outputs": [
        {
          "data": {
            "text/plain": [
              "Price               10772\n",
              "VehicleType          7032\n",
              "RegistrationYear    10772\n",
              "Gearbox              8294\n",
              "Power               10772\n",
              "Model                8588\n",
              "Kilometer           10772\n",
              "FuelType             7336\n",
              "Brand               10772\n",
              "NotRepaired          5484\n",
              "NumberOfPictures    10772\n",
              "PostalCode          10772\n",
              "dtype: int64"
            ]
          },
          "execution_count": 6,
          "metadata": {},
          "output_type": "execute_result"
        }
      ],
      "source": [
        "data.query('Price == 0').count()"
      ]
    },
    {
      "cell_type": "markdown",
      "metadata": {
        "id": "nWW6Wul4MzLK"
      },
      "source": [
        "Почти в одиннадцати тысячах объявлений не указана цена авто. Очевидно, это ошибка. В любом случае эти данные следует удалить, так как они исказять работу модели"
      ]
    },
    {
      "cell_type": "code",
      "execution_count": null,
      "metadata": {
        "id": "I25preO-MzLL"
      },
      "outputs": [],
      "source": [
        "data.drop(data[data.Price == 0].index, inplace=True)"
      ]
    },
    {
      "cell_type": "code",
      "execution_count": null,
      "metadata": {
        "id": "RjZwHbjLMzLM",
        "outputId": "c3d09f1f-494c-431b-bca6-26a664f2b1cd"
      },
      "outputs": [
        {
          "data": {
            "text/html": [
              "<div>\n",
              "<style scoped>\n",
              "    .dataframe tbody tr th:only-of-type {\n",
              "        vertical-align: middle;\n",
              "    }\n",
              "\n",
              "    .dataframe tbody tr th {\n",
              "        vertical-align: top;\n",
              "    }\n",
              "\n",
              "    .dataframe thead th {\n",
              "        text-align: right;\n",
              "    }\n",
              "</style>\n",
              "<table border=\"1\" class=\"dataframe\">\n",
              "  <thead>\n",
              "    <tr style=\"text-align: right;\">\n",
              "      <th></th>\n",
              "      <th>Price</th>\n",
              "      <th>VehicleType</th>\n",
              "      <th>RegistrationYear</th>\n",
              "      <th>Gearbox</th>\n",
              "      <th>Power</th>\n",
              "      <th>Model</th>\n",
              "      <th>Kilometer</th>\n",
              "      <th>FuelType</th>\n",
              "      <th>Brand</th>\n",
              "      <th>NotRepaired</th>\n",
              "      <th>NumberOfPictures</th>\n",
              "      <th>PostalCode</th>\n",
              "    </tr>\n",
              "  </thead>\n",
              "  <tbody>\n",
              "    <tr>\n",
              "      <th>0</th>\n",
              "      <td>480</td>\n",
              "      <td>NaN</td>\n",
              "      <td>1993</td>\n",
              "      <td>manual</td>\n",
              "      <td>0</td>\n",
              "      <td>golf</td>\n",
              "      <td>150000</td>\n",
              "      <td>petrol</td>\n",
              "      <td>volkswagen</td>\n",
              "      <td>NaN</td>\n",
              "      <td>0</td>\n",
              "      <td>70435</td>\n",
              "    </tr>\n",
              "    <tr>\n",
              "      <th>1</th>\n",
              "      <td>18300</td>\n",
              "      <td>coupe</td>\n",
              "      <td>2011</td>\n",
              "      <td>manual</td>\n",
              "      <td>190</td>\n",
              "      <td>NaN</td>\n",
              "      <td>125000</td>\n",
              "      <td>gasoline</td>\n",
              "      <td>audi</td>\n",
              "      <td>yes</td>\n",
              "      <td>0</td>\n",
              "      <td>66954</td>\n",
              "    </tr>\n",
              "    <tr>\n",
              "      <th>2</th>\n",
              "      <td>9800</td>\n",
              "      <td>suv</td>\n",
              "      <td>2004</td>\n",
              "      <td>auto</td>\n",
              "      <td>163</td>\n",
              "      <td>grand</td>\n",
              "      <td>125000</td>\n",
              "      <td>gasoline</td>\n",
              "      <td>jeep</td>\n",
              "      <td>NaN</td>\n",
              "      <td>0</td>\n",
              "      <td>90480</td>\n",
              "    </tr>\n",
              "    <tr>\n",
              "      <th>3</th>\n",
              "      <td>1500</td>\n",
              "      <td>small</td>\n",
              "      <td>2001</td>\n",
              "      <td>manual</td>\n",
              "      <td>75</td>\n",
              "      <td>golf</td>\n",
              "      <td>150000</td>\n",
              "      <td>petrol</td>\n",
              "      <td>volkswagen</td>\n",
              "      <td>no</td>\n",
              "      <td>0</td>\n",
              "      <td>91074</td>\n",
              "    </tr>\n",
              "    <tr>\n",
              "      <th>4</th>\n",
              "      <td>3600</td>\n",
              "      <td>small</td>\n",
              "      <td>2008</td>\n",
              "      <td>manual</td>\n",
              "      <td>69</td>\n",
              "      <td>fabia</td>\n",
              "      <td>90000</td>\n",
              "      <td>gasoline</td>\n",
              "      <td>skoda</td>\n",
              "      <td>no</td>\n",
              "      <td>0</td>\n",
              "      <td>60437</td>\n",
              "    </tr>\n",
              "    <tr>\n",
              "      <th>...</th>\n",
              "      <td>...</td>\n",
              "      <td>...</td>\n",
              "      <td>...</td>\n",
              "      <td>...</td>\n",
              "      <td>...</td>\n",
              "      <td>...</td>\n",
              "      <td>...</td>\n",
              "      <td>...</td>\n",
              "      <td>...</td>\n",
              "      <td>...</td>\n",
              "      <td>...</td>\n",
              "      <td>...</td>\n",
              "    </tr>\n",
              "    <tr>\n",
              "      <th>354363</th>\n",
              "      <td>1150</td>\n",
              "      <td>bus</td>\n",
              "      <td>2000</td>\n",
              "      <td>manual</td>\n",
              "      <td>0</td>\n",
              "      <td>zafira</td>\n",
              "      <td>150000</td>\n",
              "      <td>petrol</td>\n",
              "      <td>opel</td>\n",
              "      <td>no</td>\n",
              "      <td>0</td>\n",
              "      <td>26624</td>\n",
              "    </tr>\n",
              "    <tr>\n",
              "      <th>354365</th>\n",
              "      <td>2200</td>\n",
              "      <td>NaN</td>\n",
              "      <td>2005</td>\n",
              "      <td>NaN</td>\n",
              "      <td>0</td>\n",
              "      <td>NaN</td>\n",
              "      <td>20000</td>\n",
              "      <td>NaN</td>\n",
              "      <td>sonstige_autos</td>\n",
              "      <td>NaN</td>\n",
              "      <td>0</td>\n",
              "      <td>39576</td>\n",
              "    </tr>\n",
              "    <tr>\n",
              "      <th>354366</th>\n",
              "      <td>1199</td>\n",
              "      <td>convertible</td>\n",
              "      <td>2000</td>\n",
              "      <td>auto</td>\n",
              "      <td>101</td>\n",
              "      <td>fortwo</td>\n",
              "      <td>125000</td>\n",
              "      <td>petrol</td>\n",
              "      <td>smart</td>\n",
              "      <td>no</td>\n",
              "      <td>0</td>\n",
              "      <td>26135</td>\n",
              "    </tr>\n",
              "    <tr>\n",
              "      <th>354367</th>\n",
              "      <td>9200</td>\n",
              "      <td>bus</td>\n",
              "      <td>1996</td>\n",
              "      <td>manual</td>\n",
              "      <td>102</td>\n",
              "      <td>transporter</td>\n",
              "      <td>150000</td>\n",
              "      <td>gasoline</td>\n",
              "      <td>volkswagen</td>\n",
              "      <td>no</td>\n",
              "      <td>0</td>\n",
              "      <td>87439</td>\n",
              "    </tr>\n",
              "    <tr>\n",
              "      <th>354368</th>\n",
              "      <td>3400</td>\n",
              "      <td>wagon</td>\n",
              "      <td>2002</td>\n",
              "      <td>manual</td>\n",
              "      <td>100</td>\n",
              "      <td>golf</td>\n",
              "      <td>150000</td>\n",
              "      <td>gasoline</td>\n",
              "      <td>volkswagen</td>\n",
              "      <td>NaN</td>\n",
              "      <td>0</td>\n",
              "      <td>40764</td>\n",
              "    </tr>\n",
              "  </tbody>\n",
              "</table>\n",
              "<p>343597 rows × 12 columns</p>\n",
              "</div>"
            ],
            "text/plain": [
              "        Price  VehicleType  RegistrationYear Gearbox  Power        Model  \\\n",
              "0         480          NaN              1993  manual      0         golf   \n",
              "1       18300        coupe              2011  manual    190          NaN   \n",
              "2        9800          suv              2004    auto    163        grand   \n",
              "3        1500        small              2001  manual     75         golf   \n",
              "4        3600        small              2008  manual     69        fabia   \n",
              "...       ...          ...               ...     ...    ...          ...   \n",
              "354363   1150          bus              2000  manual      0       zafira   \n",
              "354365   2200          NaN              2005     NaN      0          NaN   \n",
              "354366   1199  convertible              2000    auto    101       fortwo   \n",
              "354367   9200          bus              1996  manual    102  transporter   \n",
              "354368   3400        wagon              2002  manual    100         golf   \n",
              "\n",
              "        Kilometer  FuelType           Brand NotRepaired  NumberOfPictures  \\\n",
              "0          150000    petrol      volkswagen         NaN                 0   \n",
              "1          125000  gasoline            audi         yes                 0   \n",
              "2          125000  gasoline            jeep         NaN                 0   \n",
              "3          150000    petrol      volkswagen          no                 0   \n",
              "4           90000  gasoline           skoda          no                 0   \n",
              "...           ...       ...             ...         ...               ...   \n",
              "354363     150000    petrol            opel          no                 0   \n",
              "354365      20000       NaN  sonstige_autos         NaN                 0   \n",
              "354366     125000    petrol           smart          no                 0   \n",
              "354367     150000  gasoline      volkswagen          no                 0   \n",
              "354368     150000  gasoline      volkswagen         NaN                 0   \n",
              "\n",
              "        PostalCode  \n",
              "0            70435  \n",
              "1            66954  \n",
              "2            90480  \n",
              "3            91074  \n",
              "4            60437  \n",
              "...            ...  \n",
              "354363       26624  \n",
              "354365       39576  \n",
              "354366       26135  \n",
              "354367       87439  \n",
              "354368       40764  \n",
              "\n",
              "[343597 rows x 12 columns]"
            ]
          },
          "execution_count": 8,
          "metadata": {},
          "output_type": "execute_result"
        }
      ],
      "source": [
        "data"
      ]
    },
    {
      "cell_type": "code",
      "execution_count": null,
      "metadata": {
        "scrolled": true,
        "id": "9HlIOD0mMzLM",
        "outputId": "8994a922-2368-47c2-b496-a3788290c3eb"
      },
      "outputs": [
        {
          "name": "stdout",
          "output_type": "stream",
          "text": [
            "<class 'pandas.core.frame.DataFrame'>\n",
            "Int64Index: 343597 entries, 0 to 354368\n",
            "Data columns (total 12 columns):\n",
            " #   Column            Non-Null Count   Dtype \n",
            "---  ------            --------------   ----- \n",
            " 0   Price             343597 non-null  int64 \n",
            " 1   VehicleType       309847 non-null  object\n",
            " 2   RegistrationYear  343597 non-null  int64 \n",
            " 3   Gearbox           326242 non-null  object\n",
            " 4   Power             343597 non-null  int64 \n",
            " 5   Model             326076 non-null  object\n",
            " 6   Kilometer         343597 non-null  int64 \n",
            " 7   FuelType          314138 non-null  object\n",
            " 8   Brand             343597 non-null  object\n",
            " 9   NotRepaired       277731 non-null  object\n",
            " 10  NumberOfPictures  343597 non-null  int64 \n",
            " 11  PostalCode        343597 non-null  int64 \n",
            "dtypes: int64(6), object(6)\n",
            "memory usage: 34.1+ MB\n"
          ]
        }
      ],
      "source": [
        "data.info()"
      ]
    },
    {
      "cell_type": "markdown",
      "metadata": {
        "id": "yMgV_cw6MzLN"
      },
      "source": [
        "Что касается типа авто и типа коробки. Имеются пропуски, которые невозможно заполнить данными. Не хочу, чтобы в информативной таблице маячили лишние пропуски, поэтому заполню их как неизвестный тип. "
      ]
    },
    {
      "cell_type": "code",
      "execution_count": null,
      "metadata": {
        "id": "Ytju-DjRMzLN"
      },
      "outputs": [],
      "source": [
        "data['VehicleType'] = data['VehicleType'].fillna('unknown_type')\n",
        "data['Gearbox'] = data['Gearbox'].fillna('unknown_gear')"
      ]
    },
    {
      "cell_type": "markdown",
      "metadata": {
        "id": "J4n7Ibz-MzLO"
      },
      "source": [
        "И посмотрим, что получилось"
      ]
    },
    {
      "cell_type": "code",
      "execution_count": null,
      "metadata": {
        "id": "1CLabptSMzLO",
        "outputId": "00eaa877-47b2-4bb7-873f-a24529cc65a6"
      },
      "outputs": [
        {
          "data": {
            "text/plain": [
              "<AxesSubplot:xlabel='VehicleType', ylabel='count'>"
            ]
          },
          "execution_count": 11,
          "metadata": {},
          "output_type": "execute_result"
        },
        {
          "data": {
            "image/png": "[encoded data removed]",
            "text/plain": [
              "<Figure size 432x288 with 1 Axes>"
            ]
          },
          "metadata": {
            "needs_background": "light"
          },
          "output_type": "display_data"
        }
      ],
      "source": [
        "sns.countplot(data.VehicleType)\n"
      ]
    },
    {
      "cell_type": "code",
      "execution_count": null,
      "metadata": {
        "id": "yRMYCAVbMzLO",
        "outputId": "97f58524-5bb5-4645-e526-f5e514f163d1"
      },
      "outputs": [
        {
          "data": {
            "text/plain": [
              "<AxesSubplot:xlabel='Gearbox', ylabel='count'>"
            ]
          },
          "execution_count": 12,
          "metadata": {},
          "output_type": "execute_result"
        },
        {
          "data": {
            "image/png": "[encoded data removed]",
            "text/plain": [
              "<Figure size 432x288 with 1 Axes>"
            ]
          },
          "metadata": {
            "needs_background": "light"
          },
          "output_type": "display_data"
        }
      ],
      "source": [
        "sns.countplot(data.Gearbox)\n"
      ]
    },
    {
      "cell_type": "markdown",
      "metadata": {
        "id": "gN6B9fIoMzLP"
      },
      "source": [
        "Следующий на мой взгляд важный столбец, который  имеет прямое влияние на ценообразование, - мощность."
      ]
    },
    {
      "cell_type": "code",
      "execution_count": null,
      "metadata": {
        "scrolled": true,
        "id": "XlYBj8pEMzLP",
        "outputId": "15927a5f-3d02-4469-c5f6-c378323ffc91"
      },
      "outputs": [
        {
          "data": {
            "text/plain": [
              "(0.0, 1000.0)"
            ]
          },
          "execution_count": 13,
          "metadata": {},
          "output_type": "execute_result"
        },
        {
          "data": {
            "image/png": "[encoded data removed]",
            "text/plain": [
              "<Figure size 432x288 with 1 Axes>"
            ]
          },
          "metadata": {
            "needs_background": "light"
          },
          "output_type": "display_data"
        }
      ],
      "source": [
        "data['Power'].hist(bins = 1000)\n",
        "plt.xlim(0, 1000)\n"
      ]
    },
    {
      "cell_type": "markdown",
      "metadata": {
        "id": "RVq1LtkFMzLQ"
      },
      "source": [
        "И снова у нас имеются транспортные средства с околонулевой мощностью. Посмотрим количество"
      ]
    },
    {
      "cell_type": "code",
      "execution_count": null,
      "metadata": {
        "id": "Zv4A9z1UMzLQ",
        "outputId": "94abea27-ffef-4fc4-d03b-02b588681e9a"
      },
      "outputs": [
        {
          "data": {
            "text/plain": [
              "Price               36360\n",
              "VehicleType         36360\n",
              "RegistrationYear    36360\n",
              "Gearbox             36360\n",
              "Power               36360\n",
              "Model               31333\n",
              "Kilometer           36360\n",
              "FuelType            26730\n",
              "Brand               36360\n",
              "NotRepaired         17688\n",
              "NumberOfPictures    36360\n",
              "PostalCode          36360\n",
              "dtype: int64"
            ]
          },
          "execution_count": 14,
          "metadata": {},
          "output_type": "execute_result"
        }
      ],
      "source": [
        "data.query('Power == 0').count()"
      ]
    },
    {
      "cell_type": "markdown",
      "metadata": {
        "id": "ygVlz9YFMzLR"
      },
      "source": [
        "В более чем 36 тысячах объявлении указана нулевая мощность. Достаточно большой объем данных, который мы никак не сможем заполнить. Была мысль заполнить пропуски по средней мощности авто схожих моделей, но этот подход явно ошибочный, так как мощность может значительно варьироваться даже среди авто одной марки. Нет другого выхода кроме как удалить данные."
      ]
    },
    {
      "cell_type": "code",
      "execution_count": null,
      "metadata": {
        "id": "zqK0TQmbMzLR"
      },
      "outputs": [],
      "source": [
        "data.drop(data[data.Power == 0].index, inplace=True)"
      ]
    },
    {
      "cell_type": "markdown",
      "metadata": {
        "id": "MRPGGHg0MzLT"
      },
      "source": [
        "Другой немаловажный показатель для определения стоимости авто - пробег. Посмотрим"
      ]
    },
    {
      "cell_type": "code",
      "execution_count": null,
      "metadata": {
        "id": "xLLbs8DaMzLU",
        "outputId": "89e97c39-8c9b-486a-d6fa-50743476d7b8"
      },
      "outputs": [
        {
          "data": {
            "text/plain": [
              "<AxesSubplot:>"
            ]
          },
          "execution_count": 16,
          "metadata": {},
          "output_type": "execute_result"
        },
        {
          "data": {
            "image/png": "[encoded data removed]",
            "text/plain": [
              "<Figure size 432x288 with 1 Axes>"
            ]
          },
          "metadata": {
            "needs_background": "light"
          },
          "output_type": "display_data"
        }
      ],
      "source": [
        "data['Kilometer'].hist()\n"
      ]
    },
    {
      "cell_type": "markdown",
      "metadata": {
        "id": "M58EX0GtMzLU"
      },
      "source": [
        "В этом столбце все норм, можно не менять.Хотя кажется немного странным, что нет данных о пробегах более 150000. Возможно, при регистрации объявлений, это максимальная опция по пробегу."
      ]
    },
    {
      "cell_type": "markdown",
      "metadata": {
        "id": "2milvT5PMzLV"
      },
      "source": [
        "Столбцы Brand и Model также содержат пропуски. Восстановить данные не вижу возможности, поэтому заполним их как неизвестные. "
      ]
    },
    {
      "cell_type": "code",
      "execution_count": null,
      "metadata": {
        "id": "MGTUYDpyMzLV"
      },
      "outputs": [],
      "source": [
        "data['Brand'] = data['Brand'].fillna('unknown_brand')\n"
      ]
    },
    {
      "cell_type": "code",
      "execution_count": null,
      "metadata": {
        "id": "9Ob4861mMzLW"
      },
      "outputs": [],
      "source": [
        "data['Model'] = data['Model'].fillna('unknown_model')\n"
      ]
    },
    {
      "cell_type": "markdown",
      "metadata": {
        "id": "3sgUSVnRMzLW"
      },
      "source": [
        "Еще один немаловажный фактор для определения цены - это наличие ремонта. "
      ]
    },
    {
      "cell_type": "code",
      "execution_count": null,
      "metadata": {
        "scrolled": false,
        "id": "RpFIPxv6MzLX",
        "outputId": "42f7ace6-9c1f-4997-d829-f65df807d4b4"
      },
      "outputs": [
        {
          "name": "stdout",
          "output_type": "stream",
          "text": [
            "<class 'pandas.core.frame.DataFrame'>\n",
            "Int64Index: 307237 entries, 1 to 354368\n",
            "Data columns (total 12 columns):\n",
            " #   Column            Non-Null Count   Dtype \n",
            "---  ------            --------------   ----- \n",
            " 0   Price             307237 non-null  int64 \n",
            " 1   VehicleType       307237 non-null  object\n",
            " 2   RegistrationYear  307237 non-null  int64 \n",
            " 3   Gearbox           307237 non-null  object\n",
            " 4   Power             307237 non-null  int64 \n",
            " 5   Model             307237 non-null  object\n",
            " 6   Kilometer         307237 non-null  int64 \n",
            " 7   FuelType          287408 non-null  object\n",
            " 8   Brand             307237 non-null  object\n",
            " 9   NotRepaired       260043 non-null  object\n",
            " 10  NumberOfPictures  307237 non-null  int64 \n",
            " 11  PostalCode        307237 non-null  int64 \n",
            "dtypes: int64(6), object(6)\n",
            "memory usage: 30.5+ MB\n"
          ]
        }
      ],
      "source": [
        "data.info()"
      ]
    },
    {
      "cell_type": "markdown",
      "metadata": {
        "id": "Pm3jnMpbMzLX"
      },
      "source": [
        "Более сорока тысяч пропусков. Игнорировать не можем, удалять темболее. Так же заменим на неизвестно."
      ]
    },
    {
      "cell_type": "code",
      "execution_count": null,
      "metadata": {
        "id": "PuK-JtXSMzLX",
        "outputId": "b2ff8cc0-6600-4490-dd2e-30dbce6c6792"
      },
      "outputs": [
        {
          "data": {
            "text/plain": [
              "<AxesSubplot:xlabel='NotRepaired', ylabel='count'>"
            ]
          },
          "execution_count": 20,
          "metadata": {},
          "output_type": "execute_result"
        },
        {
          "data": {
            "image/png": "[encoded data removed]",
            "text/plain": [
              "<Figure size 432x288 with 1 Axes>"
            ]
          },
          "metadata": {
            "needs_background": "light"
          },
          "output_type": "display_data"
        }
      ],
      "source": [
        "data['NotRepaired'] = data['NotRepaired'].fillna('unknown')\n",
        "sns.countplot(data.NotRepaired)\n"
      ]
    },
    {
      "cell_type": "markdown",
      "metadata": {
        "id": "OH3rQZw4MzLY"
      },
      "source": [
        "И осталось посмотреть тип топлива."
      ]
    },
    {
      "cell_type": "code",
      "execution_count": null,
      "metadata": {
        "scrolled": true,
        "id": "PhR37XOoMzLY",
        "outputId": "691208bf-d759-433d-ff44-b5c22e75363b"
      },
      "outputs": [
        {
          "data": {
            "text/plain": [
              "<AxesSubplot:xlabel='FuelType', ylabel='count'>"
            ]
          },
          "execution_count": 21,
          "metadata": {},
          "output_type": "execute_result"
        },
        {
          "data": {
            "image/png": "[encoded data removed]",
            "text/plain": [
              "<Figure size 432x288 with 1 Axes>"
            ]
          },
          "metadata": {
            "needs_background": "light"
          },
          "output_type": "display_data"
        }
      ],
      "source": [
        "sns.countplot(data.FuelType)\n"
      ]
    },
    {
      "cell_type": "markdown",
      "metadata": {
        "id": "8ehGNDqaMzLZ"
      },
      "source": [
        "Если я не ошибаюсь, газолин и петрол это одно и тоже название бензина, крому того, судя по всему сюда также включили дизельное топливо. Думаю, можно объединить. Дополнительно, пропущенные значения заменим на неизвестное топливо"
      ]
    },
    {
      "cell_type": "code",
      "execution_count": null,
      "metadata": {
        "scrolled": true,
        "id": "9XtOAfIfMzLZ",
        "outputId": "3c40ee31-39ba-4087-ef29-c2f5bbe74904"
      },
      "outputs": [
        {
          "data": {
            "text/plain": [
              "<AxesSubplot:xlabel='FuelType', ylabel='count'>"
            ]
          },
          "execution_count": 22,
          "metadata": {},
          "output_type": "execute_result"
        },
        {
          "data": {
            "image/png": "[encoded data removed]",
            "text/plain": [
              "<Figure size 432x288 with 1 Axes>"
            ]
          },
          "metadata": {
            "needs_background": "light"
          },
          "output_type": "display_data"
        }
      ],
      "source": [
        "data['FuelType'] = data['FuelType'].replace('gasoline', 'petrol')\n",
        "data['FuelType'] = data['FuelType'].fillna('unknown_fuel')\n",
        "\n",
        "sns.countplot(data.FuelType)\n"
      ]
    },
    {
      "cell_type": "markdown",
      "metadata": {
        "id": "A1IW3plTMzLa"
      },
      "source": [
        "Так как мы будем использовать все известные на данном этапе модели обучения, считаю необходимым заменить категоральные признаки на числовые."
      ]
    },
    {
      "cell_type": "code",
      "execution_count": null,
      "metadata": {
        "id": "dTIVReoKMzLb"
      },
      "outputs": [],
      "source": [
        "data2 = data.copy()"
      ]
    },
    {
      "cell_type": "code",
      "execution_count": null,
      "metadata": {
        "id": "HJM1mCTHMzLb",
        "outputId": "2e2f0bc7-0b25-490e-ccae-bdbccf6be446"
      },
      "outputs": [
        {
          "data": {
            "text/html": [
              "<div>\n",
              "<style scoped>\n",
              "    .dataframe tbody tr th:only-of-type {\n",
              "        vertical-align: middle;\n",
              "    }\n",
              "\n",
              "    .dataframe tbody tr th {\n",
              "        vertical-align: top;\n",
              "    }\n",
              "\n",
              "    .dataframe thead th {\n",
              "        text-align: right;\n",
              "    }\n",
              "</style>\n",
              "<table border=\"1\" class=\"dataframe\">\n",
              "  <thead>\n",
              "    <tr style=\"text-align: right;\">\n",
              "      <th></th>\n",
              "      <th>Price</th>\n",
              "      <th>VehicleType</th>\n",
              "      <th>RegistrationYear</th>\n",
              "      <th>Gearbox</th>\n",
              "      <th>Power</th>\n",
              "      <th>Model</th>\n",
              "      <th>Kilometer</th>\n",
              "      <th>FuelType</th>\n",
              "      <th>Brand</th>\n",
              "      <th>NotRepaired</th>\n",
              "      <th>NumberOfPictures</th>\n",
              "      <th>PostalCode</th>\n",
              "    </tr>\n",
              "  </thead>\n",
              "  <tbody>\n",
              "    <tr>\n",
              "      <th>1</th>\n",
              "      <td>18300</td>\n",
              "      <td>coupe</td>\n",
              "      <td>2011</td>\n",
              "      <td>manual</td>\n",
              "      <td>190</td>\n",
              "      <td>unknown_model</td>\n",
              "      <td>125000</td>\n",
              "      <td>petrol</td>\n",
              "      <td>audi</td>\n",
              "      <td>yes</td>\n",
              "      <td>0</td>\n",
              "      <td>66954</td>\n",
              "    </tr>\n",
              "    <tr>\n",
              "      <th>2</th>\n",
              "      <td>9800</td>\n",
              "      <td>suv</td>\n",
              "      <td>2004</td>\n",
              "      <td>auto</td>\n",
              "      <td>163</td>\n",
              "      <td>grand</td>\n",
              "      <td>125000</td>\n",
              "      <td>petrol</td>\n",
              "      <td>jeep</td>\n",
              "      <td>unknown</td>\n",
              "      <td>0</td>\n",
              "      <td>90480</td>\n",
              "    </tr>\n",
              "    <tr>\n",
              "      <th>3</th>\n",
              "      <td>1500</td>\n",
              "      <td>small</td>\n",
              "      <td>2001</td>\n",
              "      <td>manual</td>\n",
              "      <td>75</td>\n",
              "      <td>golf</td>\n",
              "      <td>150000</td>\n",
              "      <td>petrol</td>\n",
              "      <td>volkswagen</td>\n",
              "      <td>no</td>\n",
              "      <td>0</td>\n",
              "      <td>91074</td>\n",
              "    </tr>\n",
              "    <tr>\n",
              "      <th>4</th>\n",
              "      <td>3600</td>\n",
              "      <td>small</td>\n",
              "      <td>2008</td>\n",
              "      <td>manual</td>\n",
              "      <td>69</td>\n",
              "      <td>fabia</td>\n",
              "      <td>90000</td>\n",
              "      <td>petrol</td>\n",
              "      <td>skoda</td>\n",
              "      <td>no</td>\n",
              "      <td>0</td>\n",
              "      <td>60437</td>\n",
              "    </tr>\n",
              "    <tr>\n",
              "      <th>5</th>\n",
              "      <td>650</td>\n",
              "      <td>sedan</td>\n",
              "      <td>1995</td>\n",
              "      <td>manual</td>\n",
              "      <td>102</td>\n",
              "      <td>3er</td>\n",
              "      <td>150000</td>\n",
              "      <td>petrol</td>\n",
              "      <td>bmw</td>\n",
              "      <td>yes</td>\n",
              "      <td>0</td>\n",
              "      <td>33775</td>\n",
              "    </tr>\n",
              "    <tr>\n",
              "      <th>...</th>\n",
              "      <td>...</td>\n",
              "      <td>...</td>\n",
              "      <td>...</td>\n",
              "      <td>...</td>\n",
              "      <td>...</td>\n",
              "      <td>...</td>\n",
              "      <td>...</td>\n",
              "      <td>...</td>\n",
              "      <td>...</td>\n",
              "      <td>...</td>\n",
              "      <td>...</td>\n",
              "      <td>...</td>\n",
              "    </tr>\n",
              "    <tr>\n",
              "      <th>354361</th>\n",
              "      <td>5250</td>\n",
              "      <td>unknown_type</td>\n",
              "      <td>2016</td>\n",
              "      <td>auto</td>\n",
              "      <td>150</td>\n",
              "      <td>159</td>\n",
              "      <td>150000</td>\n",
              "      <td>unknown_fuel</td>\n",
              "      <td>alfa_romeo</td>\n",
              "      <td>no</td>\n",
              "      <td>0</td>\n",
              "      <td>51371</td>\n",
              "    </tr>\n",
              "    <tr>\n",
              "      <th>354362</th>\n",
              "      <td>3200</td>\n",
              "      <td>sedan</td>\n",
              "      <td>2004</td>\n",
              "      <td>manual</td>\n",
              "      <td>225</td>\n",
              "      <td>leon</td>\n",
              "      <td>150000</td>\n",
              "      <td>petrol</td>\n",
              "      <td>seat</td>\n",
              "      <td>yes</td>\n",
              "      <td>0</td>\n",
              "      <td>96465</td>\n",
              "    </tr>\n",
              "    <tr>\n",
              "      <th>354366</th>\n",
              "      <td>1199</td>\n",
              "      <td>convertible</td>\n",
              "      <td>2000</td>\n",
              "      <td>auto</td>\n",
              "      <td>101</td>\n",
              "      <td>fortwo</td>\n",
              "      <td>125000</td>\n",
              "      <td>petrol</td>\n",
              "      <td>smart</td>\n",
              "      <td>no</td>\n",
              "      <td>0</td>\n",
              "      <td>26135</td>\n",
              "    </tr>\n",
              "    <tr>\n",
              "      <th>354367</th>\n",
              "      <td>9200</td>\n",
              "      <td>bus</td>\n",
              "      <td>1996</td>\n",
              "      <td>manual</td>\n",
              "      <td>102</td>\n",
              "      <td>transporter</td>\n",
              "      <td>150000</td>\n",
              "      <td>petrol</td>\n",
              "      <td>volkswagen</td>\n",
              "      <td>no</td>\n",
              "      <td>0</td>\n",
              "      <td>87439</td>\n",
              "    </tr>\n",
              "    <tr>\n",
              "      <th>354368</th>\n",
              "      <td>3400</td>\n",
              "      <td>wagon</td>\n",
              "      <td>2002</td>\n",
              "      <td>manual</td>\n",
              "      <td>100</td>\n",
              "      <td>golf</td>\n",
              "      <td>150000</td>\n",
              "      <td>petrol</td>\n",
              "      <td>volkswagen</td>\n",
              "      <td>unknown</td>\n",
              "      <td>0</td>\n",
              "      <td>40764</td>\n",
              "    </tr>\n",
              "  </tbody>\n",
              "</table>\n",
              "<p>307237 rows × 12 columns</p>\n",
              "</div>"
            ],
            "text/plain": [
              "        Price   VehicleType  RegistrationYear Gearbox  Power          Model  \\\n",
              "1       18300         coupe              2011  manual    190  unknown_model   \n",
              "2        9800           suv              2004    auto    163          grand   \n",
              "3        1500         small              2001  manual     75           golf   \n",
              "4        3600         small              2008  manual     69          fabia   \n",
              "5         650         sedan              1995  manual    102            3er   \n",
              "...       ...           ...               ...     ...    ...            ...   \n",
              "354361   5250  unknown_type              2016    auto    150            159   \n",
              "354362   3200         sedan              2004  manual    225           leon   \n",
              "354366   1199   convertible              2000    auto    101         fortwo   \n",
              "354367   9200           bus              1996  manual    102    transporter   \n",
              "354368   3400         wagon              2002  manual    100           golf   \n",
              "\n",
              "        Kilometer      FuelType       Brand NotRepaired  NumberOfPictures  \\\n",
              "1          125000        petrol        audi         yes                 0   \n",
              "2          125000        petrol        jeep     unknown                 0   \n",
              "3          150000        petrol  volkswagen          no                 0   \n",
              "4           90000        petrol       skoda          no                 0   \n",
              "5          150000        petrol         bmw         yes                 0   \n",
              "...           ...           ...         ...         ...               ...   \n",
              "354361     150000  unknown_fuel  alfa_romeo          no                 0   \n",
              "354362     150000        petrol        seat         yes                 0   \n",
              "354366     125000        petrol       smart          no                 0   \n",
              "354367     150000        petrol  volkswagen          no                 0   \n",
              "354368     150000        petrol  volkswagen     unknown                 0   \n",
              "\n",
              "        PostalCode  \n",
              "1            66954  \n",
              "2            90480  \n",
              "3            91074  \n",
              "4            60437  \n",
              "5            33775  \n",
              "...            ...  \n",
              "354361       51371  \n",
              "354362       96465  \n",
              "354366       26135  \n",
              "354367       87439  \n",
              "354368       40764  \n",
              "\n",
              "[307237 rows x 12 columns]"
            ]
          },
          "execution_count": 24,
          "metadata": {},
          "output_type": "execute_result"
        }
      ],
      "source": [
        "data2"
      ]
    },
    {
      "cell_type": "code",
      "execution_count": null,
      "metadata": {
        "id": "hQBDTDuAMzLc"
      },
      "outputs": [],
      "source": [
        "ord_enc = OrdinalEncoder()\n",
        "data2['VehicleType'] = ord_enc.fit_transform(data2[['VehicleType']])\n",
        "data2['Gearbox'] = ord_enc.fit_transform(data2[['Gearbox']])\n",
        "data2['Model'] = ord_enc.fit_transform(data2[['Model']])\n",
        "data2['FuelType'] = ord_enc.fit_transform(data2[['FuelType']])\n",
        "data2['Brand'] = ord_enc.fit_transform(data2[['Brand']])\n",
        "data2['NotRepaired'] = ord_enc.fit_transform(data2[['NotRepaired']])"
      ]
    },
    {
      "cell_type": "code",
      "execution_count": null,
      "metadata": {
        "scrolled": true,
        "id": "S9pFoq4-MzLe",
        "outputId": "58d61ee1-d744-4b7a-9ea9-2ede0046460f"
      },
      "outputs": [
        {
          "data": {
            "text/html": [
              "<div>\n",
              "<style scoped>\n",
              "    .dataframe tbody tr th:only-of-type {\n",
              "        vertical-align: middle;\n",
              "    }\n",
              "\n",
              "    .dataframe tbody tr th {\n",
              "        vertical-align: top;\n",
              "    }\n",
              "\n",
              "    .dataframe thead th {\n",
              "        text-align: right;\n",
              "    }\n",
              "</style>\n",
              "<table border=\"1\" class=\"dataframe\">\n",
              "  <thead>\n",
              "    <tr style=\"text-align: right;\">\n",
              "      <th></th>\n",
              "      <th>Price</th>\n",
              "      <th>VehicleType</th>\n",
              "      <th>RegistrationYear</th>\n",
              "      <th>Gearbox</th>\n",
              "      <th>Power</th>\n",
              "      <th>Model</th>\n",
              "      <th>Kilometer</th>\n",
              "      <th>FuelType</th>\n",
              "      <th>Brand</th>\n",
              "      <th>NotRepaired</th>\n",
              "      <th>NumberOfPictures</th>\n",
              "      <th>PostalCode</th>\n",
              "    </tr>\n",
              "  </thead>\n",
              "  <tbody>\n",
              "    <tr>\n",
              "      <th>1</th>\n",
              "      <td>18300</td>\n",
              "      <td>2.0</td>\n",
              "      <td>2011</td>\n",
              "      <td>1.0</td>\n",
              "      <td>190</td>\n",
              "      <td>227.0</td>\n",
              "      <td>125000</td>\n",
              "      <td>5.0</td>\n",
              "      <td>1.0</td>\n",
              "      <td>2.0</td>\n",
              "      <td>0</td>\n",
              "      <td>66954</td>\n",
              "    </tr>\n",
              "    <tr>\n",
              "      <th>2</th>\n",
              "      <td>9800</td>\n",
              "      <td>6.0</td>\n",
              "      <td>2004</td>\n",
              "      <td>0.0</td>\n",
              "      <td>163</td>\n",
              "      <td>117.0</td>\n",
              "      <td>125000</td>\n",
              "      <td>5.0</td>\n",
              "      <td>14.0</td>\n",
              "      <td>1.0</td>\n",
              "      <td>0</td>\n",
              "      <td>90480</td>\n",
              "    </tr>\n",
              "    <tr>\n",
              "      <th>3</th>\n",
              "      <td>1500</td>\n",
              "      <td>5.0</td>\n",
              "      <td>2001</td>\n",
              "      <td>1.0</td>\n",
              "      <td>75</td>\n",
              "      <td>116.0</td>\n",
              "      <td>150000</td>\n",
              "      <td>5.0</td>\n",
              "      <td>38.0</td>\n",
              "      <td>0.0</td>\n",
              "      <td>0</td>\n",
              "      <td>91074</td>\n",
              "    </tr>\n",
              "    <tr>\n",
              "      <th>4</th>\n",
              "      <td>3600</td>\n",
              "      <td>5.0</td>\n",
              "      <td>2008</td>\n",
              "      <td>1.0</td>\n",
              "      <td>69</td>\n",
              "      <td>101.0</td>\n",
              "      <td>90000</td>\n",
              "      <td>5.0</td>\n",
              "      <td>31.0</td>\n",
              "      <td>0.0</td>\n",
              "      <td>0</td>\n",
              "      <td>60437</td>\n",
              "    </tr>\n",
              "    <tr>\n",
              "      <th>5</th>\n",
              "      <td>650</td>\n",
              "      <td>4.0</td>\n",
              "      <td>1995</td>\n",
              "      <td>1.0</td>\n",
              "      <td>102</td>\n",
              "      <td>11.0</td>\n",
              "      <td>150000</td>\n",
              "      <td>5.0</td>\n",
              "      <td>2.0</td>\n",
              "      <td>2.0</td>\n",
              "      <td>0</td>\n",
              "      <td>33775</td>\n",
              "    </tr>\n",
              "    <tr>\n",
              "      <th>...</th>\n",
              "      <td>...</td>\n",
              "      <td>...</td>\n",
              "      <td>...</td>\n",
              "      <td>...</td>\n",
              "      <td>...</td>\n",
              "      <td>...</td>\n",
              "      <td>...</td>\n",
              "      <td>...</td>\n",
              "      <td>...</td>\n",
              "      <td>...</td>\n",
              "      <td>...</td>\n",
              "      <td>...</td>\n",
              "    </tr>\n",
              "    <tr>\n",
              "      <th>354361</th>\n",
              "      <td>5250</td>\n",
              "      <td>7.0</td>\n",
              "      <td>2016</td>\n",
              "      <td>0.0</td>\n",
              "      <td>150</td>\n",
              "      <td>4.0</td>\n",
              "      <td>150000</td>\n",
              "      <td>6.0</td>\n",
              "      <td>0.0</td>\n",
              "      <td>0.0</td>\n",
              "      <td>0</td>\n",
              "      <td>51371</td>\n",
              "    </tr>\n",
              "    <tr>\n",
              "      <th>354362</th>\n",
              "      <td>3200</td>\n",
              "      <td>4.0</td>\n",
              "      <td>2004</td>\n",
              "      <td>1.0</td>\n",
              "      <td>225</td>\n",
              "      <td>140.0</td>\n",
              "      <td>150000</td>\n",
              "      <td>5.0</td>\n",
              "      <td>30.0</td>\n",
              "      <td>2.0</td>\n",
              "      <td>0</td>\n",
              "      <td>96465</td>\n",
              "    </tr>\n",
              "    <tr>\n",
              "      <th>354366</th>\n",
              "      <td>1199</td>\n",
              "      <td>1.0</td>\n",
              "      <td>2000</td>\n",
              "      <td>0.0</td>\n",
              "      <td>101</td>\n",
              "      <td>106.0</td>\n",
              "      <td>125000</td>\n",
              "      <td>5.0</td>\n",
              "      <td>32.0</td>\n",
              "      <td>0.0</td>\n",
              "      <td>0</td>\n",
              "      <td>26135</td>\n",
              "    </tr>\n",
              "    <tr>\n",
              "      <th>354367</th>\n",
              "      <td>9200</td>\n",
              "      <td>0.0</td>\n",
              "      <td>1996</td>\n",
              "      <td>1.0</td>\n",
              "      <td>102</td>\n",
              "      <td>223.0</td>\n",
              "      <td>150000</td>\n",
              "      <td>5.0</td>\n",
              "      <td>38.0</td>\n",
              "      <td>0.0</td>\n",
              "      <td>0</td>\n",
              "      <td>87439</td>\n",
              "    </tr>\n",
              "    <tr>\n",
              "      <th>354368</th>\n",
              "      <td>3400</td>\n",
              "      <td>8.0</td>\n",
              "      <td>2002</td>\n",
              "      <td>1.0</td>\n",
              "      <td>100</td>\n",
              "      <td>116.0</td>\n",
              "      <td>150000</td>\n",
              "      <td>5.0</td>\n",
              "      <td>38.0</td>\n",
              "      <td>1.0</td>\n",
              "      <td>0</td>\n",
              "      <td>40764</td>\n",
              "    </tr>\n",
              "  </tbody>\n",
              "</table>\n",
              "<p>307237 rows × 12 columns</p>\n",
              "</div>"
            ],
            "text/plain": [
              "        Price  VehicleType  RegistrationYear  Gearbox  Power  Model  \\\n",
              "1       18300          2.0              2011      1.0    190  227.0   \n",
              "2        9800          6.0              2004      0.0    163  117.0   \n",
              "3        1500          5.0              2001      1.0     75  116.0   \n",
              "4        3600          5.0              2008      1.0     69  101.0   \n",
              "5         650          4.0              1995      1.0    102   11.0   \n",
              "...       ...          ...               ...      ...    ...    ...   \n",
              "354361   5250          7.0              2016      0.0    150    4.0   \n",
              "354362   3200          4.0              2004      1.0    225  140.0   \n",
              "354366   1199          1.0              2000      0.0    101  106.0   \n",
              "354367   9200          0.0              1996      1.0    102  223.0   \n",
              "354368   3400          8.0              2002      1.0    100  116.0   \n",
              "\n",
              "        Kilometer  FuelType  Brand  NotRepaired  NumberOfPictures  PostalCode  \n",
              "1          125000       5.0    1.0          2.0                 0       66954  \n",
              "2          125000       5.0   14.0          1.0                 0       90480  \n",
              "3          150000       5.0   38.0          0.0                 0       91074  \n",
              "4           90000       5.0   31.0          0.0                 0       60437  \n",
              "5          150000       5.0    2.0          2.0                 0       33775  \n",
              "...           ...       ...    ...          ...               ...         ...  \n",
              "354361     150000       6.0    0.0          0.0                 0       51371  \n",
              "354362     150000       5.0   30.0          2.0                 0       96465  \n",
              "354366     125000       5.0   32.0          0.0                 0       26135  \n",
              "354367     150000       5.0   38.0          0.0                 0       87439  \n",
              "354368     150000       5.0   38.0          1.0                 0       40764  \n",
              "\n",
              "[307237 rows x 12 columns]"
            ]
          },
          "execution_count": 26,
          "metadata": {},
          "output_type": "execute_result"
        }
      ],
      "source": [
        "data2"
      ]
    },
    {
      "cell_type": "markdown",
      "metadata": {
        "id": "izbGSXqFMzLf"
      },
      "source": [
        "Создадим отдельный фрейм для линейных моделей с прямым кодированием категоральных признаков"
      ]
    },
    {
      "cell_type": "code",
      "execution_count": null,
      "metadata": {
        "id": "5RjXP1NJMzLf",
        "outputId": "508b38a8-27e5-436f-c097-cea5404b4c41"
      },
      "outputs": [
        {
          "data": {
            "text/html": [
              "<div>\n",
              "<style scoped>\n",
              "    .dataframe tbody tr th:only-of-type {\n",
              "        vertical-align: middle;\n",
              "    }\n",
              "\n",
              "    .dataframe tbody tr th {\n",
              "        vertical-align: top;\n",
              "    }\n",
              "\n",
              "    .dataframe thead th {\n",
              "        text-align: right;\n",
              "    }\n",
              "</style>\n",
              "<table border=\"1\" class=\"dataframe\">\n",
              "  <thead>\n",
              "    <tr style=\"text-align: right;\">\n",
              "      <th></th>\n",
              "      <th>Price</th>\n",
              "      <th>RegistrationYear</th>\n",
              "      <th>Power</th>\n",
              "      <th>Kilometer</th>\n",
              "      <th>NumberOfPictures</th>\n",
              "      <th>PostalCode</th>\n",
              "      <th>VehicleType_convertible</th>\n",
              "      <th>VehicleType_coupe</th>\n",
              "      <th>VehicleType_other</th>\n",
              "      <th>VehicleType_sedan</th>\n",
              "      <th>...</th>\n",
              "      <th>Brand_smart</th>\n",
              "      <th>Brand_sonstige_autos</th>\n",
              "      <th>Brand_subaru</th>\n",
              "      <th>Brand_suzuki</th>\n",
              "      <th>Brand_toyota</th>\n",
              "      <th>Brand_trabant</th>\n",
              "      <th>Brand_volkswagen</th>\n",
              "      <th>Brand_volvo</th>\n",
              "      <th>NotRepaired_unknown</th>\n",
              "      <th>NotRepaired_yes</th>\n",
              "    </tr>\n",
              "  </thead>\n",
              "  <tbody>\n",
              "    <tr>\n",
              "      <th>1</th>\n",
              "      <td>18300</td>\n",
              "      <td>2011</td>\n",
              "      <td>190</td>\n",
              "      <td>125000</td>\n",
              "      <td>0</td>\n",
              "      <td>66954</td>\n",
              "      <td>0</td>\n",
              "      <td>1</td>\n",
              "      <td>0</td>\n",
              "      <td>0</td>\n",
              "      <td>...</td>\n",
              "      <td>0</td>\n",
              "      <td>0</td>\n",
              "      <td>0</td>\n",
              "      <td>0</td>\n",
              "      <td>0</td>\n",
              "      <td>0</td>\n",
              "      <td>0</td>\n",
              "      <td>0</td>\n",
              "      <td>0</td>\n",
              "      <td>1</td>\n",
              "    </tr>\n",
              "    <tr>\n",
              "      <th>2</th>\n",
              "      <td>9800</td>\n",
              "      <td>2004</td>\n",
              "      <td>163</td>\n",
              "      <td>125000</td>\n",
              "      <td>0</td>\n",
              "      <td>90480</td>\n",
              "      <td>0</td>\n",
              "      <td>0</td>\n",
              "      <td>0</td>\n",
              "      <td>0</td>\n",
              "      <td>...</td>\n",
              "      <td>0</td>\n",
              "      <td>0</td>\n",
              "      <td>0</td>\n",
              "      <td>0</td>\n",
              "      <td>0</td>\n",
              "      <td>0</td>\n",
              "      <td>0</td>\n",
              "      <td>0</td>\n",
              "      <td>1</td>\n",
              "      <td>0</td>\n",
              "    </tr>\n",
              "    <tr>\n",
              "      <th>3</th>\n",
              "      <td>1500</td>\n",
              "      <td>2001</td>\n",
              "      <td>75</td>\n",
              "      <td>150000</td>\n",
              "      <td>0</td>\n",
              "      <td>91074</td>\n",
              "      <td>0</td>\n",
              "      <td>0</td>\n",
              "      <td>0</td>\n",
              "      <td>0</td>\n",
              "      <td>...</td>\n",
              "      <td>0</td>\n",
              "      <td>0</td>\n",
              "      <td>0</td>\n",
              "      <td>0</td>\n",
              "      <td>0</td>\n",
              "      <td>0</td>\n",
              "      <td>1</td>\n",
              "      <td>0</td>\n",
              "      <td>0</td>\n",
              "      <td>0</td>\n",
              "    </tr>\n",
              "    <tr>\n",
              "      <th>4</th>\n",
              "      <td>3600</td>\n",
              "      <td>2008</td>\n",
              "      <td>69</td>\n",
              "      <td>90000</td>\n",
              "      <td>0</td>\n",
              "      <td>60437</td>\n",
              "      <td>0</td>\n",
              "      <td>0</td>\n",
              "      <td>0</td>\n",
              "      <td>0</td>\n",
              "      <td>...</td>\n",
              "      <td>0</td>\n",
              "      <td>0</td>\n",
              "      <td>0</td>\n",
              "      <td>0</td>\n",
              "      <td>0</td>\n",
              "      <td>0</td>\n",
              "      <td>0</td>\n",
              "      <td>0</td>\n",
              "      <td>0</td>\n",
              "      <td>0</td>\n",
              "    </tr>\n",
              "    <tr>\n",
              "      <th>5</th>\n",
              "      <td>650</td>\n",
              "      <td>1995</td>\n",
              "      <td>102</td>\n",
              "      <td>150000</td>\n",
              "      <td>0</td>\n",
              "      <td>33775</td>\n",
              "      <td>0</td>\n",
              "      <td>0</td>\n",
              "      <td>0</td>\n",
              "      <td>1</td>\n",
              "      <td>...</td>\n",
              "      <td>0</td>\n",
              "      <td>0</td>\n",
              "      <td>0</td>\n",
              "      <td>0</td>\n",
              "      <td>0</td>\n",
              "      <td>0</td>\n",
              "      <td>0</td>\n",
              "      <td>0</td>\n",
              "      <td>0</td>\n",
              "      <td>1</td>\n",
              "    </tr>\n",
              "    <tr>\n",
              "      <th>...</th>\n",
              "      <td>...</td>\n",
              "      <td>...</td>\n",
              "      <td>...</td>\n",
              "      <td>...</td>\n",
              "      <td>...</td>\n",
              "      <td>...</td>\n",
              "      <td>...</td>\n",
              "      <td>...</td>\n",
              "      <td>...</td>\n",
              "      <td>...</td>\n",
              "      <td>...</td>\n",
              "      <td>...</td>\n",
              "      <td>...</td>\n",
              "      <td>...</td>\n",
              "      <td>...</td>\n",
              "      <td>...</td>\n",
              "      <td>...</td>\n",
              "      <td>...</td>\n",
              "      <td>...</td>\n",
              "      <td>...</td>\n",
              "      <td>...</td>\n",
              "    </tr>\n",
              "    <tr>\n",
              "      <th>354361</th>\n",
              "      <td>5250</td>\n",
              "      <td>2016</td>\n",
              "      <td>150</td>\n",
              "      <td>150000</td>\n",
              "      <td>0</td>\n",
              "      <td>51371</td>\n",
              "      <td>0</td>\n",
              "      <td>0</td>\n",
              "      <td>0</td>\n",
              "      <td>0</td>\n",
              "      <td>...</td>\n",
              "      <td>0</td>\n",
              "      <td>0</td>\n",
              "      <td>0</td>\n",
              "      <td>0</td>\n",
              "      <td>0</td>\n",
              "      <td>0</td>\n",
              "      <td>0</td>\n",
              "      <td>0</td>\n",
              "      <td>0</td>\n",
              "      <td>0</td>\n",
              "    </tr>\n",
              "    <tr>\n",
              "      <th>354362</th>\n",
              "      <td>3200</td>\n",
              "      <td>2004</td>\n",
              "      <td>225</td>\n",
              "      <td>150000</td>\n",
              "      <td>0</td>\n",
              "      <td>96465</td>\n",
              "      <td>0</td>\n",
              "      <td>0</td>\n",
              "      <td>0</td>\n",
              "      <td>1</td>\n",
              "      <td>...</td>\n",
              "      <td>0</td>\n",
              "      <td>0</td>\n",
              "      <td>0</td>\n",
              "      <td>0</td>\n",
              "      <td>0</td>\n",
              "      <td>0</td>\n",
              "      <td>0</td>\n",
              "      <td>0</td>\n",
              "      <td>0</td>\n",
              "      <td>1</td>\n",
              "    </tr>\n",
              "    <tr>\n",
              "      <th>354366</th>\n",
              "      <td>1199</td>\n",
              "      <td>2000</td>\n",
              "      <td>101</td>\n",
              "      <td>125000</td>\n",
              "      <td>0</td>\n",
              "      <td>26135</td>\n",
              "      <td>1</td>\n",
              "      <td>0</td>\n",
              "      <td>0</td>\n",
              "      <td>0</td>\n",
              "      <td>...</td>\n",
              "      <td>1</td>\n",
              "      <td>0</td>\n",
              "      <td>0</td>\n",
              "      <td>0</td>\n",
              "      <td>0</td>\n",
              "      <td>0</td>\n",
              "      <td>0</td>\n",
              "      <td>0</td>\n",
              "      <td>0</td>\n",
              "      <td>0</td>\n",
              "    </tr>\n",
              "    <tr>\n",
              "      <th>354367</th>\n",
              "      <td>9200</td>\n",
              "      <td>1996</td>\n",
              "      <td>102</td>\n",
              "      <td>150000</td>\n",
              "      <td>0</td>\n",
              "      <td>87439</td>\n",
              "      <td>0</td>\n",
              "      <td>0</td>\n",
              "      <td>0</td>\n",
              "      <td>0</td>\n",
              "      <td>...</td>\n",
              "      <td>0</td>\n",
              "      <td>0</td>\n",
              "      <td>0</td>\n",
              "      <td>0</td>\n",
              "      <td>0</td>\n",
              "      <td>0</td>\n",
              "      <td>1</td>\n",
              "      <td>0</td>\n",
              "      <td>0</td>\n",
              "      <td>0</td>\n",
              "    </tr>\n",
              "    <tr>\n",
              "      <th>354368</th>\n",
              "      <td>3400</td>\n",
              "      <td>2002</td>\n",
              "      <td>100</td>\n",
              "      <td>150000</td>\n",
              "      <td>0</td>\n",
              "      <td>40764</td>\n",
              "      <td>0</td>\n",
              "      <td>0</td>\n",
              "      <td>0</td>\n",
              "      <td>0</td>\n",
              "      <td>...</td>\n",
              "      <td>0</td>\n",
              "      <td>0</td>\n",
              "      <td>0</td>\n",
              "      <td>0</td>\n",
              "      <td>0</td>\n",
              "      <td>0</td>\n",
              "      <td>1</td>\n",
              "      <td>0</td>\n",
              "      <td>1</td>\n",
              "      <td>0</td>\n",
              "    </tr>\n",
              "  </tbody>\n",
              "</table>\n",
              "<p>307237 rows × 312 columns</p>\n",
              "</div>"
            ],
            "text/plain": [
              "        Price  RegistrationYear  Power  Kilometer  NumberOfPictures  \\\n",
              "1       18300              2011    190     125000                 0   \n",
              "2        9800              2004    163     125000                 0   \n",
              "3        1500              2001     75     150000                 0   \n",
              "4        3600              2008     69      90000                 0   \n",
              "5         650              1995    102     150000                 0   \n",
              "...       ...               ...    ...        ...               ...   \n",
              "354361   5250              2016    150     150000                 0   \n",
              "354362   3200              2004    225     150000                 0   \n",
              "354366   1199              2000    101     125000                 0   \n",
              "354367   9200              1996    102     150000                 0   \n",
              "354368   3400              2002    100     150000                 0   \n",
              "\n",
              "        PostalCode  VehicleType_convertible  VehicleType_coupe  \\\n",
              "1            66954                        0                  1   \n",
              "2            90480                        0                  0   \n",
              "3            91074                        0                  0   \n",
              "4            60437                        0                  0   \n",
              "5            33775                        0                  0   \n",
              "...            ...                      ...                ...   \n",
              "354361       51371                        0                  0   \n",
              "354362       96465                        0                  0   \n",
              "354366       26135                        1                  0   \n",
              "354367       87439                        0                  0   \n",
              "354368       40764                        0                  0   \n",
              "\n",
              "        VehicleType_other  VehicleType_sedan  ...  Brand_smart  \\\n",
              "1                       0                  0  ...            0   \n",
              "2                       0                  0  ...            0   \n",
              "3                       0                  0  ...            0   \n",
              "4                       0                  0  ...            0   \n",
              "5                       0                  1  ...            0   \n",
              "...                   ...                ...  ...          ...   \n",
              "354361                  0                  0  ...            0   \n",
              "354362                  0                  1  ...            0   \n",
              "354366                  0                  0  ...            1   \n",
              "354367                  0                  0  ...            0   \n",
              "354368                  0                  0  ...            0   \n",
              "\n",
              "        Brand_sonstige_autos  Brand_subaru  Brand_suzuki  Brand_toyota  \\\n",
              "1                          0             0             0             0   \n",
              "2                          0             0             0             0   \n",
              "3                          0             0             0             0   \n",
              "4                          0             0             0             0   \n",
              "5                          0             0             0             0   \n",
              "...                      ...           ...           ...           ...   \n",
              "354361                     0             0             0             0   \n",
              "354362                     0             0             0             0   \n",
              "354366                     0             0             0             0   \n",
              "354367                     0             0             0             0   \n",
              "354368                     0             0             0             0   \n",
              "\n",
              "        Brand_trabant  Brand_volkswagen  Brand_volvo  NotRepaired_unknown  \\\n",
              "1                   0                 0            0                    0   \n",
              "2                   0                 0            0                    1   \n",
              "3                   0                 1            0                    0   \n",
              "4                   0                 0            0                    0   \n",
              "5                   0                 0            0                    0   \n",
              "...               ...               ...          ...                  ...   \n",
              "354361              0                 0            0                    0   \n",
              "354362              0                 0            0                    0   \n",
              "354366              0                 0            0                    0   \n",
              "354367              0                 1            0                    0   \n",
              "354368              0                 1            0                    1   \n",
              "\n",
              "        NotRepaired_yes  \n",
              "1                     1  \n",
              "2                     0  \n",
              "3                     0  \n",
              "4                     0  \n",
              "5                     1  \n",
              "...                 ...  \n",
              "354361                0  \n",
              "354362                1  \n",
              "354366                0  \n",
              "354367                0  \n",
              "354368                0  \n",
              "\n",
              "[307237 rows x 312 columns]"
            ]
          },
          "execution_count": 27,
          "metadata": {},
          "output_type": "execute_result"
        }
      ],
      "source": [
        "data_ohe = pd.get_dummies(data, drop_first=True)\n",
        "y_line = data_ohe['Price']\n",
        "x_line = data_ohe.drop('Price', axis=1)\n",
        "x_line_train, x_line_valid, y_line_train, y_line_valid = train_test_split(x_line, y_line, test_size = 0.25, random_state = 12345)\n",
        "data_ohe"
      ]
    },
    {
      "cell_type": "markdown",
      "metadata": {
        "id": "uiB17PiGMzLg"
      },
      "source": [
        "Можно переходить к обучению моделей"
      ]
    },
    {
      "cell_type": "markdown",
      "metadata": {
        "id": "qCuXHHXJMzLg"
      },
      "source": [
        "## Обучение моделей"
      ]
    },
    {
      "cell_type": "markdown",
      "metadata": {
        "id": "7iJ9Eh8aMzLg"
      },
      "source": [
        "### Дерево решений в регрессий"
      ]
    },
    {
      "cell_type": "markdown",
      "metadata": {
        "id": "bXIJekUpMzLg"
      },
      "source": [
        "Разделим выборки на тренировочную, валидационную и тестовую в соотношении 3:1:1"
      ]
    },
    {
      "cell_type": "code",
      "execution_count": null,
      "metadata": {
        "id": "TajA5Cb5MzLg"
      },
      "outputs": [],
      "source": [
        "data_train, data_test = train_test_split(data2, test_size=0.20, random_state=12345)"
      ]
    },
    {
      "cell_type": "code",
      "execution_count": null,
      "metadata": {
        "id": "5b2m_k30MzLh"
      },
      "outputs": [],
      "source": [
        "X = data_train.drop('Price',axis=1)\n",
        "y = data_train['Price']\n",
        "x_train, x_valid, y_train, y_valid = train_test_split(X, y, test_size = 0.25, random_state = 12345)\n"
      ]
    },
    {
      "cell_type": "markdown",
      "metadata": {
        "id": "oWx5uKCmMzLh"
      },
      "source": [
        "Подберем лучшие параметры"
      ]
    },
    {
      "cell_type": "code",
      "execution_count": null,
      "metadata": {
        "id": "RSYrtUN_MzLh",
        "outputId": "4cf4e705-0a8f-4dc9-8b8f-7d49e58b4281"
      },
      "outputs": [
        {
          "name": "stdout",
          "output_type": "stream",
          "text": [
            "RMSE наилучшей модели на валидационной выборке: 1950.581476127252 Глубина дерева: 13\n"
          ]
        }
      ],
      "source": [
        "best_model = None\n",
        "best_result = 10000\n",
        "best_depth = 0\n",
        "for depth in range(1, 50):\n",
        "    model = DecisionTreeRegressor(random_state=12345, max_depth=depth)\n",
        "    model.fit(x_train, y_train) \n",
        "    predictions_valid = model.predict(x_valid) \n",
        "    result =  mean_squared_error(y_valid, predictions_valid)**0.5 \n",
        "    if result < best_result:\n",
        "        best_model = model\n",
        "        best_result = result\n",
        "        best_depth = depth\n",
        "\n",
        "print(\"RMSE наилучшей модели на валидационной выборке:\", best_result, \"Глубина дерева:\", best_depth)"
      ]
    },
    {
      "cell_type": "markdown",
      "metadata": {
        "id": "N4meVpRSMzLh"
      },
      "source": [
        "Посчитаем время обучения и время предсказания. Для этих целей напишем две функции соответственно"
      ]
    },
    {
      "cell_type": "code",
      "execution_count": null,
      "metadata": {
        "id": "p6DW4TM-MzLi"
      },
      "outputs": [],
      "source": [
        "def learn_time(model, x_train, y_train):\n",
        "    start_time = time.time()\n",
        "    model.fit(x_train,y_train)\n",
        "    finish_time = time.time()\n",
        "    time_fit = finish_time - start_time\n",
        "    return time_fit,model"
      ]
    },
    {
      "cell_type": "code",
      "execution_count": null,
      "metadata": {
        "id": "oj86ICogMzLi"
      },
      "outputs": [],
      "source": [
        "def predict_time(model, x_valid):\n",
        "    start_time = time.time()\n",
        "    predict = model.predict(x_valid)    \n",
        "    finish_time = time.time()\n",
        "    time_predict = finish_time - start_time\n",
        "    return time_predict, model"
      ]
    },
    {
      "cell_type": "code",
      "execution_count": null,
      "metadata": {
        "id": "BwpO4DQiMzLi",
        "outputId": "bee521e8-e8dc-488e-b49b-d303e1904039"
      },
      "outputs": [
        {
          "data": {
            "text/plain": [
              "DecisionTreeRegressor(max_depth=13, random_state=12345)"
            ]
          },
          "execution_count": 33,
          "metadata": {},
          "output_type": "execute_result"
        }
      ],
      "source": [
        "model_des_tr_reg = DecisionTreeRegressor(random_state=12345, max_depth=13)\n",
        "model_des_tr_reg.fit(x_train, y_train) "
      ]
    },
    {
      "cell_type": "code",
      "execution_count": null,
      "metadata": {
        "id": "3KS_-OuGMzLj",
        "outputId": "31956c83-4c4d-4cde-8e20-864c5a710dc2"
      },
      "outputs": [
        {
          "data": {
            "text/plain": [
              "(0.586040735244751, DecisionTreeRegressor(max_depth=13, random_state=12345))"
            ]
          },
          "execution_count": 34,
          "metadata": {},
          "output_type": "execute_result"
        }
      ],
      "source": [
        "learn_time(model_des_tr_reg, x_train, y_train)"
      ]
    },
    {
      "cell_type": "code",
      "execution_count": null,
      "metadata": {
        "scrolled": false,
        "id": "xFDTEei-MzLj",
        "outputId": "4441b215-7c16-41cf-8c8b-4843d7207890"
      },
      "outputs": [
        {
          "data": {
            "text/plain": [
              "(0.011441230773925781, DecisionTreeRegressor(max_depth=13, random_state=12345))"
            ]
          },
          "execution_count": 35,
          "metadata": {},
          "output_type": "execute_result"
        }
      ],
      "source": [
        "predict_time(model_des_tr_reg, x_valid)"
      ]
    },
    {
      "cell_type": "markdown",
      "metadata": {
        "id": "hBh0kR-jMzLj"
      },
      "source": [
        "Мы получили необходиымую метрику RMSE, время обучения 0,8446, предсказания 0,0145."
      ]
    },
    {
      "cell_type": "markdown",
      "metadata": {
        "id": "3Brj4d2BMzLk"
      },
      "source": [
        "### Случайный лес"
      ]
    },
    {
      "cell_type": "code",
      "execution_count": null,
      "metadata": {
        "id": "nZNUn-7xMzLk",
        "outputId": "2bdf890c-677d-440c-96bf-668cdfa85bcd"
      },
      "outputs": [
        {
          "name": "stdout",
          "output_type": "stream",
          "text": [
            "RMSE наилучшей модели на валидационной выборке: 1893.9517039730679 Количество деревьев: 50 Максимальная глубина: 10\n"
          ]
        }
      ],
      "source": [
        "best_model = None\n",
        "best_result = 10000\n",
        "best_est = 0\n",
        "best_depth = 0\n",
        "for est in range(10, 51, 10):\n",
        "    for depth in range (1, 11):\n",
        "        model = RandomForestRegressor(random_state=12345, n_estimators=est, max_depth=depth) \n",
        "        model.fit(x_train, y_train) \n",
        "        predictions_valid = model.predict(x_valid) \n",
        "        result = mean_squared_error(y_valid, predictions_valid)**0.5 \n",
        "        if result < best_result:\n",
        "            best_model = model\n",
        "            best_result = result\n",
        "            best_est = est\n",
        "            best_depth = depth\n",
        "\n",
        "print(\"RMSE наилучшей модели на валидационной выборке:\", best_result, \"Количество деревьев:\", best_est, \"Максимальная глубина:\", depth)"
      ]
    },
    {
      "cell_type": "code",
      "execution_count": null,
      "metadata": {
        "id": "v7XeUqwSMzLk",
        "outputId": "fd644d99-4137-4934-94e5-7d359e6b9d2e"
      },
      "outputs": [
        {
          "data": {
            "text/plain": [
              "RandomForestRegressor(max_depth=10, n_estimators=50, random_state=12345)"
            ]
          },
          "execution_count": 37,
          "metadata": {},
          "output_type": "execute_result"
        }
      ],
      "source": [
        "model_ran_for_reg = RandomForestRegressor(random_state=12345, n_estimators=50, max_depth=10) \n",
        "model_ran_for_reg.fit(x_train, y_train)"
      ]
    },
    {
      "cell_type": "code",
      "execution_count": null,
      "metadata": {
        "id": "EuoyX3XFMzLk",
        "outputId": "9e1ea36e-2cc4-4c52-b3da-3921511b40ff"
      },
      "outputs": [
        {
          "data": {
            "text/plain": [
              "(17.63904356956482,\n",
              " RandomForestRegressor(max_depth=10, n_estimators=50, random_state=12345))"
            ]
          },
          "execution_count": 38,
          "metadata": {},
          "output_type": "execute_result"
        }
      ],
      "source": [
        "learn_time(model_ran_for_reg, x_train, y_train)"
      ]
    },
    {
      "cell_type": "code",
      "execution_count": null,
      "metadata": {
        "scrolled": true,
        "id": "c997sA60MzLl",
        "outputId": "a2d75d0f-8838-42cf-fa7e-914b69f00c45"
      },
      "outputs": [
        {
          "data": {
            "text/plain": [
              "(0.3088498115539551,\n",
              " RandomForestRegressor(max_depth=10, n_estimators=50, random_state=12345))"
            ]
          },
          "execution_count": 39,
          "metadata": {},
          "output_type": "execute_result"
        }
      ],
      "source": [
        "predict_time(model_ran_for_reg, x_valid)"
      ]
    },
    {
      "cell_type": "markdown",
      "metadata": {
        "id": "mUUfU2oGMzLl"
      },
      "source": [
        "В этой модели мы так же получили необходимый показатель метрики RMSE, однако время обучения значительно больше чем у Дерева решений. Пока опустим эту модель."
      ]
    },
    {
      "cell_type": "markdown",
      "metadata": {
        "id": "UPH7jyFuMzLl"
      },
      "source": [
        "### Линейная регрессия"
      ]
    },
    {
      "cell_type": "code",
      "execution_count": null,
      "metadata": {
        "id": "ilyCIYLxMzLm",
        "outputId": "5f6fc082-0c9b-46bb-952d-da0dfd71cedd"
      },
      "outputs": [
        {
          "name": "stdout",
          "output_type": "stream",
          "text": [
            "RMSE модели линейной регрессии на валидационной выборке: 3222.178652941222\n"
          ]
        }
      ],
      "source": [
        "model_line = LinearRegression()\n",
        "model_line.fit(x_line_train, y_line_train)\n",
        "predictions_valid = model_line.predict(x_line_valid) \n",
        "\n",
        "result = mean_squared_error(y_line_valid, predictions_valid)**0.5\n",
        "print(\"RMSE модели линейной регрессии на валидационной выборке:\", result)"
      ]
    },
    {
      "cell_type": "markdown",
      "metadata": {
        "id": "3aLjYUXJMzLo"
      },
      "source": [
        "Дополним картину измерением времени"
      ]
    },
    {
      "cell_type": "code",
      "execution_count": null,
      "metadata": {
        "id": "JwQ6jf1rMzLp",
        "outputId": "74e81cbb-d69c-40e6-d2df-b41832be4b0c"
      },
      "outputs": [
        {
          "data": {
            "text/plain": [
              "(19.204323053359985, LinearRegression())"
            ]
          },
          "execution_count": 41,
          "metadata": {},
          "output_type": "execute_result"
        }
      ],
      "source": [
        "learn_time(model_line, x_line_train, y_line_train)"
      ]
    },
    {
      "cell_type": "code",
      "execution_count": null,
      "metadata": {
        "id": "Hn5epgykMzLp",
        "outputId": "479ec6ab-2105-4b05-bfbe-c63b3076442c"
      },
      "outputs": [
        {
          "data": {
            "text/plain": [
              "(0.2391681671142578, LinearRegression())"
            ]
          },
          "execution_count": 42,
          "metadata": {},
          "output_type": "execute_result"
        }
      ],
      "source": [
        "predict_time(model_line, x_line_valid)"
      ]
    },
    {
      "cell_type": "markdown",
      "metadata": {
        "id": "lwtJTjJEMzLq"
      },
      "source": [
        "### Градиентный бустинг"
      ]
    },
    {
      "cell_type": "markdown",
      "metadata": {
        "id": "E-idm4FIMzLr"
      },
      "source": [
        "Для Градиентного бустинга не обязательно кодировать категоральные признаки. Однако, мы сделалу уже кодирование. Не вижу смысла перегружать исследование данными. Используем общий датафрейм с кодированными данными"
      ]
    },
    {
      "cell_type": "code",
      "execution_count": null,
      "metadata": {
        "scrolled": true,
        "id": "o-LD9ZGEMzLs",
        "outputId": "ff90d74e-5c4e-4946-9d5c-aeb96f01610d"
      },
      "outputs": [
        {
          "name": "stdout",
          "output_type": "stream",
          "text": [
            "RMSE модели на валидационной выборке: 1713.2736785933064\n"
          ]
        }
      ],
      "source": [
        "#cat_features = ['VehicleType', 'Gearbox', 'Model', 'FuelType', 'Brand', 'NotRepaired']\n",
        "model_cat = CatBoostRegressor(n_estimators=100, silent=True)\n",
        "model_cat.fit(x_train, y_train)\n",
        "predictions_valid = model_cat.predict(x_valid) \n",
        "\n",
        "result = mean_squared_error(y_valid, predictions_valid)**0.5\n",
        "print(\"RMSE модели на валидационной выборке:\", result)"
      ]
    },
    {
      "cell_type": "code",
      "execution_count": null,
      "metadata": {
        "id": "uNKHg0orMzLt",
        "outputId": "b7e979d8-54ca-4275-bc86-b1665daffaa3"
      },
      "outputs": [
        {
          "data": {
            "text/plain": [
              "(2.9475648403167725, <catboost.core.CatBoostRegressor at 0x7f9a75bba610>)"
            ]
          },
          "execution_count": 45,
          "metadata": {},
          "output_type": "execute_result"
        }
      ],
      "source": [
        "learn_time(model_cat, x_train, y_train)"
      ]
    },
    {
      "cell_type": "code",
      "execution_count": null,
      "metadata": {
        "id": "jrzfMcr4MzLt",
        "outputId": "d11c3f83-946f-467a-cc06-f235888653db"
      },
      "outputs": [
        {
          "data": {
            "text/plain": [
              "(0.010980367660522461, <catboost.core.CatBoostRegressor at 0x7f9a75bba610>)"
            ]
          },
          "execution_count": 46,
          "metadata": {},
          "output_type": "execute_result"
        }
      ],
      "source": [
        "predict_time(model_cat, x_valid)"
      ]
    },
    {
      "cell_type": "markdown",
      "metadata": {
        "id": "3JOWWtoLMzLt"
      },
      "source": [
        "Отличное качество модели. "
      ]
    },
    {
      "cell_type": "markdown",
      "metadata": {
        "id": "N190hvLhMzLu"
      },
      "source": [
        "### Lightgbm"
      ]
    },
    {
      "cell_type": "markdown",
      "metadata": {
        "id": "7Nlg9_OlMzLu"
      },
      "source": [
        "Не смотря на то, что данный тип модели способен работать с категоральными данными, не вижу смысла откатывать датафрейм к изначальному. Так же используем уже кодированные данные"
      ]
    },
    {
      "cell_type": "code",
      "execution_count": null,
      "metadata": {
        "id": "6PLSffhIMzLv",
        "outputId": "b7901942-671c-4ee2-faf0-1cf69d9490e5"
      },
      "outputs": [
        {
          "data": {
            "text/plain": [
              "LGBMRegressor(random_state=12345)"
            ]
          },
          "execution_count": 47,
          "metadata": {},
          "output_type": "execute_result"
        }
      ],
      "source": [
        "model_LGMB = LGBMRegressor(random_state=12345)\n",
        "model_LGMB.fit(x_train, y_train)"
      ]
    },
    {
      "cell_type": "code",
      "execution_count": null,
      "metadata": {
        "id": "K8gxrDwzMzLv",
        "outputId": "88fd94bf-f22f-4145-b598-926684f01488"
      },
      "outputs": [
        {
          "name": "stdout",
          "output_type": "stream",
          "text": [
            "RMSE модели  на валидационной выборке: 1726.0901997240042\n"
          ]
        }
      ],
      "source": [
        "predict_LGMB = model_LGMB.predict(x_valid)\n",
        "result_LGMB = mean_squared_error(y_valid, predict_LGMB)**0.5\n",
        "print(\"RMSE модели  на валидационной выборке:\", result_LGMB)"
      ]
    },
    {
      "cell_type": "code",
      "execution_count": null,
      "metadata": {
        "id": "LrRh4P2xMzLv",
        "outputId": "ff23ffea-eb6f-4756-cf38-86834269138c"
      },
      "outputs": [
        {
          "data": {
            "text/plain": [
              "(4.1849706172943115, LGBMRegressor(random_state=12345))"
            ]
          },
          "execution_count": 49,
          "metadata": {},
          "output_type": "execute_result"
        }
      ],
      "source": [
        "learn_time(model_LGMB, x_train, y_train)"
      ]
    },
    {
      "cell_type": "code",
      "execution_count": null,
      "metadata": {
        "id": "1y44Re64MzLw",
        "outputId": "bbcf068f-85af-40f9-c508-45ffc9315c1d"
      },
      "outputs": [
        {
          "data": {
            "text/plain": [
              "(0.49338483810424805, LGBMRegressor(random_state=12345))"
            ]
          },
          "execution_count": 50,
          "metadata": {},
          "output_type": "execute_result"
        }
      ],
      "source": [
        "predict_time(model_LGMB, x_valid)"
      ]
    },
    {
      "cell_type": "markdown",
      "metadata": {
        "id": "QxhnsgJ-MzLw"
      },
      "source": [
        "Мы получили неплохой показатель метрики, однако время обучения немного больше, чему  дерева решений. Сравним показатели позже"
      ]
    },
    {
      "cell_type": "markdown",
      "metadata": {
        "id": "DbqH7smgMzLw"
      },
      "source": [
        "## Анализ моделей"
      ]
    },
    {
      "cell_type": "markdown",
      "metadata": {
        "id": "Xs9i1VZIMzLx"
      },
      "source": [
        "Мы обучили пять моделей и измерили их метрики RMSE, а также время их обучения и предсказания на валидационных выборках. Попробуем объединить данные в таблицу для наглядного анализа и сравнения."
      ]
    },
    {
      "cell_type": "code",
      "execution_count": null,
      "metadata": {
        "scrolled": true,
        "id": "zA-vC1JaMzLx",
        "outputId": "461b2667-75e8-443b-ee01-1a58ecda8492"
      },
      "outputs": [
        {
          "data": {
            "text/html": [
              "<div>\n",
              "<style scoped>\n",
              "    .dataframe tbody tr th:only-of-type {\n",
              "        vertical-align: middle;\n",
              "    }\n",
              "\n",
              "    .dataframe tbody tr th {\n",
              "        vertical-align: top;\n",
              "    }\n",
              "\n",
              "    .dataframe thead th {\n",
              "        text-align: right;\n",
              "    }\n",
              "</style>\n",
              "<table border=\"1\" class=\"dataframe\">\n",
              "  <thead>\n",
              "    <tr style=\"text-align: right;\">\n",
              "      <th></th>\n",
              "      <th>type</th>\n",
              "      <th>RMSE</th>\n",
              "      <th>learn_time</th>\n",
              "      <th>predict_time</th>\n",
              "    </tr>\n",
              "  </thead>\n",
              "  <tbody>\n",
              "    <tr>\n",
              "      <th>0</th>\n",
              "      <td>DecisionTreeRegressor</td>\n",
              "      <td>1950.5815</td>\n",
              "      <td>0.5828</td>\n",
              "      <td>0.0122</td>\n",
              "    </tr>\n",
              "    <tr>\n",
              "      <th>1</th>\n",
              "      <td>RandomForestRegressor</td>\n",
              "      <td>1893.9517</td>\n",
              "      <td>15.6985</td>\n",
              "      <td>0.2833</td>\n",
              "    </tr>\n",
              "    <tr>\n",
              "      <th>2</th>\n",
              "      <td>LinearRegression</td>\n",
              "      <td>3222.1787</td>\n",
              "      <td>19.4015</td>\n",
              "      <td>0.2966</td>\n",
              "    </tr>\n",
              "    <tr>\n",
              "      <th>3</th>\n",
              "      <td>CatBoostRegressor</td>\n",
              "      <td>1713.2737</td>\n",
              "      <td>2.9693</td>\n",
              "      <td>0.0115</td>\n",
              "    </tr>\n",
              "    <tr>\n",
              "      <th>4</th>\n",
              "      <td>LGBMRegressor</td>\n",
              "      <td>1726.0901</td>\n",
              "      <td>4.2027</td>\n",
              "      <td>0.5083</td>\n",
              "    </tr>\n",
              "  </tbody>\n",
              "</table>\n",
              "</div>"
            ],
            "text/plain": [
              "                    type       RMSE learn_time predict_time\n",
              "0  DecisionTreeRegressor  1950.5815     0.5828       0.0122\n",
              "1  RandomForestRegressor  1893.9517    15.6985       0.2833\n",
              "2       LinearRegression  3222.1787    19.4015       0.2966\n",
              "3      CatBoostRegressor  1713.2737     2.9693       0.0115\n",
              "4          LGBMRegressor  1726.0901     4.2027       0.5083"
            ]
          },
          "execution_count": 51,
          "metadata": {},
          "output_type": "execute_result"
        }
      ],
      "source": [
        "models = ['DecisionTreeRegressor', '1950.5815', '0.5828', '0.0122'], [\n",
        "    'RandomForestRegressor', '1893.9517', '15.6985', '0.2833'], [\n",
        "    'LinearRegression', '3222.1787', '19.4015', '0.2966'], [\n",
        "    'CatBoostRegressor', '1713.2737', '2.9693', '0.0115'], [\n",
        "    'LGBMRegressor', '1726.0901', '4.2027', '0.5083']\n",
        "columns = ['type', 'RMSE', 'learn_time', 'predict_time']\n",
        "final_models = pd.DataFrame(data=models , columns=columns)\n",
        "final_models"
      ]
    },
    {
      "cell_type": "markdown",
      "metadata": {
        "id": "HYSRA2zGMzLy"
      },
      "source": [
        "Лучший показатель у модели CatBoostRegressor"
      ]
    },
    {
      "cell_type": "markdown",
      "metadata": {
        "id": "GARvPGVNMzLz"
      },
      "source": [
        "Оценим важность признаков"
      ]
    },
    {
      "cell_type": "code",
      "execution_count": null,
      "metadata": {
        "scrolled": true,
        "id": "3b0_tp8mMzLz",
        "outputId": "03b84871-2a08-4349-baa8-f9dd77db0b9a"
      },
      "outputs": [
        {
          "data": {
            "image/png": "[encoded data removed]",
            "text/plain": [
              "<Figure size 1152x1008 with 1 Axes>"
            ]
          },
          "metadata": {
            "needs_background": "light"
          },
          "output_type": "display_data"
        }
      ],
      "source": [
        "importance = pd.Series(model_cat.feature_importances_,\n",
        "                         data2.drop(['Price'], axis=1).columns)\n",
        "\n",
        "fig, ax = plt.subplots(figsize=(16,14))\n",
        "importance.plot.bar(ax=ax)\n",
        "ax.set_title(\"Важность признаков\")\n",
        "ax.set_ylabel('Важность')\n",
        "fig.tight_layout()"
      ]
    },
    {
      "cell_type": "markdown",
      "metadata": {
        "id": "RheLEk2VMzLz"
      },
      "source": [
        "Самый важный фактор - это конечно же возраст, затем мощность и пробег. Странно только, что тип КПП имеет крайне низкую важность. "
      ]
    },
    {
      "cell_type": "markdown",
      "metadata": {
        "id": "kwgOitjSMzL2"
      },
      "source": [
        "### Проверка на валидационной выборке"
      ]
    },
    {
      "cell_type": "code",
      "execution_count": null,
      "metadata": {
        "id": "eCsN4JPMMzL2",
        "outputId": "bf54d3db-ec85-4f80-bcbe-1e0959999c6e"
      },
      "outputs": [
        {
          "name": "stdout",
          "output_type": "stream",
          "text": [
            "RMSE модели на валидационной выборке: 1720.909418540015\n",
            "Время обучения: (2.9865665435791016, <catboost.core.CatBoostRegressor object at 0x7f9a75bd0850>)\n",
            "Время предсказания: (0.012626171112060547, <catboost.core.CatBoostRegressor object at 0x7f9a75bd0850>)\n"
          ]
        }
      ],
      "source": [
        "model_cat_test = CatBoostRegressor(n_estimators=100, silent=True)\n",
        "model_cat_test.fit(x_train, y_train)\n",
        "\n",
        "predictions_valid_cat_test = model_cat_test.predict(x_test) \n",
        "\n",
        "print(\"RMSE модели на валидационной выборке:\", mean_squared_error(y_test, predictions_valid_cat_test)**0.5)\n",
        "print('Время обучения:', learn_time(model_cat_test, x_train, y_train))\n",
        "print('Время предсказания:', predict_time(model_cat_test, x_test))"
      ]
    },
    {
      "cell_type": "markdown",
      "metadata": {
        "id": "BH3DbenrMzL3"
      },
      "source": [
        "## Итог"
      ]
    },
    {
      "cell_type": "markdown",
      "metadata": {
        "id": "JluTcj8cMzL3"
      },
      "source": [
        "Две модели обучения (LGBMRegressor и CatBoostRegressor) показали достаточно высокое качество предсказания при достаточно быстрой обработке данных. Однако CatBoostRegressor обучается немного быстрее и предсказует также быстрее, поэтому предложим заказчикуименно эту модель."
      ]
    }
  ],
  "metadata": {
    "ExecuteTimeLog": [
      {
        "duration": 381,
        "start_time": "2022-10-02T10:12:55.125Z"
      },
      {
        "duration": 2732,
        "start_time": "2022-10-02T10:13:26.957Z"
      },
      {
        "duration": 860,
        "start_time": "2022-10-02T10:13:48.122Z"
      },
      {
        "duration": 90116,
        "start_time": "2022-10-02T10:30:06.777Z"
      },
      {
        "duration": 2,
        "start_time": "2022-10-02T10:32:22.653Z"
      },
      {
        "duration": 97,
        "start_time": "2022-10-02T10:32:31.959Z"
      },
      {
        "duration": 6,
        "start_time": "2022-10-02T10:38:26.603Z"
      },
      {
        "duration": 6,
        "start_time": "2022-10-02T10:40:08.681Z"
      },
      {
        "duration": 3,
        "start_time": "2022-10-02T10:40:58.490Z"
      },
      {
        "duration": 7,
        "start_time": "2022-10-02T10:41:02.800Z"
      },
      {
        "duration": 6,
        "start_time": "2022-10-02T10:41:36.602Z"
      },
      {
        "duration": 7,
        "start_time": "2022-10-02T10:41:45.985Z"
      },
      {
        "duration": 739,
        "start_time": "2022-10-02T10:44:46.274Z"
      },
      {
        "duration": 585,
        "start_time": "2022-10-02T10:45:12.405Z"
      },
      {
        "duration": 76,
        "start_time": "2022-10-02T10:46:17.531Z"
      },
      {
        "duration": 9,
        "start_time": "2022-10-02T10:46:30.353Z"
      },
      {
        "duration": 9,
        "start_time": "2022-10-02T10:46:37.576Z"
      },
      {
        "duration": 71,
        "start_time": "2022-10-02T10:46:54.857Z"
      },
      {
        "duration": 37,
        "start_time": "2022-10-02T10:48:50.928Z"
      },
      {
        "duration": 99,
        "start_time": "2022-10-02T10:50:00.537Z"
      },
      {
        "duration": 384,
        "start_time": "2022-10-02T10:50:14.314Z"
      },
      {
        "duration": 791,
        "start_time": "2022-10-02T10:50:14.700Z"
      },
      {
        "duration": 43,
        "start_time": "2022-10-02T10:50:15.493Z"
      },
      {
        "duration": 129,
        "start_time": "2022-10-02T10:50:15.537Z"
      },
      {
        "duration": 26,
        "start_time": "2022-10-02T10:50:27.748Z"
      },
      {
        "duration": 65,
        "start_time": "2022-10-02T10:50:29.737Z"
      },
      {
        "duration": 557,
        "start_time": "2022-10-02T10:53:56.315Z"
      },
      {
        "duration": 213,
        "start_time": "2022-10-02T10:55:56.668Z"
      },
      {
        "duration": 156,
        "start_time": "2022-10-02T10:56:03.276Z"
      },
      {
        "duration": 2,
        "start_time": "2022-10-02T10:56:39.581Z"
      },
      {
        "duration": 145,
        "start_time": "2022-10-02T10:56:47.144Z"
      },
      {
        "duration": 203,
        "start_time": "2022-10-02T10:56:59.413Z"
      },
      {
        "duration": 128,
        "start_time": "2022-10-02T10:57:15.445Z"
      },
      {
        "duration": 11,
        "start_time": "2022-10-02T10:59:01.173Z"
      },
      {
        "duration": 8,
        "start_time": "2022-10-02T10:59:15.134Z"
      },
      {
        "duration": 8,
        "start_time": "2022-10-02T11:00:01.485Z"
      },
      {
        "duration": 35,
        "start_time": "2022-10-02T11:00:54.480Z"
      },
      {
        "duration": 13,
        "start_time": "2022-10-02T11:01:17.692Z"
      },
      {
        "duration": 11,
        "start_time": "2022-10-02T11:01:26.075Z"
      },
      {
        "duration": 16,
        "start_time": "2022-10-02T11:01:35.286Z"
      },
      {
        "duration": 30,
        "start_time": "2022-10-02T11:06:00.935Z"
      },
      {
        "duration": 15,
        "start_time": "2022-10-02T11:06:09.614Z"
      },
      {
        "duration": 40,
        "start_time": "2022-10-02T11:15:39.880Z"
      },
      {
        "duration": 20,
        "start_time": "2022-10-02T11:15:49.191Z"
      },
      {
        "duration": 35,
        "start_time": "2022-10-02T11:16:00.384Z"
      },
      {
        "duration": 28,
        "start_time": "2022-10-02T11:16:01.483Z"
      },
      {
        "duration": 43,
        "start_time": "2022-10-02T11:17:13.697Z"
      },
      {
        "duration": 15,
        "start_time": "2022-10-02T11:17:20.048Z"
      },
      {
        "duration": 17,
        "start_time": "2022-10-02T11:17:21.534Z"
      },
      {
        "duration": 21,
        "start_time": "2022-10-02T11:18:05.240Z"
      },
      {
        "duration": 15,
        "start_time": "2022-10-02T11:18:08.380Z"
      },
      {
        "duration": 619,
        "start_time": "2022-10-02T11:18:13.383Z"
      },
      {
        "duration": 821,
        "start_time": "2022-10-02T11:18:14.004Z"
      },
      {
        "duration": 21,
        "start_time": "2022-10-02T11:18:14.826Z"
      },
      {
        "duration": 78,
        "start_time": "2022-10-02T11:18:14.849Z"
      },
      {
        "duration": 160,
        "start_time": "2022-10-02T11:18:14.929Z"
      },
      {
        "duration": 18,
        "start_time": "2022-10-02T11:18:15.090Z"
      },
      {
        "duration": 43,
        "start_time": "2022-10-02T11:18:15.110Z"
      },
      {
        "duration": 17,
        "start_time": "2022-10-02T11:18:15.154Z"
      },
      {
        "duration": 100,
        "start_time": "2022-10-02T11:20:48.365Z"
      },
      {
        "duration": 75,
        "start_time": "2022-10-02T11:21:29.620Z"
      },
      {
        "duration": 54,
        "start_time": "2022-10-02T11:24:14.067Z"
      },
      {
        "duration": 16,
        "start_time": "2022-10-02T11:24:19.146Z"
      },
      {
        "duration": 10,
        "start_time": "2022-10-02T11:25:53.667Z"
      },
      {
        "duration": 66,
        "start_time": "2022-10-02T11:25:59.733Z"
      },
      {
        "duration": 8,
        "start_time": "2022-10-02T11:28:33.337Z"
      },
      {
        "duration": 15,
        "start_time": "2022-10-02T11:28:41.857Z"
      },
      {
        "duration": 70,
        "start_time": "2022-10-02T11:28:49.454Z"
      },
      {
        "duration": 16,
        "start_time": "2022-10-02T11:29:09.415Z"
      },
      {
        "duration": 28,
        "start_time": "2022-10-02T11:34:40.647Z"
      },
      {
        "duration": 71,
        "start_time": "2022-10-02T11:34:43.995Z"
      },
      {
        "duration": 145,
        "start_time": "2022-10-02T11:37:11.639Z"
      },
      {
        "duration": 124,
        "start_time": "2022-10-02T11:38:02.321Z"
      },
      {
        "duration": 1176,
        "start_time": "2022-10-02T11:38:21.777Z"
      },
      {
        "duration": 1285,
        "start_time": "2022-10-02T11:38:49.793Z"
      },
      {
        "duration": 1240,
        "start_time": "2022-10-02T11:38:58.462Z"
      },
      {
        "duration": 20,
        "start_time": "2022-10-02T11:40:36.844Z"
      },
      {
        "duration": 11,
        "start_time": "2022-10-02T13:18:00.045Z"
      },
      {
        "duration": 20,
        "start_time": "2022-10-02T13:18:11.864Z"
      },
      {
        "duration": 57,
        "start_time": "2022-10-02T13:22:31.183Z"
      },
      {
        "duration": 1176,
        "start_time": "2022-10-02T13:24:16.925Z"
      },
      {
        "duration": 1335,
        "start_time": "2022-10-02T13:24:35.345Z"
      },
      {
        "duration": 220,
        "start_time": "2022-10-02T13:24:51.805Z"
      },
      {
        "duration": 655,
        "start_time": "2022-10-02T13:29:46.201Z"
      },
      {
        "duration": 916,
        "start_time": "2022-10-02T13:29:46.858Z"
      },
      {
        "duration": 26,
        "start_time": "2022-10-02T13:29:47.776Z"
      },
      {
        "duration": 104,
        "start_time": "2022-10-02T13:29:47.804Z"
      },
      {
        "duration": 177,
        "start_time": "2022-10-02T13:29:47.910Z"
      },
      {
        "duration": 22,
        "start_time": "2022-10-02T13:29:48.089Z"
      },
      {
        "duration": 54,
        "start_time": "2022-10-02T13:29:48.122Z"
      },
      {
        "duration": 19,
        "start_time": "2022-10-02T13:29:48.177Z"
      },
      {
        "duration": 93,
        "start_time": "2022-10-02T13:29:48.197Z"
      },
      {
        "duration": 42,
        "start_time": "2022-10-02T13:29:48.292Z"
      },
      {
        "duration": 1315,
        "start_time": "2022-10-02T13:29:48.336Z"
      },
      {
        "duration": 22,
        "start_time": "2022-10-02T13:29:49.653Z"
      },
      {
        "duration": 78,
        "start_time": "2022-10-02T13:29:49.676Z"
      },
      {
        "duration": 155,
        "start_time": "2022-10-02T13:29:49.756Z"
      },
      {
        "duration": 128,
        "start_time": "2022-10-02T13:29:54.059Z"
      },
      {
        "duration": 134,
        "start_time": "2022-10-02T13:30:02.795Z"
      },
      {
        "duration": 49,
        "start_time": "2022-10-03T07:33:42.408Z"
      },
      {
        "duration": 1344,
        "start_time": "2022-10-03T07:34:02.014Z"
      },
      {
        "duration": 60,
        "start_time": "2022-10-03T07:34:11.320Z"
      },
      {
        "duration": 1113,
        "start_time": "2022-10-03T07:34:20.720Z"
      },
      {
        "duration": 1145,
        "start_time": "2022-10-03T07:34:21.835Z"
      },
      {
        "duration": 27,
        "start_time": "2022-10-03T07:34:22.982Z"
      },
      {
        "duration": 92,
        "start_time": "2022-10-03T07:34:23.012Z"
      },
      {
        "duration": 184,
        "start_time": "2022-10-03T07:34:23.106Z"
      },
      {
        "duration": 17,
        "start_time": "2022-10-03T07:34:23.291Z"
      },
      {
        "duration": 56,
        "start_time": "2022-10-03T07:34:23.310Z"
      },
      {
        "duration": 18,
        "start_time": "2022-10-03T07:34:23.368Z"
      },
      {
        "duration": 98,
        "start_time": "2022-10-03T07:34:23.388Z"
      },
      {
        "duration": 36,
        "start_time": "2022-10-03T07:34:23.488Z"
      },
      {
        "duration": 1315,
        "start_time": "2022-10-03T07:34:23.525Z"
      },
      {
        "duration": 23,
        "start_time": "2022-10-03T07:34:24.842Z"
      },
      {
        "duration": 56,
        "start_time": "2022-10-03T07:34:24.867Z"
      },
      {
        "duration": 166,
        "start_time": "2022-10-03T07:34:24.938Z"
      },
      {
        "duration": 333,
        "start_time": "2022-10-03T07:34:25.107Z"
      },
      {
        "duration": 6,
        "start_time": "2022-10-03T07:35:58.558Z"
      },
      {
        "duration": 297,
        "start_time": "2022-10-03T07:36:07.515Z"
      },
      {
        "duration": 474,
        "start_time": "2022-10-03T07:38:46.620Z"
      },
      {
        "duration": 622,
        "start_time": "2022-10-03T07:39:21.018Z"
      },
      {
        "duration": 3412,
        "start_time": "2022-10-03T07:39:48.691Z"
      },
      {
        "duration": 17,
        "start_time": "2022-10-03T07:40:08.867Z"
      },
      {
        "duration": 16,
        "start_time": "2022-10-03T07:40:13.514Z"
      },
      {
        "duration": 454,
        "start_time": "2022-10-03T07:41:13.555Z"
      },
      {
        "duration": 306,
        "start_time": "2022-10-03T07:41:21.716Z"
      },
      {
        "duration": 339,
        "start_time": "2022-10-03T07:41:31.620Z"
      },
      {
        "duration": 72,
        "start_time": "2022-10-03T07:44:40.579Z"
      },
      {
        "duration": 256,
        "start_time": "2022-10-03T07:47:02.115Z"
      },
      {
        "duration": 278,
        "start_time": "2022-10-03T07:47:46.604Z"
      },
      {
        "duration": 19,
        "start_time": "2022-10-03T07:51:17.461Z"
      },
      {
        "duration": 289,
        "start_time": "2022-10-03T07:51:27.019Z"
      },
      {
        "duration": 226,
        "start_time": "2022-10-03T07:57:16.650Z"
      },
      {
        "duration": 122,
        "start_time": "2022-10-03T07:58:06.162Z"
      },
      {
        "duration": 74,
        "start_time": "2022-10-03T07:58:37.041Z"
      },
      {
        "duration": 279,
        "start_time": "2022-10-03T07:59:57.803Z"
      },
      {
        "duration": 676,
        "start_time": "2022-10-03T08:00:04.377Z"
      },
      {
        "duration": 19,
        "start_time": "2022-10-03T08:00:19.481Z"
      },
      {
        "duration": 5,
        "start_time": "2022-10-03T08:00:32.028Z"
      },
      {
        "duration": 797,
        "start_time": "2022-10-03T08:01:20.779Z"
      },
      {
        "duration": 23,
        "start_time": "2022-10-03T08:01:21.892Z"
      },
      {
        "duration": 147,
        "start_time": "2022-10-03T08:02:09.409Z"
      },
      {
        "duration": 636,
        "start_time": "2022-10-03T08:03:17.618Z"
      },
      {
        "duration": 22,
        "start_time": "2022-10-03T08:03:22.204Z"
      },
      {
        "duration": 641,
        "start_time": "2022-10-03T08:04:59.080Z"
      },
      {
        "duration": 23,
        "start_time": "2022-10-03T08:05:01.428Z"
      },
      {
        "duration": 1450,
        "start_time": "2022-10-03T08:05:11.522Z"
      },
      {
        "duration": 847,
        "start_time": "2022-10-03T08:05:12.974Z"
      },
      {
        "duration": 26,
        "start_time": "2022-10-03T08:05:13.822Z"
      },
      {
        "duration": 107,
        "start_time": "2022-10-03T08:05:13.850Z"
      },
      {
        "duration": 170,
        "start_time": "2022-10-03T08:05:13.959Z"
      },
      {
        "duration": 26,
        "start_time": "2022-10-03T08:05:14.131Z"
      },
      {
        "duration": 51,
        "start_time": "2022-10-03T08:05:14.158Z"
      },
      {
        "duration": 29,
        "start_time": "2022-10-03T08:05:14.211Z"
      },
      {
        "duration": 105,
        "start_time": "2022-10-03T08:05:14.241Z"
      },
      {
        "duration": 40,
        "start_time": "2022-10-03T08:05:14.349Z"
      },
      {
        "duration": 331,
        "start_time": "2022-10-03T08:05:14.391Z"
      },
      {
        "duration": 263,
        "start_time": "2022-10-03T08:05:14.724Z"
      },
      {
        "duration": 1253,
        "start_time": "2022-10-03T08:05:14.988Z"
      },
      {
        "duration": 23,
        "start_time": "2022-10-03T08:05:16.243Z"
      },
      {
        "duration": 47,
        "start_time": "2022-10-03T08:05:16.268Z"
      },
      {
        "duration": 177,
        "start_time": "2022-10-03T08:05:16.317Z"
      },
      {
        "duration": 18,
        "start_time": "2022-10-03T08:05:16.495Z"
      },
      {
        "duration": 29,
        "start_time": "2022-10-03T08:05:16.514Z"
      },
      {
        "duration": 77,
        "start_time": "2022-10-03T08:05:16.545Z"
      },
      {
        "duration": 282,
        "start_time": "2022-10-03T08:05:16.624Z"
      },
      {
        "duration": 420,
        "start_time": "2022-10-03T08:05:16.908Z"
      },
      {
        "duration": 341,
        "start_time": "2022-10-03T08:05:17.330Z"
      },
      {
        "duration": 751,
        "start_time": "2022-10-03T08:05:17.673Z"
      },
      {
        "duration": 0,
        "start_time": "2022-10-03T08:05:18.426Z"
      },
      {
        "duration": 691,
        "start_time": "2022-10-03T08:05:41.190Z"
      },
      {
        "duration": 22,
        "start_time": "2022-10-03T08:05:42.971Z"
      },
      {
        "duration": 9,
        "start_time": "2022-10-03T08:32:27.655Z"
      },
      {
        "duration": 20,
        "start_time": "2022-10-03T08:32:44.848Z"
      },
      {
        "duration": 20,
        "start_time": "2022-10-03T08:33:42.014Z"
      },
      {
        "duration": 118,
        "start_time": "2022-10-03T08:33:47.529Z"
      },
      {
        "duration": 4,
        "start_time": "2022-10-03T08:37:17.794Z"
      },
      {
        "duration": 13,
        "start_time": "2022-10-03T08:40:26.823Z"
      },
      {
        "duration": 39,
        "start_time": "2022-10-03T08:41:18.797Z"
      },
      {
        "duration": 126,
        "start_time": "2022-10-03T08:41:22.534Z"
      },
      {
        "duration": 53,
        "start_time": "2022-10-03T08:41:49.219Z"
      },
      {
        "duration": 54145,
        "start_time": "2022-10-03T08:41:51.953Z"
      },
      {
        "duration": 3,
        "start_time": "2022-10-03T08:51:20.200Z"
      },
      {
        "duration": 13,
        "start_time": "2022-10-03T08:52:18.880Z"
      },
      {
        "duration": 3,
        "start_time": "2022-10-03T08:53:00.796Z"
      },
      {
        "duration": 855,
        "start_time": "2022-10-03T08:53:05.663Z"
      },
      {
        "duration": 3,
        "start_time": "2022-10-03T08:55:04.244Z"
      },
      {
        "duration": 15,
        "start_time": "2022-10-03T08:55:29.506Z"
      },
      {
        "duration": 996,
        "start_time": "2022-10-03T08:57:26.843Z"
      },
      {
        "duration": 898,
        "start_time": "2022-10-03T08:57:30.651Z"
      },
      {
        "duration": 17,
        "start_time": "2022-10-03T08:57:33.873Z"
      },
      {
        "duration": 1347,
        "start_time": "2022-10-03T08:58:27.763Z"
      },
      {
        "duration": 912,
        "start_time": "2022-10-03T08:58:40.532Z"
      },
      {
        "duration": 17,
        "start_time": "2022-10-03T08:58:44.017Z"
      },
      {
        "duration": 21,
        "start_time": "2022-10-03T08:59:07.801Z"
      },
      {
        "duration": 14,
        "start_time": "2022-10-03T09:03:15.388Z"
      },
      {
        "duration": 14,
        "start_time": "2022-10-03T09:03:39.137Z"
      },
      {
        "duration": 157,
        "start_time": "2022-10-03T09:03:47.861Z"
      },
      {
        "duration": 14,
        "start_time": "2022-10-03T09:04:05.740Z"
      },
      {
        "duration": 152,
        "start_time": "2022-10-03T09:04:24.402Z"
      },
      {
        "duration": 31,
        "start_time": "2022-10-03T09:08:29.361Z"
      },
      {
        "duration": 19,
        "start_time": "2022-10-03T09:08:35.994Z"
      },
      {
        "duration": 3,
        "start_time": "2022-10-03T09:09:02.604Z"
      },
      {
        "duration": 26,
        "start_time": "2022-10-03T09:09:03.563Z"
      },
      {
        "duration": 4,
        "start_time": "2022-10-03T09:09:40.374Z"
      },
      {
        "duration": 19,
        "start_time": "2022-10-03T09:09:41.994Z"
      },
      {
        "duration": 19,
        "start_time": "2022-10-03T09:11:27.217Z"
      },
      {
        "duration": 13,
        "start_time": "2022-10-03T09:11:45.057Z"
      },
      {
        "duration": 13,
        "start_time": "2022-10-03T09:11:51.963Z"
      },
      {
        "duration": 12,
        "start_time": "2022-10-03T09:12:05.543Z"
      },
      {
        "duration": 12,
        "start_time": "2022-10-03T09:12:12.941Z"
      },
      {
        "duration": 14,
        "start_time": "2022-10-03T09:12:22.609Z"
      },
      {
        "duration": 12,
        "start_time": "2022-10-03T09:12:36.913Z"
      },
      {
        "duration": 1506,
        "start_time": "2022-10-03T09:12:59.344Z"
      },
      {
        "duration": 887,
        "start_time": "2022-10-03T09:13:00.852Z"
      },
      {
        "duration": 27,
        "start_time": "2022-10-03T09:13:01.741Z"
      },
      {
        "duration": 98,
        "start_time": "2022-10-03T09:13:01.770Z"
      },
      {
        "duration": 187,
        "start_time": "2022-10-03T09:13:01.870Z"
      },
      {
        "duration": 19,
        "start_time": "2022-10-03T09:13:02.059Z"
      },
      {
        "duration": 65,
        "start_time": "2022-10-03T09:13:02.080Z"
      },
      {
        "duration": 21,
        "start_time": "2022-10-03T09:13:02.147Z"
      },
      {
        "duration": 101,
        "start_time": "2022-10-03T09:13:02.169Z"
      },
      {
        "duration": 61,
        "start_time": "2022-10-03T09:13:02.273Z"
      },
      {
        "duration": 322,
        "start_time": "2022-10-03T09:13:02.336Z"
      },
      {
        "duration": 258,
        "start_time": "2022-10-03T09:13:02.659Z"
      },
      {
        "duration": 1275,
        "start_time": "2022-10-03T09:13:02.918Z"
      },
      {
        "duration": 23,
        "start_time": "2022-10-03T09:13:04.195Z"
      },
      {
        "duration": 62,
        "start_time": "2022-10-03T09:13:04.220Z"
      },
      {
        "duration": 164,
        "start_time": "2022-10-03T09:13:04.283Z"
      },
      {
        "duration": 17,
        "start_time": "2022-10-03T09:13:04.449Z"
      },
      {
        "duration": 17,
        "start_time": "2022-10-03T09:13:04.467Z"
      },
      {
        "duration": 96,
        "start_time": "2022-10-03T09:13:04.486Z"
      },
      {
        "duration": 394,
        "start_time": "2022-10-03T09:13:04.584Z"
      },
      {
        "duration": 282,
        "start_time": "2022-10-03T09:13:04.980Z"
      },
      {
        "duration": 294,
        "start_time": "2022-10-03T09:13:05.263Z"
      },
      {
        "duration": 118,
        "start_time": "2022-10-03T09:13:05.559Z"
      },
      {
        "duration": 0,
        "start_time": "2022-10-03T09:13:05.679Z"
      },
      {
        "duration": 0,
        "start_time": "2022-10-03T09:13:05.680Z"
      },
      {
        "duration": 0,
        "start_time": "2022-10-03T09:13:05.681Z"
      },
      {
        "duration": 0,
        "start_time": "2022-10-03T09:13:05.682Z"
      },
      {
        "duration": 0,
        "start_time": "2022-10-03T09:13:05.683Z"
      },
      {
        "duration": 0,
        "start_time": "2022-10-03T09:13:05.685Z"
      },
      {
        "duration": 0,
        "start_time": "2022-10-03T09:13:05.686Z"
      },
      {
        "duration": 0,
        "start_time": "2022-10-03T09:13:05.687Z"
      },
      {
        "duration": 0,
        "start_time": "2022-10-03T09:13:05.689Z"
      },
      {
        "duration": 0,
        "start_time": "2022-10-03T09:13:05.690Z"
      },
      {
        "duration": 1338,
        "start_time": "2022-10-03T09:13:41.037Z"
      },
      {
        "duration": 840,
        "start_time": "2022-10-03T09:13:42.377Z"
      },
      {
        "duration": 31,
        "start_time": "2022-10-03T09:13:43.219Z"
      },
      {
        "duration": 96,
        "start_time": "2022-10-03T09:13:43.252Z"
      },
      {
        "duration": 182,
        "start_time": "2022-10-03T09:13:43.349Z"
      },
      {
        "duration": 21,
        "start_time": "2022-10-03T09:13:43.532Z"
      },
      {
        "duration": 52,
        "start_time": "2022-10-03T09:13:43.555Z"
      },
      {
        "duration": 37,
        "start_time": "2022-10-03T09:13:43.609Z"
      },
      {
        "duration": 94,
        "start_time": "2022-10-03T09:13:43.647Z"
      },
      {
        "duration": 47,
        "start_time": "2022-10-03T09:13:43.743Z"
      },
      {
        "duration": 322,
        "start_time": "2022-10-03T09:13:43.791Z"
      },
      {
        "duration": 272,
        "start_time": "2022-10-03T09:13:44.115Z"
      },
      {
        "duration": 1296,
        "start_time": "2022-10-03T09:13:44.389Z"
      },
      {
        "duration": 26,
        "start_time": "2022-10-03T09:13:45.687Z"
      },
      {
        "duration": 69,
        "start_time": "2022-10-03T09:13:45.714Z"
      },
      {
        "duration": 168,
        "start_time": "2022-10-03T09:13:45.785Z"
      },
      {
        "duration": 16,
        "start_time": "2022-10-03T09:13:45.955Z"
      },
      {
        "duration": 27,
        "start_time": "2022-10-03T09:13:45.972Z"
      },
      {
        "duration": 81,
        "start_time": "2022-10-03T09:13:46.001Z"
      },
      {
        "duration": 463,
        "start_time": "2022-10-03T09:13:46.084Z"
      },
      {
        "duration": 347,
        "start_time": "2022-10-03T09:13:46.549Z"
      },
      {
        "duration": 350,
        "start_time": "2022-10-03T09:13:46.898Z"
      },
      {
        "duration": 152,
        "start_time": "2022-10-03T09:13:47.250Z"
      },
      {
        "duration": 0,
        "start_time": "2022-10-03T09:13:47.404Z"
      },
      {
        "duration": 0,
        "start_time": "2022-10-03T09:13:47.406Z"
      },
      {
        "duration": 0,
        "start_time": "2022-10-03T09:13:47.407Z"
      },
      {
        "duration": 0,
        "start_time": "2022-10-03T09:13:47.411Z"
      },
      {
        "duration": 0,
        "start_time": "2022-10-03T09:13:47.413Z"
      },
      {
        "duration": 0,
        "start_time": "2022-10-03T09:13:47.414Z"
      },
      {
        "duration": 0,
        "start_time": "2022-10-03T09:13:47.416Z"
      },
      {
        "duration": 0,
        "start_time": "2022-10-03T09:13:47.417Z"
      },
      {
        "duration": 0,
        "start_time": "2022-10-03T09:13:47.439Z"
      },
      {
        "duration": 0,
        "start_time": "2022-10-03T09:13:47.441Z"
      },
      {
        "duration": 28,
        "start_time": "2022-10-03T09:14:05.923Z"
      },
      {
        "duration": 3,
        "start_time": "2022-10-03T09:14:19.529Z"
      },
      {
        "duration": 12,
        "start_time": "2022-10-03T09:14:24.825Z"
      },
      {
        "duration": 11,
        "start_time": "2022-10-03T09:17:25.209Z"
      },
      {
        "duration": 89,
        "start_time": "2022-10-03T09:17:34.862Z"
      },
      {
        "duration": 20,
        "start_time": "2022-10-03T09:17:40.327Z"
      },
      {
        "duration": 41,
        "start_time": "2022-10-03T09:18:05.814Z"
      },
      {
        "duration": 115,
        "start_time": "2022-10-03T09:18:24.585Z"
      },
      {
        "duration": 22,
        "start_time": "2022-10-03T09:18:28.207Z"
      },
      {
        "duration": 367,
        "start_time": "2022-10-03T09:19:22.642Z"
      },
      {
        "duration": 23,
        "start_time": "2022-10-03T09:19:26.888Z"
      },
      {
        "duration": 68,
        "start_time": "2022-10-03T09:19:47.689Z"
      },
      {
        "duration": 55902,
        "start_time": "2022-10-03T09:19:54.204Z"
      },
      {
        "duration": 845,
        "start_time": "2022-10-03T09:21:53.636Z"
      },
      {
        "duration": 884,
        "start_time": "2022-10-03T09:22:25.124Z"
      },
      {
        "duration": 9,
        "start_time": "2022-10-03T09:22:45.620Z"
      },
      {
        "duration": 3,
        "start_time": "2022-10-03T09:22:51.859Z"
      },
      {
        "duration": 4,
        "start_time": "2022-10-03T09:22:53.027Z"
      },
      {
        "duration": 861,
        "start_time": "2022-10-03T09:22:53.787Z"
      },
      {
        "duration": 849,
        "start_time": "2022-10-03T09:22:55.697Z"
      },
      {
        "duration": 19,
        "start_time": "2022-10-03T09:22:57.730Z"
      },
      {
        "duration": 12,
        "start_time": "2022-10-03T09:37:28.173Z"
      },
      {
        "duration": 384830,
        "start_time": "2022-10-03T09:39:23.185Z"
      },
      {
        "duration": 23187,
        "start_time": "2022-10-03T09:47:43.573Z"
      },
      {
        "duration": 22830,
        "start_time": "2022-10-03T09:48:19.194Z"
      },
      {
        "duration": 366,
        "start_time": "2022-10-03T09:48:42.026Z"
      },
      {
        "duration": 4,
        "start_time": "2022-10-03T09:50:00.254Z"
      },
      {
        "duration": 261,
        "start_time": "2022-10-03T09:51:54.590Z"
      },
      {
        "duration": 24,
        "start_time": "2022-10-03T09:57:46.148Z"
      },
      {
        "duration": 1687,
        "start_time": "2022-10-03T09:59:08.493Z"
      },
      {
        "duration": 1061,
        "start_time": "2022-10-03T09:59:33.253Z"
      },
      {
        "duration": 891,
        "start_time": "2022-10-03T10:03:58.720Z"
      },
      {
        "duration": 13,
        "start_time": "2022-10-03T10:04:17.509Z"
      },
      {
        "duration": 3,
        "start_time": "2022-10-03T10:04:31.772Z"
      },
      {
        "duration": 12,
        "start_time": "2022-10-03T10:04:42.653Z"
      },
      {
        "duration": 806,
        "start_time": "2022-10-03T10:04:54.093Z"
      },
      {
        "duration": 1477,
        "start_time": "2022-10-03T10:08:08.821Z"
      },
      {
        "duration": 967,
        "start_time": "2022-10-03T10:08:10.300Z"
      },
      {
        "duration": 27,
        "start_time": "2022-10-03T10:08:11.269Z"
      },
      {
        "duration": 118,
        "start_time": "2022-10-03T10:08:11.299Z"
      },
      {
        "duration": 200,
        "start_time": "2022-10-03T10:08:11.419Z"
      },
      {
        "duration": 37,
        "start_time": "2022-10-03T10:08:11.621Z"
      },
      {
        "duration": 58,
        "start_time": "2022-10-03T10:08:11.660Z"
      },
      {
        "duration": 37,
        "start_time": "2022-10-03T10:08:11.719Z"
      },
      {
        "duration": 97,
        "start_time": "2022-10-03T10:08:11.761Z"
      },
      {
        "duration": 37,
        "start_time": "2022-10-03T10:08:11.861Z"
      },
      {
        "duration": 363,
        "start_time": "2022-10-03T10:08:11.900Z"
      },
      {
        "duration": 299,
        "start_time": "2022-10-03T10:08:12.265Z"
      },
      {
        "duration": 1364,
        "start_time": "2022-10-03T10:08:12.566Z"
      },
      {
        "duration": 32,
        "start_time": "2022-10-03T10:08:13.932Z"
      },
      {
        "duration": 47,
        "start_time": "2022-10-03T10:08:13.966Z"
      },
      {
        "duration": 315,
        "start_time": "2022-10-03T10:08:14.015Z"
      },
      {
        "duration": 31,
        "start_time": "2022-10-03T10:08:14.332Z"
      },
      {
        "duration": 29,
        "start_time": "2022-10-03T10:08:14.365Z"
      },
      {
        "duration": 96,
        "start_time": "2022-10-03T10:08:14.396Z"
      },
      {
        "duration": 297,
        "start_time": "2022-10-03T10:08:14.493Z"
      },
      {
        "duration": 335,
        "start_time": "2022-10-03T10:08:14.793Z"
      },
      {
        "duration": 328,
        "start_time": "2022-10-03T10:08:15.129Z"
      },
      {
        "duration": 520,
        "start_time": "2022-10-03T10:08:15.460Z"
      },
      {
        "duration": 22,
        "start_time": "2022-10-03T10:08:15.982Z"
      },
      {
        "duration": 96,
        "start_time": "2022-10-03T10:08:16.006Z"
      },
      {
        "duration": 57267,
        "start_time": "2022-10-03T10:08:16.103Z"
      },
      {
        "duration": 3,
        "start_time": "2022-10-03T10:09:13.372Z"
      },
      {
        "duration": 8,
        "start_time": "2022-10-03T10:09:13.378Z"
      },
      {
        "duration": 890,
        "start_time": "2022-10-03T10:09:13.388Z"
      },
      {
        "duration": 895,
        "start_time": "2022-10-03T10:09:14.280Z"
      },
      {
        "duration": 19,
        "start_time": "2022-10-03T10:09:15.177Z"
      },
      {
        "duration": 221,
        "start_time": "2022-10-03T10:09:15.198Z"
      },
      {
        "duration": 0,
        "start_time": "2022-10-03T10:09:15.422Z"
      },
      {
        "duration": 0,
        "start_time": "2022-10-03T10:09:15.423Z"
      },
      {
        "duration": 0,
        "start_time": "2022-10-03T10:09:15.425Z"
      },
      {
        "duration": 0,
        "start_time": "2022-10-03T10:09:15.426Z"
      },
      {
        "duration": 0,
        "start_time": "2022-10-03T10:09:15.427Z"
      },
      {
        "duration": 24380,
        "start_time": "2022-10-03T10:09:43.232Z"
      },
      {
        "duration": 23940,
        "start_time": "2022-10-03T10:10:07.614Z"
      },
      {
        "duration": 368,
        "start_time": "2022-10-03T10:10:31.555Z"
      },
      {
        "duration": 331,
        "start_time": "2022-10-03T10:10:31.925Z"
      },
      {
        "duration": 977,
        "start_time": "2022-10-03T10:10:32.338Z"
      },
      {
        "duration": 60,
        "start_time": "2022-10-03T10:10:51.496Z"
      },
      {
        "duration": 1494,
        "start_time": "2022-10-03T10:13:47.186Z"
      },
      {
        "duration": 1626,
        "start_time": "2022-10-03T10:14:34.322Z"
      },
      {
        "duration": 729,
        "start_time": "2022-10-03T10:15:08.572Z"
      },
      {
        "duration": 67,
        "start_time": "2022-10-03T16:00:26.091Z"
      },
      {
        "duration": 1638,
        "start_time": "2022-10-03T16:00:44.052Z"
      },
      {
        "duration": 110,
        "start_time": "2022-10-03T16:00:52.494Z"
      },
      {
        "duration": 1438,
        "start_time": "2022-10-03T16:00:58.510Z"
      },
      {
        "duration": 1146,
        "start_time": "2022-10-03T16:00:59.950Z"
      },
      {
        "duration": 25,
        "start_time": "2022-10-03T16:01:01.098Z"
      },
      {
        "duration": 90,
        "start_time": "2022-10-03T16:01:01.125Z"
      },
      {
        "duration": 163,
        "start_time": "2022-10-03T16:01:01.217Z"
      },
      {
        "duration": 30,
        "start_time": "2022-10-03T16:01:01.381Z"
      },
      {
        "duration": 44,
        "start_time": "2022-10-03T16:01:01.412Z"
      },
      {
        "duration": 22,
        "start_time": "2022-10-03T16:01:01.458Z"
      },
      {
        "duration": 102,
        "start_time": "2022-10-03T16:01:01.482Z"
      },
      {
        "duration": 34,
        "start_time": "2022-10-03T16:01:01.586Z"
      },
      {
        "duration": 297,
        "start_time": "2022-10-03T16:01:01.622Z"
      },
      {
        "duration": 251,
        "start_time": "2022-10-03T16:01:01.921Z"
      },
      {
        "duration": 1284,
        "start_time": "2022-10-03T16:01:02.174Z"
      },
      {
        "duration": 22,
        "start_time": "2022-10-03T16:01:03.460Z"
      },
      {
        "duration": 56,
        "start_time": "2022-10-03T16:01:03.484Z"
      },
      {
        "duration": 249,
        "start_time": "2022-10-03T16:01:03.541Z"
      },
      {
        "duration": 22,
        "start_time": "2022-10-03T16:01:03.792Z"
      },
      {
        "duration": 47,
        "start_time": "2022-10-03T16:01:03.816Z"
      },
      {
        "duration": 87,
        "start_time": "2022-10-03T16:01:03.865Z"
      },
      {
        "duration": 269,
        "start_time": "2022-10-03T16:01:03.954Z"
      },
      {
        "duration": 289,
        "start_time": "2022-10-03T16:01:04.225Z"
      },
      {
        "duration": 270,
        "start_time": "2022-10-03T16:01:04.515Z"
      },
      {
        "duration": 487,
        "start_time": "2022-10-03T16:01:04.786Z"
      },
      {
        "duration": 20,
        "start_time": "2022-10-03T16:01:05.275Z"
      },
      {
        "duration": 58,
        "start_time": "2022-10-03T16:01:05.297Z"
      },
      {
        "duration": 56617,
        "start_time": "2022-10-03T16:01:05.356Z"
      },
      {
        "duration": 3,
        "start_time": "2022-10-03T16:02:01.974Z"
      },
      {
        "duration": 14,
        "start_time": "2022-10-03T16:02:01.980Z"
      },
      {
        "duration": 913,
        "start_time": "2022-10-03T16:02:01.996Z"
      },
      {
        "duration": 870,
        "start_time": "2022-10-03T16:02:02.911Z"
      },
      {
        "duration": 28,
        "start_time": "2022-10-03T16:02:03.782Z"
      },
      {
        "duration": 60,
        "start_time": "2022-10-03T16:02:03.811Z"
      },
      {
        "duration": 0,
        "start_time": "2022-10-03T16:02:03.873Z"
      },
      {
        "duration": 0,
        "start_time": "2022-10-03T16:02:03.874Z"
      },
      {
        "duration": 0,
        "start_time": "2022-10-03T16:02:03.875Z"
      },
      {
        "duration": 0,
        "start_time": "2022-10-03T16:02:03.877Z"
      },
      {
        "duration": 0,
        "start_time": "2022-10-03T16:02:03.878Z"
      },
      {
        "duration": 0,
        "start_time": "2022-10-03T16:02:03.879Z"
      },
      {
        "duration": 22917,
        "start_time": "2022-10-03T16:05:03.984Z"
      },
      {
        "duration": 23137,
        "start_time": "2022-10-03T16:05:26.904Z"
      },
      {
        "duration": 374,
        "start_time": "2022-10-03T16:05:50.043Z"
      },
      {
        "duration": 207,
        "start_time": "2022-10-03T16:05:50.419Z"
      },
      {
        "duration": 209,
        "start_time": "2022-10-03T16:05:50.628Z"
      },
      {
        "duration": 2165,
        "start_time": "2022-10-03T16:06:13.091Z"
      },
      {
        "duration": 2499,
        "start_time": "2022-10-03T16:07:48.887Z"
      },
      {
        "duration": 12,
        "start_time": "2022-10-03T16:09:54.896Z"
      },
      {
        "duration": 2260,
        "start_time": "2022-10-03T16:10:05.841Z"
      },
      {
        "duration": 24,
        "start_time": "2022-10-03T16:11:40.111Z"
      },
      {
        "duration": 5,
        "start_time": "2022-10-03T16:12:42.577Z"
      },
      {
        "duration": 13,
        "start_time": "2022-10-03T16:13:46.639Z"
      },
      {
        "duration": 4,
        "start_time": "2022-10-03T16:13:52.791Z"
      },
      {
        "duration": 343226,
        "start_time": "2022-10-03T16:14:37.591Z"
      },
      {
        "duration": 703,
        "start_time": "2022-10-03T16:20:20.819Z"
      },
      {
        "duration": 300421,
        "start_time": "2022-10-03T16:22:47.490Z"
      },
      {
        "duration": 806,
        "start_time": "2022-10-03T16:27:47.913Z"
      },
      {
        "duration": 397975,
        "start_time": "2022-10-03T16:33:58.642Z"
      },
      {
        "duration": 816,
        "start_time": "2022-10-03T16:40:36.619Z"
      },
      {
        "duration": 353405,
        "start_time": "2022-10-03T16:40:37.510Z"
      },
      {
        "duration": 892,
        "start_time": "2022-10-03T16:46:30.917Z"
      },
      {
        "duration": 368900,
        "start_time": "2022-10-03T16:46:31.811Z"
      },
      {
        "duration": 356508,
        "start_time": "2022-10-03T16:52:40.713Z"
      },
      {
        "duration": 806,
        "start_time": "2022-10-03T16:58:37.310Z"
      },
      {
        "duration": 2,
        "start_time": "2022-10-03T16:58:38.118Z"
      },
      {
        "duration": 1664,
        "start_time": "2022-10-04T05:25:47.553Z"
      },
      {
        "duration": 2823,
        "start_time": "2022-10-04T05:25:49.219Z"
      },
      {
        "duration": 26,
        "start_time": "2022-10-04T05:25:52.044Z"
      },
      {
        "duration": 81,
        "start_time": "2022-10-04T05:25:52.073Z"
      },
      {
        "duration": 162,
        "start_time": "2022-10-04T05:25:52.156Z"
      },
      {
        "duration": 19,
        "start_time": "2022-10-04T05:25:52.319Z"
      },
      {
        "duration": 59,
        "start_time": "2022-10-04T05:25:52.339Z"
      },
      {
        "duration": 16,
        "start_time": "2022-10-04T05:25:52.400Z"
      },
      {
        "duration": 82,
        "start_time": "2022-10-04T05:25:52.417Z"
      },
      {
        "duration": 30,
        "start_time": "2022-10-04T05:25:52.501Z"
      },
      {
        "duration": 285,
        "start_time": "2022-10-04T05:25:52.532Z"
      },
      {
        "duration": 313,
        "start_time": "2022-10-04T05:25:52.819Z"
      },
      {
        "duration": 1220,
        "start_time": "2022-10-04T05:25:53.133Z"
      },
      {
        "duration": 20,
        "start_time": "2022-10-04T05:25:54.355Z"
      },
      {
        "duration": 54,
        "start_time": "2022-10-04T05:25:54.377Z"
      },
      {
        "duration": 146,
        "start_time": "2022-10-04T05:25:54.433Z"
      },
      {
        "duration": 21,
        "start_time": "2022-10-04T05:25:54.581Z"
      },
      {
        "duration": 14,
        "start_time": "2022-10-04T05:25:54.603Z"
      },
      {
        "duration": 64,
        "start_time": "2022-10-04T05:25:54.619Z"
      },
      {
        "duration": 243,
        "start_time": "2022-10-04T05:25:54.684Z"
      },
      {
        "duration": 243,
        "start_time": "2022-10-04T05:25:54.928Z"
      },
      {
        "duration": 253,
        "start_time": "2022-10-04T05:25:55.173Z"
      },
      {
        "duration": 454,
        "start_time": "2022-10-04T05:25:55.428Z"
      },
      {
        "duration": 28,
        "start_time": "2022-10-04T05:25:55.883Z"
      },
      {
        "duration": 65,
        "start_time": "2022-10-04T05:25:55.913Z"
      },
      {
        "duration": 47985,
        "start_time": "2022-10-04T05:25:55.980Z"
      },
      {
        "duration": 3,
        "start_time": "2022-10-04T05:26:43.966Z"
      },
      {
        "duration": 4,
        "start_time": "2022-10-04T05:26:43.972Z"
      },
      {
        "duration": 717,
        "start_time": "2022-10-04T05:26:43.977Z"
      },
      {
        "duration": 741,
        "start_time": "2022-10-04T05:26:44.696Z"
      },
      {
        "duration": 17,
        "start_time": "2022-10-04T05:26:45.439Z"
      },
      {
        "duration": 78,
        "start_time": "2022-10-04T05:26:45.458Z"
      },
      {
        "duration": 0,
        "start_time": "2022-10-04T05:26:45.538Z"
      },
      {
        "duration": 0,
        "start_time": "2022-10-04T05:26:45.540Z"
      },
      {
        "duration": 0,
        "start_time": "2022-10-04T05:26:45.542Z"
      },
      {
        "duration": 0,
        "start_time": "2022-10-04T05:26:45.543Z"
      },
      {
        "duration": 0,
        "start_time": "2022-10-04T05:26:45.545Z"
      },
      {
        "duration": 0,
        "start_time": "2022-10-04T05:26:45.545Z"
      },
      {
        "duration": 0,
        "start_time": "2022-10-04T05:26:45.547Z"
      },
      {
        "duration": 0,
        "start_time": "2022-10-04T05:26:45.547Z"
      },
      {
        "duration": 0,
        "start_time": "2022-10-04T05:26:45.549Z"
      },
      {
        "duration": 0,
        "start_time": "2022-10-04T05:26:45.549Z"
      },
      {
        "duration": 0,
        "start_time": "2022-10-04T05:26:45.550Z"
      },
      {
        "duration": 0,
        "start_time": "2022-10-04T05:26:45.551Z"
      },
      {
        "duration": 0,
        "start_time": "2022-10-04T05:26:45.552Z"
      },
      {
        "duration": 19546,
        "start_time": "2022-10-04T05:26:55.366Z"
      },
      {
        "duration": 19681,
        "start_time": "2022-10-04T05:27:14.914Z"
      },
      {
        "duration": 330,
        "start_time": "2022-10-04T05:27:34.597Z"
      },
      {
        "duration": 366,
        "start_time": "2022-10-04T05:27:34.929Z"
      },
      {
        "duration": 125,
        "start_time": "2022-10-04T05:27:35.297Z"
      },
      {
        "duration": 2147,
        "start_time": "2022-10-04T05:27:35.424Z"
      },
      {
        "duration": 0,
        "start_time": "2022-10-04T05:27:37.573Z"
      },
      {
        "duration": 0,
        "start_time": "2022-10-04T05:27:37.574Z"
      },
      {
        "duration": 0,
        "start_time": "2022-10-04T05:27:37.575Z"
      },
      {
        "duration": 0,
        "start_time": "2022-10-04T05:27:37.576Z"
      },
      {
        "duration": 4749,
        "start_time": "2022-10-04T05:28:01.049Z"
      },
      {
        "duration": 517,
        "start_time": "2022-10-04T05:28:05.799Z"
      },
      {
        "duration": 5188,
        "start_time": "2022-10-04T05:28:06.317Z"
      },
      {
        "duration": 597,
        "start_time": "2022-10-04T05:28:11.507Z"
      },
      {
        "duration": 5732,
        "start_time": "2022-10-04T05:28:31.674Z"
      },
      {
        "duration": 597,
        "start_time": "2022-10-04T05:28:37.408Z"
      },
      {
        "duration": 5755,
        "start_time": "2022-10-04T05:28:54.540Z"
      },
      {
        "duration": 5022,
        "start_time": "2022-10-04T05:29:14.586Z"
      },
      {
        "duration": 507,
        "start_time": "2022-10-04T05:29:26.001Z"
      },
      {
        "duration": 487,
        "start_time": "2022-10-04T05:29:36.424Z"
      },
      {
        "duration": 5138,
        "start_time": "2022-10-04T05:29:38.065Z"
      },
      {
        "duration": 497,
        "start_time": "2022-10-04T05:29:43.410Z"
      },
      {
        "duration": 2197,
        "start_time": "2022-10-04T05:32:09.105Z"
      },
      {
        "duration": 1013,
        "start_time": "2022-10-04T05:32:26.205Z"
      },
      {
        "duration": 66,
        "start_time": "2022-10-04T05:36:02.856Z"
      },
      {
        "duration": 1223,
        "start_time": "2022-10-04T05:36:41.276Z"
      },
      {
        "duration": 3,
        "start_time": "2022-10-04T05:37:54.594Z"
      },
      {
        "duration": 1231,
        "start_time": "2022-10-04T05:38:10.151Z"
      },
      {
        "duration": 59,
        "start_time": "2022-10-04T05:38:43.779Z"
      },
      {
        "duration": 2326,
        "start_time": "2022-10-04T05:38:46.307Z"
      },
      {
        "duration": 2146,
        "start_time": "2022-10-04T05:39:25.302Z"
      },
      {
        "duration": 14233,
        "start_time": "2022-10-04T05:40:15.777Z"
      },
      {
        "duration": 2396,
        "start_time": "2022-10-04T05:40:51.537Z"
      },
      {
        "duration": 3,
        "start_time": "2022-10-04T06:15:09.566Z"
      },
      {
        "duration": 3,
        "start_time": "2022-10-04T06:15:12.288Z"
      },
      {
        "duration": 4,
        "start_time": "2022-10-04T06:17:17.264Z"
      },
      {
        "duration": 10,
        "start_time": "2022-10-04T06:17:24.281Z"
      },
      {
        "duration": 947,
        "start_time": "2022-10-04T06:17:51.120Z"
      },
      {
        "duration": 1416,
        "start_time": "2022-10-04T06:18:43.057Z"
      },
      {
        "duration": 841,
        "start_time": "2022-10-04T06:18:44.475Z"
      },
      {
        "duration": 29,
        "start_time": "2022-10-04T06:18:45.317Z"
      },
      {
        "duration": 87,
        "start_time": "2022-10-04T06:18:45.348Z"
      },
      {
        "duration": 173,
        "start_time": "2022-10-04T06:18:45.438Z"
      },
      {
        "duration": 22,
        "start_time": "2022-10-04T06:18:45.612Z"
      },
      {
        "duration": 65,
        "start_time": "2022-10-04T06:18:45.635Z"
      },
      {
        "duration": 17,
        "start_time": "2022-10-04T06:18:45.702Z"
      },
      {
        "duration": 84,
        "start_time": "2022-10-04T06:18:45.721Z"
      },
      {
        "duration": 31,
        "start_time": "2022-10-04T06:18:45.807Z"
      },
      {
        "duration": 286,
        "start_time": "2022-10-04T06:18:45.840Z"
      },
      {
        "duration": 311,
        "start_time": "2022-10-04T06:18:46.128Z"
      },
      {
        "duration": 1360,
        "start_time": "2022-10-04T06:18:46.440Z"
      },
      {
        "duration": 23,
        "start_time": "2022-10-04T06:18:47.803Z"
      },
      {
        "duration": 47,
        "start_time": "2022-10-04T06:18:47.827Z"
      },
      {
        "duration": 174,
        "start_time": "2022-10-04T06:18:47.876Z"
      },
      {
        "duration": 18,
        "start_time": "2022-10-04T06:18:48.052Z"
      },
      {
        "duration": 32,
        "start_time": "2022-10-04T06:18:48.072Z"
      },
      {
        "duration": 61,
        "start_time": "2022-10-04T06:18:48.106Z"
      },
      {
        "duration": 241,
        "start_time": "2022-10-04T06:18:48.168Z"
      },
      {
        "duration": 255,
        "start_time": "2022-10-04T06:18:48.410Z"
      },
      {
        "duration": 268,
        "start_time": "2022-10-04T06:18:48.666Z"
      },
      {
        "duration": 437,
        "start_time": "2022-10-04T06:18:48.936Z"
      },
      {
        "duration": 35,
        "start_time": "2022-10-04T06:18:49.375Z"
      },
      {
        "duration": 67,
        "start_time": "2022-10-04T06:18:49.411Z"
      },
      {
        "duration": 49090,
        "start_time": "2022-10-04T06:18:49.495Z"
      },
      {
        "duration": 8,
        "start_time": "2022-10-04T06:19:38.587Z"
      },
      {
        "duration": 8,
        "start_time": "2022-10-04T06:19:38.597Z"
      },
      {
        "duration": 736,
        "start_time": "2022-10-04T06:19:38.606Z"
      },
      {
        "duration": 738,
        "start_time": "2022-10-04T06:19:39.343Z"
      },
      {
        "duration": 25,
        "start_time": "2022-10-04T06:19:40.082Z"
      },
      {
        "duration": 347787,
        "start_time": "2022-10-04T06:19:40.108Z"
      },
      {
        "duration": 19871,
        "start_time": "2022-10-04T06:25:27.897Z"
      },
      {
        "duration": 19900,
        "start_time": "2022-10-04T06:25:47.770Z"
      },
      {
        "duration": 344,
        "start_time": "2022-10-04T06:26:07.671Z"
      },
      {
        "duration": 277,
        "start_time": "2022-10-04T06:26:08.017Z"
      },
      {
        "duration": 148,
        "start_time": "2022-10-04T06:26:08.297Z"
      },
      {
        "duration": 1478,
        "start_time": "2022-10-04T06:26:08.449Z"
      },
      {
        "duration": 0,
        "start_time": "2022-10-04T06:26:09.929Z"
      },
      {
        "duration": 0,
        "start_time": "2022-10-04T06:26:09.930Z"
      },
      {
        "duration": 0,
        "start_time": "2022-10-04T06:26:09.931Z"
      },
      {
        "duration": 0,
        "start_time": "2022-10-04T06:26:09.932Z"
      },
      {
        "duration": 0,
        "start_time": "2022-10-04T06:26:09.933Z"
      },
      {
        "duration": 0,
        "start_time": "2022-10-04T06:26:09.934Z"
      },
      {
        "duration": 0,
        "start_time": "2022-10-04T06:26:09.935Z"
      },
      {
        "duration": 0,
        "start_time": "2022-10-04T06:26:09.936Z"
      },
      {
        "duration": 3,
        "start_time": "2022-10-04T06:27:07.988Z"
      },
      {
        "duration": 4998,
        "start_time": "2022-10-04T06:27:11.306Z"
      },
      {
        "duration": 9,
        "start_time": "2022-10-04T06:27:16.306Z"
      },
      {
        "duration": 0,
        "start_time": "2022-10-04T06:27:16.317Z"
      },
      {
        "duration": 0,
        "start_time": "2022-10-04T06:27:16.317Z"
      },
      {
        "duration": 57,
        "start_time": "2022-10-04T06:27:50.154Z"
      },
      {
        "duration": 3,
        "start_time": "2022-10-04T06:27:50.961Z"
      },
      {
        "duration": 5119,
        "start_time": "2022-10-04T06:27:54.376Z"
      },
      {
        "duration": 599,
        "start_time": "2022-10-04T06:27:59.497Z"
      },
      {
        "duration": 5401,
        "start_time": "2022-10-04T06:28:00.098Z"
      },
      {
        "duration": 595,
        "start_time": "2022-10-04T06:28:05.501Z"
      },
      {
        "duration": 10,
        "start_time": "2022-10-04T06:28:06.098Z"
      },
      {
        "duration": 39,
        "start_time": "2022-10-04T06:37:09.937Z"
      },
      {
        "duration": 44,
        "start_time": "2022-10-04T06:39:19.392Z"
      },
      {
        "duration": 37479,
        "start_time": "2022-10-04T06:39:23.785Z"
      },
      {
        "duration": 41,
        "start_time": "2022-10-04T06:40:42.164Z"
      },
      {
        "duration": 41,
        "start_time": "2022-10-04T06:40:44.120Z"
      },
      {
        "duration": 37447,
        "start_time": "2022-10-04T06:41:12.394Z"
      },
      {
        "duration": 3,
        "start_time": "2022-10-04T06:41:49.998Z"
      },
      {
        "duration": 3,
        "start_time": "2022-10-04T06:41:52.187Z"
      },
      {
        "duration": 564,
        "start_time": "2022-10-04T06:42:03.482Z"
      },
      {
        "duration": 556,
        "start_time": "2022-10-04T06:42:05.321Z"
      },
      {
        "duration": 15,
        "start_time": "2022-10-04T06:42:06.688Z"
      },
      {
        "duration": 286,
        "start_time": "2022-10-04T06:43:22.316Z"
      },
      {
        "duration": 932,
        "start_time": "2022-10-04T06:45:26.338Z"
      },
      {
        "duration": 1606,
        "start_time": "2022-10-04T06:48:22.730Z"
      },
      {
        "duration": 824,
        "start_time": "2022-10-04T06:48:24.338Z"
      },
      {
        "duration": 34,
        "start_time": "2022-10-04T06:48:25.164Z"
      },
      {
        "duration": 76,
        "start_time": "2022-10-04T06:48:25.200Z"
      },
      {
        "duration": 183,
        "start_time": "2022-10-04T06:48:25.278Z"
      },
      {
        "duration": 19,
        "start_time": "2022-10-04T06:48:25.463Z"
      },
      {
        "duration": 60,
        "start_time": "2022-10-04T06:48:25.484Z"
      },
      {
        "duration": 18,
        "start_time": "2022-10-04T06:48:25.546Z"
      },
      {
        "duration": 89,
        "start_time": "2022-10-04T06:48:25.566Z"
      },
      {
        "duration": 47,
        "start_time": "2022-10-04T06:48:25.658Z"
      },
      {
        "duration": 316,
        "start_time": "2022-10-04T06:48:25.707Z"
      },
      {
        "duration": 302,
        "start_time": "2022-10-04T06:48:26.024Z"
      },
      {
        "duration": 1804,
        "start_time": "2022-10-04T06:48:26.328Z"
      },
      {
        "duration": 74,
        "start_time": "2022-10-04T06:48:28.133Z"
      },
      {
        "duration": 99,
        "start_time": "2022-10-04T06:48:28.209Z"
      },
      {
        "duration": 307,
        "start_time": "2022-10-04T06:48:28.310Z"
      },
      {
        "duration": 14,
        "start_time": "2022-10-04T06:48:28.619Z"
      },
      {
        "duration": 66,
        "start_time": "2022-10-04T06:48:28.636Z"
      },
      {
        "duration": 116,
        "start_time": "2022-10-04T06:48:28.704Z"
      },
      {
        "duration": 354,
        "start_time": "2022-10-04T06:48:28.822Z"
      },
      {
        "duration": 260,
        "start_time": "2022-10-04T06:48:29.177Z"
      },
      {
        "duration": 266,
        "start_time": "2022-10-04T06:48:29.440Z"
      },
      {
        "duration": 430,
        "start_time": "2022-10-04T06:48:29.708Z"
      },
      {
        "duration": 25,
        "start_time": "2022-10-04T06:48:30.140Z"
      },
      {
        "duration": 66,
        "start_time": "2022-10-04T06:48:30.167Z"
      },
      {
        "duration": 64,
        "start_time": "2022-10-04T06:48:30.235Z"
      },
      {
        "duration": 38772,
        "start_time": "2022-10-04T06:48:30.301Z"
      },
      {
        "duration": 4,
        "start_time": "2022-10-04T06:49:09.076Z"
      },
      {
        "duration": 14,
        "start_time": "2022-10-04T06:49:09.081Z"
      },
      {
        "duration": 564,
        "start_time": "2022-10-04T06:49:09.096Z"
      },
      {
        "duration": 558,
        "start_time": "2022-10-04T06:49:09.662Z"
      },
      {
        "duration": 16,
        "start_time": "2022-10-04T06:49:10.222Z"
      },
      {
        "duration": 278416,
        "start_time": "2022-10-04T06:49:10.240Z"
      },
      {
        "duration": 15888,
        "start_time": "2022-10-04T06:53:48.659Z"
      },
      {
        "duration": 15752,
        "start_time": "2022-10-04T06:54:04.549Z"
      },
      {
        "duration": 277,
        "start_time": "2022-10-04T06:54:20.303Z"
      },
      {
        "duration": 489,
        "start_time": "2022-10-04T06:54:20.581Z"
      },
      {
        "duration": 0,
        "start_time": "2022-10-04T06:54:21.072Z"
      },
      {
        "duration": 0,
        "start_time": "2022-10-04T06:54:21.074Z"
      },
      {
        "duration": 0,
        "start_time": "2022-10-04T06:54:21.075Z"
      },
      {
        "duration": 0,
        "start_time": "2022-10-04T06:54:21.076Z"
      },
      {
        "duration": 0,
        "start_time": "2022-10-04T06:54:21.078Z"
      },
      {
        "duration": 0,
        "start_time": "2022-10-04T06:54:21.095Z"
      },
      {
        "duration": 0,
        "start_time": "2022-10-04T06:54:21.097Z"
      },
      {
        "duration": 155,
        "start_time": "2022-10-04T06:54:56.753Z"
      },
      {
        "duration": 1108,
        "start_time": "2022-10-04T06:55:12.642Z"
      },
      {
        "duration": 370400,
        "start_time": "2022-10-04T06:55:24.003Z"
      },
      {
        "duration": 519,
        "start_time": "2022-10-04T07:01:34.405Z"
      },
      {
        "duration": 94982,
        "start_time": "2022-10-04T07:01:34.926Z"
      },
      {
        "duration": 508,
        "start_time": "2022-10-04T07:03:09.910Z"
      },
      {
        "duration": 7,
        "start_time": "2022-10-04T07:03:10.499Z"
      },
      {
        "duration": 1482,
        "start_time": "2022-10-04T07:04:02.354Z"
      },
      {
        "duration": 1297,
        "start_time": "2022-10-04T07:04:29.089Z"
      },
      {
        "duration": 120828,
        "start_time": "2022-10-04T07:07:49.468Z"
      },
      {
        "duration": 1353,
        "start_time": "2022-10-04T07:09:50.298Z"
      },
      {
        "duration": 3,
        "start_time": "2022-10-04T07:10:49.987Z"
      },
      {
        "duration": 1352,
        "start_time": "2022-10-04T07:10:54.847Z"
      },
      {
        "duration": 879,
        "start_time": "2022-10-04T07:10:56.201Z"
      },
      {
        "duration": 35,
        "start_time": "2022-10-04T07:10:57.081Z"
      },
      {
        "duration": 87,
        "start_time": "2022-10-04T07:10:57.118Z"
      },
      {
        "duration": 174,
        "start_time": "2022-10-04T07:10:57.206Z"
      },
      {
        "duration": 25,
        "start_time": "2022-10-04T07:10:57.381Z"
      },
      {
        "duration": 53,
        "start_time": "2022-10-04T07:10:57.407Z"
      },
      {
        "duration": 34,
        "start_time": "2022-10-04T07:10:57.462Z"
      },
      {
        "duration": 74,
        "start_time": "2022-10-04T07:10:57.497Z"
      },
      {
        "duration": 37,
        "start_time": "2022-10-04T07:10:57.573Z"
      },
      {
        "duration": 285,
        "start_time": "2022-10-04T07:10:57.612Z"
      },
      {
        "duration": 316,
        "start_time": "2022-10-04T07:10:57.899Z"
      },
      {
        "duration": 1326,
        "start_time": "2022-10-04T07:10:58.216Z"
      },
      {
        "duration": 24,
        "start_time": "2022-10-04T07:10:59.544Z"
      },
      {
        "duration": 63,
        "start_time": "2022-10-04T07:10:59.569Z"
      },
      {
        "duration": 156,
        "start_time": "2022-10-04T07:10:59.634Z"
      },
      {
        "duration": 14,
        "start_time": "2022-10-04T07:10:59.794Z"
      },
      {
        "duration": 29,
        "start_time": "2022-10-04T07:10:59.810Z"
      },
      {
        "duration": 67,
        "start_time": "2022-10-04T07:10:59.840Z"
      },
      {
        "duration": 249,
        "start_time": "2022-10-04T07:10:59.908Z"
      },
      {
        "duration": 253,
        "start_time": "2022-10-04T07:11:00.159Z"
      },
      {
        "duration": 266,
        "start_time": "2022-10-04T07:11:00.414Z"
      },
      {
        "duration": 449,
        "start_time": "2022-10-04T07:11:00.681Z"
      },
      {
        "duration": 23,
        "start_time": "2022-10-04T07:11:01.132Z"
      },
      {
        "duration": 80,
        "start_time": "2022-10-04T07:11:01.156Z"
      },
      {
        "duration": 64,
        "start_time": "2022-10-04T07:11:01.238Z"
      },
      {
        "duration": 38834,
        "start_time": "2022-10-04T07:11:01.304Z"
      },
      {
        "duration": 3,
        "start_time": "2022-10-04T07:11:40.141Z"
      },
      {
        "duration": 5,
        "start_time": "2022-10-04T07:11:40.146Z"
      },
      {
        "duration": 576,
        "start_time": "2022-10-04T07:11:40.152Z"
      },
      {
        "duration": 586,
        "start_time": "2022-10-04T07:11:40.730Z"
      },
      {
        "duration": 16,
        "start_time": "2022-10-04T07:11:41.318Z"
      },
      {
        "duration": 273039,
        "start_time": "2022-10-04T07:11:41.336Z"
      },
      {
        "duration": 15816,
        "start_time": "2022-10-04T07:16:14.377Z"
      },
      {
        "duration": 15703,
        "start_time": "2022-10-04T07:16:30.195Z"
      },
      {
        "duration": 288,
        "start_time": "2022-10-04T07:16:45.899Z"
      },
      {
        "duration": 218,
        "start_time": "2022-10-04T07:16:46.189Z"
      },
      {
        "duration": 88,
        "start_time": "2022-10-04T07:16:46.408Z"
      },
      {
        "duration": 103,
        "start_time": "2022-10-04T07:16:46.503Z"
      },
      {
        "duration": 6302,
        "start_time": "2022-10-04T07:16:46.609Z"
      },
      {
        "duration": 583,
        "start_time": "2022-10-04T07:16:52.913Z"
      },
      {
        "duration": 4207,
        "start_time": "2022-10-04T07:16:53.497Z"
      },
      {
        "duration": 512,
        "start_time": "2022-10-04T07:16:57.706Z"
      },
      {
        "duration": 78,
        "start_time": "2022-10-04T07:16:58.220Z"
      },
      {
        "duration": 14,
        "start_time": "2022-10-04T07:16:58.300Z"
      },
      {
        "duration": 1327,
        "start_time": "2022-10-04T07:16:58.316Z"
      },
      {
        "duration": 11262,
        "start_time": "2022-10-04T07:16:59.644Z"
      },
      {
        "duration": 10,
        "start_time": "2022-10-04T07:18:19.394Z"
      },
      {
        "duration": 54,
        "start_time": "2022-10-04T07:22:39.502Z"
      },
      {
        "duration": 3,
        "start_time": "2022-10-04T07:22:47.509Z"
      },
      {
        "duration": 1004,
        "start_time": "2022-10-04T07:23:05.983Z"
      },
      {
        "duration": 40,
        "start_time": "2022-10-04T07:23:37.629Z"
      },
      {
        "duration": 1154,
        "start_time": "2022-10-04T07:23:53.887Z"
      },
      {
        "duration": 1166,
        "start_time": "2022-10-04T07:26:20.498Z"
      },
      {
        "duration": 899,
        "start_time": "2022-10-04T07:28:09.118Z"
      },
      {
        "duration": 49,
        "start_time": "2022-10-04T07:28:43.919Z"
      },
      {
        "duration": 1449,
        "start_time": "2022-10-04T07:28:53.194Z"
      },
      {
        "duration": 2885,
        "start_time": "2022-10-04T07:28:56.281Z"
      },
      {
        "duration": 22,
        "start_time": "2022-10-04T07:29:01.960Z"
      },
      {
        "duration": 74,
        "start_time": "2022-10-04T07:29:03.527Z"
      },
      {
        "duration": 169,
        "start_time": "2022-10-04T07:29:05.455Z"
      },
      {
        "duration": 22,
        "start_time": "2022-10-04T07:29:07.213Z"
      },
      {
        "duration": 51,
        "start_time": "2022-10-04T07:29:08.495Z"
      },
      {
        "duration": 18,
        "start_time": "2022-10-04T07:29:09.278Z"
      },
      {
        "duration": 71,
        "start_time": "2022-10-04T07:29:10.157Z"
      },
      {
        "duration": 28,
        "start_time": "2022-10-04T07:29:11.813Z"
      },
      {
        "duration": 274,
        "start_time": "2022-10-04T07:29:13.308Z"
      },
      {
        "duration": 290,
        "start_time": "2022-10-04T07:29:14.265Z"
      },
      {
        "duration": 1319,
        "start_time": "2022-10-04T07:29:18.637Z"
      },
      {
        "duration": 22,
        "start_time": "2022-10-04T07:29:21.453Z"
      },
      {
        "duration": 48,
        "start_time": "2022-10-04T07:29:24.399Z"
      },
      {
        "duration": 147,
        "start_time": "2022-10-04T07:29:25.552Z"
      },
      {
        "duration": 15,
        "start_time": "2022-10-04T07:29:27.748Z"
      },
      {
        "duration": 15,
        "start_time": "2022-10-04T07:29:28.693Z"
      },
      {
        "duration": 62,
        "start_time": "2022-10-04T07:29:30.006Z"
      },
      {
        "duration": 224,
        "start_time": "2022-10-04T07:29:32.023Z"
      },
      {
        "duration": 248,
        "start_time": "2022-10-04T07:29:33.773Z"
      },
      {
        "duration": 258,
        "start_time": "2022-10-04T07:29:35.838Z"
      },
      {
        "duration": 429,
        "start_time": "2022-10-04T07:29:37.953Z"
      },
      {
        "duration": 23,
        "start_time": "2022-10-04T07:29:39.446Z"
      },
      {
        "duration": 48,
        "start_time": "2022-10-04T07:29:43.559Z"
      },
      {
        "duration": 54,
        "start_time": "2022-10-04T07:29:44.566Z"
      },
      {
        "duration": 47,
        "start_time": "2022-10-04T07:30:05.983Z"
      },
      {
        "duration": 1578,
        "start_time": "2022-10-04T07:30:26.564Z"
      },
      {
        "duration": 3283,
        "start_time": "2022-10-04T07:30:29.885Z"
      },
      {
        "duration": 22,
        "start_time": "2022-10-04T07:30:36.071Z"
      },
      {
        "duration": 56,
        "start_time": "2022-10-04T07:30:42.221Z"
      },
      {
        "duration": 20,
        "start_time": "2022-10-04T07:30:44.348Z"
      },
      {
        "duration": 31,
        "start_time": "2022-10-04T07:30:46.918Z"
      },
      {
        "duration": 301,
        "start_time": "2022-10-04T07:30:48.120Z"
      },
      {
        "duration": 49,
        "start_time": "2022-10-04T07:30:57.325Z"
      },
      {
        "duration": 16,
        "start_time": "2022-10-04T07:31:00.374Z"
      },
      {
        "duration": 15,
        "start_time": "2022-10-04T07:31:01.086Z"
      },
      {
        "duration": 228,
        "start_time": "2022-10-04T07:31:03.048Z"
      },
      {
        "duration": 253,
        "start_time": "2022-10-04T07:31:05.414Z"
      },
      {
        "duration": 329,
        "start_time": "2022-10-04T07:31:07.021Z"
      },
      {
        "duration": 418,
        "start_time": "2022-10-04T07:31:09.112Z"
      },
      {
        "duration": 22,
        "start_time": "2022-10-04T07:31:10.184Z"
      },
      {
        "duration": 49,
        "start_time": "2022-10-04T07:31:12.853Z"
      },
      {
        "duration": 53,
        "start_time": "2022-10-04T07:31:13.605Z"
      },
      {
        "duration": 42,
        "start_time": "2022-10-04T07:31:52.446Z"
      },
      {
        "duration": 1454,
        "start_time": "2022-10-04T07:31:57.744Z"
      },
      {
        "duration": 3156,
        "start_time": "2022-10-04T07:32:00.118Z"
      },
      {
        "duration": 26,
        "start_time": "2022-10-04T07:32:06.635Z"
      },
      {
        "duration": 75,
        "start_time": "2022-10-04T07:32:07.813Z"
      },
      {
        "duration": 176,
        "start_time": "2022-10-04T07:32:09.608Z"
      },
      {
        "duration": 22,
        "start_time": "2022-10-04T07:32:11.355Z"
      },
      {
        "duration": 52,
        "start_time": "2022-10-04T07:32:12.634Z"
      },
      {
        "duration": 18,
        "start_time": "2022-10-04T07:32:13.358Z"
      },
      {
        "duration": 68,
        "start_time": "2022-10-04T07:32:15.050Z"
      },
      {
        "duration": 30,
        "start_time": "2022-10-04T07:32:16.155Z"
      },
      {
        "duration": 278,
        "start_time": "2022-10-04T07:32:17.076Z"
      },
      {
        "duration": 288,
        "start_time": "2022-10-04T07:32:17.543Z"
      },
      {
        "duration": 1270,
        "start_time": "2022-10-04T07:32:18.548Z"
      },
      {
        "duration": 24,
        "start_time": "2022-10-04T07:32:19.820Z"
      },
      {
        "duration": 52,
        "start_time": "2022-10-04T07:32:20.973Z"
      },
      {
        "duration": 176,
        "start_time": "2022-10-04T07:32:22.580Z"
      },
      {
        "duration": 15,
        "start_time": "2022-10-04T07:32:24.674Z"
      },
      {
        "duration": 15,
        "start_time": "2022-10-04T07:32:25.280Z"
      },
      {
        "duration": 61,
        "start_time": "2022-10-04T07:32:26.281Z"
      },
      {
        "duration": 234,
        "start_time": "2022-10-04T07:32:27.378Z"
      },
      {
        "duration": 250,
        "start_time": "2022-10-04T07:32:28.397Z"
      },
      {
        "duration": 243,
        "start_time": "2022-10-04T07:32:29.466Z"
      },
      {
        "duration": 418,
        "start_time": "2022-10-04T07:32:30.931Z"
      },
      {
        "duration": 21,
        "start_time": "2022-10-04T07:32:31.941Z"
      },
      {
        "duration": 53,
        "start_time": "2022-10-04T07:32:36.524Z"
      },
      {
        "duration": 59,
        "start_time": "2022-10-04T07:32:37.294Z"
      },
      {
        "duration": 1429,
        "start_time": "2022-10-04T07:33:32.973Z"
      },
      {
        "duration": 2938,
        "start_time": "2022-10-04T07:33:34.403Z"
      },
      {
        "duration": 23,
        "start_time": "2022-10-04T07:33:37.343Z"
      },
      {
        "duration": 74,
        "start_time": "2022-10-04T07:33:37.368Z"
      },
      {
        "duration": 165,
        "start_time": "2022-10-04T07:33:37.444Z"
      },
      {
        "duration": 19,
        "start_time": "2022-10-04T07:33:37.610Z"
      },
      {
        "duration": 65,
        "start_time": "2022-10-04T07:33:37.630Z"
      },
      {
        "duration": 16,
        "start_time": "2022-10-04T07:33:37.697Z"
      },
      {
        "duration": 67,
        "start_time": "2022-10-04T07:33:37.714Z"
      },
      {
        "duration": 30,
        "start_time": "2022-10-04T07:33:37.795Z"
      },
      {
        "duration": 283,
        "start_time": "2022-10-04T07:33:37.827Z"
      },
      {
        "duration": 290,
        "start_time": "2022-10-04T07:33:38.112Z"
      },
      {
        "duration": 1271,
        "start_time": "2022-10-04T07:33:38.404Z"
      },
      {
        "duration": 29,
        "start_time": "2022-10-04T07:33:39.677Z"
      },
      {
        "duration": 48,
        "start_time": "2022-10-04T07:33:39.707Z"
      },
      {
        "duration": 162,
        "start_time": "2022-10-04T07:33:39.757Z"
      },
      {
        "duration": 14,
        "start_time": "2022-10-04T07:33:39.920Z"
      },
      {
        "duration": 14,
        "start_time": "2022-10-04T07:33:39.935Z"
      },
      {
        "duration": 75,
        "start_time": "2022-10-04T07:33:39.951Z"
      },
      {
        "duration": 242,
        "start_time": "2022-10-04T07:33:40.028Z"
      },
      {
        "duration": 254,
        "start_time": "2022-10-04T07:33:40.271Z"
      },
      {
        "duration": 254,
        "start_time": "2022-10-04T07:33:40.526Z"
      },
      {
        "duration": 447,
        "start_time": "2022-10-04T07:33:40.782Z"
      },
      {
        "duration": 22,
        "start_time": "2022-10-04T07:33:41.231Z"
      },
      {
        "duration": 66,
        "start_time": "2022-10-04T07:33:41.255Z"
      },
      {
        "duration": 59,
        "start_time": "2022-10-04T07:33:41.322Z"
      },
      {
        "duration": 12,
        "start_time": "2022-10-04T07:33:41.383Z"
      },
      {
        "duration": 3,
        "start_time": "2022-10-04T07:33:41.399Z"
      },
      {
        "duration": 634,
        "start_time": "2022-10-04T07:33:41.403Z"
      },
      {
        "duration": 569,
        "start_time": "2022-10-04T07:33:42.039Z"
      },
      {
        "duration": 16,
        "start_time": "2022-10-04T07:33:42.609Z"
      },
      {
        "duration": 15491,
        "start_time": "2022-10-04T07:33:42.627Z"
      },
      {
        "duration": 15672,
        "start_time": "2022-10-04T07:33:58.119Z"
      },
      {
        "duration": 279,
        "start_time": "2022-10-04T07:34:13.792Z"
      },
      {
        "duration": 322,
        "start_time": "2022-10-04T07:34:14.073Z"
      },
      {
        "duration": 3,
        "start_time": "2022-10-04T07:34:14.397Z"
      },
      {
        "duration": 1589,
        "start_time": "2022-10-04T07:34:51.284Z"
      },
      {
        "duration": 2996,
        "start_time": "2022-10-04T07:34:52.875Z"
      },
      {
        "duration": 28,
        "start_time": "2022-10-04T07:34:55.873Z"
      },
      {
        "duration": 93,
        "start_time": "2022-10-04T07:34:55.904Z"
      },
      {
        "duration": 196,
        "start_time": "2022-10-04T07:34:56.000Z"
      },
      {
        "duration": 21,
        "start_time": "2022-10-04T07:34:56.197Z"
      },
      {
        "duration": 52,
        "start_time": "2022-10-04T07:34:56.219Z"
      },
      {
        "duration": 34,
        "start_time": "2022-10-04T07:34:56.272Z"
      },
      {
        "duration": 84,
        "start_time": "2022-10-04T07:34:56.307Z"
      },
      {
        "duration": 30,
        "start_time": "2022-10-04T07:34:56.395Z"
      },
      {
        "duration": 379,
        "start_time": "2022-10-04T07:34:56.427Z"
      },
      {
        "duration": 309,
        "start_time": "2022-10-04T07:34:56.808Z"
      },
      {
        "duration": 1340,
        "start_time": "2022-10-04T07:34:57.118Z"
      },
      {
        "duration": 23,
        "start_time": "2022-10-04T07:34:58.459Z"
      },
      {
        "duration": 49,
        "start_time": "2022-10-04T07:34:58.495Z"
      },
      {
        "duration": 159,
        "start_time": "2022-10-04T07:34:58.545Z"
      },
      {
        "duration": 15,
        "start_time": "2022-10-04T07:34:58.705Z"
      },
      {
        "duration": 19,
        "start_time": "2022-10-04T07:34:58.722Z"
      },
      {
        "duration": 72,
        "start_time": "2022-10-04T07:34:58.743Z"
      },
      {
        "duration": 242,
        "start_time": "2022-10-04T07:34:58.817Z"
      },
      {
        "duration": 257,
        "start_time": "2022-10-04T07:34:59.060Z"
      },
      {
        "duration": 257,
        "start_time": "2022-10-04T07:34:59.319Z"
      },
      {
        "duration": 434,
        "start_time": "2022-10-04T07:34:59.578Z"
      },
      {
        "duration": 23,
        "start_time": "2022-10-04T07:35:00.014Z"
      },
      {
        "duration": 70,
        "start_time": "2022-10-04T07:35:00.039Z"
      },
      {
        "duration": 57,
        "start_time": "2022-10-04T07:35:00.110Z"
      },
      {
        "duration": 3,
        "start_time": "2022-10-04T07:35:00.169Z"
      },
      {
        "duration": 29,
        "start_time": "2022-10-04T07:35:00.175Z"
      },
      {
        "duration": 627,
        "start_time": "2022-10-04T07:35:00.206Z"
      },
      {
        "duration": 616,
        "start_time": "2022-10-04T07:35:00.844Z"
      },
      {
        "duration": 17,
        "start_time": "2022-10-04T07:35:01.461Z"
      },
      {
        "duration": 15695,
        "start_time": "2022-10-04T07:35:01.479Z"
      },
      {
        "duration": 15581,
        "start_time": "2022-10-04T07:35:17.176Z"
      },
      {
        "duration": 282,
        "start_time": "2022-10-04T07:35:32.758Z"
      },
      {
        "duration": 253,
        "start_time": "2022-10-04T07:35:33.042Z"
      },
      {
        "duration": 3,
        "start_time": "2022-10-04T07:35:33.297Z"
      },
      {
        "duration": 1420,
        "start_time": "2022-10-04T07:38:27.392Z"
      },
      {
        "duration": 2825,
        "start_time": "2022-10-04T07:38:28.814Z"
      },
      {
        "duration": 26,
        "start_time": "2022-10-04T07:38:31.640Z"
      },
      {
        "duration": 84,
        "start_time": "2022-10-04T07:38:31.668Z"
      },
      {
        "duration": 175,
        "start_time": "2022-10-04T07:38:31.754Z"
      },
      {
        "duration": 20,
        "start_time": "2022-10-04T07:38:31.931Z"
      },
      {
        "duration": 59,
        "start_time": "2022-10-04T07:38:31.952Z"
      },
      {
        "duration": 17,
        "start_time": "2022-10-04T07:38:32.012Z"
      },
      {
        "duration": 81,
        "start_time": "2022-10-04T07:38:32.030Z"
      },
      {
        "duration": 29,
        "start_time": "2022-10-04T07:38:32.113Z"
      },
      {
        "duration": 295,
        "start_time": "2022-10-04T07:38:32.144Z"
      },
      {
        "duration": 311,
        "start_time": "2022-10-04T07:38:32.441Z"
      },
      {
        "duration": 1258,
        "start_time": "2022-10-04T07:38:32.754Z"
      },
      {
        "duration": 24,
        "start_time": "2022-10-04T07:38:34.013Z"
      },
      {
        "duration": 61,
        "start_time": "2022-10-04T07:38:34.038Z"
      },
      {
        "duration": 166,
        "start_time": "2022-10-04T07:38:34.101Z"
      },
      {
        "duration": 15,
        "start_time": "2022-10-04T07:38:34.268Z"
      },
      {
        "duration": 20,
        "start_time": "2022-10-04T07:38:34.284Z"
      },
      {
        "duration": 84,
        "start_time": "2022-10-04T07:38:34.305Z"
      },
      {
        "duration": 231,
        "start_time": "2022-10-04T07:38:34.391Z"
      },
      {
        "duration": 263,
        "start_time": "2022-10-04T07:38:34.624Z"
      },
      {
        "duration": 261,
        "start_time": "2022-10-04T07:38:34.888Z"
      },
      {
        "duration": 412,
        "start_time": "2022-10-04T07:38:35.150Z"
      },
      {
        "duration": 32,
        "start_time": "2022-10-04T07:38:35.563Z"
      },
      {
        "duration": 59,
        "start_time": "2022-10-04T07:38:35.596Z"
      },
      {
        "duration": 58,
        "start_time": "2022-10-04T07:38:35.656Z"
      },
      {
        "duration": 3,
        "start_time": "2022-10-04T07:38:35.716Z"
      },
      {
        "duration": 15,
        "start_time": "2022-10-04T07:38:35.722Z"
      },
      {
        "duration": 566,
        "start_time": "2022-10-04T07:38:35.739Z"
      },
      {
        "duration": 606,
        "start_time": "2022-10-04T07:38:36.307Z"
      },
      {
        "duration": 16,
        "start_time": "2022-10-04T07:38:36.915Z"
      },
      {
        "duration": 15350,
        "start_time": "2022-10-04T07:38:36.932Z"
      },
      {
        "duration": 15563,
        "start_time": "2022-10-04T07:38:52.284Z"
      },
      {
        "duration": 291,
        "start_time": "2022-10-04T07:39:07.849Z"
      },
      {
        "duration": 253,
        "start_time": "2022-10-04T07:39:08.142Z"
      },
      {
        "duration": 3,
        "start_time": "2022-10-04T07:39:08.400Z"
      },
      {
        "duration": 201,
        "start_time": "2022-10-04T07:39:08.405Z"
      },
      {
        "duration": 0,
        "start_time": "2022-10-04T07:39:08.607Z"
      },
      {
        "duration": 0,
        "start_time": "2022-10-04T07:39:08.608Z"
      },
      {
        "duration": 0,
        "start_time": "2022-10-04T07:39:08.610Z"
      },
      {
        "duration": 0,
        "start_time": "2022-10-04T07:39:08.611Z"
      },
      {
        "duration": 0,
        "start_time": "2022-10-04T07:39:08.612Z"
      },
      {
        "duration": 0,
        "start_time": "2022-10-04T07:39:08.613Z"
      },
      {
        "duration": 0,
        "start_time": "2022-10-04T07:39:08.614Z"
      },
      {
        "duration": 0,
        "start_time": "2022-10-04T07:39:08.615Z"
      },
      {
        "duration": 1335,
        "start_time": "2022-10-04T07:39:42.353Z"
      },
      {
        "duration": 14,
        "start_time": "2022-10-04T07:41:07.552Z"
      },
      {
        "duration": 1000,
        "start_time": "2022-10-04T07:41:17.528Z"
      },
      {
        "duration": 654,
        "start_time": "2022-10-04T07:41:26.684Z"
      },
      {
        "duration": 816,
        "start_time": "2022-10-04T07:41:33.225Z"
      },
      {
        "duration": 706,
        "start_time": "2022-10-04T07:41:39.426Z"
      },
      {
        "duration": 45,
        "start_time": "2022-10-04T07:42:08.586Z"
      },
      {
        "duration": 1456,
        "start_time": "2022-10-04T07:42:13.965Z"
      },
      {
        "duration": 2945,
        "start_time": "2022-10-04T07:42:15.422Z"
      },
      {
        "duration": 27,
        "start_time": "2022-10-04T07:42:18.368Z"
      },
      {
        "duration": 88,
        "start_time": "2022-10-04T07:42:18.397Z"
      },
      {
        "duration": 209,
        "start_time": "2022-10-04T07:42:18.487Z"
      },
      {
        "duration": 26,
        "start_time": "2022-10-04T07:42:18.698Z"
      },
      {
        "duration": 71,
        "start_time": "2022-10-04T07:42:18.726Z"
      },
      {
        "duration": 18,
        "start_time": "2022-10-04T07:42:18.799Z"
      },
      {
        "duration": 97,
        "start_time": "2022-10-04T07:42:18.820Z"
      },
      {
        "duration": 32,
        "start_time": "2022-10-04T07:42:18.921Z"
      },
      {
        "duration": 303,
        "start_time": "2022-10-04T07:42:18.955Z"
      },
      {
        "duration": 314,
        "start_time": "2022-10-04T07:42:19.260Z"
      },
      {
        "duration": 1325,
        "start_time": "2022-10-04T07:42:19.576Z"
      },
      {
        "duration": 22,
        "start_time": "2022-10-04T07:42:20.903Z"
      },
      {
        "duration": 50,
        "start_time": "2022-10-04T07:42:20.926Z"
      },
      {
        "duration": 184,
        "start_time": "2022-10-04T07:42:20.978Z"
      },
      {
        "duration": 15,
        "start_time": "2022-10-04T07:42:21.164Z"
      },
      {
        "duration": 29,
        "start_time": "2022-10-04T07:42:21.180Z"
      },
      {
        "duration": 63,
        "start_time": "2022-10-04T07:42:21.210Z"
      },
      {
        "duration": 254,
        "start_time": "2022-10-04T07:42:21.275Z"
      },
      {
        "duration": 272,
        "start_time": "2022-10-04T07:42:21.531Z"
      },
      {
        "duration": 291,
        "start_time": "2022-10-04T07:42:21.805Z"
      },
      {
        "duration": 427,
        "start_time": "2022-10-04T07:42:22.098Z"
      },
      {
        "duration": 23,
        "start_time": "2022-10-04T07:42:22.527Z"
      },
      {
        "duration": 63,
        "start_time": "2022-10-04T07:42:22.552Z"
      },
      {
        "duration": 59,
        "start_time": "2022-10-04T07:42:22.616Z"
      },
      {
        "duration": 3,
        "start_time": "2022-10-04T07:42:22.677Z"
      },
      {
        "duration": 3,
        "start_time": "2022-10-04T07:42:22.695Z"
      },
      {
        "duration": 611,
        "start_time": "2022-10-04T07:42:22.700Z"
      },
      {
        "duration": 607,
        "start_time": "2022-10-04T07:42:23.313Z"
      },
      {
        "duration": 17,
        "start_time": "2022-10-04T07:42:23.922Z"
      },
      {
        "duration": 15749,
        "start_time": "2022-10-04T07:42:23.940Z"
      },
      {
        "duration": 15682,
        "start_time": "2022-10-04T07:42:39.690Z"
      },
      {
        "duration": 270,
        "start_time": "2022-10-04T07:42:55.373Z"
      },
      {
        "duration": 258,
        "start_time": "2022-10-04T07:42:55.645Z"
      },
      {
        "duration": 3,
        "start_time": "2022-10-04T07:42:55.994Z"
      },
      {
        "duration": 1499,
        "start_time": "2022-10-04T07:43:58.240Z"
      },
      {
        "duration": 2978,
        "start_time": "2022-10-04T07:43:59.740Z"
      },
      {
        "duration": 25,
        "start_time": "2022-10-04T07:44:02.720Z"
      },
      {
        "duration": 86,
        "start_time": "2022-10-04T07:44:02.747Z"
      },
      {
        "duration": 193,
        "start_time": "2022-10-04T07:44:02.836Z"
      },
      {
        "duration": 20,
        "start_time": "2022-10-04T07:44:03.031Z"
      },
      {
        "duration": 63,
        "start_time": "2022-10-04T07:44:03.052Z"
      },
      {
        "duration": 20,
        "start_time": "2022-10-04T07:44:03.116Z"
      },
      {
        "duration": 87,
        "start_time": "2022-10-04T07:44:03.137Z"
      },
      {
        "duration": 30,
        "start_time": "2022-10-04T07:44:03.226Z"
      },
      {
        "duration": 288,
        "start_time": "2022-10-04T07:44:03.258Z"
      },
      {
        "duration": 302,
        "start_time": "2022-10-04T07:44:03.548Z"
      },
      {
        "duration": 1263,
        "start_time": "2022-10-04T07:44:03.852Z"
      },
      {
        "duration": 21,
        "start_time": "2022-10-04T07:44:05.118Z"
      },
      {
        "duration": 59,
        "start_time": "2022-10-04T07:44:05.141Z"
      },
      {
        "duration": 159,
        "start_time": "2022-10-04T07:44:05.201Z"
      },
      {
        "duration": 14,
        "start_time": "2022-10-04T07:44:05.362Z"
      },
      {
        "duration": 30,
        "start_time": "2022-10-04T07:44:05.378Z"
      },
      {
        "duration": 63,
        "start_time": "2022-10-04T07:44:05.410Z"
      },
      {
        "duration": 247,
        "start_time": "2022-10-04T07:44:05.475Z"
      },
      {
        "duration": 257,
        "start_time": "2022-10-04T07:44:05.724Z"
      },
      {
        "duration": 263,
        "start_time": "2022-10-04T07:44:05.983Z"
      },
      {
        "duration": 471,
        "start_time": "2022-10-04T07:44:06.249Z"
      },
      {
        "duration": 27,
        "start_time": "2022-10-04T07:44:06.721Z"
      },
      {
        "duration": 57,
        "start_time": "2022-10-04T07:44:06.751Z"
      },
      {
        "duration": 60,
        "start_time": "2022-10-04T07:44:06.810Z"
      },
      {
        "duration": 4,
        "start_time": "2022-10-04T07:44:06.871Z"
      },
      {
        "duration": 19,
        "start_time": "2022-10-04T07:44:06.877Z"
      },
      {
        "duration": 624,
        "start_time": "2022-10-04T07:44:06.897Z"
      },
      {
        "duration": 588,
        "start_time": "2022-10-04T07:44:07.522Z"
      },
      {
        "duration": 16,
        "start_time": "2022-10-04T07:44:08.112Z"
      },
      {
        "duration": 15586,
        "start_time": "2022-10-04T07:44:08.130Z"
      },
      {
        "duration": 15914,
        "start_time": "2022-10-04T07:44:23.718Z"
      },
      {
        "duration": 271,
        "start_time": "2022-10-04T07:44:39.634Z"
      },
      {
        "duration": 193,
        "start_time": "2022-10-04T07:44:39.907Z"
      },
      {
        "duration": 94,
        "start_time": "2022-10-04T07:44:40.102Z"
      },
      {
        "duration": 1283,
        "start_time": "2022-10-04T07:44:40.198Z"
      },
      {
        "duration": 0,
        "start_time": "2022-10-04T07:44:41.483Z"
      },
      {
        "duration": 0,
        "start_time": "2022-10-04T07:44:41.485Z"
      },
      {
        "duration": 0,
        "start_time": "2022-10-04T07:44:41.486Z"
      },
      {
        "duration": 0,
        "start_time": "2022-10-04T07:44:41.487Z"
      },
      {
        "duration": 0,
        "start_time": "2022-10-04T07:44:41.489Z"
      },
      {
        "duration": 0,
        "start_time": "2022-10-04T07:44:41.491Z"
      },
      {
        "duration": 0,
        "start_time": "2022-10-04T07:44:41.492Z"
      },
      {
        "duration": 0,
        "start_time": "2022-10-04T07:44:41.494Z"
      },
      {
        "duration": 1483,
        "start_time": "2022-10-04T07:50:37.396Z"
      },
      {
        "duration": 804,
        "start_time": "2022-10-04T07:50:38.881Z"
      },
      {
        "duration": 26,
        "start_time": "2022-10-04T07:50:39.694Z"
      },
      {
        "duration": 87,
        "start_time": "2022-10-04T07:50:39.723Z"
      },
      {
        "duration": 182,
        "start_time": "2022-10-04T07:50:39.813Z"
      },
      {
        "duration": 21,
        "start_time": "2022-10-04T07:50:39.996Z"
      },
      {
        "duration": 51,
        "start_time": "2022-10-04T07:50:40.019Z"
      },
      {
        "duration": 39,
        "start_time": "2022-10-04T07:50:40.072Z"
      },
      {
        "duration": 84,
        "start_time": "2022-10-04T07:50:40.112Z"
      },
      {
        "duration": 31,
        "start_time": "2022-10-04T07:50:40.198Z"
      },
      {
        "duration": 286,
        "start_time": "2022-10-04T07:50:40.231Z"
      },
      {
        "duration": 301,
        "start_time": "2022-10-04T07:50:40.519Z"
      },
      {
        "duration": 1321,
        "start_time": "2022-10-04T07:50:40.822Z"
      },
      {
        "duration": 23,
        "start_time": "2022-10-04T07:50:42.145Z"
      },
      {
        "duration": 61,
        "start_time": "2022-10-04T07:50:42.170Z"
      },
      {
        "duration": 166,
        "start_time": "2022-10-04T07:50:42.232Z"
      },
      {
        "duration": 14,
        "start_time": "2022-10-04T07:50:42.399Z"
      },
      {
        "duration": 16,
        "start_time": "2022-10-04T07:50:42.414Z"
      },
      {
        "duration": 78,
        "start_time": "2022-10-04T07:50:42.432Z"
      },
      {
        "duration": 251,
        "start_time": "2022-10-04T07:50:42.512Z"
      },
      {
        "duration": 274,
        "start_time": "2022-10-04T07:50:42.764Z"
      },
      {
        "duration": 261,
        "start_time": "2022-10-04T07:50:43.040Z"
      },
      {
        "duration": 419,
        "start_time": "2022-10-04T07:50:43.302Z"
      },
      {
        "duration": 22,
        "start_time": "2022-10-04T07:50:43.722Z"
      },
      {
        "duration": 58,
        "start_time": "2022-10-04T07:50:43.746Z"
      },
      {
        "duration": 53,
        "start_time": "2022-10-04T07:50:43.806Z"
      },
      {
        "duration": 3,
        "start_time": "2022-10-04T07:50:43.860Z"
      },
      {
        "duration": 26,
        "start_time": "2022-10-04T07:50:43.867Z"
      },
      {
        "duration": 580,
        "start_time": "2022-10-04T07:50:43.895Z"
      },
      {
        "duration": 583,
        "start_time": "2022-10-04T07:50:44.476Z"
      },
      {
        "duration": 17,
        "start_time": "2022-10-04T07:50:45.060Z"
      },
      {
        "duration": 16424,
        "start_time": "2022-10-04T07:50:45.079Z"
      },
      {
        "duration": 15610,
        "start_time": "2022-10-04T07:51:01.504Z"
      },
      {
        "duration": 273,
        "start_time": "2022-10-04T07:51:17.115Z"
      },
      {
        "duration": 210,
        "start_time": "2022-10-04T07:51:17.389Z"
      },
      {
        "duration": 3,
        "start_time": "2022-10-04T07:51:17.601Z"
      },
      {
        "duration": 3791,
        "start_time": "2022-10-04T07:51:17.605Z"
      },
      {
        "duration": 4318,
        "start_time": "2022-10-04T07:51:21.398Z"
      },
      {
        "duration": 409,
        "start_time": "2022-10-04T07:51:25.796Z"
      },
      {
        "duration": 4498,
        "start_time": "2022-10-04T07:51:26.207Z"
      },
      {
        "duration": 493,
        "start_time": "2022-10-04T07:51:30.706Z"
      },
      {
        "duration": 10,
        "start_time": "2022-10-04T07:51:31.201Z"
      },
      {
        "duration": 34,
        "start_time": "2022-10-04T07:51:31.212Z"
      },
      {
        "duration": 1317,
        "start_time": "2022-10-04T07:51:31.248Z"
      },
      {
        "duration": 9751,
        "start_time": "2022-10-04T07:51:32.567Z"
      },
      {
        "duration": 3147,
        "start_time": "2022-10-04T07:52:07.301Z"
      },
      {
        "duration": 3073,
        "start_time": "2022-10-04T07:53:43.549Z"
      },
      {
        "duration": 10,
        "start_time": "2022-10-04T07:54:19.085Z"
      },
      {
        "duration": 1457,
        "start_time": "2022-10-04T07:55:00.243Z"
      },
      {
        "duration": 848,
        "start_time": "2022-10-04T07:55:01.703Z"
      },
      {
        "duration": 27,
        "start_time": "2022-10-04T07:55:02.553Z"
      },
      {
        "duration": 100,
        "start_time": "2022-10-04T07:55:02.582Z"
      },
      {
        "duration": 171,
        "start_time": "2022-10-04T07:55:02.683Z"
      },
      {
        "duration": 20,
        "start_time": "2022-10-04T07:55:02.856Z"
      },
      {
        "duration": 68,
        "start_time": "2022-10-04T07:55:02.877Z"
      },
      {
        "duration": 18,
        "start_time": "2022-10-04T07:55:02.947Z"
      },
      {
        "duration": 90,
        "start_time": "2022-10-04T07:55:02.967Z"
      },
      {
        "duration": 41,
        "start_time": "2022-10-04T07:55:03.060Z"
      },
      {
        "duration": 292,
        "start_time": "2022-10-04T07:55:03.103Z"
      },
      {
        "duration": 311,
        "start_time": "2022-10-04T07:55:03.397Z"
      },
      {
        "duration": 1268,
        "start_time": "2022-10-04T07:55:03.709Z"
      },
      {
        "duration": 35,
        "start_time": "2022-10-04T07:55:04.979Z"
      },
      {
        "duration": 49,
        "start_time": "2022-10-04T07:55:05.017Z"
      },
      {
        "duration": 171,
        "start_time": "2022-10-04T07:55:05.068Z"
      },
      {
        "duration": 15,
        "start_time": "2022-10-04T07:55:05.241Z"
      },
      {
        "duration": 15,
        "start_time": "2022-10-04T07:55:05.258Z"
      },
      {
        "duration": 81,
        "start_time": "2022-10-04T07:55:05.275Z"
      },
      {
        "duration": 239,
        "start_time": "2022-10-04T07:55:05.357Z"
      },
      {
        "duration": 249,
        "start_time": "2022-10-04T07:55:05.598Z"
      },
      {
        "duration": 251,
        "start_time": "2022-10-04T07:55:05.849Z"
      },
      {
        "duration": 448,
        "start_time": "2022-10-04T07:55:06.102Z"
      },
      {
        "duration": 28,
        "start_time": "2022-10-04T07:55:06.552Z"
      },
      {
        "duration": 66,
        "start_time": "2022-10-04T07:55:06.582Z"
      },
      {
        "duration": 81,
        "start_time": "2022-10-04T07:55:06.650Z"
      },
      {
        "duration": 37828,
        "start_time": "2022-10-04T07:55:06.733Z"
      },
      {
        "duration": 4,
        "start_time": "2022-10-04T07:55:44.564Z"
      },
      {
        "duration": 13,
        "start_time": "2022-10-04T07:55:44.569Z"
      },
      {
        "duration": 601,
        "start_time": "2022-10-04T07:55:44.584Z"
      },
      {
        "duration": 584,
        "start_time": "2022-10-04T07:55:45.186Z"
      },
      {
        "duration": 26,
        "start_time": "2022-10-04T07:55:45.771Z"
      },
      {
        "duration": 276755,
        "start_time": "2022-10-04T07:55:45.799Z"
      },
      {
        "duration": 15853,
        "start_time": "2022-10-04T08:00:22.557Z"
      },
      {
        "duration": 16110,
        "start_time": "2022-10-04T08:00:38.412Z"
      },
      {
        "duration": 310,
        "start_time": "2022-10-04T08:00:54.524Z"
      },
      {
        "duration": 264,
        "start_time": "2022-10-04T08:00:54.836Z"
      },
      {
        "duration": 93,
        "start_time": "2022-10-04T08:00:55.102Z"
      },
      {
        "duration": 3237,
        "start_time": "2022-10-04T08:00:55.197Z"
      },
      {
        "duration": 0,
        "start_time": "2022-10-04T08:00:58.436Z"
      },
      {
        "duration": 0,
        "start_time": "2022-10-04T08:00:58.437Z"
      },
      {
        "duration": 0,
        "start_time": "2022-10-04T08:00:58.439Z"
      },
      {
        "duration": 0,
        "start_time": "2022-10-04T08:00:58.440Z"
      },
      {
        "duration": 0,
        "start_time": "2022-10-04T08:00:58.441Z"
      },
      {
        "duration": 0,
        "start_time": "2022-10-04T08:00:58.443Z"
      },
      {
        "duration": 0,
        "start_time": "2022-10-04T08:00:58.444Z"
      },
      {
        "duration": 0,
        "start_time": "2022-10-04T08:00:58.445Z"
      },
      {
        "duration": 3174,
        "start_time": "2022-10-04T08:01:58.299Z"
      },
      {
        "duration": 3053,
        "start_time": "2022-10-04T08:02:38.610Z"
      },
      {
        "duration": 14,
        "start_time": "2022-10-04T08:03:11.129Z"
      },
      {
        "duration": 3077,
        "start_time": "2022-10-04T08:03:40.408Z"
      },
      {
        "duration": 2974,
        "start_time": "2022-10-04T08:03:43.487Z"
      },
      {
        "duration": 16,
        "start_time": "2022-10-04T08:03:46.462Z"
      },
      {
        "duration": 10,
        "start_time": "2022-10-04T08:04:41.400Z"
      },
      {
        "duration": 9,
        "start_time": "2022-10-04T08:06:17.115Z"
      },
      {
        "duration": 5,
        "start_time": "2022-10-04T08:06:23.512Z"
      },
      {
        "duration": 1310,
        "start_time": "2022-10-04T08:06:24.560Z"
      },
      {
        "duration": 9174,
        "start_time": "2022-10-04T08:06:26.421Z"
      },
      {
        "duration": 16,
        "start_time": "2022-10-04T08:06:35.597Z"
      },
      {
        "duration": 17,
        "start_time": "2022-10-04T08:07:17.177Z"
      },
      {
        "duration": 13,
        "start_time": "2022-10-04T08:08:36.064Z"
      },
      {
        "duration": 14,
        "start_time": "2022-10-04T08:08:53.838Z"
      },
      {
        "duration": 13,
        "start_time": "2022-10-04T08:09:35.694Z"
      },
      {
        "duration": 1431,
        "start_time": "2022-10-04T08:09:43.054Z"
      },
      {
        "duration": 828,
        "start_time": "2022-10-04T08:09:44.487Z"
      },
      {
        "duration": 22,
        "start_time": "2022-10-04T08:09:45.316Z"
      },
      {
        "duration": 85,
        "start_time": "2022-10-04T08:09:45.340Z"
      },
      {
        "duration": 175,
        "start_time": "2022-10-04T08:09:45.427Z"
      },
      {
        "duration": 21,
        "start_time": "2022-10-04T08:09:45.604Z"
      },
      {
        "duration": 69,
        "start_time": "2022-10-04T08:09:45.626Z"
      },
      {
        "duration": 19,
        "start_time": "2022-10-04T08:09:45.697Z"
      },
      {
        "duration": 88,
        "start_time": "2022-10-04T08:09:45.717Z"
      },
      {
        "duration": 33,
        "start_time": "2022-10-04T08:09:45.807Z"
      },
      {
        "duration": 303,
        "start_time": "2022-10-04T08:09:45.842Z"
      },
      {
        "duration": 319,
        "start_time": "2022-10-04T08:09:46.147Z"
      },
      {
        "duration": 1406,
        "start_time": "2022-10-04T08:09:46.468Z"
      },
      {
        "duration": 30,
        "start_time": "2022-10-04T08:09:47.876Z"
      },
      {
        "duration": 48,
        "start_time": "2022-10-04T08:09:47.908Z"
      },
      {
        "duration": 178,
        "start_time": "2022-10-04T08:09:47.957Z"
      },
      {
        "duration": 15,
        "start_time": "2022-10-04T08:09:48.136Z"
      },
      {
        "duration": 15,
        "start_time": "2022-10-04T08:09:48.153Z"
      },
      {
        "duration": 78,
        "start_time": "2022-10-04T08:09:48.170Z"
      },
      {
        "duration": 250,
        "start_time": "2022-10-04T08:09:48.250Z"
      },
      {
        "duration": 253,
        "start_time": "2022-10-04T08:09:48.501Z"
      },
      {
        "duration": 285,
        "start_time": "2022-10-04T08:09:48.756Z"
      },
      {
        "duration": 421,
        "start_time": "2022-10-04T08:09:49.043Z"
      },
      {
        "duration": 36,
        "start_time": "2022-10-04T08:09:49.466Z"
      },
      {
        "duration": 49,
        "start_time": "2022-10-04T08:09:49.503Z"
      },
      {
        "duration": 68,
        "start_time": "2022-10-04T08:09:49.554Z"
      },
      {
        "duration": 39526,
        "start_time": "2022-10-04T08:09:49.624Z"
      },
      {
        "duration": 3,
        "start_time": "2022-10-04T08:10:29.155Z"
      },
      {
        "duration": 7,
        "start_time": "2022-10-04T08:10:29.159Z"
      },
      {
        "duration": 576,
        "start_time": "2022-10-04T08:10:29.167Z"
      },
      {
        "duration": 569,
        "start_time": "2022-10-04T08:10:29.744Z"
      },
      {
        "duration": 16,
        "start_time": "2022-10-04T08:10:30.315Z"
      },
      {
        "duration": 271116,
        "start_time": "2022-10-04T08:10:30.333Z"
      },
      {
        "duration": 16152,
        "start_time": "2022-10-04T08:15:01.450Z"
      },
      {
        "duration": 15836,
        "start_time": "2022-10-04T08:15:17.603Z"
      },
      {
        "duration": 269,
        "start_time": "2022-10-04T08:15:33.441Z"
      },
      {
        "duration": 284,
        "start_time": "2022-10-04T08:15:33.712Z"
      },
      {
        "duration": 3,
        "start_time": "2022-10-04T08:15:33.998Z"
      },
      {
        "duration": 3285,
        "start_time": "2022-10-04T08:15:34.004Z"
      },
      {
        "duration": 3060,
        "start_time": "2022-10-04T08:15:37.291Z"
      },
      {
        "duration": 15,
        "start_time": "2022-10-04T08:15:40.352Z"
      },
      {
        "duration": 4138,
        "start_time": "2022-10-04T08:15:40.368Z"
      },
      {
        "duration": 503,
        "start_time": "2022-10-04T08:15:44.507Z"
      },
      {
        "duration": 4200,
        "start_time": "2022-10-04T08:15:45.096Z"
      },
      {
        "duration": 412,
        "start_time": "2022-10-04T08:15:49.298Z"
      },
      {
        "duration": 85,
        "start_time": "2022-10-04T08:15:49.711Z"
      },
      {
        "duration": 5,
        "start_time": "2022-10-04T08:15:49.797Z"
      },
      {
        "duration": 1341,
        "start_time": "2022-10-04T08:15:49.804Z"
      },
      {
        "duration": 9361,
        "start_time": "2022-10-04T08:15:51.147Z"
      },
      {
        "duration": 173,
        "start_time": "2022-10-04T08:16:00.510Z"
      },
      {
        "duration": 13,
        "start_time": "2022-10-04T08:16:16.739Z"
      },
      {
        "duration": 6070,
        "start_time": "2022-10-04T08:17:10.964Z"
      },
      {
        "duration": 10093,
        "start_time": "2022-10-04T08:17:39.525Z"
      },
      {
        "duration": 6149,
        "start_time": "2022-10-04T08:17:49.696Z"
      },
      {
        "duration": 48,
        "start_time": "2022-10-06T06:08:15.643Z"
      },
      {
        "duration": 1644,
        "start_time": "2022-10-06T06:08:26.148Z"
      },
      {
        "duration": 1107,
        "start_time": "2022-10-06T06:08:27.794Z"
      },
      {
        "duration": 21,
        "start_time": "2022-10-06T06:08:32.560Z"
      },
      {
        "duration": 88,
        "start_time": "2022-10-06T06:08:33.712Z"
      },
      {
        "duration": 153,
        "start_time": "2022-10-06T06:08:35.773Z"
      },
      {
        "duration": 21,
        "start_time": "2022-10-06T06:08:37.480Z"
      },
      {
        "duration": 50,
        "start_time": "2022-10-06T06:08:39.198Z"
      },
      {
        "duration": 17,
        "start_time": "2022-10-06T06:08:40.350Z"
      },
      {
        "duration": 85,
        "start_time": "2022-10-06T06:08:41.949Z"
      },
      {
        "duration": 35,
        "start_time": "2022-10-06T06:08:43.917Z"
      },
      {
        "duration": 352,
        "start_time": "2022-10-06T06:08:45.264Z"
      },
      {
        "duration": 245,
        "start_time": "2022-10-06T06:08:47.593Z"
      },
      {
        "duration": 1296,
        "start_time": "2022-10-06T06:08:49.600Z"
      },
      {
        "duration": 23,
        "start_time": "2022-10-06T06:08:51.298Z"
      },
      {
        "duration": 52,
        "start_time": "2022-10-06T06:08:53.417Z"
      },
      {
        "duration": 152,
        "start_time": "2022-10-06T06:08:55.127Z"
      },
      {
        "duration": 16,
        "start_time": "2022-10-06T06:08:57.286Z"
      },
      {
        "duration": 17,
        "start_time": "2022-10-06T06:08:58.185Z"
      },
      {
        "duration": 74,
        "start_time": "2022-10-06T06:08:59.960Z"
      },
      {
        "duration": 259,
        "start_time": "2022-10-06T06:09:02.053Z"
      },
      {
        "duration": 256,
        "start_time": "2022-10-06T06:09:04.336Z"
      },
      {
        "duration": 287,
        "start_time": "2022-10-06T06:09:06.401Z"
      },
      {
        "duration": 489,
        "start_time": "2022-10-06T06:09:08.648Z"
      },
      {
        "duration": 23,
        "start_time": "2022-10-06T06:09:11.433Z"
      },
      {
        "duration": 73,
        "start_time": "2022-10-06T06:09:13.806Z"
      },
      {
        "duration": 1428,
        "start_time": "2022-10-06T06:10:45.081Z"
      },
      {
        "duration": 783,
        "start_time": "2022-10-06T06:10:46.511Z"
      },
      {
        "duration": 26,
        "start_time": "2022-10-06T06:10:47.295Z"
      },
      {
        "duration": 97,
        "start_time": "2022-10-06T06:10:47.323Z"
      },
      {
        "duration": 168,
        "start_time": "2022-10-06T06:10:47.422Z"
      },
      {
        "duration": 19,
        "start_time": "2022-10-06T06:10:47.591Z"
      },
      {
        "duration": 64,
        "start_time": "2022-10-06T06:10:47.612Z"
      },
      {
        "duration": 19,
        "start_time": "2022-10-06T06:10:47.677Z"
      },
      {
        "duration": 95,
        "start_time": "2022-10-06T06:10:47.697Z"
      },
      {
        "duration": 44,
        "start_time": "2022-10-06T06:10:47.794Z"
      },
      {
        "duration": 294,
        "start_time": "2022-10-06T06:10:47.839Z"
      },
      {
        "duration": 326,
        "start_time": "2022-10-06T06:10:48.135Z"
      },
      {
        "duration": 1313,
        "start_time": "2022-10-06T06:10:48.463Z"
      },
      {
        "duration": 22,
        "start_time": "2022-10-06T06:10:49.778Z"
      },
      {
        "duration": 59,
        "start_time": "2022-10-06T06:10:49.802Z"
      },
      {
        "duration": 158,
        "start_time": "2022-10-06T06:10:49.863Z"
      },
      {
        "duration": 17,
        "start_time": "2022-10-06T06:10:50.023Z"
      },
      {
        "duration": 17,
        "start_time": "2022-10-06T06:10:50.042Z"
      },
      {
        "duration": 88,
        "start_time": "2022-10-06T06:10:50.061Z"
      },
      {
        "duration": 263,
        "start_time": "2022-10-06T06:10:50.151Z"
      },
      {
        "duration": 271,
        "start_time": "2022-10-06T06:10:50.416Z"
      },
      {
        "duration": 346,
        "start_time": "2022-10-06T06:10:50.689Z"
      },
      {
        "duration": 478,
        "start_time": "2022-10-06T06:10:51.037Z"
      },
      {
        "duration": 26,
        "start_time": "2022-10-06T06:10:51.517Z"
      },
      {
        "duration": 71,
        "start_time": "2022-10-06T06:10:51.544Z"
      },
      {
        "duration": 54,
        "start_time": "2022-10-06T06:10:51.617Z"
      },
      {
        "duration": 62,
        "start_time": "2022-10-06T06:10:51.672Z"
      },
      {
        "duration": 3,
        "start_time": "2022-10-06T06:10:51.737Z"
      },
      {
        "duration": 6,
        "start_time": "2022-10-06T06:10:51.742Z"
      },
      {
        "duration": 606,
        "start_time": "2022-10-06T06:10:51.749Z"
      },
      {
        "duration": 641,
        "start_time": "2022-10-06T06:10:52.357Z"
      },
      {
        "duration": 16,
        "start_time": "2022-10-06T06:10:53.000Z"
      },
      {
        "duration": 15889,
        "start_time": "2022-10-06T06:10:53.018Z"
      },
      {
        "duration": 15750,
        "start_time": "2022-10-06T06:11:08.909Z"
      },
      {
        "duration": 286,
        "start_time": "2022-10-06T06:11:24.660Z"
      },
      {
        "duration": 294,
        "start_time": "2022-10-06T06:11:24.948Z"
      },
      {
        "duration": 3,
        "start_time": "2022-10-06T06:11:25.334Z"
      },
      {
        "duration": 1414,
        "start_time": "2022-10-06T06:11:29.039Z"
      },
      {
        "duration": 811,
        "start_time": "2022-10-06T06:11:30.455Z"
      },
      {
        "duration": 21,
        "start_time": "2022-10-06T06:11:31.268Z"
      },
      {
        "duration": 103,
        "start_time": "2022-10-06T06:11:31.291Z"
      },
      {
        "duration": 167,
        "start_time": "2022-10-06T06:11:31.396Z"
      },
      {
        "duration": 18,
        "start_time": "2022-10-06T06:11:31.564Z"
      },
      {
        "duration": 62,
        "start_time": "2022-10-06T06:11:31.583Z"
      },
      {
        "duration": 18,
        "start_time": "2022-10-06T06:11:31.647Z"
      },
      {
        "duration": 102,
        "start_time": "2022-10-06T06:11:31.666Z"
      },
      {
        "duration": 33,
        "start_time": "2022-10-06T06:11:31.770Z"
      },
      {
        "duration": 289,
        "start_time": "2022-10-06T06:11:31.805Z"
      },
      {
        "duration": 299,
        "start_time": "2022-10-06T06:11:32.095Z"
      },
      {
        "duration": 2159,
        "start_time": "2022-10-06T06:11:32.396Z"
      },
      {
        "duration": 21,
        "start_time": "2022-10-06T06:11:34.557Z"
      },
      {
        "duration": 71,
        "start_time": "2022-10-06T06:11:34.580Z"
      },
      {
        "duration": 321,
        "start_time": "2022-10-06T06:11:34.652Z"
      },
      {
        "duration": 66,
        "start_time": "2022-10-06T06:11:34.974Z"
      },
      {
        "duration": 18,
        "start_time": "2022-10-06T06:11:35.042Z"
      },
      {
        "duration": 182,
        "start_time": "2022-10-06T06:11:35.061Z"
      },
      {
        "duration": 500,
        "start_time": "2022-10-06T06:11:35.244Z"
      },
      {
        "duration": 593,
        "start_time": "2022-10-06T06:11:35.745Z"
      },
      {
        "duration": 313,
        "start_time": "2022-10-06T06:11:36.340Z"
      },
      {
        "duration": 2,
        "start_time": "2022-10-06T06:11:36.656Z"
      },
      {
        "duration": 476,
        "start_time": "2022-10-06T06:11:36.660Z"
      },
      {
        "duration": 22,
        "start_time": "2022-10-06T06:11:37.138Z"
      },
      {
        "duration": 86,
        "start_time": "2022-10-06T06:11:37.161Z"
      },
      {
        "duration": 48,
        "start_time": "2022-10-06T06:11:37.249Z"
      },
      {
        "duration": 64,
        "start_time": "2022-10-06T06:11:37.300Z"
      },
      {
        "duration": 3,
        "start_time": "2022-10-06T06:11:37.366Z"
      },
      {
        "duration": 12,
        "start_time": "2022-10-06T06:11:37.371Z"
      },
      {
        "duration": 598,
        "start_time": "2022-10-06T06:11:37.384Z"
      },
      {
        "duration": 611,
        "start_time": "2022-10-06T06:11:37.983Z"
      },
      {
        "duration": 16,
        "start_time": "2022-10-06T06:11:38.596Z"
      },
      {
        "duration": 15626,
        "start_time": "2022-10-06T06:11:38.613Z"
      },
      {
        "duration": 15640,
        "start_time": "2022-10-06T06:11:54.240Z"
      },
      {
        "duration": 272,
        "start_time": "2022-10-06T06:12:09.882Z"
      },
      {
        "duration": 379,
        "start_time": "2022-10-06T06:12:10.155Z"
      },
      {
        "duration": 3,
        "start_time": "2022-10-06T06:12:10.536Z"
      },
      {
        "duration": 3000,
        "start_time": "2022-10-06T06:12:10.540Z"
      },
      {
        "duration": 2941,
        "start_time": "2022-10-06T06:12:13.541Z"
      },
      {
        "duration": 19,
        "start_time": "2022-10-06T06:12:16.483Z"
      },
      {
        "duration": 5143,
        "start_time": "2022-10-06T06:12:16.509Z"
      },
      {
        "duration": 588,
        "start_time": "2022-10-06T06:12:21.654Z"
      },
      {
        "duration": 4101,
        "start_time": "2022-10-06T06:12:22.244Z"
      },
      {
        "duration": 507,
        "start_time": "2022-10-06T06:12:26.347Z"
      },
      {
        "duration": 14,
        "start_time": "2022-10-06T06:12:26.855Z"
      },
      {
        "duration": 67,
        "start_time": "2022-10-06T06:12:26.870Z"
      },
      {
        "duration": 1379,
        "start_time": "2022-10-06T06:12:26.938Z"
      },
      {
        "duration": 9824,
        "start_time": "2022-10-06T06:12:28.318Z"
      },
      {
        "duration": 5847,
        "start_time": "2022-10-06T06:12:38.144Z"
      },
      {
        "duration": 1291,
        "start_time": "2022-10-06T06:13:34.592Z"
      },
      {
        "duration": 851,
        "start_time": "2022-10-06T06:13:35.885Z"
      },
      {
        "duration": 23,
        "start_time": "2022-10-06T06:13:36.738Z"
      },
      {
        "duration": 97,
        "start_time": "2022-10-06T06:13:36.764Z"
      },
      {
        "duration": 172,
        "start_time": "2022-10-06T06:13:36.863Z"
      },
      {
        "duration": 18,
        "start_time": "2022-10-06T06:13:37.036Z"
      },
      {
        "duration": 50,
        "start_time": "2022-10-06T06:13:37.055Z"
      },
      {
        "duration": 39,
        "start_time": "2022-10-06T06:13:37.107Z"
      },
      {
        "duration": 89,
        "start_time": "2022-10-06T06:13:37.148Z"
      },
      {
        "duration": 33,
        "start_time": "2022-10-06T06:13:37.240Z"
      },
      {
        "duration": 305,
        "start_time": "2022-10-06T06:13:37.275Z"
      },
      {
        "duration": 323,
        "start_time": "2022-10-06T06:13:37.582Z"
      },
      {
        "duration": 1337,
        "start_time": "2022-10-06T06:13:37.907Z"
      },
      {
        "duration": 23,
        "start_time": "2022-10-06T06:13:39.246Z"
      },
      {
        "duration": 46,
        "start_time": "2022-10-06T06:13:39.270Z"
      },
      {
        "duration": 162,
        "start_time": "2022-10-06T06:13:39.334Z"
      },
      {
        "duration": 18,
        "start_time": "2022-10-06T06:13:39.498Z"
      },
      {
        "duration": 27,
        "start_time": "2022-10-06T06:13:39.517Z"
      },
      {
        "duration": 88,
        "start_time": "2022-10-06T06:13:39.546Z"
      },
      {
        "duration": 260,
        "start_time": "2022-10-06T06:13:39.636Z"
      },
      {
        "duration": 286,
        "start_time": "2022-10-06T06:13:39.898Z"
      },
      {
        "duration": 272,
        "start_time": "2022-10-06T06:13:40.186Z"
      },
      {
        "duration": 3,
        "start_time": "2022-10-06T06:13:40.459Z"
      },
      {
        "duration": 457,
        "start_time": "2022-10-06T06:13:40.463Z"
      },
      {
        "duration": 22,
        "start_time": "2022-10-06T06:13:40.922Z"
      },
      {
        "duration": 89,
        "start_time": "2022-10-06T06:13:40.945Z"
      },
      {
        "duration": 45,
        "start_time": "2022-10-06T06:13:41.035Z"
      },
      {
        "duration": 66,
        "start_time": "2022-10-06T06:13:41.084Z"
      },
      {
        "duration": 3,
        "start_time": "2022-10-06T06:13:41.151Z"
      },
      {
        "duration": 9,
        "start_time": "2022-10-06T06:13:41.156Z"
      },
      {
        "duration": 634,
        "start_time": "2022-10-06T06:13:41.167Z"
      },
      {
        "duration": 1251,
        "start_time": "2022-10-06T06:13:41.802Z"
      },
      {
        "duration": 16,
        "start_time": "2022-10-06T06:13:43.055Z"
      },
      {
        "duration": 16021,
        "start_time": "2022-10-06T06:13:43.073Z"
      },
      {
        "duration": 15710,
        "start_time": "2022-10-06T06:13:59.095Z"
      },
      {
        "duration": 272,
        "start_time": "2022-10-06T06:14:14.807Z"
      },
      {
        "duration": 259,
        "start_time": "2022-10-06T06:14:15.080Z"
      },
      {
        "duration": 93,
        "start_time": "2022-10-06T06:14:15.341Z"
      },
      {
        "duration": 3119,
        "start_time": "2022-10-06T06:14:15.436Z"
      },
      {
        "duration": 2997,
        "start_time": "2022-10-06T06:14:18.557Z"
      },
      {
        "duration": 16,
        "start_time": "2022-10-06T06:14:21.556Z"
      },
      {
        "duration": 4071,
        "start_time": "2022-10-06T06:14:21.573Z"
      },
      {
        "duration": 505,
        "start_time": "2022-10-06T06:14:25.645Z"
      },
      {
        "duration": 4883,
        "start_time": "2022-10-06T06:14:26.152Z"
      },
      {
        "duration": 411,
        "start_time": "2022-10-06T06:14:31.037Z"
      },
      {
        "duration": 92,
        "start_time": "2022-10-06T06:14:31.449Z"
      },
      {
        "duration": 12,
        "start_time": "2022-10-06T06:14:31.543Z"
      },
      {
        "duration": 1353,
        "start_time": "2022-10-06T06:14:31.556Z"
      },
      {
        "duration": 9824,
        "start_time": "2022-10-06T06:14:32.910Z"
      },
      {
        "duration": 6117,
        "start_time": "2022-10-06T06:14:42.735Z"
      },
      {
        "duration": 21,
        "start_time": "2022-10-06T06:14:48.855Z"
      },
      {
        "duration": 138,
        "start_time": "2022-10-06T06:15:18.795Z"
      },
      {
        "duration": 1412,
        "start_time": "2022-10-06T06:16:03.224Z"
      },
      {
        "duration": 800,
        "start_time": "2022-10-06T06:16:04.638Z"
      },
      {
        "duration": 26,
        "start_time": "2022-10-06T06:16:05.440Z"
      },
      {
        "duration": 102,
        "start_time": "2022-10-06T06:16:05.468Z"
      },
      {
        "duration": 166,
        "start_time": "2022-10-06T06:16:05.572Z"
      },
      {
        "duration": 19,
        "start_time": "2022-10-06T06:16:05.740Z"
      },
      {
        "duration": 50,
        "start_time": "2022-10-06T06:16:05.760Z"
      },
      {
        "duration": 34,
        "start_time": "2022-10-06T06:16:05.812Z"
      },
      {
        "duration": 114,
        "start_time": "2022-10-06T06:16:05.847Z"
      },
      {
        "duration": 90,
        "start_time": "2022-10-06T06:16:05.962Z"
      },
      {
        "duration": 686,
        "start_time": "2022-10-06T06:16:06.053Z"
      },
      {
        "duration": 702,
        "start_time": "2022-10-06T06:16:06.741Z"
      },
      {
        "duration": 1398,
        "start_time": "2022-10-06T06:16:07.445Z"
      },
      {
        "duration": 23,
        "start_time": "2022-10-06T06:16:08.846Z"
      },
      {
        "duration": 45,
        "start_time": "2022-10-06T06:16:08.870Z"
      },
      {
        "duration": 172,
        "start_time": "2022-10-06T06:16:08.917Z"
      },
      {
        "duration": 16,
        "start_time": "2022-10-06T06:16:09.091Z"
      },
      {
        "duration": 29,
        "start_time": "2022-10-06T06:16:09.108Z"
      },
      {
        "duration": 77,
        "start_time": "2022-10-06T06:16:09.139Z"
      },
      {
        "duration": 263,
        "start_time": "2022-10-06T06:16:09.217Z"
      },
      {
        "duration": 282,
        "start_time": "2022-10-06T06:16:09.481Z"
      },
      {
        "duration": 280,
        "start_time": "2022-10-06T06:16:09.765Z"
      },
      {
        "duration": 3,
        "start_time": "2022-10-06T06:16:10.046Z"
      },
      {
        "duration": 31,
        "start_time": "2022-10-06T06:16:10.050Z"
      },
      {
        "duration": 464,
        "start_time": "2022-10-06T06:16:10.082Z"
      },
      {
        "duration": 22,
        "start_time": "2022-10-06T06:16:10.547Z"
      },
      {
        "duration": 84,
        "start_time": "2022-10-06T06:16:10.571Z"
      },
      {
        "duration": 45,
        "start_time": "2022-10-06T06:16:10.657Z"
      },
      {
        "duration": 63,
        "start_time": "2022-10-06T06:16:10.704Z"
      },
      {
        "duration": 3,
        "start_time": "2022-10-06T06:16:10.768Z"
      },
      {
        "duration": 34,
        "start_time": "2022-10-06T06:16:10.773Z"
      },
      {
        "duration": 601,
        "start_time": "2022-10-06T06:16:10.809Z"
      },
      {
        "duration": 630,
        "start_time": "2022-10-06T06:16:11.412Z"
      },
      {
        "duration": 16,
        "start_time": "2022-10-06T06:16:12.043Z"
      },
      {
        "duration": 15686,
        "start_time": "2022-10-06T06:16:12.061Z"
      },
      {
        "duration": 15716,
        "start_time": "2022-10-06T06:16:27.749Z"
      },
      {
        "duration": 271,
        "start_time": "2022-10-06T06:16:43.466Z"
      },
      {
        "duration": 294,
        "start_time": "2022-10-06T06:16:43.739Z"
      },
      {
        "duration": 3,
        "start_time": "2022-10-06T06:16:44.035Z"
      },
      {
        "duration": 3132,
        "start_time": "2022-10-06T06:16:44.040Z"
      },
      {
        "duration": 2970,
        "start_time": "2022-10-06T06:16:47.176Z"
      },
      {
        "duration": 16,
        "start_time": "2022-10-06T06:16:50.147Z"
      },
      {
        "duration": 6377,
        "start_time": "2022-10-06T06:16:50.165Z"
      },
      {
        "duration": 499,
        "start_time": "2022-10-06T06:16:56.544Z"
      },
      {
        "duration": 4191,
        "start_time": "2022-10-06T06:16:57.045Z"
      },
      {
        "duration": 410,
        "start_time": "2022-10-06T06:17:01.238Z"
      },
      {
        "duration": 92,
        "start_time": "2022-10-06T06:17:01.650Z"
      },
      {
        "duration": 26,
        "start_time": "2022-10-06T06:17:01.744Z"
      },
      {
        "duration": 1416,
        "start_time": "2022-10-06T06:17:01.772Z"
      },
      {
        "duration": 9355,
        "start_time": "2022-10-06T06:17:03.189Z"
      },
      {
        "duration": 5806,
        "start_time": "2022-10-06T06:17:12.546Z"
      },
      {
        "duration": 1373,
        "start_time": "2022-10-06T06:18:06.483Z"
      },
      {
        "duration": 854,
        "start_time": "2022-10-06T06:18:07.858Z"
      },
      {
        "duration": 30,
        "start_time": "2022-10-06T06:18:08.714Z"
      },
      {
        "duration": 123,
        "start_time": "2022-10-06T06:18:08.746Z"
      },
      {
        "duration": 175,
        "start_time": "2022-10-06T06:18:08.872Z"
      },
      {
        "duration": 20,
        "start_time": "2022-10-06T06:18:09.049Z"
      },
      {
        "duration": 62,
        "start_time": "2022-10-06T06:18:09.071Z"
      },
      {
        "duration": 19,
        "start_time": "2022-10-06T06:18:09.135Z"
      },
      {
        "duration": 114,
        "start_time": "2022-10-06T06:18:09.156Z"
      },
      {
        "duration": 36,
        "start_time": "2022-10-06T06:18:09.272Z"
      },
      {
        "duration": 313,
        "start_time": "2022-10-06T06:18:09.310Z"
      },
      {
        "duration": 360,
        "start_time": "2022-10-06T06:18:09.625Z"
      },
      {
        "duration": 1304,
        "start_time": "2022-10-06T06:18:09.986Z"
      },
      {
        "duration": 24,
        "start_time": "2022-10-06T06:18:11.292Z"
      },
      {
        "duration": 61,
        "start_time": "2022-10-06T06:18:11.317Z"
      },
      {
        "duration": 170,
        "start_time": "2022-10-06T06:18:11.380Z"
      },
      {
        "duration": 17,
        "start_time": "2022-10-06T06:18:11.553Z"
      },
      {
        "duration": 32,
        "start_time": "2022-10-06T06:18:11.572Z"
      },
      {
        "duration": 90,
        "start_time": "2022-10-06T06:18:11.606Z"
      },
      {
        "duration": 280,
        "start_time": "2022-10-06T06:18:11.698Z"
      },
      {
        "duration": 287,
        "start_time": "2022-10-06T06:18:11.980Z"
      },
      {
        "duration": 278,
        "start_time": "2022-10-06T06:18:12.268Z"
      },
      {
        "duration": 27,
        "start_time": "2022-10-06T06:18:12.548Z"
      },
      {
        "duration": 18,
        "start_time": "2022-10-06T06:18:12.576Z"
      },
      {
        "duration": 483,
        "start_time": "2022-10-06T06:18:12.596Z"
      },
      {
        "duration": 20,
        "start_time": "2022-10-06T06:18:13.081Z"
      },
      {
        "duration": 868,
        "start_time": "2022-10-06T06:18:13.103Z"
      },
      {
        "duration": 160,
        "start_time": "2022-10-06T06:18:13.974Z"
      },
      {
        "duration": 123,
        "start_time": "2022-10-06T06:18:14.136Z"
      },
      {
        "duration": 3,
        "start_time": "2022-10-06T06:18:14.260Z"
      },
      {
        "duration": 11,
        "start_time": "2022-10-06T06:18:14.265Z"
      },
      {
        "duration": 372,
        "start_time": "2022-10-06T06:18:14.277Z"
      },
      {
        "duration": 0,
        "start_time": "2022-10-06T06:18:14.650Z"
      },
      {
        "duration": 0,
        "start_time": "2022-10-06T06:18:14.652Z"
      },
      {
        "duration": 0,
        "start_time": "2022-10-06T06:18:14.652Z"
      },
      {
        "duration": 0,
        "start_time": "2022-10-06T06:18:14.653Z"
      },
      {
        "duration": 0,
        "start_time": "2022-10-06T06:18:14.654Z"
      },
      {
        "duration": 0,
        "start_time": "2022-10-06T06:18:14.655Z"
      },
      {
        "duration": 0,
        "start_time": "2022-10-06T06:18:14.656Z"
      },
      {
        "duration": 0,
        "start_time": "2022-10-06T06:18:14.657Z"
      },
      {
        "duration": 0,
        "start_time": "2022-10-06T06:18:14.659Z"
      },
      {
        "duration": 0,
        "start_time": "2022-10-06T06:18:14.660Z"
      },
      {
        "duration": 0,
        "start_time": "2022-10-06T06:18:14.661Z"
      },
      {
        "duration": 0,
        "start_time": "2022-10-06T06:18:14.662Z"
      },
      {
        "duration": 0,
        "start_time": "2022-10-06T06:18:14.663Z"
      },
      {
        "duration": 0,
        "start_time": "2022-10-06T06:18:14.664Z"
      },
      {
        "duration": 0,
        "start_time": "2022-10-06T06:18:14.664Z"
      },
      {
        "duration": 0,
        "start_time": "2022-10-06T06:18:14.665Z"
      },
      {
        "duration": 0,
        "start_time": "2022-10-06T06:18:14.666Z"
      },
      {
        "duration": 0,
        "start_time": "2022-10-06T06:18:14.667Z"
      },
      {
        "duration": 0,
        "start_time": "2022-10-06T06:18:14.668Z"
      },
      {
        "duration": 1401,
        "start_time": "2022-10-06T06:23:43.943Z"
      },
      {
        "duration": 837,
        "start_time": "2022-10-06T06:23:45.345Z"
      },
      {
        "duration": 30,
        "start_time": "2022-10-06T06:23:46.183Z"
      },
      {
        "duration": 113,
        "start_time": "2022-10-06T06:23:46.215Z"
      },
      {
        "duration": 215,
        "start_time": "2022-10-06T06:23:46.334Z"
      },
      {
        "duration": 20,
        "start_time": "2022-10-06T06:23:46.551Z"
      },
      {
        "duration": 65,
        "start_time": "2022-10-06T06:23:46.573Z"
      },
      {
        "duration": 20,
        "start_time": "2022-10-06T06:23:46.639Z"
      },
      {
        "duration": 100,
        "start_time": "2022-10-06T06:23:46.661Z"
      },
      {
        "duration": 34,
        "start_time": "2022-10-06T06:23:46.763Z"
      },
      {
        "duration": 382,
        "start_time": "2022-10-06T06:23:46.798Z"
      },
      {
        "duration": 626,
        "start_time": "2022-10-06T06:23:47.234Z"
      },
      {
        "duration": 1747,
        "start_time": "2022-10-06T06:23:47.861Z"
      },
      {
        "duration": 31,
        "start_time": "2022-10-06T06:23:49.610Z"
      },
      {
        "duration": 52,
        "start_time": "2022-10-06T06:23:49.643Z"
      },
      {
        "duration": 183,
        "start_time": "2022-10-06T06:23:49.696Z"
      },
      {
        "duration": 16,
        "start_time": "2022-10-06T06:23:49.880Z"
      },
      {
        "duration": 17,
        "start_time": "2022-10-06T06:23:49.897Z"
      },
      {
        "duration": 92,
        "start_time": "2022-10-06T06:23:49.915Z"
      },
      {
        "duration": 259,
        "start_time": "2022-10-06T06:23:50.009Z"
      },
      {
        "duration": 282,
        "start_time": "2022-10-06T06:23:50.270Z"
      },
      {
        "duration": 292,
        "start_time": "2022-10-06T06:23:50.553Z"
      },
      {
        "duration": 28,
        "start_time": "2022-10-06T06:23:50.846Z"
      },
      {
        "duration": 16,
        "start_time": "2022-10-06T06:23:50.876Z"
      },
      {
        "duration": 503,
        "start_time": "2022-10-06T06:23:50.894Z"
      },
      {
        "duration": 20,
        "start_time": "2022-10-06T06:23:51.399Z"
      },
      {
        "duration": 1130,
        "start_time": "2022-10-06T06:23:51.420Z"
      },
      {
        "duration": 55,
        "start_time": "2022-10-06T06:23:52.554Z"
      },
      {
        "duration": 65,
        "start_time": "2022-10-06T06:23:52.612Z"
      },
      {
        "duration": 3,
        "start_time": "2022-10-06T06:23:52.679Z"
      },
      {
        "duration": 20,
        "start_time": "2022-10-06T06:23:52.684Z"
      },
      {
        "duration": 642,
        "start_time": "2022-10-06T06:23:52.705Z"
      },
      {
        "duration": 591,
        "start_time": "2022-10-06T06:23:53.349Z"
      },
      {
        "duration": 16,
        "start_time": "2022-10-06T06:23:53.942Z"
      },
      {
        "duration": 16137,
        "start_time": "2022-10-06T06:23:53.960Z"
      },
      {
        "duration": 15744,
        "start_time": "2022-10-06T06:24:10.099Z"
      },
      {
        "duration": 276,
        "start_time": "2022-10-06T06:24:25.844Z"
      },
      {
        "duration": 19415,
        "start_time": "2022-10-06T06:24:26.121Z"
      },
      {
        "duration": 94,
        "start_time": "2022-10-06T06:24:45.539Z"
      },
      {
        "duration": 3050,
        "start_time": "2022-10-06T06:24:45.634Z"
      },
      {
        "duration": 3061,
        "start_time": "2022-10-06T06:24:48.685Z"
      },
      {
        "duration": 15,
        "start_time": "2022-10-06T06:24:51.747Z"
      },
      {
        "duration": 3981,
        "start_time": "2022-10-06T06:24:51.763Z"
      },
      {
        "duration": 503,
        "start_time": "2022-10-06T06:24:55.746Z"
      },
      {
        "duration": 4089,
        "start_time": "2022-10-06T06:24:56.252Z"
      },
      {
        "duration": 499,
        "start_time": "2022-10-06T06:25:00.342Z"
      },
      {
        "duration": 10,
        "start_time": "2022-10-06T06:25:00.843Z"
      },
      {
        "duration": 21,
        "start_time": "2022-10-06T06:25:00.854Z"
      },
      {
        "duration": 757,
        "start_time": "2022-10-06T06:25:00.877Z"
      },
      {
        "duration": 0,
        "start_time": "2022-10-06T06:25:01.636Z"
      },
      {
        "duration": 0,
        "start_time": "2022-10-06T06:25:01.636Z"
      },
      {
        "duration": 11,
        "start_time": "2022-10-06T06:25:33.254Z"
      },
      {
        "duration": 19875,
        "start_time": "2022-10-06T06:25:44.760Z"
      },
      {
        "duration": 20593,
        "start_time": "2022-10-06T06:28:05.246Z"
      },
      {
        "duration": 19494,
        "start_time": "2022-10-06T06:28:25.841Z"
      },
      {
        "duration": 302,
        "start_time": "2022-10-06T06:28:45.337Z"
      },
      {
        "duration": 10,
        "start_time": "2022-10-06T06:33:18.215Z"
      },
      {
        "duration": 2,
        "start_time": "2022-10-06T06:37:10.611Z"
      },
      {
        "duration": 5899,
        "start_time": "2022-10-06T06:37:38.378Z"
      },
      {
        "duration": 384,
        "start_time": "2022-10-06T06:41:13.033Z"
      },
      {
        "duration": 405,
        "start_time": "2022-10-06T06:41:47.156Z"
      },
      {
        "duration": 368,
        "start_time": "2022-10-06T06:42:59.707Z"
      },
      {
        "duration": 1440,
        "start_time": "2022-10-06T06:48:45.947Z"
      },
      {
        "duration": 822,
        "start_time": "2022-10-06T06:48:47.389Z"
      },
      {
        "duration": 27,
        "start_time": "2022-10-06T06:48:48.213Z"
      },
      {
        "duration": 98,
        "start_time": "2022-10-06T06:48:48.242Z"
      },
      {
        "duration": 163,
        "start_time": "2022-10-06T06:48:48.341Z"
      },
      {
        "duration": 29,
        "start_time": "2022-10-06T06:48:48.506Z"
      },
      {
        "duration": 51,
        "start_time": "2022-10-06T06:48:48.537Z"
      },
      {
        "duration": 17,
        "start_time": "2022-10-06T06:48:48.590Z"
      },
      {
        "duration": 108,
        "start_time": "2022-10-06T06:48:48.608Z"
      },
      {
        "duration": 37,
        "start_time": "2022-10-06T06:48:48.719Z"
      },
      {
        "duration": 324,
        "start_time": "2022-10-06T06:48:48.757Z"
      },
      {
        "duration": 332,
        "start_time": "2022-10-06T06:48:49.083Z"
      },
      {
        "duration": 1334,
        "start_time": "2022-10-06T06:48:49.416Z"
      },
      {
        "duration": 23,
        "start_time": "2022-10-06T06:48:50.751Z"
      },
      {
        "duration": 48,
        "start_time": "2022-10-06T06:48:50.776Z"
      },
      {
        "duration": 155,
        "start_time": "2022-10-06T06:48:50.833Z"
      },
      {
        "duration": 59,
        "start_time": "2022-10-06T06:48:50.990Z"
      },
      {
        "duration": 19,
        "start_time": "2022-10-06T06:48:51.050Z"
      },
      {
        "duration": 105,
        "start_time": "2022-10-06T06:48:51.071Z"
      },
      {
        "duration": 298,
        "start_time": "2022-10-06T06:48:51.178Z"
      },
      {
        "duration": 282,
        "start_time": "2022-10-06T06:48:51.478Z"
      },
      {
        "duration": 274,
        "start_time": "2022-10-06T06:48:51.761Z"
      },
      {
        "duration": 28,
        "start_time": "2022-10-06T06:48:52.036Z"
      },
      {
        "duration": 17,
        "start_time": "2022-10-06T06:48:52.066Z"
      },
      {
        "duration": 490,
        "start_time": "2022-10-06T06:48:52.084Z"
      },
      {
        "duration": 24,
        "start_time": "2022-10-06T06:48:52.576Z"
      },
      {
        "duration": 1131,
        "start_time": "2022-10-06T06:48:52.602Z"
      },
      {
        "duration": 46,
        "start_time": "2022-10-06T06:48:53.737Z"
      },
      {
        "duration": 70,
        "start_time": "2022-10-06T06:48:53.784Z"
      },
      {
        "duration": 39776,
        "start_time": "2022-10-06T06:48:53.856Z"
      },
      {
        "duration": 3,
        "start_time": "2022-10-06T06:49:33.634Z"
      },
      {
        "duration": 6,
        "start_time": "2022-10-06T06:49:33.638Z"
      },
      {
        "duration": 619,
        "start_time": "2022-10-06T06:49:33.645Z"
      },
      {
        "duration": 590,
        "start_time": "2022-10-06T06:49:34.266Z"
      },
      {
        "duration": 15,
        "start_time": "2022-10-06T06:49:34.858Z"
      },
      {
        "duration": 281392,
        "start_time": "2022-10-06T06:49:34.874Z"
      },
      {
        "duration": 17467,
        "start_time": "2022-10-06T06:54:16.268Z"
      },
      {
        "duration": 17644,
        "start_time": "2022-10-06T06:54:33.737Z"
      },
      {
        "duration": 313,
        "start_time": "2022-10-06T06:54:51.382Z"
      },
      {
        "duration": 20138,
        "start_time": "2022-10-06T06:54:51.697Z"
      },
      {
        "duration": 19295,
        "start_time": "2022-10-06T06:55:11.839Z"
      },
      {
        "duration": 299,
        "start_time": "2022-10-06T06:55:31.136Z"
      },
      {
        "duration": 3,
        "start_time": "2022-10-06T06:55:31.438Z"
      },
      {
        "duration": 3067,
        "start_time": "2022-10-06T06:55:31.443Z"
      },
      {
        "duration": 2951,
        "start_time": "2022-10-06T06:55:34.511Z"
      },
      {
        "duration": 14,
        "start_time": "2022-10-06T06:55:37.464Z"
      },
      {
        "duration": 4366,
        "start_time": "2022-10-06T06:55:37.479Z"
      },
      {
        "duration": 502,
        "start_time": "2022-10-06T06:55:41.846Z"
      },
      {
        "duration": 4190,
        "start_time": "2022-10-06T06:55:42.349Z"
      },
      {
        "duration": 498,
        "start_time": "2022-10-06T06:55:46.541Z"
      },
      {
        "duration": 10,
        "start_time": "2022-10-06T06:55:47.040Z"
      },
      {
        "duration": 407,
        "start_time": "2022-10-06T06:55:47.051Z"
      },
      {
        "duration": 2,
        "start_time": "2022-10-06T06:55:47.459Z"
      },
      {
        "duration": 8,
        "start_time": "2022-10-06T06:55:47.462Z"
      },
      {
        "duration": 23,
        "start_time": "2022-10-06T06:55:47.471Z"
      },
      {
        "duration": 3078,
        "start_time": "2022-10-06T06:55:47.496Z"
      },
      {
        "duration": 6,
        "start_time": "2022-10-06T06:56:22.954Z"
      },
      {
        "duration": 5970,
        "start_time": "2022-10-06T06:56:24.853Z"
      }
    ],
    "kernelspec": {
      "display_name": "Python 3 (ipykernel)",
      "language": "python",
      "name": "python3"
    },
    "language_info": {
      "codemirror_mode": {
        "name": "ipython",
        "version": 3
      },
      "file_extension": ".py",
      "mimetype": "text/x-python",
      "name": "python",
      "nbconvert_exporter": "python",
      "pygments_lexer": "ipython3",
      "version": "3.9.12"
    },
    "toc": {
      "base_numbering": 1,
      "nav_menu": {},
      "number_sections": true,
      "sideBar": true,
      "skip_h1_title": true,
      "title_cell": "Table of Contents",
      "title_sidebar": "Contents",
      "toc_cell": false,
      "toc_position": {
        "height": "calc(100% - 180px)",
        "left": "10px",
        "top": "150px",
        "width": "398.211px"
      },
      "toc_section_display": true,
      "toc_window_display": true
    },
    "colab": {
      "provenance": []
    }
  },
  "nbformat": 4,
  "nbformat_minor": 0
}