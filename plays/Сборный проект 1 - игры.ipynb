{
  "cells": [
    {
      "cell_type": "markdown",
      "id": "a670a4c9",
      "metadata": {
        "id": "a670a4c9"
      },
      "source": [
        "<font size=\"5\"> Цель исследования - выявить определяющие популярность игр закономерности с целью планирования рекламных кампаний потенциально популярных продуктов."
      ]
    },
    {
      "cell_type": "markdown",
      "id": "9a82b539",
      "metadata": {
        "id": "9a82b539"
      },
      "source": [
        "# Общая информация"
      ]
    },
    {
      "cell_type": "markdown",
      "id": "b56ccd7c",
      "metadata": {
        "id": "b56ccd7c"
      },
      "source": [
        "Загрузим библиотеки"
      ]
    },
    {
      "cell_type": "code",
      "execution_count": null,
      "id": "a6e9f786",
      "metadata": {
        "id": "a6e9f786"
      },
      "outputs": [],
      "source": [
        "import pandas as pd\n",
        "import warnings\n",
        "warnings.filterwarnings(\"ignore\")\n",
        "import matplotlib.pyplot as plt\n",
        "import numpy as np\n",
        "import math\n",
        "from scipy import stats as st"
      ]
    },
    {
      "cell_type": "markdown",
      "id": "8b5aab1c",
      "metadata": {
        "id": "8b5aab1c"
      },
      "source": [
        "Просмотрим фаил с данными и изучим общую информацию."
      ]
    },
    {
      "cell_type": "code",
      "execution_count": null,
      "id": "d49beed3",
      "metadata": {
        "id": "d49beed3",
        "outputId": "38c495a6-7be0-4dfc-c93a-71b63a46c4d2"
      },
      "outputs": [
        {
          "data": {
            "text/html": [
              "<div>\n",
              "<style scoped>\n",
              "    .dataframe tbody tr th:only-of-type {\n",
              "        vertical-align: middle;\n",
              "    }\n",
              "\n",
              "    .dataframe tbody tr th {\n",
              "        vertical-align: top;\n",
              "    }\n",
              "\n",
              "    .dataframe thead th {\n",
              "        text-align: right;\n",
              "    }\n",
              "</style>\n",
              "<table border=\"1\" class=\"dataframe\">\n",
              "  <thead>\n",
              "    <tr style=\"text-align: right;\">\n",
              "      <th></th>\n",
              "      <th>Name</th>\n",
              "      <th>Platform</th>\n",
              "      <th>Year_of_Release</th>\n",
              "      <th>Genre</th>\n",
              "      <th>NA_sales</th>\n",
              "      <th>EU_sales</th>\n",
              "      <th>JP_sales</th>\n",
              "      <th>Other_sales</th>\n",
              "      <th>Critic_Score</th>\n",
              "      <th>User_Score</th>\n",
              "      <th>Rating</th>\n",
              "    </tr>\n",
              "  </thead>\n",
              "  <tbody>\n",
              "    <tr>\n",
              "      <th>0</th>\n",
              "      <td>Wii Sports</td>\n",
              "      <td>Wii</td>\n",
              "      <td>2006.0</td>\n",
              "      <td>Sports</td>\n",
              "      <td>41.36</td>\n",
              "      <td>28.96</td>\n",
              "      <td>3.77</td>\n",
              "      <td>8.45</td>\n",
              "      <td>76.0</td>\n",
              "      <td>8</td>\n",
              "      <td>E</td>\n",
              "    </tr>\n",
              "    <tr>\n",
              "      <th>1</th>\n",
              "      <td>Super Mario Bros.</td>\n",
              "      <td>NES</td>\n",
              "      <td>1985.0</td>\n",
              "      <td>Platform</td>\n",
              "      <td>29.08</td>\n",
              "      <td>3.58</td>\n",
              "      <td>6.81</td>\n",
              "      <td>0.77</td>\n",
              "      <td>NaN</td>\n",
              "      <td>NaN</td>\n",
              "      <td>NaN</td>\n",
              "    </tr>\n",
              "    <tr>\n",
              "      <th>2</th>\n",
              "      <td>Mario Kart Wii</td>\n",
              "      <td>Wii</td>\n",
              "      <td>2008.0</td>\n",
              "      <td>Racing</td>\n",
              "      <td>15.68</td>\n",
              "      <td>12.76</td>\n",
              "      <td>3.79</td>\n",
              "      <td>3.29</td>\n",
              "      <td>82.0</td>\n",
              "      <td>8.3</td>\n",
              "      <td>E</td>\n",
              "    </tr>\n",
              "    <tr>\n",
              "      <th>3</th>\n",
              "      <td>Wii Sports Resort</td>\n",
              "      <td>Wii</td>\n",
              "      <td>2009.0</td>\n",
              "      <td>Sports</td>\n",
              "      <td>15.61</td>\n",
              "      <td>10.93</td>\n",
              "      <td>3.28</td>\n",
              "      <td>2.95</td>\n",
              "      <td>80.0</td>\n",
              "      <td>8</td>\n",
              "      <td>E</td>\n",
              "    </tr>\n",
              "    <tr>\n",
              "      <th>4</th>\n",
              "      <td>Pokemon Red/Pokemon Blue</td>\n",
              "      <td>GB</td>\n",
              "      <td>1996.0</td>\n",
              "      <td>Role-Playing</td>\n",
              "      <td>11.27</td>\n",
              "      <td>8.89</td>\n",
              "      <td>10.22</td>\n",
              "      <td>1.00</td>\n",
              "      <td>NaN</td>\n",
              "      <td>NaN</td>\n",
              "      <td>NaN</td>\n",
              "    </tr>\n",
              "    <tr>\n",
              "      <th>...</th>\n",
              "      <td>...</td>\n",
              "      <td>...</td>\n",
              "      <td>...</td>\n",
              "      <td>...</td>\n",
              "      <td>...</td>\n",
              "      <td>...</td>\n",
              "      <td>...</td>\n",
              "      <td>...</td>\n",
              "      <td>...</td>\n",
              "      <td>...</td>\n",
              "      <td>...</td>\n",
              "    </tr>\n",
              "    <tr>\n",
              "      <th>16710</th>\n",
              "      <td>Samurai Warriors: Sanada Maru</td>\n",
              "      <td>PS3</td>\n",
              "      <td>2016.0</td>\n",
              "      <td>Action</td>\n",
              "      <td>0.00</td>\n",
              "      <td>0.00</td>\n",
              "      <td>0.01</td>\n",
              "      <td>0.00</td>\n",
              "      <td>NaN</td>\n",
              "      <td>NaN</td>\n",
              "      <td>NaN</td>\n",
              "    </tr>\n",
              "    <tr>\n",
              "      <th>16711</th>\n",
              "      <td>LMA Manager 2007</td>\n",
              "      <td>X360</td>\n",
              "      <td>2006.0</td>\n",
              "      <td>Sports</td>\n",
              "      <td>0.00</td>\n",
              "      <td>0.01</td>\n",
              "      <td>0.00</td>\n",
              "      <td>0.00</td>\n",
              "      <td>NaN</td>\n",
              "      <td>NaN</td>\n",
              "      <td>NaN</td>\n",
              "    </tr>\n",
              "    <tr>\n",
              "      <th>16712</th>\n",
              "      <td>Haitaka no Psychedelica</td>\n",
              "      <td>PSV</td>\n",
              "      <td>2016.0</td>\n",
              "      <td>Adventure</td>\n",
              "      <td>0.00</td>\n",
              "      <td>0.00</td>\n",
              "      <td>0.01</td>\n",
              "      <td>0.00</td>\n",
              "      <td>NaN</td>\n",
              "      <td>NaN</td>\n",
              "      <td>NaN</td>\n",
              "    </tr>\n",
              "    <tr>\n",
              "      <th>16713</th>\n",
              "      <td>Spirits &amp; Spells</td>\n",
              "      <td>GBA</td>\n",
              "      <td>2003.0</td>\n",
              "      <td>Platform</td>\n",
              "      <td>0.01</td>\n",
              "      <td>0.00</td>\n",
              "      <td>0.00</td>\n",
              "      <td>0.00</td>\n",
              "      <td>NaN</td>\n",
              "      <td>NaN</td>\n",
              "      <td>NaN</td>\n",
              "    </tr>\n",
              "    <tr>\n",
              "      <th>16714</th>\n",
              "      <td>Winning Post 8 2016</td>\n",
              "      <td>PSV</td>\n",
              "      <td>2016.0</td>\n",
              "      <td>Simulation</td>\n",
              "      <td>0.00</td>\n",
              "      <td>0.00</td>\n",
              "      <td>0.01</td>\n",
              "      <td>0.00</td>\n",
              "      <td>NaN</td>\n",
              "      <td>NaN</td>\n",
              "      <td>NaN</td>\n",
              "    </tr>\n",
              "  </tbody>\n",
              "</table>\n",
              "<p>16715 rows × 11 columns</p>\n",
              "</div>"
            ],
            "text/plain": [
              "                                Name Platform  Year_of_Release         Genre  \\\n",
              "0                         Wii Sports      Wii           2006.0        Sports   \n",
              "1                  Super Mario Bros.      NES           1985.0      Platform   \n",
              "2                     Mario Kart Wii      Wii           2008.0        Racing   \n",
              "3                  Wii Sports Resort      Wii           2009.0        Sports   \n",
              "4           Pokemon Red/Pokemon Blue       GB           1996.0  Role-Playing   \n",
              "...                              ...      ...              ...           ...   \n",
              "16710  Samurai Warriors: Sanada Maru      PS3           2016.0        Action   \n",
              "16711               LMA Manager 2007     X360           2006.0        Sports   \n",
              "16712        Haitaka no Psychedelica      PSV           2016.0     Adventure   \n",
              "16713               Spirits & Spells      GBA           2003.0      Platform   \n",
              "16714            Winning Post 8 2016      PSV           2016.0    Simulation   \n",
              "\n",
              "       NA_sales  EU_sales  JP_sales  Other_sales  Critic_Score User_Score  \\\n",
              "0         41.36     28.96      3.77         8.45          76.0          8   \n",
              "1         29.08      3.58      6.81         0.77           NaN        NaN   \n",
              "2         15.68     12.76      3.79         3.29          82.0        8.3   \n",
              "3         15.61     10.93      3.28         2.95          80.0          8   \n",
              "4         11.27      8.89     10.22         1.00           NaN        NaN   \n",
              "...         ...       ...       ...          ...           ...        ...   \n",
              "16710      0.00      0.00      0.01         0.00           NaN        NaN   \n",
              "16711      0.00      0.01      0.00         0.00           NaN        NaN   \n",
              "16712      0.00      0.00      0.01         0.00           NaN        NaN   \n",
              "16713      0.01      0.00      0.00         0.00           NaN        NaN   \n",
              "16714      0.00      0.00      0.01         0.00           NaN        NaN   \n",
              "\n",
              "      Rating  \n",
              "0          E  \n",
              "1        NaN  \n",
              "2          E  \n",
              "3          E  \n",
              "4        NaN  \n",
              "...      ...  \n",
              "16710    NaN  \n",
              "16711    NaN  \n",
              "16712    NaN  \n",
              "16713    NaN  \n",
              "16714    NaN  \n",
              "\n",
              "[16715 rows x 11 columns]"
            ]
          },
          "execution_count": 2,
          "metadata": {},
          "output_type": "execute_result"
        }
      ],
      "source": [
        "try:\n",
        "    df = pd.read_csv('games.csv')\n",
        "except:\n",
        "    df = pd.read_csv('/datasets/games.csv')\n",
        "df"
      ]
    },
    {
      "cell_type": "markdown",
      "id": "614a1d75",
      "metadata": {
        "id": "614a1d75"
      },
      "source": [
        "Итак, всего 11 колонок. Сразу видно множество пропусков. Кроме того достаточно странный формат года релиза игры."
      ]
    },
    {
      "cell_type": "code",
      "execution_count": null,
      "id": "14185ea9",
      "metadata": {
        "id": "14185ea9",
        "outputId": "d1e6d8fa-da36-4342-c6d1-b8e23eef6563"
      },
      "outputs": [
        {
          "data": {
            "text/plain": [
              "Name                  2\n",
              "Platform              0\n",
              "Year_of_Release     269\n",
              "Genre                 2\n",
              "NA_sales              0\n",
              "EU_sales              0\n",
              "JP_sales              0\n",
              "Other_sales           0\n",
              "Critic_Score       8578\n",
              "User_Score         6701\n",
              "Rating             6766\n",
              "dtype: int64"
            ]
          },
          "execution_count": 3,
          "metadata": {},
          "output_type": "execute_result"
        }
      ],
      "source": [
        "df.isna().sum()"
      ]
    },
    {
      "cell_type": "markdown",
      "id": "f3b5d054",
      "metadata": {
        "id": "f3b5d054"
      },
      "source": [
        "Более половины игр не имеют оценки критиков. Так же множество пропусков в колонке \"оценка пользователей\" и \"возрастная категория\"."
      ]
    },
    {
      "cell_type": "markdown",
      "id": "1980f836",
      "metadata": {
        "id": "1980f836"
      },
      "source": [
        "# Подготовка данных"
      ]
    },
    {
      "cell_type": "markdown",
      "id": "8fb5d74d",
      "metadata": {
        "id": "8fb5d74d"
      },
      "source": [
        "## Столбцы"
      ]
    },
    {
      "cell_type": "markdown",
      "id": "bea0bb56",
      "metadata": {
        "id": "bea0bb56"
      },
      "source": [
        "Приведем все буквы в названиях столбцов к нижнему ругистру."
      ]
    },
    {
      "cell_type": "code",
      "execution_count": null,
      "id": "c488dbd9",
      "metadata": {
        "id": "c488dbd9",
        "outputId": "1632e859-88f0-4fc7-8527-fd3ae929560c"
      },
      "outputs": [
        {
          "data": {
            "text/html": [
              "<div>\n",
              "<style scoped>\n",
              "    .dataframe tbody tr th:only-of-type {\n",
              "        vertical-align: middle;\n",
              "    }\n",
              "\n",
              "    .dataframe tbody tr th {\n",
              "        vertical-align: top;\n",
              "    }\n",
              "\n",
              "    .dataframe thead th {\n",
              "        text-align: right;\n",
              "    }\n",
              "</style>\n",
              "<table border=\"1\" class=\"dataframe\">\n",
              "  <thead>\n",
              "    <tr style=\"text-align: right;\">\n",
              "      <th></th>\n",
              "      <th>name</th>\n",
              "      <th>platform</th>\n",
              "      <th>year_of_release</th>\n",
              "      <th>genre</th>\n",
              "      <th>na_sales</th>\n",
              "      <th>eu_sales</th>\n",
              "      <th>jp_sales</th>\n",
              "      <th>other_sales</th>\n",
              "      <th>critic_score</th>\n",
              "      <th>user_score</th>\n",
              "      <th>rating</th>\n",
              "    </tr>\n",
              "  </thead>\n",
              "  <tbody>\n",
              "    <tr>\n",
              "      <th>0</th>\n",
              "      <td>Wii Sports</td>\n",
              "      <td>Wii</td>\n",
              "      <td>2006.0</td>\n",
              "      <td>Sports</td>\n",
              "      <td>41.36</td>\n",
              "      <td>28.96</td>\n",
              "      <td>3.77</td>\n",
              "      <td>8.45</td>\n",
              "      <td>76.0</td>\n",
              "      <td>8</td>\n",
              "      <td>E</td>\n",
              "    </tr>\n",
              "    <tr>\n",
              "      <th>1</th>\n",
              "      <td>Super Mario Bros.</td>\n",
              "      <td>NES</td>\n",
              "      <td>1985.0</td>\n",
              "      <td>Platform</td>\n",
              "      <td>29.08</td>\n",
              "      <td>3.58</td>\n",
              "      <td>6.81</td>\n",
              "      <td>0.77</td>\n",
              "      <td>NaN</td>\n",
              "      <td>NaN</td>\n",
              "      <td>NaN</td>\n",
              "    </tr>\n",
              "    <tr>\n",
              "      <th>2</th>\n",
              "      <td>Mario Kart Wii</td>\n",
              "      <td>Wii</td>\n",
              "      <td>2008.0</td>\n",
              "      <td>Racing</td>\n",
              "      <td>15.68</td>\n",
              "      <td>12.76</td>\n",
              "      <td>3.79</td>\n",
              "      <td>3.29</td>\n",
              "      <td>82.0</td>\n",
              "      <td>8.3</td>\n",
              "      <td>E</td>\n",
              "    </tr>\n",
              "    <tr>\n",
              "      <th>3</th>\n",
              "      <td>Wii Sports Resort</td>\n",
              "      <td>Wii</td>\n",
              "      <td>2009.0</td>\n",
              "      <td>Sports</td>\n",
              "      <td>15.61</td>\n",
              "      <td>10.93</td>\n",
              "      <td>3.28</td>\n",
              "      <td>2.95</td>\n",
              "      <td>80.0</td>\n",
              "      <td>8</td>\n",
              "      <td>E</td>\n",
              "    </tr>\n",
              "    <tr>\n",
              "      <th>4</th>\n",
              "      <td>Pokemon Red/Pokemon Blue</td>\n",
              "      <td>GB</td>\n",
              "      <td>1996.0</td>\n",
              "      <td>Role-Playing</td>\n",
              "      <td>11.27</td>\n",
              "      <td>8.89</td>\n",
              "      <td>10.22</td>\n",
              "      <td>1.00</td>\n",
              "      <td>NaN</td>\n",
              "      <td>NaN</td>\n",
              "      <td>NaN</td>\n",
              "    </tr>\n",
              "    <tr>\n",
              "      <th>...</th>\n",
              "      <td>...</td>\n",
              "      <td>...</td>\n",
              "      <td>...</td>\n",
              "      <td>...</td>\n",
              "      <td>...</td>\n",
              "      <td>...</td>\n",
              "      <td>...</td>\n",
              "      <td>...</td>\n",
              "      <td>...</td>\n",
              "      <td>...</td>\n",
              "      <td>...</td>\n",
              "    </tr>\n",
              "    <tr>\n",
              "      <th>16710</th>\n",
              "      <td>Samurai Warriors: Sanada Maru</td>\n",
              "      <td>PS3</td>\n",
              "      <td>2016.0</td>\n",
              "      <td>Action</td>\n",
              "      <td>0.00</td>\n",
              "      <td>0.00</td>\n",
              "      <td>0.01</td>\n",
              "      <td>0.00</td>\n",
              "      <td>NaN</td>\n",
              "      <td>NaN</td>\n",
              "      <td>NaN</td>\n",
              "    </tr>\n",
              "    <tr>\n",
              "      <th>16711</th>\n",
              "      <td>LMA Manager 2007</td>\n",
              "      <td>X360</td>\n",
              "      <td>2006.0</td>\n",
              "      <td>Sports</td>\n",
              "      <td>0.00</td>\n",
              "      <td>0.01</td>\n",
              "      <td>0.00</td>\n",
              "      <td>0.00</td>\n",
              "      <td>NaN</td>\n",
              "      <td>NaN</td>\n",
              "      <td>NaN</td>\n",
              "    </tr>\n",
              "    <tr>\n",
              "      <th>16712</th>\n",
              "      <td>Haitaka no Psychedelica</td>\n",
              "      <td>PSV</td>\n",
              "      <td>2016.0</td>\n",
              "      <td>Adventure</td>\n",
              "      <td>0.00</td>\n",
              "      <td>0.00</td>\n",
              "      <td>0.01</td>\n",
              "      <td>0.00</td>\n",
              "      <td>NaN</td>\n",
              "      <td>NaN</td>\n",
              "      <td>NaN</td>\n",
              "    </tr>\n",
              "    <tr>\n",
              "      <th>16713</th>\n",
              "      <td>Spirits &amp; Spells</td>\n",
              "      <td>GBA</td>\n",
              "      <td>2003.0</td>\n",
              "      <td>Platform</td>\n",
              "      <td>0.01</td>\n",
              "      <td>0.00</td>\n",
              "      <td>0.00</td>\n",
              "      <td>0.00</td>\n",
              "      <td>NaN</td>\n",
              "      <td>NaN</td>\n",
              "      <td>NaN</td>\n",
              "    </tr>\n",
              "    <tr>\n",
              "      <th>16714</th>\n",
              "      <td>Winning Post 8 2016</td>\n",
              "      <td>PSV</td>\n",
              "      <td>2016.0</td>\n",
              "      <td>Simulation</td>\n",
              "      <td>0.00</td>\n",
              "      <td>0.00</td>\n",
              "      <td>0.01</td>\n",
              "      <td>0.00</td>\n",
              "      <td>NaN</td>\n",
              "      <td>NaN</td>\n",
              "      <td>NaN</td>\n",
              "    </tr>\n",
              "  </tbody>\n",
              "</table>\n",
              "<p>16715 rows × 11 columns</p>\n",
              "</div>"
            ],
            "text/plain": [
              "                                name platform  year_of_release         genre  \\\n",
              "0                         Wii Sports      Wii           2006.0        Sports   \n",
              "1                  Super Mario Bros.      NES           1985.0      Platform   \n",
              "2                     Mario Kart Wii      Wii           2008.0        Racing   \n",
              "3                  Wii Sports Resort      Wii           2009.0        Sports   \n",
              "4           Pokemon Red/Pokemon Blue       GB           1996.0  Role-Playing   \n",
              "...                              ...      ...              ...           ...   \n",
              "16710  Samurai Warriors: Sanada Maru      PS3           2016.0        Action   \n",
              "16711               LMA Manager 2007     X360           2006.0        Sports   \n",
              "16712        Haitaka no Psychedelica      PSV           2016.0     Adventure   \n",
              "16713               Spirits & Spells      GBA           2003.0      Platform   \n",
              "16714            Winning Post 8 2016      PSV           2016.0    Simulation   \n",
              "\n",
              "       na_sales  eu_sales  jp_sales  other_sales  critic_score user_score  \\\n",
              "0         41.36     28.96      3.77         8.45          76.0          8   \n",
              "1         29.08      3.58      6.81         0.77           NaN        NaN   \n",
              "2         15.68     12.76      3.79         3.29          82.0        8.3   \n",
              "3         15.61     10.93      3.28         2.95          80.0          8   \n",
              "4         11.27      8.89     10.22         1.00           NaN        NaN   \n",
              "...         ...       ...       ...          ...           ...        ...   \n",
              "16710      0.00      0.00      0.01         0.00           NaN        NaN   \n",
              "16711      0.00      0.01      0.00         0.00           NaN        NaN   \n",
              "16712      0.00      0.00      0.01         0.00           NaN        NaN   \n",
              "16713      0.01      0.00      0.00         0.00           NaN        NaN   \n",
              "16714      0.00      0.00      0.01         0.00           NaN        NaN   \n",
              "\n",
              "      rating  \n",
              "0          E  \n",
              "1        NaN  \n",
              "2          E  \n",
              "3          E  \n",
              "4        NaN  \n",
              "...      ...  \n",
              "16710    NaN  \n",
              "16711    NaN  \n",
              "16712    NaN  \n",
              "16713    NaN  \n",
              "16714    NaN  \n",
              "\n",
              "[16715 rows x 11 columns]"
            ]
          },
          "execution_count": 4,
          "metadata": {},
          "output_type": "execute_result"
        }
      ],
      "source": [
        "df.columns = df.columns.str.lower()\n",
        "df"
      ]
    },
    {
      "cell_type": "markdown",
      "id": "cb2b3a58",
      "metadata": {
        "id": "cb2b3a58"
      },
      "source": [
        "## Типы данных"
      ]
    },
    {
      "cell_type": "markdown",
      "id": "53d48311",
      "metadata": {
        "id": "53d48311"
      },
      "source": [
        "Годы выпуска игр указанны в формате Float. Не очень удобно, однако тот факт что в этой колонке 269 пропусков, врядли получится перевести данные в формат int. Оставим пока как есть."
      ]
    },
    {
      "cell_type": "markdown",
      "id": "b283bfaf",
      "metadata": {
        "id": "b283bfaf"
      },
      "source": [
        "Так же в колонках продаж использованы дробные числа. Учитывая факт что данные казаны в миллионах, мы можем перевести данные в тысячи тем самым переведя все числа в формат int."
      ]
    },
    {
      "cell_type": "code",
      "execution_count": null,
      "id": "c8845610",
      "metadata": {
        "id": "c8845610",
        "outputId": "d6bd8560-431e-468b-868b-685b902b60df"
      },
      "outputs": [
        {
          "data": {
            "text/html": [
              "<div>\n",
              "<style scoped>\n",
              "    .dataframe tbody tr th:only-of-type {\n",
              "        vertical-align: middle;\n",
              "    }\n",
              "\n",
              "    .dataframe tbody tr th {\n",
              "        vertical-align: top;\n",
              "    }\n",
              "\n",
              "    .dataframe thead th {\n",
              "        text-align: right;\n",
              "    }\n",
              "</style>\n",
              "<table border=\"1\" class=\"dataframe\">\n",
              "  <thead>\n",
              "    <tr style=\"text-align: right;\">\n",
              "      <th></th>\n",
              "      <th>name</th>\n",
              "      <th>platform</th>\n",
              "      <th>year_of_release</th>\n",
              "      <th>genre</th>\n",
              "      <th>na_sales</th>\n",
              "      <th>eu_sales</th>\n",
              "      <th>jp_sales</th>\n",
              "      <th>other_sales</th>\n",
              "      <th>critic_score</th>\n",
              "      <th>user_score</th>\n",
              "      <th>rating</th>\n",
              "    </tr>\n",
              "  </thead>\n",
              "  <tbody>\n",
              "    <tr>\n",
              "      <th>0</th>\n",
              "      <td>Wii Sports</td>\n",
              "      <td>Wii</td>\n",
              "      <td>2006.0</td>\n",
              "      <td>Sports</td>\n",
              "      <td>41360</td>\n",
              "      <td>28.96</td>\n",
              "      <td>3.77</td>\n",
              "      <td>8.45</td>\n",
              "      <td>76.0</td>\n",
              "      <td>8</td>\n",
              "      <td>E</td>\n",
              "    </tr>\n",
              "    <tr>\n",
              "      <th>1</th>\n",
              "      <td>Super Mario Bros.</td>\n",
              "      <td>NES</td>\n",
              "      <td>1985.0</td>\n",
              "      <td>Platform</td>\n",
              "      <td>29080</td>\n",
              "      <td>3.58</td>\n",
              "      <td>6.81</td>\n",
              "      <td>0.77</td>\n",
              "      <td>NaN</td>\n",
              "      <td>NaN</td>\n",
              "      <td>NaN</td>\n",
              "    </tr>\n",
              "    <tr>\n",
              "      <th>2</th>\n",
              "      <td>Mario Kart Wii</td>\n",
              "      <td>Wii</td>\n",
              "      <td>2008.0</td>\n",
              "      <td>Racing</td>\n",
              "      <td>15680</td>\n",
              "      <td>12.76</td>\n",
              "      <td>3.79</td>\n",
              "      <td>3.29</td>\n",
              "      <td>82.0</td>\n",
              "      <td>8.3</td>\n",
              "      <td>E</td>\n",
              "    </tr>\n",
              "    <tr>\n",
              "      <th>3</th>\n",
              "      <td>Wii Sports Resort</td>\n",
              "      <td>Wii</td>\n",
              "      <td>2009.0</td>\n",
              "      <td>Sports</td>\n",
              "      <td>15610</td>\n",
              "      <td>10.93</td>\n",
              "      <td>3.28</td>\n",
              "      <td>2.95</td>\n",
              "      <td>80.0</td>\n",
              "      <td>8</td>\n",
              "      <td>E</td>\n",
              "    </tr>\n",
              "    <tr>\n",
              "      <th>4</th>\n",
              "      <td>Pokemon Red/Pokemon Blue</td>\n",
              "      <td>GB</td>\n",
              "      <td>1996.0</td>\n",
              "      <td>Role-Playing</td>\n",
              "      <td>11270</td>\n",
              "      <td>8.89</td>\n",
              "      <td>10.22</td>\n",
              "      <td>1.00</td>\n",
              "      <td>NaN</td>\n",
              "      <td>NaN</td>\n",
              "      <td>NaN</td>\n",
              "    </tr>\n",
              "    <tr>\n",
              "      <th>...</th>\n",
              "      <td>...</td>\n",
              "      <td>...</td>\n",
              "      <td>...</td>\n",
              "      <td>...</td>\n",
              "      <td>...</td>\n",
              "      <td>...</td>\n",
              "      <td>...</td>\n",
              "      <td>...</td>\n",
              "      <td>...</td>\n",
              "      <td>...</td>\n",
              "      <td>...</td>\n",
              "    </tr>\n",
              "    <tr>\n",
              "      <th>16710</th>\n",
              "      <td>Samurai Warriors: Sanada Maru</td>\n",
              "      <td>PS3</td>\n",
              "      <td>2016.0</td>\n",
              "      <td>Action</td>\n",
              "      <td>0</td>\n",
              "      <td>0.00</td>\n",
              "      <td>0.01</td>\n",
              "      <td>0.00</td>\n",
              "      <td>NaN</td>\n",
              "      <td>NaN</td>\n",
              "      <td>NaN</td>\n",
              "    </tr>\n",
              "    <tr>\n",
              "      <th>16711</th>\n",
              "      <td>LMA Manager 2007</td>\n",
              "      <td>X360</td>\n",
              "      <td>2006.0</td>\n",
              "      <td>Sports</td>\n",
              "      <td>0</td>\n",
              "      <td>0.01</td>\n",
              "      <td>0.00</td>\n",
              "      <td>0.00</td>\n",
              "      <td>NaN</td>\n",
              "      <td>NaN</td>\n",
              "      <td>NaN</td>\n",
              "    </tr>\n",
              "    <tr>\n",
              "      <th>16712</th>\n",
              "      <td>Haitaka no Psychedelica</td>\n",
              "      <td>PSV</td>\n",
              "      <td>2016.0</td>\n",
              "      <td>Adventure</td>\n",
              "      <td>0</td>\n",
              "      <td>0.00</td>\n",
              "      <td>0.01</td>\n",
              "      <td>0.00</td>\n",
              "      <td>NaN</td>\n",
              "      <td>NaN</td>\n",
              "      <td>NaN</td>\n",
              "    </tr>\n",
              "    <tr>\n",
              "      <th>16713</th>\n",
              "      <td>Spirits &amp; Spells</td>\n",
              "      <td>GBA</td>\n",
              "      <td>2003.0</td>\n",
              "      <td>Platform</td>\n",
              "      <td>10</td>\n",
              "      <td>0.00</td>\n",
              "      <td>0.00</td>\n",
              "      <td>0.00</td>\n",
              "      <td>NaN</td>\n",
              "      <td>NaN</td>\n",
              "      <td>NaN</td>\n",
              "    </tr>\n",
              "    <tr>\n",
              "      <th>16714</th>\n",
              "      <td>Winning Post 8 2016</td>\n",
              "      <td>PSV</td>\n",
              "      <td>2016.0</td>\n",
              "      <td>Simulation</td>\n",
              "      <td>0</td>\n",
              "      <td>0.00</td>\n",
              "      <td>0.01</td>\n",
              "      <td>0.00</td>\n",
              "      <td>NaN</td>\n",
              "      <td>NaN</td>\n",
              "      <td>NaN</td>\n",
              "    </tr>\n",
              "  </tbody>\n",
              "</table>\n",
              "<p>16715 rows × 11 columns</p>\n",
              "</div>"
            ],
            "text/plain": [
              "                                name platform  year_of_release         genre  \\\n",
              "0                         Wii Sports      Wii           2006.0        Sports   \n",
              "1                  Super Mario Bros.      NES           1985.0      Platform   \n",
              "2                     Mario Kart Wii      Wii           2008.0        Racing   \n",
              "3                  Wii Sports Resort      Wii           2009.0        Sports   \n",
              "4           Pokemon Red/Pokemon Blue       GB           1996.0  Role-Playing   \n",
              "...                              ...      ...              ...           ...   \n",
              "16710  Samurai Warriors: Sanada Maru      PS3           2016.0        Action   \n",
              "16711               LMA Manager 2007     X360           2006.0        Sports   \n",
              "16712        Haitaka no Psychedelica      PSV           2016.0     Adventure   \n",
              "16713               Spirits & Spells      GBA           2003.0      Platform   \n",
              "16714            Winning Post 8 2016      PSV           2016.0    Simulation   \n",
              "\n",
              "       na_sales  eu_sales  jp_sales  other_sales  critic_score user_score  \\\n",
              "0         41360     28.96      3.77         8.45          76.0          8   \n",
              "1         29080      3.58      6.81         0.77           NaN        NaN   \n",
              "2         15680     12.76      3.79         3.29          82.0        8.3   \n",
              "3         15610     10.93      3.28         2.95          80.0          8   \n",
              "4         11270      8.89     10.22         1.00           NaN        NaN   \n",
              "...         ...       ...       ...          ...           ...        ...   \n",
              "16710         0      0.00      0.01         0.00           NaN        NaN   \n",
              "16711         0      0.01      0.00         0.00           NaN        NaN   \n",
              "16712         0      0.00      0.01         0.00           NaN        NaN   \n",
              "16713        10      0.00      0.00         0.00           NaN        NaN   \n",
              "16714         0      0.00      0.01         0.00           NaN        NaN   \n",
              "\n",
              "      rating  \n",
              "0          E  \n",
              "1        NaN  \n",
              "2          E  \n",
              "3          E  \n",
              "4        NaN  \n",
              "...      ...  \n",
              "16710    NaN  \n",
              "16711    NaN  \n",
              "16712    NaN  \n",
              "16713    NaN  \n",
              "16714    NaN  \n",
              "\n",
              "[16715 rows x 11 columns]"
            ]
          },
          "execution_count": 5,
          "metadata": {},
          "output_type": "execute_result"
        }
      ],
      "source": [
        "df['na_sales'] = (df['na_sales'] * 1000).astype(int)\n",
        "df"
      ]
    },
    {
      "cell_type": "code",
      "execution_count": null,
      "id": "0ec9568b",
      "metadata": {
        "id": "0ec9568b",
        "outputId": "463070e8-957d-4341-e3a7-b5b1aa7ac6fc"
      },
      "outputs": [
        {
          "data": {
            "text/html": [
              "<div>\n",
              "<style scoped>\n",
              "    .dataframe tbody tr th:only-of-type {\n",
              "        vertical-align: middle;\n",
              "    }\n",
              "\n",
              "    .dataframe tbody tr th {\n",
              "        vertical-align: top;\n",
              "    }\n",
              "\n",
              "    .dataframe thead th {\n",
              "        text-align: right;\n",
              "    }\n",
              "</style>\n",
              "<table border=\"1\" class=\"dataframe\">\n",
              "  <thead>\n",
              "    <tr style=\"text-align: right;\">\n",
              "      <th></th>\n",
              "      <th>name</th>\n",
              "      <th>platform</th>\n",
              "      <th>year_of_release</th>\n",
              "      <th>genre</th>\n",
              "      <th>na_sales</th>\n",
              "      <th>eu_sales</th>\n",
              "      <th>jp_sales</th>\n",
              "      <th>other_sales</th>\n",
              "      <th>critic_score</th>\n",
              "      <th>user_score</th>\n",
              "      <th>rating</th>\n",
              "    </tr>\n",
              "  </thead>\n",
              "  <tbody>\n",
              "    <tr>\n",
              "      <th>0</th>\n",
              "      <td>Wii Sports</td>\n",
              "      <td>Wii</td>\n",
              "      <td>2006.0</td>\n",
              "      <td>Sports</td>\n",
              "      <td>41360</td>\n",
              "      <td>28960</td>\n",
              "      <td>3770</td>\n",
              "      <td>8450</td>\n",
              "      <td>76.0</td>\n",
              "      <td>8</td>\n",
              "      <td>E</td>\n",
              "    </tr>\n",
              "    <tr>\n",
              "      <th>1</th>\n",
              "      <td>Super Mario Bros.</td>\n",
              "      <td>NES</td>\n",
              "      <td>1985.0</td>\n",
              "      <td>Platform</td>\n",
              "      <td>29080</td>\n",
              "      <td>3580</td>\n",
              "      <td>6810</td>\n",
              "      <td>770</td>\n",
              "      <td>NaN</td>\n",
              "      <td>NaN</td>\n",
              "      <td>NaN</td>\n",
              "    </tr>\n",
              "    <tr>\n",
              "      <th>2</th>\n",
              "      <td>Mario Kart Wii</td>\n",
              "      <td>Wii</td>\n",
              "      <td>2008.0</td>\n",
              "      <td>Racing</td>\n",
              "      <td>15680</td>\n",
              "      <td>12760</td>\n",
              "      <td>3790</td>\n",
              "      <td>3290</td>\n",
              "      <td>82.0</td>\n",
              "      <td>8.3</td>\n",
              "      <td>E</td>\n",
              "    </tr>\n",
              "    <tr>\n",
              "      <th>3</th>\n",
              "      <td>Wii Sports Resort</td>\n",
              "      <td>Wii</td>\n",
              "      <td>2009.0</td>\n",
              "      <td>Sports</td>\n",
              "      <td>15610</td>\n",
              "      <td>10930</td>\n",
              "      <td>3280</td>\n",
              "      <td>2950</td>\n",
              "      <td>80.0</td>\n",
              "      <td>8</td>\n",
              "      <td>E</td>\n",
              "    </tr>\n",
              "    <tr>\n",
              "      <th>4</th>\n",
              "      <td>Pokemon Red/Pokemon Blue</td>\n",
              "      <td>GB</td>\n",
              "      <td>1996.0</td>\n",
              "      <td>Role-Playing</td>\n",
              "      <td>11270</td>\n",
              "      <td>8890</td>\n",
              "      <td>10220</td>\n",
              "      <td>1000</td>\n",
              "      <td>NaN</td>\n",
              "      <td>NaN</td>\n",
              "      <td>NaN</td>\n",
              "    </tr>\n",
              "    <tr>\n",
              "      <th>...</th>\n",
              "      <td>...</td>\n",
              "      <td>...</td>\n",
              "      <td>...</td>\n",
              "      <td>...</td>\n",
              "      <td>...</td>\n",
              "      <td>...</td>\n",
              "      <td>...</td>\n",
              "      <td>...</td>\n",
              "      <td>...</td>\n",
              "      <td>...</td>\n",
              "      <td>...</td>\n",
              "    </tr>\n",
              "    <tr>\n",
              "      <th>16710</th>\n",
              "      <td>Samurai Warriors: Sanada Maru</td>\n",
              "      <td>PS3</td>\n",
              "      <td>2016.0</td>\n",
              "      <td>Action</td>\n",
              "      <td>0</td>\n",
              "      <td>0</td>\n",
              "      <td>10</td>\n",
              "      <td>0</td>\n",
              "      <td>NaN</td>\n",
              "      <td>NaN</td>\n",
              "      <td>NaN</td>\n",
              "    </tr>\n",
              "    <tr>\n",
              "      <th>16711</th>\n",
              "      <td>LMA Manager 2007</td>\n",
              "      <td>X360</td>\n",
              "      <td>2006.0</td>\n",
              "      <td>Sports</td>\n",
              "      <td>0</td>\n",
              "      <td>10</td>\n",
              "      <td>0</td>\n",
              "      <td>0</td>\n",
              "      <td>NaN</td>\n",
              "      <td>NaN</td>\n",
              "      <td>NaN</td>\n",
              "    </tr>\n",
              "    <tr>\n",
              "      <th>16712</th>\n",
              "      <td>Haitaka no Psychedelica</td>\n",
              "      <td>PSV</td>\n",
              "      <td>2016.0</td>\n",
              "      <td>Adventure</td>\n",
              "      <td>0</td>\n",
              "      <td>0</td>\n",
              "      <td>10</td>\n",
              "      <td>0</td>\n",
              "      <td>NaN</td>\n",
              "      <td>NaN</td>\n",
              "      <td>NaN</td>\n",
              "    </tr>\n",
              "    <tr>\n",
              "      <th>16713</th>\n",
              "      <td>Spirits &amp; Spells</td>\n",
              "      <td>GBA</td>\n",
              "      <td>2003.0</td>\n",
              "      <td>Platform</td>\n",
              "      <td>10</td>\n",
              "      <td>0</td>\n",
              "      <td>0</td>\n",
              "      <td>0</td>\n",
              "      <td>NaN</td>\n",
              "      <td>NaN</td>\n",
              "      <td>NaN</td>\n",
              "    </tr>\n",
              "    <tr>\n",
              "      <th>16714</th>\n",
              "      <td>Winning Post 8 2016</td>\n",
              "      <td>PSV</td>\n",
              "      <td>2016.0</td>\n",
              "      <td>Simulation</td>\n",
              "      <td>0</td>\n",
              "      <td>0</td>\n",
              "      <td>10</td>\n",
              "      <td>0</td>\n",
              "      <td>NaN</td>\n",
              "      <td>NaN</td>\n",
              "      <td>NaN</td>\n",
              "    </tr>\n",
              "  </tbody>\n",
              "</table>\n",
              "<p>16715 rows × 11 columns</p>\n",
              "</div>"
            ],
            "text/plain": [
              "                                name platform  year_of_release         genre  \\\n",
              "0                         Wii Sports      Wii           2006.0        Sports   \n",
              "1                  Super Mario Bros.      NES           1985.0      Platform   \n",
              "2                     Mario Kart Wii      Wii           2008.0        Racing   \n",
              "3                  Wii Sports Resort      Wii           2009.0        Sports   \n",
              "4           Pokemon Red/Pokemon Blue       GB           1996.0  Role-Playing   \n",
              "...                              ...      ...              ...           ...   \n",
              "16710  Samurai Warriors: Sanada Maru      PS3           2016.0        Action   \n",
              "16711               LMA Manager 2007     X360           2006.0        Sports   \n",
              "16712        Haitaka no Psychedelica      PSV           2016.0     Adventure   \n",
              "16713               Spirits & Spells      GBA           2003.0      Platform   \n",
              "16714            Winning Post 8 2016      PSV           2016.0    Simulation   \n",
              "\n",
              "       na_sales  eu_sales  jp_sales  other_sales  critic_score user_score  \\\n",
              "0         41360     28960      3770         8450          76.0          8   \n",
              "1         29080      3580      6810          770           NaN        NaN   \n",
              "2         15680     12760      3790         3290          82.0        8.3   \n",
              "3         15610     10930      3280         2950          80.0          8   \n",
              "4         11270      8890     10220         1000           NaN        NaN   \n",
              "...         ...       ...       ...          ...           ...        ...   \n",
              "16710         0         0        10            0           NaN        NaN   \n",
              "16711         0        10         0            0           NaN        NaN   \n",
              "16712         0         0        10            0           NaN        NaN   \n",
              "16713        10         0         0            0           NaN        NaN   \n",
              "16714         0         0        10            0           NaN        NaN   \n",
              "\n",
              "      rating  \n",
              "0          E  \n",
              "1        NaN  \n",
              "2          E  \n",
              "3          E  \n",
              "4        NaN  \n",
              "...      ...  \n",
              "16710    NaN  \n",
              "16711    NaN  \n",
              "16712    NaN  \n",
              "16713    NaN  \n",
              "16714    NaN  \n",
              "\n",
              "[16715 rows x 11 columns]"
            ]
          },
          "execution_count": 6,
          "metadata": {},
          "output_type": "execute_result"
        }
      ],
      "source": [
        "df['jp_sales'] = (df['jp_sales'] * 1000).astype(int)\n",
        "df['eu_sales'] = (df['eu_sales'] * 1000).astype(int)\n",
        "df['other_sales'] = (df['other_sales'] * 1000).astype(int)\n",
        "df"
      ]
    },
    {
      "cell_type": "markdown",
      "id": "e7d302cc",
      "metadata": {
        "id": "e7d302cc"
      },
      "source": [
        "## Пропуски"
      ]
    },
    {
      "cell_type": "markdown",
      "id": "0ea1aa26",
      "metadata": {
        "id": "0ea1aa26"
      },
      "source": [
        "Так как число пропусков в колонке \"year_of_release\" 269, что составляет чуть более полутора процентов от общего датафрейма, считаю возможным удалить эти данные. Кроме того эти пропуски не позволят проанализировать количество игр выпущенных по годам.\n",
        "\n",
        "После удаления пропусков, мы можем привести данные к  целым числам."
      ]
    },
    {
      "cell_type": "code",
      "execution_count": null,
      "id": "238db45f",
      "metadata": {
        "id": "238db45f",
        "outputId": "49929e9b-98e4-4327-96cd-9479baffef90"
      },
      "outputs": [
        {
          "data": {
            "text/html": [
              "<div>\n",
              "<style scoped>\n",
              "    .dataframe tbody tr th:only-of-type {\n",
              "        vertical-align: middle;\n",
              "    }\n",
              "\n",
              "    .dataframe tbody tr th {\n",
              "        vertical-align: top;\n",
              "    }\n",
              "\n",
              "    .dataframe thead th {\n",
              "        text-align: right;\n",
              "    }\n",
              "</style>\n",
              "<table border=\"1\" class=\"dataframe\">\n",
              "  <thead>\n",
              "    <tr style=\"text-align: right;\">\n",
              "      <th></th>\n",
              "      <th>name</th>\n",
              "      <th>platform</th>\n",
              "      <th>year_of_release</th>\n",
              "      <th>genre</th>\n",
              "      <th>na_sales</th>\n",
              "      <th>eu_sales</th>\n",
              "      <th>jp_sales</th>\n",
              "      <th>other_sales</th>\n",
              "      <th>critic_score</th>\n",
              "      <th>user_score</th>\n",
              "      <th>rating</th>\n",
              "    </tr>\n",
              "  </thead>\n",
              "  <tbody>\n",
              "    <tr>\n",
              "      <th>0</th>\n",
              "      <td>Wii Sports</td>\n",
              "      <td>Wii</td>\n",
              "      <td>2006</td>\n",
              "      <td>Sports</td>\n",
              "      <td>41360</td>\n",
              "      <td>28960</td>\n",
              "      <td>3770</td>\n",
              "      <td>8450</td>\n",
              "      <td>76.0</td>\n",
              "      <td>8</td>\n",
              "      <td>E</td>\n",
              "    </tr>\n",
              "    <tr>\n",
              "      <th>1</th>\n",
              "      <td>Super Mario Bros.</td>\n",
              "      <td>NES</td>\n",
              "      <td>1985</td>\n",
              "      <td>Platform</td>\n",
              "      <td>29080</td>\n",
              "      <td>3580</td>\n",
              "      <td>6810</td>\n",
              "      <td>770</td>\n",
              "      <td>NaN</td>\n",
              "      <td>NaN</td>\n",
              "      <td>NaN</td>\n",
              "    </tr>\n",
              "    <tr>\n",
              "      <th>2</th>\n",
              "      <td>Mario Kart Wii</td>\n",
              "      <td>Wii</td>\n",
              "      <td>2008</td>\n",
              "      <td>Racing</td>\n",
              "      <td>15680</td>\n",
              "      <td>12760</td>\n",
              "      <td>3790</td>\n",
              "      <td>3290</td>\n",
              "      <td>82.0</td>\n",
              "      <td>8.3</td>\n",
              "      <td>E</td>\n",
              "    </tr>\n",
              "    <tr>\n",
              "      <th>3</th>\n",
              "      <td>Wii Sports Resort</td>\n",
              "      <td>Wii</td>\n",
              "      <td>2009</td>\n",
              "      <td>Sports</td>\n",
              "      <td>15610</td>\n",
              "      <td>10930</td>\n",
              "      <td>3280</td>\n",
              "      <td>2950</td>\n",
              "      <td>80.0</td>\n",
              "      <td>8</td>\n",
              "      <td>E</td>\n",
              "    </tr>\n",
              "    <tr>\n",
              "      <th>4</th>\n",
              "      <td>Pokemon Red/Pokemon Blue</td>\n",
              "      <td>GB</td>\n",
              "      <td>1996</td>\n",
              "      <td>Role-Playing</td>\n",
              "      <td>11270</td>\n",
              "      <td>8890</td>\n",
              "      <td>10220</td>\n",
              "      <td>1000</td>\n",
              "      <td>NaN</td>\n",
              "      <td>NaN</td>\n",
              "      <td>NaN</td>\n",
              "    </tr>\n",
              "    <tr>\n",
              "      <th>...</th>\n",
              "      <td>...</td>\n",
              "      <td>...</td>\n",
              "      <td>...</td>\n",
              "      <td>...</td>\n",
              "      <td>...</td>\n",
              "      <td>...</td>\n",
              "      <td>...</td>\n",
              "      <td>...</td>\n",
              "      <td>...</td>\n",
              "      <td>...</td>\n",
              "      <td>...</td>\n",
              "    </tr>\n",
              "    <tr>\n",
              "      <th>16441</th>\n",
              "      <td>Samurai Warriors: Sanada Maru</td>\n",
              "      <td>PS3</td>\n",
              "      <td>2016</td>\n",
              "      <td>Action</td>\n",
              "      <td>0</td>\n",
              "      <td>0</td>\n",
              "      <td>10</td>\n",
              "      <td>0</td>\n",
              "      <td>NaN</td>\n",
              "      <td>NaN</td>\n",
              "      <td>NaN</td>\n",
              "    </tr>\n",
              "    <tr>\n",
              "      <th>16442</th>\n",
              "      <td>LMA Manager 2007</td>\n",
              "      <td>X360</td>\n",
              "      <td>2006</td>\n",
              "      <td>Sports</td>\n",
              "      <td>0</td>\n",
              "      <td>10</td>\n",
              "      <td>0</td>\n",
              "      <td>0</td>\n",
              "      <td>NaN</td>\n",
              "      <td>NaN</td>\n",
              "      <td>NaN</td>\n",
              "    </tr>\n",
              "    <tr>\n",
              "      <th>16443</th>\n",
              "      <td>Haitaka no Psychedelica</td>\n",
              "      <td>PSV</td>\n",
              "      <td>2016</td>\n",
              "      <td>Adventure</td>\n",
              "      <td>0</td>\n",
              "      <td>0</td>\n",
              "      <td>10</td>\n",
              "      <td>0</td>\n",
              "      <td>NaN</td>\n",
              "      <td>NaN</td>\n",
              "      <td>NaN</td>\n",
              "    </tr>\n",
              "    <tr>\n",
              "      <th>16444</th>\n",
              "      <td>Spirits &amp; Spells</td>\n",
              "      <td>GBA</td>\n",
              "      <td>2003</td>\n",
              "      <td>Platform</td>\n",
              "      <td>10</td>\n",
              "      <td>0</td>\n",
              "      <td>0</td>\n",
              "      <td>0</td>\n",
              "      <td>NaN</td>\n",
              "      <td>NaN</td>\n",
              "      <td>NaN</td>\n",
              "    </tr>\n",
              "    <tr>\n",
              "      <th>16445</th>\n",
              "      <td>Winning Post 8 2016</td>\n",
              "      <td>PSV</td>\n",
              "      <td>2016</td>\n",
              "      <td>Simulation</td>\n",
              "      <td>0</td>\n",
              "      <td>0</td>\n",
              "      <td>10</td>\n",
              "      <td>0</td>\n",
              "      <td>NaN</td>\n",
              "      <td>NaN</td>\n",
              "      <td>NaN</td>\n",
              "    </tr>\n",
              "  </tbody>\n",
              "</table>\n",
              "<p>16446 rows × 11 columns</p>\n",
              "</div>"
            ],
            "text/plain": [
              "                                name platform  year_of_release         genre  \\\n",
              "0                         Wii Sports      Wii             2006        Sports   \n",
              "1                  Super Mario Bros.      NES             1985      Platform   \n",
              "2                     Mario Kart Wii      Wii             2008        Racing   \n",
              "3                  Wii Sports Resort      Wii             2009        Sports   \n",
              "4           Pokemon Red/Pokemon Blue       GB             1996  Role-Playing   \n",
              "...                              ...      ...              ...           ...   \n",
              "16441  Samurai Warriors: Sanada Maru      PS3             2016        Action   \n",
              "16442               LMA Manager 2007     X360             2006        Sports   \n",
              "16443        Haitaka no Psychedelica      PSV             2016     Adventure   \n",
              "16444               Spirits & Spells      GBA             2003      Platform   \n",
              "16445            Winning Post 8 2016      PSV             2016    Simulation   \n",
              "\n",
              "       na_sales  eu_sales  jp_sales  other_sales  critic_score user_score  \\\n",
              "0         41360     28960      3770         8450          76.0          8   \n",
              "1         29080      3580      6810          770           NaN        NaN   \n",
              "2         15680     12760      3790         3290          82.0        8.3   \n",
              "3         15610     10930      3280         2950          80.0          8   \n",
              "4         11270      8890     10220         1000           NaN        NaN   \n",
              "...         ...       ...       ...          ...           ...        ...   \n",
              "16441         0         0        10            0           NaN        NaN   \n",
              "16442         0        10         0            0           NaN        NaN   \n",
              "16443         0         0        10            0           NaN        NaN   \n",
              "16444        10         0         0            0           NaN        NaN   \n",
              "16445         0         0        10            0           NaN        NaN   \n",
              "\n",
              "      rating  \n",
              "0          E  \n",
              "1        NaN  \n",
              "2          E  \n",
              "3          E  \n",
              "4        NaN  \n",
              "...      ...  \n",
              "16441    NaN  \n",
              "16442    NaN  \n",
              "16443    NaN  \n",
              "16444    NaN  \n",
              "16445    NaN  \n",
              "\n",
              "[16446 rows x 11 columns]"
            ]
          },
          "execution_count": 7,
          "metadata": {},
          "output_type": "execute_result"
        }
      ],
      "source": [
        "df = df.dropna(subset=['year_of_release']).reset_index(drop=True)\n",
        "df['year_of_release'] = df['year_of_release'].astype(int)\n",
        "df"
      ]
    },
    {
      "cell_type": "markdown",
      "id": "1d29150e",
      "metadata": {
        "id": "1d29150e"
      },
      "source": [
        "Посмотрим, какие значения встречаются в колонке \"rating\"."
      ]
    },
    {
      "cell_type": "code",
      "execution_count": null,
      "id": "9305ecd6",
      "metadata": {
        "id": "9305ecd6",
        "outputId": "759ce57d-d914-49e2-f17e-a7b76cb80eaa"
      },
      "outputs": [
        {
          "data": {
            "text/plain": [
              "array(['E', nan, 'M', 'T', 'E10+', 'K-A', 'AO', 'EC', 'RP'], dtype=object)"
            ]
          },
          "execution_count": 8,
          "metadata": {},
          "output_type": "execute_result"
        }
      ],
      "source": [
        "df['rating'].unique()"
      ]
    },
    {
      "cell_type": "code",
      "execution_count": null,
      "id": "0bb6099a",
      "metadata": {
        "id": "0bb6099a",
        "outputId": "905d55f7-8117-4a45-f2d5-01abb1b05b24"
      },
      "outputs": [
        {
          "data": {
            "text/plain": [
              "name                  2\n",
              "platform              0\n",
              "year_of_release       0\n",
              "genre                 2\n",
              "na_sales              0\n",
              "eu_sales              0\n",
              "jp_sales              0\n",
              "other_sales           0\n",
              "critic_score       8463\n",
              "user_score         6607\n",
              "rating             6678\n",
              "dtype: int64"
            ]
          },
          "execution_count": 9,
          "metadata": {},
          "output_type": "execute_result"
        }
      ],
      "source": [
        "df.isna().sum()"
      ]
    },
    {
      "cell_type": "markdown",
      "id": "150271eb",
      "metadata": {
        "id": "150271eb"
      },
      "source": [
        "Заполним пропуски строковым значением \"unknown\""
      ]
    },
    {
      "cell_type": "code",
      "execution_count": null,
      "id": "1edb5323",
      "metadata": {
        "id": "1edb5323"
      },
      "outputs": [],
      "source": [
        "df['rating'] = df['rating'].fillna('unknown')"
      ]
    },
    {
      "cell_type": "code",
      "execution_count": null,
      "id": "f43cf370",
      "metadata": {
        "id": "f43cf370",
        "outputId": "31ffc56e-c1cd-4b96-a3a1-cd33cd719600"
      },
      "outputs": [
        {
          "data": {
            "text/plain": [
              "name                  0\n",
              "platform              0\n",
              "year_of_release       0\n",
              "genre                 0\n",
              "na_sales              0\n",
              "eu_sales              0\n",
              "jp_sales              0\n",
              "other_sales           0\n",
              "critic_score       8461\n",
              "user_score         6605\n",
              "rating                0\n",
              "dtype: int64"
            ]
          },
          "execution_count": 12,
          "metadata": {},
          "output_type": "execute_result"
        }
      ],
      "source": [
        "df = df.dropna(subset=['name', 'genre'])\n",
        "df.isna().sum()"
      ]
    },
    {
      "cell_type": "markdown",
      "id": "feefa8e7",
      "metadata": {
        "id": "feefa8e7"
      },
      "source": [
        "Остальные пропуски пока врядли получится обработать, так как ни среднее ни медианное значение не будут отражать реальные или близкие данные. Кроме того, отсутствует какая-либо логика в пропусках, так как они встречаются как у новых, так и у старых игр вне зависимости от жанра или платформы."
      ]
    },
    {
      "cell_type": "markdown",
      "id": "4fcd21e0",
      "metadata": {
        "id": "4fcd21e0"
      },
      "source": [
        "Посмотрим на категории данных"
      ]
    },
    {
      "cell_type": "code",
      "execution_count": null,
      "id": "cf4c9069",
      "metadata": {
        "id": "cf4c9069",
        "outputId": "57c1e916-a4a6-46b3-eee7-4a03c676aa82"
      },
      "outputs": [
        {
          "name": "stdout",
          "output_type": "stream",
          "text": [
            "<class 'pandas.core.frame.DataFrame'>\n",
            "Int64Index: 16444 entries, 0 to 16445\n",
            "Data columns (total 11 columns):\n",
            " #   Column           Non-Null Count  Dtype  \n",
            "---  ------           --------------  -----  \n",
            " 0   name             16444 non-null  object \n",
            " 1   platform         16444 non-null  object \n",
            " 2   year_of_release  16444 non-null  int32  \n",
            " 3   genre            16444 non-null  object \n",
            " 4   na_sales         16444 non-null  int32  \n",
            " 5   eu_sales         16444 non-null  int32  \n",
            " 6   jp_sales         16444 non-null  int32  \n",
            " 7   other_sales      16444 non-null  int32  \n",
            " 8   critic_score     7983 non-null   float64\n",
            " 9   user_score       9839 non-null   object \n",
            " 10  rating           16444 non-null  object \n",
            "dtypes: float64(1), int32(5), object(5)\n",
            "memory usage: 1.2+ MB\n"
          ]
        }
      ],
      "source": [
        "df.info()"
      ]
    },
    {
      "cell_type": "code",
      "execution_count": null,
      "id": "2559236e",
      "metadata": {
        "id": "2559236e",
        "outputId": "a08bbe50-ae72-4709-98be-4f8c406b0f90"
      },
      "outputs": [
        {
          "data": {
            "text/plain": [
              "array([76., nan, 82., 80., 89., 58., 87., 91., 61., 97., 95., 77., 88.,\n",
              "       83., 94., 93., 85., 86., 98., 96., 90., 84., 73., 74., 78., 92.,\n",
              "       71., 72., 68., 62., 49., 67., 81., 66., 56., 79., 70., 59., 64.,\n",
              "       75., 60., 63., 69., 50., 25., 42., 44., 55., 48., 57., 29., 47.,\n",
              "       65., 54., 20., 53., 37., 38., 33., 52., 30., 32., 43., 45., 51.,\n",
              "       40., 46., 39., 34., 41., 36., 31., 27., 35., 26., 19., 28., 23.,\n",
              "       24., 21., 17., 13.])"
            ]
          },
          "execution_count": 14,
          "metadata": {},
          "output_type": "execute_result"
        }
      ],
      "source": [
        "df['critic_score'].unique()"
      ]
    },
    {
      "cell_type": "code",
      "execution_count": null,
      "id": "a84f86e2",
      "metadata": {
        "id": "a84f86e2",
        "outputId": "d5d1b6e0-4aee-4344-97cc-e16728480873"
      },
      "outputs": [
        {
          "data": {
            "text/plain": [
              "array(['8', nan, '8.3', '8.5', '6.6', '8.4', '8.6', '7.7', '6.3', '7.4',\n",
              "       '8.2', '9', '7.9', '8.1', '8.7', '7.1', '3.4', '5.3', '4.8', '3.2',\n",
              "       '8.9', '6.4', '7.8', '7.5', '2.6', '7.2', '9.2', '7', '7.3', '4.3',\n",
              "       '7.6', '5.7', '5', '9.1', '6.5', 'tbd', '8.8', '6.9', '9.4', '6.8',\n",
              "       '6.1', '6.7', '5.4', '4', '4.9', '4.5', '9.3', '6.2', '4.2', '6',\n",
              "       '3.7', '4.1', '5.8', '5.6', '5.5', '4.4', '4.6', '5.9', '3.9',\n",
              "       '3.1', '2.9', '5.2', '3.3', '4.7', '5.1', '3.5', '2.5', '1.9', '3',\n",
              "       '2.7', '2.2', '2', '9.5', '2.1', '3.6', '2.8', '1.8', '3.8', '0',\n",
              "       '1.6', '9.6', '2.4', '1.7', '1.1', '0.3', '1.5', '0.7', '1.2',\n",
              "       '2.3', '0.5', '1.3', '0.2', '0.6', '1.4', '0.9', '1', '9.7'],\n",
              "      dtype=object)"
            ]
          },
          "execution_count": 15,
          "metadata": {},
          "output_type": "execute_result"
        }
      ],
      "source": [
        "df['user_score'].unique()"
      ]
    },
    {
      "cell_type": "markdown",
      "id": "69c4f928",
      "metadata": {
        "id": "69c4f928"
      },
      "source": [
        "В обеих колонках множество различных оценок, однако в колонке \"user_score\" встречается абривеатура 'tbd', а так же тип данных 'object'."
      ]
    },
    {
      "cell_type": "code",
      "execution_count": null,
      "id": "7de6897c",
      "metadata": {
        "id": "7de6897c",
        "outputId": "bfc2d388-db4a-4e32-e364-06b3ee1659a2"
      },
      "outputs": [
        {
          "data": {
            "text/plain": [
              "name               2376\n",
              "platform           2376\n",
              "year_of_release    2376\n",
              "genre              2376\n",
              "na_sales           2376\n",
              "eu_sales           2376\n",
              "jp_sales           2376\n",
              "other_sales        2376\n",
              "critic_score       1056\n",
              "user_score         2376\n",
              "rating             2376\n",
              "dtype: int64"
            ]
          },
          "execution_count": 16,
          "metadata": {},
          "output_type": "execute_result"
        }
      ],
      "source": [
        "df.query('user_score == \"tbd\"').count()"
      ]
    },
    {
      "cell_type": "markdown",
      "id": "fb1ab6cd",
      "metadata": {
        "id": "fb1ab6cd"
      },
      "source": [
        "Много"
      ]
    },
    {
      "cell_type": "code",
      "execution_count": null,
      "id": "9e28daa3",
      "metadata": {
        "id": "9e28daa3",
        "outputId": "56f79c44-9610-434c-9722-e2614273adce"
      },
      "outputs": [
        {
          "data": {
            "text/html": [
              "<div>\n",
              "<style scoped>\n",
              "    .dataframe tbody tr th:only-of-type {\n",
              "        vertical-align: middle;\n",
              "    }\n",
              "\n",
              "    .dataframe tbody tr th {\n",
              "        vertical-align: top;\n",
              "    }\n",
              "\n",
              "    .dataframe thead th {\n",
              "        text-align: right;\n",
              "    }\n",
              "</style>\n",
              "<table border=\"1\" class=\"dataframe\">\n",
              "  <thead>\n",
              "    <tr style=\"text-align: right;\">\n",
              "      <th></th>\n",
              "      <th>name</th>\n",
              "      <th>platform</th>\n",
              "      <th>year_of_release</th>\n",
              "      <th>genre</th>\n",
              "      <th>na_sales</th>\n",
              "      <th>eu_sales</th>\n",
              "      <th>jp_sales</th>\n",
              "      <th>other_sales</th>\n",
              "      <th>critic_score</th>\n",
              "      <th>user_score</th>\n",
              "      <th>rating</th>\n",
              "    </tr>\n",
              "  </thead>\n",
              "  <tbody>\n",
              "    <tr>\n",
              "      <th>119</th>\n",
              "      <td>Zumba Fitness</td>\n",
              "      <td>Wii</td>\n",
              "      <td>2010</td>\n",
              "      <td>Sports</td>\n",
              "      <td>3450</td>\n",
              "      <td>2590</td>\n",
              "      <td>0</td>\n",
              "      <td>660</td>\n",
              "      <td>NaN</td>\n",
              "      <td>tbd</td>\n",
              "      <td>E</td>\n",
              "    </tr>\n",
              "    <tr>\n",
              "      <th>300</th>\n",
              "      <td>Namco Museum: 50th Anniversary</td>\n",
              "      <td>PS2</td>\n",
              "      <td>2005</td>\n",
              "      <td>Misc</td>\n",
              "      <td>2080</td>\n",
              "      <td>1350</td>\n",
              "      <td>0</td>\n",
              "      <td>540</td>\n",
              "      <td>61.0</td>\n",
              "      <td>tbd</td>\n",
              "      <td>E10+</td>\n",
              "    </tr>\n",
              "    <tr>\n",
              "      <th>516</th>\n",
              "      <td>Zumba Fitness 2</td>\n",
              "      <td>Wii</td>\n",
              "      <td>2011</td>\n",
              "      <td>Sports</td>\n",
              "      <td>1510</td>\n",
              "      <td>1030</td>\n",
              "      <td>0</td>\n",
              "      <td>270</td>\n",
              "      <td>NaN</td>\n",
              "      <td>tbd</td>\n",
              "      <td>T</td>\n",
              "    </tr>\n",
              "    <tr>\n",
              "      <th>639</th>\n",
              "      <td>uDraw Studio</td>\n",
              "      <td>Wii</td>\n",
              "      <td>2010</td>\n",
              "      <td>Misc</td>\n",
              "      <td>1650</td>\n",
              "      <td>570</td>\n",
              "      <td>0</td>\n",
              "      <td>200</td>\n",
              "      <td>71.0</td>\n",
              "      <td>tbd</td>\n",
              "      <td>E</td>\n",
              "    </tr>\n",
              "    <tr>\n",
              "      <th>710</th>\n",
              "      <td>Just Dance Kids</td>\n",
              "      <td>Wii</td>\n",
              "      <td>2010</td>\n",
              "      <td>Misc</td>\n",
              "      <td>1520</td>\n",
              "      <td>540</td>\n",
              "      <td>0</td>\n",
              "      <td>180</td>\n",
              "      <td>NaN</td>\n",
              "      <td>tbd</td>\n",
              "      <td>E</td>\n",
              "    </tr>\n",
              "    <tr>\n",
              "      <th>...</th>\n",
              "      <td>...</td>\n",
              "      <td>...</td>\n",
              "      <td>...</td>\n",
              "      <td>...</td>\n",
              "      <td>...</td>\n",
              "      <td>...</td>\n",
              "      <td>...</td>\n",
              "      <td>...</td>\n",
              "      <td>...</td>\n",
              "      <td>...</td>\n",
              "      <td>...</td>\n",
              "    </tr>\n",
              "    <tr>\n",
              "      <th>16426</th>\n",
              "      <td>Planet Monsters</td>\n",
              "      <td>GBA</td>\n",
              "      <td>2001</td>\n",
              "      <td>Action</td>\n",
              "      <td>10</td>\n",
              "      <td>0</td>\n",
              "      <td>0</td>\n",
              "      <td>0</td>\n",
              "      <td>67.0</td>\n",
              "      <td>tbd</td>\n",
              "      <td>E</td>\n",
              "    </tr>\n",
              "    <tr>\n",
              "      <th>16428</th>\n",
              "      <td>Bust-A-Move 3000</td>\n",
              "      <td>GC</td>\n",
              "      <td>2003</td>\n",
              "      <td>Puzzle</td>\n",
              "      <td>10</td>\n",
              "      <td>0</td>\n",
              "      <td>0</td>\n",
              "      <td>0</td>\n",
              "      <td>53.0</td>\n",
              "      <td>tbd</td>\n",
              "      <td>E</td>\n",
              "    </tr>\n",
              "    <tr>\n",
              "      <th>16429</th>\n",
              "      <td>Mega Brain Boost</td>\n",
              "      <td>DS</td>\n",
              "      <td>2008</td>\n",
              "      <td>Puzzle</td>\n",
              "      <td>10</td>\n",
              "      <td>0</td>\n",
              "      <td>0</td>\n",
              "      <td>0</td>\n",
              "      <td>48.0</td>\n",
              "      <td>tbd</td>\n",
              "      <td>E</td>\n",
              "    </tr>\n",
              "    <tr>\n",
              "      <th>16435</th>\n",
              "      <td>Plushees</td>\n",
              "      <td>DS</td>\n",
              "      <td>2008</td>\n",
              "      <td>Simulation</td>\n",
              "      <td>10</td>\n",
              "      <td>0</td>\n",
              "      <td>0</td>\n",
              "      <td>0</td>\n",
              "      <td>NaN</td>\n",
              "      <td>tbd</td>\n",
              "      <td>E</td>\n",
              "    </tr>\n",
              "    <tr>\n",
              "      <th>16437</th>\n",
              "      <td>Men in Black II: Alien Escape</td>\n",
              "      <td>GC</td>\n",
              "      <td>2003</td>\n",
              "      <td>Shooter</td>\n",
              "      <td>10</td>\n",
              "      <td>0</td>\n",
              "      <td>0</td>\n",
              "      <td>0</td>\n",
              "      <td>NaN</td>\n",
              "      <td>tbd</td>\n",
              "      <td>T</td>\n",
              "    </tr>\n",
              "  </tbody>\n",
              "</table>\n",
              "<p>2376 rows × 11 columns</p>\n",
              "</div>"
            ],
            "text/plain": [
              "                                 name platform  year_of_release       genre  \\\n",
              "119                     Zumba Fitness      Wii             2010      Sports   \n",
              "300    Namco Museum: 50th Anniversary      PS2             2005        Misc   \n",
              "516                   Zumba Fitness 2      Wii             2011      Sports   \n",
              "639                      uDraw Studio      Wii             2010        Misc   \n",
              "710                   Just Dance Kids      Wii             2010        Misc   \n",
              "...                               ...      ...              ...         ...   \n",
              "16426                 Planet Monsters      GBA             2001      Action   \n",
              "16428                Bust-A-Move 3000       GC             2003      Puzzle   \n",
              "16429                Mega Brain Boost       DS             2008      Puzzle   \n",
              "16435                        Plushees       DS             2008  Simulation   \n",
              "16437   Men in Black II: Alien Escape       GC             2003     Shooter   \n",
              "\n",
              "       na_sales  eu_sales  jp_sales  other_sales  critic_score user_score  \\\n",
              "119        3450      2590         0          660           NaN        tbd   \n",
              "300        2080      1350         0          540          61.0        tbd   \n",
              "516        1510      1030         0          270           NaN        tbd   \n",
              "639        1650       570         0          200          71.0        tbd   \n",
              "710        1520       540         0          180           NaN        tbd   \n",
              "...         ...       ...       ...          ...           ...        ...   \n",
              "16426        10         0         0            0          67.0        tbd   \n",
              "16428        10         0         0            0          53.0        tbd   \n",
              "16429        10         0         0            0          48.0        tbd   \n",
              "16435        10         0         0            0           NaN        tbd   \n",
              "16437        10         0         0            0           NaN        tbd   \n",
              "\n",
              "      rating  \n",
              "119        E  \n",
              "300     E10+  \n",
              "516        T  \n",
              "639        E  \n",
              "710        E  \n",
              "...      ...  \n",
              "16426      E  \n",
              "16428      E  \n",
              "16429      E  \n",
              "16435      E  \n",
              "16437      T  \n",
              "\n",
              "[2376 rows x 11 columns]"
            ]
          },
          "metadata": {},
          "output_type": "display_data"
        }
      ],
      "source": [
        "display(df.query('user_score == \"tbd\"'))"
      ]
    },
    {
      "cell_type": "code",
      "execution_count": null,
      "id": "0c359edd",
      "metadata": {
        "id": "0c359edd",
        "outputId": "48429017-32b6-474c-e96b-f9ef0a6d024c"
      },
      "outputs": [
        {
          "data": {
            "text/html": [
              "<div>\n",
              "<style scoped>\n",
              "    .dataframe tbody tr th:only-of-type {\n",
              "        vertical-align: middle;\n",
              "    }\n",
              "\n",
              "    .dataframe tbody tr th {\n",
              "        vertical-align: top;\n",
              "    }\n",
              "\n",
              "    .dataframe thead th {\n",
              "        text-align: right;\n",
              "    }\n",
              "</style>\n",
              "<table border=\"1\" class=\"dataframe\">\n",
              "  <thead>\n",
              "    <tr style=\"text-align: right;\">\n",
              "      <th></th>\n",
              "      <th>name</th>\n",
              "      <th>platform</th>\n",
              "      <th>year_of_release</th>\n",
              "      <th>genre</th>\n",
              "      <th>na_sales</th>\n",
              "      <th>eu_sales</th>\n",
              "      <th>jp_sales</th>\n",
              "      <th>other_sales</th>\n",
              "      <th>critic_score</th>\n",
              "      <th>user_score</th>\n",
              "      <th>rating</th>\n",
              "    </tr>\n",
              "  </thead>\n",
              "  <tbody>\n",
              "  </tbody>\n",
              "</table>\n",
              "</div>"
            ],
            "text/plain": [
              "Empty DataFrame\n",
              "Columns: [name, platform, year_of_release, genre, na_sales, eu_sales, jp_sales, other_sales, critic_score, user_score, rating]\n",
              "Index: []"
            ]
          },
          "metadata": {},
          "output_type": "display_data"
        }
      ],
      "source": [
        "display(df.query('user_score == \"tbd\" and jp_sales > 1000'))"
      ]
    },
    {
      "cell_type": "markdown",
      "id": "07ca1a7a",
      "metadata": {
        "id": "07ca1a7a"
      },
      "source": [
        "Кажется, на оценку пользователей влияют продажи в Японии. При условии что количество продаж в Японии более 1 миллиона, значение \"tbd\" не встречается. Буду считать это значение, как \"оценка не определена\""
      ]
    },
    {
      "cell_type": "markdown",
      "id": "d3546056",
      "metadata": {
        "id": "d3546056"
      },
      "source": [
        "Переведем данные в колонке 'user_score' в числовой формат"
      ]
    },
    {
      "cell_type": "code",
      "execution_count": null,
      "id": "267cf2a5",
      "metadata": {
        "id": "267cf2a5",
        "outputId": "9005222d-0c26-43d7-89c1-539c1fdf837d"
      },
      "outputs": [
        {
          "name": "stdout",
          "output_type": "stream",
          "text": [
            "<class 'pandas.core.frame.DataFrame'>\n",
            "Int64Index: 16444 entries, 0 to 16445\n",
            "Data columns (total 11 columns):\n",
            " #   Column           Non-Null Count  Dtype  \n",
            "---  ------           --------------  -----  \n",
            " 0   name             16444 non-null  object \n",
            " 1   platform         16444 non-null  object \n",
            " 2   year_of_release  16444 non-null  int32  \n",
            " 3   genre            16444 non-null  object \n",
            " 4   na_sales         16444 non-null  int32  \n",
            " 5   eu_sales         16444 non-null  int32  \n",
            " 6   jp_sales         16444 non-null  int32  \n",
            " 7   other_sales      16444 non-null  int32  \n",
            " 8   critic_score     7983 non-null   float64\n",
            " 9   user_score       7463 non-null   float64\n",
            " 10  rating           16444 non-null  object \n",
            "dtypes: float64(2), int32(5), object(4)\n",
            "memory usage: 1.2+ MB\n"
          ]
        }
      ],
      "source": [
        "df['user_score'] = pd.to_numeric(df['user_score'], errors='coerce')\n",
        "df.info()"
      ]
    },
    {
      "cell_type": "markdown",
      "id": "14eb487a",
      "metadata": {
        "id": "14eb487a"
      },
      "source": [
        "## Суммарные продажи"
      ]
    },
    {
      "cell_type": "markdown",
      "id": "3abeee02",
      "metadata": {
        "id": "3abeee02"
      },
      "source": [
        "Подсчитаем суммарные продажи во всех регионах и добавим их в отдельную колонку."
      ]
    },
    {
      "cell_type": "code",
      "execution_count": null,
      "id": "50128751",
      "metadata": {
        "id": "50128751",
        "outputId": "f3d94e8c-0735-4ba0-ece0-315961bb106c"
      },
      "outputs": [
        {
          "data": {
            "text/html": [
              "<div>\n",
              "<style scoped>\n",
              "    .dataframe tbody tr th:only-of-type {\n",
              "        vertical-align: middle;\n",
              "    }\n",
              "\n",
              "    .dataframe tbody tr th {\n",
              "        vertical-align: top;\n",
              "    }\n",
              "\n",
              "    .dataframe thead th {\n",
              "        text-align: right;\n",
              "    }\n",
              "</style>\n",
              "<table border=\"1\" class=\"dataframe\">\n",
              "  <thead>\n",
              "    <tr style=\"text-align: right;\">\n",
              "      <th></th>\n",
              "      <th>name</th>\n",
              "      <th>platform</th>\n",
              "      <th>year_of_release</th>\n",
              "      <th>genre</th>\n",
              "      <th>na_sales</th>\n",
              "      <th>eu_sales</th>\n",
              "      <th>jp_sales</th>\n",
              "      <th>other_sales</th>\n",
              "      <th>critic_score</th>\n",
              "      <th>user_score</th>\n",
              "      <th>rating</th>\n",
              "      <th>total_sales</th>\n",
              "    </tr>\n",
              "  </thead>\n",
              "  <tbody>\n",
              "    <tr>\n",
              "      <th>0</th>\n",
              "      <td>Wii Sports</td>\n",
              "      <td>Wii</td>\n",
              "      <td>2006</td>\n",
              "      <td>Sports</td>\n",
              "      <td>41360</td>\n",
              "      <td>28960</td>\n",
              "      <td>3770</td>\n",
              "      <td>8450</td>\n",
              "      <td>76.0</td>\n",
              "      <td>8.0</td>\n",
              "      <td>E</td>\n",
              "      <td>82540</td>\n",
              "    </tr>\n",
              "    <tr>\n",
              "      <th>1</th>\n",
              "      <td>Super Mario Bros.</td>\n",
              "      <td>NES</td>\n",
              "      <td>1985</td>\n",
              "      <td>Platform</td>\n",
              "      <td>29080</td>\n",
              "      <td>3580</td>\n",
              "      <td>6810</td>\n",
              "      <td>770</td>\n",
              "      <td>NaN</td>\n",
              "      <td>NaN</td>\n",
              "      <td>unknown</td>\n",
              "      <td>40240</td>\n",
              "    </tr>\n",
              "    <tr>\n",
              "      <th>2</th>\n",
              "      <td>Mario Kart Wii</td>\n",
              "      <td>Wii</td>\n",
              "      <td>2008</td>\n",
              "      <td>Racing</td>\n",
              "      <td>15680</td>\n",
              "      <td>12760</td>\n",
              "      <td>3790</td>\n",
              "      <td>3290</td>\n",
              "      <td>82.0</td>\n",
              "      <td>8.3</td>\n",
              "      <td>E</td>\n",
              "      <td>35520</td>\n",
              "    </tr>\n",
              "    <tr>\n",
              "      <th>3</th>\n",
              "      <td>Wii Sports Resort</td>\n",
              "      <td>Wii</td>\n",
              "      <td>2009</td>\n",
              "      <td>Sports</td>\n",
              "      <td>15610</td>\n",
              "      <td>10930</td>\n",
              "      <td>3280</td>\n",
              "      <td>2950</td>\n",
              "      <td>80.0</td>\n",
              "      <td>8.0</td>\n",
              "      <td>E</td>\n",
              "      <td>32770</td>\n",
              "    </tr>\n",
              "    <tr>\n",
              "      <th>4</th>\n",
              "      <td>Pokemon Red/Pokemon Blue</td>\n",
              "      <td>GB</td>\n",
              "      <td>1996</td>\n",
              "      <td>Role-Playing</td>\n",
              "      <td>11270</td>\n",
              "      <td>8890</td>\n",
              "      <td>10220</td>\n",
              "      <td>1000</td>\n",
              "      <td>NaN</td>\n",
              "      <td>NaN</td>\n",
              "      <td>unknown</td>\n",
              "      <td>31380</td>\n",
              "    </tr>\n",
              "    <tr>\n",
              "      <th>...</th>\n",
              "      <td>...</td>\n",
              "      <td>...</td>\n",
              "      <td>...</td>\n",
              "      <td>...</td>\n",
              "      <td>...</td>\n",
              "      <td>...</td>\n",
              "      <td>...</td>\n",
              "      <td>...</td>\n",
              "      <td>...</td>\n",
              "      <td>...</td>\n",
              "      <td>...</td>\n",
              "      <td>...</td>\n",
              "    </tr>\n",
              "    <tr>\n",
              "      <th>16441</th>\n",
              "      <td>Samurai Warriors: Sanada Maru</td>\n",
              "      <td>PS3</td>\n",
              "      <td>2016</td>\n",
              "      <td>Action</td>\n",
              "      <td>0</td>\n",
              "      <td>0</td>\n",
              "      <td>10</td>\n",
              "      <td>0</td>\n",
              "      <td>NaN</td>\n",
              "      <td>NaN</td>\n",
              "      <td>unknown</td>\n",
              "      <td>10</td>\n",
              "    </tr>\n",
              "    <tr>\n",
              "      <th>16442</th>\n",
              "      <td>LMA Manager 2007</td>\n",
              "      <td>X360</td>\n",
              "      <td>2006</td>\n",
              "      <td>Sports</td>\n",
              "      <td>0</td>\n",
              "      <td>10</td>\n",
              "      <td>0</td>\n",
              "      <td>0</td>\n",
              "      <td>NaN</td>\n",
              "      <td>NaN</td>\n",
              "      <td>unknown</td>\n",
              "      <td>10</td>\n",
              "    </tr>\n",
              "    <tr>\n",
              "      <th>16443</th>\n",
              "      <td>Haitaka no Psychedelica</td>\n",
              "      <td>PSV</td>\n",
              "      <td>2016</td>\n",
              "      <td>Adventure</td>\n",
              "      <td>0</td>\n",
              "      <td>0</td>\n",
              "      <td>10</td>\n",
              "      <td>0</td>\n",
              "      <td>NaN</td>\n",
              "      <td>NaN</td>\n",
              "      <td>unknown</td>\n",
              "      <td>10</td>\n",
              "    </tr>\n",
              "    <tr>\n",
              "      <th>16444</th>\n",
              "      <td>Spirits &amp; Spells</td>\n",
              "      <td>GBA</td>\n",
              "      <td>2003</td>\n",
              "      <td>Platform</td>\n",
              "      <td>10</td>\n",
              "      <td>0</td>\n",
              "      <td>0</td>\n",
              "      <td>0</td>\n",
              "      <td>NaN</td>\n",
              "      <td>NaN</td>\n",
              "      <td>unknown</td>\n",
              "      <td>10</td>\n",
              "    </tr>\n",
              "    <tr>\n",
              "      <th>16445</th>\n",
              "      <td>Winning Post 8 2016</td>\n",
              "      <td>PSV</td>\n",
              "      <td>2016</td>\n",
              "      <td>Simulation</td>\n",
              "      <td>0</td>\n",
              "      <td>0</td>\n",
              "      <td>10</td>\n",
              "      <td>0</td>\n",
              "      <td>NaN</td>\n",
              "      <td>NaN</td>\n",
              "      <td>unknown</td>\n",
              "      <td>10</td>\n",
              "    </tr>\n",
              "  </tbody>\n",
              "</table>\n",
              "<p>16444 rows × 12 columns</p>\n",
              "</div>"
            ],
            "text/plain": [
              "                                name platform  year_of_release         genre  \\\n",
              "0                         Wii Sports      Wii             2006        Sports   \n",
              "1                  Super Mario Bros.      NES             1985      Platform   \n",
              "2                     Mario Kart Wii      Wii             2008        Racing   \n",
              "3                  Wii Sports Resort      Wii             2009        Sports   \n",
              "4           Pokemon Red/Pokemon Blue       GB             1996  Role-Playing   \n",
              "...                              ...      ...              ...           ...   \n",
              "16441  Samurai Warriors: Sanada Maru      PS3             2016        Action   \n",
              "16442               LMA Manager 2007     X360             2006        Sports   \n",
              "16443        Haitaka no Psychedelica      PSV             2016     Adventure   \n",
              "16444               Spirits & Spells      GBA             2003      Platform   \n",
              "16445            Winning Post 8 2016      PSV             2016    Simulation   \n",
              "\n",
              "       na_sales  eu_sales  jp_sales  other_sales  critic_score  user_score  \\\n",
              "0         41360     28960      3770         8450          76.0         8.0   \n",
              "1         29080      3580      6810          770           NaN         NaN   \n",
              "2         15680     12760      3790         3290          82.0         8.3   \n",
              "3         15610     10930      3280         2950          80.0         8.0   \n",
              "4         11270      8890     10220         1000           NaN         NaN   \n",
              "...         ...       ...       ...          ...           ...         ...   \n",
              "16441         0         0        10            0           NaN         NaN   \n",
              "16442         0        10         0            0           NaN         NaN   \n",
              "16443         0         0        10            0           NaN         NaN   \n",
              "16444        10         0         0            0           NaN         NaN   \n",
              "16445         0         0        10            0           NaN         NaN   \n",
              "\n",
              "        rating  total_sales  \n",
              "0            E        82540  \n",
              "1      unknown        40240  \n",
              "2            E        35520  \n",
              "3            E        32770  \n",
              "4      unknown        31380  \n",
              "...        ...          ...  \n",
              "16441  unknown           10  \n",
              "16442  unknown           10  \n",
              "16443  unknown           10  \n",
              "16444  unknown           10  \n",
              "16445  unknown           10  \n",
              "\n",
              "[16444 rows x 12 columns]"
            ]
          },
          "execution_count": 20,
          "metadata": {},
          "output_type": "execute_result"
        }
      ],
      "source": [
        "df['total_sales'] = df['na_sales'] + df['eu_sales'] + df['jp_sales'] + df['other_sales']\n",
        "df"
      ]
    },
    {
      "cell_type": "markdown",
      "id": "94fedd3e",
      "metadata": {
        "id": "94fedd3e"
      },
      "source": [
        "# Исследовательский анализ данных"
      ]
    },
    {
      "cell_type": "markdown",
      "id": "9b0fccf8",
      "metadata": {
        "id": "9b0fccf8"
      },
      "source": [
        "## Годы"
      ]
    },
    {
      "cell_type": "markdown",
      "id": "fd1805b6",
      "metadata": {
        "id": "fd1805b6"
      },
      "source": [
        "Посмотрим как менялись тенденции по выпуску игр по годам."
      ]
    },
    {
      "cell_type": "code",
      "execution_count": null,
      "id": "b151c12c",
      "metadata": {
        "id": "b151c12c",
        "outputId": "eb2b812c-3696-4a93-89c4-f9756d0a3b5b"
      },
      "outputs": [
        {
          "data": {
            "text/plain": [
              "year_of_release\n",
              "1980       9\n",
              "1981      46\n",
              "1982      36\n",
              "1983      17\n",
              "1984      14\n",
              "1985      14\n",
              "1986      21\n",
              "1987      16\n",
              "1988      15\n",
              "1989      17\n",
              "1990      16\n",
              "1991      41\n",
              "1992      43\n",
              "1993      60\n",
              "1994     121\n",
              "1995     219\n",
              "1996     263\n",
              "1997     289\n",
              "1998     379\n",
              "1999     338\n",
              "2000     350\n",
              "2001     482\n",
              "2002     829\n",
              "2003     775\n",
              "2004     762\n",
              "2005     939\n",
              "2006    1006\n",
              "2007    1197\n",
              "2008    1427\n",
              "2009    1426\n",
              "2010    1255\n",
              "2011    1136\n",
              "2012     653\n",
              "2013     544\n",
              "2014     581\n",
              "2015     606\n",
              "2016     502\n",
              "Name: name, dtype: int64"
            ]
          },
          "execution_count": 21,
          "metadata": {},
          "output_type": "execute_result"
        }
      ],
      "source": [
        "df.groupby('year_of_release')['name'].count() "
      ]
    },
    {
      "cell_type": "markdown",
      "id": "5354a928",
      "metadata": {
        "id": "5354a928"
      },
      "source": [
        "С 1980 года по 1993 мы видим незначительный рост количества выпуска компьютерных игр. С 1994 начинается серьъезный всплеск постоянный рост числа игр до 2008 года, достигнув максимума практически 1500 игр за 2008 год.Однако в 2012 году мы выидим значительное снижение числа игр. Довольно странно."
      ]
    },
    {
      "cell_type": "code",
      "execution_count": null,
      "id": "3f459c47",
      "metadata": {
        "id": "3f459c47",
        "outputId": "9a84cfb7-4d8d-4ab2-f540-e059fd11f89b"
      },
      "outputs": [
        {
          "data": {
            "text/plain": [
              "<AxesSubplot:>"
            ]
          },
          "execution_count": 22,
          "metadata": {},
          "output_type": "execute_result"
        },
        {
          "data": {
            "image/png": "[encoded data removed]",
            "text/plain": [
              "<Figure size 432x288 with 1 Axes>"
            ]
          },
          "metadata": {
            "needs_background": "light"
          },
          "output_type": "display_data"
        }
      ],
      "source": [
        "df['year_of_release'].hist()"
      ]
    },
    {
      "cell_type": "markdown",
      "id": "2e79e6f8",
      "metadata": {
        "id": "2e79e6f8"
      },
      "source": [
        "## Продажи по платформам"
      ]
    },
    {
      "cell_type": "markdown",
      "id": "512aeea7",
      "metadata": {
        "id": "512aeea7"
      },
      "source": [
        "Посчитаем суммарные продажи по различным платформам за весь период, с целью определить 10 самых успешных."
      ]
    },
    {
      "cell_type": "code",
      "execution_count": null,
      "id": "6b503511",
      "metadata": {
        "id": "6b503511"
      },
      "outputs": [],
      "source": [
        "#grouped_platform = df.groupby('platform')['name'].count()"
      ]
    },
    {
      "cell_type": "code",
      "execution_count": null,
      "id": "c9cb8bd5",
      "metadata": {
        "scrolled": true,
        "id": "c9cb8bd5",
        "outputId": "568f86df-3c4f-4c72-d532-2201ef443c7e"
      },
      "outputs": [
        {
          "data": {
            "text/html": [
              "<div>\n",
              "<style scoped>\n",
              "    .dataframe tbody tr th:only-of-type {\n",
              "        vertical-align: middle;\n",
              "    }\n",
              "\n",
              "    .dataframe tbody tr th {\n",
              "        vertical-align: top;\n",
              "    }\n",
              "\n",
              "    .dataframe thead th {\n",
              "        text-align: right;\n",
              "    }\n",
              "</style>\n",
              "<table border=\"1\" class=\"dataframe\">\n",
              "  <thead>\n",
              "    <tr style=\"text-align: right;\">\n",
              "      <th></th>\n",
              "      <th>total_sales</th>\n",
              "    </tr>\n",
              "    <tr>\n",
              "      <th>platform</th>\n",
              "      <th></th>\n",
              "    </tr>\n",
              "  </thead>\n",
              "  <tbody>\n",
              "    <tr>\n",
              "      <th>PS2</th>\n",
              "      <td>1233557</td>\n",
              "    </tr>\n",
              "    <tr>\n",
              "      <th>X360</th>\n",
              "      <td>961239</td>\n",
              "    </tr>\n",
              "    <tr>\n",
              "      <th>PS3</th>\n",
              "      <td>931336</td>\n",
              "    </tr>\n",
              "    <tr>\n",
              "      <th>Wii</th>\n",
              "      <td>891178</td>\n",
              "    </tr>\n",
              "    <tr>\n",
              "      <th>DS</th>\n",
              "      <td>802780</td>\n",
              "    </tr>\n",
              "    <tr>\n",
              "      <th>PS</th>\n",
              "      <td>727577</td>\n",
              "    </tr>\n",
              "    <tr>\n",
              "      <th>PS4</th>\n",
              "      <td>314140</td>\n",
              "    </tr>\n",
              "    <tr>\n",
              "      <th>GBA</th>\n",
              "      <td>312880</td>\n",
              "    </tr>\n",
              "    <tr>\n",
              "      <th>PSP</th>\n",
              "      <td>289530</td>\n",
              "    </tr>\n",
              "    <tr>\n",
              "      <th>3DS</th>\n",
              "      <td>257808</td>\n",
              "    </tr>\n",
              "    <tr>\n",
              "      <th>PC</th>\n",
              "      <td>255759</td>\n",
              "    </tr>\n",
              "    <tr>\n",
              "      <th>GB</th>\n",
              "      <td>254430</td>\n",
              "    </tr>\n",
              "    <tr>\n",
              "      <th>XB</th>\n",
              "      <td>251570</td>\n",
              "    </tr>\n",
              "    <tr>\n",
              "      <th>NES</th>\n",
              "      <td>251049</td>\n",
              "    </tr>\n",
              "    <tr>\n",
              "      <th>N64</th>\n",
              "      <td>218009</td>\n",
              "    </tr>\n",
              "    <tr>\n",
              "      <th>SNES</th>\n",
              "      <td>200040</td>\n",
              "    </tr>\n",
              "    <tr>\n",
              "      <th>GC</th>\n",
              "      <td>196730</td>\n",
              "    </tr>\n",
              "    <tr>\n",
              "      <th>XOne</th>\n",
              "      <td>159320</td>\n",
              "    </tr>\n",
              "    <tr>\n",
              "      <th>2600</th>\n",
              "      <td>86480</td>\n",
              "    </tr>\n",
              "    <tr>\n",
              "      <th>WiiU</th>\n",
              "      <td>82190</td>\n",
              "    </tr>\n",
              "    <tr>\n",
              "      <th>PSV</th>\n",
              "      <td>53810</td>\n",
              "    </tr>\n",
              "    <tr>\n",
              "      <th>SAT</th>\n",
              "      <td>33590</td>\n",
              "    </tr>\n",
              "    <tr>\n",
              "      <th>GEN</th>\n",
              "      <td>28350</td>\n",
              "    </tr>\n",
              "    <tr>\n",
              "      <th>DC</th>\n",
              "      <td>15950</td>\n",
              "    </tr>\n",
              "    <tr>\n",
              "      <th>SCD</th>\n",
              "      <td>1860</td>\n",
              "    </tr>\n",
              "    <tr>\n",
              "      <th>NG</th>\n",
              "      <td>1440</td>\n",
              "    </tr>\n",
              "    <tr>\n",
              "      <th>WS</th>\n",
              "      <td>1420</td>\n",
              "    </tr>\n",
              "    <tr>\n",
              "      <th>TG16</th>\n",
              "      <td>160</td>\n",
              "    </tr>\n",
              "    <tr>\n",
              "      <th>3DO</th>\n",
              "      <td>100</td>\n",
              "    </tr>\n",
              "    <tr>\n",
              "      <th>GG</th>\n",
              "      <td>40</td>\n",
              "    </tr>\n",
              "    <tr>\n",
              "      <th>PCFX</th>\n",
              "      <td>30</td>\n",
              "    </tr>\n",
              "  </tbody>\n",
              "</table>\n",
              "</div>"
            ],
            "text/plain": [
              "          total_sales\n",
              "platform             \n",
              "PS2           1233557\n",
              "X360           961239\n",
              "PS3            931336\n",
              "Wii            891178\n",
              "DS             802780\n",
              "PS             727577\n",
              "PS4            314140\n",
              "GBA            312880\n",
              "PSP            289530\n",
              "3DS            257808\n",
              "PC             255759\n",
              "GB             254430\n",
              "XB             251570\n",
              "NES            251049\n",
              "N64            218009\n",
              "SNES           200040\n",
              "GC             196730\n",
              "XOne           159320\n",
              "2600            86480\n",
              "WiiU            82190\n",
              "PSV             53810\n",
              "SAT             33590\n",
              "GEN             28350\n",
              "DC              15950\n",
              "SCD              1860\n",
              "NG               1440\n",
              "WS               1420\n",
              "TG16              160\n",
              "3DO               100\n",
              "GG                 40\n",
              "PCFX               30"
            ]
          },
          "execution_count": 24,
          "metadata": {},
          "output_type": "execute_result"
        }
      ],
      "source": [
        "platform = df.pivot_table(index='platform', values='total_sales', aggfunc='sum')\n",
        "platform.columns = ['total_sales']\n",
        "platform = platform.sort_values('total_sales', ascending=False)\n",
        "platform"
      ]
    },
    {
      "cell_type": "code",
      "execution_count": null,
      "id": "e69776d2",
      "metadata": {
        "id": "e69776d2",
        "outputId": "1d6d3516-6637-4e45-b58f-adcf38bc9f14"
      },
      "outputs": [
        {
          "data": {
            "text/html": [
              "<div>\n",
              "<style scoped>\n",
              "    .dataframe tbody tr th:only-of-type {\n",
              "        vertical-align: middle;\n",
              "    }\n",
              "\n",
              "    .dataframe tbody tr th {\n",
              "        vertical-align: top;\n",
              "    }\n",
              "\n",
              "    .dataframe thead th {\n",
              "        text-align: right;\n",
              "    }\n",
              "</style>\n",
              "<table border=\"1\" class=\"dataframe\">\n",
              "  <thead>\n",
              "    <tr style=\"text-align: right;\">\n",
              "      <th></th>\n",
              "      <th>total_sales</th>\n",
              "    </tr>\n",
              "    <tr>\n",
              "      <th>platform</th>\n",
              "      <th></th>\n",
              "    </tr>\n",
              "  </thead>\n",
              "  <tbody>\n",
              "    <tr>\n",
              "      <th>PS2</th>\n",
              "      <td>1233557</td>\n",
              "    </tr>\n",
              "    <tr>\n",
              "      <th>X360</th>\n",
              "      <td>961239</td>\n",
              "    </tr>\n",
              "    <tr>\n",
              "      <th>PS3</th>\n",
              "      <td>931336</td>\n",
              "    </tr>\n",
              "    <tr>\n",
              "      <th>Wii</th>\n",
              "      <td>891178</td>\n",
              "    </tr>\n",
              "    <tr>\n",
              "      <th>DS</th>\n",
              "      <td>802780</td>\n",
              "    </tr>\n",
              "    <tr>\n",
              "      <th>PS</th>\n",
              "      <td>727577</td>\n",
              "    </tr>\n",
              "    <tr>\n",
              "      <th>PS4</th>\n",
              "      <td>314140</td>\n",
              "    </tr>\n",
              "    <tr>\n",
              "      <th>GBA</th>\n",
              "      <td>312880</td>\n",
              "    </tr>\n",
              "    <tr>\n",
              "      <th>PSP</th>\n",
              "      <td>289530</td>\n",
              "    </tr>\n",
              "    <tr>\n",
              "      <th>3DS</th>\n",
              "      <td>257808</td>\n",
              "    </tr>\n",
              "  </tbody>\n",
              "</table>\n",
              "</div>"
            ],
            "text/plain": [
              "          total_sales\n",
              "platform             \n",
              "PS2           1233557\n",
              "X360           961239\n",
              "PS3            931336\n",
              "Wii            891178\n",
              "DS             802780\n",
              "PS             727577\n",
              "PS4            314140\n",
              "GBA            312880\n",
              "PSP            289530\n",
              "3DS            257808"
            ]
          },
          "execution_count": 25,
          "metadata": {},
          "output_type": "execute_result"
        }
      ],
      "source": [
        "good_platform = platform.query('total_sales > 256000')\n",
        "good_platform"
      ]
    },
    {
      "cell_type": "code",
      "execution_count": null,
      "id": "16ed921f",
      "metadata": {
        "scrolled": true,
        "id": "16ed921f",
        "outputId": "81070b77-38d4-49e0-9e50-a456ed2a50ef"
      },
      "outputs": [
        {
          "data": {
            "text/html": [
              "<div>\n",
              "<style scoped>\n",
              "    .dataframe tbody tr th:only-of-type {\n",
              "        vertical-align: middle;\n",
              "    }\n",
              "\n",
              "    .dataframe tbody tr th {\n",
              "        vertical-align: top;\n",
              "    }\n",
              "\n",
              "    .dataframe thead th {\n",
              "        text-align: right;\n",
              "    }\n",
              "</style>\n",
              "<table border=\"1\" class=\"dataframe\">\n",
              "  <thead>\n",
              "    <tr style=\"text-align: right;\">\n",
              "      <th></th>\n",
              "      <th>index</th>\n",
              "      <th>name</th>\n",
              "      <th>platform</th>\n",
              "      <th>year_of_release</th>\n",
              "      <th>genre</th>\n",
              "      <th>na_sales</th>\n",
              "      <th>eu_sales</th>\n",
              "      <th>jp_sales</th>\n",
              "      <th>other_sales</th>\n",
              "      <th>critic_score</th>\n",
              "      <th>user_score</th>\n",
              "      <th>rating</th>\n",
              "      <th>total_sales</th>\n",
              "    </tr>\n",
              "  </thead>\n",
              "  <tbody>\n",
              "    <tr>\n",
              "      <th>0</th>\n",
              "      <td>0</td>\n",
              "      <td>Wii Sports</td>\n",
              "      <td>Wii</td>\n",
              "      <td>2006</td>\n",
              "      <td>Sports</td>\n",
              "      <td>41360</td>\n",
              "      <td>28960</td>\n",
              "      <td>3770</td>\n",
              "      <td>8450</td>\n",
              "      <td>76.0</td>\n",
              "      <td>8.0</td>\n",
              "      <td>E</td>\n",
              "      <td>82540</td>\n",
              "    </tr>\n",
              "    <tr>\n",
              "      <th>1</th>\n",
              "      <td>2</td>\n",
              "      <td>Mario Kart Wii</td>\n",
              "      <td>Wii</td>\n",
              "      <td>2008</td>\n",
              "      <td>Racing</td>\n",
              "      <td>15680</td>\n",
              "      <td>12760</td>\n",
              "      <td>3790</td>\n",
              "      <td>3290</td>\n",
              "      <td>82.0</td>\n",
              "      <td>8.3</td>\n",
              "      <td>E</td>\n",
              "      <td>35520</td>\n",
              "    </tr>\n",
              "    <tr>\n",
              "      <th>2</th>\n",
              "      <td>3</td>\n",
              "      <td>Wii Sports Resort</td>\n",
              "      <td>Wii</td>\n",
              "      <td>2009</td>\n",
              "      <td>Sports</td>\n",
              "      <td>15610</td>\n",
              "      <td>10930</td>\n",
              "      <td>3280</td>\n",
              "      <td>2950</td>\n",
              "      <td>80.0</td>\n",
              "      <td>8.0</td>\n",
              "      <td>E</td>\n",
              "      <td>32770</td>\n",
              "    </tr>\n",
              "    <tr>\n",
              "      <th>3</th>\n",
              "      <td>6</td>\n",
              "      <td>New Super Mario Bros.</td>\n",
              "      <td>DS</td>\n",
              "      <td>2006</td>\n",
              "      <td>Platform</td>\n",
              "      <td>11280</td>\n",
              "      <td>9140</td>\n",
              "      <td>6500</td>\n",
              "      <td>2880</td>\n",
              "      <td>89.0</td>\n",
              "      <td>8.5</td>\n",
              "      <td>E</td>\n",
              "      <td>29800</td>\n",
              "    </tr>\n",
              "    <tr>\n",
              "      <th>4</th>\n",
              "      <td>7</td>\n",
              "      <td>Wii Play</td>\n",
              "      <td>Wii</td>\n",
              "      <td>2006</td>\n",
              "      <td>Misc</td>\n",
              "      <td>13960</td>\n",
              "      <td>9180</td>\n",
              "      <td>2930</td>\n",
              "      <td>2840</td>\n",
              "      <td>58.0</td>\n",
              "      <td>6.6</td>\n",
              "      <td>E</td>\n",
              "      <td>28910</td>\n",
              "    </tr>\n",
              "    <tr>\n",
              "      <th>...</th>\n",
              "      <td>...</td>\n",
              "      <td>...</td>\n",
              "      <td>...</td>\n",
              "      <td>...</td>\n",
              "      <td>...</td>\n",
              "      <td>...</td>\n",
              "      <td>...</td>\n",
              "      <td>...</td>\n",
              "      <td>...</td>\n",
              "      <td>...</td>\n",
              "      <td>...</td>\n",
              "      <td>...</td>\n",
              "      <td>...</td>\n",
              "    </tr>\n",
              "    <tr>\n",
              "      <th>12165</th>\n",
              "      <td>16439</td>\n",
              "      <td>Woody Woodpecker in Crazy Castle 5</td>\n",
              "      <td>GBA</td>\n",
              "      <td>2002</td>\n",
              "      <td>Platform</td>\n",
              "      <td>10</td>\n",
              "      <td>0</td>\n",
              "      <td>0</td>\n",
              "      <td>0</td>\n",
              "      <td>NaN</td>\n",
              "      <td>NaN</td>\n",
              "      <td>unknown</td>\n",
              "      <td>10</td>\n",
              "    </tr>\n",
              "    <tr>\n",
              "      <th>12166</th>\n",
              "      <td>16440</td>\n",
              "      <td>SCORE International Baja 1000: The Official Game</td>\n",
              "      <td>PS2</td>\n",
              "      <td>2008</td>\n",
              "      <td>Racing</td>\n",
              "      <td>0</td>\n",
              "      <td>0</td>\n",
              "      <td>0</td>\n",
              "      <td>0</td>\n",
              "      <td>NaN</td>\n",
              "      <td>NaN</td>\n",
              "      <td>unknown</td>\n",
              "      <td>0</td>\n",
              "    </tr>\n",
              "    <tr>\n",
              "      <th>12167</th>\n",
              "      <td>16441</td>\n",
              "      <td>Samurai Warriors: Sanada Maru</td>\n",
              "      <td>PS3</td>\n",
              "      <td>2016</td>\n",
              "      <td>Action</td>\n",
              "      <td>0</td>\n",
              "      <td>0</td>\n",
              "      <td>10</td>\n",
              "      <td>0</td>\n",
              "      <td>NaN</td>\n",
              "      <td>NaN</td>\n",
              "      <td>unknown</td>\n",
              "      <td>10</td>\n",
              "    </tr>\n",
              "    <tr>\n",
              "      <th>12168</th>\n",
              "      <td>16442</td>\n",
              "      <td>LMA Manager 2007</td>\n",
              "      <td>X360</td>\n",
              "      <td>2006</td>\n",
              "      <td>Sports</td>\n",
              "      <td>0</td>\n",
              "      <td>10</td>\n",
              "      <td>0</td>\n",
              "      <td>0</td>\n",
              "      <td>NaN</td>\n",
              "      <td>NaN</td>\n",
              "      <td>unknown</td>\n",
              "      <td>10</td>\n",
              "    </tr>\n",
              "    <tr>\n",
              "      <th>12169</th>\n",
              "      <td>16444</td>\n",
              "      <td>Spirits &amp; Spells</td>\n",
              "      <td>GBA</td>\n",
              "      <td>2003</td>\n",
              "      <td>Platform</td>\n",
              "      <td>10</td>\n",
              "      <td>0</td>\n",
              "      <td>0</td>\n",
              "      <td>0</td>\n",
              "      <td>NaN</td>\n",
              "      <td>NaN</td>\n",
              "      <td>unknown</td>\n",
              "      <td>10</td>\n",
              "    </tr>\n",
              "  </tbody>\n",
              "</table>\n",
              "<p>12170 rows × 13 columns</p>\n",
              "</div>"
            ],
            "text/plain": [
              "       index                                              name platform  \\\n",
              "0          0                                        Wii Sports      Wii   \n",
              "1          2                                    Mario Kart Wii      Wii   \n",
              "2          3                                 Wii Sports Resort      Wii   \n",
              "3          6                             New Super Mario Bros.       DS   \n",
              "4          7                                          Wii Play      Wii   \n",
              "...      ...                                               ...      ...   \n",
              "12165  16439                Woody Woodpecker in Crazy Castle 5      GBA   \n",
              "12166  16440  SCORE International Baja 1000: The Official Game      PS2   \n",
              "12167  16441                     Samurai Warriors: Sanada Maru      PS3   \n",
              "12168  16442                                  LMA Manager 2007     X360   \n",
              "12169  16444                                  Spirits & Spells      GBA   \n",
              "\n",
              "       year_of_release     genre  na_sales  eu_sales  jp_sales  other_sales  \\\n",
              "0                 2006    Sports     41360     28960      3770         8450   \n",
              "1                 2008    Racing     15680     12760      3790         3290   \n",
              "2                 2009    Sports     15610     10930      3280         2950   \n",
              "3                 2006  Platform     11280      9140      6500         2880   \n",
              "4                 2006      Misc     13960      9180      2930         2840   \n",
              "...                ...       ...       ...       ...       ...          ...   \n",
              "12165             2002  Platform        10         0         0            0   \n",
              "12166             2008    Racing         0         0         0            0   \n",
              "12167             2016    Action         0         0        10            0   \n",
              "12168             2006    Sports         0        10         0            0   \n",
              "12169             2003  Platform        10         0         0            0   \n",
              "\n",
              "       critic_score  user_score   rating  total_sales  \n",
              "0              76.0         8.0        E        82540  \n",
              "1              82.0         8.3        E        35520  \n",
              "2              80.0         8.0        E        32770  \n",
              "3              89.0         8.5        E        29800  \n",
              "4              58.0         6.6        E        28910  \n",
              "...             ...         ...      ...          ...  \n",
              "12165           NaN         NaN  unknown           10  \n",
              "12166           NaN         NaN  unknown            0  \n",
              "12167           NaN         NaN  unknown           10  \n",
              "12168           NaN         NaN  unknown           10  \n",
              "12169           NaN         NaN  unknown           10  \n",
              "\n",
              "[12170 rows x 13 columns]"
            ]
          },
          "execution_count": 26,
          "metadata": {},
          "output_type": "execute_result"
        }
      ],
      "source": [
        "df_best_platform = df.query('platform in @good_platform.index').reset_index()\n",
        "df_best_platform"
      ]
    },
    {
      "cell_type": "markdown",
      "id": "d84ded5b",
      "metadata": {
        "id": "d84ded5b"
      },
      "source": [
        "Построим распределение продаж по годам для лучших игровых платформ."
      ]
    },
    {
      "cell_type": "code",
      "execution_count": null,
      "id": "2dc3e994",
      "metadata": {
        "scrolled": true,
        "id": "2dc3e994",
        "outputId": "6c00a988-b328-4ffc-8406-33ba157a248e"
      },
      "outputs": [
        {
          "data": {
            "image/png": "[encoded data removed]",
            "text/plain": [
              "<Figure size 1080x360 with 1 Axes>"
            ]
          },
          "metadata": {
            "needs_background": "light"
          },
          "output_type": "display_data"
        }
      ],
      "source": [
        "df_best_platform.pivot_table(\n",
        "    index = 'year_of_release', columns = 'platform', \n",
        "    values = 'total_sales', aggfunc ='sum').plot(figsize=(15, 5))\n",
        "plt.title('Суммарные продажи для 10 самых популярных игровых платформ')\n",
        "plt.xlabel('Годы производства')\n",
        "plt.ylabel('Продажи')\n",
        "plt.grid(True)"
      ]
    },
    {
      "cell_type": "markdown",
      "id": "ae98314a",
      "metadata": {
        "id": "ae98314a"
      },
      "source": [
        "Каждая игровая платформа продается в течении 5-10 лет, после чего продажи сходят на нет. Особенно показательны графики по платформам PS разных поколений. Появление нового пересекается со значительным спадом предыдущего."
      ]
    },
    {
      "cell_type": "markdown",
      "id": "6df7518d",
      "metadata": {
        "id": "6df7518d"
      },
      "source": [
        "## Актуальный период"
      ]
    },
    {
      "cell_type": "markdown",
      "id": "228336d7",
      "metadata": {
        "id": "228336d7"
      },
      "source": [
        "Еще раз посмотрим продажи всех игр по годам, чтобы определить актуальный период для построения прогноз на 2017 год"
      ]
    },
    {
      "cell_type": "code",
      "execution_count": null,
      "id": "c1763773",
      "metadata": {
        "id": "c1763773",
        "outputId": "8fa00745-a72e-4b56-c493-7bf668cd4730"
      },
      "outputs": [
        {
          "data": {
            "text/plain": [
              "year_of_release\n",
              "1980     11380\n",
              "1981     35680\n",
              "1982     28880\n",
              "1983     16800\n",
              "1984     50350\n",
              "1985     53950\n",
              "1986     37080\n",
              "1987     21699\n",
              "1988     47210\n",
              "1989     73450\n",
              "1990     49370\n",
              "1991     32230\n",
              "1992     76160\n",
              "1993     45990\n",
              "1994     79230\n",
              "1995     88120\n",
              "1996    199150\n",
              "1997    201068\n",
              "1998    256310\n",
              "1999    251109\n",
              "2000    201659\n",
              "2001    331459\n",
              "2002    394969\n",
              "2003    357540\n",
              "2004    418679\n",
              "2005    457819\n",
              "2006    517710\n",
              "2007    604748\n",
              "2008    671500\n",
              "2009    658818\n",
              "2010    590130\n",
              "2011    507577\n",
              "2012    355839\n",
              "2013    361240\n",
              "2014    331529\n",
              "2015    267980\n",
              "2016    129940\n",
              "Name: total_sales, dtype: int32"
            ]
          },
          "execution_count": 28,
          "metadata": {},
          "output_type": "execute_result"
        }
      ],
      "source": [
        "df.groupby('year_of_release')['total_sales'].sum() "
      ]
    },
    {
      "cell_type": "markdown",
      "id": "18455ebd",
      "metadata": {
        "id": "18455ebd"
      },
      "source": [
        "С 2012 по 2016 год ежегодная выручка от продажи выпущенных компьютерных игр установилось на отметке 350-270 млн за год. После стремительного эволюционирования и роста спроса на компьютерные игры, кажется и геймеры и производители определились в предпочтениях как по играм так и по игровым платформам. Возможно, это причична стабилизации рынка на указанных отметках."
      ]
    },
    {
      "cell_type": "markdown",
      "id": "0ceb7484",
      "metadata": {
        "id": "0ceb7484"
      },
      "source": [
        "Так как не имеет смысла учитывать более ранние годы, обрежем датафрейм по 2014 году."
      ]
    },
    {
      "cell_type": "code",
      "execution_count": null,
      "id": "a6e2d181",
      "metadata": {
        "id": "a6e2d181"
      },
      "outputs": [],
      "source": [
        "df_actual = df.query('year_of_release >= 2014')"
      ]
    },
    {
      "cell_type": "markdown",
      "id": "a782412c",
      "metadata": {
        "id": "a782412c"
      },
      "source": [
        "## Анализ платформ"
      ]
    },
    {
      "cell_type": "markdown",
      "id": "09db5bdd",
      "metadata": {
        "id": "09db5bdd"
      },
      "source": [
        "Определим лидирующие по продажам платформы."
      ]
    },
    {
      "cell_type": "code",
      "execution_count": null,
      "id": "a427a55d",
      "metadata": {
        "id": "a427a55d",
        "outputId": "e3fcd602-b9a7-4a88-f438-d9954419ffd8"
      },
      "outputs": [
        {
          "data": {
            "text/plain": [
              "platform\n",
              "PS4     288150\n",
              "XOne    140360\n",
              "3DS      86680\n",
              "PS3      68179\n",
              "X360     48220\n",
              "WiiU     42980\n",
              "PC       27050\n",
              "PSV      22400\n",
              "Wii       5070\n",
              "PSP        360\n",
              "Name: total_sales, dtype: int32"
            ]
          },
          "execution_count": 31,
          "metadata": {},
          "output_type": "execute_result"
        }
      ],
      "source": [
        "df_actual.groupby('platform')['total_sales'].sum().sort_values(ascending=False)"
      ]
    },
    {
      "cell_type": "markdown",
      "id": "bd004b86",
      "metadata": {
        "id": "bd004b86"
      },
      "source": [
        "Не удивительно, что лидерами продаж являются современные версии самых популярных платформ - PS и X360"
      ]
    },
    {
      "cell_type": "markdown",
      "id": "e5d6bd50",
      "metadata": {
        "id": "e5d6bd50"
      },
      "source": [
        "В тоже время, удивительный факт, платформа PS4 не попадая в первую десятку по продажам за все время, является абсолютным лидером по продажам за последние пять лет. "
      ]
    },
    {
      "cell_type": "markdown",
      "id": "363c7c47",
      "metadata": {
        "id": "363c7c47"
      },
      "source": [
        "Посмотрим тенденции продаж для первой пятерки (так как остальные сильно уступают по продажам) за актуальный период"
      ]
    },
    {
      "cell_type": "code",
      "execution_count": null,
      "id": "f3b84681",
      "metadata": {
        "scrolled": false,
        "id": "f3b84681",
        "outputId": "d1b28541-d6ca-4349-cd05-4f2570ad676d"
      },
      "outputs": [
        {
          "data": {
            "text/plain": [
              "Text(0, 0.5, 'Продажи')"
            ]
          },
          "execution_count": 32,
          "metadata": {},
          "output_type": "execute_result"
        },
        {
          "data": {
            "image/png": "[encoded data removed]",
            "text/plain": [
              "<Figure size 1080x360 with 1 Axes>"
            ]
          },
          "metadata": {
            "needs_background": "light"
          },
          "output_type": "display_data"
        }
      ],
      "source": [
        "df_actual.pivot_table(    \n",
        "    index = 'year_of_release', columns ='platform', \n",
        "    values = 'total_sales', aggfunc = 'sum').plot(grid=True, figsize=(15, 5))\n",
        "plt.title('Суммарные продажи популярных игровых платформ за актуальный период')\n",
        "plt.xlabel('Годы производства')\n",
        "plt.ylabel('Продажи')"
      ]
    },
    {
      "cell_type": "markdown",
      "id": "16b8093e",
      "metadata": {
        "id": "16b8093e"
      },
      "source": [
        "Намного нагляднее. Более того, падение 16 года можносписать на неполный период в датафрейме"
      ]
    },
    {
      "cell_type": "markdown",
      "id": "40e24fb5",
      "metadata": {
        "id": "40e24fb5"
      },
      "source": [
        "Все выбранные платформы показывают спад в 2016 году. "
      ]
    },
    {
      "cell_type": "markdown",
      "id": "e06b69fe",
      "metadata": {
        "id": "e06b69fe"
      },
      "source": [
        "Отдельно посмотрим продажи за 2016 год."
      ]
    },
    {
      "cell_type": "code",
      "execution_count": null,
      "id": "064bd93a",
      "metadata": {
        "id": "064bd93a",
        "outputId": "989e599a-a6d4-4d8e-869d-0467f042531b"
      },
      "outputs": [
        {
          "data": {
            "text/plain": [
              "platform\n",
              "PS4     69250\n",
              "XOne    26150\n",
              "3DS     15140\n",
              "PC       5250\n",
              "WiiU     4600\n",
              "PSV      4250\n",
              "PS3      3600\n",
              "X360     1520\n",
              "Wii       180\n",
              "Name: total_sales, dtype: int32"
            ]
          },
          "execution_count": 33,
          "metadata": {},
          "output_type": "execute_result"
        }
      ],
      "source": [
        "df_actual.query('year_of_release == 2016').groupby('platform')['total_sales'].sum().sort_values(ascending=False)"
      ]
    },
    {
      "cell_type": "markdown",
      "id": "d9362b13",
      "metadata": {
        "id": "d9362b13"
      },
      "source": [
        "Очевидно, PS4 самая популярная игровая консоль, несмотря на тот факт что в 2012 году продаж вообще не было (видимо поступила в продажу толко в 2013). Продажи PS4 значительно превышают продажи других консолей."
      ]
    },
    {
      "cell_type": "markdown",
      "id": "22402328",
      "metadata": {
        "id": "22402328"
      },
      "source": [
        "Кроме того, можно обратить внимание на платформы XOne и 3DS хотя продажи последней значительно снижаются с 2013 года"
      ]
    },
    {
      "cell_type": "markdown",
      "id": "02e8f60f",
      "metadata": {
        "id": "02e8f60f"
      },
      "source": [
        "## Ящик с усам"
      ]
    },
    {
      "cell_type": "markdown",
      "id": "d5f8b9e8",
      "metadata": {
        "id": "d5f8b9e8"
      },
      "source": [
        "Построим график по глобальным продажам игр в разбивке по игровым платформам."
      ]
    },
    {
      "cell_type": "code",
      "execution_count": null,
      "id": "5d07f5f2",
      "metadata": {
        "scrolled": true,
        "id": "5d07f5f2",
        "outputId": "012a1336-91e0-40f6-c67e-d2bd175bc260"
      },
      "outputs": [
        {
          "data": {
            "text/plain": [
              "Text(0, 0.5, 'Продажи')"
            ]
          },
          "execution_count": 34,
          "metadata": {},
          "output_type": "execute_result"
        },
        {
          "data": {
            "image/png": "[encoded data removed]",
            "text/plain": [
              "<Figure size 1080x360 with 1 Axes>"
            ]
          },
          "metadata": {
            "needs_background": "light"
          },
          "output_type": "display_data"
        }
      ],
      "source": [
        "df_actual.boxplot(column='total_sales', by='platform', figsize=(15, 5))\n",
        "plt.ylim(0, 5000)\n",
        "plt.title('Суммарные продажи за последние 3 лет')\n",
        "plt.xlabel('Платформы')\n",
        "plt.ylabel('Продажи')"
      ]
    },
    {
      "cell_type": "markdown",
      "id": "ab096941",
      "metadata": {
        "id": "ab096941"
      },
      "source": [
        "Очередное подтверждение лидерства PS и Xbox различных поколений."
      ]
    },
    {
      "cell_type": "code",
      "execution_count": null,
      "id": "33c15d65",
      "metadata": {
        "id": "33c15d65",
        "outputId": "fc5e0a28-d3f7-4043-eb1c-420d066710a3"
      },
      "outputs": [
        {
          "data": {
            "text/plain": [
              "Text(0, 0.5, 'Продажи')"
            ]
          },
          "execution_count": 35,
          "metadata": {},
          "output_type": "execute_result"
        },
        {
          "data": {
            "image/png": "[encoded data removed]",
            "text/plain": [
              "<Figure size 1080x360 with 1 Axes>"
            ]
          },
          "metadata": {
            "needs_background": "light"
          },
          "output_type": "display_data"
        }
      ],
      "source": [
        "df_actual.boxplot(column='total_sales', by='platform', figsize=(15, 5))\n",
        "plt.ylim(0, 2000)\n",
        "plt.title('Суммарные продажи за последние 3 лет')\n",
        "plt.xlabel('Платформы')\n",
        "plt.ylabel('Продажи')"
      ]
    },
    {
      "cell_type": "markdown",
      "id": "b950858f",
      "metadata": {
        "id": "b950858f"
      },
      "source": [
        "## Диаграмма рассеяния и корреляция"
      ]
    },
    {
      "cell_type": "markdown",
      "id": "c42db984",
      "metadata": {
        "id": "c42db984"
      },
      "source": [
        "Оценим влияние оценки пользователей и критиков при помощи графиков рассеяния и посчитаем корреляцию на примере консоли PS4."
      ]
    },
    {
      "cell_type": "code",
      "execution_count": null,
      "id": "8e0b36cb",
      "metadata": {
        "id": "8e0b36cb",
        "outputId": "c17b7ff5-78ed-4cce-a950-226a2f4ff4f8"
      },
      "outputs": [
        {
          "data": {
            "text/plain": [
              "<AxesSubplot:xlabel='user_score', ylabel='total_sales'>"
            ]
          },
          "execution_count": 36,
          "metadata": {},
          "output_type": "execute_result"
        },
        {
          "data": {
            "image/png": "[encoded data removed]",
            "text/plain": [
              "<Figure size 432x288 with 1 Axes>"
            ]
          },
          "metadata": {
            "needs_background": "light"
          },
          "output_type": "display_data"
        },
        {
          "data": {
            "image/png": "[encoded data removed]",
            "text/plain": [
              "<Figure size 432x288 with 1 Axes>"
            ]
          },
          "metadata": {
            "needs_background": "light"
          },
          "output_type": "display_data"
        }
      ],
      "source": [
        "PS4 = df_actual.query('platform == \"PS4\"')\n",
        "PS4.plot(x='critic_score', y='total_sales', kind='scatter')\n",
        "PS4.plot(x='user_score', y='total_sales', kind='scatter')\n"
      ]
    },
    {
      "cell_type": "markdown",
      "id": "159732dc",
      "metadata": {
        "id": "159732dc"
      },
      "source": [
        "Согласно графиков, только оценка критиков имеет незначительное влияние на уровень продаж."
      ]
    },
    {
      "cell_type": "code",
      "execution_count": null,
      "id": "45e1cd84",
      "metadata": {
        "id": "45e1cd84",
        "outputId": "8b31ccea-4793-4ca8-a1de-92706e5ea63f"
      },
      "outputs": [
        {
          "data": {
            "text/plain": [
              "0.40266141068104083"
            ]
          },
          "execution_count": 37,
          "metadata": {},
          "output_type": "execute_result"
        }
      ],
      "source": [
        "PS4['total_sales'].corr(PS4['critic_score'])"
      ]
    },
    {
      "cell_type": "code",
      "execution_count": null,
      "id": "37dd617f",
      "metadata": {
        "id": "37dd617f",
        "outputId": "57d2380c-aade-4670-b6d4-0a01c0872718"
      },
      "outputs": [
        {
          "data": {
            "text/plain": [
              "-0.040131589472697314"
            ]
          },
          "execution_count": 38,
          "metadata": {},
          "output_type": "execute_result"
        }
      ],
      "source": [
        "PS4['total_sales'].corr(PS4['user_score'])\n"
      ]
    },
    {
      "cell_type": "markdown",
      "id": "9424b025",
      "metadata": {
        "id": "9424b025"
      },
      "source": [
        "Действительно, корреляция показывает небольшую прямую связь между оценкой критиков и общим уровнем продаж игр для PS4. В то же время оценка пользователей никакого влияния на продажи не имеет."
      ]
    },
    {
      "cell_type": "markdown",
      "id": "dfd9e7c5",
      "metadata": {
        "id": "dfd9e7c5"
      },
      "source": [
        "Проведем такой же анализ для всех платформ."
      ]
    },
    {
      "cell_type": "code",
      "execution_count": null,
      "id": "424aa6f1",
      "metadata": {
        "id": "424aa6f1",
        "outputId": "48a0c82d-0d49-4c45-e231-1085a9f085cd"
      },
      "outputs": [
        {
          "data": {
            "text/plain": [
              "<AxesSubplot:xlabel='user_score', ylabel='total_sales'>"
            ]
          },
          "execution_count": 39,
          "metadata": {},
          "output_type": "execute_result"
        },
        {
          "data": {
            "image/png": "[encoded data removed]",
            "text/plain": [
              "<Figure size 432x288 with 1 Axes>"
            ]
          },
          "metadata": {
            "needs_background": "light"
          },
          "output_type": "display_data"
        },
        {
          "data": {
            "image/png": "[encoded data removed]",
            "text/plain": [
              "<Figure size 432x288 with 1 Axes>"
            ]
          },
          "metadata": {
            "needs_background": "light"
          },
          "output_type": "display_data"
        }
      ],
      "source": [
        "df_actual.plot(x='critic_score', y='total_sales', kind='scatter')\n",
        "df_actual.plot(x='user_score', y='total_sales', kind='scatter')"
      ]
    },
    {
      "cell_type": "code",
      "execution_count": null,
      "id": "42d666ae",
      "metadata": {
        "id": "42d666ae",
        "outputId": "aeea8065-c5c7-4f6a-e7a2-0e7c1df5c6e1"
      },
      "outputs": [
        {
          "data": {
            "text/plain": [
              "0.32810508696636337"
            ]
          },
          "execution_count": 40,
          "metadata": {},
          "output_type": "execute_result"
        }
      ],
      "source": [
        "df_actual['critic_score'].corr(df_actual['total_sales'])"
      ]
    },
    {
      "cell_type": "code",
      "execution_count": null,
      "id": "29a18abe",
      "metadata": {
        "scrolled": true,
        "id": "29a18abe",
        "outputId": "2acf16d4-79a0-414a-e644-46ed4b8c7782"
      },
      "outputs": [
        {
          "data": {
            "text/plain": [
              "-0.013070305002484557"
            ]
          },
          "execution_count": 41,
          "metadata": {},
          "output_type": "execute_result"
        }
      ],
      "source": [
        "df_actual['user_score'].corr(df_actual['total_sales'])"
      ]
    },
    {
      "cell_type": "markdown",
      "id": "f0ffc2bb",
      "metadata": {
        "id": "f0ffc2bb"
      },
      "source": [
        "Мы видим похожий результат. Оценка критиков влияет на повышение уровня продаж."
      ]
    },
    {
      "cell_type": "markdown",
      "id": "a002ff11",
      "metadata": {
        "id": "a002ff11"
      },
      "source": [
        "## Распределение по жанрам"
      ]
    },
    {
      "cell_type": "markdown",
      "id": "c5ef9dcd",
      "metadata": {
        "id": "c5ef9dcd"
      },
      "source": [
        "Оценим общее количество игр за актуальный период по жанрам."
      ]
    },
    {
      "cell_type": "code",
      "execution_count": null,
      "id": "5732e734",
      "metadata": {
        "scrolled": true,
        "id": "5732e734",
        "outputId": "fbbe1a61-5c85-44dd-ec49-50dd15b50633"
      },
      "outputs": [
        {
          "data": {
            "text/plain": [
              "genre\n",
              "Action          619\n",
              "Role-Playing    221\n",
              "Adventure       185\n",
              "Sports          161\n",
              "Shooter         128\n",
              "Misc            113\n",
              "Racing           69\n",
              "Fighting         60\n",
              "Simulation       44\n",
              "Platform         38\n",
              "Strategy         37\n",
              "Puzzle           14\n",
              "Name: name, dtype: int64"
            ]
          },
          "execution_count": 42,
          "metadata": {},
          "output_type": "execute_result"
        }
      ],
      "source": [
        "genre_grouped = df_actual.groupby('genre')['name'].count()\n",
        "genre_grouped.sort_values(ascending=False)"
      ]
    },
    {
      "cell_type": "markdown",
      "id": "a75ea5a5",
      "metadata": {
        "id": "a75ea5a5"
      },
      "source": [
        "Наибольшее количество игр произведенные в актуальный период имеют жанр 'Action'. "
      ]
    },
    {
      "cell_type": "code",
      "execution_count": null,
      "id": "251f7d02",
      "metadata": {
        "id": "251f7d02",
        "outputId": "3142cd1b-0847-49ce-e714-d932cb617b7d"
      },
      "outputs": [
        {
          "data": {
            "text/plain": [
              "genre\n",
              "Action          199360\n",
              "Shooter         170940\n",
              "Sports          109480\n",
              "Role-Playing    101440\n",
              "Misc             37549\n",
              "Fighting         28220\n",
              "Racing           27520\n",
              "Platform         18090\n",
              "Adventure        17550\n",
              "Simulation       13130\n",
              "Strategy          3960\n",
              "Puzzle            2210\n",
              "Name: total_sales, dtype: int32"
            ]
          },
          "execution_count": 43,
          "metadata": {},
          "output_type": "execute_result"
        }
      ],
      "source": [
        "genre_grouped = df_actual.groupby('genre')['total_sales'].sum()\n",
        "genre_grouped.sort_values(ascending=False)"
      ]
    },
    {
      "cell_type": "markdown",
      "id": "6f209520",
      "metadata": {
        "id": "6f209520"
      },
      "source": [
        "Так же логично что игры самого популярного жанра имеют самое большое количество продаж. Однако, удивляют высокие продажи жанра 'Shooter'. Учитывая тот факт, что новые игры этого жанра выпускались более чем в 4 раза реже, они имеют сопоставимые продажи с играми жанра 'Action', что говорит об их высочайщей популярности. Кроме того высокую популярность как у производителей игра так и у геймеров имеют жанры 'Role-Playing' и 'Sports'.\n"
      ]
    },
    {
      "cell_type": "markdown",
      "id": "28c2fc1e",
      "metadata": {
        "id": "28c2fc1e"
      },
      "source": [
        "В то же время следуют отметить крайне низкие продажи игр жанра 'Adventure', не смотря на достаточно большое количество созданных игр этого жанра."
      ]
    },
    {
      "cell_type": "code",
      "execution_count": null,
      "id": "04b81841",
      "metadata": {
        "id": "04b81841",
        "outputId": "a5b731c1-80f6-4caa-df71-04e20026459a"
      },
      "outputs": [
        {
          "data": {
            "text/plain": [
              "<AxesSubplot:>"
            ]
          },
          "execution_count": 44,
          "metadata": {},
          "output_type": "execute_result"
        },
        {
          "data": {
            "image/png": "[encoded data removed]",
            "text/plain": [
              "<Figure size 1080x360 with 1 Axes>"
            ]
          },
          "metadata": {
            "needs_background": "light"
          },
          "output_type": "display_data"
        }
      ],
      "source": [
        "df_actual['genre'].hist(bins=23, figsize=(15, 5))"
      ]
    },
    {
      "cell_type": "markdown",
      "id": "93cf914a",
      "metadata": {
        "id": "93cf914a"
      },
      "source": [
        "# Портрет пользователя"
      ]
    },
    {
      "cell_type": "markdown",
      "id": "e3ae34c2",
      "metadata": {
        "id": "e3ae34c2"
      },
      "source": [
        "Создадим портрет пользователя, анализирую лучшие платформы и игры, а так же рейтинг ESRB для каждого региона"
      ]
    },
    {
      "cell_type": "markdown",
      "id": "eb14ab01",
      "metadata": {
        "id": "eb14ab01"
      },
      "source": [
        "## North America"
      ]
    },
    {
      "cell_type": "markdown",
      "id": "ee7a8396",
      "metadata": {
        "id": "ee7a8396"
      },
      "source": [
        "Посмотрим топ платформ в регионе"
      ]
    },
    {
      "cell_type": "code",
      "execution_count": null,
      "id": "e776277c",
      "metadata": {
        "id": "e776277c",
        "outputId": "9e1dac99-5aab-49b2-e122-8776bed35303"
      },
      "outputs": [
        {
          "data": {
            "text/plain": [
              "platform\n",
              "PS4     98610\n",
              "XOne    81270\n",
              "X360    28300\n",
              "3DS     22640\n",
              "PS3     22049\n",
              "WiiU    19360\n",
              "PC       7230\n",
              "PSV      2520\n",
              "Wii      2080\n",
              "PSP         0\n",
              "Name: na_sales, dtype: int32"
            ]
          },
          "execution_count": 45,
          "metadata": {},
          "output_type": "execute_result"
        }
      ],
      "source": [
        "platform_na = df_actual.groupby('platform')['na_sales'].sum()\n",
        "platform_na.sort_values(ascending=False)"
      ]
    },
    {
      "cell_type": "markdown",
      "id": "36308e59",
      "metadata": {
        "id": "36308e59"
      },
      "source": [
        "Очевидное лидерство новых версий PS и Xbox."
      ]
    },
    {
      "cell_type": "code",
      "execution_count": null,
      "id": "83a2105c",
      "metadata": {
        "id": "83a2105c",
        "outputId": "7cd83324-4bfd-4505-fb7d-1376611111ea"
      },
      "outputs": [
        {
          "data": {
            "text/plain": [
              "genre\n",
              "Shooter         79020\n",
              "Action          72530\n",
              "Sports          46130\n",
              "Role-Playing    33470\n",
              "Misc            15049\n",
              "Fighting        12430\n",
              "Racing           8740\n",
              "Platform         6790\n",
              "Adventure        5640\n",
              "Simulation       2630\n",
              "Strategy          980\n",
              "Puzzle            650\n",
              "Name: na_sales, dtype: int32"
            ]
          },
          "execution_count": 46,
          "metadata": {},
          "output_type": "execute_result"
        }
      ],
      "source": [
        "genre_na = df_actual.groupby('genre')['na_sales'].sum()\n",
        "genre_na.sort_values(ascending=False)"
      ]
    },
    {
      "cell_type": "markdown",
      "id": "09868c17",
      "metadata": {
        "id": "09868c17"
      },
      "source": [
        "Так же самые предпочитаемые жанры в Северной Америке это Action и Shooter, продажи которых значительно превышат продажи других видов."
      ]
    },
    {
      "cell_type": "code",
      "execution_count": null,
      "id": "9ace8340",
      "metadata": {
        "id": "9ace8340",
        "outputId": "1fbaa5d3-bd00-47b0-a053-c73fb0b8ef20"
      },
      "outputs": [
        {
          "data": {
            "text/plain": [
              "rating\n",
              "M          96420\n",
              "unknown    64719\n",
              "E          50740\n",
              "T          38950\n",
              "E10+       33230\n",
              "Name: na_sales, dtype: int32"
            ]
          },
          "execution_count": 47,
          "metadata": {},
          "output_type": "execute_result"
        }
      ],
      "source": [
        "rating_na = df_actual.groupby('rating')['na_sales'].sum()\n",
        "rating_na.sort_values(ascending=False)"
      ]
    },
    {
      "cell_type": "markdown",
      "id": "b16a862b",
      "metadata": {
        "id": "b16a862b"
      },
      "source": [
        "Лидерами продаж в Северной Америке являются игры для взрослых старше 17 лет. Хотя это логино, так как популярный жанр - 'shooter' зачастую подразумевает определенный уровень жестокости и,соответсвтенно, имеем возрастные ограничения."
      ]
    },
    {
      "cell_type": "code",
      "execution_count": null,
      "id": "d10dfc75",
      "metadata": {
        "id": "d10dfc75",
        "outputId": "c5561832-8384-4db3-ee83-323c2687aa2d"
      },
      "outputs": [
        {
          "data": {
            "image/png": "[encoded data removed]",
            "text/plain": [
              "<Figure size 432x288 with 1 Axes>"
            ]
          },
          "metadata": {},
          "output_type": "display_data"
        }
      ],
      "source": [
        "fig, ax = plt.subplots() \n",
        "ax.pie(rating_na, labels=rating_na.index, autopct='%1.1f%%',\n",
        "        shadow=True, startangle=90) \n",
        "plt.show() "
      ]
    },
    {
      "cell_type": "markdown",
      "id": "2c2249e7",
      "metadata": {
        "id": "2c2249e7"
      },
      "source": [
        "Самыми популярными остаются игры для взрослых. Между остальными категориями проценты распределены примерно одинаково."
      ]
    },
    {
      "cell_type": "markdown",
      "id": "89244544",
      "metadata": {
        "id": "89244544"
      },
      "source": [
        "## Europe"
      ]
    },
    {
      "cell_type": "code",
      "execution_count": null,
      "id": "4881bee0",
      "metadata": {
        "id": "4881bee0",
        "outputId": "95bd4f64-6769-4517-9fa4-9007c1eb92db"
      },
      "outputs": [
        {
          "data": {
            "text/plain": [
              "platform\n",
              "PS4     130040\n",
              "XOne     46250\n",
              "PS3      25540\n",
              "PC       17970\n",
              "3DS      16120\n",
              "X360     15490\n",
              "WiiU     13150\n",
              "PSV       3530\n",
              "Wii       2590\n",
              "PSP          0\n",
              "Name: eu_sales, dtype: int32"
            ]
          },
          "execution_count": 49,
          "metadata": {},
          "output_type": "execute_result"
        }
      ],
      "source": [
        "platform_eu = df_actual.groupby('platform')['eu_sales'].sum()\n",
        "platform_eu.sort_values(ascending=False)"
      ]
    },
    {
      "cell_type": "markdown",
      "id": "677e8f0d",
      "metadata": {
        "id": "677e8f0d"
      },
      "source": [
        "Ситуация схожа с Северной Америкой, однако в отличие от СА здесь платформы PS имеют значительно большую популярность чем Xbox."
      ]
    },
    {
      "cell_type": "code",
      "execution_count": null,
      "id": "2b70f26e",
      "metadata": {
        "id": "2b70f26e",
        "outputId": "72f3676a-d4f4-45c0-e81a-8a561be1b8f5"
      },
      "outputs": [
        {
          "data": {
            "text/plain": [
              "genre\n",
              "Action          74680\n",
              "Shooter         65520\n",
              "Sports          45730\n",
              "Role-Playing    28170\n",
              "Racing          14130\n",
              "Misc            12860\n",
              "Simulation       7300\n",
              "Platform         6800\n",
              "Fighting         6690\n",
              "Adventure        6490\n",
              "Strategy         1790\n",
              "Puzzle            520\n",
              "Name: eu_sales, dtype: int32"
            ]
          },
          "execution_count": 50,
          "metadata": {},
          "output_type": "execute_result"
        }
      ],
      "source": [
        "genre_eu = df_actual.groupby('genre')['eu_sales'].sum()\n",
        "genre_eu.sort_values(ascending=False)"
      ]
    },
    {
      "cell_type": "markdown",
      "id": "17cb34f0",
      "metadata": {
        "id": "17cb34f0"
      },
      "source": [
        "Та же ситуация. Мы четко определили популярнейшие жанры."
      ]
    },
    {
      "cell_type": "code",
      "execution_count": null,
      "id": "6be123dd",
      "metadata": {
        "scrolled": true,
        "id": "6be123dd",
        "outputId": "a2bfe4e6-d2da-495c-bef3-0860210062e0"
      },
      "outputs": [
        {
          "data": {
            "text/plain": [
              "rating\n",
              "M          93440\n",
              "unknown    58950\n",
              "E          58060\n",
              "T          34070\n",
              "E10+       26160\n",
              "Name: eu_sales, dtype: int32"
            ]
          },
          "execution_count": 51,
          "metadata": {},
          "output_type": "execute_result"
        }
      ],
      "source": [
        "rating_eu = df_actual.groupby('rating')['eu_sales'].sum()\n",
        "rating_eu.sort_values(ascending=False)"
      ]
    },
    {
      "cell_type": "code",
      "execution_count": null,
      "id": "b1da6cd3",
      "metadata": {
        "id": "b1da6cd3",
        "outputId": "2709002b-118a-4b66-e8ea-66faa14c4a6d"
      },
      "outputs": [
        {
          "data": {
            "image/png": "[encoded data removed]",
            "text/plain": [
              "<Figure size 432x288 with 1 Axes>"
            ]
          },
          "metadata": {},
          "output_type": "display_data"
        }
      ],
      "source": [
        "fig, ax = plt.subplots() \n",
        "ax.pie(rating_eu, labels=rating_eu.index, autopct='%1.1f%%',\n",
        "        shadow=True, startangle=90) \n",
        "plt.show() "
      ]
    },
    {
      "cell_type": "markdown",
      "id": "8a4e5f2a",
      "metadata": {
        "id": "8a4e5f2a"
      },
      "source": [
        "И здесь все предельно логично"
      ]
    },
    {
      "cell_type": "markdown",
      "id": "cb4e8698",
      "metadata": {
        "id": "cb4e8698"
      },
      "source": [
        "## Japan"
      ]
    },
    {
      "cell_type": "code",
      "execution_count": null,
      "id": "f2ae940f",
      "metadata": {
        "scrolled": true,
        "id": "f2ae940f",
        "outputId": "c359143f-3ff6-42db-c833-b8dc328ff160"
      },
      "outputs": [
        {
          "data": {
            "text/plain": [
              "platform\n",
              "3DS     44240\n",
              "PS4     15020\n",
              "PSV     14540\n",
              "PS3     11220\n",
              "WiiU     7310\n",
              "PSP       360\n",
              "XOne      320\n",
              "X360       80\n",
              "PC          0\n",
              "Wii         0\n",
              "Name: jp_sales, dtype: int32"
            ]
          },
          "execution_count": 52,
          "metadata": {},
          "output_type": "execute_result"
        }
      ],
      "source": [
        "platform_jp = df_actual.groupby('platform')['jp_sales'].sum()\n",
        "platform_jp.sort_values(ascending=False)"
      ]
    },
    {
      "cell_type": "markdown",
      "id": "0c87b0ed",
      "metadata": {
        "id": "0c87b0ed"
      },
      "source": [
        "В Японии другое распределение популярности. Наиболее популярная платформа 3DS (видимо, местного производства), продажи которой значительно превосходят конкурентов. Так же популярны платформы PS. В то же время платформы Xbox находятся в конце списка и являются наименее популярными."
      ]
    },
    {
      "cell_type": "code",
      "execution_count": null,
      "id": "d89528dd",
      "metadata": {
        "id": "d89528dd",
        "outputId": "6a3d3ce3-54a0-443c-96a8-2835ed11907b"
      },
      "outputs": [
        {
          "data": {
            "text/plain": [
              "genre\n",
              "Role-Playing    31160\n",
              "Action          29580\n",
              "Fighting         6370\n",
              "Misc             5610\n",
              "Shooter          4870\n",
              "Adventure        3600\n",
              "Sports           3260\n",
              "Platform         2690\n",
              "Simulation       2310\n",
              "Racing           1760\n",
              "Strategy          950\n",
              "Puzzle            930\n",
              "Name: jp_sales, dtype: int32"
            ]
          },
          "execution_count": 53,
          "metadata": {},
          "output_type": "execute_result"
        }
      ],
      "source": [
        "genre_jp = df_actual.groupby('genre')['jp_sales'].sum()\n",
        "genre_jp.sort_values(ascending=False)"
      ]
    },
    {
      "cell_type": "markdown",
      "id": "cef41276",
      "metadata": {
        "id": "cef41276"
      },
      "source": [
        "И снова Японцы выделились. Популярный жанр 'Shooter' в других странах, находится в середине списка в Японии, в то время как \"Role-Playing\" и \"Action\" является самым продаваемым жанром в Японии."
      ]
    },
    {
      "cell_type": "code",
      "execution_count": null,
      "id": "77c43478",
      "metadata": {
        "id": "77c43478",
        "outputId": "9c73a253-3976-462a-f200-7a9d61b547a8"
      },
      "outputs": [
        {
          "data": {
            "text/plain": [
              "rating\n",
              "unknown    56900\n",
              "T          14780\n",
              "E           8940\n",
              "M           8010\n",
              "E10+        4460\n",
              "Name: jp_sales, dtype: int32"
            ]
          },
          "execution_count": 54,
          "metadata": {},
          "output_type": "execute_result"
        }
      ],
      "source": [
        "rating_jp = df_actual.groupby('rating')['jp_sales'].sum()\n",
        "rating_jp.sort_values(ascending=False)"
      ]
    },
    {
      "cell_type": "code",
      "execution_count": null,
      "id": "c801cebe",
      "metadata": {
        "scrolled": true,
        "id": "c801cebe",
        "outputId": "03db6966-6f14-4b67-cede-53dbf2614890"
      },
      "outputs": [
        {
          "data": {
            "image/png": "[encoded data removed]",
            "text/plain": [
              "<Figure size 432x288 with 1 Axes>"
            ]
          },
          "metadata": {},
          "output_type": "display_data"
        }
      ],
      "source": [
        "fig, ax = plt.subplots() \n",
        "ax.pie(rating_jp, labels=rating_jp.index, autopct='%1.1f%%',\n",
        "        shadow=True, startangle=90) \n",
        "plt.show() "
      ]
    },
    {
      "cell_type": "markdown",
      "id": "7e7de46d",
      "metadata": {
        "id": "7e7de46d"
      },
      "source": [
        "Необычные Японцы как обчно выделяются. Более 60% игр без возрастного рейтинга. Возможно в Японии данный критерий вообще не учитывается при создании игр, а те игры которые имеют рейтинги произведены в других странах. Просто предположение."
      ]
    },
    {
      "cell_type": "markdown",
      "id": "38d80e63",
      "metadata": {
        "id": "38d80e63"
      },
      "source": [
        "# Гипотезы"
      ]
    },
    {
      "cell_type": "markdown",
      "id": "c5cf1f9d",
      "metadata": {
        "id": "c5cf1f9d"
      },
      "source": [
        "## Рейтинги платформ"
      ]
    },
    {
      "cell_type": "markdown",
      "id": "ce633bc8",
      "metadata": {
        "id": "ce633bc8"
      },
      "source": [
        "Примем за нулевую гипотезу равенство средних значений генеральных совокупностей по оценке пользователей для платформ Xbox One и PS. "
      ]
    },
    {
      "cell_type": "markdown",
      "id": "99c36ca1",
      "metadata": {
        "id": "99c36ca1"
      },
      "source": [
        "Следовательно альтернативня гипотеза будет означать неравенство генеральных совокупностей."
      ]
    },
    {
      "cell_type": "code",
      "execution_count": null,
      "id": "21c8b05d",
      "metadata": {
        "id": "21c8b05d",
        "outputId": "c0a3b31a-6c42-4256-ef36-410e862641dc"
      },
      "outputs": [
        {
          "name": "stdout",
          "output_type": "stream",
          "text": [
            "p-значение: 0.0830428703558185\n",
            "Не получилось отвергнуть нулевую гипотезу\n"
          ]
        }
      ],
      "source": [
        "Xbox = df.query('platform == \"XOne\"')\n",
        "Xbox = Xbox.dropna(subset=['user_score'])\n",
        "PS = df.query('platform == \"PS3\"')\n",
        "PS = PS.dropna(subset=['user_score'])\n",
        "alpha = .05\n",
        "results = st.ttest_ind(Xbox['user_score'], PS['user_score'], equal_var = False)\n",
        "print('p-значение:', results.pvalue)\n",
        "\n",
        "if results.pvalue < alpha:\n",
        "    print(\"Отвергаем нулевую гипотезу\")\n",
        "else:\n",
        "    print(\"Не получилось отвергнуть нулевую гипотезу\") "
      ]
    },
    {
      "cell_type": "markdown",
      "id": "078ecdca",
      "metadata": {
        "id": "078ecdca"
      },
      "source": [
        "Cредние значения генеральных совокупностей по оценке пользователей для платформ Xbox One и PS равны."
      ]
    },
    {
      "cell_type": "markdown",
      "id": "c133328f",
      "metadata": {
        "id": "c133328f"
      },
      "source": [
        "## Рейтинг жанров"
      ]
    },
    {
      "cell_type": "markdown",
      "id": "23d163b9",
      "metadata": {
        "id": "23d163b9"
      },
      "source": [
        "Примем за нулевую гипотезу равенство средних значений генеральных совокупностей по оценке пользователей для жанров Action и Sports."
      ]
    },
    {
      "cell_type": "markdown",
      "id": "adf6cb7d",
      "metadata": {
        "id": "adf6cb7d"
      },
      "source": [
        "Следовательно альтернативня гипотеза будет означать неравенство генеральных совокупностей."
      ]
    },
    {
      "cell_type": "code",
      "execution_count": null,
      "id": "cf8f1f9d",
      "metadata": {
        "id": "cf8f1f9d",
        "outputId": "371188d8-5d7a-4a02-bbd1-8d3a2e14b321"
      },
      "outputs": [
        {
          "name": "stdout",
          "output_type": "stream",
          "text": [
            "p-значение: 0.07370217419278534\n",
            "Не получилось отвергнуть нулевую гипотезу\n"
          ]
        }
      ],
      "source": [
        "Action = df.query('genre == \"Action\"')\n",
        "Action = Action.dropna(subset=['user_score'])\n",
        "Sports = df.query('genre == \"Sports\"')\n",
        "Sports = Sports.dropna(subset=['user_score'])\n",
        "alpha = .05\n",
        "results = st.ttest_ind(Action['user_score'], Sports['user_score'], equal_var = False)\n",
        "print('p-значение:', results.pvalue)\n",
        "\n",
        "if results.pvalue < alpha:\n",
        "    print(\"Отвергаем нулевую гипотезу\")\n",
        "else:\n",
        "    print(\"Не получилось отвергнуть нулевую гипотезу\") "
      ]
    },
    {
      "cell_type": "markdown",
      "id": "ef5aca62",
      "metadata": {
        "id": "ef5aca62"
      },
      "source": [
        "Cредние значения генеральных совокупностей по оценке пользователей для жанров Action и Sports равны."
      ]
    },
    {
      "cell_type": "markdown",
      "id": "416c8934",
      "metadata": {
        "id": "416c8934"
      },
      "source": [
        "# Вывод"
      ]
    },
    {
      "cell_type": "markdown",
      "id": "a3342010",
      "metadata": {
        "id": "a3342010"
      },
      "source": [
        "Исследование показало, что успешность игры определяется следующими критериями:\n",
        "    \n",
        "    1. Игровая платформа. Абсолютно видна популярность таких консолей как PS и Xbox, что делает игры, создаваемые для этих консолей наиболее успешными и продаваемыми. Предлагаю сделать акцент именно на современные модели указанных консолей. В то же время для Японского рынка необходимо делать корректировку смещая акценты на PS, 3DS и WiiU, исключая Xbox.\n",
        "    2. Жанр. Здесь так же стоит выделить лидерство с огромным отрывом таких жанров как 'Action' и 'Shooter', а так же 'Role-Playing', который за счет японского рынка компьютерных игр является так же хорошо продаваемым.\n",
        "    3. ESRB рейтинг. Сомневаюсь, что нужно делать какой-либо определенный акцент на этот критерий, так как его определяет тип жанра.\n",
        "    4. Оценка критиков. При планировании рекламной кампании компьтерных игр также следует акцентировать внимание на оценку критиков. Так как существует прямая сывязь таких оценок с ростом продаж."
      ]
    }
  ],
  "metadata": {
    "ExecuteTimeLog": [
      {
        "duration": 1521,
        "start_time": "2022-05-18T14:27:27.561Z"
      },
      {
        "duration": 109,
        "start_time": "2022-05-18T14:27:29.083Z"
      },
      {
        "duration": 13,
        "start_time": "2022-05-18T14:27:29.195Z"
      },
      {
        "duration": 36,
        "start_time": "2022-05-18T14:27:29.211Z"
      },
      {
        "duration": 39,
        "start_time": "2022-05-18T14:27:29.249Z"
      },
      {
        "duration": 30,
        "start_time": "2022-05-18T14:27:29.290Z"
      },
      {
        "duration": 33,
        "start_time": "2022-05-18T14:27:29.327Z"
      },
      {
        "duration": 7,
        "start_time": "2022-05-18T14:27:29.361Z"
      },
      {
        "duration": 14,
        "start_time": "2022-05-18T14:27:29.370Z"
      },
      {
        "duration": 6,
        "start_time": "2022-05-18T14:27:29.387Z"
      },
      {
        "duration": 50,
        "start_time": "2022-05-18T14:27:29.395Z"
      },
      {
        "duration": 15,
        "start_time": "2022-05-18T14:27:29.447Z"
      },
      {
        "duration": 11,
        "start_time": "2022-05-18T14:27:29.464Z"
      },
      {
        "duration": 6,
        "start_time": "2022-05-18T14:27:29.477Z"
      },
      {
        "duration": 21,
        "start_time": "2022-05-18T14:27:29.484Z"
      },
      {
        "duration": 41,
        "start_time": "2022-05-18T14:27:29.506Z"
      },
      {
        "duration": 10,
        "start_time": "2022-05-18T14:27:29.549Z"
      },
      {
        "duration": 20,
        "start_time": "2022-05-18T14:27:29.561Z"
      },
      {
        "duration": 20,
        "start_time": "2022-05-18T14:27:29.583Z"
      },
      {
        "duration": 30,
        "start_time": "2022-05-18T14:27:29.605Z"
      },
      {
        "duration": 15,
        "start_time": "2022-05-18T14:27:29.636Z"
      },
      {
        "duration": 21,
        "start_time": "2022-05-18T14:27:29.652Z"
      },
      {
        "duration": 7,
        "start_time": "2022-05-18T14:27:29.674Z"
      },
      {
        "duration": 31,
        "start_time": "2022-05-18T14:27:29.683Z"
      },
      {
        "duration": 387,
        "start_time": "2022-05-18T14:27:29.716Z"
      },
      {
        "duration": 7,
        "start_time": "2022-05-18T14:27:30.105Z"
      },
      {
        "duration": 11,
        "start_time": "2022-05-18T14:27:30.114Z"
      },
      {
        "duration": 32,
        "start_time": "2022-05-18T14:27:30.130Z"
      },
      {
        "duration": 358,
        "start_time": "2022-05-18T14:27:30.164Z"
      },
      {
        "duration": 21,
        "start_time": "2022-05-18T14:27:30.524Z"
      },
      {
        "duration": 394,
        "start_time": "2022-05-18T14:27:30.547Z"
      },
      {
        "duration": 320,
        "start_time": "2022-05-18T14:27:30.945Z"
      },
      {
        "duration": 7,
        "start_time": "2022-05-18T14:27:31.267Z"
      },
      {
        "duration": 47,
        "start_time": "2022-05-18T14:27:31.275Z"
      },
      {
        "duration": 315,
        "start_time": "2022-05-18T14:27:31.324Z"
      },
      {
        "duration": 5,
        "start_time": "2022-05-18T14:27:31.643Z"
      },
      {
        "duration": 26,
        "start_time": "2022-05-18T14:27:31.650Z"
      },
      {
        "duration": 19,
        "start_time": "2022-05-18T14:27:31.677Z"
      },
      {
        "duration": 22,
        "start_time": "2022-05-18T14:27:31.698Z"
      },
      {
        "duration": 35,
        "start_time": "2022-05-18T14:27:31.722Z"
      },
      {
        "duration": 39,
        "start_time": "2022-05-18T14:27:31.758Z"
      },
      {
        "duration": 26,
        "start_time": "2022-05-18T14:27:31.799Z"
      },
      {
        "duration": 40,
        "start_time": "2022-05-18T14:27:31.827Z"
      },
      {
        "duration": 26,
        "start_time": "2022-05-18T14:27:31.869Z"
      },
      {
        "duration": 22,
        "start_time": "2022-05-18T14:27:31.897Z"
      },
      {
        "duration": 33,
        "start_time": "2022-05-18T14:27:31.920Z"
      },
      {
        "duration": 40,
        "start_time": "2022-05-18T14:27:31.955Z"
      },
      {
        "duration": 94,
        "start_time": "2022-05-18T14:27:31.997Z"
      },
      {
        "duration": 32,
        "start_time": "2022-05-18T14:27:32.093Z"
      },
      {
        "duration": 34,
        "start_time": "2022-05-18T14:27:32.130Z"
      }
    ],
    "kernelspec": {
      "display_name": "Python 3 (ipykernel)",
      "language": "python",
      "name": "python3"
    },
    "language_info": {
      "codemirror_mode": {
        "name": "ipython",
        "version": 3
      },
      "file_extension": ".py",
      "mimetype": "text/x-python",
      "name": "python",
      "nbconvert_exporter": "python",
      "pygments_lexer": "ipython3",
      "version": "3.9.12"
    },
    "toc": {
      "base_numbering": 1,
      "nav_menu": {},
      "number_sections": true,
      "sideBar": true,
      "skip_h1_title": true,
      "title_cell": "Table of Contents",
      "title_sidebar": "Contents",
      "toc_cell": false,
      "toc_position": {},
      "toc_section_display": true,
      "toc_window_display": false
    },
    "colab": {
      "provenance": []
    }
  },
  "nbformat": 4,
  "nbformat_minor": 5
}