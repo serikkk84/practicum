{
  "cells": [
    {
      "cell_type": "markdown",
      "metadata": {
        "id": "gOMDUCxTZqCB"
      },
      "source": [
        "# Выбор локации для скважины"
      ]
    },
    {
      "cell_type": "markdown",
      "metadata": {
        "id": "Yz1EdgmjZqCD"
      },
      "source": [
        "## Загрузка и подготовка данных"
      ]
    },
    {
      "cell_type": "markdown",
      "metadata": {
        "id": "COzuHuYyZqCD"
      },
      "source": [
        "Итак, нам необходимо на основе машинного обучения выбрать один из трех регионов для разработки 200 нефтянных скважин. Следует учитывать, что вероятность убытков разработки месторождений не должна превышать 2.5% при стоимости 450 рублей за один баррель и общем бюджете на разработку 10 млрд рублей.\n",
        "\n",
        "Исходя из заданиясоставим небольшой план действий:\n",
        "- изучим данные;\n",
        "- обучим модель;\n",
        "- оценим необходимый объем продукта для безубыточной разработки;\n",
        "- расчитаем прибыли и убытки по предсказаниям модели, в том чсисле используя технику \"Bootstrap\"."
      ]
    },
    {
      "cell_type": "markdown",
      "metadata": {
        "id": "xIkmEabmZqCG"
      },
      "source": [
        "Первым делом загрузим необходимые для проведения исследования библиотеки."
      ]
    },
    {
      "cell_type": "code",
      "execution_count": null,
      "metadata": {
        "id": "T0uBJ884ZqCH"
      },
      "outputs": [],
      "source": [
        "import pandas as pd\n",
        "\n",
        "import numpy as np\n",
        "from numpy.random import RandomState\n",
        "\n",
        "from sklearn.linear_model import LinearRegression\n",
        "from sklearn.metrics import mean_squared_error\n",
        "from sklearn.model_selection import train_test_split\n",
        "\n",
        "import matplotlib.pyplot as plt\n"
      ]
    },
    {
      "cell_type": "markdown",
      "metadata": {
        "id": "XdkbZw_5ZqCL"
      },
      "source": [
        "Попытался разделить библиотеки. Про пакет isort начал читать. Пока немного сложновато, но обязательно справлюсь."
      ]
    },
    {
      "cell_type": "markdown",
      "metadata": {
        "id": "wCoOwU37ZqCN"
      },
      "source": [
        "Загрузим имеющиеся данные по трем регионам."
      ]
    },
    {
      "cell_type": "code",
      "execution_count": null,
      "metadata": {
        "scrolled": true,
        "id": "94O31BPBZqCN",
        "outputId": "d2608918-4e3f-49a4-ca2d-95f4a0a0b31a"
      },
      "outputs": [
        {
          "data": {
            "text/html": [
              "<div>\n",
              "<style scoped>\n",
              "    .dataframe tbody tr th:only-of-type {\n",
              "        vertical-align: middle;\n",
              "    }\n",
              "\n",
              "    .dataframe tbody tr th {\n",
              "        vertical-align: top;\n",
              "    }\n",
              "\n",
              "    .dataframe thead th {\n",
              "        text-align: right;\n",
              "    }\n",
              "</style>\n",
              "<table border=\"1\" class=\"dataframe\">\n",
              "  <thead>\n",
              "    <tr style=\"text-align: right;\">\n",
              "      <th></th>\n",
              "      <th>id</th>\n",
              "      <th>f0</th>\n",
              "      <th>f1</th>\n",
              "      <th>f2</th>\n",
              "      <th>product</th>\n",
              "    </tr>\n",
              "  </thead>\n",
              "  <tbody>\n",
              "    <tr>\n",
              "      <th>0</th>\n",
              "      <td>txEyH</td>\n",
              "      <td>0.705745</td>\n",
              "      <td>-0.497823</td>\n",
              "      <td>1.221170</td>\n",
              "      <td>105.280062</td>\n",
              "    </tr>\n",
              "    <tr>\n",
              "      <th>1</th>\n",
              "      <td>2acmU</td>\n",
              "      <td>1.334711</td>\n",
              "      <td>-0.340164</td>\n",
              "      <td>4.365080</td>\n",
              "      <td>73.037750</td>\n",
              "    </tr>\n",
              "    <tr>\n",
              "      <th>2</th>\n",
              "      <td>409Wp</td>\n",
              "      <td>1.022732</td>\n",
              "      <td>0.151990</td>\n",
              "      <td>1.419926</td>\n",
              "      <td>85.265647</td>\n",
              "    </tr>\n",
              "    <tr>\n",
              "      <th>3</th>\n",
              "      <td>iJLyR</td>\n",
              "      <td>-0.032172</td>\n",
              "      <td>0.139033</td>\n",
              "      <td>2.978566</td>\n",
              "      <td>168.620776</td>\n",
              "    </tr>\n",
              "    <tr>\n",
              "      <th>4</th>\n",
              "      <td>Xdl7t</td>\n",
              "      <td>1.988431</td>\n",
              "      <td>0.155413</td>\n",
              "      <td>4.751769</td>\n",
              "      <td>154.036647</td>\n",
              "    </tr>\n",
              "    <tr>\n",
              "      <th>...</th>\n",
              "      <td>...</td>\n",
              "      <td>...</td>\n",
              "      <td>...</td>\n",
              "      <td>...</td>\n",
              "      <td>...</td>\n",
              "    </tr>\n",
              "    <tr>\n",
              "      <th>99995</th>\n",
              "      <td>DLsed</td>\n",
              "      <td>0.971957</td>\n",
              "      <td>0.370953</td>\n",
              "      <td>6.075346</td>\n",
              "      <td>110.744026</td>\n",
              "    </tr>\n",
              "    <tr>\n",
              "      <th>99996</th>\n",
              "      <td>QKivN</td>\n",
              "      <td>1.392429</td>\n",
              "      <td>-0.382606</td>\n",
              "      <td>1.273912</td>\n",
              "      <td>122.346843</td>\n",
              "    </tr>\n",
              "    <tr>\n",
              "      <th>99997</th>\n",
              "      <td>3rnvd</td>\n",
              "      <td>1.029585</td>\n",
              "      <td>0.018787</td>\n",
              "      <td>-1.348308</td>\n",
              "      <td>64.375443</td>\n",
              "    </tr>\n",
              "    <tr>\n",
              "      <th>99998</th>\n",
              "      <td>7kl59</td>\n",
              "      <td>0.998163</td>\n",
              "      <td>-0.528582</td>\n",
              "      <td>1.583869</td>\n",
              "      <td>74.040764</td>\n",
              "    </tr>\n",
              "    <tr>\n",
              "      <th>99999</th>\n",
              "      <td>1CWhH</td>\n",
              "      <td>1.764754</td>\n",
              "      <td>-0.266417</td>\n",
              "      <td>5.722849</td>\n",
              "      <td>149.633246</td>\n",
              "    </tr>\n",
              "  </tbody>\n",
              "</table>\n",
              "<p>100000 rows × 5 columns</p>\n",
              "</div>"
            ],
            "text/plain": [
              "          id        f0        f1        f2     product\n",
              "0      txEyH  0.705745 -0.497823  1.221170  105.280062\n",
              "1      2acmU  1.334711 -0.340164  4.365080   73.037750\n",
              "2      409Wp  1.022732  0.151990  1.419926   85.265647\n",
              "3      iJLyR -0.032172  0.139033  2.978566  168.620776\n",
              "4      Xdl7t  1.988431  0.155413  4.751769  154.036647\n",
              "...      ...       ...       ...       ...         ...\n",
              "99995  DLsed  0.971957  0.370953  6.075346  110.744026\n",
              "99996  QKivN  1.392429 -0.382606  1.273912  122.346843\n",
              "99997  3rnvd  1.029585  0.018787 -1.348308   64.375443\n",
              "99998  7kl59  0.998163 -0.528582  1.583869   74.040764\n",
              "99999  1CWhH  1.764754 -0.266417  5.722849  149.633246\n",
              "\n",
              "[100000 rows x 5 columns]"
            ]
          },
          "execution_count": 2,
          "metadata": {},
          "output_type": "execute_result"
        }
      ],
      "source": [
        "try:\n",
        "    data_0 = pd.read_csv('geo_data_0.csv')\n",
        "except:\n",
        "    data_0 = pd.read_csv('/datasets/geo_data_0.csv')\n",
        "data_0"
      ]
    },
    {
      "cell_type": "markdown",
      "metadata": {
        "id": "tPsFdKhaZqCP"
      },
      "source": [
        "Мда.... Ничего не понятно. Просто цифры. Ну и явный целевой признак - \" product\"."
      ]
    },
    {
      "cell_type": "markdown",
      "metadata": {
        "id": "tYpzzm7YZqCP"
      },
      "source": [
        "Изучим тип данных и вероятные пропуски."
      ]
    },
    {
      "cell_type": "code",
      "execution_count": null,
      "metadata": {
        "id": "8o1APgQXZqCQ",
        "outputId": "63be2f3b-a0dd-446f-a6af-9c16d235eabc"
      },
      "outputs": [
        {
          "name": "stdout",
          "output_type": "stream",
          "text": [
            "<class 'pandas.core.frame.DataFrame'>\n",
            "RangeIndex: 100000 entries, 0 to 99999\n",
            "Data columns (total 5 columns):\n",
            " #   Column   Non-Null Count   Dtype  \n",
            "---  ------   --------------   -----  \n",
            " 0   id       100000 non-null  object \n",
            " 1   f0       100000 non-null  float64\n",
            " 2   f1       100000 non-null  float64\n",
            " 3   f2       100000 non-null  float64\n",
            " 4   product  100000 non-null  float64\n",
            "dtypes: float64(4), object(1)\n",
            "memory usage: 3.8+ MB\n"
          ]
        }
      ],
      "source": [
        "data_0.info()"
      ]
    },
    {
      "cell_type": "markdown",
      "metadata": {
        "id": "w56XL3-bZqCQ"
      },
      "source": [
        "Пропусков нет,данные имеют формат float64, что являяется приемлимым форматом для обучения модели типа линейная регрессия (По условиям задачи мы должныприменять именно линейную регрессию, как наиболее предсказуемую модель)."
      ]
    },
    {
      "cell_type": "markdown",
      "metadata": {
        "id": "JQtymhNYZqCR"
      },
      "source": [
        "Посмотрим на распределдение количества нефти в скважинах первого региона. "
      ]
    },
    {
      "cell_type": "code",
      "execution_count": null,
      "metadata": {
        "id": "nmkH6BHTZqCR",
        "outputId": "bdbc878f-dca6-4cdb-f071-3f67848c7e88"
      },
      "outputs": [
        {
          "data": {
            "text/plain": [
              "<AxesSubplot:>"
            ]
          },
          "execution_count": 4,
          "metadata": {},
          "output_type": "execute_result"
        },
        {
          "data": {
            "image/png": "[encoded data removed]",
            "text/plain": [
              "<Figure size 432x288 with 1 Axes>"
            ]
          },
          "metadata": {
            "needs_background": "light"
          },
          "output_type": "display_data"
        }
      ],
      "source": [
        "data_0['product'].hist()"
      ]
    },
    {
      "cell_type": "markdown",
      "metadata": {
        "id": "HApJ0T7DZqCS"
      },
      "source": [
        "На гистограмме видим нормальное распределение. Значительная часть скважин имеет запасы нефти в диапазоне от 20 до 165 тысяч баррелей."
      ]
    },
    {
      "cell_type": "markdown",
      "metadata": {
        "id": "l_KRkU4GZqCT"
      },
      "source": [
        "\n",
        "Попробуем найти связь между колличеством продукта и каждой из трех характеристик скважин методом корреляции."
      ]
    },
    {
      "cell_type": "code",
      "execution_count": null,
      "metadata": {
        "id": "BqDZ28a7ZqCU",
        "outputId": "b52f1e95-9332-44fb-ae9b-6da9c60d449e"
      },
      "outputs": [
        {
          "name": "stdout",
          "output_type": "stream",
          "text": [
            "               f0        f1        f2   product\n",
            "f0       1.000000 -0.440723 -0.003153  0.143536\n",
            "f1      -0.440723  1.000000  0.001724 -0.192356\n",
            "f2      -0.003153  0.001724  1.000000  0.483663\n",
            "product  0.143536 -0.192356  0.483663  1.000000\n"
          ]
        }
      ],
      "source": [
        "print(data_0.corr())"
      ]
    },
    {
      "cell_type": "markdown",
      "metadata": {
        "id": "TgwT5kSnZqCU"
      },
      "source": [
        "Незначительная связь только с третьим показателем"
      ]
    },
    {
      "cell_type": "markdown",
      "metadata": {
        "id": "h8q1hKRQZqCW"
      },
      "source": [
        "Просмотрим данные по второму и третьему региону."
      ]
    },
    {
      "cell_type": "code",
      "execution_count": null,
      "metadata": {
        "id": "w4uNjH1XZqCW",
        "outputId": "729c71ed-92f5-41df-a311-80059faef5b5"
      },
      "outputs": [
        {
          "data": {
            "text/html": [
              "<div>\n",
              "<style scoped>\n",
              "    .dataframe tbody tr th:only-of-type {\n",
              "        vertical-align: middle;\n",
              "    }\n",
              "\n",
              "    .dataframe tbody tr th {\n",
              "        vertical-align: top;\n",
              "    }\n",
              "\n",
              "    .dataframe thead th {\n",
              "        text-align: right;\n",
              "    }\n",
              "</style>\n",
              "<table border=\"1\" class=\"dataframe\">\n",
              "  <thead>\n",
              "    <tr style=\"text-align: right;\">\n",
              "      <th></th>\n",
              "      <th>id</th>\n",
              "      <th>f0</th>\n",
              "      <th>f1</th>\n",
              "      <th>f2</th>\n",
              "      <th>product</th>\n",
              "    </tr>\n",
              "  </thead>\n",
              "  <tbody>\n",
              "    <tr>\n",
              "      <th>0</th>\n",
              "      <td>kBEdx</td>\n",
              "      <td>-15.001348</td>\n",
              "      <td>-8.276000</td>\n",
              "      <td>-0.005876</td>\n",
              "      <td>3.179103</td>\n",
              "    </tr>\n",
              "    <tr>\n",
              "      <th>1</th>\n",
              "      <td>62mP7</td>\n",
              "      <td>14.272088</td>\n",
              "      <td>-3.475083</td>\n",
              "      <td>0.999183</td>\n",
              "      <td>26.953261</td>\n",
              "    </tr>\n",
              "    <tr>\n",
              "      <th>2</th>\n",
              "      <td>vyE1P</td>\n",
              "      <td>6.263187</td>\n",
              "      <td>-5.948386</td>\n",
              "      <td>5.001160</td>\n",
              "      <td>134.766305</td>\n",
              "    </tr>\n",
              "    <tr>\n",
              "      <th>3</th>\n",
              "      <td>KcrkZ</td>\n",
              "      <td>-13.081196</td>\n",
              "      <td>-11.506057</td>\n",
              "      <td>4.999415</td>\n",
              "      <td>137.945408</td>\n",
              "    </tr>\n",
              "    <tr>\n",
              "      <th>4</th>\n",
              "      <td>AHL4O</td>\n",
              "      <td>12.702195</td>\n",
              "      <td>-8.147433</td>\n",
              "      <td>5.004363</td>\n",
              "      <td>134.766305</td>\n",
              "    </tr>\n",
              "    <tr>\n",
              "      <th>...</th>\n",
              "      <td>...</td>\n",
              "      <td>...</td>\n",
              "      <td>...</td>\n",
              "      <td>...</td>\n",
              "      <td>...</td>\n",
              "    </tr>\n",
              "    <tr>\n",
              "      <th>99995</th>\n",
              "      <td>QywKC</td>\n",
              "      <td>9.535637</td>\n",
              "      <td>-6.878139</td>\n",
              "      <td>1.998296</td>\n",
              "      <td>53.906522</td>\n",
              "    </tr>\n",
              "    <tr>\n",
              "      <th>99996</th>\n",
              "      <td>ptvty</td>\n",
              "      <td>-10.160631</td>\n",
              "      <td>-12.558096</td>\n",
              "      <td>5.005581</td>\n",
              "      <td>137.945408</td>\n",
              "    </tr>\n",
              "    <tr>\n",
              "      <th>99997</th>\n",
              "      <td>09gWa</td>\n",
              "      <td>-7.378891</td>\n",
              "      <td>-3.084104</td>\n",
              "      <td>4.998651</td>\n",
              "      <td>137.945408</td>\n",
              "    </tr>\n",
              "    <tr>\n",
              "      <th>99998</th>\n",
              "      <td>rqwUm</td>\n",
              "      <td>0.665714</td>\n",
              "      <td>-6.152593</td>\n",
              "      <td>1.000146</td>\n",
              "      <td>30.132364</td>\n",
              "    </tr>\n",
              "    <tr>\n",
              "      <th>99999</th>\n",
              "      <td>relB0</td>\n",
              "      <td>-3.426139</td>\n",
              "      <td>-7.794274</td>\n",
              "      <td>-0.003299</td>\n",
              "      <td>3.179103</td>\n",
              "    </tr>\n",
              "  </tbody>\n",
              "</table>\n",
              "<p>100000 rows × 5 columns</p>\n",
              "</div>"
            ],
            "text/plain": [
              "          id         f0         f1        f2     product\n",
              "0      kBEdx -15.001348  -8.276000 -0.005876    3.179103\n",
              "1      62mP7  14.272088  -3.475083  0.999183   26.953261\n",
              "2      vyE1P   6.263187  -5.948386  5.001160  134.766305\n",
              "3      KcrkZ -13.081196 -11.506057  4.999415  137.945408\n",
              "4      AHL4O  12.702195  -8.147433  5.004363  134.766305\n",
              "...      ...        ...        ...       ...         ...\n",
              "99995  QywKC   9.535637  -6.878139  1.998296   53.906522\n",
              "99996  ptvty -10.160631 -12.558096  5.005581  137.945408\n",
              "99997  09gWa  -7.378891  -3.084104  4.998651  137.945408\n",
              "99998  rqwUm   0.665714  -6.152593  1.000146   30.132364\n",
              "99999  relB0  -3.426139  -7.794274 -0.003299    3.179103\n",
              "\n",
              "[100000 rows x 5 columns]"
            ]
          },
          "execution_count": 7,
          "metadata": {},
          "output_type": "execute_result"
        }
      ],
      "source": [
        "try:\n",
        "    data_1 = pd.read_csv('geo_data_1.csv')\n",
        "except:\n",
        "    data_1 = pd.read_csv('/datasets/geo_data_1.csv')\n",
        "data_1"
      ]
    },
    {
      "cell_type": "code",
      "execution_count": null,
      "metadata": {
        "id": "i-kVPUweZqCX",
        "outputId": "7246c89f-8c67-4193-a5a5-26bc62f8ae5d"
      },
      "outputs": [
        {
          "name": "stdout",
          "output_type": "stream",
          "text": [
            "<class 'pandas.core.frame.DataFrame'>\n",
            "RangeIndex: 100000 entries, 0 to 99999\n",
            "Data columns (total 5 columns):\n",
            " #   Column   Non-Null Count   Dtype  \n",
            "---  ------   --------------   -----  \n",
            " 0   id       100000 non-null  object \n",
            " 1   f0       100000 non-null  float64\n",
            " 2   f1       100000 non-null  float64\n",
            " 3   f2       100000 non-null  float64\n",
            " 4   product  100000 non-null  float64\n",
            "dtypes: float64(4), object(1)\n",
            "memory usage: 3.8+ MB\n"
          ]
        }
      ],
      "source": [
        "data_1.info()"
      ]
    },
    {
      "cell_type": "markdown",
      "metadata": {
        "id": "Jk7TmuwFZqCX"
      },
      "source": [
        "Распределение"
      ]
    },
    {
      "cell_type": "code",
      "execution_count": null,
      "metadata": {
        "id": "PigxCRBfZqCX",
        "outputId": "ddc1ac30-7c83-4e35-9548-f29b979d1feb"
      },
      "outputs": [
        {
          "data": {
            "text/plain": [
              "<AxesSubplot:>"
            ]
          },
          "execution_count": 9,
          "metadata": {},
          "output_type": "execute_result"
        },
        {
          "data": {
            "image/png": "[encoded data removed]",
            "text/plain": [
              "<Figure size 432x288 with 1 Axes>"
            ]
          },
          "metadata": {
            "needs_background": "light"
          },
          "output_type": "display_data"
        }
      ],
      "source": [
        "data_1['product'].hist()"
      ]
    },
    {
      "cell_type": "markdown",
      "metadata": {
        "id": "at5LB9ymZqCY"
      },
      "source": [
        "\n",
        "Очень странно распределены показатели количества продукта во втором регионе. Тут мы имеем какбольшое количество почти пустых скважин, так и потенциально прибыльных. Поэтому, забегая вперед, в ходе исследовании я выбрал второй регион не смотря на низкий средний показатель продукта. Тоесть модель позволяет выбрать те самые прибыльные скважины"
      ]
    },
    {
      "cell_type": "markdown",
      "metadata": {
        "id": "b2z9UltMZqCY"
      },
      "source": [
        "Корреляция"
      ]
    },
    {
      "cell_type": "code",
      "execution_count": null,
      "metadata": {
        "id": "nJaD9Rf1ZqCZ",
        "outputId": "88ac27ac-6497-40d8-8c14-1290dfd6a58f"
      },
      "outputs": [
        {
          "name": "stdout",
          "output_type": "stream",
          "text": [
            "               f0        f1        f2   product\n",
            "f0       1.000000  0.182287 -0.001777 -0.030491\n",
            "f1       0.182287  1.000000 -0.002595 -0.010155\n",
            "f2      -0.001777 -0.002595  1.000000  0.999397\n",
            "product -0.030491 -0.010155  0.999397  1.000000\n"
          ]
        }
      ],
      "source": [
        "print(data_1.corr())"
      ]
    },
    {
      "cell_type": "markdown",
      "metadata": {
        "id": "daApOs4CZqCZ"
      },
      "source": [
        "Ого! Как интересно. Очень сильная взаимосвязь так же с третьим показателем."
      ]
    },
    {
      "cell_type": "code",
      "execution_count": null,
      "metadata": {
        "scrolled": false,
        "id": "xLFBExQBZqCZ",
        "outputId": "d1c507c6-e674-4370-ed99-0289897ed95f"
      },
      "outputs": [
        {
          "data": {
            "text/html": [
              "<div>\n",
              "<style scoped>\n",
              "    .dataframe tbody tr th:only-of-type {\n",
              "        vertical-align: middle;\n",
              "    }\n",
              "\n",
              "    .dataframe tbody tr th {\n",
              "        vertical-align: top;\n",
              "    }\n",
              "\n",
              "    .dataframe thead th {\n",
              "        text-align: right;\n",
              "    }\n",
              "</style>\n",
              "<table border=\"1\" class=\"dataframe\">\n",
              "  <thead>\n",
              "    <tr style=\"text-align: right;\">\n",
              "      <th></th>\n",
              "      <th>id</th>\n",
              "      <th>f0</th>\n",
              "      <th>f1</th>\n",
              "      <th>f2</th>\n",
              "      <th>product</th>\n",
              "    </tr>\n",
              "  </thead>\n",
              "  <tbody>\n",
              "    <tr>\n",
              "      <th>0</th>\n",
              "      <td>fwXo0</td>\n",
              "      <td>-1.146987</td>\n",
              "      <td>0.963328</td>\n",
              "      <td>-0.828965</td>\n",
              "      <td>27.758673</td>\n",
              "    </tr>\n",
              "    <tr>\n",
              "      <th>1</th>\n",
              "      <td>WJtFt</td>\n",
              "      <td>0.262778</td>\n",
              "      <td>0.269839</td>\n",
              "      <td>-2.530187</td>\n",
              "      <td>56.069697</td>\n",
              "    </tr>\n",
              "    <tr>\n",
              "      <th>2</th>\n",
              "      <td>ovLUW</td>\n",
              "      <td>0.194587</td>\n",
              "      <td>0.289035</td>\n",
              "      <td>-5.586433</td>\n",
              "      <td>62.871910</td>\n",
              "    </tr>\n",
              "    <tr>\n",
              "      <th>3</th>\n",
              "      <td>q6cA6</td>\n",
              "      <td>2.236060</td>\n",
              "      <td>-0.553760</td>\n",
              "      <td>0.930038</td>\n",
              "      <td>114.572842</td>\n",
              "    </tr>\n",
              "    <tr>\n",
              "      <th>4</th>\n",
              "      <td>WPMUX</td>\n",
              "      <td>-0.515993</td>\n",
              "      <td>1.716266</td>\n",
              "      <td>5.899011</td>\n",
              "      <td>149.600746</td>\n",
              "    </tr>\n",
              "    <tr>\n",
              "      <th>...</th>\n",
              "      <td>...</td>\n",
              "      <td>...</td>\n",
              "      <td>...</td>\n",
              "      <td>...</td>\n",
              "      <td>...</td>\n",
              "    </tr>\n",
              "    <tr>\n",
              "      <th>99995</th>\n",
              "      <td>4GxBu</td>\n",
              "      <td>-1.777037</td>\n",
              "      <td>1.125220</td>\n",
              "      <td>6.263374</td>\n",
              "      <td>172.327046</td>\n",
              "    </tr>\n",
              "    <tr>\n",
              "      <th>99996</th>\n",
              "      <td>YKFjq</td>\n",
              "      <td>-1.261523</td>\n",
              "      <td>-0.894828</td>\n",
              "      <td>2.524545</td>\n",
              "      <td>138.748846</td>\n",
              "    </tr>\n",
              "    <tr>\n",
              "      <th>99997</th>\n",
              "      <td>tKPY3</td>\n",
              "      <td>-1.199934</td>\n",
              "      <td>-2.957637</td>\n",
              "      <td>5.219411</td>\n",
              "      <td>157.080080</td>\n",
              "    </tr>\n",
              "    <tr>\n",
              "      <th>99998</th>\n",
              "      <td>nmxp2</td>\n",
              "      <td>-2.419896</td>\n",
              "      <td>2.417221</td>\n",
              "      <td>-5.548444</td>\n",
              "      <td>51.795253</td>\n",
              "    </tr>\n",
              "    <tr>\n",
              "      <th>99999</th>\n",
              "      <td>V9kWn</td>\n",
              "      <td>-2.551421</td>\n",
              "      <td>-2.025625</td>\n",
              "      <td>6.090891</td>\n",
              "      <td>102.775767</td>\n",
              "    </tr>\n",
              "  </tbody>\n",
              "</table>\n",
              "<p>100000 rows × 5 columns</p>\n",
              "</div>"
            ],
            "text/plain": [
              "          id        f0        f1        f2     product\n",
              "0      fwXo0 -1.146987  0.963328 -0.828965   27.758673\n",
              "1      WJtFt  0.262778  0.269839 -2.530187   56.069697\n",
              "2      ovLUW  0.194587  0.289035 -5.586433   62.871910\n",
              "3      q6cA6  2.236060 -0.553760  0.930038  114.572842\n",
              "4      WPMUX -0.515993  1.716266  5.899011  149.600746\n",
              "...      ...       ...       ...       ...         ...\n",
              "99995  4GxBu -1.777037  1.125220  6.263374  172.327046\n",
              "99996  YKFjq -1.261523 -0.894828  2.524545  138.748846\n",
              "99997  tKPY3 -1.199934 -2.957637  5.219411  157.080080\n",
              "99998  nmxp2 -2.419896  2.417221 -5.548444   51.795253\n",
              "99999  V9kWn -2.551421 -2.025625  6.090891  102.775767\n",
              "\n",
              "[100000 rows x 5 columns]"
            ]
          },
          "execution_count": 12,
          "metadata": {},
          "output_type": "execute_result"
        }
      ],
      "source": [
        "try:\n",
        "    data_2 = pd.read_csv('geo_data_2.csv')\n",
        "except:\n",
        "    data_2 = pd.read_csv('/datasets/geo_data_2.csv')\n",
        "data_2"
      ]
    },
    {
      "cell_type": "code",
      "execution_count": null,
      "metadata": {
        "scrolled": true,
        "id": "W-cuWI-rZqCa",
        "outputId": "abf2a018-aa46-4f1f-c6f8-95609664d9a1"
      },
      "outputs": [
        {
          "name": "stdout",
          "output_type": "stream",
          "text": [
            "<class 'pandas.core.frame.DataFrame'>\n",
            "RangeIndex: 100000 entries, 0 to 99999\n",
            "Data columns (total 5 columns):\n",
            " #   Column   Non-Null Count   Dtype  \n",
            "---  ------   --------------   -----  \n",
            " 0   id       100000 non-null  object \n",
            " 1   f0       100000 non-null  float64\n",
            " 2   f1       100000 non-null  float64\n",
            " 3   f2       100000 non-null  float64\n",
            " 4   product  100000 non-null  float64\n",
            "dtypes: float64(4), object(1)\n",
            "memory usage: 3.8+ MB\n"
          ]
        }
      ],
      "source": [
        "data_2.info()"
      ]
    },
    {
      "cell_type": "markdown",
      "metadata": {
        "id": "akctetQRZqCb"
      },
      "source": [
        "Ситуация с данными такая же как и в первом регионе."
      ]
    },
    {
      "cell_type": "markdown",
      "metadata": {
        "id": "5HPZ14-vZqCb"
      },
      "source": [
        "Распределение."
      ]
    },
    {
      "cell_type": "code",
      "execution_count": null,
      "metadata": {
        "scrolled": true,
        "id": "gtxcCsgZZqCc",
        "outputId": "ee51e33a-df5d-4a2f-bb05-2882ddb6fac4"
      },
      "outputs": [
        {
          "data": {
            "text/plain": [
              "<AxesSubplot:>"
            ]
          },
          "execution_count": 14,
          "metadata": {},
          "output_type": "execute_result"
        },
        {
          "data": {
            "image/png": "[encoded data removed]",
            "text/plain": [
              "<Figure size 432x288 with 1 Axes>"
            ]
          },
          "metadata": {
            "needs_background": "light"
          },
          "output_type": "display_data"
        }
      ],
      "source": [
        "data_2['product'].hist()"
      ]
    },
    {
      "cell_type": "markdown",
      "metadata": {
        "id": "gu9cpSyXZqCc"
      },
      "source": [
        "Переменная показателя количества нефти распределена нормально."
      ]
    },
    {
      "cell_type": "markdown",
      "metadata": {
        "id": "evONszKLZqCd"
      },
      "source": [
        "Корреляция"
      ]
    },
    {
      "cell_type": "code",
      "execution_count": null,
      "metadata": {
        "id": "s2jbiBnvZqCd",
        "outputId": "1c4af53b-347e-4a86-fa34-6e459731694b"
      },
      "outputs": [
        {
          "name": "stdout",
          "output_type": "stream",
          "text": [
            "               f0        f1        f2   product\n",
            "f0       1.000000  0.000528 -0.000448 -0.001987\n",
            "f1       0.000528  1.000000  0.000779 -0.001012\n",
            "f2      -0.000448  0.000779  1.000000  0.445871\n",
            "product -0.001987 -0.001012  0.445871  1.000000\n"
          ]
        }
      ],
      "source": [
        "print(data_2.corr())"
      ]
    },
    {
      "cell_type": "markdown",
      "metadata": {
        "id": "l2NucvmeZqCe"
      },
      "source": [
        "Очень похожи первый и третий регион."
      ]
    },
    {
      "cell_type": "markdown",
      "metadata": {
        "id": "JN152YuJZqCe"
      },
      "source": [
        "Думаю можно переходить к обучению моделей."
      ]
    },
    {
      "cell_type": "markdown",
      "metadata": {
        "id": "zlvp6FanZqCg"
      },
      "source": [
        "## Обучение и проверка модели"
      ]
    },
    {
      "cell_type": "markdown",
      "metadata": {
        "id": "aa9RzdoYZqCg"
      },
      "source": [
        "Обучим модель типа линейная регрессия. Для этого разделим выборку на обучающую и валидационную в соотношении 75:25.\n",
        "\n",
        "Так же кроме целевого признака (\"product\") удалим из \"features\" колонку \"id\", так как она не несет никакой полезной информации и может простозамедлить процесс обучения или привести к его некорректной работе. (не думаю,что это обязательно)"
      ]
    },
    {
      "cell_type": "code",
      "execution_count": null,
      "metadata": {
        "id": "JeMO95rwZqCh"
      },
      "outputs": [],
      "source": [
        "target_0 = data_0['product']\n",
        "features_0 = data_0.drop(['product', 'id'], axis=1)\n",
        "features_train_0, features_valid_0, target_train_0, target_valid_0 = train_test_split(features_0, target_0, test_size=0.25, random_state=12345)"
      ]
    },
    {
      "cell_type": "code",
      "execution_count": null,
      "metadata": {
        "scrolled": false,
        "id": "JRmKJzyvZqCi",
        "outputId": "1fb830c1-5f59-4749-eeea-24dd0bea13ec"
      },
      "outputs": [
        {
          "name": "stdout",
          "output_type": "stream",
          "text": [
            "RMSE модели линейной регрессии на валидационной выборке: 37.5794217150813\n",
            "Cредний запас предсказанного сырья в первом регионе: 92.59256778438035\n",
            "Cредний запас сырья в первом регионе: 92.50000000000001\n"
          ]
        }
      ],
      "source": [
        "model_0 = LinearRegression()\n",
        "model_0.fit(features_train_0, target_train_0) \n",
        "predictions_0 = model_0.predict(features_valid_0)\n",
        "result_0 = mean_squared_error(target_valid_0, predictions_0)**0.5\n",
        "print(\"RMSE модели линейной регрессии на валидационной выборке:\", result_0)\n",
        "print(\"Cредний запас предсказанного сырья в первом регионе:\", predictions_0.mean())\n",
        "print(\"Cредний запас сырья в первом регионе:\", data_0['product'].mean())\n"
      ]
    },
    {
      "cell_type": "markdown",
      "metadata": {
        "id": "sY1v3j-PZqCj"
      },
      "source": [
        "RMSE достаточно высокий, что говорит о не очень хорошем качестве модели. Однако средние предсказанныем показатели количества продукта практически соответствуют реальным."
      ]
    },
    {
      "cell_type": "code",
      "execution_count": null,
      "metadata": {
        "id": "O0dlKx3kZqCj",
        "outputId": "f7444347-73ab-471e-f9b4-2cb1e04c4b89"
      },
      "outputs": [
        {
          "name": "stdout",
          "output_type": "stream",
          "text": [
            "RMSE модели линейной регрессии на валидационной выборке: 0.893099286775617\n",
            "Cредний запас предсказанного сырья во втором регионе: 68.728546895446\n",
            "Cредний запас сырья во второмм регионе: 68.82500000000002\n"
          ]
        }
      ],
      "source": [
        "target_1 = data_1['product']\n",
        "features_1 = data_1.drop(['product', 'id'], axis=1)\n",
        "features_train_1, features_valid_1, target_train_1, target_valid_1 = train_test_split(features_1, target_1, test_size=0.25, random_state=12345)\n",
        "model_1 = LinearRegression()\n",
        "model_1.fit(features_train_1, target_train_1) \n",
        "predictions_1 = model_1.predict(features_valid_1)\n",
        "result_1 = mean_squared_error(target_valid_1, predictions_1)**0.5\n",
        "print(\"RMSE модели линейной регрессии на валидационной выборке:\", result_1)\n",
        "print(\"Cредний запас предсказанного сырья во втором регионе:\", predictions_1.mean())\n",
        "print(\"Cредний запас сырья во второмм регионе:\", data_1['product'].mean())\n"
      ]
    },
    {
      "cell_type": "markdown",
      "metadata": {
        "id": "ZIuwolAjZqCj"
      },
      "source": [
        "Отличный показатель RMSE. Однако среднее количество продукта в регионе значительно ниже чем в первом. Выводы делать рано,но думаю такая просадка по среднему количеству продукта в скважинах делает этот регион явным аутсайдером."
      ]
    },
    {
      "cell_type": "code",
      "execution_count": null,
      "metadata": {
        "id": "XXauqVZ9ZqCk",
        "outputId": "55be82d2-096b-4c2f-de74-acb264477399"
      },
      "outputs": [
        {
          "name": "stdout",
          "output_type": "stream",
          "text": [
            "RMSE модели линейной регрессии на валидационной выборке: 40.02970873393434\n",
            "Cредний запас предсказанного сырья в третьем регионе: 94.96504596800489\n",
            "Cредний запас сырья в третьем регионе: 95.00000000000004\n"
          ]
        }
      ],
      "source": [
        "target_2 = data_2['product']\n",
        "features_2 = data_2.drop(['product', 'id'], axis=1)\n",
        "features_train_2, features_valid_2, target_train_2, target_valid_2 = train_test_split(features_2, target_2, test_size=0.25, random_state=12345)\n",
        "model_2 = LinearRegression()\n",
        "model_2.fit(features_train_2, target_train_2) \n",
        "predictions_2 = model_2.predict(features_valid_2)\n",
        "result_2 = mean_squared_error(target_valid_2, predictions_2)**0.5\n",
        "print(\"RMSE модели линейной регрессии на валидационной выборке:\", result_2)\n",
        "print(\"Cредний запас предсказанного сырья в третьем регионе:\", predictions_2.mean())\n",
        "print(\"Cредний запас сырья в третьем регионе:\", data_2['product'].mean())\n"
      ]
    },
    {
      "cell_type": "markdown",
      "metadata": {
        "id": "iKNEaMg1ZqCl"
      },
      "source": [
        "В третьем регионе примерно такие же показатели RMSE  и среднего количества продукта как и в первом."
      ]
    },
    {
      "cell_type": "markdown",
      "metadata": {
        "id": "eLDcniyFZqCm"
      },
      "source": [
        "Я хотел написать функцию. Это действительно бы очень упростило, так как я реально несколько раз путался и приходилось всеудалять и начинать сначала. Однако, недавно посмотрел какое-то видео, которое немного ввело меня в ступор, где было сказано, что начинающим датасаентистам не стоит перебарщивать с функциями. Я обязательно учту твою рекомендацию в будущем. Сейчас не хочу переписывать,боюсь, что опять наделаю ошибок:((("
      ]
    },
    {
      "cell_type": "markdown",
      "metadata": {
        "id": "cqoIaXj6ZqCn"
      },
      "source": [
        "## Подготовка к расчёту прибыли"
      ]
    },
    {
      "cell_type": "markdown",
      "metadata": {
        "id": "FwIi_tgEZqCn"
      },
      "source": [
        "Сохраним ключевые данные в отдельные переменные."
      ]
    },
    {
      "cell_type": "code",
      "execution_count": null,
      "metadata": {
        "id": "tj7CWo0BZqCn"
      },
      "outputs": [],
      "source": [
        "budget = 10000000000\n",
        "price = 450000\n",
        "number = 200\n",
        "max_probability_of_loss = 0.025\n"
      ]
    },
    {
      "cell_type": "markdown",
      "metadata": {
        "id": "QGtmK7sWZqCp"
      },
      "source": [
        "Оценим необходимы средний показатель количества нефти в скважинах."
      ]
    },
    {
      "cell_type": "code",
      "execution_count": null,
      "metadata": {
        "id": "xozAfMZAZqCp",
        "outputId": "9831810d-d3c3-459f-e37b-84106fa292da"
      },
      "outputs": [
        {
          "name": "stdout",
          "output_type": "stream",
          "text": [
            "Необходимый средний показатель количества продукта в скважинах в разрабатываемом регионе должен составлять не менее: 111.11111111111111\n"
          ]
        }
      ],
      "source": [
        "required_minimum = budget / number / price\n",
        "print(\"Необходимый средний показатель количества продукта в скважинах в разрабатываемом регионе должен составлять не менее:\", required_minimum)"
      ]
    },
    {
      "cell_type": "markdown",
      "metadata": {
        "id": "LqufL62AZqCp"
      },
      "source": [
        "Ни один регион не соответствует необходимы средним показателям, в связи с чем без корректных предсказаний количества продукта в скважинах выйти не безуботочную разработку 200 местарождений в определенном регионе практически невозможно."
      ]
    },
    {
      "cell_type": "markdown",
      "metadata": {
        "id": "w_mFKNKGZqCq"
      },
      "source": [
        "## Расчёт прибыли и рисков "
      ]
    },
    {
      "cell_type": "markdown",
      "metadata": {
        "id": "p1dTxf7gZqCq"
      },
      "source": [
        "### Первый регион."
      ]
    },
    {
      "cell_type": "markdown",
      "metadata": {
        "id": "qzqEgzD9ZqCr"
      },
      "source": [
        "Расчитаем прибыли по выбранным скважинам и предсказаниямм модели."
      ]
    },
    {
      "cell_type": "markdown",
      "metadata": {
        "id": "uYQOQSDcZqCs"
      },
      "source": [
        "Напишем функцию расчета прибыли для 200 лучших месторождений из пятисот выбранных."
      ]
    },
    {
      "cell_type": "code",
      "execution_count": null,
      "metadata": {
        "id": "pymGuscqZqCu"
      },
      "outputs": [],
      "source": [
        "def profit(target, probabilities, count):\n",
        "    probs_sorted = probabilities.sort_values(ascending=False)\n",
        "    selected = target[probs_sorted.index][:count]\n",
        "    return selected.sum()*price - budget\n"
      ]
    },
    {
      "cell_type": "markdown",
      "metadata": {
        "id": "J4Q30K51ZqCu"
      },
      "source": [
        "И посчитаем на основании формулы прибыль для первого региона."
      ]
    },
    {
      "cell_type": "markdown",
      "metadata": {
        "id": "lJcaSsJAZqCv"
      },
      "source": [
        "Применим технику \"Bootstrap\" с 1000 выборок, чтобы найти распределение прибыли. Затем определим 95% доверительный интервал и риск убытков."
      ]
    },
    {
      "cell_type": "code",
      "execution_count": null,
      "metadata": {
        "id": "nsu55rbrZqCw"
      },
      "outputs": [],
      "source": [
        "state = np.random.RandomState(12345)\n"
      ]
    },
    {
      "cell_type": "code",
      "execution_count": null,
      "metadata": {
        "scrolled": true,
        "id": "pVTp0So3ZqCw",
        "outputId": "be9b05b1-a91a-4a6f-d863-cabe522205b7"
      },
      "outputs": [
        {
          "name": "stdout",
          "output_type": "stream",
          "text": [
            "Вероятная прибыль от разработки 200 лучших месторождений первого региона из пятисот случайно выбранных составит: 605464074.5689964\n",
            "Средняя выручка с 1000 выборок: 395525575.0127928\n",
            "5%-квантиль (начало интервала): -111215545.89049526\n",
            "5%-квантиль (конец интервала): 909766941.5534226\n",
            "Вероятность убытков при разработке первого региона превышает 2.5%\n",
            "Вероятность убытков при разработке первого региона составит 7.000000000000001 %\n"
          ]
        }
      ],
      "source": [
        "target_0 = pd.Series(target_valid_0).reset_index(drop=True)\n",
        "probabilities_0 = pd.Series(predictions_0).reset_index(drop=True)\n",
        "\n",
        "target_0_sample = target_0.sample(500, replace=True, random_state=state)\n",
        "target_0_sample.reset_index(drop=True)\n",
        "probabilities_0_sample = probabilities_0[target_0_sample.index]\n",
        "probabilities_0_sample.reset_index(drop=True)\n",
        "\n",
        "res_0 = profit(target_0_sample.reset_index(drop=True), probabilities_0_sample.reset_index(drop=True), number)\n",
        " \n",
        "print(\"Вероятная прибыль от разработки 200 лучших месторождений первого региона из пятисот случайно выбранных составит:\", res_0)\n",
        "values_0 = []\n",
        "for i in range(1000):\n",
        "    target_subsample_0 = target_0.sample(n=500, replace=True, random_state=state)\n",
        "    probs_subsample_0 = probabilities_0[target_subsample_0.index]\n",
        " \n",
        "    values_0.append(profit(target_subsample_0.reset_index(drop=True), probs_subsample_0.reset_index(drop=True), number))\n",
        "\n",
        "values_0 = pd.Series(values_0)\n",
        "lower_0 = values_0.quantile(max_probability_of_loss) \n",
        "upper_0 = values_0.quantile(0.975)\n",
        "mean_0 = values_0.mean()\n",
        "print(\"Средняя выручка с 1000 выборок:\", mean_0)\n",
        "print(\"5%-квантиль (начало интервала):\", lower_0)\n",
        "print(\"5%-квантиль (конец интервала):\", upper_0)\n",
        "if lower_0 < 0:\n",
        "    print(\"Вероятность убытков при разработке первого региона превышает 2.5%\")\n",
        "else:\n",
        "    print(\"Вероятность убытков при разработке первого региона НЕ превышает 2.5%\")\n",
        "print(\"Вероятность убытков при разработке первого региона составит\", (values_0 < 0).mean()*100,'%')"
      ]
    },
    {
      "cell_type": "markdown",
      "metadata": {
        "id": "NGSWxsE6ZqCw"
      },
      "source": [
        "Очевидно, первый регион не соответствует условиям задачи из-за высоких рисков получения убытков."
      ]
    },
    {
      "cell_type": "markdown",
      "metadata": {
        "id": "DmINIUgFZqCx"
      },
      "source": [
        "### Второй регион"
      ]
    },
    {
      "cell_type": "markdown",
      "metadata": {
        "id": "9247tIgbZqCx"
      },
      "source": [
        "Проведем такие же расчеты для второго региона."
      ]
    },
    {
      "cell_type": "code",
      "execution_count": null,
      "metadata": {
        "id": "w1GKq7TRZqCy",
        "outputId": "04ac92fe-f255-45af-a605-f269d03f4131"
      },
      "outputs": [
        {
          "name": "stdout",
          "output_type": "stream",
          "text": [
            "Вероятная прибыль от разработки 200 лучших месторождений второго региона из пятисот случайно выбранных составит: 128123231.43308258\n",
            "Средняя выручка с 1000 выборок: 461631708.2006681\n",
            "5%-квантиль (начало интервала): 78050810.7517417\n",
            "5%-квантиль (конец интервала): 862952060.2637234\n",
            "Вероятность убытков при разработке второго региона НЕ превышает 2.5%\n",
            "Вероятность убытков при разработке второго региона составит 0.7000000000000001 %\n"
          ]
        }
      ],
      "source": [
        "target_1 = pd.Series(target_valid_1).reset_index(drop=True)\n",
        "probabilities_1 = pd.Series(predictions_1).reset_index(drop=True)\n",
        "\n",
        "target_1_sample = target_1.sample(500, replace=True, random_state=state)\n",
        "target_1_sample.reset_index(drop=True)\n",
        "probabilities_1_sample = probabilities_1[target_1_sample.index]\n",
        "probabilities_1_sample.reset_index(drop=True)\n",
        "res_1 = profit(target_1_sample, probabilities_1_sample, number)\n",
        " \n",
        "print(\"Вероятная прибыль от разработки 200 лучших месторождений второго региона из пятисот случайно выбранных составит:\", res_1)\n",
        "\n",
        "values_1 = []\n",
        "for i in range(1000):\n",
        "    target_subsample_1 = target_1.sample(n=500, replace=True, random_state=state)\n",
        "    probs_subsample_1 = probabilities_1[target_subsample_1.index]\n",
        "    values_1.append(profit(target_subsample_1.reset_index(drop=True), probs_subsample_1.reset_index(drop=True), number))\n",
        "\n",
        "values_1 = pd.Series(values_1)\n",
        "lower_1 = values_1.quantile(max_probability_of_loss) \n",
        "upper_1 = values_1.quantile(0.975)\n",
        "mean_1 = values_1.mean()\n",
        "print(\"Средняя выручка с 1000 выборок:\", mean_1)\n",
        "print(\"5%-квантиль (начало интервала):\", lower_1)\n",
        "print(\"5%-квантиль (конец интервала):\", upper_1)\n",
        "if lower_1 < 0:\n",
        "    print(\"Вероятность убытков при разработке второго региона превышает 2.5%\")\n",
        "else:\n",
        "    print(\"Вероятность убытков при разработке второго региона НЕ превышает 2.5%\")\n",
        "print(\"Вероятность убытков при разработке второго региона составит\", (values_1 < 0).mean()*100,'%')"
      ]
    },
    {
      "cell_type": "markdown",
      "metadata": {
        "id": "BAo3u6joZqCy"
      },
      "source": [
        "Второй регион соответствует необходимым требованиям."
      ]
    },
    {
      "cell_type": "markdown",
      "metadata": {
        "id": "k1MMpCgeZqCz"
      },
      "source": [
        "### Третий регион"
      ]
    },
    {
      "cell_type": "markdown",
      "metadata": {
        "id": "TipYOIeEZqCz"
      },
      "source": [
        "Проведем расчеты по даннымиз третьего региона"
      ]
    },
    {
      "cell_type": "code",
      "execution_count": null,
      "metadata": {
        "id": "GopqHQ-9ZqCz",
        "outputId": "0cc33a89-fe9f-4924-ec1b-6bf1617604b9"
      },
      "outputs": [
        {
          "name": "stdout",
          "output_type": "stream",
          "text": [
            "Вероятная прибыль от разработки 200 лучших месторождений первого региона из пятисот случайно выбранных составит: 242929855.45624352\n",
            "Средняя выручка с 1000 выборок: 392446381.5803063\n",
            "5%-квантиль (начало интервала): -112227625.37857565\n",
            "5%-квантиль (конец интервала): 934562914.5511636\n",
            "Вероятность убытков при разработке третьего региона превышает 2.5%\n",
            "Вероятность убытков при разработке третьего региона составит 6.5 %\n"
          ]
        }
      ],
      "source": [
        "target_2 = pd.Series(target_valid_2).reset_index(drop=True)\n",
        "probabilities_2 = pd.Series(predictions_2).reset_index(drop=True)\n",
        "\n",
        "target_2_sample = target_2.sample(500, replace=True, random_state=state)\n",
        "target_2_sample.reset_index(drop=True)\n",
        "probabilities_2_sample = probabilities_2[target_2_sample.index]\n",
        "probabilities_2_sample.reset_index(drop=True)\n",
        "\n",
        "res_2 = profit(target_2_sample, probabilities_2_sample, number)\n",
        " \n",
        "print(\"Вероятная прибыль от разработки 200 лучших месторождений первого региона из пятисот случайно выбранных составит:\", res_2)\n",
        "values_2 = []\n",
        "for i in range(1000):\n",
        "    target_subsample_2 = target_2.sample(n=500, replace=True, random_state=state)\n",
        "    probs_subsample_2  = probabilities_2[target_subsample_2.index]\n",
        "    target_subsample_2 = target_subsample_2.reset_index(drop=True)\n",
        "    probs_subsample_2 = probs_subsample_2.reset_index(drop=True)\n",
        "    values_2.append(profit(target_subsample_2, probs_subsample_2, number))\n",
        "\n",
        "values_2 = pd.Series(values_2)\n",
        "lower_2 = values_2.quantile(max_probability_of_loss) \n",
        "upper_2 = values_2.quantile(0.975)\n",
        "mean_2 = values_2.mean()\n",
        "print(\"Средняя выручка с 1000 выборок:\", mean_2)\n",
        "print(\"5%-квантиль (начало интервала):\", lower_2)\n",
        "print(\"5%-квантиль (конец интервала):\", upper_2)\n",
        "if lower_2 < 0:\n",
        "    print(\"Вероятность убытков при разработке третьего региона превышает 2.5%\")\n",
        "else:\n",
        "    print(\"Вероятность убытков при разработке третьего региона НЕ превышает 2.5%\")\n",
        "print(\"Вероятность убытков при разработке третьего региона составит\", (values_2 < 0).mean()*100,'%')"
      ]
    },
    {
      "cell_type": "markdown",
      "metadata": {
        "id": "5P9QT2F7ZqC0"
      },
      "source": [
        "Третий регион не соответствует требованиям безубыточности."
      ]
    },
    {
      "cell_type": "markdown",
      "source": [
        "## Вывод"
      ],
      "metadata": {
        "id": "-1y1hi_Oc46u"
      }
    },
    {
      "cell_type": "markdown",
      "source": [
        "Проведенное иследование показало, что только второе месторождение соответствует требованиям заказчика по показателям безубыточности."
      ],
      "metadata": {
        "id": "IIZKdWGgdAji"
      }
    }
  ],
  "metadata": {
    "ExecuteTimeLog": [
      {
        "duration": 45,
        "start_time": "2022-08-16T16:49:56.151Z"
      },
      {
        "duration": 1128,
        "start_time": "2022-08-16T16:50:50.822Z"
      },
      {
        "duration": 431,
        "start_time": "2022-08-16T16:50:52.648Z"
      },
      {
        "duration": 175,
        "start_time": "2022-08-16T16:51:05.098Z"
      },
      {
        "duration": 50,
        "start_time": "2022-08-16T16:52:06.478Z"
      },
      {
        "duration": 68,
        "start_time": "2022-08-16T16:52:24.490Z"
      },
      {
        "duration": 257,
        "start_time": "2022-08-16T16:52:29.503Z"
      },
      {
        "duration": 262,
        "start_time": "2022-08-16T16:53:02.145Z"
      },
      {
        "duration": 49,
        "start_time": "2022-08-18T11:40:14.647Z"
      },
      {
        "duration": 1084,
        "start_time": "2022-08-18T11:40:19.626Z"
      },
      {
        "duration": 569,
        "start_time": "2022-08-18T11:40:20.732Z"
      },
      {
        "duration": 14,
        "start_time": "2022-08-18T11:40:22.437Z"
      },
      {
        "duration": 48,
        "start_time": "2022-08-18T18:54:10.571Z"
      },
      {
        "duration": 1170,
        "start_time": "2022-08-18T18:54:19.092Z"
      },
      {
        "duration": 545,
        "start_time": "2022-08-18T18:54:20.264Z"
      },
      {
        "duration": 15,
        "start_time": "2022-08-18T18:54:26.321Z"
      },
      {
        "duration": 631,
        "start_time": "2022-08-18T18:54:27.420Z"
      },
      {
        "duration": 605,
        "start_time": "2022-08-18T18:54:28.870Z"
      },
      {
        "duration": 68,
        "start_time": "2022-08-18T18:54:33.681Z"
      },
      {
        "duration": 15,
        "start_time": "2022-08-18T18:54:53.324Z"
      },
      {
        "duration": 18,
        "start_time": "2022-08-18T18:56:14.736Z"
      },
      {
        "duration": 15,
        "start_time": "2022-08-18T18:57:01.924Z"
      },
      {
        "duration": 1089,
        "start_time": "2022-08-18T18:58:01.913Z"
      },
      {
        "duration": 201,
        "start_time": "2022-08-18T18:58:03.004Z"
      },
      {
        "duration": 15,
        "start_time": "2022-08-18T18:58:03.206Z"
      },
      {
        "duration": 170,
        "start_time": "2022-08-18T18:58:03.222Z"
      },
      {
        "duration": 170,
        "start_time": "2022-08-18T18:58:03.395Z"
      },
      {
        "duration": 13,
        "start_time": "2022-08-18T18:58:03.568Z"
      },
      {
        "duration": 119,
        "start_time": "2022-08-18T18:58:03.583Z"
      },
      {
        "duration": 19,
        "start_time": "2022-08-18T19:00:16.504Z"
      },
      {
        "duration": 18,
        "start_time": "2022-08-18T19:00:22.524Z"
      },
      {
        "duration": 3,
        "start_time": "2022-08-18T19:00:26.268Z"
      },
      {
        "duration": 11,
        "start_time": "2022-08-18T19:00:57.179Z"
      },
      {
        "duration": 6,
        "start_time": "2022-08-18T19:01:21.036Z"
      },
      {
        "duration": 6,
        "start_time": "2022-08-18T19:01:44.624Z"
      },
      {
        "duration": 13,
        "start_time": "2022-08-18T19:02:45.219Z"
      },
      {
        "duration": 11,
        "start_time": "2022-08-18T19:11:47.252Z"
      },
      {
        "duration": 6,
        "start_time": "2022-08-18T19:11:52.479Z"
      },
      {
        "duration": 15,
        "start_time": "2022-08-18T19:11:59.036Z"
      },
      {
        "duration": 28,
        "start_time": "2022-08-18T19:12:29.844Z"
      },
      {
        "duration": 18,
        "start_time": "2022-08-18T19:12:43.340Z"
      },
      {
        "duration": 18,
        "start_time": "2022-08-18T19:14:08.952Z"
      },
      {
        "duration": 23,
        "start_time": "2022-08-18T19:15:33.088Z"
      },
      {
        "duration": 1286,
        "start_time": "2022-08-18T19:16:12.087Z"
      },
      {
        "duration": 199,
        "start_time": "2022-08-18T19:16:13.374Z"
      },
      {
        "duration": 16,
        "start_time": "2022-08-18T19:16:13.575Z"
      },
      {
        "duration": 176,
        "start_time": "2022-08-18T19:16:13.593Z"
      },
      {
        "duration": 203,
        "start_time": "2022-08-18T19:16:13.771Z"
      },
      {
        "duration": 16,
        "start_time": "2022-08-18T19:16:13.976Z"
      },
      {
        "duration": 15,
        "start_time": "2022-08-18T19:16:13.995Z"
      },
      {
        "duration": 234,
        "start_time": "2022-08-18T19:16:14.011Z"
      },
      {
        "duration": 105,
        "start_time": "2022-08-18T19:16:28.463Z"
      },
      {
        "duration": 21,
        "start_time": "2022-08-18T19:16:36.722Z"
      },
      {
        "duration": 119,
        "start_time": "2022-08-18T19:18:22.349Z"
      },
      {
        "duration": 27,
        "start_time": "2022-08-18T19:18:29.289Z"
      },
      {
        "duration": 24,
        "start_time": "2022-08-18T19:34:31.320Z"
      },
      {
        "duration": 118,
        "start_time": "2022-08-18T19:34:37.751Z"
      },
      {
        "duration": 97,
        "start_time": "2022-08-18T19:35:22.871Z"
      },
      {
        "duration": 29,
        "start_time": "2022-08-18T19:37:15.271Z"
      },
      {
        "duration": 100,
        "start_time": "2022-08-18T19:37:44.171Z"
      },
      {
        "duration": 12,
        "start_time": "2022-08-18T20:04:41.448Z"
      },
      {
        "duration": 4,
        "start_time": "2022-08-18T20:04:47.712Z"
      },
      {
        "duration": 29,
        "start_time": "2022-08-18T20:04:53.586Z"
      },
      {
        "duration": 2402,
        "start_time": "2022-08-18T20:05:02.307Z"
      },
      {
        "duration": 4,
        "start_time": "2022-08-18T20:05:55.140Z"
      },
      {
        "duration": 938,
        "start_time": "2022-08-18T20:06:02.646Z"
      },
      {
        "duration": 944,
        "start_time": "2022-08-18T20:06:17.881Z"
      },
      {
        "duration": 998,
        "start_time": "2022-08-18T20:06:25.280Z"
      },
      {
        "duration": 13,
        "start_time": "2022-08-18T20:07:28.162Z"
      },
      {
        "duration": 1202,
        "start_time": "2022-08-18T20:07:37.850Z"
      },
      {
        "duration": 1291,
        "start_time": "2022-08-18T20:07:46.432Z"
      },
      {
        "duration": 51,
        "start_time": "2022-08-19T12:39:22.413Z"
      },
      {
        "duration": 1342,
        "start_time": "2022-08-19T12:39:30.995Z"
      },
      {
        "duration": 664,
        "start_time": "2022-08-19T12:39:32.340Z"
      },
      {
        "duration": 18,
        "start_time": "2022-08-19T12:39:33.006Z"
      },
      {
        "duration": 661,
        "start_time": "2022-08-19T12:39:33.026Z"
      },
      {
        "duration": 675,
        "start_time": "2022-08-19T12:39:33.689Z"
      },
      {
        "duration": 16,
        "start_time": "2022-08-19T12:39:34.365Z"
      },
      {
        "duration": 33,
        "start_time": "2022-08-19T12:39:34.383Z"
      },
      {
        "duration": 193,
        "start_time": "2022-08-19T12:39:34.418Z"
      },
      {
        "duration": 197,
        "start_time": "2022-08-19T12:39:34.614Z"
      },
      {
        "duration": 270,
        "start_time": "2022-08-19T12:39:34.814Z"
      },
      {
        "duration": 0,
        "start_time": "2022-08-19T12:39:35.091Z"
      },
      {
        "duration": 11391,
        "start_time": "2022-08-19T12:40:14.326Z"
      },
      {
        "duration": 2010,
        "start_time": "2022-08-19T12:40:38.960Z"
      },
      {
        "duration": 2091,
        "start_time": "2022-08-19T12:41:19.639Z"
      },
      {
        "duration": 1731,
        "start_time": "2022-08-19T13:01:19.492Z"
      },
      {
        "duration": 14,
        "start_time": "2022-08-19T13:02:47.135Z"
      },
      {
        "duration": 11,
        "start_time": "2022-08-19T13:03:16.404Z"
      },
      {
        "duration": 11,
        "start_time": "2022-08-19T13:03:24.949Z"
      },
      {
        "duration": 16,
        "start_time": "2022-08-19T13:03:37.689Z"
      },
      {
        "duration": 10,
        "start_time": "2022-08-19T13:03:57.180Z"
      },
      {
        "duration": 19,
        "start_time": "2022-08-19T13:13:07.929Z"
      },
      {
        "duration": 19,
        "start_time": "2022-08-19T13:33:05.214Z"
      },
      {
        "duration": 18,
        "start_time": "2022-08-19T13:33:37.610Z"
      },
      {
        "duration": 13,
        "start_time": "2022-08-19T13:35:05.708Z"
      },
      {
        "duration": 12,
        "start_time": "2022-08-19T13:35:42.058Z"
      },
      {
        "duration": 3,
        "start_time": "2022-08-19T13:35:50.005Z"
      },
      {
        "duration": 4,
        "start_time": "2022-08-19T13:35:55.517Z"
      },
      {
        "duration": 10,
        "start_time": "2022-08-19T13:36:04.669Z"
      },
      {
        "duration": 12,
        "start_time": "2022-08-19T13:38:41.930Z"
      },
      {
        "duration": 13,
        "start_time": "2022-08-19T13:39:25.965Z"
      },
      {
        "duration": 13,
        "start_time": "2022-08-19T13:39:51.926Z"
      },
      {
        "duration": 11,
        "start_time": "2022-08-19T13:40:27.768Z"
      },
      {
        "duration": 4,
        "start_time": "2022-08-19T13:41:25.702Z"
      },
      {
        "duration": 12,
        "start_time": "2022-08-19T13:41:31.527Z"
      },
      {
        "duration": 14,
        "start_time": "2022-08-19T13:42:01.276Z"
      },
      {
        "duration": 13,
        "start_time": "2022-08-19T13:43:38.938Z"
      },
      {
        "duration": 12,
        "start_time": "2022-08-19T13:45:39.088Z"
      },
      {
        "duration": 12,
        "start_time": "2022-08-19T13:46:27.168Z"
      },
      {
        "duration": 8,
        "start_time": "2022-08-19T13:57:25.686Z"
      },
      {
        "duration": 9,
        "start_time": "2022-08-19T13:57:33.926Z"
      },
      {
        "duration": 3,
        "start_time": "2022-08-19T13:57:44.036Z"
      },
      {
        "duration": 5,
        "start_time": "2022-08-19T13:57:46.514Z"
      },
      {
        "duration": 4,
        "start_time": "2022-08-19T13:58:22.866Z"
      },
      {
        "duration": 78,
        "start_time": "2022-08-19T14:01:21.777Z"
      },
      {
        "duration": 10,
        "start_time": "2022-08-19T14:01:40.876Z"
      },
      {
        "duration": 4,
        "start_time": "2022-08-19T14:01:58.486Z"
      },
      {
        "duration": 10,
        "start_time": "2022-08-19T14:07:50.480Z"
      },
      {
        "duration": 8,
        "start_time": "2022-08-19T14:08:38.961Z"
      },
      {
        "duration": 1422,
        "start_time": "2022-08-19T14:08:48.029Z"
      },
      {
        "duration": 999,
        "start_time": "2022-08-19T14:09:21.166Z"
      },
      {
        "duration": 7,
        "start_time": "2022-08-19T14:09:39.188Z"
      },
      {
        "duration": 8,
        "start_time": "2022-08-19T14:10:00.843Z"
      },
      {
        "duration": 4,
        "start_time": "2022-08-19T14:10:11.685Z"
      },
      {
        "duration": 7,
        "start_time": "2022-08-19T14:10:23.723Z"
      },
      {
        "duration": 7,
        "start_time": "2022-08-19T14:10:41.327Z"
      },
      {
        "duration": 6,
        "start_time": "2022-08-19T14:10:53.641Z"
      },
      {
        "duration": 6,
        "start_time": "2022-08-19T14:11:09.019Z"
      },
      {
        "duration": 7,
        "start_time": "2022-08-19T14:11:17.354Z"
      },
      {
        "duration": 7,
        "start_time": "2022-08-19T14:11:47.143Z"
      },
      {
        "duration": 9,
        "start_time": "2022-08-19T14:14:45.521Z"
      },
      {
        "duration": 4,
        "start_time": "2022-08-19T14:14:58.164Z"
      },
      {
        "duration": 4,
        "start_time": "2022-08-19T14:14:59.381Z"
      },
      {
        "duration": 16,
        "start_time": "2022-08-19T14:17:56.183Z"
      },
      {
        "duration": 18,
        "start_time": "2022-08-19T14:19:46.433Z"
      },
      {
        "duration": 29,
        "start_time": "2022-08-19T14:22:04.159Z"
      },
      {
        "duration": 3,
        "start_time": "2022-08-19T14:22:34.473Z"
      },
      {
        "duration": 5,
        "start_time": "2022-08-19T14:22:48.622Z"
      },
      {
        "duration": 21,
        "start_time": "2022-08-19T14:23:11.731Z"
      },
      {
        "duration": 1190,
        "start_time": "2022-08-19T14:23:55.420Z"
      },
      {
        "duration": 219,
        "start_time": "2022-08-19T14:23:56.612Z"
      },
      {
        "duration": 18,
        "start_time": "2022-08-19T14:23:56.833Z"
      },
      {
        "duration": 188,
        "start_time": "2022-08-19T14:23:56.852Z"
      },
      {
        "duration": 215,
        "start_time": "2022-08-19T14:23:57.042Z"
      },
      {
        "duration": 15,
        "start_time": "2022-08-19T14:23:57.258Z"
      },
      {
        "duration": 118,
        "start_time": "2022-08-19T14:23:57.275Z"
      },
      {
        "duration": 122,
        "start_time": "2022-08-19T14:23:57.394Z"
      },
      {
        "duration": 196,
        "start_time": "2022-08-19T14:23:57.519Z"
      },
      {
        "duration": 76,
        "start_time": "2022-08-19T14:23:57.718Z"
      },
      {
        "duration": 104,
        "start_time": "2022-08-19T14:23:57.796Z"
      },
      {
        "duration": 13,
        "start_time": "2022-08-19T14:23:57.902Z"
      },
      {
        "duration": 117,
        "start_time": "2022-08-19T14:23:57.917Z"
      },
      {
        "duration": 0,
        "start_time": "2022-08-19T14:23:58.036Z"
      },
      {
        "duration": 12,
        "start_time": "2022-08-19T14:24:56.984Z"
      },
      {
        "duration": 5,
        "start_time": "2022-08-19T14:25:24.442Z"
      },
      {
        "duration": 6,
        "start_time": "2022-08-19T14:25:26.441Z"
      },
      {
        "duration": 7,
        "start_time": "2022-08-19T14:25:31.518Z"
      },
      {
        "duration": 1494,
        "start_time": "2022-08-19T14:32:49.142Z"
      },
      {
        "duration": 1371,
        "start_time": "2022-08-19T14:38:46.664Z"
      },
      {
        "duration": 1355,
        "start_time": "2022-08-19T14:41:44.243Z"
      },
      {
        "duration": 1423,
        "start_time": "2022-08-19T14:41:56.287Z"
      },
      {
        "duration": 72,
        "start_time": "2022-08-19T14:44:44.177Z"
      },
      {
        "duration": 216,
        "start_time": "2022-08-19T14:45:01.887Z"
      },
      {
        "duration": 1399,
        "start_time": "2022-08-19T14:45:44.491Z"
      },
      {
        "duration": 1393,
        "start_time": "2022-08-19T14:47:09.724Z"
      },
      {
        "duration": 1423,
        "start_time": "2022-08-19T14:47:57.367Z"
      },
      {
        "duration": 952,
        "start_time": "2022-08-20T08:54:25.605Z"
      },
      {
        "duration": 418,
        "start_time": "2022-08-20T08:54:26.559Z"
      },
      {
        "duration": 13,
        "start_time": "2022-08-20T08:54:26.978Z"
      },
      {
        "duration": 215,
        "start_time": "2022-08-20T08:54:26.992Z"
      },
      {
        "duration": 220,
        "start_time": "2022-08-20T08:54:27.209Z"
      },
      {
        "duration": 13,
        "start_time": "2022-08-20T08:54:27.430Z"
      },
      {
        "duration": 42,
        "start_time": "2022-08-20T08:54:27.444Z"
      },
      {
        "duration": 189,
        "start_time": "2022-08-20T08:54:27.487Z"
      },
      {
        "duration": 122,
        "start_time": "2022-08-20T08:54:27.759Z"
      },
      {
        "duration": 3,
        "start_time": "2022-08-20T08:54:27.957Z"
      },
      {
        "duration": 100,
        "start_time": "2022-08-20T08:54:27.962Z"
      },
      {
        "duration": 5,
        "start_time": "2022-08-20T08:54:28.064Z"
      },
      {
        "duration": 6,
        "start_time": "2022-08-20T08:54:28.070Z"
      },
      {
        "duration": 6,
        "start_time": "2022-08-20T08:54:28.079Z"
      },
      {
        "duration": 1299,
        "start_time": "2022-08-20T08:54:28.086Z"
      },
      {
        "duration": 1340,
        "start_time": "2022-08-20T08:54:29.387Z"
      },
      {
        "duration": 1314,
        "start_time": "2022-08-20T08:54:30.729Z"
      },
      {
        "duration": 21,
        "start_time": "2022-08-20T09:01:53.156Z"
      },
      {
        "duration": 19,
        "start_time": "2022-08-20T09:02:46.336Z"
      },
      {
        "duration": 18,
        "start_time": "2022-08-20T09:03:34.537Z"
      },
      {
        "duration": 289,
        "start_time": "2022-08-20T09:04:29.650Z"
      },
      {
        "duration": 23,
        "start_time": "2022-08-20T09:04:41.829Z"
      },
      {
        "duration": 73,
        "start_time": "2022-08-20T09:07:33.795Z"
      },
      {
        "duration": 101,
        "start_time": "2022-08-20T09:07:46.360Z"
      },
      {
        "duration": 89,
        "start_time": "2022-08-20T09:07:51.770Z"
      },
      {
        "duration": 89,
        "start_time": "2022-08-20T09:08:13.769Z"
      },
      {
        "duration": 27,
        "start_time": "2022-08-20T09:09:28.837Z"
      },
      {
        "duration": 53,
        "start_time": "2022-08-20T09:10:20.840Z"
      },
      {
        "duration": 69,
        "start_time": "2022-08-20T09:10:28.099Z"
      },
      {
        "duration": 31,
        "start_time": "2022-08-20T09:11:08.127Z"
      },
      {
        "duration": 87,
        "start_time": "2022-08-20T09:11:24.071Z"
      },
      {
        "duration": 1045,
        "start_time": "2022-08-20T09:11:38.150Z"
      },
      {
        "duration": 176,
        "start_time": "2022-08-20T09:11:39.197Z"
      },
      {
        "duration": 12,
        "start_time": "2022-08-20T09:11:39.375Z"
      },
      {
        "duration": 138,
        "start_time": "2022-08-20T09:11:39.389Z"
      },
      {
        "duration": 141,
        "start_time": "2022-08-20T09:11:39.528Z"
      },
      {
        "duration": 14,
        "start_time": "2022-08-20T09:11:39.670Z"
      },
      {
        "duration": 19,
        "start_time": "2022-08-20T09:11:39.686Z"
      },
      {
        "duration": 169,
        "start_time": "2022-08-20T09:11:39.707Z"
      },
      {
        "duration": 193,
        "start_time": "2022-08-20T09:11:39.877Z"
      },
      {
        "duration": 3,
        "start_time": "2022-08-20T09:11:40.072Z"
      },
      {
        "duration": 111,
        "start_time": "2022-08-20T09:11:40.161Z"
      },
      {
        "duration": 27,
        "start_time": "2022-08-20T09:11:40.274Z"
      },
      {
        "duration": 11,
        "start_time": "2022-08-20T09:11:40.303Z"
      },
      {
        "duration": 17,
        "start_time": "2022-08-20T09:11:40.316Z"
      },
      {
        "duration": 1302,
        "start_time": "2022-08-20T09:11:40.335Z"
      },
      {
        "duration": 1271,
        "start_time": "2022-08-20T09:11:41.638Z"
      },
      {
        "duration": 1296,
        "start_time": "2022-08-20T09:11:42.911Z"
      },
      {
        "duration": 246,
        "start_time": "2022-08-20T09:12:30.888Z"
      },
      {
        "duration": 67,
        "start_time": "2022-08-20T09:13:02.960Z"
      },
      {
        "duration": 18,
        "start_time": "2022-08-20T09:13:08.229Z"
      },
      {
        "duration": 110,
        "start_time": "2022-08-20T09:13:28.049Z"
      },
      {
        "duration": 99,
        "start_time": "2022-08-20T09:19:33.159Z"
      },
      {
        "duration": 17,
        "start_time": "2022-08-20T09:19:51.628Z"
      },
      {
        "duration": 24,
        "start_time": "2022-08-20T09:19:59.892Z"
      },
      {
        "duration": 81,
        "start_time": "2022-08-20T09:20:31.881Z"
      },
      {
        "duration": 22,
        "start_time": "2022-08-20T09:20:44.899Z"
      },
      {
        "duration": 57,
        "start_time": "2022-08-20T09:21:49.402Z"
      },
      {
        "duration": 29,
        "start_time": "2022-08-20T09:22:16.629Z"
      },
      {
        "duration": 30,
        "start_time": "2022-08-20T09:22:29.827Z"
      },
      {
        "duration": 23,
        "start_time": "2022-08-20T09:22:36.028Z"
      },
      {
        "duration": 1143,
        "start_time": "2022-08-20T09:23:03.490Z"
      },
      {
        "duration": 182,
        "start_time": "2022-08-20T09:23:04.635Z"
      },
      {
        "duration": 15,
        "start_time": "2022-08-20T09:23:04.818Z"
      },
      {
        "duration": 143,
        "start_time": "2022-08-20T09:23:04.835Z"
      },
      {
        "duration": 144,
        "start_time": "2022-08-20T09:23:04.981Z"
      },
      {
        "duration": 12,
        "start_time": "2022-08-20T09:23:05.126Z"
      },
      {
        "duration": 35,
        "start_time": "2022-08-20T09:23:05.139Z"
      },
      {
        "duration": 198,
        "start_time": "2022-08-20T09:23:05.176Z"
      },
      {
        "duration": 196,
        "start_time": "2022-08-20T09:23:05.376Z"
      },
      {
        "duration": 3,
        "start_time": "2022-08-20T09:23:05.573Z"
      },
      {
        "duration": 184,
        "start_time": "2022-08-20T09:23:05.577Z"
      },
      {
        "duration": 19,
        "start_time": "2022-08-20T09:23:05.763Z"
      },
      {
        "duration": 12,
        "start_time": "2022-08-20T09:23:05.784Z"
      },
      {
        "duration": 5,
        "start_time": "2022-08-20T09:23:05.798Z"
      },
      {
        "duration": 1292,
        "start_time": "2022-08-20T09:23:05.805Z"
      },
      {
        "duration": 1353,
        "start_time": "2022-08-20T09:23:07.099Z"
      },
      {
        "duration": 1299,
        "start_time": "2022-08-20T09:23:08.454Z"
      },
      {
        "duration": 23,
        "start_time": "2022-08-20T09:23:28.151Z"
      },
      {
        "duration": 269,
        "start_time": "2022-08-20T09:23:51.216Z"
      },
      {
        "duration": 21,
        "start_time": "2022-08-20T09:24:39.613Z"
      },
      {
        "duration": 67,
        "start_time": "2022-08-20T09:25:13.291Z"
      },
      {
        "duration": 59,
        "start_time": "2022-08-20T09:25:56.400Z"
      },
      {
        "duration": 24,
        "start_time": "2022-08-20T09:26:29.057Z"
      },
      {
        "duration": 71,
        "start_time": "2022-08-20T09:26:55.290Z"
      },
      {
        "duration": 49,
        "start_time": "2022-08-20T09:27:09.211Z"
      },
      {
        "duration": 21,
        "start_time": "2022-08-20T09:27:29.240Z"
      },
      {
        "duration": 26,
        "start_time": "2022-08-20T09:27:42.871Z"
      },
      {
        "duration": 22,
        "start_time": "2022-08-20T09:28:39.542Z"
      },
      {
        "duration": 107,
        "start_time": "2022-08-20T09:28:58.352Z"
      },
      {
        "duration": 26,
        "start_time": "2022-08-20T09:29:11.040Z"
      },
      {
        "duration": 98,
        "start_time": "2022-08-20T09:29:54.061Z"
      },
      {
        "duration": 98,
        "start_time": "2022-08-20T09:30:17.261Z"
      },
      {
        "duration": 1043,
        "start_time": "2022-08-20T09:30:28.481Z"
      },
      {
        "duration": 171,
        "start_time": "2022-08-20T09:30:29.526Z"
      },
      {
        "duration": 16,
        "start_time": "2022-08-20T09:30:29.699Z"
      },
      {
        "duration": 148,
        "start_time": "2022-08-20T09:30:29.716Z"
      },
      {
        "duration": 153,
        "start_time": "2022-08-20T09:30:29.867Z"
      },
      {
        "duration": 15,
        "start_time": "2022-08-20T09:30:30.022Z"
      },
      {
        "duration": 29,
        "start_time": "2022-08-20T09:30:30.038Z"
      },
      {
        "duration": 205,
        "start_time": "2022-08-20T09:30:30.068Z"
      },
      {
        "duration": 203,
        "start_time": "2022-08-20T09:30:30.276Z"
      },
      {
        "duration": 3,
        "start_time": "2022-08-20T09:30:30.481Z"
      },
      {
        "duration": 74,
        "start_time": "2022-08-20T09:30:30.486Z"
      },
      {
        "duration": 96,
        "start_time": "2022-08-20T09:30:30.562Z"
      },
      {
        "duration": 6,
        "start_time": "2022-08-20T09:30:30.659Z"
      },
      {
        "duration": 11,
        "start_time": "2022-08-20T09:30:30.667Z"
      },
      {
        "duration": 1367,
        "start_time": "2022-08-20T09:30:30.680Z"
      },
      {
        "duration": 1381,
        "start_time": "2022-08-20T09:30:32.048Z"
      },
      {
        "duration": 1300,
        "start_time": "2022-08-20T09:30:33.431Z"
      },
      {
        "duration": 4,
        "start_time": "2022-08-20T09:30:50.382Z"
      },
      {
        "duration": 162,
        "start_time": "2022-08-20T09:30:51.440Z"
      },
      {
        "duration": 13,
        "start_time": "2022-08-20T09:30:54.551Z"
      },
      {
        "duration": 167,
        "start_time": "2022-08-20T09:30:55.620Z"
      },
      {
        "duration": 171,
        "start_time": "2022-08-20T09:30:57.221Z"
      },
      {
        "duration": 20,
        "start_time": "2022-08-20T09:51:58.561Z"
      },
      {
        "duration": 29,
        "start_time": "2022-08-20T09:52:51.011Z"
      },
      {
        "duration": 25,
        "start_time": "2022-08-20T09:53:33.681Z"
      },
      {
        "duration": 3,
        "start_time": "2022-08-20T09:54:53.890Z"
      },
      {
        "duration": 107,
        "start_time": "2022-08-20T09:56:24.180Z"
      },
      {
        "duration": 1139,
        "start_time": "2022-08-20T09:56:34.256Z"
      },
      {
        "duration": 184,
        "start_time": "2022-08-20T09:56:35.397Z"
      },
      {
        "duration": 13,
        "start_time": "2022-08-20T09:56:35.583Z"
      },
      {
        "duration": 168,
        "start_time": "2022-08-20T09:56:35.598Z"
      },
      {
        "duration": 138,
        "start_time": "2022-08-20T09:56:35.769Z"
      },
      {
        "duration": 13,
        "start_time": "2022-08-20T09:56:35.908Z"
      },
      {
        "duration": 37,
        "start_time": "2022-08-20T09:56:35.922Z"
      },
      {
        "duration": 196,
        "start_time": "2022-08-20T09:56:35.961Z"
      },
      {
        "duration": 128,
        "start_time": "2022-08-20T09:56:36.159Z"
      },
      {
        "duration": 3,
        "start_time": "2022-08-20T09:56:36.358Z"
      },
      {
        "duration": 104,
        "start_time": "2022-08-20T09:56:36.366Z"
      },
      {
        "duration": 5,
        "start_time": "2022-08-20T09:56:36.472Z"
      },
      {
        "duration": 8,
        "start_time": "2022-08-20T09:56:36.478Z"
      },
      {
        "duration": 7,
        "start_time": "2022-08-20T09:56:36.489Z"
      },
      {
        "duration": 1290,
        "start_time": "2022-08-20T09:56:36.497Z"
      },
      {
        "duration": 1267,
        "start_time": "2022-08-20T09:56:37.788Z"
      },
      {
        "duration": 1300,
        "start_time": "2022-08-20T09:56:39.057Z"
      },
      {
        "duration": 1275,
        "start_time": "2022-08-20T09:56:50.728Z"
      },
      {
        "duration": 1014,
        "start_time": "2022-08-20T10:33:58.389Z"
      },
      {
        "duration": 161,
        "start_time": "2022-08-20T10:33:59.404Z"
      },
      {
        "duration": 13,
        "start_time": "2022-08-20T10:33:59.566Z"
      },
      {
        "duration": 137,
        "start_time": "2022-08-20T10:33:59.581Z"
      },
      {
        "duration": 140,
        "start_time": "2022-08-20T10:33:59.720Z"
      },
      {
        "duration": 13,
        "start_time": "2022-08-20T10:33:59.861Z"
      },
      {
        "duration": 82,
        "start_time": "2022-08-20T10:33:59.876Z"
      },
      {
        "duration": 118,
        "start_time": "2022-08-20T10:33:59.959Z"
      },
      {
        "duration": 183,
        "start_time": "2022-08-20T10:34:00.079Z"
      },
      {
        "duration": 94,
        "start_time": "2022-08-20T10:34:00.264Z"
      },
      {
        "duration": 117,
        "start_time": "2022-08-20T10:34:00.360Z"
      },
      {
        "duration": 24,
        "start_time": "2022-08-20T10:34:00.479Z"
      },
      {
        "duration": 32,
        "start_time": "2022-08-20T10:34:00.505Z"
      },
      {
        "duration": 21,
        "start_time": "2022-08-20T10:34:00.540Z"
      },
      {
        "duration": 1399,
        "start_time": "2022-08-20T10:34:00.564Z"
      },
      {
        "duration": 1349,
        "start_time": "2022-08-20T10:34:01.965Z"
      },
      {
        "duration": 1352,
        "start_time": "2022-08-20T10:34:03.316Z"
      },
      {
        "duration": 1340,
        "start_time": "2022-08-20T10:52:59.811Z"
      },
      {
        "duration": 1242,
        "start_time": "2022-08-20T10:53:37.159Z"
      },
      {
        "duration": 1315,
        "start_time": "2022-08-20T10:54:00.721Z"
      },
      {
        "duration": 1034,
        "start_time": "2022-08-20T11:11:22.322Z"
      },
      {
        "duration": 176,
        "start_time": "2022-08-20T11:11:23.358Z"
      },
      {
        "duration": 14,
        "start_time": "2022-08-20T11:11:23.535Z"
      },
      {
        "duration": 153,
        "start_time": "2022-08-20T11:11:23.559Z"
      },
      {
        "duration": 141,
        "start_time": "2022-08-20T11:11:23.713Z"
      },
      {
        "duration": 13,
        "start_time": "2022-08-20T11:11:23.855Z"
      },
      {
        "duration": 19,
        "start_time": "2022-08-20T11:11:23.870Z"
      },
      {
        "duration": 122,
        "start_time": "2022-08-20T11:11:23.958Z"
      },
      {
        "duration": 195,
        "start_time": "2022-08-20T11:11:24.082Z"
      },
      {
        "duration": 79,
        "start_time": "2022-08-20T11:11:24.280Z"
      },
      {
        "duration": 99,
        "start_time": "2022-08-20T11:11:24.360Z"
      },
      {
        "duration": 7,
        "start_time": "2022-08-20T11:11:24.460Z"
      },
      {
        "duration": 14,
        "start_time": "2022-08-20T11:11:24.469Z"
      },
      {
        "duration": 14,
        "start_time": "2022-08-20T11:11:24.485Z"
      },
      {
        "duration": 1407,
        "start_time": "2022-08-20T11:11:24.501Z"
      },
      {
        "duration": 1276,
        "start_time": "2022-08-20T11:11:25.910Z"
      },
      {
        "duration": 1248,
        "start_time": "2022-08-20T11:11:27.188Z"
      },
      {
        "duration": 1023,
        "start_time": "2022-08-20T11:12:16.322Z"
      },
      {
        "duration": 170,
        "start_time": "2022-08-20T11:12:17.346Z"
      },
      {
        "duration": 13,
        "start_time": "2022-08-20T11:12:17.517Z"
      },
      {
        "duration": 151,
        "start_time": "2022-08-20T11:12:17.531Z"
      },
      {
        "duration": 175,
        "start_time": "2022-08-20T11:12:17.684Z"
      },
      {
        "duration": 13,
        "start_time": "2022-08-20T11:12:17.860Z"
      },
      {
        "duration": 84,
        "start_time": "2022-08-20T11:12:17.874Z"
      },
      {
        "duration": 118,
        "start_time": "2022-08-20T11:12:17.960Z"
      },
      {
        "duration": 186,
        "start_time": "2022-08-20T11:12:18.079Z"
      },
      {
        "duration": 92,
        "start_time": "2022-08-20T11:12:18.267Z"
      },
      {
        "duration": 98,
        "start_time": "2022-08-20T11:12:18.361Z"
      },
      {
        "duration": 8,
        "start_time": "2022-08-20T11:12:18.460Z"
      },
      {
        "duration": 8,
        "start_time": "2022-08-20T11:12:18.469Z"
      },
      {
        "duration": 10,
        "start_time": "2022-08-20T11:12:18.479Z"
      },
      {
        "duration": 1284,
        "start_time": "2022-08-20T11:12:18.491Z"
      },
      {
        "duration": 1265,
        "start_time": "2022-08-20T11:12:19.777Z"
      },
      {
        "duration": 1263,
        "start_time": "2022-08-20T11:12:21.044Z"
      },
      {
        "duration": 14,
        "start_time": "2022-08-20T11:12:51.933Z"
      },
      {
        "duration": 13,
        "start_time": "2022-08-20T11:13:02.914Z"
      },
      {
        "duration": 13,
        "start_time": "2022-08-20T11:13:18.610Z"
      },
      {
        "duration": 3,
        "start_time": "2022-08-20T12:09:24.636Z"
      },
      {
        "duration": 5,
        "start_time": "2022-08-20T12:09:33.674Z"
      },
      {
        "duration": 48,
        "start_time": "2022-08-20T12:13:31.675Z"
      },
      {
        "duration": 6,
        "start_time": "2022-08-20T12:13:44.448Z"
      },
      {
        "duration": 1317,
        "start_time": "2022-08-20T12:16:48.270Z"
      },
      {
        "duration": 1293,
        "start_time": "2022-08-20T12:17:51.149Z"
      },
      {
        "duration": 88,
        "start_time": "2022-08-20T12:23:22.053Z"
      },
      {
        "duration": 1270,
        "start_time": "2022-08-20T12:23:48.795Z"
      },
      {
        "duration": 109,
        "start_time": "2022-08-20T12:30:32.577Z"
      },
      {
        "duration": 1282,
        "start_time": "2022-08-20T12:31:47.865Z"
      },
      {
        "duration": 1267,
        "start_time": "2022-08-20T12:33:37.511Z"
      },
      {
        "duration": 1384,
        "start_time": "2022-08-20T12:35:09.998Z"
      },
      {
        "duration": 1362,
        "start_time": "2022-08-20T12:39:51.097Z"
      },
      {
        "duration": 4,
        "start_time": "2022-08-20T12:41:33.381Z"
      },
      {
        "duration": 5,
        "start_time": "2022-08-20T12:41:36.147Z"
      },
      {
        "duration": 3,
        "start_time": "2022-08-20T12:41:44.938Z"
      },
      {
        "duration": 7,
        "start_time": "2022-08-20T12:41:48.065Z"
      },
      {
        "duration": 15,
        "start_time": "2022-08-20T12:42:42.532Z"
      },
      {
        "duration": 6,
        "start_time": "2022-08-20T12:43:01.711Z"
      },
      {
        "duration": 1296,
        "start_time": "2022-08-20T12:43:19.311Z"
      },
      {
        "duration": 1260,
        "start_time": "2022-08-20T12:44:06.053Z"
      },
      {
        "duration": 1018,
        "start_time": "2022-08-20T12:48:44.188Z"
      },
      {
        "duration": 180,
        "start_time": "2022-08-20T12:48:45.208Z"
      },
      {
        "duration": 16,
        "start_time": "2022-08-20T12:48:45.393Z"
      },
      {
        "duration": 184,
        "start_time": "2022-08-20T12:48:45.412Z"
      },
      {
        "duration": 21,
        "start_time": "2022-08-20T12:48:45.598Z"
      },
      {
        "duration": 189,
        "start_time": "2022-08-20T12:48:45.622Z"
      },
      {
        "duration": 13,
        "start_time": "2022-08-20T12:48:45.813Z"
      },
      {
        "duration": 14,
        "start_time": "2022-08-20T12:48:45.828Z"
      },
      {
        "duration": 29,
        "start_time": "2022-08-20T12:48:45.844Z"
      },
      {
        "duration": 203,
        "start_time": "2022-08-20T12:48:45.875Z"
      },
      {
        "duration": 284,
        "start_time": "2022-08-20T12:48:46.079Z"
      },
      {
        "duration": 90,
        "start_time": "2022-08-20T12:48:46.368Z"
      },
      {
        "duration": 14,
        "start_time": "2022-08-20T12:48:46.460Z"
      },
      {
        "duration": 24,
        "start_time": "2022-08-20T12:48:46.476Z"
      },
      {
        "duration": 22,
        "start_time": "2022-08-20T12:48:46.502Z"
      },
      {
        "duration": 25,
        "start_time": "2022-08-20T12:48:46.526Z"
      },
      {
        "duration": 19,
        "start_time": "2022-08-20T12:48:46.553Z"
      },
      {
        "duration": 1343,
        "start_time": "2022-08-20T12:48:46.574Z"
      },
      {
        "duration": 1297,
        "start_time": "2022-08-20T12:48:47.920Z"
      },
      {
        "duration": 1335,
        "start_time": "2022-08-20T12:48:49.219Z"
      },
      {
        "duration": 1155,
        "start_time": "2022-08-20T20:16:27.508Z"
      },
      {
        "duration": 381,
        "start_time": "2022-08-20T20:16:28.665Z"
      },
      {
        "duration": 13,
        "start_time": "2022-08-20T20:16:29.048Z"
      },
      {
        "duration": 270,
        "start_time": "2022-08-20T20:16:29.063Z"
      },
      {
        "duration": 11,
        "start_time": "2022-08-20T20:16:29.335Z"
      },
      {
        "duration": 359,
        "start_time": "2022-08-20T20:16:29.348Z"
      },
      {
        "duration": 12,
        "start_time": "2022-08-20T20:16:29.709Z"
      },
      {
        "duration": 21,
        "start_time": "2022-08-20T20:16:29.723Z"
      },
      {
        "duration": 31,
        "start_time": "2022-08-20T20:16:29.745Z"
      },
      {
        "duration": 108,
        "start_time": "2022-08-20T20:16:29.807Z"
      },
      {
        "duration": 198,
        "start_time": "2022-08-20T20:16:29.922Z"
      },
      {
        "duration": 3,
        "start_time": "2022-08-20T20:16:30.307Z"
      },
      {
        "duration": 26,
        "start_time": "2022-08-20T20:16:30.312Z"
      },
      {
        "duration": 3,
        "start_time": "2022-08-20T20:16:30.505Z"
      },
      {
        "duration": 28,
        "start_time": "2022-08-20T20:16:30.510Z"
      },
      {
        "duration": 26,
        "start_time": "2022-08-20T20:16:30.540Z"
      },
      {
        "duration": 5,
        "start_time": "2022-08-20T20:16:30.709Z"
      },
      {
        "duration": 1273,
        "start_time": "2022-08-20T20:16:30.889Z"
      },
      {
        "duration": 1267,
        "start_time": "2022-08-20T20:16:32.164Z"
      },
      {
        "duration": 1167,
        "start_time": "2022-08-20T20:16:33.432Z"
      },
      {
        "duration": 55,
        "start_time": "2022-08-21T18:32:19.184Z"
      },
      {
        "duration": 1062,
        "start_time": "2022-08-21T18:32:27.062Z"
      },
      {
        "duration": 442,
        "start_time": "2022-08-21T18:32:28.127Z"
      },
      {
        "duration": 17,
        "start_time": "2022-08-21T18:32:28.571Z"
      },
      {
        "duration": 123,
        "start_time": "2022-08-21T18:32:28.590Z"
      },
      {
        "duration": 0,
        "start_time": "2022-08-21T18:32:28.722Z"
      },
      {
        "duration": 0,
        "start_time": "2022-08-21T18:32:28.723Z"
      },
      {
        "duration": 0,
        "start_time": "2022-08-21T18:32:28.730Z"
      },
      {
        "duration": 0,
        "start_time": "2022-08-21T18:32:28.732Z"
      },
      {
        "duration": 0,
        "start_time": "2022-08-21T18:32:28.733Z"
      },
      {
        "duration": 0,
        "start_time": "2022-08-21T18:32:28.735Z"
      },
      {
        "duration": 0,
        "start_time": "2022-08-21T18:32:28.736Z"
      },
      {
        "duration": 0,
        "start_time": "2022-08-21T18:32:28.738Z"
      },
      {
        "duration": 0,
        "start_time": "2022-08-21T18:32:28.739Z"
      },
      {
        "duration": 0,
        "start_time": "2022-08-21T18:32:28.740Z"
      },
      {
        "duration": 0,
        "start_time": "2022-08-21T18:32:28.742Z"
      },
      {
        "duration": 0,
        "start_time": "2022-08-21T18:32:28.743Z"
      },
      {
        "duration": 0,
        "start_time": "2022-08-21T18:32:28.745Z"
      },
      {
        "duration": 0,
        "start_time": "2022-08-21T18:32:28.746Z"
      },
      {
        "duration": 0,
        "start_time": "2022-08-21T18:32:28.747Z"
      },
      {
        "duration": 0,
        "start_time": "2022-08-21T18:32:28.749Z"
      },
      {
        "duration": 0,
        "start_time": "2022-08-21T18:32:28.750Z"
      },
      {
        "duration": 626,
        "start_time": "2022-08-21T18:33:13.149Z"
      },
      {
        "duration": 190,
        "start_time": "2022-08-21T18:37:12.457Z"
      },
      {
        "duration": 326,
        "start_time": "2022-08-21T18:40:08.136Z"
      },
      {
        "duration": 14,
        "start_time": "2022-08-21T18:40:16.789Z"
      },
      {
        "duration": 367,
        "start_time": "2022-08-21T18:41:06.140Z"
      },
      {
        "duration": 143,
        "start_time": "2022-08-21T18:41:30.436Z"
      },
      {
        "duration": 299,
        "start_time": "2022-08-21T18:46:13.060Z"
      },
      {
        "duration": 14,
        "start_time": "2022-08-21T18:46:14.270Z"
      },
      {
        "duration": 386,
        "start_time": "2022-08-21T18:46:59.594Z"
      },
      {
        "duration": 19,
        "start_time": "2022-08-21T18:47:25.324Z"
      },
      {
        "duration": 13,
        "start_time": "2022-08-21T18:47:37.024Z"
      },
      {
        "duration": 134,
        "start_time": "2022-08-21T18:47:48.860Z"
      },
      {
        "duration": 1004,
        "start_time": "2022-08-21T18:50:49.792Z"
      },
      {
        "duration": 6,
        "start_time": "2022-08-21T18:50:59.235Z"
      },
      {
        "duration": 5,
        "start_time": "2022-08-21T18:51:06.341Z"
      },
      {
        "duration": 5,
        "start_time": "2022-08-21T18:51:11.638Z"
      },
      {
        "duration": 10,
        "start_time": "2022-08-21T18:52:52.830Z"
      },
      {
        "duration": 9,
        "start_time": "2022-08-21T18:54:59.791Z"
      },
      {
        "duration": 10,
        "start_time": "2022-08-21T18:57:56.431Z"
      },
      {
        "duration": 973,
        "start_time": "2022-08-21T19:12:07.458Z"
      },
      {
        "duration": 167,
        "start_time": "2022-08-21T19:12:08.433Z"
      },
      {
        "duration": 24,
        "start_time": "2022-08-21T19:12:08.602Z"
      },
      {
        "duration": 358,
        "start_time": "2022-08-21T19:12:08.628Z"
      },
      {
        "duration": 9,
        "start_time": "2022-08-21T19:12:08.987Z"
      },
      {
        "duration": 190,
        "start_time": "2022-08-21T19:12:08.997Z"
      },
      {
        "duration": 13,
        "start_time": "2022-08-21T19:12:09.189Z"
      },
      {
        "duration": 142,
        "start_time": "2022-08-21T19:12:09.210Z"
      },
      {
        "duration": 8,
        "start_time": "2022-08-21T19:12:09.354Z"
      },
      {
        "duration": 162,
        "start_time": "2022-08-21T19:12:09.364Z"
      },
      {
        "duration": 13,
        "start_time": "2022-08-21T19:12:09.528Z"
      },
      {
        "duration": 132,
        "start_time": "2022-08-21T19:12:09.543Z"
      },
      {
        "duration": 8,
        "start_time": "2022-08-21T19:12:09.676Z"
      },
      {
        "duration": 45,
        "start_time": "2022-08-21T19:12:09.685Z"
      },
      {
        "duration": 19,
        "start_time": "2022-08-21T19:12:09.732Z"
      },
      {
        "duration": 181,
        "start_time": "2022-08-21T19:12:09.753Z"
      },
      {
        "duration": 186,
        "start_time": "2022-08-21T19:12:09.939Z"
      },
      {
        "duration": 7,
        "start_time": "2022-08-21T19:12:10.127Z"
      },
      {
        "duration": 109,
        "start_time": "2022-08-21T19:12:10.212Z"
      },
      {
        "duration": 7,
        "start_time": "2022-08-21T19:12:10.323Z"
      },
      {
        "duration": 7,
        "start_time": "2022-08-21T19:12:10.331Z"
      },
      {
        "duration": 3,
        "start_time": "2022-08-21T19:12:10.340Z"
      },
      {
        "duration": 4,
        "start_time": "2022-08-21T19:12:10.344Z"
      },
      {
        "duration": 7,
        "start_time": "2022-08-21T19:12:10.349Z"
      },
      {
        "duration": 1203,
        "start_time": "2022-08-21T19:12:10.357Z"
      },
      {
        "duration": 1164,
        "start_time": "2022-08-21T19:12:11.561Z"
      },
      {
        "duration": 1166,
        "start_time": "2022-08-21T19:12:12.727Z"
      },
      {
        "duration": 5,
        "start_time": "2022-08-21T19:14:28.658Z"
      },
      {
        "duration": 3,
        "start_time": "2022-08-21T19:14:46.975Z"
      },
      {
        "duration": 4,
        "start_time": "2022-08-21T19:14:51.955Z"
      },
      {
        "duration": 1351,
        "start_time": "2022-08-21T19:15:32.289Z"
      },
      {
        "duration": 1166,
        "start_time": "2022-08-21T19:15:55.535Z"
      },
      {
        "duration": 1177,
        "start_time": "2022-08-21T19:16:31.088Z"
      },
      {
        "duration": 1139,
        "start_time": "2022-08-21T19:21:01.468Z"
      },
      {
        "duration": 1211,
        "start_time": "2022-08-21T19:23:11.722Z"
      },
      {
        "duration": 1041,
        "start_time": "2022-08-21T19:23:21.944Z"
      },
      {
        "duration": 179,
        "start_time": "2022-08-21T19:23:22.987Z"
      },
      {
        "duration": 14,
        "start_time": "2022-08-21T19:23:23.168Z"
      },
      {
        "duration": 369,
        "start_time": "2022-08-21T19:23:23.184Z"
      },
      {
        "duration": 9,
        "start_time": "2022-08-21T19:23:23.555Z"
      },
      {
        "duration": 175,
        "start_time": "2022-08-21T19:23:23.565Z"
      },
      {
        "duration": 14,
        "start_time": "2022-08-21T19:23:23.742Z"
      },
      {
        "duration": 158,
        "start_time": "2022-08-21T19:23:23.758Z"
      },
      {
        "duration": 9,
        "start_time": "2022-08-21T19:23:23.918Z"
      },
      {
        "duration": 146,
        "start_time": "2022-08-21T19:23:23.929Z"
      },
      {
        "duration": 12,
        "start_time": "2022-08-21T19:23:24.076Z"
      },
      {
        "duration": 144,
        "start_time": "2022-08-21T19:23:24.090Z"
      },
      {
        "duration": 8,
        "start_time": "2022-08-21T19:23:24.236Z"
      },
      {
        "duration": 11,
        "start_time": "2022-08-21T19:23:24.247Z"
      },
      {
        "duration": 54,
        "start_time": "2022-08-21T19:23:24.260Z"
      },
      {
        "duration": 117,
        "start_time": "2022-08-21T19:23:24.315Z"
      },
      {
        "duration": 193,
        "start_time": "2022-08-21T19:23:24.434Z"
      },
      {
        "duration": 3,
        "start_time": "2022-08-21T19:23:24.629Z"
      },
      {
        "duration": 179,
        "start_time": "2022-08-21T19:23:24.633Z"
      },
      {
        "duration": 7,
        "start_time": "2022-08-21T19:23:24.814Z"
      },
      {
        "duration": 10,
        "start_time": "2022-08-21T19:23:24.823Z"
      },
      {
        "duration": 3,
        "start_time": "2022-08-21T19:23:24.835Z"
      },
      {
        "duration": 6,
        "start_time": "2022-08-21T19:23:24.839Z"
      },
      {
        "duration": 10,
        "start_time": "2022-08-21T19:23:24.846Z"
      },
      {
        "duration": 1132,
        "start_time": "2022-08-21T19:23:24.857Z"
      },
      {
        "duration": 1109,
        "start_time": "2022-08-21T19:23:25.991Z"
      },
      {
        "duration": 1092,
        "start_time": "2022-08-21T19:23:27.102Z"
      },
      {
        "duration": 1069,
        "start_time": "2022-08-21T19:25:29.649Z"
      },
      {
        "duration": 1085,
        "start_time": "2022-08-21T19:25:46.420Z"
      },
      {
        "duration": 1195,
        "start_time": "2022-08-21T19:32:16.367Z"
      },
      {
        "duration": 1105,
        "start_time": "2022-08-21T19:32:26.179Z"
      },
      {
        "duration": 1151,
        "start_time": "2022-08-21T19:40:18.092Z"
      },
      {
        "duration": 1143,
        "start_time": "2022-08-21T19:40:39.656Z"
      },
      {
        "duration": 1115,
        "start_time": "2022-08-21T19:41:24.462Z"
      },
      {
        "duration": 1110,
        "start_time": "2022-08-21T19:41:44.459Z"
      },
      {
        "duration": 1179,
        "start_time": "2022-08-21T19:41:51.761Z"
      },
      {
        "duration": 1140,
        "start_time": "2022-08-21T19:42:00.990Z"
      },
      {
        "duration": 1067,
        "start_time": "2022-08-21T19:42:10.023Z"
      },
      {
        "duration": 176,
        "start_time": "2022-08-21T19:42:11.092Z"
      },
      {
        "duration": 13,
        "start_time": "2022-08-21T19:42:11.269Z"
      },
      {
        "duration": 381,
        "start_time": "2022-08-21T19:42:11.284Z"
      },
      {
        "duration": 11,
        "start_time": "2022-08-21T19:42:11.667Z"
      },
      {
        "duration": 196,
        "start_time": "2022-08-21T19:42:11.680Z"
      },
      {
        "duration": 12,
        "start_time": "2022-08-21T19:42:11.878Z"
      },
      {
        "duration": 148,
        "start_time": "2022-08-21T19:42:11.892Z"
      },
      {
        "duration": 7,
        "start_time": "2022-08-21T19:42:12.042Z"
      },
      {
        "duration": 235,
        "start_time": "2022-08-21T19:42:12.052Z"
      },
      {
        "duration": 12,
        "start_time": "2022-08-21T19:42:12.289Z"
      },
      {
        "duration": 143,
        "start_time": "2022-08-21T19:42:12.303Z"
      },
      {
        "duration": 8,
        "start_time": "2022-08-21T19:42:12.448Z"
      },
      {
        "duration": 27,
        "start_time": "2022-08-21T19:42:12.458Z"
      },
      {
        "duration": 51,
        "start_time": "2022-08-21T19:42:12.487Z"
      },
      {
        "duration": 194,
        "start_time": "2022-08-21T19:42:12.539Z"
      },
      {
        "duration": 190,
        "start_time": "2022-08-21T19:42:12.735Z"
      },
      {
        "duration": 90,
        "start_time": "2022-08-21T19:42:12.927Z"
      },
      {
        "duration": 98,
        "start_time": "2022-08-21T19:42:13.019Z"
      },
      {
        "duration": 11,
        "start_time": "2022-08-21T19:42:13.119Z"
      },
      {
        "duration": 7,
        "start_time": "2022-08-21T19:42:13.131Z"
      },
      {
        "duration": 7,
        "start_time": "2022-08-21T19:42:13.140Z"
      },
      {
        "duration": 7,
        "start_time": "2022-08-21T19:42:13.148Z"
      },
      {
        "duration": 9,
        "start_time": "2022-08-21T19:42:13.156Z"
      },
      {
        "duration": 1095,
        "start_time": "2022-08-21T19:42:13.166Z"
      },
      {
        "duration": 1074,
        "start_time": "2022-08-21T19:42:14.262Z"
      },
      {
        "duration": 1054,
        "start_time": "2022-08-21T19:42:15.337Z"
      },
      {
        "duration": 1139,
        "start_time": "2022-08-21T19:43:08.049Z"
      },
      {
        "duration": 1177,
        "start_time": "2022-08-21T19:43:13.156Z"
      },
      {
        "duration": 1162,
        "start_time": "2022-08-21T19:43:22.168Z"
      },
      {
        "duration": 1056,
        "start_time": "2022-08-21T19:43:34.064Z"
      },
      {
        "duration": 1159,
        "start_time": "2022-08-21T19:44:23.656Z"
      },
      {
        "duration": 1062,
        "start_time": "2022-08-21T19:44:36.622Z"
      },
      {
        "duration": 1052,
        "start_time": "2022-08-21T19:44:44.424Z"
      },
      {
        "duration": 1079,
        "start_time": "2022-08-21T19:44:49.959Z"
      },
      {
        "duration": 1088,
        "start_time": "2022-08-21T19:45:27.004Z"
      },
      {
        "duration": 1087,
        "start_time": "2022-08-21T19:45:44.090Z"
      },
      {
        "duration": 996,
        "start_time": "2022-08-21T19:46:18.700Z"
      },
      {
        "duration": 167,
        "start_time": "2022-08-21T19:46:19.697Z"
      },
      {
        "duration": 13,
        "start_time": "2022-08-21T19:46:19.866Z"
      },
      {
        "duration": 366,
        "start_time": "2022-08-21T19:46:19.881Z"
      },
      {
        "duration": 9,
        "start_time": "2022-08-21T19:46:20.249Z"
      },
      {
        "duration": 186,
        "start_time": "2022-08-21T19:46:20.259Z"
      },
      {
        "duration": 12,
        "start_time": "2022-08-21T19:46:20.446Z"
      },
      {
        "duration": 135,
        "start_time": "2022-08-21T19:46:20.459Z"
      },
      {
        "duration": 21,
        "start_time": "2022-08-21T19:46:20.596Z"
      },
      {
        "duration": 138,
        "start_time": "2022-08-21T19:46:20.620Z"
      },
      {
        "duration": 12,
        "start_time": "2022-08-21T19:46:20.759Z"
      },
      {
        "duration": 140,
        "start_time": "2022-08-21T19:46:20.772Z"
      },
      {
        "duration": 8,
        "start_time": "2022-08-21T19:46:20.913Z"
      },
      {
        "duration": 12,
        "start_time": "2022-08-21T19:46:20.922Z"
      },
      {
        "duration": 79,
        "start_time": "2022-08-21T19:46:20.935Z"
      },
      {
        "duration": 120,
        "start_time": "2022-08-21T19:46:21.016Z"
      },
      {
        "duration": 115,
        "start_time": "2022-08-21T19:46:21.211Z"
      },
      {
        "duration": 84,
        "start_time": "2022-08-21T19:46:21.329Z"
      },
      {
        "duration": 105,
        "start_time": "2022-08-21T19:46:21.415Z"
      },
      {
        "duration": 14,
        "start_time": "2022-08-21T19:46:21.522Z"
      },
      {
        "duration": 9,
        "start_time": "2022-08-21T19:46:21.538Z"
      },
      {
        "duration": 8,
        "start_time": "2022-08-21T19:46:21.548Z"
      },
      {
        "duration": 5,
        "start_time": "2022-08-21T19:46:21.558Z"
      },
      {
        "duration": 6,
        "start_time": "2022-08-21T19:46:21.564Z"
      },
      {
        "duration": 1186,
        "start_time": "2022-08-21T19:46:21.572Z"
      },
      {
        "duration": 1071,
        "start_time": "2022-08-21T19:46:22.760Z"
      },
      {
        "duration": 1057,
        "start_time": "2022-08-21T19:46:23.832Z"
      },
      {
        "duration": 43,
        "start_time": "2022-08-22T18:41:51.562Z"
      },
      {
        "duration": 936,
        "start_time": "2022-08-22T18:41:57.505Z"
      },
      {
        "duration": 553,
        "start_time": "2022-08-22T18:41:58.442Z"
      },
      {
        "duration": 12,
        "start_time": "2022-08-22T18:41:58.996Z"
      },
      {
        "duration": 471,
        "start_time": "2022-08-22T18:41:59.010Z"
      },
      {
        "duration": 8,
        "start_time": "2022-08-22T18:41:59.483Z"
      },
      {
        "duration": 585,
        "start_time": "2022-08-22T18:41:59.492Z"
      },
      {
        "duration": 11,
        "start_time": "2022-08-22T18:42:00.079Z"
      },
      {
        "duration": 121,
        "start_time": "2022-08-22T18:42:00.091Z"
      },
      {
        "duration": 7,
        "start_time": "2022-08-22T18:42:00.214Z"
      },
      {
        "duration": 548,
        "start_time": "2022-08-22T18:42:00.223Z"
      },
      {
        "duration": 11,
        "start_time": "2022-08-22T18:42:00.773Z"
      },
      {
        "duration": 124,
        "start_time": "2022-08-22T18:42:00.785Z"
      },
      {
        "duration": 8,
        "start_time": "2022-08-22T18:42:00.910Z"
      },
      {
        "duration": 24,
        "start_time": "2022-08-22T18:42:00.919Z"
      },
      {
        "duration": 120,
        "start_time": "2022-08-22T18:42:00.945Z"
      },
      {
        "duration": 111,
        "start_time": "2022-08-22T18:42:01.066Z"
      },
      {
        "duration": 200,
        "start_time": "2022-08-22T18:42:01.179Z"
      },
      {
        "duration": 5,
        "start_time": "2022-08-22T18:42:01.460Z"
      },
      {
        "duration": 16,
        "start_time": "2022-08-22T18:42:01.558Z"
      },
      {
        "duration": 10,
        "start_time": "2022-08-22T18:42:01.575Z"
      },
      {
        "duration": 23,
        "start_time": "2022-08-22T18:42:01.586Z"
      },
      {
        "duration": 5,
        "start_time": "2022-08-22T18:42:01.610Z"
      },
      {
        "duration": 13,
        "start_time": "2022-08-22T18:42:01.616Z"
      },
      {
        "duration": 15,
        "start_time": "2022-08-22T18:42:01.630Z"
      },
      {
        "duration": 1114,
        "start_time": "2022-08-22T18:42:01.647Z"
      },
      {
        "duration": 1123,
        "start_time": "2022-08-22T18:42:02.763Z"
      },
      {
        "duration": 1128,
        "start_time": "2022-08-22T18:42:03.888Z"
      },
      {
        "duration": 1082,
        "start_time": "2022-08-22T18:44:51.178Z"
      },
      {
        "duration": 995,
        "start_time": "2022-08-22T18:45:17.405Z"
      },
      {
        "duration": 944,
        "start_time": "2022-08-22T18:45:42.296Z"
      },
      {
        "duration": 1132,
        "start_time": "2022-08-22T18:46:01.215Z"
      },
      {
        "duration": 101,
        "start_time": "2022-08-22T18:46:16.211Z"
      },
      {
        "duration": 78,
        "start_time": "2022-08-22T18:46:54.143Z"
      },
      {
        "duration": 924,
        "start_time": "2022-08-22T18:47:05.197Z"
      },
      {
        "duration": 1095,
        "start_time": "2022-08-22T18:47:28.230Z"
      },
      {
        "duration": 962,
        "start_time": "2022-08-22T18:47:36.734Z"
      },
      {
        "duration": 163,
        "start_time": "2022-08-22T18:47:37.698Z"
      },
      {
        "duration": 11,
        "start_time": "2022-08-22T18:47:37.863Z"
      },
      {
        "duration": 346,
        "start_time": "2022-08-22T18:47:37.876Z"
      },
      {
        "duration": 9,
        "start_time": "2022-08-22T18:47:38.223Z"
      },
      {
        "duration": 143,
        "start_time": "2022-08-22T18:47:38.234Z"
      },
      {
        "duration": 11,
        "start_time": "2022-08-22T18:47:38.378Z"
      },
      {
        "duration": 133,
        "start_time": "2022-08-22T18:47:38.390Z"
      },
      {
        "duration": 7,
        "start_time": "2022-08-22T18:47:38.524Z"
      },
      {
        "duration": 135,
        "start_time": "2022-08-22T18:47:38.533Z"
      },
      {
        "duration": 11,
        "start_time": "2022-08-22T18:47:38.670Z"
      },
      {
        "duration": 131,
        "start_time": "2022-08-22T18:47:38.682Z"
      },
      {
        "duration": 8,
        "start_time": "2022-08-22T18:47:38.814Z"
      },
      {
        "duration": 11,
        "start_time": "2022-08-22T18:47:38.823Z"
      },
      {
        "duration": 29,
        "start_time": "2022-08-22T18:47:38.836Z"
      },
      {
        "duration": 198,
        "start_time": "2022-08-22T18:47:38.866Z"
      },
      {
        "duration": 217,
        "start_time": "2022-08-22T18:47:39.065Z"
      },
      {
        "duration": 5,
        "start_time": "2022-08-22T18:47:39.359Z"
      },
      {
        "duration": 94,
        "start_time": "2022-08-22T18:47:39.366Z"
      },
      {
        "duration": 7,
        "start_time": "2022-08-22T18:47:39.462Z"
      },
      {
        "duration": 11,
        "start_time": "2022-08-22T18:47:39.470Z"
      },
      {
        "duration": 4,
        "start_time": "2022-08-22T18:47:39.482Z"
      },
      {
        "duration": 5,
        "start_time": "2022-08-22T18:47:39.487Z"
      },
      {
        "duration": 6,
        "start_time": "2022-08-22T18:47:39.493Z"
      },
      {
        "duration": 1117,
        "start_time": "2022-08-22T18:47:39.500Z"
      },
      {
        "duration": 929,
        "start_time": "2022-08-22T18:47:40.618Z"
      },
      {
        "duration": 1086,
        "start_time": "2022-08-22T18:47:41.548Z"
      },
      {
        "duration": 944,
        "start_time": "2022-08-22T18:50:44.320Z"
      },
      {
        "duration": 912,
        "start_time": "2022-08-22T18:51:20.686Z"
      },
      {
        "duration": 923,
        "start_time": "2022-08-22T18:52:42.644Z"
      },
      {
        "duration": 1119,
        "start_time": "2022-08-22T18:52:56.181Z"
      },
      {
        "duration": 1100,
        "start_time": "2022-08-22T18:53:44.566Z"
      },
      {
        "duration": 1250,
        "start_time": "2022-08-22T18:55:07.038Z"
      },
      {
        "duration": 1111,
        "start_time": "2022-08-22T18:55:40.022Z"
      },
      {
        "duration": 1234,
        "start_time": "2022-08-22T18:56:00.848Z"
      },
      {
        "duration": 929,
        "start_time": "2022-08-22T18:56:51.630Z"
      },
      {
        "duration": 1135,
        "start_time": "2022-08-22T18:57:16.887Z"
      },
      {
        "duration": 1230,
        "start_time": "2022-08-22T18:57:32.042Z"
      },
      {
        "duration": 1224,
        "start_time": "2022-08-22T18:57:41.823Z"
      },
      {
        "duration": 1232,
        "start_time": "2022-08-22T18:57:49.768Z"
      },
      {
        "duration": 1296,
        "start_time": "2022-08-22T18:58:56.151Z"
      },
      {
        "duration": 1296,
        "start_time": "2022-08-22T18:59:14.254Z"
      },
      {
        "duration": 1275,
        "start_time": "2022-08-22T19:00:04.915Z"
      },
      {
        "duration": 1246,
        "start_time": "2022-08-22T19:00:20.576Z"
      },
      {
        "duration": 1247,
        "start_time": "2022-08-22T19:00:32.942Z"
      },
      {
        "duration": 1252,
        "start_time": "2022-08-22T19:00:39.465Z"
      },
      {
        "duration": 13,
        "start_time": "2022-08-22T19:07:30.254Z"
      },
      {
        "duration": 2,
        "start_time": "2022-08-22T19:08:10.648Z"
      },
      {
        "duration": 14,
        "start_time": "2022-08-22T19:08:16.942Z"
      },
      {
        "duration": 2,
        "start_time": "2022-08-22T19:10:46.570Z"
      },
      {
        "duration": 12,
        "start_time": "2022-08-22T19:10:53.822Z"
      },
      {
        "duration": 3,
        "start_time": "2022-08-22T19:11:06.322Z"
      },
      {
        "duration": 12,
        "start_time": "2022-08-22T19:11:13.840Z"
      },
      {
        "duration": 40,
        "start_time": "2022-08-22T19:12:41.689Z"
      },
      {
        "duration": 94,
        "start_time": "2022-08-22T19:13:56.150Z"
      },
      {
        "duration": 73,
        "start_time": "2022-08-22T19:14:34.772Z"
      },
      {
        "duration": 14,
        "start_time": "2022-08-22T19:15:28.401Z"
      },
      {
        "duration": 3,
        "start_time": "2022-08-22T19:17:12.056Z"
      },
      {
        "duration": 13,
        "start_time": "2022-08-22T19:17:25.195Z"
      },
      {
        "duration": 208,
        "start_time": "2022-08-22T19:17:57.824Z"
      },
      {
        "duration": 15,
        "start_time": "2022-08-22T19:18:34.565Z"
      },
      {
        "duration": 11,
        "start_time": "2022-08-22T19:22:59.444Z"
      },
      {
        "duration": 90,
        "start_time": "2022-08-22T19:27:33.514Z"
      },
      {
        "duration": 72,
        "start_time": "2022-08-22T19:29:53.011Z"
      },
      {
        "duration": 9,
        "start_time": "2022-08-22T19:30:07.996Z"
      },
      {
        "duration": 2,
        "start_time": "2022-08-22T19:30:22.277Z"
      },
      {
        "duration": 1231,
        "start_time": "2022-08-22T19:31:54.234Z"
      },
      {
        "duration": 154,
        "start_time": "2022-08-22T19:31:55.466Z"
      },
      {
        "duration": 12,
        "start_time": "2022-08-22T19:31:55.622Z"
      },
      {
        "duration": 134,
        "start_time": "2022-08-22T19:31:55.635Z"
      },
      {
        "duration": 1,
        "start_time": "2022-08-22T19:31:55.771Z"
      },
      {
        "duration": 13,
        "start_time": "2022-08-22T19:31:55.774Z"
      },
      {
        "duration": 143,
        "start_time": "2022-08-22T19:31:55.789Z"
      },
      {
        "duration": 10,
        "start_time": "2022-08-22T19:31:55.934Z"
      },
      {
        "duration": 128,
        "start_time": "2022-08-22T19:31:55.946Z"
      },
      {
        "duration": 2,
        "start_time": "2022-08-22T19:31:56.076Z"
      },
      {
        "duration": 23,
        "start_time": "2022-08-22T19:31:56.080Z"
      },
      {
        "duration": 151,
        "start_time": "2022-08-22T19:31:56.104Z"
      },
      {
        "duration": 11,
        "start_time": "2022-08-22T19:31:56.256Z"
      },
      {
        "duration": 128,
        "start_time": "2022-08-22T19:31:56.269Z"
      },
      {
        "duration": 2,
        "start_time": "2022-08-22T19:31:56.398Z"
      },
      {
        "duration": 13,
        "start_time": "2022-08-22T19:31:56.402Z"
      },
      {
        "duration": 10,
        "start_time": "2022-08-22T19:31:56.416Z"
      },
      {
        "duration": 41,
        "start_time": "2022-08-22T19:31:56.427Z"
      },
      {
        "duration": 101,
        "start_time": "2022-08-22T19:31:56.559Z"
      },
      {
        "duration": 108,
        "start_time": "2022-08-22T19:31:56.662Z"
      },
      {
        "duration": 2,
        "start_time": "2022-08-22T19:31:56.772Z"
      },
      {
        "duration": 187,
        "start_time": "2022-08-22T19:31:56.775Z"
      },
      {
        "duration": 7,
        "start_time": "2022-08-22T19:31:56.963Z"
      },
      {
        "duration": 8,
        "start_time": "2022-08-22T19:31:56.971Z"
      },
      {
        "duration": 6,
        "start_time": "2022-08-22T19:31:56.980Z"
      },
      {
        "duration": 6,
        "start_time": "2022-08-22T19:31:56.987Z"
      },
      {
        "duration": 7,
        "start_time": "2022-08-22T19:31:56.994Z"
      },
      {
        "duration": 1265,
        "start_time": "2022-08-22T19:31:57.004Z"
      },
      {
        "duration": 1217,
        "start_time": "2022-08-22T19:31:58.270Z"
      },
      {
        "duration": 1215,
        "start_time": "2022-08-22T19:31:59.489Z"
      },
      {
        "duration": 1265,
        "start_time": "2022-08-22T19:32:50.054Z"
      },
      {
        "duration": 1220,
        "start_time": "2022-08-22T19:33:07.959Z"
      },
      {
        "duration": 1259,
        "start_time": "2022-08-22T19:33:10.938Z"
      },
      {
        "duration": 1299,
        "start_time": "2022-08-22T19:33:15.196Z"
      },
      {
        "duration": 1226,
        "start_time": "2022-08-22T19:34:24.126Z"
      },
      {
        "duration": 1227,
        "start_time": "2022-08-22T19:35:51.168Z"
      },
      {
        "duration": 4,
        "start_time": "2022-08-22T19:37:07.796Z"
      },
      {
        "duration": 4,
        "start_time": "2022-08-22T19:37:12.597Z"
      },
      {
        "duration": 4,
        "start_time": "2022-08-22T19:37:15.248Z"
      },
      {
        "duration": 4,
        "start_time": "2022-08-22T19:37:18.737Z"
      },
      {
        "duration": 4,
        "start_time": "2022-08-22T19:37:25.663Z"
      },
      {
        "duration": 5,
        "start_time": "2022-08-22T19:37:28.564Z"
      },
      {
        "duration": 4,
        "start_time": "2022-08-22T19:37:31.396Z"
      },
      {
        "duration": 4,
        "start_time": "2022-08-22T19:37:34.686Z"
      },
      {
        "duration": 5,
        "start_time": "2022-08-22T19:37:38.015Z"
      },
      {
        "duration": 6,
        "start_time": "2022-08-22T19:37:46.926Z"
      },
      {
        "duration": 4,
        "start_time": "2022-08-22T19:37:51.555Z"
      },
      {
        "duration": 1265,
        "start_time": "2022-08-22T19:38:06.775Z"
      },
      {
        "duration": 1223,
        "start_time": "2022-08-22T19:38:11.211Z"
      },
      {
        "duration": 1238,
        "start_time": "2022-08-22T19:38:13.722Z"
      },
      {
        "duration": 1223,
        "start_time": "2022-08-22T19:38:25.495Z"
      },
      {
        "duration": 1221,
        "start_time": "2022-08-22T19:38:28.857Z"
      },
      {
        "duration": 1250,
        "start_time": "2022-08-22T19:38:53.816Z"
      },
      {
        "duration": 1238,
        "start_time": "2022-08-22T19:39:34.114Z"
      },
      {
        "duration": 1227,
        "start_time": "2022-08-22T19:39:42.135Z"
      },
      {
        "duration": 1254,
        "start_time": "2022-08-22T19:39:45.826Z"
      },
      {
        "duration": 1261,
        "start_time": "2022-08-22T19:39:53.487Z"
      },
      {
        "duration": 1232,
        "start_time": "2022-08-22T19:40:09.209Z"
      },
      {
        "duration": 1134,
        "start_time": "2022-08-22T19:41:46.236Z"
      },
      {
        "duration": 1130,
        "start_time": "2022-08-22T19:41:56.712Z"
      },
      {
        "duration": 1099,
        "start_time": "2022-08-22T19:42:01.408Z"
      },
      {
        "duration": 1094,
        "start_time": "2022-08-22T19:42:08.080Z"
      },
      {
        "duration": 1094,
        "start_time": "2022-08-22T19:42:12.130Z"
      },
      {
        "duration": 1094,
        "start_time": "2022-08-22T19:42:19.162Z"
      },
      {
        "duration": 1116,
        "start_time": "2022-08-22T19:42:25.851Z"
      },
      {
        "duration": 1090,
        "start_time": "2022-08-22T19:42:38.032Z"
      },
      {
        "duration": 1097,
        "start_time": "2022-08-22T19:43:48.555Z"
      },
      {
        "duration": 1090,
        "start_time": "2022-08-22T19:44:10.911Z"
      },
      {
        "duration": 102,
        "start_time": "2022-08-22T19:44:48.859Z"
      },
      {
        "duration": 1124,
        "start_time": "2022-08-22T19:45:54.980Z"
      },
      {
        "duration": 1095,
        "start_time": "2022-08-22T19:46:11.684Z"
      },
      {
        "duration": 1140,
        "start_time": "2022-08-22T19:46:17.667Z"
      },
      {
        "duration": 1131,
        "start_time": "2022-08-22T19:46:23.897Z"
      },
      {
        "duration": 1131,
        "start_time": "2022-08-22T19:46:28.832Z"
      },
      {
        "duration": 1140,
        "start_time": "2022-08-22T19:47:44.775Z"
      },
      {
        "duration": 1135,
        "start_time": "2022-08-22T19:47:55.614Z"
      },
      {
        "duration": 1139,
        "start_time": "2022-08-22T19:48:00.084Z"
      },
      {
        "duration": 1171,
        "start_time": "2022-08-22T19:48:14.855Z"
      },
      {
        "duration": 1121,
        "start_time": "2022-08-22T19:48:19.940Z"
      },
      {
        "duration": 1132,
        "start_time": "2022-08-22T19:48:25.629Z"
      },
      {
        "duration": 1107,
        "start_time": "2022-08-22T19:48:34.018Z"
      },
      {
        "duration": 1109,
        "start_time": "2022-08-22T19:48:47.096Z"
      },
      {
        "duration": 7,
        "start_time": "2022-08-22T19:49:59.626Z"
      },
      {
        "duration": 6,
        "start_time": "2022-08-22T19:50:09.673Z"
      },
      {
        "duration": 3,
        "start_time": "2022-08-22T19:50:15.993Z"
      },
      {
        "duration": 5,
        "start_time": "2022-08-22T19:50:21.114Z"
      },
      {
        "duration": 1101,
        "start_time": "2022-08-22T19:50:32.395Z"
      },
      {
        "duration": 5,
        "start_time": "2022-08-22T19:50:40.814Z"
      },
      {
        "duration": 5,
        "start_time": "2022-08-22T19:50:44.548Z"
      },
      {
        "duration": 1178,
        "start_time": "2022-08-22T19:50:52.054Z"
      },
      {
        "duration": 156,
        "start_time": "2022-08-22T19:50:53.234Z"
      },
      {
        "duration": 13,
        "start_time": "2022-08-22T19:50:53.392Z"
      },
      {
        "duration": 140,
        "start_time": "2022-08-22T19:50:53.407Z"
      },
      {
        "duration": 10,
        "start_time": "2022-08-22T19:50:53.549Z"
      },
      {
        "duration": 15,
        "start_time": "2022-08-22T19:50:53.561Z"
      },
      {
        "duration": 145,
        "start_time": "2022-08-22T19:50:53.577Z"
      },
      {
        "duration": 13,
        "start_time": "2022-08-22T19:50:53.723Z"
      },
      {
        "duration": 139,
        "start_time": "2022-08-22T19:50:53.737Z"
      },
      {
        "duration": 2,
        "start_time": "2022-08-22T19:50:53.879Z"
      },
      {
        "duration": 20,
        "start_time": "2022-08-22T19:50:53.882Z"
      },
      {
        "duration": 146,
        "start_time": "2022-08-22T19:50:53.904Z"
      },
      {
        "duration": 13,
        "start_time": "2022-08-22T19:50:54.051Z"
      },
      {
        "duration": 137,
        "start_time": "2022-08-22T19:50:54.065Z"
      },
      {
        "duration": 2,
        "start_time": "2022-08-22T19:50:54.203Z"
      },
      {
        "duration": 15,
        "start_time": "2022-08-22T19:50:54.206Z"
      },
      {
        "duration": 9,
        "start_time": "2022-08-22T19:50:54.222Z"
      },
      {
        "duration": 29,
        "start_time": "2022-08-22T19:50:54.233Z"
      },
      {
        "duration": 204,
        "start_time": "2022-08-22T19:50:54.263Z"
      },
      {
        "duration": 201,
        "start_time": "2022-08-22T19:50:54.469Z"
      },
      {
        "duration": 85,
        "start_time": "2022-08-22T19:50:54.675Z"
      },
      {
        "duration": 9,
        "start_time": "2022-08-22T19:50:54.761Z"
      },
      {
        "duration": 3,
        "start_time": "2022-08-22T19:50:54.859Z"
      },
      {
        "duration": 10,
        "start_time": "2022-08-22T19:50:54.864Z"
      },
      {
        "duration": 3,
        "start_time": "2022-08-22T19:50:54.876Z"
      },
      {
        "duration": 4,
        "start_time": "2022-08-22T19:50:54.881Z"
      },
      {
        "duration": 12,
        "start_time": "2022-08-22T19:50:54.886Z"
      },
      {
        "duration": 1190,
        "start_time": "2022-08-22T19:50:54.901Z"
      },
      {
        "duration": 1157,
        "start_time": "2022-08-22T19:50:56.093Z"
      },
      {
        "duration": 1123,
        "start_time": "2022-08-22T19:50:57.252Z"
      },
      {
        "duration": 3,
        "start_time": "2022-08-22T19:51:18.201Z"
      },
      {
        "duration": 7,
        "start_time": "2022-08-22T19:51:44.624Z"
      },
      {
        "duration": 3,
        "start_time": "2022-08-22T19:51:50.447Z"
      },
      {
        "duration": 5,
        "start_time": "2022-08-22T19:51:57.685Z"
      },
      {
        "duration": 5,
        "start_time": "2022-08-22T19:52:00.797Z"
      },
      {
        "duration": 7,
        "start_time": "2022-08-22T19:52:11.907Z"
      },
      {
        "duration": 5,
        "start_time": "2022-08-22T19:52:20.535Z"
      },
      {
        "duration": 1132,
        "start_time": "2022-08-22T19:52:29.361Z"
      },
      {
        "duration": 1138,
        "start_time": "2022-08-22T19:52:35.873Z"
      },
      {
        "duration": 1101,
        "start_time": "2022-08-22T19:52:43.543Z"
      },
      {
        "duration": 1126,
        "start_time": "2022-08-22T19:52:52.152Z"
      },
      {
        "duration": 1148,
        "start_time": "2022-08-22T19:52:56.125Z"
      },
      {
        "duration": 1095,
        "start_time": "2022-08-22T19:53:00.894Z"
      },
      {
        "duration": 1109,
        "start_time": "2022-08-22T19:53:35.086Z"
      },
      {
        "duration": 1147,
        "start_time": "2022-08-22T19:53:40.432Z"
      },
      {
        "duration": 1116,
        "start_time": "2022-08-22T19:53:43.988Z"
      },
      {
        "duration": 1152,
        "start_time": "2022-08-22T19:53:46.229Z"
      },
      {
        "duration": 1107,
        "start_time": "2022-08-22T19:54:01.137Z"
      },
      {
        "duration": 1121,
        "start_time": "2022-08-22T19:54:03.970Z"
      },
      {
        "duration": 1129,
        "start_time": "2022-08-22T19:54:06.084Z"
      },
      {
        "duration": 1118,
        "start_time": "2022-08-22T19:54:07.788Z"
      },
      {
        "duration": 1115,
        "start_time": "2022-08-22T19:54:09.469Z"
      },
      {
        "duration": 1128,
        "start_time": "2022-08-22T19:54:11.299Z"
      },
      {
        "duration": 1132,
        "start_time": "2022-08-22T19:54:13.756Z"
      },
      {
        "duration": 1232,
        "start_time": "2022-08-22T19:54:15.918Z"
      },
      {
        "duration": 1148,
        "start_time": "2022-08-22T19:54:17.871Z"
      },
      {
        "duration": 1118,
        "start_time": "2022-08-22T19:54:20.617Z"
      },
      {
        "duration": 1125,
        "start_time": "2022-08-22T19:54:22.457Z"
      },
      {
        "duration": 1129,
        "start_time": "2022-08-22T19:54:24.593Z"
      },
      {
        "duration": 1150,
        "start_time": "2022-08-22T19:54:26.236Z"
      },
      {
        "duration": 1134,
        "start_time": "2022-08-22T19:54:27.952Z"
      },
      {
        "duration": 1122,
        "start_time": "2022-08-22T19:54:31.599Z"
      },
      {
        "duration": 4,
        "start_time": "2022-08-22T19:55:25.465Z"
      },
      {
        "duration": 8,
        "start_time": "2022-08-22T19:55:28.418Z"
      },
      {
        "duration": 8,
        "start_time": "2022-08-22T19:55:53.226Z"
      },
      {
        "duration": 8,
        "start_time": "2022-08-22T19:55:59.896Z"
      },
      {
        "duration": 7,
        "start_time": "2022-08-22T19:56:03.913Z"
      },
      {
        "duration": 8,
        "start_time": "2022-08-22T19:56:06.724Z"
      },
      {
        "duration": 7,
        "start_time": "2022-08-22T19:56:15.990Z"
      },
      {
        "duration": 7,
        "start_time": "2022-08-22T19:56:19.065Z"
      },
      {
        "duration": 7,
        "start_time": "2022-08-22T19:56:21.151Z"
      },
      {
        "duration": 2,
        "start_time": "2022-08-22T19:57:17.718Z"
      },
      {
        "duration": 3,
        "start_time": "2022-08-22T19:57:58.947Z"
      },
      {
        "duration": 1124,
        "start_time": "2022-08-22T19:58:03.825Z"
      },
      {
        "duration": 1132,
        "start_time": "2022-08-22T19:58:13.080Z"
      },
      {
        "duration": 1141,
        "start_time": "2022-08-22T19:58:17.245Z"
      },
      {
        "duration": 1113,
        "start_time": "2022-08-22T19:58:20.853Z"
      },
      {
        "duration": 1116,
        "start_time": "2022-08-22T19:58:23.758Z"
      },
      {
        "duration": 1149,
        "start_time": "2022-08-22T19:58:26.982Z"
      },
      {
        "duration": 1158,
        "start_time": "2022-08-22T19:58:36.838Z"
      },
      {
        "duration": 1134,
        "start_time": "2022-08-22T20:01:57.700Z"
      },
      {
        "duration": 1129,
        "start_time": "2022-08-22T20:02:03.278Z"
      },
      {
        "duration": 1135,
        "start_time": "2022-08-22T20:02:07.686Z"
      },
      {
        "duration": 1120,
        "start_time": "2022-08-22T20:02:11.015Z"
      },
      {
        "duration": 1165,
        "start_time": "2022-08-22T20:02:15.474Z"
      },
      {
        "duration": 1120,
        "start_time": "2022-08-22T20:02:20.095Z"
      },
      {
        "duration": 1114,
        "start_time": "2022-08-22T20:02:23.033Z"
      },
      {
        "duration": 1131,
        "start_time": "2022-08-22T20:02:25.439Z"
      },
      {
        "duration": 1119,
        "start_time": "2022-08-22T20:02:28.318Z"
      },
      {
        "duration": 1111,
        "start_time": "2022-08-22T20:02:30.140Z"
      },
      {
        "duration": 1120,
        "start_time": "2022-08-22T20:02:32.763Z"
      },
      {
        "duration": 1127,
        "start_time": "2022-08-22T20:02:35.260Z"
      },
      {
        "duration": 1129,
        "start_time": "2022-08-22T20:02:37.424Z"
      },
      {
        "duration": 1117,
        "start_time": "2022-08-22T20:02:38.965Z"
      },
      {
        "duration": 1126,
        "start_time": "2022-08-22T20:02:41.064Z"
      },
      {
        "duration": 1130,
        "start_time": "2022-08-22T20:02:43.376Z"
      },
      {
        "duration": 1112,
        "start_time": "2022-08-22T20:02:45.272Z"
      },
      {
        "duration": 1158,
        "start_time": "2022-08-22T20:02:47.119Z"
      },
      {
        "duration": 1118,
        "start_time": "2022-08-22T20:02:49.318Z"
      },
      {
        "duration": 1213,
        "start_time": "2022-08-22T20:02:51.030Z"
      },
      {
        "duration": 1133,
        "start_time": "2022-08-22T20:02:53.817Z"
      },
      {
        "duration": 1124,
        "start_time": "2022-08-22T20:02:55.385Z"
      },
      {
        "duration": 1123,
        "start_time": "2022-08-22T20:02:57.189Z"
      },
      {
        "duration": 1097,
        "start_time": "2022-08-22T20:02:59.105Z"
      },
      {
        "duration": 1103,
        "start_time": "2022-08-22T20:03:01.074Z"
      },
      {
        "duration": 1175,
        "start_time": "2022-08-22T20:03:06.591Z"
      },
      {
        "duration": 1110,
        "start_time": "2022-08-22T20:03:08.019Z"
      },
      {
        "duration": 1119,
        "start_time": "2022-08-22T20:03:09.383Z"
      },
      {
        "duration": 1202,
        "start_time": "2022-08-22T20:03:12.236Z"
      },
      {
        "duration": 1118,
        "start_time": "2022-08-22T20:03:21.872Z"
      },
      {
        "duration": 1136,
        "start_time": "2022-08-22T20:03:24.724Z"
      },
      {
        "duration": 1208,
        "start_time": "2022-08-22T20:03:27.159Z"
      },
      {
        "duration": 1146,
        "start_time": "2022-08-22T20:05:01.397Z"
      },
      {
        "duration": 1139,
        "start_time": "2022-08-22T20:05:08.484Z"
      },
      {
        "duration": 1231,
        "start_time": "2022-08-22T20:05:15.109Z"
      },
      {
        "duration": 1110,
        "start_time": "2022-08-22T20:05:23.195Z"
      },
      {
        "duration": 1144,
        "start_time": "2022-08-22T20:05:28.181Z"
      },
      {
        "duration": 1133,
        "start_time": "2022-08-22T20:05:31.868Z"
      },
      {
        "duration": 1143,
        "start_time": "2022-08-22T20:05:34.636Z"
      },
      {
        "duration": 1148,
        "start_time": "2022-08-22T20:05:37.325Z"
      },
      {
        "duration": 1126,
        "start_time": "2022-08-22T20:05:40.069Z"
      },
      {
        "duration": 1141,
        "start_time": "2022-08-22T20:05:43.374Z"
      },
      {
        "duration": 1153,
        "start_time": "2022-08-22T20:05:46.361Z"
      },
      {
        "duration": 1133,
        "start_time": "2022-08-22T20:05:52.246Z"
      },
      {
        "duration": 1157,
        "start_time": "2022-08-22T20:05:55.914Z"
      },
      {
        "duration": 1149,
        "start_time": "2022-08-22T20:06:06.280Z"
      },
      {
        "duration": 1192,
        "start_time": "2022-08-22T20:07:30.030Z"
      },
      {
        "duration": 166,
        "start_time": "2022-08-22T20:07:31.224Z"
      },
      {
        "duration": 12,
        "start_time": "2022-08-22T20:07:31.391Z"
      },
      {
        "duration": 136,
        "start_time": "2022-08-22T20:07:31.404Z"
      },
      {
        "duration": 2,
        "start_time": "2022-08-22T20:07:31.542Z"
      },
      {
        "duration": 22,
        "start_time": "2022-08-22T20:07:31.545Z"
      },
      {
        "duration": 141,
        "start_time": "2022-08-22T20:07:31.568Z"
      },
      {
        "duration": 10,
        "start_time": "2022-08-22T20:07:31.711Z"
      },
      {
        "duration": 130,
        "start_time": "2022-08-22T20:07:31.722Z"
      },
      {
        "duration": 5,
        "start_time": "2022-08-22T20:07:31.854Z"
      },
      {
        "duration": 14,
        "start_time": "2022-08-22T20:07:31.860Z"
      },
      {
        "duration": 143,
        "start_time": "2022-08-22T20:07:31.875Z"
      },
      {
        "duration": 11,
        "start_time": "2022-08-22T20:07:32.019Z"
      },
      {
        "duration": 132,
        "start_time": "2022-08-22T20:07:32.031Z"
      },
      {
        "duration": 1,
        "start_time": "2022-08-22T20:07:32.165Z"
      },
      {
        "duration": 14,
        "start_time": "2022-08-22T20:07:32.167Z"
      },
      {
        "duration": 10,
        "start_time": "2022-08-22T20:07:32.182Z"
      },
      {
        "duration": 69,
        "start_time": "2022-08-22T20:07:32.193Z"
      },
      {
        "duration": 113,
        "start_time": "2022-08-22T20:07:32.263Z"
      },
      {
        "duration": 191,
        "start_time": "2022-08-22T20:07:32.377Z"
      },
      {
        "duration": 2,
        "start_time": "2022-08-22T20:07:32.570Z"
      },
      {
        "duration": 95,
        "start_time": "2022-08-22T20:07:32.574Z"
      },
      {
        "duration": 2,
        "start_time": "2022-08-22T20:07:32.760Z"
      },
      {
        "duration": 6,
        "start_time": "2022-08-22T20:07:32.764Z"
      },
      {
        "duration": 4,
        "start_time": "2022-08-22T20:07:32.771Z"
      },
      {
        "duration": 5,
        "start_time": "2022-08-22T20:07:32.776Z"
      },
      {
        "duration": 6,
        "start_time": "2022-08-22T20:07:32.782Z"
      },
      {
        "duration": 103,
        "start_time": "2022-08-22T20:07:32.790Z"
      },
      {
        "duration": 0,
        "start_time": "2022-08-22T20:07:32.895Z"
      },
      {
        "duration": 0,
        "start_time": "2022-08-22T20:07:32.896Z"
      },
      {
        "duration": 3,
        "start_time": "2022-08-22T20:08:26.664Z"
      },
      {
        "duration": 1123,
        "start_time": "2022-08-22T20:08:28.355Z"
      },
      {
        "duration": 1088,
        "start_time": "2022-08-22T20:08:33.016Z"
      },
      {
        "duration": 1104,
        "start_time": "2022-08-22T20:08:36.420Z"
      },
      {
        "duration": 1086,
        "start_time": "2022-08-22T20:08:40.541Z"
      },
      {
        "duration": 1092,
        "start_time": "2022-08-22T20:08:45.506Z"
      },
      {
        "duration": 1280,
        "start_time": "2022-08-22T20:08:51.340Z"
      },
      {
        "duration": 236,
        "start_time": "2022-08-22T20:08:52.621Z"
      },
      {
        "duration": 12,
        "start_time": "2022-08-22T20:08:52.859Z"
      },
      {
        "duration": 139,
        "start_time": "2022-08-22T20:08:52.873Z"
      },
      {
        "duration": 2,
        "start_time": "2022-08-22T20:08:53.014Z"
      },
      {
        "duration": 23,
        "start_time": "2022-08-22T20:08:53.017Z"
      },
      {
        "duration": 159,
        "start_time": "2022-08-22T20:08:53.041Z"
      },
      {
        "duration": 11,
        "start_time": "2022-08-22T20:08:53.202Z"
      },
      {
        "duration": 128,
        "start_time": "2022-08-22T20:08:53.214Z"
      },
      {
        "duration": 2,
        "start_time": "2022-08-22T20:08:53.344Z"
      },
      {
        "duration": 26,
        "start_time": "2022-08-22T20:08:53.348Z"
      },
      {
        "duration": 200,
        "start_time": "2022-08-22T20:08:53.375Z"
      },
      {
        "duration": 11,
        "start_time": "2022-08-22T20:08:53.577Z"
      },
      {
        "duration": 138,
        "start_time": "2022-08-22T20:08:53.590Z"
      },
      {
        "duration": 2,
        "start_time": "2022-08-22T20:08:53.730Z"
      },
      {
        "duration": 26,
        "start_time": "2022-08-22T20:08:53.733Z"
      },
      {
        "duration": 10,
        "start_time": "2022-08-22T20:08:53.761Z"
      },
      {
        "duration": 89,
        "start_time": "2022-08-22T20:08:53.773Z"
      },
      {
        "duration": 112,
        "start_time": "2022-08-22T20:08:53.865Z"
      },
      {
        "duration": 184,
        "start_time": "2022-08-22T20:08:53.979Z"
      },
      {
        "duration": 98,
        "start_time": "2022-08-22T20:08:54.164Z"
      },
      {
        "duration": 8,
        "start_time": "2022-08-22T20:08:54.264Z"
      },
      {
        "duration": 90,
        "start_time": "2022-08-22T20:08:54.274Z"
      },
      {
        "duration": 7,
        "start_time": "2022-08-22T20:08:54.366Z"
      },
      {
        "duration": 6,
        "start_time": "2022-08-22T20:08:54.374Z"
      },
      {
        "duration": 5,
        "start_time": "2022-08-22T20:08:54.382Z"
      },
      {
        "duration": 3,
        "start_time": "2022-08-22T20:08:54.388Z"
      },
      {
        "duration": 4,
        "start_time": "2022-08-22T20:08:54.394Z"
      },
      {
        "duration": 1165,
        "start_time": "2022-08-22T20:08:54.399Z"
      },
      {
        "duration": 1124,
        "start_time": "2022-08-22T20:08:55.565Z"
      },
      {
        "duration": 1160,
        "start_time": "2022-08-22T20:08:56.690Z"
      },
      {
        "duration": 1846,
        "start_time": "2022-08-22T21:03:29.683Z"
      },
      {
        "duration": 4,
        "start_time": "2022-08-22T21:04:06.118Z"
      },
      {
        "duration": 11,
        "start_time": "2022-08-22T21:04:21.162Z"
      },
      {
        "duration": 7,
        "start_time": "2022-08-22T21:04:44.409Z"
      },
      {
        "duration": 10,
        "start_time": "2022-08-22T21:05:02.448Z"
      },
      {
        "duration": 5,
        "start_time": "2022-08-22T21:05:25.181Z"
      },
      {
        "duration": 5,
        "start_time": "2022-08-22T21:05:41.363Z"
      },
      {
        "duration": 5,
        "start_time": "2022-08-22T21:05:54.470Z"
      },
      {
        "duration": 7,
        "start_time": "2022-08-22T21:06:08.669Z"
      },
      {
        "duration": 8,
        "start_time": "2022-08-22T21:06:21.339Z"
      },
      {
        "duration": 7,
        "start_time": "2022-08-22T21:06:39.035Z"
      },
      {
        "duration": 7,
        "start_time": "2022-08-22T21:07:47.291Z"
      },
      {
        "duration": 6,
        "start_time": "2022-08-22T21:08:08.056Z"
      },
      {
        "duration": 5,
        "start_time": "2022-08-22T21:08:14.321Z"
      },
      {
        "duration": 155,
        "start_time": "2022-08-22T21:08:19.051Z"
      },
      {
        "duration": 1207,
        "start_time": "2022-08-22T21:25:54.352Z"
      },
      {
        "duration": 160,
        "start_time": "2022-08-22T21:25:55.560Z"
      },
      {
        "duration": 11,
        "start_time": "2022-08-22T21:25:55.722Z"
      },
      {
        "duration": 143,
        "start_time": "2022-08-22T21:25:55.736Z"
      },
      {
        "duration": 3,
        "start_time": "2022-08-22T21:25:55.881Z"
      },
      {
        "duration": 15,
        "start_time": "2022-08-22T21:25:55.885Z"
      },
      {
        "duration": 156,
        "start_time": "2022-08-22T21:25:55.901Z"
      },
      {
        "duration": 12,
        "start_time": "2022-08-22T21:25:56.059Z"
      },
      {
        "duration": 139,
        "start_time": "2022-08-22T21:25:56.073Z"
      },
      {
        "duration": 2,
        "start_time": "2022-08-22T21:25:56.215Z"
      },
      {
        "duration": 13,
        "start_time": "2022-08-22T21:25:56.219Z"
      },
      {
        "duration": 145,
        "start_time": "2022-08-22T21:25:56.234Z"
      },
      {
        "duration": 12,
        "start_time": "2022-08-22T21:25:56.381Z"
      },
      {
        "duration": 137,
        "start_time": "2022-08-22T21:25:56.395Z"
      },
      {
        "duration": 2,
        "start_time": "2022-08-22T21:25:56.533Z"
      },
      {
        "duration": 22,
        "start_time": "2022-08-22T21:25:56.537Z"
      },
      {
        "duration": 11,
        "start_time": "2022-08-22T21:25:56.560Z"
      },
      {
        "duration": 88,
        "start_time": "2022-08-22T21:25:56.573Z"
      },
      {
        "duration": 109,
        "start_time": "2022-08-22T21:25:56.662Z"
      },
      {
        "duration": 192,
        "start_time": "2022-08-22T21:25:56.773Z"
      },
      {
        "duration": 91,
        "start_time": "2022-08-22T21:25:56.970Z"
      },
      {
        "duration": 96,
        "start_time": "2022-08-22T21:25:57.066Z"
      },
      {
        "duration": 4,
        "start_time": "2022-08-22T21:25:57.164Z"
      },
      {
        "duration": 7,
        "start_time": "2022-08-22T21:25:57.169Z"
      },
      {
        "duration": 4,
        "start_time": "2022-08-22T21:25:57.177Z"
      },
      {
        "duration": 5,
        "start_time": "2022-08-22T21:25:57.182Z"
      },
      {
        "duration": 5,
        "start_time": "2022-08-22T21:25:57.188Z"
      },
      {
        "duration": 3,
        "start_time": "2022-08-22T21:25:57.196Z"
      },
      {
        "duration": 1134,
        "start_time": "2022-08-22T21:25:57.200Z"
      },
      {
        "duration": 1084,
        "start_time": "2022-08-22T21:25:58.335Z"
      },
      {
        "duration": 1088,
        "start_time": "2022-08-22T21:25:59.420Z"
      },
      {
        "duration": 3,
        "start_time": "2022-08-22T21:26:00.510Z"
      },
      {
        "duration": 20,
        "start_time": "2022-08-22T21:26:00.514Z"
      },
      {
        "duration": 8,
        "start_time": "2022-08-22T21:26:00.535Z"
      },
      {
        "duration": 10,
        "start_time": "2022-08-22T21:26:00.544Z"
      },
      {
        "duration": 9,
        "start_time": "2022-08-22T21:26:00.555Z"
      },
      {
        "duration": 13,
        "start_time": "2022-08-22T21:26:00.565Z"
      },
      {
        "duration": 9,
        "start_time": "2022-08-22T21:26:00.579Z"
      },
      {
        "duration": 7,
        "start_time": "2022-08-22T21:26:00.590Z"
      },
      {
        "duration": 7,
        "start_time": "2022-08-22T21:26:00.599Z"
      },
      {
        "duration": 7,
        "start_time": "2022-08-22T21:26:00.607Z"
      },
      {
        "duration": 11,
        "start_time": "2022-08-22T21:26:00.615Z"
      },
      {
        "duration": 8,
        "start_time": "2022-08-22T21:26:00.627Z"
      },
      {
        "duration": 8,
        "start_time": "2022-08-22T21:26:00.636Z"
      },
      {
        "duration": 95,
        "start_time": "2022-08-22T21:26:52.686Z"
      },
      {
        "duration": 17,
        "start_time": "2022-08-22T21:27:18.096Z"
      },
      {
        "duration": 15,
        "start_time": "2022-08-22T21:27:58.092Z"
      },
      {
        "duration": 16,
        "start_time": "2022-08-22T21:28:07.243Z"
      },
      {
        "duration": 25,
        "start_time": "2022-08-22T21:28:59.919Z"
      },
      {
        "duration": 1166,
        "start_time": "2022-08-22T21:29:17.795Z"
      },
      {
        "duration": 186,
        "start_time": "2022-08-22T21:29:18.962Z"
      },
      {
        "duration": 15,
        "start_time": "2022-08-22T21:29:19.150Z"
      },
      {
        "duration": 138,
        "start_time": "2022-08-22T21:29:19.166Z"
      },
      {
        "duration": 2,
        "start_time": "2022-08-22T21:29:19.305Z"
      },
      {
        "duration": 17,
        "start_time": "2022-08-22T21:29:19.308Z"
      },
      {
        "duration": 146,
        "start_time": "2022-08-22T21:29:19.326Z"
      },
      {
        "duration": 11,
        "start_time": "2022-08-22T21:29:19.473Z"
      },
      {
        "duration": 131,
        "start_time": "2022-08-22T21:29:19.485Z"
      },
      {
        "duration": 2,
        "start_time": "2022-08-22T21:29:19.619Z"
      },
      {
        "duration": 19,
        "start_time": "2022-08-22T21:29:19.622Z"
      },
      {
        "duration": 149,
        "start_time": "2022-08-22T21:29:19.642Z"
      },
      {
        "duration": 12,
        "start_time": "2022-08-22T21:29:19.792Z"
      },
      {
        "duration": 130,
        "start_time": "2022-08-22T21:29:19.805Z"
      },
      {
        "duration": 2,
        "start_time": "2022-08-22T21:29:19.937Z"
      },
      {
        "duration": 22,
        "start_time": "2022-08-22T21:29:19.940Z"
      },
      {
        "duration": 10,
        "start_time": "2022-08-22T21:29:19.963Z"
      },
      {
        "duration": 15,
        "start_time": "2022-08-22T21:29:19.974Z"
      },
      {
        "duration": 175,
        "start_time": "2022-08-22T21:29:19.990Z"
      },
      {
        "duration": 199,
        "start_time": "2022-08-22T21:29:20.166Z"
      },
      {
        "duration": 5,
        "start_time": "2022-08-22T21:29:20.367Z"
      },
      {
        "duration": 188,
        "start_time": "2022-08-22T21:29:20.373Z"
      },
      {
        "duration": 5,
        "start_time": "2022-08-22T21:29:20.562Z"
      },
      {
        "duration": 4,
        "start_time": "2022-08-22T21:29:20.568Z"
      },
      {
        "duration": 4,
        "start_time": "2022-08-22T21:29:20.573Z"
      },
      {
        "duration": 4,
        "start_time": "2022-08-22T21:29:20.579Z"
      },
      {
        "duration": 4,
        "start_time": "2022-08-22T21:29:20.584Z"
      },
      {
        "duration": 6,
        "start_time": "2022-08-22T21:29:20.590Z"
      },
      {
        "duration": 114,
        "start_time": "2022-08-22T21:29:20.597Z"
      },
      {
        "duration": 0,
        "start_time": "2022-08-22T21:29:20.712Z"
      },
      {
        "duration": 0,
        "start_time": "2022-08-22T21:29:20.713Z"
      },
      {
        "duration": 0,
        "start_time": "2022-08-22T21:29:20.714Z"
      },
      {
        "duration": 0,
        "start_time": "2022-08-22T21:29:20.715Z"
      },
      {
        "duration": 0,
        "start_time": "2022-08-22T21:29:20.716Z"
      },
      {
        "duration": 0,
        "start_time": "2022-08-22T21:29:20.716Z"
      },
      {
        "duration": 0,
        "start_time": "2022-08-22T21:29:20.717Z"
      },
      {
        "duration": 0,
        "start_time": "2022-08-22T21:29:20.718Z"
      },
      {
        "duration": 0,
        "start_time": "2022-08-22T21:29:20.719Z"
      },
      {
        "duration": 0,
        "start_time": "2022-08-22T21:29:20.719Z"
      },
      {
        "duration": 0,
        "start_time": "2022-08-22T21:29:20.720Z"
      },
      {
        "duration": 0,
        "start_time": "2022-08-22T21:29:20.721Z"
      },
      {
        "duration": 0,
        "start_time": "2022-08-22T21:29:20.722Z"
      },
      {
        "duration": 0,
        "start_time": "2022-08-22T21:29:20.723Z"
      },
      {
        "duration": 0,
        "start_time": "2022-08-22T21:29:20.724Z"
      },
      {
        "duration": 1209,
        "start_time": "2022-08-22T21:30:14.521Z"
      },
      {
        "duration": 1114,
        "start_time": "2022-08-22T21:30:42.900Z"
      },
      {
        "duration": 1162,
        "start_time": "2022-08-22T21:30:53.551Z"
      },
      {
        "duration": 1134,
        "start_time": "2022-08-22T21:31:00.559Z"
      },
      {
        "duration": 1140,
        "start_time": "2022-08-22T21:31:03.586Z"
      },
      {
        "duration": 1145,
        "start_time": "2022-08-22T21:31:06.250Z"
      },
      {
        "duration": 1139,
        "start_time": "2022-08-22T21:31:09.089Z"
      },
      {
        "duration": 1133,
        "start_time": "2022-08-22T21:31:11.947Z"
      },
      {
        "duration": 1161,
        "start_time": "2022-08-22T21:31:14.179Z"
      },
      {
        "duration": 1157,
        "start_time": "2022-08-22T21:31:17.069Z"
      },
      {
        "duration": 1135,
        "start_time": "2022-08-22T21:31:19.836Z"
      },
      {
        "duration": 1144,
        "start_time": "2022-08-22T21:31:22.459Z"
      },
      {
        "duration": 1155,
        "start_time": "2022-08-22T21:31:24.786Z"
      },
      {
        "duration": 1145,
        "start_time": "2022-08-22T21:31:26.995Z"
      },
      {
        "duration": 1143,
        "start_time": "2022-08-22T21:31:30.300Z"
      },
      {
        "duration": 1144,
        "start_time": "2022-08-22T21:31:32.832Z"
      },
      {
        "duration": 1152,
        "start_time": "2022-08-22T21:31:34.930Z"
      },
      {
        "duration": 1122,
        "start_time": "2022-08-22T21:31:36.888Z"
      },
      {
        "duration": 1143,
        "start_time": "2022-08-22T21:31:38.871Z"
      },
      {
        "duration": 1099,
        "start_time": "2022-08-22T21:31:40.895Z"
      },
      {
        "duration": 1105,
        "start_time": "2022-08-22T21:31:43.268Z"
      },
      {
        "duration": 926,
        "start_time": "2022-08-22T21:31:58.789Z"
      },
      {
        "duration": 928,
        "start_time": "2022-08-22T21:32:04.502Z"
      },
      {
        "duration": 926,
        "start_time": "2022-08-22T21:32:24.954Z"
      },
      {
        "duration": 922,
        "start_time": "2022-08-22T21:32:28.159Z"
      },
      {
        "duration": 920,
        "start_time": "2022-08-22T21:32:30.084Z"
      },
      {
        "duration": 929,
        "start_time": "2022-08-22T21:32:31.876Z"
      },
      {
        "duration": 928,
        "start_time": "2022-08-22T21:32:37.905Z"
      },
      {
        "duration": 943,
        "start_time": "2022-08-22T21:32:40.779Z"
      },
      {
        "duration": 3,
        "start_time": "2022-08-22T21:38:08.791Z"
      },
      {
        "duration": 5,
        "start_time": "2022-08-22T21:38:10.487Z"
      },
      {
        "duration": 4,
        "start_time": "2022-08-22T21:38:14.621Z"
      },
      {
        "duration": 6,
        "start_time": "2022-08-22T21:38:39.487Z"
      },
      {
        "duration": 5,
        "start_time": "2022-08-22T21:38:50.958Z"
      },
      {
        "duration": 5,
        "start_time": "2022-08-22T21:39:04.551Z"
      },
      {
        "duration": 5,
        "start_time": "2022-08-22T21:39:08.776Z"
      },
      {
        "duration": 4,
        "start_time": "2022-08-22T21:39:39.247Z"
      },
      {
        "duration": 5,
        "start_time": "2022-08-22T21:39:47.258Z"
      },
      {
        "duration": 5,
        "start_time": "2022-08-22T21:40:27.240Z"
      },
      {
        "duration": 6,
        "start_time": "2022-08-22T21:40:35.400Z"
      },
      {
        "duration": 5,
        "start_time": "2022-08-22T21:40:53.879Z"
      },
      {
        "duration": 5,
        "start_time": "2022-08-22T21:40:59.359Z"
      },
      {
        "duration": 1117,
        "start_time": "2022-08-22T21:41:44.175Z"
      },
      {
        "duration": 1151,
        "start_time": "2022-08-22T21:41:46.791Z"
      },
      {
        "duration": 1140,
        "start_time": "2022-08-22T21:41:49.445Z"
      },
      {
        "duration": 1109,
        "start_time": "2022-08-22T21:41:52.151Z"
      },
      {
        "duration": 933,
        "start_time": "2022-08-22T21:42:39.290Z"
      },
      {
        "duration": 990,
        "start_time": "2022-08-22T21:42:44.692Z"
      },
      {
        "duration": 1331,
        "start_time": "2022-08-22T21:43:18.929Z"
      },
      {
        "duration": 1237,
        "start_time": "2022-08-22T21:43:25.435Z"
      },
      {
        "duration": 1270,
        "start_time": "2022-08-22T21:43:28.633Z"
      },
      {
        "duration": 1269,
        "start_time": "2022-08-22T21:43:31.849Z"
      },
      {
        "duration": 1274,
        "start_time": "2022-08-22T21:43:37.271Z"
      },
      {
        "duration": 951,
        "start_time": "2022-08-22T21:44:30.431Z"
      },
      {
        "duration": 954,
        "start_time": "2022-08-22T21:44:36.980Z"
      },
      {
        "duration": 1141,
        "start_time": "2022-08-22T21:47:24.705Z"
      },
      {
        "duration": 167,
        "start_time": "2022-08-22T21:47:25.847Z"
      },
      {
        "duration": 12,
        "start_time": "2022-08-22T21:47:26.016Z"
      },
      {
        "duration": 133,
        "start_time": "2022-08-22T21:47:26.030Z"
      },
      {
        "duration": 2,
        "start_time": "2022-08-22T21:47:26.165Z"
      },
      {
        "duration": 16,
        "start_time": "2022-08-22T21:47:26.168Z"
      },
      {
        "duration": 144,
        "start_time": "2022-08-22T21:47:26.185Z"
      },
      {
        "duration": 10,
        "start_time": "2022-08-22T21:47:26.331Z"
      },
      {
        "duration": 131,
        "start_time": "2022-08-22T21:47:26.343Z"
      },
      {
        "duration": 2,
        "start_time": "2022-08-22T21:47:26.476Z"
      },
      {
        "duration": 14,
        "start_time": "2022-08-22T21:47:26.480Z"
      },
      {
        "duration": 141,
        "start_time": "2022-08-22T21:47:26.496Z"
      },
      {
        "duration": 21,
        "start_time": "2022-08-22T21:47:26.639Z"
      },
      {
        "duration": 121,
        "start_time": "2022-08-22T21:47:26.661Z"
      },
      {
        "duration": 2,
        "start_time": "2022-08-22T21:47:26.783Z"
      },
      {
        "duration": 16,
        "start_time": "2022-08-22T21:47:26.786Z"
      },
      {
        "duration": 9,
        "start_time": "2022-08-22T21:47:26.803Z"
      },
      {
        "duration": 47,
        "start_time": "2022-08-22T21:47:26.814Z"
      },
      {
        "duration": 114,
        "start_time": "2022-08-22T21:47:26.863Z"
      },
      {
        "duration": 183,
        "start_time": "2022-08-22T21:47:26.981Z"
      },
      {
        "duration": 195,
        "start_time": "2022-08-22T21:47:27.168Z"
      },
      {
        "duration": 4,
        "start_time": "2022-08-22T21:47:27.365Z"
      },
      {
        "duration": 3,
        "start_time": "2022-08-22T21:47:27.371Z"
      },
      {
        "duration": 4,
        "start_time": "2022-08-22T21:47:27.375Z"
      },
      {
        "duration": 5,
        "start_time": "2022-08-22T21:47:27.380Z"
      },
      {
        "duration": 4,
        "start_time": "2022-08-22T21:47:27.386Z"
      },
      {
        "duration": 4,
        "start_time": "2022-08-22T21:47:27.391Z"
      },
      {
        "duration": 5,
        "start_time": "2022-08-22T21:47:27.397Z"
      },
      {
        "duration": 1133,
        "start_time": "2022-08-22T21:47:27.403Z"
      },
      {
        "duration": 930,
        "start_time": "2022-08-22T21:47:28.538Z"
      },
      {
        "duration": 927,
        "start_time": "2022-08-22T21:47:29.470Z"
      },
      {
        "duration": 3,
        "start_time": "2022-08-22T21:47:30.399Z"
      },
      {
        "duration": 17,
        "start_time": "2022-08-22T21:47:30.404Z"
      },
      {
        "duration": 25,
        "start_time": "2022-08-22T21:47:30.422Z"
      },
      {
        "duration": 14,
        "start_time": "2022-08-22T21:47:30.449Z"
      },
      {
        "duration": 12,
        "start_time": "2022-08-22T21:47:30.465Z"
      },
      {
        "duration": 11,
        "start_time": "2022-08-22T21:47:30.478Z"
      },
      {
        "duration": 15,
        "start_time": "2022-08-22T21:47:30.490Z"
      },
      {
        "duration": 11,
        "start_time": "2022-08-22T21:47:30.507Z"
      },
      {
        "duration": 26,
        "start_time": "2022-08-22T21:47:30.519Z"
      },
      {
        "duration": 7,
        "start_time": "2022-08-22T21:47:30.547Z"
      },
      {
        "duration": 22,
        "start_time": "2022-08-22T21:47:30.555Z"
      },
      {
        "duration": 16,
        "start_time": "2022-08-22T21:47:30.579Z"
      },
      {
        "duration": 9,
        "start_time": "2022-08-22T21:47:30.596Z"
      },
      {
        "duration": 1418,
        "start_time": "2022-08-23T05:19:25.841Z"
      },
      {
        "duration": 373,
        "start_time": "2022-08-23T05:19:27.261Z"
      },
      {
        "duration": 13,
        "start_time": "2022-08-23T05:19:27.635Z"
      },
      {
        "duration": 132,
        "start_time": "2022-08-23T05:19:27.649Z"
      },
      {
        "duration": 2,
        "start_time": "2022-08-23T05:19:27.782Z"
      },
      {
        "duration": 24,
        "start_time": "2022-08-23T05:19:27.786Z"
      },
      {
        "duration": 222,
        "start_time": "2022-08-23T05:19:27.811Z"
      },
      {
        "duration": 12,
        "start_time": "2022-08-23T05:19:28.035Z"
      },
      {
        "duration": 125,
        "start_time": "2022-08-23T05:19:28.048Z"
      },
      {
        "duration": 2,
        "start_time": "2022-08-23T05:19:28.175Z"
      },
      {
        "duration": 21,
        "start_time": "2022-08-23T05:19:28.179Z"
      },
      {
        "duration": 227,
        "start_time": "2022-08-23T05:19:28.202Z"
      },
      {
        "duration": 13,
        "start_time": "2022-08-23T05:19:28.430Z"
      },
      {
        "duration": 119,
        "start_time": "2022-08-23T05:19:28.444Z"
      },
      {
        "duration": 2,
        "start_time": "2022-08-23T05:19:28.564Z"
      },
      {
        "duration": 16,
        "start_time": "2022-08-23T05:19:28.567Z"
      },
      {
        "duration": 21,
        "start_time": "2022-08-23T05:19:28.584Z"
      },
      {
        "duration": 94,
        "start_time": "2022-08-23T05:19:28.606Z"
      },
      {
        "duration": 118,
        "start_time": "2022-08-23T05:19:28.701Z"
      },
      {
        "duration": 184,
        "start_time": "2022-08-23T05:19:28.821Z"
      },
      {
        "duration": 92,
        "start_time": "2022-08-23T05:19:29.007Z"
      },
      {
        "duration": 100,
        "start_time": "2022-08-23T05:19:29.102Z"
      },
      {
        "duration": 3,
        "start_time": "2022-08-23T05:19:29.204Z"
      },
      {
        "duration": 5,
        "start_time": "2022-08-23T05:19:29.209Z"
      },
      {
        "duration": 4,
        "start_time": "2022-08-23T05:19:29.215Z"
      },
      {
        "duration": 6,
        "start_time": "2022-08-23T05:19:29.220Z"
      },
      {
        "duration": 4,
        "start_time": "2022-08-23T05:19:29.227Z"
      },
      {
        "duration": 5,
        "start_time": "2022-08-23T05:19:29.235Z"
      },
      {
        "duration": 905,
        "start_time": "2022-08-23T05:19:29.242Z"
      },
      {
        "duration": 841,
        "start_time": "2022-08-23T05:19:30.148Z"
      },
      {
        "duration": 890,
        "start_time": "2022-08-23T05:19:30.991Z"
      },
      {
        "duration": 3,
        "start_time": "2022-08-23T05:19:31.883Z"
      },
      {
        "duration": 15,
        "start_time": "2022-08-23T05:19:31.887Z"
      },
      {
        "duration": 7,
        "start_time": "2022-08-23T05:19:31.904Z"
      },
      {
        "duration": 6,
        "start_time": "2022-08-23T05:19:31.913Z"
      },
      {
        "duration": 5,
        "start_time": "2022-08-23T05:19:31.921Z"
      },
      {
        "duration": 6,
        "start_time": "2022-08-23T05:19:31.928Z"
      },
      {
        "duration": 10,
        "start_time": "2022-08-23T05:19:31.935Z"
      },
      {
        "duration": 7,
        "start_time": "2022-08-23T05:19:31.946Z"
      },
      {
        "duration": 17,
        "start_time": "2022-08-23T05:19:31.954Z"
      },
      {
        "duration": 5,
        "start_time": "2022-08-23T05:19:31.972Z"
      },
      {
        "duration": 6,
        "start_time": "2022-08-23T05:19:31.998Z"
      },
      {
        "duration": 5,
        "start_time": "2022-08-23T05:19:32.006Z"
      },
      {
        "duration": 5,
        "start_time": "2022-08-23T05:19:32.013Z"
      }
    ],
    "kernelspec": {
      "display_name": "Python 3 (ipykernel)",
      "language": "python",
      "name": "python3"
    },
    "language_info": {
      "codemirror_mode": {
        "name": "ipython",
        "version": 3
      },
      "file_extension": ".py",
      "mimetype": "text/x-python",
      "name": "python",
      "nbconvert_exporter": "python",
      "pygments_lexer": "ipython3",
      "version": "3.9.5"
    },
    "toc": {
      "base_numbering": 1,
      "nav_menu": {},
      "number_sections": true,
      "sideBar": true,
      "skip_h1_title": true,
      "title_cell": "Table of Contents",
      "title_sidebar": "Contents",
      "toc_cell": false,
      "toc_position": {},
      "toc_section_display": true,
      "toc_window_display": false
    },
    "colab": {
      "provenance": []
    }
  },
  "nbformat": 4,
  "nbformat_minor": 0
}