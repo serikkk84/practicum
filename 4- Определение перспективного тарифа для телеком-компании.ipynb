{
 "cells": [
  {
   "cell_type": "markdown",
   "metadata": {},
   "source": [
    "<div class=\"alert alert-success\">\n",
    "<b> Комментарий от ревьюера 2 ✔️</b>\n",
    "\n",
    "Привет еще раз. Оформление комментариев по работе сохраняется. Только обозначим, что это вторая итерация. \n",
    "\n",
    "</div>"
   ]
  },
  {
   "cell_type": "markdown",
   "metadata": {},
   "source": [
    "<b>Комментарий от ревьюера</b>\n",
    "\n",
    "Привет! Меня зовут Ярослав Кальманов, я буду делать ревью твоего проекта. Давай будем общаться на «ты».\n",
    "\n",
    "Мои комментарии будут в ячейках \"Комментарий от ревьюера\".\n",
    "\n",
    "<div class=\"alert alert-danger\"> \n",
    "\n",
    "<b> Комментарий от ревьюера ❗</b>\n",
    "\n",
    "Красным цветом обозначены комментарии, на которые тебе нужно обратить внимание в первую очередь, чтобы я принял проект. \n",
    "</div>\n",
    "<div class=\"alert alert-warning\">\n",
    "\n",
    "<b> Комментарий от ревьюера ⚠️</b>\n",
    "\n",
    "Желтым цветом отмечено то, что ты можешь сделать немного по-другому. Ты можешь учесть эти комментарии при выполнении следующих проектов.\n",
    "</div>\n",
    "<div class=\"alert alert-success\">\n",
    "\n",
    "<b> Комментарий от ревьюера ✔️</b>\n",
    "\n",
    "Зелёным цветом обозначены твои удачные решения, которые ты без сомнения можешь применять в будущих проектах.  \n",
    "</div>\n",
    "\n",
    "Если ты вносишь изменения в проект по моим рекомендациям, указывай, пожалуйста, это в своих комментариях. Будет удобно, если обозначишь свои комментарии заметным цветом или поместишь \n",
    "\n",
    "<div class=\"alert alert-info\">\n",
    "    \n",
    "в такую ячейку\n",
    "</div>\n",
    "\n",
    "Давай при работе с проектом мы будем общаться с тобой в диалоге, поэтому не удаляй и не перемещай мои комментарии, это поможет мне сделать повторную  проверку проекта быстрее.\n",
    "___"
   ]
  },
  {
   "cell_type": "markdown",
   "metadata": {},
   "source": [
    "Мне необходимо исследовать данные о пользователях мобильной сети \"Мегалайн\" с целью выбрать наиболее успешный тариф из двух имеющихся."
   ]
  },
  {
   "cell_type": "markdown",
   "metadata": {},
   "source": [
    "## 1. Изучение данных "
   ]
  },
  {
   "cell_type": "markdown",
   "metadata": {},
   "source": [
    "### 1.1. Откроем файлы с данными и изучим информацию"
   ]
  },
  {
   "cell_type": "markdown",
   "metadata": {},
   "source": [
    "<div class=\"alert alert-info\">\n",
    "Импортируем библиотеки."
   ]
  },
  {
   "cell_type": "code",
   "execution_count": 1,
   "metadata": {},
   "outputs": [],
   "source": [
    "import pandas as pd\n",
    "import numpy as np\n",
    "import matplotlib.pyplot as plt"
   ]
  },
  {
   "cell_type": "code",
   "execution_count": 2,
   "metadata": {},
   "outputs": [
    {
     "data": {
      "text/html": [
       "<div>\n",
       "<style scoped>\n",
       "    .dataframe tbody tr th:only-of-type {\n",
       "        vertical-align: middle;\n",
       "    }\n",
       "\n",
       "    .dataframe tbody tr th {\n",
       "        vertical-align: top;\n",
       "    }\n",
       "\n",
       "    .dataframe thead th {\n",
       "        text-align: right;\n",
       "    }\n",
       "</style>\n",
       "<table border=\"1\" class=\"dataframe\">\n",
       "  <thead>\n",
       "    <tr style=\"text-align: right;\">\n",
       "      <th></th>\n",
       "      <th>id</th>\n",
       "      <th>call_date</th>\n",
       "      <th>duration</th>\n",
       "      <th>user_id</th>\n",
       "    </tr>\n",
       "  </thead>\n",
       "  <tbody>\n",
       "    <tr>\n",
       "      <th>0</th>\n",
       "      <td>1000_0</td>\n",
       "      <td>2018-07-25</td>\n",
       "      <td>0.00</td>\n",
       "      <td>1000</td>\n",
       "    </tr>\n",
       "    <tr>\n",
       "      <th>1</th>\n",
       "      <td>1000_1</td>\n",
       "      <td>2018-08-17</td>\n",
       "      <td>0.00</td>\n",
       "      <td>1000</td>\n",
       "    </tr>\n",
       "    <tr>\n",
       "      <th>2</th>\n",
       "      <td>1000_2</td>\n",
       "      <td>2018-06-11</td>\n",
       "      <td>2.85</td>\n",
       "      <td>1000</td>\n",
       "    </tr>\n",
       "    <tr>\n",
       "      <th>3</th>\n",
       "      <td>1000_3</td>\n",
       "      <td>2018-09-21</td>\n",
       "      <td>13.80</td>\n",
       "      <td>1000</td>\n",
       "    </tr>\n",
       "    <tr>\n",
       "      <th>4</th>\n",
       "      <td>1000_4</td>\n",
       "      <td>2018-12-15</td>\n",
       "      <td>5.18</td>\n",
       "      <td>1000</td>\n",
       "    </tr>\n",
       "    <tr>\n",
       "      <th>...</th>\n",
       "      <td>...</td>\n",
       "      <td>...</td>\n",
       "      <td>...</td>\n",
       "      <td>...</td>\n",
       "    </tr>\n",
       "    <tr>\n",
       "      <th>202602</th>\n",
       "      <td>1499_215</td>\n",
       "      <td>2018-12-26</td>\n",
       "      <td>0.76</td>\n",
       "      <td>1499</td>\n",
       "    </tr>\n",
       "    <tr>\n",
       "      <th>202603</th>\n",
       "      <td>1499_216</td>\n",
       "      <td>2018-10-18</td>\n",
       "      <td>18.83</td>\n",
       "      <td>1499</td>\n",
       "    </tr>\n",
       "    <tr>\n",
       "      <th>202604</th>\n",
       "      <td>1499_217</td>\n",
       "      <td>2018-11-10</td>\n",
       "      <td>10.81</td>\n",
       "      <td>1499</td>\n",
       "    </tr>\n",
       "    <tr>\n",
       "      <th>202605</th>\n",
       "      <td>1499_218</td>\n",
       "      <td>2018-10-06</td>\n",
       "      <td>4.27</td>\n",
       "      <td>1499</td>\n",
       "    </tr>\n",
       "    <tr>\n",
       "      <th>202606</th>\n",
       "      <td>1499_219</td>\n",
       "      <td>2018-12-14</td>\n",
       "      <td>19.62</td>\n",
       "      <td>1499</td>\n",
       "    </tr>\n",
       "  </tbody>\n",
       "</table>\n",
       "<p>202607 rows × 4 columns</p>\n",
       "</div>"
      ],
      "text/plain": [
       "              id   call_date  duration  user_id\n",
       "0         1000_0  2018-07-25      0.00     1000\n",
       "1         1000_1  2018-08-17      0.00     1000\n",
       "2         1000_2  2018-06-11      2.85     1000\n",
       "3         1000_3  2018-09-21     13.80     1000\n",
       "4         1000_4  2018-12-15      5.18     1000\n",
       "...          ...         ...       ...      ...\n",
       "202602  1499_215  2018-12-26      0.76     1499\n",
       "202603  1499_216  2018-10-18     18.83     1499\n",
       "202604  1499_217  2018-11-10     10.81     1499\n",
       "202605  1499_218  2018-10-06      4.27     1499\n",
       "202606  1499_219  2018-12-14     19.62     1499\n",
       "\n",
       "[202607 rows x 4 columns]"
      ]
     },
     "execution_count": 2,
     "metadata": {},
     "output_type": "execute_result"
    }
   ],
   "source": [
    "try:\n",
    "    df_calls = pd.read_csv('calls.csv')\n",
    "except:\n",
    "    df_calls = pd.read_csv('/datasets/calls.csv')\n",
    "df_calls"
   ]
  },
  {
   "cell_type": "markdown",
   "metadata": {},
   "source": [
    "<div class=\"alert alert-danger\">\n",
    "    \n",
    "<b> Комментарий от ревьюера ❗</b>\n",
    "    \n",
    "Кажется, работа над проектом велась локально и пути к файлам не были изменены на общедоступные. Стоит переписать код таким образом, что бы он запускался и в jupiter hub, и локально без внесения дополнительных правок. Этого можно добиться многими способами. Например, использовать конструкцию `try-except` для путей файлов: `try` - пути на локальном компьютере, `except` - пути на сервере. Или применить библиотеку `os`:\n",
    "\n",
    "```\n",
    "import os\n",
    "\n",
    "pth1 = '/folder_1/data.csv'\n",
    "pth2 = '/folder_2/data.csv'\n",
    "\n",
    "if os.path.exists(pth1):\n",
    "    query_1 = pd.read_csv(pth1)\n",
    "elif os.path.exists(pth2):\n",
    "    query_1 = pd.read_csv(pth2)\n",
    "else:\n",
    "    print('Something is wrong)\n",
    "```\n",
    "</div>"
   ]
  },
  {
   "cell_type": "markdown",
   "metadata": {},
   "source": [
    "<div class=\"alert alert-info\">\n",
    "К сожалению не подумал сразу о пути к файлам, так как это мой первый проект, сделаный локально.\n",
    "Конструкция Try-except кажется проще.\n",
    "Спасибо"
   ]
  },
  {
   "cell_type": "markdown",
   "metadata": {},
   "source": [
    "<div class=\"alert alert-success\">\n",
    "    \n",
    "<b> Комментарий от ревьюера 2 ✔️</b>\n",
    "\n",
    "👍\n",
    "</div>\n"
   ]
  },
  {
   "cell_type": "markdown",
   "metadata": {},
   "source": [
    "Отлично. Со звонками примерно все ясно. Имеем 4 колонки: id записи, дату, длительность и id пользователя."
   ]
  },
  {
   "cell_type": "code",
   "execution_count": 3,
   "metadata": {},
   "outputs": [
    {
     "data": {
      "text/html": [
       "<div>\n",
       "<style scoped>\n",
       "    .dataframe tbody tr th:only-of-type {\n",
       "        vertical-align: middle;\n",
       "    }\n",
       "\n",
       "    .dataframe tbody tr th {\n",
       "        vertical-align: top;\n",
       "    }\n",
       "\n",
       "    .dataframe thead th {\n",
       "        text-align: right;\n",
       "    }\n",
       "</style>\n",
       "<table border=\"1\" class=\"dataframe\">\n",
       "  <thead>\n",
       "    <tr style=\"text-align: right;\">\n",
       "      <th></th>\n",
       "      <th>Unnamed: 0</th>\n",
       "      <th>id</th>\n",
       "      <th>mb_used</th>\n",
       "      <th>session_date</th>\n",
       "      <th>user_id</th>\n",
       "    </tr>\n",
       "  </thead>\n",
       "  <tbody>\n",
       "    <tr>\n",
       "      <th>0</th>\n",
       "      <td>0</td>\n",
       "      <td>1000_0</td>\n",
       "      <td>112.95</td>\n",
       "      <td>2018-11-25</td>\n",
       "      <td>1000</td>\n",
       "    </tr>\n",
       "    <tr>\n",
       "      <th>1</th>\n",
       "      <td>1</td>\n",
       "      <td>1000_1</td>\n",
       "      <td>1052.81</td>\n",
       "      <td>2018-09-07</td>\n",
       "      <td>1000</td>\n",
       "    </tr>\n",
       "    <tr>\n",
       "      <th>2</th>\n",
       "      <td>2</td>\n",
       "      <td>1000_2</td>\n",
       "      <td>1197.26</td>\n",
       "      <td>2018-06-25</td>\n",
       "      <td>1000</td>\n",
       "    </tr>\n",
       "    <tr>\n",
       "      <th>3</th>\n",
       "      <td>3</td>\n",
       "      <td>1000_3</td>\n",
       "      <td>550.27</td>\n",
       "      <td>2018-08-22</td>\n",
       "      <td>1000</td>\n",
       "    </tr>\n",
       "    <tr>\n",
       "      <th>4</th>\n",
       "      <td>4</td>\n",
       "      <td>1000_4</td>\n",
       "      <td>302.56</td>\n",
       "      <td>2018-09-24</td>\n",
       "      <td>1000</td>\n",
       "    </tr>\n",
       "    <tr>\n",
       "      <th>...</th>\n",
       "      <td>...</td>\n",
       "      <td>...</td>\n",
       "      <td>...</td>\n",
       "      <td>...</td>\n",
       "      <td>...</td>\n",
       "    </tr>\n",
       "    <tr>\n",
       "      <th>149391</th>\n",
       "      <td>149391</td>\n",
       "      <td>1499_152</td>\n",
       "      <td>318.90</td>\n",
       "      <td>2018-10-03</td>\n",
       "      <td>1499</td>\n",
       "    </tr>\n",
       "    <tr>\n",
       "      <th>149392</th>\n",
       "      <td>149392</td>\n",
       "      <td>1499_153</td>\n",
       "      <td>490.13</td>\n",
       "      <td>2018-12-14</td>\n",
       "      <td>1499</td>\n",
       "    </tr>\n",
       "    <tr>\n",
       "      <th>149393</th>\n",
       "      <td>149393</td>\n",
       "      <td>1499_154</td>\n",
       "      <td>0.00</td>\n",
       "      <td>2018-10-27</td>\n",
       "      <td>1499</td>\n",
       "    </tr>\n",
       "    <tr>\n",
       "      <th>149394</th>\n",
       "      <td>149394</td>\n",
       "      <td>1499_155</td>\n",
       "      <td>1246.32</td>\n",
       "      <td>2018-11-26</td>\n",
       "      <td>1499</td>\n",
       "    </tr>\n",
       "    <tr>\n",
       "      <th>149395</th>\n",
       "      <td>149395</td>\n",
       "      <td>1499_156</td>\n",
       "      <td>544.37</td>\n",
       "      <td>2018-10-26</td>\n",
       "      <td>1499</td>\n",
       "    </tr>\n",
       "  </tbody>\n",
       "</table>\n",
       "<p>149396 rows × 5 columns</p>\n",
       "</div>"
      ],
      "text/plain": [
       "        Unnamed: 0        id  mb_used session_date  user_id\n",
       "0                0    1000_0   112.95   2018-11-25     1000\n",
       "1                1    1000_1  1052.81   2018-09-07     1000\n",
       "2                2    1000_2  1197.26   2018-06-25     1000\n",
       "3                3    1000_3   550.27   2018-08-22     1000\n",
       "4                4    1000_4   302.56   2018-09-24     1000\n",
       "...            ...       ...      ...          ...      ...\n",
       "149391      149391  1499_152   318.90   2018-10-03     1499\n",
       "149392      149392  1499_153   490.13   2018-12-14     1499\n",
       "149393      149393  1499_154     0.00   2018-10-27     1499\n",
       "149394      149394  1499_155  1246.32   2018-11-26     1499\n",
       "149395      149395  1499_156   544.37   2018-10-26     1499\n",
       "\n",
       "[149396 rows x 5 columns]"
      ]
     },
     "execution_count": 3,
     "metadata": {},
     "output_type": "execute_result"
    }
   ],
   "source": [
    "try:\n",
    "    df_internet = pd.read_csv('internet.csv')\n",
    "except:\n",
    "    df_internet = pd.read_csv('/datasets/internet.csv')\n",
    "df_internet"
   ]
  },
  {
   "cell_type": "markdown",
   "metadata": {},
   "source": [
    "Похожие данные, за исключением новой информации о количестве использованного трафика. К тому же судя по всему тут странная колонка 'Unnamed:' полностью повторяющая индексы строк. "
   ]
  },
  {
   "cell_type": "markdown",
   "metadata": {},
   "source": [
    "<div class=\"alert alert-success\">\n",
    "    \n",
    "<b> Комментарий от ревьюера ✔️</b>\n",
    "    \n",
    "Здорово, что обратил внимание на признак `Unnamed: 0`. Кстати, можно задать этот признак в качестве индекса таблицы при загрузке данных.\n",
    "    \n",
    "`pd.read_csv('/datasets/internet.csv', index_col=[0])`\n",
    "</div>\n"
   ]
  },
  {
   "cell_type": "code",
   "execution_count": 4,
   "metadata": {},
   "outputs": [
    {
     "data": {
      "text/html": [
       "<div>\n",
       "<style scoped>\n",
       "    .dataframe tbody tr th:only-of-type {\n",
       "        vertical-align: middle;\n",
       "    }\n",
       "\n",
       "    .dataframe tbody tr th {\n",
       "        vertical-align: top;\n",
       "    }\n",
       "\n",
       "    .dataframe thead th {\n",
       "        text-align: right;\n",
       "    }\n",
       "</style>\n",
       "<table border=\"1\" class=\"dataframe\">\n",
       "  <thead>\n",
       "    <tr style=\"text-align: right;\">\n",
       "      <th></th>\n",
       "      <th>id</th>\n",
       "      <th>message_date</th>\n",
       "      <th>user_id</th>\n",
       "    </tr>\n",
       "  </thead>\n",
       "  <tbody>\n",
       "    <tr>\n",
       "      <th>0</th>\n",
       "      <td>1000_0</td>\n",
       "      <td>2018-06-27</td>\n",
       "      <td>1000</td>\n",
       "    </tr>\n",
       "    <tr>\n",
       "      <th>1</th>\n",
       "      <td>1000_1</td>\n",
       "      <td>2018-10-08</td>\n",
       "      <td>1000</td>\n",
       "    </tr>\n",
       "    <tr>\n",
       "      <th>2</th>\n",
       "      <td>1000_2</td>\n",
       "      <td>2018-08-04</td>\n",
       "      <td>1000</td>\n",
       "    </tr>\n",
       "    <tr>\n",
       "      <th>3</th>\n",
       "      <td>1000_3</td>\n",
       "      <td>2018-06-16</td>\n",
       "      <td>1000</td>\n",
       "    </tr>\n",
       "    <tr>\n",
       "      <th>4</th>\n",
       "      <td>1000_4</td>\n",
       "      <td>2018-12-05</td>\n",
       "      <td>1000</td>\n",
       "    </tr>\n",
       "    <tr>\n",
       "      <th>...</th>\n",
       "      <td>...</td>\n",
       "      <td>...</td>\n",
       "      <td>...</td>\n",
       "    </tr>\n",
       "    <tr>\n",
       "      <th>123031</th>\n",
       "      <td>1499_179</td>\n",
       "      <td>2018-12-12</td>\n",
       "      <td>1499</td>\n",
       "    </tr>\n",
       "    <tr>\n",
       "      <th>123032</th>\n",
       "      <td>1499_180</td>\n",
       "      <td>2018-09-28</td>\n",
       "      <td>1499</td>\n",
       "    </tr>\n",
       "    <tr>\n",
       "      <th>123033</th>\n",
       "      <td>1499_181</td>\n",
       "      <td>2018-09-27</td>\n",
       "      <td>1499</td>\n",
       "    </tr>\n",
       "    <tr>\n",
       "      <th>123034</th>\n",
       "      <td>1499_182</td>\n",
       "      <td>2018-11-15</td>\n",
       "      <td>1499</td>\n",
       "    </tr>\n",
       "    <tr>\n",
       "      <th>123035</th>\n",
       "      <td>1499_183</td>\n",
       "      <td>2018-11-16</td>\n",
       "      <td>1499</td>\n",
       "    </tr>\n",
       "  </tbody>\n",
       "</table>\n",
       "<p>123036 rows × 3 columns</p>\n",
       "</div>"
      ],
      "text/plain": [
       "              id message_date  user_id\n",
       "0         1000_0   2018-06-27     1000\n",
       "1         1000_1   2018-10-08     1000\n",
       "2         1000_2   2018-08-04     1000\n",
       "3         1000_3   2018-06-16     1000\n",
       "4         1000_4   2018-12-05     1000\n",
       "...          ...          ...      ...\n",
       "123031  1499_179   2018-12-12     1499\n",
       "123032  1499_180   2018-09-28     1499\n",
       "123033  1499_181   2018-09-27     1499\n",
       "123034  1499_182   2018-11-15     1499\n",
       "123035  1499_183   2018-11-16     1499\n",
       "\n",
       "[123036 rows x 3 columns]"
      ]
     },
     "execution_count": 4,
     "metadata": {},
     "output_type": "execute_result"
    }
   ],
   "source": [
    "try:\n",
    "    df_messages = pd.read_csv('messages.csv')\n",
    "except:\n",
    "    df_messages = pd.read_csv('/datasets/messages.csv')\n",
    "df_messages"
   ]
  },
  {
   "cell_type": "code",
   "execution_count": 5,
   "metadata": {},
   "outputs": [
    {
     "data": {
      "text/html": [
       "<div>\n",
       "<style scoped>\n",
       "    .dataframe tbody tr th:only-of-type {\n",
       "        vertical-align: middle;\n",
       "    }\n",
       "\n",
       "    .dataframe tbody tr th {\n",
       "        vertical-align: top;\n",
       "    }\n",
       "\n",
       "    .dataframe thead th {\n",
       "        text-align: right;\n",
       "    }\n",
       "</style>\n",
       "<table border=\"1\" class=\"dataframe\">\n",
       "  <thead>\n",
       "    <tr style=\"text-align: right;\">\n",
       "      <th></th>\n",
       "      <th>messages_included</th>\n",
       "      <th>mb_per_month_included</th>\n",
       "      <th>minutes_included</th>\n",
       "      <th>rub_monthly_fee</th>\n",
       "      <th>rub_per_gb</th>\n",
       "      <th>rub_per_message</th>\n",
       "      <th>rub_per_minute</th>\n",
       "      <th>tariff_name</th>\n",
       "    </tr>\n",
       "  </thead>\n",
       "  <tbody>\n",
       "    <tr>\n",
       "      <th>0</th>\n",
       "      <td>50</td>\n",
       "      <td>15360</td>\n",
       "      <td>500</td>\n",
       "      <td>550</td>\n",
       "      <td>200</td>\n",
       "      <td>3</td>\n",
       "      <td>3</td>\n",
       "      <td>smart</td>\n",
       "    </tr>\n",
       "    <tr>\n",
       "      <th>1</th>\n",
       "      <td>1000</td>\n",
       "      <td>30720</td>\n",
       "      <td>3000</td>\n",
       "      <td>1950</td>\n",
       "      <td>150</td>\n",
       "      <td>1</td>\n",
       "      <td>1</td>\n",
       "      <td>ultra</td>\n",
       "    </tr>\n",
       "  </tbody>\n",
       "</table>\n",
       "</div>"
      ],
      "text/plain": [
       "   messages_included  mb_per_month_included  minutes_included  \\\n",
       "0                 50                  15360               500   \n",
       "1               1000                  30720              3000   \n",
       "\n",
       "   rub_monthly_fee  rub_per_gb  rub_per_message  rub_per_minute tariff_name  \n",
       "0              550         200                3               3       smart  \n",
       "1             1950         150                1               1       ultra  "
      ]
     },
     "execution_count": 5,
     "metadata": {},
     "output_type": "execute_result"
    }
   ],
   "source": [
    "try:\n",
    "    df_tarrifs = pd.read_csv('tariffs.csv')\n",
    "except:\n",
    "    df_tarrifs = pd.read_csv('/datasets/tariffs.csv')\n",
    "df_tarrifs"
   ]
  },
  {
   "cell_type": "markdown",
   "metadata": {},
   "source": [
    "Датафрейм имеет информацию о включенных в тариф пакетах."
   ]
  },
  {
   "cell_type": "code",
   "execution_count": 6,
   "metadata": {
    "scrolled": true
   },
   "outputs": [
    {
     "data": {
      "text/html": [
       "<div>\n",
       "<style scoped>\n",
       "    .dataframe tbody tr th:only-of-type {\n",
       "        vertical-align: middle;\n",
       "    }\n",
       "\n",
       "    .dataframe tbody tr th {\n",
       "        vertical-align: top;\n",
       "    }\n",
       "\n",
       "    .dataframe thead th {\n",
       "        text-align: right;\n",
       "    }\n",
       "</style>\n",
       "<table border=\"1\" class=\"dataframe\">\n",
       "  <thead>\n",
       "    <tr style=\"text-align: right;\">\n",
       "      <th></th>\n",
       "      <th>user_id</th>\n",
       "      <th>age</th>\n",
       "      <th>churn_date</th>\n",
       "      <th>city</th>\n",
       "      <th>first_name</th>\n",
       "      <th>last_name</th>\n",
       "      <th>reg_date</th>\n",
       "      <th>tariff</th>\n",
       "    </tr>\n",
       "  </thead>\n",
       "  <tbody>\n",
       "    <tr>\n",
       "      <th>0</th>\n",
       "      <td>1000</td>\n",
       "      <td>52</td>\n",
       "      <td>NaN</td>\n",
       "      <td>Краснодар</td>\n",
       "      <td>Рафаил</td>\n",
       "      <td>Верещагин</td>\n",
       "      <td>2018-05-25</td>\n",
       "      <td>ultra</td>\n",
       "    </tr>\n",
       "    <tr>\n",
       "      <th>1</th>\n",
       "      <td>1001</td>\n",
       "      <td>41</td>\n",
       "      <td>NaN</td>\n",
       "      <td>Москва</td>\n",
       "      <td>Иван</td>\n",
       "      <td>Ежов</td>\n",
       "      <td>2018-11-01</td>\n",
       "      <td>smart</td>\n",
       "    </tr>\n",
       "    <tr>\n",
       "      <th>2</th>\n",
       "      <td>1002</td>\n",
       "      <td>59</td>\n",
       "      <td>NaN</td>\n",
       "      <td>Стерлитамак</td>\n",
       "      <td>Евгений</td>\n",
       "      <td>Абрамович</td>\n",
       "      <td>2018-06-17</td>\n",
       "      <td>smart</td>\n",
       "    </tr>\n",
       "    <tr>\n",
       "      <th>3</th>\n",
       "      <td>1003</td>\n",
       "      <td>23</td>\n",
       "      <td>NaN</td>\n",
       "      <td>Москва</td>\n",
       "      <td>Белла</td>\n",
       "      <td>Белякова</td>\n",
       "      <td>2018-08-17</td>\n",
       "      <td>ultra</td>\n",
       "    </tr>\n",
       "    <tr>\n",
       "      <th>4</th>\n",
       "      <td>1004</td>\n",
       "      <td>68</td>\n",
       "      <td>NaN</td>\n",
       "      <td>Новокузнецк</td>\n",
       "      <td>Татьяна</td>\n",
       "      <td>Авдеенко</td>\n",
       "      <td>2018-05-14</td>\n",
       "      <td>ultra</td>\n",
       "    </tr>\n",
       "    <tr>\n",
       "      <th>...</th>\n",
       "      <td>...</td>\n",
       "      <td>...</td>\n",
       "      <td>...</td>\n",
       "      <td>...</td>\n",
       "      <td>...</td>\n",
       "      <td>...</td>\n",
       "      <td>...</td>\n",
       "      <td>...</td>\n",
       "    </tr>\n",
       "    <tr>\n",
       "      <th>495</th>\n",
       "      <td>1495</td>\n",
       "      <td>65</td>\n",
       "      <td>NaN</td>\n",
       "      <td>Иркутск</td>\n",
       "      <td>Авксентий</td>\n",
       "      <td>Фокин</td>\n",
       "      <td>2018-08-28</td>\n",
       "      <td>ultra</td>\n",
       "    </tr>\n",
       "    <tr>\n",
       "      <th>496</th>\n",
       "      <td>1496</td>\n",
       "      <td>36</td>\n",
       "      <td>NaN</td>\n",
       "      <td>Вологда</td>\n",
       "      <td>Трифон</td>\n",
       "      <td>Блохин</td>\n",
       "      <td>2018-01-27</td>\n",
       "      <td>smart</td>\n",
       "    </tr>\n",
       "    <tr>\n",
       "      <th>497</th>\n",
       "      <td>1497</td>\n",
       "      <td>32</td>\n",
       "      <td>NaN</td>\n",
       "      <td>Челябинск</td>\n",
       "      <td>Каролина</td>\n",
       "      <td>Агеева</td>\n",
       "      <td>2018-10-09</td>\n",
       "      <td>smart</td>\n",
       "    </tr>\n",
       "    <tr>\n",
       "      <th>498</th>\n",
       "      <td>1498</td>\n",
       "      <td>68</td>\n",
       "      <td>2018-10-25</td>\n",
       "      <td>Владикавказ</td>\n",
       "      <td>Всеволод</td>\n",
       "      <td>Акимчин</td>\n",
       "      <td>2018-07-19</td>\n",
       "      <td>smart</td>\n",
       "    </tr>\n",
       "    <tr>\n",
       "      <th>499</th>\n",
       "      <td>1499</td>\n",
       "      <td>35</td>\n",
       "      <td>NaN</td>\n",
       "      <td>Пермь</td>\n",
       "      <td>Гектор</td>\n",
       "      <td>Корнилов</td>\n",
       "      <td>2018-09-27</td>\n",
       "      <td>smart</td>\n",
       "    </tr>\n",
       "  </tbody>\n",
       "</table>\n",
       "<p>500 rows × 8 columns</p>\n",
       "</div>"
      ],
      "text/plain": [
       "     user_id  age  churn_date         city first_name  last_name    reg_date  \\\n",
       "0       1000   52         NaN    Краснодар     Рафаил  Верещагин  2018-05-25   \n",
       "1       1001   41         NaN       Москва       Иван       Ежов  2018-11-01   \n",
       "2       1002   59         NaN  Стерлитамак    Евгений  Абрамович  2018-06-17   \n",
       "3       1003   23         NaN       Москва      Белла   Белякова  2018-08-17   \n",
       "4       1004   68         NaN  Новокузнецк    Татьяна   Авдеенко  2018-05-14   \n",
       "..       ...  ...         ...          ...        ...        ...         ...   \n",
       "495     1495   65         NaN      Иркутск  Авксентий      Фокин  2018-08-28   \n",
       "496     1496   36         NaN      Вологда     Трифон     Блохин  2018-01-27   \n",
       "497     1497   32         NaN    Челябинск   Каролина     Агеева  2018-10-09   \n",
       "498     1498   68  2018-10-25  Владикавказ   Всеволод    Акимчин  2018-07-19   \n",
       "499     1499   35         NaN        Пермь     Гектор   Корнилов  2018-09-27   \n",
       "\n",
       "    tariff  \n",
       "0    ultra  \n",
       "1    smart  \n",
       "2    smart  \n",
       "3    ultra  \n",
       "4    ultra  \n",
       "..     ...  \n",
       "495  ultra  \n",
       "496  smart  \n",
       "497  smart  \n",
       "498  smart  \n",
       "499  smart  \n",
       "\n",
       "[500 rows x 8 columns]"
      ]
     },
     "execution_count": 6,
     "metadata": {},
     "output_type": "execute_result"
    }
   ],
   "source": [
    "try:\n",
    "    df_users = pd.read_csv('users.csv')\n",
    "except:\n",
    "    df_users = pd.read_csv('/datasets/users.csv')\n",
    "df_users"
   ]
  },
  {
   "cell_type": "markdown",
   "metadata": {},
   "source": [
    "Тут мы имеем информацию о пользователях яслуг мобильной сети, а так же об их тарифах."
   ]
  },
  {
   "cell_type": "markdown",
   "metadata": {},
   "source": [
    "Подсчитаем какой тариф популярнее"
   ]
  },
  {
   "cell_type": "code",
   "execution_count": 7,
   "metadata": {},
   "outputs": [
    {
     "data": {
      "text/plain": [
       "user_id       351\n",
       "age           351\n",
       "churn_date     23\n",
       "city          351\n",
       "first_name    351\n",
       "last_name     351\n",
       "reg_date      351\n",
       "tariff        351\n",
       "dtype: int64"
      ]
     },
     "execution_count": 7,
     "metadata": {},
     "output_type": "execute_result"
    }
   ],
   "source": [
    "df_users.query('tariff == \"smart\"').count()"
   ]
  },
  {
   "cell_type": "markdown",
   "metadata": {},
   "source": [
    "<div class=\"alert alert-info\">\n",
    "Исходя из факта, что мы исследуем 500 пользователей, получаем результат, что тариф \"Смарт\" значительно более популярен чем \"Ультра\" (351 пользовватель против 149)"
   ]
  },
  {
   "cell_type": "markdown",
   "metadata": {},
   "source": [
    "<div class=\"alert alert-danger\">\n",
    "    \n",
    "<b> Комментарий от ревьюера ❗</b>\n",
    "    \n",
    "> Подсчитаем какой тариф популярнее\n",
    "    \n",
    "Так какой тариф популярнее? Пока тут видно только количество клиентов с тарифом Смарт.\n",
    "</div>\n"
   ]
  },
  {
   "cell_type": "markdown",
   "metadata": {},
   "source": [
    "<div class=\"alert alert-info\">\n",
    "Подумал о популярности, принял факт за очевидность и забыл написать.\n",
    "    Спасибо"
   ]
  },
  {
   "cell_type": "markdown",
   "metadata": {},
   "source": [
    "<div class=\"alert alert-success\">\n",
    "    \n",
    "<b> Комментарий от ревьюера 2 ✔️</b>\n",
    "\n",
    "Спасибо, что добавил комментарий\n",
    "</div>"
   ]
  },
  {
   "cell_type": "markdown",
   "metadata": {},
   "source": [
    "## 2. Подготовка данных"
   ]
  },
  {
   "cell_type": "markdown",
   "metadata": {},
   "source": [
    "### 2.1. Звонки"
   ]
  },
  {
   "cell_type": "markdown",
   "metadata": {},
   "source": [
    "Проверим df_calls на наличие пропущенных значений"
   ]
  },
  {
   "cell_type": "code",
   "execution_count": 8,
   "metadata": {
    "scrolled": true
   },
   "outputs": [
    {
     "name": "stdout",
     "output_type": "stream",
     "text": [
      "<class 'pandas.core.frame.DataFrame'>\n",
      "RangeIndex: 202607 entries, 0 to 202606\n",
      "Data columns (total 4 columns):\n",
      " #   Column     Non-Null Count   Dtype  \n",
      "---  ------     --------------   -----  \n",
      " 0   id         202607 non-null  object \n",
      " 1   call_date  202607 non-null  object \n",
      " 2   duration   202607 non-null  float64\n",
      " 3   user_id    202607 non-null  int64  \n",
      "dtypes: float64(1), int64(1), object(2)\n",
      "memory usage: 6.2+ MB\n"
     ]
    }
   ],
   "source": [
    "df_calls.info()\n"
   ]
  },
  {
   "cell_type": "code",
   "execution_count": 9,
   "metadata": {},
   "outputs": [
    {
     "data": {
      "text/plain": [
       "id           0\n",
       "call_date    0\n",
       "duration     0\n",
       "user_id      0\n",
       "dtype: int64"
      ]
     },
     "execution_count": 9,
     "metadata": {},
     "output_type": "execute_result"
    }
   ],
   "source": [
    "df_calls.isna().sum()"
   ]
  },
  {
   "cell_type": "markdown",
   "metadata": {},
   "source": [
    "Так как по условиям тарифов минуты округляются в большую сторону, заменим значения в столбце 'duration' на целые.\n",
    "\n",
    "Сначала округлим в сторону увеличения, затем переведем в числовое значение int."
   ]
  },
  {
   "cell_type": "code",
   "execution_count": 10,
   "metadata": {
    "scrolled": false
   },
   "outputs": [
    {
     "data": {
      "text/html": [
       "<div>\n",
       "<style scoped>\n",
       "    .dataframe tbody tr th:only-of-type {\n",
       "        vertical-align: middle;\n",
       "    }\n",
       "\n",
       "    .dataframe tbody tr th {\n",
       "        vertical-align: top;\n",
       "    }\n",
       "\n",
       "    .dataframe thead th {\n",
       "        text-align: right;\n",
       "    }\n",
       "</style>\n",
       "<table border=\"1\" class=\"dataframe\">\n",
       "  <thead>\n",
       "    <tr style=\"text-align: right;\">\n",
       "      <th></th>\n",
       "      <th>id</th>\n",
       "      <th>call_date</th>\n",
       "      <th>duration</th>\n",
       "      <th>user_id</th>\n",
       "    </tr>\n",
       "  </thead>\n",
       "  <tbody>\n",
       "    <tr>\n",
       "      <th>0</th>\n",
       "      <td>1000_0</td>\n",
       "      <td>2018-07-25</td>\n",
       "      <td>0</td>\n",
       "      <td>1000</td>\n",
       "    </tr>\n",
       "    <tr>\n",
       "      <th>1</th>\n",
       "      <td>1000_1</td>\n",
       "      <td>2018-08-17</td>\n",
       "      <td>0</td>\n",
       "      <td>1000</td>\n",
       "    </tr>\n",
       "    <tr>\n",
       "      <th>2</th>\n",
       "      <td>1000_2</td>\n",
       "      <td>2018-06-11</td>\n",
       "      <td>3</td>\n",
       "      <td>1000</td>\n",
       "    </tr>\n",
       "    <tr>\n",
       "      <th>3</th>\n",
       "      <td>1000_3</td>\n",
       "      <td>2018-09-21</td>\n",
       "      <td>14</td>\n",
       "      <td>1000</td>\n",
       "    </tr>\n",
       "    <tr>\n",
       "      <th>4</th>\n",
       "      <td>1000_4</td>\n",
       "      <td>2018-12-15</td>\n",
       "      <td>6</td>\n",
       "      <td>1000</td>\n",
       "    </tr>\n",
       "    <tr>\n",
       "      <th>...</th>\n",
       "      <td>...</td>\n",
       "      <td>...</td>\n",
       "      <td>...</td>\n",
       "      <td>...</td>\n",
       "    </tr>\n",
       "    <tr>\n",
       "      <th>202602</th>\n",
       "      <td>1499_215</td>\n",
       "      <td>2018-12-26</td>\n",
       "      <td>1</td>\n",
       "      <td>1499</td>\n",
       "    </tr>\n",
       "    <tr>\n",
       "      <th>202603</th>\n",
       "      <td>1499_216</td>\n",
       "      <td>2018-10-18</td>\n",
       "      <td>19</td>\n",
       "      <td>1499</td>\n",
       "    </tr>\n",
       "    <tr>\n",
       "      <th>202604</th>\n",
       "      <td>1499_217</td>\n",
       "      <td>2018-11-10</td>\n",
       "      <td>11</td>\n",
       "      <td>1499</td>\n",
       "    </tr>\n",
       "    <tr>\n",
       "      <th>202605</th>\n",
       "      <td>1499_218</td>\n",
       "      <td>2018-10-06</td>\n",
       "      <td>5</td>\n",
       "      <td>1499</td>\n",
       "    </tr>\n",
       "    <tr>\n",
       "      <th>202606</th>\n",
       "      <td>1499_219</td>\n",
       "      <td>2018-12-14</td>\n",
       "      <td>20</td>\n",
       "      <td>1499</td>\n",
       "    </tr>\n",
       "  </tbody>\n",
       "</table>\n",
       "<p>202607 rows × 4 columns</p>\n",
       "</div>"
      ],
      "text/plain": [
       "              id   call_date  duration  user_id\n",
       "0         1000_0  2018-07-25         0     1000\n",
       "1         1000_1  2018-08-17         0     1000\n",
       "2         1000_2  2018-06-11         3     1000\n",
       "3         1000_3  2018-09-21        14     1000\n",
       "4         1000_4  2018-12-15         6     1000\n",
       "...          ...         ...       ...      ...\n",
       "202602  1499_215  2018-12-26         1     1499\n",
       "202603  1499_216  2018-10-18        19     1499\n",
       "202604  1499_217  2018-11-10        11     1499\n",
       "202605  1499_218  2018-10-06         5     1499\n",
       "202606  1499_219  2018-12-14        20     1499\n",
       "\n",
       "[202607 rows x 4 columns]"
      ]
     },
     "execution_count": 10,
     "metadata": {},
     "output_type": "execute_result"
    }
   ],
   "source": [
    "df_calls['duration'] = np.ceil(df_calls['duration']).astype(int)\n",
    "df_calls"
   ]
  },
  {
   "cell_type": "markdown",
   "metadata": {},
   "source": [
    "<div class=\"alert alert-warning\">\n",
    "    \n",
    "<b> Комментарий от ревьюера ⚠️</b>\n",
    "    \n",
    "Хорошее решение, но все библиотеки лучше импортировать в начале файла. Об этом говорится в [стилевом гайде по питону](https://www.python.org/dev/peps/pep-0008/#imports)\n",
    "    \n",
    "    Imports are always put at the top of the file, just after any module comments and docstrings, and before module globals and constants.\n",
    "</div>"
   ]
  },
  {
   "cell_type": "markdown",
   "metadata": {},
   "source": [
    "<div class=\"alert alert-info\">\n",
    "Исправил"
   ]
  },
  {
   "cell_type": "markdown",
   "metadata": {},
   "source": [
    "<div class=\"alert alert-success\">\n",
    "    \n",
    "<b> Комментарий от ревьюера 2 ✔️</b>\n",
    "\n",
    "👍\n",
    "\n",
    "</div>"
   ]
  },
  {
   "cell_type": "markdown",
   "metadata": {},
   "source": [
    "Добавим колонку month так как тарифы имеют помесячную оплату."
   ]
  },
  {
   "cell_type": "code",
   "execution_count": 11,
   "metadata": {},
   "outputs": [],
   "source": [
    "#df_calls['month']=df_calls['call_date'].dt.month"
   ]
  },
  {
   "cell_type": "markdown",
   "metadata": {},
   "source": [
    "Не получилось, попробуем по-другому"
   ]
  },
  {
   "cell_type": "markdown",
   "metadata": {},
   "source": [
    "<div class=\"alert alert-success\">\n",
    "    \n",
    "<b> Комментарий от ревьюера ✔️</b>\n",
    "    \n",
    "Не получилось, потому что тип данных `call_date` object, а должен быть datetime, чтобы мы могли обращаться к .dt.month\n",
    "    \n",
    "`pd.to_datetime(df_calls['call_date']).dt.month`\n",
    "</div>"
   ]
  },
  {
   "cell_type": "code",
   "execution_count": 12,
   "metadata": {},
   "outputs": [
    {
     "data": {
      "text/html": [
       "<div>\n",
       "<style scoped>\n",
       "    .dataframe tbody tr th:only-of-type {\n",
       "        vertical-align: middle;\n",
       "    }\n",
       "\n",
       "    .dataframe tbody tr th {\n",
       "        vertical-align: top;\n",
       "    }\n",
       "\n",
       "    .dataframe thead th {\n",
       "        text-align: right;\n",
       "    }\n",
       "</style>\n",
       "<table border=\"1\" class=\"dataframe\">\n",
       "  <thead>\n",
       "    <tr style=\"text-align: right;\">\n",
       "      <th></th>\n",
       "      <th>id</th>\n",
       "      <th>call_date</th>\n",
       "      <th>duration</th>\n",
       "      <th>user_id</th>\n",
       "      <th>month</th>\n",
       "    </tr>\n",
       "  </thead>\n",
       "  <tbody>\n",
       "    <tr>\n",
       "      <th>0</th>\n",
       "      <td>1000_0</td>\n",
       "      <td>2018-07-25</td>\n",
       "      <td>0</td>\n",
       "      <td>1000</td>\n",
       "      <td>7</td>\n",
       "    </tr>\n",
       "    <tr>\n",
       "      <th>1</th>\n",
       "      <td>1000_1</td>\n",
       "      <td>2018-08-17</td>\n",
       "      <td>0</td>\n",
       "      <td>1000</td>\n",
       "      <td>8</td>\n",
       "    </tr>\n",
       "    <tr>\n",
       "      <th>2</th>\n",
       "      <td>1000_2</td>\n",
       "      <td>2018-06-11</td>\n",
       "      <td>3</td>\n",
       "      <td>1000</td>\n",
       "      <td>6</td>\n",
       "    </tr>\n",
       "    <tr>\n",
       "      <th>3</th>\n",
       "      <td>1000_3</td>\n",
       "      <td>2018-09-21</td>\n",
       "      <td>14</td>\n",
       "      <td>1000</td>\n",
       "      <td>9</td>\n",
       "    </tr>\n",
       "    <tr>\n",
       "      <th>4</th>\n",
       "      <td>1000_4</td>\n",
       "      <td>2018-12-15</td>\n",
       "      <td>6</td>\n",
       "      <td>1000</td>\n",
       "      <td>12</td>\n",
       "    </tr>\n",
       "    <tr>\n",
       "      <th>...</th>\n",
       "      <td>...</td>\n",
       "      <td>...</td>\n",
       "      <td>...</td>\n",
       "      <td>...</td>\n",
       "      <td>...</td>\n",
       "    </tr>\n",
       "    <tr>\n",
       "      <th>202602</th>\n",
       "      <td>1499_215</td>\n",
       "      <td>2018-12-26</td>\n",
       "      <td>1</td>\n",
       "      <td>1499</td>\n",
       "      <td>12</td>\n",
       "    </tr>\n",
       "    <tr>\n",
       "      <th>202603</th>\n",
       "      <td>1499_216</td>\n",
       "      <td>2018-10-18</td>\n",
       "      <td>19</td>\n",
       "      <td>1499</td>\n",
       "      <td>10</td>\n",
       "    </tr>\n",
       "    <tr>\n",
       "      <th>202604</th>\n",
       "      <td>1499_217</td>\n",
       "      <td>2018-11-10</td>\n",
       "      <td>11</td>\n",
       "      <td>1499</td>\n",
       "      <td>11</td>\n",
       "    </tr>\n",
       "    <tr>\n",
       "      <th>202605</th>\n",
       "      <td>1499_218</td>\n",
       "      <td>2018-10-06</td>\n",
       "      <td>5</td>\n",
       "      <td>1499</td>\n",
       "      <td>10</td>\n",
       "    </tr>\n",
       "    <tr>\n",
       "      <th>202606</th>\n",
       "      <td>1499_219</td>\n",
       "      <td>2018-12-14</td>\n",
       "      <td>20</td>\n",
       "      <td>1499</td>\n",
       "      <td>12</td>\n",
       "    </tr>\n",
       "  </tbody>\n",
       "</table>\n",
       "<p>202607 rows × 5 columns</p>\n",
       "</div>"
      ],
      "text/plain": [
       "              id   call_date  duration  user_id  month\n",
       "0         1000_0  2018-07-25         0     1000      7\n",
       "1         1000_1  2018-08-17         0     1000      8\n",
       "2         1000_2  2018-06-11         3     1000      6\n",
       "3         1000_3  2018-09-21        14     1000      9\n",
       "4         1000_4  2018-12-15         6     1000     12\n",
       "...          ...         ...       ...      ...    ...\n",
       "202602  1499_215  2018-12-26         1     1499     12\n",
       "202603  1499_216  2018-10-18        19     1499     10\n",
       "202604  1499_217  2018-11-10        11     1499     11\n",
       "202605  1499_218  2018-10-06         5     1499     10\n",
       "202606  1499_219  2018-12-14        20     1499     12\n",
       "\n",
       "[202607 rows x 5 columns]"
      ]
     },
     "execution_count": 12,
     "metadata": {},
     "output_type": "execute_result"
    }
   ],
   "source": [
    "df_calls['month'] = pd.DatetimeIndex(df_calls['call_date']).month \n",
    "df_calls"
   ]
  },
  {
   "cell_type": "code",
   "execution_count": 13,
   "metadata": {},
   "outputs": [
    {
     "data": {
      "text/plain": [
       "count    202607.000000\n",
       "mean          7.158198\n",
       "std           5.959173\n",
       "min           0.000000\n",
       "25%           2.000000\n",
       "50%           6.000000\n",
       "75%          11.000000\n",
       "max          38.000000\n",
       "Name: duration, dtype: float64"
      ]
     },
     "execution_count": 13,
     "metadata": {},
     "output_type": "execute_result"
    }
   ],
   "source": [
    "df_calls['duration'].describe()"
   ]
  },
  {
   "cell_type": "markdown",
   "metadata": {},
   "source": [
    "Минимальное значение 0 (тоесть разговор не состоялся), а максимальное 38 минут, что вполне может соответствовать реальности.\n",
    "\n",
    "Считаю, что указаный датафрейм не содержит ошибок."
   ]
  },
  {
   "cell_type": "markdown",
   "metadata": {},
   "source": [
    "Посчитаем общее количество звонков и минут по каждому клиенту."
   ]
  },
  {
   "cell_type": "code",
   "execution_count": 14,
   "metadata": {},
   "outputs": [
    {
     "data": {
      "text/html": [
       "<div>\n",
       "<style scoped>\n",
       "    .dataframe tbody tr th:only-of-type {\n",
       "        vertical-align: middle;\n",
       "    }\n",
       "\n",
       "    .dataframe tbody tr th {\n",
       "        vertical-align: top;\n",
       "    }\n",
       "\n",
       "    .dataframe thead th {\n",
       "        text-align: right;\n",
       "    }\n",
       "</style>\n",
       "<table border=\"1\" class=\"dataframe\">\n",
       "  <thead>\n",
       "    <tr style=\"text-align: right;\">\n",
       "      <th></th>\n",
       "      <th></th>\n",
       "      <th>duration</th>\n",
       "    </tr>\n",
       "    <tr>\n",
       "      <th>user_id</th>\n",
       "      <th>month</th>\n",
       "      <th></th>\n",
       "    </tr>\n",
       "  </thead>\n",
       "  <tbody>\n",
       "    <tr>\n",
       "      <th rowspan=\"5\" valign=\"top\">1000</th>\n",
       "      <th>5</th>\n",
       "      <td>159</td>\n",
       "    </tr>\n",
       "    <tr>\n",
       "      <th>6</th>\n",
       "      <td>172</td>\n",
       "    </tr>\n",
       "    <tr>\n",
       "      <th>7</th>\n",
       "      <td>340</td>\n",
       "    </tr>\n",
       "    <tr>\n",
       "      <th>8</th>\n",
       "      <td>408</td>\n",
       "    </tr>\n",
       "    <tr>\n",
       "      <th>9</th>\n",
       "      <td>466</td>\n",
       "    </tr>\n",
       "    <tr>\n",
       "      <th>...</th>\n",
       "      <th>...</th>\n",
       "      <td>...</td>\n",
       "    </tr>\n",
       "    <tr>\n",
       "      <th>1498</th>\n",
       "      <th>10</th>\n",
       "      <td>247</td>\n",
       "    </tr>\n",
       "    <tr>\n",
       "      <th rowspan=\"4\" valign=\"top\">1499</th>\n",
       "      <th>9</th>\n",
       "      <td>70</td>\n",
       "    </tr>\n",
       "    <tr>\n",
       "      <th>10</th>\n",
       "      <td>449</td>\n",
       "    </tr>\n",
       "    <tr>\n",
       "      <th>11</th>\n",
       "      <td>612</td>\n",
       "    </tr>\n",
       "    <tr>\n",
       "      <th>12</th>\n",
       "      <td>492</td>\n",
       "    </tr>\n",
       "  </tbody>\n",
       "</table>\n",
       "<p>3174 rows × 1 columns</p>\n",
       "</div>"
      ],
      "text/plain": [
       "               duration\n",
       "user_id month          \n",
       "1000    5           159\n",
       "        6           172\n",
       "        7           340\n",
       "        8           408\n",
       "        9           466\n",
       "...                 ...\n",
       "1498    10          247\n",
       "1499    9            70\n",
       "        10          449\n",
       "        11          612\n",
       "        12          492\n",
       "\n",
       "[3174 rows x 1 columns]"
      ]
     },
     "execution_count": 14,
     "metadata": {},
     "output_type": "execute_result"
    }
   ],
   "source": [
    "df_calls_grouped = df_calls.groupby(['user_id', 'month']).sum()\n",
    "df_calls_grouped"
   ]
  },
  {
   "cell_type": "markdown",
   "metadata": {},
   "source": [
    "### 2.2. Internet"
   ]
  },
  {
   "cell_type": "code",
   "execution_count": 15,
   "metadata": {},
   "outputs": [],
   "source": [
    "#df_calls_result = df_calls_result.reset_index()\n",
    "#df_calls_result"
   ]
  },
  {
   "cell_type": "markdown",
   "metadata": {},
   "source": [
    "Посчитаем трафик каждого пользователя по месяцам "
   ]
  },
  {
   "cell_type": "markdown",
   "metadata": {},
   "source": [
    "Сначала добавим в датафрейм колонку с месяцами использования"
   ]
  },
  {
   "cell_type": "code",
   "execution_count": 16,
   "metadata": {
    "scrolled": true
   },
   "outputs": [],
   "source": [
    "df_internet['month'] = pd.DatetimeIndex(df_internet['session_date']).month "
   ]
  },
  {
   "cell_type": "markdown",
   "metadata": {},
   "source": [
    "Сгруппируем данные по пользователям и месяцам."
   ]
  },
  {
   "cell_type": "code",
   "execution_count": 17,
   "metadata": {},
   "outputs": [],
   "source": [
    "#df_internet_result = df_internet.pivot_table(index=('user_id', 'month'), values='mb_used', aggfunc=('sum'))\n",
    "#df_internet_result"
   ]
  },
  {
   "cell_type": "code",
   "execution_count": 18,
   "metadata": {},
   "outputs": [
    {
     "data": {
      "text/html": [
       "<div>\n",
       "<style scoped>\n",
       "    .dataframe tbody tr th:only-of-type {\n",
       "        vertical-align: middle;\n",
       "    }\n",
       "\n",
       "    .dataframe tbody tr th {\n",
       "        vertical-align: top;\n",
       "    }\n",
       "\n",
       "    .dataframe thead th {\n",
       "        text-align: right;\n",
       "    }\n",
       "</style>\n",
       "<table border=\"1\" class=\"dataframe\">\n",
       "  <thead>\n",
       "    <tr style=\"text-align: right;\">\n",
       "      <th></th>\n",
       "      <th></th>\n",
       "      <th>Unnamed: 0</th>\n",
       "      <th>mb_used</th>\n",
       "    </tr>\n",
       "    <tr>\n",
       "      <th>user_id</th>\n",
       "      <th>month</th>\n",
       "      <th></th>\n",
       "      <th></th>\n",
       "    </tr>\n",
       "  </thead>\n",
       "  <tbody>\n",
       "    <tr>\n",
       "      <th rowspan=\"5\" valign=\"top\">1000</th>\n",
       "      <th>5</th>\n",
       "      <td>443</td>\n",
       "      <td>2253.49</td>\n",
       "    </tr>\n",
       "    <tr>\n",
       "      <th>6</th>\n",
       "      <td>5536</td>\n",
       "      <td>23233.77</td>\n",
       "    </tr>\n",
       "    <tr>\n",
       "      <th>7</th>\n",
       "      <td>3504</td>\n",
       "      <td>14003.64</td>\n",
       "    </tr>\n",
       "    <tr>\n",
       "      <th>8</th>\n",
       "      <td>2977</td>\n",
       "      <td>14055.93</td>\n",
       "    </tr>\n",
       "    <tr>\n",
       "      <th>9</th>\n",
       "      <td>2746</td>\n",
       "      <td>14568.91</td>\n",
       "    </tr>\n",
       "    <tr>\n",
       "      <th>...</th>\n",
       "      <th>...</th>\n",
       "      <td>...</td>\n",
       "      <td>...</td>\n",
       "    </tr>\n",
       "    <tr>\n",
       "      <th>1498</th>\n",
       "      <th>10</th>\n",
       "      <td>8798268</td>\n",
       "      <td>20579.36</td>\n",
       "    </tr>\n",
       "    <tr>\n",
       "      <th rowspan=\"4\" valign=\"top\">1499</th>\n",
       "      <th>9</th>\n",
       "      <td>746608</td>\n",
       "      <td>1845.75</td>\n",
       "    </tr>\n",
       "    <tr>\n",
       "      <th>10</th>\n",
       "      <td>8660473</td>\n",
       "      <td>17788.51</td>\n",
       "    </tr>\n",
       "    <tr>\n",
       "      <th>11</th>\n",
       "      <td>7316606</td>\n",
       "      <td>17963.31</td>\n",
       "    </tr>\n",
       "    <tr>\n",
       "      <th>12</th>\n",
       "      <td>6719082</td>\n",
       "      <td>13055.58</td>\n",
       "    </tr>\n",
       "  </tbody>\n",
       "</table>\n",
       "<p>3203 rows × 2 columns</p>\n",
       "</div>"
      ],
      "text/plain": [
       "               Unnamed: 0   mb_used\n",
       "user_id month                      \n",
       "1000    5             443   2253.49\n",
       "        6            5536  23233.77\n",
       "        7            3504  14003.64\n",
       "        8            2977  14055.93\n",
       "        9            2746  14568.91\n",
       "...                   ...       ...\n",
       "1498    10        8798268  20579.36\n",
       "1499    9          746608   1845.75\n",
       "        10        8660473  17788.51\n",
       "        11        7316606  17963.31\n",
       "        12        6719082  13055.58\n",
       "\n",
       "[3203 rows x 2 columns]"
      ]
     },
     "execution_count": 18,
     "metadata": {},
     "output_type": "execute_result"
    }
   ],
   "source": [
    "df_internet_grouped = df_internet.groupby(['user_id', 'month']).sum()\n",
    "df_internet_grouped"
   ]
  },
  {
   "cell_type": "markdown",
   "metadata": {},
   "source": [
    "По условиям тарифов подсчет траффика ведется в гигобайтах и округляется в большую сторону\n",
    "\n",
    "Добавим в сводную таблицу соответствующую колонку. ~И уберем подкатегории.~"
   ]
  },
  {
   "cell_type": "code",
   "execution_count": 19,
   "metadata": {},
   "outputs": [
    {
     "data": {
      "text/html": [
       "<div>\n",
       "<style scoped>\n",
       "    .dataframe tbody tr th:only-of-type {\n",
       "        vertical-align: middle;\n",
       "    }\n",
       "\n",
       "    .dataframe tbody tr th {\n",
       "        vertical-align: top;\n",
       "    }\n",
       "\n",
       "    .dataframe thead th {\n",
       "        text-align: right;\n",
       "    }\n",
       "</style>\n",
       "<table border=\"1\" class=\"dataframe\">\n",
       "  <thead>\n",
       "    <tr style=\"text-align: right;\">\n",
       "      <th></th>\n",
       "      <th></th>\n",
       "      <th>Unnamed: 0</th>\n",
       "      <th>mb_used</th>\n",
       "      <th>gb_used</th>\n",
       "    </tr>\n",
       "    <tr>\n",
       "      <th>user_id</th>\n",
       "      <th>month</th>\n",
       "      <th></th>\n",
       "      <th></th>\n",
       "      <th></th>\n",
       "    </tr>\n",
       "  </thead>\n",
       "  <tbody>\n",
       "    <tr>\n",
       "      <th rowspan=\"5\" valign=\"top\">1000</th>\n",
       "      <th>5</th>\n",
       "      <td>443</td>\n",
       "      <td>2253.49</td>\n",
       "      <td>3</td>\n",
       "    </tr>\n",
       "    <tr>\n",
       "      <th>6</th>\n",
       "      <td>5536</td>\n",
       "      <td>23233.77</td>\n",
       "      <td>24</td>\n",
       "    </tr>\n",
       "    <tr>\n",
       "      <th>7</th>\n",
       "      <td>3504</td>\n",
       "      <td>14003.64</td>\n",
       "      <td>15</td>\n",
       "    </tr>\n",
       "    <tr>\n",
       "      <th>8</th>\n",
       "      <td>2977</td>\n",
       "      <td>14055.93</td>\n",
       "      <td>15</td>\n",
       "    </tr>\n",
       "    <tr>\n",
       "      <th>9</th>\n",
       "      <td>2746</td>\n",
       "      <td>14568.91</td>\n",
       "      <td>15</td>\n",
       "    </tr>\n",
       "    <tr>\n",
       "      <th>...</th>\n",
       "      <th>...</th>\n",
       "      <td>...</td>\n",
       "      <td>...</td>\n",
       "      <td>...</td>\n",
       "    </tr>\n",
       "    <tr>\n",
       "      <th>1498</th>\n",
       "      <th>10</th>\n",
       "      <td>8798268</td>\n",
       "      <td>20579.36</td>\n",
       "      <td>21</td>\n",
       "    </tr>\n",
       "    <tr>\n",
       "      <th rowspan=\"4\" valign=\"top\">1499</th>\n",
       "      <th>9</th>\n",
       "      <td>746608</td>\n",
       "      <td>1845.75</td>\n",
       "      <td>2</td>\n",
       "    </tr>\n",
       "    <tr>\n",
       "      <th>10</th>\n",
       "      <td>8660473</td>\n",
       "      <td>17788.51</td>\n",
       "      <td>18</td>\n",
       "    </tr>\n",
       "    <tr>\n",
       "      <th>11</th>\n",
       "      <td>7316606</td>\n",
       "      <td>17963.31</td>\n",
       "      <td>18</td>\n",
       "    </tr>\n",
       "    <tr>\n",
       "      <th>12</th>\n",
       "      <td>6719082</td>\n",
       "      <td>13055.58</td>\n",
       "      <td>14</td>\n",
       "    </tr>\n",
       "  </tbody>\n",
       "</table>\n",
       "<p>3203 rows × 3 columns</p>\n",
       "</div>"
      ],
      "text/plain": [
       "               Unnamed: 0   mb_used  gb_used\n",
       "user_id month                               \n",
       "1000    5             443   2253.49        3\n",
       "        6            5536  23233.77       24\n",
       "        7            3504  14003.64       15\n",
       "        8            2977  14055.93       15\n",
       "        9            2746  14568.91       15\n",
       "...                   ...       ...      ...\n",
       "1498    10        8798268  20579.36       21\n",
       "1499    9          746608   1845.75        2\n",
       "        10        8660473  17788.51       18\n",
       "        11        7316606  17963.31       18\n",
       "        12        6719082  13055.58       14\n",
       "\n",
       "[3203 rows x 3 columns]"
      ]
     },
     "execution_count": 19,
     "metadata": {},
     "output_type": "execute_result"
    }
   ],
   "source": [
    "df_internet_grouped['gb_used'] =  np.ceil(df_internet_grouped['mb_used'] / 1000).astype(int)\n",
    "#df_internet_result = df_internet_result.reset_index()\n",
    "df_internet_grouped"
   ]
  },
  {
   "cell_type": "markdown",
   "metadata": {},
   "source": [
    "<div class=\"alert alert-warning\">\n",
    "    \n",
    "<b> Комментарий от ревьюера ⚠️</b>\n",
    "    \n",
    "1 Гб = 1024 Мб\n",
    "</div>"
   ]
  },
  {
   "cell_type": "code",
   "execution_count": 20,
   "metadata": {},
   "outputs": [],
   "source": [
    "#df_internet_grouped = df_internet_grouped.drop(columns='mb_used')\n",
    "#df_internet_grouped"
   ]
  },
  {
   "cell_type": "markdown",
   "metadata": {},
   "source": [
    "### 2.3. Сообщения"
   ]
  },
  {
   "cell_type": "markdown",
   "metadata": {},
   "source": [
    "Посмотрим общую информацию"
   ]
  },
  {
   "cell_type": "code",
   "execution_count": 21,
   "metadata": {
    "scrolled": true
   },
   "outputs": [
    {
     "name": "stdout",
     "output_type": "stream",
     "text": [
      "<class 'pandas.core.frame.DataFrame'>\n",
      "RangeIndex: 123036 entries, 0 to 123035\n",
      "Data columns (total 3 columns):\n",
      " #   Column        Non-Null Count   Dtype \n",
      "---  ------        --------------   ----- \n",
      " 0   id            123036 non-null  object\n",
      " 1   message_date  123036 non-null  object\n",
      " 2   user_id       123036 non-null  int64 \n",
      "dtypes: int64(1), object(2)\n",
      "memory usage: 2.8+ MB\n"
     ]
    }
   ],
   "source": [
    "df_messages.info()"
   ]
  },
  {
   "cell_type": "markdown",
   "metadata": {},
   "source": [
    "Видимо пропусков нет"
   ]
  },
  {
   "cell_type": "markdown",
   "metadata": {},
   "source": [
    "Посчитаем общее количество сообщений по каждому пользователю за один месяц ~и уберем подкатегории~"
   ]
  },
  {
   "cell_type": "code",
   "execution_count": 22,
   "metadata": {},
   "outputs": [
    {
     "data": {
      "text/html": [
       "<div>\n",
       "<style scoped>\n",
       "    .dataframe tbody tr th:only-of-type {\n",
       "        vertical-align: middle;\n",
       "    }\n",
       "\n",
       "    .dataframe tbody tr th {\n",
       "        vertical-align: top;\n",
       "    }\n",
       "\n",
       "    .dataframe thead th {\n",
       "        text-align: right;\n",
       "    }\n",
       "</style>\n",
       "<table border=\"1\" class=\"dataframe\">\n",
       "  <thead>\n",
       "    <tr style=\"text-align: right;\">\n",
       "      <th></th>\n",
       "      <th></th>\n",
       "      <th>id</th>\n",
       "      <th>message_date</th>\n",
       "    </tr>\n",
       "    <tr>\n",
       "      <th>user_id</th>\n",
       "      <th>month</th>\n",
       "      <th></th>\n",
       "      <th></th>\n",
       "    </tr>\n",
       "  </thead>\n",
       "  <tbody>\n",
       "    <tr>\n",
       "      <th rowspan=\"5\" valign=\"top\">1000</th>\n",
       "      <th>5</th>\n",
       "      <td>22</td>\n",
       "      <td>22</td>\n",
       "    </tr>\n",
       "    <tr>\n",
       "      <th>6</th>\n",
       "      <td>60</td>\n",
       "      <td>60</td>\n",
       "    </tr>\n",
       "    <tr>\n",
       "      <th>7</th>\n",
       "      <td>75</td>\n",
       "      <td>75</td>\n",
       "    </tr>\n",
       "    <tr>\n",
       "      <th>8</th>\n",
       "      <td>81</td>\n",
       "      <td>81</td>\n",
       "    </tr>\n",
       "    <tr>\n",
       "      <th>9</th>\n",
       "      <td>57</td>\n",
       "      <td>57</td>\n",
       "    </tr>\n",
       "    <tr>\n",
       "      <th>...</th>\n",
       "      <th>...</th>\n",
       "      <td>...</td>\n",
       "      <td>...</td>\n",
       "    </tr>\n",
       "    <tr>\n",
       "      <th>1498</th>\n",
       "      <th>10</th>\n",
       "      <td>42</td>\n",
       "      <td>42</td>\n",
       "    </tr>\n",
       "    <tr>\n",
       "      <th rowspan=\"4\" valign=\"top\">1499</th>\n",
       "      <th>9</th>\n",
       "      <td>11</td>\n",
       "      <td>11</td>\n",
       "    </tr>\n",
       "    <tr>\n",
       "      <th>10</th>\n",
       "      <td>48</td>\n",
       "      <td>48</td>\n",
       "    </tr>\n",
       "    <tr>\n",
       "      <th>11</th>\n",
       "      <td>59</td>\n",
       "      <td>59</td>\n",
       "    </tr>\n",
       "    <tr>\n",
       "      <th>12</th>\n",
       "      <td>66</td>\n",
       "      <td>66</td>\n",
       "    </tr>\n",
       "  </tbody>\n",
       "</table>\n",
       "<p>2717 rows × 2 columns</p>\n",
       "</div>"
      ],
      "text/plain": [
       "               id  message_date\n",
       "user_id month                  \n",
       "1000    5      22            22\n",
       "        6      60            60\n",
       "        7      75            75\n",
       "        8      81            81\n",
       "        9      57            57\n",
       "...            ..           ...\n",
       "1498    10     42            42\n",
       "1499    9      11            11\n",
       "        10     48            48\n",
       "        11     59            59\n",
       "        12     66            66\n",
       "\n",
       "[2717 rows x 2 columns]"
      ]
     },
     "execution_count": 22,
     "metadata": {},
     "output_type": "execute_result"
    }
   ],
   "source": [
    "df_messages['month'] = pd.DatetimeIndex(df_messages['message_date']).month \n",
    "#df_messages_result =df_messages_result.reset_index()\n",
    "#df_messages_result\n",
    "df_messages_grouped = df_messages.groupby(['user_id', 'month']).count()\n",
    "df_messages_grouped"
   ]
  },
  {
   "cell_type": "markdown",
   "metadata": {},
   "source": [
    "Поищим возможные вбросы"
   ]
  },
  {
   "cell_type": "code",
   "execution_count": 23,
   "metadata": {},
   "outputs": [
    {
     "data": {
      "text/html": [
       "<div>\n",
       "<style scoped>\n",
       "    .dataframe tbody tr th:only-of-type {\n",
       "        vertical-align: middle;\n",
       "    }\n",
       "\n",
       "    .dataframe tbody tr th {\n",
       "        vertical-align: top;\n",
       "    }\n",
       "\n",
       "    .dataframe thead th {\n",
       "        text-align: right;\n",
       "    }\n",
       "</style>\n",
       "<table border=\"1\" class=\"dataframe\">\n",
       "  <thead>\n",
       "    <tr style=\"text-align: right;\">\n",
       "      <th></th>\n",
       "      <th>id</th>\n",
       "      <th>message_date</th>\n",
       "    </tr>\n",
       "  </thead>\n",
       "  <tbody>\n",
       "    <tr>\n",
       "      <th>count</th>\n",
       "      <td>2717.000000</td>\n",
       "      <td>2717.000000</td>\n",
       "    </tr>\n",
       "    <tr>\n",
       "      <th>mean</th>\n",
       "      <td>45.283769</td>\n",
       "      <td>45.283769</td>\n",
       "    </tr>\n",
       "    <tr>\n",
       "      <th>std</th>\n",
       "      <td>35.051363</td>\n",
       "      <td>35.051363</td>\n",
       "    </tr>\n",
       "    <tr>\n",
       "      <th>min</th>\n",
       "      <td>1.000000</td>\n",
       "      <td>1.000000</td>\n",
       "    </tr>\n",
       "    <tr>\n",
       "      <th>25%</th>\n",
       "      <td>19.000000</td>\n",
       "      <td>19.000000</td>\n",
       "    </tr>\n",
       "    <tr>\n",
       "      <th>50%</th>\n",
       "      <td>38.000000</td>\n",
       "      <td>38.000000</td>\n",
       "    </tr>\n",
       "    <tr>\n",
       "      <th>75%</th>\n",
       "      <td>63.000000</td>\n",
       "      <td>63.000000</td>\n",
       "    </tr>\n",
       "    <tr>\n",
       "      <th>max</th>\n",
       "      <td>224.000000</td>\n",
       "      <td>224.000000</td>\n",
       "    </tr>\n",
       "  </tbody>\n",
       "</table>\n",
       "</div>"
      ],
      "text/plain": [
       "                id  message_date\n",
       "count  2717.000000   2717.000000\n",
       "mean     45.283769     45.283769\n",
       "std      35.051363     35.051363\n",
       "min       1.000000      1.000000\n",
       "25%      19.000000     19.000000\n",
       "50%      38.000000     38.000000\n",
       "75%      63.000000     63.000000\n",
       "max     224.000000    224.000000"
      ]
     },
     "execution_count": 23,
     "metadata": {},
     "output_type": "execute_result"
    }
   ],
   "source": [
    "df_messages_grouped.describe()"
   ]
  },
  {
   "cell_type": "markdown",
   "metadata": {},
   "source": [
    "Не смотря на то, что есть клиенты отправляющие более 200 сообщений в месяц, данный факт не кажется невозможным. Проверим"
   ]
  },
  {
   "cell_type": "code",
   "execution_count": 24,
   "metadata": {},
   "outputs": [
    {
     "data": {
      "text/plain": [
       "41"
      ]
     },
     "execution_count": 24,
     "metadata": {},
     "output_type": "execute_result"
    }
   ],
   "source": [
    "len(df_messages_grouped.query('id > 150'))"
   ]
  },
  {
   "cell_type": "markdown",
   "metadata": {},
   "source": [
    "Достаточно много пользователей активно пользуются сервисом отправки сообщений."
   ]
  },
  {
   "cell_type": "markdown",
   "metadata": {},
   "source": [
    "### 2.4. Объединение таблиц"
   ]
  },
  {
   "cell_type": "markdown",
   "metadata": {},
   "source": [
    "Чтобы облегчить анализ данных следует объединить таблицы."
   ]
  },
  {
   "cell_type": "markdown",
   "metadata": {},
   "source": [
    "Саздадим новый датафрейм содержащий сгруппированные по пользователям и по месяцам данные по всем услугам оператора."
   ]
  },
  {
   "cell_type": "code",
   "execution_count": 25,
   "metadata": {},
   "outputs": [
    {
     "data": {
      "text/html": [
       "<div>\n",
       "<style scoped>\n",
       "    .dataframe tbody tr th:only-of-type {\n",
       "        vertical-align: middle;\n",
       "    }\n",
       "\n",
       "    .dataframe tbody tr th {\n",
       "        vertical-align: top;\n",
       "    }\n",
       "\n",
       "    .dataframe thead th {\n",
       "        text-align: right;\n",
       "    }\n",
       "</style>\n",
       "<table border=\"1\" class=\"dataframe\">\n",
       "  <thead>\n",
       "    <tr style=\"text-align: right;\">\n",
       "      <th></th>\n",
       "      <th></th>\n",
       "      <th>duration</th>\n",
       "      <th>Unnamed: 0</th>\n",
       "      <th>mb_used</th>\n",
       "      <th>gb_used</th>\n",
       "    </tr>\n",
       "    <tr>\n",
       "      <th>user_id</th>\n",
       "      <th>month</th>\n",
       "      <th></th>\n",
       "      <th></th>\n",
       "      <th></th>\n",
       "      <th></th>\n",
       "    </tr>\n",
       "  </thead>\n",
       "  <tbody>\n",
       "    <tr>\n",
       "      <th rowspan=\"5\" valign=\"top\">1000</th>\n",
       "      <th>5</th>\n",
       "      <td>159.0</td>\n",
       "      <td>443.0</td>\n",
       "      <td>2253.49</td>\n",
       "      <td>3.0</td>\n",
       "    </tr>\n",
       "    <tr>\n",
       "      <th>6</th>\n",
       "      <td>172.0</td>\n",
       "      <td>5536.0</td>\n",
       "      <td>23233.77</td>\n",
       "      <td>24.0</td>\n",
       "    </tr>\n",
       "    <tr>\n",
       "      <th>7</th>\n",
       "      <td>340.0</td>\n",
       "      <td>3504.0</td>\n",
       "      <td>14003.64</td>\n",
       "      <td>15.0</td>\n",
       "    </tr>\n",
       "    <tr>\n",
       "      <th>8</th>\n",
       "      <td>408.0</td>\n",
       "      <td>2977.0</td>\n",
       "      <td>14055.93</td>\n",
       "      <td>15.0</td>\n",
       "    </tr>\n",
       "    <tr>\n",
       "      <th>9</th>\n",
       "      <td>466.0</td>\n",
       "      <td>2746.0</td>\n",
       "      <td>14568.91</td>\n",
       "      <td>15.0</td>\n",
       "    </tr>\n",
       "    <tr>\n",
       "      <th>...</th>\n",
       "      <th>...</th>\n",
       "      <td>...</td>\n",
       "      <td>...</td>\n",
       "      <td>...</td>\n",
       "      <td>...</td>\n",
       "    </tr>\n",
       "    <tr>\n",
       "      <th>1498</th>\n",
       "      <th>10</th>\n",
       "      <td>247.0</td>\n",
       "      <td>8798268.0</td>\n",
       "      <td>20579.36</td>\n",
       "      <td>21.0</td>\n",
       "    </tr>\n",
       "    <tr>\n",
       "      <th rowspan=\"4\" valign=\"top\">1499</th>\n",
       "      <th>9</th>\n",
       "      <td>70.0</td>\n",
       "      <td>746608.0</td>\n",
       "      <td>1845.75</td>\n",
       "      <td>2.0</td>\n",
       "    </tr>\n",
       "    <tr>\n",
       "      <th>10</th>\n",
       "      <td>449.0</td>\n",
       "      <td>8660473.0</td>\n",
       "      <td>17788.51</td>\n",
       "      <td>18.0</td>\n",
       "    </tr>\n",
       "    <tr>\n",
       "      <th>11</th>\n",
       "      <td>612.0</td>\n",
       "      <td>7316606.0</td>\n",
       "      <td>17963.31</td>\n",
       "      <td>18.0</td>\n",
       "    </tr>\n",
       "    <tr>\n",
       "      <th>12</th>\n",
       "      <td>492.0</td>\n",
       "      <td>6719082.0</td>\n",
       "      <td>13055.58</td>\n",
       "      <td>14.0</td>\n",
       "    </tr>\n",
       "  </tbody>\n",
       "</table>\n",
       "<p>3214 rows × 4 columns</p>\n",
       "</div>"
      ],
      "text/plain": [
       "               duration  Unnamed: 0   mb_used  gb_used\n",
       "user_id month                                         \n",
       "1000    5         159.0       443.0   2253.49      3.0\n",
       "        6         172.0      5536.0  23233.77     24.0\n",
       "        7         340.0      3504.0  14003.64     15.0\n",
       "        8         408.0      2977.0  14055.93     15.0\n",
       "        9         466.0      2746.0  14568.91     15.0\n",
       "...                 ...         ...       ...      ...\n",
       "1498    10        247.0   8798268.0  20579.36     21.0\n",
       "1499    9          70.0    746608.0   1845.75      2.0\n",
       "        10        449.0   8660473.0  17788.51     18.0\n",
       "        11        612.0   7316606.0  17963.31     18.0\n",
       "        12        492.0   6719082.0  13055.58     14.0\n",
       "\n",
       "[3214 rows x 4 columns]"
      ]
     },
     "execution_count": 25,
     "metadata": {},
     "output_type": "execute_result"
    }
   ],
   "source": [
    "df_new = df_calls_grouped.join(df_internet_grouped, how='outer')\n",
    "df_new"
   ]
  },
  {
   "cell_type": "markdown",
   "metadata": {},
   "source": [
    "<div class=\"alert alert-danger\">\n",
    "    \n",
    "<b> Комментарий от ревьюера ❗</b>\n",
    "    \n",
    "Обрати внимание, что в методе join по умолчанию используется левое соединение таблиц, то есть к строкам из левой таблицы добавляется информация из правой таблицы. Если пользователь не совершал звонки, но пользовался сообщениями/трафиком, он не попадет в таблицу\n",
    "    \n",
    "Поправь, пожалуйста, код так, чтобы брать все строки из всех таблиц. Про соединения можешь посмотреть [тут](https://medium.com/@Lexx01/sql-inner-и-outer-join-64f3862d8540)\n",
    "</div>\n"
   ]
  },
  {
   "cell_type": "markdown",
   "metadata": {},
   "source": [
    "<div class=\"alert alert-info\">\n",
    "Упустил этот момент. Действительно, при объединении с укахзанием типа 'outer' добавилось целых 40 строк! 3214 против 3174"
   ]
  },
  {
   "cell_type": "markdown",
   "metadata": {},
   "source": [
    "<div class=\"alert alert-success\">\n",
    "    \n",
    "<b> Комментарий от ревьюера 2 ✔️</b>\n",
    "\n",
    "Теперь все отлично!\n",
    "\n",
    "</div>"
   ]
  },
  {
   "cell_type": "code",
   "execution_count": 26,
   "metadata": {},
   "outputs": [
    {
     "data": {
      "text/html": [
       "<div>\n",
       "<style scoped>\n",
       "    .dataframe tbody tr th:only-of-type {\n",
       "        vertical-align: middle;\n",
       "    }\n",
       "\n",
       "    .dataframe tbody tr th {\n",
       "        vertical-align: top;\n",
       "    }\n",
       "\n",
       "    .dataframe thead th {\n",
       "        text-align: right;\n",
       "    }\n",
       "</style>\n",
       "<table border=\"1\" class=\"dataframe\">\n",
       "  <thead>\n",
       "    <tr style=\"text-align: right;\">\n",
       "      <th></th>\n",
       "      <th></th>\n",
       "      <th>duration</th>\n",
       "      <th>Unnamed: 0</th>\n",
       "      <th>mb_used</th>\n",
       "      <th>gb_used</th>\n",
       "      <th>id</th>\n",
       "      <th>message_date</th>\n",
       "    </tr>\n",
       "    <tr>\n",
       "      <th>user_id</th>\n",
       "      <th>month</th>\n",
       "      <th></th>\n",
       "      <th></th>\n",
       "      <th></th>\n",
       "      <th></th>\n",
       "      <th></th>\n",
       "      <th></th>\n",
       "    </tr>\n",
       "  </thead>\n",
       "  <tbody>\n",
       "    <tr>\n",
       "      <th rowspan=\"5\" valign=\"top\">1000</th>\n",
       "      <th>5</th>\n",
       "      <td>159.0</td>\n",
       "      <td>443.0</td>\n",
       "      <td>2253.49</td>\n",
       "      <td>3.0</td>\n",
       "      <td>22.0</td>\n",
       "      <td>22.0</td>\n",
       "    </tr>\n",
       "    <tr>\n",
       "      <th>6</th>\n",
       "      <td>172.0</td>\n",
       "      <td>5536.0</td>\n",
       "      <td>23233.77</td>\n",
       "      <td>24.0</td>\n",
       "      <td>60.0</td>\n",
       "      <td>60.0</td>\n",
       "    </tr>\n",
       "    <tr>\n",
       "      <th>7</th>\n",
       "      <td>340.0</td>\n",
       "      <td>3504.0</td>\n",
       "      <td>14003.64</td>\n",
       "      <td>15.0</td>\n",
       "      <td>75.0</td>\n",
       "      <td>75.0</td>\n",
       "    </tr>\n",
       "    <tr>\n",
       "      <th>8</th>\n",
       "      <td>408.0</td>\n",
       "      <td>2977.0</td>\n",
       "      <td>14055.93</td>\n",
       "      <td>15.0</td>\n",
       "      <td>81.0</td>\n",
       "      <td>81.0</td>\n",
       "    </tr>\n",
       "    <tr>\n",
       "      <th>9</th>\n",
       "      <td>466.0</td>\n",
       "      <td>2746.0</td>\n",
       "      <td>14568.91</td>\n",
       "      <td>15.0</td>\n",
       "      <td>57.0</td>\n",
       "      <td>57.0</td>\n",
       "    </tr>\n",
       "    <tr>\n",
       "      <th>...</th>\n",
       "      <th>...</th>\n",
       "      <td>...</td>\n",
       "      <td>...</td>\n",
       "      <td>...</td>\n",
       "      <td>...</td>\n",
       "      <td>...</td>\n",
       "      <td>...</td>\n",
       "    </tr>\n",
       "    <tr>\n",
       "      <th>1498</th>\n",
       "      <th>10</th>\n",
       "      <td>247.0</td>\n",
       "      <td>8798268.0</td>\n",
       "      <td>20579.36</td>\n",
       "      <td>21.0</td>\n",
       "      <td>42.0</td>\n",
       "      <td>42.0</td>\n",
       "    </tr>\n",
       "    <tr>\n",
       "      <th rowspan=\"4\" valign=\"top\">1499</th>\n",
       "      <th>9</th>\n",
       "      <td>70.0</td>\n",
       "      <td>746608.0</td>\n",
       "      <td>1845.75</td>\n",
       "      <td>2.0</td>\n",
       "      <td>11.0</td>\n",
       "      <td>11.0</td>\n",
       "    </tr>\n",
       "    <tr>\n",
       "      <th>10</th>\n",
       "      <td>449.0</td>\n",
       "      <td>8660473.0</td>\n",
       "      <td>17788.51</td>\n",
       "      <td>18.0</td>\n",
       "      <td>48.0</td>\n",
       "      <td>48.0</td>\n",
       "    </tr>\n",
       "    <tr>\n",
       "      <th>11</th>\n",
       "      <td>612.0</td>\n",
       "      <td>7316606.0</td>\n",
       "      <td>17963.31</td>\n",
       "      <td>18.0</td>\n",
       "      <td>59.0</td>\n",
       "      <td>59.0</td>\n",
       "    </tr>\n",
       "    <tr>\n",
       "      <th>12</th>\n",
       "      <td>492.0</td>\n",
       "      <td>6719082.0</td>\n",
       "      <td>13055.58</td>\n",
       "      <td>14.0</td>\n",
       "      <td>66.0</td>\n",
       "      <td>66.0</td>\n",
       "    </tr>\n",
       "  </tbody>\n",
       "</table>\n",
       "<p>3214 rows × 6 columns</p>\n",
       "</div>"
      ],
      "text/plain": [
       "               duration  Unnamed: 0   mb_used  gb_used    id  message_date\n",
       "user_id month                                                             \n",
       "1000    5         159.0       443.0   2253.49      3.0  22.0          22.0\n",
       "        6         172.0      5536.0  23233.77     24.0  60.0          60.0\n",
       "        7         340.0      3504.0  14003.64     15.0  75.0          75.0\n",
       "        8         408.0      2977.0  14055.93     15.0  81.0          81.0\n",
       "        9         466.0      2746.0  14568.91     15.0  57.0          57.0\n",
       "...                 ...         ...       ...      ...   ...           ...\n",
       "1498    10        247.0   8798268.0  20579.36     21.0  42.0          42.0\n",
       "1499    9          70.0    746608.0   1845.75      2.0  11.0          11.0\n",
       "        10        449.0   8660473.0  17788.51     18.0  48.0          48.0\n",
       "        11        612.0   7316606.0  17963.31     18.0  59.0          59.0\n",
       "        12        492.0   6719082.0  13055.58     14.0  66.0          66.0\n",
       "\n",
       "[3214 rows x 6 columns]"
      ]
     },
     "execution_count": 26,
     "metadata": {},
     "output_type": "execute_result"
    }
   ],
   "source": [
    "df_new = df_new.join(df_messages_grouped, how='outer')\n",
    "df_new"
   ]
  },
  {
   "cell_type": "markdown",
   "metadata": {},
   "source": [
    "Уберем подкатегории"
   ]
  },
  {
   "cell_type": "code",
   "execution_count": 27,
   "metadata": {},
   "outputs": [
    {
     "data": {
      "text/html": [
       "<div>\n",
       "<style scoped>\n",
       "    .dataframe tbody tr th:only-of-type {\n",
       "        vertical-align: middle;\n",
       "    }\n",
       "\n",
       "    .dataframe tbody tr th {\n",
       "        vertical-align: top;\n",
       "    }\n",
       "\n",
       "    .dataframe thead th {\n",
       "        text-align: right;\n",
       "    }\n",
       "</style>\n",
       "<table border=\"1\" class=\"dataframe\">\n",
       "  <thead>\n",
       "    <tr style=\"text-align: right;\">\n",
       "      <th></th>\n",
       "      <th>user_id</th>\n",
       "      <th>month</th>\n",
       "      <th>duration</th>\n",
       "      <th>Unnamed: 0</th>\n",
       "      <th>mb_used</th>\n",
       "      <th>gb_used</th>\n",
       "      <th>id</th>\n",
       "      <th>message_date</th>\n",
       "    </tr>\n",
       "  </thead>\n",
       "  <tbody>\n",
       "    <tr>\n",
       "      <th>0</th>\n",
       "      <td>1000</td>\n",
       "      <td>5</td>\n",
       "      <td>159.0</td>\n",
       "      <td>443.0</td>\n",
       "      <td>2253.49</td>\n",
       "      <td>3.0</td>\n",
       "      <td>22.0</td>\n",
       "      <td>22.0</td>\n",
       "    </tr>\n",
       "    <tr>\n",
       "      <th>1</th>\n",
       "      <td>1000</td>\n",
       "      <td>6</td>\n",
       "      <td>172.0</td>\n",
       "      <td>5536.0</td>\n",
       "      <td>23233.77</td>\n",
       "      <td>24.0</td>\n",
       "      <td>60.0</td>\n",
       "      <td>60.0</td>\n",
       "    </tr>\n",
       "    <tr>\n",
       "      <th>2</th>\n",
       "      <td>1000</td>\n",
       "      <td>7</td>\n",
       "      <td>340.0</td>\n",
       "      <td>3504.0</td>\n",
       "      <td>14003.64</td>\n",
       "      <td>15.0</td>\n",
       "      <td>75.0</td>\n",
       "      <td>75.0</td>\n",
       "    </tr>\n",
       "    <tr>\n",
       "      <th>3</th>\n",
       "      <td>1000</td>\n",
       "      <td>8</td>\n",
       "      <td>408.0</td>\n",
       "      <td>2977.0</td>\n",
       "      <td>14055.93</td>\n",
       "      <td>15.0</td>\n",
       "      <td>81.0</td>\n",
       "      <td>81.0</td>\n",
       "    </tr>\n",
       "    <tr>\n",
       "      <th>4</th>\n",
       "      <td>1000</td>\n",
       "      <td>9</td>\n",
       "      <td>466.0</td>\n",
       "      <td>2746.0</td>\n",
       "      <td>14568.91</td>\n",
       "      <td>15.0</td>\n",
       "      <td>57.0</td>\n",
       "      <td>57.0</td>\n",
       "    </tr>\n",
       "    <tr>\n",
       "      <th>...</th>\n",
       "      <td>...</td>\n",
       "      <td>...</td>\n",
       "      <td>...</td>\n",
       "      <td>...</td>\n",
       "      <td>...</td>\n",
       "      <td>...</td>\n",
       "      <td>...</td>\n",
       "      <td>...</td>\n",
       "    </tr>\n",
       "    <tr>\n",
       "      <th>3209</th>\n",
       "      <td>1498</td>\n",
       "      <td>10</td>\n",
       "      <td>247.0</td>\n",
       "      <td>8798268.0</td>\n",
       "      <td>20579.36</td>\n",
       "      <td>21.0</td>\n",
       "      <td>42.0</td>\n",
       "      <td>42.0</td>\n",
       "    </tr>\n",
       "    <tr>\n",
       "      <th>3210</th>\n",
       "      <td>1499</td>\n",
       "      <td>9</td>\n",
       "      <td>70.0</td>\n",
       "      <td>746608.0</td>\n",
       "      <td>1845.75</td>\n",
       "      <td>2.0</td>\n",
       "      <td>11.0</td>\n",
       "      <td>11.0</td>\n",
       "    </tr>\n",
       "    <tr>\n",
       "      <th>3211</th>\n",
       "      <td>1499</td>\n",
       "      <td>10</td>\n",
       "      <td>449.0</td>\n",
       "      <td>8660473.0</td>\n",
       "      <td>17788.51</td>\n",
       "      <td>18.0</td>\n",
       "      <td>48.0</td>\n",
       "      <td>48.0</td>\n",
       "    </tr>\n",
       "    <tr>\n",
       "      <th>3212</th>\n",
       "      <td>1499</td>\n",
       "      <td>11</td>\n",
       "      <td>612.0</td>\n",
       "      <td>7316606.0</td>\n",
       "      <td>17963.31</td>\n",
       "      <td>18.0</td>\n",
       "      <td>59.0</td>\n",
       "      <td>59.0</td>\n",
       "    </tr>\n",
       "    <tr>\n",
       "      <th>3213</th>\n",
       "      <td>1499</td>\n",
       "      <td>12</td>\n",
       "      <td>492.0</td>\n",
       "      <td>6719082.0</td>\n",
       "      <td>13055.58</td>\n",
       "      <td>14.0</td>\n",
       "      <td>66.0</td>\n",
       "      <td>66.0</td>\n",
       "    </tr>\n",
       "  </tbody>\n",
       "</table>\n",
       "<p>3214 rows × 8 columns</p>\n",
       "</div>"
      ],
      "text/plain": [
       "      user_id  month  duration  Unnamed: 0   mb_used  gb_used    id  \\\n",
       "0        1000      5     159.0       443.0   2253.49      3.0  22.0   \n",
       "1        1000      6     172.0      5536.0  23233.77     24.0  60.0   \n",
       "2        1000      7     340.0      3504.0  14003.64     15.0  75.0   \n",
       "3        1000      8     408.0      2977.0  14055.93     15.0  81.0   \n",
       "4        1000      9     466.0      2746.0  14568.91     15.0  57.0   \n",
       "...       ...    ...       ...         ...       ...      ...   ...   \n",
       "3209     1498     10     247.0   8798268.0  20579.36     21.0  42.0   \n",
       "3210     1499      9      70.0    746608.0   1845.75      2.0  11.0   \n",
       "3211     1499     10     449.0   8660473.0  17788.51     18.0  48.0   \n",
       "3212     1499     11     612.0   7316606.0  17963.31     18.0  59.0   \n",
       "3213     1499     12     492.0   6719082.0  13055.58     14.0  66.0   \n",
       "\n",
       "      message_date  \n",
       "0             22.0  \n",
       "1             60.0  \n",
       "2             75.0  \n",
       "3             81.0  \n",
       "4             57.0  \n",
       "...            ...  \n",
       "3209          42.0  \n",
       "3210          11.0  \n",
       "3211          48.0  \n",
       "3212          59.0  \n",
       "3213          66.0  \n",
       "\n",
       "[3214 rows x 8 columns]"
      ]
     },
     "execution_count": 27,
     "metadata": {},
     "output_type": "execute_result"
    }
   ],
   "source": [
    "df_new = df_new.reset_index()\n",
    "df_new"
   ]
  },
  {
   "cell_type": "markdown",
   "metadata": {},
   "source": [
    "Теперь присоединим данные по пользователям из таблицы df_users по колонке user_id."
   ]
  },
  {
   "cell_type": "code",
   "execution_count": 28,
   "metadata": {},
   "outputs": [],
   "source": [
    "df_new = df_new.merge(df_users[['user_id', 'tariff','city']], on='user_id')"
   ]
  },
  {
   "cell_type": "markdown",
   "metadata": {},
   "source": [
    "<div class=\"alert alert-warning\">\n",
    "    \n",
    "<b> Комментарий от ревьюера ⚠️</b>\n",
    "    \n",
    "Лучше взять только столбцы, которые мы будем использовать в исследовании, чтобы таблица занимала меньше места в памяти\n",
    "    \n",
    "`df_new.merge(df_users[['user_id', 'tariff','city']], on='user_id')`\n",
    "</div>"
   ]
  },
  {
   "cell_type": "markdown",
   "metadata": {},
   "source": [
    "<div class=\"alert alert-info\">\n",
    "Спасибо. Так таблица действительно выглядит лучше."
   ]
  },
  {
   "cell_type": "markdown",
   "metadata": {},
   "source": [
    "И посмотрим"
   ]
  },
  {
   "cell_type": "code",
   "execution_count": 29,
   "metadata": {},
   "outputs": [
    {
     "data": {
      "text/html": [
       "<div>\n",
       "<style scoped>\n",
       "    .dataframe tbody tr th:only-of-type {\n",
       "        vertical-align: middle;\n",
       "    }\n",
       "\n",
       "    .dataframe tbody tr th {\n",
       "        vertical-align: top;\n",
       "    }\n",
       "\n",
       "    .dataframe thead th {\n",
       "        text-align: right;\n",
       "    }\n",
       "</style>\n",
       "<table border=\"1\" class=\"dataframe\">\n",
       "  <thead>\n",
       "    <tr style=\"text-align: right;\">\n",
       "      <th></th>\n",
       "      <th>user_id</th>\n",
       "      <th>month</th>\n",
       "      <th>duration</th>\n",
       "      <th>Unnamed: 0</th>\n",
       "      <th>mb_used</th>\n",
       "      <th>gb_used</th>\n",
       "      <th>id</th>\n",
       "      <th>message_date</th>\n",
       "      <th>tariff</th>\n",
       "      <th>city</th>\n",
       "    </tr>\n",
       "  </thead>\n",
       "  <tbody>\n",
       "    <tr>\n",
       "      <th>0</th>\n",
       "      <td>1000</td>\n",
       "      <td>5</td>\n",
       "      <td>159.0</td>\n",
       "      <td>443.0</td>\n",
       "      <td>2253.49</td>\n",
       "      <td>3.0</td>\n",
       "      <td>22.0</td>\n",
       "      <td>22.0</td>\n",
       "      <td>ultra</td>\n",
       "      <td>Краснодар</td>\n",
       "    </tr>\n",
       "    <tr>\n",
       "      <th>1</th>\n",
       "      <td>1000</td>\n",
       "      <td>6</td>\n",
       "      <td>172.0</td>\n",
       "      <td>5536.0</td>\n",
       "      <td>23233.77</td>\n",
       "      <td>24.0</td>\n",
       "      <td>60.0</td>\n",
       "      <td>60.0</td>\n",
       "      <td>ultra</td>\n",
       "      <td>Краснодар</td>\n",
       "    </tr>\n",
       "    <tr>\n",
       "      <th>2</th>\n",
       "      <td>1000</td>\n",
       "      <td>7</td>\n",
       "      <td>340.0</td>\n",
       "      <td>3504.0</td>\n",
       "      <td>14003.64</td>\n",
       "      <td>15.0</td>\n",
       "      <td>75.0</td>\n",
       "      <td>75.0</td>\n",
       "      <td>ultra</td>\n",
       "      <td>Краснодар</td>\n",
       "    </tr>\n",
       "    <tr>\n",
       "      <th>3</th>\n",
       "      <td>1000</td>\n",
       "      <td>8</td>\n",
       "      <td>408.0</td>\n",
       "      <td>2977.0</td>\n",
       "      <td>14055.93</td>\n",
       "      <td>15.0</td>\n",
       "      <td>81.0</td>\n",
       "      <td>81.0</td>\n",
       "      <td>ultra</td>\n",
       "      <td>Краснодар</td>\n",
       "    </tr>\n",
       "    <tr>\n",
       "      <th>4</th>\n",
       "      <td>1000</td>\n",
       "      <td>9</td>\n",
       "      <td>466.0</td>\n",
       "      <td>2746.0</td>\n",
       "      <td>14568.91</td>\n",
       "      <td>15.0</td>\n",
       "      <td>57.0</td>\n",
       "      <td>57.0</td>\n",
       "      <td>ultra</td>\n",
       "      <td>Краснодар</td>\n",
       "    </tr>\n",
       "    <tr>\n",
       "      <th>...</th>\n",
       "      <td>...</td>\n",
       "      <td>...</td>\n",
       "      <td>...</td>\n",
       "      <td>...</td>\n",
       "      <td>...</td>\n",
       "      <td>...</td>\n",
       "      <td>...</td>\n",
       "      <td>...</td>\n",
       "      <td>...</td>\n",
       "      <td>...</td>\n",
       "    </tr>\n",
       "    <tr>\n",
       "      <th>3209</th>\n",
       "      <td>1498</td>\n",
       "      <td>10</td>\n",
       "      <td>247.0</td>\n",
       "      <td>8798268.0</td>\n",
       "      <td>20579.36</td>\n",
       "      <td>21.0</td>\n",
       "      <td>42.0</td>\n",
       "      <td>42.0</td>\n",
       "      <td>smart</td>\n",
       "      <td>Владикавказ</td>\n",
       "    </tr>\n",
       "    <tr>\n",
       "      <th>3210</th>\n",
       "      <td>1499</td>\n",
       "      <td>9</td>\n",
       "      <td>70.0</td>\n",
       "      <td>746608.0</td>\n",
       "      <td>1845.75</td>\n",
       "      <td>2.0</td>\n",
       "      <td>11.0</td>\n",
       "      <td>11.0</td>\n",
       "      <td>smart</td>\n",
       "      <td>Пермь</td>\n",
       "    </tr>\n",
       "    <tr>\n",
       "      <th>3211</th>\n",
       "      <td>1499</td>\n",
       "      <td>10</td>\n",
       "      <td>449.0</td>\n",
       "      <td>8660473.0</td>\n",
       "      <td>17788.51</td>\n",
       "      <td>18.0</td>\n",
       "      <td>48.0</td>\n",
       "      <td>48.0</td>\n",
       "      <td>smart</td>\n",
       "      <td>Пермь</td>\n",
       "    </tr>\n",
       "    <tr>\n",
       "      <th>3212</th>\n",
       "      <td>1499</td>\n",
       "      <td>11</td>\n",
       "      <td>612.0</td>\n",
       "      <td>7316606.0</td>\n",
       "      <td>17963.31</td>\n",
       "      <td>18.0</td>\n",
       "      <td>59.0</td>\n",
       "      <td>59.0</td>\n",
       "      <td>smart</td>\n",
       "      <td>Пермь</td>\n",
       "    </tr>\n",
       "    <tr>\n",
       "      <th>3213</th>\n",
       "      <td>1499</td>\n",
       "      <td>12</td>\n",
       "      <td>492.0</td>\n",
       "      <td>6719082.0</td>\n",
       "      <td>13055.58</td>\n",
       "      <td>14.0</td>\n",
       "      <td>66.0</td>\n",
       "      <td>66.0</td>\n",
       "      <td>smart</td>\n",
       "      <td>Пермь</td>\n",
       "    </tr>\n",
       "  </tbody>\n",
       "</table>\n",
       "<p>3214 rows × 10 columns</p>\n",
       "</div>"
      ],
      "text/plain": [
       "      user_id  month  duration  Unnamed: 0   mb_used  gb_used    id  \\\n",
       "0        1000      5     159.0       443.0   2253.49      3.0  22.0   \n",
       "1        1000      6     172.0      5536.0  23233.77     24.0  60.0   \n",
       "2        1000      7     340.0      3504.0  14003.64     15.0  75.0   \n",
       "3        1000      8     408.0      2977.0  14055.93     15.0  81.0   \n",
       "4        1000      9     466.0      2746.0  14568.91     15.0  57.0   \n",
       "...       ...    ...       ...         ...       ...      ...   ...   \n",
       "3209     1498     10     247.0   8798268.0  20579.36     21.0  42.0   \n",
       "3210     1499      9      70.0    746608.0   1845.75      2.0  11.0   \n",
       "3211     1499     10     449.0   8660473.0  17788.51     18.0  48.0   \n",
       "3212     1499     11     612.0   7316606.0  17963.31     18.0  59.0   \n",
       "3213     1499     12     492.0   6719082.0  13055.58     14.0  66.0   \n",
       "\n",
       "      message_date tariff         city  \n",
       "0             22.0  ultra    Краснодар  \n",
       "1             60.0  ultra    Краснодар  \n",
       "2             75.0  ultra    Краснодар  \n",
       "3             81.0  ultra    Краснодар  \n",
       "4             57.0  ultra    Краснодар  \n",
       "...            ...    ...          ...  \n",
       "3209          42.0  smart  Владикавказ  \n",
       "3210          11.0  smart        Пермь  \n",
       "3211          48.0  smart        Пермь  \n",
       "3212          59.0  smart        Пермь  \n",
       "3213          66.0  smart        Пермь  \n",
       "\n",
       "[3214 rows x 10 columns]"
      ]
     },
     "execution_count": 29,
     "metadata": {},
     "output_type": "execute_result"
    }
   ],
   "source": [
    "df_new"
   ]
  },
  {
   "cell_type": "markdown",
   "metadata": {},
   "source": [
    "Думаю колонки 'Unnamed: 0', 'id', 'mb_used' не имеют ценности для анализа и их можно удалить из датафрейма."
   ]
  },
  {
   "cell_type": "code",
   "execution_count": 30,
   "metadata": {},
   "outputs": [],
   "source": [
    "df_new = df_new.drop(['Unnamed: 0', 'id', 'mb_used'], axis=1)"
   ]
  },
  {
   "cell_type": "markdown",
   "metadata": {},
   "source": [
    "И посмотрим"
   ]
  },
  {
   "cell_type": "code",
   "execution_count": 31,
   "metadata": {
    "scrolled": true
   },
   "outputs": [
    {
     "data": {
      "text/html": [
       "<div>\n",
       "<style scoped>\n",
       "    .dataframe tbody tr th:only-of-type {\n",
       "        vertical-align: middle;\n",
       "    }\n",
       "\n",
       "    .dataframe tbody tr th {\n",
       "        vertical-align: top;\n",
       "    }\n",
       "\n",
       "    .dataframe thead th {\n",
       "        text-align: right;\n",
       "    }\n",
       "</style>\n",
       "<table border=\"1\" class=\"dataframe\">\n",
       "  <thead>\n",
       "    <tr style=\"text-align: right;\">\n",
       "      <th></th>\n",
       "      <th>user_id</th>\n",
       "      <th>month</th>\n",
       "      <th>duration</th>\n",
       "      <th>gb_used</th>\n",
       "      <th>message_date</th>\n",
       "      <th>tariff</th>\n",
       "      <th>city</th>\n",
       "    </tr>\n",
       "  </thead>\n",
       "  <tbody>\n",
       "    <tr>\n",
       "      <th>0</th>\n",
       "      <td>1000</td>\n",
       "      <td>5</td>\n",
       "      <td>159.0</td>\n",
       "      <td>3.0</td>\n",
       "      <td>22.0</td>\n",
       "      <td>ultra</td>\n",
       "      <td>Краснодар</td>\n",
       "    </tr>\n",
       "    <tr>\n",
       "      <th>1</th>\n",
       "      <td>1000</td>\n",
       "      <td>6</td>\n",
       "      <td>172.0</td>\n",
       "      <td>24.0</td>\n",
       "      <td>60.0</td>\n",
       "      <td>ultra</td>\n",
       "      <td>Краснодар</td>\n",
       "    </tr>\n",
       "    <tr>\n",
       "      <th>2</th>\n",
       "      <td>1000</td>\n",
       "      <td>7</td>\n",
       "      <td>340.0</td>\n",
       "      <td>15.0</td>\n",
       "      <td>75.0</td>\n",
       "      <td>ultra</td>\n",
       "      <td>Краснодар</td>\n",
       "    </tr>\n",
       "    <tr>\n",
       "      <th>3</th>\n",
       "      <td>1000</td>\n",
       "      <td>8</td>\n",
       "      <td>408.0</td>\n",
       "      <td>15.0</td>\n",
       "      <td>81.0</td>\n",
       "      <td>ultra</td>\n",
       "      <td>Краснодар</td>\n",
       "    </tr>\n",
       "    <tr>\n",
       "      <th>4</th>\n",
       "      <td>1000</td>\n",
       "      <td>9</td>\n",
       "      <td>466.0</td>\n",
       "      <td>15.0</td>\n",
       "      <td>57.0</td>\n",
       "      <td>ultra</td>\n",
       "      <td>Краснодар</td>\n",
       "    </tr>\n",
       "    <tr>\n",
       "      <th>...</th>\n",
       "      <td>...</td>\n",
       "      <td>...</td>\n",
       "      <td>...</td>\n",
       "      <td>...</td>\n",
       "      <td>...</td>\n",
       "      <td>...</td>\n",
       "      <td>...</td>\n",
       "    </tr>\n",
       "    <tr>\n",
       "      <th>3209</th>\n",
       "      <td>1498</td>\n",
       "      <td>10</td>\n",
       "      <td>247.0</td>\n",
       "      <td>21.0</td>\n",
       "      <td>42.0</td>\n",
       "      <td>smart</td>\n",
       "      <td>Владикавказ</td>\n",
       "    </tr>\n",
       "    <tr>\n",
       "      <th>3210</th>\n",
       "      <td>1499</td>\n",
       "      <td>9</td>\n",
       "      <td>70.0</td>\n",
       "      <td>2.0</td>\n",
       "      <td>11.0</td>\n",
       "      <td>smart</td>\n",
       "      <td>Пермь</td>\n",
       "    </tr>\n",
       "    <tr>\n",
       "      <th>3211</th>\n",
       "      <td>1499</td>\n",
       "      <td>10</td>\n",
       "      <td>449.0</td>\n",
       "      <td>18.0</td>\n",
       "      <td>48.0</td>\n",
       "      <td>smart</td>\n",
       "      <td>Пермь</td>\n",
       "    </tr>\n",
       "    <tr>\n",
       "      <th>3212</th>\n",
       "      <td>1499</td>\n",
       "      <td>11</td>\n",
       "      <td>612.0</td>\n",
       "      <td>18.0</td>\n",
       "      <td>59.0</td>\n",
       "      <td>smart</td>\n",
       "      <td>Пермь</td>\n",
       "    </tr>\n",
       "    <tr>\n",
       "      <th>3213</th>\n",
       "      <td>1499</td>\n",
       "      <td>12</td>\n",
       "      <td>492.0</td>\n",
       "      <td>14.0</td>\n",
       "      <td>66.0</td>\n",
       "      <td>smart</td>\n",
       "      <td>Пермь</td>\n",
       "    </tr>\n",
       "  </tbody>\n",
       "</table>\n",
       "<p>3214 rows × 7 columns</p>\n",
       "</div>"
      ],
      "text/plain": [
       "      user_id  month  duration  gb_used  message_date tariff         city\n",
       "0        1000      5     159.0      3.0          22.0  ultra    Краснодар\n",
       "1        1000      6     172.0     24.0          60.0  ultra    Краснодар\n",
       "2        1000      7     340.0     15.0          75.0  ultra    Краснодар\n",
       "3        1000      8     408.0     15.0          81.0  ultra    Краснодар\n",
       "4        1000      9     466.0     15.0          57.0  ultra    Краснодар\n",
       "...       ...    ...       ...      ...           ...    ...          ...\n",
       "3209     1498     10     247.0     21.0          42.0  smart  Владикавказ\n",
       "3210     1499      9      70.0      2.0          11.0  smart        Пермь\n",
       "3211     1499     10     449.0     18.0          48.0  smart        Пермь\n",
       "3212     1499     11     612.0     18.0          59.0  smart        Пермь\n",
       "3213     1499     12     492.0     14.0          66.0  smart        Пермь\n",
       "\n",
       "[3214 rows x 7 columns]"
      ]
     },
     "execution_count": 31,
     "metadata": {},
     "output_type": "execute_result"
    }
   ],
   "source": [
    "df_new"
   ]
  },
  {
   "cell_type": "markdown",
   "metadata": {},
   "source": [
    "Так лучше"
   ]
  },
  {
   "cell_type": "markdown",
   "metadata": {},
   "source": [
    "### 2.5. Обработка пропусков"
   ]
  },
  {
   "cell_type": "code",
   "execution_count": 32,
   "metadata": {},
   "outputs": [
    {
     "data": {
      "text/plain": [
       "user_id           0\n",
       "month             0\n",
       "duration         40\n",
       "gb_used          11\n",
       "message_date    497\n",
       "tariff            0\n",
       "city              0\n",
       "dtype: int64"
      ]
     },
     "execution_count": 32,
     "metadata": {},
     "output_type": "execute_result"
    }
   ],
   "source": [
    "df_new.isna().sum()"
   ]
  },
  {
   "cell_type": "markdown",
   "metadata": {},
   "source": [
    "В колонках gb_used и message_date есть пропущенные значения. Почти уверен, что пропуски вызваны обычным отсутствием обращений пользователей к данным услугам. Следовательно, будет логичным заменить пропуски нулями."
   ]
  },
  {
   "cell_type": "code",
   "execution_count": 33,
   "metadata": {},
   "outputs": [],
   "source": [
    "df_new['gb_used'] = df_new['gb_used'].fillna(0)\n"
   ]
  },
  {
   "cell_type": "code",
   "execution_count": 34,
   "metadata": {},
   "outputs": [],
   "source": [
    "df_new['message_date'] = df_new['message_date'].fillna(0)\n"
   ]
  },
  {
   "cell_type": "markdown",
   "metadata": {},
   "source": [
    "<div class=\"alert alert-danger\">\n",
    "    \n",
    "<b> Комментарий от ревьюера ❗</b>\n",
    "    \n",
    "После того, как поправишь объединение таблиц, появятся пропуски в duration. Обрати на это внимание, пожалуйста.\n",
    "\n",
    "</div>"
   ]
  },
  {
   "cell_type": "markdown",
   "metadata": {},
   "source": [
    "<div class=\"alert alert-info\">\n",
    "А вот и они. Те самые 40 пропусков(строк) в столбце 'duration'"
   ]
  },
  {
   "cell_type": "markdown",
   "metadata": {},
   "source": [
    "<div class=\"alert alert-info\">\n",
    "Заменим пропуски нулями"
   ]
  },
  {
   "cell_type": "code",
   "execution_count": 35,
   "metadata": {},
   "outputs": [],
   "source": [
    "df_new['duration'] = df_new['duration'].fillna(0)\n"
   ]
  },
  {
   "cell_type": "markdown",
   "metadata": {},
   "source": [
    "<div class=\"alert alert-success\">\n",
    "    \n",
    "<b> Комментарий от ревьюера 2 ✔️</b>\n",
    "\n",
    "Все верно\n",
    "\n",
    "</div>"
   ]
  },
  {
   "cell_type": "markdown",
   "metadata": {},
   "source": [
    "### 2.6. Обработка данных по тарифам"
   ]
  },
  {
   "cell_type": "markdown",
   "metadata": {},
   "source": [
    "#### 2.6.1. Тариф smart"
   ]
  },
  {
   "cell_type": "markdown",
   "metadata": {},
   "source": [
    "Разделю таблицу на две по тарифам, так как на начальном этапе планирую внвлизировать данные отдельно"
   ]
  },
  {
   "cell_type": "code",
   "execution_count": 36,
   "metadata": {
    "scrolled": true
   },
   "outputs": [
    {
     "data": {
      "text/html": [
       "<div>\n",
       "<style scoped>\n",
       "    .dataframe tbody tr th:only-of-type {\n",
       "        vertical-align: middle;\n",
       "    }\n",
       "\n",
       "    .dataframe tbody tr th {\n",
       "        vertical-align: top;\n",
       "    }\n",
       "\n",
       "    .dataframe thead th {\n",
       "        text-align: right;\n",
       "    }\n",
       "</style>\n",
       "<table border=\"1\" class=\"dataframe\">\n",
       "  <thead>\n",
       "    <tr style=\"text-align: right;\">\n",
       "      <th></th>\n",
       "      <th>user_id</th>\n",
       "      <th>month</th>\n",
       "      <th>duration</th>\n",
       "      <th>gb_used</th>\n",
       "      <th>message_date</th>\n",
       "      <th>tariff</th>\n",
       "      <th>city</th>\n",
       "    </tr>\n",
       "  </thead>\n",
       "  <tbody>\n",
       "    <tr>\n",
       "      <th>8</th>\n",
       "      <td>1001</td>\n",
       "      <td>11</td>\n",
       "      <td>430.0</td>\n",
       "      <td>19.0</td>\n",
       "      <td>0.0</td>\n",
       "      <td>smart</td>\n",
       "      <td>Москва</td>\n",
       "    </tr>\n",
       "    <tr>\n",
       "      <th>9</th>\n",
       "      <td>1001</td>\n",
       "      <td>12</td>\n",
       "      <td>414.0</td>\n",
       "      <td>15.0</td>\n",
       "      <td>0.0</td>\n",
       "      <td>smart</td>\n",
       "      <td>Москва</td>\n",
       "    </tr>\n",
       "    <tr>\n",
       "      <th>10</th>\n",
       "      <td>1002</td>\n",
       "      <td>6</td>\n",
       "      <td>117.0</td>\n",
       "      <td>11.0</td>\n",
       "      <td>4.0</td>\n",
       "      <td>smart</td>\n",
       "      <td>Стерлитамак</td>\n",
       "    </tr>\n",
       "    <tr>\n",
       "      <th>11</th>\n",
       "      <td>1002</td>\n",
       "      <td>7</td>\n",
       "      <td>214.0</td>\n",
       "      <td>18.0</td>\n",
       "      <td>11.0</td>\n",
       "      <td>smart</td>\n",
       "      <td>Стерлитамак</td>\n",
       "    </tr>\n",
       "    <tr>\n",
       "      <th>12</th>\n",
       "      <td>1002</td>\n",
       "      <td>8</td>\n",
       "      <td>289.0</td>\n",
       "      <td>21.0</td>\n",
       "      <td>13.0</td>\n",
       "      <td>smart</td>\n",
       "      <td>Стерлитамак</td>\n",
       "    </tr>\n",
       "    <tr>\n",
       "      <th>...</th>\n",
       "      <td>...</td>\n",
       "      <td>...</td>\n",
       "      <td>...</td>\n",
       "      <td>...</td>\n",
       "      <td>...</td>\n",
       "      <td>...</td>\n",
       "      <td>...</td>\n",
       "    </tr>\n",
       "    <tr>\n",
       "      <th>3209</th>\n",
       "      <td>1498</td>\n",
       "      <td>10</td>\n",
       "      <td>247.0</td>\n",
       "      <td>21.0</td>\n",
       "      <td>42.0</td>\n",
       "      <td>smart</td>\n",
       "      <td>Владикавказ</td>\n",
       "    </tr>\n",
       "    <tr>\n",
       "      <th>3210</th>\n",
       "      <td>1499</td>\n",
       "      <td>9</td>\n",
       "      <td>70.0</td>\n",
       "      <td>2.0</td>\n",
       "      <td>11.0</td>\n",
       "      <td>smart</td>\n",
       "      <td>Пермь</td>\n",
       "    </tr>\n",
       "    <tr>\n",
       "      <th>3211</th>\n",
       "      <td>1499</td>\n",
       "      <td>10</td>\n",
       "      <td>449.0</td>\n",
       "      <td>18.0</td>\n",
       "      <td>48.0</td>\n",
       "      <td>smart</td>\n",
       "      <td>Пермь</td>\n",
       "    </tr>\n",
       "    <tr>\n",
       "      <th>3212</th>\n",
       "      <td>1499</td>\n",
       "      <td>11</td>\n",
       "      <td>612.0</td>\n",
       "      <td>18.0</td>\n",
       "      <td>59.0</td>\n",
       "      <td>smart</td>\n",
       "      <td>Пермь</td>\n",
       "    </tr>\n",
       "    <tr>\n",
       "      <th>3213</th>\n",
       "      <td>1499</td>\n",
       "      <td>12</td>\n",
       "      <td>492.0</td>\n",
       "      <td>14.0</td>\n",
       "      <td>66.0</td>\n",
       "      <td>smart</td>\n",
       "      <td>Пермь</td>\n",
       "    </tr>\n",
       "  </tbody>\n",
       "</table>\n",
       "<p>2229 rows × 7 columns</p>\n",
       "</div>"
      ],
      "text/plain": [
       "      user_id  month  duration  gb_used  message_date tariff         city\n",
       "8        1001     11     430.0     19.0           0.0  smart       Москва\n",
       "9        1001     12     414.0     15.0           0.0  smart       Москва\n",
       "10       1002      6     117.0     11.0           4.0  smart  Стерлитамак\n",
       "11       1002      7     214.0     18.0          11.0  smart  Стерлитамак\n",
       "12       1002      8     289.0     21.0          13.0  smart  Стерлитамак\n",
       "...       ...    ...       ...      ...           ...    ...          ...\n",
       "3209     1498     10     247.0     21.0          42.0  smart  Владикавказ\n",
       "3210     1499      9      70.0      2.0          11.0  smart        Пермь\n",
       "3211     1499     10     449.0     18.0          48.0  smart        Пермь\n",
       "3212     1499     11     612.0     18.0          59.0  smart        Пермь\n",
       "3213     1499     12     492.0     14.0          66.0  smart        Пермь\n",
       "\n",
       "[2229 rows x 7 columns]"
      ]
     },
     "execution_count": 36,
     "metadata": {},
     "output_type": "execute_result"
    }
   ],
   "source": [
    "df_smart = df_new.query('tariff == \"smart\"')\n",
    "df_smart"
   ]
  },
  {
   "cell_type": "code",
   "execution_count": 37,
   "metadata": {},
   "outputs": [],
   "source": [
    "import warnings\n",
    "warnings.filterwarnings(\"ignore\")"
   ]
  },
  {
   "cell_type": "markdown",
   "metadata": {},
   "source": [
    "Так как задача исследования оценить прибыль компании с каждого пользователя по месяцам, добавим несколько колонок включающие стоимость тарифа, а так же стоимость пользования услугами сверх тарифа."
   ]
  },
  {
   "cell_type": "markdown",
   "metadata": {},
   "source": [
    "<div class=\"alert alert-info\">\n",
    "Еще раз откроем таблицу с условиями тарифов"
   ]
  },
  {
   "cell_type": "code",
   "execution_count": 38,
   "metadata": {},
   "outputs": [
    {
     "data": {
      "text/html": [
       "<div>\n",
       "<style scoped>\n",
       "    .dataframe tbody tr th:only-of-type {\n",
       "        vertical-align: middle;\n",
       "    }\n",
       "\n",
       "    .dataframe tbody tr th {\n",
       "        vertical-align: top;\n",
       "    }\n",
       "\n",
       "    .dataframe thead th {\n",
       "        text-align: right;\n",
       "    }\n",
       "</style>\n",
       "<table border=\"1\" class=\"dataframe\">\n",
       "  <thead>\n",
       "    <tr style=\"text-align: right;\">\n",
       "      <th></th>\n",
       "      <th>messages_included</th>\n",
       "      <th>mb_per_month_included</th>\n",
       "      <th>minutes_included</th>\n",
       "      <th>rub_monthly_fee</th>\n",
       "      <th>rub_per_gb</th>\n",
       "      <th>rub_per_message</th>\n",
       "      <th>rub_per_minute</th>\n",
       "      <th>tariff_name</th>\n",
       "    </tr>\n",
       "  </thead>\n",
       "  <tbody>\n",
       "    <tr>\n",
       "      <th>0</th>\n",
       "      <td>50</td>\n",
       "      <td>15360</td>\n",
       "      <td>500</td>\n",
       "      <td>550</td>\n",
       "      <td>200</td>\n",
       "      <td>3</td>\n",
       "      <td>3</td>\n",
       "      <td>smart</td>\n",
       "    </tr>\n",
       "    <tr>\n",
       "      <th>1</th>\n",
       "      <td>1000</td>\n",
       "      <td>30720</td>\n",
       "      <td>3000</td>\n",
       "      <td>1950</td>\n",
       "      <td>150</td>\n",
       "      <td>1</td>\n",
       "      <td>1</td>\n",
       "      <td>ultra</td>\n",
       "    </tr>\n",
       "  </tbody>\n",
       "</table>\n",
       "</div>"
      ],
      "text/plain": [
       "   messages_included  mb_per_month_included  minutes_included  \\\n",
       "0                 50                  15360               500   \n",
       "1               1000                  30720              3000   \n",
       "\n",
       "   rub_monthly_fee  rub_per_gb  rub_per_message  rub_per_minute tariff_name  \n",
       "0              550         200                3               3       smart  \n",
       "1             1950         150                1               1       ultra  "
      ]
     },
     "execution_count": 38,
     "metadata": {},
     "output_type": "execute_result"
    }
   ],
   "source": [
    "df_tarrifs"
   ]
  },
  {
   "cell_type": "code",
   "execution_count": 39,
   "metadata": {},
   "outputs": [
    {
     "data": {
      "text/html": [
       "<div>\n",
       "<style scoped>\n",
       "    .dataframe tbody tr th:only-of-type {\n",
       "        vertical-align: middle;\n",
       "    }\n",
       "\n",
       "    .dataframe tbody tr th {\n",
       "        vertical-align: top;\n",
       "    }\n",
       "\n",
       "    .dataframe thead th {\n",
       "        text-align: right;\n",
       "    }\n",
       "</style>\n",
       "<table border=\"1\" class=\"dataframe\">\n",
       "  <thead>\n",
       "    <tr style=\"text-align: right;\">\n",
       "      <th></th>\n",
       "      <th>user_id</th>\n",
       "      <th>month</th>\n",
       "      <th>duration</th>\n",
       "      <th>gb_used</th>\n",
       "      <th>message_date</th>\n",
       "      <th>tariff</th>\n",
       "      <th>city</th>\n",
       "      <th>tariff_cost</th>\n",
       "      <th>min_add</th>\n",
       "    </tr>\n",
       "  </thead>\n",
       "  <tbody>\n",
       "    <tr>\n",
       "      <th>8</th>\n",
       "      <td>1001</td>\n",
       "      <td>11</td>\n",
       "      <td>430.0</td>\n",
       "      <td>19.0</td>\n",
       "      <td>0.0</td>\n",
       "      <td>smart</td>\n",
       "      <td>Москва</td>\n",
       "      <td>550</td>\n",
       "      <td>0.0</td>\n",
       "    </tr>\n",
       "    <tr>\n",
       "      <th>9</th>\n",
       "      <td>1001</td>\n",
       "      <td>12</td>\n",
       "      <td>414.0</td>\n",
       "      <td>15.0</td>\n",
       "      <td>0.0</td>\n",
       "      <td>smart</td>\n",
       "      <td>Москва</td>\n",
       "      <td>550</td>\n",
       "      <td>0.0</td>\n",
       "    </tr>\n",
       "    <tr>\n",
       "      <th>10</th>\n",
       "      <td>1002</td>\n",
       "      <td>6</td>\n",
       "      <td>117.0</td>\n",
       "      <td>11.0</td>\n",
       "      <td>4.0</td>\n",
       "      <td>smart</td>\n",
       "      <td>Стерлитамак</td>\n",
       "      <td>550</td>\n",
       "      <td>0.0</td>\n",
       "    </tr>\n",
       "    <tr>\n",
       "      <th>11</th>\n",
       "      <td>1002</td>\n",
       "      <td>7</td>\n",
       "      <td>214.0</td>\n",
       "      <td>18.0</td>\n",
       "      <td>11.0</td>\n",
       "      <td>smart</td>\n",
       "      <td>Стерлитамак</td>\n",
       "      <td>550</td>\n",
       "      <td>0.0</td>\n",
       "    </tr>\n",
       "    <tr>\n",
       "      <th>12</th>\n",
       "      <td>1002</td>\n",
       "      <td>8</td>\n",
       "      <td>289.0</td>\n",
       "      <td>21.0</td>\n",
       "      <td>13.0</td>\n",
       "      <td>smart</td>\n",
       "      <td>Стерлитамак</td>\n",
       "      <td>550</td>\n",
       "      <td>0.0</td>\n",
       "    </tr>\n",
       "    <tr>\n",
       "      <th>...</th>\n",
       "      <td>...</td>\n",
       "      <td>...</td>\n",
       "      <td>...</td>\n",
       "      <td>...</td>\n",
       "      <td>...</td>\n",
       "      <td>...</td>\n",
       "      <td>...</td>\n",
       "      <td>...</td>\n",
       "      <td>...</td>\n",
       "    </tr>\n",
       "    <tr>\n",
       "      <th>3209</th>\n",
       "      <td>1498</td>\n",
       "      <td>10</td>\n",
       "      <td>247.0</td>\n",
       "      <td>21.0</td>\n",
       "      <td>42.0</td>\n",
       "      <td>smart</td>\n",
       "      <td>Владикавказ</td>\n",
       "      <td>550</td>\n",
       "      <td>0.0</td>\n",
       "    </tr>\n",
       "    <tr>\n",
       "      <th>3210</th>\n",
       "      <td>1499</td>\n",
       "      <td>9</td>\n",
       "      <td>70.0</td>\n",
       "      <td>2.0</td>\n",
       "      <td>11.0</td>\n",
       "      <td>smart</td>\n",
       "      <td>Пермь</td>\n",
       "      <td>550</td>\n",
       "      <td>0.0</td>\n",
       "    </tr>\n",
       "    <tr>\n",
       "      <th>3211</th>\n",
       "      <td>1499</td>\n",
       "      <td>10</td>\n",
       "      <td>449.0</td>\n",
       "      <td>18.0</td>\n",
       "      <td>48.0</td>\n",
       "      <td>smart</td>\n",
       "      <td>Пермь</td>\n",
       "      <td>550</td>\n",
       "      <td>0.0</td>\n",
       "    </tr>\n",
       "    <tr>\n",
       "      <th>3212</th>\n",
       "      <td>1499</td>\n",
       "      <td>11</td>\n",
       "      <td>612.0</td>\n",
       "      <td>18.0</td>\n",
       "      <td>59.0</td>\n",
       "      <td>smart</td>\n",
       "      <td>Пермь</td>\n",
       "      <td>550</td>\n",
       "      <td>336.0</td>\n",
       "    </tr>\n",
       "    <tr>\n",
       "      <th>3213</th>\n",
       "      <td>1499</td>\n",
       "      <td>12</td>\n",
       "      <td>492.0</td>\n",
       "      <td>14.0</td>\n",
       "      <td>66.0</td>\n",
       "      <td>smart</td>\n",
       "      <td>Пермь</td>\n",
       "      <td>550</td>\n",
       "      <td>0.0</td>\n",
       "    </tr>\n",
       "  </tbody>\n",
       "</table>\n",
       "<p>2229 rows × 9 columns</p>\n",
       "</div>"
      ],
      "text/plain": [
       "      user_id  month  duration  gb_used  message_date tariff         city  \\\n",
       "8        1001     11     430.0     19.0           0.0  smart       Москва   \n",
       "9        1001     12     414.0     15.0           0.0  smart       Москва   \n",
       "10       1002      6     117.0     11.0           4.0  smart  Стерлитамак   \n",
       "11       1002      7     214.0     18.0          11.0  smart  Стерлитамак   \n",
       "12       1002      8     289.0     21.0          13.0  smart  Стерлитамак   \n",
       "...       ...    ...       ...      ...           ...    ...          ...   \n",
       "3209     1498     10     247.0     21.0          42.0  smart  Владикавказ   \n",
       "3210     1499      9      70.0      2.0          11.0  smart        Пермь   \n",
       "3211     1499     10     449.0     18.0          48.0  smart        Пермь   \n",
       "3212     1499     11     612.0     18.0          59.0  smart        Пермь   \n",
       "3213     1499     12     492.0     14.0          66.0  smart        Пермь   \n",
       "\n",
       "      tariff_cost  min_add  \n",
       "8             550      0.0  \n",
       "9             550      0.0  \n",
       "10            550      0.0  \n",
       "11            550      0.0  \n",
       "12            550      0.0  \n",
       "...           ...      ...  \n",
       "3209          550      0.0  \n",
       "3210          550      0.0  \n",
       "3211          550      0.0  \n",
       "3212          550    336.0  \n",
       "3213          550      0.0  \n",
       "\n",
       "[2229 rows x 9 columns]"
      ]
     },
     "execution_count": 39,
     "metadata": {},
     "output_type": "execute_result"
    }
   ],
   "source": [
    "df_smart['tariff_cost'] = df_tarrifs.loc[0, 'rub_monthly_fee']\n",
    "df_smart['min_add'] = (\n",
    "    df_smart['duration'] - df_tarrifs.loc[0, 'minutes_included']) * df_tarrifs.loc[0, 'rub_per_minute']\n",
    "df_smart.loc[df_smart['min_add'] < 0, 'min_add'] = 0\n",
    "df_smart"
   ]
  },
  {
   "cell_type": "markdown",
   "metadata": {},
   "source": [
    "<div class=\"alert alert-warning\">\n",
    "    \n",
    "<b> Комментарий от ревьюера ⚠️</b>\n",
    "    \n",
    "Лучше брать лимиты и стоимость услуг из таблицы df_tarrifs, иначе оператор может изменить условия тарифов, и у нас появится ошибка в коде\n",
    "</div>"
   ]
  },
  {
   "cell_type": "markdown",
   "metadata": {},
   "source": [
    "<div class=\"alert alert-info\">\n",
    "Это очень логично. Хотя немного усложняет. Спасибо"
   ]
  },
  {
   "cell_type": "markdown",
   "metadata": {},
   "source": [
    "<div class=\"alert alert-info\">\n",
    "Скорректирую данные для всех добавляемых столбцов"
   ]
  },
  {
   "cell_type": "markdown",
   "metadata": {},
   "source": [
    "<div class=\"alert alert-success\">\n",
    "    \n",
    "<b> Комментарий от ревьюера 2 ✔️</b>\n",
    "\n",
    "Здорово, что поправил код\n",
    "\n",
    "</div>"
   ]
  },
  {
   "cell_type": "code",
   "execution_count": 40,
   "metadata": {},
   "outputs": [
    {
     "data": {
      "text/html": [
       "<div>\n",
       "<style scoped>\n",
       "    .dataframe tbody tr th:only-of-type {\n",
       "        vertical-align: middle;\n",
       "    }\n",
       "\n",
       "    .dataframe tbody tr th {\n",
       "        vertical-align: top;\n",
       "    }\n",
       "\n",
       "    .dataframe thead th {\n",
       "        text-align: right;\n",
       "    }\n",
       "</style>\n",
       "<table border=\"1\" class=\"dataframe\">\n",
       "  <thead>\n",
       "    <tr style=\"text-align: right;\">\n",
       "      <th></th>\n",
       "      <th>user_id</th>\n",
       "      <th>month</th>\n",
       "      <th>duration</th>\n",
       "      <th>gb_used</th>\n",
       "      <th>message_date</th>\n",
       "      <th>tariff</th>\n",
       "      <th>city</th>\n",
       "      <th>tariff_cost</th>\n",
       "      <th>min_add</th>\n",
       "      <th>gb_add</th>\n",
       "    </tr>\n",
       "  </thead>\n",
       "  <tbody>\n",
       "    <tr>\n",
       "      <th>8</th>\n",
       "      <td>1001</td>\n",
       "      <td>11</td>\n",
       "      <td>430.0</td>\n",
       "      <td>19.0</td>\n",
       "      <td>0.0</td>\n",
       "      <td>smart</td>\n",
       "      <td>Москва</td>\n",
       "      <td>550</td>\n",
       "      <td>0.0</td>\n",
       "      <td>800.0</td>\n",
       "    </tr>\n",
       "    <tr>\n",
       "      <th>9</th>\n",
       "      <td>1001</td>\n",
       "      <td>12</td>\n",
       "      <td>414.0</td>\n",
       "      <td>15.0</td>\n",
       "      <td>0.0</td>\n",
       "      <td>smart</td>\n",
       "      <td>Москва</td>\n",
       "      <td>550</td>\n",
       "      <td>0.0</td>\n",
       "      <td>0.0</td>\n",
       "    </tr>\n",
       "    <tr>\n",
       "      <th>10</th>\n",
       "      <td>1002</td>\n",
       "      <td>6</td>\n",
       "      <td>117.0</td>\n",
       "      <td>11.0</td>\n",
       "      <td>4.0</td>\n",
       "      <td>smart</td>\n",
       "      <td>Стерлитамак</td>\n",
       "      <td>550</td>\n",
       "      <td>0.0</td>\n",
       "      <td>0.0</td>\n",
       "    </tr>\n",
       "    <tr>\n",
       "      <th>11</th>\n",
       "      <td>1002</td>\n",
       "      <td>7</td>\n",
       "      <td>214.0</td>\n",
       "      <td>18.0</td>\n",
       "      <td>11.0</td>\n",
       "      <td>smart</td>\n",
       "      <td>Стерлитамак</td>\n",
       "      <td>550</td>\n",
       "      <td>0.0</td>\n",
       "      <td>600.0</td>\n",
       "    </tr>\n",
       "    <tr>\n",
       "      <th>12</th>\n",
       "      <td>1002</td>\n",
       "      <td>8</td>\n",
       "      <td>289.0</td>\n",
       "      <td>21.0</td>\n",
       "      <td>13.0</td>\n",
       "      <td>smart</td>\n",
       "      <td>Стерлитамак</td>\n",
       "      <td>550</td>\n",
       "      <td>0.0</td>\n",
       "      <td>1200.0</td>\n",
       "    </tr>\n",
       "    <tr>\n",
       "      <th>...</th>\n",
       "      <td>...</td>\n",
       "      <td>...</td>\n",
       "      <td>...</td>\n",
       "      <td>...</td>\n",
       "      <td>...</td>\n",
       "      <td>...</td>\n",
       "      <td>...</td>\n",
       "      <td>...</td>\n",
       "      <td>...</td>\n",
       "      <td>...</td>\n",
       "    </tr>\n",
       "    <tr>\n",
       "      <th>3209</th>\n",
       "      <td>1498</td>\n",
       "      <td>10</td>\n",
       "      <td>247.0</td>\n",
       "      <td>21.0</td>\n",
       "      <td>42.0</td>\n",
       "      <td>smart</td>\n",
       "      <td>Владикавказ</td>\n",
       "      <td>550</td>\n",
       "      <td>0.0</td>\n",
       "      <td>1200.0</td>\n",
       "    </tr>\n",
       "    <tr>\n",
       "      <th>3210</th>\n",
       "      <td>1499</td>\n",
       "      <td>9</td>\n",
       "      <td>70.0</td>\n",
       "      <td>2.0</td>\n",
       "      <td>11.0</td>\n",
       "      <td>smart</td>\n",
       "      <td>Пермь</td>\n",
       "      <td>550</td>\n",
       "      <td>0.0</td>\n",
       "      <td>0.0</td>\n",
       "    </tr>\n",
       "    <tr>\n",
       "      <th>3211</th>\n",
       "      <td>1499</td>\n",
       "      <td>10</td>\n",
       "      <td>449.0</td>\n",
       "      <td>18.0</td>\n",
       "      <td>48.0</td>\n",
       "      <td>smart</td>\n",
       "      <td>Пермь</td>\n",
       "      <td>550</td>\n",
       "      <td>0.0</td>\n",
       "      <td>600.0</td>\n",
       "    </tr>\n",
       "    <tr>\n",
       "      <th>3212</th>\n",
       "      <td>1499</td>\n",
       "      <td>11</td>\n",
       "      <td>612.0</td>\n",
       "      <td>18.0</td>\n",
       "      <td>59.0</td>\n",
       "      <td>smart</td>\n",
       "      <td>Пермь</td>\n",
       "      <td>550</td>\n",
       "      <td>336.0</td>\n",
       "      <td>600.0</td>\n",
       "    </tr>\n",
       "    <tr>\n",
       "      <th>3213</th>\n",
       "      <td>1499</td>\n",
       "      <td>12</td>\n",
       "      <td>492.0</td>\n",
       "      <td>14.0</td>\n",
       "      <td>66.0</td>\n",
       "      <td>smart</td>\n",
       "      <td>Пермь</td>\n",
       "      <td>550</td>\n",
       "      <td>0.0</td>\n",
       "      <td>0.0</td>\n",
       "    </tr>\n",
       "  </tbody>\n",
       "</table>\n",
       "<p>2229 rows × 10 columns</p>\n",
       "</div>"
      ],
      "text/plain": [
       "      user_id  month  duration  gb_used  message_date tariff         city  \\\n",
       "8        1001     11     430.0     19.0           0.0  smart       Москва   \n",
       "9        1001     12     414.0     15.0           0.0  smart       Москва   \n",
       "10       1002      6     117.0     11.0           4.0  smart  Стерлитамак   \n",
       "11       1002      7     214.0     18.0          11.0  smart  Стерлитамак   \n",
       "12       1002      8     289.0     21.0          13.0  smart  Стерлитамак   \n",
       "...       ...    ...       ...      ...           ...    ...          ...   \n",
       "3209     1498     10     247.0     21.0          42.0  smart  Владикавказ   \n",
       "3210     1499      9      70.0      2.0          11.0  smart        Пермь   \n",
       "3211     1499     10     449.0     18.0          48.0  smart        Пермь   \n",
       "3212     1499     11     612.0     18.0          59.0  smart        Пермь   \n",
       "3213     1499     12     492.0     14.0          66.0  smart        Пермь   \n",
       "\n",
       "      tariff_cost  min_add  gb_add  \n",
       "8             550      0.0   800.0  \n",
       "9             550      0.0     0.0  \n",
       "10            550      0.0     0.0  \n",
       "11            550      0.0   600.0  \n",
       "12            550      0.0  1200.0  \n",
       "...           ...      ...     ...  \n",
       "3209          550      0.0  1200.0  \n",
       "3210          550      0.0     0.0  \n",
       "3211          550      0.0   600.0  \n",
       "3212          550    336.0   600.0  \n",
       "3213          550      0.0     0.0  \n",
       "\n",
       "[2229 rows x 10 columns]"
      ]
     },
     "execution_count": 40,
     "metadata": {},
     "output_type": "execute_result"
    }
   ],
   "source": [
    "df_smart['gb_add'] = (\n",
    "    df_smart['gb_used'] - df_tarrifs.loc[0, 'mb_per_month_included'] / 1024) * df_tarrifs.loc[0, 'rub_per_gb']\n",
    "df_smart.loc[df_smart['gb_add'] < 0, 'gb_add'] = 0\n",
    "df_smart"
   ]
  },
  {
   "cell_type": "code",
   "execution_count": 41,
   "metadata": {},
   "outputs": [
    {
     "data": {
      "text/html": [
       "<div>\n",
       "<style scoped>\n",
       "    .dataframe tbody tr th:only-of-type {\n",
       "        vertical-align: middle;\n",
       "    }\n",
       "\n",
       "    .dataframe tbody tr th {\n",
       "        vertical-align: top;\n",
       "    }\n",
       "\n",
       "    .dataframe thead th {\n",
       "        text-align: right;\n",
       "    }\n",
       "</style>\n",
       "<table border=\"1\" class=\"dataframe\">\n",
       "  <thead>\n",
       "    <tr style=\"text-align: right;\">\n",
       "      <th></th>\n",
       "      <th>user_id</th>\n",
       "      <th>month</th>\n",
       "      <th>duration</th>\n",
       "      <th>gb_used</th>\n",
       "      <th>message_date</th>\n",
       "      <th>tariff</th>\n",
       "      <th>city</th>\n",
       "      <th>tariff_cost</th>\n",
       "      <th>min_add</th>\n",
       "      <th>gb_add</th>\n",
       "      <th>mes_add</th>\n",
       "    </tr>\n",
       "  </thead>\n",
       "  <tbody>\n",
       "    <tr>\n",
       "      <th>8</th>\n",
       "      <td>1001</td>\n",
       "      <td>11</td>\n",
       "      <td>430.0</td>\n",
       "      <td>19.0</td>\n",
       "      <td>0.0</td>\n",
       "      <td>smart</td>\n",
       "      <td>Москва</td>\n",
       "      <td>550</td>\n",
       "      <td>0.0</td>\n",
       "      <td>800.0</td>\n",
       "      <td>0.0</td>\n",
       "    </tr>\n",
       "    <tr>\n",
       "      <th>9</th>\n",
       "      <td>1001</td>\n",
       "      <td>12</td>\n",
       "      <td>414.0</td>\n",
       "      <td>15.0</td>\n",
       "      <td>0.0</td>\n",
       "      <td>smart</td>\n",
       "      <td>Москва</td>\n",
       "      <td>550</td>\n",
       "      <td>0.0</td>\n",
       "      <td>0.0</td>\n",
       "      <td>0.0</td>\n",
       "    </tr>\n",
       "    <tr>\n",
       "      <th>10</th>\n",
       "      <td>1002</td>\n",
       "      <td>6</td>\n",
       "      <td>117.0</td>\n",
       "      <td>11.0</td>\n",
       "      <td>4.0</td>\n",
       "      <td>smart</td>\n",
       "      <td>Стерлитамак</td>\n",
       "      <td>550</td>\n",
       "      <td>0.0</td>\n",
       "      <td>0.0</td>\n",
       "      <td>0.0</td>\n",
       "    </tr>\n",
       "    <tr>\n",
       "      <th>11</th>\n",
       "      <td>1002</td>\n",
       "      <td>7</td>\n",
       "      <td>214.0</td>\n",
       "      <td>18.0</td>\n",
       "      <td>11.0</td>\n",
       "      <td>smart</td>\n",
       "      <td>Стерлитамак</td>\n",
       "      <td>550</td>\n",
       "      <td>0.0</td>\n",
       "      <td>600.0</td>\n",
       "      <td>0.0</td>\n",
       "    </tr>\n",
       "    <tr>\n",
       "      <th>12</th>\n",
       "      <td>1002</td>\n",
       "      <td>8</td>\n",
       "      <td>289.0</td>\n",
       "      <td>21.0</td>\n",
       "      <td>13.0</td>\n",
       "      <td>smart</td>\n",
       "      <td>Стерлитамак</td>\n",
       "      <td>550</td>\n",
       "      <td>0.0</td>\n",
       "      <td>1200.0</td>\n",
       "      <td>0.0</td>\n",
       "    </tr>\n",
       "    <tr>\n",
       "      <th>...</th>\n",
       "      <td>...</td>\n",
       "      <td>...</td>\n",
       "      <td>...</td>\n",
       "      <td>...</td>\n",
       "      <td>...</td>\n",
       "      <td>...</td>\n",
       "      <td>...</td>\n",
       "      <td>...</td>\n",
       "      <td>...</td>\n",
       "      <td>...</td>\n",
       "      <td>...</td>\n",
       "    </tr>\n",
       "    <tr>\n",
       "      <th>3209</th>\n",
       "      <td>1498</td>\n",
       "      <td>10</td>\n",
       "      <td>247.0</td>\n",
       "      <td>21.0</td>\n",
       "      <td>42.0</td>\n",
       "      <td>smart</td>\n",
       "      <td>Владикавказ</td>\n",
       "      <td>550</td>\n",
       "      <td>0.0</td>\n",
       "      <td>1200.0</td>\n",
       "      <td>0.0</td>\n",
       "    </tr>\n",
       "    <tr>\n",
       "      <th>3210</th>\n",
       "      <td>1499</td>\n",
       "      <td>9</td>\n",
       "      <td>70.0</td>\n",
       "      <td>2.0</td>\n",
       "      <td>11.0</td>\n",
       "      <td>smart</td>\n",
       "      <td>Пермь</td>\n",
       "      <td>550</td>\n",
       "      <td>0.0</td>\n",
       "      <td>0.0</td>\n",
       "      <td>0.0</td>\n",
       "    </tr>\n",
       "    <tr>\n",
       "      <th>3211</th>\n",
       "      <td>1499</td>\n",
       "      <td>10</td>\n",
       "      <td>449.0</td>\n",
       "      <td>18.0</td>\n",
       "      <td>48.0</td>\n",
       "      <td>smart</td>\n",
       "      <td>Пермь</td>\n",
       "      <td>550</td>\n",
       "      <td>0.0</td>\n",
       "      <td>600.0</td>\n",
       "      <td>0.0</td>\n",
       "    </tr>\n",
       "    <tr>\n",
       "      <th>3212</th>\n",
       "      <td>1499</td>\n",
       "      <td>11</td>\n",
       "      <td>612.0</td>\n",
       "      <td>18.0</td>\n",
       "      <td>59.0</td>\n",
       "      <td>smart</td>\n",
       "      <td>Пермь</td>\n",
       "      <td>550</td>\n",
       "      <td>336.0</td>\n",
       "      <td>600.0</td>\n",
       "      <td>27.0</td>\n",
       "    </tr>\n",
       "    <tr>\n",
       "      <th>3213</th>\n",
       "      <td>1499</td>\n",
       "      <td>12</td>\n",
       "      <td>492.0</td>\n",
       "      <td>14.0</td>\n",
       "      <td>66.0</td>\n",
       "      <td>smart</td>\n",
       "      <td>Пермь</td>\n",
       "      <td>550</td>\n",
       "      <td>0.0</td>\n",
       "      <td>0.0</td>\n",
       "      <td>48.0</td>\n",
       "    </tr>\n",
       "  </tbody>\n",
       "</table>\n",
       "<p>2229 rows × 11 columns</p>\n",
       "</div>"
      ],
      "text/plain": [
       "      user_id  month  duration  gb_used  message_date tariff         city  \\\n",
       "8        1001     11     430.0     19.0           0.0  smart       Москва   \n",
       "9        1001     12     414.0     15.0           0.0  smart       Москва   \n",
       "10       1002      6     117.0     11.0           4.0  smart  Стерлитамак   \n",
       "11       1002      7     214.0     18.0          11.0  smart  Стерлитамак   \n",
       "12       1002      8     289.0     21.0          13.0  smart  Стерлитамак   \n",
       "...       ...    ...       ...      ...           ...    ...          ...   \n",
       "3209     1498     10     247.0     21.0          42.0  smart  Владикавказ   \n",
       "3210     1499      9      70.0      2.0          11.0  smart        Пермь   \n",
       "3211     1499     10     449.0     18.0          48.0  smart        Пермь   \n",
       "3212     1499     11     612.0     18.0          59.0  smart        Пермь   \n",
       "3213     1499     12     492.0     14.0          66.0  smart        Пермь   \n",
       "\n",
       "      tariff_cost  min_add  gb_add  mes_add  \n",
       "8             550      0.0   800.0      0.0  \n",
       "9             550      0.0     0.0      0.0  \n",
       "10            550      0.0     0.0      0.0  \n",
       "11            550      0.0   600.0      0.0  \n",
       "12            550      0.0  1200.0      0.0  \n",
       "...           ...      ...     ...      ...  \n",
       "3209          550      0.0  1200.0      0.0  \n",
       "3210          550      0.0     0.0      0.0  \n",
       "3211          550      0.0   600.0      0.0  \n",
       "3212          550    336.0   600.0     27.0  \n",
       "3213          550      0.0     0.0     48.0  \n",
       "\n",
       "[2229 rows x 11 columns]"
      ]
     },
     "execution_count": 41,
     "metadata": {},
     "output_type": "execute_result"
    }
   ],
   "source": [
    "df_smart['mes_add'] = (\n",
    "    df_smart['message_date'] - df_tarrifs.loc[0, 'messages_included']) * df_tarrifs.loc[0, 'rub_per_message']\n",
    "df_smart.loc[df_smart['mes_add'] < 0, 'mes_add'] = 0\n",
    "df_smart"
   ]
  },
  {
   "cell_type": "markdown",
   "metadata": {},
   "source": [
    "И подсчитаем суммарную прибыль с каждого пользователя за месяц"
   ]
  },
  {
   "cell_type": "code",
   "execution_count": 42,
   "metadata": {},
   "outputs": [
    {
     "data": {
      "text/html": [
       "<div>\n",
       "<style scoped>\n",
       "    .dataframe tbody tr th:only-of-type {\n",
       "        vertical-align: middle;\n",
       "    }\n",
       "\n",
       "    .dataframe tbody tr th {\n",
       "        vertical-align: top;\n",
       "    }\n",
       "\n",
       "    .dataframe thead th {\n",
       "        text-align: right;\n",
       "    }\n",
       "</style>\n",
       "<table border=\"1\" class=\"dataframe\">\n",
       "  <thead>\n",
       "    <tr style=\"text-align: right;\">\n",
       "      <th></th>\n",
       "      <th>user_id</th>\n",
       "      <th>month</th>\n",
       "      <th>duration</th>\n",
       "      <th>gb_used</th>\n",
       "      <th>message_date</th>\n",
       "      <th>tariff</th>\n",
       "      <th>city</th>\n",
       "      <th>tariff_cost</th>\n",
       "      <th>min_add</th>\n",
       "      <th>gb_add</th>\n",
       "      <th>mes_add</th>\n",
       "      <th>total_income</th>\n",
       "    </tr>\n",
       "  </thead>\n",
       "  <tbody>\n",
       "    <tr>\n",
       "      <th>8</th>\n",
       "      <td>1001</td>\n",
       "      <td>11</td>\n",
       "      <td>430.0</td>\n",
       "      <td>19.0</td>\n",
       "      <td>0.0</td>\n",
       "      <td>smart</td>\n",
       "      <td>Москва</td>\n",
       "      <td>550</td>\n",
       "      <td>0.0</td>\n",
       "      <td>800.0</td>\n",
       "      <td>0.0</td>\n",
       "      <td>1350.0</td>\n",
       "    </tr>\n",
       "    <tr>\n",
       "      <th>9</th>\n",
       "      <td>1001</td>\n",
       "      <td>12</td>\n",
       "      <td>414.0</td>\n",
       "      <td>15.0</td>\n",
       "      <td>0.0</td>\n",
       "      <td>smart</td>\n",
       "      <td>Москва</td>\n",
       "      <td>550</td>\n",
       "      <td>0.0</td>\n",
       "      <td>0.0</td>\n",
       "      <td>0.0</td>\n",
       "      <td>550.0</td>\n",
       "    </tr>\n",
       "    <tr>\n",
       "      <th>10</th>\n",
       "      <td>1002</td>\n",
       "      <td>6</td>\n",
       "      <td>117.0</td>\n",
       "      <td>11.0</td>\n",
       "      <td>4.0</td>\n",
       "      <td>smart</td>\n",
       "      <td>Стерлитамак</td>\n",
       "      <td>550</td>\n",
       "      <td>0.0</td>\n",
       "      <td>0.0</td>\n",
       "      <td>0.0</td>\n",
       "      <td>550.0</td>\n",
       "    </tr>\n",
       "    <tr>\n",
       "      <th>11</th>\n",
       "      <td>1002</td>\n",
       "      <td>7</td>\n",
       "      <td>214.0</td>\n",
       "      <td>18.0</td>\n",
       "      <td>11.0</td>\n",
       "      <td>smart</td>\n",
       "      <td>Стерлитамак</td>\n",
       "      <td>550</td>\n",
       "      <td>0.0</td>\n",
       "      <td>600.0</td>\n",
       "      <td>0.0</td>\n",
       "      <td>1150.0</td>\n",
       "    </tr>\n",
       "    <tr>\n",
       "      <th>12</th>\n",
       "      <td>1002</td>\n",
       "      <td>8</td>\n",
       "      <td>289.0</td>\n",
       "      <td>21.0</td>\n",
       "      <td>13.0</td>\n",
       "      <td>smart</td>\n",
       "      <td>Стерлитамак</td>\n",
       "      <td>550</td>\n",
       "      <td>0.0</td>\n",
       "      <td>1200.0</td>\n",
       "      <td>0.0</td>\n",
       "      <td>1750.0</td>\n",
       "    </tr>\n",
       "    <tr>\n",
       "      <th>...</th>\n",
       "      <td>...</td>\n",
       "      <td>...</td>\n",
       "      <td>...</td>\n",
       "      <td>...</td>\n",
       "      <td>...</td>\n",
       "      <td>...</td>\n",
       "      <td>...</td>\n",
       "      <td>...</td>\n",
       "      <td>...</td>\n",
       "      <td>...</td>\n",
       "      <td>...</td>\n",
       "      <td>...</td>\n",
       "    </tr>\n",
       "    <tr>\n",
       "      <th>3209</th>\n",
       "      <td>1498</td>\n",
       "      <td>10</td>\n",
       "      <td>247.0</td>\n",
       "      <td>21.0</td>\n",
       "      <td>42.0</td>\n",
       "      <td>smart</td>\n",
       "      <td>Владикавказ</td>\n",
       "      <td>550</td>\n",
       "      <td>0.0</td>\n",
       "      <td>1200.0</td>\n",
       "      <td>0.0</td>\n",
       "      <td>1750.0</td>\n",
       "    </tr>\n",
       "    <tr>\n",
       "      <th>3210</th>\n",
       "      <td>1499</td>\n",
       "      <td>9</td>\n",
       "      <td>70.0</td>\n",
       "      <td>2.0</td>\n",
       "      <td>11.0</td>\n",
       "      <td>smart</td>\n",
       "      <td>Пермь</td>\n",
       "      <td>550</td>\n",
       "      <td>0.0</td>\n",
       "      <td>0.0</td>\n",
       "      <td>0.0</td>\n",
       "      <td>550.0</td>\n",
       "    </tr>\n",
       "    <tr>\n",
       "      <th>3211</th>\n",
       "      <td>1499</td>\n",
       "      <td>10</td>\n",
       "      <td>449.0</td>\n",
       "      <td>18.0</td>\n",
       "      <td>48.0</td>\n",
       "      <td>smart</td>\n",
       "      <td>Пермь</td>\n",
       "      <td>550</td>\n",
       "      <td>0.0</td>\n",
       "      <td>600.0</td>\n",
       "      <td>0.0</td>\n",
       "      <td>1150.0</td>\n",
       "    </tr>\n",
       "    <tr>\n",
       "      <th>3212</th>\n",
       "      <td>1499</td>\n",
       "      <td>11</td>\n",
       "      <td>612.0</td>\n",
       "      <td>18.0</td>\n",
       "      <td>59.0</td>\n",
       "      <td>smart</td>\n",
       "      <td>Пермь</td>\n",
       "      <td>550</td>\n",
       "      <td>336.0</td>\n",
       "      <td>600.0</td>\n",
       "      <td>27.0</td>\n",
       "      <td>1513.0</td>\n",
       "    </tr>\n",
       "    <tr>\n",
       "      <th>3213</th>\n",
       "      <td>1499</td>\n",
       "      <td>12</td>\n",
       "      <td>492.0</td>\n",
       "      <td>14.0</td>\n",
       "      <td>66.0</td>\n",
       "      <td>smart</td>\n",
       "      <td>Пермь</td>\n",
       "      <td>550</td>\n",
       "      <td>0.0</td>\n",
       "      <td>0.0</td>\n",
       "      <td>48.0</td>\n",
       "      <td>598.0</td>\n",
       "    </tr>\n",
       "  </tbody>\n",
       "</table>\n",
       "<p>2229 rows × 12 columns</p>\n",
       "</div>"
      ],
      "text/plain": [
       "      user_id  month  duration  gb_used  message_date tariff         city  \\\n",
       "8        1001     11     430.0     19.0           0.0  smart       Москва   \n",
       "9        1001     12     414.0     15.0           0.0  smart       Москва   \n",
       "10       1002      6     117.0     11.0           4.0  smart  Стерлитамак   \n",
       "11       1002      7     214.0     18.0          11.0  smart  Стерлитамак   \n",
       "12       1002      8     289.0     21.0          13.0  smart  Стерлитамак   \n",
       "...       ...    ...       ...      ...           ...    ...          ...   \n",
       "3209     1498     10     247.0     21.0          42.0  smart  Владикавказ   \n",
       "3210     1499      9      70.0      2.0          11.0  smart        Пермь   \n",
       "3211     1499     10     449.0     18.0          48.0  smart        Пермь   \n",
       "3212     1499     11     612.0     18.0          59.0  smart        Пермь   \n",
       "3213     1499     12     492.0     14.0          66.0  smart        Пермь   \n",
       "\n",
       "      tariff_cost  min_add  gb_add  mes_add  total_income  \n",
       "8             550      0.0   800.0      0.0        1350.0  \n",
       "9             550      0.0     0.0      0.0         550.0  \n",
       "10            550      0.0     0.0      0.0         550.0  \n",
       "11            550      0.0   600.0      0.0        1150.0  \n",
       "12            550      0.0  1200.0      0.0        1750.0  \n",
       "...           ...      ...     ...      ...           ...  \n",
       "3209          550      0.0  1200.0      0.0        1750.0  \n",
       "3210          550      0.0     0.0      0.0         550.0  \n",
       "3211          550      0.0   600.0      0.0        1150.0  \n",
       "3212          550    336.0   600.0     27.0        1513.0  \n",
       "3213          550      0.0     0.0     48.0         598.0  \n",
       "\n",
       "[2229 rows x 12 columns]"
      ]
     },
     "execution_count": 42,
     "metadata": {},
     "output_type": "execute_result"
    }
   ],
   "source": [
    "df_smart['total_income'] = df_smart['tariff_cost'] + df_smart['min_add']+ df_smart['gb_add'] + df_smart['mes_add']\n",
    "df_smart"
   ]
  },
  {
   "cell_type": "code",
   "execution_count": 43,
   "metadata": {
    "scrolled": true
   },
   "outputs": [
    {
     "data": {
      "text/plain": [
       "3000151.0"
      ]
     },
     "execution_count": 43,
     "metadata": {},
     "output_type": "execute_result"
    }
   ],
   "source": [
    "df_smart['total_income'].sum()"
   ]
  },
  {
   "cell_type": "markdown",
   "metadata": {},
   "source": [
    "Общая прибыль с данной выборки пользователей тарифа смарт за 2018 год составила почти 3 миллиона"
   ]
  },
  {
   "cell_type": "markdown",
   "metadata": {},
   "source": [
    "<div class=\"alert alert-success\">\n",
    "    \n",
    "<b> Комментарий от ревьюера ✔️</b>\n",
    "    \n",
    "В целом ты правильно посчитал месячные платежи пользователей\n",
    "</div>"
   ]
  },
  {
   "cell_type": "markdown",
   "metadata": {},
   "source": [
    "#### 2.6.2. Тариф ultra"
   ]
  },
  {
   "cell_type": "markdown",
   "metadata": {},
   "source": [
    "Те же операции проделаем для пользователей тарифа ultra"
   ]
  },
  {
   "cell_type": "code",
   "execution_count": 44,
   "metadata": {},
   "outputs": [
    {
     "data": {
      "text/html": [
       "<div>\n",
       "<style scoped>\n",
       "    .dataframe tbody tr th:only-of-type {\n",
       "        vertical-align: middle;\n",
       "    }\n",
       "\n",
       "    .dataframe tbody tr th {\n",
       "        vertical-align: top;\n",
       "    }\n",
       "\n",
       "    .dataframe thead th {\n",
       "        text-align: right;\n",
       "    }\n",
       "</style>\n",
       "<table border=\"1\" class=\"dataframe\">\n",
       "  <thead>\n",
       "    <tr style=\"text-align: right;\">\n",
       "      <th></th>\n",
       "      <th>user_id</th>\n",
       "      <th>month</th>\n",
       "      <th>duration</th>\n",
       "      <th>gb_used</th>\n",
       "      <th>message_date</th>\n",
       "      <th>tariff</th>\n",
       "      <th>city</th>\n",
       "    </tr>\n",
       "  </thead>\n",
       "  <tbody>\n",
       "    <tr>\n",
       "      <th>0</th>\n",
       "      <td>1000</td>\n",
       "      <td>5</td>\n",
       "      <td>159.0</td>\n",
       "      <td>3.0</td>\n",
       "      <td>22.0</td>\n",
       "      <td>ultra</td>\n",
       "      <td>Краснодар</td>\n",
       "    </tr>\n",
       "    <tr>\n",
       "      <th>1</th>\n",
       "      <td>1000</td>\n",
       "      <td>6</td>\n",
       "      <td>172.0</td>\n",
       "      <td>24.0</td>\n",
       "      <td>60.0</td>\n",
       "      <td>ultra</td>\n",
       "      <td>Краснодар</td>\n",
       "    </tr>\n",
       "    <tr>\n",
       "      <th>2</th>\n",
       "      <td>1000</td>\n",
       "      <td>7</td>\n",
       "      <td>340.0</td>\n",
       "      <td>15.0</td>\n",
       "      <td>75.0</td>\n",
       "      <td>ultra</td>\n",
       "      <td>Краснодар</td>\n",
       "    </tr>\n",
       "    <tr>\n",
       "      <th>3</th>\n",
       "      <td>1000</td>\n",
       "      <td>8</td>\n",
       "      <td>408.0</td>\n",
       "      <td>15.0</td>\n",
       "      <td>81.0</td>\n",
       "      <td>ultra</td>\n",
       "      <td>Краснодар</td>\n",
       "    </tr>\n",
       "    <tr>\n",
       "      <th>4</th>\n",
       "      <td>1000</td>\n",
       "      <td>9</td>\n",
       "      <td>466.0</td>\n",
       "      <td>15.0</td>\n",
       "      <td>57.0</td>\n",
       "      <td>ultra</td>\n",
       "      <td>Краснодар</td>\n",
       "    </tr>\n",
       "    <tr>\n",
       "      <th>...</th>\n",
       "      <td>...</td>\n",
       "      <td>...</td>\n",
       "      <td>...</td>\n",
       "      <td>...</td>\n",
       "      <td>...</td>\n",
       "      <td>...</td>\n",
       "      <td>...</td>\n",
       "    </tr>\n",
       "    <tr>\n",
       "      <th>3186</th>\n",
       "      <td>1495</td>\n",
       "      <td>8</td>\n",
       "      <td>92.0</td>\n",
       "      <td>3.0</td>\n",
       "      <td>13.0</td>\n",
       "      <td>ultra</td>\n",
       "      <td>Иркутск</td>\n",
       "    </tr>\n",
       "    <tr>\n",
       "      <th>3187</th>\n",
       "      <td>1495</td>\n",
       "      <td>9</td>\n",
       "      <td>813.0</td>\n",
       "      <td>34.0</td>\n",
       "      <td>82.0</td>\n",
       "      <td>ultra</td>\n",
       "      <td>Иркутск</td>\n",
       "    </tr>\n",
       "    <tr>\n",
       "      <th>3188</th>\n",
       "      <td>1495</td>\n",
       "      <td>10</td>\n",
       "      <td>1030.0</td>\n",
       "      <td>30.0</td>\n",
       "      <td>82.0</td>\n",
       "      <td>ultra</td>\n",
       "      <td>Иркутск</td>\n",
       "    </tr>\n",
       "    <tr>\n",
       "      <th>3189</th>\n",
       "      <td>1495</td>\n",
       "      <td>11</td>\n",
       "      <td>954.0</td>\n",
       "      <td>39.0</td>\n",
       "      <td>79.0</td>\n",
       "      <td>ultra</td>\n",
       "      <td>Иркутск</td>\n",
       "    </tr>\n",
       "    <tr>\n",
       "      <th>3190</th>\n",
       "      <td>1495</td>\n",
       "      <td>12</td>\n",
       "      <td>1031.0</td>\n",
       "      <td>24.0</td>\n",
       "      <td>84.0</td>\n",
       "      <td>ultra</td>\n",
       "      <td>Иркутск</td>\n",
       "    </tr>\n",
       "  </tbody>\n",
       "</table>\n",
       "<p>985 rows × 7 columns</p>\n",
       "</div>"
      ],
      "text/plain": [
       "      user_id  month  duration  gb_used  message_date tariff       city\n",
       "0        1000      5     159.0      3.0          22.0  ultra  Краснодар\n",
       "1        1000      6     172.0     24.0          60.0  ultra  Краснодар\n",
       "2        1000      7     340.0     15.0          75.0  ultra  Краснодар\n",
       "3        1000      8     408.0     15.0          81.0  ultra  Краснодар\n",
       "4        1000      9     466.0     15.0          57.0  ultra  Краснодар\n",
       "...       ...    ...       ...      ...           ...    ...        ...\n",
       "3186     1495      8      92.0      3.0          13.0  ultra    Иркутск\n",
       "3187     1495      9     813.0     34.0          82.0  ultra    Иркутск\n",
       "3188     1495     10    1030.0     30.0          82.0  ultra    Иркутск\n",
       "3189     1495     11     954.0     39.0          79.0  ultra    Иркутск\n",
       "3190     1495     12    1031.0     24.0          84.0  ultra    Иркутск\n",
       "\n",
       "[985 rows x 7 columns]"
      ]
     },
     "execution_count": 44,
     "metadata": {},
     "output_type": "execute_result"
    }
   ],
   "source": [
    "df_ultra = df_new.query('tariff == \"ultra\"')\n",
    "df_ultra"
   ]
  },
  {
   "cell_type": "markdown",
   "metadata": {},
   "source": [
    "<div class=\"alert alert-info\">\n",
    "Еще раз открою таблицу с тарифами, чтобы было проще менять данные"
   ]
  },
  {
   "cell_type": "code",
   "execution_count": 45,
   "metadata": {},
   "outputs": [
    {
     "data": {
      "text/html": [
       "<div>\n",
       "<style scoped>\n",
       "    .dataframe tbody tr th:only-of-type {\n",
       "        vertical-align: middle;\n",
       "    }\n",
       "\n",
       "    .dataframe tbody tr th {\n",
       "        vertical-align: top;\n",
       "    }\n",
       "\n",
       "    .dataframe thead th {\n",
       "        text-align: right;\n",
       "    }\n",
       "</style>\n",
       "<table border=\"1\" class=\"dataframe\">\n",
       "  <thead>\n",
       "    <tr style=\"text-align: right;\">\n",
       "      <th></th>\n",
       "      <th>messages_included</th>\n",
       "      <th>mb_per_month_included</th>\n",
       "      <th>minutes_included</th>\n",
       "      <th>rub_monthly_fee</th>\n",
       "      <th>rub_per_gb</th>\n",
       "      <th>rub_per_message</th>\n",
       "      <th>rub_per_minute</th>\n",
       "      <th>tariff_name</th>\n",
       "    </tr>\n",
       "  </thead>\n",
       "  <tbody>\n",
       "    <tr>\n",
       "      <th>0</th>\n",
       "      <td>50</td>\n",
       "      <td>15360</td>\n",
       "      <td>500</td>\n",
       "      <td>550</td>\n",
       "      <td>200</td>\n",
       "      <td>3</td>\n",
       "      <td>3</td>\n",
       "      <td>smart</td>\n",
       "    </tr>\n",
       "    <tr>\n",
       "      <th>1</th>\n",
       "      <td>1000</td>\n",
       "      <td>30720</td>\n",
       "      <td>3000</td>\n",
       "      <td>1950</td>\n",
       "      <td>150</td>\n",
       "      <td>1</td>\n",
       "      <td>1</td>\n",
       "      <td>ultra</td>\n",
       "    </tr>\n",
       "  </tbody>\n",
       "</table>\n",
       "</div>"
      ],
      "text/plain": [
       "   messages_included  mb_per_month_included  minutes_included  \\\n",
       "0                 50                  15360               500   \n",
       "1               1000                  30720              3000   \n",
       "\n",
       "   rub_monthly_fee  rub_per_gb  rub_per_message  rub_per_minute tariff_name  \n",
       "0              550         200                3               3       smart  \n",
       "1             1950         150                1               1       ultra  "
      ]
     },
     "execution_count": 45,
     "metadata": {},
     "output_type": "execute_result"
    }
   ],
   "source": [
    "df_tarrifs"
   ]
  },
  {
   "cell_type": "code",
   "execution_count": 46,
   "metadata": {},
   "outputs": [
    {
     "data": {
      "text/html": [
       "<div>\n",
       "<style scoped>\n",
       "    .dataframe tbody tr th:only-of-type {\n",
       "        vertical-align: middle;\n",
       "    }\n",
       "\n",
       "    .dataframe tbody tr th {\n",
       "        vertical-align: top;\n",
       "    }\n",
       "\n",
       "    .dataframe thead th {\n",
       "        text-align: right;\n",
       "    }\n",
       "</style>\n",
       "<table border=\"1\" class=\"dataframe\">\n",
       "  <thead>\n",
       "    <tr style=\"text-align: right;\">\n",
       "      <th></th>\n",
       "      <th>user_id</th>\n",
       "      <th>month</th>\n",
       "      <th>duration</th>\n",
       "      <th>gb_used</th>\n",
       "      <th>message_date</th>\n",
       "      <th>tariff</th>\n",
       "      <th>city</th>\n",
       "      <th>tariff_cost</th>\n",
       "      <th>min_add</th>\n",
       "      <th>gb_add</th>\n",
       "      <th>mes_add</th>\n",
       "      <th>total_income</th>\n",
       "    </tr>\n",
       "  </thead>\n",
       "  <tbody>\n",
       "    <tr>\n",
       "      <th>0</th>\n",
       "      <td>1000</td>\n",
       "      <td>5</td>\n",
       "      <td>159.0</td>\n",
       "      <td>3.0</td>\n",
       "      <td>22.0</td>\n",
       "      <td>ultra</td>\n",
       "      <td>Краснодар</td>\n",
       "      <td>1950</td>\n",
       "      <td>0.0</td>\n",
       "      <td>0.0</td>\n",
       "      <td>0.0</td>\n",
       "      <td>1950.0</td>\n",
       "    </tr>\n",
       "    <tr>\n",
       "      <th>1</th>\n",
       "      <td>1000</td>\n",
       "      <td>6</td>\n",
       "      <td>172.0</td>\n",
       "      <td>24.0</td>\n",
       "      <td>60.0</td>\n",
       "      <td>ultra</td>\n",
       "      <td>Краснодар</td>\n",
       "      <td>1950</td>\n",
       "      <td>0.0</td>\n",
       "      <td>0.0</td>\n",
       "      <td>0.0</td>\n",
       "      <td>1950.0</td>\n",
       "    </tr>\n",
       "    <tr>\n",
       "      <th>2</th>\n",
       "      <td>1000</td>\n",
       "      <td>7</td>\n",
       "      <td>340.0</td>\n",
       "      <td>15.0</td>\n",
       "      <td>75.0</td>\n",
       "      <td>ultra</td>\n",
       "      <td>Краснодар</td>\n",
       "      <td>1950</td>\n",
       "      <td>0.0</td>\n",
       "      <td>0.0</td>\n",
       "      <td>0.0</td>\n",
       "      <td>1950.0</td>\n",
       "    </tr>\n",
       "    <tr>\n",
       "      <th>3</th>\n",
       "      <td>1000</td>\n",
       "      <td>8</td>\n",
       "      <td>408.0</td>\n",
       "      <td>15.0</td>\n",
       "      <td>81.0</td>\n",
       "      <td>ultra</td>\n",
       "      <td>Краснодар</td>\n",
       "      <td>1950</td>\n",
       "      <td>0.0</td>\n",
       "      <td>0.0</td>\n",
       "      <td>0.0</td>\n",
       "      <td>1950.0</td>\n",
       "    </tr>\n",
       "    <tr>\n",
       "      <th>4</th>\n",
       "      <td>1000</td>\n",
       "      <td>9</td>\n",
       "      <td>466.0</td>\n",
       "      <td>15.0</td>\n",
       "      <td>57.0</td>\n",
       "      <td>ultra</td>\n",
       "      <td>Краснодар</td>\n",
       "      <td>1950</td>\n",
       "      <td>0.0</td>\n",
       "      <td>0.0</td>\n",
       "      <td>0.0</td>\n",
       "      <td>1950.0</td>\n",
       "    </tr>\n",
       "    <tr>\n",
       "      <th>...</th>\n",
       "      <td>...</td>\n",
       "      <td>...</td>\n",
       "      <td>...</td>\n",
       "      <td>...</td>\n",
       "      <td>...</td>\n",
       "      <td>...</td>\n",
       "      <td>...</td>\n",
       "      <td>...</td>\n",
       "      <td>...</td>\n",
       "      <td>...</td>\n",
       "      <td>...</td>\n",
       "      <td>...</td>\n",
       "    </tr>\n",
       "    <tr>\n",
       "      <th>3186</th>\n",
       "      <td>1495</td>\n",
       "      <td>8</td>\n",
       "      <td>92.0</td>\n",
       "      <td>3.0</td>\n",
       "      <td>13.0</td>\n",
       "      <td>ultra</td>\n",
       "      <td>Иркутск</td>\n",
       "      <td>1950</td>\n",
       "      <td>0.0</td>\n",
       "      <td>0.0</td>\n",
       "      <td>0.0</td>\n",
       "      <td>1950.0</td>\n",
       "    </tr>\n",
       "    <tr>\n",
       "      <th>3187</th>\n",
       "      <td>1495</td>\n",
       "      <td>9</td>\n",
       "      <td>813.0</td>\n",
       "      <td>34.0</td>\n",
       "      <td>82.0</td>\n",
       "      <td>ultra</td>\n",
       "      <td>Иркутск</td>\n",
       "      <td>1950</td>\n",
       "      <td>0.0</td>\n",
       "      <td>600.0</td>\n",
       "      <td>0.0</td>\n",
       "      <td>2550.0</td>\n",
       "    </tr>\n",
       "    <tr>\n",
       "      <th>3188</th>\n",
       "      <td>1495</td>\n",
       "      <td>10</td>\n",
       "      <td>1030.0</td>\n",
       "      <td>30.0</td>\n",
       "      <td>82.0</td>\n",
       "      <td>ultra</td>\n",
       "      <td>Иркутск</td>\n",
       "      <td>1950</td>\n",
       "      <td>0.0</td>\n",
       "      <td>0.0</td>\n",
       "      <td>0.0</td>\n",
       "      <td>1950.0</td>\n",
       "    </tr>\n",
       "    <tr>\n",
       "      <th>3189</th>\n",
       "      <td>1495</td>\n",
       "      <td>11</td>\n",
       "      <td>954.0</td>\n",
       "      <td>39.0</td>\n",
       "      <td>79.0</td>\n",
       "      <td>ultra</td>\n",
       "      <td>Иркутск</td>\n",
       "      <td>1950</td>\n",
       "      <td>0.0</td>\n",
       "      <td>1350.0</td>\n",
       "      <td>0.0</td>\n",
       "      <td>3300.0</td>\n",
       "    </tr>\n",
       "    <tr>\n",
       "      <th>3190</th>\n",
       "      <td>1495</td>\n",
       "      <td>12</td>\n",
       "      <td>1031.0</td>\n",
       "      <td>24.0</td>\n",
       "      <td>84.0</td>\n",
       "      <td>ultra</td>\n",
       "      <td>Иркутск</td>\n",
       "      <td>1950</td>\n",
       "      <td>0.0</td>\n",
       "      <td>0.0</td>\n",
       "      <td>0.0</td>\n",
       "      <td>1950.0</td>\n",
       "    </tr>\n",
       "  </tbody>\n",
       "</table>\n",
       "<p>985 rows × 12 columns</p>\n",
       "</div>"
      ],
      "text/plain": [
       "      user_id  month  duration  gb_used  message_date tariff       city  \\\n",
       "0        1000      5     159.0      3.0          22.0  ultra  Краснодар   \n",
       "1        1000      6     172.0     24.0          60.0  ultra  Краснодар   \n",
       "2        1000      7     340.0     15.0          75.0  ultra  Краснодар   \n",
       "3        1000      8     408.0     15.0          81.0  ultra  Краснодар   \n",
       "4        1000      9     466.0     15.0          57.0  ultra  Краснодар   \n",
       "...       ...    ...       ...      ...           ...    ...        ...   \n",
       "3186     1495      8      92.0      3.0          13.0  ultra    Иркутск   \n",
       "3187     1495      9     813.0     34.0          82.0  ultra    Иркутск   \n",
       "3188     1495     10    1030.0     30.0          82.0  ultra    Иркутск   \n",
       "3189     1495     11     954.0     39.0          79.0  ultra    Иркутск   \n",
       "3190     1495     12    1031.0     24.0          84.0  ultra    Иркутск   \n",
       "\n",
       "      tariff_cost  min_add  gb_add  mes_add  total_income  \n",
       "0            1950      0.0     0.0      0.0        1950.0  \n",
       "1            1950      0.0     0.0      0.0        1950.0  \n",
       "2            1950      0.0     0.0      0.0        1950.0  \n",
       "3            1950      0.0     0.0      0.0        1950.0  \n",
       "4            1950      0.0     0.0      0.0        1950.0  \n",
       "...           ...      ...     ...      ...           ...  \n",
       "3186         1950      0.0     0.0      0.0        1950.0  \n",
       "3187         1950      0.0   600.0      0.0        2550.0  \n",
       "3188         1950      0.0     0.0      0.0        1950.0  \n",
       "3189         1950      0.0  1350.0      0.0        3300.0  \n",
       "3190         1950      0.0     0.0      0.0        1950.0  \n",
       "\n",
       "[985 rows x 12 columns]"
      ]
     },
     "execution_count": 46,
     "metadata": {},
     "output_type": "execute_result"
    }
   ],
   "source": [
    "df_ultra['tariff_cost'] = df_tarrifs.loc[1, 'rub_monthly_fee']\n",
    "\n",
    "df_ultra['min_add'] = (\n",
    "    df_ultra['duration'] - df_tarrifs.loc[1, 'minutes_included']) * df_tarrifs.loc[1, 'rub_per_minute']\n",
    "df_ultra.loc[df_ultra['min_add'] < 0, 'min_add'] = 0\n",
    "\n",
    "df_ultra['gb_add'] = (\n",
    "    df_ultra['gb_used'] - df_tarrifs.loc[1, 'mb_per_month_included'] / 1024) * df_tarrifs.loc[1, 'rub_per_gb']\n",
    "df_ultra.loc[df_ultra['gb_add'] < 0, 'gb_add'] = 0\n",
    "\n",
    "df_ultra['mes_add'] = (\n",
    "    df_ultra['message_date'] - df_tarrifs.loc[1, 'messages_included']) * df_tarrifs.loc[1, 'rub_per_message']\n",
    "df_ultra.loc[df_ultra['mes_add'] < 0, 'mes_add'] = 0\n",
    "\n",
    "df_ultra['total_income'] = df_ultra['tariff_cost'] + df_ultra['min_add']+ df_ultra['gb_add'] + df_ultra['mes_add']\n",
    "df_ultra"
   ]
  },
  {
   "cell_type": "markdown",
   "metadata": {},
   "source": [
    "<div class=\"alert alert-info\">\n",
    "Завязал все расчеты на датафрейм с данными тарифов. Теперь изменения исходных данных не исказить расчеты"
   ]
  },
  {
   "cell_type": "code",
   "execution_count": 47,
   "metadata": {},
   "outputs": [
    {
     "data": {
      "text/plain": [
       "2058000.0"
      ]
     },
     "execution_count": 47,
     "metadata": {},
     "output_type": "execute_result"
    }
   ],
   "source": [
    "df_ultra['total_income'].sum()"
   ]
  },
  {
   "cell_type": "markdown",
   "metadata": {},
   "source": [
    "## 3. Анализ данных."
   ]
  },
  {
   "cell_type": "markdown",
   "metadata": {},
   "source": [
    "### 3.1. Smart"
   ]
  },
  {
   "cell_type": "markdown",
   "metadata": {},
   "source": [
    "#### 3.1.1. Звонки"
   ]
  },
  {
   "cell_type": "markdown",
   "metadata": {},
   "source": [
    "Начнем с продолжительности звонков"
   ]
  },
  {
   "cell_type": "code",
   "execution_count": 48,
   "metadata": {},
   "outputs": [
    {
     "data": {
      "text/plain": [
       "count    2229.000000\n",
       "mean      417.934948\n",
       "std       190.313730\n",
       "min         0.000000\n",
       "25%       282.000000\n",
       "50%       422.000000\n",
       "75%       545.000000\n",
       "max      1435.000000\n",
       "Name: duration, dtype: float64"
      ]
     },
     "execution_count": 48,
     "metadata": {},
     "output_type": "execute_result"
    }
   ],
   "source": [
    "df_smart['duration'].describe()"
   ]
  },
  {
   "cell_type": "markdown",
   "metadata": {},
   "source": [
    "Больше половины клиентов укладываются в тарифные лимиты."
   ]
  },
  {
   "cell_type": "markdown",
   "metadata": {},
   "source": [
    "Построим гистограмму."
   ]
  },
  {
   "cell_type": "code",
   "execution_count": 49,
   "metadata": {},
   "outputs": [
    {
     "data": {
      "text/plain": [
       "Text(0, 0.5, 'Число пользователей')"
      ]
     },
     "execution_count": 49,
     "metadata": {},
     "output_type": "execute_result"
    },
    {
     "data": {
      "image/png": "[encoded data removed]",
      "text/plain": [
       "<Figure size 432x288 with 1 Axes>"
      ]
     },
     "metadata": {
      "needs_background": "light"
     },
     "output_type": "display_data"
    }
   ],
   "source": [
    "df_smart['duration'].hist()\n",
    "plt.title('Продолжительность звонков тариф \"Smart\"')\n",
    "plt.xlabel('Использовано минут за месяц')\n",
    "plt.ylabel('Число пользователей')"
   ]
  },
  {
   "cell_type": "markdown",
   "metadata": {},
   "source": [
    "<div class=\"alert alert-warning\">\n",
    "    \n",
    "<b> Комментарий от ревьюера ⚠️</b>\n",
    "    \n",
    "Добавь, пожалуйста, на все графики названия, подписи осей и легенду ((если рассматриваешь несколько наборов данных). Можешь посмотреть [тут](https://matplotlib.org/stable/tutorials/introductory/usage.html#the-object-oriented-interface-and-the-pyplot-interface), как их добавлять\n",
    "</div>\n"
   ]
  },
  {
   "cell_type": "markdown",
   "metadata": {},
   "source": [
    "<div class=\"alert alert-info\">\n",
    "Добавил"
   ]
  },
  {
   "cell_type": "markdown",
   "metadata": {},
   "source": [
    "Незначительное количество клиентов тарифа используют более 850 минут в месяц. Поэтому уберем вбросы по правилу трех сигм (трех стандартных отклонений"
   ]
  },
  {
   "cell_type": "markdown",
   "metadata": {},
   "source": [
    "Проверим"
   ]
  },
  {
   "cell_type": "code",
   "execution_count": 50,
   "metadata": {},
   "outputs": [
    {
     "data": {
      "text/plain": [
       "user_id         7\n",
       "month           7\n",
       "duration        7\n",
       "gb_used         7\n",
       "message_date    7\n",
       "tariff          7\n",
       "city            7\n",
       "tariff_cost     7\n",
       "min_add         7\n",
       "gb_add          7\n",
       "mes_add         7\n",
       "total_income    7\n",
       "dtype: int64"
      ]
     },
     "execution_count": 50,
     "metadata": {},
     "output_type": "execute_result"
    }
   ],
   "source": [
    "df_smart.query('duration > 423+189*3').count()"
   ]
  },
  {
   "cell_type": "markdown",
   "metadata": {},
   "source": [
    "<div class=\"alert alert-info\">\n",
    "    \n",
    "~Удалим вбросы~"
   ]
  },
  {
   "cell_type": "code",
   "execution_count": 51,
   "metadata": {},
   "outputs": [],
   "source": [
    "#df_smart = df_smart.query('duration < 423+189*3')"
   ]
  },
  {
   "cell_type": "code",
   "execution_count": 52,
   "metadata": {},
   "outputs": [],
   "source": [
    "#df_smart['duration'].hist()\n"
   ]
  },
  {
   "cell_type": "markdown",
   "metadata": {},
   "source": [
    "Гистограмма имеет нормальное распределение. Большая часть клиентоф тарифа используют от 200 до 650 минут в месяц. То есть некоторые клиенты вынуждены нести дополнительные доходы. Однако, учитывая тот факт что стоимость другого тарифа почти в четыре раза выше, выбор пользователей очевиден, а действие оператора по установлению лимита в 500 мин в месяц вполне логично."
   ]
  },
  {
   "cell_type": "markdown",
   "metadata": {},
   "source": [
    "<div class=\"alert alert-success\">\n",
    "    \n",
    "<b> Комментарий от ревьюера ✔️</b>\n",
    "    \n",
    "Хороший комментарий\n",
    "</div>"
   ]
  },
  {
   "cell_type": "markdown",
   "metadata": {},
   "source": [
    "Ну и посчитаем дисперсию для выборки"
   ]
  },
  {
   "cell_type": "code",
   "execution_count": 53,
   "metadata": {},
   "outputs": [
    {
     "name": "stdout",
     "output_type": "stream",
     "text": [
      "36219.31578434428\n"
     ]
    }
   ],
   "source": [
    "#import numpy as np\n",
    "print(np.var(df_smart['duration'], ddof=1))"
   ]
  },
  {
   "cell_type": "markdown",
   "metadata": {},
   "source": [
    "#### 3.1.2. Интернет"
   ]
  },
  {
   "cell_type": "code",
   "execution_count": 54,
   "metadata": {},
   "outputs": [
    {
     "data": {
      "text/plain": [
       "count    2229.000000\n",
       "mean       16.695828\n",
       "std         5.877404\n",
       "min         0.000000\n",
       "25%        13.000000\n",
       "50%        17.000000\n",
       "75%        21.000000\n",
       "max        39.000000\n",
       "Name: gb_used, dtype: float64"
      ]
     },
     "execution_count": 54,
     "metadata": {},
     "output_type": "execute_result"
    }
   ],
   "source": [
    "df_smart['gb_used'].describe()"
   ]
  },
  {
   "cell_type": "markdown",
   "metadata": {},
   "source": [
    "С интернетом ситуация немного другая. Более половине пользователей не хватает трффика включенного в тариф."
   ]
  },
  {
   "cell_type": "markdown",
   "metadata": {},
   "source": [
    "Удалим вбросы и посмотрим гистограмму."
   ]
  },
  {
   "cell_type": "code",
   "execution_count": 55,
   "metadata": {},
   "outputs": [
    {
     "data": {
      "text/plain": [
       "user_id         7\n",
       "month           7\n",
       "duration        7\n",
       "gb_used         7\n",
       "message_date    7\n",
       "tariff          7\n",
       "city            7\n",
       "tariff_cost     7\n",
       "min_add         7\n",
       "gb_add          7\n",
       "mes_add         7\n",
       "total_income    7\n",
       "dtype: int64"
      ]
     },
     "execution_count": 55,
     "metadata": {},
     "output_type": "execute_result"
    }
   ],
   "source": [
    "df_smart.query('gb_used > 16.67+5.85*3').count()"
   ]
  },
  {
   "cell_type": "code",
   "execution_count": 56,
   "metadata": {},
   "outputs": [
    {
     "data": {
      "text/plain": [
       "Text(0, 0.5, 'Число пользователей')"
      ]
     },
     "execution_count": 56,
     "metadata": {},
     "output_type": "execute_result"
    },
    {
     "data": {
      "image/png": "[encoded data removed]",
      "text/plain": [
       "<Figure size 432x288 with 1 Axes>"
      ]
     },
     "metadata": {
      "needs_background": "light"
     },
     "output_type": "display_data"
    }
   ],
   "source": [
    "df_smart['gb_used'].hist()\n",
    "plt.title('Использование интернета тариф \"Smart\"')\n",
    "plt.xlabel('Количество трафика за месяц')\n",
    "plt.ylabel('Число пользователей')"
   ]
  },
  {
   "cell_type": "markdown",
   "metadata": {},
   "source": [
    "Большое количество клиентов используют значительно превышающий тарифный лимит объем трафика. Оператору следует изменить условия тарифа в части включенного трафика и увеличить его как минимум до 20 Гб в месяц путем увеличения абонентской платы либо создать новый (промежуточный) тариф. Для некоторых клиентов оплата сверхтрафика превышает даже стоимость тарифа ультра, что может оказать негативное влияние на отношение клиентов к компании."
   ]
  },
  {
   "cell_type": "markdown",
   "metadata": {},
   "source": [
    "Дисперсия"
   ]
  },
  {
   "cell_type": "code",
   "execution_count": 57,
   "metadata": {},
   "outputs": [
    {
     "name": "stdout",
     "output_type": "stream",
     "text": [
      "34.54388294337817\n"
     ]
    }
   ],
   "source": [
    "import numpy as np\n",
    "print(np.var(df_smart['gb_used'], ddof=1))"
   ]
  },
  {
   "cell_type": "markdown",
   "metadata": {},
   "source": [
    "#### 3.1.3. Сообщения"
   ]
  },
  {
   "cell_type": "code",
   "execution_count": 58,
   "metadata": {},
   "outputs": [
    {
     "data": {
      "text/plain": [
       "count    2229.000000\n",
       "mean       33.384029\n",
       "std        28.227876\n",
       "min         0.000000\n",
       "25%        10.000000\n",
       "50%        28.000000\n",
       "75%        51.000000\n",
       "max       143.000000\n",
       "Name: message_date, dtype: float64"
      ]
     },
     "execution_count": 58,
     "metadata": {},
     "output_type": "execute_result"
    }
   ],
   "source": [
    "df_smart['message_date'].describe()"
   ]
  },
  {
   "cell_type": "markdown",
   "metadata": {},
   "source": [
    "Среднее количество сообщений в месяц по тарифу смарт составляет чуть более 33, а третий квартиль практически соответствует тарифному лимиту в 50 сообщений. Не вижу смысла вносить какие либо изменения в тарифный план в части количества включенных сообщений."
   ]
  },
  {
   "cell_type": "markdown",
   "metadata": {},
   "source": [
    "#### 3.1.4. Промежуточный вывод"
   ]
  },
  {
   "cell_type": "markdown",
   "metadata": {},
   "source": [
    "Учитывая тот факт что тариф smart является значительно более популярным чем ultra оператору следует внести корректировки в объем включенного трафика с повышением общей стоимости тарифа."
   ]
  },
  {
   "cell_type": "markdown",
   "metadata": {},
   "source": [
    "### 3.2. Ultra"
   ]
  },
  {
   "cell_type": "markdown",
   "metadata": {},
   "source": [
    "#### 3.2.1. Звонки"
   ]
  },
  {
   "cell_type": "code",
   "execution_count": 59,
   "metadata": {},
   "outputs": [
    {
     "data": {
      "text/plain": [
       "count     985.000000\n",
       "mean      526.623350\n",
       "std       317.606098\n",
       "min         0.000000\n",
       "25%       284.000000\n",
       "50%       518.000000\n",
       "75%       752.000000\n",
       "max      1673.000000\n",
       "Name: duration, dtype: float64"
      ]
     },
     "execution_count": 59,
     "metadata": {},
     "output_type": "execute_result"
    }
   ],
   "source": [
    "df_ultra['duration'].describe()"
   ]
  },
  {
   "cell_type": "code",
   "execution_count": 60,
   "metadata": {},
   "outputs": [
    {
     "data": {
      "text/plain": [
       "Text(0, 0.5, 'Число пользователей')"
      ]
     },
     "execution_count": 60,
     "metadata": {},
     "output_type": "execute_result"
    },
    {
     "data": {
      "image/png": "[encoded data removed]",
      "text/plain": [
       "<Figure size 432x288 with 1 Axes>"
      ]
     },
     "metadata": {
      "needs_background": "light"
     },
     "output_type": "display_data"
    }
   ],
   "source": [
    "df_ultra['duration'].hist()\n",
    "plt.title('Продолжительность звонков тариф \"Ultra\"')\n",
    "plt.xlabel('Использовано минут за месяц')\n",
    "plt.ylabel('Число пользователей')"
   ]
  },
  {
   "cell_type": "markdown",
   "metadata": {},
   "source": [
    "Очевидно 3000 минут это очень много, более того, большая часть клентов использует не более 1000 минут в месяц. Если считать по правилу 3 сигм, то использование более 1500 минуть в месяц можно расценивать как вбросы. "
   ]
  },
  {
   "cell_type": "markdown",
   "metadata": {},
   "source": [
    "Дисперсия"
   ]
  },
  {
   "cell_type": "code",
   "execution_count": 61,
   "metadata": {},
   "outputs": [
    {
     "name": "stdout",
     "output_type": "stream",
     "text": [
      "100873.63339730098\n"
     ]
    }
   ],
   "source": [
    "print(np.var(df_ultra['duration'], ddof=1))"
   ]
  },
  {
   "cell_type": "markdown",
   "metadata": {},
   "source": [
    "#### 3.2.2. Интернет"
   ]
  },
  {
   "cell_type": "code",
   "execution_count": 62,
   "metadata": {},
   "outputs": [
    {
     "data": {
      "text/plain": [
       "count    985.000000\n",
       "mean      19.965482\n",
       "std       10.100955\n",
       "min        0.000000\n",
       "25%       12.000000\n",
       "50%       20.000000\n",
       "75%       27.000000\n",
       "max       50.000000\n",
       "Name: gb_used, dtype: float64"
      ]
     },
     "execution_count": 62,
     "metadata": {},
     "output_type": "execute_result"
    }
   ],
   "source": [
    "df_ultra['gb_used'].describe()"
   ]
  },
  {
   "cell_type": "code",
   "execution_count": 63,
   "metadata": {},
   "outputs": [
    {
     "data": {
      "text/plain": [
       "Text(0, 0.5, 'Число пользователей')"
      ]
     },
     "execution_count": 63,
     "metadata": {},
     "output_type": "execute_result"
    },
    {
     "data": {
      "image/png": "[encoded data removed]",
      "text/plain": [
       "<Figure size 432x288 with 1 Axes>"
      ]
     },
     "metadata": {
      "needs_background": "light"
     },
     "output_type": "display_data"
    }
   ],
   "source": [
    "df_ultra['gb_used'].hist()\n",
    "plt.title('Использование интернета тариф \"Ultra\"')\n",
    "plt.xlabel('Количество трафика за месяц')\n",
    "plt.ylabel('Число пользователей')"
   ]
  },
  {
   "cell_type": "markdown",
   "metadata": {},
   "source": [
    "Для болшей части клиентов 30 Гб включенного трафика вполне достаточно. \n",
    "\n",
    "Посмотрим какое количество месяцев из выборки было зафиксировано превышение лимита."
   ]
  },
  {
   "cell_type": "code",
   "execution_count": 64,
   "metadata": {},
   "outputs": [
    {
     "data": {
      "text/plain": [
       "985"
      ]
     },
     "execution_count": 64,
     "metadata": {},
     "output_type": "execute_result"
    }
   ],
   "source": [
    "df_ultra['user_id'].count()"
   ]
  },
  {
   "cell_type": "code",
   "execution_count": 65,
   "metadata": {
    "scrolled": false
   },
   "outputs": [
    {
     "data": {
      "text/plain": [
       "user_id         148\n",
       "month           148\n",
       "duration        148\n",
       "gb_used         148\n",
       "message_date    148\n",
       "tariff          148\n",
       "city            148\n",
       "tariff_cost     148\n",
       "min_add         148\n",
       "gb_add          148\n",
       "mes_add         148\n",
       "total_income    148\n",
       "dtype: int64"
      ]
     },
     "execution_count": 65,
     "metadata": {},
     "output_type": "execute_result"
    }
   ],
   "source": [
    "df_ultra.query('gb_used > 30').count()"
   ]
  },
  {
   "cell_type": "markdown",
   "metadata": {},
   "source": [
    "142 раза из 951. Это много.Логично предположить, что клиент выбирая тариф ультра подразумевает отсутствие дополнительных платежей. Было бы логичным увеличение включенного трафика до 40-45 Гб в месяц."
   ]
  },
  {
   "cell_type": "markdown",
   "metadata": {},
   "source": [
    "Этого нет в задании, но было бы интересно посчитать потенциальные убитки оператора из за увеличения включенного траффика до 45 Гб."
   ]
  },
  {
   "cell_type": "markdown",
   "metadata": {},
   "source": [
    "Сначала доход от сверхтрафика"
   ]
  },
  {
   "cell_type": "code",
   "execution_count": 66,
   "metadata": {},
   "outputs": [
    {
     "data": {
      "text/plain": [
       "137250.0"
      ]
     },
     "execution_count": 66,
     "metadata": {},
     "output_type": "execute_result"
    }
   ],
   "source": [
    "df_ultra['gb_add'].sum()"
   ]
  },
  {
   "cell_type": "markdown",
   "metadata": {},
   "source": [
    "Теперь потенциальный доход при увеличении трафика."
   ]
  },
  {
   "cell_type": "code",
   "execution_count": 67,
   "metadata": {},
   "outputs": [
    {
     "data": {
      "text/plain": [
       "1500.0"
      ]
     },
     "execution_count": 67,
     "metadata": {},
     "output_type": "execute_result"
    }
   ],
   "source": [
    "df_ultra['potential_gb_add'] = (df_ultra['gb_used'] - 45) * 150\n",
    "df_ultra.loc[df_ultra['potential_gb_add'] < 0, 'potential_gb_add'] = 0\n",
    "df_ultra['potential_gb_add'].sum()"
   ]
  },
  {
   "cell_type": "markdown",
   "metadata": {},
   "source": [
    "Потери большие. Однако оператор мог бы немного увеличить абонентскую плату примерно на 150 в месяцчтобы нивелировать потенциальные потери."
   ]
  },
  {
   "cell_type": "markdown",
   "metadata": {},
   "source": [
    "Дисперсия"
   ]
  },
  {
   "cell_type": "code",
   "execution_count": 68,
   "metadata": {},
   "outputs": [
    {
     "name": "stdout",
     "output_type": "stream",
     "text": [
      "102.02929511782429\n"
     ]
    }
   ],
   "source": [
    "print(np.var(df_ultra['gb_used'], ddof=1))"
   ]
  },
  {
   "cell_type": "markdown",
   "metadata": {},
   "source": [
    "#### 3.2.3. Сообщения"
   ]
  },
  {
   "cell_type": "code",
   "execution_count": 69,
   "metadata": {},
   "outputs": [
    {
     "data": {
      "text/plain": [
       "count    985.000000\n",
       "mean      49.363452\n",
       "std       47.804457\n",
       "min        0.000000\n",
       "25%        6.000000\n",
       "50%       38.000000\n",
       "75%       79.000000\n",
       "max      224.000000\n",
       "Name: message_date, dtype: float64"
      ]
     },
     "execution_count": 69,
     "metadata": {},
     "output_type": "execute_result"
    }
   ],
   "source": [
    "df_ultra['message_date'].describe()"
   ]
  },
  {
   "cell_type": "markdown",
   "metadata": {},
   "source": [
    "Как и сминутами на тарифе ultra явный перекос по включенным смс. 1000 - это слишком много."
   ]
  },
  {
   "cell_type": "markdown",
   "metadata": {},
   "source": [
    "#### 3.2.4. Предварительный вывод"
   ]
  },
  {
   "cell_type": "markdown",
   "metadata": {},
   "source": [
    "Оператору слудет провести корректировку тарифа Ultra, увеличив объем включенного траффика. В то же время количество включенных минут и сообщений явно завышено."
   ]
  },
  {
   "cell_type": "markdown",
   "metadata": {},
   "source": [
    "<div class=\"alert alert-success\">\n",
    "    \n",
    "<b> Комментарий от ревьюера ✔️</b>\n",
    "    \n",
    "Все верно\n",
    "</div>"
   ]
  },
  {
   "cell_type": "markdown",
   "metadata": {},
   "source": [
    "## 4. Проверка гипотез"
   ]
  },
  {
   "cell_type": "markdown",
   "metadata": {},
   "source": [
    "### 4.1. Выручка по тарифам"
   ]
  },
  {
   "cell_type": "markdown",
   "metadata": {},
   "source": [
    "Сравним среднюю выручку пользователей тарифов \"смарт\" и \"ультра\" путем сравнения средних генеральных совокупностей."
   ]
  },
  {
   "cell_type": "markdown",
   "metadata": {},
   "source": [
    "Примем за нулевую гипотезу равенство генеральных совокупностей по выручке с тарифов. "
   ]
  },
  {
   "cell_type": "markdown",
   "metadata": {},
   "source": [
    "<div class=\"alert alert-danger\">\n",
    "    \n",
    "<b> Комментарий от ревьюера ❗</b>\n",
    "    \n",
    "Сформулируй, пожалуйста, альтернативную гипотезу\n",
    "</div>\n"
   ]
  },
  {
   "cell_type": "markdown",
   "metadata": {},
   "source": [
    "<div class=\"alert alert-info\">\n",
    "Очень хочется надеяться, что альтернативная гипотеза будет звучать так: \"Генеральные совокупности по выручке с тарифов не равны.\" "
   ]
  },
  {
   "cell_type": "markdown",
   "metadata": {},
   "source": [
    "<div class=\"alert alert-success\">\n",
    "    \n",
    "<b> Комментарий от ревьюера 2 ✔️</b>\n",
    "\n",
    "\"**Средние значения** генеральных совокупностей по выручке с тарифов не равны\"\n",
    "\n",
    "Мы ведь ниже будем средние значения сравнивать.\n",
    "</div>"
   ]
  },
  {
   "cell_type": "markdown",
   "metadata": {},
   "source": [
    "Так как выборки не равны и их дисперсии могут различаться, используем параметр \"equal_var = False\""
   ]
  },
  {
   "cell_type": "code",
   "execution_count": 70,
   "metadata": {},
   "outputs": [
    {
     "name": "stdout",
     "output_type": "stream",
     "text": [
      "p-значение: 9.070850352445897e-208\n",
      "Отвергаем нулевую гипотезу\n"
     ]
    }
   ],
   "source": [
    "from scipy import stats as st\n",
    "import numpy as np\n",
    "alpha = .05\n",
    "results = st.ttest_ind(df_ultra['total_income'], df_smart['total_income'], equal_var = False)\n",
    "print('p-значение:', results.pvalue)\n",
    "\n",
    "if results.pvalue < alpha:\n",
    "    print(\"Отвергаем нулевую гипотезу\")\n",
    "else:\n",
    "    print(\"Не получилось отвергнуть нулевую гипотезу\") "
   ]
  },
  {
   "cell_type": "markdown",
   "metadata": {},
   "source": [
    "##### Итог"
   ]
  },
  {
   "cell_type": "markdown",
   "metadata": {},
   "source": [
    "Средняя выручка пользователей тарифов «Ультра» и «Смарт» различаются."
   ]
  },
  {
   "cell_type": "markdown",
   "metadata": {},
   "source": [
    "<div class=\"alert alert-success\">\n",
    "    \n",
    "<b> Комментарий от ревьюера ✔️</b>\n",
    "    \n",
    "Ты выбрал подходящий способ проверки гипотезы \n",
    "</div>"
   ]
  },
  {
   "cell_type": "markdown",
   "metadata": {},
   "source": [
    "### 4.2.  Выручка по городам."
   ]
  },
  {
   "cell_type": "markdown",
   "metadata": {},
   "source": [
    "За нулевую гипотезу примем равенство выручки пользователей из Москвы с пользователями из других городов."
   ]
  },
  {
   "cell_type": "markdown",
   "metadata": {},
   "source": [
    "так как датафрейм разделен по тарифам, проведем сравнение для каждого."
   ]
  },
  {
   "cell_type": "markdown",
   "metadata": {},
   "source": [
    "#### 4.2.1. Smart"
   ]
  },
  {
   "cell_type": "code",
   "execution_count": 71,
   "metadata": {
    "scrolled": true
   },
   "outputs": [
    {
     "name": "stdout",
     "output_type": "stream",
     "text": [
      "p-значение: 0.14822064194758613\n",
      "Не получилось отвергнуть нулевую гипотезу\n"
     ]
    }
   ],
   "source": [
    "moscow = df_smart.query('city == \"Москва\"')\n",
    "others = df_smart.query('city != \"Москва\"')\n",
    "\n",
    "alpha = .05\n",
    "\n",
    "results = st.ttest_ind(moscow['total_income'], others['total_income'], equal_var = False)\n",
    "\n",
    "print('p-значение:', results.pvalue)\n",
    "\n",
    "if results.pvalue < alpha:\n",
    "    print(\"Отвергаем нулевую гипотезу\")\n",
    "else:\n",
    "    print(\"Не получилось отвергнуть нулевую гипотезу\") \n",
    "\n"
   ]
  },
  {
   "cell_type": "markdown",
   "metadata": {},
   "source": [
    "#### 4.2.2. Ultra"
   ]
  },
  {
   "cell_type": "code",
   "execution_count": 72,
   "metadata": {},
   "outputs": [
    {
     "name": "stdout",
     "output_type": "stream",
     "text": [
      "p-значение: 0.6678618929603073\n",
      "Не получилось отвергнуть нулевую гипотезу\n"
     ]
    }
   ],
   "source": [
    "moscow = df_ultra.query('city == \"Москва\"')\n",
    "others = df_ultra.query('city != \"Москва\"')\n",
    "\n",
    "alpha = .05\n",
    "\n",
    "results = st.ttest_ind(moscow['total_income'], others['total_income'], equal_var = False)\n",
    "\n",
    "print('p-значение:', results.pvalue)\n",
    "\n",
    "if results.pvalue < alpha:\n",
    "    print(\"Отвергаем нулевую гипотезу\")\n",
    "else:\n",
    "    print(\"Не получилось отвергнуть нулевую гипотезу\") \n",
    "\n"
   ]
  },
  {
   "cell_type": "markdown",
   "metadata": {},
   "source": [
    "##### Итог"
   ]
  },
  {
   "cell_type": "markdown",
   "metadata": {},
   "source": [
    "Средняя выручка пользователей из Москвы не отличается от выручки пользователей из других регионов вне зависимости от тарифа.\n"
   ]
  },
  {
   "cell_type": "markdown",
   "metadata": {},
   "source": [
    "<div class=\"alert alert-danger\">\n",
    "    \n",
    "<b> Комментарий от ревьюера ❗</b>\n",
    "    \n",
    "Давай объединим датафреймы и проверим еще гипотезу без детализации по тарифам, как нас просят в задании.\n",
    "</div>\n"
   ]
  },
  {
   "cell_type": "markdown",
   "metadata": {},
   "source": [
    "<div class=\"alert alert-info\">\n",
    "Попробую"
   ]
  },
  {
   "cell_type": "code",
   "execution_count": 73,
   "metadata": {
    "scrolled": true
   },
   "outputs": [
    {
     "data": {
      "text/html": [
       "<div>\n",
       "<style scoped>\n",
       "    .dataframe tbody tr th:only-of-type {\n",
       "        vertical-align: middle;\n",
       "    }\n",
       "\n",
       "    .dataframe tbody tr th {\n",
       "        vertical-align: top;\n",
       "    }\n",
       "\n",
       "    .dataframe thead th {\n",
       "        text-align: right;\n",
       "    }\n",
       "</style>\n",
       "<table border=\"1\" class=\"dataframe\">\n",
       "  <thead>\n",
       "    <tr style=\"text-align: right;\">\n",
       "      <th></th>\n",
       "      <th>user_id</th>\n",
       "      <th>month</th>\n",
       "      <th>duration</th>\n",
       "      <th>gb_used</th>\n",
       "      <th>message_date</th>\n",
       "      <th>tariff</th>\n",
       "      <th>city</th>\n",
       "      <th>tariff_cost</th>\n",
       "      <th>min_add</th>\n",
       "      <th>gb_add</th>\n",
       "      <th>mes_add</th>\n",
       "      <th>total_income</th>\n",
       "      <th>potential_gb_add</th>\n",
       "    </tr>\n",
       "  </thead>\n",
       "  <tbody>\n",
       "    <tr>\n",
       "      <th>8</th>\n",
       "      <td>1001</td>\n",
       "      <td>11</td>\n",
       "      <td>430.0</td>\n",
       "      <td>19.0</td>\n",
       "      <td>0.0</td>\n",
       "      <td>smart</td>\n",
       "      <td>Москва</td>\n",
       "      <td>550</td>\n",
       "      <td>0.0</td>\n",
       "      <td>800.0</td>\n",
       "      <td>0.0</td>\n",
       "      <td>1350.0</td>\n",
       "      <td>NaN</td>\n",
       "    </tr>\n",
       "    <tr>\n",
       "      <th>9</th>\n",
       "      <td>1001</td>\n",
       "      <td>12</td>\n",
       "      <td>414.0</td>\n",
       "      <td>15.0</td>\n",
       "      <td>0.0</td>\n",
       "      <td>smart</td>\n",
       "      <td>Москва</td>\n",
       "      <td>550</td>\n",
       "      <td>0.0</td>\n",
       "      <td>0.0</td>\n",
       "      <td>0.0</td>\n",
       "      <td>550.0</td>\n",
       "      <td>NaN</td>\n",
       "    </tr>\n",
       "    <tr>\n",
       "      <th>10</th>\n",
       "      <td>1002</td>\n",
       "      <td>6</td>\n",
       "      <td>117.0</td>\n",
       "      <td>11.0</td>\n",
       "      <td>4.0</td>\n",
       "      <td>smart</td>\n",
       "      <td>Стерлитамак</td>\n",
       "      <td>550</td>\n",
       "      <td>0.0</td>\n",
       "      <td>0.0</td>\n",
       "      <td>0.0</td>\n",
       "      <td>550.0</td>\n",
       "      <td>NaN</td>\n",
       "    </tr>\n",
       "    <tr>\n",
       "      <th>11</th>\n",
       "      <td>1002</td>\n",
       "      <td>7</td>\n",
       "      <td>214.0</td>\n",
       "      <td>18.0</td>\n",
       "      <td>11.0</td>\n",
       "      <td>smart</td>\n",
       "      <td>Стерлитамак</td>\n",
       "      <td>550</td>\n",
       "      <td>0.0</td>\n",
       "      <td>600.0</td>\n",
       "      <td>0.0</td>\n",
       "      <td>1150.0</td>\n",
       "      <td>NaN</td>\n",
       "    </tr>\n",
       "    <tr>\n",
       "      <th>12</th>\n",
       "      <td>1002</td>\n",
       "      <td>8</td>\n",
       "      <td>289.0</td>\n",
       "      <td>21.0</td>\n",
       "      <td>13.0</td>\n",
       "      <td>smart</td>\n",
       "      <td>Стерлитамак</td>\n",
       "      <td>550</td>\n",
       "      <td>0.0</td>\n",
       "      <td>1200.0</td>\n",
       "      <td>0.0</td>\n",
       "      <td>1750.0</td>\n",
       "      <td>NaN</td>\n",
       "    </tr>\n",
       "    <tr>\n",
       "      <th>...</th>\n",
       "      <td>...</td>\n",
       "      <td>...</td>\n",
       "      <td>...</td>\n",
       "      <td>...</td>\n",
       "      <td>...</td>\n",
       "      <td>...</td>\n",
       "      <td>...</td>\n",
       "      <td>...</td>\n",
       "      <td>...</td>\n",
       "      <td>...</td>\n",
       "      <td>...</td>\n",
       "      <td>...</td>\n",
       "      <td>...</td>\n",
       "    </tr>\n",
       "    <tr>\n",
       "      <th>3186</th>\n",
       "      <td>1495</td>\n",
       "      <td>8</td>\n",
       "      <td>92.0</td>\n",
       "      <td>3.0</td>\n",
       "      <td>13.0</td>\n",
       "      <td>ultra</td>\n",
       "      <td>Иркутск</td>\n",
       "      <td>1950</td>\n",
       "      <td>0.0</td>\n",
       "      <td>0.0</td>\n",
       "      <td>0.0</td>\n",
       "      <td>1950.0</td>\n",
       "      <td>0.0</td>\n",
       "    </tr>\n",
       "    <tr>\n",
       "      <th>3187</th>\n",
       "      <td>1495</td>\n",
       "      <td>9</td>\n",
       "      <td>813.0</td>\n",
       "      <td>34.0</td>\n",
       "      <td>82.0</td>\n",
       "      <td>ultra</td>\n",
       "      <td>Иркутск</td>\n",
       "      <td>1950</td>\n",
       "      <td>0.0</td>\n",
       "      <td>600.0</td>\n",
       "      <td>0.0</td>\n",
       "      <td>2550.0</td>\n",
       "      <td>0.0</td>\n",
       "    </tr>\n",
       "    <tr>\n",
       "      <th>3188</th>\n",
       "      <td>1495</td>\n",
       "      <td>10</td>\n",
       "      <td>1030.0</td>\n",
       "      <td>30.0</td>\n",
       "      <td>82.0</td>\n",
       "      <td>ultra</td>\n",
       "      <td>Иркутск</td>\n",
       "      <td>1950</td>\n",
       "      <td>0.0</td>\n",
       "      <td>0.0</td>\n",
       "      <td>0.0</td>\n",
       "      <td>1950.0</td>\n",
       "      <td>0.0</td>\n",
       "    </tr>\n",
       "    <tr>\n",
       "      <th>3189</th>\n",
       "      <td>1495</td>\n",
       "      <td>11</td>\n",
       "      <td>954.0</td>\n",
       "      <td>39.0</td>\n",
       "      <td>79.0</td>\n",
       "      <td>ultra</td>\n",
       "      <td>Иркутск</td>\n",
       "      <td>1950</td>\n",
       "      <td>0.0</td>\n",
       "      <td>1350.0</td>\n",
       "      <td>0.0</td>\n",
       "      <td>3300.0</td>\n",
       "      <td>0.0</td>\n",
       "    </tr>\n",
       "    <tr>\n",
       "      <th>3190</th>\n",
       "      <td>1495</td>\n",
       "      <td>12</td>\n",
       "      <td>1031.0</td>\n",
       "      <td>24.0</td>\n",
       "      <td>84.0</td>\n",
       "      <td>ultra</td>\n",
       "      <td>Иркутск</td>\n",
       "      <td>1950</td>\n",
       "      <td>0.0</td>\n",
       "      <td>0.0</td>\n",
       "      <td>0.0</td>\n",
       "      <td>1950.0</td>\n",
       "      <td>0.0</td>\n",
       "    </tr>\n",
       "  </tbody>\n",
       "</table>\n",
       "<p>3214 rows × 13 columns</p>\n",
       "</div>"
      ],
      "text/plain": [
       "      user_id  month  duration  gb_used  message_date tariff         city  \\\n",
       "8        1001     11     430.0     19.0           0.0  smart       Москва   \n",
       "9        1001     12     414.0     15.0           0.0  smart       Москва   \n",
       "10       1002      6     117.0     11.0           4.0  smart  Стерлитамак   \n",
       "11       1002      7     214.0     18.0          11.0  smart  Стерлитамак   \n",
       "12       1002      8     289.0     21.0          13.0  smart  Стерлитамак   \n",
       "...       ...    ...       ...      ...           ...    ...          ...   \n",
       "3186     1495      8      92.0      3.0          13.0  ultra      Иркутск   \n",
       "3187     1495      9     813.0     34.0          82.0  ultra      Иркутск   \n",
       "3188     1495     10    1030.0     30.0          82.0  ultra      Иркутск   \n",
       "3189     1495     11     954.0     39.0          79.0  ultra      Иркутск   \n",
       "3190     1495     12    1031.0     24.0          84.0  ultra      Иркутск   \n",
       "\n",
       "      tariff_cost  min_add  gb_add  mes_add  total_income  potential_gb_add  \n",
       "8             550      0.0   800.0      0.0        1350.0               NaN  \n",
       "9             550      0.0     0.0      0.0         550.0               NaN  \n",
       "10            550      0.0     0.0      0.0         550.0               NaN  \n",
       "11            550      0.0   600.0      0.0        1150.0               NaN  \n",
       "12            550      0.0  1200.0      0.0        1750.0               NaN  \n",
       "...           ...      ...     ...      ...           ...               ...  \n",
       "3186         1950      0.0     0.0      0.0        1950.0               0.0  \n",
       "3187         1950      0.0   600.0      0.0        2550.0               0.0  \n",
       "3188         1950      0.0     0.0      0.0        1950.0               0.0  \n",
       "3189         1950      0.0  1350.0      0.0        3300.0               0.0  \n",
       "3190         1950      0.0     0.0      0.0        1950.0               0.0  \n",
       "\n",
       "[3214 rows x 13 columns]"
      ]
     },
     "execution_count": 73,
     "metadata": {},
     "output_type": "execute_result"
    }
   ],
   "source": [
    "df_common = df_smart.append(df_ultra)\n",
    "df_common\n"
   ]
  },
  {
   "cell_type": "code",
   "execution_count": 74,
   "metadata": {},
   "outputs": [
    {
     "name": "stdout",
     "output_type": "stream",
     "text": [
      "p-значение: 0.5846845024565437\n",
      "Не получилось отвергнуть нулевую гипотезу\n"
     ]
    }
   ],
   "source": [
    "moscow = df_common.query('city == \"Москва\"')\n",
    "others = df_common.query('city != \"Москва\"')\n",
    "\n",
    "alpha = .05\n",
    "\n",
    "results = st.ttest_ind(moscow['total_income'], others['total_income'], equal_var = False)\n",
    "\n",
    "print('p-значение:', results.pvalue)\n",
    "\n",
    "if results.pvalue < alpha:\n",
    "    print(\"Отвергаем нулевую гипотезу\")\n",
    "else:\n",
    "    print(\"Не получилось отвергнуть нулевую гипотезу\") \n",
    "\n"
   ]
  },
  {
   "cell_type": "markdown",
   "metadata": {},
   "source": [
    "<div class=\"alert alert-info\">\n",
    "Анализ объединенного датафрейма так же не опровергает нулевую гипотезу, что выручка пользователей из Москвы не отличается от выручки пользователей из других регионов."
   ]
  },
  {
   "cell_type": "markdown",
   "metadata": {},
   "source": [
    "<div class=\"alert alert-success\">\n",
    "    \n",
    "<b> Комментарий от ревьюера 2 ✔️</b>\n",
    "\n",
    "Отлично!\n",
    "\n",
    "</div>"
   ]
  },
  {
   "cell_type": "markdown",
   "metadata": {},
   "source": [
    "## 5. Общий итог"
   ]
  },
  {
   "cell_type": "markdown",
   "metadata": {},
   "source": [
    "Предоставленные оператором тарифы имеют значительные перекосы. Дешевый тариф \"Смарт\" предлагает явно недостаточное количество включенного интеренет траффика, из-за чего некоторым пользователям приходится оплачивать сумму превышающую даже стоимость тарифа \"Ультра\", в то время как тариф \"Ультра\" явно имеет завышенные показатели количества включенных минут и сообщений. Кроме того, можно так же заметить недоставток траффика и для пользователей тарифа \"Ультра\", а так же высокую стоимость дополнительного траффика, несмотря на достаточно высокую стоимость тарифа. \n",
    "\n",
    "Кроме того, выручка пользователей не зависит от города и тарифа, в то время как выручка от различных тарифов отличается."
   ]
  },
  {
   "cell_type": "markdown",
   "metadata": {},
   "source": [
    "<div class=\"alert alert-danger\">\n",
    "    \n",
    "<b> Комментарий от ревьюера ❗</b>\n",
    "    \n",
    "В задании нас просят определить \"*Чтобы скорректировать рекламный бюджет, коммерческий департамент хочет понять, какой тариф приносит больше денег.*\"\n",
    "    \n",
    "Ответь, пожалуйста, на этот вопрос в общем выводе.\n",
    "</div>\n"
   ]
  },
  {
   "cell_type": "markdown",
   "metadata": {},
   "source": [
    "<div class=\"alert alert-info\">\n",
    "Сравним прибыль, получаемую оператором от каждого таррифа."
   ]
  },
  {
   "cell_type": "code",
   "execution_count": 75,
   "metadata": {
    "scrolled": true
   },
   "outputs": [
    {
     "data": {
      "text/plain": [
       "3000151.0"
      ]
     },
     "execution_count": 75,
     "metadata": {},
     "output_type": "execute_result"
    }
   ],
   "source": [
    "df_smart['total_income'].sum()"
   ]
  },
  {
   "cell_type": "markdown",
   "metadata": {},
   "source": [
    "<div class=\"alert alert-info\">\n",
    "Так как мы изучаем данные 351 пользователя тарифа \"Смарт\", а так же общее количество месяцев за 2018 год использования данного тарифа (2229), мы можем подсчитать среднюю выручку с одного пользователя в месяц."
   ]
  },
  {
   "cell_type": "code",
   "execution_count": 76,
   "metadata": {},
   "outputs": [
    {
     "data": {
      "text/plain": [
       "1345.962763571108"
      ]
     },
     "execution_count": 76,
     "metadata": {},
     "output_type": "execute_result"
    }
   ],
   "source": [
    "mid_gain_smart = df_smart['total_income'].sum() / df_smart['total_income'].count()\n",
    "mid_gain_smart"
   ]
  },
  {
   "cell_type": "markdown",
   "metadata": {},
   "source": [
    "<div class=\"alert alert-info\">\n",
    "Сделаем подобные расчеты для тарифа \"Ультра\""
   ]
  },
  {
   "cell_type": "code",
   "execution_count": 77,
   "metadata": {},
   "outputs": [
    {
     "data": {
      "text/plain": [
       "2058000.0"
      ]
     },
     "execution_count": 77,
     "metadata": {},
     "output_type": "execute_result"
    }
   ],
   "source": [
    "df_ultra['total_income'].sum()"
   ]
  },
  {
   "cell_type": "code",
   "execution_count": 78,
   "metadata": {},
   "outputs": [
    {
     "data": {
      "text/plain": [
       "2089.340101522843"
      ]
     },
     "execution_count": 78,
     "metadata": {},
     "output_type": "execute_result"
    }
   ],
   "source": [
    "mid_gain_ultra = df_ultra['total_income'].sum() / df_ultra['total_income'].count()\n",
    "mid_gain_ultra"
   ]
  },
  {
   "cell_type": "markdown",
   "metadata": {},
   "source": [
    "## Дополнительный общий итог"
   ]
  },
  {
   "cell_type": "markdown",
   "metadata": {},
   "source": [
    "<div class=\"alert alert-info\">\n",
    "Несмотря на факт, что ежемесячная выручка с каждого пользователя тарифа \"Ультра\"  превышает выручку тарифа \"Смарт\", оператору следует учитывать, что согласно выборке тариф \"Смарт\" является значительно более популярным, принеся за указанный период практически на 50% больше выручки. Кроме того, пользователи таррифа \"Смарт\" охотно покупают дополнительные услуги в среднем превышающие месячную стоимость тарифа."
   ]
  },
  {
   "cell_type": "markdown",
   "metadata": {},
   "source": [
    "<div class=\"alert alert-info\">\n",
    "Согласно исследованиям, считаю тариф \"Смарт\" более выгодным для оператора"
   ]
  },
  {
   "cell_type": "markdown",
   "metadata": {},
   "source": [
    "<div class=\"alert alert-success\">\n",
    "    \n",
    "<b> Комментарий от ревьюера 2 ✔️</b>\n",
    "\n",
    "Спасибо, что дополнил вывод, все отлично!\n",
    "\n",
    "</div>\n"
   ]
  },
  {
   "cell_type": "markdown",
   "metadata": {},
   "source": [
    "<div class=\"alert alert-success\">\n",
    "    \n",
    "<b> Комментарий от ревьюера ✔️</b>\n",
    "    \n",
    "Спасибо за твою работу! В целом работа хорошая, но нужно немного дополнить проект:\n",
    "\n",
    "- поправить загрузку данных\n",
    "- изменить объединение таблиц\n",
    "- сформулировать альтернативные гипотезы\n",
    "- дополнить проверку гипотезы про города\n",
    "- дополнить общий вывод\n",
    "\n",
    "Задавай вопросы к моим комментариям, если есть. Жду твои исправления :)\n",
    "</div>\n"
   ]
  },
  {
   "cell_type": "markdown",
   "metadata": {},
   "source": [
    "<div class=\"alert alert-success\">\n",
    "<b> Комментарий от ревьюера 2 ✔️</b>\n",
    "\n",
    "Спасибо, что учел мои комментарии. Надеюсь, эта работа была полезна для тебя. Я принимаю проект и желаю удачи в прохождении курса!\n",
    "\n",
    "</div>\n",
    "\n"
   ]
  }
 ],
 "metadata": {
  "ExecuteTimeLog": [
   {
    "duration": 744,
    "start_time": "2022-05-02T13:38:30.212Z"
   },
   {
    "duration": 344,
    "start_time": "2022-05-02T13:38:42.879Z"
   },
   {
    "duration": 244,
    "start_time": "2022-05-02T13:41:04.926Z"
   },
   {
    "duration": 121,
    "start_time": "2022-05-02T13:45:27.542Z"
   },
   {
    "duration": 21,
    "start_time": "2022-05-02T13:47:01.266Z"
   },
   {
    "duration": 151,
    "start_time": "2022-05-02T13:48:34.646Z"
   },
   {
    "duration": 49,
    "start_time": "2022-05-02T13:48:40.070Z"
   },
   {
    "duration": 34,
    "start_time": "2022-05-02T15:12:44.730Z"
   },
   {
    "duration": 89,
    "start_time": "2022-05-02T15:13:14.271Z"
   },
   {
    "duration": 69,
    "start_time": "2022-05-02T15:15:07.861Z"
   },
   {
    "duration": 62,
    "start_time": "2022-05-02T15:17:09.371Z"
   },
   {
    "duration": 47,
    "start_time": "2022-05-02T15:17:16.408Z"
   },
   {
    "duration": 16,
    "start_time": "2022-05-02T15:23:40.225Z"
   },
   {
    "duration": 12,
    "start_time": "2022-05-02T15:23:53.245Z"
   },
   {
    "duration": 12,
    "start_time": "2022-05-02T15:29:42.734Z"
   },
   {
    "duration": 79,
    "start_time": "2022-05-02T20:20:35.268Z"
   },
   {
    "duration": 9,
    "start_time": "2022-05-02T20:22:06.649Z"
   },
   {
    "duration": 560,
    "start_time": "2022-05-02T20:22:23.147Z"
   },
   {
    "duration": 139,
    "start_time": "2022-05-02T20:22:25.123Z"
   },
   {
    "duration": 90,
    "start_time": "2022-05-02T20:22:27.287Z"
   },
   {
    "duration": 25,
    "start_time": "2022-05-02T20:22:28.942Z"
   },
   {
    "duration": 45,
    "start_time": "2022-05-02T20:22:31.040Z"
   },
   {
    "duration": 45,
    "start_time": "2022-05-02T20:22:34.293Z"
   },
   {
    "duration": 46,
    "start_time": "2022-05-02T20:22:36.767Z"
   },
   {
    "duration": 10,
    "start_time": "2022-05-02T20:23:04.387Z"
   },
   {
    "duration": 9,
    "start_time": "2022-05-02T21:04:40.159Z"
   },
   {
    "duration": 9,
    "start_time": "2022-05-02T21:08:46.212Z"
   },
   {
    "duration": 6,
    "start_time": "2022-05-02T21:08:56.623Z"
   },
   {
    "duration": 14,
    "start_time": "2022-05-02T21:09:11.901Z"
   },
   {
    "duration": 12,
    "start_time": "2022-05-02T21:09:41.911Z"
   },
   {
    "duration": 15,
    "start_time": "2022-05-02T21:10:45.876Z"
   },
   {
    "duration": 28,
    "start_time": "2022-05-02T21:12:37.689Z"
   },
   {
    "duration": 197,
    "start_time": "2022-05-02T21:18:54.373Z"
   },
   {
    "duration": 6,
    "start_time": "2022-05-02T21:19:34.080Z"
   },
   {
    "duration": 26,
    "start_time": "2022-05-02T21:19:44.271Z"
   },
   {
    "duration": 443,
    "start_time": "2022-05-02T21:20:37.919Z"
   },
   {
    "duration": 27,
    "start_time": "2022-05-02T21:20:48.596Z"
   },
   {
    "duration": 27,
    "start_time": "2022-05-02T21:22:13.723Z"
   },
   {
    "duration": 18,
    "start_time": "2022-05-02T21:23:28.351Z"
   },
   {
    "duration": 10,
    "start_time": "2022-05-02T21:25:58.916Z"
   },
   {
    "duration": 22,
    "start_time": "2022-05-02T21:26:26.557Z"
   },
   {
    "duration": 535,
    "start_time": "2022-05-03T03:23:11.378Z"
   },
   {
    "duration": 144,
    "start_time": "2022-05-03T03:23:13.762Z"
   },
   {
    "duration": 91,
    "start_time": "2022-05-03T03:23:15.589Z"
   },
   {
    "duration": 19,
    "start_time": "2022-05-03T03:23:17.871Z"
   },
   {
    "duration": 63,
    "start_time": "2022-05-03T03:23:19.837Z"
   },
   {
    "duration": 26,
    "start_time": "2022-05-03T03:23:25.195Z"
   },
   {
    "duration": 21,
    "start_time": "2022-05-03T03:23:27.708Z"
   },
   {
    "duration": 13,
    "start_time": "2022-05-03T03:23:37.978Z"
   },
   {
    "duration": 30,
    "start_time": "2022-05-03T03:23:48.695Z"
   },
   {
    "duration": 84,
    "start_time": "2022-05-03T03:25:46.305Z"
   },
   {
    "duration": 164,
    "start_time": "2022-05-03T03:26:08.765Z"
   },
   {
    "duration": 19,
    "start_time": "2022-05-03T03:26:14.878Z"
   },
   {
    "duration": 19,
    "start_time": "2022-05-03T03:26:49.850Z"
   },
   {
    "duration": 19,
    "start_time": "2022-05-03T03:27:16.298Z"
   },
   {
    "duration": 25,
    "start_time": "2022-05-03T03:27:20.534Z"
   },
   {
    "duration": 20,
    "start_time": "2022-05-03T03:27:22.821Z"
   },
   {
    "duration": 25,
    "start_time": "2022-05-03T03:27:26.499Z"
   },
   {
    "duration": 9,
    "start_time": "2022-05-03T03:27:41.179Z"
   },
   {
    "duration": 23,
    "start_time": "2022-05-03T03:28:11.014Z"
   },
   {
    "duration": 24,
    "start_time": "2022-05-03T03:30:25.362Z"
   },
   {
    "duration": 22,
    "start_time": "2022-05-03T03:30:52.709Z"
   },
   {
    "duration": 11,
    "start_time": "2022-05-03T03:31:32.012Z"
   },
   {
    "duration": 7,
    "start_time": "2022-05-03T03:33:04.425Z"
   },
   {
    "duration": 19,
    "start_time": "2022-05-03T03:33:17.551Z"
   },
   {
    "duration": 24,
    "start_time": "2022-05-03T03:33:20.290Z"
   },
   {
    "duration": 12,
    "start_time": "2022-05-03T03:33:22.424Z"
   },
   {
    "duration": 624,
    "start_time": "2022-05-03T03:34:29.179Z"
   },
   {
    "duration": 7,
    "start_time": "2022-05-03T03:37:16.805Z"
   },
   {
    "duration": 23,
    "start_time": "2022-05-03T03:45:33.226Z"
   },
   {
    "duration": 2,
    "start_time": "2022-05-03T03:47:47.192Z"
   },
   {
    "duration": 1542,
    "start_time": "2022-05-03T03:49:50.791Z"
   },
   {
    "duration": 168,
    "start_time": "2022-05-03T03:51:58.109Z"
   },
   {
    "duration": 1360,
    "start_time": "2022-05-03T03:52:27.539Z"
   },
   {
    "duration": 2738,
    "start_time": "2022-05-03T03:53:05.634Z"
   },
   {
    "duration": 2755,
    "start_time": "2022-05-03T03:54:04.681Z"
   },
   {
    "duration": 1472,
    "start_time": "2022-05-03T03:54:59.022Z"
   },
   {
    "duration": 52,
    "start_time": "2022-05-03T03:56:50.058Z"
   },
   {
    "duration": 40,
    "start_time": "2022-05-03T03:56:57.687Z"
   },
   {
    "duration": 59,
    "start_time": "2022-05-03T03:57:28.232Z"
   },
   {
    "duration": 56,
    "start_time": "2022-05-03T03:58:04.572Z"
   },
   {
    "duration": 32,
    "start_time": "2022-05-03T03:58:08.473Z"
   },
   {
    "duration": 13,
    "start_time": "2022-05-03T03:58:45.405Z"
   },
   {
    "duration": 11,
    "start_time": "2022-05-03T03:59:10.926Z"
   },
   {
    "duration": 11,
    "start_time": "2022-05-03T03:59:26.471Z"
   },
   {
    "duration": 41,
    "start_time": "2022-05-03T04:00:20.001Z"
   },
   {
    "duration": 63,
    "start_time": "2022-05-03T04:04:00.835Z"
   },
   {
    "duration": 12,
    "start_time": "2022-05-03T04:04:48.558Z"
   },
   {
    "duration": 120,
    "start_time": "2022-05-03T04:04:52.226Z"
   },
   {
    "duration": 7,
    "start_time": "2022-05-03T04:04:54.682Z"
   },
   {
    "duration": 60,
    "start_time": "2022-05-03T04:05:05.172Z"
   },
   {
    "duration": 12,
    "start_time": "2022-05-03T04:05:08.739Z"
   },
   {
    "duration": 20,
    "start_time": "2022-05-03T04:05:47.581Z"
   },
   {
    "duration": 11,
    "start_time": "2022-05-03T04:06:48.791Z"
   },
   {
    "duration": 12,
    "start_time": "2022-05-03T04:07:24.093Z"
   },
   {
    "duration": 123,
    "start_time": "2022-05-03T04:08:14.721Z"
   },
   {
    "duration": 6,
    "start_time": "2022-05-03T04:08:24.831Z"
   },
   {
    "duration": 7,
    "start_time": "2022-05-03T04:08:42.454Z"
   },
   {
    "duration": 2682,
    "start_time": "2022-05-03T04:11:49.950Z"
   },
   {
    "duration": 155,
    "start_time": "2022-05-03T04:12:05.868Z"
   },
   {
    "duration": 135,
    "start_time": "2022-05-03T04:12:08.293Z"
   },
   {
    "duration": 90,
    "start_time": "2022-05-03T04:12:15.733Z"
   },
   {
    "duration": 19,
    "start_time": "2022-05-03T04:12:17.627Z"
   },
   {
    "duration": 33,
    "start_time": "2022-05-03T04:12:18.981Z"
   },
   {
    "duration": 26,
    "start_time": "2022-05-03T04:12:21.483Z"
   },
   {
    "duration": 22,
    "start_time": "2022-05-03T04:12:24.246Z"
   },
   {
    "duration": 12,
    "start_time": "2022-05-03T04:12:25.827Z"
   },
   {
    "duration": 59,
    "start_time": "2022-05-03T04:12:29.087Z"
   },
   {
    "duration": 14,
    "start_time": "2022-05-03T04:12:31.779Z"
   },
   {
    "duration": 39,
    "start_time": "2022-05-03T04:12:33.828Z"
   },
   {
    "duration": 2692,
    "start_time": "2022-05-03T04:12:38.221Z"
   },
   {
    "duration": 67,
    "start_time": "2022-05-03T04:12:52.479Z"
   },
   {
    "duration": 57,
    "start_time": "2022-05-03T04:13:41.335Z"
   },
   {
    "duration": 26,
    "start_time": "2022-05-03T04:18:39.554Z"
   },
   {
    "duration": 4,
    "start_time": "2022-05-03T04:20:15.657Z"
   },
   {
    "duration": 37,
    "start_time": "2022-05-03T04:22:14.889Z"
   },
   {
    "duration": 25,
    "start_time": "2022-05-03T04:23:31.656Z"
   },
   {
    "duration": 5,
    "start_time": "2022-05-03T04:27:05.741Z"
   },
   {
    "duration": 17,
    "start_time": "2022-05-03T04:27:17.127Z"
   },
   {
    "duration": 17,
    "start_time": "2022-05-03T04:27:32.275Z"
   },
   {
    "duration": 15,
    "start_time": "2022-05-03T04:28:13.721Z"
   },
   {
    "duration": 10,
    "start_time": "2022-05-03T04:28:43.600Z"
   },
   {
    "duration": 11,
    "start_time": "2022-05-03T04:31:14.057Z"
   },
   {
    "duration": 16,
    "start_time": "2022-05-03T04:31:37.227Z"
   },
   {
    "duration": 16,
    "start_time": "2022-05-03T04:32:12.837Z"
   },
   {
    "duration": 15,
    "start_time": "2022-05-03T04:33:53.119Z"
   },
   {
    "duration": 7,
    "start_time": "2022-05-03T04:39:20.416Z"
   },
   {
    "duration": 50,
    "start_time": "2022-05-03T04:41:29.838Z"
   },
   {
    "duration": 561,
    "start_time": "2022-05-03T04:41:43.262Z"
   },
   {
    "duration": 145,
    "start_time": "2022-05-03T04:41:45.741Z"
   },
   {
    "duration": 97,
    "start_time": "2022-05-03T04:41:47.929Z"
   },
   {
    "duration": 21,
    "start_time": "2022-05-03T04:41:49.906Z"
   },
   {
    "duration": 35,
    "start_time": "2022-05-03T04:41:51.868Z"
   },
   {
    "duration": 27,
    "start_time": "2022-05-03T04:41:54.146Z"
   },
   {
    "duration": 22,
    "start_time": "2022-05-03T04:41:57.264Z"
   },
   {
    "duration": 14,
    "start_time": "2022-05-03T04:41:59.030Z"
   },
   {
    "duration": 58,
    "start_time": "2022-05-03T04:42:01.113Z"
   },
   {
    "duration": 16,
    "start_time": "2022-05-03T04:42:02.818Z"
   },
   {
    "duration": 47,
    "start_time": "2022-05-03T04:42:04.746Z"
   },
   {
    "duration": 39,
    "start_time": "2022-05-03T04:42:06.685Z"
   },
   {
    "duration": 35,
    "start_time": "2022-05-03T04:42:08.198Z"
   },
   {
    "duration": 14,
    "start_time": "2022-05-03T04:42:10.410Z"
   },
   {
    "duration": 21,
    "start_time": "2022-05-03T04:42:13.361Z"
   },
   {
    "duration": 62,
    "start_time": "2022-05-03T04:42:15.164Z"
   },
   {
    "duration": 13,
    "start_time": "2022-05-03T04:42:17.613Z"
   },
   {
    "duration": 422,
    "start_time": "2022-05-03T04:42:20.106Z"
   },
   {
    "duration": 7,
    "start_time": "2022-05-03T04:42:23.342Z"
   },
   {
    "duration": 590,
    "start_time": "2022-05-03T15:26:31.414Z"
   },
   {
    "duration": 143,
    "start_time": "2022-05-03T15:26:34.091Z"
   },
   {
    "duration": 95,
    "start_time": "2022-05-03T15:26:36.453Z"
   },
   {
    "duration": 1615,
    "start_time": "2022-05-03T15:26:40.163Z"
   },
   {
    "duration": 21,
    "start_time": "2022-05-03T15:26:42.060Z"
   },
   {
    "duration": 65,
    "start_time": "2022-05-03T15:26:44.706Z"
   },
   {
    "duration": 29,
    "start_time": "2022-05-03T15:26:48.106Z"
   },
   {
    "duration": 23,
    "start_time": "2022-05-03T15:26:50.322Z"
   },
   {
    "duration": 15,
    "start_time": "2022-05-03T15:26:52.546Z"
   },
   {
    "duration": 56,
    "start_time": "2022-05-03T15:26:55.436Z"
   },
   {
    "duration": 14,
    "start_time": "2022-05-03T15:26:57.864Z"
   },
   {
    "duration": 45,
    "start_time": "2022-05-03T15:27:00.716Z"
   },
   {
    "duration": 38,
    "start_time": "2022-05-03T15:27:04.227Z"
   },
   {
    "duration": 31,
    "start_time": "2022-05-03T15:27:06.940Z"
   },
   {
    "duration": 14,
    "start_time": "2022-05-03T15:27:09.807Z"
   },
   {
    "duration": 20,
    "start_time": "2022-05-03T15:27:13.540Z"
   },
   {
    "duration": 64,
    "start_time": "2022-05-03T15:27:15.489Z"
   },
   {
    "duration": 12,
    "start_time": "2022-05-03T15:27:18.793Z"
   },
   {
    "duration": 658,
    "start_time": "2022-05-03T15:27:22.106Z"
   },
   {
    "duration": 13,
    "start_time": "2022-05-03T15:30:59.928Z"
   },
   {
    "duration": 77,
    "start_time": "2022-05-03T15:33:07.036Z"
   },
   {
    "duration": 16,
    "start_time": "2022-05-03T15:33:19.628Z"
   },
   {
    "duration": 70,
    "start_time": "2022-05-03T15:34:35.057Z"
   },
   {
    "duration": 276,
    "start_time": "2022-05-03T15:34:45.253Z"
   },
   {
    "duration": 9,
    "start_time": "2022-05-03T15:35:40.717Z"
   },
   {
    "duration": 584,
    "start_time": "2022-05-03T15:40:40.072Z"
   },
   {
    "duration": 155,
    "start_time": "2022-05-03T15:40:42.268Z"
   },
   {
    "duration": 103,
    "start_time": "2022-05-03T15:40:43.876Z"
   },
   {
    "duration": 26,
    "start_time": "2022-05-03T15:40:45.768Z"
   },
   {
    "duration": 59,
    "start_time": "2022-05-03T15:40:47.143Z"
   },
   {
    "duration": 36,
    "start_time": "2022-05-03T15:40:49.958Z"
   },
   {
    "duration": 23,
    "start_time": "2022-05-03T15:40:51.734Z"
   },
   {
    "duration": 15,
    "start_time": "2022-05-03T15:40:53.188Z"
   },
   {
    "duration": 57,
    "start_time": "2022-05-03T15:40:55.304Z"
   },
   {
    "duration": 14,
    "start_time": "2022-05-03T15:40:57.181Z"
   },
   {
    "duration": 65,
    "start_time": "2022-05-03T15:40:59.283Z"
   },
   {
    "duration": 11,
    "start_time": "2022-05-03T15:41:04.488Z"
   },
   {
    "duration": 65,
    "start_time": "2022-05-03T15:41:06.733Z"
   },
   {
    "duration": 33,
    "start_time": "2022-05-03T15:41:08.067Z"
   },
   {
    "duration": 15,
    "start_time": "2022-05-03T15:41:16.166Z"
   },
   {
    "duration": 21,
    "start_time": "2022-05-03T15:41:20.353Z"
   },
   {
    "duration": 62,
    "start_time": "2022-05-03T15:41:23.999Z"
   },
   {
    "duration": 18,
    "start_time": "2022-05-03T15:41:27.391Z"
   },
   {
    "duration": 7,
    "start_time": "2022-05-03T15:41:29.773Z"
   },
   {
    "duration": 81,
    "start_time": "2022-05-03T15:42:27.427Z"
   },
   {
    "duration": 43,
    "start_time": "2022-05-03T15:45:16.030Z"
   },
   {
    "duration": 12,
    "start_time": "2022-05-03T15:45:44.950Z"
   },
   {
    "duration": 8,
    "start_time": "2022-05-03T15:49:26.933Z"
   },
   {
    "duration": 9,
    "start_time": "2022-05-03T15:49:37.395Z"
   },
   {
    "duration": 180,
    "start_time": "2022-05-03T17:16:33.973Z"
   },
   {
    "duration": 145,
    "start_time": "2022-05-03T17:16:35.950Z"
   },
   {
    "duration": 98,
    "start_time": "2022-05-03T17:16:38.026Z"
   },
   {
    "duration": 21,
    "start_time": "2022-05-03T17:16:40.098Z"
   },
   {
    "duration": 73,
    "start_time": "2022-05-03T17:16:41.778Z"
   },
   {
    "duration": 42,
    "start_time": "2022-05-03T17:16:44.451Z"
   },
   {
    "duration": 21,
    "start_time": "2022-05-03T17:16:46.507Z"
   },
   {
    "duration": 13,
    "start_time": "2022-05-03T17:16:52.383Z"
   },
   {
    "duration": 56,
    "start_time": "2022-05-03T17:16:59.475Z"
   },
   {
    "duration": 13,
    "start_time": "2022-05-03T17:17:03.815Z"
   },
   {
    "duration": 31,
    "start_time": "2022-05-03T17:17:51.157Z"
   },
   {
    "duration": 12,
    "start_time": "2022-05-03T17:17:54.218Z"
   },
   {
    "duration": 11,
    "start_time": "2022-05-03T17:18:50.443Z"
   },
   {
    "duration": 10,
    "start_time": "2022-05-03T17:18:59.482Z"
   },
   {
    "duration": 39,
    "start_time": "2022-05-03T17:19:03.563Z"
   },
   {
    "duration": 28,
    "start_time": "2022-05-03T17:19:05.504Z"
   },
   {
    "duration": 16,
    "start_time": "2022-05-03T17:19:14.749Z"
   },
   {
    "duration": 11,
    "start_time": "2022-05-03T17:20:03.826Z"
   },
   {
    "duration": 13,
    "start_time": "2022-05-03T17:20:47.040Z"
   },
   {
    "duration": 7,
    "start_time": "2022-05-03T17:23:14.379Z"
   },
   {
    "duration": 5,
    "start_time": "2022-05-03T17:23:25.707Z"
   },
   {
    "duration": 12,
    "start_time": "2022-05-03T17:27:49.574Z"
   },
   {
    "duration": 4,
    "start_time": "2022-05-03T17:28:04.491Z"
   },
   {
    "duration": 4,
    "start_time": "2022-05-03T17:28:21.423Z"
   },
   {
    "duration": 27,
    "start_time": "2022-05-03T17:28:25.344Z"
   },
   {
    "duration": 24,
    "start_time": "2022-05-03T17:28:26.830Z"
   },
   {
    "duration": 4,
    "start_time": "2022-05-03T17:28:28.619Z"
   },
   {
    "duration": 3,
    "start_time": "2022-05-03T17:28:41.339Z"
   },
   {
    "duration": 5,
    "start_time": "2022-05-03T17:28:48.487Z"
   },
   {
    "duration": 4,
    "start_time": "2022-05-03T17:28:56.207Z"
   },
   {
    "duration": 845,
    "start_time": "2022-05-13T03:24:31.442Z"
   },
   {
    "duration": 199,
    "start_time": "2022-05-13T03:24:34.593Z"
   },
   {
    "duration": 136,
    "start_time": "2022-05-13T03:24:51.609Z"
   },
   {
    "duration": 19,
    "start_time": "2022-05-13T03:25:13.474Z"
   },
   {
    "duration": 34,
    "start_time": "2022-05-13T03:25:17.488Z"
   },
   {
    "duration": 55,
    "start_time": "2022-05-13T03:25:22.250Z"
   },
   {
    "duration": 28,
    "start_time": "2022-05-13T03:25:24.161Z"
   },
   {
    "duration": 6,
    "start_time": "2022-05-13T03:25:38.975Z"
   },
   {
    "duration": 21,
    "start_time": "2022-05-13T03:25:42.640Z"
   },
   {
    "duration": 142,
    "start_time": "2022-05-13T03:25:48.259Z"
   },
   {
    "duration": 20,
    "start_time": "2022-05-13T03:26:00.977Z"
   },
   {
    "duration": 68,
    "start_time": "2022-05-13T03:26:42.297Z"
   },
   {
    "duration": 16,
    "start_time": "2022-05-13T03:27:11.171Z"
   },
   {
    "duration": 27,
    "start_time": "2022-05-13T03:28:06.517Z"
   },
   {
    "duration": 212,
    "start_time": "2022-05-13T03:28:11.298Z"
   },
   {
    "duration": 278,
    "start_time": "2022-05-13T03:28:34.746Z"
   },
   {
    "duration": 186,
    "start_time": "2022-05-13T03:28:37.527Z"
   },
   {
    "duration": 25,
    "start_time": "2022-05-13T03:28:39.326Z"
   },
   {
    "duration": 42,
    "start_time": "2022-05-13T03:28:41.418Z"
   },
   {
    "duration": 35,
    "start_time": "2022-05-13T03:28:43.117Z"
   },
   {
    "duration": 27,
    "start_time": "2022-05-13T03:29:07.958Z"
   },
   {
    "duration": 8,
    "start_time": "2022-05-13T03:29:11.146Z"
   },
   {
    "duration": 24,
    "start_time": "2022-05-13T03:29:12.618Z"
   },
   {
    "duration": 83,
    "start_time": "2022-05-13T03:29:15.534Z"
   },
   {
    "duration": 17,
    "start_time": "2022-05-13T03:29:17.466Z"
   },
   {
    "duration": 57,
    "start_time": "2022-05-13T03:29:19.498Z"
   },
   {
    "duration": 18,
    "start_time": "2022-05-13T03:29:21.666Z"
   },
   {
    "duration": 54,
    "start_time": "2022-05-13T03:29:23.718Z"
   },
   {
    "duration": 41,
    "start_time": "2022-05-13T03:29:24.878Z"
   },
   {
    "duration": 25,
    "start_time": "2022-05-13T03:29:27.327Z"
   },
   {
    "duration": 26,
    "start_time": "2022-05-13T03:29:30.037Z"
   },
   {
    "duration": 88,
    "start_time": "2022-05-13T03:29:33.314Z"
   },
   {
    "duration": 27,
    "start_time": "2022-05-13T03:29:35.626Z"
   },
   {
    "duration": 9,
    "start_time": "2022-05-13T03:29:37.806Z"
   },
   {
    "duration": 105,
    "start_time": "2022-05-13T03:29:43.866Z"
   },
   {
    "duration": 41,
    "start_time": "2022-05-13T03:39:56.177Z"
   },
   {
    "duration": 15,
    "start_time": "2022-05-13T03:40:14.558Z"
   },
   {
    "duration": 44,
    "start_time": "2022-05-13T03:41:17.378Z"
   },
   {
    "duration": 17,
    "start_time": "2022-05-13T03:41:41.526Z"
   },
   {
    "duration": 38,
    "start_time": "2022-05-13T03:42:07.277Z"
   },
   {
    "duration": 985,
    "start_time": "2022-05-13T03:44:45.145Z"
   },
   {
    "duration": 1016,
    "start_time": "2022-05-13T03:44:56.299Z"
   },
   {
    "duration": 976,
    "start_time": "2022-05-13T03:46:06.846Z"
   },
   {
    "duration": 501,
    "start_time": "2022-05-13T03:48:25.475Z"
   },
   {
    "duration": 674,
    "start_time": "2022-05-14T19:12:17.404Z"
   },
   {
    "duration": 0,
    "start_time": "2022-05-14T19:12:18.083Z"
   },
   {
    "duration": 0,
    "start_time": "2022-05-14T19:12:18.085Z"
   },
   {
    "duration": 0,
    "start_time": "2022-05-14T19:12:18.086Z"
   },
   {
    "duration": 0,
    "start_time": "2022-05-14T19:12:18.088Z"
   },
   {
    "duration": 0,
    "start_time": "2022-05-14T19:12:18.089Z"
   },
   {
    "duration": 0,
    "start_time": "2022-05-14T19:12:18.091Z"
   },
   {
    "duration": 0,
    "start_time": "2022-05-14T19:12:18.092Z"
   },
   {
    "duration": 0,
    "start_time": "2022-05-14T19:12:18.094Z"
   },
   {
    "duration": 0,
    "start_time": "2022-05-14T19:12:18.095Z"
   },
   {
    "duration": 0,
    "start_time": "2022-05-14T19:12:18.096Z"
   },
   {
    "duration": 0,
    "start_time": "2022-05-14T19:12:18.097Z"
   },
   {
    "duration": 0,
    "start_time": "2022-05-14T19:12:18.098Z"
   },
   {
    "duration": 0,
    "start_time": "2022-05-14T19:12:18.099Z"
   },
   {
    "duration": 0,
    "start_time": "2022-05-14T19:12:18.100Z"
   },
   {
    "duration": 0,
    "start_time": "2022-05-14T19:12:18.101Z"
   },
   {
    "duration": 0,
    "start_time": "2022-05-14T19:12:18.102Z"
   },
   {
    "duration": 1,
    "start_time": "2022-05-14T19:12:18.103Z"
   },
   {
    "duration": 0,
    "start_time": "2022-05-14T19:12:18.105Z"
   },
   {
    "duration": 0,
    "start_time": "2022-05-14T19:12:18.106Z"
   },
   {
    "duration": 1,
    "start_time": "2022-05-14T19:12:18.107Z"
   },
   {
    "duration": 0,
    "start_time": "2022-05-14T19:12:18.109Z"
   },
   {
    "duration": 0,
    "start_time": "2022-05-14T19:12:18.110Z"
   },
   {
    "duration": 0,
    "start_time": "2022-05-14T19:12:18.151Z"
   },
   {
    "duration": 0,
    "start_time": "2022-05-14T19:12:18.154Z"
   },
   {
    "duration": 0,
    "start_time": "2022-05-14T19:12:18.155Z"
   },
   {
    "duration": 0,
    "start_time": "2022-05-14T19:12:18.156Z"
   },
   {
    "duration": 0,
    "start_time": "2022-05-14T19:12:18.158Z"
   },
   {
    "duration": 0,
    "start_time": "2022-05-14T19:12:18.159Z"
   },
   {
    "duration": 0,
    "start_time": "2022-05-14T19:12:18.160Z"
   },
   {
    "duration": 1,
    "start_time": "2022-05-14T19:12:18.161Z"
   },
   {
    "duration": 0,
    "start_time": "2022-05-14T19:12:18.163Z"
   },
   {
    "duration": 0,
    "start_time": "2022-05-14T19:12:18.165Z"
   },
   {
    "duration": 0,
    "start_time": "2022-05-14T19:12:18.166Z"
   },
   {
    "duration": 0,
    "start_time": "2022-05-14T19:12:18.168Z"
   },
   {
    "duration": 0,
    "start_time": "2022-05-14T19:12:18.169Z"
   },
   {
    "duration": 0,
    "start_time": "2022-05-14T19:12:18.171Z"
   },
   {
    "duration": 0,
    "start_time": "2022-05-14T19:12:18.172Z"
   },
   {
    "duration": 0,
    "start_time": "2022-05-14T19:12:18.174Z"
   },
   {
    "duration": 0,
    "start_time": "2022-05-14T19:12:18.175Z"
   },
   {
    "duration": 0,
    "start_time": "2022-05-14T19:12:18.176Z"
   },
   {
    "duration": 0,
    "start_time": "2022-05-14T19:12:18.178Z"
   },
   {
    "duration": 0,
    "start_time": "2022-05-14T19:12:18.179Z"
   },
   {
    "duration": 0,
    "start_time": "2022-05-14T19:12:18.181Z"
   },
   {
    "duration": 0,
    "start_time": "2022-05-14T19:12:18.182Z"
   },
   {
    "duration": 0,
    "start_time": "2022-05-14T19:12:18.184Z"
   },
   {
    "duration": 0,
    "start_time": "2022-05-14T19:12:18.187Z"
   },
   {
    "duration": 0,
    "start_time": "2022-05-14T19:12:18.188Z"
   },
   {
    "duration": 0,
    "start_time": "2022-05-14T19:12:18.252Z"
   },
   {
    "duration": 0,
    "start_time": "2022-05-14T19:12:18.254Z"
   },
   {
    "duration": 0,
    "start_time": "2022-05-14T19:12:18.255Z"
   },
   {
    "duration": 0,
    "start_time": "2022-05-14T19:12:18.256Z"
   },
   {
    "duration": 0,
    "start_time": "2022-05-14T19:12:18.257Z"
   },
   {
    "duration": 0,
    "start_time": "2022-05-14T19:12:18.259Z"
   },
   {
    "duration": 0,
    "start_time": "2022-05-14T19:12:18.260Z"
   },
   {
    "duration": 0,
    "start_time": "2022-05-14T19:12:18.262Z"
   },
   {
    "duration": 0,
    "start_time": "2022-05-14T19:12:18.263Z"
   },
   {
    "duration": 0,
    "start_time": "2022-05-14T19:12:18.264Z"
   },
   {
    "duration": 0,
    "start_time": "2022-05-14T19:12:18.266Z"
   },
   {
    "duration": 0,
    "start_time": "2022-05-14T19:12:18.267Z"
   },
   {
    "duration": 0,
    "start_time": "2022-05-14T19:12:18.268Z"
   },
   {
    "duration": 0,
    "start_time": "2022-05-14T19:12:18.270Z"
   },
   {
    "duration": 0,
    "start_time": "2022-05-14T19:12:18.271Z"
   },
   {
    "duration": 0,
    "start_time": "2022-05-14T19:12:18.273Z"
   },
   {
    "duration": 0,
    "start_time": "2022-05-14T19:12:18.275Z"
   },
   {
    "duration": 0,
    "start_time": "2022-05-14T19:12:18.276Z"
   },
   {
    "duration": 0,
    "start_time": "2022-05-14T19:12:18.278Z"
   },
   {
    "duration": 0,
    "start_time": "2022-05-14T19:12:18.279Z"
   },
   {
    "duration": 768,
    "start_time": "2022-05-14T19:51:53.869Z"
   },
   {
    "duration": 287,
    "start_time": "2022-05-14T19:51:54.641Z"
   },
   {
    "duration": 135,
    "start_time": "2022-05-14T19:51:54.931Z"
   },
   {
    "duration": 20,
    "start_time": "2022-05-14T19:51:55.069Z"
   },
   {
    "duration": 43,
    "start_time": "2022-05-14T19:51:55.092Z"
   },
   {
    "duration": 26,
    "start_time": "2022-05-14T19:51:55.153Z"
   },
   {
    "duration": 81,
    "start_time": "2022-05-14T19:51:55.182Z"
   },
   {
    "duration": 28,
    "start_time": "2022-05-14T19:51:55.266Z"
   },
   {
    "duration": 22,
    "start_time": "2022-05-14T19:51:55.296Z"
   },
   {
    "duration": 4,
    "start_time": "2022-05-14T19:51:55.351Z"
   },
   {
    "duration": 102,
    "start_time": "2022-05-14T19:51:55.358Z"
   },
   {
    "duration": 19,
    "start_time": "2022-05-14T19:51:55.463Z"
   },
   {
    "duration": 84,
    "start_time": "2022-05-14T19:51:55.484Z"
   },
   {
    "duration": 3,
    "start_time": "2022-05-14T19:51:55.571Z"
   },
   {
    "duration": 78,
    "start_time": "2022-05-14T19:51:55.576Z"
   },
   {
    "duration": 4,
    "start_time": "2022-05-14T19:51:55.656Z"
   },
   {
    "duration": 90,
    "start_time": "2022-05-14T19:51:55.663Z"
   },
   {
    "duration": 25,
    "start_time": "2022-05-14T19:51:55.756Z"
   },
   {
    "duration": 3,
    "start_time": "2022-05-14T19:51:55.784Z"
   },
   {
    "duration": 28,
    "start_time": "2022-05-14T19:51:55.790Z"
   },
   {
    "duration": 147,
    "start_time": "2022-05-14T19:51:55.853Z"
   },
   {
    "duration": 32,
    "start_time": "2022-05-14T19:51:56.002Z"
   },
   {
    "duration": 14,
    "start_time": "2022-05-14T19:51:56.054Z"
   },
   {
    "duration": 42,
    "start_time": "2022-05-14T19:51:56.071Z"
   },
   {
    "duration": 136,
    "start_time": "2022-05-14T19:51:56.116Z"
   },
   {
    "duration": 27,
    "start_time": "2022-05-14T19:51:56.254Z"
   },
   {
    "duration": 10,
    "start_time": "2022-05-14T19:51:56.283Z"
   },
   {
    "duration": 66,
    "start_time": "2022-05-14T19:51:56.300Z"
   },
   {
    "duration": 9,
    "start_time": "2022-05-14T19:51:56.369Z"
   },
   {
    "duration": 29,
    "start_time": "2022-05-14T19:51:56.381Z"
   },
   {
    "duration": 10,
    "start_time": "2022-05-14T19:51:56.412Z"
   },
   {
    "duration": 6,
    "start_time": "2022-05-14T19:51:56.452Z"
   },
   {
    "duration": 7,
    "start_time": "2022-05-14T19:51:56.460Z"
   },
   {
    "duration": 31,
    "start_time": "2022-05-14T19:51:56.470Z"
   },
   {
    "duration": 3,
    "start_time": "2022-05-14T19:51:56.504Z"
   },
   {
    "duration": 75,
    "start_time": "2022-05-14T19:51:56.510Z"
   },
   {
    "duration": 39,
    "start_time": "2022-05-14T19:51:56.587Z"
   },
   {
    "duration": 38,
    "start_time": "2022-05-14T19:51:56.652Z"
   },
   {
    "duration": 60,
    "start_time": "2022-05-14T19:51:56.693Z"
   },
   {
    "duration": 7,
    "start_time": "2022-05-14T19:51:56.756Z"
   },
   {
    "duration": 32,
    "start_time": "2022-05-14T19:51:56.765Z"
   },
   {
    "duration": 91,
    "start_time": "2022-05-14T19:51:56.800Z"
   },
   {
    "duration": 7,
    "start_time": "2022-05-14T19:51:56.893Z"
   },
   {
    "duration": 11,
    "start_time": "2022-05-14T19:51:56.902Z"
   },
   {
    "duration": 564,
    "start_time": "2022-05-14T19:51:56.915Z"
   },
   {
    "duration": 17,
    "start_time": "2022-05-14T19:51:57.481Z"
   },
   {
    "duration": 11,
    "start_time": "2022-05-14T19:51:57.500Z"
   },
   {
    "duration": 232,
    "start_time": "2022-05-14T19:51:57.513Z"
   },
   {
    "duration": 7,
    "start_time": "2022-05-14T19:51:57.747Z"
   },
   {
    "duration": 15,
    "start_time": "2022-05-14T19:51:57.757Z"
   },
   {
    "duration": 14,
    "start_time": "2022-05-14T19:51:57.774Z"
   },
   {
    "duration": 255,
    "start_time": "2022-05-14T19:51:57.791Z"
   },
   {
    "duration": 6,
    "start_time": "2022-05-14T19:51:58.052Z"
   },
   {
    "duration": 15,
    "start_time": "2022-05-14T19:51:58.060Z"
   },
   {
    "duration": 11,
    "start_time": "2022-05-14T19:51:58.078Z"
   },
   {
    "duration": 321,
    "start_time": "2022-05-14T19:51:58.091Z"
   },
   {
    "duration": 5,
    "start_time": "2022-05-14T19:51:58.415Z"
   },
   {
    "duration": 30,
    "start_time": "2022-05-14T19:51:58.423Z"
   },
   {
    "duration": 237,
    "start_time": "2022-05-14T19:51:58.455Z"
   },
   {
    "duration": 6,
    "start_time": "2022-05-14T19:51:58.695Z"
   },
   {
    "duration": 16,
    "start_time": "2022-05-14T19:51:58.704Z"
   },
   {
    "duration": 30,
    "start_time": "2022-05-14T19:51:58.723Z"
   },
   {
    "duration": 11,
    "start_time": "2022-05-14T19:51:58.755Z"
   },
   {
    "duration": 6,
    "start_time": "2022-05-14T19:51:58.768Z"
   },
   {
    "duration": 14,
    "start_time": "2022-05-14T19:51:58.776Z"
   },
   {
    "duration": 596,
    "start_time": "2022-05-14T19:51:58.793Z"
   },
   {
    "duration": 15,
    "start_time": "2022-05-14T19:51:59.392Z"
   },
   {
    "duration": 30,
    "start_time": "2022-05-14T19:51:59.409Z"
   },
   {
    "duration": 8,
    "start_time": "2022-05-14T19:57:39.360Z"
   },
   {
    "duration": 142,
    "start_time": "2022-05-14T19:57:51.916Z"
   },
   {
    "duration": 11,
    "start_time": "2022-05-14T19:58:41.966Z"
   },
   {
    "duration": 48,
    "start_time": "2022-05-14T19:58:46.017Z"
   },
   {
    "duration": 75,
    "start_time": "2022-05-14T19:59:14.387Z"
   },
   {
    "duration": 51,
    "start_time": "2022-05-14T19:59:51.772Z"
   },
   {
    "duration": 37,
    "start_time": "2022-05-14T20:05:27.280Z"
   },
   {
    "duration": 11,
    "start_time": "2022-05-14T20:08:42.432Z"
   },
   {
    "duration": 10,
    "start_time": "2022-05-14T20:08:48.863Z"
   },
   {
    "duration": 19,
    "start_time": "2022-05-14T20:09:12.807Z"
   },
   {
    "duration": 9,
    "start_time": "2022-05-14T20:10:27.878Z"
   },
   {
    "duration": 9,
    "start_time": "2022-05-14T20:10:38.557Z"
   },
   {
    "duration": 957,
    "start_time": "2022-05-15T17:05:32.701Z"
   },
   {
    "duration": 256,
    "start_time": "2022-05-15T17:05:33.661Z"
   },
   {
    "duration": 267,
    "start_time": "2022-05-15T17:05:33.919Z"
   },
   {
    "duration": 248,
    "start_time": "2022-05-15T17:05:34.188Z"
   },
   {
    "duration": 112,
    "start_time": "2022-05-15T17:05:34.438Z"
   },
   {
    "duration": 136,
    "start_time": "2022-05-15T17:05:34.552Z"
   },
   {
    "duration": 11,
    "start_time": "2022-05-15T17:05:34.689Z"
   },
   {
    "duration": 25,
    "start_time": "2022-05-15T17:05:34.702Z"
   },
   {
    "duration": 21,
    "start_time": "2022-05-15T17:05:34.729Z"
   },
   {
    "duration": 12,
    "start_time": "2022-05-15T17:05:34.753Z"
   },
   {
    "duration": 3,
    "start_time": "2022-05-15T17:05:34.767Z"
   },
   {
    "duration": 81,
    "start_time": "2022-05-15T17:05:34.771Z"
   },
   {
    "duration": 15,
    "start_time": "2022-05-15T17:05:34.854Z"
   },
   {
    "duration": 58,
    "start_time": "2022-05-15T17:05:34.872Z"
   },
   {
    "duration": 3,
    "start_time": "2022-05-15T17:05:34.932Z"
   },
   {
    "duration": 41,
    "start_time": "2022-05-15T17:05:34.936Z"
   },
   {
    "duration": 2,
    "start_time": "2022-05-15T17:05:34.979Z"
   },
   {
    "duration": 56,
    "start_time": "2022-05-15T17:05:34.983Z"
   },
   {
    "duration": 16,
    "start_time": "2022-05-15T17:05:35.042Z"
   },
   {
    "duration": 4,
    "start_time": "2022-05-15T17:05:35.060Z"
   },
   {
    "duration": 20,
    "start_time": "2022-05-15T17:05:35.065Z"
   },
   {
    "duration": 83,
    "start_time": "2022-05-15T17:05:35.087Z"
   },
   {
    "duration": 14,
    "start_time": "2022-05-15T17:05:35.172Z"
   },
   {
    "duration": 6,
    "start_time": "2022-05-15T17:05:35.188Z"
   },
   {
    "duration": 47,
    "start_time": "2022-05-15T17:05:35.196Z"
   },
   {
    "duration": 23,
    "start_time": "2022-05-15T17:05:35.245Z"
   },
   {
    "duration": 17,
    "start_time": "2022-05-15T17:05:35.270Z"
   },
   {
    "duration": 37,
    "start_time": "2022-05-15T17:05:35.291Z"
   },
   {
    "duration": 17,
    "start_time": "2022-05-15T17:05:35.330Z"
   },
   {
    "duration": 5,
    "start_time": "2022-05-15T17:05:35.348Z"
   },
   {
    "duration": 13,
    "start_time": "2022-05-15T17:05:35.354Z"
   },
   {
    "duration": 7,
    "start_time": "2022-05-15T17:05:35.369Z"
   },
   {
    "duration": 3,
    "start_time": "2022-05-15T17:05:35.378Z"
   },
   {
    "duration": 6,
    "start_time": "2022-05-15T17:05:35.382Z"
   },
   {
    "duration": 4,
    "start_time": "2022-05-15T17:05:35.423Z"
   },
   {
    "duration": 21,
    "start_time": "2022-05-15T17:05:35.428Z"
   },
   {
    "duration": 3,
    "start_time": "2022-05-15T17:05:35.450Z"
   },
   {
    "duration": 14,
    "start_time": "2022-05-15T17:05:35.455Z"
   },
   {
    "duration": 24,
    "start_time": "2022-05-15T17:05:35.471Z"
   },
   {
    "duration": 41,
    "start_time": "2022-05-15T17:05:35.496Z"
   },
   {
    "duration": 22,
    "start_time": "2022-05-15T17:05:35.538Z"
   },
   {
    "duration": 22,
    "start_time": "2022-05-15T17:05:35.562Z"
   },
   {
    "duration": 4,
    "start_time": "2022-05-15T17:05:35.586Z"
   },
   {
    "duration": 43,
    "start_time": "2022-05-15T17:05:35.591Z"
   },
   {
    "duration": 8,
    "start_time": "2022-05-15T17:05:35.635Z"
   },
   {
    "duration": 31,
    "start_time": "2022-05-15T17:05:35.645Z"
   },
   {
    "duration": 4,
    "start_time": "2022-05-15T17:05:35.678Z"
   },
   {
    "duration": 11,
    "start_time": "2022-05-15T17:05:35.683Z"
   },
   {
    "duration": 191,
    "start_time": "2022-05-15T17:05:35.695Z"
   },
   {
    "duration": 10,
    "start_time": "2022-05-15T17:05:35.888Z"
   },
   {
    "duration": 30,
    "start_time": "2022-05-15T17:05:35.899Z"
   },
   {
    "duration": 19,
    "start_time": "2022-05-15T17:05:35.930Z"
   },
   {
    "duration": 32,
    "start_time": "2022-05-15T17:05:35.951Z"
   },
   {
    "duration": 20,
    "start_time": "2022-05-15T17:05:35.985Z"
   },
   {
    "duration": 21,
    "start_time": "2022-05-15T17:05:36.007Z"
   },
   {
    "duration": 161,
    "start_time": "2022-05-15T17:05:36.030Z"
   },
   {
    "duration": 3,
    "start_time": "2022-05-15T17:05:36.193Z"
   },
   {
    "duration": 27,
    "start_time": "2022-05-15T17:05:36.198Z"
   },
   {
    "duration": 13,
    "start_time": "2022-05-15T17:05:36.227Z"
   },
   {
    "duration": 209,
    "start_time": "2022-05-15T17:05:36.242Z"
   },
   {
    "duration": 4,
    "start_time": "2022-05-15T17:05:36.452Z"
   },
   {
    "duration": 20,
    "start_time": "2022-05-15T17:05:36.457Z"
   },
   {
    "duration": 159,
    "start_time": "2022-05-15T17:05:36.479Z"
   },
   {
    "duration": 4,
    "start_time": "2022-05-15T17:05:36.640Z"
   },
   {
    "duration": 14,
    "start_time": "2022-05-15T17:05:36.646Z"
   },
   {
    "duration": 5,
    "start_time": "2022-05-15T17:05:36.662Z"
   },
   {
    "duration": 10,
    "start_time": "2022-05-15T17:05:36.669Z"
   },
   {
    "duration": 9,
    "start_time": "2022-05-15T17:05:36.681Z"
   },
   {
    "duration": 31,
    "start_time": "2022-05-15T17:05:36.692Z"
   },
   {
    "duration": 399,
    "start_time": "2022-05-15T17:05:36.725Z"
   },
   {
    "duration": 11,
    "start_time": "2022-05-15T17:05:37.125Z"
   },
   {
    "duration": 11,
    "start_time": "2022-05-15T17:05:37.137Z"
   },
   {
    "duration": 22,
    "start_time": "2022-05-15T17:05:37.149Z"
   },
   {
    "duration": 10,
    "start_time": "2022-05-15T17:05:37.173Z"
   },
   {
    "duration": 4,
    "start_time": "2022-05-15T17:05:37.184Z"
   },
   {
    "duration": 36,
    "start_time": "2022-05-15T17:05:37.189Z"
   },
   {
    "duration": 5,
    "start_time": "2022-05-15T17:05:37.227Z"
   },
   {
    "duration": 6,
    "start_time": "2022-05-15T17:05:37.234Z"
   },
   {
    "duration": 4,
    "start_time": "2022-05-15T17:41:58.206Z"
   },
   {
    "duration": 1020,
    "start_time": "2022-05-15T17:42:09.730Z"
   },
   {
    "duration": 338,
    "start_time": "2022-05-15T17:42:10.753Z"
   },
   {
    "duration": 297,
    "start_time": "2022-05-15T17:42:11.093Z"
   },
   {
    "duration": 231,
    "start_time": "2022-05-15T17:42:11.393Z"
   },
   {
    "duration": 117,
    "start_time": "2022-05-15T17:42:11.626Z"
   },
   {
    "duration": 144,
    "start_time": "2022-05-15T17:42:11.745Z"
   },
   {
    "duration": 15,
    "start_time": "2022-05-15T17:42:11.892Z"
   },
   {
    "duration": 28,
    "start_time": "2022-05-15T17:42:11.909Z"
   },
   {
    "duration": 47,
    "start_time": "2022-05-15T17:42:11.940Z"
   },
   {
    "duration": 13,
    "start_time": "2022-05-15T17:42:11.991Z"
   },
   {
    "duration": 3,
    "start_time": "2022-05-15T17:42:12.006Z"
   },
   {
    "duration": 66,
    "start_time": "2022-05-15T17:42:12.011Z"
   },
   {
    "duration": 15,
    "start_time": "2022-05-15T17:42:12.079Z"
   },
   {
    "duration": 60,
    "start_time": "2022-05-15T17:42:12.096Z"
   },
   {
    "duration": 2,
    "start_time": "2022-05-15T17:42:12.158Z"
   },
   {
    "duration": 45,
    "start_time": "2022-05-15T17:42:12.162Z"
   },
   {
    "duration": 7,
    "start_time": "2022-05-15T17:42:12.209Z"
   },
   {
    "duration": 40,
    "start_time": "2022-05-15T17:42:12.223Z"
   },
   {
    "duration": 17,
    "start_time": "2022-05-15T17:42:12.264Z"
   },
   {
    "duration": 4,
    "start_time": "2022-05-15T17:42:12.283Z"
   },
   {
    "duration": 43,
    "start_time": "2022-05-15T17:42:12.289Z"
   },
   {
    "duration": 63,
    "start_time": "2022-05-15T17:42:12.333Z"
   },
   {
    "duration": 35,
    "start_time": "2022-05-15T17:42:12.398Z"
   },
   {
    "duration": 9,
    "start_time": "2022-05-15T17:42:12.435Z"
   },
   {
    "duration": 25,
    "start_time": "2022-05-15T17:42:12.446Z"
   },
   {
    "duration": 25,
    "start_time": "2022-05-15T17:42:12.473Z"
   },
   {
    "duration": 20,
    "start_time": "2022-05-15T17:42:12.523Z"
   },
   {
    "duration": 9,
    "start_time": "2022-05-15T17:42:12.547Z"
   },
   {
    "duration": 20,
    "start_time": "2022-05-15T17:42:12.558Z"
   },
   {
    "duration": 4,
    "start_time": "2022-05-15T17:42:12.580Z"
   },
   {
    "duration": 16,
    "start_time": "2022-05-15T17:42:12.622Z"
   },
   {
    "duration": 7,
    "start_time": "2022-05-15T17:42:12.640Z"
   },
   {
    "duration": 4,
    "start_time": "2022-05-15T17:42:12.649Z"
   },
   {
    "duration": 5,
    "start_time": "2022-05-15T17:42:12.655Z"
   },
   {
    "duration": 6,
    "start_time": "2022-05-15T17:42:12.661Z"
   },
   {
    "duration": 66,
    "start_time": "2022-05-15T17:42:12.668Z"
   },
   {
    "duration": 2,
    "start_time": "2022-05-15T17:42:12.736Z"
   },
   {
    "duration": 10,
    "start_time": "2022-05-15T17:42:12.740Z"
   },
   {
    "duration": 23,
    "start_time": "2022-05-15T17:42:12.752Z"
   },
   {
    "duration": 57,
    "start_time": "2022-05-15T17:42:12.778Z"
   },
   {
    "duration": 24,
    "start_time": "2022-05-15T17:42:12.837Z"
   },
   {
    "duration": 26,
    "start_time": "2022-05-15T17:42:12.863Z"
   },
   {
    "duration": 33,
    "start_time": "2022-05-15T17:42:12.891Z"
   },
   {
    "duration": 23,
    "start_time": "2022-05-15T17:42:12.926Z"
   },
   {
    "duration": 11,
    "start_time": "2022-05-15T17:42:12.951Z"
   },
   {
    "duration": 65,
    "start_time": "2022-05-15T17:42:12.963Z"
   },
   {
    "duration": 4,
    "start_time": "2022-05-15T17:42:13.030Z"
   },
   {
    "duration": 10,
    "start_time": "2022-05-15T17:42:13.036Z"
   },
   {
    "duration": 200,
    "start_time": "2022-05-15T17:42:13.048Z"
   },
   {
    "duration": 11,
    "start_time": "2022-05-15T17:42:13.250Z"
   },
   {
    "duration": 13,
    "start_time": "2022-05-15T17:42:13.263Z"
   },
   {
    "duration": 10,
    "start_time": "2022-05-15T17:42:13.278Z"
   },
   {
    "duration": 6,
    "start_time": "2022-05-15T17:42:13.290Z"
   },
   {
    "duration": 29,
    "start_time": "2022-05-15T17:42:13.298Z"
   },
   {
    "duration": 10,
    "start_time": "2022-05-15T17:42:13.329Z"
   },
   {
    "duration": 181,
    "start_time": "2022-05-15T17:42:13.341Z"
   },
   {
    "duration": 4,
    "start_time": "2022-05-15T17:42:13.524Z"
   },
   {
    "duration": 11,
    "start_time": "2022-05-15T17:42:13.529Z"
   },
   {
    "duration": 7,
    "start_time": "2022-05-15T17:42:13.542Z"
   },
   {
    "duration": 245,
    "start_time": "2022-05-15T17:42:13.551Z"
   },
   {
    "duration": 4,
    "start_time": "2022-05-15T17:42:13.798Z"
   },
   {
    "duration": 24,
    "start_time": "2022-05-15T17:42:13.803Z"
   },
   {
    "duration": 162,
    "start_time": "2022-05-15T17:42:13.829Z"
   },
   {
    "duration": 4,
    "start_time": "2022-05-15T17:42:13.993Z"
   },
   {
    "duration": 29,
    "start_time": "2022-05-15T17:42:13.999Z"
   },
   {
    "duration": 5,
    "start_time": "2022-05-15T17:42:14.031Z"
   },
   {
    "duration": 10,
    "start_time": "2022-05-15T17:42:14.038Z"
   },
   {
    "duration": 6,
    "start_time": "2022-05-15T17:42:14.049Z"
   },
   {
    "duration": 9,
    "start_time": "2022-05-15T17:42:14.057Z"
   },
   {
    "duration": 469,
    "start_time": "2022-05-15T17:42:14.067Z"
   },
   {
    "duration": 11,
    "start_time": "2022-05-15T17:42:14.538Z"
   },
   {
    "duration": 12,
    "start_time": "2022-05-15T17:42:14.551Z"
   },
   {
    "duration": 28,
    "start_time": "2022-05-15T17:42:14.565Z"
   },
   {
    "duration": 37,
    "start_time": "2022-05-15T17:42:14.595Z"
   },
   {
    "duration": 5,
    "start_time": "2022-05-15T17:42:14.634Z"
   },
   {
    "duration": 5,
    "start_time": "2022-05-15T17:42:14.640Z"
   },
   {
    "duration": 5,
    "start_time": "2022-05-15T17:42:14.647Z"
   },
   {
    "duration": 6,
    "start_time": "2022-05-15T17:42:14.654Z"
   },
   {
    "duration": 21,
    "start_time": "2022-05-15T18:13:01.938Z"
   }
  ],
  "kernelspec": {
   "display_name": "Python 3 (ipykernel)",
   "language": "python",
   "name": "python3"
  },
  "language_info": {
   "codemirror_mode": {
    "name": "ipython",
    "version": 3
   },
   "file_extension": ".py",
   "mimetype": "text/x-python",
   "name": "python",
   "nbconvert_exporter": "python",
   "pygments_lexer": "ipython3",
   "version": "3.9.12"
  },
  "toc": {
   "base_numbering": 1,
   "nav_menu": {},
   "number_sections": true,
   "sideBar": true,
   "skip_h1_title": true,
   "title_cell": "Table of Contents",
   "title_sidebar": "Contents",
   "toc_cell": false,
   "toc_position": {},
   "toc_section_display": true,
   "toc_window_display": false
  }
 },
 "nbformat": 4,
 "nbformat_minor": 2
}
