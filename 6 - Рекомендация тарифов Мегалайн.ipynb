{
 "cells": [
  {
   "cell_type": "markdown",
   "id": "97d834d4",
   "metadata": {},
   "source": [
    "# Введение в машинное обучение"
   ]
  },
  {
   "cell_type": "markdown",
   "id": "b23f178e",
   "metadata": {},
   "source": [
    "## Изучение данных."
   ]
  },
  {
   "cell_type": "markdown",
   "id": "4d1f4a8c",
   "metadata": {},
   "source": [
    "Импортируем библиотеки\n"
   ]
  },
  {
   "cell_type": "code",
   "execution_count": 1,
   "id": "4a21fdb8",
   "metadata": {},
   "outputs": [],
   "source": [
    "import pandas as pd\n",
    "from sklearn.tree import DecisionTreeClassifier\n",
    "from sklearn.ensemble import RandomForestClassifier\n",
    "from sklearn.linear_model import LogisticRegression \n",
    "from sklearn.metrics import accuracy_score\n",
    "from sklearn.model_selection import train_test_split\n",
    "from joblib import dump"
   ]
  },
  {
   "cell_type": "markdown",
   "id": "39dd49fb",
   "metadata": {},
   "source": [
    "Загрузим и посмотрим базу данных."
   ]
  },
  {
   "cell_type": "code",
   "execution_count": 2,
   "id": "316a2678",
   "metadata": {},
   "outputs": [
    {
     "data": {
      "text/html": [
       "<div>\n",
       "<style scoped>\n",
       "    .dataframe tbody tr th:only-of-type {\n",
       "        vertical-align: middle;\n",
       "    }\n",
       "\n",
       "    .dataframe tbody tr th {\n",
       "        vertical-align: top;\n",
       "    }\n",
       "\n",
       "    .dataframe thead th {\n",
       "        text-align: right;\n",
       "    }\n",
       "</style>\n",
       "<table border=\"1\" class=\"dataframe\">\n",
       "  <thead>\n",
       "    <tr style=\"text-align: right;\">\n",
       "      <th></th>\n",
       "      <th>calls</th>\n",
       "      <th>minutes</th>\n",
       "      <th>messages</th>\n",
       "      <th>mb_used</th>\n",
       "      <th>is_ultra</th>\n",
       "    </tr>\n",
       "  </thead>\n",
       "  <tbody>\n",
       "    <tr>\n",
       "      <th>0</th>\n",
       "      <td>40.0</td>\n",
       "      <td>311.90</td>\n",
       "      <td>83.0</td>\n",
       "      <td>19915.42</td>\n",
       "      <td>0</td>\n",
       "    </tr>\n",
       "    <tr>\n",
       "      <th>1</th>\n",
       "      <td>85.0</td>\n",
       "      <td>516.75</td>\n",
       "      <td>56.0</td>\n",
       "      <td>22696.96</td>\n",
       "      <td>0</td>\n",
       "    </tr>\n",
       "    <tr>\n",
       "      <th>2</th>\n",
       "      <td>77.0</td>\n",
       "      <td>467.66</td>\n",
       "      <td>86.0</td>\n",
       "      <td>21060.45</td>\n",
       "      <td>0</td>\n",
       "    </tr>\n",
       "    <tr>\n",
       "      <th>3</th>\n",
       "      <td>106.0</td>\n",
       "      <td>745.53</td>\n",
       "      <td>81.0</td>\n",
       "      <td>8437.39</td>\n",
       "      <td>1</td>\n",
       "    </tr>\n",
       "    <tr>\n",
       "      <th>4</th>\n",
       "      <td>66.0</td>\n",
       "      <td>418.74</td>\n",
       "      <td>1.0</td>\n",
       "      <td>14502.75</td>\n",
       "      <td>0</td>\n",
       "    </tr>\n",
       "    <tr>\n",
       "      <th>...</th>\n",
       "      <td>...</td>\n",
       "      <td>...</td>\n",
       "      <td>...</td>\n",
       "      <td>...</td>\n",
       "      <td>...</td>\n",
       "    </tr>\n",
       "    <tr>\n",
       "      <th>3209</th>\n",
       "      <td>122.0</td>\n",
       "      <td>910.98</td>\n",
       "      <td>20.0</td>\n",
       "      <td>35124.90</td>\n",
       "      <td>1</td>\n",
       "    </tr>\n",
       "    <tr>\n",
       "      <th>3210</th>\n",
       "      <td>25.0</td>\n",
       "      <td>190.36</td>\n",
       "      <td>0.0</td>\n",
       "      <td>3275.61</td>\n",
       "      <td>0</td>\n",
       "    </tr>\n",
       "    <tr>\n",
       "      <th>3211</th>\n",
       "      <td>97.0</td>\n",
       "      <td>634.44</td>\n",
       "      <td>70.0</td>\n",
       "      <td>13974.06</td>\n",
       "      <td>0</td>\n",
       "    </tr>\n",
       "    <tr>\n",
       "      <th>3212</th>\n",
       "      <td>64.0</td>\n",
       "      <td>462.32</td>\n",
       "      <td>90.0</td>\n",
       "      <td>31239.78</td>\n",
       "      <td>0</td>\n",
       "    </tr>\n",
       "    <tr>\n",
       "      <th>3213</th>\n",
       "      <td>80.0</td>\n",
       "      <td>566.09</td>\n",
       "      <td>6.0</td>\n",
       "      <td>29480.52</td>\n",
       "      <td>1</td>\n",
       "    </tr>\n",
       "  </tbody>\n",
       "</table>\n",
       "<p>3214 rows × 5 columns</p>\n",
       "</div>"
      ],
      "text/plain": [
       "      calls  minutes  messages   mb_used  is_ultra\n",
       "0      40.0   311.90      83.0  19915.42         0\n",
       "1      85.0   516.75      56.0  22696.96         0\n",
       "2      77.0   467.66      86.0  21060.45         0\n",
       "3     106.0   745.53      81.0   8437.39         1\n",
       "4      66.0   418.74       1.0  14502.75         0\n",
       "...     ...      ...       ...       ...       ...\n",
       "3209  122.0   910.98      20.0  35124.90         1\n",
       "3210   25.0   190.36       0.0   3275.61         0\n",
       "3211   97.0   634.44      70.0  13974.06         0\n",
       "3212   64.0   462.32      90.0  31239.78         0\n",
       "3213   80.0   566.09       6.0  29480.52         1\n",
       "\n",
       "[3214 rows x 5 columns]"
      ]
     },
     "execution_count": 2,
     "metadata": {},
     "output_type": "execute_result"
    }
   ],
   "source": [
    "try:\n",
    "    df_calls = pd.read_csv('users_behavior.csv')\n",
    "except:\n",
    "    df_calls = pd.read_csv('/datasets/users_behavior.csv')\n",
    "df_calls"
   ]
  },
  {
   "cell_type": "markdown",
   "id": "c90c0519",
   "metadata": {},
   "source": [
    "Итак, мы имеем данные по услугам мобильного оператора для конкретного пользователя. Всего в базе данных 3214 строк - объектов и 5 колоннок, четыре из которых - признаки, а пятая - \"is_ultra\" - целевой признак, который обученная модель должна предсказывать. Также очевидно, что программа будет предсказывать категоральные данные (выберет ли клиент тариф ультра - 1, или нет - 0), поэтому изучим три модели обучения: решающее дерево (DecisionTreeClassifier), случайный лес (RandomForestClassifier) и  логистическая регрессия (LogisticRegression)."
   ]
  },
  {
   "cell_type": "markdown",
   "id": "1034647a",
   "metadata": {},
   "source": [
    "По условиям задачи предобработка данных не требуется, поэтому сразу переходим к разделению выборки."
   ]
  },
  {
   "cell_type": "markdown",
   "id": "fbad724e",
   "metadata": {},
   "source": [
    "## Разделение выборки"
   ]
  },
  {
   "cell_type": "markdown",
   "id": "4570dc1a",
   "metadata": {},
   "source": [
    "Сначала отделим тестовую выборку от общего датасета в размере 20%"
   ]
  },
  {
   "cell_type": "code",
   "execution_count": 3,
   "id": "5f6b432d",
   "metadata": {},
   "outputs": [],
   "source": [
    "df_train, df_test = train_test_split(df_calls, test_size=0.20, random_state=12345)"
   ]
  },
  {
   "cell_type": "markdown",
   "id": "3b9782bb",
   "metadata": {},
   "source": [
    "И проверим"
   ]
  },
  {
   "cell_type": "code",
   "execution_count": 4,
   "id": "bfb135fa",
   "metadata": {},
   "outputs": [
    {
     "data": {
      "text/plain": [
       "(      calls  minutes  messages   mb_used  is_ultra\n",
       " 348    77.0   522.65      14.0  19462.45         0\n",
       " 1172  144.0  1031.79      99.0  40174.34         1\n",
       " 2315   48.0   341.65       0.0  19000.02         0\n",
       " 954    52.0   383.90      40.0  24574.82         0\n",
       " 2918   77.0   445.00     100.0  10518.28         1\n",
       " ...     ...      ...       ...       ...       ...\n",
       " 2817   12.0    86.62      22.0  36628.85         1\n",
       " 546    65.0   458.46       0.0  15214.25         1\n",
       " 382   144.0   906.18       0.0  25002.44         1\n",
       " 2177   38.0   301.27      37.0  28914.24         1\n",
       " 482   160.0  1084.05      95.0  36843.92         1\n",
       " \n",
       " [2571 rows x 5 columns],\n",
       "       calls  minutes  messages   mb_used  is_ultra\n",
       " 1415   82.0   507.89      88.0  17543.37         1\n",
       " 916    50.0   375.91      35.0  12388.40         0\n",
       " 1670   83.0   540.49      41.0   9127.74         0\n",
       " 686    79.0   562.99      19.0  25508.19         1\n",
       " 2951   78.0   531.29      20.0   9217.25         0\n",
       " ...     ...      ...       ...       ...       ...\n",
       " 2061   66.0   478.48       0.0  16962.58         0\n",
       " 1510   40.0   334.24      91.0  11304.14         0\n",
       " 2215   62.0   436.68      52.0  12311.24         0\n",
       " 664   117.0   739.27     124.0  22818.56         1\n",
       " 1196   66.0   461.84      85.0  14264.14         0\n",
       " \n",
       " [643 rows x 5 columns])"
      ]
     },
     "execution_count": 4,
     "metadata": {},
     "output_type": "execute_result"
    }
   ],
   "source": [
    "df_train, df_test "
   ]
  },
  {
   "cell_type": "markdown",
   "id": "f95d2151",
   "metadata": {},
   "source": [
    "Теперь отделим валидационную. Чтобы программа заранеее не обучилась на готовых решениях, делить будем не первоначальный датафрейм, а 'df_train'. Так же возьмем 25%, чтобы валидационная выборка была равна тестовой, а их отношение к базовой соответствовала 3:1:1."
   ]
  },
  {
   "cell_type": "code",
   "execution_count": 5,
   "id": "fab2d54a",
   "metadata": {},
   "outputs": [],
   "source": [
    "df_train, df_valid = train_test_split(df_train, test_size=0.25, random_state=12345)"
   ]
  },
  {
   "cell_type": "markdown",
   "id": "de384f6b",
   "metadata": {},
   "source": [
    "И проверим"
   ]
  },
  {
   "cell_type": "code",
   "execution_count": 6,
   "id": "89afd72c",
   "metadata": {},
   "outputs": [
    {
     "data": {
      "text/plain": [
       "(      calls  minutes  messages   mb_used  is_ultra\n",
       " 2656   30.0   185.07      34.0  17166.53         0\n",
       " 823    42.0   290.69      77.0  21507.03         0\n",
       " 2566   41.0   289.83      15.0  22151.73         0\n",
       " 1451   45.0   333.49      50.0  17275.47         0\n",
       " 2953   43.0   300.39      69.0  17277.83         0\n",
       " ...     ...      ...       ...       ...       ...\n",
       " 1043  106.0   796.79      23.0  42250.70         1\n",
       " 2132   18.0   117.80       0.0  10006.79         1\n",
       " 1642   87.0   583.02       1.0  11213.97         0\n",
       " 1495   63.0   408.68      63.0  24970.26         0\n",
       " 510    83.0   597.83       0.0  16273.02         0\n",
       " \n",
       " [1928 rows x 5 columns],\n",
       "       calls  minutes  messages   mb_used  is_ultra\n",
       " 2699   71.0   512.53      27.0  15772.68         0\n",
       " 242   183.0  1247.04     150.0  29186.41         1\n",
       " 2854   34.0   246.06      31.0   8448.76         0\n",
       " 1638   63.0   468.66       0.0  11794.34         0\n",
       " 1632    4.0    19.85      28.0  13107.42         0\n",
       " ...     ...      ...       ...       ...       ...\n",
       " 2551   83.0   539.32      33.0  20967.28         0\n",
       " 1261   80.0   552.33      23.0  18457.85         0\n",
       " 1658  111.0   899.74       0.0  26866.61         0\n",
       " 353    68.0   493.00      29.0  20021.73         0\n",
       " 1806   62.0   364.31       0.0  13259.50         0\n",
       " \n",
       " [643 rows x 5 columns])"
      ]
     },
     "execution_count": 6,
     "metadata": {},
     "output_type": "execute_result"
    }
   ],
   "source": [
    "df_train, df_valid "
   ]
  },
  {
   "cell_type": "markdown",
   "id": "9684ccb1",
   "metadata": {},
   "source": [
    "Все получилось корректно. Можно переходить к исследованию качества моделей"
   ]
  },
  {
   "cell_type": "markdown",
   "id": "5e69551f",
   "metadata": {},
   "source": [
    "## Качество моделей"
   ]
  },
  {
   "cell_type": "markdown",
   "id": "e26cd037",
   "metadata": {},
   "source": [
    "### Решающее дерево"
   ]
  },
  {
   "cell_type": "markdown",
   "id": "f99340cb",
   "metadata": {},
   "source": [
    "Разделим датафрейм на признаки - features, и целевой признак - target"
   ]
  },
  {
   "cell_type": "code",
   "execution_count": 7,
   "id": "80fc7364",
   "metadata": {},
   "outputs": [],
   "source": [
    "features_train = df_train.drop(['is_ultra'], axis=1)\n",
    "target_train = df_train['is_ultra']\n",
    "features_valid = df_valid.drop(['is_ultra'], axis=1)\n",
    "target_valid = df_valid['is_ultra']"
   ]
  },
  {
   "cell_type": "markdown",
   "id": "202bc779",
   "metadata": {},
   "source": [
    "Обучим решающее дерево на тренировачном фрейме и посмотрим его аккуратность меняя уровень глубины дерева от 1 до 6"
   ]
  },
  {
   "cell_type": "code",
   "execution_count": 8,
   "id": "804055aa",
   "metadata": {},
   "outputs": [
    {
     "name": "stdout",
     "output_type": "stream",
     "text": [
      "max_depth = 1 : 0.7387247278382582\n",
      "max_depth = 2 : 0.7573872472783826\n",
      "max_depth = 3 : 0.7651632970451011\n",
      "max_depth = 4 : 0.7636080870917574\n",
      "max_depth = 5 : 0.7589424572317263\n",
      "max_depth = 6 : 0.7573872472783826\n"
     ]
    }
   ],
   "source": [
    "for depth in range(1,7): \n",
    "    model = DecisionTreeClassifier(random_state=12345, max_depth=depth)\n",
    "    model.fit(features_train, target_train)\n",
    "    predictions_valid = model.predict(features_valid)\n",
    "    print(\"max_depth =\", depth, \": \", end='')\n",
    "    print(accuracy_score(target_valid, predictions_valid)) "
   ]
  },
  {
   "cell_type": "markdown",
   "id": "a62e830d",
   "metadata": {},
   "source": [
    "Не высокий уровень accuracy на всех уровнях решающего дерева. За лучший вариант возьмем модель с глубиной дерева -3."
   ]
  },
  {
   "cell_type": "markdown",
   "id": "dffc3238",
   "metadata": {},
   "source": [
    "### Случайный лес"
   ]
  },
  {
   "cell_type": "markdown",
   "id": "3f9c15af",
   "metadata": {},
   "source": [
    "Попробуем обучить модель используя 'случайный лес' с числом деревьев до 15."
   ]
  },
  {
   "cell_type": "code",
   "execution_count": 9,
   "id": "4647f96a",
   "metadata": {},
   "outputs": [
    {
     "name": "stdout",
     "output_type": "stream",
     "text": [
      "Accuracy наилучшей модели на валидационной выборке: 0.7884914463452566\n",
      "Лучшая модель на валидационной выборке: RandomForestClassifier(n_estimators=10, random_state=12345)\n"
     ]
    }
   ],
   "source": [
    "best_model = None\n",
    "best_result = 0\n",
    "for est in range(1, 16):\n",
    "    model = RandomForestClassifier(random_state=12345, n_estimators=est) \n",
    "    model.fit(features_train, target_train) \n",
    "    result = model.score(features_valid, target_valid) \n",
    "    if result > best_result:\n",
    "        best_model = model\n",
    "        best_result = result \n",
    "\n",
    "print(\"Accuracy наилучшей модели на валидационной выборке:\", best_result)\n",
    "print(\"Лучшая модель на валидационной выборке:\", best_model)"
   ]
  },
  {
   "cell_type": "markdown",
   "id": "0a52c093",
   "metadata": {},
   "source": [
    "Чуть усложним, изменив количество деревьев до 50 с шагом подбора равном 10, и подберем наилучшую глубину случайного леса установив параметр depth от 1 до 11"
   ]
  },
  {
   "cell_type": "code",
   "execution_count": 10,
   "id": "0dd9157b",
   "metadata": {},
   "outputs": [
    {
     "name": "stdout",
     "output_type": "stream",
     "text": [
      "Accuracy  наилучшей модели на валидационной выборке: 0.7978227060653188 Количество деревьев: 50 Максимальная глубина: 10\n"
     ]
    }
   ],
   "source": [
    "best_model = None\n",
    "best_result = 0\n",
    "best_est = 0\n",
    "best_depth = 0\n",
    "for est in range(10, 51, 10):\n",
    "    for depth in range (1, 11):\n",
    "        model = RandomForestClassifier(random_state=12345, n_estimators=est, max_depth=depth) \n",
    "        model.fit(features_train, target_train) \n",
    "        predictions_valid = model.predict(features_valid) \n",
    "        result = model.score(features_valid, target_valid) \n",
    "        if result > best_result:\n",
    "            best_model = model\n",
    "            best_result = result\n",
    "            best_est = est\n",
    "            best_depth = depth\n",
    "\n",
    "print(\"Accuracy  наилучшей модели на валидационной выборке:\", best_result, \"Количество деревьев:\", best_est, \"Максимальная глубина:\", depth)"
   ]
  },
  {
   "cell_type": "markdown",
   "id": "96cd06cd",
   "metadata": {},
   "source": [
    "Показатель аккуратности случайного леса выше, чем решающего дерева. Возьмем на данном этапе за лучшую модель случайный лес с количеством деревьев - 50 и максимальной глубиной -10."
   ]
  },
  {
   "cell_type": "markdown",
   "id": "4d2d86df",
   "metadata": {},
   "source": [
    "### Логистическая регрессия"
   ]
  },
  {
   "cell_type": "markdown",
   "id": "42deab74",
   "metadata": {},
   "source": [
    "Обучим модель использую логистическую регрессию. Возьмем базовый алгоритм 'lbfgs', а колличество итераций обучения - 1000."
   ]
  },
  {
   "cell_type": "code",
   "execution_count": 11,
   "id": "ee79c24f",
   "metadata": {},
   "outputs": [],
   "source": [
    "model = LogisticRegression(random_state=12345, solver='lbfgs', max_iter=1000) "
   ]
  },
  {
   "cell_type": "code",
   "execution_count": 12,
   "id": "71194a0d",
   "metadata": {},
   "outputs": [
    {
     "name": "stdout",
     "output_type": "stream",
     "text": [
      "Accuracy модели на валидационной выборке: 0.7262830482115086\n"
     ]
    }
   ],
   "source": [
    "model.fit(features_train, target_train) \n",
    "predictions = model.predict(features_valid)\n",
    "print(\"Accuracy модели на валидационной выборке:\", model.score(features_valid, target_valid))"
   ]
  },
  {
   "cell_type": "markdown",
   "id": "8ea27099",
   "metadata": {},
   "source": [
    "Аккуратность обученой модели посредством логистической регрессий ниже чем у других."
   ]
  },
  {
   "cell_type": "markdown",
   "id": "e920e764",
   "metadata": {},
   "source": [
    "## Проверка тестовой выборки."
   ]
  },
  {
   "cell_type": "markdown",
   "id": "ee93db06",
   "metadata": {},
   "source": [
    "Очевидно, наилучшая модель обучения, несмотря на довольно низкую скорость обработки данных, - это случайный лес с количеством деревьем 50 и максимальной глубиной 10. Проверим тестовую выборку на указанной моделе."
   ]
  },
  {
   "cell_type": "code",
   "execution_count": 13,
   "id": "1e73de46",
   "metadata": {},
   "outputs": [
    {
     "name": "stdout",
     "output_type": "stream",
     "text": [
      "Accuracy наилучшей модели обученной библиотекой 'RandomForestClassifier'с количеством деревьев 50 и максимальной глубиной 10: 0.7993779160186625\n"
     ]
    }
   ],
   "source": [
    "features_test = df_test.drop(['is_ultra'], axis=1)\n",
    "target_test = df_test['is_ultra']\n",
    "\n",
    "model = RandomForestClassifier(random_state=12345, n_estimators=50, max_depth=10) \n",
    "model.fit(features_train, target_train) \n",
    "result = model.score(features_test, target_test) \n",
    "print(\"Accuracy наилучшей модели обученной библиотекой 'RandomForestClassifier'с количеством деревьев 50 и максимальной глубиной 10:\", result)"
   ]
  },
  {
   "cell_type": "markdown",
   "id": "29059d8a",
   "metadata": {},
   "source": [
    "Не очень высокий показатель аккуратности, тем не менее выше минимально требуемого 0,75. "
   ]
  },
  {
   "cell_type": "markdown",
   "id": "10b0b7db",
   "metadata": {},
   "source": [
    "## Вывод"
   ]
  },
  {
   "cell_type": "markdown",
   "id": "a5cc1ec3",
   "metadata": {},
   "source": [
    "Не смотря на довольно низкую скорость обработки данных, наилучшая обученная модель для решения поставленной задачи - это случайный лес с количеством деревьев равным 50, а макимальной глубиной равной десяти. Думаю, в данном случае это действительно лучшая модель, так как скоростью обработки можно пренебречь, по причине того что данная программа предназанчается для оператора, а не для пользования клиентами, для которых скорость является также приоритетным показателем на равне с аккуратностью предсказаний."
   ]
  }
 ],
 "metadata": {
  "kernelspec": {
   "display_name": "Python 3 (ipykernel)",
   "language": "python",
   "name": "python3"
  },
  "language_info": {
   "codemirror_mode": {
    "name": "ipython",
    "version": 3
   },
   "file_extension": ".py",
   "mimetype": "text/x-python",
   "name": "python",
   "nbconvert_exporter": "python",
   "pygments_lexer": "ipython3",
   "version": "3.9.12"
  }
 },
 "nbformat": 4,
 "nbformat_minor": 5
}
