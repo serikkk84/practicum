{
  "cells": [
    {
      "cell_type": "markdown",
      "metadata": {
        "id": "view-in-github",
        "colab_type": "text"
      },
      "source": [
        "<a href=\"https://colab.research.google.com/github/serikkk84/practicum/blob/main/identification%20of%20comments/%D0%9E%D0%BF%D1%80%D0%B5%D0%B4%D0%B5%D0%BB%D0%B5%D0%BD%D0%B8%D0%B5_%D1%82%D0%BE%D0%BA%D1%81%D0%B8%D1%87%D0%BD%D1%8B%D1%85_%D0%BA%D0%BE%D0%BC%D0%BC%D0%B5%D0%BD%D1%82%D0%B0%D1%80%D0%B8%D0%B5%D0%B2.ipynb\" target=\"_parent\"><img src=\"https://colab.research.google.com/assets/colab-badge.svg\" alt=\"Open In Colab\"/></a>"
      ]
    },
    {
      "cell_type": "markdown",
      "metadata": {
        "id": "RGe5RDzO8eUO"
      },
      "source": [
        "# Проект для «Викишоп»"
      ]
    },
    {
      "cell_type": "markdown",
      "metadata": {
        "id": "8vkP0WM78eUP"
      },
      "source": [
        "Интернет-магазин «Викишоп» запускает новый сервис. Теперь пользователи могут редактировать и дополнять описания товаров, как в вики-сообществах. То есть клиенты предлагают свои правки и комментируют изменения других. Магазину нужен инструмент, который будет искать токсичные комментарии и отправлять их на модерацию.\n",
        "\n",
        "Необходимо обучить модель со значением метрики качества F1 не меньше 0.75 для классификации комментариев на позитивные и негативные. В нашем распоряжении набор данных с разметкой о токсичности правок."
      ]
    },
    {
      "cell_type": "markdown",
      "metadata": {
        "id": "r5v1NCTW8eUP"
      },
      "source": [
        "## Подготовка"
      ]
    },
    {
      "cell_type": "markdown",
      "metadata": {
        "id": "0ULOozWq8eUQ"
      },
      "source": [
        "### Загрузка данных"
      ]
    },
    {
      "cell_type": "markdown",
      "metadata": {
        "id": "7-GIY2kT8eUR"
      },
      "source": [
        "Загрузим необходимые для исследования библиотеки"
      ]
    },
    {
      "cell_type": "code",
      "execution_count": null,
      "metadata": {
        "id": "yVJ8WiTt8eUR"
      },
      "outputs": [],
      "source": [
        "import numpy as np\n",
        "import pandas as pd\n",
        "import re \n",
        "import time\n",
        "import nltk\n",
        "import warnings\n",
        "warnings.simplefilter(action='ignore', category=FutureWarning)\n",
        "\n",
        "from pymystem3 import Mystem\n",
        "from sklearn.model_selection import train_test_split\n",
        "from sklearn.feature_extraction.text import TfidfVectorizer \n",
        "from sklearn.linear_model import LogisticRegression\n",
        "from sklearn.metrics import f1_score\n",
        "from sklearn.pipeline import Pipeline\n",
        "from sklearn.model_selection import GridSearchCV\n",
        "from sklearn.pipeline import Pipeline\n",
        "from sklearn.feature_extraction.text import CountVectorizer\n",
        "from sklearn.feature_extraction.text import TfidfTransformer\n",
        "from sklearn.ensemble import RandomForestClassifier\n",
        "from catboost import CatBoostClassifier\n",
        "from sklearn.tree import DecisionTreeClassifier\n",
        "from nltk.corpus import stopwords as nltk_stopwords\n"
      ]
    },
    {
      "cell_type": "markdown",
      "metadata": {
        "id": "VwDyr5eZ8eUV"
      },
      "source": [
        "Загрузим данные и посмотрим"
      ]
    },
    {
      "cell_type": "code",
      "execution_count": null,
      "metadata": {
        "id": "a_rc-XnP8eUV",
        "outputId": "8aaa4cea-250a-4838-d3e4-21e237a2f5d1"
      },
      "outputs": [
        {
          "data": {
            "text/html": [
              "<div>\n",
              "<style scoped>\n",
              "    .dataframe tbody tr th:only-of-type {\n",
              "        vertical-align: middle;\n",
              "    }\n",
              "\n",
              "    .dataframe tbody tr th {\n",
              "        vertical-align: top;\n",
              "    }\n",
              "\n",
              "    .dataframe thead th {\n",
              "        text-align: right;\n",
              "    }\n",
              "</style>\n",
              "<table border=\"1\" class=\"dataframe\">\n",
              "  <thead>\n",
              "    <tr style=\"text-align: right;\">\n",
              "      <th></th>\n",
              "      <th>Unnamed: 0</th>\n",
              "      <th>text</th>\n",
              "      <th>toxic</th>\n",
              "    </tr>\n",
              "  </thead>\n",
              "  <tbody>\n",
              "    <tr>\n",
              "      <th>0</th>\n",
              "      <td>0</td>\n",
              "      <td>Explanation\\nWhy the edits made under my usern...</td>\n",
              "      <td>0</td>\n",
              "    </tr>\n",
              "    <tr>\n",
              "      <th>1</th>\n",
              "      <td>1</td>\n",
              "      <td>D'aww! He matches this background colour I'm s...</td>\n",
              "      <td>0</td>\n",
              "    </tr>\n",
              "    <tr>\n",
              "      <th>2</th>\n",
              "      <td>2</td>\n",
              "      <td>Hey man, I'm really not trying to edit war. It...</td>\n",
              "      <td>0</td>\n",
              "    </tr>\n",
              "    <tr>\n",
              "      <th>3</th>\n",
              "      <td>3</td>\n",
              "      <td>\"\\nMore\\nI can't make any real suggestions on ...</td>\n",
              "      <td>0</td>\n",
              "    </tr>\n",
              "    <tr>\n",
              "      <th>4</th>\n",
              "      <td>4</td>\n",
              "      <td>You, sir, are my hero. Any chance you remember...</td>\n",
              "      <td>0</td>\n",
              "    </tr>\n",
              "    <tr>\n",
              "      <th>...</th>\n",
              "      <td>...</td>\n",
              "      <td>...</td>\n",
              "      <td>...</td>\n",
              "    </tr>\n",
              "    <tr>\n",
              "      <th>159287</th>\n",
              "      <td>159446</td>\n",
              "      <td>\":::::And for the second time of asking, when ...</td>\n",
              "      <td>0</td>\n",
              "    </tr>\n",
              "    <tr>\n",
              "      <th>159288</th>\n",
              "      <td>159447</td>\n",
              "      <td>You should be ashamed of yourself \\n\\nThat is ...</td>\n",
              "      <td>0</td>\n",
              "    </tr>\n",
              "    <tr>\n",
              "      <th>159289</th>\n",
              "      <td>159448</td>\n",
              "      <td>Spitzer \\n\\nUmm, theres no actual article for ...</td>\n",
              "      <td>0</td>\n",
              "    </tr>\n",
              "    <tr>\n",
              "      <th>159290</th>\n",
              "      <td>159449</td>\n",
              "      <td>And it looks like it was actually you who put ...</td>\n",
              "      <td>0</td>\n",
              "    </tr>\n",
              "    <tr>\n",
              "      <th>159291</th>\n",
              "      <td>159450</td>\n",
              "      <td>\"\\nAnd ... I really don't think you understand...</td>\n",
              "      <td>0</td>\n",
              "    </tr>\n",
              "  </tbody>\n",
              "</table>\n",
              "<p>159292 rows × 3 columns</p>\n",
              "</div>"
            ],
            "text/plain": [
              "        Unnamed: 0                                               text  toxic\n",
              "0                0  Explanation\\nWhy the edits made under my usern...      0\n",
              "1                1  D'aww! He matches this background colour I'm s...      0\n",
              "2                2  Hey man, I'm really not trying to edit war. It...      0\n",
              "3                3  \"\\nMore\\nI can't make any real suggestions on ...      0\n",
              "4                4  You, sir, are my hero. Any chance you remember...      0\n",
              "...            ...                                                ...    ...\n",
              "159287      159446  \":::::And for the second time of asking, when ...      0\n",
              "159288      159447  You should be ashamed of yourself \\n\\nThat is ...      0\n",
              "159289      159448  Spitzer \\n\\nUmm, theres no actual article for ...      0\n",
              "159290      159449  And it looks like it was actually you who put ...      0\n",
              "159291      159450  \"\\nAnd ... I really don't think you understand...      0\n",
              "\n",
              "[159292 rows x 3 columns]"
            ]
          },
          "execution_count": 2,
          "metadata": {},
          "output_type": "execute_result"
        }
      ],
      "source": [
        "try:\n",
        "    data = pd.read_csv('toxic_comments.csv')\n",
        "except:\n",
        "    data = pd.read_csv('/datasets/toxic_comments.csv')\n",
        "data"
      ]
    },
    {
      "cell_type": "markdown",
      "metadata": {
        "id": "xENdvO1_8eUX"
      },
      "source": [
        "Почти 160 тысяч комментариев. Очень много..."
      ]
    },
    {
      "cell_type": "markdown",
      "metadata": {
        "id": "Q29KhM2k8eUX"
      },
      "source": [
        "Посмотрим состав данных и вероятные пропуски"
      ]
    },
    {
      "cell_type": "code",
      "execution_count": null,
      "metadata": {
        "id": "rpnxC9X_8eUX",
        "outputId": "2c8e650d-d0fe-41bd-aaa0-966c147a374b"
      },
      "outputs": [
        {
          "name": "stdout",
          "output_type": "stream",
          "text": [
            "<class 'pandas.core.frame.DataFrame'>\n",
            "RangeIndex: 159292 entries, 0 to 159291\n",
            "Data columns (total 3 columns):\n",
            " #   Column      Non-Null Count   Dtype \n",
            "---  ------      --------------   ----- \n",
            " 0   Unnamed: 0  159292 non-null  int64 \n",
            " 1   text        159292 non-null  object\n",
            " 2   toxic       159292 non-null  int64 \n",
            "dtypes: int64(2), object(1)\n",
            "memory usage: 3.6+ MB\n"
          ]
        }
      ],
      "source": [
        "data.info()"
      ]
    },
    {
      "cell_type": "markdown",
      "metadata": {
        "id": "1i_blkx58eUY"
      },
      "source": [
        "Все логично, пропусков нет"
      ]
    },
    {
      "cell_type": "markdown",
      "metadata": {
        "id": "bE1GmCEJ8eUY"
      },
      "source": [
        "Посмотрим на соотношение позитивных и негативных отзывов"
      ]
    },
    {
      "cell_type": "code",
      "execution_count": null,
      "metadata": {
        "id": "hl2JuMQ28eUZ",
        "outputId": "61ed4606-3816-40d1-de47-a8fe45e5e047"
      },
      "outputs": [
        {
          "name": "stdout",
          "output_type": "stream",
          "text": [
            "Процентное соотношение негативных отзывов составляет 0.10161213369158527\n",
            "Позитивных отзывов 0.8983878663084147\n"
          ]
        }
      ],
      "source": [
        "negative_posts = data.query('toxic == 1').count()/len(data)\n",
        "print('Процентное соотношение негативных отзывов составляет', negative_posts['toxic'])\n",
        "print('Позитивных отзывов', 1 - negative_posts['toxic'])"
      ]
    },
    {
      "cell_type": "markdown",
      "metadata": {
        "id": "4-JZrUJH8eUZ"
      },
      "source": [
        "Почти 90 процентов позитивных отзывов. Возможен дисбаланс классов. Пока бороться с дисбалансом не буду, посмотрю на получаемый результат."
      ]
    },
    {
      "cell_type": "markdown",
      "metadata": {
        "id": "atnZz2yN8eUa"
      },
      "source": [
        "### Подготовка текстовых данных"
      ]
    },
    {
      "cell_type": "markdown",
      "metadata": {
        "id": "8y70u01x8eUa"
      },
      "source": [
        "Преобразуем комментарии, оставив только буквы в заданых регистрах и цифры"
      ]
    },
    {
      "cell_type": "code",
      "execution_count": null,
      "metadata": {
        "id": "eEEJT12v8eUa"
      },
      "outputs": [],
      "source": [
        "text_new = []\n",
        "pattern = r'[^a-zA-Z0-9]' \n",
        "for sentence in data.text:\n",
        "  cleared_text = re.sub(pattern, \" \", sentence)\n",
        "  text_new.append(\" \". join(cleared_text.split()))"
      ]
    },
    {
      "cell_type": "markdown",
      "metadata": {
        "id": "i_Z_dEfy8eUa"
      },
      "source": [
        "Добавим столбец с обработанными коментариями в датафрейм"
      ]
    },
    {
      "cell_type": "code",
      "execution_count": null,
      "metadata": {
        "id": "FvenSVLK8eUb",
        "outputId": "69f83626-2ebd-4374-aae7-0117248d80f3"
      },
      "outputs": [
        {
          "data": {
            "text/html": [
              "<div>\n",
              "<style scoped>\n",
              "    .dataframe tbody tr th:only-of-type {\n",
              "        vertical-align: middle;\n",
              "    }\n",
              "\n",
              "    .dataframe tbody tr th {\n",
              "        vertical-align: top;\n",
              "    }\n",
              "\n",
              "    .dataframe thead th {\n",
              "        text-align: right;\n",
              "    }\n",
              "</style>\n",
              "<table border=\"1\" class=\"dataframe\">\n",
              "  <thead>\n",
              "    <tr style=\"text-align: right;\">\n",
              "      <th></th>\n",
              "      <th>Unnamed: 0</th>\n",
              "      <th>text</th>\n",
              "      <th>toxic</th>\n",
              "      <th>clear_text</th>\n",
              "    </tr>\n",
              "  </thead>\n",
              "  <tbody>\n",
              "    <tr>\n",
              "      <th>0</th>\n",
              "      <td>0</td>\n",
              "      <td>Explanation\\nWhy the edits made under my usern...</td>\n",
              "      <td>0</td>\n",
              "      <td>Explanation Why the edits made under my userna...</td>\n",
              "    </tr>\n",
              "    <tr>\n",
              "      <th>1</th>\n",
              "      <td>1</td>\n",
              "      <td>D'aww! He matches this background colour I'm s...</td>\n",
              "      <td>0</td>\n",
              "      <td>D aww He matches this background colour I m se...</td>\n",
              "    </tr>\n",
              "    <tr>\n",
              "      <th>2</th>\n",
              "      <td>2</td>\n",
              "      <td>Hey man, I'm really not trying to edit war. It...</td>\n",
              "      <td>0</td>\n",
              "      <td>Hey man I m really not trying to edit war It s...</td>\n",
              "    </tr>\n",
              "    <tr>\n",
              "      <th>3</th>\n",
              "      <td>3</td>\n",
              "      <td>\"\\nMore\\nI can't make any real suggestions on ...</td>\n",
              "      <td>0</td>\n",
              "      <td>More I can t make any real suggestions on impr...</td>\n",
              "    </tr>\n",
              "    <tr>\n",
              "      <th>4</th>\n",
              "      <td>4</td>\n",
              "      <td>You, sir, are my hero. Any chance you remember...</td>\n",
              "      <td>0</td>\n",
              "      <td>You sir are my hero Any chance you remember wh...</td>\n",
              "    </tr>\n",
              "    <tr>\n",
              "      <th>...</th>\n",
              "      <td>...</td>\n",
              "      <td>...</td>\n",
              "      <td>...</td>\n",
              "      <td>...</td>\n",
              "    </tr>\n",
              "    <tr>\n",
              "      <th>159287</th>\n",
              "      <td>159446</td>\n",
              "      <td>\":::::And for the second time of asking, when ...</td>\n",
              "      <td>0</td>\n",
              "      <td>And for the second time of asking when your vi...</td>\n",
              "    </tr>\n",
              "    <tr>\n",
              "      <th>159288</th>\n",
              "      <td>159447</td>\n",
              "      <td>You should be ashamed of yourself \\n\\nThat is ...</td>\n",
              "      <td>0</td>\n",
              "      <td>You should be ashamed of yourself That is a ho...</td>\n",
              "    </tr>\n",
              "    <tr>\n",
              "      <th>159289</th>\n",
              "      <td>159448</td>\n",
              "      <td>Spitzer \\n\\nUmm, theres no actual article for ...</td>\n",
              "      <td>0</td>\n",
              "      <td>Spitzer Umm theres no actual article for prost...</td>\n",
              "    </tr>\n",
              "    <tr>\n",
              "      <th>159290</th>\n",
              "      <td>159449</td>\n",
              "      <td>And it looks like it was actually you who put ...</td>\n",
              "      <td>0</td>\n",
              "      <td>And it looks like it was actually you who put ...</td>\n",
              "    </tr>\n",
              "    <tr>\n",
              "      <th>159291</th>\n",
              "      <td>159450</td>\n",
              "      <td>\"\\nAnd ... I really don't think you understand...</td>\n",
              "      <td>0</td>\n",
              "      <td>And I really don t think you understand I came...</td>\n",
              "    </tr>\n",
              "  </tbody>\n",
              "</table>\n",
              "<p>159292 rows × 4 columns</p>\n",
              "</div>"
            ],
            "text/plain": [
              "        Unnamed: 0                                               text  toxic  \\\n",
              "0                0  Explanation\\nWhy the edits made under my usern...      0   \n",
              "1                1  D'aww! He matches this background colour I'm s...      0   \n",
              "2                2  Hey man, I'm really not trying to edit war. It...      0   \n",
              "3                3  \"\\nMore\\nI can't make any real suggestions on ...      0   \n",
              "4                4  You, sir, are my hero. Any chance you remember...      0   \n",
              "...            ...                                                ...    ...   \n",
              "159287      159446  \":::::And for the second time of asking, when ...      0   \n",
              "159288      159447  You should be ashamed of yourself \\n\\nThat is ...      0   \n",
              "159289      159448  Spitzer \\n\\nUmm, theres no actual article for ...      0   \n",
              "159290      159449  And it looks like it was actually you who put ...      0   \n",
              "159291      159450  \"\\nAnd ... I really don't think you understand...      0   \n",
              "\n",
              "                                               clear_text  \n",
              "0       Explanation Why the edits made under my userna...  \n",
              "1       D aww He matches this background colour I m se...  \n",
              "2       Hey man I m really not trying to edit war It s...  \n",
              "3       More I can t make any real suggestions on impr...  \n",
              "4       You sir are my hero Any chance you remember wh...  \n",
              "...                                                   ...  \n",
              "159287  And for the second time of asking when your vi...  \n",
              "159288  You should be ashamed of yourself That is a ho...  \n",
              "159289  Spitzer Umm theres no actual article for prost...  \n",
              "159290  And it looks like it was actually you who put ...  \n",
              "159291  And I really don t think you understand I came...  \n",
              "\n",
              "[159292 rows x 4 columns]"
            ]
          },
          "execution_count": 6,
          "metadata": {},
          "output_type": "execute_result"
        }
      ],
      "source": [
        "data['clear_text'] = text_new\n",
        "data"
      ]
    },
    {
      "cell_type": "markdown",
      "metadata": {
        "id": "s2KgQUrT8eUb"
      },
      "source": [
        "Можно переходить к обучению"
      ]
    },
    {
      "cell_type": "markdown",
      "metadata": {
        "id": "Pnyl444M8eUc"
      },
      "source": [
        "## Обучение"
      ]
    },
    {
      "cell_type": "markdown",
      "metadata": {
        "id": "uNYnfVQr8eUc"
      },
      "source": [
        "Разделим датафрейм на обучающую и тестовую выборки"
      ]
    },
    {
      "cell_type": "markdown",
      "metadata": {
        "id": "UehfyZ1h8eUc"
      },
      "source": [
        "Так как объем данных достаточно большой, думаю можно выделить 50% для тестовой выборки. Это позволит сократить время обучения и пресказания"
      ]
    },
    {
      "cell_type": "code",
      "execution_count": null,
      "metadata": {
        "id": "Ez-Fn9vL8eUc"
      },
      "outputs": [],
      "source": [
        "data_train_common, data_test = train_test_split(data, test_size=0.5, random_state=12345)"
      ]
    },
    {
      "cell_type": "markdown",
      "metadata": {
        "id": "Mr2wDi-G8eUc"
      },
      "source": [
        "Теперь валидационная"
      ]
    },
    {
      "cell_type": "code",
      "execution_count": null,
      "metadata": {
        "id": "NoT2iHnT8eUd"
      },
      "outputs": [],
      "source": [
        "data_train, data_valid = train_test_split(data_train_common, test_size=0.2, random_state=12345)"
      ]
    },
    {
      "cell_type": "markdown",
      "metadata": {
        "id": "nAyMpxz68eUd"
      },
      "source": [
        "### Логистическая регрессия"
      ]
    },
    {
      "cell_type": "markdown",
      "metadata": {
        "id": "3NKTCcUl8eUd"
      },
      "source": [
        "Перед началом обучения, напишем две функции ля подсчета времени обучения и предсказания. По заданию необязательно, тем не менее будет интересно посмотреть, учитывая такой большой объем данных"
      ]
    },
    {
      "cell_type": "code",
      "execution_count": null,
      "metadata": {
        "id": "SrI3mLPR8eUd"
      },
      "outputs": [],
      "source": [
        "def learn_time(model, x_train, y_train):\n",
        "    start_time = time.time()\n",
        "    model.fit(x_train,y_train)\n",
        "    finish_time = time.time()\n",
        "    time_fit = finish_time - start_time\n",
        "    return time_fit"
      ]
    },
    {
      "cell_type": "code",
      "execution_count": null,
      "metadata": {
        "id": "DH0v68DJ8eUe"
      },
      "outputs": [],
      "source": [
        "def predict_time(model, x_valid):\n",
        "    start_time = time.time()\n",
        "    predict = model.predict(x_valid)    \n",
        "    finish_time = time.time()\n",
        "    time_predict = finish_time - start_time\n",
        "    return time_predict"
      ]
    },
    {
      "cell_type": "markdown",
      "metadata": {
        "id": "vohl4fgz8eUe"
      },
      "source": [
        "Начнем с логистической регрессии"
      ]
    },
    {
      "cell_type": "code",
      "execution_count": null,
      "metadata": {
        "id": "uDbvUDfj8eUe",
        "outputId": "95587ac5-3fc8-4915-c5d7-002bbb1b7169"
      },
      "outputs": [
        {
          "name": "stderr",
          "output_type": "stream",
          "text": [
            "[nltk_data] Downloading package stopwords to /home/jovyan/nltk_data...\n",
            "[nltk_data]   Package stopwords is already up-to-date!\n"
          ]
        }
      ],
      "source": [
        "corpus = data_train['clear_text'].values #.astype('U')\n",
        "nltk.download('stopwords')\n",
        "stopwords = set(nltk_stopwords.words('english'))\n",
        "count_tf_idf = TfidfVectorizer(stop_words=stopwords) \n",
        "tf_idf = count_tf_idf.fit_transform(data_train)"
      ]
    },
    {
      "cell_type": "markdown",
      "metadata": {
        "id": "LUgurAUu8eUe"
      },
      "source": [
        "Обязательно укажем балансирование классов в параметрах"
      ]
    },
    {
      "cell_type": "code",
      "execution_count": null,
      "metadata": {
        "scrolled": false,
        "id": "N3qyYOTL8eUf",
        "outputId": "d8e40d88-56bc-487b-9416-a105be04e14e"
      },
      "outputs": [
        {
          "name": "stderr",
          "output_type": "stream",
          "text": [
            "[nltk_data] Downloading package stopwords to /home/jovyan/nltk_data...\n",
            "[nltk_data]   Package stopwords is already up-to-date!\n"
          ]
        },
        {
          "name": "stdout",
          "output_type": "stream",
          "text": [
            "F1 метрика для логистической регрессии 0.7665965755482126\n"
          ]
        }
      ],
      "source": [
        "target_train = data_train['toxic']\n",
        "features_train = data_train['clear_text']\n",
        "\n",
        "target_valid = data_valid['toxic']\n",
        "features_valid = data_valid['clear_text']\n",
        "\n",
        "nltk.download('stopwords')\n",
        "stopwords = set(nltk_stopwords.words('english'))\n",
        "count_tf_idf = TfidfVectorizer(stop_words=stopwords)\n",
        "tf_idf_train = count_tf_idf.fit_transform(features_train) \n",
        "tf_idf_valid = count_tf_idf.transform(features_valid) \n",
        "tf_idf_train.shape\n",
        "model = LogisticRegression(C=10.0, random_state = 0, solver = 'liblinear', class_weight= 'balanced')\n",
        "model.fit (tf_idf_train,target_train)\n",
        "print('F1 метрика для логистической регрессии', f1_score(target_valid, model.predict(tf_idf_valid)))"
      ]
    },
    {
      "cell_type": "code",
      "execution_count": null,
      "metadata": {
        "id": "qVToyqN18eUf",
        "outputId": "f38a8e86-551f-4d81-a858-7b828471a5c9"
      },
      "outputs": [
        {
          "data": {
            "text/plain": [
              "18.679446935653687"
            ]
          },
          "execution_count": 13,
          "metadata": {},
          "output_type": "execute_result"
        }
      ],
      "source": [
        "learn_time(model, tf_idf_train,target_train)"
      ]
    },
    {
      "cell_type": "code",
      "execution_count": null,
      "metadata": {
        "id": "f2USWNOW8eUf",
        "outputId": "adec081d-7370-4789-91b0-39db8ec97893"
      },
      "outputs": [
        {
          "data": {
            "text/plain": [
              "0.002184152603149414"
            ]
          },
          "execution_count": 14,
          "metadata": {},
          "output_type": "execute_result"
        }
      ],
      "source": [
        "predict_time(model, tf_idf_valid)"
      ]
    },
    {
      "cell_type": "markdown",
      "metadata": {
        "id": "aHM5NYsf8eUg"
      },
      "source": [
        "И сразу есть необходимый результат. Приятно, но попробуем улучшить"
      ]
    },
    {
      "cell_type": "markdown",
      "metadata": {
        "id": "r69_t9oi8eUh"
      },
      "source": [
        "### Логистическая регрессия Pipeline"
      ]
    },
    {
      "cell_type": "markdown",
      "metadata": {
        "id": "0lBlyHz08eUh"
      },
      "source": [
        "Где-то подсмотрел обучение с pipeline. Попробую."
      ]
    },
    {
      "cell_type": "code",
      "execution_count": null,
      "metadata": {
        "id": "b3DE6AjD8eUh",
        "outputId": "c12180b5-e9a1-4b59-c390-59441f676485"
      },
      "outputs": [
        {
          "data": {
            "text/plain": [
              "Pipeline(steps=[('vect', CountVectorizer()), ('tfidf', TfidfTransformer()),\n",
              "                ('clf',\n",
              "                 LogisticRegression(C=10.0, class_weight='balanced',\n",
              "                                    random_state=0, solver='liblinear'))])"
            ]
          },
          "execution_count": 15,
          "metadata": {},
          "output_type": "execute_result"
        }
      ],
      "source": [
        "pipe = Pipeline([(\"vect\", CountVectorizer()), (\"tfidf\", TfidfTransformer()), (\n",
        "    \"clf\", LogisticRegression(C=10.0, class_weight= 'balanced', random_state = 0,solver = 'liblinear'))])\n",
        "pipe.fit(features_train,target_train)"
      ]
    },
    {
      "cell_type": "code",
      "execution_count": null,
      "metadata": {
        "scrolled": false,
        "id": "DznIzX-J8eUh",
        "outputId": "04f35cf0-248a-4ef8-9e81-08447a1b1155"
      },
      "outputs": [
        {
          "data": {
            "text/plain": [
              "0.7588235294117648"
            ]
          },
          "execution_count": 16,
          "metadata": {},
          "output_type": "execute_result"
        }
      ],
      "source": [
        "f1_score(target_valid, pipe.predict(features_valid))"
      ]
    },
    {
      "cell_type": "markdown",
      "metadata": {
        "id": "MpYjJRTQ8eUi"
      },
      "source": [
        "Результат немного хуже"
      ]
    },
    {
      "cell_type": "markdown",
      "metadata": {
        "id": "SdsVd2_W8eUi"
      },
      "source": [
        "Время "
      ]
    },
    {
      "cell_type": "code",
      "execution_count": null,
      "metadata": {
        "id": "ZLQRPY-08eUi",
        "outputId": "48dbc1af-79cb-442e-f546-8ce124a70f74"
      },
      "outputs": [
        {
          "data": {
            "text/plain": [
              "28.44417905807495"
            ]
          },
          "execution_count": 17,
          "metadata": {},
          "output_type": "execute_result"
        }
      ],
      "source": [
        "learn_time(pipe, features_train, target_train)"
      ]
    },
    {
      "cell_type": "code",
      "execution_count": null,
      "metadata": {
        "id": "Q9Ue2p708eUj",
        "outputId": "d882e1da-e866-4c45-d166-806bd689dea5"
      },
      "outputs": [
        {
          "data": {
            "text/plain": [
              "0.7134711742401123"
            ]
          },
          "execution_count": 18,
          "metadata": {},
          "output_type": "execute_result"
        }
      ],
      "source": [
        "predict_time(pipe, features_valid)"
      ]
    },
    {
      "cell_type": "markdown",
      "metadata": {
        "id": "2defeKsr8eUk"
      },
      "source": [
        "### Борьба с дисбалансом"
      ]
    },
    {
      "cell_type": "markdown",
      "metadata": {
        "id": "RAiw2Njw8eUk"
      },
      "source": [
        "Воспользуемся апсемплином"
      ]
    },
    {
      "cell_type": "code",
      "execution_count": null,
      "metadata": {
        "id": "KxR63fI58eUk"
      },
      "outputs": [],
      "source": [
        "from sklearn.utils import shuffle\n",
        "def upsample(features, target, repeat):\n",
        "    features_zeros = features[target == 0]\n",
        "    features_ones = features[target == 1]\n",
        "    target_zeros = target[target == 0]\n",
        "    target_ones = target[target == 1]\n",
        "\n",
        "    features_upsampled = pd.concat([features_zeros] + [features_ones] * repeat)\n",
        "    target_upsampled = pd.concat([target_zeros] + [target_ones] * repeat)\n",
        "    \n",
        "    features_upsampled, target_upsampled = shuffle(\n",
        "        features_upsampled, target_upsampled, random_state=12345)\n",
        "    \n",
        "    return features_upsampled, target_upsampled\n",
        "\n",
        "features_upsampled, target_upsampled = upsample(features_train, target_train, 10)"
      ]
    },
    {
      "cell_type": "markdown",
      "metadata": {
        "id": "_amv5jqk8eUl"
      },
      "source": [
        "### Логистическая регрессия с отбалансированными классами"
      ]
    },
    {
      "cell_type": "markdown",
      "metadata": {
        "id": "QAmSCa2B8eUl"
      },
      "source": [
        "Попробуем переобучить успешную модель "
      ]
    },
    {
      "cell_type": "code",
      "execution_count": null,
      "metadata": {
        "id": "N8o8xphJ8eUm",
        "outputId": "8232c615-605f-45a9-a026-36ade893e001"
      },
      "outputs": [
        {
          "name": "stderr",
          "output_type": "stream",
          "text": [
            "[nltk_data] Downloading package stopwords to /home/jovyan/nltk_data...\n",
            "[nltk_data]   Package stopwords is already up-to-date!\n"
          ]
        },
        {
          "name": "stdout",
          "output_type": "stream",
          "text": [
            "F1 метрика для логистической регрессии 0.7541882424611636\n"
          ]
        }
      ],
      "source": [
        "nltk.download('stopwords')\n",
        "stopwords = set(nltk_stopwords.words('english'))\n",
        "count_tf_idf = TfidfVectorizer(stop_words=stopwords)\n",
        "tf_idf_train = count_tf_idf.fit_transform(features_upsampled) \n",
        "tf_idf_valid = count_tf_idf.transform(features_valid) \n",
        "tf_idf_train.shape\n",
        "model_upsemp = LogisticRegression(C=10.0, random_state = 0, solver = 'liblinear', class_weight= 'balanced')\n",
        "model_upsemp.fit (tf_idf_train,target_upsampled)\n",
        "print('F1 метрика для логистической регрессии', f1_score(target_valid, model_upsemp.predict(tf_idf_valid)))"
      ]
    },
    {
      "cell_type": "markdown",
      "metadata": {
        "id": "fZham3QI8eUn"
      },
      "source": [
        "Показатель метрики ухудшился"
      ]
    },
    {
      "cell_type": "markdown",
      "metadata": {
        "id": "zy9yUG1F8eUn"
      },
      "source": [
        "Время"
      ]
    },
    {
      "cell_type": "code",
      "execution_count": null,
      "metadata": {
        "id": "NbY6M_bt8eUn",
        "outputId": "2700883c-2c2f-4ef8-ed73-af8108fe7099"
      },
      "outputs": [
        {
          "data": {
            "text/plain": [
              "22.18457555770874"
            ]
          },
          "execution_count": 21,
          "metadata": {},
          "output_type": "execute_result"
        }
      ],
      "source": [
        "learn_time(model_upsemp, tf_idf_train, target_upsampled)"
      ]
    },
    {
      "cell_type": "code",
      "execution_count": null,
      "metadata": {
        "id": "YZ7bTqj28eUn",
        "outputId": "ecf32de6-d703-4e4e-8c1d-6418bd61a979"
      },
      "outputs": [
        {
          "data": {
            "text/plain": [
              "0.003007173538208008"
            ]
          },
          "execution_count": 22,
          "metadata": {},
          "output_type": "execute_result"
        }
      ],
      "source": [
        "predict_time(model_upsemp, tf_idf_valid)"
      ]
    },
    {
      "cell_type": "markdown",
      "metadata": {
        "id": "20WBfSct8eUo"
      },
      "source": [
        "### Случайный лес"
      ]
    },
    {
      "cell_type": "markdown",
      "metadata": {
        "id": "hzUL7qU48eUo"
      },
      "source": [
        "Вряди эта модель справиться, но попробую"
      ]
    },
    {
      "cell_type": "code",
      "execution_count": null,
      "metadata": {
        "scrolled": true,
        "id": "Q4QOTcu38eUo",
        "outputId": "22f948e6-8576-4b78-aa78-dc4b1223e5fd"
      },
      "outputs": [
        {
          "name": "stdout",
          "output_type": "stream",
          "text": [
            "F1 наилучшей модели на валидационной выборке: 0.25986234681886855 Количество деревьев: 30 Максимальная глубина: 10\n"
          ]
        }
      ],
      "source": [
        "best_model = None\n",
        "best_result = 0\n",
        "best_est = 0\n",
        "best_depth = 0\n",
        "for est in range(10, 51, 10):\n",
        "    for depth in range (1, 11):\n",
        "        model_ran_for = RandomForestClassifier(random_state=12345, n_estimators=est, max_depth=depth) \n",
        "        model_ran_for.fit(tf_idf_train,target_upsampled) \n",
        "        predictions_valid = model_ran_for.predict(tf_idf_valid) \n",
        "        result = f1_score(target_valid, predictions_valid)\n",
        "        if result > best_result:\n",
        "            best_model = model\n",
        "            best_result = result\n",
        "            best_est = est\n",
        "            best_depth = depth\n",
        "\n",
        "print(\"F1 наилучшей модели на валидационной выборке:\", best_result, \"Количество деревьев:\", best_est, \"Максимальная глубина:\", depth)"
      ]
    },
    {
      "cell_type": "markdown",
      "metadata": {
        "id": "2HBrYP898eUo"
      },
      "source": [
        "Очень низкий показатель"
      ]
    },
    {
      "cell_type": "markdown",
      "metadata": {
        "id": "S6TndyX38eUp"
      },
      "source": [
        "Время"
      ]
    },
    {
      "cell_type": "code",
      "execution_count": null,
      "metadata": {
        "id": "AcEIFLJF8eUq",
        "outputId": "5e98256c-ce62-4f34-e4be-2c9a7ab86739"
      },
      "outputs": [
        {
          "data": {
            "text/plain": [
              "1.6501944065093994"
            ]
          },
          "execution_count": 24,
          "metadata": {},
          "output_type": "execute_result"
        }
      ],
      "source": [
        "learn_time(model_ran_for, tf_idf_train, target_upsampled)"
      ]
    },
    {
      "cell_type": "code",
      "execution_count": null,
      "metadata": {
        "id": "xKZRIuXX8eUq",
        "outputId": "c5d83e3c-58e6-4cab-c4f6-1d65fd5c3738"
      },
      "outputs": [
        {
          "data": {
            "text/plain": [
              "0.15833210945129395"
            ]
          },
          "execution_count": 25,
          "metadata": {},
          "output_type": "execute_result"
        }
      ],
      "source": [
        "predict_time(model_ran_for, tf_idf_valid)"
      ]
    },
    {
      "cell_type": "markdown",
      "metadata": {
        "id": "lnR_1vov8eUr"
      },
      "source": [
        "### Decision Tree"
      ]
    },
    {
      "cell_type": "code",
      "execution_count": null,
      "metadata": {
        "scrolled": true,
        "id": "kIyX7ENn8eUr",
        "outputId": "256af492-8e94-40ce-bfc5-57bf9e142ce4"
      },
      "outputs": [
        {
          "name": "stdout",
          "output_type": "stream",
          "text": [
            "F1 наилучшей модели на валидационной выборке: 0.6037959667852906 Глубина дерева: 47\n"
          ]
        }
      ],
      "source": [
        "best_model = None\n",
        "best_result = 0\n",
        "best_depth = 0\n",
        "for depth in range(1, 50):\n",
        "    model_dec_tr = DecisionTreeClassifier(random_state=12345, max_depth=depth)\n",
        "    model_dec_tr.fit(tf_idf_train,target_upsampled) \n",
        "    predictions_valid = model_dec_tr.predict(tf_idf_valid) \n",
        "    result =  f1_score(target_valid, predictions_valid)\n",
        "    if result > best_result:\n",
        "        best_model = model_dec_tr\n",
        "        best_result = result\n",
        "        best_depth = depth\n",
        "\n",
        "print(\"F1 наилучшей модели на валидационной выборке:\", best_result, \"Глубина дерева:\", best_depth)"
      ]
    },
    {
      "cell_type": "markdown",
      "metadata": {
        "id": "3OO5Ct3d8eUs"
      },
      "source": [
        "Показатель меры ниже необходимого"
      ]
    },
    {
      "cell_type": "markdown",
      "metadata": {
        "id": "XO7wtmJt8eUs"
      },
      "source": [
        "Время"
      ]
    },
    {
      "cell_type": "code",
      "execution_count": null,
      "metadata": {
        "id": "BwO7IqhX8eUs",
        "outputId": "fc507c69-9f50-4586-c7c2-8e56f816f2e0"
      },
      "outputs": [
        {
          "data": {
            "text/plain": [
              "27.833019971847534"
            ]
          },
          "execution_count": 28,
          "metadata": {},
          "output_type": "execute_result"
        }
      ],
      "source": [
        "learn_time(model_dec_tr, tf_idf_train, target_upsampled)"
      ]
    },
    {
      "cell_type": "code",
      "execution_count": null,
      "metadata": {
        "id": "xN-l-Odq8eUt",
        "outputId": "780ceebc-6fc3-44ba-a66d-1f98201f308b"
      },
      "outputs": [
        {
          "data": {
            "text/plain": [
              "0.006022214889526367"
            ]
          },
          "execution_count": 29,
          "metadata": {},
          "output_type": "execute_result"
        }
      ],
      "source": [
        "predict_time(model_dec_tr, tf_idf_valid)"
      ]
    },
    {
      "cell_type": "markdown",
      "metadata": {
        "id": "vc8GN80p8eUt"
      },
      "source": [
        "## Выбор лучшей модели и проверка"
      ]
    },
    {
      "cell_type": "markdown",
      "metadata": {
        "id": "mdVROwoC8eUt"
      },
      "source": [
        "Объединим данные в таблицу"
      ]
    },
    {
      "cell_type": "code",
      "execution_count": null,
      "metadata": {
        "id": "_Px1fDZH8eUu",
        "outputId": "2c112ead-87ba-4d98-9e94-e7810a2306a9"
      },
      "outputs": [
        {
          "data": {
            "text/html": [
              "<div>\n",
              "<style scoped>\n",
              "    .dataframe tbody tr th:only-of-type {\n",
              "        vertical-align: middle;\n",
              "    }\n",
              "\n",
              "    .dataframe tbody tr th {\n",
              "        vertical-align: top;\n",
              "    }\n",
              "\n",
              "    .dataframe thead th {\n",
              "        text-align: right;\n",
              "    }\n",
              "</style>\n",
              "<table border=\"1\" class=\"dataframe\">\n",
              "  <thead>\n",
              "    <tr style=\"text-align: right;\">\n",
              "      <th></th>\n",
              "      <th>type</th>\n",
              "      <th>F1</th>\n",
              "      <th>learn_time</th>\n",
              "      <th>predict_time</th>\n",
              "    </tr>\n",
              "  </thead>\n",
              "  <tbody>\n",
              "    <tr>\n",
              "      <th>0</th>\n",
              "      <td>LogisticRegression</td>\n",
              "      <td>0.7666</td>\n",
              "      <td>16.1870</td>\n",
              "      <td>0.0030</td>\n",
              "    </tr>\n",
              "    <tr>\n",
              "      <th>1</th>\n",
              "      <td>Pipeline</td>\n",
              "      <td>0.7588</td>\n",
              "      <td>27.9367</td>\n",
              "      <td>0.7325</td>\n",
              "    </tr>\n",
              "    <tr>\n",
              "      <th>2</th>\n",
              "      <td>LogisticRegression_unsemp</td>\n",
              "      <td>0.7541</td>\n",
              "      <td>22.0845</td>\n",
              "      <td>0.0024</td>\n",
              "    </tr>\n",
              "    <tr>\n",
              "      <th>3</th>\n",
              "      <td>CatBoost</td>\n",
              "      <td></td>\n",
              "      <td></td>\n",
              "      <td></td>\n",
              "    </tr>\n",
              "    <tr>\n",
              "      <th>4</th>\n",
              "      <td>RandomForestClassifier</td>\n",
              "      <td>0.2599</td>\n",
              "      <td>1.8332</td>\n",
              "      <td>0.1550</td>\n",
              "    </tr>\n",
              "    <tr>\n",
              "      <th>5</th>\n",
              "      <td>DecisionTreeClassifier</td>\n",
              "      <td>0.6038</td>\n",
              "      <td>30.3404</td>\n",
              "      <td>0.0113</td>\n",
              "    </tr>\n",
              "  </tbody>\n",
              "</table>\n",
              "</div>"
            ],
            "text/plain": [
              "                        type      F1 learn_time predict_time\n",
              "0         LogisticRegression  0.7666    16.1870       0.0030\n",
              "1                   Pipeline  0.7588    27.9367       0.7325\n",
              "2  LogisticRegression_unsemp  0.7541    22.0845       0.0024\n",
              "3                   CatBoost                                \n",
              "4     RandomForestClassifier  0.2599     1.8332       0.1550\n",
              "5     DecisionTreeClassifier  0.6038    30.3404       0.0113"
            ]
          },
          "execution_count": 30,
          "metadata": {},
          "output_type": "execute_result"
        }
      ],
      "source": [
        "models = ['LogisticRegression', '0.7666', '16.1870', '0.0030'], [\n",
        "    'Pipeline', '0.7588', '27.9367', '0.7325'], [\n",
        "    'LogisticRegression_unsemp', '0.7541', '22.0845', '0.0024'], [\n",
        "    'CatBoost', '', '', ''], [\n",
        "    'RandomForestClassifier', '0.2599', '1.8332', '0.1550'], [\n",
        "    'DecisionTreeClassifier', '0.6038', '30.3404', '0.0113']\n",
        "\n",
        "columns = ['type', 'F1', 'learn_time', 'predict_time']\n",
        "final_models = pd.DataFrame(data=models , columns=columns)\n",
        "final_models"
      ]
    },
    {
      "cell_type": "markdown",
      "metadata": {
        "id": "esT_hGhE8eUu"
      },
      "source": [
        "Лучшая модель это логистическая регрессия с несбалансированными классами. Проверим на тестовой выборке"
      ]
    },
    {
      "cell_type": "markdown",
      "metadata": {
        "id": "-fuBwWyd8eUv"
      },
      "source": [
        "Проверим на тестовой выборке"
      ]
    },
    {
      "cell_type": "code",
      "execution_count": null,
      "metadata": {
        "id": "pP29voBC8eUv",
        "outputId": "6d06395d-e01a-4183-cb08-c17a963ee674"
      },
      "outputs": [
        {
          "name": "stderr",
          "output_type": "stream",
          "text": [
            "[nltk_data] Downloading package stopwords to /home/jovyan/nltk_data...\n",
            "[nltk_data]   Package stopwords is already up-to-date!\n"
          ]
        },
        {
          "name": "stdout",
          "output_type": "stream",
          "text": [
            "F1 метрика для логистической регрессии на тестовой выборке 0.7627270020839535\n",
            "Время обучения: 22.774405479431152\n",
            "Время предсказания: 0.00784611701965332\n"
          ]
        }
      ],
      "source": [
        "target_train_common = data_train_common['toxic']\n",
        "features_train_common = data_train_common['clear_text']\n",
        "\n",
        "target_test = data_test['toxic']\n",
        "features_test = data_test['clear_text']\n",
        "\n",
        "nltk.download('stopwords')\n",
        "stopwords = set(nltk_stopwords.words('english'))\n",
        "count_tf_idf = TfidfVectorizer(stop_words=stopwords)\n",
        "tf_idf_train = count_tf_idf.fit_transform(features_train_common) \n",
        "tf_idf_test = count_tf_idf.transform(features_test) \n",
        "tf_idf_train.shape\n",
        "model_test = LogisticRegression(C=10.0, random_state = 0, solver = 'liblinear', class_weight= 'balanced')\n",
        "model_test.fit (tf_idf_train, target_train_common)\n",
        "print('F1 метрика для логистической регрессии на тестовой выборке', f1_score(target_test, model_test.predict(tf_idf_test)))\n",
        "\n",
        "print('Время обучения:', learn_time(model_test, tf_idf_train,target_train_common))\n",
        "print('Время предсказания:', predict_time(model_test, tf_idf_test))"
      ]
    },
    {
      "cell_type": "markdown",
      "metadata": {
        "id": "KN95nYhC8eUx"
      },
      "source": [
        "## Выводы"
      ]
    },
    {
      "cell_type": "markdown",
      "metadata": {
        "id": "aCyLDEAN8eUx"
      },
      "source": [
        "Исследовав несколько моделей машинного обучения, среди которых разные типы логистической регрессии (как с дисбалансом классов, так и без), случайный лес, дерево решений,а так же неудачная попытка градиентного бустинга, я пришел к вывоу, что лучшая модель это логистическая регрессия с векторизацией текстов методом TF-IDF/"
      ]
    }
  ],
  "metadata": {
    "ExecuteTimeLog": [
      {
        "duration": 2664,
        "start_time": "2022-10-22T19:12:20.782Z"
      },
      {
        "duration": 1580,
        "start_time": "2022-10-22T19:12:39.250Z"
      },
      {
        "duration": 2486,
        "start_time": "2022-10-22T19:13:07.582Z"
      },
      {
        "duration": 42,
        "start_time": "2022-10-22T19:13:48.504Z"
      },
      {
        "duration": 18,
        "start_time": "2022-10-22T19:14:23.993Z"
      },
      {
        "duration": 4301,
        "start_time": "2022-10-22T19:15:23.064Z"
      },
      {
        "duration": 40,
        "start_time": "2022-10-22T19:15:53.473Z"
      },
      {
        "duration": 97,
        "start_time": "2022-10-22T19:29:38.947Z"
      },
      {
        "duration": 2365,
        "start_time": "2022-10-22T19:29:53.058Z"
      },
      {
        "duration": 64380,
        "start_time": "2022-10-22T19:30:12.885Z"
      },
      {
        "duration": 44,
        "start_time": "2022-10-22T19:31:28.628Z"
      },
      {
        "duration": 2581,
        "start_time": "2022-10-22T19:31:46.305Z"
      },
      {
        "duration": 1838,
        "start_time": "2022-10-22T19:31:48.889Z"
      },
      {
        "duration": 2679,
        "start_time": "2022-10-22T19:31:50.729Z"
      },
      {
        "duration": 44,
        "start_time": "2022-10-22T19:31:53.410Z"
      },
      {
        "duration": 24,
        "start_time": "2022-10-22T19:31:53.457Z"
      },
      {
        "duration": 4277,
        "start_time": "2022-10-22T19:31:53.483Z"
      },
      {
        "duration": 55,
        "start_time": "2022-10-22T19:31:57.762Z"
      },
      {
        "duration": 98,
        "start_time": "2022-10-22T19:31:57.819Z"
      },
      {
        "duration": 2399,
        "start_time": "2022-10-22T19:31:57.919Z"
      },
      {
        "duration": 57544,
        "start_time": "2022-10-22T19:32:00.321Z"
      },
      {
        "duration": 87,
        "start_time": "2022-10-22T19:32:57.869Z"
      },
      {
        "duration": 74241,
        "start_time": "2022-10-22T19:33:37.619Z"
      },
      {
        "duration": 493,
        "start_time": "2022-10-22T19:34:51.863Z"
      },
      {
        "duration": 43,
        "start_time": "2022-10-22T19:35:03.195Z"
      },
      {
        "duration": 50,
        "start_time": "2022-10-22T19:35:06.970Z"
      },
      {
        "duration": 3338,
        "start_time": "2022-10-22T19:35:14.597Z"
      },
      {
        "duration": 2833,
        "start_time": "2022-10-22T19:35:17.938Z"
      },
      {
        "duration": 2775,
        "start_time": "2022-10-22T19:35:20.773Z"
      },
      {
        "duration": 39,
        "start_time": "2022-10-22T19:35:23.550Z"
      },
      {
        "duration": 21,
        "start_time": "2022-10-22T19:35:23.591Z"
      },
      {
        "duration": 4489,
        "start_time": "2022-10-22T19:35:23.614Z"
      },
      {
        "duration": 57,
        "start_time": "2022-10-22T19:35:28.105Z"
      },
      {
        "duration": 109,
        "start_time": "2022-10-22T19:35:28.166Z"
      },
      {
        "duration": 2343,
        "start_time": "2022-10-22T19:35:28.277Z"
      },
      {
        "duration": 64532,
        "start_time": "2022-10-22T19:35:30.623Z"
      },
      {
        "duration": 73902,
        "start_time": "2022-10-22T19:36:35.158Z"
      },
      {
        "duration": 936,
        "start_time": "2022-10-22T19:37:49.062Z"
      },
      {
        "duration": 6654,
        "start_time": "2022-10-22T19:37:50.001Z"
      },
      {
        "duration": 0,
        "start_time": "2022-10-22T19:37:56.658Z"
      },
      {
        "duration": 47,
        "start_time": "2022-10-22T19:39:50.067Z"
      },
      {
        "duration": 8445,
        "start_time": "2022-10-22T19:40:15.620Z"
      },
      {
        "duration": 19446,
        "start_time": "2022-10-22T19:40:35.659Z"
      },
      {
        "duration": 21756,
        "start_time": "2022-10-22T19:41:24.275Z"
      },
      {
        "duration": 900,
        "start_time": "2022-10-22T19:41:46.033Z"
      },
      {
        "duration": 45,
        "start_time": "2022-10-22T19:42:27.123Z"
      },
      {
        "duration": 58,
        "start_time": "2022-10-22T19:42:32.423Z"
      },
      {
        "duration": 2661,
        "start_time": "2022-10-22T19:42:41.370Z"
      },
      {
        "duration": 1912,
        "start_time": "2022-10-22T19:42:44.034Z"
      },
      {
        "duration": 2563,
        "start_time": "2022-10-22T19:42:45.949Z"
      },
      {
        "duration": 41,
        "start_time": "2022-10-22T19:42:48.514Z"
      },
      {
        "duration": 19,
        "start_time": "2022-10-22T19:42:48.557Z"
      },
      {
        "duration": 4351,
        "start_time": "2022-10-22T19:42:48.578Z"
      },
      {
        "duration": 52,
        "start_time": "2022-10-22T19:42:52.932Z"
      },
      {
        "duration": 143,
        "start_time": "2022-10-22T19:42:52.987Z"
      },
      {
        "duration": 2141,
        "start_time": "2022-10-22T19:42:53.133Z"
      },
      {
        "duration": 18708,
        "start_time": "2022-10-22T19:42:55.278Z"
      },
      {
        "duration": 20271,
        "start_time": "2022-10-22T19:43:13.988Z"
      },
      {
        "duration": 1882,
        "start_time": "2022-10-22T19:43:34.261Z"
      },
      {
        "duration": 5577,
        "start_time": "2022-10-22T19:43:36.145Z"
      },
      {
        "duration": 0,
        "start_time": "2022-10-22T19:43:41.724Z"
      },
      {
        "duration": 2575,
        "start_time": "2022-10-24T05:19:03.414Z"
      },
      {
        "duration": 1788,
        "start_time": "2022-10-24T05:19:05.992Z"
      },
      {
        "duration": 3340,
        "start_time": "2022-10-24T05:19:07.782Z"
      },
      {
        "duration": 32,
        "start_time": "2022-10-24T05:19:11.125Z"
      },
      {
        "duration": 17,
        "start_time": "2022-10-24T05:19:11.159Z"
      },
      {
        "duration": 4031,
        "start_time": "2022-10-24T05:19:11.177Z"
      },
      {
        "duration": 34,
        "start_time": "2022-10-24T05:19:15.210Z"
      },
      {
        "duration": 69,
        "start_time": "2022-10-24T05:19:15.245Z"
      },
      {
        "duration": 1994,
        "start_time": "2022-10-24T05:19:15.324Z"
      },
      {
        "duration": 17839,
        "start_time": "2022-10-24T05:19:17.321Z"
      },
      {
        "duration": 18609,
        "start_time": "2022-10-24T05:19:35.162Z"
      },
      {
        "duration": 1660,
        "start_time": "2022-10-24T05:19:53.773Z"
      },
      {
        "duration": 4246,
        "start_time": "2022-10-24T05:19:55.435Z"
      },
      {
        "duration": 0,
        "start_time": "2022-10-24T05:19:59.683Z"
      },
      {
        "duration": 2337,
        "start_time": "2022-10-24T05:21:18.282Z"
      },
      {
        "duration": 1536,
        "start_time": "2022-10-24T05:21:20.622Z"
      },
      {
        "duration": 999,
        "start_time": "2022-10-24T05:21:22.160Z"
      },
      {
        "duration": 33,
        "start_time": "2022-10-24T05:21:23.161Z"
      },
      {
        "duration": 29,
        "start_time": "2022-10-24T05:21:23.195Z"
      },
      {
        "duration": 4056,
        "start_time": "2022-10-24T05:21:23.226Z"
      },
      {
        "duration": 45,
        "start_time": "2022-10-24T05:21:27.283Z"
      },
      {
        "duration": 71,
        "start_time": "2022-10-24T05:21:27.329Z"
      },
      {
        "duration": 1836,
        "start_time": "2022-10-24T05:21:27.401Z"
      },
      {
        "duration": 16622,
        "start_time": "2022-10-24T05:21:29.239Z"
      },
      {
        "duration": 18610,
        "start_time": "2022-10-24T05:21:45.863Z"
      },
      {
        "duration": 1492,
        "start_time": "2022-10-24T05:22:04.475Z"
      },
      {
        "duration": 4364,
        "start_time": "2022-10-24T05:22:05.969Z"
      },
      {
        "duration": 0,
        "start_time": "2022-10-24T05:22:10.335Z"
      },
      {
        "duration": 29,
        "start_time": "2022-10-24T05:24:19.076Z"
      },
      {
        "duration": 28,
        "start_time": "2022-10-24T05:28:25.556Z"
      },
      {
        "duration": 2731,
        "start_time": "2022-10-24T05:29:58.362Z"
      },
      {
        "duration": 1607,
        "start_time": "2022-10-24T05:30:01.096Z"
      },
      {
        "duration": 1109,
        "start_time": "2022-10-24T05:30:02.705Z"
      },
      {
        "duration": 38,
        "start_time": "2022-10-24T05:30:03.817Z"
      },
      {
        "duration": 17,
        "start_time": "2022-10-24T05:30:03.857Z"
      },
      {
        "duration": 4169,
        "start_time": "2022-10-24T05:30:03.877Z"
      },
      {
        "duration": 53,
        "start_time": "2022-10-24T05:30:08.048Z"
      },
      {
        "duration": 104,
        "start_time": "2022-10-24T05:30:08.103Z"
      },
      {
        "duration": 2045,
        "start_time": "2022-10-24T05:30:08.209Z"
      },
      {
        "duration": 17203,
        "start_time": "2022-10-24T05:30:10.257Z"
      },
      {
        "duration": 153,
        "start_time": "2022-10-24T05:30:27.461Z"
      },
      {
        "duration": 0,
        "start_time": "2022-10-24T05:30:27.616Z"
      },
      {
        "duration": 0,
        "start_time": "2022-10-24T05:30:27.623Z"
      },
      {
        "duration": 0,
        "start_time": "2022-10-24T05:30:27.625Z"
      },
      {
        "duration": 0,
        "start_time": "2022-10-24T05:30:27.626Z"
      },
      {
        "duration": 18425,
        "start_time": "2022-10-24T05:38:47.749Z"
      },
      {
        "duration": 16,
        "start_time": "2022-10-24T05:39:11.284Z"
      },
      {
        "duration": 2210,
        "start_time": "2022-10-24T05:50:20.012Z"
      },
      {
        "duration": 1342,
        "start_time": "2022-10-24T05:50:22.224Z"
      },
      {
        "duration": 888,
        "start_time": "2022-10-24T05:50:23.568Z"
      },
      {
        "duration": 32,
        "start_time": "2022-10-24T05:50:24.458Z"
      },
      {
        "duration": 15,
        "start_time": "2022-10-24T05:50:24.492Z"
      },
      {
        "duration": 3670,
        "start_time": "2022-10-24T05:50:24.524Z"
      },
      {
        "duration": 35,
        "start_time": "2022-10-24T05:50:28.196Z"
      },
      {
        "duration": 62,
        "start_time": "2022-10-24T05:50:28.233Z"
      },
      {
        "duration": 1814,
        "start_time": "2022-10-24T05:50:28.296Z"
      },
      {
        "duration": 16253,
        "start_time": "2022-10-24T05:50:30.112Z"
      },
      {
        "duration": 17494,
        "start_time": "2022-10-24T05:50:46.366Z"
      },
      {
        "duration": 17,
        "start_time": "2022-10-24T05:51:03.861Z"
      },
      {
        "duration": 53677,
        "start_time": "2022-10-24T05:51:03.881Z"
      },
      {
        "duration": 2,
        "start_time": "2022-10-24T05:51:57.559Z"
      },
      {
        "duration": 122,
        "start_time": "2022-10-24T05:51:57.563Z"
      },
      {
        "duration": 2,
        "start_time": "2022-10-24T05:53:25.416Z"
      },
      {
        "duration": 77,
        "start_time": "2022-10-24T05:57:29.360Z"
      },
      {
        "duration": 71,
        "start_time": "2022-10-24T05:57:43.731Z"
      },
      {
        "duration": 73,
        "start_time": "2022-10-24T05:58:01.841Z"
      },
      {
        "duration": 740,
        "start_time": "2022-10-24T06:01:51.829Z"
      },
      {
        "duration": 2024,
        "start_time": "2022-10-24T06:02:11.690Z"
      },
      {
        "duration": 1636,
        "start_time": "2022-10-24T06:02:13.716Z"
      },
      {
        "duration": 3244,
        "start_time": "2022-10-24T06:02:15.354Z"
      },
      {
        "duration": 31,
        "start_time": "2022-10-24T06:02:18.600Z"
      },
      {
        "duration": 15,
        "start_time": "2022-10-24T06:02:18.633Z"
      },
      {
        "duration": 3983,
        "start_time": "2022-10-24T06:02:18.651Z"
      },
      {
        "duration": 34,
        "start_time": "2022-10-24T06:02:22.636Z"
      },
      {
        "duration": 76,
        "start_time": "2022-10-24T06:02:22.672Z"
      },
      {
        "duration": 1988,
        "start_time": "2022-10-24T06:02:22.749Z"
      },
      {
        "duration": 16019,
        "start_time": "2022-10-24T06:02:24.739Z"
      },
      {
        "duration": 17506,
        "start_time": "2022-10-24T06:02:40.760Z"
      },
      {
        "duration": 14,
        "start_time": "2022-10-24T06:02:58.267Z"
      },
      {
        "duration": 51207,
        "start_time": "2022-10-24T06:02:58.283Z"
      },
      {
        "duration": 2,
        "start_time": "2022-10-24T06:03:49.491Z"
      },
      {
        "duration": 6,
        "start_time": "2022-10-24T06:03:49.495Z"
      },
      {
        "duration": 3,
        "start_time": "2022-10-24T06:06:24.235Z"
      },
      {
        "duration": 1122,
        "start_time": "2022-10-24T06:10:14.215Z"
      },
      {
        "duration": 2169,
        "start_time": "2022-10-24T06:11:03.307Z"
      },
      {
        "duration": 1541,
        "start_time": "2022-10-24T06:11:05.478Z"
      },
      {
        "duration": 3257,
        "start_time": "2022-10-24T06:11:07.021Z"
      },
      {
        "duration": 33,
        "start_time": "2022-10-24T06:11:10.280Z"
      },
      {
        "duration": 18,
        "start_time": "2022-10-24T06:11:10.316Z"
      },
      {
        "duration": 3644,
        "start_time": "2022-10-24T06:11:10.336Z"
      },
      {
        "duration": 32,
        "start_time": "2022-10-24T06:11:13.982Z"
      },
      {
        "duration": 61,
        "start_time": "2022-10-24T06:11:14.024Z"
      },
      {
        "duration": 1796,
        "start_time": "2022-10-24T06:11:14.087Z"
      },
      {
        "duration": 15871,
        "start_time": "2022-10-24T06:11:15.885Z"
      },
      {
        "duration": 17813,
        "start_time": "2022-10-24T06:11:31.758Z"
      },
      {
        "duration": 14,
        "start_time": "2022-10-24T06:11:49.573Z"
      },
      {
        "duration": 50987,
        "start_time": "2022-10-24T06:11:49.589Z"
      },
      {
        "duration": 2,
        "start_time": "2022-10-24T06:12:40.580Z"
      },
      {
        "duration": 5,
        "start_time": "2022-10-24T06:12:40.586Z"
      },
      {
        "duration": 4,
        "start_time": "2022-10-24T06:12:40.593Z"
      },
      {
        "duration": 2260,
        "start_time": "2022-10-24T06:22:28.639Z"
      },
      {
        "duration": 1501,
        "start_time": "2022-10-24T06:22:30.901Z"
      },
      {
        "duration": 966,
        "start_time": "2022-10-24T06:22:32.404Z"
      },
      {
        "duration": 34,
        "start_time": "2022-10-24T06:22:33.372Z"
      },
      {
        "duration": 28,
        "start_time": "2022-10-24T06:22:33.408Z"
      },
      {
        "duration": 3924,
        "start_time": "2022-10-24T06:22:33.437Z"
      },
      {
        "duration": 42,
        "start_time": "2022-10-24T06:22:37.362Z"
      },
      {
        "duration": 77,
        "start_time": "2022-10-24T06:22:37.406Z"
      },
      {
        "duration": 1863,
        "start_time": "2022-10-24T06:22:37.485Z"
      },
      {
        "duration": 6,
        "start_time": "2022-10-24T06:22:39.351Z"
      },
      {
        "duration": 0,
        "start_time": "2022-10-24T06:22:39.359Z"
      },
      {
        "duration": 0,
        "start_time": "2022-10-24T06:22:39.361Z"
      },
      {
        "duration": 0,
        "start_time": "2022-10-24T06:22:39.362Z"
      },
      {
        "duration": 0,
        "start_time": "2022-10-24T06:22:39.363Z"
      },
      {
        "duration": 0,
        "start_time": "2022-10-24T06:22:39.365Z"
      },
      {
        "duration": 0,
        "start_time": "2022-10-24T06:22:39.366Z"
      },
      {
        "duration": 21627,
        "start_time": "2022-10-24T06:23:37.140Z"
      },
      {
        "duration": 6,
        "start_time": "2022-10-24T06:24:41.868Z"
      },
      {
        "duration": 21687,
        "start_time": "2022-10-24T06:24:58.487Z"
      },
      {
        "duration": 16,
        "start_time": "2022-10-24T06:25:20.176Z"
      },
      {
        "duration": 137,
        "start_time": "2022-10-24T06:25:53.386Z"
      },
      {
        "duration": 1500,
        "start_time": "2022-10-24T06:26:52.977Z"
      },
      {
        "duration": 37,
        "start_time": "2022-10-24T06:28:18.567Z"
      },
      {
        "duration": 31,
        "start_time": "2022-10-24T06:29:06.538Z"
      },
      {
        "duration": 2247,
        "start_time": "2022-10-24T06:30:46.151Z"
      },
      {
        "duration": 1703,
        "start_time": "2022-10-24T06:30:48.401Z"
      },
      {
        "duration": 3427,
        "start_time": "2022-10-24T06:30:50.105Z"
      },
      {
        "duration": 33,
        "start_time": "2022-10-24T06:30:53.534Z"
      },
      {
        "duration": 18,
        "start_time": "2022-10-24T06:30:53.569Z"
      },
      {
        "duration": 4032,
        "start_time": "2022-10-24T06:30:53.588Z"
      },
      {
        "duration": 41,
        "start_time": "2022-10-24T06:30:57.622Z"
      },
      {
        "duration": 84,
        "start_time": "2022-10-24T06:30:57.665Z"
      },
      {
        "duration": 33,
        "start_time": "2022-10-24T06:30:57.751Z"
      },
      {
        "duration": 1398,
        "start_time": "2022-10-24T06:30:57.787Z"
      },
      {
        "duration": 16981,
        "start_time": "2022-10-24T06:30:59.187Z"
      },
      {
        "duration": 0,
        "start_time": "2022-10-24T06:31:16.170Z"
      },
      {
        "duration": 0,
        "start_time": "2022-10-24T06:31:16.171Z"
      },
      {
        "duration": 0,
        "start_time": "2022-10-24T06:31:16.172Z"
      },
      {
        "duration": 0,
        "start_time": "2022-10-24T06:31:16.174Z"
      },
      {
        "duration": 0,
        "start_time": "2022-10-24T06:31:16.174Z"
      },
      {
        "duration": 16614,
        "start_time": "2022-10-24T06:31:39.931Z"
      },
      {
        "duration": 16212,
        "start_time": "2022-10-24T06:32:55.431Z"
      },
      {
        "duration": 18873,
        "start_time": "2022-10-24T06:33:41.283Z"
      },
      {
        "duration": 1175,
        "start_time": "2022-10-24T06:34:00.158Z"
      },
      {
        "duration": 33,
        "start_time": "2022-10-24T06:37:17.084Z"
      },
      {
        "duration": 57,
        "start_time": "2022-10-24T06:37:47.378Z"
      },
      {
        "duration": 2481,
        "start_time": "2022-10-25T05:33:35.850Z"
      },
      {
        "duration": 1378,
        "start_time": "2022-10-25T05:33:38.334Z"
      },
      {
        "duration": 3607,
        "start_time": "2022-10-25T05:33:39.714Z"
      },
      {
        "duration": 33,
        "start_time": "2022-10-25T05:33:43.323Z"
      },
      {
        "duration": 16,
        "start_time": "2022-10-25T05:33:43.357Z"
      },
      {
        "duration": 4006,
        "start_time": "2022-10-25T05:33:43.375Z"
      },
      {
        "duration": 53,
        "start_time": "2022-10-25T05:33:47.383Z"
      },
      {
        "duration": 70,
        "start_time": "2022-10-25T05:33:47.440Z"
      },
      {
        "duration": 40,
        "start_time": "2022-10-25T05:33:47.511Z"
      },
      {
        "duration": 1510,
        "start_time": "2022-10-25T05:33:47.554Z"
      },
      {
        "duration": 16484,
        "start_time": "2022-10-25T05:33:49.066Z"
      },
      {
        "duration": 18301,
        "start_time": "2022-10-25T05:34:05.552Z"
      },
      {
        "duration": 1062,
        "start_time": "2022-10-25T05:34:23.855Z"
      },
      {
        "duration": 47,
        "start_time": "2022-10-25T05:34:24.919Z"
      },
      {
        "duration": 2,
        "start_time": "2022-10-25T05:34:24.968Z"
      },
      {
        "duration": 5,
        "start_time": "2022-10-25T05:34:24.972Z"
      },
      {
        "duration": 4,
        "start_time": "2022-10-25T05:34:24.979Z"
      },
      {
        "duration": 16550,
        "start_time": "2022-10-25T05:35:17.097Z"
      },
      {
        "duration": 21427,
        "start_time": "2022-10-25T05:36:57.835Z"
      },
      {
        "duration": 5,
        "start_time": "2022-10-25T05:37:48.184Z"
      },
      {
        "duration": 114,
        "start_time": "2022-10-25T05:38:10.397Z"
      },
      {
        "duration": 12,
        "start_time": "2022-10-25T05:38:18.706Z"
      },
      {
        "duration": 40,
        "start_time": "2022-10-25T05:38:51.093Z"
      },
      {
        "duration": 19135,
        "start_time": "2022-10-25T05:38:53.825Z"
      },
      {
        "duration": 55,
        "start_time": "2022-10-25T05:39:36.897Z"
      },
      {
        "duration": 21279,
        "start_time": "2022-10-25T05:39:37.399Z"
      },
      {
        "duration": 55,
        "start_time": "2022-10-25T05:40:04.399Z"
      },
      {
        "duration": 22073,
        "start_time": "2022-10-25T05:40:05.197Z"
      },
      {
        "duration": 65,
        "start_time": "2022-10-25T05:42:44.033Z"
      },
      {
        "duration": 24561,
        "start_time": "2022-10-25T05:42:46.925Z"
      },
      {
        "duration": 19556,
        "start_time": "2022-10-25T05:43:24.332Z"
      },
      {
        "duration": 61,
        "start_time": "2022-10-25T05:44:21.726Z"
      },
      {
        "duration": 19763,
        "start_time": "2022-10-25T05:44:22.604Z"
      },
      {
        "duration": 74,
        "start_time": "2022-10-25T05:44:57.923Z"
      },
      {
        "duration": 21631,
        "start_time": "2022-10-25T05:45:03.949Z"
      },
      {
        "duration": 2238,
        "start_time": "2022-10-25T05:45:53.560Z"
      },
      {
        "duration": 1366,
        "start_time": "2022-10-25T05:45:55.800Z"
      },
      {
        "duration": 958,
        "start_time": "2022-10-25T05:45:57.168Z"
      },
      {
        "duration": 34,
        "start_time": "2022-10-25T05:45:58.128Z"
      },
      {
        "duration": 27,
        "start_time": "2022-10-25T05:45:58.164Z"
      },
      {
        "duration": 4104,
        "start_time": "2022-10-25T05:45:58.193Z"
      },
      {
        "duration": 37,
        "start_time": "2022-10-25T05:46:02.299Z"
      },
      {
        "duration": 86,
        "start_time": "2022-10-25T05:46:02.338Z"
      },
      {
        "duration": 40,
        "start_time": "2022-10-25T05:46:02.426Z"
      },
      {
        "duration": 1523,
        "start_time": "2022-10-25T05:46:02.469Z"
      },
      {
        "duration": 17356,
        "start_time": "2022-10-25T05:46:03.994Z"
      },
      {
        "duration": 19400,
        "start_time": "2022-10-25T05:46:21.352Z"
      },
      {
        "duration": 1316,
        "start_time": "2022-10-25T05:46:40.754Z"
      },
      {
        "duration": 62,
        "start_time": "2022-10-25T05:46:42.071Z"
      },
      {
        "duration": 21844,
        "start_time": "2022-10-25T05:46:42.135Z"
      },
      {
        "duration": 2,
        "start_time": "2022-10-25T05:47:03.981Z"
      },
      {
        "duration": 5,
        "start_time": "2022-10-25T05:47:03.985Z"
      },
      {
        "duration": 5,
        "start_time": "2022-10-25T05:47:03.991Z"
      },
      {
        "duration": 2354,
        "start_time": "2022-10-25T06:00:32.405Z"
      },
      {
        "duration": 1343,
        "start_time": "2022-10-25T06:00:34.761Z"
      },
      {
        "duration": 995,
        "start_time": "2022-10-25T06:00:36.106Z"
      },
      {
        "duration": 39,
        "start_time": "2022-10-25T06:00:37.104Z"
      },
      {
        "duration": 19,
        "start_time": "2022-10-25T06:00:37.145Z"
      },
      {
        "duration": 4027,
        "start_time": "2022-10-25T06:00:37.166Z"
      },
      {
        "duration": 45,
        "start_time": "2022-10-25T06:00:41.195Z"
      },
      {
        "duration": 67,
        "start_time": "2022-10-25T06:00:41.242Z"
      },
      {
        "duration": 34,
        "start_time": "2022-10-25T06:00:41.312Z"
      },
      {
        "duration": 1186,
        "start_time": "2022-10-25T06:00:41.349Z"
      },
      {
        "duration": 11604,
        "start_time": "2022-10-25T06:00:42.537Z"
      },
      {
        "duration": 15607,
        "start_time": "2022-10-25T06:00:54.142Z"
      },
      {
        "duration": 841,
        "start_time": "2022-10-25T06:01:09.750Z"
      },
      {
        "duration": 47,
        "start_time": "2022-10-25T06:01:10.593Z"
      },
      {
        "duration": 18903,
        "start_time": "2022-10-25T06:01:10.641Z"
      },
      {
        "duration": 3,
        "start_time": "2022-10-25T06:01:29.546Z"
      },
      {
        "duration": 15,
        "start_time": "2022-10-25T06:01:29.551Z"
      },
      {
        "duration": 10,
        "start_time": "2022-10-25T06:01:29.568Z"
      },
      {
        "duration": 411,
        "start_time": "2022-10-25T06:07:31.536Z"
      },
      {
        "duration": 41287,
        "start_time": "2022-10-25T06:07:44.709Z"
      },
      {
        "duration": 2297,
        "start_time": "2022-10-25T06:31:15.304Z"
      },
      {
        "duration": 1409,
        "start_time": "2022-10-25T06:31:17.603Z"
      },
      {
        "duration": 982,
        "start_time": "2022-10-25T06:31:19.014Z"
      },
      {
        "duration": 46,
        "start_time": "2022-10-25T06:31:19.998Z"
      },
      {
        "duration": 23,
        "start_time": "2022-10-25T06:31:20.045Z"
      },
      {
        "duration": 4338,
        "start_time": "2022-10-25T06:31:20.070Z"
      },
      {
        "duration": 41,
        "start_time": "2022-10-25T06:31:24.409Z"
      },
      {
        "duration": 88,
        "start_time": "2022-10-25T06:31:24.452Z"
      },
      {
        "duration": 26,
        "start_time": "2022-10-25T06:31:24.542Z"
      },
      {
        "duration": 1124,
        "start_time": "2022-10-25T06:31:24.572Z"
      },
      {
        "duration": 11237,
        "start_time": "2022-10-25T06:31:25.698Z"
      },
      {
        "duration": 15792,
        "start_time": "2022-10-25T06:31:36.936Z"
      },
      {
        "duration": 886,
        "start_time": "2022-10-25T06:31:52.729Z"
      },
      {
        "duration": 43,
        "start_time": "2022-10-25T06:31:53.617Z"
      },
      {
        "duration": 18684,
        "start_time": "2022-10-25T06:31:53.662Z"
      },
      {
        "duration": 41851,
        "start_time": "2022-10-25T06:32:12.347Z"
      },
      {
        "duration": 2551,
        "start_time": "2022-10-25T07:13:01.966Z"
      },
      {
        "duration": 1565,
        "start_time": "2022-10-25T07:13:04.520Z"
      },
      {
        "duration": 1104,
        "start_time": "2022-10-25T07:13:06.087Z"
      },
      {
        "duration": 37,
        "start_time": "2022-10-25T07:13:07.193Z"
      },
      {
        "duration": 25,
        "start_time": "2022-10-25T07:13:07.232Z"
      },
      {
        "duration": 4834,
        "start_time": "2022-10-25T07:13:07.259Z"
      },
      {
        "duration": 65,
        "start_time": "2022-10-25T07:13:12.095Z"
      },
      {
        "duration": 94,
        "start_time": "2022-10-25T07:13:12.162Z"
      },
      {
        "duration": 25,
        "start_time": "2022-10-25T07:13:12.258Z"
      },
      {
        "duration": 15,
        "start_time": "2022-10-25T07:13:12.293Z"
      },
      {
        "duration": 15,
        "start_time": "2022-10-25T07:13:12.310Z"
      },
      {
        "duration": 1171,
        "start_time": "2022-10-25T07:13:12.330Z"
      },
      {
        "duration": 11944,
        "start_time": "2022-10-25T07:13:13.503Z"
      },
      {
        "duration": 168,
        "start_time": "2022-10-25T07:13:25.450Z"
      },
      {
        "duration": 0,
        "start_time": "2022-10-25T07:13:25.620Z"
      },
      {
        "duration": 0,
        "start_time": "2022-10-25T07:13:25.621Z"
      },
      {
        "duration": 0,
        "start_time": "2022-10-25T07:13:25.623Z"
      },
      {
        "duration": 0,
        "start_time": "2022-10-25T07:13:25.629Z"
      },
      {
        "duration": 0,
        "start_time": "2022-10-25T07:13:25.634Z"
      },
      {
        "duration": 0,
        "start_time": "2022-10-25T07:13:25.635Z"
      },
      {
        "duration": 0,
        "start_time": "2022-10-25T07:13:25.636Z"
      },
      {
        "duration": 0,
        "start_time": "2022-10-25T07:13:25.637Z"
      },
      {
        "duration": 0,
        "start_time": "2022-10-25T07:13:25.640Z"
      },
      {
        "duration": 0,
        "start_time": "2022-10-25T07:13:25.642Z"
      },
      {
        "duration": 0,
        "start_time": "2022-10-25T07:13:25.643Z"
      },
      {
        "duration": 0,
        "start_time": "2022-10-25T07:13:25.644Z"
      },
      {
        "duration": 0,
        "start_time": "2022-10-25T07:13:25.646Z"
      },
      {
        "duration": 2702,
        "start_time": "2022-10-25T07:14:41.684Z"
      },
      {
        "duration": 1583,
        "start_time": "2022-10-25T07:14:44.389Z"
      },
      {
        "duration": 1147,
        "start_time": "2022-10-25T07:14:45.974Z"
      },
      {
        "duration": 45,
        "start_time": "2022-10-25T07:14:47.123Z"
      },
      {
        "duration": 32,
        "start_time": "2022-10-25T07:14:47.170Z"
      },
      {
        "duration": 4708,
        "start_time": "2022-10-25T07:14:47.204Z"
      },
      {
        "duration": 64,
        "start_time": "2022-10-25T07:14:51.914Z"
      },
      {
        "duration": 109,
        "start_time": "2022-10-25T07:14:51.980Z"
      },
      {
        "duration": 39,
        "start_time": "2022-10-25T07:14:52.092Z"
      },
      {
        "duration": 4,
        "start_time": "2022-10-25T07:14:52.144Z"
      },
      {
        "duration": 22,
        "start_time": "2022-10-25T07:14:52.149Z"
      },
      {
        "duration": 1235,
        "start_time": "2022-10-25T07:14:52.174Z"
      },
      {
        "duration": 11215,
        "start_time": "2022-10-25T07:14:53.410Z"
      },
      {
        "duration": 7135,
        "start_time": "2022-10-25T07:15:04.628Z"
      },
      {
        "duration": 80,
        "start_time": "2022-10-25T07:15:11.765Z"
      },
      {
        "duration": 15588,
        "start_time": "2022-10-25T07:15:11.848Z"
      },
      {
        "duration": 897,
        "start_time": "2022-10-25T07:15:27.439Z"
      },
      {
        "duration": 16089,
        "start_time": "2022-10-25T07:15:28.339Z"
      },
      {
        "duration": 887,
        "start_time": "2022-10-25T07:15:44.432Z"
      },
      {
        "duration": 50,
        "start_time": "2022-10-25T07:15:45.321Z"
      },
      {
        "duration": 19397,
        "start_time": "2022-10-25T07:15:45.373Z"
      },
      {
        "duration": 12668,
        "start_time": "2022-10-25T07:16:04.772Z"
      },
      {
        "duration": 6,
        "start_time": "2022-10-25T07:16:17.441Z"
      },
      {
        "duration": 43354,
        "start_time": "2022-10-25T07:16:17.449Z"
      },
      {
        "duration": 1987,
        "start_time": "2022-10-25T07:17:00.805Z"
      },
      {
        "duration": 150,
        "start_time": "2022-10-25T07:17:02.794Z"
      },
      {
        "duration": 730503,
        "start_time": "2022-10-25T07:17:02.945Z"
      },
      {
        "duration": 2393,
        "start_time": "2022-10-25T07:37:02.107Z"
      },
      {
        "duration": 1496,
        "start_time": "2022-10-25T07:37:04.502Z"
      },
      {
        "duration": 1012,
        "start_time": "2022-10-25T07:37:06.000Z"
      },
      {
        "duration": 41,
        "start_time": "2022-10-25T07:37:07.014Z"
      },
      {
        "duration": 18,
        "start_time": "2022-10-25T07:37:07.057Z"
      },
      {
        "duration": 4236,
        "start_time": "2022-10-25T07:37:07.077Z"
      },
      {
        "duration": 42,
        "start_time": "2022-10-25T07:37:11.315Z"
      },
      {
        "duration": 82,
        "start_time": "2022-10-25T07:37:11.358Z"
      },
      {
        "duration": 33,
        "start_time": "2022-10-25T07:37:11.442Z"
      },
      {
        "duration": 5,
        "start_time": "2022-10-25T07:37:11.486Z"
      },
      {
        "duration": 8,
        "start_time": "2022-10-25T07:37:11.493Z"
      },
      {
        "duration": 1095,
        "start_time": "2022-10-25T07:37:11.503Z"
      },
      {
        "duration": 11339,
        "start_time": "2022-10-25T07:37:12.600Z"
      },
      {
        "duration": 7503,
        "start_time": "2022-10-25T07:37:23.941Z"
      },
      {
        "duration": 9,
        "start_time": "2022-10-25T07:37:31.525Z"
      },
      {
        "duration": 15490,
        "start_time": "2022-10-25T07:37:31.535Z"
      },
      {
        "duration": 858,
        "start_time": "2022-10-25T07:37:47.027Z"
      },
      {
        "duration": 15662,
        "start_time": "2022-10-25T07:37:47.887Z"
      },
      {
        "duration": 752,
        "start_time": "2022-10-25T07:38:03.550Z"
      },
      {
        "duration": 48,
        "start_time": "2022-10-25T07:38:04.304Z"
      },
      {
        "duration": 18793,
        "start_time": "2022-10-25T07:38:04.353Z"
      },
      {
        "duration": 13006,
        "start_time": "2022-10-25T07:38:23.149Z"
      },
      {
        "duration": 6,
        "start_time": "2022-10-25T07:38:36.157Z"
      },
      {
        "duration": 44311,
        "start_time": "2022-10-25T07:38:36.164Z"
      },
      {
        "duration": 1838,
        "start_time": "2022-10-25T07:39:20.477Z"
      },
      {
        "duration": 159,
        "start_time": "2022-10-25T07:39:22.316Z"
      },
      {
        "duration": 3,
        "start_time": "2022-10-25T07:39:22.477Z"
      },
      {
        "duration": 714879,
        "start_time": "2022-10-25T07:39:22.484Z"
      },
      {
        "duration": 30344,
        "start_time": "2022-10-25T07:51:17.365Z"
      },
      {
        "duration": 24,
        "start_time": "2022-10-25T07:51:47.712Z"
      },
      {
        "duration": 89,
        "start_time": "2022-10-25T07:57:17.193Z"
      },
      {
        "duration": 11,
        "start_time": "2022-10-25T07:58:11.543Z"
      },
      {
        "duration": 24784,
        "start_time": "2022-10-25T07:58:28.862Z"
      },
      {
        "duration": 2340,
        "start_time": "2022-10-25T08:04:05.316Z"
      },
      {
        "duration": 1422,
        "start_time": "2022-10-25T08:04:07.659Z"
      },
      {
        "duration": 1015,
        "start_time": "2022-10-25T08:04:09.083Z"
      },
      {
        "duration": 38,
        "start_time": "2022-10-25T08:04:10.100Z"
      },
      {
        "duration": 22,
        "start_time": "2022-10-25T08:04:10.139Z"
      },
      {
        "duration": 4309,
        "start_time": "2022-10-25T08:04:10.163Z"
      },
      {
        "duration": 38,
        "start_time": "2022-10-25T08:04:14.473Z"
      },
      {
        "duration": 97,
        "start_time": "2022-10-25T08:04:14.513Z"
      },
      {
        "duration": 30,
        "start_time": "2022-10-25T08:04:14.611Z"
      },
      {
        "duration": 5,
        "start_time": "2022-10-25T08:04:14.656Z"
      },
      {
        "duration": 22,
        "start_time": "2022-10-25T08:04:14.663Z"
      },
      {
        "duration": 1173,
        "start_time": "2022-10-25T08:04:14.687Z"
      },
      {
        "duration": 13182,
        "start_time": "2022-10-25T08:04:15.861Z"
      },
      {
        "duration": 7500,
        "start_time": "2022-10-25T08:04:29.050Z"
      },
      {
        "duration": 8,
        "start_time": "2022-10-25T08:04:36.629Z"
      },
      {
        "duration": 16197,
        "start_time": "2022-10-25T08:04:36.639Z"
      },
      {
        "duration": 917,
        "start_time": "2022-10-25T08:04:52.839Z"
      },
      {
        "duration": 15991,
        "start_time": "2022-10-25T08:04:53.758Z"
      },
      {
        "duration": 917,
        "start_time": "2022-10-25T08:05:09.751Z"
      },
      {
        "duration": 41,
        "start_time": "2022-10-25T08:05:10.670Z"
      },
      {
        "duration": 19856,
        "start_time": "2022-10-25T08:05:10.713Z"
      },
      {
        "duration": 12972,
        "start_time": "2022-10-25T08:05:30.570Z"
      },
      {
        "duration": 7,
        "start_time": "2022-10-25T08:05:43.543Z"
      },
      {
        "duration": 45715,
        "start_time": "2022-10-25T08:05:43.552Z"
      },
      {
        "duration": 1972,
        "start_time": "2022-10-25T08:06:29.269Z"
      },
      {
        "duration": 185,
        "start_time": "2022-10-25T08:06:31.244Z"
      },
      {
        "duration": 6,
        "start_time": "2022-10-25T08:06:31.435Z"
      },
      {
        "duration": 770795,
        "start_time": "2022-10-25T08:06:31.448Z"
      },
      {
        "duration": 31689,
        "start_time": "2022-10-25T08:19:22.245Z"
      },
      {
        "duration": 11,
        "start_time": "2022-10-25T08:19:53.940Z"
      },
      {
        "duration": 18,
        "start_time": "2022-10-25T08:19:53.952Z"
      },
      {
        "duration": 27879,
        "start_time": "2022-10-25T08:19:53.972Z"
      },
      {
        "duration": 49,
        "start_time": "2022-10-26T06:16:09.009Z"
      },
      {
        "duration": 2382,
        "start_time": "2022-10-26T06:16:16.408Z"
      },
      {
        "duration": 127,
        "start_time": "2022-10-26T06:16:18.792Z"
      },
      {
        "duration": 0,
        "start_time": "2022-10-26T06:16:18.922Z"
      },
      {
        "duration": 1,
        "start_time": "2022-10-26T06:16:18.923Z"
      },
      {
        "duration": 0,
        "start_time": "2022-10-26T06:16:18.925Z"
      },
      {
        "duration": 0,
        "start_time": "2022-10-26T06:16:18.926Z"
      },
      {
        "duration": 0,
        "start_time": "2022-10-26T06:16:18.928Z"
      },
      {
        "duration": 0,
        "start_time": "2022-10-26T06:16:18.929Z"
      },
      {
        "duration": 0,
        "start_time": "2022-10-26T06:16:18.931Z"
      },
      {
        "duration": 0,
        "start_time": "2022-10-26T06:16:18.932Z"
      },
      {
        "duration": 0,
        "start_time": "2022-10-26T06:16:18.934Z"
      },
      {
        "duration": 0,
        "start_time": "2022-10-26T06:16:18.935Z"
      },
      {
        "duration": 0,
        "start_time": "2022-10-26T06:16:18.937Z"
      },
      {
        "duration": 0,
        "start_time": "2022-10-26T06:16:18.938Z"
      },
      {
        "duration": 0,
        "start_time": "2022-10-26T06:16:18.939Z"
      },
      {
        "duration": 0,
        "start_time": "2022-10-26T06:16:18.941Z"
      },
      {
        "duration": 0,
        "start_time": "2022-10-26T06:16:18.942Z"
      },
      {
        "duration": 0,
        "start_time": "2022-10-26T06:16:18.944Z"
      },
      {
        "duration": 0,
        "start_time": "2022-10-26T06:16:18.945Z"
      },
      {
        "duration": 0,
        "start_time": "2022-10-26T06:16:18.946Z"
      },
      {
        "duration": 0,
        "start_time": "2022-10-26T06:16:18.948Z"
      },
      {
        "duration": 0,
        "start_time": "2022-10-26T06:16:18.949Z"
      },
      {
        "duration": 0,
        "start_time": "2022-10-26T06:16:18.950Z"
      },
      {
        "duration": 0,
        "start_time": "2022-10-26T06:16:18.952Z"
      },
      {
        "duration": 0,
        "start_time": "2022-10-26T06:16:18.953Z"
      },
      {
        "duration": 0,
        "start_time": "2022-10-26T06:16:18.954Z"
      },
      {
        "duration": 0,
        "start_time": "2022-10-26T06:16:18.956Z"
      },
      {
        "duration": 0,
        "start_time": "2022-10-26T06:16:18.957Z"
      },
      {
        "duration": 0,
        "start_time": "2022-10-26T06:16:18.958Z"
      },
      {
        "duration": 0,
        "start_time": "2022-10-26T06:16:18.960Z"
      },
      {
        "duration": 0,
        "start_time": "2022-10-26T06:16:18.961Z"
      },
      {
        "duration": 0,
        "start_time": "2022-10-26T06:16:18.962Z"
      },
      {
        "duration": 2197,
        "start_time": "2022-10-26T06:17:32.378Z"
      },
      {
        "duration": 1396,
        "start_time": "2022-10-26T06:17:34.577Z"
      },
      {
        "duration": 3315,
        "start_time": "2022-10-26T06:17:35.974Z"
      },
      {
        "duration": 31,
        "start_time": "2022-10-26T06:17:39.291Z"
      },
      {
        "duration": 16,
        "start_time": "2022-10-26T06:17:39.324Z"
      },
      {
        "duration": 4024,
        "start_time": "2022-10-26T06:17:39.342Z"
      },
      {
        "duration": 54,
        "start_time": "2022-10-26T06:17:43.368Z"
      },
      {
        "duration": 70,
        "start_time": "2022-10-26T06:17:43.424Z"
      },
      {
        "duration": 33,
        "start_time": "2022-10-26T06:17:43.496Z"
      },
      {
        "duration": 5,
        "start_time": "2022-10-26T06:17:43.531Z"
      },
      {
        "duration": 5,
        "start_time": "2022-10-26T06:17:43.538Z"
      },
      {
        "duration": 1153,
        "start_time": "2022-10-26T06:17:43.545Z"
      },
      {
        "duration": 12041,
        "start_time": "2022-10-26T06:17:44.700Z"
      },
      {
        "duration": 7782,
        "start_time": "2022-10-26T06:17:56.743Z"
      },
      {
        "duration": 6,
        "start_time": "2022-10-26T06:18:04.526Z"
      },
      {
        "duration": 16206,
        "start_time": "2022-10-26T06:18:04.534Z"
      },
      {
        "duration": 851,
        "start_time": "2022-10-26T06:18:20.742Z"
      },
      {
        "duration": 17030,
        "start_time": "2022-10-26T06:18:21.596Z"
      },
      {
        "duration": 775,
        "start_time": "2022-10-26T06:18:38.628Z"
      },
      {
        "duration": 40,
        "start_time": "2022-10-26T06:18:39.405Z"
      },
      {
        "duration": 18600,
        "start_time": "2022-10-26T06:18:39.448Z"
      },
      {
        "duration": 13394,
        "start_time": "2022-10-26T06:18:58.050Z"
      },
      {
        "duration": 7,
        "start_time": "2022-10-26T06:19:11.446Z"
      },
      {
        "duration": 42678,
        "start_time": "2022-10-26T06:19:11.454Z"
      },
      {
        "duration": 1745,
        "start_time": "2022-10-26T06:19:54.134Z"
      },
      {
        "duration": 138,
        "start_time": "2022-10-26T06:19:55.881Z"
      },
      {
        "duration": 4,
        "start_time": "2022-10-26T06:19:56.021Z"
      },
      {
        "duration": 667532,
        "start_time": "2022-10-26T06:19:56.030Z"
      },
      {
        "duration": 27325,
        "start_time": "2022-10-26T06:31:03.564Z"
      },
      {
        "duration": 9,
        "start_time": "2022-10-26T06:31:30.891Z"
      },
      {
        "duration": 26,
        "start_time": "2022-10-26T06:31:30.902Z"
      },
      {
        "duration": 28211,
        "start_time": "2022-10-26T06:31:30.930Z"
      },
      {
        "duration": 36450,
        "start_time": "2022-10-26T06:42:40.688Z"
      },
      {
        "duration": 14888,
        "start_time": "2022-10-26T06:43:54.346Z"
      },
      {
        "duration": 17839,
        "start_time": "2022-10-26T06:44:24.006Z"
      },
      {
        "duration": 812,
        "start_time": "2022-10-26T06:44:41.847Z"
      },
      {
        "duration": 19896,
        "start_time": "2022-10-26T06:44:47.164Z"
      },
      {
        "duration": 2163,
        "start_time": "2022-10-26T06:45:25.047Z"
      },
      {
        "duration": 1465,
        "start_time": "2022-10-26T06:45:27.212Z"
      },
      {
        "duration": 924,
        "start_time": "2022-10-26T06:45:28.679Z"
      },
      {
        "duration": 32,
        "start_time": "2022-10-26T06:45:29.605Z"
      },
      {
        "duration": 14,
        "start_time": "2022-10-26T06:45:29.639Z"
      },
      {
        "duration": 4049,
        "start_time": "2022-10-26T06:45:29.656Z"
      },
      {
        "duration": 43,
        "start_time": "2022-10-26T06:45:33.707Z"
      },
      {
        "duration": 90,
        "start_time": "2022-10-26T06:45:33.752Z"
      },
      {
        "duration": 26,
        "start_time": "2022-10-26T06:45:33.844Z"
      },
      {
        "duration": 4,
        "start_time": "2022-10-26T06:45:33.872Z"
      },
      {
        "duration": 10,
        "start_time": "2022-10-26T06:45:33.877Z"
      },
      {
        "duration": 169,
        "start_time": "2022-10-26T06:45:33.889Z"
      },
      {
        "duration": 15477,
        "start_time": "2022-10-26T06:45:34.060Z"
      },
      {
        "duration": 12394,
        "start_time": "2022-10-26T06:45:49.539Z"
      },
      {
        "duration": 7,
        "start_time": "2022-10-26T06:46:01.935Z"
      },
      {
        "duration": 17799,
        "start_time": "2022-10-26T06:46:01.943Z"
      },
      {
        "duration": 805,
        "start_time": "2022-10-26T06:46:19.744Z"
      },
      {
        "duration": 17788,
        "start_time": "2022-10-26T06:46:20.551Z"
      },
      {
        "duration": 725,
        "start_time": "2022-10-26T06:46:38.341Z"
      },
      {
        "duration": 33,
        "start_time": "2022-10-26T06:46:39.068Z"
      },
      {
        "duration": 19951,
        "start_time": "2022-10-26T06:46:39.103Z"
      },
      {
        "duration": 14496,
        "start_time": "2022-10-26T06:46:59.056Z"
      },
      {
        "duration": 6,
        "start_time": "2022-10-26T06:47:13.554Z"
      },
      {
        "duration": 40783,
        "start_time": "2022-10-26T06:47:13.561Z"
      },
      {
        "duration": 1730,
        "start_time": "2022-10-26T06:47:54.346Z"
      },
      {
        "duration": 129,
        "start_time": "2022-10-26T06:47:56.078Z"
      },
      {
        "duration": 2,
        "start_time": "2022-10-26T06:47:56.209Z"
      },
      {
        "duration": 677372,
        "start_time": "2022-10-26T06:47:56.223Z"
      },
      {
        "duration": 27853,
        "start_time": "2022-10-26T06:59:13.596Z"
      },
      {
        "duration": 9,
        "start_time": "2022-10-26T06:59:41.451Z"
      },
      {
        "duration": 11,
        "start_time": "2022-10-26T06:59:41.461Z"
      },
      {
        "duration": 35569,
        "start_time": "2022-10-26T06:59:41.474Z"
      },
      {
        "duration": 36282,
        "start_time": "2022-10-26T07:26:43.762Z"
      },
      {
        "duration": 38905,
        "start_time": "2022-10-26T07:27:30.540Z"
      },
      {
        "duration": 49926,
        "start_time": "2022-10-26T07:28:48.705Z"
      },
      {
        "duration": 50196,
        "start_time": "2022-10-26T07:31:56.746Z"
      },
      {
        "duration": 20995,
        "start_time": "2022-10-26T07:32:46.944Z"
      },
      {
        "duration": 16193,
        "start_time": "2022-10-26T07:33:07.941Z"
      },
      {
        "duration": 7,
        "start_time": "2022-10-26T07:33:24.225Z"
      },
      {
        "duration": 28107,
        "start_time": "2022-10-26T07:33:24.233Z"
      },
      {
        "duration": 756,
        "start_time": "2022-10-26T07:33:52.341Z"
      },
      {
        "duration": 27940,
        "start_time": "2022-10-26T07:33:53.098Z"
      },
      {
        "duration": 736,
        "start_time": "2022-10-26T07:34:21.040Z"
      },
      {
        "duration": 27577,
        "start_time": "2022-10-26T07:34:21.777Z"
      },
      {
        "duration": 22088,
        "start_time": "2022-10-26T07:34:49.356Z"
      },
      {
        "duration": 7,
        "start_time": "2022-10-26T07:35:11.446Z"
      },
      {
        "duration": 11,
        "start_time": "2022-10-26T07:36:19.597Z"
      },
      {
        "duration": 3,
        "start_time": "2022-10-26T07:38:28.584Z"
      },
      {
        "duration": 1422,
        "start_time": "2022-10-26T07:38:28.589Z"
      },
      {
        "duration": 955,
        "start_time": "2022-10-26T07:38:30.013Z"
      },
      {
        "duration": 32,
        "start_time": "2022-10-26T07:38:30.969Z"
      },
      {
        "duration": 38,
        "start_time": "2022-10-26T07:38:31.003Z"
      },
      {
        "duration": 3852,
        "start_time": "2022-10-26T07:38:31.042Z"
      },
      {
        "duration": 43,
        "start_time": "2022-10-26T07:38:34.895Z"
      },
      {
        "duration": 71,
        "start_time": "2022-10-26T07:38:34.940Z"
      },
      {
        "duration": 24,
        "start_time": "2022-10-26T07:38:35.012Z"
      },
      {
        "duration": 3,
        "start_time": "2022-10-26T07:38:35.038Z"
      },
      {
        "duration": 28,
        "start_time": "2022-10-26T07:38:35.043Z"
      },
      {
        "duration": 315,
        "start_time": "2022-10-26T07:38:35.073Z"
      },
      {
        "duration": 1403,
        "start_time": "2022-10-26T07:38:54.212Z"
      },
      {
        "duration": 899,
        "start_time": "2022-10-26T07:38:55.617Z"
      },
      {
        "duration": 35,
        "start_time": "2022-10-26T07:38:56.518Z"
      },
      {
        "duration": 17,
        "start_time": "2022-10-26T07:38:56.555Z"
      },
      {
        "duration": 3844,
        "start_time": "2022-10-26T07:38:56.574Z"
      },
      {
        "duration": 35,
        "start_time": "2022-10-26T07:39:00.421Z"
      },
      {
        "duration": 80,
        "start_time": "2022-10-26T07:39:00.457Z"
      },
      {
        "duration": 19,
        "start_time": "2022-10-26T07:39:00.539Z"
      },
      {
        "duration": 8,
        "start_time": "2022-10-26T07:39:00.560Z"
      },
      {
        "duration": 22,
        "start_time": "2022-10-26T07:39:00.570Z"
      },
      {
        "duration": 186,
        "start_time": "2022-10-26T07:39:00.594Z"
      },
      {
        "duration": 21960,
        "start_time": "2022-10-26T07:39:00.781Z"
      },
      {
        "duration": 18684,
        "start_time": "2022-10-26T07:39:22.743Z"
      },
      {
        "duration": 5,
        "start_time": "2022-10-26T07:39:41.429Z"
      },
      {
        "duration": 28105,
        "start_time": "2022-10-26T07:39:41.435Z"
      },
      {
        "duration": 752,
        "start_time": "2022-10-26T07:40:09.541Z"
      },
      {
        "duration": 28530,
        "start_time": "2022-10-26T07:40:10.295Z"
      },
      {
        "duration": 717,
        "start_time": "2022-10-26T07:40:38.826Z"
      },
      {
        "duration": 34,
        "start_time": "2022-10-26T07:40:39.545Z"
      },
      {
        "duration": 27771,
        "start_time": "2022-10-26T07:40:39.581Z"
      },
      {
        "duration": 22189,
        "start_time": "2022-10-26T07:41:07.354Z"
      },
      {
        "duration": 7,
        "start_time": "2022-10-26T07:41:29.545Z"
      },
      {
        "duration": 40588,
        "start_time": "2022-10-26T07:41:29.555Z"
      },
      {
        "duration": 1656,
        "start_time": "2022-10-26T07:42:10.145Z"
      },
      {
        "duration": 162,
        "start_time": "2022-10-26T07:42:11.804Z"
      },
      {
        "duration": 3,
        "start_time": "2022-10-26T07:42:11.968Z"
      },
      {
        "duration": 684873,
        "start_time": "2022-10-26T07:42:11.973Z"
      },
      {
        "duration": 27837,
        "start_time": "2022-10-26T07:53:36.849Z"
      },
      {
        "duration": 9,
        "start_time": "2022-10-26T07:54:04.687Z"
      },
      {
        "duration": 10,
        "start_time": "2022-10-26T07:54:04.698Z"
      },
      {
        "duration": 51533,
        "start_time": "2022-10-26T07:54:04.709Z"
      }
    ],
    "kernelspec": {
      "display_name": "Python 3 (ipykernel)",
      "language": "python",
      "name": "python3"
    },
    "language_info": {
      "codemirror_mode": {
        "name": "ipython",
        "version": 3
      },
      "file_extension": ".py",
      "mimetype": "text/x-python",
      "name": "python",
      "nbconvert_exporter": "python",
      "pygments_lexer": "ipython3",
      "version": "3.9.5"
    },
    "toc": {
      "base_numbering": 1,
      "nav_menu": {},
      "number_sections": true,
      "sideBar": true,
      "skip_h1_title": true,
      "title_cell": "Содержание",
      "title_sidebar": "Contents",
      "toc_cell": true,
      "toc_position": {
        "height": "calc(100% - 180px)",
        "left": "10px",
        "top": "150px",
        "width": "302.391px"
      },
      "toc_section_display": true,
      "toc_window_display": false
    },
    "colab": {
      "provenance": [],
      "include_colab_link": true
    }
  },
  "nbformat": 4,
  "nbformat_minor": 0
}