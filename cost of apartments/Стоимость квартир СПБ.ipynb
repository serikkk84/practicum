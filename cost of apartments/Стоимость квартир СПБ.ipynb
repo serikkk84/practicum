{
  "cells": [
    {
      "cell_type": "markdown",
      "metadata": {
        "id": "3Ysdnsb82EYI"
      },
      "source": [
        "# Исследование объявлений о продаже квартир\n",
        "\n",
        "В нашем распоряжении данные сервиса Яндекc Недвижимость — архив объявлений о продаже квартир в Санкт-Петербурге и соседних населённых пунктах за несколько лет. Необходимо установить параметры ля определения рыночной стоимости объектов недвижимости. Это позволит построить автоматизированную систему, которая отследит аномалии и мошенническую деятельность. \n",
        "\n",
        "По каждой квартире на продажу доступны два вида данных. Первые вписаны пользователем, вторые получены автоматически на основе картографических данных. Например, расстояние до центра, аэропорта, ближайшего парка и водоёма. "
      ]
    },
    {
      "cell_type": "markdown",
      "metadata": {
        "id": "xAqqCHX-2EYO"
      },
      "source": [
        "## Изучение данных из файла"
      ]
    },
    {
      "cell_type": "markdown",
      "metadata": {
        "id": "2Fv-Jb7_2EYP"
      },
      "source": [
        "Для изучения данных выведем таблицу методом display."
      ]
    },
    {
      "cell_type": "code",
      "execution_count": null,
      "metadata": {
        "id": "_vv3iSr72EYQ",
        "outputId": "d71f9f07-b6b6-4cf3-be7b-03c3e4518a54"
      },
      "outputs": [
        {
          "data": {
            "text/html": [
              "<div>\n",
              "<style scoped>\n",
              "    .dataframe tbody tr th:only-of-type {\n",
              "        vertical-align: middle;\n",
              "    }\n",
              "\n",
              "    .dataframe tbody tr th {\n",
              "        vertical-align: top;\n",
              "    }\n",
              "\n",
              "    .dataframe thead th {\n",
              "        text-align: right;\n",
              "    }\n",
              "</style>\n",
              "<table border=\"1\" class=\"dataframe\">\n",
              "  <thead>\n",
              "    <tr style=\"text-align: right;\">\n",
              "      <th></th>\n",
              "      <th>total_images\\tlast_price\\ttotal_area\\tfirst_day_exposition\\trooms\\tceiling_height\\tfloors_total\\tliving_area\\tfloor\\tis_apartment\\tstudio\\topen_plan\\tkitchen_area\\tbalcony\\tlocality_name\\tairports_nearest\\tcityCenters_nearest\\tparks_around3000\\tparks_nearest\\tponds_around3000\\tponds_nearest\\tdays_exposition</th>\n",
              "    </tr>\n",
              "  </thead>\n",
              "  <tbody>\n",
              "    <tr>\n",
              "      <th>0</th>\n",
              "      <td>20\\t13000000.0\\t108.0\\t2019-03-07T00:00:00\\t3\\...</td>\n",
              "    </tr>\n",
              "    <tr>\n",
              "      <th>1</th>\n",
              "      <td>7\\t3350000.0\\t40.4\\t2018-12-04T00:00:00\\t1\\t\\t...</td>\n",
              "    </tr>\n",
              "    <tr>\n",
              "      <th>2</th>\n",
              "      <td>10\\t5196000.0\\t56.0\\t2015-08-20T00:00:00\\t2\\t\\...</td>\n",
              "    </tr>\n",
              "    <tr>\n",
              "      <th>3</th>\n",
              "      <td>0\\t64900000.0\\t159.0\\t2015-07-24T00:00:00\\t3\\t...</td>\n",
              "    </tr>\n",
              "    <tr>\n",
              "      <th>4</th>\n",
              "      <td>2\\t10000000.0\\t100.0\\t2018-06-19T00:00:00\\t2\\t...</td>\n",
              "    </tr>\n",
              "    <tr>\n",
              "      <th>...</th>\n",
              "      <td>...</td>\n",
              "    </tr>\n",
              "    <tr>\n",
              "      <th>23694</th>\n",
              "      <td>9\\t9700000.0\\t133.81\\t2017-03-21T00:00:00\\t3\\t...</td>\n",
              "    </tr>\n",
              "    <tr>\n",
              "      <th>23695</th>\n",
              "      <td>14\\t3100000.0\\t59.0\\t2018-01-15T00:00:00\\t3\\t\\...</td>\n",
              "    </tr>\n",
              "    <tr>\n",
              "      <th>23696</th>\n",
              "      <td>18\\t2500000.0\\t56.7\\t2018-02-11T00:00:00\\t2\\t\\...</td>\n",
              "    </tr>\n",
              "    <tr>\n",
              "      <th>23697</th>\n",
              "      <td>13\\t11475000.0\\t76.75\\t2017-03-28T00:00:00\\t2\\...</td>\n",
              "    </tr>\n",
              "    <tr>\n",
              "      <th>23698</th>\n",
              "      <td>4\\t1350000.0\\t32.3\\t2017-07-21T00:00:00\\t1\\t2....</td>\n",
              "    </tr>\n",
              "  </tbody>\n",
              "</table>\n",
              "<p>23699 rows × 1 columns</p>\n",
              "</div>"
            ],
            "text/plain": [
              "      total_images\\tlast_price\\ttotal_area\\tfirst_day_exposition\\trooms\\tceiling_height\\tfloors_total\\tliving_area\\tfloor\\tis_apartment\\tstudio\\topen_plan\\tkitchen_area\\tbalcony\\tlocality_name\\tairports_nearest\\tcityCenters_nearest\\tparks_around3000\\tparks_nearest\\tponds_around3000\\tponds_nearest\\tdays_exposition\n",
              "0      20\\t13000000.0\\t108.0\\t2019-03-07T00:00:00\\t3\\...                                                                                                                                                                                                                                                                  \n",
              "1      7\\t3350000.0\\t40.4\\t2018-12-04T00:00:00\\t1\\t\\t...                                                                                                                                                                                                                                                                  \n",
              "2      10\\t5196000.0\\t56.0\\t2015-08-20T00:00:00\\t2\\t\\...                                                                                                                                                                                                                                                                  \n",
              "3      0\\t64900000.0\\t159.0\\t2015-07-24T00:00:00\\t3\\t...                                                                                                                                                                                                                                                                  \n",
              "4      2\\t10000000.0\\t100.0\\t2018-06-19T00:00:00\\t2\\t...                                                                                                                                                                                                                                                                  \n",
              "...                                                  ...                                                                                                                                                                                                                                                                  \n",
              "23694  9\\t9700000.0\\t133.81\\t2017-03-21T00:00:00\\t3\\t...                                                                                                                                                                                                                                                                  \n",
              "23695  14\\t3100000.0\\t59.0\\t2018-01-15T00:00:00\\t3\\t\\...                                                                                                                                                                                                                                                                  \n",
              "23696  18\\t2500000.0\\t56.7\\t2018-02-11T00:00:00\\t2\\t\\...                                                                                                                                                                                                                                                                  \n",
              "23697  13\\t11475000.0\\t76.75\\t2017-03-28T00:00:00\\t2\\...                                                                                                                                                                                                                                                                  \n",
              "23698  4\\t1350000.0\\t32.3\\t2017-07-21T00:00:00\\t1\\t2....                                                                                                                                                                                                                                                                  \n",
              "\n",
              "[23699 rows x 1 columns]"
            ]
          },
          "metadata": {},
          "output_type": "display_data"
        }
      ],
      "source": [
        "import pandas as pd\n",
        "df = pd.read_csv('/datasets/real_estate_data.csv')\n",
        "display(df)"
      ]
    },
    {
      "cell_type": "markdown",
      "metadata": {
        "id": "QnKyZpV62EYW"
      },
      "source": [
        "Данные читать очень сложно так как колонки \"склеились\". Вызовем повторно датафрейм используя разделитель колонок 'sep'."
      ]
    },
    {
      "cell_type": "code",
      "execution_count": null,
      "metadata": {
        "scrolled": true,
        "id": "-87wp6Rc2EYZ",
        "outputId": "56770b96-6a06-41ce-cdbe-fe8d351188ec"
      },
      "outputs": [
        {
          "data": {
            "text/html": [
              "<div>\n",
              "<style scoped>\n",
              "    .dataframe tbody tr th:only-of-type {\n",
              "        vertical-align: middle;\n",
              "    }\n",
              "\n",
              "    .dataframe tbody tr th {\n",
              "        vertical-align: top;\n",
              "    }\n",
              "\n",
              "    .dataframe thead th {\n",
              "        text-align: right;\n",
              "    }\n",
              "</style>\n",
              "<table border=\"1\" class=\"dataframe\">\n",
              "  <thead>\n",
              "    <tr style=\"text-align: right;\">\n",
              "      <th></th>\n",
              "      <th>total_images</th>\n",
              "      <th>last_price</th>\n",
              "      <th>total_area</th>\n",
              "      <th>first_day_exposition</th>\n",
              "      <th>rooms</th>\n",
              "      <th>ceiling_height</th>\n",
              "      <th>floors_total</th>\n",
              "      <th>living_area</th>\n",
              "      <th>floor</th>\n",
              "      <th>is_apartment</th>\n",
              "      <th>...</th>\n",
              "      <th>kitchen_area</th>\n",
              "      <th>balcony</th>\n",
              "      <th>locality_name</th>\n",
              "      <th>airports_nearest</th>\n",
              "      <th>cityCenters_nearest</th>\n",
              "      <th>parks_around3000</th>\n",
              "      <th>parks_nearest</th>\n",
              "      <th>ponds_around3000</th>\n",
              "      <th>ponds_nearest</th>\n",
              "      <th>days_exposition</th>\n",
              "    </tr>\n",
              "  </thead>\n",
              "  <tbody>\n",
              "    <tr>\n",
              "      <th>0</th>\n",
              "      <td>20</td>\n",
              "      <td>13000000.0</td>\n",
              "      <td>108.00</td>\n",
              "      <td>2019-03-07T00:00:00</td>\n",
              "      <td>3</td>\n",
              "      <td>2.70</td>\n",
              "      <td>16.0</td>\n",
              "      <td>51.0</td>\n",
              "      <td>8</td>\n",
              "      <td>NaN</td>\n",
              "      <td>...</td>\n",
              "      <td>25.00</td>\n",
              "      <td>NaN</td>\n",
              "      <td>Санкт-Петербург</td>\n",
              "      <td>18863.0</td>\n",
              "      <td>16028.0</td>\n",
              "      <td>1.0</td>\n",
              "      <td>482.0</td>\n",
              "      <td>2.0</td>\n",
              "      <td>755.0</td>\n",
              "      <td>NaN</td>\n",
              "    </tr>\n",
              "    <tr>\n",
              "      <th>1</th>\n",
              "      <td>7</td>\n",
              "      <td>3350000.0</td>\n",
              "      <td>40.40</td>\n",
              "      <td>2018-12-04T00:00:00</td>\n",
              "      <td>1</td>\n",
              "      <td>NaN</td>\n",
              "      <td>11.0</td>\n",
              "      <td>18.6</td>\n",
              "      <td>1</td>\n",
              "      <td>NaN</td>\n",
              "      <td>...</td>\n",
              "      <td>11.00</td>\n",
              "      <td>2.0</td>\n",
              "      <td>посёлок Шушары</td>\n",
              "      <td>12817.0</td>\n",
              "      <td>18603.0</td>\n",
              "      <td>0.0</td>\n",
              "      <td>NaN</td>\n",
              "      <td>0.0</td>\n",
              "      <td>NaN</td>\n",
              "      <td>81.0</td>\n",
              "    </tr>\n",
              "    <tr>\n",
              "      <th>2</th>\n",
              "      <td>10</td>\n",
              "      <td>5196000.0</td>\n",
              "      <td>56.00</td>\n",
              "      <td>2015-08-20T00:00:00</td>\n",
              "      <td>2</td>\n",
              "      <td>NaN</td>\n",
              "      <td>5.0</td>\n",
              "      <td>34.3</td>\n",
              "      <td>4</td>\n",
              "      <td>NaN</td>\n",
              "      <td>...</td>\n",
              "      <td>8.30</td>\n",
              "      <td>0.0</td>\n",
              "      <td>Санкт-Петербург</td>\n",
              "      <td>21741.0</td>\n",
              "      <td>13933.0</td>\n",
              "      <td>1.0</td>\n",
              "      <td>90.0</td>\n",
              "      <td>2.0</td>\n",
              "      <td>574.0</td>\n",
              "      <td>558.0</td>\n",
              "    </tr>\n",
              "    <tr>\n",
              "      <th>3</th>\n",
              "      <td>0</td>\n",
              "      <td>64900000.0</td>\n",
              "      <td>159.00</td>\n",
              "      <td>2015-07-24T00:00:00</td>\n",
              "      <td>3</td>\n",
              "      <td>NaN</td>\n",
              "      <td>14.0</td>\n",
              "      <td>NaN</td>\n",
              "      <td>9</td>\n",
              "      <td>NaN</td>\n",
              "      <td>...</td>\n",
              "      <td>NaN</td>\n",
              "      <td>0.0</td>\n",
              "      <td>Санкт-Петербург</td>\n",
              "      <td>28098.0</td>\n",
              "      <td>6800.0</td>\n",
              "      <td>2.0</td>\n",
              "      <td>84.0</td>\n",
              "      <td>3.0</td>\n",
              "      <td>234.0</td>\n",
              "      <td>424.0</td>\n",
              "    </tr>\n",
              "    <tr>\n",
              "      <th>4</th>\n",
              "      <td>2</td>\n",
              "      <td>10000000.0</td>\n",
              "      <td>100.00</td>\n",
              "      <td>2018-06-19T00:00:00</td>\n",
              "      <td>2</td>\n",
              "      <td>3.03</td>\n",
              "      <td>14.0</td>\n",
              "      <td>32.0</td>\n",
              "      <td>13</td>\n",
              "      <td>NaN</td>\n",
              "      <td>...</td>\n",
              "      <td>41.00</td>\n",
              "      <td>NaN</td>\n",
              "      <td>Санкт-Петербург</td>\n",
              "      <td>31856.0</td>\n",
              "      <td>8098.0</td>\n",
              "      <td>2.0</td>\n",
              "      <td>112.0</td>\n",
              "      <td>1.0</td>\n",
              "      <td>48.0</td>\n",
              "      <td>121.0</td>\n",
              "    </tr>\n",
              "    <tr>\n",
              "      <th>...</th>\n",
              "      <td>...</td>\n",
              "      <td>...</td>\n",
              "      <td>...</td>\n",
              "      <td>...</td>\n",
              "      <td>...</td>\n",
              "      <td>...</td>\n",
              "      <td>...</td>\n",
              "      <td>...</td>\n",
              "      <td>...</td>\n",
              "      <td>...</td>\n",
              "      <td>...</td>\n",
              "      <td>...</td>\n",
              "      <td>...</td>\n",
              "      <td>...</td>\n",
              "      <td>...</td>\n",
              "      <td>...</td>\n",
              "      <td>...</td>\n",
              "      <td>...</td>\n",
              "      <td>...</td>\n",
              "      <td>...</td>\n",
              "      <td>...</td>\n",
              "    </tr>\n",
              "    <tr>\n",
              "      <th>23694</th>\n",
              "      <td>9</td>\n",
              "      <td>9700000.0</td>\n",
              "      <td>133.81</td>\n",
              "      <td>2017-03-21T00:00:00</td>\n",
              "      <td>3</td>\n",
              "      <td>3.70</td>\n",
              "      <td>5.0</td>\n",
              "      <td>73.3</td>\n",
              "      <td>3</td>\n",
              "      <td>NaN</td>\n",
              "      <td>...</td>\n",
              "      <td>13.83</td>\n",
              "      <td>NaN</td>\n",
              "      <td>Санкт-Петербург</td>\n",
              "      <td>24665.0</td>\n",
              "      <td>4232.0</td>\n",
              "      <td>1.0</td>\n",
              "      <td>796.0</td>\n",
              "      <td>3.0</td>\n",
              "      <td>381.0</td>\n",
              "      <td>NaN</td>\n",
              "    </tr>\n",
              "    <tr>\n",
              "      <th>23695</th>\n",
              "      <td>14</td>\n",
              "      <td>3100000.0</td>\n",
              "      <td>59.00</td>\n",
              "      <td>2018-01-15T00:00:00</td>\n",
              "      <td>3</td>\n",
              "      <td>NaN</td>\n",
              "      <td>5.0</td>\n",
              "      <td>38.0</td>\n",
              "      <td>4</td>\n",
              "      <td>NaN</td>\n",
              "      <td>...</td>\n",
              "      <td>8.50</td>\n",
              "      <td>NaN</td>\n",
              "      <td>Тосно</td>\n",
              "      <td>NaN</td>\n",
              "      <td>NaN</td>\n",
              "      <td>NaN</td>\n",
              "      <td>NaN</td>\n",
              "      <td>NaN</td>\n",
              "      <td>NaN</td>\n",
              "      <td>45.0</td>\n",
              "    </tr>\n",
              "    <tr>\n",
              "      <th>23696</th>\n",
              "      <td>18</td>\n",
              "      <td>2500000.0</td>\n",
              "      <td>56.70</td>\n",
              "      <td>2018-02-11T00:00:00</td>\n",
              "      <td>2</td>\n",
              "      <td>NaN</td>\n",
              "      <td>3.0</td>\n",
              "      <td>29.7</td>\n",
              "      <td>1</td>\n",
              "      <td>NaN</td>\n",
              "      <td>...</td>\n",
              "      <td>NaN</td>\n",
              "      <td>NaN</td>\n",
              "      <td>село Рождествено</td>\n",
              "      <td>NaN</td>\n",
              "      <td>NaN</td>\n",
              "      <td>NaN</td>\n",
              "      <td>NaN</td>\n",
              "      <td>NaN</td>\n",
              "      <td>NaN</td>\n",
              "      <td>NaN</td>\n",
              "    </tr>\n",
              "    <tr>\n",
              "      <th>23697</th>\n",
              "      <td>13</td>\n",
              "      <td>11475000.0</td>\n",
              "      <td>76.75</td>\n",
              "      <td>2017-03-28T00:00:00</td>\n",
              "      <td>2</td>\n",
              "      <td>3.00</td>\n",
              "      <td>17.0</td>\n",
              "      <td>NaN</td>\n",
              "      <td>12</td>\n",
              "      <td>NaN</td>\n",
              "      <td>...</td>\n",
              "      <td>23.30</td>\n",
              "      <td>2.0</td>\n",
              "      <td>Санкт-Петербург</td>\n",
              "      <td>39140.0</td>\n",
              "      <td>10364.0</td>\n",
              "      <td>2.0</td>\n",
              "      <td>173.0</td>\n",
              "      <td>3.0</td>\n",
              "      <td>196.0</td>\n",
              "      <td>602.0</td>\n",
              "    </tr>\n",
              "    <tr>\n",
              "      <th>23698</th>\n",
              "      <td>4</td>\n",
              "      <td>1350000.0</td>\n",
              "      <td>32.30</td>\n",
              "      <td>2017-07-21T00:00:00</td>\n",
              "      <td>1</td>\n",
              "      <td>2.50</td>\n",
              "      <td>5.0</td>\n",
              "      <td>12.3</td>\n",
              "      <td>1</td>\n",
              "      <td>NaN</td>\n",
              "      <td>...</td>\n",
              "      <td>9.00</td>\n",
              "      <td>NaN</td>\n",
              "      <td>поселок Новый Учхоз</td>\n",
              "      <td>NaN</td>\n",
              "      <td>NaN</td>\n",
              "      <td>NaN</td>\n",
              "      <td>NaN</td>\n",
              "      <td>NaN</td>\n",
              "      <td>NaN</td>\n",
              "      <td>NaN</td>\n",
              "    </tr>\n",
              "  </tbody>\n",
              "</table>\n",
              "<p>23699 rows × 22 columns</p>\n",
              "</div>"
            ],
            "text/plain": [
              "       total_images  last_price  total_area first_day_exposition  rooms  \\\n",
              "0                20  13000000.0      108.00  2019-03-07T00:00:00      3   \n",
              "1                 7   3350000.0       40.40  2018-12-04T00:00:00      1   \n",
              "2                10   5196000.0       56.00  2015-08-20T00:00:00      2   \n",
              "3                 0  64900000.0      159.00  2015-07-24T00:00:00      3   \n",
              "4                 2  10000000.0      100.00  2018-06-19T00:00:00      2   \n",
              "...             ...         ...         ...                  ...    ...   \n",
              "23694             9   9700000.0      133.81  2017-03-21T00:00:00      3   \n",
              "23695            14   3100000.0       59.00  2018-01-15T00:00:00      3   \n",
              "23696            18   2500000.0       56.70  2018-02-11T00:00:00      2   \n",
              "23697            13  11475000.0       76.75  2017-03-28T00:00:00      2   \n",
              "23698             4   1350000.0       32.30  2017-07-21T00:00:00      1   \n",
              "\n",
              "       ceiling_height  floors_total  living_area  floor is_apartment  ...  \\\n",
              "0                2.70          16.0         51.0      8          NaN  ...   \n",
              "1                 NaN          11.0         18.6      1          NaN  ...   \n",
              "2                 NaN           5.0         34.3      4          NaN  ...   \n",
              "3                 NaN          14.0          NaN      9          NaN  ...   \n",
              "4                3.03          14.0         32.0     13          NaN  ...   \n",
              "...               ...           ...          ...    ...          ...  ...   \n",
              "23694            3.70           5.0         73.3      3          NaN  ...   \n",
              "23695             NaN           5.0         38.0      4          NaN  ...   \n",
              "23696             NaN           3.0         29.7      1          NaN  ...   \n",
              "23697            3.00          17.0          NaN     12          NaN  ...   \n",
              "23698            2.50           5.0         12.3      1          NaN  ...   \n",
              "\n",
              "       kitchen_area  balcony        locality_name  airports_nearest  \\\n",
              "0             25.00      NaN      Санкт-Петербург           18863.0   \n",
              "1             11.00      2.0       посёлок Шушары           12817.0   \n",
              "2              8.30      0.0      Санкт-Петербург           21741.0   \n",
              "3               NaN      0.0      Санкт-Петербург           28098.0   \n",
              "4             41.00      NaN      Санкт-Петербург           31856.0   \n",
              "...             ...      ...                  ...               ...   \n",
              "23694         13.83      NaN      Санкт-Петербург           24665.0   \n",
              "23695          8.50      NaN                Тосно               NaN   \n",
              "23696           NaN      NaN     село Рождествено               NaN   \n",
              "23697         23.30      2.0      Санкт-Петербург           39140.0   \n",
              "23698          9.00      NaN  поселок Новый Учхоз               NaN   \n",
              "\n",
              "      cityCenters_nearest  parks_around3000  parks_nearest  ponds_around3000  \\\n",
              "0                 16028.0               1.0          482.0               2.0   \n",
              "1                 18603.0               0.0            NaN               0.0   \n",
              "2                 13933.0               1.0           90.0               2.0   \n",
              "3                  6800.0               2.0           84.0               3.0   \n",
              "4                  8098.0               2.0          112.0               1.0   \n",
              "...                   ...               ...            ...               ...   \n",
              "23694              4232.0               1.0          796.0               3.0   \n",
              "23695                 NaN               NaN            NaN               NaN   \n",
              "23696                 NaN               NaN            NaN               NaN   \n",
              "23697             10364.0               2.0          173.0               3.0   \n",
              "23698                 NaN               NaN            NaN               NaN   \n",
              "\n",
              "       ponds_nearest  days_exposition  \n",
              "0              755.0              NaN  \n",
              "1                NaN             81.0  \n",
              "2              574.0            558.0  \n",
              "3              234.0            424.0  \n",
              "4               48.0            121.0  \n",
              "...              ...              ...  \n",
              "23694          381.0              NaN  \n",
              "23695            NaN             45.0  \n",
              "23696            NaN              NaN  \n",
              "23697          196.0            602.0  \n",
              "23698            NaN              NaN  \n",
              "\n",
              "[23699 rows x 22 columns]"
            ]
          },
          "metadata": {},
          "output_type": "display_data"
        }
      ],
      "source": [
        "df = pd.read_csv('/datasets/real_estate_data.csv', sep='\\t')\n",
        "display(df)"
      ]
    },
    {
      "cell_type": "code",
      "execution_count": null,
      "metadata": {
        "id": "HpHV34Tj2EYb",
        "outputId": "0843b683-bc5d-473c-ca3b-8e22da879a4d"
      },
      "outputs": [
        {
          "name": "stdout",
          "output_type": "stream",
          "text": [
            "<class 'pandas.core.frame.DataFrame'>\n",
            "RangeIndex: 23699 entries, 0 to 23698\n",
            "Data columns (total 22 columns):\n",
            " #   Column                Non-Null Count  Dtype  \n",
            "---  ------                --------------  -----  \n",
            " 0   total_images          23699 non-null  int64  \n",
            " 1   last_price            23699 non-null  float64\n",
            " 2   total_area            23699 non-null  float64\n",
            " 3   first_day_exposition  23699 non-null  object \n",
            " 4   rooms                 23699 non-null  int64  \n",
            " 5   ceiling_height        14504 non-null  float64\n",
            " 6   floors_total          23613 non-null  float64\n",
            " 7   living_area           21796 non-null  float64\n",
            " 8   floor                 23699 non-null  int64  \n",
            " 9   is_apartment          2775 non-null   object \n",
            " 10  studio                23699 non-null  bool   \n",
            " 11  open_plan             23699 non-null  bool   \n",
            " 12  kitchen_area          21421 non-null  float64\n",
            " 13  balcony               12180 non-null  float64\n",
            " 14  locality_name         23650 non-null  object \n",
            " 15  airports_nearest      18157 non-null  float64\n",
            " 16  cityCenters_nearest   18180 non-null  float64\n",
            " 17  parks_around3000      18181 non-null  float64\n",
            " 18  parks_nearest         8079 non-null   float64\n",
            " 19  ponds_around3000      18181 non-null  float64\n",
            " 20  ponds_nearest         9110 non-null   float64\n",
            " 21  days_exposition       20518 non-null  float64\n",
            "dtypes: bool(2), float64(14), int64(3), object(3)\n",
            "memory usage: 3.7+ MB\n"
          ]
        }
      ],
      "source": [
        "df.info()"
      ]
    },
    {
      "cell_type": "markdown",
      "metadata": {
        "id": "ai5-08Zg2EYj"
      },
      "source": [
        "### Вывод"
      ]
    },
    {
      "cell_type": "markdown",
      "metadata": {
        "id": "ac_xWwyR2EYk"
      },
      "source": [
        "Сразу видно множество пропусков в датафрейме. На этапе предобработки данных выявим все пропуски и проанализируем возможность их замены на какие-либо данные."
      ]
    },
    {
      "cell_type": "markdown",
      "metadata": {
        "id": "nGAGuDBg2EYl"
      },
      "source": [
        "## Предобработка данных"
      ]
    },
    {
      "cell_type": "markdown",
      "metadata": {
        "id": "Qi1wlFLj2EYm"
      },
      "source": [
        "Проверим пропуски методом isna."
      ]
    },
    {
      "cell_type": "code",
      "execution_count": null,
      "metadata": {
        "id": "pANHfjeS2EYm",
        "outputId": "02b8db4e-73c0-489f-90c0-ace424081792"
      },
      "outputs": [
        {
          "data": {
            "text/plain": [
              "total_images                0\n",
              "last_price                  0\n",
              "total_area                  0\n",
              "first_day_exposition        0\n",
              "rooms                       0\n",
              "ceiling_height           9195\n",
              "floors_total               86\n",
              "living_area              1903\n",
              "floor                       0\n",
              "is_apartment            20924\n",
              "studio                      0\n",
              "open_plan                   0\n",
              "kitchen_area             2278\n",
              "balcony                 11519\n",
              "locality_name              49\n",
              "airports_nearest         5542\n",
              "cityCenters_nearest      5519\n",
              "parks_around3000         5518\n",
              "parks_nearest           15620\n",
              "ponds_around3000         5518\n",
              "ponds_nearest           14589\n",
              "days_exposition          3181\n",
              "dtype: int64"
            ]
          },
          "execution_count": 112,
          "metadata": {},
          "output_type": "execute_result"
        }
      ],
      "source": [
        "df.isna().sum()"
      ]
    },
    {
      "cell_type": "markdown",
      "metadata": {
        "id": "cuucDF7d2EYn"
      },
      "source": [
        "Множественные пропуски в многих колонках."
      ]
    },
    {
      "cell_type": "markdown",
      "metadata": {
        "id": "NVYrM3d32EYs"
      },
      "source": [
        "### Начнем с высоты потолков(celling_height). Построим гистограмму, чтобы понять как распределяются имеющиеся значения высоты потолка."
      ]
    },
    {
      "cell_type": "code",
      "execution_count": null,
      "metadata": {
        "scrolled": true,
        "id": "tHFfODJN2EYt",
        "outputId": "89d63e63-56cb-4367-8630-3b7dabb84952"
      },
      "outputs": [
        {
          "data": {
            "text/plain": [
              "<AxesSubplot:>"
            ]
          },
          "execution_count": 113,
          "metadata": {},
          "output_type": "execute_result"
        },
        {
          "data": {
            "image/png": "[encoded data removed]",
            "text/plain": [
              "<Figure size 432x288 with 1 Axes>"
            ]
          },
          "metadata": {
            "needs_background": "light"
          },
          "output_type": "display_data"
        }
      ],
      "source": [
        "df['ceiling_height'].hist(bins=50, range=(1, 5))"
      ]
    },
    {
      "cell_type": "markdown",
      "metadata": {
        "id": "W5N_v4A-2EYu"
      },
      "source": [
        "Методом describe посмотрим минимальное, максимальное, медианное значения, а так же стандартную величину  отклонения."
      ]
    },
    {
      "cell_type": "code",
      "execution_count": null,
      "metadata": {
        "id": "mkwb8tMA2EYv",
        "outputId": "058a6bd9-a4fe-40ff-d040-95612f30496a"
      },
      "outputs": [
        {
          "data": {
            "text/plain": [
              "count    14504.000000\n",
              "mean         2.771499\n",
              "std          1.261056\n",
              "min          1.000000\n",
              "25%          2.520000\n",
              "50%          2.650000\n",
              "75%          2.800000\n",
              "max        100.000000\n",
              "Name: ceiling_height, dtype: float64"
            ]
          },
          "execution_count": 114,
          "metadata": {},
          "output_type": "execute_result"
        }
      ],
      "source": [
        "df['ceiling_height'].describe()"
      ]
    },
    {
      "cell_type": "markdown",
      "metadata": {
        "id": "EG8UyTS32EYx"
      },
      "source": [
        "Посчитаем количество уникальных значении в столбце."
      ]
    },
    {
      "cell_type": "code",
      "execution_count": null,
      "metadata": {
        "id": "XbCsgEDR2EYx",
        "outputId": "16cbe90e-8d5d-4351-a51e-01510999e96d"
      },
      "outputs": [
        {
          "data": {
            "text/plain": [
              "183"
            ]
          },
          "execution_count": 115,
          "metadata": {},
          "output_type": "execute_result"
        }
      ],
      "source": [
        "df['ceiling_height'].nunique()"
      ]
    },
    {
      "cell_type": "markdown",
      "metadata": {
        "id": "V2ocO2B72EYy"
      },
      "source": [
        "183 различных величины высоты потолка следует сгруппировать на 4 категории. \n",
        "\n",
        "1-я категория до 2.4 м., 4-я категооря свыше 3.6 м. - объявления с указанной высотой встречаются крайне редко, что показывает гистограмма.\n",
        "\n",
        "2-я категория (\"ящик\") - от 2.4 до 2.8 м -самая часто встречающаяся категория объвлений, кроме того и медианное и средние значения входят в этот промежуток, поэтому если мы заменим пропуски в таблице указанной категорией, общее искажение финального результата будет маловероятным.\n",
        "\n",
        "3-я категория от 2.9 до 3.6 метров."
      ]
    },
    {
      "cell_type": "code",
      "execution_count": null,
      "metadata": {
        "scrolled": true,
        "id": "_l7zhkOu2EYz",
        "outputId": "24b71eea-06f3-485e-f8f1-f8b1ba60f59c"
      },
      "outputs": [
        {
          "data": {
            "text/html": [
              "<div>\n",
              "<style scoped>\n",
              "    .dataframe tbody tr th:only-of-type {\n",
              "        vertical-align: middle;\n",
              "    }\n",
              "\n",
              "    .dataframe tbody tr th {\n",
              "        vertical-align: top;\n",
              "    }\n",
              "\n",
              "    .dataframe thead th {\n",
              "        text-align: right;\n",
              "    }\n",
              "</style>\n",
              "<table border=\"1\" class=\"dataframe\">\n",
              "  <thead>\n",
              "    <tr style=\"text-align: right;\">\n",
              "      <th></th>\n",
              "      <th>total_images</th>\n",
              "      <th>last_price</th>\n",
              "      <th>total_area</th>\n",
              "      <th>first_day_exposition</th>\n",
              "      <th>rooms</th>\n",
              "      <th>ceiling_height</th>\n",
              "      <th>floors_total</th>\n",
              "      <th>living_area</th>\n",
              "      <th>floor</th>\n",
              "      <th>is_apartment</th>\n",
              "      <th>...</th>\n",
              "      <th>balcony</th>\n",
              "      <th>locality_name</th>\n",
              "      <th>airports_nearest</th>\n",
              "      <th>cityCenters_nearest</th>\n",
              "      <th>parks_around3000</th>\n",
              "      <th>parks_nearest</th>\n",
              "      <th>ponds_around3000</th>\n",
              "      <th>ponds_nearest</th>\n",
              "      <th>days_exposition</th>\n",
              "      <th>ceiling_height_category</th>\n",
              "    </tr>\n",
              "  </thead>\n",
              "  <tbody>\n",
              "    <tr>\n",
              "      <th>0</th>\n",
              "      <td>20</td>\n",
              "      <td>13000000.0</td>\n",
              "      <td>108.00</td>\n",
              "      <td>2019-03-07T00:00:00</td>\n",
              "      <td>3</td>\n",
              "      <td>2.70</td>\n",
              "      <td>16.0</td>\n",
              "      <td>51.0</td>\n",
              "      <td>8</td>\n",
              "      <td>NaN</td>\n",
              "      <td>...</td>\n",
              "      <td>NaN</td>\n",
              "      <td>Санкт-Петербург</td>\n",
              "      <td>18863.0</td>\n",
              "      <td>16028.0</td>\n",
              "      <td>1.0</td>\n",
              "      <td>482.0</td>\n",
              "      <td>2.0</td>\n",
              "      <td>755.0</td>\n",
              "      <td>NaN</td>\n",
              "      <td>2.4-2.8</td>\n",
              "    </tr>\n",
              "    <tr>\n",
              "      <th>1</th>\n",
              "      <td>7</td>\n",
              "      <td>3350000.0</td>\n",
              "      <td>40.40</td>\n",
              "      <td>2018-12-04T00:00:00</td>\n",
              "      <td>1</td>\n",
              "      <td>NaN</td>\n",
              "      <td>11.0</td>\n",
              "      <td>18.6</td>\n",
              "      <td>1</td>\n",
              "      <td>NaN</td>\n",
              "      <td>...</td>\n",
              "      <td>2.0</td>\n",
              "      <td>посёлок Шушары</td>\n",
              "      <td>12817.0</td>\n",
              "      <td>18603.0</td>\n",
              "      <td>0.0</td>\n",
              "      <td>NaN</td>\n",
              "      <td>0.0</td>\n",
              "      <td>NaN</td>\n",
              "      <td>81.0</td>\n",
              "      <td>2.4-2.8</td>\n",
              "    </tr>\n",
              "    <tr>\n",
              "      <th>2</th>\n",
              "      <td>10</td>\n",
              "      <td>5196000.0</td>\n",
              "      <td>56.00</td>\n",
              "      <td>2015-08-20T00:00:00</td>\n",
              "      <td>2</td>\n",
              "      <td>NaN</td>\n",
              "      <td>5.0</td>\n",
              "      <td>34.3</td>\n",
              "      <td>4</td>\n",
              "      <td>NaN</td>\n",
              "      <td>...</td>\n",
              "      <td>0.0</td>\n",
              "      <td>Санкт-Петербург</td>\n",
              "      <td>21741.0</td>\n",
              "      <td>13933.0</td>\n",
              "      <td>1.0</td>\n",
              "      <td>90.0</td>\n",
              "      <td>2.0</td>\n",
              "      <td>574.0</td>\n",
              "      <td>558.0</td>\n",
              "      <td>2.4-2.8</td>\n",
              "    </tr>\n",
              "    <tr>\n",
              "      <th>3</th>\n",
              "      <td>0</td>\n",
              "      <td>64900000.0</td>\n",
              "      <td>159.00</td>\n",
              "      <td>2015-07-24T00:00:00</td>\n",
              "      <td>3</td>\n",
              "      <td>NaN</td>\n",
              "      <td>14.0</td>\n",
              "      <td>NaN</td>\n",
              "      <td>9</td>\n",
              "      <td>NaN</td>\n",
              "      <td>...</td>\n",
              "      <td>0.0</td>\n",
              "      <td>Санкт-Петербург</td>\n",
              "      <td>28098.0</td>\n",
              "      <td>6800.0</td>\n",
              "      <td>2.0</td>\n",
              "      <td>84.0</td>\n",
              "      <td>3.0</td>\n",
              "      <td>234.0</td>\n",
              "      <td>424.0</td>\n",
              "      <td>2.4-2.8</td>\n",
              "    </tr>\n",
              "    <tr>\n",
              "      <th>4</th>\n",
              "      <td>2</td>\n",
              "      <td>10000000.0</td>\n",
              "      <td>100.00</td>\n",
              "      <td>2018-06-19T00:00:00</td>\n",
              "      <td>2</td>\n",
              "      <td>3.03</td>\n",
              "      <td>14.0</td>\n",
              "      <td>32.0</td>\n",
              "      <td>13</td>\n",
              "      <td>NaN</td>\n",
              "      <td>...</td>\n",
              "      <td>NaN</td>\n",
              "      <td>Санкт-Петербург</td>\n",
              "      <td>31856.0</td>\n",
              "      <td>8098.0</td>\n",
              "      <td>2.0</td>\n",
              "      <td>112.0</td>\n",
              "      <td>1.0</td>\n",
              "      <td>48.0</td>\n",
              "      <td>121.0</td>\n",
              "      <td>2.9-3.6</td>\n",
              "    </tr>\n",
              "    <tr>\n",
              "      <th>...</th>\n",
              "      <td>...</td>\n",
              "      <td>...</td>\n",
              "      <td>...</td>\n",
              "      <td>...</td>\n",
              "      <td>...</td>\n",
              "      <td>...</td>\n",
              "      <td>...</td>\n",
              "      <td>...</td>\n",
              "      <td>...</td>\n",
              "      <td>...</td>\n",
              "      <td>...</td>\n",
              "      <td>...</td>\n",
              "      <td>...</td>\n",
              "      <td>...</td>\n",
              "      <td>...</td>\n",
              "      <td>...</td>\n",
              "      <td>...</td>\n",
              "      <td>...</td>\n",
              "      <td>...</td>\n",
              "      <td>...</td>\n",
              "      <td>...</td>\n",
              "    </tr>\n",
              "    <tr>\n",
              "      <th>23694</th>\n",
              "      <td>9</td>\n",
              "      <td>9700000.0</td>\n",
              "      <td>133.81</td>\n",
              "      <td>2017-03-21T00:00:00</td>\n",
              "      <td>3</td>\n",
              "      <td>3.70</td>\n",
              "      <td>5.0</td>\n",
              "      <td>73.3</td>\n",
              "      <td>3</td>\n",
              "      <td>NaN</td>\n",
              "      <td>...</td>\n",
              "      <td>NaN</td>\n",
              "      <td>Санкт-Петербург</td>\n",
              "      <td>24665.0</td>\n",
              "      <td>4232.0</td>\n",
              "      <td>1.0</td>\n",
              "      <td>796.0</td>\n",
              "      <td>3.0</td>\n",
              "      <td>381.0</td>\n",
              "      <td>NaN</td>\n",
              "      <td>more 3.6</td>\n",
              "    </tr>\n",
              "    <tr>\n",
              "      <th>23695</th>\n",
              "      <td>14</td>\n",
              "      <td>3100000.0</td>\n",
              "      <td>59.00</td>\n",
              "      <td>2018-01-15T00:00:00</td>\n",
              "      <td>3</td>\n",
              "      <td>NaN</td>\n",
              "      <td>5.0</td>\n",
              "      <td>38.0</td>\n",
              "      <td>4</td>\n",
              "      <td>NaN</td>\n",
              "      <td>...</td>\n",
              "      <td>NaN</td>\n",
              "      <td>Тосно</td>\n",
              "      <td>NaN</td>\n",
              "      <td>NaN</td>\n",
              "      <td>NaN</td>\n",
              "      <td>NaN</td>\n",
              "      <td>NaN</td>\n",
              "      <td>NaN</td>\n",
              "      <td>45.0</td>\n",
              "      <td>2.4-2.8</td>\n",
              "    </tr>\n",
              "    <tr>\n",
              "      <th>23696</th>\n",
              "      <td>18</td>\n",
              "      <td>2500000.0</td>\n",
              "      <td>56.70</td>\n",
              "      <td>2018-02-11T00:00:00</td>\n",
              "      <td>2</td>\n",
              "      <td>NaN</td>\n",
              "      <td>3.0</td>\n",
              "      <td>29.7</td>\n",
              "      <td>1</td>\n",
              "      <td>NaN</td>\n",
              "      <td>...</td>\n",
              "      <td>NaN</td>\n",
              "      <td>село Рождествено</td>\n",
              "      <td>NaN</td>\n",
              "      <td>NaN</td>\n",
              "      <td>NaN</td>\n",
              "      <td>NaN</td>\n",
              "      <td>NaN</td>\n",
              "      <td>NaN</td>\n",
              "      <td>NaN</td>\n",
              "      <td>2.4-2.8</td>\n",
              "    </tr>\n",
              "    <tr>\n",
              "      <th>23697</th>\n",
              "      <td>13</td>\n",
              "      <td>11475000.0</td>\n",
              "      <td>76.75</td>\n",
              "      <td>2017-03-28T00:00:00</td>\n",
              "      <td>2</td>\n",
              "      <td>3.00</td>\n",
              "      <td>17.0</td>\n",
              "      <td>NaN</td>\n",
              "      <td>12</td>\n",
              "      <td>NaN</td>\n",
              "      <td>...</td>\n",
              "      <td>2.0</td>\n",
              "      <td>Санкт-Петербург</td>\n",
              "      <td>39140.0</td>\n",
              "      <td>10364.0</td>\n",
              "      <td>2.0</td>\n",
              "      <td>173.0</td>\n",
              "      <td>3.0</td>\n",
              "      <td>196.0</td>\n",
              "      <td>602.0</td>\n",
              "      <td>2.9-3.6</td>\n",
              "    </tr>\n",
              "    <tr>\n",
              "      <th>23698</th>\n",
              "      <td>4</td>\n",
              "      <td>1350000.0</td>\n",
              "      <td>32.30</td>\n",
              "      <td>2017-07-21T00:00:00</td>\n",
              "      <td>1</td>\n",
              "      <td>2.50</td>\n",
              "      <td>5.0</td>\n",
              "      <td>12.3</td>\n",
              "      <td>1</td>\n",
              "      <td>NaN</td>\n",
              "      <td>...</td>\n",
              "      <td>NaN</td>\n",
              "      <td>поселок Новый Учхоз</td>\n",
              "      <td>NaN</td>\n",
              "      <td>NaN</td>\n",
              "      <td>NaN</td>\n",
              "      <td>NaN</td>\n",
              "      <td>NaN</td>\n",
              "      <td>NaN</td>\n",
              "      <td>NaN</td>\n",
              "      <td>2.4-2.8</td>\n",
              "    </tr>\n",
              "  </tbody>\n",
              "</table>\n",
              "<p>23699 rows × 23 columns</p>\n",
              "</div>"
            ],
            "text/plain": [
              "       total_images  last_price  total_area first_day_exposition  rooms  \\\n",
              "0                20  13000000.0      108.00  2019-03-07T00:00:00      3   \n",
              "1                 7   3350000.0       40.40  2018-12-04T00:00:00      1   \n",
              "2                10   5196000.0       56.00  2015-08-20T00:00:00      2   \n",
              "3                 0  64900000.0      159.00  2015-07-24T00:00:00      3   \n",
              "4                 2  10000000.0      100.00  2018-06-19T00:00:00      2   \n",
              "...             ...         ...         ...                  ...    ...   \n",
              "23694             9   9700000.0      133.81  2017-03-21T00:00:00      3   \n",
              "23695            14   3100000.0       59.00  2018-01-15T00:00:00      3   \n",
              "23696            18   2500000.0       56.70  2018-02-11T00:00:00      2   \n",
              "23697            13  11475000.0       76.75  2017-03-28T00:00:00      2   \n",
              "23698             4   1350000.0       32.30  2017-07-21T00:00:00      1   \n",
              "\n",
              "       ceiling_height  floors_total  living_area  floor is_apartment  ...  \\\n",
              "0                2.70          16.0         51.0      8          NaN  ...   \n",
              "1                 NaN          11.0         18.6      1          NaN  ...   \n",
              "2                 NaN           5.0         34.3      4          NaN  ...   \n",
              "3                 NaN          14.0          NaN      9          NaN  ...   \n",
              "4                3.03          14.0         32.0     13          NaN  ...   \n",
              "...               ...           ...          ...    ...          ...  ...   \n",
              "23694            3.70           5.0         73.3      3          NaN  ...   \n",
              "23695             NaN           5.0         38.0      4          NaN  ...   \n",
              "23696             NaN           3.0         29.7      1          NaN  ...   \n",
              "23697            3.00          17.0          NaN     12          NaN  ...   \n",
              "23698            2.50           5.0         12.3      1          NaN  ...   \n",
              "\n",
              "       balcony        locality_name  airports_nearest  cityCenters_nearest  \\\n",
              "0          NaN      Санкт-Петербург           18863.0              16028.0   \n",
              "1          2.0       посёлок Шушары           12817.0              18603.0   \n",
              "2          0.0      Санкт-Петербург           21741.0              13933.0   \n",
              "3          0.0      Санкт-Петербург           28098.0               6800.0   \n",
              "4          NaN      Санкт-Петербург           31856.0               8098.0   \n",
              "...        ...                  ...               ...                  ...   \n",
              "23694      NaN      Санкт-Петербург           24665.0               4232.0   \n",
              "23695      NaN                Тосно               NaN                  NaN   \n",
              "23696      NaN     село Рождествено               NaN                  NaN   \n",
              "23697      2.0      Санкт-Петербург           39140.0              10364.0   \n",
              "23698      NaN  поселок Новый Учхоз               NaN                  NaN   \n",
              "\n",
              "      parks_around3000  parks_nearest  ponds_around3000  ponds_nearest  \\\n",
              "0                  1.0          482.0               2.0          755.0   \n",
              "1                  0.0            NaN               0.0            NaN   \n",
              "2                  1.0           90.0               2.0          574.0   \n",
              "3                  2.0           84.0               3.0          234.0   \n",
              "4                  2.0          112.0               1.0           48.0   \n",
              "...                ...            ...               ...            ...   \n",
              "23694              1.0          796.0               3.0          381.0   \n",
              "23695              NaN            NaN               NaN            NaN   \n",
              "23696              NaN            NaN               NaN            NaN   \n",
              "23697              2.0          173.0               3.0          196.0   \n",
              "23698              NaN            NaN               NaN            NaN   \n",
              "\n",
              "       days_exposition  ceiling_height_category  \n",
              "0                  NaN                  2.4-2.8  \n",
              "1                 81.0                  2.4-2.8  \n",
              "2                558.0                  2.4-2.8  \n",
              "3                424.0                  2.4-2.8  \n",
              "4                121.0                  2.9-3.6  \n",
              "...                ...                      ...  \n",
              "23694              NaN                 more 3.6  \n",
              "23695             45.0                  2.4-2.8  \n",
              "23696              NaN                  2.4-2.8  \n",
              "23697            602.0                  2.9-3.6  \n",
              "23698              NaN                  2.4-2.8  \n",
              "\n",
              "[23699 rows x 23 columns]"
            ]
          },
          "metadata": {},
          "output_type": "display_data"
        }
      ],
      "source": [
        "def ceiling_category(row):\n",
        "    category = row['ceiling_height']\n",
        "    if (category < 2.4):\n",
        "        return '<2.4'\n",
        "    if (2.4 <= category < 2.8):\n",
        "        return '2.4-2.8'\n",
        "    if (2.9 <= category < 3.6):\n",
        "        return '2.9-3.6'\n",
        "    if (category >= 3.6):\n",
        "        return 'more 3.6'\n",
        "    else:\n",
        "        return '2.4-2.8'\n",
        "df['ceiling_height_category'] = df.apply(ceiling_category, axis=1)\n",
        "display(df)"
      ]
    },
    {
      "cell_type": "markdown",
      "metadata": {
        "id": "4Ok4WWWd2EY3"
      },
      "source": [
        "Убедимся, что все значения в колонке ceiling_height категоризированы."
      ]
    },
    {
      "cell_type": "code",
      "execution_count": null,
      "metadata": {
        "id": "K9H_YjvS2EY-",
        "outputId": "afae25a7-58e5-4b5b-db4c-37a8d03973c0"
      },
      "outputs": [
        {
          "data": {
            "text/plain": [
              "array(['2.4-2.8', '2.9-3.6', 'more 3.6', '<2.4'], dtype=object)"
            ]
          },
          "execution_count": 117,
          "metadata": {},
          "output_type": "execute_result"
        }
      ],
      "source": [
        "df['ceiling_height_category'].unique()"
      ]
    },
    {
      "cell_type": "markdown",
      "metadata": {
        "id": "6uhGbFer2EZA"
      },
      "source": [
        "### Посмотрим сколько всего населенных пунктов в датафрейме."
      ]
    },
    {
      "cell_type": "code",
      "execution_count": null,
      "metadata": {
        "id": "O4fFnTco2EZC",
        "outputId": "673e0ff7-4840-4705-b6ac-de2e330c91a9"
      },
      "outputs": [
        {
          "data": {
            "text/plain": [
              "364"
            ]
          },
          "execution_count": 118,
          "metadata": {},
          "output_type": "execute_result"
        }
      ],
      "source": [
        "df['locality_name'].nunique()"
      ]
    },
    {
      "cell_type": "markdown",
      "metadata": {
        "id": "6UhDyYF82EZD"
      },
      "source": [
        "364 населенных пункта - это очень много, стоит отсеить населенные пункты с малым количеством объявлений."
      ]
    },
    {
      "cell_type": "code",
      "execution_count": null,
      "metadata": {
        "id": "K53-Av8u2EZE"
      },
      "outputs": [],
      "source": [
        "df['locality_name'] = df['locality_name'].str.replace('ё', 'е')\n"
      ]
    },
    {
      "cell_type": "code",
      "execution_count": null,
      "metadata": {
        "scrolled": true,
        "id": "bPLEnGr_2EZE",
        "outputId": "4acbcb7f-7d99-497c-bf2e-7e7b04506b79"
      },
      "outputs": [
        {
          "name": "stdout",
          "output_type": "stream",
          "text": [
            "                           count\n",
            "locality_name                   \n",
            "Санкт-Петербург            15721\n",
            "поселок Мурино               556\n",
            "поселок Шушары               440\n",
            "Всеволожск                   398\n",
            "Пушкин                       369\n",
            "Колпино                      338\n",
            "поселок Парголово            327\n",
            "Гатчина                      307\n",
            "деревня Кудрово              299\n",
            "Выборг                       237\n",
            "Петергоф                     201\n",
            "Сестрорецк                   183\n",
            "Красное Село                 178\n",
            "Кудрово                      173\n",
            "деревня Новое Девяткино      144\n",
            "Сертолово                    142\n",
            "Ломоносов                    133\n",
            "Кириши                       125\n",
            "поселок Бугры                114\n",
            "Сланцы                       112\n",
            "Волхов                       111\n",
            "Тосно                        104\n",
            "Кингисепп                    104\n",
            "Кронштадт                     96\n",
            "Никольское                    93\n",
            "Коммунар                      89\n",
            "Сосновый Бор                  87\n",
            "Кировск                       84\n",
            "Отрадное                      80\n",
            "городской поселок Янино-1     68\n"
          ]
        }
      ],
      "source": [
        "cities = df.pivot_table(index='locality_name', values='total_images', aggfunc='count')\n",
        "cities.columns = ['count']\n",
        "cities = cities.sort_values('count', ascending=False)\n",
        "print(cities.head(30))"
      ]
    },
    {
      "cell_type": "markdown",
      "metadata": {
        "id": "nDsJT97O2EZG"
      },
      "source": [
        "Оставим в датафрейме населенные пункты где не менее 30 объявлений, так как на мой взгляд меньшее количество объявлений не позволит определить закономерности. Кроме того малое количество объявлений говорит о небольшом размере населенного пункта, где стоимость объекта недвижимости не всегда диктуется рыночной стоимостью."
      ]
    },
    {
      "cell_type": "code",
      "execution_count": null,
      "metadata": {
        "scrolled": true,
        "id": "DnPnfn3g2EZH",
        "outputId": "d9b3eed4-c1f0-496d-80e7-ce8e1c245fb9"
      },
      "outputs": [
        {
          "name": "stdout",
          "output_type": "stream",
          "text": [
            "<class 'pandas.core.frame.DataFrame'>\n",
            "Int64Index: 22105 entries, 0 to 23697\n",
            "Data columns (total 23 columns):\n",
            " #   Column                   Non-Null Count  Dtype  \n",
            "---  ------                   --------------  -----  \n",
            " 0   total_images             22105 non-null  int64  \n",
            " 1   last_price               22105 non-null  float64\n",
            " 2   total_area               22105 non-null  float64\n",
            " 3   first_day_exposition     22105 non-null  object \n",
            " 4   rooms                    22105 non-null  int64  \n",
            " 5   ceiling_height           13625 non-null  float64\n",
            " 6   floors_total             22023 non-null  float64\n",
            " 7   living_area              20395 non-null  float64\n",
            " 8   floor                    22105 non-null  int64  \n",
            " 9   is_apartment             2614 non-null   object \n",
            " 10  studio                   22105 non-null  bool   \n",
            " 11  open_plan                22105 non-null  bool   \n",
            " 12  kitchen_area             20018 non-null  float64\n",
            " 13  balcony                  11369 non-null  float64\n",
            " 14  locality_name            22105 non-null  object \n",
            " 15  airports_nearest         18042 non-null  float64\n",
            " 16  cityCenters_nearest      18065 non-null  float64\n",
            " 17  parks_around3000         18066 non-null  float64\n",
            " 18  parks_nearest            8048 non-null   float64\n",
            " 19  ponds_around3000         18066 non-null  float64\n",
            " 20  ponds_nearest            9050 non-null   float64\n",
            " 21  days_exposition          19247 non-null  float64\n",
            " 22  ceiling_height_category  22105 non-null  object \n",
            "dtypes: bool(2), float64(14), int64(3), object(4)\n",
            "memory usage: 3.8+ MB\n"
          ]
        }
      ],
      "source": [
        "good_cities = cities.query('count > 29')\n",
        "df = df.query('locality_name in @good_cities.index')\n",
        "#print(good_cities)\n",
        "df.info()"
      ]
    },
    {
      "cell_type": "markdown",
      "metadata": {
        "id": "BTEOiiF92EZQ"
      },
      "source": [
        "Указанным действием мы потеряли около 1500 объявлений. Достаточно много..."
      ]
    },
    {
      "cell_type": "markdown",
      "metadata": {
        "id": "d960vRD02EZS"
      },
      "source": [
        "### Снова обратимся к пропускам. Изучим данные связанные с местоположением."
      ]
    },
    {
      "cell_type": "code",
      "execution_count": null,
      "metadata": {
        "id": "v5nC8SmZ2EZT",
        "outputId": "e761f6f0-ef93-49d8-ef6d-71b53dcc7061"
      },
      "outputs": [
        {
          "data": {
            "text/plain": [
              "total_images                   0\n",
              "last_price                     0\n",
              "total_area                     0\n",
              "first_day_exposition           0\n",
              "rooms                          0\n",
              "ceiling_height              8480\n",
              "floors_total                  82\n",
              "living_area                 1710\n",
              "floor                          0\n",
              "is_apartment               19491\n",
              "studio                         0\n",
              "open_plan                      0\n",
              "kitchen_area                2087\n",
              "balcony                    10736\n",
              "locality_name                  0\n",
              "airports_nearest            4063\n",
              "cityCenters_nearest         4040\n",
              "parks_around3000            4039\n",
              "parks_nearest              14057\n",
              "ponds_around3000            4039\n",
              "ponds_nearest              13055\n",
              "days_exposition             2858\n",
              "ceiling_height_category        0\n",
              "dtype: int64"
            ]
          },
          "execution_count": 122,
          "metadata": {},
          "output_type": "execute_result"
        }
      ],
      "source": [
        "df.isna().sum()"
      ]
    },
    {
      "cell_type": "markdown",
      "metadata": {
        "id": "RlwicDXk2EZV"
      },
      "source": [
        "Бросается в глаза примерно равное количество пропусков в колонках связанных с местоположением. Вероятнее всего в объявлениях просто отсутствовал адрес помещения (возможно агентства скрывают либо продавцы просто не указывали) так как указанные данные по условиям задачи заполняются автоматически при помощи сервиса \"карты\", либо пропуски связаны с некорректной работай сервиса. \n",
        "\n",
        "Игнорировать пропуски мы не можем, так как по условию задачи нам необходимо определить связь стоимости недвижимости с ее месторасположением."
      ]
    },
    {
      "cell_type": "markdown",
      "metadata": {
        "id": "ztbVLN-i2EZW"
      },
      "source": [
        "Попробуем найти закономерности между отсутствием расстояния до центра и конкретными населенными пунктами."
      ]
    },
    {
      "cell_type": "code",
      "execution_count": null,
      "metadata": {
        "id": "uvzD7VeJ2EZX",
        "outputId": "f4877149-25db-4d18-f4f7-f2078d57c7a9"
      },
      "outputs": [
        {
          "name": "stdout",
          "output_type": "stream",
          "text": [
            "                                         cityCenters_nearest\n",
            "locality_name                                               \n",
            "Волосово                                                   0\n",
            "Волхов                                                     0\n",
            "Всеволожск                                                 0\n",
            "Выборг                                                     0\n",
            "Гатчина                                                    0\n",
            "Кингисепп                                                  0\n",
            "Кириши                                                     0\n",
            "Кировск                                                    0\n",
            "Колпино                                                  337\n",
            "Коммунар                                                   0\n",
            "Красное Село                                             176\n",
            "Кронштадт                                                 95\n",
            "Кудрово                                                    0\n",
            "Ломоносов                                                132\n",
            "Луга                                                       0\n",
            "Мурино                                                     0\n",
            "Никольское                                                 0\n",
            "Отрадное                                                   0\n",
            "Павловск                                                  38\n",
            "Петергоф                                                 201\n",
            "Приозерск                                                  0\n",
            "Пушкин                                                   368\n",
            "Санкт-Петербург                                        15660\n",
            "Сертолово                                                  0\n",
            "Сестрорецк                                               183\n",
            "Сланцы                                                     0\n",
            "Сосновый Бор                                               0\n",
            "Тихвин                                                     0\n",
            "Тосно                                                      0\n",
            "Шлиссельбург                                               0\n",
            "городской поселок Янино-1                                  0\n",
            "деревня Кудрово                                            0\n",
            "деревня Новое Девяткино                                    0\n",
            "деревня Старая                                             0\n",
            "поселок Бугры                                              0\n",
            "поселок Металлострой                                      66\n",
            "поселок Мурино                                             2\n",
            "поселок Парголово                                        327\n",
            "поселок Романовка                                          0\n",
            "поселок Стрельна                                          44\n",
            "поселок Тельмана                                           0\n",
            "поселок Шушары                                           436\n",
            "поселок городского типа Кузьмоловский                      0\n",
            "поселок городского типа Рощино                             0\n",
            "поселок городского типа имени Свердлова                    0\n"
          ]
        }
      ],
      "source": [
        "print(df.pivot_table(index='locality_name', values='cityCenters_nearest', aggfunc='count'))"
      ]
    },
    {
      "cell_type": "markdown",
      "metadata": {
        "id": "EepBqxFy2EZY"
      },
      "source": [
        "<font size=\"3\"> Действительно, даже некоторые крупные города с большим количеством объявлений не имеют никаких данных связанных с растоянием до центра. Вероятнее всего либо сервис карты работает некорректно, либо выполняет расчет только для определенных населенных пунктов, возможно, входящих в административный округ Санкт-Петербурга. </font>\n",
        "\n",
        "На стадии предобработки не думаю, что есть необходимость как-то корректировать или удалять пропущенные значения, даже несмотря на тот факт что они являются критическими."
      ]
    },
    {
      "cell_type": "markdown",
      "metadata": {
        "id": "eTk91Cqp2EZY"
      },
      "source": [
        "Так же мы видим практически половину пропусков в столбцах parks_nearest и ponds_nearest. В то же время есть полная информация о колличестве вышеуказанных объектов в пределах трех километров. Врядли информация о пруде или парке расположенном далее чем три километра может повлиять на стоимость объекта, поэтому столбцы с таким большим колличеством пропущенных данных следует либо удалить либо игнорировать. На мой взгляд лучше удалить, так как таблица имеет много колонок, соответственно ненужные столбцы будут отвлекать"
      ]
    },
    {
      "cell_type": "code",
      "execution_count": null,
      "metadata": {
        "id": "rg_DuSxC2EZZ"
      },
      "outputs": [],
      "source": [
        "df = df.drop(columns = ['parks_nearest', 'ponds_nearest']).reset_index(drop=True)"
      ]
    },
    {
      "cell_type": "markdown",
      "metadata": {
        "id": "Agx5B2f-2EZg"
      },
      "source": [
        "### Балконы."
      ]
    },
    {
      "cell_type": "markdown",
      "metadata": {
        "id": "W7LsJeqR2EZh"
      },
      "source": [
        "Далее мы имеем более 10 тысяч пропусков к столбце балконы. Очевидно, если продавец не указал количество балконов, их просто нет. Соответственно мы можем заполнить пропуски нулями методом fillna(). Перед этим изменим возможные строки методов to_numeric.\n",
        "\n",
        "После заполнения пропусков изменим дробные числа на целые методом astype, так как врядли количество балконов может ваыражаться нецелым числом."
      ]
    },
    {
      "cell_type": "code",
      "execution_count": null,
      "metadata": {
        "scrolled": true,
        "id": "QEj5X9u82EZi",
        "outputId": "1618b315-fbb9-4d85-dcfe-20ed2220838c"
      },
      "outputs": [
        {
          "data": {
            "text/plain": [
              "0        0\n",
              "1        2\n",
              "2        0\n",
              "3        0\n",
              "4        0\n",
              "        ..\n",
              "22100    0\n",
              "22101    0\n",
              "22102    0\n",
              "22103    0\n",
              "22104    2\n",
              "Name: balcony, Length: 22105, dtype: int64"
            ]
          },
          "execution_count": 125,
          "metadata": {},
          "output_type": "execute_result"
        }
      ],
      "source": [
        "pd.to_numeric(df['balcony'], errors='coerce') \n",
        "df['balcony'] = df['balcony'].fillna(0)\n",
        "df['balcony'].astype('int')\n"
      ]
    },
    {
      "cell_type": "code",
      "execution_count": null,
      "metadata": {
        "id": "iQo_o3ag2EZk",
        "outputId": "00953d79-16e7-418e-abde-5313875ff8e0"
      },
      "outputs": [
        {
          "name": "stdout",
          "output_type": "stream",
          "text": [
            "Всего объектов с балконами 7847\n"
          ]
        }
      ],
      "source": [
        "print('Всего объектов с балконами', len(df.query('balcony >=1')))"
      ]
    },
    {
      "cell_type": "markdown",
      "metadata": {
        "id": "uCZO6hh72EZl"
      },
      "source": [
        "Снова проверим пропуски в датафрейме."
      ]
    },
    {
      "cell_type": "code",
      "execution_count": null,
      "metadata": {
        "id": "RrjAaVMw2EZm",
        "outputId": "2452dc85-4348-4b21-b2c7-dc9663fe9c1c"
      },
      "outputs": [
        {
          "data": {
            "text/plain": [
              "total_images                   0\n",
              "last_price                     0\n",
              "total_area                     0\n",
              "first_day_exposition           0\n",
              "rooms                          0\n",
              "ceiling_height              8480\n",
              "floors_total                  82\n",
              "living_area                 1710\n",
              "floor                          0\n",
              "is_apartment               19491\n",
              "studio                         0\n",
              "open_plan                      0\n",
              "kitchen_area                2087\n",
              "balcony                        0\n",
              "locality_name                  0\n",
              "airports_nearest            4063\n",
              "cityCenters_nearest         4040\n",
              "parks_around3000            4039\n",
              "ponds_around3000            4039\n",
              "days_exposition             2858\n",
              "ceiling_height_category        0\n",
              "dtype: int64"
            ]
          },
          "execution_count": 127,
          "metadata": {},
          "output_type": "execute_result"
        }
      ],
      "source": [
        "df.isna().sum()"
      ]
    },
    {
      "cell_type": "markdown",
      "metadata": {
        "id": "H7fOIXlt2EZn"
      },
      "source": [
        "###  Этажи."
      ]
    },
    {
      "cell_type": "markdown",
      "metadata": {
        "id": "nyO1jCU-2EZo"
      },
      "source": [
        "Датафрейм содержит 82 пропуска в столбце \"общее кол-во этажей\". Заполнить пропуски корректно не получится так как нет достаточной инф-ции, болеее того все объявления имеют информацию об этаже помещения, поэтому общая этажность на стадии предобработки не имеет значения. Предлагаю игнорировать указанный столбец"
      ]
    },
    {
      "cell_type": "markdown",
      "metadata": {
        "id": "ecokh0Hh2EZt"
      },
      "source": [
        "### Площадь"
      ]
    },
    {
      "cell_type": "markdown",
      "metadata": {
        "id": "ihJM3Ekx2EZu"
      },
      "source": [
        "1706 пропусков в столбце \"жилая площадь\" и 2081 пропусков в столбце \"площадь кухни\" игнорировать не получится. Возможно, в объявлениях присутствуют объекты коммерческой недвижимости, где такие величины не применимы. Вероятнее всего, при дальнейшем анализе какие-то изменения будут внесены."
      ]
    },
    {
      "cell_type": "markdown",
      "metadata": {
        "id": "nAI9v8Ai2EZv"
      },
      "source": [
        "### Is appartment"
      ]
    },
    {
      "cell_type": "markdown",
      "metadata": {
        "id": "K4ZklHDN2EZx"
      },
      "source": [
        "Видимо, термин \"апартаменты\" здесьприменяется к объектам коммерческой недвижимости, соответственно пропуски можно заполнить значением False."
      ]
    },
    {
      "cell_type": "code",
      "execution_count": null,
      "metadata": {
        "id": "BpUJ4G1F2EZ0"
      },
      "outputs": [],
      "source": [
        "df['is_apartment'] = df['is_apartment'].fillna(False)"
      ]
    },
    {
      "cell_type": "markdown",
      "metadata": {
        "id": "EZxNmIYZ2EZ0"
      },
      "source": [
        "### Days_exposition"
      ]
    },
    {
      "cell_type": "markdown",
      "metadata": {
        "id": "iF5tg3k22EZ1"
      },
      "source": [
        "Так же после корректировки датафрейма мы имеем 2849 пропусков в столбце days_exposition. \n",
        "\n",
        "Вероятнее всего объявления с указанными пропусками до моменты скачивания датафрейма оставались активными, поэтому причин для внесения исправлений в этот столбец пока не вижу."
      ]
    },
    {
      "cell_type": "markdown",
      "metadata": {
        "id": "iSzQIeJ02EZ9"
      },
      "source": [
        "### Вывод"
      ]
    },
    {
      "cell_type": "markdown",
      "metadata": {
        "id": "b2RLL6Z42EZ-"
      },
      "source": [
        "<font size=\"5\"> Датафрейм содержит достаточно много пропущенных значений. Часть пропусков заполнил средними значениями, часть удалил, некоторые на даном этапе можно игнорировать. Однако, критическими пропусками может оказаться расстояние до центра. Пока оставим эту колонку без изменений, на этапе анализа, возможно, прийдется вносить коррективы. </font>"
      ]
    },
    {
      "cell_type": "markdown",
      "metadata": {
        "id": "wjwoXfMW2EaB"
      },
      "source": [
        "## Расчёты и добавление результатов в таблицу"
      ]
    },
    {
      "cell_type": "markdown",
      "metadata": {
        "id": "lcGA7IIJ2EaC"
      },
      "source": [
        "### Расчитаем и добавим в таблице стоимость квадратного метра"
      ]
    },
    {
      "cell_type": "code",
      "execution_count": null,
      "metadata": {
        "id": "Yz7e0xzZ2EaF"
      },
      "outputs": [],
      "source": [
        "df['metr_cost'] = df['last_price'] / df['total_area']"
      ]
    },
    {
      "cell_type": "markdown",
      "metadata": {
        "id": "r--LrZKY2EaG"
      },
      "source": [
        "### Добавим колонку floor_category где определим этаж объекта как 'первый', 'последний', либо 'другой'."
      ]
    },
    {
      "cell_type": "code",
      "execution_count": null,
      "metadata": {
        "id": "8ZUwVVPX2EaH"
      },
      "outputs": [],
      "source": [
        "df.loc[df['floor'] == 1, 'floor_category'] = 'первый'\n",
        "df.loc[df['floor'] == df['floors_total'], 'floor_category'] = 'последний'\n",
        "df['floor_category'] = df['floor_category'].fillna('другой')"
      ]
    },
    {
      "cell_type": "markdown",
      "metadata": {
        "id": "flCMx2yv2EaH"
      },
      "source": [
        "Проверим."
      ]
    },
    {
      "cell_type": "code",
      "execution_count": null,
      "metadata": {
        "id": "tS1dKlVk2EaI",
        "outputId": "5adc9a38-4cdd-40d8-b031-fb6f8c7d328d"
      },
      "outputs": [
        {
          "name": "stdout",
          "output_type": "stream",
          "text": [
            "                last_price\n",
            "floor_category            \n",
            "другой               16652\n",
            "первый                2513\n",
            "последний             2940\n"
          ]
        }
      ],
      "source": [
        "print(df.pivot_table(index='floor_category', values='last_price', aggfunc='count'))"
      ]
    },
    {
      "cell_type": "markdown",
      "metadata": {
        "id": "A65jJY0h2EaK"
      },
      "source": [
        "### Добавим колонку соотношение жилой площади и площади кухни к общей."
      ]
    },
    {
      "cell_type": "code",
      "execution_count": null,
      "metadata": {
        "id": "N4bbbWRY2EaP"
      },
      "outputs": [],
      "source": [
        "df['relation_living_area'] = df['living_area'] / df['total_area']\n",
        "df['relation_kitchen_area'] = df['kitchen_area'] / df['total_area']"
      ]
    },
    {
      "cell_type": "markdown",
      "metadata": {
        "id": "Mq2PW5Wf2EaR"
      },
      "source": [
        "### Добавим столбец с днем недели."
      ]
    },
    {
      "cell_type": "code",
      "execution_count": null,
      "metadata": {
        "id": "ylzGN7_I2EaR"
      },
      "outputs": [],
      "source": [
        "df['first_day_exposition'] = pd.to_datetime(df['first_day_exposition'], format='%Y-%m-%d %H:%M')\n",
        "df['weekday'] = df['first_day_exposition'].dt.weekday"
      ]
    },
    {
      "cell_type": "markdown",
      "metadata": {
        "id": "i0AlDhJt2EaS"
      },
      "source": [
        "### И заменим цифры на дни недели. Ипроверим изменения."
      ]
    },
    {
      "cell_type": "code",
      "execution_count": null,
      "metadata": {
        "scrolled": true,
        "id": "M8riJJIm2EaT",
        "outputId": "115f8379-580c-4fa0-fae6-f89ea00c084c"
      },
      "outputs": [
        {
          "data": {
            "text/html": [
              "<div>\n",
              "<style scoped>\n",
              "    .dataframe tbody tr th:only-of-type {\n",
              "        vertical-align: middle;\n",
              "    }\n",
              "\n",
              "    .dataframe tbody tr th {\n",
              "        vertical-align: top;\n",
              "    }\n",
              "\n",
              "    .dataframe thead th {\n",
              "        text-align: right;\n",
              "    }\n",
              "</style>\n",
              "<table border=\"1\" class=\"dataframe\">\n",
              "  <thead>\n",
              "    <tr style=\"text-align: right;\">\n",
              "      <th></th>\n",
              "      <th>total_images</th>\n",
              "      <th>last_price</th>\n",
              "      <th>total_area</th>\n",
              "      <th>first_day_exposition</th>\n",
              "      <th>rooms</th>\n",
              "      <th>ceiling_height</th>\n",
              "      <th>floors_total</th>\n",
              "      <th>living_area</th>\n",
              "      <th>floor</th>\n",
              "      <th>is_apartment</th>\n",
              "      <th>...</th>\n",
              "      <th>cityCenters_nearest</th>\n",
              "      <th>parks_around3000</th>\n",
              "      <th>ponds_around3000</th>\n",
              "      <th>days_exposition</th>\n",
              "      <th>ceiling_height_category</th>\n",
              "      <th>metr_cost</th>\n",
              "      <th>floor_category</th>\n",
              "      <th>relation_living_area</th>\n",
              "      <th>relation_kitchen_area</th>\n",
              "      <th>weekday</th>\n",
              "    </tr>\n",
              "  </thead>\n",
              "  <tbody>\n",
              "    <tr>\n",
              "      <th>0</th>\n",
              "      <td>20</td>\n",
              "      <td>13000000.0</td>\n",
              "      <td>108.00</td>\n",
              "      <td>2019-03-07</td>\n",
              "      <td>3</td>\n",
              "      <td>2.70</td>\n",
              "      <td>16.0</td>\n",
              "      <td>51.0</td>\n",
              "      <td>8</td>\n",
              "      <td>False</td>\n",
              "      <td>...</td>\n",
              "      <td>16028.0</td>\n",
              "      <td>1.0</td>\n",
              "      <td>2.0</td>\n",
              "      <td>NaN</td>\n",
              "      <td>2.4-2.8</td>\n",
              "      <td>120370.370370</td>\n",
              "      <td>другой</td>\n",
              "      <td>0.472222</td>\n",
              "      <td>0.231481</td>\n",
              "      <td>Четверг</td>\n",
              "    </tr>\n",
              "    <tr>\n",
              "      <th>1</th>\n",
              "      <td>7</td>\n",
              "      <td>3350000.0</td>\n",
              "      <td>40.40</td>\n",
              "      <td>2018-12-04</td>\n",
              "      <td>1</td>\n",
              "      <td>NaN</td>\n",
              "      <td>11.0</td>\n",
              "      <td>18.6</td>\n",
              "      <td>1</td>\n",
              "      <td>False</td>\n",
              "      <td>...</td>\n",
              "      <td>18603.0</td>\n",
              "      <td>0.0</td>\n",
              "      <td>0.0</td>\n",
              "      <td>81.0</td>\n",
              "      <td>2.4-2.8</td>\n",
              "      <td>82920.792079</td>\n",
              "      <td>первый</td>\n",
              "      <td>0.460396</td>\n",
              "      <td>0.272277</td>\n",
              "      <td>Вторник</td>\n",
              "    </tr>\n",
              "    <tr>\n",
              "      <th>2</th>\n",
              "      <td>10</td>\n",
              "      <td>5196000.0</td>\n",
              "      <td>56.00</td>\n",
              "      <td>2015-08-20</td>\n",
              "      <td>2</td>\n",
              "      <td>NaN</td>\n",
              "      <td>5.0</td>\n",
              "      <td>34.3</td>\n",
              "      <td>4</td>\n",
              "      <td>False</td>\n",
              "      <td>...</td>\n",
              "      <td>13933.0</td>\n",
              "      <td>1.0</td>\n",
              "      <td>2.0</td>\n",
              "      <td>558.0</td>\n",
              "      <td>2.4-2.8</td>\n",
              "      <td>92785.714286</td>\n",
              "      <td>другой</td>\n",
              "      <td>0.612500</td>\n",
              "      <td>0.148214</td>\n",
              "      <td>Четверг</td>\n",
              "    </tr>\n",
              "    <tr>\n",
              "      <th>3</th>\n",
              "      <td>0</td>\n",
              "      <td>64900000.0</td>\n",
              "      <td>159.00</td>\n",
              "      <td>2015-07-24</td>\n",
              "      <td>3</td>\n",
              "      <td>NaN</td>\n",
              "      <td>14.0</td>\n",
              "      <td>NaN</td>\n",
              "      <td>9</td>\n",
              "      <td>False</td>\n",
              "      <td>...</td>\n",
              "      <td>6800.0</td>\n",
              "      <td>2.0</td>\n",
              "      <td>3.0</td>\n",
              "      <td>424.0</td>\n",
              "      <td>2.4-2.8</td>\n",
              "      <td>408176.100629</td>\n",
              "      <td>другой</td>\n",
              "      <td>NaN</td>\n",
              "      <td>NaN</td>\n",
              "      <td>Пятница</td>\n",
              "    </tr>\n",
              "    <tr>\n",
              "      <th>4</th>\n",
              "      <td>2</td>\n",
              "      <td>10000000.0</td>\n",
              "      <td>100.00</td>\n",
              "      <td>2018-06-19</td>\n",
              "      <td>2</td>\n",
              "      <td>3.03</td>\n",
              "      <td>14.0</td>\n",
              "      <td>32.0</td>\n",
              "      <td>13</td>\n",
              "      <td>False</td>\n",
              "      <td>...</td>\n",
              "      <td>8098.0</td>\n",
              "      <td>2.0</td>\n",
              "      <td>1.0</td>\n",
              "      <td>121.0</td>\n",
              "      <td>2.9-3.6</td>\n",
              "      <td>100000.000000</td>\n",
              "      <td>другой</td>\n",
              "      <td>0.320000</td>\n",
              "      <td>0.410000</td>\n",
              "      <td>Вторник</td>\n",
              "    </tr>\n",
              "    <tr>\n",
              "      <th>...</th>\n",
              "      <td>...</td>\n",
              "      <td>...</td>\n",
              "      <td>...</td>\n",
              "      <td>...</td>\n",
              "      <td>...</td>\n",
              "      <td>...</td>\n",
              "      <td>...</td>\n",
              "      <td>...</td>\n",
              "      <td>...</td>\n",
              "      <td>...</td>\n",
              "      <td>...</td>\n",
              "      <td>...</td>\n",
              "      <td>...</td>\n",
              "      <td>...</td>\n",
              "      <td>...</td>\n",
              "      <td>...</td>\n",
              "      <td>...</td>\n",
              "      <td>...</td>\n",
              "      <td>...</td>\n",
              "      <td>...</td>\n",
              "      <td>...</td>\n",
              "    </tr>\n",
              "    <tr>\n",
              "      <th>22100</th>\n",
              "      <td>2</td>\n",
              "      <td>1350000.0</td>\n",
              "      <td>30.00</td>\n",
              "      <td>2017-07-07</td>\n",
              "      <td>1</td>\n",
              "      <td>NaN</td>\n",
              "      <td>5.0</td>\n",
              "      <td>17.5</td>\n",
              "      <td>4</td>\n",
              "      <td>False</td>\n",
              "      <td>...</td>\n",
              "      <td>NaN</td>\n",
              "      <td>NaN</td>\n",
              "      <td>NaN</td>\n",
              "      <td>413.0</td>\n",
              "      <td>2.4-2.8</td>\n",
              "      <td>45000.000000</td>\n",
              "      <td>другой</td>\n",
              "      <td>0.583333</td>\n",
              "      <td>0.200000</td>\n",
              "      <td>Пятница</td>\n",
              "    </tr>\n",
              "    <tr>\n",
              "      <th>22101</th>\n",
              "      <td>9</td>\n",
              "      <td>4600000.0</td>\n",
              "      <td>62.40</td>\n",
              "      <td>2016-08-05</td>\n",
              "      <td>3</td>\n",
              "      <td>2.60</td>\n",
              "      <td>9.0</td>\n",
              "      <td>40.0</td>\n",
              "      <td>8</td>\n",
              "      <td>False</td>\n",
              "      <td>...</td>\n",
              "      <td>34104.0</td>\n",
              "      <td>1.0</td>\n",
              "      <td>1.0</td>\n",
              "      <td>239.0</td>\n",
              "      <td>2.4-2.8</td>\n",
              "      <td>73717.948718</td>\n",
              "      <td>другой</td>\n",
              "      <td>0.641026</td>\n",
              "      <td>0.128205</td>\n",
              "      <td>Пятница</td>\n",
              "    </tr>\n",
              "    <tr>\n",
              "      <th>22102</th>\n",
              "      <td>9</td>\n",
              "      <td>9700000.0</td>\n",
              "      <td>133.81</td>\n",
              "      <td>2017-03-21</td>\n",
              "      <td>3</td>\n",
              "      <td>3.70</td>\n",
              "      <td>5.0</td>\n",
              "      <td>73.3</td>\n",
              "      <td>3</td>\n",
              "      <td>False</td>\n",
              "      <td>...</td>\n",
              "      <td>4232.0</td>\n",
              "      <td>1.0</td>\n",
              "      <td>3.0</td>\n",
              "      <td>NaN</td>\n",
              "      <td>more 3.6</td>\n",
              "      <td>72490.845228</td>\n",
              "      <td>другой</td>\n",
              "      <td>0.547792</td>\n",
              "      <td>0.103356</td>\n",
              "      <td>Вторник</td>\n",
              "    </tr>\n",
              "    <tr>\n",
              "      <th>22103</th>\n",
              "      <td>14</td>\n",
              "      <td>3100000.0</td>\n",
              "      <td>59.00</td>\n",
              "      <td>2018-01-15</td>\n",
              "      <td>3</td>\n",
              "      <td>NaN</td>\n",
              "      <td>5.0</td>\n",
              "      <td>38.0</td>\n",
              "      <td>4</td>\n",
              "      <td>False</td>\n",
              "      <td>...</td>\n",
              "      <td>NaN</td>\n",
              "      <td>NaN</td>\n",
              "      <td>NaN</td>\n",
              "      <td>45.0</td>\n",
              "      <td>2.4-2.8</td>\n",
              "      <td>52542.372881</td>\n",
              "      <td>другой</td>\n",
              "      <td>0.644068</td>\n",
              "      <td>0.144068</td>\n",
              "      <td>Понедельник</td>\n",
              "    </tr>\n",
              "    <tr>\n",
              "      <th>22104</th>\n",
              "      <td>13</td>\n",
              "      <td>11475000.0</td>\n",
              "      <td>76.75</td>\n",
              "      <td>2017-03-28</td>\n",
              "      <td>2</td>\n",
              "      <td>3.00</td>\n",
              "      <td>17.0</td>\n",
              "      <td>NaN</td>\n",
              "      <td>12</td>\n",
              "      <td>False</td>\n",
              "      <td>...</td>\n",
              "      <td>10364.0</td>\n",
              "      <td>2.0</td>\n",
              "      <td>3.0</td>\n",
              "      <td>602.0</td>\n",
              "      <td>2.9-3.6</td>\n",
              "      <td>149511.400651</td>\n",
              "      <td>другой</td>\n",
              "      <td>NaN</td>\n",
              "      <td>0.303583</td>\n",
              "      <td>Вторник</td>\n",
              "    </tr>\n",
              "  </tbody>\n",
              "</table>\n",
              "<p>22105 rows × 26 columns</p>\n",
              "</div>"
            ],
            "text/plain": [
              "       total_images  last_price  total_area first_day_exposition  rooms  \\\n",
              "0                20  13000000.0      108.00           2019-03-07      3   \n",
              "1                 7   3350000.0       40.40           2018-12-04      1   \n",
              "2                10   5196000.0       56.00           2015-08-20      2   \n",
              "3                 0  64900000.0      159.00           2015-07-24      3   \n",
              "4                 2  10000000.0      100.00           2018-06-19      2   \n",
              "...             ...         ...         ...                  ...    ...   \n",
              "22100             2   1350000.0       30.00           2017-07-07      1   \n",
              "22101             9   4600000.0       62.40           2016-08-05      3   \n",
              "22102             9   9700000.0      133.81           2017-03-21      3   \n",
              "22103            14   3100000.0       59.00           2018-01-15      3   \n",
              "22104            13  11475000.0       76.75           2017-03-28      2   \n",
              "\n",
              "       ceiling_height  floors_total  living_area  floor  is_apartment  ...  \\\n",
              "0                2.70          16.0         51.0      8         False  ...   \n",
              "1                 NaN          11.0         18.6      1         False  ...   \n",
              "2                 NaN           5.0         34.3      4         False  ...   \n",
              "3                 NaN          14.0          NaN      9         False  ...   \n",
              "4                3.03          14.0         32.0     13         False  ...   \n",
              "...               ...           ...          ...    ...           ...  ...   \n",
              "22100             NaN           5.0         17.5      4         False  ...   \n",
              "22101            2.60           9.0         40.0      8         False  ...   \n",
              "22102            3.70           5.0         73.3      3         False  ...   \n",
              "22103             NaN           5.0         38.0      4         False  ...   \n",
              "22104            3.00          17.0          NaN     12         False  ...   \n",
              "\n",
              "       cityCenters_nearest  parks_around3000  ponds_around3000  \\\n",
              "0                  16028.0               1.0               2.0   \n",
              "1                  18603.0               0.0               0.0   \n",
              "2                  13933.0               1.0               2.0   \n",
              "3                   6800.0               2.0               3.0   \n",
              "4                   8098.0               2.0               1.0   \n",
              "...                    ...               ...               ...   \n",
              "22100                  NaN               NaN               NaN   \n",
              "22101              34104.0               1.0               1.0   \n",
              "22102               4232.0               1.0               3.0   \n",
              "22103                  NaN               NaN               NaN   \n",
              "22104              10364.0               2.0               3.0   \n",
              "\n",
              "       days_exposition ceiling_height_category      metr_cost  floor_category  \\\n",
              "0                  NaN                 2.4-2.8  120370.370370          другой   \n",
              "1                 81.0                 2.4-2.8   82920.792079          первый   \n",
              "2                558.0                 2.4-2.8   92785.714286          другой   \n",
              "3                424.0                 2.4-2.8  408176.100629          другой   \n",
              "4                121.0                 2.9-3.6  100000.000000          другой   \n",
              "...                ...                     ...            ...             ...   \n",
              "22100            413.0                 2.4-2.8   45000.000000          другой   \n",
              "22101            239.0                 2.4-2.8   73717.948718          другой   \n",
              "22102              NaN                more 3.6   72490.845228          другой   \n",
              "22103             45.0                 2.4-2.8   52542.372881          другой   \n",
              "22104            602.0                 2.9-3.6  149511.400651          другой   \n",
              "\n",
              "       relation_living_area  relation_kitchen_area      weekday  \n",
              "0                  0.472222               0.231481      Четверг  \n",
              "1                  0.460396               0.272277      Вторник  \n",
              "2                  0.612500               0.148214      Четверг  \n",
              "3                       NaN                    NaN      Пятница  \n",
              "4                  0.320000               0.410000      Вторник  \n",
              "...                     ...                    ...          ...  \n",
              "22100              0.583333               0.200000      Пятница  \n",
              "22101              0.641026               0.128205      Пятница  \n",
              "22102              0.547792               0.103356      Вторник  \n",
              "22103              0.644068               0.144068  Понедельник  \n",
              "22104                   NaN               0.303583      Вторник  \n",
              "\n",
              "[22105 rows x 26 columns]"
            ]
          },
          "metadata": {},
          "output_type": "display_data"
        }
      ],
      "source": [
        "def weekdays(row):\n",
        "    weekday = row['weekday']\n",
        "    if (weekday == 0):\n",
        "        return 'Понедельник'\n",
        "    if (weekday == 1):\n",
        "        return 'Вторник'\n",
        "    if (weekday == 2):\n",
        "        return 'Среда'\n",
        "    if (weekday == 3):\n",
        "        return 'Четверг'\n",
        "    if (weekday == 4):\n",
        "        return 'Пятница'\n",
        "    if (weekday == 5):\n",
        "        return 'Суббота'\n",
        "    if (weekday == 6):\n",
        "        return 'Воскресенье'\n",
        "df['weekday'] = df.apply(weekdays, axis=1)\n",
        "display(df)"
      ]
    },
    {
      "cell_type": "markdown",
      "metadata": {
        "id": "wvzAmj5u2EaU"
      },
      "source": [
        "### Добавим столбец с месяцем публикации."
      ]
    },
    {
      "cell_type": "code",
      "execution_count": null,
      "metadata": {
        "id": "p8VOnzeR2EaU"
      },
      "outputs": [],
      "source": [
        "df['month'] = df['first_day_exposition'].dt.month"
      ]
    },
    {
      "cell_type": "markdown",
      "metadata": {
        "id": "djGaE7y42EaV"
      },
      "source": [
        "### И годом."
      ]
    },
    {
      "cell_type": "code",
      "execution_count": null,
      "metadata": {
        "id": "NV5cVBmz2EaW"
      },
      "outputs": [],
      "source": [
        "df['year'] = df['first_day_exposition'].dt.year"
      ]
    },
    {
      "cell_type": "markdown",
      "metadata": {
        "id": "zXTF1urt2EaW"
      },
      "source": [
        "И еще раз перепроверим внесенные изменения."
      ]
    },
    {
      "cell_type": "code",
      "execution_count": null,
      "metadata": {
        "id": "WH9FKkEY2EaX",
        "outputId": "ea45b59e-71dd-4e84-ceb7-b55cf604a779"
      },
      "outputs": [
        {
          "data": {
            "text/html": [
              "<div>\n",
              "<style scoped>\n",
              "    .dataframe tbody tr th:only-of-type {\n",
              "        vertical-align: middle;\n",
              "    }\n",
              "\n",
              "    .dataframe tbody tr th {\n",
              "        vertical-align: top;\n",
              "    }\n",
              "\n",
              "    .dataframe thead th {\n",
              "        text-align: right;\n",
              "    }\n",
              "</style>\n",
              "<table border=\"1\" class=\"dataframe\">\n",
              "  <thead>\n",
              "    <tr style=\"text-align: right;\">\n",
              "      <th></th>\n",
              "      <th>total_images</th>\n",
              "      <th>last_price</th>\n",
              "      <th>total_area</th>\n",
              "      <th>first_day_exposition</th>\n",
              "      <th>rooms</th>\n",
              "      <th>ceiling_height</th>\n",
              "      <th>floors_total</th>\n",
              "      <th>living_area</th>\n",
              "      <th>floor</th>\n",
              "      <th>is_apartment</th>\n",
              "      <th>...</th>\n",
              "      <th>ponds_around3000</th>\n",
              "      <th>days_exposition</th>\n",
              "      <th>ceiling_height_category</th>\n",
              "      <th>metr_cost</th>\n",
              "      <th>floor_category</th>\n",
              "      <th>relation_living_area</th>\n",
              "      <th>relation_kitchen_area</th>\n",
              "      <th>weekday</th>\n",
              "      <th>month</th>\n",
              "      <th>year</th>\n",
              "    </tr>\n",
              "  </thead>\n",
              "  <tbody>\n",
              "    <tr>\n",
              "      <th>0</th>\n",
              "      <td>20</td>\n",
              "      <td>13000000.0</td>\n",
              "      <td>108.00</td>\n",
              "      <td>2019-03-07</td>\n",
              "      <td>3</td>\n",
              "      <td>2.70</td>\n",
              "      <td>16.0</td>\n",
              "      <td>51.0</td>\n",
              "      <td>8</td>\n",
              "      <td>False</td>\n",
              "      <td>...</td>\n",
              "      <td>2.0</td>\n",
              "      <td>NaN</td>\n",
              "      <td>2.4-2.8</td>\n",
              "      <td>120370.370370</td>\n",
              "      <td>другой</td>\n",
              "      <td>0.472222</td>\n",
              "      <td>0.231481</td>\n",
              "      <td>Четверг</td>\n",
              "      <td>3</td>\n",
              "      <td>2019</td>\n",
              "    </tr>\n",
              "    <tr>\n",
              "      <th>1</th>\n",
              "      <td>7</td>\n",
              "      <td>3350000.0</td>\n",
              "      <td>40.40</td>\n",
              "      <td>2018-12-04</td>\n",
              "      <td>1</td>\n",
              "      <td>NaN</td>\n",
              "      <td>11.0</td>\n",
              "      <td>18.6</td>\n",
              "      <td>1</td>\n",
              "      <td>False</td>\n",
              "      <td>...</td>\n",
              "      <td>0.0</td>\n",
              "      <td>81.0</td>\n",
              "      <td>2.4-2.8</td>\n",
              "      <td>82920.792079</td>\n",
              "      <td>первый</td>\n",
              "      <td>0.460396</td>\n",
              "      <td>0.272277</td>\n",
              "      <td>Вторник</td>\n",
              "      <td>12</td>\n",
              "      <td>2018</td>\n",
              "    </tr>\n",
              "    <tr>\n",
              "      <th>2</th>\n",
              "      <td>10</td>\n",
              "      <td>5196000.0</td>\n",
              "      <td>56.00</td>\n",
              "      <td>2015-08-20</td>\n",
              "      <td>2</td>\n",
              "      <td>NaN</td>\n",
              "      <td>5.0</td>\n",
              "      <td>34.3</td>\n",
              "      <td>4</td>\n",
              "      <td>False</td>\n",
              "      <td>...</td>\n",
              "      <td>2.0</td>\n",
              "      <td>558.0</td>\n",
              "      <td>2.4-2.8</td>\n",
              "      <td>92785.714286</td>\n",
              "      <td>другой</td>\n",
              "      <td>0.612500</td>\n",
              "      <td>0.148214</td>\n",
              "      <td>Четверг</td>\n",
              "      <td>8</td>\n",
              "      <td>2015</td>\n",
              "    </tr>\n",
              "    <tr>\n",
              "      <th>3</th>\n",
              "      <td>0</td>\n",
              "      <td>64900000.0</td>\n",
              "      <td>159.00</td>\n",
              "      <td>2015-07-24</td>\n",
              "      <td>3</td>\n",
              "      <td>NaN</td>\n",
              "      <td>14.0</td>\n",
              "      <td>NaN</td>\n",
              "      <td>9</td>\n",
              "      <td>False</td>\n",
              "      <td>...</td>\n",
              "      <td>3.0</td>\n",
              "      <td>424.0</td>\n",
              "      <td>2.4-2.8</td>\n",
              "      <td>408176.100629</td>\n",
              "      <td>другой</td>\n",
              "      <td>NaN</td>\n",
              "      <td>NaN</td>\n",
              "      <td>Пятница</td>\n",
              "      <td>7</td>\n",
              "      <td>2015</td>\n",
              "    </tr>\n",
              "    <tr>\n",
              "      <th>4</th>\n",
              "      <td>2</td>\n",
              "      <td>10000000.0</td>\n",
              "      <td>100.00</td>\n",
              "      <td>2018-06-19</td>\n",
              "      <td>2</td>\n",
              "      <td>3.03</td>\n",
              "      <td>14.0</td>\n",
              "      <td>32.0</td>\n",
              "      <td>13</td>\n",
              "      <td>False</td>\n",
              "      <td>...</td>\n",
              "      <td>1.0</td>\n",
              "      <td>121.0</td>\n",
              "      <td>2.9-3.6</td>\n",
              "      <td>100000.000000</td>\n",
              "      <td>другой</td>\n",
              "      <td>0.320000</td>\n",
              "      <td>0.410000</td>\n",
              "      <td>Вторник</td>\n",
              "      <td>6</td>\n",
              "      <td>2018</td>\n",
              "    </tr>\n",
              "    <tr>\n",
              "      <th>...</th>\n",
              "      <td>...</td>\n",
              "      <td>...</td>\n",
              "      <td>...</td>\n",
              "      <td>...</td>\n",
              "      <td>...</td>\n",
              "      <td>...</td>\n",
              "      <td>...</td>\n",
              "      <td>...</td>\n",
              "      <td>...</td>\n",
              "      <td>...</td>\n",
              "      <td>...</td>\n",
              "      <td>...</td>\n",
              "      <td>...</td>\n",
              "      <td>...</td>\n",
              "      <td>...</td>\n",
              "      <td>...</td>\n",
              "      <td>...</td>\n",
              "      <td>...</td>\n",
              "      <td>...</td>\n",
              "      <td>...</td>\n",
              "      <td>...</td>\n",
              "    </tr>\n",
              "    <tr>\n",
              "      <th>22100</th>\n",
              "      <td>2</td>\n",
              "      <td>1350000.0</td>\n",
              "      <td>30.00</td>\n",
              "      <td>2017-07-07</td>\n",
              "      <td>1</td>\n",
              "      <td>NaN</td>\n",
              "      <td>5.0</td>\n",
              "      <td>17.5</td>\n",
              "      <td>4</td>\n",
              "      <td>False</td>\n",
              "      <td>...</td>\n",
              "      <td>NaN</td>\n",
              "      <td>413.0</td>\n",
              "      <td>2.4-2.8</td>\n",
              "      <td>45000.000000</td>\n",
              "      <td>другой</td>\n",
              "      <td>0.583333</td>\n",
              "      <td>0.200000</td>\n",
              "      <td>Пятница</td>\n",
              "      <td>7</td>\n",
              "      <td>2017</td>\n",
              "    </tr>\n",
              "    <tr>\n",
              "      <th>22101</th>\n",
              "      <td>9</td>\n",
              "      <td>4600000.0</td>\n",
              "      <td>62.40</td>\n",
              "      <td>2016-08-05</td>\n",
              "      <td>3</td>\n",
              "      <td>2.60</td>\n",
              "      <td>9.0</td>\n",
              "      <td>40.0</td>\n",
              "      <td>8</td>\n",
              "      <td>False</td>\n",
              "      <td>...</td>\n",
              "      <td>1.0</td>\n",
              "      <td>239.0</td>\n",
              "      <td>2.4-2.8</td>\n",
              "      <td>73717.948718</td>\n",
              "      <td>другой</td>\n",
              "      <td>0.641026</td>\n",
              "      <td>0.128205</td>\n",
              "      <td>Пятница</td>\n",
              "      <td>8</td>\n",
              "      <td>2016</td>\n",
              "    </tr>\n",
              "    <tr>\n",
              "      <th>22102</th>\n",
              "      <td>9</td>\n",
              "      <td>9700000.0</td>\n",
              "      <td>133.81</td>\n",
              "      <td>2017-03-21</td>\n",
              "      <td>3</td>\n",
              "      <td>3.70</td>\n",
              "      <td>5.0</td>\n",
              "      <td>73.3</td>\n",
              "      <td>3</td>\n",
              "      <td>False</td>\n",
              "      <td>...</td>\n",
              "      <td>3.0</td>\n",
              "      <td>NaN</td>\n",
              "      <td>more 3.6</td>\n",
              "      <td>72490.845228</td>\n",
              "      <td>другой</td>\n",
              "      <td>0.547792</td>\n",
              "      <td>0.103356</td>\n",
              "      <td>Вторник</td>\n",
              "      <td>3</td>\n",
              "      <td>2017</td>\n",
              "    </tr>\n",
              "    <tr>\n",
              "      <th>22103</th>\n",
              "      <td>14</td>\n",
              "      <td>3100000.0</td>\n",
              "      <td>59.00</td>\n",
              "      <td>2018-01-15</td>\n",
              "      <td>3</td>\n",
              "      <td>NaN</td>\n",
              "      <td>5.0</td>\n",
              "      <td>38.0</td>\n",
              "      <td>4</td>\n",
              "      <td>False</td>\n",
              "      <td>...</td>\n",
              "      <td>NaN</td>\n",
              "      <td>45.0</td>\n",
              "      <td>2.4-2.8</td>\n",
              "      <td>52542.372881</td>\n",
              "      <td>другой</td>\n",
              "      <td>0.644068</td>\n",
              "      <td>0.144068</td>\n",
              "      <td>Понедельник</td>\n",
              "      <td>1</td>\n",
              "      <td>2018</td>\n",
              "    </tr>\n",
              "    <tr>\n",
              "      <th>22104</th>\n",
              "      <td>13</td>\n",
              "      <td>11475000.0</td>\n",
              "      <td>76.75</td>\n",
              "      <td>2017-03-28</td>\n",
              "      <td>2</td>\n",
              "      <td>3.00</td>\n",
              "      <td>17.0</td>\n",
              "      <td>NaN</td>\n",
              "      <td>12</td>\n",
              "      <td>False</td>\n",
              "      <td>...</td>\n",
              "      <td>3.0</td>\n",
              "      <td>602.0</td>\n",
              "      <td>2.9-3.6</td>\n",
              "      <td>149511.400651</td>\n",
              "      <td>другой</td>\n",
              "      <td>NaN</td>\n",
              "      <td>0.303583</td>\n",
              "      <td>Вторник</td>\n",
              "      <td>3</td>\n",
              "      <td>2017</td>\n",
              "    </tr>\n",
              "  </tbody>\n",
              "</table>\n",
              "<p>22105 rows × 28 columns</p>\n",
              "</div>"
            ],
            "text/plain": [
              "       total_images  last_price  total_area first_day_exposition  rooms  \\\n",
              "0                20  13000000.0      108.00           2019-03-07      3   \n",
              "1                 7   3350000.0       40.40           2018-12-04      1   \n",
              "2                10   5196000.0       56.00           2015-08-20      2   \n",
              "3                 0  64900000.0      159.00           2015-07-24      3   \n",
              "4                 2  10000000.0      100.00           2018-06-19      2   \n",
              "...             ...         ...         ...                  ...    ...   \n",
              "22100             2   1350000.0       30.00           2017-07-07      1   \n",
              "22101             9   4600000.0       62.40           2016-08-05      3   \n",
              "22102             9   9700000.0      133.81           2017-03-21      3   \n",
              "22103            14   3100000.0       59.00           2018-01-15      3   \n",
              "22104            13  11475000.0       76.75           2017-03-28      2   \n",
              "\n",
              "       ceiling_height  floors_total  living_area  floor  is_apartment  ...  \\\n",
              "0                2.70          16.0         51.0      8         False  ...   \n",
              "1                 NaN          11.0         18.6      1         False  ...   \n",
              "2                 NaN           5.0         34.3      4         False  ...   \n",
              "3                 NaN          14.0          NaN      9         False  ...   \n",
              "4                3.03          14.0         32.0     13         False  ...   \n",
              "...               ...           ...          ...    ...           ...  ...   \n",
              "22100             NaN           5.0         17.5      4         False  ...   \n",
              "22101            2.60           9.0         40.0      8         False  ...   \n",
              "22102            3.70           5.0         73.3      3         False  ...   \n",
              "22103             NaN           5.0         38.0      4         False  ...   \n",
              "22104            3.00          17.0          NaN     12         False  ...   \n",
              "\n",
              "       ponds_around3000  days_exposition  ceiling_height_category  \\\n",
              "0                   2.0              NaN                  2.4-2.8   \n",
              "1                   0.0             81.0                  2.4-2.8   \n",
              "2                   2.0            558.0                  2.4-2.8   \n",
              "3                   3.0            424.0                  2.4-2.8   \n",
              "4                   1.0            121.0                  2.9-3.6   \n",
              "...                 ...              ...                      ...   \n",
              "22100               NaN            413.0                  2.4-2.8   \n",
              "22101               1.0            239.0                  2.4-2.8   \n",
              "22102               3.0              NaN                 more 3.6   \n",
              "22103               NaN             45.0                  2.4-2.8   \n",
              "22104               3.0            602.0                  2.9-3.6   \n",
              "\n",
              "           metr_cost floor_category  relation_living_area  \\\n",
              "0      120370.370370         другой              0.472222   \n",
              "1       82920.792079         первый              0.460396   \n",
              "2       92785.714286         другой              0.612500   \n",
              "3      408176.100629         другой                   NaN   \n",
              "4      100000.000000         другой              0.320000   \n",
              "...              ...            ...                   ...   \n",
              "22100   45000.000000         другой              0.583333   \n",
              "22101   73717.948718         другой              0.641026   \n",
              "22102   72490.845228         другой              0.547792   \n",
              "22103   52542.372881         другой              0.644068   \n",
              "22104  149511.400651         другой                   NaN   \n",
              "\n",
              "       relation_kitchen_area      weekday  month  year  \n",
              "0                   0.231481      Четверг      3  2019  \n",
              "1                   0.272277      Вторник     12  2018  \n",
              "2                   0.148214      Четверг      8  2015  \n",
              "3                        NaN      Пятница      7  2015  \n",
              "4                   0.410000      Вторник      6  2018  \n",
              "...                      ...          ...    ...   ...  \n",
              "22100               0.200000      Пятница      7  2017  \n",
              "22101               0.128205      Пятница      8  2016  \n",
              "22102               0.103356      Вторник      3  2017  \n",
              "22103               0.144068  Понедельник      1  2018  \n",
              "22104               0.303583      Вторник      3  2017  \n",
              "\n",
              "[22105 rows x 28 columns]"
            ]
          },
          "metadata": {},
          "output_type": "display_data"
        }
      ],
      "source": [
        "display(df)"
      ]
    },
    {
      "cell_type": "markdown",
      "metadata": {
        "id": "emFjNvFy2EaZ"
      },
      "source": [
        "### Вывод"
      ]
    },
    {
      "cell_type": "markdown",
      "metadata": {
        "id": "wenYPaab2EaZ"
      },
      "source": [
        "<font size=\"5\"> Добавил необходимые для анализа столбцы в датафрейм. </font>"
      ]
    },
    {
      "cell_type": "markdown",
      "metadata": {
        "id": "tZPrPYDM2Eaa"
      },
      "source": [
        "## Исследовательский анализ данных"
      ]
    },
    {
      "cell_type": "markdown",
      "metadata": {
        "id": "W17sExm22Eab"
      },
      "source": [
        "### Анализ начнем с изучения показателей площади"
      ]
    },
    {
      "cell_type": "code",
      "execution_count": null,
      "metadata": {
        "scrolled": true,
        "id": "2SwMkpCA2Eaf",
        "outputId": "ed464271-f730-4026-ef9d-1bb7269e6fa9"
      },
      "outputs": [
        {
          "data": {
            "text/plain": [
              "count    22105.000000\n",
              "mean        61.047527\n",
              "std         36.502349\n",
              "min         12.000000\n",
              "25%         40.000000\n",
              "50%         52.300000\n",
              "75%         70.500000\n",
              "max        900.000000\n",
              "Name: total_area, dtype: float64"
            ]
          },
          "execution_count": 142,
          "metadata": {},
          "output_type": "execute_result"
        }
      ],
      "source": [
        "df['total_area'].describe()"
      ]
    },
    {
      "cell_type": "markdown",
      "metadata": {
        "id": "OF-KNsZb2Eai"
      },
      "source": [
        "Вероятно, наибольшее количество объявлений по квартирам с площадью от 40 до 70 квадратных метров. Чтобы убедиться постром гистограмму."
      ]
    },
    {
      "cell_type": "code",
      "execution_count": null,
      "metadata": {
        "id": "oXVBR2112Eak",
        "outputId": "5a9d1ee8-00ec-490d-ba4b-36c0a9ff0861"
      },
      "outputs": [
        {
          "data": {
            "text/plain": [
              "<AxesSubplot:>"
            ]
          },
          "execution_count": 144,
          "metadata": {},
          "output_type": "execute_result"
        },
        {
          "data": {
            "image/png": "[encoded data removed]",
            "text/plain": [
              "<Figure size 432x288 with 1 Axes>"
            ]
          },
          "metadata": {
            "needs_background": "light"
          },
          "output_type": "display_data"
        }
      ],
      "source": [
        "df['total_area'].hist(bins=100)"
      ]
    },
    {
      "cell_type": "markdown",
      "metadata": {
        "id": "dmUK3-Lg2Eal"
      },
      "source": [
        "Согласно гистограмме количество объявлений с площадью более 300 кв. м. мало, поэтому построим гистограмму еще раз"
      ]
    },
    {
      "cell_type": "code",
      "execution_count": null,
      "metadata": {
        "id": "yi_S1vgk2Ean",
        "outputId": "6768b4b8-aaff-4113-eec4-c661d020ad02"
      },
      "outputs": [
        {
          "name": "stdout",
          "output_type": "stream",
          "text": [
            "61\n"
          ]
        }
      ],
      "source": [
        "print(len(df.query('total_area > 300')))"
      ]
    },
    {
      "cell_type": "code",
      "execution_count": null,
      "metadata": {
        "id": "lle4HqwZ2Eaq",
        "outputId": "dd14b787-cb6a-4d51-acac-0c8c0708392a"
      },
      "outputs": [
        {
          "data": {
            "text/plain": [
              "<AxesSubplot:>"
            ]
          },
          "execution_count": 148,
          "metadata": {},
          "output_type": "execute_result"
        },
        {
          "data": {
            "image/png": "[encoded data removed]",
            "text/plain": [
              "<Figure size 432x288 with 1 Axes>"
            ]
          },
          "metadata": {
            "needs_background": "light"
          },
          "output_type": "display_data"
        }
      ],
      "source": [
        "df['total_area'].hist(bins=100, range=(0, 300))"
      ]
    },
    {
      "cell_type": "code",
      "execution_count": null,
      "metadata": {
        "id": "oZW60-tn2Eas",
        "outputId": "be62f3b6-ee30-4832-aebd-721b075d50bc"
      },
      "outputs": [
        {
          "name": "stdout",
          "output_type": "stream",
          "text": [
            "0.9134584935534947\n"
          ]
        }
      ],
      "source": [
        "print(len(df.query('20 < total_area < 100')) / len(df['total_area']))"
      ]
    },
    {
      "cell_type": "markdown",
      "metadata": {
        "id": "kq--gMBD2Eau"
      },
      "source": [
        "Очевидно, большая часть объявлений это квартиры общей площадью от 20 до 100 кв. м., что составляет более 91% от всех объявлений."
      ]
    },
    {
      "cell_type": "markdown",
      "metadata": {
        "id": "wpx6M2-g2Eav"
      },
      "source": [
        "### Посмотрим на цены объявлений."
      ]
    },
    {
      "cell_type": "markdown",
      "metadata": {
        "id": "xT93jVF02Eaw"
      },
      "source": [
        "Переведем цены в целые значения."
      ]
    },
    {
      "cell_type": "code",
      "execution_count": null,
      "metadata": {
        "id": "dU8t3Lyo2Eax",
        "outputId": "b2599c41-2602-4309-e994-aa56cec3c697"
      },
      "outputs": [
        {
          "data": {
            "text/plain": [
              "0        13000000\n",
              "1         3350000\n",
              "2         5196000\n",
              "3        64900000\n",
              "4        10000000\n",
              "           ...   \n",
              "22100     1350000\n",
              "22101     4600000\n",
              "22102     9700000\n",
              "22103     3100000\n",
              "22104    11475000\n",
              "Name: last_price, Length: 22105, dtype: int64"
            ]
          },
          "execution_count": 151,
          "metadata": {},
          "output_type": "execute_result"
        }
      ],
      "source": [
        "df['last_price'].astype(int)"
      ]
    },
    {
      "cell_type": "markdown",
      "metadata": {
        "id": "o0086iC12Eay"
      },
      "source": [
        "Посмотрим максимальное и минимальное значение цены а так же медиану и квартили."
      ]
    },
    {
      "cell_type": "code",
      "execution_count": null,
      "metadata": {
        "id": "GidBwTFs2Eaz",
        "outputId": "da55259b-25f4-4f68-c7f1-accab52e5257"
      },
      "outputs": [
        {
          "data": {
            "text/plain": [
              "count    2.210500e+04\n",
              "mean     6.835543e+06\n",
              "std      1.120383e+07\n",
              "min      1.219000e+04\n",
              "25%      3.600000e+06\n",
              "50%      4.800000e+06\n",
              "75%      6.999000e+06\n",
              "max      7.630000e+08\n",
              "Name: last_price, dtype: float64"
            ]
          },
          "execution_count": 152,
          "metadata": {},
          "output_type": "execute_result"
        }
      ],
      "source": [
        "df['last_price'].describe()"
      ]
    },
    {
      "cell_type": "markdown",
      "metadata": {
        "id": "8Ey3ONKY2Ea0"
      },
      "source": [
        "Немного неудобно... Однако, посчитав знаки, понимаем, что миниммальное значение 12190, максимальное 763 млн. Тем не менее основное количество объявлений вероятнее всего ограничивается пределами 10-15 млн., так как третий квартиль - 7 млн. Чтобы не потерять данный, перестрахуемся и построим гистограмму для значений до 30 млн.\n",
        "\n",
        "Перед этим проверив объекты недвижимости стоимостью менее 1 млн."
      ]
    },
    {
      "cell_type": "code",
      "execution_count": null,
      "metadata": {
        "scrolled": true,
        "id": "RZJb5iO22Ea6",
        "outputId": "c4167736-d2c5-435d-8b45-c708566876da"
      },
      "outputs": [
        {
          "name": "stdout",
          "output_type": "stream",
          "text": [
            "total_images               104\n",
            "last_price                 104\n",
            "total_area                 104\n",
            "first_day_exposition       104\n",
            "rooms                      104\n",
            "ceiling_height              47\n",
            "floors_total               104\n",
            "living_area                 87\n",
            "floor                      104\n",
            "is_apartment               104\n",
            "studio                     104\n",
            "open_plan                  104\n",
            "kitchen_area                82\n",
            "balcony                    104\n",
            "locality_name              104\n",
            "airports_nearest             1\n",
            "cityCenters_nearest          1\n",
            "parks_around3000             1\n",
            "ponds_around3000             1\n",
            "days_exposition             85\n",
            "ceiling_height_category    104\n",
            "metr_cost                  104\n",
            "floor_category             104\n",
            "relation_living_area        87\n",
            "relation_kitchen_area       82\n",
            "weekday                    104\n",
            "month                      104\n",
            "year                       104\n",
            "dtype: int64\n"
          ]
        }
      ],
      "source": [
        "print(df.query('last_price < 1000000').count())"
      ]
    },
    {
      "cell_type": "markdown",
      "metadata": {
        "id": "2ER3a9Bv2Ea8"
      },
      "source": [
        "Получаем чуть более ста квартир, одна из которых имеет значение в столбце \"росстояние до центра\", что говорит о том что только этот объект расположен в интересующей нас зоне. "
      ]
    },
    {
      "cell_type": "markdown",
      "metadata": {
        "id": "6icZmuyk2Ea9"
      },
      "source": [
        "Построим гистограмму на 50 корзин."
      ]
    },
    {
      "cell_type": "code",
      "execution_count": null,
      "metadata": {
        "id": "Q2Ec8vw72Ea_",
        "outputId": "936fc093-837f-49bb-def0-9bf11c5236a3"
      },
      "outputs": [
        {
          "data": {
            "text/plain": [
              "<AxesSubplot:>"
            ]
          },
          "execution_count": 154,
          "metadata": {},
          "output_type": "execute_result"
        },
        {
          "data": {
            "image/png": "[encoded data removed]",
            "text/plain": [
              "<Figure size 432x288 with 1 Axes>"
            ]
          },
          "metadata": {
            "needs_background": "light"
          },
          "output_type": "display_data"
        }
      ],
      "source": [
        "redused_price = df.query('1000000 < last_price < 30000000')\n",
        "redused_price['last_price'].hist(bins=50)"
      ]
    },
    {
      "cell_type": "markdown",
      "metadata": {
        "id": "mRg2V7Sf2EbA"
      },
      "source": [
        "Стоимсоть почти всех объектов недвижимости входит в диапазон от 1 млн до 15, после чего колличество объектов реезко снижается, следовательно использование объявлений о продаже недвижимости более 15 - 20 млн может исказить реальные данные завышая среднюю стоимотсь недвижимости."
      ]
    },
    {
      "cell_type": "markdown",
      "metadata": {
        "id": "y6qJ6bi_2EbB"
      },
      "source": [
        "### Посмотрим на данные по числу комнат."
      ]
    },
    {
      "cell_type": "code",
      "execution_count": null,
      "metadata": {
        "scrolled": true,
        "id": "gateAYCK2EbC",
        "outputId": "a35a2326-8f2a-4242-fbf6-18577e12d8e0"
      },
      "outputs": [
        {
          "data": {
            "text/plain": [
              "count    22105.000000\n",
              "mean         2.076860\n",
              "std          1.092998\n",
              "min          0.000000\n",
              "25%          1.000000\n",
              "50%          2.000000\n",
              "75%          3.000000\n",
              "max         19.000000\n",
              "Name: rooms, dtype: float64"
            ]
          },
          "execution_count": 155,
          "metadata": {},
          "output_type": "execute_result"
        }
      ],
      "source": [
        "df['rooms'].describe()"
      ]
    },
    {
      "cell_type": "markdown",
      "metadata": {
        "id": "CgVIX2NX2EbD"
      },
      "source": [
        "Здесь все кажется проще. Переведем в числовые значения и построим гистограмму."
      ]
    },
    {
      "cell_type": "code",
      "execution_count": null,
      "metadata": {
        "id": "xN00URfT2EbE",
        "outputId": "5c1052fb-9d34-4f72-c2e1-1838164a7381"
      },
      "outputs": [
        {
          "data": {
            "text/plain": [
              "<AxesSubplot:>"
            ]
          },
          "execution_count": 156,
          "metadata": {},
          "output_type": "execute_result"
        },
        {
          "data": {
            "image/png": "[encoded data removed]",
            "text/plain": [
              "<Figure size 432x288 with 1 Axes>"
            ]
          },
          "metadata": {
            "needs_background": "light"
          },
          "output_type": "display_data"
        }
      ],
      "source": [
        "df['rooms'].astype(int)\n",
        "df['rooms'].hist(bins=10)"
      ]
    },
    {
      "cell_type": "markdown",
      "metadata": {
        "id": "uK893D-b2EbF"
      },
      "source": [
        "Большинство объявлений имеет от 1 до 3 комнат, иногда до 6. Значения выше встречаются крайне редко, о чем говорит факт, что медианное значение практически соответствует среднему."
      ]
    },
    {
      "cell_type": "markdown",
      "metadata": {
        "id": "s_QlYCNJ2EbG"
      },
      "source": [
        "### Высоту потолков я изучил на стадии предобратоки, и категаризировал данные по 4-ем категориям."
      ]
    },
    {
      "cell_type": "markdown",
      "metadata": {
        "id": "5O13o_wD2EbJ"
      },
      "source": [
        "### Изучим время продажи объектов в соответствии с данными столбца 'days_exposition'."
      ]
    },
    {
      "cell_type": "code",
      "execution_count": null,
      "metadata": {
        "scrolled": true,
        "id": "5W2T_vta2EbK",
        "outputId": "c54086a3-4a3f-4000-b479-465f77fbcf79"
      },
      "outputs": [
        {
          "data": {
            "text/plain": [
              "count    19247.000000\n",
              "mean       180.000987\n",
              "std        220.337662\n",
              "min          1.000000\n",
              "25%         44.000000\n",
              "50%         94.000000\n",
              "75%        229.000000\n",
              "max       1580.000000\n",
              "Name: days_exposition, dtype: float64"
            ]
          },
          "execution_count": 157,
          "metadata": {},
          "output_type": "execute_result"
        }
      ],
      "source": [
        "df['days_exposition'].describe()"
      ]
    },
    {
      "cell_type": "markdown",
      "metadata": {
        "id": "k5wj7Uyk2EbL"
      },
      "source": [
        "Очень серьезно максимальное значение превышает максимальное значение третий квартиль. Похоже на вброс.\n",
        "\n",
        "Построим гистограмму ограничив срок продажи 2 годами."
      ]
    },
    {
      "cell_type": "code",
      "execution_count": null,
      "metadata": {
        "id": "XIRWL8el2EbM",
        "outputId": "c16f634a-fe92-4c77-baed-11478c5338b8"
      },
      "outputs": [
        {
          "data": {
            "text/plain": [
              "<AxesSubplot:>"
            ]
          },
          "execution_count": 158,
          "metadata": {},
          "output_type": "execute_result"
        },
        {
          "data": {
            "image/png": "[encoded data removed]",
            "text/plain": [
              "<Figure size 432x288 with 1 Axes>"
            ]
          },
          "metadata": {
            "needs_background": "light"
          },
          "output_type": "display_data"
        }
      ],
      "source": [
        "df['days_exposition'].hist(bins=50, range=(1, 730))"
      ]
    },
    {
      "cell_type": "markdown",
      "metadata": {
        "id": "y5LB8VeC2EbN"
      },
      "source": [
        "Данные показывают, что более 50% объектов продаются в течении первых 100 дней после публикации объявления. После первых ста дней интенсивность продаж значительно снижается. Тем не достаточно много квртир продаются в течении 270 дней. После этого срока продажи можно считать черезвычайно долгими."
      ]
    },
    {
      "cell_type": "markdown",
      "metadata": {
        "id": "f-e6afUJ2EbP"
      },
      "source": [
        "Чтобы определить очень быстрые продажи, гистограмму следует перестроить ограничив данные первыми 100-ми днями продаж."
      ]
    },
    {
      "cell_type": "code",
      "execution_count": null,
      "metadata": {
        "scrolled": true,
        "id": "wzKUYJj42EbQ",
        "outputId": "d0eb3627-88bb-4def-d02a-09392be88433"
      },
      "outputs": [
        {
          "data": {
            "text/plain": [
              "<AxesSubplot:>"
            ]
          },
          "execution_count": 159,
          "metadata": {},
          "output_type": "execute_result"
        },
        {
          "data": {
            "image/png": "[encoded data removed]",
            "text/plain": [
              "<Figure size 432x288 with 1 Axes>"
            ]
          },
          "metadata": {
            "needs_background": "light"
          },
          "output_type": "display_data"
        }
      ],
      "source": [
        "df['days_exposition'].hist(bins=50, range=(1, 50))"
      ]
    },
    {
      "cell_type": "markdown",
      "metadata": {
        "id": "RyE1qB542EbQ"
      },
      "source": [
        "Вероятнее всего быстрые продажи можем определить границами первого квартиля, а именно первые 43 дня."
      ]
    },
    {
      "cell_type": "markdown",
      "metadata": {
        "id": "UCEeP6uF2EbS"
      },
      "source": [
        "### Проверим факторы влияющие на стоимость объектов недвижимости."
      ]
    },
    {
      "cell_type": "markdown",
      "metadata": {
        "id": "SY81qpfd2EbS"
      },
      "source": [
        "#### Начнем со связи между стоимостью и колличеством комнат."
      ]
    },
    {
      "cell_type": "code",
      "execution_count": null,
      "metadata": {
        "scrolled": true,
        "id": "UWQmqFgf2EbT",
        "outputId": "fac8c490-819d-4f8b-bf7e-b8b013f64926"
      },
      "outputs": [
        {
          "name": "stdout",
          "output_type": "stream",
          "text": [
            "         last_price\n",
            "rooms              \n",
            "0      3.396452e+06\n",
            "1      3.953687e+06\n",
            "2      5.902891e+06\n",
            "3      8.516729e+06\n",
            "4      1.376003e+07\n",
            "5      2.429605e+07\n",
            "6      3.181951e+07\n",
            "7      5.147007e+07\n",
            "8      5.022417e+07\n",
            "9      3.415236e+07\n",
            "10     2.616667e+07\n",
            "11     2.525000e+07\n",
            "12     4.200000e+08\n",
            "14     2.682950e+07\n",
            "15     6.500000e+07\n",
            "16     2.850000e+07\n",
            "19     3.225000e+07\n",
            "0.36845292711287286\n"
          ]
        }
      ],
      "source": [
        "print(df.pivot_table(index = 'rooms', values = 'last_price', aggfunc='mean'))\n",
        "print(df['last_price'].corr(df['rooms']))"
      ]
    },
    {
      "cell_type": "markdown",
      "metadata": {
        "id": "ugQHSyCq2EbU"
      },
      "source": [
        "Корреляция показывает слабую связь. Однако, следует учитывать, что в таблице присутствуют данные об объявлениях из разных городов. Корректнее сравнение делать для каждого населенного пункта. Попоробуем на примере Санкт_петербурга."
      ]
    },
    {
      "cell_type": "code",
      "execution_count": null,
      "metadata": {
        "id": "7gyuQhrd2EbV",
        "outputId": "fafd5651-fb34-4257-a79e-489d8e502e3b"
      },
      "outputs": [
        {
          "name": "stdout",
          "output_type": "stream",
          "text": [
            "0.37237533826763347\n"
          ]
        }
      ],
      "source": [
        "df_spb = df.query('locality_name == \"Санкт-Петербург\"')\n",
        "print(df_spb['last_price'].corr(df_spb['rooms']))"
      ]
    },
    {
      "cell_type": "markdown",
      "metadata": {
        "id": "DEaxRCKX2EbX"
      },
      "source": [
        "Очевидно, корреляция по прежнему слабая.\n",
        "\n",
        "Попробуем еще ограничить квартиры с самым частым колличеством комнат, а именно от 1 до 4."
      ]
    },
    {
      "cell_type": "code",
      "execution_count": null,
      "metadata": {
        "id": "0LC5eAzN2EbX",
        "outputId": "01a4e34b-5b7c-4479-8485-4168bb44385b"
      },
      "outputs": [
        {
          "name": "stdout",
          "output_type": "stream",
          "text": [
            "0.3020938868338423\n"
          ]
        }
      ],
      "source": [
        "df_spb_rooms = df_spb.query('1 <= rooms <=3')\n",
        "print(df_spb_rooms['last_price'].corr(df_spb_rooms['rooms']))"
      ]
    },
    {
      "cell_type": "markdown",
      "metadata": {
        "id": "2MH-eeUI2EbZ"
      },
      "source": [
        "Довольно странный получается вывод. Сводная таблица показывает рост средней стоимости квартиры с ростом числа комнат, однако корреляция остается достаточно низкой.\n",
        "\n",
        "Есть предположение, что возможно несовсем уместно брать общую стоимость квартиры. Лучше вести расчеты основываясь на стоимости квадратного метра."
      ]
    },
    {
      "cell_type": "code",
      "execution_count": null,
      "metadata": {
        "id": "bQ5KKxfU2Eba",
        "outputId": "7902e333-0b4e-494e-f26b-c76bf57d53eb"
      },
      "outputs": [
        {
          "name": "stdout",
          "output_type": "stream",
          "text": [
            "-0.03960727545644667\n",
            "           metr_cost\n",
            "rooms               \n",
            "0      108513.114092\n",
            "1      100818.265226\n",
            "2       95489.659813\n",
            "3       97151.150139\n",
            "4      110331.605116\n",
            "5      126750.342565\n",
            "6      140718.807406\n",
            "7      163569.923180\n",
            "8      184651.168369\n",
            "9      105027.145235\n",
            "10      98009.931500\n",
            "11     132639.736685\n",
            "12     466666.666667\n",
            "14      92827.682246\n",
            "15     110169.491525\n",
            "16     105555.555556\n",
            "19      86091.831287\n"
          ]
        }
      ],
      "source": [
        "df_spb_rooms = df_spb.query('1 <= rooms <=3')\n",
        "print(df_spb_rooms['metr_cost'].corr(df_spb_rooms['rooms']))\n",
        "print(df.pivot_table(index = 'rooms', values = 'metr_cost', aggfunc='mean'))"
      ]
    },
    {
      "cell_type": "markdown",
      "metadata": {
        "id": "553GqZYX2Ebc"
      },
      "source": [
        "И снова мимо. Стоимость квадратного метра однокомнатной квартиры больше чем у двух- трех-комнатных."
      ]
    },
    {
      "cell_type": "markdown",
      "metadata": {
        "id": "nZV0pEFU2Ebp"
      },
      "source": [
        "Связь между стоимостью квартиры и количеством комнат несомненно есть, однако такая связь не является сильной."
      ]
    },
    {
      "cell_type": "code",
      "execution_count": null,
      "metadata": {
        "id": "Tcu-cnIf2Ebt",
        "outputId": "2e57c057-b218-46ab-ea87-e260afd28ddd"
      },
      "outputs": [
        {
          "name": "stdout",
          "output_type": "stream",
          "text": [
            "0.3020938868338423\n",
            "         last_price\n",
            "rooms              \n",
            "0      3.337724e+06\n",
            "1      3.835362e+06\n",
            "2      5.591605e+06\n",
            "3      8.179119e+06\n",
            "4      1.342350e+07\n",
            "5      2.376208e+07\n",
            "6      3.170975e+07\n",
            "7      5.147007e+07\n",
            "8      5.022417e+07\n",
            "9      3.415236e+07\n",
            "10     2.616667e+07\n",
            "11     2.525000e+07\n",
            "12     4.200000e+08\n",
            "14     2.682950e+07\n",
            "15     6.500000e+07\n",
            "16     2.850000e+07\n",
            "19     3.225000e+07\n"
          ]
        }
      ],
      "source": [
        "df_spb_rooms_cost = df_spb.query('1 <= rooms <=3 and 1000000 < last_price < 20000000')\n",
        "print(df_spb_rooms['last_price'].corr(df_spb_rooms['rooms']))\n",
        "print(df.pivot_table(index = 'rooms', values = 'last_price', aggfunc='mean'))"
      ]
    },
    {
      "cell_type": "markdown",
      "metadata": {
        "id": "QFrM13sB2Ebt"
      },
      "source": [
        "Действительно, коеффициент корреляции отображает наличие связи между числом комнат истоимостью. Очевидно, выборка помогла установить связь."
      ]
    },
    {
      "cell_type": "markdown",
      "metadata": {
        "id": "CwwqBrdE2Ebv"
      },
      "source": [
        "Все-таки удалю из датафрейма очевидные вбросы по стоимости(менее 1000000 и более 20000000), так как эти данные будут искажать практически все дальнейшие исследования."
      ]
    },
    {
      "cell_type": "code",
      "execution_count": null,
      "metadata": {
        "id": "Lp0PZwDF2Eby"
      },
      "outputs": [],
      "source": [
        "df=df.query('1000000 < last_price < 20000000')"
      ]
    },
    {
      "cell_type": "markdown",
      "metadata": {
        "id": "7TCDVwpV2Eb0"
      },
      "source": [
        "#### Проверим связь между ценой и этажом квартиры."
      ]
    },
    {
      "cell_type": "code",
      "execution_count": null,
      "metadata": {
        "scrolled": true,
        "id": "CEyq3wak2Eb1",
        "outputId": "9173706e-2079-4449-ce82-af107576c580"
      },
      "outputs": [
        {
          "name": "stdout",
          "output_type": "stream",
          "text": [
            "                  last_price     metr_cost\n",
            "floor_category                            \n",
            "другой          5.670178e+06  99291.576007\n",
            "первый          4.486891e+06  81926.983248\n",
            "последний       5.217859e+06  87929.031484\n"
          ]
        }
      ],
      "source": [
        "print(df.pivot_table(index = 'floor_category', values = ['last_price', 'metr_cost'], aggfunc='mean'))"
      ]
    },
    {
      "cell_type": "markdown",
      "metadata": {
        "id": "6M3G7bCF2Eb2"
      },
      "source": [
        "После удаления вбросов, данные немного изменились и мы можем увидеть что первый и последнии этаж имеют меньшую привлекательность для потенциальных покупателей."
      ]
    },
    {
      "cell_type": "markdown",
      "metadata": {
        "id": "SLq6uVAn2Eb3"
      },
      "source": [
        "Проведем схожие вычисления для Санкт_петербурга."
      ]
    },
    {
      "cell_type": "markdown",
      "metadata": {
        "id": "XoF8dWL02Eb3"
      },
      "source": [
        "Перезапишем переменную df_spb, так как были удалены вбросы по цене."
      ]
    },
    {
      "cell_type": "code",
      "execution_count": null,
      "metadata": {
        "id": "5ud9nVb02Eb4"
      },
      "outputs": [],
      "source": [
        "df_spb = df.query('locality_name == \"Санкт-Петербург\"')"
      ]
    },
    {
      "cell_type": "code",
      "execution_count": null,
      "metadata": {
        "scrolled": true,
        "id": "AOTry0RZ2Eb4",
        "outputId": "5ce4ca1a-34de-41ee-bf44-9f12032a1241"
      },
      "outputs": [
        {
          "name": "stdout",
          "output_type": "stream",
          "text": [
            "                  last_price      metr_cost\n",
            "floor_category                             \n",
            "другой          6.538601e+06  110427.908103\n",
            "первый          5.465195e+06   97300.930405\n",
            "последний       6.594387e+06  106599.439950\n"
          ]
        }
      ],
      "source": [
        "print(df_spb.pivot_table(index = 'floor_category', values = ['last_price', 'metr_cost'], aggfunc='mean'))"
      ]
    },
    {
      "cell_type": "markdown",
      "metadata": {
        "id": "HodkhOH_2Eb5"
      },
      "source": [
        "Очевидно, как средняя стомость квартир расположенных на первом этаже так и стоимость кв.м. ниже чем у квартир на других этажах."
      ]
    },
    {
      "cell_type": "code",
      "execution_count": null,
      "metadata": {
        "scrolled": true,
        "id": "KF4KBdKt2Eb7",
        "outputId": "c4f6eb1f-e477-4ed2-b5fd-70cda4395b72"
      },
      "outputs": [
        {
          "data": {
            "text/plain": [
              "array([[<AxesSubplot:title={'center':'last_price'}>,\n",
              "        <AxesSubplot:title={'center':'metr_cost'}>]], dtype=object)"
            ]
          },
          "execution_count": 63,
          "metadata": {},
          "output_type": "execute_result"
        },
        {
          "data": {
            "image/png": "[encoded data removed]",
            "text/plain": [
              "<Figure size 432x288 with 2 Axes>"
            ]
          },
          "metadata": {
            "needs_background": "light"
          },
          "output_type": "display_data"
        }
      ],
      "source": [
        "df_spb.pivot_table(index = 'floor', values = ['last_price', 'metr_cost'], aggfunc='mean').hist()"
      ]
    },
    {
      "cell_type": "code",
      "execution_count": null,
      "metadata": {
        "scrolled": true,
        "id": "M1d3vWdq2Eb8",
        "outputId": "ebdab5a6-a9c9-406b-db36-9a2340068403"
      },
      "outputs": [
        {
          "data": {
            "text/plain": [
              "array([[<AxesSubplot:title={'center':'last_price'}>,\n",
              "        <AxesSubplot:title={'center':'metr_cost'}>]], dtype=object)"
            ]
          },
          "execution_count": 165,
          "metadata": {},
          "output_type": "execute_result"
        },
        {
          "data": {
            "image/png": "[encoded data removed]",
            "text/plain": [
              "<Figure size 432x288 with 2 Axes>"
            ]
          },
          "metadata": {
            "needs_background": "light"
          },
          "output_type": "display_data"
        }
      ],
      "source": [
        "df_spb.pivot_table(index = 'floor_category', values = ['last_price', 'metr_cost'], aggfunc='mean').hist()"
      ]
    },
    {
      "cell_type": "markdown",
      "metadata": {
        "id": "UAHEOXm82Eb9"
      },
      "source": [
        "Кажется, получилось не очень информативно."
      ]
    },
    {
      "cell_type": "markdown",
      "metadata": {
        "id": "bgAjtWlU2Eb-"
      },
      "source": [
        "#### Следующим этапом оценим связь стоимости квартир с их удаленностью от центра.\n",
        "Для начала посмотрим какие значение встречаются в данном столбце."
      ]
    },
    {
      "cell_type": "code",
      "execution_count": null,
      "metadata": {
        "id": "ZgPrCHIP2Eb_",
        "outputId": "899ffbad-5411-493d-ab02-99cc008dad6a"
      },
      "outputs": [
        {
          "data": {
            "text/plain": [
              "count    17472.000000\n",
              "mean     14502.436641\n",
              "std       8576.918184\n",
              "min        208.000000\n",
              "25%       9820.000000\n",
              "50%      13277.000000\n",
              "75%      16464.000000\n",
              "max      65968.000000\n",
              "Name: cityCenters_nearest, dtype: float64"
            ]
          },
          "execution_count": 64,
          "metadata": {},
          "output_type": "execute_result"
        }
      ],
      "source": [
        "df['cityCenters_nearest'].describe()"
      ]
    },
    {
      "cell_type": "code",
      "execution_count": null,
      "metadata": {
        "id": "ZX49QNr-2Eb_",
        "outputId": "cfedf4d4-218a-44df-eb98-0168238ffecd"
      },
      "outputs": [
        {
          "data": {
            "text/plain": [
              "count    14969.000000\n",
              "mean     11862.100742\n",
              "std       4739.069487\n",
              "min        208.000000\n",
              "25%       8922.000000\n",
              "50%      12437.000000\n",
              "75%      15032.000000\n",
              "max      29493.000000\n",
              "Name: cityCenters_nearest, dtype: float64"
            ]
          },
          "execution_count": 65,
          "metadata": {},
          "output_type": "execute_result"
        }
      ],
      "source": [
        "df_spb['cityCenters_nearest'].describe()"
      ]
    },
    {
      "cell_type": "markdown",
      "metadata": {
        "id": "Z7w0TJk92EcC"
      },
      "source": [
        "Минимальное расстояние 181 метр, максимальное более 60 киллометров.\n",
        "построим гистограмму для всех объявлений и для объявлении в Санкт-Петербурге и затем проверим связь методом корреляции."
      ]
    },
    {
      "cell_type": "code",
      "execution_count": null,
      "metadata": {
        "id": "iQ2mhICs2EcC",
        "outputId": "f3402eb7-8de7-4a61-d8de-f8ebf97b6ac1"
      },
      "outputs": [
        {
          "data": {
            "text/plain": [
              "<AxesSubplot:>"
            ]
          },
          "execution_count": 66,
          "metadata": {},
          "output_type": "execute_result"
        },
        {
          "data": {
            "image/png": "[encoded data removed]",
            "text/plain": [
              "<Figure size 432x288 with 1 Axes>"
            ]
          },
          "metadata": {
            "needs_background": "light"
          },
          "output_type": "display_data"
        }
      ],
      "source": [
        "df['cityCenters_nearest'].hist(bins=50)\n",
        "df_spb['cityCenters_nearest'].hist(bins=50)"
      ]
    },
    {
      "cell_type": "markdown",
      "metadata": {
        "id": "6YF4Fp0b2EcD"
      },
      "source": [
        "Получаем результат, что в Санкт-Петербург входят помещения расположенные в радиусе примерно 29,5 километров. Однако, некоторые населенные пункты указанные в таблицуе так же входят в указанный радиус."
      ]
    },
    {
      "cell_type": "markdown",
      "metadata": {
        "id": "ywx6Dg_r2EcE"
      },
      "source": [
        "И корреляция"
      ]
    },
    {
      "cell_type": "code",
      "execution_count": null,
      "metadata": {
        "id": "lPOxkg2m2EcF",
        "outputId": "dd73eb3a-93ee-4eb2-a644-c70a7df9c47d"
      },
      "outputs": [
        {
          "name": "stdout",
          "output_type": "stream",
          "text": [
            "-0.3554185321054869\n"
          ]
        }
      ],
      "source": [
        "print(df['cityCenters_nearest'].corr(df['last_price']))"
      ]
    },
    {
      "cell_type": "markdown",
      "metadata": {
        "id": "ylE4p78q2EcG"
      },
      "source": [
        "Сделаем вычисления для помещении в радиусе 20 км., так как это самые часто встречающиеся объявления."
      ]
    },
    {
      "cell_type": "code",
      "execution_count": null,
      "metadata": {
        "id": "7r5gksdq2EcH",
        "outputId": "6a74886f-621b-45b8-86e8-2a7c0b3772c4"
      },
      "outputs": [
        {
          "name": "stdout",
          "output_type": "stream",
          "text": [
            "-0.4301072789700829\n"
          ]
        }
      ],
      "source": [
        "df_near_centre = df.query('cityCenters_nearest < 20000')\n",
        "print(df_near_centre['cityCenters_nearest'].corr(df_near_centre['last_price']))"
      ]
    },
    {
      "cell_type": "markdown",
      "metadata": {
        "id": "AtNlpDhU2EcI"
      },
      "source": [
        "Небольшой отрицательные коэффициент корреляции есть, что логично. Стоимость снижается по мере удаления от центра, хотя о сильной связи этих показателей говорить нельзя."
      ]
    },
    {
      "cell_type": "markdown",
      "metadata": {
        "id": "nm3QvYvp2EcJ"
      },
      "source": [
        "Попробуем сделать сводную таблицу по этим данным, перед этим разделив растояние до центра на 4 категории."
      ]
    },
    {
      "cell_type": "code",
      "execution_count": null,
      "metadata": {
        "scrolled": true,
        "id": "dLkjxMEd2EcJ",
        "outputId": "f495fa4a-a046-4a29-cce7-747faf8d8ed3"
      },
      "outputs": [
        {
          "data": {
            "text/html": [
              "<div>\n",
              "<style scoped>\n",
              "    .dataframe tbody tr th:only-of-type {\n",
              "        vertical-align: middle;\n",
              "    }\n",
              "\n",
              "    .dataframe tbody tr th {\n",
              "        vertical-align: top;\n",
              "    }\n",
              "\n",
              "    .dataframe thead th {\n",
              "        text-align: right;\n",
              "    }\n",
              "</style>\n",
              "<table border=\"1\" class=\"dataframe\">\n",
              "  <thead>\n",
              "    <tr style=\"text-align: right;\">\n",
              "      <th></th>\n",
              "      <th>total_images</th>\n",
              "      <th>last_price</th>\n",
              "      <th>total_area</th>\n",
              "      <th>first_day_exposition</th>\n",
              "      <th>rooms</th>\n",
              "      <th>ceiling_height</th>\n",
              "      <th>floors_total</th>\n",
              "      <th>living_area</th>\n",
              "      <th>floor</th>\n",
              "      <th>is_apartment</th>\n",
              "      <th>...</th>\n",
              "      <th>days_exposition</th>\n",
              "      <th>ceiling_height_category</th>\n",
              "      <th>metr_cost</th>\n",
              "      <th>floor_category</th>\n",
              "      <th>relation_living_area</th>\n",
              "      <th>relation_kitchen_area</th>\n",
              "      <th>weekday</th>\n",
              "      <th>month</th>\n",
              "      <th>year</th>\n",
              "      <th>centre_cat</th>\n",
              "    </tr>\n",
              "  </thead>\n",
              "  <tbody>\n",
              "    <tr>\n",
              "      <th>0</th>\n",
              "      <td>20</td>\n",
              "      <td>13000000.0</td>\n",
              "      <td>108.00</td>\n",
              "      <td>2019-03-07</td>\n",
              "      <td>3</td>\n",
              "      <td>2.70</td>\n",
              "      <td>16.0</td>\n",
              "      <td>51.0</td>\n",
              "      <td>8</td>\n",
              "      <td>False</td>\n",
              "      <td>...</td>\n",
              "      <td>NaN</td>\n",
              "      <td>2.4-2.8</td>\n",
              "      <td>120370.370370</td>\n",
              "      <td>другой</td>\n",
              "      <td>0.472222</td>\n",
              "      <td>0.231481</td>\n",
              "      <td>Четверг</td>\n",
              "      <td>3</td>\n",
              "      <td>2019</td>\n",
              "      <td>от 7 до 20 км</td>\n",
              "    </tr>\n",
              "    <tr>\n",
              "      <th>1</th>\n",
              "      <td>7</td>\n",
              "      <td>3350000.0</td>\n",
              "      <td>40.40</td>\n",
              "      <td>2018-12-04</td>\n",
              "      <td>1</td>\n",
              "      <td>NaN</td>\n",
              "      <td>11.0</td>\n",
              "      <td>18.6</td>\n",
              "      <td>1</td>\n",
              "      <td>False</td>\n",
              "      <td>...</td>\n",
              "      <td>81.0</td>\n",
              "      <td>2.4-2.8</td>\n",
              "      <td>82920.792079</td>\n",
              "      <td>первый</td>\n",
              "      <td>0.460396</td>\n",
              "      <td>0.272277</td>\n",
              "      <td>Вторник</td>\n",
              "      <td>12</td>\n",
              "      <td>2018</td>\n",
              "      <td>от 7 до 20 км</td>\n",
              "    </tr>\n",
              "    <tr>\n",
              "      <th>2</th>\n",
              "      <td>10</td>\n",
              "      <td>5196000.0</td>\n",
              "      <td>56.00</td>\n",
              "      <td>2015-08-20</td>\n",
              "      <td>2</td>\n",
              "      <td>NaN</td>\n",
              "      <td>5.0</td>\n",
              "      <td>34.3</td>\n",
              "      <td>4</td>\n",
              "      <td>False</td>\n",
              "      <td>...</td>\n",
              "      <td>558.0</td>\n",
              "      <td>2.4-2.8</td>\n",
              "      <td>92785.714286</td>\n",
              "      <td>другой</td>\n",
              "      <td>0.612500</td>\n",
              "      <td>0.148214</td>\n",
              "      <td>Четверг</td>\n",
              "      <td>8</td>\n",
              "      <td>2015</td>\n",
              "      <td>от 7 до 20 км</td>\n",
              "    </tr>\n",
              "    <tr>\n",
              "      <th>4</th>\n",
              "      <td>2</td>\n",
              "      <td>10000000.0</td>\n",
              "      <td>100.00</td>\n",
              "      <td>2018-06-19</td>\n",
              "      <td>2</td>\n",
              "      <td>3.03</td>\n",
              "      <td>14.0</td>\n",
              "      <td>32.0</td>\n",
              "      <td>13</td>\n",
              "      <td>False</td>\n",
              "      <td>...</td>\n",
              "      <td>121.0</td>\n",
              "      <td>2.9-3.6</td>\n",
              "      <td>100000.000000</td>\n",
              "      <td>другой</td>\n",
              "      <td>0.320000</td>\n",
              "      <td>0.410000</td>\n",
              "      <td>Вторник</td>\n",
              "      <td>6</td>\n",
              "      <td>2018</td>\n",
              "      <td>от 7 до 20 км</td>\n",
              "    </tr>\n",
              "    <tr>\n",
              "      <th>5</th>\n",
              "      <td>10</td>\n",
              "      <td>2890000.0</td>\n",
              "      <td>30.40</td>\n",
              "      <td>2018-09-10</td>\n",
              "      <td>1</td>\n",
              "      <td>NaN</td>\n",
              "      <td>12.0</td>\n",
              "      <td>14.4</td>\n",
              "      <td>5</td>\n",
              "      <td>False</td>\n",
              "      <td>...</td>\n",
              "      <td>55.0</td>\n",
              "      <td>2.4-2.8</td>\n",
              "      <td>95065.789474</td>\n",
              "      <td>другой</td>\n",
              "      <td>0.473684</td>\n",
              "      <td>0.299342</td>\n",
              "      <td>Понедельник</td>\n",
              "      <td>9</td>\n",
              "      <td>2018</td>\n",
              "      <td>None</td>\n",
              "    </tr>\n",
              "    <tr>\n",
              "      <th>...</th>\n",
              "      <td>...</td>\n",
              "      <td>...</td>\n",
              "      <td>...</td>\n",
              "      <td>...</td>\n",
              "      <td>...</td>\n",
              "      <td>...</td>\n",
              "      <td>...</td>\n",
              "      <td>...</td>\n",
              "      <td>...</td>\n",
              "      <td>...</td>\n",
              "      <td>...</td>\n",
              "      <td>...</td>\n",
              "      <td>...</td>\n",
              "      <td>...</td>\n",
              "      <td>...</td>\n",
              "      <td>...</td>\n",
              "      <td>...</td>\n",
              "      <td>...</td>\n",
              "      <td>...</td>\n",
              "      <td>...</td>\n",
              "      <td>...</td>\n",
              "    </tr>\n",
              "    <tr>\n",
              "      <th>23694</th>\n",
              "      <td>9</td>\n",
              "      <td>9700000.0</td>\n",
              "      <td>133.81</td>\n",
              "      <td>2017-03-21</td>\n",
              "      <td>3</td>\n",
              "      <td>3.70</td>\n",
              "      <td>5.0</td>\n",
              "      <td>73.3</td>\n",
              "      <td>3</td>\n",
              "      <td>False</td>\n",
              "      <td>...</td>\n",
              "      <td>NaN</td>\n",
              "      <td>more 3.6</td>\n",
              "      <td>72490.845228</td>\n",
              "      <td>другой</td>\n",
              "      <td>0.547792</td>\n",
              "      <td>0.103356</td>\n",
              "      <td>Вторник</td>\n",
              "      <td>3</td>\n",
              "      <td>2017</td>\n",
              "      <td>до 7 км</td>\n",
              "    </tr>\n",
              "    <tr>\n",
              "      <th>23695</th>\n",
              "      <td>14</td>\n",
              "      <td>3100000.0</td>\n",
              "      <td>59.00</td>\n",
              "      <td>2018-01-15</td>\n",
              "      <td>3</td>\n",
              "      <td>NaN</td>\n",
              "      <td>5.0</td>\n",
              "      <td>38.0</td>\n",
              "      <td>4</td>\n",
              "      <td>False</td>\n",
              "      <td>...</td>\n",
              "      <td>45.0</td>\n",
              "      <td>2.4-2.8</td>\n",
              "      <td>52542.372881</td>\n",
              "      <td>другой</td>\n",
              "      <td>0.644068</td>\n",
              "      <td>0.144068</td>\n",
              "      <td>Понедельник</td>\n",
              "      <td>1</td>\n",
              "      <td>2018</td>\n",
              "      <td>None</td>\n",
              "    </tr>\n",
              "    <tr>\n",
              "      <th>23696</th>\n",
              "      <td>18</td>\n",
              "      <td>2500000.0</td>\n",
              "      <td>56.70</td>\n",
              "      <td>2018-02-11</td>\n",
              "      <td>2</td>\n",
              "      <td>NaN</td>\n",
              "      <td>3.0</td>\n",
              "      <td>29.7</td>\n",
              "      <td>1</td>\n",
              "      <td>False</td>\n",
              "      <td>...</td>\n",
              "      <td>NaN</td>\n",
              "      <td>2.4-2.8</td>\n",
              "      <td>44091.710758</td>\n",
              "      <td>первый</td>\n",
              "      <td>0.523810</td>\n",
              "      <td>NaN</td>\n",
              "      <td>Воскресенье</td>\n",
              "      <td>2</td>\n",
              "      <td>2018</td>\n",
              "      <td>None</td>\n",
              "    </tr>\n",
              "    <tr>\n",
              "      <th>23697</th>\n",
              "      <td>13</td>\n",
              "      <td>11475000.0</td>\n",
              "      <td>76.75</td>\n",
              "      <td>2017-03-28</td>\n",
              "      <td>2</td>\n",
              "      <td>3.00</td>\n",
              "      <td>17.0</td>\n",
              "      <td>NaN</td>\n",
              "      <td>12</td>\n",
              "      <td>False</td>\n",
              "      <td>...</td>\n",
              "      <td>602.0</td>\n",
              "      <td>2.9-3.6</td>\n",
              "      <td>149511.400651</td>\n",
              "      <td>другой</td>\n",
              "      <td>NaN</td>\n",
              "      <td>0.303583</td>\n",
              "      <td>Вторник</td>\n",
              "      <td>3</td>\n",
              "      <td>2017</td>\n",
              "      <td>от 7 до 20 км</td>\n",
              "    </tr>\n",
              "    <tr>\n",
              "      <th>23698</th>\n",
              "      <td>4</td>\n",
              "      <td>1350000.0</td>\n",
              "      <td>32.30</td>\n",
              "      <td>2017-07-21</td>\n",
              "      <td>1</td>\n",
              "      <td>2.50</td>\n",
              "      <td>5.0</td>\n",
              "      <td>12.3</td>\n",
              "      <td>1</td>\n",
              "      <td>False</td>\n",
              "      <td>...</td>\n",
              "      <td>NaN</td>\n",
              "      <td>2.4-2.8</td>\n",
              "      <td>41795.665635</td>\n",
              "      <td>первый</td>\n",
              "      <td>0.380805</td>\n",
              "      <td>0.278638</td>\n",
              "      <td>Пятница</td>\n",
              "      <td>7</td>\n",
              "      <td>2017</td>\n",
              "      <td>None</td>\n",
              "    </tr>\n",
              "  </tbody>\n",
              "</table>\n",
              "<p>22731 rows × 29 columns</p>\n",
              "</div>"
            ],
            "text/plain": [
              "       total_images  last_price  total_area first_day_exposition  rooms  \\\n",
              "0                20  13000000.0      108.00           2019-03-07      3   \n",
              "1                 7   3350000.0       40.40           2018-12-04      1   \n",
              "2                10   5196000.0       56.00           2015-08-20      2   \n",
              "4                 2  10000000.0      100.00           2018-06-19      2   \n",
              "5                10   2890000.0       30.40           2018-09-10      1   \n",
              "...             ...         ...         ...                  ...    ...   \n",
              "23694             9   9700000.0      133.81           2017-03-21      3   \n",
              "23695            14   3100000.0       59.00           2018-01-15      3   \n",
              "23696            18   2500000.0       56.70           2018-02-11      2   \n",
              "23697            13  11475000.0       76.75           2017-03-28      2   \n",
              "23698             4   1350000.0       32.30           2017-07-21      1   \n",
              "\n",
              "       ceiling_height  floors_total  living_area  floor  is_apartment  ...  \\\n",
              "0                2.70          16.0         51.0      8         False  ...   \n",
              "1                 NaN          11.0         18.6      1         False  ...   \n",
              "2                 NaN           5.0         34.3      4         False  ...   \n",
              "4                3.03          14.0         32.0     13         False  ...   \n",
              "5                 NaN          12.0         14.4      5         False  ...   \n",
              "...               ...           ...          ...    ...           ...  ...   \n",
              "23694            3.70           5.0         73.3      3         False  ...   \n",
              "23695             NaN           5.0         38.0      4         False  ...   \n",
              "23696             NaN           3.0         29.7      1         False  ...   \n",
              "23697            3.00          17.0          NaN     12         False  ...   \n",
              "23698            2.50           5.0         12.3      1         False  ...   \n",
              "\n",
              "       days_exposition  ceiling_height_category      metr_cost  \\\n",
              "0                  NaN                  2.4-2.8  120370.370370   \n",
              "1                 81.0                  2.4-2.8   82920.792079   \n",
              "2                558.0                  2.4-2.8   92785.714286   \n",
              "4                121.0                  2.9-3.6  100000.000000   \n",
              "5                 55.0                  2.4-2.8   95065.789474   \n",
              "...                ...                      ...            ...   \n",
              "23694              NaN                 more 3.6   72490.845228   \n",
              "23695             45.0                  2.4-2.8   52542.372881   \n",
              "23696              NaN                  2.4-2.8   44091.710758   \n",
              "23697            602.0                  2.9-3.6  149511.400651   \n",
              "23698              NaN                  2.4-2.8   41795.665635   \n",
              "\n",
              "       floor_category relation_living_area  relation_kitchen_area  \\\n",
              "0              другой             0.472222               0.231481   \n",
              "1              первый             0.460396               0.272277   \n",
              "2              другой             0.612500               0.148214   \n",
              "4              другой             0.320000               0.410000   \n",
              "5              другой             0.473684               0.299342   \n",
              "...               ...                  ...                    ...   \n",
              "23694          другой             0.547792               0.103356   \n",
              "23695          другой             0.644068               0.144068   \n",
              "23696          первый             0.523810                    NaN   \n",
              "23697          другой                  NaN               0.303583   \n",
              "23698          первый             0.380805               0.278638   \n",
              "\n",
              "           weekday  month  year     centre_cat  \n",
              "0          Четверг      3  2019  от 7 до 20 км  \n",
              "1          Вторник     12  2018  от 7 до 20 км  \n",
              "2          Четверг      8  2015  от 7 до 20 км  \n",
              "4          Вторник      6  2018  от 7 до 20 км  \n",
              "5      Понедельник      9  2018           None  \n",
              "...            ...    ...   ...            ...  \n",
              "23694      Вторник      3  2017        до 7 км  \n",
              "23695  Понедельник      1  2018           None  \n",
              "23696  Воскресенье      2  2018           None  \n",
              "23697      Вторник      3  2017  от 7 до 20 км  \n",
              "23698      Пятница      7  2017           None  \n",
              "\n",
              "[22731 rows x 29 columns]"
            ]
          },
          "metadata": {},
          "output_type": "display_data"
        }
      ],
      "source": [
        "def centre_cat(row):\n",
        "    category = row['cityCenters_nearest']\n",
        "    if (category < 7000):\n",
        "        return 'до 7 км'\n",
        "    if (7000 <= category < 20000):\n",
        "        return 'от 7 до 20 км'\n",
        "    if (20000 <= category <= 36000):\n",
        "        return 'от 20 до 36 км'\n",
        "    if (category > 36000):\n",
        "        return 'больше 36 км'\n",
        "    \n",
        "df['centre_cat'] = df.apply(centre_cat, axis=1)\n",
        "display(df)"
      ]
    },
    {
      "cell_type": "code",
      "execution_count": null,
      "metadata": {
        "scrolled": true,
        "id": "A53Sf0Ox2EcK",
        "outputId": "bf0918c4-00b1-4d1e-b97e-c240dac8b27a"
      },
      "outputs": [
        {
          "name": "stdout",
          "output_type": "stream",
          "text": [
            "                  last_price      metr_cost\n",
            "centre_cat                                 \n",
            "больше 36 км    4.134868e+06   79396.605560\n",
            "до 7 км         9.214966e+06  122832.945238\n",
            "от 20 до 36 км  4.771314e+06   86308.735149\n",
            "от 7 до 20 км   5.770931e+06  105351.870227\n"
          ]
        }
      ],
      "source": [
        "print(df.pivot_table(index='centre_cat', values=['last_price', 'metr_cost']))"
      ]
    },
    {
      "cell_type": "markdown",
      "metadata": {
        "id": "YiK_5myc2EcL"
      },
      "source": [
        "Предположение верно! Чем ближе к центру тем выше средняя стоимость как кв.м. так и общая средняя стоимость объекта."
      ]
    },
    {
      "cell_type": "markdown",
      "metadata": {
        "id": "QZJ0OOLx2EcN"
      },
      "source": [
        "#### Теперь посмотрим на связ между стоимостью объекта и датой публикации."
      ]
    },
    {
      "cell_type": "code",
      "execution_count": null,
      "metadata": {
        "scrolled": true,
        "id": "aRn7iyat2EcN",
        "outputId": "ea972cd9-72e6-40e7-8212-7a0f754d41a0"
      },
      "outputs": [
        {
          "name": "stdout",
          "output_type": "stream",
          "text": [
            "               last_price     metr_cost\n",
            "weekday                                \n",
            "Воскресенье  5.302517e+06  94841.147147\n",
            "Вторник      5.509981e+06  96045.602267\n",
            "Понедельник  5.423551e+06  95299.016556\n",
            "Пятница      5.407724e+06  95570.014708\n",
            "Среда        5.552241e+06  96371.030904\n",
            "Суббота      5.323191e+06  94778.443637\n",
            "Четверг      5.547525e+06  95420.570508\n"
          ]
        }
      ],
      "source": [
        "print(df.pivot_table(index=['weekday'], values=['last_price', 'metr_cost']))"
      ]
    },
    {
      "cell_type": "code",
      "execution_count": null,
      "metadata": {
        "scrolled": true,
        "id": "sWWUnuS52EcX",
        "outputId": "81dcefc9-58f2-40ef-ec79-57a91e9c9a63"
      },
      "outputs": [
        {
          "data": {
            "text/plain": [
              "<AxesSubplot:xlabel='weekday'>"
            ]
          },
          "execution_count": 72,
          "metadata": {},
          "output_type": "execute_result"
        },
        {
          "data": {
            "image/png": "[encoded data removed]",
            "text/plain": [
              "<Figure size 720x288 with 1 Axes>"
            ]
          },
          "metadata": {
            "needs_background": "light"
          },
          "output_type": "display_data"
        }
      ],
      "source": [
        "df.pivot_table(index=['weekday'], values=['last_price', 'metr_cost'], aggfunc='median').plot(grid=True, figsize=(10, 4))"
      ]
    },
    {
      "cell_type": "markdown",
      "metadata": {
        "id": "gOj2cUzH2EcZ"
      },
      "source": [
        "Как общая стоимость, так и стоимость кв.м. квартир практически не меняется в течение недели. Возможнов воскресение есть совсем небольшое снижение."
      ]
    },
    {
      "cell_type": "code",
      "execution_count": null,
      "metadata": {
        "scrolled": true,
        "id": "l1kJmwty2EcZ",
        "outputId": "a5dd9282-a6df-4210-b488-f54deeccbc0b"
      },
      "outputs": [
        {
          "name": "stdout",
          "output_type": "stream",
          "text": [
            "       last_price     metr_cost\n",
            "month                          \n",
            "1       4550000.0  94736.842105\n",
            "2       4600000.0  94495.412844\n",
            "3       4600000.0  94866.677123\n",
            "4       4750000.0  95810.595558\n",
            "5       4500000.0  92282.051282\n",
            "6       4350000.0  92215.053763\n",
            "7       4600000.0  94285.714286\n",
            "8       4500000.0  95310.884429\n",
            "9       4650000.0  95223.051410\n",
            "10      4526000.0  93750.000000\n",
            "11      4600000.0  94839.960641\n",
            "12      4600000.0  93362.068966\n"
          ]
        }
      ],
      "source": [
        "print(df.pivot_table(index=['month'], values=['last_price', 'metr_cost'], aggfunc='median'))"
      ]
    },
    {
      "cell_type": "code",
      "execution_count": null,
      "metadata": {
        "id": "R6lNp_Mj2Ecc",
        "outputId": "49a90d73-dcd7-4fed-e953-e05a59526f33"
      },
      "outputs": [
        {
          "data": {
            "text/plain": [
              "<AxesSubplot:xlabel='month'>"
            ]
          },
          "execution_count": 74,
          "metadata": {},
          "output_type": "execute_result"
        },
        {
          "data": {
            "image/png": "[encoded data removed]",
            "text/plain": [
              "<Figure size 720x288 with 1 Axes>"
            ]
          },
          "metadata": {
            "needs_background": "light"
          },
          "output_type": "display_data"
        }
      ],
      "source": [
        "df.pivot_table(index=['month'], values=['last_price', 'metr_cost'], aggfunc='median').plot(grid=True, figsize=(10, 4))"
      ]
    },
    {
      "cell_type": "markdown",
      "metadata": {
        "id": "c9LcxvbV2Ecc"
      },
      "source": [
        "Наблюдаем похожую картину. Стоимость кв.м. неизменна в течении всего года, а вот общая средняя стоимость квартир подвергается некоторым флуктуациям и достигает пикового значения в апреле, а минимального в июне."
      ]
    },
    {
      "cell_type": "code",
      "execution_count": null,
      "metadata": {
        "scrolled": true,
        "id": "D-Jieqq92Ece",
        "outputId": "cb26a2c7-c9dd-4a2b-b8b0-6cb4c0f8a3b7"
      },
      "outputs": [
        {
          "name": "stdout",
          "output_type": "stream",
          "text": [
            "      last_price      metr_cost\n",
            "year                           \n",
            "2014   6500000.0  103489.059728\n",
            "2015   5150000.0   91772.151899\n",
            "2016   4480000.0   91000.000000\n",
            "2017   4450000.0   91851.285190\n",
            "2018   4550000.0   95512.820513\n",
            "2019   5000000.0  102727.272727\n"
          ]
        }
      ],
      "source": [
        "print(df.pivot_table(index=['year'], values=['last_price', 'metr_cost'], aggfunc='median'))"
      ]
    },
    {
      "cell_type": "markdown",
      "metadata": {
        "id": "mljulVO42Ecg"
      },
      "source": [
        "И здесь добавим линейный граффик."
      ]
    },
    {
      "cell_type": "code",
      "execution_count": null,
      "metadata": {
        "id": "MTIXvz-72Ech",
        "outputId": "3bae9c40-0d14-477c-b651-78e1644be70c"
      },
      "outputs": [
        {
          "data": {
            "text/plain": [
              "<AxesSubplot:xlabel='year'>"
            ]
          },
          "execution_count": 76,
          "metadata": {},
          "output_type": "execute_result"
        },
        {
          "data": {
            "image/png": "[encoded data removed]",
            "text/plain": [
              "<Figure size 720x288 with 1 Axes>"
            ]
          },
          "metadata": {
            "needs_background": "light"
          },
          "output_type": "display_data"
        }
      ],
      "source": [
        "df.pivot_table(index=['year'], values=['last_price', 'metr_cost'], aggfunc='median').plot(grid=True, figsize=(10, 4))"
      ]
    },
    {
      "cell_type": "markdown",
      "metadata": {
        "id": "aCQlU9qq2Ecj"
      },
      "source": [
        "Данные показывают значительное снижение стоимости недвижимости в 14-16 годах со средней стоимсоти более 12,7 млн в 2014 до почти 9 млн в 2015 и до чуть более 7 млн в 2016 году. После чего средняя стоимость недвижимости нормализовалась и составила около 6-7 млн в последующие годы."
      ]
    },
    {
      "cell_type": "markdown",
      "metadata": {
        "id": "IUdOOQh12Ecl"
      },
      "source": [
        "### Выберем 10 населенных пунктов с наибольшим колличеством объявлений."
      ]
    },
    {
      "cell_type": "code",
      "execution_count": null,
      "metadata": {
        "scrolled": false,
        "id": "ZXDY2e592Ecm",
        "outputId": "aa4fe0d4-3f16-4b8c-900d-07ccbc626bea"
      },
      "outputs": [
        {
          "name": "stdout",
          "output_type": "stream",
          "text": [
            "                   count\n",
            "locality_name           \n",
            "Санкт-Петербург    15721\n",
            "поселок Мурино       556\n",
            "поселок Шушары       440\n",
            "Всеволожск           398\n",
            "Пушкин               369\n",
            "Колпино              338\n",
            "поселок Парголово    327\n",
            "Гатчина              307\n",
            "деревня Кудрово      299\n",
            "Выборг               237\n"
          ]
        }
      ],
      "source": [
        "print(cities.head(10))"
      ]
    },
    {
      "cell_type": "markdown",
      "metadata": {
        "id": "6KPZUhsQ2Ecn"
      },
      "source": [
        "Создадим новый датафрейм по укзанным населенным пунктам."
      ]
    },
    {
      "cell_type": "code",
      "execution_count": null,
      "metadata": {
        "id": "Jy7ZGX4w2Eco"
      },
      "outputs": [],
      "source": [
        "cities_10 = cities.query('count >= 237')\n",
        "df_cities = df.query('locality_name in @cities_10.index')"
      ]
    },
    {
      "cell_type": "markdown",
      "metadata": {
        "id": "Hi3e_9I_2Ecp"
      },
      "source": [
        "#### Посчитаем среднюю цену квадратного метра в этих населенных пунктах."
      ]
    },
    {
      "cell_type": "code",
      "execution_count": null,
      "metadata": {
        "scrolled": true,
        "id": "L42Z8IRk2Ecr",
        "outputId": "36b5c4cf-b12d-477e-b385-a4e840ae82f7"
      },
      "outputs": [
        {
          "data": {
            "text/plain": [
              "count     18270.000000\n",
              "mean     103656.353507\n",
              "std       28341.684561\n",
              "min       10507.246377\n",
              "25%       85555.555556\n",
              "50%       99980.384615\n",
              "75%      117100.608009\n",
              "max      600000.000000\n",
              "Name: metr_cost, dtype: float64"
            ]
          },
          "execution_count": 79,
          "metadata": {},
          "output_type": "execute_result"
        }
      ],
      "source": [
        "df_cities['metr_cost'].describe()"
      ]
    },
    {
      "cell_type": "markdown",
      "metadata": {
        "id": "09dtiB2C2Ecs"
      },
      "source": [
        "Средняя стоимость кв.м. около 147 тыс, что превыает медианную стоимость, которая составляет около 135 тысяч."
      ]
    },
    {
      "cell_type": "markdown",
      "metadata": {
        "id": "7hAtMVJq2EdA"
      },
      "source": [
        "Чтобы определить населенные пункты с самой высокой и самой низкой средней стоимостью недвижимости, следует создать сводную таблицу."
      ]
    },
    {
      "cell_type": "code",
      "execution_count": null,
      "metadata": {
        "scrolled": true,
        "id": "-S9K3usO2EdA",
        "outputId": "0f69bebc-d51c-4692-a23d-c28ecffd6121"
      },
      "outputs": [
        {
          "data": {
            "text/html": [
              "<div>\n",
              "<style scoped>\n",
              "    .dataframe tbody tr th:only-of-type {\n",
              "        vertical-align: middle;\n",
              "    }\n",
              "\n",
              "    .dataframe tbody tr th {\n",
              "        vertical-align: top;\n",
              "    }\n",
              "\n",
              "    .dataframe thead th {\n",
              "        text-align: right;\n",
              "    }\n",
              "</style>\n",
              "<table border=\"1\" class=\"dataframe\">\n",
              "  <thead>\n",
              "    <tr style=\"text-align: right;\">\n",
              "      <th></th>\n",
              "      <th>last_price</th>\n",
              "      <th>metr_cost</th>\n",
              "    </tr>\n",
              "    <tr>\n",
              "      <th>locality_name</th>\n",
              "      <th></th>\n",
              "      <th></th>\n",
              "    </tr>\n",
              "  </thead>\n",
              "  <tbody>\n",
              "    <tr>\n",
              "      <th>Санкт-Петербург</th>\n",
              "      <td>6.433710e+06</td>\n",
              "      <td>108615.283166</td>\n",
              "    </tr>\n",
              "    <tr>\n",
              "      <th>Пушкин</th>\n",
              "      <td>5.899603e+06</td>\n",
              "      <td>101788.572053</td>\n",
              "    </tr>\n",
              "    <tr>\n",
              "      <th>поселок Парголово</th>\n",
              "      <td>4.488075e+06</td>\n",
              "      <td>90175.913458</td>\n",
              "    </tr>\n",
              "    <tr>\n",
              "      <th>деревня Кудрово</th>\n",
              "      <td>4.234158e+06</td>\n",
              "      <td>92473.547576</td>\n",
              "    </tr>\n",
              "    <tr>\n",
              "      <th>поселок Шушары</th>\n",
              "      <td>4.108082e+06</td>\n",
              "      <td>78677.364217</td>\n",
              "    </tr>\n",
              "    <tr>\n",
              "      <th>Колпино</th>\n",
              "      <td>3.866289e+06</td>\n",
              "      <td>75333.295801</td>\n",
              "    </tr>\n",
              "    <tr>\n",
              "      <th>Всеволожск</th>\n",
              "      <td>3.744117e+06</td>\n",
              "      <td>67275.592779</td>\n",
              "    </tr>\n",
              "    <tr>\n",
              "      <th>поселок Мурино</th>\n",
              "      <td>3.652361e+06</td>\n",
              "      <td>85681.762601</td>\n",
              "    </tr>\n",
              "    <tr>\n",
              "      <th>Гатчина</th>\n",
              "      <td>3.496959e+06</td>\n",
              "      <td>68935.194838</td>\n",
              "    </tr>\n",
              "    <tr>\n",
              "      <th>Выборг</th>\n",
              "      <td>3.292931e+06</td>\n",
              "      <td>58685.669032</td>\n",
              "    </tr>\n",
              "  </tbody>\n",
              "</table>\n",
              "</div>"
            ],
            "text/plain": [
              "                     last_price      metr_cost\n",
              "locality_name                                 \n",
              "Санкт-Петербург    6.433710e+06  108615.283166\n",
              "Пушкин             5.899603e+06  101788.572053\n",
              "поселок Парголово  4.488075e+06   90175.913458\n",
              "деревня Кудрово    4.234158e+06   92473.547576\n",
              "поселок Шушары     4.108082e+06   78677.364217\n",
              "Колпино            3.866289e+06   75333.295801\n",
              "Всеволожск         3.744117e+06   67275.592779\n",
              "поселок Мурино     3.652361e+06   85681.762601\n",
              "Гатчина            3.496959e+06   68935.194838\n",
              "Выборг             3.292931e+06   58685.669032"
            ]
          },
          "execution_count": 80,
          "metadata": {},
          "output_type": "execute_result"
        }
      ],
      "source": [
        "df_cities.pivot_table(index='locality_name', values=['last_price', 'metr_cost']).sort_values('last_price', ascending=False)"
      ]
    },
    {
      "cell_type": "markdown",
      "metadata": {
        "id": "GWkyZXYz2EdB"
      },
      "source": [
        "Ожидаемо, город с самой высокой средней стоимостю недвижимости - Санкт_петербург. Самая низкая стоимость недвижимости из списка в Выборге."
      ]
    },
    {
      "cell_type": "markdown",
      "metadata": {
        "id": "sreayeH32Edg"
      },
      "source": [
        "Создадим отдельный столбец в датафрейме с расстоянием до центра в километрах."
      ]
    },
    {
      "cell_type": "code",
      "execution_count": null,
      "metadata": {
        "scrolled": true,
        "id": "oqA45lPS2Edh",
        "outputId": "78de5407-7a1f-4809-94a4-e513377a0291"
      },
      "outputs": [
        {
          "data": {
            "text/html": [
              "<div>\n",
              "<style scoped>\n",
              "    .dataframe tbody tr th:only-of-type {\n",
              "        vertical-align: middle;\n",
              "    }\n",
              "\n",
              "    .dataframe tbody tr th {\n",
              "        vertical-align: top;\n",
              "    }\n",
              "\n",
              "    .dataframe thead th {\n",
              "        text-align: right;\n",
              "    }\n",
              "</style>\n",
              "<table border=\"1\" class=\"dataframe\">\n",
              "  <thead>\n",
              "    <tr style=\"text-align: right;\">\n",
              "      <th></th>\n",
              "      <th>total_images</th>\n",
              "      <th>last_price</th>\n",
              "      <th>total_area</th>\n",
              "      <th>first_day_exposition</th>\n",
              "      <th>rooms</th>\n",
              "      <th>ceiling_height</th>\n",
              "      <th>floors_total</th>\n",
              "      <th>living_area</th>\n",
              "      <th>floor</th>\n",
              "      <th>is_apartment</th>\n",
              "      <th>...</th>\n",
              "      <th>days_exposition</th>\n",
              "      <th>ceiling_height_category</th>\n",
              "      <th>metr_cost</th>\n",
              "      <th>floor_category</th>\n",
              "      <th>relation_living_area</th>\n",
              "      <th>relation_kitchen_area</th>\n",
              "      <th>weekday</th>\n",
              "      <th>month</th>\n",
              "      <th>year</th>\n",
              "      <th>centre_km</th>\n",
              "    </tr>\n",
              "  </thead>\n",
              "  <tbody>\n",
              "    <tr>\n",
              "      <th>0</th>\n",
              "      <td>20</td>\n",
              "      <td>13000000.0</td>\n",
              "      <td>108.0</td>\n",
              "      <td>2019-03-07</td>\n",
              "      <td>3</td>\n",
              "      <td>2.70</td>\n",
              "      <td>16.0</td>\n",
              "      <td>51.0</td>\n",
              "      <td>8</td>\n",
              "      <td>False</td>\n",
              "      <td>...</td>\n",
              "      <td>NaN</td>\n",
              "      <td>2.4-2.8</td>\n",
              "      <td>120370.370370</td>\n",
              "      <td>другой</td>\n",
              "      <td>0.472222</td>\n",
              "      <td>0.231481</td>\n",
              "      <td>Четверг</td>\n",
              "      <td>3</td>\n",
              "      <td>2019</td>\n",
              "      <td>16.0</td>\n",
              "    </tr>\n",
              "    <tr>\n",
              "      <th>2</th>\n",
              "      <td>10</td>\n",
              "      <td>5196000.0</td>\n",
              "      <td>56.0</td>\n",
              "      <td>2015-08-20</td>\n",
              "      <td>2</td>\n",
              "      <td>NaN</td>\n",
              "      <td>5.0</td>\n",
              "      <td>34.3</td>\n",
              "      <td>4</td>\n",
              "      <td>False</td>\n",
              "      <td>...</td>\n",
              "      <td>558.0</td>\n",
              "      <td>2.4-2.8</td>\n",
              "      <td>92785.714286</td>\n",
              "      <td>другой</td>\n",
              "      <td>0.612500</td>\n",
              "      <td>0.148214</td>\n",
              "      <td>Четверг</td>\n",
              "      <td>8</td>\n",
              "      <td>2015</td>\n",
              "      <td>14.0</td>\n",
              "    </tr>\n",
              "    <tr>\n",
              "      <th>4</th>\n",
              "      <td>2</td>\n",
              "      <td>10000000.0</td>\n",
              "      <td>100.0</td>\n",
              "      <td>2018-06-19</td>\n",
              "      <td>2</td>\n",
              "      <td>3.03</td>\n",
              "      <td>14.0</td>\n",
              "      <td>32.0</td>\n",
              "      <td>13</td>\n",
              "      <td>False</td>\n",
              "      <td>...</td>\n",
              "      <td>121.0</td>\n",
              "      <td>2.9-3.6</td>\n",
              "      <td>100000.000000</td>\n",
              "      <td>другой</td>\n",
              "      <td>0.320000</td>\n",
              "      <td>0.410000</td>\n",
              "      <td>Вторник</td>\n",
              "      <td>6</td>\n",
              "      <td>2018</td>\n",
              "      <td>8.0</td>\n",
              "    </tr>\n",
              "    <tr>\n",
              "      <th>7</th>\n",
              "      <td>5</td>\n",
              "      <td>7915000.0</td>\n",
              "      <td>71.6</td>\n",
              "      <td>2019-04-18</td>\n",
              "      <td>2</td>\n",
              "      <td>NaN</td>\n",
              "      <td>24.0</td>\n",
              "      <td>NaN</td>\n",
              "      <td>22</td>\n",
              "      <td>False</td>\n",
              "      <td>...</td>\n",
              "      <td>NaN</td>\n",
              "      <td>2.4-2.8</td>\n",
              "      <td>110544.692737</td>\n",
              "      <td>другой</td>\n",
              "      <td>NaN</td>\n",
              "      <td>0.263966</td>\n",
              "      <td>Четверг</td>\n",
              "      <td>4</td>\n",
              "      <td>2019</td>\n",
              "      <td>12.0</td>\n",
              "    </tr>\n",
              "    <tr>\n",
              "      <th>9</th>\n",
              "      <td>18</td>\n",
              "      <td>5400000.0</td>\n",
              "      <td>61.0</td>\n",
              "      <td>2017-02-26</td>\n",
              "      <td>3</td>\n",
              "      <td>2.50</td>\n",
              "      <td>9.0</td>\n",
              "      <td>43.6</td>\n",
              "      <td>7</td>\n",
              "      <td>False</td>\n",
              "      <td>...</td>\n",
              "      <td>289.0</td>\n",
              "      <td>2.4-2.8</td>\n",
              "      <td>88524.590164</td>\n",
              "      <td>другой</td>\n",
              "      <td>0.714754</td>\n",
              "      <td>0.106557</td>\n",
              "      <td>Воскресенье</td>\n",
              "      <td>2</td>\n",
              "      <td>2017</td>\n",
              "      <td>15.0</td>\n",
              "    </tr>\n",
              "  </tbody>\n",
              "</table>\n",
              "<p>5 rows × 29 columns</p>\n",
              "</div>"
            ],
            "text/plain": [
              "   total_images  last_price  total_area first_day_exposition  rooms  \\\n",
              "0            20  13000000.0       108.0           2019-03-07      3   \n",
              "2            10   5196000.0        56.0           2015-08-20      2   \n",
              "4             2  10000000.0       100.0           2018-06-19      2   \n",
              "7             5   7915000.0        71.6           2019-04-18      2   \n",
              "9            18   5400000.0        61.0           2017-02-26      3   \n",
              "\n",
              "   ceiling_height  floors_total  living_area  floor  is_apartment  ...  \\\n",
              "0            2.70          16.0         51.0      8         False  ...   \n",
              "2             NaN           5.0         34.3      4         False  ...   \n",
              "4            3.03          14.0         32.0     13         False  ...   \n",
              "7             NaN          24.0          NaN     22         False  ...   \n",
              "9            2.50           9.0         43.6      7         False  ...   \n",
              "\n",
              "   days_exposition  ceiling_height_category      metr_cost  floor_category  \\\n",
              "0              NaN                  2.4-2.8  120370.370370          другой   \n",
              "2            558.0                  2.4-2.8   92785.714286          другой   \n",
              "4            121.0                  2.9-3.6  100000.000000          другой   \n",
              "7              NaN                  2.4-2.8  110544.692737          другой   \n",
              "9            289.0                  2.4-2.8   88524.590164          другой   \n",
              "\n",
              "  relation_living_area  relation_kitchen_area      weekday  month  year  \\\n",
              "0             0.472222               0.231481      Четверг      3  2019   \n",
              "2             0.612500               0.148214      Четверг      8  2015   \n",
              "4             0.320000               0.410000      Вторник      6  2018   \n",
              "7                  NaN               0.263966      Четверг      4  2019   \n",
              "9             0.714754               0.106557  Воскресенье      2  2017   \n",
              "\n",
              "   centre_km  \n",
              "0       16.0  \n",
              "2       14.0  \n",
              "4        8.0  \n",
              "7       12.0  \n",
              "9       15.0  \n",
              "\n",
              "[5 rows x 29 columns]"
            ]
          },
          "metadata": {},
          "output_type": "display_data"
        }
      ],
      "source": [
        "import warnings\n",
        "warnings.filterwarnings(\"ignore\")\n",
        "df_spb['centre_km'] = df_spb['cityCenters_nearest'] / 1000\n",
        "df_spb['centre_km'] = df_spb['centre_km'].round()\n",
        "display(df_spb.head())"
      ]
    },
    {
      "cell_type": "markdown",
      "metadata": {
        "id": "wc09yjsc2Edi"
      },
      "source": [
        "Посчитаем среднюю цену для каждого километра."
      ]
    },
    {
      "cell_type": "code",
      "execution_count": null,
      "metadata": {
        "scrolled": true,
        "id": "wNMPCvnW2Edi",
        "outputId": "077a1203-ce9e-4aa2-8180-6db0de1b69e7"
      },
      "outputs": [
        {
          "name": "stdout",
          "output_type": "stream",
          "text": [
            "               metr_cost\n",
            "centre_km               \n",
            "0.0        118153.215310\n",
            "1.0        129643.925472\n",
            "2.0        122138.107993\n",
            "3.0        112994.403271\n",
            "4.0        120668.307919\n",
            "5.0        125342.390243\n",
            "6.0        126724.902726\n",
            "7.0        123837.738523\n",
            "8.0        121442.994158\n",
            "9.0        110442.247045\n",
            "10.0       111223.571123\n",
            "11.0       107316.646959\n",
            "12.0       107119.390603\n",
            "13.0       107688.318077\n",
            "14.0       104177.427410\n",
            "15.0       103912.724766\n",
            "16.0       100184.199692\n",
            "17.0        96309.492256\n",
            "18.0        96308.935932\n",
            "19.0        98652.736027\n",
            "20.0       103045.181922\n",
            "21.0        94469.584582\n",
            "22.0        91330.425050\n",
            "23.0        91828.517765\n",
            "24.0        85736.904595\n",
            "25.0        91531.371618\n",
            "26.0        89285.876593\n",
            "27.0       132115.709459\n",
            "28.0        81161.915320\n",
            "29.0        72953.365445\n"
          ]
        }
      ],
      "source": [
        "price_km = df_spb.pivot_table(index='centre_km', values=['metr_cost'])\n",
        "print(price_km)"
      ]
    },
    {
      "cell_type": "markdown",
      "metadata": {
        "id": "8NlNaQr42Edj"
      },
      "source": [
        "Построим график изменения цены по километрам."
      ]
    },
    {
      "cell_type": "code",
      "execution_count": null,
      "metadata": {
        "id": "aOstVeud2Edk",
        "outputId": "57520eb3-5b2e-478d-a549-4415d846e512"
      },
      "outputs": [
        {
          "data": {
            "text/plain": [
              "<AxesSubplot:xlabel='centre_km'>"
            ]
          },
          "execution_count": 83,
          "metadata": {},
          "output_type": "execute_result"
        },
        {
          "data": {
            "image/png": "[encoded data removed]",
            "text/plain": [
              "<Figure size 864x432 with 1 Axes>"
            ]
          },
          "metadata": {
            "needs_background": "light"
          },
          "output_type": "display_data"
        }
      ],
      "source": [
        "import matplotlib.pyplot as plt\n",
        "price_km.plot(style='o-', grid=True, figsize=(12, 6))"
      ]
    },
    {
      "cell_type": "markdown",
      "metadata": {
        "id": "a4qza3WK2Edp"
      },
      "source": [
        "Центральная зона  характеризуется значительным снижением стоимости и резкими скачками по причине неоднородности. Соответственно граница определяется изменением поведения графика на более пологое снижение.\n",
        "    \n",
        "Следовательно граница в 10 км кажеется наиболее логичной."
      ]
    },
    {
      "cell_type": "markdown",
      "metadata": {
        "id": "1olrgAkn2Edq"
      },
      "source": [
        "#### Проанализируем квартиры расположенные в центре Санкт-Петербурга.\n",
        "\n",
        "Создадим новый датафрейм с условием расстояния объекта недвижимости не более 3 км от центра."
      ]
    },
    {
      "cell_type": "code",
      "execution_count": null,
      "metadata": {
        "id": "EloCFDmA2Eds",
        "outputId": "9dba7e55-9c8c-4640-8d46-183c0f4d4149"
      },
      "outputs": [
        {
          "data": {
            "text/html": [
              "<div>\n",
              "<style scoped>\n",
              "    .dataframe tbody tr th:only-of-type {\n",
              "        vertical-align: middle;\n",
              "    }\n",
              "\n",
              "    .dataframe tbody tr th {\n",
              "        vertical-align: top;\n",
              "    }\n",
              "\n",
              "    .dataframe thead th {\n",
              "        text-align: right;\n",
              "    }\n",
              "</style>\n",
              "<table border=\"1\" class=\"dataframe\">\n",
              "  <thead>\n",
              "    <tr style=\"text-align: right;\">\n",
              "      <th></th>\n",
              "      <th>total_images</th>\n",
              "      <th>last_price</th>\n",
              "      <th>total_area</th>\n",
              "      <th>first_day_exposition</th>\n",
              "      <th>rooms</th>\n",
              "      <th>ceiling_height</th>\n",
              "      <th>floors_total</th>\n",
              "      <th>living_area</th>\n",
              "      <th>floor</th>\n",
              "      <th>is_apartment</th>\n",
              "      <th>...</th>\n",
              "      <th>days_exposition</th>\n",
              "      <th>ceiling_height_category</th>\n",
              "      <th>metr_cost</th>\n",
              "      <th>floor_category</th>\n",
              "      <th>relation_living_area</th>\n",
              "      <th>relation_kitchen_area</th>\n",
              "      <th>weekday</th>\n",
              "      <th>month</th>\n",
              "      <th>year</th>\n",
              "      <th>centre_km</th>\n",
              "    </tr>\n",
              "  </thead>\n",
              "  <tbody>\n",
              "    <tr>\n",
              "      <th>4</th>\n",
              "      <td>2</td>\n",
              "      <td>10000000.0</td>\n",
              "      <td>100.0</td>\n",
              "      <td>2018-06-19</td>\n",
              "      <td>2</td>\n",
              "      <td>3.03</td>\n",
              "      <td>14.0</td>\n",
              "      <td>32.0</td>\n",
              "      <td>13</td>\n",
              "      <td>False</td>\n",
              "      <td>...</td>\n",
              "      <td>121.0</td>\n",
              "      <td>2.9-3.6</td>\n",
              "      <td>100000.000000</td>\n",
              "      <td>другой</td>\n",
              "      <td>0.320000</td>\n",
              "      <td>0.410000</td>\n",
              "      <td>Вторник</td>\n",
              "      <td>6</td>\n",
              "      <td>2018</td>\n",
              "      <td>8.0</td>\n",
              "    </tr>\n",
              "    <tr>\n",
              "      <th>21</th>\n",
              "      <td>13</td>\n",
              "      <td>3200000.0</td>\n",
              "      <td>31.6</td>\n",
              "      <td>2018-03-14</td>\n",
              "      <td>1</td>\n",
              "      <td>NaN</td>\n",
              "      <td>5.0</td>\n",
              "      <td>16.9</td>\n",
              "      <td>2</td>\n",
              "      <td>False</td>\n",
              "      <td>...</td>\n",
              "      <td>310.0</td>\n",
              "      <td>2.4-2.8</td>\n",
              "      <td>101265.822785</td>\n",
              "      <td>другой</td>\n",
              "      <td>0.534810</td>\n",
              "      <td>0.180380</td>\n",
              "      <td>Среда</td>\n",
              "      <td>3</td>\n",
              "      <td>2018</td>\n",
              "      <td>10.0</td>\n",
              "    </tr>\n",
              "    <tr>\n",
              "      <th>24</th>\n",
              "      <td>8</td>\n",
              "      <td>6500000.0</td>\n",
              "      <td>97.2</td>\n",
              "      <td>2015-10-31</td>\n",
              "      <td>2</td>\n",
              "      <td>NaN</td>\n",
              "      <td>3.0</td>\n",
              "      <td>46.5</td>\n",
              "      <td>1</td>\n",
              "      <td>False</td>\n",
              "      <td>...</td>\n",
              "      <td>265.0</td>\n",
              "      <td>2.4-2.8</td>\n",
              "      <td>66872.427984</td>\n",
              "      <td>первый</td>\n",
              "      <td>0.478395</td>\n",
              "      <td>0.201646</td>\n",
              "      <td>Суббота</td>\n",
              "      <td>10</td>\n",
              "      <td>2015</td>\n",
              "      <td>2.0</td>\n",
              "    </tr>\n",
              "    <tr>\n",
              "      <th>35</th>\n",
              "      <td>6</td>\n",
              "      <td>15500000.0</td>\n",
              "      <td>149.0</td>\n",
              "      <td>2017-06-26</td>\n",
              "      <td>5</td>\n",
              "      <td>NaN</td>\n",
              "      <td>5.0</td>\n",
              "      <td>104.0</td>\n",
              "      <td>4</td>\n",
              "      <td>False</td>\n",
              "      <td>...</td>\n",
              "      <td>644.0</td>\n",
              "      <td>2.4-2.8</td>\n",
              "      <td>104026.845638</td>\n",
              "      <td>другой</td>\n",
              "      <td>0.697987</td>\n",
              "      <td>0.114094</td>\n",
              "      <td>Понедельник</td>\n",
              "      <td>6</td>\n",
              "      <td>2017</td>\n",
              "      <td>4.0</td>\n",
              "    </tr>\n",
              "    <tr>\n",
              "      <th>52</th>\n",
              "      <td>20</td>\n",
              "      <td>11795000.0</td>\n",
              "      <td>136.0</td>\n",
              "      <td>2017-09-22</td>\n",
              "      <td>6</td>\n",
              "      <td>3.00</td>\n",
              "      <td>2.0</td>\n",
              "      <td>94.0</td>\n",
              "      <td>2</td>\n",
              "      <td>False</td>\n",
              "      <td>...</td>\n",
              "      <td>NaN</td>\n",
              "      <td>2.9-3.6</td>\n",
              "      <td>86727.941176</td>\n",
              "      <td>последний</td>\n",
              "      <td>0.691176</td>\n",
              "      <td>0.080882</td>\n",
              "      <td>Пятница</td>\n",
              "      <td>9</td>\n",
              "      <td>2017</td>\n",
              "      <td>7.0</td>\n",
              "    </tr>\n",
              "  </tbody>\n",
              "</table>\n",
              "<p>5 rows × 29 columns</p>\n",
              "</div>"
            ],
            "text/plain": [
              "    total_images  last_price  total_area first_day_exposition  rooms  \\\n",
              "4              2  10000000.0       100.0           2018-06-19      2   \n",
              "21            13   3200000.0        31.6           2018-03-14      1   \n",
              "24             8   6500000.0        97.2           2015-10-31      2   \n",
              "35             6  15500000.0       149.0           2017-06-26      5   \n",
              "52            20  11795000.0       136.0           2017-09-22      6   \n",
              "\n",
              "    ceiling_height  floors_total  living_area  floor  is_apartment  ...  \\\n",
              "4             3.03          14.0         32.0     13         False  ...   \n",
              "21             NaN           5.0         16.9      2         False  ...   \n",
              "24             NaN           3.0         46.5      1         False  ...   \n",
              "35             NaN           5.0        104.0      4         False  ...   \n",
              "52            3.00           2.0         94.0      2         False  ...   \n",
              "\n",
              "    days_exposition  ceiling_height_category      metr_cost  floor_category  \\\n",
              "4             121.0                  2.9-3.6  100000.000000          другой   \n",
              "21            310.0                  2.4-2.8  101265.822785          другой   \n",
              "24            265.0                  2.4-2.8   66872.427984          первый   \n",
              "35            644.0                  2.4-2.8  104026.845638          другой   \n",
              "52              NaN                  2.9-3.6   86727.941176       последний   \n",
              "\n",
              "   relation_living_area  relation_kitchen_area      weekday  month  year  \\\n",
              "4              0.320000               0.410000      Вторник      6  2018   \n",
              "21             0.534810               0.180380        Среда      3  2018   \n",
              "24             0.478395               0.201646      Суббота     10  2015   \n",
              "35             0.697987               0.114094  Понедельник      6  2017   \n",
              "52             0.691176               0.080882      Пятница      9  2017   \n",
              "\n",
              "    centre_km  \n",
              "4         8.0  \n",
              "21       10.0  \n",
              "24        2.0  \n",
              "35        4.0  \n",
              "52        7.0  \n",
              "\n",
              "[5 rows x 29 columns]"
            ]
          },
          "metadata": {},
          "output_type": "display_data"
        }
      ],
      "source": [
        "df_sbp_centr = df_spb.query('cityCenters_nearest <= 10000')\n",
        "display(df_sbp_centr.head())"
      ]
    },
    {
      "cell_type": "markdown",
      "metadata": {
        "id": "QqfrO7Qt2Edt"
      },
      "source": [
        "Изучим в новом датафрейме данные по площади, цене, числу комнат, высоте потолков."
      ]
    },
    {
      "cell_type": "code",
      "execution_count": null,
      "metadata": {
        "id": "a1w8tXip2Edt",
        "outputId": "6a26ed94-b763-4a3d-f071-df4ad26e1b48"
      },
      "outputs": [
        {
          "data": {
            "text/plain": [
              "count    4462.000000\n",
              "mean       71.793557\n",
              "std        32.989198\n",
              "min        12.000000\n",
              "25%        46.800000\n",
              "50%        66.000000\n",
              "75%        88.375000\n",
              "max       309.700000\n",
              "Name: total_area, dtype: float64"
            ]
          },
          "execution_count": 86,
          "metadata": {},
          "output_type": "execute_result"
        }
      ],
      "source": [
        "df_sbp_centr['total_area'].describe()"
      ]
    },
    {
      "cell_type": "code",
      "execution_count": null,
      "metadata": {
        "scrolled": false,
        "id": "icHVbhYs2Edu",
        "outputId": "bd7cabba-0736-404e-d4d8-9c313c7aba6a"
      },
      "outputs": [
        {
          "data": {
            "text/plain": [
              "<AxesSubplot:>"
            ]
          },
          "execution_count": 87,
          "metadata": {},
          "output_type": "execute_result"
        },
        {
          "data": {
            "image/png": "[encoded data removed]",
            "text/plain": [
              "<Figure size 432x288 with 1 Axes>"
            ]
          },
          "metadata": {
            "needs_background": "light"
          },
          "output_type": "display_data"
        }
      ],
      "source": [
        "df_sbp_centr['total_area'].hist(bins=30)"
      ]
    },
    {
      "cell_type": "markdown",
      "metadata": {
        "id": "vdPUsYwg2Edv"
      },
      "source": [
        "Большая часть представленных квартир в центре Санкт_петербурга имеют площадь от 35 да 100 кв.м. Однако, достаточно многоквартир площадью до 200 метров."
      ]
    },
    {
      "cell_type": "code",
      "execution_count": null,
      "metadata": {
        "id": "sJgd6kGp2Edw",
        "outputId": "30ebfacf-e4aa-4bf1-809e-f517a200529f"
      },
      "outputs": [
        {
          "data": {
            "text/plain": [
              "count    4.462000e+03\n",
              "mean     8.375045e+06\n",
              "std      3.876235e+06\n",
              "min      1.600000e+06\n",
              "25%      5.400000e+06\n",
              "50%      7.500000e+06\n",
              "75%      1.054750e+07\n",
              "max      1.999900e+07\n",
              "Name: last_price, dtype: float64"
            ]
          },
          "execution_count": 88,
          "metadata": {},
          "output_type": "execute_result"
        }
      ],
      "source": [
        "df_sbp_centr['last_price'].describe()"
      ]
    },
    {
      "cell_type": "markdown",
      "metadata": {
        "id": "qB8SXOSk2Edx"
      },
      "source": [
        "После удаления вбросов по цене отклонения не кажутся большими. Все данные выглядят предельно логично."
      ]
    },
    {
      "cell_type": "code",
      "execution_count": null,
      "metadata": {
        "scrolled": true,
        "id": "3MjCktW32Edy",
        "outputId": "536bc7c1-2657-4149-d082-8e965f55a6ab"
      },
      "outputs": [
        {
          "data": {
            "text/plain": [
              "<AxesSubplot:>"
            ]
          },
          "execution_count": 89,
          "metadata": {},
          "output_type": "execute_result"
        },
        {
          "data": {
            "image/png": "[encoded data removed]",
            "text/plain": [
              "<Figure size 432x288 with 1 Axes>"
            ]
          },
          "metadata": {
            "needs_background": "light"
          },
          "output_type": "display_data"
        }
      ],
      "source": [
        "#df_sbp_centr['last_price'].hist(bins=30, range=(3000000, 20000000))\n",
        "df_sbp_centr['last_price'].hist(bins=30)"
      ]
    },
    {
      "cell_type": "markdown",
      "metadata": {
        "id": "6qQxVlRQ2Ed0"
      },
      "source": [
        "Увеличение размеров центра до радиуса в 10 км. немного изменили данные. Мы видим больший диапазан цен, где наибольшее количество объявлений предствлено в диапазоне от 4 до 9 млн. Врядли на эти данные можно серьезно ссылаться, так как некорректно их оценивать в разрыве от площади квартиры либо количества комнат."
      ]
    },
    {
      "cell_type": "code",
      "execution_count": null,
      "metadata": {
        "scrolled": true,
        "id": "PqCqu76J2Ed5",
        "outputId": "25d30b2f-ef88-40af-eeff-3965ae042faf"
      },
      "outputs": [
        {
          "data": {
            "text/plain": [
              "count    4462.000000\n",
              "mean        2.435231\n",
              "std         1.181451\n",
              "min         0.000000\n",
              "25%         2.000000\n",
              "50%         2.000000\n",
              "75%         3.000000\n",
              "max        11.000000\n",
              "Name: rooms, dtype: float64"
            ]
          },
          "execution_count": 90,
          "metadata": {},
          "output_type": "execute_result"
        }
      ],
      "source": [
        "df_sbp_centr['rooms'].describe()"
      ]
    },
    {
      "cell_type": "code",
      "execution_count": null,
      "metadata": {
        "scrolled": true,
        "id": "KogOkNNi2Ed6",
        "outputId": "191fff12-1eb0-4aea-d8ed-d261e819445f"
      },
      "outputs": [
        {
          "data": {
            "text/plain": [
              "<AxesSubplot:>"
            ]
          },
          "execution_count": 91,
          "metadata": {},
          "output_type": "execute_result"
        },
        {
          "data": {
            "image/png": "[encoded data removed]",
            "text/plain": [
              "<Figure size 432x288 with 1 Axes>"
            ]
          },
          "metadata": {
            "needs_background": "light"
          },
          "output_type": "display_data"
        }
      ],
      "source": [
        "df_sbp_centr['rooms'].hist(bins=14)"
      ]
    },
    {
      "cell_type": "markdown",
      "metadata": {
        "id": "wu21pyvA2Ed7"
      },
      "source": [
        "Квартиры в центре Санкт_петербургачаще имеют от 2 до 5 комнат, значительно реже 1, 6,7 и практически единичные случаи, когда комнат больше."
      ]
    },
    {
      "cell_type": "code",
      "execution_count": null,
      "metadata": {
        "id": "Sg7wod2M2Ed8",
        "outputId": "92976d96-b682-4591-add2-5edda3b2ac77"
      },
      "outputs": [
        {
          "data": {
            "text/plain": [
              "count    2899.000000\n",
              "mean        3.038700\n",
              "std         2.094204\n",
              "min         2.000000\n",
              "25%         2.700000\n",
              "50%         3.000000\n",
              "75%         3.180000\n",
              "max       100.000000\n",
              "Name: ceiling_height, dtype: float64"
            ]
          },
          "execution_count": 92,
          "metadata": {},
          "output_type": "execute_result"
        }
      ],
      "source": [
        "df_sbp_centr['ceiling_height'].describe()"
      ]
    },
    {
      "cell_type": "code",
      "execution_count": null,
      "metadata": {
        "scrolled": true,
        "id": "mn2CsKAs2Ed9",
        "outputId": "b19d491a-bd12-4cc2-b477-60e0a494772c"
      },
      "outputs": [
        {
          "data": {
            "text/plain": [
              "<AxesSubplot:>"
            ]
          },
          "execution_count": 93,
          "metadata": {},
          "output_type": "execute_result"
        },
        {
          "data": {
            "image/png": "[encoded data removed]",
            "text/plain": [
              "<Figure size 432x288 with 1 Axes>"
            ]
          },
          "metadata": {
            "needs_background": "light"
          },
          "output_type": "display_data"
        }
      ],
      "source": [
        "df_sbp_centr['ceiling_height'].hist(bins=6, range=(2, 6))"
      ]
    },
    {
      "cell_type": "markdown",
      "metadata": {
        "id": "pXhy62u42Ed-"
      },
      "source": [
        "С высотой потолков тоже все предельно логично. Основная часть квартир в центре имеет потолки от 2.5 до 3.6 м."
      ]
    },
    {
      "cell_type": "markdown",
      "metadata": {
        "id": "0jMpY5zq2EeB"
      },
      "source": [
        "### Оценим влияние различных факторов на стоимость квартир  в центре."
      ]
    },
    {
      "cell_type": "markdown",
      "metadata": {
        "id": "zKHeGZVl2EeC"
      },
      "source": [
        "#### Начнем с удаленности от центра."
      ]
    },
    {
      "cell_type": "code",
      "execution_count": null,
      "metadata": {
        "scrolled": true,
        "id": "4kFEEu2E2EeC",
        "outputId": "a7607055-d6f1-4657-e6bf-57a7ac8fe39a"
      },
      "outputs": [
        {
          "data": {
            "text/plain": [
              "<AxesSubplot:xlabel='centre_km'>"
            ]
          },
          "execution_count": 94,
          "metadata": {},
          "output_type": "execute_result"
        },
        {
          "data": {
            "image/png": "[encoded data removed]",
            "text/plain": [
              "<Figure size 576x288 with 1 Axes>"
            ]
          },
          "metadata": {
            "needs_background": "light"
          },
          "output_type": "display_data"
        }
      ],
      "source": [
        "price_km_centre = df_sbp_centr.pivot_table(index='centre_km', values=['metr_cost'])\n",
        "price_km_centre.plot(style='o-', grid=True, figsize=(8, 4))"
      ]
    },
    {
      "cell_type": "markdown",
      "metadata": {
        "id": "0X_neJwE2EeD"
      },
      "source": [
        "Общее снижение стоимости объектов недвижимости в связи с удалением от центра, несмотря на флуктуации."
      ]
    },
    {
      "cell_type": "markdown",
      "metadata": {
        "id": "P7gJ2HoC2EeE"
      },
      "source": [
        "Посчитаем корреляцию."
      ]
    },
    {
      "cell_type": "code",
      "execution_count": null,
      "metadata": {
        "id": "NPea5SDm2EeE",
        "outputId": "9b7a9f73-1b65-496d-9208-1f6f97111a0f"
      },
      "outputs": [
        {
          "name": "stdout",
          "output_type": "stream",
          "text": [
            "-0.09835426932188475\n"
          ]
        }
      ],
      "source": [
        "print(df_sbp_centr['centre_km'].corr(df_sbp_centr['metr_cost']))"
      ]
    },
    {
      "cell_type": "markdown",
      "metadata": {
        "id": "Fz57iCdm2EeF"
      },
      "source": [
        "Очень слабая связь, не смотря на общую тенденцию. Видимо на расстоянии 3 км от центра есть какая-то непопулярная зона, приводящая к снижению стоимости квартир."
      ]
    },
    {
      "cell_type": "markdown",
      "metadata": {
        "id": "3O2eO12N2EeI"
      },
      "source": [
        "#### Оценим связь между количеством комнат и средней стоимостью."
      ]
    },
    {
      "cell_type": "code",
      "execution_count": null,
      "metadata": {
        "scrolled": true,
        "id": "OuWFwDhF2EeJ",
        "outputId": "988f5c31-2fa7-42af-d045-e8d0ae613ce9"
      },
      "outputs": [
        {
          "data": {
            "text/plain": [
              "<AxesSubplot:xlabel='rooms'>"
            ]
          },
          "execution_count": 96,
          "metadata": {},
          "output_type": "execute_result"
        },
        {
          "data": {
            "image/png": "[encoded data removed]",
            "text/plain": [
              "<Figure size 576x288 with 1 Axes>"
            ]
          },
          "metadata": {
            "needs_background": "light"
          },
          "output_type": "display_data"
        }
      ],
      "source": [
        "price_rooms_centre = df_sbp_centr.pivot_table(index='rooms', values=['metr_cost'])\n",
        "price_rooms_centre.plot(style='o-', grid=True, figsize=(8, 4))"
      ]
    },
    {
      "cell_type": "markdown",
      "metadata": {
        "id": "zZddD7aG2EeK"
      },
      "source": [
        "Корреляция"
      ]
    },
    {
      "cell_type": "code",
      "execution_count": null,
      "metadata": {
        "id": "t_UsUn8o2EeN",
        "outputId": "ffe6a716-192c-4b26-b564-2651584d6537"
      },
      "outputs": [
        {
          "name": "stdout",
          "output_type": "stream",
          "text": [
            "-0.31880246840945886\n"
          ]
        }
      ],
      "source": [
        "print(df_sbp_centr['rooms'].corr(df_sbp_centr['metr_cost']))"
      ]
    },
    {
      "cell_type": "markdown",
      "metadata": {
        "id": "AGwoleNA2EeP"
      },
      "source": [
        "Наблюдаем отрицательную корреляцию, что логино. По мере увеличения количества комнат стоимость кв.м. падает. что кажется логичным. Небольшие квартиры более ликвидны и легче продаются. В тоже время видим всплеск на одиннадцати - комнатные квариры. Довольно странно. Посмотрим на их колличество, возможно вброс."
      ]
    },
    {
      "cell_type": "code",
      "execution_count": null,
      "metadata": {
        "id": "yVC3j2bh2EeQ",
        "outputId": "a0002ed9-2a5f-4793-c29b-def31b1577e3"
      },
      "outputs": [
        {
          "name": "stdout",
          "output_type": "stream",
          "text": [
            "2\n"
          ]
        }
      ],
      "source": [
        "print(len(df_sbp_centr.query('rooms > 9')))"
      ]
    },
    {
      "cell_type": "markdown",
      "metadata": {
        "id": "1cSSGeqm2EeR"
      },
      "source": [
        "Игноримруем. \n",
        "    "
      ]
    },
    {
      "cell_type": "markdown",
      "metadata": {
        "id": "JFcysgka2EeS"
      },
      "source": [
        "#### Проверим связь с этажом."
      ]
    },
    {
      "cell_type": "code",
      "execution_count": null,
      "metadata": {
        "scrolled": true,
        "id": "QzY_e7N62EeS",
        "outputId": "6d545881-459b-43ee-8e65-94c329ba7abc"
      },
      "outputs": [
        {
          "data": {
            "text/plain": [
              "<AxesSubplot:xlabel='floor'>"
            ]
          },
          "execution_count": 99,
          "metadata": {},
          "output_type": "execute_result"
        },
        {
          "data": {
            "image/png": "[encoded data removed]",
            "text/plain": [
              "<Figure size 576x288 with 1 Axes>"
            ]
          },
          "metadata": {
            "needs_background": "light"
          },
          "output_type": "display_data"
        }
      ],
      "source": [
        "price_floor_centre = df_sbp_centr.pivot_table(index='floor', values=['metr_cost'])\n",
        "price_floor_centre.plot(style='o-', grid=True, figsize=(8, 4))"
      ]
    },
    {
      "cell_type": "markdown",
      "metadata": {
        "id": "SYmsCru-2EeT"
      },
      "source": [
        "И на этом графике мы видим очевидную связь между стоимостью кв.м. и этажом. Странно, но чем выше расположен объект недвижимости, тем выше средняя стоимость кв.м. Причем после 5 этажа наблюдается ЗНАЧИТЕЛЬНЫЙ рост."
      ]
    },
    {
      "cell_type": "markdown",
      "metadata": {
        "id": "r_TvRS2j2EeV"
      },
      "source": [
        "Корреляция"
      ]
    },
    {
      "cell_type": "code",
      "execution_count": null,
      "metadata": {
        "id": "PFkuMh0a2EeW",
        "outputId": "8a47c730-d198-40f9-b88c-dbe66f6d45e0"
      },
      "outputs": [
        {
          "name": "stdout",
          "output_type": "stream",
          "text": [
            "0.13494065196874194\n"
          ]
        }
      ],
      "source": [
        "print(df_sbp_centr['floor'].corr(df_sbp_centr['metr_cost']))"
      ]
    },
    {
      "cell_type": "markdown",
      "metadata": {
        "id": "tq5I87Uz2EeZ"
      },
      "source": [
        "Логично"
      ]
    },
    {
      "cell_type": "code",
      "execution_count": null,
      "metadata": {
        "scrolled": true,
        "id": "9qSG95ES2Eea",
        "outputId": "7bcda941-7127-465e-c16e-048f840e9088"
      },
      "outputs": [
        {
          "data": {
            "text/html": [
              "<div>\n",
              "<style scoped>\n",
              "    .dataframe tbody tr th:only-of-type {\n",
              "        vertical-align: middle;\n",
              "    }\n",
              "\n",
              "    .dataframe tbody tr th {\n",
              "        vertical-align: top;\n",
              "    }\n",
              "\n",
              "    .dataframe thead th {\n",
              "        text-align: right;\n",
              "    }\n",
              "</style>\n",
              "<table border=\"1\" class=\"dataframe\">\n",
              "  <thead>\n",
              "    <tr style=\"text-align: right;\">\n",
              "      <th></th>\n",
              "      <th>metr_cost</th>\n",
              "    </tr>\n",
              "    <tr>\n",
              "      <th>floor_category</th>\n",
              "      <th></th>\n",
              "    </tr>\n",
              "  </thead>\n",
              "  <tbody>\n",
              "    <tr>\n",
              "      <th>другой</th>\n",
              "      <td>99291.576007</td>\n",
              "    </tr>\n",
              "    <tr>\n",
              "      <th>первый</th>\n",
              "      <td>81926.983248</td>\n",
              "    </tr>\n",
              "    <tr>\n",
              "      <th>последний</th>\n",
              "      <td>87929.031484</td>\n",
              "    </tr>\n",
              "  </tbody>\n",
              "</table>\n",
              "</div>"
            ],
            "text/plain": [
              "                   metr_cost\n",
              "floor_category              \n",
              "другой          99291.576007\n",
              "первый          81926.983248\n",
              "последний       87929.031484"
            ]
          },
          "execution_count": 101,
          "metadata": {},
          "output_type": "execute_result"
        }
      ],
      "source": [
        "price_floor_df = df.pivot_table(index='floor_category', values=['metr_cost'])\n",
        "price_floor_df"
      ]
    },
    {
      "cell_type": "markdown",
      "metadata": {
        "id": "NhzkeVjl2Eea"
      },
      "source": [
        "Действительно, в целом по датафрейму наблюдается значительное (около 10%) снижение стоимости кв.м. квартир на последнем этаже."
      ]
    },
    {
      "cell_type": "code",
      "execution_count": null,
      "metadata": {
        "scrolled": true,
        "id": "c40JNl8i2Eeb",
        "outputId": "5e722b5e-c0cc-41a3-ba41-3ad7e1e85670"
      },
      "outputs": [
        {
          "name": "stdout",
          "output_type": "stream",
          "text": [
            "1082\n"
          ]
        }
      ],
      "source": [
        "print(len(df_sbp_centr.query('floor>5')))"
      ]
    },
    {
      "cell_type": "markdown",
      "metadata": {
        "id": "jMD_kXah2Eed"
      },
      "source": [
        "Объявлений не мало, думаю статистике можно верить."
      ]
    },
    {
      "cell_type": "markdown",
      "metadata": {
        "id": "8T-ZznNX2Eee"
      },
      "source": [
        "#### Ну и оценим изменение стоимости от даты публикации."
      ]
    },
    {
      "cell_type": "code",
      "execution_count": null,
      "metadata": {
        "scrolled": true,
        "id": "6uHoF6x_2Eee",
        "outputId": "843abf37-eac0-4463-c899-593b826614cf"
      },
      "outputs": [
        {
          "data": {
            "text/plain": [
              "<AxesSubplot:xlabel='first_day_exposition'>"
            ]
          },
          "execution_count": 103,
          "metadata": {},
          "output_type": "execute_result"
        },
        {
          "data": {
            "image/png": "[encoded data removed]",
            "text/plain": [
              "<Figure size 576x288 with 1 Axes>"
            ]
          },
          "metadata": {
            "needs_background": "light"
          },
          "output_type": "display_data"
        }
      ],
      "source": [
        "price_date_centre = df_sbp_centr.pivot_table(index='first_day_exposition', values=['metr_cost'])\n",
        "price_date_centre.plot(grid=True, figsize=(8, 4))"
      ]
    },
    {
      "cell_type": "markdown",
      "metadata": {
        "id": "KVqo39oe2Eef"
      },
      "source": [
        "И снова мы видим флуктуации графика с несколькими всплесками(вбросами). Это говорит о том что средняя стоимость кв.м. в центре Санкт_Петербурга не зависит от даты публикации и остается практически неизменной в течении всего периода указанного в датафрейме."
      ]
    },
    {
      "cell_type": "markdown",
      "metadata": {
        "id": "OiXwREGq2Eeg"
      },
      "source": [
        "Понятно, связи я не обнаружил, за исключением значительного спада стоимости в 14-16 годах. Очевидно, данный факт был вызван какими-то внешними политеческими или социальными факторами. \n",
        "    \n",
        "Наверное, нет смысла составлять линейные графики снова."
      ]
    },
    {
      "cell_type": "markdown",
      "metadata": {
        "id": "OaWFLemo2Eeh"
      },
      "source": [
        "## Общий вывод"
      ]
    },
    {
      "cell_type": "markdown",
      "metadata": {
        "id": "k31GD3h82Eei"
      },
      "source": [
        "<font size=\"5\"> Исходя из исследованиий можно сделать следующие выводы: </font>\n",
        "1. Средняя стоимость квартир остается неизменной вне зависимости от даты публикации после снижения общей стоимости в 14-15 годах.\n",
        "2. Самая высокая средняя стоимость квартир в центре Санкт_Петербурга, который ограничивается радиусом в ~~три километра~~ километров. Самые приближенные к центру квартиры имеют среднюю стоимость квадратного метра около 325 тысяч и снижается до примерно 150 тысяч за метр на расстоянии 3 километра от центра.\n",
        "3. Так же обнаружена сильная связь между стоимостью недвижимости в центре Санкт-Петербурга и ее этажом. Самая низкая стоимость у квартир, расположенных на 1 этаже затем стоимость растет незначительно для 2-5 этажей, после чего мы можем наблюдать значительный рост стоимости кв.м. по мере роста этажа помещения.\n",
        "4. За пределами центра Санкт_петербурга так же заметно снижение стоимости кв.м. по мере удаленности от ~~3-х~~ 10-ти километрового центра. Однако общее снижение стоимости не такое значительное как в центре. Таким образом для определения стоимости этих квартир удаленность от центра не является решающим фактором. \n",
        "5. Высота потолков не влияет на стоимость недвижимости.\n",
        "6. Число комнат, как и площадь не влияет на изменение стоимости, так как базовое значение стоимости недвижимости основывается на стоимости квадратного метра. \n",
        "7. Наличие баклконов так же не принято во внимание, так как только около трети квартир имеют балконы.\n",
        "8. ~~Колонка 'is_appartment' была проигнорирована, так как практически все значения в ней пропущены и ее заполнение показалось не возможным.~~\n",
        "9. Не совсем понятным оказалось задание \"Уберите редкие и выбивающиеся значения. Опишите, какие особенности обнаружили\". Я игнорировал выбивающиеся значения либо методом 'query' либо методом 'range()' при построении гистограмм.\n",
        "\n",
        "\n"
      ]
    },
    {
      "cell_type": "markdown",
      "metadata": {
        "id": "EmtKGsdc2Eej"
      },
      "source": [
        "    \n",
        "10. Очевидно, данные были сильно подвргнуты вбросам по  квартирам стоимостью менее 1000000 и более 20000000 которые были удалены методо query. Так же мной были проигнорированы квартиры имеющие 10 и более комнат, так же искажающие реальные данные.\n",
        "11. Форматирование колонки 'locality_name' (замена ё на е) позволило уменьшить число уникальных значений, что в итоге позволило сохранить большее количество данных и получить более точные данные для иследования.\n"
      ]
    }
  ],
  "metadata": {
    "ExecuteTimeLog": [
      {
        "duration": 483,
        "start_time": "2022-04-11T17:09:11.428Z"
      },
      {
        "duration": 141,
        "start_time": "2022-04-11T17:13:13.648Z"
      },
      {
        "duration": 60,
        "start_time": "2022-04-11T17:19:39.868Z"
      },
      {
        "duration": 24,
        "start_time": "2022-04-11T17:19:50.493Z"
      },
      {
        "duration": 24,
        "start_time": "2022-04-11T17:20:13.966Z"
      },
      {
        "duration": 6,
        "start_time": "2022-04-11T17:21:41.766Z"
      },
      {
        "duration": 5,
        "start_time": "2022-04-11T17:22:32.983Z"
      },
      {
        "duration": 5,
        "start_time": "2022-04-11T17:22:41.949Z"
      },
      {
        "duration": 10,
        "start_time": "2022-04-11T17:22:50.350Z"
      },
      {
        "duration": 13,
        "start_time": "2022-04-11T17:53:59.337Z"
      },
      {
        "duration": 13,
        "start_time": "2022-04-11T18:04:06.751Z"
      },
      {
        "duration": 6,
        "start_time": "2022-04-11T18:04:22.216Z"
      },
      {
        "duration": 10,
        "start_time": "2022-04-11T18:04:47.814Z"
      },
      {
        "duration": 9,
        "start_time": "2022-04-11T18:05:10.537Z"
      },
      {
        "duration": 7,
        "start_time": "2022-04-11T18:06:54.284Z"
      },
      {
        "duration": 9,
        "start_time": "2022-04-11T18:07:05.326Z"
      },
      {
        "duration": 15,
        "start_time": "2022-04-11T18:07:47.407Z"
      },
      {
        "duration": 13,
        "start_time": "2022-04-11T18:08:00.253Z"
      },
      {
        "duration": 12,
        "start_time": "2022-04-11T18:09:28.852Z"
      },
      {
        "duration": 12,
        "start_time": "2022-04-11T18:09:56.007Z"
      },
      {
        "duration": 17,
        "start_time": "2022-04-11T18:10:05.686Z"
      },
      {
        "duration": 13,
        "start_time": "2022-04-11T18:10:11.783Z"
      },
      {
        "duration": 7,
        "start_time": "2022-04-11T18:12:54.344Z"
      },
      {
        "duration": 30,
        "start_time": "2022-04-11T18:13:24.133Z"
      },
      {
        "duration": 25,
        "start_time": "2022-04-11T18:14:02.545Z"
      },
      {
        "duration": 7,
        "start_time": "2022-04-11T18:14:25.048Z"
      },
      {
        "duration": 24,
        "start_time": "2022-04-11T18:14:30.847Z"
      },
      {
        "duration": 0,
        "start_time": "2022-04-11T18:15:34.432Z"
      },
      {
        "duration": 113,
        "start_time": "2022-04-11T18:15:38.436Z"
      },
      {
        "duration": 121,
        "start_time": "2022-04-11T18:18:16.805Z"
      },
      {
        "duration": 135,
        "start_time": "2022-04-11T18:18:36.789Z"
      },
      {
        "duration": 131,
        "start_time": "2022-04-11T18:18:51.230Z"
      },
      {
        "duration": 159,
        "start_time": "2022-04-11T18:19:01.670Z"
      },
      {
        "duration": 247,
        "start_time": "2022-04-11T18:19:26.612Z"
      },
      {
        "duration": 162,
        "start_time": "2022-04-11T18:19:40.462Z"
      },
      {
        "duration": 150,
        "start_time": "2022-04-11T18:21:16.037Z"
      },
      {
        "duration": 161,
        "start_time": "2022-04-11T18:21:24.773Z"
      },
      {
        "duration": 171,
        "start_time": "2022-04-11T18:22:24.213Z"
      },
      {
        "duration": 172,
        "start_time": "2022-04-11T18:22:41.748Z"
      },
      {
        "duration": 8,
        "start_time": "2022-04-11T18:22:50.774Z"
      },
      {
        "duration": 7,
        "start_time": "2022-04-11T18:32:03.580Z"
      },
      {
        "duration": 9,
        "start_time": "2022-04-11T18:32:16.183Z"
      },
      {
        "duration": 175,
        "start_time": "2022-04-11T18:39:16.880Z"
      },
      {
        "duration": 5,
        "start_time": "2022-04-11T18:44:32.328Z"
      },
      {
        "duration": 3,
        "start_time": "2022-04-11T19:01:07.215Z"
      },
      {
        "duration": 44,
        "start_time": "2022-04-11T19:01:23.325Z"
      },
      {
        "duration": 61,
        "start_time": "2022-04-11T19:02:33.394Z"
      },
      {
        "duration": 45,
        "start_time": "2022-04-11T19:03:57.808Z"
      },
      {
        "duration": 34,
        "start_time": "2022-04-11T19:04:27.884Z"
      },
      {
        "duration": 226,
        "start_time": "2022-04-11T19:07:11.176Z"
      },
      {
        "duration": 28,
        "start_time": "2022-04-11T19:07:24.418Z"
      },
      {
        "duration": 42,
        "start_time": "2022-04-11T19:09:06.167Z"
      },
      {
        "duration": 40,
        "start_time": "2022-04-11T19:09:39.743Z"
      },
      {
        "duration": 47,
        "start_time": "2022-04-11T19:10:24.447Z"
      },
      {
        "duration": 31,
        "start_time": "2022-04-11T19:10:29.688Z"
      },
      {
        "duration": 28,
        "start_time": "2022-04-11T19:10:34.401Z"
      },
      {
        "duration": 28,
        "start_time": "2022-04-11T19:10:38.903Z"
      },
      {
        "duration": 5,
        "start_time": "2022-04-11T19:10:45.302Z"
      },
      {
        "duration": 76,
        "start_time": "2022-04-11T19:10:56.072Z"
      },
      {
        "duration": 135,
        "start_time": "2022-04-11T19:10:58.208Z"
      },
      {
        "duration": 9,
        "start_time": "2022-04-11T19:11:01.798Z"
      },
      {
        "duration": 186,
        "start_time": "2022-04-11T19:11:05.261Z"
      },
      {
        "duration": 9,
        "start_time": "2022-04-11T19:11:07.253Z"
      },
      {
        "duration": 5,
        "start_time": "2022-04-11T19:11:09.742Z"
      },
      {
        "duration": 199,
        "start_time": "2022-04-11T19:11:11.966Z"
      },
      {
        "duration": 32,
        "start_time": "2022-04-11T19:11:19.421Z"
      },
      {
        "duration": 26,
        "start_time": "2022-04-11T19:11:39.558Z"
      },
      {
        "duration": 11,
        "start_time": "2022-04-11T19:11:42.590Z"
      },
      {
        "duration": 117,
        "start_time": "2022-04-11T19:11:45.775Z"
      },
      {
        "duration": 113,
        "start_time": "2022-04-11T19:11:48.020Z"
      },
      {
        "duration": 9,
        "start_time": "2022-04-11T19:11:51.094Z"
      },
      {
        "duration": 183,
        "start_time": "2022-04-11T19:11:52.620Z"
      },
      {
        "duration": 14,
        "start_time": "2022-04-11T19:11:54.083Z"
      },
      {
        "duration": 7,
        "start_time": "2022-04-11T19:11:56.684Z"
      },
      {
        "duration": 184,
        "start_time": "2022-04-11T19:12:00.598Z"
      },
      {
        "duration": 27,
        "start_time": "2022-04-11T19:12:36.703Z"
      },
      {
        "duration": 215,
        "start_time": "2022-04-11T19:13:01.758Z"
      },
      {
        "duration": 12,
        "start_time": "2022-04-11T19:13:07.483Z"
      },
      {
        "duration": 139,
        "start_time": "2022-04-11T19:13:09.590Z"
      },
      {
        "duration": 70,
        "start_time": "2022-04-11T19:13:13.295Z"
      },
      {
        "duration": 112,
        "start_time": "2022-04-11T19:13:14.937Z"
      },
      {
        "duration": 12,
        "start_time": "2022-04-11T19:13:17.323Z"
      },
      {
        "duration": 165,
        "start_time": "2022-04-11T19:13:19.813Z"
      },
      {
        "duration": 9,
        "start_time": "2022-04-11T19:13:21.725Z"
      },
      {
        "duration": 6,
        "start_time": "2022-04-11T19:13:23.028Z"
      },
      {
        "duration": 214,
        "start_time": "2022-04-11T19:13:24.690Z"
      },
      {
        "duration": 191,
        "start_time": "2022-04-11T19:13:36.972Z"
      },
      {
        "duration": 38,
        "start_time": "2022-04-11T19:13:55.105Z"
      },
      {
        "duration": 102,
        "start_time": "2022-04-11T19:14:00.287Z"
      },
      {
        "duration": 159,
        "start_time": "2022-04-11T19:14:02.045Z"
      },
      {
        "duration": 10,
        "start_time": "2022-04-11T19:14:04.097Z"
      },
      {
        "duration": 180,
        "start_time": "2022-04-11T19:14:05.956Z"
      },
      {
        "duration": 9,
        "start_time": "2022-04-11T19:14:07.749Z"
      },
      {
        "duration": 6,
        "start_time": "2022-04-11T19:14:09.902Z"
      },
      {
        "duration": 197,
        "start_time": "2022-04-11T19:14:11.076Z"
      },
      {
        "duration": 38,
        "start_time": "2022-04-11T19:14:24.657Z"
      },
      {
        "duration": 28,
        "start_time": "2022-04-11T19:14:37.120Z"
      },
      {
        "duration": 78,
        "start_time": "2022-04-11T19:15:08.904Z"
      },
      {
        "duration": 117,
        "start_time": "2022-04-11T19:15:10.985Z"
      },
      {
        "duration": 9,
        "start_time": "2022-04-11T19:15:13.068Z"
      },
      {
        "duration": 189,
        "start_time": "2022-04-11T19:15:14.680Z"
      },
      {
        "duration": 10,
        "start_time": "2022-04-11T19:15:16.819Z"
      },
      {
        "duration": 5,
        "start_time": "2022-04-11T19:15:18.156Z"
      },
      {
        "duration": 278,
        "start_time": "2022-04-11T19:15:19.908Z"
      },
      {
        "duration": 29,
        "start_time": "2022-04-11T19:15:42.341Z"
      },
      {
        "duration": 38,
        "start_time": "2022-04-11T19:15:51.631Z"
      },
      {
        "duration": 102,
        "start_time": "2022-04-11T19:15:55.948Z"
      },
      {
        "duration": 165,
        "start_time": "2022-04-11T19:15:57.784Z"
      },
      {
        "duration": 11,
        "start_time": "2022-04-11T19:15:59.924Z"
      },
      {
        "duration": 278,
        "start_time": "2022-04-11T19:16:01.619Z"
      },
      {
        "duration": 12,
        "start_time": "2022-04-11T19:16:03.374Z"
      },
      {
        "duration": 5,
        "start_time": "2022-04-11T19:16:05.671Z"
      },
      {
        "duration": 208,
        "start_time": "2022-04-11T19:16:06.661Z"
      },
      {
        "duration": 30,
        "start_time": "2022-04-11T19:16:10.223Z"
      },
      {
        "duration": 73,
        "start_time": "2022-04-11T19:16:41.956Z"
      },
      {
        "duration": 105,
        "start_time": "2022-04-11T19:16:44.391Z"
      },
      {
        "duration": 9,
        "start_time": "2022-04-11T19:16:46.207Z"
      },
      {
        "duration": 177,
        "start_time": "2022-04-11T19:16:48.247Z"
      },
      {
        "duration": 9,
        "start_time": "2022-04-11T19:16:49.844Z"
      },
      {
        "duration": 5,
        "start_time": "2022-04-11T19:16:52.759Z"
      },
      {
        "duration": 283,
        "start_time": "2022-04-11T19:16:53.918Z"
      },
      {
        "duration": 9,
        "start_time": "2022-04-11T19:17:51.780Z"
      },
      {
        "duration": 9,
        "start_time": "2022-04-11T19:18:27.199Z"
      },
      {
        "duration": 10,
        "start_time": "2022-04-11T19:18:45.023Z"
      },
      {
        "duration": 10,
        "start_time": "2022-04-11T19:18:52.509Z"
      },
      {
        "duration": 7,
        "start_time": "2022-04-11T19:18:57.886Z"
      },
      {
        "duration": 83,
        "start_time": "2022-04-11T19:20:43.845Z"
      },
      {
        "duration": 113,
        "start_time": "2022-04-11T19:20:46.184Z"
      },
      {
        "duration": 9,
        "start_time": "2022-04-11T19:20:48.677Z"
      },
      {
        "duration": 170,
        "start_time": "2022-04-11T19:20:51.004Z"
      },
      {
        "duration": 9,
        "start_time": "2022-04-11T19:20:52.982Z"
      },
      {
        "duration": 4,
        "start_time": "2022-04-11T19:20:54.972Z"
      },
      {
        "duration": 245,
        "start_time": "2022-04-11T19:20:57.152Z"
      },
      {
        "duration": 33,
        "start_time": "2022-04-11T19:21:07.839Z"
      },
      {
        "duration": 87,
        "start_time": "2022-04-11T19:21:12.960Z"
      },
      {
        "duration": 117,
        "start_time": "2022-04-11T19:21:14.767Z"
      },
      {
        "duration": 9,
        "start_time": "2022-04-11T19:21:16.733Z"
      },
      {
        "duration": 164,
        "start_time": "2022-04-11T19:21:19.559Z"
      },
      {
        "duration": 11,
        "start_time": "2022-04-11T19:21:21.317Z"
      },
      {
        "duration": 6,
        "start_time": "2022-04-11T19:21:23.749Z"
      },
      {
        "duration": 193,
        "start_time": "2022-04-11T19:21:24.991Z"
      },
      {
        "duration": 108,
        "start_time": "2022-04-11T19:21:55.039Z"
      },
      {
        "duration": 162,
        "start_time": "2022-04-11T19:21:56.496Z"
      },
      {
        "duration": 10,
        "start_time": "2022-04-11T19:21:59.878Z"
      },
      {
        "duration": 173,
        "start_time": "2022-04-11T19:22:01.365Z"
      },
      {
        "duration": 10,
        "start_time": "2022-04-11T19:22:03.040Z"
      },
      {
        "duration": 5,
        "start_time": "2022-04-11T19:22:04.846Z"
      },
      {
        "duration": 299,
        "start_time": "2022-04-11T19:22:06.544Z"
      },
      {
        "duration": 6,
        "start_time": "2022-04-11T19:22:12.933Z"
      },
      {
        "duration": 65,
        "start_time": "2022-04-12T05:25:21.658Z"
      },
      {
        "duration": 570,
        "start_time": "2022-04-12T05:25:29.789Z"
      },
      {
        "duration": 157,
        "start_time": "2022-04-12T05:25:32.516Z"
      },
      {
        "duration": 12,
        "start_time": "2022-04-12T05:25:35.833Z"
      },
      {
        "duration": 849,
        "start_time": "2022-04-12T05:25:37.926Z"
      },
      {
        "duration": 15,
        "start_time": "2022-04-12T05:25:40.988Z"
      },
      {
        "duration": 7,
        "start_time": "2022-04-12T05:25:43.218Z"
      },
      {
        "duration": 319,
        "start_time": "2022-04-12T05:25:44.614Z"
      },
      {
        "duration": 7,
        "start_time": "2022-04-12T05:25:46.820Z"
      },
      {
        "duration": 9,
        "start_time": "2022-04-12T05:26:34.226Z"
      },
      {
        "duration": 14,
        "start_time": "2022-04-12T05:26:54.536Z"
      },
      {
        "duration": 11,
        "start_time": "2022-04-12T05:27:23.478Z"
      },
      {
        "duration": 54,
        "start_time": "2022-04-12T05:27:28.835Z"
      },
      {
        "duration": 8,
        "start_time": "2022-04-12T05:27:33.860Z"
      },
      {
        "duration": 28,
        "start_time": "2022-04-12T05:35:53.629Z"
      },
      {
        "duration": 29,
        "start_time": "2022-04-12T05:36:54.572Z"
      },
      {
        "duration": 26,
        "start_time": "2022-04-12T05:37:29.717Z"
      },
      {
        "duration": 30,
        "start_time": "2022-04-12T05:37:54.263Z"
      },
      {
        "duration": 21,
        "start_time": "2022-04-12T05:38:39.877Z"
      },
      {
        "duration": 22,
        "start_time": "2022-04-12T05:39:00.036Z"
      },
      {
        "duration": 9,
        "start_time": "2022-04-12T05:40:05.708Z"
      },
      {
        "duration": 87,
        "start_time": "2022-04-12T05:40:12.645Z"
      },
      {
        "duration": 144,
        "start_time": "2022-04-12T05:40:14.461Z"
      },
      {
        "duration": 12,
        "start_time": "2022-04-12T05:40:16.602Z"
      },
      {
        "duration": 292,
        "start_time": "2022-04-12T05:40:18.267Z"
      },
      {
        "duration": 11,
        "start_time": "2022-04-12T05:40:20.036Z"
      },
      {
        "duration": 7,
        "start_time": "2022-04-12T05:40:21.762Z"
      },
      {
        "duration": 318,
        "start_time": "2022-04-12T05:40:22.942Z"
      },
      {
        "duration": 8,
        "start_time": "2022-04-12T05:40:25.650Z"
      },
      {
        "duration": 14,
        "start_time": "2022-04-12T05:40:26.834Z"
      },
      {
        "duration": 10,
        "start_time": "2022-04-12T05:40:29.466Z"
      },
      {
        "duration": 8,
        "start_time": "2022-04-12T05:40:43.637Z"
      },
      {
        "duration": 9,
        "start_time": "2022-04-12T05:41:07.468Z"
      },
      {
        "duration": 6,
        "start_time": "2022-04-12T05:43:07.782Z"
      },
      {
        "duration": 23,
        "start_time": "2022-04-12T05:52:51.499Z"
      },
      {
        "duration": 468,
        "start_time": "2022-04-12T05:55:27.982Z"
      },
      {
        "duration": 8,
        "start_time": "2022-04-12T05:55:40.706Z"
      },
      {
        "duration": 15,
        "start_time": "2022-04-12T05:55:42.080Z"
      },
      {
        "duration": 651,
        "start_time": "2022-04-12T10:48:07.241Z"
      },
      {
        "duration": 163,
        "start_time": "2022-04-12T10:48:09.532Z"
      },
      {
        "duration": 14,
        "start_time": "2022-04-12T10:48:12.392Z"
      },
      {
        "duration": 937,
        "start_time": "2022-04-12T10:48:15.443Z"
      },
      {
        "duration": 15,
        "start_time": "2022-04-12T10:48:23.097Z"
      },
      {
        "duration": 9,
        "start_time": "2022-04-12T10:48:25.394Z"
      },
      {
        "duration": 352,
        "start_time": "2022-04-12T10:48:28.973Z"
      },
      {
        "duration": 9,
        "start_time": "2022-04-12T10:48:36.064Z"
      },
      {
        "duration": 15,
        "start_time": "2022-04-12T10:48:40.586Z"
      },
      {
        "duration": 50,
        "start_time": "2022-04-12T10:55:25.131Z"
      },
      {
        "duration": 503,
        "start_time": "2022-04-12T10:55:39.651Z"
      },
      {
        "duration": 17,
        "start_time": "2022-04-12T10:55:45.501Z"
      },
      {
        "duration": 26,
        "start_time": "2022-04-12T10:57:32.173Z"
      },
      {
        "duration": 16,
        "start_time": "2022-04-12T10:57:58.849Z"
      },
      {
        "duration": 28,
        "start_time": "2022-04-12T10:58:04.361Z"
      },
      {
        "duration": 19,
        "start_time": "2022-04-12T10:58:10.728Z"
      },
      {
        "duration": 19,
        "start_time": "2022-04-12T10:59:09.265Z"
      },
      {
        "duration": 20,
        "start_time": "2022-04-12T10:59:20.778Z"
      },
      {
        "duration": 4,
        "start_time": "2022-04-12T11:07:56.026Z"
      },
      {
        "duration": 5,
        "start_time": "2022-04-12T11:08:07.898Z"
      },
      {
        "duration": 5,
        "start_time": "2022-04-12T11:08:28.401Z"
      },
      {
        "duration": 57,
        "start_time": "2022-04-12T11:08:41.658Z"
      },
      {
        "duration": 80,
        "start_time": "2022-04-12T11:08:53.985Z"
      },
      {
        "duration": 35,
        "start_time": "2022-04-12T11:09:26.956Z"
      },
      {
        "duration": 36,
        "start_time": "2022-04-12T11:09:34.481Z"
      },
      {
        "duration": 19,
        "start_time": "2022-04-12T11:10:44.993Z"
      },
      {
        "duration": 23,
        "start_time": "2022-04-12T11:11:47.770Z"
      },
      {
        "duration": 22,
        "start_time": "2022-04-12T11:12:01.180Z"
      },
      {
        "duration": 24,
        "start_time": "2022-04-12T11:12:32.305Z"
      },
      {
        "duration": 21,
        "start_time": "2022-04-12T11:13:16.011Z"
      },
      {
        "duration": 100,
        "start_time": "2022-04-12T11:17:17.227Z"
      },
      {
        "duration": 23,
        "start_time": "2022-04-12T11:17:49.177Z"
      },
      {
        "duration": 14,
        "start_time": "2022-04-12T11:17:55.777Z"
      },
      {
        "duration": 15,
        "start_time": "2022-04-12T11:18:31.787Z"
      },
      {
        "duration": 14,
        "start_time": "2022-04-12T11:18:34.763Z"
      },
      {
        "duration": 15,
        "start_time": "2022-04-12T11:18:46.145Z"
      },
      {
        "duration": 15,
        "start_time": "2022-04-12T11:19:03.674Z"
      },
      {
        "duration": 19,
        "start_time": "2022-04-12T11:19:18.367Z"
      },
      {
        "duration": 18,
        "start_time": "2022-04-12T11:19:31.247Z"
      },
      {
        "duration": 21,
        "start_time": "2022-04-12T11:20:05.866Z"
      },
      {
        "duration": 18,
        "start_time": "2022-04-12T11:20:20.514Z"
      },
      {
        "duration": 18,
        "start_time": "2022-04-12T11:20:33.049Z"
      },
      {
        "duration": 23,
        "start_time": "2022-04-12T11:21:13.714Z"
      },
      {
        "duration": 17,
        "start_time": "2022-04-12T11:28:26.657Z"
      },
      {
        "duration": 16,
        "start_time": "2022-04-12T11:28:44.743Z"
      },
      {
        "duration": 20,
        "start_time": "2022-04-12T11:29:21.640Z"
      },
      {
        "duration": 68,
        "start_time": "2022-04-12T11:53:55.189Z"
      },
      {
        "duration": 159,
        "start_time": "2022-04-12T11:54:14.166Z"
      },
      {
        "duration": 49,
        "start_time": "2022-04-12T11:54:50.384Z"
      },
      {
        "duration": 9,
        "start_time": "2022-04-12T11:59:20.995Z"
      },
      {
        "duration": 32,
        "start_time": "2022-04-12T12:01:35.140Z"
      },
      {
        "duration": 18,
        "start_time": "2022-04-12T12:02:09.764Z"
      },
      {
        "duration": 94,
        "start_time": "2022-04-12T12:04:31.808Z"
      },
      {
        "duration": 158,
        "start_time": "2022-04-12T12:04:33.632Z"
      },
      {
        "duration": 14,
        "start_time": "2022-04-12T12:04:35.918Z"
      },
      {
        "duration": 334,
        "start_time": "2022-04-12T12:04:38.267Z"
      },
      {
        "duration": 13,
        "start_time": "2022-04-12T12:04:39.957Z"
      },
      {
        "duration": 9,
        "start_time": "2022-04-12T12:04:41.792Z"
      },
      {
        "duration": 342,
        "start_time": "2022-04-12T12:04:43.489Z"
      },
      {
        "duration": 8,
        "start_time": "2022-04-12T12:04:45.908Z"
      },
      {
        "duration": 14,
        "start_time": "2022-04-12T12:04:47.635Z"
      },
      {
        "duration": 23,
        "start_time": "2022-04-12T12:04:49.811Z"
      },
      {
        "duration": 84,
        "start_time": "2022-04-12T12:04:52.555Z"
      },
      {
        "duration": 11,
        "start_time": "2022-04-12T12:04:56.715Z"
      },
      {
        "duration": 8,
        "start_time": "2022-04-12T12:06:16.336Z"
      },
      {
        "duration": 18,
        "start_time": "2022-04-12T12:06:25.628Z"
      },
      {
        "duration": 404,
        "start_time": "2022-04-12T12:07:35.765Z"
      },
      {
        "duration": 83,
        "start_time": "2022-04-12T12:08:47.664Z"
      },
      {
        "duration": 11,
        "start_time": "2022-04-12T12:08:52.861Z"
      },
      {
        "duration": 443,
        "start_time": "2022-04-12T12:09:24.628Z"
      },
      {
        "duration": 24,
        "start_time": "2022-04-12T12:09:33.548Z"
      },
      {
        "duration": 14,
        "start_time": "2022-04-12T12:09:38.188Z"
      },
      {
        "duration": 19,
        "start_time": "2022-04-12T12:09:42.935Z"
      },
      {
        "duration": 20,
        "start_time": "2022-04-12T12:43:46.751Z"
      },
      {
        "duration": 118,
        "start_time": "2022-04-12T12:44:08.533Z"
      },
      {
        "duration": 19,
        "start_time": "2022-04-12T12:46:49.525Z"
      },
      {
        "duration": 15,
        "start_time": "2022-04-12T12:47:31.265Z"
      },
      {
        "duration": 14,
        "start_time": "2022-04-12T12:47:46.278Z"
      },
      {
        "duration": 8,
        "start_time": "2022-04-12T12:48:11.413Z"
      },
      {
        "duration": 114,
        "start_time": "2022-04-12T12:56:04.105Z"
      },
      {
        "duration": 14,
        "start_time": "2022-04-12T12:56:12.112Z"
      },
      {
        "duration": 14,
        "start_time": "2022-04-12T12:56:57.998Z"
      },
      {
        "duration": 11,
        "start_time": "2022-04-12T12:57:09.261Z"
      },
      {
        "duration": 15,
        "start_time": "2022-04-12T12:59:26.733Z"
      },
      {
        "duration": 7,
        "start_time": "2022-04-12T13:01:20.970Z"
      },
      {
        "duration": 221,
        "start_time": "2022-04-12T13:02:13.003Z"
      },
      {
        "duration": 1976,
        "start_time": "2022-04-12T13:02:55.384Z"
      },
      {
        "duration": 226,
        "start_time": "2022-04-12T13:03:09.265Z"
      },
      {
        "duration": 7,
        "start_time": "2022-04-12T13:03:14.775Z"
      },
      {
        "duration": 17,
        "start_time": "2022-04-12T13:03:17.478Z"
      },
      {
        "duration": 47,
        "start_time": "2022-04-12T13:03:24.210Z"
      },
      {
        "duration": 96,
        "start_time": "2022-04-12T13:03:33.278Z"
      },
      {
        "duration": 160,
        "start_time": "2022-04-12T13:03:35.167Z"
      },
      {
        "duration": 13,
        "start_time": "2022-04-12T13:03:37.928Z"
      },
      {
        "duration": 321,
        "start_time": "2022-04-12T13:03:41.243Z"
      },
      {
        "duration": 13,
        "start_time": "2022-04-12T13:03:43.417Z"
      },
      {
        "duration": 7,
        "start_time": "2022-04-12T13:03:45.526Z"
      },
      {
        "duration": 347,
        "start_time": "2022-04-12T13:03:47.352Z"
      },
      {
        "duration": 15,
        "start_time": "2022-04-12T13:03:49.485Z"
      },
      {
        "duration": 22,
        "start_time": "2022-04-12T13:03:51.080Z"
      },
      {
        "duration": 29,
        "start_time": "2022-04-12T13:03:53.926Z"
      },
      {
        "duration": 51,
        "start_time": "2022-04-12T13:03:57.390Z"
      },
      {
        "duration": 9,
        "start_time": "2022-04-12T13:04:01.542Z"
      },
      {
        "duration": 7,
        "start_time": "2022-04-12T13:04:06.178Z"
      },
      {
        "duration": 223,
        "start_time": "2022-04-12T13:04:17.921Z"
      },
      {
        "duration": 4067,
        "start_time": "2022-04-12T13:09:57.455Z"
      },
      {
        "duration": 9,
        "start_time": "2022-04-12T13:10:19.923Z"
      },
      {
        "duration": 96,
        "start_time": "2022-04-12T13:10:25.935Z"
      },
      {
        "duration": 234,
        "start_time": "2022-04-12T13:10:27.883Z"
      },
      {
        "duration": 14,
        "start_time": "2022-04-12T13:10:30.054Z"
      },
      {
        "duration": 325,
        "start_time": "2022-04-12T13:10:31.910Z"
      },
      {
        "duration": 15,
        "start_time": "2022-04-12T13:10:33.871Z"
      },
      {
        "duration": 9,
        "start_time": "2022-04-12T13:10:35.623Z"
      },
      {
        "duration": 620,
        "start_time": "2022-04-12T13:10:36.992Z"
      },
      {
        "duration": 10,
        "start_time": "2022-04-12T13:10:39.193Z"
      },
      {
        "duration": 16,
        "start_time": "2022-04-12T13:10:40.646Z"
      },
      {
        "duration": 31,
        "start_time": "2022-04-12T13:10:42.475Z"
      },
      {
        "duration": 58,
        "start_time": "2022-04-12T13:10:44.601Z"
      },
      {
        "duration": 10,
        "start_time": "2022-04-12T13:10:46.624Z"
      },
      {
        "duration": 7,
        "start_time": "2022-04-12T13:10:49.469Z"
      },
      {
        "duration": 2119,
        "start_time": "2022-04-12T13:10:55.674Z"
      },
      {
        "duration": 106,
        "start_time": "2022-04-12T13:14:51.591Z"
      },
      {
        "duration": 111,
        "start_time": "2022-04-12T13:15:07.054Z"
      },
      {
        "duration": 92,
        "start_time": "2022-04-12T13:15:58.073Z"
      },
      {
        "duration": 166,
        "start_time": "2022-04-12T13:16:00.241Z"
      },
      {
        "duration": 24,
        "start_time": "2022-04-12T13:16:02.464Z"
      },
      {
        "duration": 314,
        "start_time": "2022-04-12T13:16:04.087Z"
      },
      {
        "duration": 14,
        "start_time": "2022-04-12T13:16:05.816Z"
      },
      {
        "duration": 6,
        "start_time": "2022-04-12T13:16:07.061Z"
      },
      {
        "duration": 337,
        "start_time": "2022-04-12T13:16:08.301Z"
      },
      {
        "duration": 8,
        "start_time": "2022-04-12T13:16:10.428Z"
      },
      {
        "duration": 18,
        "start_time": "2022-04-12T13:16:11.525Z"
      },
      {
        "duration": 28,
        "start_time": "2022-04-12T13:16:13.682Z"
      },
      {
        "duration": 49,
        "start_time": "2022-04-12T13:16:15.519Z"
      },
      {
        "duration": 8,
        "start_time": "2022-04-12T13:16:17.327Z"
      },
      {
        "duration": 7,
        "start_time": "2022-04-12T13:16:22.208Z"
      },
      {
        "duration": 114,
        "start_time": "2022-04-12T13:16:24.440Z"
      },
      {
        "duration": 158,
        "start_time": "2022-04-12T13:17:16.792Z"
      },
      {
        "duration": 128,
        "start_time": "2022-04-12T13:17:28.272Z"
      },
      {
        "duration": 10,
        "start_time": "2022-04-12T13:20:59.256Z"
      },
      {
        "duration": 8,
        "start_time": "2022-04-12T13:21:57.216Z"
      },
      {
        "duration": 6,
        "start_time": "2022-04-12T13:22:03.928Z"
      },
      {
        "duration": 24,
        "start_time": "2022-04-12T13:22:13.271Z"
      },
      {
        "duration": 11,
        "start_time": "2022-04-12T13:22:34.231Z"
      },
      {
        "duration": 6,
        "start_time": "2022-04-12T13:22:44.584Z"
      },
      {
        "duration": 9,
        "start_time": "2022-04-12T13:23:08.942Z"
      },
      {
        "duration": 19,
        "start_time": "2022-04-12T13:23:34.928Z"
      },
      {
        "duration": 13,
        "start_time": "2022-04-12T13:24:09.592Z"
      },
      {
        "duration": 6,
        "start_time": "2022-04-12T13:24:12.520Z"
      },
      {
        "duration": 10,
        "start_time": "2022-04-12T13:24:25.080Z"
      },
      {
        "duration": 9,
        "start_time": "2022-04-12T13:24:39.432Z"
      },
      {
        "duration": 6,
        "start_time": "2022-04-12T13:24:41.169Z"
      },
      {
        "duration": 122,
        "start_time": "2022-04-12T13:25:31.965Z"
      },
      {
        "duration": 19,
        "start_time": "2022-04-12T14:22:18.705Z"
      },
      {
        "duration": 9,
        "start_time": "2022-04-12T14:22:30.583Z"
      },
      {
        "duration": 7,
        "start_time": "2022-04-12T14:22:41.921Z"
      },
      {
        "duration": 7,
        "start_time": "2022-04-12T14:22:47.014Z"
      },
      {
        "duration": 12,
        "start_time": "2022-04-12T14:24:06.480Z"
      },
      {
        "duration": 22,
        "start_time": "2022-04-12T14:24:21.481Z"
      },
      {
        "duration": 22,
        "start_time": "2022-04-12T14:26:10.695Z"
      },
      {
        "duration": 22,
        "start_time": "2022-04-12T14:26:16.546Z"
      },
      {
        "duration": 12,
        "start_time": "2022-04-12T14:26:25.073Z"
      },
      {
        "duration": 91,
        "start_time": "2022-04-12T14:26:35.377Z"
      },
      {
        "duration": 150,
        "start_time": "2022-04-12T14:26:37.514Z"
      },
      {
        "duration": 15,
        "start_time": "2022-04-12T14:26:39.971Z"
      },
      {
        "duration": 291,
        "start_time": "2022-04-12T14:26:49.290Z"
      },
      {
        "duration": 12,
        "start_time": "2022-04-12T14:26:56.704Z"
      },
      {
        "duration": 7,
        "start_time": "2022-04-12T14:26:58.455Z"
      },
      {
        "duration": 342,
        "start_time": "2022-04-12T14:26:59.991Z"
      },
      {
        "duration": 8,
        "start_time": "2022-04-12T14:27:01.887Z"
      },
      {
        "duration": 14,
        "start_time": "2022-04-12T14:27:03.599Z"
      },
      {
        "duration": 27,
        "start_time": "2022-04-12T14:27:07.461Z"
      },
      {
        "duration": 46,
        "start_time": "2022-04-12T14:27:13.313Z"
      },
      {
        "duration": 12,
        "start_time": "2022-04-12T14:27:16.747Z"
      },
      {
        "duration": 12,
        "start_time": "2022-04-12T14:27:25.050Z"
      },
      {
        "duration": 9,
        "start_time": "2022-04-12T14:27:57.663Z"
      },
      {
        "duration": 9,
        "start_time": "2022-04-12T14:28:01.450Z"
      },
      {
        "duration": 12,
        "start_time": "2022-04-12T14:28:03.224Z"
      },
      {
        "duration": 18,
        "start_time": "2022-04-12T14:28:13.406Z"
      },
      {
        "duration": 9,
        "start_time": "2022-04-12T14:28:17.337Z"
      },
      {
        "duration": 13,
        "start_time": "2022-04-12T14:28:20.423Z"
      },
      {
        "duration": 91,
        "start_time": "2022-04-12T14:28:39.678Z"
      },
      {
        "duration": 154,
        "start_time": "2022-04-12T14:28:41.376Z"
      },
      {
        "duration": 13,
        "start_time": "2022-04-12T14:28:43.447Z"
      },
      {
        "duration": 384,
        "start_time": "2022-04-12T14:28:45.831Z"
      },
      {
        "duration": 16,
        "start_time": "2022-04-12T14:28:48.215Z"
      },
      {
        "duration": 8,
        "start_time": "2022-04-12T14:28:50.624Z"
      },
      {
        "duration": 315,
        "start_time": "2022-04-12T14:28:52.049Z"
      },
      {
        "duration": 8,
        "start_time": "2022-04-12T14:28:53.967Z"
      },
      {
        "duration": 15,
        "start_time": "2022-04-12T14:28:55.575Z"
      },
      {
        "duration": 19,
        "start_time": "2022-04-12T14:28:58.607Z"
      },
      {
        "duration": 10,
        "start_time": "2022-04-12T14:29:15.633Z"
      },
      {
        "duration": 9,
        "start_time": "2022-04-12T14:29:19.272Z"
      },
      {
        "duration": 13,
        "start_time": "2022-04-12T14:29:23.128Z"
      },
      {
        "duration": 6,
        "start_time": "2022-04-12T14:30:22.932Z"
      },
      {
        "duration": 14,
        "start_time": "2022-04-12T14:30:29.681Z"
      },
      {
        "duration": 9,
        "start_time": "2022-04-12T14:30:36.800Z"
      },
      {
        "duration": 11,
        "start_time": "2022-04-12T14:32:49.048Z"
      },
      {
        "duration": 19,
        "start_time": "2022-04-12T14:32:50.537Z"
      },
      {
        "duration": 25,
        "start_time": "2022-04-12T14:40:30.481Z"
      },
      {
        "duration": 103,
        "start_time": "2022-04-12T14:44:08.953Z"
      },
      {
        "duration": 68,
        "start_time": "2022-04-12T14:44:29.480Z"
      },
      {
        "duration": 52,
        "start_time": "2022-04-12T14:44:40.536Z"
      },
      {
        "duration": 66,
        "start_time": "2022-04-12T14:45:02.507Z"
      },
      {
        "duration": 106,
        "start_time": "2022-04-12T14:45:10.868Z"
      },
      {
        "duration": 105,
        "start_time": "2022-04-12T14:45:41.004Z"
      },
      {
        "duration": 18,
        "start_time": "2022-04-12T14:45:52.674Z"
      },
      {
        "duration": 73,
        "start_time": "2022-04-12T14:46:13.938Z"
      },
      {
        "duration": 16,
        "start_time": "2022-04-12T14:46:37.197Z"
      },
      {
        "duration": 10,
        "start_time": "2022-04-12T14:47:01.442Z"
      },
      {
        "duration": 44,
        "start_time": "2022-04-12T14:51:25.529Z"
      },
      {
        "duration": 8,
        "start_time": "2022-04-12T14:56:56.377Z"
      },
      {
        "duration": 7,
        "start_time": "2022-04-12T14:57:01.577Z"
      },
      {
        "duration": 10,
        "start_time": "2022-04-12T14:57:24.918Z"
      },
      {
        "duration": 8,
        "start_time": "2022-04-12T14:57:30.025Z"
      },
      {
        "duration": 327,
        "start_time": "2022-04-12T14:57:59.143Z"
      },
      {
        "duration": 21,
        "start_time": "2022-04-12T16:16:16.783Z"
      },
      {
        "duration": 32,
        "start_time": "2022-04-12T16:31:45.452Z"
      },
      {
        "duration": 85,
        "start_time": "2022-04-12T16:31:51.881Z"
      },
      {
        "duration": 147,
        "start_time": "2022-04-12T16:31:53.632Z"
      },
      {
        "duration": 31,
        "start_time": "2022-04-12T16:31:58.448Z"
      },
      {
        "duration": 18,
        "start_time": "2022-04-12T16:32:00.485Z"
      },
      {
        "duration": 544,
        "start_time": "2022-04-12T16:32:02.053Z"
      },
      {
        "duration": 12,
        "start_time": "2022-04-12T16:32:04.136Z"
      },
      {
        "duration": 7,
        "start_time": "2022-04-12T16:32:05.694Z"
      },
      {
        "duration": 318,
        "start_time": "2022-04-12T16:32:06.990Z"
      },
      {
        "duration": 39,
        "start_time": "2022-04-12T16:32:43.673Z"
      },
      {
        "duration": 39,
        "start_time": "2022-04-12T16:32:45.452Z"
      },
      {
        "duration": 14,
        "start_time": "2022-04-12T16:32:48.180Z"
      },
      {
        "duration": 245,
        "start_time": "2022-04-12T16:32:49.830Z"
      },
      {
        "duration": 130,
        "start_time": "2022-04-12T16:32:53.695Z"
      },
      {
        "duration": 218,
        "start_time": "2022-04-12T16:32:55.577Z"
      },
      {
        "duration": 31,
        "start_time": "2022-04-12T16:32:57.145Z"
      },
      {
        "duration": 12,
        "start_time": "2022-04-12T16:32:59.753Z"
      },
      {
        "duration": 445,
        "start_time": "2022-04-12T16:33:02.110Z"
      },
      {
        "duration": 15,
        "start_time": "2022-04-12T16:33:04.558Z"
      },
      {
        "duration": 8,
        "start_time": "2022-04-12T16:33:06.104Z"
      },
      {
        "duration": 530,
        "start_time": "2022-04-12T16:33:07.369Z"
      },
      {
        "duration": 9,
        "start_time": "2022-04-12T16:33:10.143Z"
      },
      {
        "duration": 21,
        "start_time": "2022-04-12T16:33:11.241Z"
      },
      {
        "duration": 28,
        "start_time": "2022-04-12T16:33:13.512Z"
      },
      {
        "duration": 11,
        "start_time": "2022-04-12T16:33:16.293Z"
      },
      {
        "duration": 10,
        "start_time": "2022-04-12T16:33:17.790Z"
      },
      {
        "duration": 11,
        "start_time": "2022-04-12T16:33:19.655Z"
      },
      {
        "duration": 6,
        "start_time": "2022-04-12T16:33:25.334Z"
      },
      {
        "duration": 17,
        "start_time": "2022-04-12T16:33:28.599Z"
      },
      {
        "duration": 10,
        "start_time": "2022-04-12T16:33:49.957Z"
      },
      {
        "duration": 13,
        "start_time": "2022-04-12T16:33:53.733Z"
      },
      {
        "duration": 123,
        "start_time": "2022-04-12T16:33:58.977Z"
      },
      {
        "duration": 211,
        "start_time": "2022-04-12T16:34:01.960Z"
      },
      {
        "duration": 29,
        "start_time": "2022-04-12T16:34:04.533Z"
      },
      {
        "duration": 17,
        "start_time": "2022-04-12T16:34:06.351Z"
      },
      {
        "duration": 464,
        "start_time": "2022-04-12T16:34:08.346Z"
      },
      {
        "duration": 13,
        "start_time": "2022-04-12T16:34:10.938Z"
      },
      {
        "duration": 8,
        "start_time": "2022-04-12T16:34:12.506Z"
      },
      {
        "duration": 520,
        "start_time": "2022-04-12T16:34:13.872Z"
      },
      {
        "duration": 11,
        "start_time": "2022-04-12T16:34:16.347Z"
      },
      {
        "duration": 21,
        "start_time": "2022-04-12T16:34:17.829Z"
      },
      {
        "duration": 27,
        "start_time": "2022-04-12T16:34:19.591Z"
      },
      {
        "duration": 10,
        "start_time": "2022-04-12T16:34:22.036Z"
      },
      {
        "duration": 13,
        "start_time": "2022-04-12T16:34:23.145Z"
      },
      {
        "duration": 12,
        "start_time": "2022-04-12T16:34:25.473Z"
      },
      {
        "duration": 16,
        "start_time": "2022-04-12T16:36:00.503Z"
      },
      {
        "duration": 19,
        "start_time": "2022-04-12T16:36:41.950Z"
      },
      {
        "duration": 19,
        "start_time": "2022-04-12T16:37:25.515Z"
      },
      {
        "duration": 8,
        "start_time": "2022-04-12T16:41:38.472Z"
      },
      {
        "duration": 6,
        "start_time": "2022-04-12T16:42:35.406Z"
      },
      {
        "duration": 10,
        "start_time": "2022-04-12T16:43:04.836Z"
      },
      {
        "duration": 18,
        "start_time": "2022-04-12T16:43:54.887Z"
      },
      {
        "duration": 108,
        "start_time": "2022-04-12T16:44:33.702Z"
      },
      {
        "duration": 231,
        "start_time": "2022-04-12T16:44:35.993Z"
      },
      {
        "duration": 32,
        "start_time": "2022-04-12T16:44:38.486Z"
      },
      {
        "duration": 18,
        "start_time": "2022-04-12T16:44:41.147Z"
      },
      {
        "duration": 304,
        "start_time": "2022-04-12T16:44:42.983Z"
      },
      {
        "duration": 14,
        "start_time": "2022-04-12T16:44:44.755Z"
      },
      {
        "duration": 7,
        "start_time": "2022-04-12T16:44:47.566Z"
      },
      {
        "duration": 334,
        "start_time": "2022-04-12T16:44:49.171Z"
      },
      {
        "duration": 8,
        "start_time": "2022-04-12T16:44:51.862Z"
      },
      {
        "duration": 15,
        "start_time": "2022-04-12T16:44:53.868Z"
      },
      {
        "duration": 11,
        "start_time": "2022-04-12T16:45:09.863Z"
      },
      {
        "duration": 10,
        "start_time": "2022-04-12T16:45:12.078Z"
      },
      {
        "duration": 15,
        "start_time": "2022-04-12T16:45:14.220Z"
      },
      {
        "duration": 20,
        "start_time": "2022-04-12T16:45:16.274Z"
      },
      {
        "duration": 10,
        "start_time": "2022-04-12T16:45:21.956Z"
      },
      {
        "duration": 17,
        "start_time": "2022-04-12T16:45:28.007Z"
      },
      {
        "duration": 11,
        "start_time": "2022-04-12T16:47:46.070Z"
      },
      {
        "duration": 24,
        "start_time": "2022-04-12T16:49:29.634Z"
      },
      {
        "duration": 22,
        "start_time": "2022-04-12T16:57:44.496Z"
      },
      {
        "duration": 14,
        "start_time": "2022-04-12T16:58:15.464Z"
      },
      {
        "duration": 13,
        "start_time": "2022-04-12T16:59:05.871Z"
      },
      {
        "duration": 14,
        "start_time": "2022-04-12T16:59:19.517Z"
      },
      {
        "duration": 31,
        "start_time": "2022-04-12T17:00:45.417Z"
      },
      {
        "duration": 17,
        "start_time": "2022-04-12T17:05:37.471Z"
      },
      {
        "duration": 110,
        "start_time": "2022-04-12T17:12:55.055Z"
      },
      {
        "duration": 157,
        "start_time": "2022-04-12T17:13:00.424Z"
      },
      {
        "duration": 33,
        "start_time": "2022-04-12T17:13:02.712Z"
      },
      {
        "duration": 14,
        "start_time": "2022-04-12T17:13:08.712Z"
      },
      {
        "duration": 302,
        "start_time": "2022-04-12T17:13:15.215Z"
      },
      {
        "duration": 15,
        "start_time": "2022-04-12T17:13:16.951Z"
      },
      {
        "duration": 8,
        "start_time": "2022-04-12T17:13:19.615Z"
      },
      {
        "duration": 307,
        "start_time": "2022-04-12T17:13:22.155Z"
      },
      {
        "duration": 8,
        "start_time": "2022-04-12T17:13:25.358Z"
      },
      {
        "duration": 12,
        "start_time": "2022-04-12T17:13:27.030Z"
      },
      {
        "duration": 20,
        "start_time": "2022-04-12T17:13:36.957Z"
      },
      {
        "duration": 36,
        "start_time": "2022-04-12T17:15:04.096Z"
      },
      {
        "duration": 14,
        "start_time": "2022-04-12T17:15:56.685Z"
      },
      {
        "duration": 20,
        "start_time": "2022-04-12T17:16:59.758Z"
      },
      {
        "duration": 11,
        "start_time": "2022-04-12T17:18:03.535Z"
      },
      {
        "duration": 21,
        "start_time": "2022-04-12T17:18:06.663Z"
      },
      {
        "duration": 10,
        "start_time": "2022-04-12T17:18:15.775Z"
      },
      {
        "duration": 13,
        "start_time": "2022-04-12T17:18:17.527Z"
      },
      {
        "duration": 20,
        "start_time": "2022-04-12T17:18:19.222Z"
      },
      {
        "duration": 7,
        "start_time": "2022-04-12T17:27:32.887Z"
      },
      {
        "duration": 95,
        "start_time": "2022-04-12T17:32:13.144Z"
      },
      {
        "duration": 149,
        "start_time": "2022-04-12T17:32:15.237Z"
      },
      {
        "duration": 21,
        "start_time": "2022-04-12T17:32:17.399Z"
      },
      {
        "duration": 15,
        "start_time": "2022-04-12T17:32:20.654Z"
      },
      {
        "duration": 401,
        "start_time": "2022-04-12T17:32:29.936Z"
      },
      {
        "duration": 13,
        "start_time": "2022-04-12T17:32:31.863Z"
      },
      {
        "duration": 8,
        "start_time": "2022-04-12T17:32:46.488Z"
      },
      {
        "duration": 310,
        "start_time": "2022-04-12T17:32:48.816Z"
      },
      {
        "duration": 7,
        "start_time": "2022-04-12T17:32:52.687Z"
      },
      {
        "duration": 10,
        "start_time": "2022-04-12T17:32:54.496Z"
      },
      {
        "duration": 21,
        "start_time": "2022-04-12T17:32:58.343Z"
      },
      {
        "duration": 48,
        "start_time": "2022-04-12T17:33:00.434Z"
      },
      {
        "duration": 20,
        "start_time": "2022-04-12T17:33:05.065Z"
      },
      {
        "duration": 24,
        "start_time": "2022-04-12T17:33:10.710Z"
      },
      {
        "duration": 8,
        "start_time": "2022-04-12T17:33:20.717Z"
      },
      {
        "duration": 12,
        "start_time": "2022-04-12T17:33:24.077Z"
      },
      {
        "duration": 20,
        "start_time": "2022-04-12T17:33:26.183Z"
      },
      {
        "duration": 24,
        "start_time": "2022-04-12T17:33:30.542Z"
      },
      {
        "duration": 1763,
        "start_time": "2022-04-12T17:37:56.640Z"
      },
      {
        "duration": 7,
        "start_time": "2022-04-12T17:41:13.906Z"
      },
      {
        "duration": 9,
        "start_time": "2022-04-12T17:42:13.583Z"
      },
      {
        "duration": 19,
        "start_time": "2022-04-12T17:42:58.783Z"
      },
      {
        "duration": 18,
        "start_time": "2022-04-12T17:45:04.582Z"
      },
      {
        "duration": 12,
        "start_time": "2022-04-12T17:45:28.584Z"
      },
      {
        "duration": 16,
        "start_time": "2022-04-12T17:45:32.617Z"
      },
      {
        "duration": 225,
        "start_time": "2022-04-12T17:49:23.066Z"
      },
      {
        "duration": 95,
        "start_time": "2022-04-12T17:49:38.974Z"
      },
      {
        "duration": 90,
        "start_time": "2022-04-12T17:49:58.306Z"
      },
      {
        "duration": 145,
        "start_time": "2022-04-12T17:49:59.938Z"
      },
      {
        "duration": 21,
        "start_time": "2022-04-12T17:50:01.768Z"
      },
      {
        "duration": 12,
        "start_time": "2022-04-12T17:50:04.918Z"
      },
      {
        "duration": 291,
        "start_time": "2022-04-12T17:50:06.990Z"
      },
      {
        "duration": 13,
        "start_time": "2022-04-12T17:50:08.632Z"
      },
      {
        "duration": 8,
        "start_time": "2022-04-12T17:50:10.488Z"
      },
      {
        "duration": 318,
        "start_time": "2022-04-12T17:50:11.835Z"
      },
      {
        "duration": 8,
        "start_time": "2022-04-12T17:50:14.008Z"
      },
      {
        "duration": 12,
        "start_time": "2022-04-12T17:50:15.680Z"
      },
      {
        "duration": 22,
        "start_time": "2022-04-12T17:50:16.751Z"
      },
      {
        "duration": 32,
        "start_time": "2022-04-12T17:50:18.501Z"
      },
      {
        "duration": 13,
        "start_time": "2022-04-12T17:50:20.734Z"
      },
      {
        "duration": 18,
        "start_time": "2022-04-12T17:50:22.870Z"
      },
      {
        "duration": 10,
        "start_time": "2022-04-12T17:50:26.234Z"
      },
      {
        "duration": 11,
        "start_time": "2022-04-12T17:50:28.270Z"
      },
      {
        "duration": 13,
        "start_time": "2022-04-12T17:50:30.295Z"
      },
      {
        "duration": 22,
        "start_time": "2022-04-12T17:50:32.591Z"
      },
      {
        "duration": 7,
        "start_time": "2022-04-12T17:50:35.881Z"
      },
      {
        "duration": 13,
        "start_time": "2022-04-12T17:50:43.583Z"
      },
      {
        "duration": 24,
        "start_time": "2022-04-12T17:50:46.909Z"
      },
      {
        "duration": 107,
        "start_time": "2022-04-12T17:50:49.583Z"
      },
      {
        "duration": 8,
        "start_time": "2022-04-12T17:51:22.645Z"
      },
      {
        "duration": 14,
        "start_time": "2022-04-12T18:01:23.458Z"
      },
      {
        "duration": 15,
        "start_time": "2022-04-12T18:02:13.587Z"
      },
      {
        "duration": 62,
        "start_time": "2022-04-12T18:02:46.187Z"
      },
      {
        "duration": 394,
        "start_time": "2022-04-12T18:08:03.527Z"
      },
      {
        "duration": 8,
        "start_time": "2022-04-12T18:10:34.463Z"
      },
      {
        "duration": 66,
        "start_time": "2022-04-12T18:10:47.871Z"
      },
      {
        "duration": 8,
        "start_time": "2022-04-12T18:10:59.665Z"
      },
      {
        "duration": 9,
        "start_time": "2022-04-12T18:11:59.992Z"
      },
      {
        "duration": 120,
        "start_time": "2022-04-12T18:12:26.991Z"
      },
      {
        "duration": 63,
        "start_time": "2022-04-12T18:12:38.184Z"
      },
      {
        "duration": 8,
        "start_time": "2022-04-12T18:38:27.738Z"
      },
      {
        "duration": 18,
        "start_time": "2022-04-12T18:38:29.289Z"
      },
      {
        "duration": 380,
        "start_time": "2022-04-12T18:38:30.611Z"
      },
      {
        "duration": 123,
        "start_time": "2022-04-12T18:38:58.334Z"
      },
      {
        "duration": 221,
        "start_time": "2022-04-12T18:39:00.441Z"
      },
      {
        "duration": 21,
        "start_time": "2022-04-12T18:39:02.538Z"
      },
      {
        "duration": 13,
        "start_time": "2022-04-12T18:39:04.943Z"
      },
      {
        "duration": 391,
        "start_time": "2022-04-12T18:39:07.585Z"
      },
      {
        "duration": 15,
        "start_time": "2022-04-12T18:39:10.272Z"
      },
      {
        "duration": 7,
        "start_time": "2022-04-12T18:39:11.913Z"
      },
      {
        "duration": 351,
        "start_time": "2022-04-12T18:39:13.374Z"
      },
      {
        "duration": 8,
        "start_time": "2022-04-12T18:39:17.431Z"
      },
      {
        "duration": 11,
        "start_time": "2022-04-12T18:39:18.584Z"
      },
      {
        "duration": 21,
        "start_time": "2022-04-12T18:39:19.846Z"
      },
      {
        "duration": 34,
        "start_time": "2022-04-12T18:39:21.589Z"
      },
      {
        "duration": 13,
        "start_time": "2022-04-12T18:39:23.895Z"
      },
      {
        "duration": 24,
        "start_time": "2022-04-12T18:39:26.237Z"
      },
      {
        "duration": 11,
        "start_time": "2022-04-12T18:39:30.653Z"
      },
      {
        "duration": 11,
        "start_time": "2022-04-12T18:39:31.479Z"
      },
      {
        "duration": 14,
        "start_time": "2022-04-12T18:39:33.239Z"
      },
      {
        "duration": 20,
        "start_time": "2022-04-12T18:39:35.104Z"
      },
      {
        "duration": 6,
        "start_time": "2022-04-12T18:39:37.406Z"
      },
      {
        "duration": 14,
        "start_time": "2022-04-12T18:39:39.000Z"
      },
      {
        "duration": 20,
        "start_time": "2022-04-12T18:39:42.079Z"
      },
      {
        "duration": 9,
        "start_time": "2022-04-12T18:39:44.735Z"
      },
      {
        "duration": 16,
        "start_time": "2022-04-12T18:39:46.576Z"
      },
      {
        "duration": 385,
        "start_time": "2022-04-12T18:39:47.575Z"
      },
      {
        "duration": 8,
        "start_time": "2022-04-12T18:39:52.653Z"
      },
      {
        "duration": 7,
        "start_time": "2022-04-12T18:39:53.749Z"
      },
      {
        "duration": 61,
        "start_time": "2022-04-12T18:39:55.095Z"
      },
      {
        "duration": 252,
        "start_time": "2022-04-12T18:40:20.796Z"
      },
      {
        "duration": 262,
        "start_time": "2022-04-12T18:40:39.549Z"
      },
      {
        "duration": 14,
        "start_time": "2022-04-12T18:42:10.262Z"
      },
      {
        "duration": 329,
        "start_time": "2022-04-12T18:43:05.534Z"
      },
      {
        "duration": 333,
        "start_time": "2022-04-12T18:43:13.777Z"
      },
      {
        "duration": 311,
        "start_time": "2022-04-12T18:43:32.734Z"
      },
      {
        "duration": 399,
        "start_time": "2022-04-12T18:43:52.762Z"
      },
      {
        "duration": 722,
        "start_time": "2022-04-12T18:46:42.150Z"
      },
      {
        "duration": 616,
        "start_time": "2022-04-12T18:47:45.408Z"
      },
      {
        "duration": 574,
        "start_time": "2022-04-12T18:48:12.997Z"
      },
      {
        "duration": 356,
        "start_time": "2022-04-12T18:48:39.305Z"
      },
      {
        "duration": 493,
        "start_time": "2022-04-12T18:49:32.792Z"
      },
      {
        "duration": 480,
        "start_time": "2022-04-12T18:51:50.305Z"
      },
      {
        "duration": 430,
        "start_time": "2022-04-13T09:34:14.223Z"
      },
      {
        "duration": 114,
        "start_time": "2022-04-13T09:34:16.128Z"
      },
      {
        "duration": 15,
        "start_time": "2022-04-13T09:34:17.890Z"
      },
      {
        "duration": 10,
        "start_time": "2022-04-13T09:34:26.512Z"
      },
      {
        "duration": 611,
        "start_time": "2022-04-13T09:34:29.567Z"
      },
      {
        "duration": 198,
        "start_time": "2022-04-13T09:35:50.609Z"
      },
      {
        "duration": 5,
        "start_time": "2022-04-13T09:35:52.887Z"
      },
      {
        "duration": 7,
        "start_time": "2022-04-13T09:35:55.050Z"
      },
      {
        "duration": 16,
        "start_time": "2022-04-13T09:35:58.210Z"
      },
      {
        "duration": 24,
        "start_time": "2022-04-13T09:36:13.567Z"
      },
      {
        "duration": 10,
        "start_time": "2022-04-13T09:36:16.278Z"
      },
      {
        "duration": 14,
        "start_time": "2022-04-13T09:36:20.591Z"
      },
      {
        "duration": 2177,
        "start_time": "2022-04-13T09:39:32.657Z"
      },
      {
        "duration": 69,
        "start_time": "2022-04-13T09:39:40.666Z"
      },
      {
        "duration": 108,
        "start_time": "2022-04-13T09:39:42.191Z"
      },
      {
        "duration": 14,
        "start_time": "2022-04-13T09:39:43.811Z"
      },
      {
        "duration": 9,
        "start_time": "2022-04-13T09:39:46.120Z"
      },
      {
        "duration": 181,
        "start_time": "2022-04-13T09:39:47.945Z"
      },
      {
        "duration": 10,
        "start_time": "2022-04-13T09:39:49.642Z"
      },
      {
        "duration": 5,
        "start_time": "2022-04-13T09:39:51.710Z"
      },
      {
        "duration": 191,
        "start_time": "2022-04-13T09:39:53.358Z"
      },
      {
        "duration": 6,
        "start_time": "2022-04-13T09:39:55.464Z"
      },
      {
        "duration": 7,
        "start_time": "2022-04-13T09:39:57.066Z"
      },
      {
        "duration": 13,
        "start_time": "2022-04-13T09:39:58.142Z"
      },
      {
        "duration": 20,
        "start_time": "2022-04-13T09:39:59.775Z"
      },
      {
        "duration": 11,
        "start_time": "2022-04-13T09:40:01.906Z"
      },
      {
        "duration": 12,
        "start_time": "2022-04-13T09:40:03.910Z"
      },
      {
        "duration": 7,
        "start_time": "2022-04-13T09:40:06.495Z"
      },
      {
        "duration": 7,
        "start_time": "2022-04-13T09:40:08.150Z"
      },
      {
        "duration": 10,
        "start_time": "2022-04-13T09:40:09.893Z"
      },
      {
        "duration": 13,
        "start_time": "2022-04-13T09:40:11.742Z"
      },
      {
        "duration": 5,
        "start_time": "2022-04-13T09:40:13.526Z"
      },
      {
        "duration": 10,
        "start_time": "2022-04-13T09:40:15.079Z"
      },
      {
        "duration": 12,
        "start_time": "2022-04-13T09:40:16.415Z"
      },
      {
        "duration": 7,
        "start_time": "2022-04-13T09:40:17.632Z"
      },
      {
        "duration": 12,
        "start_time": "2022-04-13T09:40:19.120Z"
      },
      {
        "duration": 308,
        "start_time": "2022-04-13T09:40:20.138Z"
      },
      {
        "duration": 6,
        "start_time": "2022-04-13T09:40:22.045Z"
      },
      {
        "duration": 5,
        "start_time": "2022-04-13T09:40:23.286Z"
      },
      {
        "duration": 42,
        "start_time": "2022-04-13T09:40:24.855Z"
      },
      {
        "duration": 9,
        "start_time": "2022-04-13T09:40:26.966Z"
      },
      {
        "duration": 219,
        "start_time": "2022-04-13T09:40:28.974Z"
      },
      {
        "duration": 237,
        "start_time": "2022-04-13T09:40:30.806Z"
      },
      {
        "duration": 26,
        "start_time": "2022-04-13T09:41:46.313Z"
      },
      {
        "duration": 11,
        "start_time": "2022-04-13T09:42:01.226Z"
      },
      {
        "duration": 7,
        "start_time": "2022-04-13T09:42:31.597Z"
      },
      {
        "duration": 6,
        "start_time": "2022-04-13T09:42:55.249Z"
      },
      {
        "duration": 6,
        "start_time": "2022-04-13T09:43:14.632Z"
      },
      {
        "duration": 252,
        "start_time": "2022-04-13T09:43:18.198Z"
      },
      {
        "duration": 9,
        "start_time": "2022-04-13T09:46:00.911Z"
      },
      {
        "duration": 9,
        "start_time": "2022-04-13T09:46:14.425Z"
      },
      {
        "duration": 13,
        "start_time": "2022-04-13T09:50:06.066Z"
      },
      {
        "duration": 14,
        "start_time": "2022-04-13T10:33:20.832Z"
      },
      {
        "duration": 8,
        "start_time": "2022-04-13T10:33:57.737Z"
      },
      {
        "duration": 12,
        "start_time": "2022-04-13T10:35:29.745Z"
      },
      {
        "duration": 5,
        "start_time": "2022-04-13T10:36:11.802Z"
      },
      {
        "duration": 11,
        "start_time": "2022-04-13T10:36:13.361Z"
      },
      {
        "duration": 145,
        "start_time": "2022-04-13T10:36:25.176Z"
      },
      {
        "duration": 205,
        "start_time": "2022-04-13T10:36:37.472Z"
      },
      {
        "duration": 347,
        "start_time": "2022-04-13T10:37:20.894Z"
      },
      {
        "duration": 12,
        "start_time": "2022-04-13T10:38:16.662Z"
      },
      {
        "duration": 5,
        "start_time": "2022-04-13T10:38:40.735Z"
      },
      {
        "duration": 26,
        "start_time": "2022-04-13T10:40:02.411Z"
      },
      {
        "duration": 11,
        "start_time": "2022-04-13T10:40:13.681Z"
      },
      {
        "duration": 11,
        "start_time": "2022-04-13T10:40:21.142Z"
      },
      {
        "duration": 11,
        "start_time": "2022-04-13T10:40:25.014Z"
      },
      {
        "duration": 11,
        "start_time": "2022-04-13T10:40:30.238Z"
      },
      {
        "duration": 11,
        "start_time": "2022-04-13T10:40:35.224Z"
      },
      {
        "duration": 13,
        "start_time": "2022-04-13T10:40:38.959Z"
      },
      {
        "duration": 12,
        "start_time": "2022-04-13T10:40:45.982Z"
      },
      {
        "duration": 13,
        "start_time": "2022-04-13T10:41:02.210Z"
      },
      {
        "duration": 12,
        "start_time": "2022-04-13T10:41:12.017Z"
      },
      {
        "duration": 7,
        "start_time": "2022-04-13T10:42:03.560Z"
      },
      {
        "duration": 6,
        "start_time": "2022-04-13T10:42:21.061Z"
      },
      {
        "duration": 125,
        "start_time": "2022-04-13T10:43:27.349Z"
      },
      {
        "duration": 13,
        "start_time": "2022-04-13T10:43:37.698Z"
      },
      {
        "duration": 13,
        "start_time": "2022-04-13T10:44:39.097Z"
      },
      {
        "duration": 2187,
        "start_time": "2022-04-13T10:48:52.968Z"
      },
      {
        "duration": 15,
        "start_time": "2022-04-13T10:49:54.397Z"
      },
      {
        "duration": 8,
        "start_time": "2022-04-13T10:50:52.896Z"
      },
      {
        "duration": 142,
        "start_time": "2022-04-13T10:51:30.046Z"
      },
      {
        "duration": 161,
        "start_time": "2022-04-13T10:52:08.309Z"
      },
      {
        "duration": 163,
        "start_time": "2022-04-13T10:52:16.990Z"
      },
      {
        "duration": 173,
        "start_time": "2022-04-13T10:52:24.192Z"
      },
      {
        "duration": 173,
        "start_time": "2022-04-13T10:53:09.566Z"
      },
      {
        "duration": 10,
        "start_time": "2022-04-13T11:07:36.882Z"
      },
      {
        "duration": 6,
        "start_time": "2022-04-13T11:09:06.012Z"
      },
      {
        "duration": 302,
        "start_time": "2022-04-13T11:09:23.940Z"
      },
      {
        "duration": 148,
        "start_time": "2022-04-13T11:09:47.668Z"
      },
      {
        "duration": 83,
        "start_time": "2022-04-13T11:17:06.026Z"
      },
      {
        "duration": 114,
        "start_time": "2022-04-13T11:17:08.152Z"
      },
      {
        "duration": 15,
        "start_time": "2022-04-13T11:17:09.943Z"
      },
      {
        "duration": 10,
        "start_time": "2022-04-13T11:17:11.823Z"
      },
      {
        "duration": 185,
        "start_time": "2022-04-13T11:17:14.112Z"
      },
      {
        "duration": 10,
        "start_time": "2022-04-13T11:17:20.821Z"
      },
      {
        "duration": 5,
        "start_time": "2022-04-13T11:17:22.935Z"
      },
      {
        "duration": 227,
        "start_time": "2022-04-13T11:17:24.269Z"
      },
      {
        "duration": 6,
        "start_time": "2022-04-13T11:17:36.639Z"
      },
      {
        "duration": 1791,
        "start_time": "2022-04-13T11:18:40.309Z"
      },
      {
        "duration": 5,
        "start_time": "2022-04-13T11:18:51.002Z"
      },
      {
        "duration": 14,
        "start_time": "2022-04-13T11:19:10.288Z"
      },
      {
        "duration": 15,
        "start_time": "2022-04-13T11:19:12.402Z"
      },
      {
        "duration": 28,
        "start_time": "2022-04-13T11:19:23.890Z"
      },
      {
        "duration": 10,
        "start_time": "2022-04-13T11:19:29.552Z"
      },
      {
        "duration": 18,
        "start_time": "2022-04-13T11:19:32.391Z"
      },
      {
        "duration": 7,
        "start_time": "2022-04-13T11:19:38.799Z"
      },
      {
        "duration": 8,
        "start_time": "2022-04-13T11:19:40.569Z"
      },
      {
        "duration": 10,
        "start_time": "2022-04-13T11:19:42.613Z"
      },
      {
        "duration": 12,
        "start_time": "2022-04-13T11:19:44.830Z"
      },
      {
        "duration": 4,
        "start_time": "2022-04-13T11:19:46.726Z"
      },
      {
        "duration": 15,
        "start_time": "2022-04-13T11:19:48.374Z"
      },
      {
        "duration": 18,
        "start_time": "2022-04-13T11:19:50.195Z"
      },
      {
        "duration": 6,
        "start_time": "2022-04-13T11:19:51.934Z"
      },
      {
        "duration": 12,
        "start_time": "2022-04-13T11:19:53.696Z"
      },
      {
        "duration": 261,
        "start_time": "2022-04-13T11:19:54.656Z"
      },
      {
        "duration": 6,
        "start_time": "2022-04-13T11:19:58.239Z"
      },
      {
        "duration": 6,
        "start_time": "2022-04-13T11:20:00.204Z"
      },
      {
        "duration": 58,
        "start_time": "2022-04-13T11:20:01.799Z"
      },
      {
        "duration": 10,
        "start_time": "2022-04-13T11:20:04.462Z"
      },
      {
        "duration": 242,
        "start_time": "2022-04-13T11:20:06.802Z"
      },
      {
        "duration": 9,
        "start_time": "2022-04-13T11:20:08.302Z"
      },
      {
        "duration": 263,
        "start_time": "2022-04-13T11:20:09.557Z"
      },
      {
        "duration": 14,
        "start_time": "2022-04-13T11:20:11.397Z"
      },
      {
        "duration": 8,
        "start_time": "2022-04-13T11:20:12.899Z"
      },
      {
        "duration": 9,
        "start_time": "2022-04-13T11:20:14.602Z"
      },
      {
        "duration": 9,
        "start_time": "2022-04-13T11:20:17.356Z"
      },
      {
        "duration": 184,
        "start_time": "2022-04-13T11:20:26.223Z"
      },
      {
        "duration": 9,
        "start_time": "2022-04-13T11:20:35.829Z"
      },
      {
        "duration": 158,
        "start_time": "2022-04-13T11:20:37.838Z"
      },
      {
        "duration": 10,
        "start_time": "2022-04-13T11:24:19.134Z"
      },
      {
        "duration": 223,
        "start_time": "2022-04-13T11:26:56.958Z"
      },
      {
        "duration": 12,
        "start_time": "2022-04-13T11:28:42.191Z"
      },
      {
        "duration": 376,
        "start_time": "2022-04-13T11:29:01.551Z"
      },
      {
        "duration": 8,
        "start_time": "2022-04-13T11:29:21.624Z"
      },
      {
        "duration": 191,
        "start_time": "2022-04-13T11:29:44.236Z"
      },
      {
        "duration": 205,
        "start_time": "2022-04-13T11:31:16.560Z"
      },
      {
        "duration": 217,
        "start_time": "2022-04-13T11:31:50.751Z"
      },
      {
        "duration": 187,
        "start_time": "2022-04-13T11:32:10.723Z"
      },
      {
        "duration": 198,
        "start_time": "2022-04-13T11:32:31.994Z"
      },
      {
        "duration": 203,
        "start_time": "2022-04-13T11:33:27.021Z"
      },
      {
        "duration": 231,
        "start_time": "2022-04-13T11:33:41.802Z"
      },
      {
        "duration": 185,
        "start_time": "2022-04-13T11:38:05.690Z"
      },
      {
        "duration": 203,
        "start_time": "2022-04-13T11:38:13.924Z"
      },
      {
        "duration": 205,
        "start_time": "2022-04-13T11:38:21.315Z"
      },
      {
        "duration": 181,
        "start_time": "2022-04-13T11:38:51.217Z"
      },
      {
        "duration": 207,
        "start_time": "2022-04-13T11:39:12.314Z"
      },
      {
        "duration": 397,
        "start_time": "2022-04-13T11:40:06.229Z"
      },
      {
        "duration": 230,
        "start_time": "2022-04-13T11:40:20.394Z"
      },
      {
        "duration": 206,
        "start_time": "2022-04-13T11:44:12.691Z"
      },
      {
        "duration": 187,
        "start_time": "2022-04-13T11:44:51.222Z"
      },
      {
        "duration": 171,
        "start_time": "2022-04-13T11:50:04.529Z"
      },
      {
        "duration": 181,
        "start_time": "2022-04-13T11:50:16.622Z"
      },
      {
        "duration": 184,
        "start_time": "2022-04-13T12:20:48.446Z"
      },
      {
        "duration": 28,
        "start_time": "2022-04-13T12:20:54.509Z"
      },
      {
        "duration": 12,
        "start_time": "2022-04-13T12:21:15.744Z"
      },
      {
        "duration": 5,
        "start_time": "2022-04-13T12:25:04.321Z"
      },
      {
        "duration": 4,
        "start_time": "2022-04-13T12:28:48.635Z"
      },
      {
        "duration": 37,
        "start_time": "2022-04-13T12:32:03.089Z"
      },
      {
        "duration": 11,
        "start_time": "2022-04-13T12:32:28.359Z"
      },
      {
        "duration": 15,
        "start_time": "2022-04-13T12:33:06.490Z"
      },
      {
        "duration": 10,
        "start_time": "2022-04-13T12:35:58.419Z"
      },
      {
        "duration": 173,
        "start_time": "2022-04-13T12:36:16.467Z"
      },
      {
        "duration": 13,
        "start_time": "2022-04-13T12:39:34.070Z"
      },
      {
        "duration": 13,
        "start_time": "2022-04-13T12:39:48.598Z"
      },
      {
        "duration": 13,
        "start_time": "2022-04-13T12:39:58.411Z"
      },
      {
        "duration": 10,
        "start_time": "2022-04-13T12:41:39.531Z"
      },
      {
        "duration": 13,
        "start_time": "2022-04-13T12:47:41.714Z"
      },
      {
        "duration": 12,
        "start_time": "2022-04-13T12:48:35.793Z"
      },
      {
        "duration": 12,
        "start_time": "2022-04-13T12:48:38.082Z"
      },
      {
        "duration": 10,
        "start_time": "2022-04-13T12:48:39.643Z"
      },
      {
        "duration": 13,
        "start_time": "2022-04-13T12:50:09.596Z"
      },
      {
        "duration": 21,
        "start_time": "2022-04-13T12:50:22.869Z"
      },
      {
        "duration": 12,
        "start_time": "2022-04-13T12:50:33.469Z"
      },
      {
        "duration": 10,
        "start_time": "2022-04-13T12:51:15.691Z"
      },
      {
        "duration": 9,
        "start_time": "2022-04-13T12:52:16.892Z"
      },
      {
        "duration": 10,
        "start_time": "2022-04-13T12:52:29.252Z"
      },
      {
        "duration": 5,
        "start_time": "2022-04-13T12:57:03.820Z"
      },
      {
        "duration": 5,
        "start_time": "2022-04-13T12:57:20.770Z"
      },
      {
        "duration": 10,
        "start_time": "2022-04-13T12:57:48.830Z"
      },
      {
        "duration": 16,
        "start_time": "2022-04-13T13:43:12.452Z"
      },
      {
        "duration": 463,
        "start_time": "2022-04-13T13:51:24.064Z"
      },
      {
        "duration": 467,
        "start_time": "2022-04-13T13:51:55.830Z"
      },
      {
        "duration": 18,
        "start_time": "2022-04-13T13:52:26.982Z"
      },
      {
        "duration": 18,
        "start_time": "2022-04-13T13:54:57.100Z"
      },
      {
        "duration": 458,
        "start_time": "2022-04-13T16:34:05.368Z"
      },
      {
        "duration": 108,
        "start_time": "2022-04-13T16:34:07.653Z"
      },
      {
        "duration": 15,
        "start_time": "2022-04-13T16:34:10.046Z"
      },
      {
        "duration": 9,
        "start_time": "2022-04-13T16:34:14.110Z"
      },
      {
        "duration": 579,
        "start_time": "2022-04-13T16:34:22.441Z"
      },
      {
        "duration": 202,
        "start_time": "2022-04-13T16:35:10.056Z"
      },
      {
        "duration": 11,
        "start_time": "2022-04-13T16:35:12.566Z"
      },
      {
        "duration": 5,
        "start_time": "2022-04-13T16:35:14.173Z"
      },
      {
        "duration": 256,
        "start_time": "2022-04-13T16:35:15.674Z"
      },
      {
        "duration": 5,
        "start_time": "2022-04-13T16:35:18.536Z"
      },
      {
        "duration": 7,
        "start_time": "2022-04-13T16:35:20.550Z"
      },
      {
        "duration": 15,
        "start_time": "2022-04-13T16:35:22.359Z"
      },
      {
        "duration": 22,
        "start_time": "2022-04-13T16:35:24.713Z"
      },
      {
        "duration": 10,
        "start_time": "2022-04-13T16:35:27.593Z"
      },
      {
        "duration": 13,
        "start_time": "2022-04-13T16:35:30.862Z"
      },
      {
        "duration": 8,
        "start_time": "2022-04-13T16:35:35.037Z"
      },
      {
        "duration": 7,
        "start_time": "2022-04-13T16:35:42.408Z"
      },
      {
        "duration": 11,
        "start_time": "2022-04-13T16:35:45.166Z"
      },
      {
        "duration": 13,
        "start_time": "2022-04-13T16:35:47.488Z"
      },
      {
        "duration": 5,
        "start_time": "2022-04-13T16:35:49.935Z"
      },
      {
        "duration": 9,
        "start_time": "2022-04-13T16:35:51.296Z"
      },
      {
        "duration": 12,
        "start_time": "2022-04-13T16:35:53.167Z"
      },
      {
        "duration": 6,
        "start_time": "2022-04-13T16:35:54.485Z"
      },
      {
        "duration": 11,
        "start_time": "2022-04-13T16:35:56.481Z"
      },
      {
        "duration": 233,
        "start_time": "2022-04-13T16:35:59.052Z"
      },
      {
        "duration": 5,
        "start_time": "2022-04-13T16:36:02.798Z"
      },
      {
        "duration": 5,
        "start_time": "2022-04-13T16:36:03.848Z"
      },
      {
        "duration": 41,
        "start_time": "2022-04-13T16:36:05.768Z"
      },
      {
        "duration": 10,
        "start_time": "2022-04-13T16:36:08.285Z"
      },
      {
        "duration": 229,
        "start_time": "2022-04-13T16:36:10.196Z"
      },
      {
        "duration": 9,
        "start_time": "2022-04-13T16:36:15.668Z"
      },
      {
        "duration": 258,
        "start_time": "2022-04-13T16:36:17.901Z"
      },
      {
        "duration": 10,
        "start_time": "2022-04-13T16:36:20.261Z"
      },
      {
        "duration": 6,
        "start_time": "2022-04-13T16:36:22.045Z"
      },
      {
        "duration": 9,
        "start_time": "2022-04-13T16:36:26.272Z"
      },
      {
        "duration": 9,
        "start_time": "2022-04-13T16:36:28.238Z"
      },
      {
        "duration": 167,
        "start_time": "2022-04-13T16:36:31.544Z"
      },
      {
        "duration": 7,
        "start_time": "2022-04-13T16:36:33.694Z"
      },
      {
        "duration": 133,
        "start_time": "2022-04-13T16:36:35.485Z"
      },
      {
        "duration": 10,
        "start_time": "2022-04-13T16:36:41.478Z"
      },
      {
        "duration": 178,
        "start_time": "2022-04-13T16:36:43.437Z"
      },
      {
        "duration": 241,
        "start_time": "2022-04-13T16:36:46.301Z"
      },
      {
        "duration": 12,
        "start_time": "2022-04-13T16:36:49.288Z"
      },
      {
        "duration": 11,
        "start_time": "2022-04-13T16:36:51.312Z"
      },
      {
        "duration": 16,
        "start_time": "2022-04-13T16:36:52.909Z"
      },
      {
        "duration": 17,
        "start_time": "2022-04-13T16:36:55.158Z"
      },
      {
        "duration": 12,
        "start_time": "2022-04-13T16:36:57.445Z"
      },
      {
        "duration": 11,
        "start_time": "2022-04-13T16:36:59.544Z"
      },
      {
        "duration": 10,
        "start_time": "2022-04-13T16:48:12.801Z"
      },
      {
        "duration": 200,
        "start_time": "2022-04-13T16:57:29.238Z"
      },
      {
        "duration": 236,
        "start_time": "2022-04-13T16:59:19.776Z"
      },
      {
        "duration": 13,
        "start_time": "2022-04-13T17:00:13.150Z"
      },
      {
        "duration": 10,
        "start_time": "2022-04-13T17:00:22.924Z"
      },
      {
        "duration": 9,
        "start_time": "2022-04-13T17:00:29.405Z"
      },
      {
        "duration": 5,
        "start_time": "2022-04-13T17:04:23.567Z"
      },
      {
        "duration": 5,
        "start_time": "2022-04-13T17:04:42.318Z"
      },
      {
        "duration": 4,
        "start_time": "2022-04-13T17:05:20.260Z"
      },
      {
        "duration": 293,
        "start_time": "2022-04-13T17:05:55.855Z"
      },
      {
        "duration": 256,
        "start_time": "2022-04-13T17:06:15.086Z"
      },
      {
        "duration": 5,
        "start_time": "2022-04-13T17:07:08.349Z"
      },
      {
        "duration": 8,
        "start_time": "2022-04-13T17:07:56.203Z"
      },
      {
        "duration": 5,
        "start_time": "2022-04-13T17:08:24.348Z"
      },
      {
        "duration": 10,
        "start_time": "2022-04-13T17:08:45.226Z"
      },
      {
        "duration": 13,
        "start_time": "2022-04-13T17:13:42.997Z"
      },
      {
        "duration": 72,
        "start_time": "2022-04-13T17:13:49.525Z"
      },
      {
        "duration": 113,
        "start_time": "2022-04-13T17:13:51.555Z"
      },
      {
        "duration": 16,
        "start_time": "2022-04-13T17:13:53.659Z"
      },
      {
        "duration": 10,
        "start_time": "2022-04-13T17:13:56.005Z"
      },
      {
        "duration": 178,
        "start_time": "2022-04-13T17:13:57.899Z"
      },
      {
        "duration": 9,
        "start_time": "2022-04-13T17:13:59.876Z"
      },
      {
        "duration": 6,
        "start_time": "2022-04-13T17:14:01.700Z"
      },
      {
        "duration": 239,
        "start_time": "2022-04-13T17:14:03.623Z"
      },
      {
        "duration": 5,
        "start_time": "2022-04-13T17:14:07.422Z"
      },
      {
        "duration": 6,
        "start_time": "2022-04-13T17:14:09.243Z"
      },
      {
        "duration": 15,
        "start_time": "2022-04-13T17:14:10.411Z"
      },
      {
        "duration": 24,
        "start_time": "2022-04-13T17:14:12.261Z"
      },
      {
        "duration": 11,
        "start_time": "2022-04-13T17:14:15.660Z"
      },
      {
        "duration": 12,
        "start_time": "2022-04-13T17:14:19.485Z"
      },
      {
        "duration": 9,
        "start_time": "2022-04-13T17:14:22.118Z"
      },
      {
        "duration": 8,
        "start_time": "2022-04-13T17:14:23.589Z"
      },
      {
        "duration": 11,
        "start_time": "2022-04-13T17:14:25.030Z"
      },
      {
        "duration": 14,
        "start_time": "2022-04-13T17:14:28.238Z"
      },
      {
        "duration": 5,
        "start_time": "2022-04-13T17:14:30.077Z"
      },
      {
        "duration": 10,
        "start_time": "2022-04-13T17:14:31.125Z"
      },
      {
        "duration": 14,
        "start_time": "2022-04-13T17:14:32.255Z"
      },
      {
        "duration": 7,
        "start_time": "2022-04-13T17:14:33.468Z"
      },
      {
        "duration": 10,
        "start_time": "2022-04-13T17:14:35.118Z"
      },
      {
        "duration": 311,
        "start_time": "2022-04-13T17:14:35.948Z"
      },
      {
        "duration": 5,
        "start_time": "2022-04-13T17:14:38.679Z"
      },
      {
        "duration": 6,
        "start_time": "2022-04-13T17:14:39.668Z"
      },
      {
        "duration": 40,
        "start_time": "2022-04-13T17:14:41.462Z"
      },
      {
        "duration": 8,
        "start_time": "2022-04-13T17:14:43.157Z"
      },
      {
        "duration": 224,
        "start_time": "2022-04-13T17:14:45.083Z"
      },
      {
        "duration": 12,
        "start_time": "2022-04-13T17:14:47.618Z"
      },
      {
        "duration": 6,
        "start_time": "2022-04-13T17:14:55.059Z"
      },
      {
        "duration": 8,
        "start_time": "2022-04-13T17:14:59.118Z"
      },
      {
        "duration": 10,
        "start_time": "2022-04-13T17:15:01.150Z"
      },
      {
        "duration": 182,
        "start_time": "2022-04-13T17:15:04.069Z"
      },
      {
        "duration": 7,
        "start_time": "2022-04-13T17:15:06.244Z"
      },
      {
        "duration": 143,
        "start_time": "2022-04-13T17:15:08.389Z"
      },
      {
        "duration": 11,
        "start_time": "2022-04-13T17:15:10.012Z"
      },
      {
        "duration": 181,
        "start_time": "2022-04-13T17:15:11.638Z"
      },
      {
        "duration": 180,
        "start_time": "2022-04-13T17:15:13.988Z"
      },
      {
        "duration": 13,
        "start_time": "2022-04-13T17:15:16.498Z"
      },
      {
        "duration": 12,
        "start_time": "2022-04-13T17:15:44.964Z"
      },
      {
        "duration": 10,
        "start_time": "2022-04-13T17:16:01.757Z"
      },
      {
        "duration": 10,
        "start_time": "2022-04-13T17:16:05.291Z"
      },
      {
        "duration": 16,
        "start_time": "2022-04-13T17:16:15.236Z"
      },
      {
        "duration": 13,
        "start_time": "2022-04-13T17:16:26.621Z"
      },
      {
        "duration": 12,
        "start_time": "2022-04-13T17:16:33.382Z"
      },
      {
        "duration": 9,
        "start_time": "2022-04-13T17:16:36.316Z"
      },
      {
        "duration": 8,
        "start_time": "2022-04-13T17:16:38.277Z"
      },
      {
        "duration": 317,
        "start_time": "2022-04-13T17:16:39.694Z"
      },
      {
        "duration": 4,
        "start_time": "2022-04-13T17:16:44.430Z"
      },
      {
        "duration": 10,
        "start_time": "2022-04-13T17:16:46.246Z"
      },
      {
        "duration": 243,
        "start_time": "2022-04-13T17:23:42.198Z"
      },
      {
        "duration": 14,
        "start_time": "2022-04-13T17:25:12.855Z"
      },
      {
        "duration": 17,
        "start_time": "2022-04-13T17:29:56.396Z"
      },
      {
        "duration": 14,
        "start_time": "2022-04-13T17:30:16.024Z"
      },
      {
        "duration": 11,
        "start_time": "2022-04-13T17:30:59.316Z"
      },
      {
        "duration": 11,
        "start_time": "2022-04-13T17:31:22.656Z"
      },
      {
        "duration": 5,
        "start_time": "2022-04-13T17:41:15.720Z"
      },
      {
        "duration": 27,
        "start_time": "2022-04-13T17:44:14.223Z"
      },
      {
        "duration": 11,
        "start_time": "2022-04-13T17:44:35.657Z"
      },
      {
        "duration": 11,
        "start_time": "2022-04-13T17:45:26.984Z"
      },
      {
        "duration": 9,
        "start_time": "2022-04-13T17:47:21.594Z"
      },
      {
        "duration": 13,
        "start_time": "2022-04-13T17:57:26.745Z"
      },
      {
        "duration": 17,
        "start_time": "2022-04-13T17:58:45.072Z"
      },
      {
        "duration": 1179,
        "start_time": "2022-04-13T18:13:19.392Z"
      },
      {
        "duration": 7,
        "start_time": "2022-04-13T18:13:53.585Z"
      },
      {
        "duration": 5,
        "start_time": "2022-04-13T18:14:06.218Z"
      },
      {
        "duration": 27,
        "start_time": "2022-04-13T18:14:53.370Z"
      },
      {
        "duration": 26,
        "start_time": "2022-04-13T18:15:48.990Z"
      },
      {
        "duration": 28,
        "start_time": "2022-04-13T18:16:18.489Z"
      },
      {
        "duration": 26,
        "start_time": "2022-04-13T18:16:46.589Z"
      },
      {
        "duration": 27,
        "start_time": "2022-04-13T18:16:58.522Z"
      },
      {
        "duration": 18,
        "start_time": "2022-04-13T18:17:18.997Z"
      },
      {
        "duration": 28,
        "start_time": "2022-04-13T18:17:28.651Z"
      },
      {
        "duration": 71,
        "start_time": "2022-04-13T18:17:35.274Z"
      },
      {
        "duration": 115,
        "start_time": "2022-04-13T18:17:37.355Z"
      },
      {
        "duration": 13,
        "start_time": "2022-04-13T18:17:39.361Z"
      },
      {
        "duration": 10,
        "start_time": "2022-04-13T18:17:41.220Z"
      },
      {
        "duration": 202,
        "start_time": "2022-04-13T18:17:42.807Z"
      },
      {
        "duration": 10,
        "start_time": "2022-04-13T18:17:44.675Z"
      },
      {
        "duration": 5,
        "start_time": "2022-04-13T18:17:46.472Z"
      },
      {
        "duration": 193,
        "start_time": "2022-04-13T18:17:47.497Z"
      },
      {
        "duration": 6,
        "start_time": "2022-04-13T18:17:49.347Z"
      },
      {
        "duration": 7,
        "start_time": "2022-04-13T18:17:51.154Z"
      },
      {
        "duration": 14,
        "start_time": "2022-04-13T18:17:52.218Z"
      },
      {
        "duration": 23,
        "start_time": "2022-04-13T18:17:54.142Z"
      },
      {
        "duration": 10,
        "start_time": "2022-04-13T18:17:56.197Z"
      },
      {
        "duration": 12,
        "start_time": "2022-04-13T18:17:57.850Z"
      },
      {
        "duration": 8,
        "start_time": "2022-04-13T18:18:01.947Z"
      },
      {
        "duration": 7,
        "start_time": "2022-04-13T18:18:02.817Z"
      },
      {
        "duration": 10,
        "start_time": "2022-04-13T18:18:04.633Z"
      },
      {
        "duration": 13,
        "start_time": "2022-04-13T18:18:07.144Z"
      },
      {
        "duration": 5,
        "start_time": "2022-04-13T18:18:09.050Z"
      },
      {
        "duration": 10,
        "start_time": "2022-04-13T18:18:10.670Z"
      },
      {
        "duration": 13,
        "start_time": "2022-04-13T18:18:12.311Z"
      },
      {
        "duration": 6,
        "start_time": "2022-04-13T18:18:13.483Z"
      },
      {
        "duration": 12,
        "start_time": "2022-04-13T18:18:14.656Z"
      },
      {
        "duration": 256,
        "start_time": "2022-04-13T18:18:16.006Z"
      },
      {
        "duration": 6,
        "start_time": "2022-04-13T18:18:17.833Z"
      },
      {
        "duration": 6,
        "start_time": "2022-04-13T18:18:19.043Z"
      },
      {
        "duration": 43,
        "start_time": "2022-04-13T18:18:20.300Z"
      },
      {
        "duration": 9,
        "start_time": "2022-04-13T18:18:22.515Z"
      },
      {
        "duration": 254,
        "start_time": "2022-04-13T18:18:24.475Z"
      },
      {
        "duration": 10,
        "start_time": "2022-04-13T18:18:26.862Z"
      },
      {
        "duration": 373,
        "start_time": "2022-04-13T18:18:30.264Z"
      },
      {
        "duration": 10,
        "start_time": "2022-04-13T18:18:32.617Z"
      },
      {
        "duration": 5,
        "start_time": "2022-04-13T18:18:35.569Z"
      },
      {
        "duration": 9,
        "start_time": "2022-04-13T18:18:38.978Z"
      },
      {
        "duration": 10,
        "start_time": "2022-04-13T18:18:46.403Z"
      },
      {
        "duration": 9,
        "start_time": "2022-04-13T18:18:48.236Z"
      },
      {
        "duration": 183,
        "start_time": "2022-04-13T18:18:50.068Z"
      },
      {
        "duration": 9,
        "start_time": "2022-04-13T18:18:51.950Z"
      },
      {
        "duration": 137,
        "start_time": "2022-04-13T18:18:53.328Z"
      },
      {
        "duration": 9,
        "start_time": "2022-04-13T18:18:55.709Z"
      },
      {
        "duration": 184,
        "start_time": "2022-04-13T18:18:57.497Z"
      },
      {
        "duration": 185,
        "start_time": "2022-04-13T18:18:59.498Z"
      },
      {
        "duration": 12,
        "start_time": "2022-04-13T18:19:01.174Z"
      },
      {
        "duration": 11,
        "start_time": "2022-04-13T18:19:03.060Z"
      },
      {
        "duration": 11,
        "start_time": "2022-04-13T18:19:04.651Z"
      },
      {
        "duration": 19,
        "start_time": "2022-04-13T18:19:05.893Z"
      },
      {
        "duration": 13,
        "start_time": "2022-04-13T18:19:07.994Z"
      },
      {
        "duration": 13,
        "start_time": "2022-04-13T18:19:10.024Z"
      },
      {
        "duration": 9,
        "start_time": "2022-04-13T18:19:12.763Z"
      },
      {
        "duration": 9,
        "start_time": "2022-04-13T18:19:14.481Z"
      },
      {
        "duration": 257,
        "start_time": "2022-04-13T18:19:16.052Z"
      },
      {
        "duration": 5,
        "start_time": "2022-04-13T18:19:18.330Z"
      },
      {
        "duration": 11,
        "start_time": "2022-04-13T18:19:19.443Z"
      },
      {
        "duration": 9,
        "start_time": "2022-04-13T18:19:21.729Z"
      },
      {
        "duration": 266,
        "start_time": "2022-04-13T18:19:22.956Z"
      },
      {
        "duration": 18,
        "start_time": "2022-04-13T18:19:25.368Z"
      },
      {
        "duration": 18,
        "start_time": "2022-04-13T18:19:27.497Z"
      },
      {
        "duration": 12,
        "start_time": "2022-04-13T18:19:29.002Z"
      },
      {
        "duration": 11,
        "start_time": "2022-04-13T18:19:30.505Z"
      },
      {
        "duration": 5,
        "start_time": "2022-04-13T18:19:31.882Z"
      },
      {
        "duration": 10,
        "start_time": "2022-04-13T18:19:33.526Z"
      },
      {
        "duration": 11,
        "start_time": "2022-04-13T18:19:35.455Z"
      },
      {
        "duration": 16,
        "start_time": "2022-04-13T18:19:37.300Z"
      },
      {
        "duration": 30,
        "start_time": "2022-04-13T18:19:40.009Z"
      },
      {
        "duration": 27,
        "start_time": "2022-04-13T18:19:54.714Z"
      },
      {
        "duration": 27,
        "start_time": "2022-04-13T18:20:01.095Z"
      },
      {
        "duration": 27,
        "start_time": "2022-04-13T18:20:15.127Z"
      },
      {
        "duration": 8,
        "start_time": "2022-04-13T18:23:53.123Z"
      },
      {
        "duration": 25,
        "start_time": "2022-04-13T18:24:04.824Z"
      },
      {
        "duration": 25,
        "start_time": "2022-04-13T18:25:36.267Z"
      },
      {
        "duration": 26,
        "start_time": "2022-04-13T18:26:31.719Z"
      },
      {
        "duration": 13,
        "start_time": "2022-04-13T18:30:55.160Z"
      },
      {
        "duration": 12,
        "start_time": "2022-04-13T18:31:10.811Z"
      },
      {
        "duration": 266,
        "start_time": "2022-04-13T18:33:06.771Z"
      },
      {
        "duration": 11,
        "start_time": "2022-04-13T18:33:43.076Z"
      },
      {
        "duration": 274,
        "start_time": "2022-04-13T18:33:51.417Z"
      },
      {
        "duration": 90,
        "start_time": "2022-04-13T18:35:39.965Z"
      },
      {
        "duration": 1046,
        "start_time": "2022-04-13T18:39:19.876Z"
      },
      {
        "duration": 11,
        "start_time": "2022-04-13T18:39:37.054Z"
      },
      {
        "duration": 1082,
        "start_time": "2022-04-13T18:39:40.262Z"
      },
      {
        "duration": 152,
        "start_time": "2022-04-13T18:40:55.092Z"
      },
      {
        "duration": 11,
        "start_time": "2022-04-13T18:42:00.166Z"
      },
      {
        "duration": 155,
        "start_time": "2022-04-13T18:42:54.305Z"
      },
      {
        "duration": 8,
        "start_time": "2022-04-13T18:48:19.358Z"
      },
      {
        "duration": 7,
        "start_time": "2022-04-13T18:49:05.992Z"
      },
      {
        "duration": 36,
        "start_time": "2022-04-13T18:50:32.197Z"
      },
      {
        "duration": 12,
        "start_time": "2022-04-13T18:51:13.205Z"
      },
      {
        "duration": 161,
        "start_time": "2022-04-13T18:51:57.279Z"
      },
      {
        "duration": 8,
        "start_time": "2022-04-13T18:54:29.349Z"
      },
      {
        "duration": 171,
        "start_time": "2022-04-13T18:55:18.790Z"
      },
      {
        "duration": 150,
        "start_time": "2022-04-13T18:57:08.946Z"
      },
      {
        "duration": 171,
        "start_time": "2022-04-13T18:57:25.414Z"
      },
      {
        "duration": 476,
        "start_time": "2022-04-14T04:37:44.646Z"
      },
      {
        "duration": 108,
        "start_time": "2022-04-14T04:37:46.781Z"
      },
      {
        "duration": 15,
        "start_time": "2022-04-14T04:37:48.966Z"
      },
      {
        "duration": 9,
        "start_time": "2022-04-14T04:37:52.197Z"
      },
      {
        "duration": 545,
        "start_time": "2022-04-14T04:37:54.588Z"
      },
      {
        "duration": 10,
        "start_time": "2022-04-14T04:37:56.900Z"
      },
      {
        "duration": 5,
        "start_time": "2022-04-14T04:37:59.123Z"
      },
      {
        "duration": 188,
        "start_time": "2022-04-14T04:38:01.270Z"
      },
      {
        "duration": 6,
        "start_time": "2022-04-14T04:38:05.021Z"
      },
      {
        "duration": 8,
        "start_time": "2022-04-14T04:38:12.939Z"
      },
      {
        "duration": 16,
        "start_time": "2022-04-14T04:38:16.349Z"
      },
      {
        "duration": 21,
        "start_time": "2022-04-14T04:38:18.661Z"
      },
      {
        "duration": 9,
        "start_time": "2022-04-14T04:38:22.924Z"
      },
      {
        "duration": 11,
        "start_time": "2022-04-14T04:38:25.448Z"
      },
      {
        "duration": 8,
        "start_time": "2022-04-14T04:38:30.940Z"
      },
      {
        "duration": 6,
        "start_time": "2022-04-14T04:38:32.229Z"
      },
      {
        "duration": 9,
        "start_time": "2022-04-14T04:38:34.893Z"
      },
      {
        "duration": 13,
        "start_time": "2022-04-14T04:38:37.228Z"
      },
      {
        "duration": 5,
        "start_time": "2022-04-14T04:38:39.381Z"
      },
      {
        "duration": 9,
        "start_time": "2022-04-14T04:38:41.372Z"
      },
      {
        "duration": 12,
        "start_time": "2022-04-14T04:38:42.766Z"
      },
      {
        "duration": 6,
        "start_time": "2022-04-14T04:38:45.166Z"
      },
      {
        "duration": 10,
        "start_time": "2022-04-14T04:38:50.979Z"
      },
      {
        "duration": 271,
        "start_time": "2022-04-14T04:38:52.668Z"
      },
      {
        "duration": 5,
        "start_time": "2022-04-14T04:38:54.933Z"
      },
      {
        "duration": 5,
        "start_time": "2022-04-14T04:38:56.167Z"
      },
      {
        "duration": 40,
        "start_time": "2022-04-14T04:38:58.525Z"
      },
      {
        "duration": 10,
        "start_time": "2022-04-14T04:39:02.763Z"
      },
      {
        "duration": 191,
        "start_time": "2022-04-14T04:39:05.286Z"
      },
      {
        "duration": 10,
        "start_time": "2022-04-14T04:39:09.051Z"
      },
      {
        "duration": 209,
        "start_time": "2022-04-14T04:39:11.477Z"
      },
      {
        "duration": 11,
        "start_time": "2022-04-14T04:39:14.926Z"
      },
      {
        "duration": 5,
        "start_time": "2022-04-14T04:39:17.254Z"
      },
      {
        "duration": 9,
        "start_time": "2022-04-14T04:39:24.269Z"
      },
      {
        "duration": 10,
        "start_time": "2022-04-14T04:39:26.852Z"
      },
      {
        "duration": 163,
        "start_time": "2022-04-14T04:39:29.117Z"
      },
      {
        "duration": 8,
        "start_time": "2022-04-14T04:39:31.403Z"
      },
      {
        "duration": 124,
        "start_time": "2022-04-14T04:39:34.942Z"
      },
      {
        "duration": 10,
        "start_time": "2022-04-14T04:39:37.563Z"
      },
      {
        "duration": 155,
        "start_time": "2022-04-14T04:39:39.195Z"
      },
      {
        "duration": 144,
        "start_time": "2022-04-14T04:39:41.779Z"
      },
      {
        "duration": 11,
        "start_time": "2022-04-14T04:39:44.358Z"
      },
      {
        "duration": 11,
        "start_time": "2022-04-14T04:39:47.317Z"
      },
      {
        "duration": 11,
        "start_time": "2022-04-14T04:39:48.763Z"
      },
      {
        "duration": 81,
        "start_time": "2022-04-14T04:39:50.069Z"
      },
      {
        "duration": 12,
        "start_time": "2022-04-14T04:39:54.251Z"
      },
      {
        "duration": 11,
        "start_time": "2022-04-14T04:39:58.196Z"
      },
      {
        "duration": 8,
        "start_time": "2022-04-14T04:39:59.859Z"
      },
      {
        "duration": 9,
        "start_time": "2022-04-14T04:40:01.701Z"
      },
      {
        "duration": 207,
        "start_time": "2022-04-14T04:40:03.563Z"
      },
      {
        "duration": 4,
        "start_time": "2022-04-14T04:40:05.563Z"
      },
      {
        "duration": 10,
        "start_time": "2022-04-14T04:40:07.610Z"
      },
      {
        "duration": 235,
        "start_time": "2022-04-14T04:40:09.422Z"
      },
      {
        "duration": 14,
        "start_time": "2022-04-14T04:40:11.417Z"
      },
      {
        "duration": 11,
        "start_time": "2022-04-14T04:40:13.301Z"
      },
      {
        "duration": 11,
        "start_time": "2022-04-14T04:40:16.020Z"
      },
      {
        "duration": 10,
        "start_time": "2022-04-14T04:40:20.297Z"
      },
      {
        "duration": 5,
        "start_time": "2022-04-14T04:40:22.483Z"
      },
      {
        "duration": 11,
        "start_time": "2022-04-14T04:40:25.469Z"
      },
      {
        "duration": 8,
        "start_time": "2022-04-14T04:40:28.324Z"
      },
      {
        "duration": 14,
        "start_time": "2022-04-14T04:40:42.267Z"
      },
      {
        "duration": 23,
        "start_time": "2022-04-14T04:40:44.470Z"
      },
      {
        "duration": 12,
        "start_time": "2022-04-14T04:40:46.514Z"
      },
      {
        "duration": 131,
        "start_time": "2022-04-14T04:40:48.467Z"
      },
      {
        "duration": 25,
        "start_time": "2022-04-14T04:40:53.997Z"
      },
      {
        "duration": 7,
        "start_time": "2022-04-14T04:40:57.877Z"
      },
      {
        "duration": 124,
        "start_time": "2022-04-14T04:41:00.501Z"
      },
      {
        "duration": 8,
        "start_time": "2022-04-14T04:41:06.022Z"
      },
      {
        "duration": 141,
        "start_time": "2022-04-14T04:41:14.197Z"
      },
      {
        "duration": 7,
        "start_time": "2022-04-14T04:42:01.940Z"
      },
      {
        "duration": 118,
        "start_time": "2022-04-14T04:42:57.279Z"
      },
      {
        "duration": 8,
        "start_time": "2022-04-14T04:45:56.837Z"
      },
      {
        "duration": 65,
        "start_time": "2022-04-14T04:46:47.652Z"
      },
      {
        "duration": 96,
        "start_time": "2022-04-14T04:46:54.485Z"
      },
      {
        "duration": 8,
        "start_time": "2022-04-14T04:51:45.863Z"
      },
      {
        "duration": 8,
        "start_time": "2022-04-14T04:52:22.751Z"
      },
      {
        "duration": 133,
        "start_time": "2022-04-14T04:52:51.686Z"
      },
      {
        "duration": 1938,
        "start_time": "2022-04-14T04:54:51.986Z"
      },
      {
        "duration": 160,
        "start_time": "2022-04-14T04:55:51.355Z"
      },
      {
        "duration": 148,
        "start_time": "2022-04-14T04:56:44.581Z"
      },
      {
        "duration": 155,
        "start_time": "2022-04-14T04:57:10.355Z"
      },
      {
        "duration": 146,
        "start_time": "2022-04-14T04:58:09.843Z"
      },
      {
        "duration": 131,
        "start_time": "2022-04-14T05:01:15.591Z"
      },
      {
        "duration": 143,
        "start_time": "2022-04-14T05:06:38.187Z"
      },
      {
        "duration": 6,
        "start_time": "2022-04-14T05:11:05.159Z"
      },
      {
        "duration": 244,
        "start_time": "2022-04-14T05:13:17.810Z"
      },
      {
        "duration": 187,
        "start_time": "2022-04-14T05:14:07.180Z"
      },
      {
        "duration": 428,
        "start_time": "2022-04-14T09:16:23.130Z"
      },
      {
        "duration": 109,
        "start_time": "2022-04-14T09:16:30.034Z"
      },
      {
        "duration": 21,
        "start_time": "2022-04-14T09:16:33.207Z"
      },
      {
        "duration": 101,
        "start_time": "2022-04-14T10:38:02.709Z"
      },
      {
        "duration": 4,
        "start_time": "2022-04-14T11:09:52.479Z"
      },
      {
        "duration": 9,
        "start_time": "2022-04-14T11:10:38.692Z"
      },
      {
        "duration": 110,
        "start_time": "2022-04-14T11:11:11.422Z"
      },
      {
        "duration": 8,
        "start_time": "2022-04-14T11:11:21.500Z"
      },
      {
        "duration": 48,
        "start_time": "2022-04-23T19:55:06.021Z"
      },
      {
        "duration": 505,
        "start_time": "2022-04-23T19:55:18.051Z"
      },
      {
        "duration": 120,
        "start_time": "2022-04-23T19:55:18.558Z"
      },
      {
        "duration": 22,
        "start_time": "2022-04-23T19:55:18.680Z"
      },
      {
        "duration": 9,
        "start_time": "2022-04-23T19:55:18.704Z"
      },
      {
        "duration": 450,
        "start_time": "2022-04-23T19:55:18.714Z"
      },
      {
        "duration": 10,
        "start_time": "2022-04-23T19:55:19.166Z"
      },
      {
        "duration": 17,
        "start_time": "2022-04-23T19:55:19.177Z"
      },
      {
        "duration": 224,
        "start_time": "2022-04-23T19:55:19.195Z"
      },
      {
        "duration": 6,
        "start_time": "2022-04-23T19:55:19.421Z"
      },
      {
        "duration": 9,
        "start_time": "2022-04-23T19:55:19.431Z"
      },
      {
        "duration": 18,
        "start_time": "2022-04-23T19:55:19.442Z"
      },
      {
        "duration": 48,
        "start_time": "2022-04-23T19:55:19.462Z"
      },
      {
        "duration": 9,
        "start_time": "2022-04-23T19:55:19.512Z"
      },
      {
        "duration": 13,
        "start_time": "2022-04-23T19:55:19.523Z"
      },
      {
        "duration": 7,
        "start_time": "2022-04-23T19:55:19.538Z"
      },
      {
        "duration": 7,
        "start_time": "2022-04-23T19:55:19.546Z"
      },
      {
        "duration": 41,
        "start_time": "2022-04-23T19:55:19.555Z"
      },
      {
        "duration": 10,
        "start_time": "2022-04-23T19:55:19.597Z"
      },
      {
        "duration": 13,
        "start_time": "2022-04-23T19:55:19.609Z"
      },
      {
        "duration": 4,
        "start_time": "2022-04-23T19:55:19.623Z"
      },
      {
        "duration": 11,
        "start_time": "2022-04-23T19:55:19.629Z"
      },
      {
        "duration": 13,
        "start_time": "2022-04-23T19:55:19.641Z"
      },
      {
        "duration": 37,
        "start_time": "2022-04-23T19:55:19.655Z"
      },
      {
        "duration": 12,
        "start_time": "2022-04-23T19:55:19.694Z"
      },
      {
        "duration": 250,
        "start_time": "2022-04-23T19:55:19.707Z"
      },
      {
        "duration": 5,
        "start_time": "2022-04-23T19:55:19.959Z"
      },
      {
        "duration": 5,
        "start_time": "2022-04-23T19:55:19.966Z"
      },
      {
        "duration": 98,
        "start_time": "2022-04-23T19:55:19.976Z"
      },
      {
        "duration": 21,
        "start_time": "2022-04-23T19:55:20.075Z"
      },
      {
        "duration": 222,
        "start_time": "2022-04-23T19:55:20.098Z"
      },
      {
        "duration": 9,
        "start_time": "2022-04-23T19:55:20.322Z"
      },
      {
        "duration": 237,
        "start_time": "2022-04-23T19:55:20.332Z"
      },
      {
        "duration": 9,
        "start_time": "2022-04-23T19:55:20.571Z"
      },
      {
        "duration": 5,
        "start_time": "2022-04-23T19:55:20.592Z"
      },
      {
        "duration": 9,
        "start_time": "2022-04-23T19:55:20.599Z"
      },
      {
        "duration": 9,
        "start_time": "2022-04-23T19:55:20.609Z"
      },
      {
        "duration": 291,
        "start_time": "2022-04-23T19:55:20.619Z"
      },
      {
        "duration": 8,
        "start_time": "2022-04-23T19:55:20.912Z"
      },
      {
        "duration": 142,
        "start_time": "2022-04-23T19:55:20.922Z"
      },
      {
        "duration": 9,
        "start_time": "2022-04-23T19:55:21.065Z"
      },
      {
        "duration": 189,
        "start_time": "2022-04-23T19:55:21.075Z"
      },
      {
        "duration": 183,
        "start_time": "2022-04-23T19:55:21.266Z"
      },
      {
        "duration": 12,
        "start_time": "2022-04-23T19:55:21.451Z"
      },
      {
        "duration": 11,
        "start_time": "2022-04-23T19:55:21.464Z"
      },
      {
        "duration": 12,
        "start_time": "2022-04-23T19:55:21.492Z"
      },
      {
        "duration": 17,
        "start_time": "2022-04-23T19:55:21.506Z"
      },
      {
        "duration": 12,
        "start_time": "2022-04-23T19:55:21.524Z"
      },
      {
        "duration": 11,
        "start_time": "2022-04-23T19:55:21.537Z"
      },
      {
        "duration": 8,
        "start_time": "2022-04-23T19:55:21.550Z"
      },
      {
        "duration": 9,
        "start_time": "2022-04-23T19:55:21.592Z"
      },
      {
        "duration": 315,
        "start_time": "2022-04-23T19:55:21.603Z"
      },
      {
        "duration": 4,
        "start_time": "2022-04-23T19:55:21.920Z"
      },
      {
        "duration": 11,
        "start_time": "2022-04-23T19:55:21.926Z"
      },
      {
        "duration": 280,
        "start_time": "2022-04-23T19:55:21.939Z"
      },
      {
        "duration": 16,
        "start_time": "2022-04-23T19:55:22.220Z"
      },
      {
        "duration": 13,
        "start_time": "2022-04-23T19:55:22.238Z"
      },
      {
        "duration": 10,
        "start_time": "2022-04-23T19:55:22.252Z"
      },
      {
        "duration": 11,
        "start_time": "2022-04-23T19:55:22.293Z"
      },
      {
        "duration": 8,
        "start_time": "2022-04-23T19:55:22.305Z"
      },
      {
        "duration": 11,
        "start_time": "2022-04-23T19:55:22.315Z"
      },
      {
        "duration": 8,
        "start_time": "2022-04-23T19:55:22.328Z"
      },
      {
        "duration": 14,
        "start_time": "2022-04-23T19:55:22.338Z"
      },
      {
        "duration": 56,
        "start_time": "2022-04-23T19:55:22.354Z"
      },
      {
        "duration": 13,
        "start_time": "2022-04-23T19:55:22.412Z"
      },
      {
        "duration": 181,
        "start_time": "2022-04-23T19:55:22.426Z"
      },
      {
        "duration": 29,
        "start_time": "2022-04-23T19:55:22.608Z"
      },
      {
        "duration": 9,
        "start_time": "2022-04-23T19:55:22.639Z"
      },
      {
        "duration": 175,
        "start_time": "2022-04-23T19:55:22.650Z"
      },
      {
        "duration": 8,
        "start_time": "2022-04-23T19:55:22.828Z"
      },
      {
        "duration": 187,
        "start_time": "2022-04-23T19:55:22.837Z"
      },
      {
        "duration": 8,
        "start_time": "2022-04-23T19:55:23.026Z"
      },
      {
        "duration": 150,
        "start_time": "2022-04-23T19:55:23.036Z"
      },
      {
        "duration": 8,
        "start_time": "2022-04-23T19:55:23.193Z"
      },
      {
        "duration": 132,
        "start_time": "2022-04-23T19:55:23.203Z"
      },
      {
        "duration": 169,
        "start_time": "2022-04-23T19:55:23.337Z"
      },
      {
        "duration": 169,
        "start_time": "2022-04-23T19:55:23.508Z"
      },
      {
        "duration": 248,
        "start_time": "2022-04-23T19:55:23.679Z"
      },
      {
        "duration": 8,
        "start_time": "2022-04-23T19:55:23.929Z"
      },
      {
        "duration": 310,
        "start_time": "2022-04-23T19:55:23.938Z"
      },
      {
        "duration": 642,
        "start_time": "2022-04-28T13:50:16.458Z"
      },
      {
        "duration": 165,
        "start_time": "2022-04-28T13:50:18.746Z"
      },
      {
        "duration": 21,
        "start_time": "2022-04-28T13:50:20.497Z"
      },
      {
        "duration": 13,
        "start_time": "2022-04-28T13:50:23.569Z"
      },
      {
        "duration": 954,
        "start_time": "2022-04-28T13:50:26.161Z"
      },
      {
        "duration": 14,
        "start_time": "2022-04-28T13:50:28.512Z"
      },
      {
        "duration": 7,
        "start_time": "2022-04-28T13:50:30.290Z"
      },
      {
        "duration": 341,
        "start_time": "2022-04-28T13:50:32.036Z"
      },
      {
        "duration": 9,
        "start_time": "2022-04-28T13:50:34.512Z"
      },
      {
        "duration": 9,
        "start_time": "2022-04-28T13:50:36.664Z"
      },
      {
        "duration": 24,
        "start_time": "2022-04-28T13:50:38.378Z"
      },
      {
        "duration": 6,
        "start_time": "2022-04-28T13:51:52.862Z"
      },
      {
        "duration": 35,
        "start_time": "2022-04-28T13:52:19.981Z"
      },
      {
        "duration": 12,
        "start_time": "2022-04-28T13:52:46.652Z"
      },
      {
        "duration": 12,
        "start_time": "2022-04-28T13:53:34.573Z"
      },
      {
        "duration": 168,
        "start_time": "2022-04-28T13:59:25.452Z"
      },
      {
        "duration": 146,
        "start_time": "2022-04-28T13:59:39.875Z"
      },
      {
        "duration": 142,
        "start_time": "2022-04-28T13:59:56.820Z"
      },
      {
        "duration": 670,
        "start_time": "2022-04-28T14:00:15.588Z"
      },
      {
        "duration": 8164,
        "start_time": "2022-04-28T14:00:35.045Z"
      },
      {
        "duration": 5,
        "start_time": "2022-04-28T14:01:06.240Z"
      },
      {
        "duration": 12503,
        "start_time": "2022-04-28T14:01:21.938Z"
      },
      {
        "duration": 0,
        "start_time": "2022-04-28T14:01:34.444Z"
      },
      {
        "duration": 9,
        "start_time": "2022-04-28T14:01:37.609Z"
      },
      {
        "duration": 37,
        "start_time": "2022-04-28T14:02:33.667Z"
      },
      {
        "duration": 36,
        "start_time": "2022-04-28T14:02:49.749Z"
      },
      {
        "duration": 8,
        "start_time": "2022-04-28T14:04:47.524Z"
      },
      {
        "duration": 14,
        "start_time": "2022-04-28T14:05:04.457Z"
      },
      {
        "duration": 5,
        "start_time": "2022-04-28T14:05:13.065Z"
      },
      {
        "duration": 106,
        "start_time": "2022-04-28T14:16:22.483Z"
      },
      {
        "duration": 93,
        "start_time": "2022-04-28T14:16:41.941Z"
      },
      {
        "duration": 230,
        "start_time": "2022-04-28T14:16:43.859Z"
      },
      {
        "duration": 21,
        "start_time": "2022-04-28T14:16:45.956Z"
      },
      {
        "duration": 13,
        "start_time": "2022-04-28T14:16:48.522Z"
      },
      {
        "duration": 313,
        "start_time": "2022-04-28T14:16:51.090Z"
      },
      {
        "duration": 17,
        "start_time": "2022-04-28T14:16:54.520Z"
      },
      {
        "duration": 7,
        "start_time": "2022-04-28T14:16:56.035Z"
      },
      {
        "duration": 326,
        "start_time": "2022-04-28T14:16:57.717Z"
      },
      {
        "duration": 10,
        "start_time": "2022-04-28T14:17:00.677Z"
      },
      {
        "duration": 10,
        "start_time": "2022-04-28T14:17:02.817Z"
      },
      {
        "duration": 23,
        "start_time": "2022-04-28T14:17:04.597Z"
      },
      {
        "duration": 40,
        "start_time": "2022-04-28T14:17:06.600Z"
      },
      {
        "duration": 14,
        "start_time": "2022-04-28T14:17:11.451Z"
      },
      {
        "duration": 16,
        "start_time": "2022-04-28T14:17:14.108Z"
      },
      {
        "duration": 10,
        "start_time": "2022-04-28T14:17:17.764Z"
      },
      {
        "duration": 9,
        "start_time": "2022-04-28T14:17:19.706Z"
      },
      {
        "duration": 12,
        "start_time": "2022-04-28T14:17:22.077Z"
      },
      {
        "duration": 14,
        "start_time": "2022-04-28T14:17:24.460Z"
      },
      {
        "duration": 19,
        "start_time": "2022-04-28T14:17:28.074Z"
      },
      {
        "duration": 12,
        "start_time": "2022-04-28T14:17:33.849Z"
      },
      {
        "duration": 110,
        "start_time": "2022-04-28T14:17:40.586Z"
      },
      {
        "duration": 7,
        "start_time": "2022-04-28T14:17:49.866Z"
      },
      {
        "duration": 8,
        "start_time": "2022-04-28T14:19:38.100Z"
      },
      {
        "duration": 16,
        "start_time": "2022-04-28T14:20:54.951Z"
      },
      {
        "duration": 8,
        "start_time": "2022-04-28T14:20:55.818Z"
      },
      {
        "duration": 107,
        "start_time": "2022-04-28T14:20:57.328Z"
      },
      {
        "duration": 400,
        "start_time": "2022-04-28T14:20:58.197Z"
      },
      {
        "duration": 7,
        "start_time": "2022-04-28T14:21:00.369Z"
      },
      {
        "duration": 8,
        "start_time": "2022-04-28T14:21:01.713Z"
      },
      {
        "duration": 64,
        "start_time": "2022-04-28T14:21:03.474Z"
      },
      {
        "duration": 2368,
        "start_time": "2022-04-28T14:21:07.777Z"
      },
      {
        "duration": 14,
        "start_time": "2022-04-28T14:21:30.650Z"
      },
      {
        "duration": 4,
        "start_time": "2022-04-28T14:23:21.636Z"
      },
      {
        "duration": 14,
        "start_time": "2022-04-28T14:23:22.967Z"
      },
      {
        "duration": 1906,
        "start_time": "2022-04-28T14:23:27.723Z"
      },
      {
        "duration": 3,
        "start_time": "2022-04-28T14:23:46.389Z"
      },
      {
        "duration": 364,
        "start_time": "2022-04-28T14:24:05.814Z"
      },
      {
        "duration": 4,
        "start_time": "2022-04-28T14:24:46.364Z"
      },
      {
        "duration": 13,
        "start_time": "2022-04-28T14:24:56.728Z"
      },
      {
        "duration": 13,
        "start_time": "2022-04-28T14:25:26.269Z"
      },
      {
        "duration": 8,
        "start_time": "2022-04-28T14:25:32.652Z"
      },
      {
        "duration": 3,
        "start_time": "2022-04-28T14:26:10.189Z"
      },
      {
        "duration": 389,
        "start_time": "2022-04-28T14:26:24.386Z"
      },
      {
        "duration": 3,
        "start_time": "2022-04-28T14:27:11.431Z"
      },
      {
        "duration": 16,
        "start_time": "2022-04-28T14:27:26.226Z"
      },
      {
        "duration": 13,
        "start_time": "2022-04-28T14:27:54.421Z"
      },
      {
        "duration": 9,
        "start_time": "2022-04-28T14:28:25.019Z"
      },
      {
        "duration": 12,
        "start_time": "2022-04-28T14:28:26.460Z"
      },
      {
        "duration": 14,
        "start_time": "2022-04-28T14:28:28.364Z"
      },
      {
        "duration": 286,
        "start_time": "2022-04-28T14:28:30.742Z"
      },
      {
        "duration": 11,
        "start_time": "2022-04-28T14:28:51.410Z"
      },
      {
        "duration": 220,
        "start_time": "2022-04-28T14:28:53.392Z"
      },
      {
        "duration": 11,
        "start_time": "2022-04-28T14:28:57.906Z"
      },
      {
        "duration": 396,
        "start_time": "2022-04-28T14:28:59.307Z"
      },
      {
        "duration": 377,
        "start_time": "2022-04-28T14:29:01.624Z"
      },
      {
        "duration": 19,
        "start_time": "2022-04-28T14:29:05.722Z"
      },
      {
        "duration": 11,
        "start_time": "2022-04-28T14:34:22.829Z"
      },
      {
        "duration": 97,
        "start_time": "2022-04-28T14:34:35.822Z"
      },
      {
        "duration": 153,
        "start_time": "2022-04-28T14:34:37.813Z"
      },
      {
        "duration": 19,
        "start_time": "2022-04-28T14:34:39.642Z"
      },
      {
        "duration": 11,
        "start_time": "2022-04-28T14:34:41.845Z"
      },
      {
        "duration": 293,
        "start_time": "2022-04-28T14:34:44.243Z"
      },
      {
        "duration": 11,
        "start_time": "2022-04-28T14:34:46.767Z"
      },
      {
        "duration": 6,
        "start_time": "2022-04-28T14:34:48.347Z"
      },
      {
        "duration": 324,
        "start_time": "2022-04-28T14:34:49.490Z"
      },
      {
        "duration": 7,
        "start_time": "2022-04-28T14:34:51.446Z"
      },
      {
        "duration": 12,
        "start_time": "2022-04-28T14:34:53.457Z"
      },
      {
        "duration": 22,
        "start_time": "2022-04-28T14:34:54.694Z"
      },
      {
        "duration": 34,
        "start_time": "2022-04-28T14:34:56.538Z"
      },
      {
        "duration": 13,
        "start_time": "2022-04-28T14:34:59.452Z"
      },
      {
        "duration": 17,
        "start_time": "2022-04-28T14:35:03.227Z"
      },
      {
        "duration": 13,
        "start_time": "2022-04-28T14:35:06.120Z"
      },
      {
        "duration": 12,
        "start_time": "2022-04-28T14:35:07.689Z"
      },
      {
        "duration": 14,
        "start_time": "2022-04-28T14:35:09.754Z"
      },
      {
        "duration": 26,
        "start_time": "2022-04-28T14:35:12.596Z"
      },
      {
        "duration": 12,
        "start_time": "2022-04-28T14:35:14.666Z"
      },
      {
        "duration": 6,
        "start_time": "2022-04-28T14:35:17.995Z"
      },
      {
        "duration": 18,
        "start_time": "2022-04-28T14:35:19.701Z"
      },
      {
        "duration": 21,
        "start_time": "2022-04-28T14:35:21.333Z"
      },
      {
        "duration": 3,
        "start_time": "2022-04-28T14:35:23.128Z"
      },
      {
        "duration": 7,
        "start_time": "2022-04-28T14:35:24.627Z"
      },
      {
        "duration": 15,
        "start_time": "2022-04-28T14:35:26.587Z"
      },
      {
        "duration": 385,
        "start_time": "2022-04-28T14:35:28.028Z"
      },
      {
        "duration": 8,
        "start_time": "2022-04-28T14:35:31.956Z"
      },
      {
        "duration": 8,
        "start_time": "2022-04-28T14:35:33.130Z"
      },
      {
        "duration": 63,
        "start_time": "2022-04-28T14:35:36.621Z"
      },
      {
        "duration": 10,
        "start_time": "2022-04-28T14:35:39.884Z"
      },
      {
        "duration": 335,
        "start_time": "2022-04-28T14:35:43.379Z"
      },
      {
        "duration": 13,
        "start_time": "2022-04-28T14:35:45.989Z"
      },
      {
        "duration": 576,
        "start_time": "2022-04-28T14:35:47.418Z"
      },
      {
        "duration": 16,
        "start_time": "2022-04-28T14:35:49.900Z"
      },
      {
        "duration": 8,
        "start_time": "2022-04-28T14:35:51.732Z"
      },
      {
        "duration": 14,
        "start_time": "2022-04-28T14:35:53.627Z"
      },
      {
        "duration": 17,
        "start_time": "2022-04-28T14:35:55.516Z"
      },
      {
        "duration": 286,
        "start_time": "2022-04-28T14:35:58.736Z"
      },
      {
        "duration": 12,
        "start_time": "2022-04-28T14:36:01.836Z"
      },
      {
        "duration": 307,
        "start_time": "2022-04-28T14:36:08.369Z"
      },
      {
        "duration": 11,
        "start_time": "2022-04-28T14:36:10.707Z"
      },
      {
        "duration": 288,
        "start_time": "2022-04-28T14:36:12.413Z"
      },
      {
        "duration": 325,
        "start_time": "2022-04-28T14:36:14.336Z"
      },
      {
        "duration": 17,
        "start_time": "2022-04-28T14:36:16.655Z"
      },
      {
        "duration": 14,
        "start_time": "2022-04-28T14:36:19.031Z"
      },
      {
        "duration": 14,
        "start_time": "2022-04-28T14:36:21.810Z"
      },
      {
        "duration": 1643,
        "start_time": "2022-04-28T14:36:25.785Z"
      },
      {
        "duration": 23,
        "start_time": "2022-04-28T14:36:36.257Z"
      },
      {
        "duration": 28,
        "start_time": "2022-04-28T14:36:40.787Z"
      },
      {
        "duration": 27,
        "start_time": "2022-04-28T14:38:00.286Z"
      },
      {
        "duration": 26,
        "start_time": "2022-04-28T14:38:38.533Z"
      },
      {
        "duration": 27,
        "start_time": "2022-04-28T14:38:54.979Z"
      },
      {
        "duration": 26,
        "start_time": "2022-04-28T14:52:50.543Z"
      },
      {
        "duration": 17,
        "start_time": "2022-04-28T14:52:56.285Z"
      },
      {
        "duration": 17,
        "start_time": "2022-04-28T14:53:01.027Z"
      },
      {
        "duration": 4515,
        "start_time": "2022-04-28T14:53:05.523Z"
      },
      {
        "duration": 5,
        "start_time": "2022-04-28T14:53:21.783Z"
      },
      {
        "duration": 3,
        "start_time": "2022-04-28T14:53:27.571Z"
      },
      {
        "duration": 18,
        "start_time": "2022-04-28T14:56:53.097Z"
      },
      {
        "duration": 20,
        "start_time": "2022-04-28T14:56:54.479Z"
      },
      {
        "duration": 16,
        "start_time": "2022-04-28T14:56:58.070Z"
      },
      {
        "duration": 15,
        "start_time": "2022-04-28T14:56:59.845Z"
      },
      {
        "duration": 601,
        "start_time": "2022-04-28T14:57:01.589Z"
      },
      {
        "duration": 8,
        "start_time": "2022-04-28T14:57:03.805Z"
      },
      {
        "duration": 15,
        "start_time": "2022-04-28T14:57:04.957Z"
      },
      {
        "duration": 409,
        "start_time": "2022-04-28T14:57:06.886Z"
      },
      {
        "duration": 17,
        "start_time": "2022-04-28T14:57:10.050Z"
      },
      {
        "duration": 19,
        "start_time": "2022-04-28T14:57:15.348Z"
      },
      {
        "duration": 14,
        "start_time": "2022-04-28T14:57:19.621Z"
      },
      {
        "duration": 20,
        "start_time": "2022-04-28T14:57:22.609Z"
      },
      {
        "duration": 240,
        "start_time": "2022-04-28T14:58:11.844Z"
      },
      {
        "duration": 340,
        "start_time": "2022-04-28T15:00:16.180Z"
      },
      {
        "duration": 226,
        "start_time": "2022-04-28T15:00:35.196Z"
      },
      {
        "duration": 287,
        "start_time": "2022-04-28T15:00:50.483Z"
      },
      {
        "duration": 267,
        "start_time": "2022-04-28T15:01:35.381Z"
      },
      {
        "duration": 16,
        "start_time": "2022-04-28T15:03:24.815Z"
      },
      {
        "duration": 256,
        "start_time": "2022-04-28T15:04:18.679Z"
      },
      {
        "duration": 251,
        "start_time": "2022-04-28T15:07:27.880Z"
      },
      {
        "duration": 7,
        "start_time": "2022-04-28T15:08:46.058Z"
      },
      {
        "duration": 17,
        "start_time": "2022-04-28T15:08:47.602Z"
      },
      {
        "duration": 12,
        "start_time": "2022-04-28T15:08:51.843Z"
      },
      {
        "duration": 24,
        "start_time": "2022-04-28T15:08:56.822Z"
      },
      {
        "duration": 41,
        "start_time": "2022-04-28T15:09:01.239Z"
      },
      {
        "duration": 13,
        "start_time": "2022-04-28T15:09:03.787Z"
      },
      {
        "duration": 19,
        "start_time": "2022-04-28T15:09:07.314Z"
      },
      {
        "duration": 280,
        "start_time": "2022-04-28T15:09:11.079Z"
      },
      {
        "duration": 3,
        "start_time": "2022-04-28T15:13:46.979Z"
      },
      {
        "duration": 45,
        "start_time": "2022-04-28T15:13:58.844Z"
      },
      {
        "duration": 11,
        "start_time": "2022-04-28T15:14:16.879Z"
      },
      {
        "duration": 1562,
        "start_time": "2022-04-28T15:14:22.568Z"
      },
      {
        "duration": 239,
        "start_time": "2022-04-28T15:14:31.823Z"
      },
      {
        "duration": 11,
        "start_time": "2022-04-28T15:14:39.181Z"
      },
      {
        "duration": 450,
        "start_time": "2022-04-28T15:14:43.276Z"
      },
      {
        "duration": 11,
        "start_time": "2022-04-28T15:14:48.517Z"
      },
      {
        "duration": 235,
        "start_time": "2022-04-28T15:14:50.846Z"
      },
      {
        "duration": 12,
        "start_time": "2022-04-28T15:14:53.164Z"
      },
      {
        "duration": 198,
        "start_time": "2022-04-28T15:14:58.246Z"
      },
      {
        "duration": 12,
        "start_time": "2022-04-28T15:15:54.125Z"
      },
      {
        "duration": 188,
        "start_time": "2022-04-28T15:15:55.454Z"
      },
      {
        "duration": 209,
        "start_time": "2022-04-28T15:17:13.078Z"
      },
      {
        "duration": 14,
        "start_time": "2022-04-28T15:17:42.422Z"
      },
      {
        "duration": 237,
        "start_time": "2022-04-28T15:17:48.005Z"
      },
      {
        "duration": 14,
        "start_time": "2022-04-28T15:17:50.685Z"
      },
      {
        "duration": 255,
        "start_time": "2022-04-28T15:17:53.740Z"
      },
      {
        "duration": 14,
        "start_time": "2022-04-28T15:17:56.623Z"
      },
      {
        "duration": 232,
        "start_time": "2022-04-28T15:17:59.118Z"
      },
      {
        "duration": 11,
        "start_time": "2022-04-28T15:18:03.144Z"
      },
      {
        "duration": 13,
        "start_time": "2022-04-28T15:18:05.213Z"
      },
      {
        "duration": 347,
        "start_time": "2022-04-28T15:18:08.954Z"
      },
      {
        "duration": 251,
        "start_time": "2022-04-28T15:20:50.558Z"
      },
      {
        "duration": 225,
        "start_time": "2022-04-28T15:21:26.812Z"
      },
      {
        "duration": 21,
        "start_time": "2022-04-28T15:22:14.606Z"
      },
      {
        "duration": 20,
        "start_time": "2022-04-28T15:22:52.814Z"
      },
      {
        "duration": 10,
        "start_time": "2022-04-28T15:22:55.038Z"
      },
      {
        "duration": 341,
        "start_time": "2022-04-28T15:22:58.838Z"
      },
      {
        "duration": 484,
        "start_time": "2022-04-29T02:58:33.297Z"
      },
      {
        "duration": 14,
        "start_time": "2022-04-29T02:58:39.606Z"
      },
      {
        "duration": 113,
        "start_time": "2022-04-29T02:58:50.212Z"
      },
      {
        "duration": 16,
        "start_time": "2022-04-29T02:58:52.619Z"
      },
      {
        "duration": 11,
        "start_time": "2022-04-29T02:58:56.418Z"
      },
      {
        "duration": 613,
        "start_time": "2022-04-29T02:58:59.324Z"
      },
      {
        "duration": 11,
        "start_time": "2022-04-29T02:59:03.570Z"
      },
      {
        "duration": 5,
        "start_time": "2022-04-29T02:59:06.362Z"
      },
      {
        "duration": 206,
        "start_time": "2022-04-29T02:59:08.500Z"
      },
      {
        "duration": 6,
        "start_time": "2022-04-29T02:59:11.922Z"
      },
      {
        "duration": 8,
        "start_time": "2022-04-29T02:59:17.099Z"
      },
      {
        "duration": 17,
        "start_time": "2022-04-29T02:59:19.706Z"
      },
      {
        "duration": 23,
        "start_time": "2022-04-29T02:59:27.650Z"
      },
      {
        "duration": 11,
        "start_time": "2022-04-29T03:03:41.055Z"
      },
      {
        "duration": 71,
        "start_time": "2022-04-29T03:05:03.066Z"
      },
      {
        "duration": 110,
        "start_time": "2022-04-29T03:05:07.617Z"
      },
      {
        "duration": 15,
        "start_time": "2022-04-29T03:05:07.760Z"
      },
      {
        "duration": 11,
        "start_time": "2022-04-29T03:05:18.639Z"
      },
      {
        "duration": 171,
        "start_time": "2022-04-29T03:05:24.717Z"
      },
      {
        "duration": 10,
        "start_time": "2022-04-29T03:05:26.149Z"
      },
      {
        "duration": 5,
        "start_time": "2022-04-29T03:05:28.368Z"
      },
      {
        "duration": 199,
        "start_time": "2022-04-29T03:05:29.861Z"
      },
      {
        "duration": 6,
        "start_time": "2022-04-29T03:05:36.213Z"
      },
      {
        "duration": 7,
        "start_time": "2022-04-29T03:05:40.381Z"
      },
      {
        "duration": 24,
        "start_time": "2022-04-29T03:09:41.086Z"
      },
      {
        "duration": 12,
        "start_time": "2022-04-29T03:10:09.737Z"
      },
      {
        "duration": 13,
        "start_time": "2022-04-29T03:10:10.723Z"
      },
      {
        "duration": 22,
        "start_time": "2022-04-29T03:10:25.427Z"
      },
      {
        "duration": 24,
        "start_time": "2022-04-29T03:24:34.305Z"
      },
      {
        "duration": 11,
        "start_time": "2022-04-29T03:24:37.338Z"
      },
      {
        "duration": 12,
        "start_time": "2022-04-29T03:24:39.753Z"
      },
      {
        "duration": 8,
        "start_time": "2022-04-29T03:24:43.602Z"
      },
      {
        "duration": 7,
        "start_time": "2022-04-29T03:24:46.232Z"
      },
      {
        "duration": 8,
        "start_time": "2022-04-29T03:24:49.067Z"
      },
      {
        "duration": 10,
        "start_time": "2022-04-29T03:24:50.847Z"
      },
      {
        "duration": 67,
        "start_time": "2022-04-29T03:24:54.156Z"
      },
      {
        "duration": 6,
        "start_time": "2022-04-29T03:25:22.105Z"
      },
      {
        "duration": 4,
        "start_time": "2022-04-29T03:25:38.674Z"
      },
      {
        "duration": 4,
        "start_time": "2022-04-29T03:26:02.859Z"
      },
      {
        "duration": 9,
        "start_time": "2022-04-29T03:26:05.657Z"
      },
      {
        "duration": 13,
        "start_time": "2022-04-29T03:26:06.823Z"
      },
      {
        "duration": 2,
        "start_time": "2022-04-29T03:26:16.507Z"
      },
      {
        "duration": 5,
        "start_time": "2022-04-29T03:26:18.193Z"
      },
      {
        "duration": 12,
        "start_time": "2022-04-29T03:26:29.727Z"
      },
      {
        "duration": 234,
        "start_time": "2022-04-29T03:26:30.708Z"
      },
      {
        "duration": 6,
        "start_time": "2022-04-29T03:26:33.320Z"
      },
      {
        "duration": 5,
        "start_time": "2022-04-29T03:26:34.567Z"
      },
      {
        "duration": 38,
        "start_time": "2022-04-29T03:26:36.700Z"
      },
      {
        "duration": 8,
        "start_time": "2022-04-29T03:26:44.065Z"
      },
      {
        "duration": 198,
        "start_time": "2022-04-29T03:27:08.207Z"
      },
      {
        "duration": 8,
        "start_time": "2022-04-29T03:27:10.687Z"
      },
      {
        "duration": 208,
        "start_time": "2022-04-29T03:27:12.830Z"
      },
      {
        "duration": 6,
        "start_time": "2022-04-29T03:27:15.273Z"
      },
      {
        "duration": 8,
        "start_time": "2022-04-29T03:27:17.033Z"
      },
      {
        "duration": 10,
        "start_time": "2022-04-29T03:27:18.389Z"
      },
      {
        "duration": 171,
        "start_time": "2022-04-29T03:27:20.395Z"
      },
      {
        "duration": 8,
        "start_time": "2022-04-29T03:27:41.169Z"
      },
      {
        "duration": 122,
        "start_time": "2022-04-29T03:27:43.145Z"
      },
      {
        "duration": 8,
        "start_time": "2022-04-29T03:27:45.442Z"
      },
      {
        "duration": 162,
        "start_time": "2022-04-29T03:27:47.751Z"
      },
      {
        "duration": 254,
        "start_time": "2022-04-29T03:27:51.056Z"
      },
      {
        "duration": 13,
        "start_time": "2022-04-29T03:27:54.057Z"
      },
      {
        "duration": 13,
        "start_time": "2022-04-29T03:28:00.014Z"
      },
      {
        "duration": 12,
        "start_time": "2022-04-29T03:28:16.200Z"
      },
      {
        "duration": 18,
        "start_time": "2022-04-29T03:28:20.241Z"
      },
      {
        "duration": 19,
        "start_time": "2022-04-29T03:28:46.164Z"
      },
      {
        "duration": 12,
        "start_time": "2022-04-29T03:29:10.457Z"
      },
      {
        "duration": 11,
        "start_time": "2022-04-29T03:29:12.512Z"
      },
      {
        "duration": 10,
        "start_time": "2022-04-29T03:32:51.474Z"
      },
      {
        "duration": 13,
        "start_time": "2022-04-29T03:33:03.636Z"
      },
      {
        "duration": 10,
        "start_time": "2022-04-29T03:35:39.451Z"
      },
      {
        "duration": 13,
        "start_time": "2022-04-29T03:35:51.585Z"
      },
      {
        "duration": 10,
        "start_time": "2022-04-29T03:36:31.095Z"
      },
      {
        "duration": 12,
        "start_time": "2022-04-29T03:36:33.093Z"
      },
      {
        "duration": 13,
        "start_time": "2022-04-29T03:39:23.356Z"
      },
      {
        "duration": 150,
        "start_time": "2022-04-29T03:40:24.034Z"
      },
      {
        "duration": 147,
        "start_time": "2022-04-29T03:40:35.834Z"
      },
      {
        "duration": 2283,
        "start_time": "2022-04-29T03:40:59.627Z"
      },
      {
        "duration": 155,
        "start_time": "2022-04-29T03:41:10.888Z"
      },
      {
        "duration": 223,
        "start_time": "2022-04-29T03:42:19.050Z"
      },
      {
        "duration": 13,
        "start_time": "2022-04-29T03:42:40.022Z"
      },
      {
        "duration": 232,
        "start_time": "2022-04-29T03:42:46.218Z"
      },
      {
        "duration": 162,
        "start_time": "2022-04-29T03:43:03.330Z"
      },
      {
        "duration": 235,
        "start_time": "2022-04-29T03:43:10.041Z"
      },
      {
        "duration": 288,
        "start_time": "2022-04-29T03:46:51.969Z"
      },
      {
        "duration": 252,
        "start_time": "2022-04-29T03:47:50.738Z"
      },
      {
        "duration": 301,
        "start_time": "2022-04-29T03:47:56.508Z"
      },
      {
        "duration": 221,
        "start_time": "2022-04-29T03:48:05.931Z"
      },
      {
        "duration": 209,
        "start_time": "2022-04-29T03:48:36.266Z"
      },
      {
        "duration": 196,
        "start_time": "2022-04-29T03:48:57.065Z"
      },
      {
        "duration": 9,
        "start_time": "2022-04-29T03:50:36.356Z"
      },
      {
        "duration": 13,
        "start_time": "2022-04-29T03:50:37.850Z"
      },
      {
        "duration": 200,
        "start_time": "2022-04-29T03:50:40.047Z"
      },
      {
        "duration": 9,
        "start_time": "2022-04-29T03:51:07.296Z"
      },
      {
        "duration": 10,
        "start_time": "2022-04-29T03:51:08.610Z"
      },
      {
        "duration": 221,
        "start_time": "2022-04-29T03:51:10.931Z"
      },
      {
        "duration": 5,
        "start_time": "2022-04-29T03:51:13.458Z"
      },
      {
        "duration": 10,
        "start_time": "2022-04-29T03:51:16.377Z"
      },
      {
        "duration": 387,
        "start_time": "2022-04-29T03:51:30.775Z"
      },
      {
        "duration": 15,
        "start_time": "2022-04-29T03:51:42.784Z"
      },
      {
        "duration": 12,
        "start_time": "2022-04-29T03:51:53.664Z"
      },
      {
        "duration": 154,
        "start_time": "2022-04-29T03:52:47.130Z"
      },
      {
        "duration": 13,
        "start_time": "2022-04-29T03:55:51.436Z"
      },
      {
        "duration": 149,
        "start_time": "2022-04-29T03:56:03.777Z"
      },
      {
        "duration": 155,
        "start_time": "2022-04-29T03:56:53.386Z"
      },
      {
        "duration": 11,
        "start_time": "2022-04-29T03:57:17.344Z"
      },
      {
        "duration": 13,
        "start_time": "2022-04-29T03:57:27.402Z"
      },
      {
        "duration": 148,
        "start_time": "2022-04-29T03:57:39.370Z"
      },
      {
        "duration": 5,
        "start_time": "2022-04-29T04:01:56.610Z"
      },
      {
        "duration": 11,
        "start_time": "2022-04-29T04:01:58.164Z"
      },
      {
        "duration": 10,
        "start_time": "2022-04-29T04:02:00.657Z"
      },
      {
        "duration": 17,
        "start_time": "2022-04-29T04:02:02.644Z"
      },
      {
        "duration": 25,
        "start_time": "2022-04-29T04:02:09.205Z"
      },
      {
        "duration": 13,
        "start_time": "2022-04-29T04:02:11.643Z"
      },
      {
        "duration": 167,
        "start_time": "2022-04-29T04:02:13.488Z"
      },
      {
        "duration": 29,
        "start_time": "2022-04-29T04:04:46.652Z"
      },
      {
        "duration": 9,
        "start_time": "2022-04-29T04:04:48.923Z"
      },
      {
        "duration": 152,
        "start_time": "2022-04-29T04:04:57.778Z"
      },
      {
        "duration": 9,
        "start_time": "2022-04-29T04:05:00.018Z"
      },
      {
        "duration": 161,
        "start_time": "2022-04-29T04:05:04.977Z"
      },
      {
        "duration": 3,
        "start_time": "2022-04-29T04:07:31.073Z"
      },
      {
        "duration": 163,
        "start_time": "2022-04-29T04:07:52.131Z"
      },
      {
        "duration": 26,
        "start_time": "2022-04-29T04:08:49.801Z"
      },
      {
        "duration": 8,
        "start_time": "2022-04-29T04:08:51.625Z"
      },
      {
        "duration": 147,
        "start_time": "2022-04-29T04:08:53.800Z"
      },
      {
        "duration": 9,
        "start_time": "2022-04-29T04:08:56.074Z"
      },
      {
        "duration": 159,
        "start_time": "2022-04-29T04:09:00.801Z"
      },
      {
        "duration": 8,
        "start_time": "2022-04-29T04:12:46.980Z"
      },
      {
        "duration": 193,
        "start_time": "2022-04-29T04:13:08.859Z"
      },
      {
        "duration": 149,
        "start_time": "2022-04-29T04:13:55.457Z"
      },
      {
        "duration": 265,
        "start_time": "2022-04-29T04:14:00.344Z"
      },
      {
        "duration": 9,
        "start_time": "2022-04-29T04:14:22.097Z"
      },
      {
        "duration": 129,
        "start_time": "2022-04-29T04:14:25.320Z"
      },
      {
        "duration": 130,
        "start_time": "2022-04-29T04:14:42.451Z"
      },
      {
        "duration": 141,
        "start_time": "2022-04-29T04:15:46.898Z"
      },
      {
        "duration": 130,
        "start_time": "2022-04-29T04:15:49.975Z"
      },
      {
        "duration": 15,
        "start_time": "2022-04-29T04:16:15.538Z"
      },
      {
        "duration": 8,
        "start_time": "2022-04-29T04:16:19.979Z"
      },
      {
        "duration": 7,
        "start_time": "2022-04-29T04:19:25.878Z"
      },
      {
        "duration": 364,
        "start_time": "2022-04-29T04:19:28.362Z"
      },
      {
        "duration": 58,
        "start_time": "2022-04-29T04:30:21.210Z"
      },
      {
        "duration": 7,
        "start_time": "2022-04-29T04:32:05.059Z"
      },
      {
        "duration": 8,
        "start_time": "2022-04-29T04:33:22.358Z"
      },
      {
        "duration": 2194,
        "start_time": "2022-04-29T04:35:08.861Z"
      },
      {
        "duration": 145,
        "start_time": "2022-04-29T04:36:03.384Z"
      },
      {
        "duration": 2109,
        "start_time": "2022-04-29T04:36:09.275Z"
      },
      {
        "duration": 2183,
        "start_time": "2022-04-29T04:36:41.265Z"
      },
      {
        "duration": 4,
        "start_time": "2022-04-29T04:37:45.249Z"
      },
      {
        "duration": 5,
        "start_time": "2022-04-29T04:38:00.553Z"
      },
      {
        "duration": 6,
        "start_time": "2022-04-29T04:47:31.578Z"
      },
      {
        "duration": 7,
        "start_time": "2022-04-29T04:47:49.004Z"
      },
      {
        "duration": 6,
        "start_time": "2022-04-29T04:47:54.921Z"
      },
      {
        "duration": 11,
        "start_time": "2022-04-29T04:49:45.852Z"
      },
      {
        "duration": 8,
        "start_time": "2022-04-29T04:55:45.982Z"
      },
      {
        "duration": 4,
        "start_time": "2022-04-29T04:57:19.906Z"
      },
      {
        "duration": 7,
        "start_time": "2022-04-29T04:57:48.238Z"
      },
      {
        "duration": 167,
        "start_time": "2022-04-29T05:01:43.948Z"
      },
      {
        "duration": 73,
        "start_time": "2022-04-29T18:26:46.028Z"
      },
      {
        "duration": 575,
        "start_time": "2022-04-29T18:26:49.628Z"
      },
      {
        "duration": 162,
        "start_time": "2022-04-29T18:26:50.205Z"
      },
      {
        "duration": 30,
        "start_time": "2022-04-29T18:26:50.369Z"
      },
      {
        "duration": 13,
        "start_time": "2022-04-29T18:26:50.402Z"
      },
      {
        "duration": 998,
        "start_time": "2022-04-29T18:26:50.417Z"
      },
      {
        "duration": 14,
        "start_time": "2022-04-29T18:26:51.417Z"
      },
      {
        "duration": 6,
        "start_time": "2022-04-29T18:26:51.433Z"
      },
      {
        "duration": 374,
        "start_time": "2022-04-29T18:26:51.442Z"
      },
      {
        "duration": 7,
        "start_time": "2022-04-29T18:26:51.818Z"
      },
      {
        "duration": 11,
        "start_time": "2022-04-29T18:26:51.829Z"
      },
      {
        "duration": 40,
        "start_time": "2022-04-29T18:26:51.842Z"
      },
      {
        "duration": 21,
        "start_time": "2022-04-29T18:26:51.884Z"
      },
      {
        "duration": 11,
        "start_time": "2022-04-29T18:26:56.296Z"
      },
      {
        "duration": 10,
        "start_time": "2022-04-29T18:27:08.058Z"
      },
      {
        "duration": 13,
        "start_time": "2022-04-29T18:29:46.136Z"
      },
      {
        "duration": 17,
        "start_time": "2022-04-29T18:29:46.152Z"
      },
      {
        "duration": 9,
        "start_time": "2022-04-29T18:29:46.171Z"
      },
      {
        "duration": 10,
        "start_time": "2022-04-29T18:29:46.183Z"
      },
      {
        "duration": 11,
        "start_time": "2022-04-29T18:29:46.195Z"
      },
      {
        "duration": 16,
        "start_time": "2022-04-29T18:29:46.208Z"
      },
      {
        "duration": 56,
        "start_time": "2022-04-29T18:29:46.226Z"
      },
      {
        "duration": 9,
        "start_time": "2022-04-29T18:29:46.285Z"
      },
      {
        "duration": 20,
        "start_time": "2022-04-29T18:29:46.296Z"
      },
      {
        "duration": 13,
        "start_time": "2022-04-29T18:29:46.318Z"
      },
      {
        "duration": 20,
        "start_time": "2022-04-29T18:29:46.334Z"
      },
      {
        "duration": 44,
        "start_time": "2022-04-29T18:29:46.356Z"
      },
      {
        "duration": 4,
        "start_time": "2022-04-29T18:29:46.403Z"
      },
      {
        "duration": 9,
        "start_time": "2022-04-29T18:29:46.411Z"
      },
      {
        "duration": 19,
        "start_time": "2022-04-29T18:29:46.423Z"
      },
      {
        "duration": 542,
        "start_time": "2022-04-29T18:29:46.482Z"
      },
      {
        "duration": 7,
        "start_time": "2022-04-29T18:29:47.026Z"
      },
      {
        "duration": 8,
        "start_time": "2022-04-29T18:29:47.035Z"
      },
      {
        "duration": 90,
        "start_time": "2022-04-29T18:29:47.045Z"
      },
      {
        "duration": 4,
        "start_time": "2022-04-29T18:29:47.137Z"
      },
      {
        "duration": 15,
        "start_time": "2022-04-29T18:29:47.143Z"
      },
      {
        "duration": 24,
        "start_time": "2022-04-29T18:29:47.160Z"
      },
      {
        "duration": 388,
        "start_time": "2022-04-29T18:29:47.186Z"
      },
      {
        "duration": 7,
        "start_time": "2022-04-29T18:29:47.576Z"
      },
      {
        "duration": 17,
        "start_time": "2022-04-29T18:29:47.586Z"
      },
      {
        "duration": 3,
        "start_time": "2022-04-29T18:29:47.605Z"
      },
      {
        "duration": 423,
        "start_time": "2022-04-29T18:29:47.610Z"
      },
      {
        "duration": 4,
        "start_time": "2022-04-29T18:29:48.036Z"
      },
      {
        "duration": 17,
        "start_time": "2022-04-29T18:29:48.043Z"
      },
      {
        "duration": 8,
        "start_time": "2022-04-29T18:29:48.083Z"
      },
      {
        "duration": 11,
        "start_time": "2022-04-29T18:29:48.098Z"
      },
      {
        "duration": 13,
        "start_time": "2022-04-29T18:29:48.111Z"
      },
      {
        "duration": 346,
        "start_time": "2022-04-29T18:29:48.127Z"
      },
      {
        "duration": 15,
        "start_time": "2022-04-29T18:29:48.476Z"
      },
      {
        "duration": 249,
        "start_time": "2022-04-29T18:29:48.493Z"
      },
      {
        "duration": 12,
        "start_time": "2022-04-29T18:29:48.744Z"
      },
      {
        "duration": 325,
        "start_time": "2022-04-29T18:29:48.758Z"
      },
      {
        "duration": 282,
        "start_time": "2022-04-29T18:29:49.085Z"
      },
      {
        "duration": 27,
        "start_time": "2022-04-29T18:29:49.370Z"
      },
      {
        "duration": 14,
        "start_time": "2022-04-29T18:29:49.399Z"
      },
      {
        "duration": 110,
        "start_time": "2022-04-29T18:29:49.415Z"
      },
      {
        "duration": 27,
        "start_time": "2022-04-29T18:29:49.528Z"
      },
      {
        "duration": 48,
        "start_time": "2022-04-29T18:29:49.558Z"
      },
      {
        "duration": 16,
        "start_time": "2022-04-29T18:29:49.609Z"
      },
      {
        "duration": 61,
        "start_time": "2022-04-29T18:29:49.627Z"
      },
      {
        "duration": 15,
        "start_time": "2022-04-29T18:29:49.691Z"
      },
      {
        "duration": 19,
        "start_time": "2022-04-29T18:29:49.709Z"
      },
      {
        "duration": 399,
        "start_time": "2022-04-29T18:29:49.731Z"
      },
      {
        "duration": 14,
        "start_time": "2022-04-29T18:29:50.134Z"
      },
      {
        "duration": 39,
        "start_time": "2022-04-29T18:29:50.150Z"
      },
      {
        "duration": 420,
        "start_time": "2022-04-29T18:29:50.191Z"
      },
      {
        "duration": 7,
        "start_time": "2022-04-29T18:29:50.613Z"
      },
      {
        "duration": 13,
        "start_time": "2022-04-29T18:29:50.623Z"
      },
      {
        "duration": 472,
        "start_time": "2022-04-29T18:29:50.638Z"
      },
      {
        "duration": 20,
        "start_time": "2022-04-29T18:29:51.112Z"
      },
      {
        "duration": 17,
        "start_time": "2022-04-29T18:29:51.134Z"
      },
      {
        "duration": 287,
        "start_time": "2022-04-29T18:29:51.154Z"
      },
      {
        "duration": 17,
        "start_time": "2022-04-29T18:29:51.443Z"
      },
      {
        "duration": 262,
        "start_time": "2022-04-29T18:29:51.462Z"
      },
      {
        "duration": 18,
        "start_time": "2022-04-29T18:29:51.726Z"
      },
      {
        "duration": 284,
        "start_time": "2022-04-29T18:29:51.746Z"
      },
      {
        "duration": 7,
        "start_time": "2022-04-29T18:29:52.033Z"
      },
      {
        "duration": 27,
        "start_time": "2022-04-29T18:29:52.042Z"
      },
      {
        "duration": 19,
        "start_time": "2022-04-29T18:29:52.071Z"
      },
      {
        "duration": 28,
        "start_time": "2022-04-29T18:29:52.092Z"
      },
      {
        "duration": 61,
        "start_time": "2022-04-29T18:29:52.122Z"
      },
      {
        "duration": 18,
        "start_time": "2022-04-29T18:29:52.185Z"
      },
      {
        "duration": 298,
        "start_time": "2022-04-29T18:29:52.205Z"
      },
      {
        "duration": 3,
        "start_time": "2022-04-29T18:29:52.505Z"
      },
      {
        "duration": 53,
        "start_time": "2022-04-29T18:29:52.510Z"
      },
      {
        "duration": 26,
        "start_time": "2022-04-29T18:29:52.565Z"
      },
      {
        "duration": 277,
        "start_time": "2022-04-29T18:29:52.593Z"
      },
      {
        "duration": 16,
        "start_time": "2022-04-29T18:29:52.873Z"
      },
      {
        "duration": 378,
        "start_time": "2022-04-29T18:29:52.891Z"
      },
      {
        "duration": 17,
        "start_time": "2022-04-29T18:29:53.272Z"
      },
      {
        "duration": 334,
        "start_time": "2022-04-29T18:29:53.291Z"
      },
      {
        "duration": 12,
        "start_time": "2022-04-29T18:29:53.627Z"
      },
      {
        "duration": 248,
        "start_time": "2022-04-29T18:29:53.641Z"
      },
      {
        "duration": 241,
        "start_time": "2022-04-29T18:29:53.891Z"
      },
      {
        "duration": 6,
        "start_time": "2022-04-29T18:29:54.134Z"
      },
      {
        "duration": 256,
        "start_time": "2022-04-29T18:29:54.142Z"
      },
      {
        "duration": 5,
        "start_time": "2022-04-29T18:29:54.406Z"
      },
      {
        "duration": 29,
        "start_time": "2022-04-29T18:29:54.413Z"
      },
      {
        "duration": 237,
        "start_time": "2022-04-29T18:29:54.444Z"
      },
      {
        "duration": 6,
        "start_time": "2022-04-29T18:29:54.683Z"
      },
      {
        "duration": 23,
        "start_time": "2022-04-29T18:29:54.691Z"
      },
      {
        "duration": 8,
        "start_time": "2022-04-29T18:29:54.716Z"
      },
      {
        "duration": 607,
        "start_time": "2022-04-29T18:29:54.726Z"
      },
      {
        "duration": 106,
        "start_time": "2022-04-29T19:01:06.407Z"
      },
      {
        "duration": 114,
        "start_time": "2022-04-29T19:02:53.571Z"
      },
      {
        "duration": 15,
        "start_time": "2022-04-29T19:03:47.857Z"
      },
      {
        "duration": 14,
        "start_time": "2022-04-29T19:03:58.589Z"
      },
      {
        "duration": 14,
        "start_time": "2022-04-29T19:04:07.162Z"
      },
      {
        "duration": 88,
        "start_time": "2022-04-29T19:04:12.609Z"
      },
      {
        "duration": 164,
        "start_time": "2022-04-29T19:04:12.700Z"
      },
      {
        "duration": 20,
        "start_time": "2022-04-29T19:04:12.882Z"
      },
      {
        "duration": 13,
        "start_time": "2022-04-29T19:04:12.905Z"
      },
      {
        "duration": 346,
        "start_time": "2022-04-29T19:04:12.921Z"
      },
      {
        "duration": 20,
        "start_time": "2022-04-29T19:04:13.270Z"
      },
      {
        "duration": 7,
        "start_time": "2022-04-29T19:04:13.292Z"
      },
      {
        "duration": 362,
        "start_time": "2022-04-29T19:04:13.301Z"
      },
      {
        "duration": 17,
        "start_time": "2022-04-29T19:04:13.666Z"
      },
      {
        "duration": 10,
        "start_time": "2022-04-29T19:04:13.687Z"
      },
      {
        "duration": 21,
        "start_time": "2022-04-29T19:04:13.699Z"
      },
      {
        "duration": 26,
        "start_time": "2022-04-29T19:04:13.722Z"
      },
      {
        "duration": 58,
        "start_time": "2022-04-29T19:04:13.750Z"
      },
      {
        "duration": 14,
        "start_time": "2022-04-29T19:04:13.811Z"
      },
      {
        "duration": 20,
        "start_time": "2022-04-29T19:04:13.827Z"
      },
      {
        "duration": 39,
        "start_time": "2022-04-29T19:04:13.849Z"
      },
      {
        "duration": 11,
        "start_time": "2022-04-29T19:04:13.890Z"
      },
      {
        "duration": 11,
        "start_time": "2022-04-29T19:04:13.903Z"
      },
      {
        "duration": 13,
        "start_time": "2022-04-29T19:04:13.916Z"
      },
      {
        "duration": 64,
        "start_time": "2022-04-29T19:04:13.931Z"
      },
      {
        "duration": 8,
        "start_time": "2022-04-29T19:04:13.997Z"
      },
      {
        "duration": 7,
        "start_time": "2022-04-29T19:04:14.007Z"
      },
      {
        "duration": 7,
        "start_time": "2022-04-29T19:04:14.016Z"
      },
      {
        "duration": 13,
        "start_time": "2022-04-29T19:04:14.025Z"
      },
      {
        "duration": 55,
        "start_time": "2022-04-29T19:04:14.040Z"
      },
      {
        "duration": 3,
        "start_time": "2022-04-29T19:04:14.097Z"
      },
      {
        "duration": 11,
        "start_time": "2022-04-29T19:04:14.102Z"
      },
      {
        "duration": 15,
        "start_time": "2022-04-29T19:04:14.119Z"
      },
      {
        "duration": 539,
        "start_time": "2022-04-29T19:04:14.137Z"
      },
      {
        "duration": 9,
        "start_time": "2022-04-29T19:04:14.682Z"
      },
      {
        "duration": 10,
        "start_time": "2022-04-29T19:04:14.693Z"
      },
      {
        "duration": 93,
        "start_time": "2022-04-29T19:04:14.705Z"
      },
      {
        "duration": 3,
        "start_time": "2022-04-29T19:04:14.800Z"
      },
      {
        "duration": 14,
        "start_time": "2022-04-29T19:04:14.805Z"
      },
      {
        "duration": 3,
        "start_time": "2022-04-29T19:04:14.821Z"
      },
      {
        "duration": 385,
        "start_time": "2022-04-29T19:04:14.826Z"
      },
      {
        "duration": 3,
        "start_time": "2022-04-29T19:04:15.213Z"
      },
      {
        "duration": 18,
        "start_time": "2022-04-29T19:04:15.218Z"
      },
      {
        "duration": 3,
        "start_time": "2022-04-29T19:04:15.238Z"
      },
      {
        "duration": 441,
        "start_time": "2022-04-29T19:04:15.243Z"
      },
      {
        "duration": 4,
        "start_time": "2022-04-29T19:04:15.686Z"
      },
      {
        "duration": 19,
        "start_time": "2022-04-29T19:04:15.692Z"
      },
      {
        "duration": 7,
        "start_time": "2022-04-29T19:04:15.713Z"
      },
      {
        "duration": 12,
        "start_time": "2022-04-29T19:04:15.722Z"
      },
      {
        "duration": 46,
        "start_time": "2022-04-29T19:04:15.736Z"
      },
      {
        "duration": 308,
        "start_time": "2022-04-29T19:04:15.785Z"
      },
      {
        "duration": 11,
        "start_time": "2022-04-29T19:04:16.096Z"
      },
      {
        "duration": 251,
        "start_time": "2022-04-29T19:04:16.109Z"
      },
      {
        "duration": 25,
        "start_time": "2022-04-29T19:04:16.362Z"
      },
      {
        "duration": 318,
        "start_time": "2022-04-29T19:04:16.389Z"
      },
      {
        "duration": 305,
        "start_time": "2022-04-29T19:04:16.710Z"
      },
      {
        "duration": 17,
        "start_time": "2022-04-29T19:04:17.017Z"
      },
      {
        "duration": 13,
        "start_time": "2022-04-29T19:04:17.036Z"
      },
      {
        "duration": 16,
        "start_time": "2022-04-29T19:04:20.429Z"
      },
      {
        "duration": 6,
        "start_time": "2022-04-29T19:05:59.517Z"
      },
      {
        "duration": 18,
        "start_time": "2022-04-29T19:09:30.633Z"
      },
      {
        "duration": 576,
        "start_time": "2022-04-29T19:13:46.970Z"
      },
      {
        "duration": 261,
        "start_time": "2022-04-29T19:14:32.781Z"
      },
      {
        "duration": 309,
        "start_time": "2022-04-29T19:15:37.536Z"
      },
      {
        "duration": 329,
        "start_time": "2022-04-29T19:20:36.498Z"
      }
    ],
    "kernelspec": {
      "display_name": "Python 3 (ipykernel)",
      "language": "python",
      "name": "python3"
    },
    "language_info": {
      "codemirror_mode": {
        "name": "ipython",
        "version": 3
      },
      "file_extension": ".py",
      "mimetype": "text/x-python",
      "name": "python",
      "nbconvert_exporter": "python",
      "pygments_lexer": "ipython3",
      "version": "3.9.12"
    },
    "toc": {
      "base_numbering": 1,
      "nav_menu": {},
      "number_sections": true,
      "sideBar": true,
      "skip_h1_title": true,
      "title_cell": "Содержание",
      "title_sidebar": "Contents",
      "toc_cell": true,
      "toc_position": {
        "height": "calc(100% - 180px)",
        "left": "10px",
        "top": "150px",
        "width": "459.826px"
      },
      "toc_section_display": true,
      "toc_window_display": true
    },
    "colab": {
      "provenance": []
    }
  },
  "nbformat": 4,
  "nbformat_minor": 0
}