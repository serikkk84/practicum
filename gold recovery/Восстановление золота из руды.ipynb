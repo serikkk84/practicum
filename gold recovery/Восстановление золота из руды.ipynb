{
  "cells": [
    {
      "cell_type": "markdown",
      "metadata": {
        "id": "_AESiCYQqe_7"
      },
      "source": [
        "# Восстановление золота из руды"
      ]
    },
    {
      "cell_type": "markdown",
      "metadata": {
        "id": "ZdgZ_bDLqe_7"
      },
      "source": [
        "Нам необходимо создать прототип модели машинного обучения для «Цифры». Компания разрабатывает решения для эффективной работы промышленных предприятий.\n",
        "\n",
        "Модель должна предсказать коэффициент восстановления золота из золотосодержащей руды. \n",
        "\n",
        "Модель поможет оптимизировать производство, чтобы не запускать предприятие с убыточными характеристиками.\n",
        "\n"
      ]
    },
    {
      "cell_type": "markdown",
      "metadata": {
        "id": "Vutf8MpCqe_9"
      },
      "source": [
        "## Подготовка данных"
      ]
    },
    {
      "cell_type": "markdown",
      "metadata": {
        "id": "CVB1oVqKqe_-"
      },
      "source": [
        "По условиям задачи мне необходимо  обучить модель для предсказания коэффициента восстановления золота из золотосодержащей руды, с целью оптимизации производства.\n",
        "\n",
        "Для решения задачи необходимо будет выполнить следующие шаги:\n",
        "- Загрузим и изучим данные;\n",
        "- Проведем их предобработку;\n"
      ]
    },
    {
      "cell_type": "code",
      "execution_count": null,
      "metadata": {
        "id": "nIMbr5RkqfAA"
      },
      "outputs": [],
      "source": [
        "import pandas as pd\n",
        "import numpy as np\n",
        "import seaborn as sns\n",
        "import matplotlib.pyplot as plt\n",
        "from sklearn.model_selection import train_test_split, cross_val_score\n",
        "from sklearn.tree import DecisionTreeRegressor\n",
        "from sklearn.ensemble import RandomForestRegressor\n",
        "from sklearn.linear_model import LinearRegression\n",
        "from numpy.random import RandomState\n",
        "from sklearn.metrics import make_scorer, mean_absolute_error\n"
      ]
    },
    {
      "cell_type": "markdown",
      "metadata": {
        "id": "qx4GqPqTqfAD"
      },
      "source": [
        "### Загрузка данных"
      ]
    },
    {
      "cell_type": "markdown",
      "metadata": {
        "id": "fl1Cs52qqfAE"
      },
      "source": [
        "Загрузим данные и посмотрим на их содержимое."
      ]
    },
    {
      "cell_type": "code",
      "execution_count": null,
      "metadata": {
        "scrolled": false,
        "id": "NK5v3XW2qfAF",
        "outputId": "ed27bbba-cafa-42f1-99ac-d52931345234"
      },
      "outputs": [
        {
          "data": {
            "text/html": [
              "<div>\n",
              "<style scoped>\n",
              "    .dataframe tbody tr th:only-of-type {\n",
              "        vertical-align: middle;\n",
              "    }\n",
              "\n",
              "    .dataframe tbody tr th {\n",
              "        vertical-align: top;\n",
              "    }\n",
              "\n",
              "    .dataframe thead th {\n",
              "        text-align: right;\n",
              "    }\n",
              "</style>\n",
              "<table border=\"1\" class=\"dataframe\">\n",
              "  <thead>\n",
              "    <tr style=\"text-align: right;\">\n",
              "      <th></th>\n",
              "      <th>date</th>\n",
              "      <th>final.output.concentrate_ag</th>\n",
              "      <th>final.output.concentrate_pb</th>\n",
              "      <th>final.output.concentrate_sol</th>\n",
              "      <th>final.output.concentrate_au</th>\n",
              "      <th>final.output.recovery</th>\n",
              "      <th>final.output.tail_ag</th>\n",
              "      <th>final.output.tail_pb</th>\n",
              "      <th>final.output.tail_sol</th>\n",
              "      <th>final.output.tail_au</th>\n",
              "      <th>...</th>\n",
              "      <th>secondary_cleaner.state.floatbank4_a_air</th>\n",
              "      <th>secondary_cleaner.state.floatbank4_a_level</th>\n",
              "      <th>secondary_cleaner.state.floatbank4_b_air</th>\n",
              "      <th>secondary_cleaner.state.floatbank4_b_level</th>\n",
              "      <th>secondary_cleaner.state.floatbank5_a_air</th>\n",
              "      <th>secondary_cleaner.state.floatbank5_a_level</th>\n",
              "      <th>secondary_cleaner.state.floatbank5_b_air</th>\n",
              "      <th>secondary_cleaner.state.floatbank5_b_level</th>\n",
              "      <th>secondary_cleaner.state.floatbank6_a_air</th>\n",
              "      <th>secondary_cleaner.state.floatbank6_a_level</th>\n",
              "    </tr>\n",
              "  </thead>\n",
              "  <tbody>\n",
              "    <tr>\n",
              "      <th>0</th>\n",
              "      <td>2016-01-15 00:00:00</td>\n",
              "      <td>6.055403</td>\n",
              "      <td>9.889648</td>\n",
              "      <td>5.507324</td>\n",
              "      <td>42.192020</td>\n",
              "      <td>70.541216</td>\n",
              "      <td>10.411962</td>\n",
              "      <td>0.895447</td>\n",
              "      <td>16.904297</td>\n",
              "      <td>2.143149</td>\n",
              "      <td>...</td>\n",
              "      <td>14.016835</td>\n",
              "      <td>-502.488007</td>\n",
              "      <td>12.099931</td>\n",
              "      <td>-504.715942</td>\n",
              "      <td>9.925633</td>\n",
              "      <td>-498.310211</td>\n",
              "      <td>8.079666</td>\n",
              "      <td>-500.470978</td>\n",
              "      <td>14.151341</td>\n",
              "      <td>-605.841980</td>\n",
              "    </tr>\n",
              "    <tr>\n",
              "      <th>1</th>\n",
              "      <td>2016-01-15 01:00:00</td>\n",
              "      <td>6.029369</td>\n",
              "      <td>9.968944</td>\n",
              "      <td>5.257781</td>\n",
              "      <td>42.701629</td>\n",
              "      <td>69.266198</td>\n",
              "      <td>10.462676</td>\n",
              "      <td>0.927452</td>\n",
              "      <td>16.634514</td>\n",
              "      <td>2.224930</td>\n",
              "      <td>...</td>\n",
              "      <td>13.992281</td>\n",
              "      <td>-505.503262</td>\n",
              "      <td>11.950531</td>\n",
              "      <td>-501.331529</td>\n",
              "      <td>10.039245</td>\n",
              "      <td>-500.169983</td>\n",
              "      <td>7.984757</td>\n",
              "      <td>-500.582168</td>\n",
              "      <td>13.998353</td>\n",
              "      <td>-599.787184</td>\n",
              "    </tr>\n",
              "    <tr>\n",
              "      <th>2</th>\n",
              "      <td>2016-01-15 02:00:00</td>\n",
              "      <td>6.055926</td>\n",
              "      <td>10.213995</td>\n",
              "      <td>5.383759</td>\n",
              "      <td>42.657501</td>\n",
              "      <td>68.116445</td>\n",
              "      <td>10.507046</td>\n",
              "      <td>0.953716</td>\n",
              "      <td>16.208849</td>\n",
              "      <td>2.257889</td>\n",
              "      <td>...</td>\n",
              "      <td>14.015015</td>\n",
              "      <td>-502.520901</td>\n",
              "      <td>11.912783</td>\n",
              "      <td>-501.133383</td>\n",
              "      <td>10.070913</td>\n",
              "      <td>-500.129135</td>\n",
              "      <td>8.013877</td>\n",
              "      <td>-500.517572</td>\n",
              "      <td>14.028663</td>\n",
              "      <td>-601.427363</td>\n",
              "    </tr>\n",
              "    <tr>\n",
              "      <th>3</th>\n",
              "      <td>2016-01-15 03:00:00</td>\n",
              "      <td>6.047977</td>\n",
              "      <td>9.977019</td>\n",
              "      <td>4.858634</td>\n",
              "      <td>42.689819</td>\n",
              "      <td>68.347543</td>\n",
              "      <td>10.422762</td>\n",
              "      <td>0.883763</td>\n",
              "      <td>16.532835</td>\n",
              "      <td>2.146849</td>\n",
              "      <td>...</td>\n",
              "      <td>14.036510</td>\n",
              "      <td>-500.857308</td>\n",
              "      <td>11.999550</td>\n",
              "      <td>-501.193686</td>\n",
              "      <td>9.970366</td>\n",
              "      <td>-499.201640</td>\n",
              "      <td>7.977324</td>\n",
              "      <td>-500.255908</td>\n",
              "      <td>14.005551</td>\n",
              "      <td>-599.996129</td>\n",
              "    </tr>\n",
              "    <tr>\n",
              "      <th>4</th>\n",
              "      <td>2016-01-15 04:00:00</td>\n",
              "      <td>6.148599</td>\n",
              "      <td>10.142511</td>\n",
              "      <td>4.939416</td>\n",
              "      <td>42.774141</td>\n",
              "      <td>66.927016</td>\n",
              "      <td>10.360302</td>\n",
              "      <td>0.792826</td>\n",
              "      <td>16.525686</td>\n",
              "      <td>2.055292</td>\n",
              "      <td>...</td>\n",
              "      <td>14.027298</td>\n",
              "      <td>-499.838632</td>\n",
              "      <td>11.953070</td>\n",
              "      <td>-501.053894</td>\n",
              "      <td>9.925709</td>\n",
              "      <td>-501.686727</td>\n",
              "      <td>7.894242</td>\n",
              "      <td>-500.356035</td>\n",
              "      <td>13.996647</td>\n",
              "      <td>-601.496691</td>\n",
              "    </tr>\n",
              "  </tbody>\n",
              "</table>\n",
              "<p>5 rows × 87 columns</p>\n",
              "</div>"
            ],
            "text/plain": [
              "                  date  final.output.concentrate_ag  \\\n",
              "0  2016-01-15 00:00:00                     6.055403   \n",
              "1  2016-01-15 01:00:00                     6.029369   \n",
              "2  2016-01-15 02:00:00                     6.055926   \n",
              "3  2016-01-15 03:00:00                     6.047977   \n",
              "4  2016-01-15 04:00:00                     6.148599   \n",
              "\n",
              "   final.output.concentrate_pb  final.output.concentrate_sol  \\\n",
              "0                     9.889648                      5.507324   \n",
              "1                     9.968944                      5.257781   \n",
              "2                    10.213995                      5.383759   \n",
              "3                     9.977019                      4.858634   \n",
              "4                    10.142511                      4.939416   \n",
              "\n",
              "   final.output.concentrate_au  final.output.recovery  final.output.tail_ag  \\\n",
              "0                    42.192020              70.541216             10.411962   \n",
              "1                    42.701629              69.266198             10.462676   \n",
              "2                    42.657501              68.116445             10.507046   \n",
              "3                    42.689819              68.347543             10.422762   \n",
              "4                    42.774141              66.927016             10.360302   \n",
              "\n",
              "   final.output.tail_pb  final.output.tail_sol  final.output.tail_au  ...  \\\n",
              "0              0.895447              16.904297              2.143149  ...   \n",
              "1              0.927452              16.634514              2.224930  ...   \n",
              "2              0.953716              16.208849              2.257889  ...   \n",
              "3              0.883763              16.532835              2.146849  ...   \n",
              "4              0.792826              16.525686              2.055292  ...   \n",
              "\n",
              "   secondary_cleaner.state.floatbank4_a_air  \\\n",
              "0                                 14.016835   \n",
              "1                                 13.992281   \n",
              "2                                 14.015015   \n",
              "3                                 14.036510   \n",
              "4                                 14.027298   \n",
              "\n",
              "   secondary_cleaner.state.floatbank4_a_level  \\\n",
              "0                                 -502.488007   \n",
              "1                                 -505.503262   \n",
              "2                                 -502.520901   \n",
              "3                                 -500.857308   \n",
              "4                                 -499.838632   \n",
              "\n",
              "   secondary_cleaner.state.floatbank4_b_air  \\\n",
              "0                                 12.099931   \n",
              "1                                 11.950531   \n",
              "2                                 11.912783   \n",
              "3                                 11.999550   \n",
              "4                                 11.953070   \n",
              "\n",
              "   secondary_cleaner.state.floatbank4_b_level  \\\n",
              "0                                 -504.715942   \n",
              "1                                 -501.331529   \n",
              "2                                 -501.133383   \n",
              "3                                 -501.193686   \n",
              "4                                 -501.053894   \n",
              "\n",
              "   secondary_cleaner.state.floatbank5_a_air  \\\n",
              "0                                  9.925633   \n",
              "1                                 10.039245   \n",
              "2                                 10.070913   \n",
              "3                                  9.970366   \n",
              "4                                  9.925709   \n",
              "\n",
              "   secondary_cleaner.state.floatbank5_a_level  \\\n",
              "0                                 -498.310211   \n",
              "1                                 -500.169983   \n",
              "2                                 -500.129135   \n",
              "3                                 -499.201640   \n",
              "4                                 -501.686727   \n",
              "\n",
              "   secondary_cleaner.state.floatbank5_b_air  \\\n",
              "0                                  8.079666   \n",
              "1                                  7.984757   \n",
              "2                                  8.013877   \n",
              "3                                  7.977324   \n",
              "4                                  7.894242   \n",
              "\n",
              "   secondary_cleaner.state.floatbank5_b_level  \\\n",
              "0                                 -500.470978   \n",
              "1                                 -500.582168   \n",
              "2                                 -500.517572   \n",
              "3                                 -500.255908   \n",
              "4                                 -500.356035   \n",
              "\n",
              "   secondary_cleaner.state.floatbank6_a_air  \\\n",
              "0                                 14.151341   \n",
              "1                                 13.998353   \n",
              "2                                 14.028663   \n",
              "3                                 14.005551   \n",
              "4                                 13.996647   \n",
              "\n",
              "   secondary_cleaner.state.floatbank6_a_level  \n",
              "0                                 -605.841980  \n",
              "1                                 -599.787184  \n",
              "2                                 -601.427363  \n",
              "3                                 -599.996129  \n",
              "4                                 -601.496691  \n",
              "\n",
              "[5 rows x 87 columns]"
            ]
          },
          "execution_count": 2,
          "metadata": {},
          "output_type": "execute_result"
        }
      ],
      "source": [
        "try:\n",
        "    data_train = pd.read_csv('gold_recovery_train_new.csv')\n",
        "except:\n",
        "    data_train = pd.read_csv('/datasets/gold_recovery_train_new.csv')\n",
        "data_train.head(5)"
      ]
    },
    {
      "cell_type": "code",
      "execution_count": null,
      "metadata": {
        "id": "C13BoQ9uqfAH",
        "outputId": "1aeafbb6-925a-47e8-8aa9-63d068818a6c"
      },
      "outputs": [
        {
          "name": "stdout",
          "output_type": "stream",
          "text": [
            "<class 'pandas.core.frame.DataFrame'>\n",
            "RangeIndex: 14149 entries, 0 to 14148\n",
            "Data columns (total 87 columns):\n",
            " #   Column                                              Non-Null Count  Dtype  \n",
            "---  ------                                              --------------  -----  \n",
            " 0   date                                                14149 non-null  object \n",
            " 1   final.output.concentrate_ag                         14148 non-null  float64\n",
            " 2   final.output.concentrate_pb                         14148 non-null  float64\n",
            " 3   final.output.concentrate_sol                        13938 non-null  float64\n",
            " 4   final.output.concentrate_au                         14149 non-null  float64\n",
            " 5   final.output.recovery                               14149 non-null  float64\n",
            " 6   final.output.tail_ag                                14149 non-null  float64\n",
            " 7   final.output.tail_pb                                14049 non-null  float64\n",
            " 8   final.output.tail_sol                               14144 non-null  float64\n",
            " 9   final.output.tail_au                                14149 non-null  float64\n",
            " 10  primary_cleaner.input.sulfate                       14129 non-null  float64\n",
            " 11  primary_cleaner.input.depressant                    14117 non-null  float64\n",
            " 12  primary_cleaner.input.feed_size                     14149 non-null  float64\n",
            " 13  primary_cleaner.input.xanthate                      14049 non-null  float64\n",
            " 14  primary_cleaner.output.concentrate_ag               14149 non-null  float64\n",
            " 15  primary_cleaner.output.concentrate_pb               14063 non-null  float64\n",
            " 16  primary_cleaner.output.concentrate_sol              13863 non-null  float64\n",
            " 17  primary_cleaner.output.concentrate_au               14149 non-null  float64\n",
            " 18  primary_cleaner.output.tail_ag                      14148 non-null  float64\n",
            " 19  primary_cleaner.output.tail_pb                      14134 non-null  float64\n",
            " 20  primary_cleaner.output.tail_sol                     14103 non-null  float64\n",
            " 21  primary_cleaner.output.tail_au                      14149 non-null  float64\n",
            " 22  primary_cleaner.state.floatbank8_a_air              14145 non-null  float64\n",
            " 23  primary_cleaner.state.floatbank8_a_level            14148 non-null  float64\n",
            " 24  primary_cleaner.state.floatbank8_b_air              14145 non-null  float64\n",
            " 25  primary_cleaner.state.floatbank8_b_level            14148 non-null  float64\n",
            " 26  primary_cleaner.state.floatbank8_c_air              14147 non-null  float64\n",
            " 27  primary_cleaner.state.floatbank8_c_level            14148 non-null  float64\n",
            " 28  primary_cleaner.state.floatbank8_d_air              14146 non-null  float64\n",
            " 29  primary_cleaner.state.floatbank8_d_level            14148 non-null  float64\n",
            " 30  rougher.calculation.sulfate_to_au_concentrate       14148 non-null  float64\n",
            " 31  rougher.calculation.floatbank10_sulfate_to_au_feed  14148 non-null  float64\n",
            " 32  rougher.calculation.floatbank11_sulfate_to_au_feed  14148 non-null  float64\n",
            " 33  rougher.calculation.au_pb_ratio                     14149 non-null  float64\n",
            " 34  rougher.input.feed_ag                               14149 non-null  float64\n",
            " 35  rougher.input.feed_pb                               14049 non-null  float64\n",
            " 36  rougher.input.feed_rate                             14141 non-null  float64\n",
            " 37  rougher.input.feed_size                             14005 non-null  float64\n",
            " 38  rougher.input.feed_sol                              14071 non-null  float64\n",
            " 39  rougher.input.feed_au                               14149 non-null  float64\n",
            " 40  rougher.input.floatbank10_sulfate                   14120 non-null  float64\n",
            " 41  rougher.input.floatbank10_xanthate                  14141 non-null  float64\n",
            " 42  rougher.input.floatbank11_sulfate                   14113 non-null  float64\n",
            " 43  rougher.input.floatbank11_xanthate                  13721 non-null  float64\n",
            " 44  rougher.output.concentrate_ag                       14149 non-null  float64\n",
            " 45  rougher.output.concentrate_pb                       14149 non-null  float64\n",
            " 46  rougher.output.concentrate_sol                      14127 non-null  float64\n",
            " 47  rougher.output.concentrate_au                       14149 non-null  float64\n",
            " 48  rougher.output.recovery                             14149 non-null  float64\n",
            " 49  rougher.output.tail_ag                              14148 non-null  float64\n",
            " 50  rougher.output.tail_pb                              14149 non-null  float64\n",
            " 51  rougher.output.tail_sol                             14149 non-null  float64\n",
            " 52  rougher.output.tail_au                              14149 non-null  float64\n",
            " 53  rougher.state.floatbank10_a_air                     14148 non-null  float64\n",
            " 54  rougher.state.floatbank10_a_level                   14148 non-null  float64\n",
            " 55  rougher.state.floatbank10_b_air                     14148 non-null  float64\n",
            " 56  rougher.state.floatbank10_b_level                   14148 non-null  float64\n",
            " 57  rougher.state.floatbank10_c_air                     14148 non-null  float64\n",
            " 58  rougher.state.floatbank10_c_level                   14148 non-null  float64\n",
            " 59  rougher.state.floatbank10_d_air                     14149 non-null  float64\n",
            " 60  rougher.state.floatbank10_d_level                   14149 non-null  float64\n",
            " 61  rougher.state.floatbank10_e_air                     13713 non-null  float64\n",
            " 62  rougher.state.floatbank10_e_level                   14149 non-null  float64\n",
            " 63  rougher.state.floatbank10_f_air                     14149 non-null  float64\n",
            " 64  rougher.state.floatbank10_f_level                   14149 non-null  float64\n",
            " 65  secondary_cleaner.output.tail_ag                    14147 non-null  float64\n",
            " 66  secondary_cleaner.output.tail_pb                    14139 non-null  float64\n",
            " 67  secondary_cleaner.output.tail_sol                   12544 non-null  float64\n",
            " 68  secondary_cleaner.output.tail_au                    14149 non-null  float64\n",
            " 69  secondary_cleaner.state.floatbank2_a_air            13932 non-null  float64\n",
            " 70  secondary_cleaner.state.floatbank2_a_level          14148 non-null  float64\n",
            " 71  secondary_cleaner.state.floatbank2_b_air            14128 non-null  float64\n",
            " 72  secondary_cleaner.state.floatbank2_b_level          14148 non-null  float64\n",
            " 73  secondary_cleaner.state.floatbank3_a_air            14145 non-null  float64\n",
            " 74  secondary_cleaner.state.floatbank3_a_level          14148 non-null  float64\n",
            " 75  secondary_cleaner.state.floatbank3_b_air            14148 non-null  float64\n",
            " 76  secondary_cleaner.state.floatbank3_b_level          14148 non-null  float64\n",
            " 77  secondary_cleaner.state.floatbank4_a_air            14143 non-null  float64\n",
            " 78  secondary_cleaner.state.floatbank4_a_level          14148 non-null  float64\n",
            " 79  secondary_cleaner.state.floatbank4_b_air            14148 non-null  float64\n",
            " 80  secondary_cleaner.state.floatbank4_b_level          14148 non-null  float64\n",
            " 81  secondary_cleaner.state.floatbank5_a_air            14148 non-null  float64\n",
            " 82  secondary_cleaner.state.floatbank5_a_level          14148 non-null  float64\n",
            " 83  secondary_cleaner.state.floatbank5_b_air            14148 non-null  float64\n",
            " 84  secondary_cleaner.state.floatbank5_b_level          14148 non-null  float64\n",
            " 85  secondary_cleaner.state.floatbank6_a_air            14147 non-null  float64\n",
            " 86  secondary_cleaner.state.floatbank6_a_level          14148 non-null  float64\n",
            "dtypes: float64(86), object(1)\n",
            "memory usage: 9.4+ MB\n"
          ]
        }
      ],
      "source": [
        "data_train.info()"
      ]
    },
    {
      "cell_type": "code",
      "execution_count": null,
      "metadata": {
        "scrolled": true,
        "id": "ecfZdmkOqfAI",
        "outputId": "029db5c1-98c4-495b-9c82-abae645ea3c4"
      },
      "outputs": [
        {
          "data": {
            "text/html": [
              "<div>\n",
              "<style scoped>\n",
              "    .dataframe tbody tr th:only-of-type {\n",
              "        vertical-align: middle;\n",
              "    }\n",
              "\n",
              "    .dataframe tbody tr th {\n",
              "        vertical-align: top;\n",
              "    }\n",
              "\n",
              "    .dataframe thead th {\n",
              "        text-align: right;\n",
              "    }\n",
              "</style>\n",
              "<table border=\"1\" class=\"dataframe\">\n",
              "  <thead>\n",
              "    <tr style=\"text-align: right;\">\n",
              "      <th></th>\n",
              "      <th>date</th>\n",
              "      <th>primary_cleaner.input.sulfate</th>\n",
              "      <th>primary_cleaner.input.depressant</th>\n",
              "      <th>primary_cleaner.input.feed_size</th>\n",
              "      <th>primary_cleaner.input.xanthate</th>\n",
              "      <th>primary_cleaner.state.floatbank8_a_air</th>\n",
              "      <th>primary_cleaner.state.floatbank8_a_level</th>\n",
              "      <th>primary_cleaner.state.floatbank8_b_air</th>\n",
              "      <th>primary_cleaner.state.floatbank8_b_level</th>\n",
              "      <th>primary_cleaner.state.floatbank8_c_air</th>\n",
              "      <th>...</th>\n",
              "      <th>secondary_cleaner.state.floatbank4_a_air</th>\n",
              "      <th>secondary_cleaner.state.floatbank4_a_level</th>\n",
              "      <th>secondary_cleaner.state.floatbank4_b_air</th>\n",
              "      <th>secondary_cleaner.state.floatbank4_b_level</th>\n",
              "      <th>secondary_cleaner.state.floatbank5_a_air</th>\n",
              "      <th>secondary_cleaner.state.floatbank5_a_level</th>\n",
              "      <th>secondary_cleaner.state.floatbank5_b_air</th>\n",
              "      <th>secondary_cleaner.state.floatbank5_b_level</th>\n",
              "      <th>secondary_cleaner.state.floatbank6_a_air</th>\n",
              "      <th>secondary_cleaner.state.floatbank6_a_level</th>\n",
              "    </tr>\n",
              "  </thead>\n",
              "  <tbody>\n",
              "    <tr>\n",
              "      <th>0</th>\n",
              "      <td>2016-09-01 00:59:59</td>\n",
              "      <td>210.800909</td>\n",
              "      <td>14.993118</td>\n",
              "      <td>8.080000</td>\n",
              "      <td>1.005021</td>\n",
              "      <td>1398.981301</td>\n",
              "      <td>-500.225577</td>\n",
              "      <td>1399.144926</td>\n",
              "      <td>-499.919735</td>\n",
              "      <td>1400.102998</td>\n",
              "      <td>...</td>\n",
              "      <td>12.023554</td>\n",
              "      <td>-497.795834</td>\n",
              "      <td>8.016656</td>\n",
              "      <td>-501.289139</td>\n",
              "      <td>7.946562</td>\n",
              "      <td>-432.317850</td>\n",
              "      <td>4.872511</td>\n",
              "      <td>-500.037437</td>\n",
              "      <td>26.705889</td>\n",
              "      <td>-499.709414</td>\n",
              "    </tr>\n",
              "    <tr>\n",
              "      <th>1</th>\n",
              "      <td>2016-09-01 01:59:59</td>\n",
              "      <td>215.392455</td>\n",
              "      <td>14.987471</td>\n",
              "      <td>8.080000</td>\n",
              "      <td>0.990469</td>\n",
              "      <td>1398.777912</td>\n",
              "      <td>-500.057435</td>\n",
              "      <td>1398.055362</td>\n",
              "      <td>-499.778182</td>\n",
              "      <td>1396.151033</td>\n",
              "      <td>...</td>\n",
              "      <td>12.058140</td>\n",
              "      <td>-498.695773</td>\n",
              "      <td>8.130979</td>\n",
              "      <td>-499.634209</td>\n",
              "      <td>7.958270</td>\n",
              "      <td>-525.839648</td>\n",
              "      <td>4.878850</td>\n",
              "      <td>-500.162375</td>\n",
              "      <td>25.019940</td>\n",
              "      <td>-499.819438</td>\n",
              "    </tr>\n",
              "    <tr>\n",
              "      <th>2</th>\n",
              "      <td>2016-09-01 02:59:59</td>\n",
              "      <td>215.259946</td>\n",
              "      <td>12.884934</td>\n",
              "      <td>7.786667</td>\n",
              "      <td>0.996043</td>\n",
              "      <td>1398.493666</td>\n",
              "      <td>-500.868360</td>\n",
              "      <td>1398.860436</td>\n",
              "      <td>-499.764529</td>\n",
              "      <td>1398.075709</td>\n",
              "      <td>...</td>\n",
              "      <td>11.962366</td>\n",
              "      <td>-498.767484</td>\n",
              "      <td>8.096893</td>\n",
              "      <td>-500.827423</td>\n",
              "      <td>8.071056</td>\n",
              "      <td>-500.801673</td>\n",
              "      <td>4.905125</td>\n",
              "      <td>-499.828510</td>\n",
              "      <td>24.994862</td>\n",
              "      <td>-500.622559</td>\n",
              "    </tr>\n",
              "    <tr>\n",
              "      <th>3</th>\n",
              "      <td>2016-09-01 03:59:59</td>\n",
              "      <td>215.336236</td>\n",
              "      <td>12.006805</td>\n",
              "      <td>7.640000</td>\n",
              "      <td>0.863514</td>\n",
              "      <td>1399.618111</td>\n",
              "      <td>-498.863574</td>\n",
              "      <td>1397.440120</td>\n",
              "      <td>-499.211024</td>\n",
              "      <td>1400.129303</td>\n",
              "      <td>...</td>\n",
              "      <td>12.033091</td>\n",
              "      <td>-498.350935</td>\n",
              "      <td>8.074946</td>\n",
              "      <td>-499.474407</td>\n",
              "      <td>7.897085</td>\n",
              "      <td>-500.868509</td>\n",
              "      <td>4.931400</td>\n",
              "      <td>-499.963623</td>\n",
              "      <td>24.948919</td>\n",
              "      <td>-498.709987</td>\n",
              "    </tr>\n",
              "    <tr>\n",
              "      <th>4</th>\n",
              "      <td>2016-09-01 04:59:59</td>\n",
              "      <td>199.099327</td>\n",
              "      <td>10.682530</td>\n",
              "      <td>7.530000</td>\n",
              "      <td>0.805575</td>\n",
              "      <td>1401.268123</td>\n",
              "      <td>-500.808305</td>\n",
              "      <td>1398.128818</td>\n",
              "      <td>-499.504543</td>\n",
              "      <td>1402.172226</td>\n",
              "      <td>...</td>\n",
              "      <td>12.025367</td>\n",
              "      <td>-500.786497</td>\n",
              "      <td>8.054678</td>\n",
              "      <td>-500.397500</td>\n",
              "      <td>8.107890</td>\n",
              "      <td>-509.526725</td>\n",
              "      <td>4.957674</td>\n",
              "      <td>-500.360026</td>\n",
              "      <td>25.003331</td>\n",
              "      <td>-500.856333</td>\n",
              "    </tr>\n",
              "  </tbody>\n",
              "</table>\n",
              "<p>5 rows × 53 columns</p>\n",
              "</div>"
            ],
            "text/plain": [
              "                  date  primary_cleaner.input.sulfate  \\\n",
              "0  2016-09-01 00:59:59                     210.800909   \n",
              "1  2016-09-01 01:59:59                     215.392455   \n",
              "2  2016-09-01 02:59:59                     215.259946   \n",
              "3  2016-09-01 03:59:59                     215.336236   \n",
              "4  2016-09-01 04:59:59                     199.099327   \n",
              "\n",
              "   primary_cleaner.input.depressant  primary_cleaner.input.feed_size  \\\n",
              "0                         14.993118                         8.080000   \n",
              "1                         14.987471                         8.080000   \n",
              "2                         12.884934                         7.786667   \n",
              "3                         12.006805                         7.640000   \n",
              "4                         10.682530                         7.530000   \n",
              "\n",
              "   primary_cleaner.input.xanthate  primary_cleaner.state.floatbank8_a_air  \\\n",
              "0                        1.005021                             1398.981301   \n",
              "1                        0.990469                             1398.777912   \n",
              "2                        0.996043                             1398.493666   \n",
              "3                        0.863514                             1399.618111   \n",
              "4                        0.805575                             1401.268123   \n",
              "\n",
              "   primary_cleaner.state.floatbank8_a_level  \\\n",
              "0                               -500.225577   \n",
              "1                               -500.057435   \n",
              "2                               -500.868360   \n",
              "3                               -498.863574   \n",
              "4                               -500.808305   \n",
              "\n",
              "   primary_cleaner.state.floatbank8_b_air  \\\n",
              "0                             1399.144926   \n",
              "1                             1398.055362   \n",
              "2                             1398.860436   \n",
              "3                             1397.440120   \n",
              "4                             1398.128818   \n",
              "\n",
              "   primary_cleaner.state.floatbank8_b_level  \\\n",
              "0                               -499.919735   \n",
              "1                               -499.778182   \n",
              "2                               -499.764529   \n",
              "3                               -499.211024   \n",
              "4                               -499.504543   \n",
              "\n",
              "   primary_cleaner.state.floatbank8_c_air  ...  \\\n",
              "0                             1400.102998  ...   \n",
              "1                             1396.151033  ...   \n",
              "2                             1398.075709  ...   \n",
              "3                             1400.129303  ...   \n",
              "4                             1402.172226  ...   \n",
              "\n",
              "   secondary_cleaner.state.floatbank4_a_air  \\\n",
              "0                                 12.023554   \n",
              "1                                 12.058140   \n",
              "2                                 11.962366   \n",
              "3                                 12.033091   \n",
              "4                                 12.025367   \n",
              "\n",
              "   secondary_cleaner.state.floatbank4_a_level  \\\n",
              "0                                 -497.795834   \n",
              "1                                 -498.695773   \n",
              "2                                 -498.767484   \n",
              "3                                 -498.350935   \n",
              "4                                 -500.786497   \n",
              "\n",
              "   secondary_cleaner.state.floatbank4_b_air  \\\n",
              "0                                  8.016656   \n",
              "1                                  8.130979   \n",
              "2                                  8.096893   \n",
              "3                                  8.074946   \n",
              "4                                  8.054678   \n",
              "\n",
              "   secondary_cleaner.state.floatbank4_b_level  \\\n",
              "0                                 -501.289139   \n",
              "1                                 -499.634209   \n",
              "2                                 -500.827423   \n",
              "3                                 -499.474407   \n",
              "4                                 -500.397500   \n",
              "\n",
              "   secondary_cleaner.state.floatbank5_a_air  \\\n",
              "0                                  7.946562   \n",
              "1                                  7.958270   \n",
              "2                                  8.071056   \n",
              "3                                  7.897085   \n",
              "4                                  8.107890   \n",
              "\n",
              "   secondary_cleaner.state.floatbank5_a_level  \\\n",
              "0                                 -432.317850   \n",
              "1                                 -525.839648   \n",
              "2                                 -500.801673   \n",
              "3                                 -500.868509   \n",
              "4                                 -509.526725   \n",
              "\n",
              "   secondary_cleaner.state.floatbank5_b_air  \\\n",
              "0                                  4.872511   \n",
              "1                                  4.878850   \n",
              "2                                  4.905125   \n",
              "3                                  4.931400   \n",
              "4                                  4.957674   \n",
              "\n",
              "   secondary_cleaner.state.floatbank5_b_level  \\\n",
              "0                                 -500.037437   \n",
              "1                                 -500.162375   \n",
              "2                                 -499.828510   \n",
              "3                                 -499.963623   \n",
              "4                                 -500.360026   \n",
              "\n",
              "   secondary_cleaner.state.floatbank6_a_air  \\\n",
              "0                                 26.705889   \n",
              "1                                 25.019940   \n",
              "2                                 24.994862   \n",
              "3                                 24.948919   \n",
              "4                                 25.003331   \n",
              "\n",
              "   secondary_cleaner.state.floatbank6_a_level  \n",
              "0                                 -499.709414  \n",
              "1                                 -499.819438  \n",
              "2                                 -500.622559  \n",
              "3                                 -498.709987  \n",
              "4                                 -500.856333  \n",
              "\n",
              "[5 rows x 53 columns]"
            ]
          },
          "execution_count": 4,
          "metadata": {},
          "output_type": "execute_result"
        }
      ],
      "source": [
        "try:\n",
        "    data_test = pd.read_csv('gold_recovery_test_new.csv')\n",
        "except:\n",
        "    data_test = pd.read_csv('/datasets/gold_recovery_test_new.csv')\n",
        "data_test.head(5)"
      ]
    },
    {
      "cell_type": "code",
      "execution_count": null,
      "metadata": {
        "id": "bWN77Ek4qfAI",
        "outputId": "d6a4f781-3ea5-4bfd-9f2c-c58218fe3bfa"
      },
      "outputs": [
        {
          "name": "stdout",
          "output_type": "stream",
          "text": [
            "<class 'pandas.core.frame.DataFrame'>\n",
            "RangeIndex: 5290 entries, 0 to 5289\n",
            "Data columns (total 53 columns):\n",
            " #   Column                                      Non-Null Count  Dtype  \n",
            "---  ------                                      --------------  -----  \n",
            " 0   date                                        5290 non-null   object \n",
            " 1   primary_cleaner.input.sulfate               5286 non-null   float64\n",
            " 2   primary_cleaner.input.depressant            5285 non-null   float64\n",
            " 3   primary_cleaner.input.feed_size             5290 non-null   float64\n",
            " 4   primary_cleaner.input.xanthate              5286 non-null   float64\n",
            " 5   primary_cleaner.state.floatbank8_a_air      5290 non-null   float64\n",
            " 6   primary_cleaner.state.floatbank8_a_level    5290 non-null   float64\n",
            " 7   primary_cleaner.state.floatbank8_b_air      5290 non-null   float64\n",
            " 8   primary_cleaner.state.floatbank8_b_level    5290 non-null   float64\n",
            " 9   primary_cleaner.state.floatbank8_c_air      5290 non-null   float64\n",
            " 10  primary_cleaner.state.floatbank8_c_level    5290 non-null   float64\n",
            " 11  primary_cleaner.state.floatbank8_d_air      5290 non-null   float64\n",
            " 12  primary_cleaner.state.floatbank8_d_level    5290 non-null   float64\n",
            " 13  rougher.input.feed_ag                       5290 non-null   float64\n",
            " 14  rougher.input.feed_pb                       5290 non-null   float64\n",
            " 15  rougher.input.feed_rate                     5287 non-null   float64\n",
            " 16  rougher.input.feed_size                     5289 non-null   float64\n",
            " 17  rougher.input.feed_sol                      5269 non-null   float64\n",
            " 18  rougher.input.feed_au                       5290 non-null   float64\n",
            " 19  rougher.input.floatbank10_sulfate           5285 non-null   float64\n",
            " 20  rougher.input.floatbank10_xanthate          5290 non-null   float64\n",
            " 21  rougher.input.floatbank11_sulfate           5282 non-null   float64\n",
            " 22  rougher.input.floatbank11_xanthate          5265 non-null   float64\n",
            " 23  rougher.state.floatbank10_a_air             5290 non-null   float64\n",
            " 24  rougher.state.floatbank10_a_level           5290 non-null   float64\n",
            " 25  rougher.state.floatbank10_b_air             5290 non-null   float64\n",
            " 26  rougher.state.floatbank10_b_level           5290 non-null   float64\n",
            " 27  rougher.state.floatbank10_c_air             5290 non-null   float64\n",
            " 28  rougher.state.floatbank10_c_level           5290 non-null   float64\n",
            " 29  rougher.state.floatbank10_d_air             5290 non-null   float64\n",
            " 30  rougher.state.floatbank10_d_level           5290 non-null   float64\n",
            " 31  rougher.state.floatbank10_e_air             5290 non-null   float64\n",
            " 32  rougher.state.floatbank10_e_level           5290 non-null   float64\n",
            " 33  rougher.state.floatbank10_f_air             5290 non-null   float64\n",
            " 34  rougher.state.floatbank10_f_level           5290 non-null   float64\n",
            " 35  secondary_cleaner.state.floatbank2_a_air    5287 non-null   float64\n",
            " 36  secondary_cleaner.state.floatbank2_a_level  5290 non-null   float64\n",
            " 37  secondary_cleaner.state.floatbank2_b_air    5288 non-null   float64\n",
            " 38  secondary_cleaner.state.floatbank2_b_level  5290 non-null   float64\n",
            " 39  secondary_cleaner.state.floatbank3_a_air    5281 non-null   float64\n",
            " 40  secondary_cleaner.state.floatbank3_a_level  5290 non-null   float64\n",
            " 41  secondary_cleaner.state.floatbank3_b_air    5290 non-null   float64\n",
            " 42  secondary_cleaner.state.floatbank3_b_level  5290 non-null   float64\n",
            " 43  secondary_cleaner.state.floatbank4_a_air    5290 non-null   float64\n",
            " 44  secondary_cleaner.state.floatbank4_a_level  5290 non-null   float64\n",
            " 45  secondary_cleaner.state.floatbank4_b_air    5290 non-null   float64\n",
            " 46  secondary_cleaner.state.floatbank4_b_level  5290 non-null   float64\n",
            " 47  secondary_cleaner.state.floatbank5_a_air    5290 non-null   float64\n",
            " 48  secondary_cleaner.state.floatbank5_a_level  5290 non-null   float64\n",
            " 49  secondary_cleaner.state.floatbank5_b_air    5290 non-null   float64\n",
            " 50  secondary_cleaner.state.floatbank5_b_level  5290 non-null   float64\n",
            " 51  secondary_cleaner.state.floatbank6_a_air    5290 non-null   float64\n",
            " 52  secondary_cleaner.state.floatbank6_a_level  5290 non-null   float64\n",
            "dtypes: float64(52), object(1)\n",
            "memory usage: 2.1+ MB\n"
          ]
        }
      ],
      "source": [
        "data_test.info()"
      ]
    },
    {
      "cell_type": "code",
      "execution_count": null,
      "metadata": {
        "scrolled": true,
        "id": "4HZMyccDqfAJ",
        "outputId": "f07ffa3b-46c8-4a72-f4d3-9162b028b0ff"
      },
      "outputs": [
        {
          "data": {
            "text/html": [
              "<div>\n",
              "<style scoped>\n",
              "    .dataframe tbody tr th:only-of-type {\n",
              "        vertical-align: middle;\n",
              "    }\n",
              "\n",
              "    .dataframe tbody tr th {\n",
              "        vertical-align: top;\n",
              "    }\n",
              "\n",
              "    .dataframe thead th {\n",
              "        text-align: right;\n",
              "    }\n",
              "</style>\n",
              "<table border=\"1\" class=\"dataframe\">\n",
              "  <thead>\n",
              "    <tr style=\"text-align: right;\">\n",
              "      <th></th>\n",
              "      <th>date</th>\n",
              "      <th>final.output.concentrate_ag</th>\n",
              "      <th>final.output.concentrate_pb</th>\n",
              "      <th>final.output.concentrate_sol</th>\n",
              "      <th>final.output.concentrate_au</th>\n",
              "      <th>final.output.recovery</th>\n",
              "      <th>final.output.tail_ag</th>\n",
              "      <th>final.output.tail_pb</th>\n",
              "      <th>final.output.tail_sol</th>\n",
              "      <th>final.output.tail_au</th>\n",
              "      <th>...</th>\n",
              "      <th>secondary_cleaner.state.floatbank4_a_air</th>\n",
              "      <th>secondary_cleaner.state.floatbank4_a_level</th>\n",
              "      <th>secondary_cleaner.state.floatbank4_b_air</th>\n",
              "      <th>secondary_cleaner.state.floatbank4_b_level</th>\n",
              "      <th>secondary_cleaner.state.floatbank5_a_air</th>\n",
              "      <th>secondary_cleaner.state.floatbank5_a_level</th>\n",
              "      <th>secondary_cleaner.state.floatbank5_b_air</th>\n",
              "      <th>secondary_cleaner.state.floatbank5_b_level</th>\n",
              "      <th>secondary_cleaner.state.floatbank6_a_air</th>\n",
              "      <th>secondary_cleaner.state.floatbank6_a_level</th>\n",
              "    </tr>\n",
              "  </thead>\n",
              "  <tbody>\n",
              "    <tr>\n",
              "      <th>0</th>\n",
              "      <td>2016-01-15 00:00:00</td>\n",
              "      <td>6.055403</td>\n",
              "      <td>9.889648</td>\n",
              "      <td>5.507324</td>\n",
              "      <td>42.192020</td>\n",
              "      <td>70.541216</td>\n",
              "      <td>10.411962</td>\n",
              "      <td>0.895447</td>\n",
              "      <td>16.904297</td>\n",
              "      <td>2.143149</td>\n",
              "      <td>...</td>\n",
              "      <td>14.016835</td>\n",
              "      <td>-502.488007</td>\n",
              "      <td>12.099931</td>\n",
              "      <td>-504.715942</td>\n",
              "      <td>9.925633</td>\n",
              "      <td>-498.310211</td>\n",
              "      <td>8.079666</td>\n",
              "      <td>-500.470978</td>\n",
              "      <td>14.151341</td>\n",
              "      <td>-605.841980</td>\n",
              "    </tr>\n",
              "    <tr>\n",
              "      <th>1</th>\n",
              "      <td>2016-01-15 01:00:00</td>\n",
              "      <td>6.029369</td>\n",
              "      <td>9.968944</td>\n",
              "      <td>5.257781</td>\n",
              "      <td>42.701629</td>\n",
              "      <td>69.266198</td>\n",
              "      <td>10.462676</td>\n",
              "      <td>0.927452</td>\n",
              "      <td>16.634514</td>\n",
              "      <td>2.224930</td>\n",
              "      <td>...</td>\n",
              "      <td>13.992281</td>\n",
              "      <td>-505.503262</td>\n",
              "      <td>11.950531</td>\n",
              "      <td>-501.331529</td>\n",
              "      <td>10.039245</td>\n",
              "      <td>-500.169983</td>\n",
              "      <td>7.984757</td>\n",
              "      <td>-500.582168</td>\n",
              "      <td>13.998353</td>\n",
              "      <td>-599.787184</td>\n",
              "    </tr>\n",
              "    <tr>\n",
              "      <th>2</th>\n",
              "      <td>2016-01-15 02:00:00</td>\n",
              "      <td>6.055926</td>\n",
              "      <td>10.213995</td>\n",
              "      <td>5.383759</td>\n",
              "      <td>42.657501</td>\n",
              "      <td>68.116445</td>\n",
              "      <td>10.507046</td>\n",
              "      <td>0.953716</td>\n",
              "      <td>16.208849</td>\n",
              "      <td>2.257889</td>\n",
              "      <td>...</td>\n",
              "      <td>14.015015</td>\n",
              "      <td>-502.520901</td>\n",
              "      <td>11.912783</td>\n",
              "      <td>-501.133383</td>\n",
              "      <td>10.070913</td>\n",
              "      <td>-500.129135</td>\n",
              "      <td>8.013877</td>\n",
              "      <td>-500.517572</td>\n",
              "      <td>14.028663</td>\n",
              "      <td>-601.427363</td>\n",
              "    </tr>\n",
              "    <tr>\n",
              "      <th>3</th>\n",
              "      <td>2016-01-15 03:00:00</td>\n",
              "      <td>6.047977</td>\n",
              "      <td>9.977019</td>\n",
              "      <td>4.858634</td>\n",
              "      <td>42.689819</td>\n",
              "      <td>68.347543</td>\n",
              "      <td>10.422762</td>\n",
              "      <td>0.883763</td>\n",
              "      <td>16.532835</td>\n",
              "      <td>2.146849</td>\n",
              "      <td>...</td>\n",
              "      <td>14.036510</td>\n",
              "      <td>-500.857308</td>\n",
              "      <td>11.999550</td>\n",
              "      <td>-501.193686</td>\n",
              "      <td>9.970366</td>\n",
              "      <td>-499.201640</td>\n",
              "      <td>7.977324</td>\n",
              "      <td>-500.255908</td>\n",
              "      <td>14.005551</td>\n",
              "      <td>-599.996129</td>\n",
              "    </tr>\n",
              "    <tr>\n",
              "      <th>4</th>\n",
              "      <td>2016-01-15 04:00:00</td>\n",
              "      <td>6.148599</td>\n",
              "      <td>10.142511</td>\n",
              "      <td>4.939416</td>\n",
              "      <td>42.774141</td>\n",
              "      <td>66.927016</td>\n",
              "      <td>10.360302</td>\n",
              "      <td>0.792826</td>\n",
              "      <td>16.525686</td>\n",
              "      <td>2.055292</td>\n",
              "      <td>...</td>\n",
              "      <td>14.027298</td>\n",
              "      <td>-499.838632</td>\n",
              "      <td>11.953070</td>\n",
              "      <td>-501.053894</td>\n",
              "      <td>9.925709</td>\n",
              "      <td>-501.686727</td>\n",
              "      <td>7.894242</td>\n",
              "      <td>-500.356035</td>\n",
              "      <td>13.996647</td>\n",
              "      <td>-601.496691</td>\n",
              "    </tr>\n",
              "  </tbody>\n",
              "</table>\n",
              "<p>5 rows × 87 columns</p>\n",
              "</div>"
            ],
            "text/plain": [
              "                  date  final.output.concentrate_ag  \\\n",
              "0  2016-01-15 00:00:00                     6.055403   \n",
              "1  2016-01-15 01:00:00                     6.029369   \n",
              "2  2016-01-15 02:00:00                     6.055926   \n",
              "3  2016-01-15 03:00:00                     6.047977   \n",
              "4  2016-01-15 04:00:00                     6.148599   \n",
              "\n",
              "   final.output.concentrate_pb  final.output.concentrate_sol  \\\n",
              "0                     9.889648                      5.507324   \n",
              "1                     9.968944                      5.257781   \n",
              "2                    10.213995                      5.383759   \n",
              "3                     9.977019                      4.858634   \n",
              "4                    10.142511                      4.939416   \n",
              "\n",
              "   final.output.concentrate_au  final.output.recovery  final.output.tail_ag  \\\n",
              "0                    42.192020              70.541216             10.411962   \n",
              "1                    42.701629              69.266198             10.462676   \n",
              "2                    42.657501              68.116445             10.507046   \n",
              "3                    42.689819              68.347543             10.422762   \n",
              "4                    42.774141              66.927016             10.360302   \n",
              "\n",
              "   final.output.tail_pb  final.output.tail_sol  final.output.tail_au  ...  \\\n",
              "0              0.895447              16.904297              2.143149  ...   \n",
              "1              0.927452              16.634514              2.224930  ...   \n",
              "2              0.953716              16.208849              2.257889  ...   \n",
              "3              0.883763              16.532835              2.146849  ...   \n",
              "4              0.792826              16.525686              2.055292  ...   \n",
              "\n",
              "   secondary_cleaner.state.floatbank4_a_air  \\\n",
              "0                                 14.016835   \n",
              "1                                 13.992281   \n",
              "2                                 14.015015   \n",
              "3                                 14.036510   \n",
              "4                                 14.027298   \n",
              "\n",
              "   secondary_cleaner.state.floatbank4_a_level  \\\n",
              "0                                 -502.488007   \n",
              "1                                 -505.503262   \n",
              "2                                 -502.520901   \n",
              "3                                 -500.857308   \n",
              "4                                 -499.838632   \n",
              "\n",
              "   secondary_cleaner.state.floatbank4_b_air  \\\n",
              "0                                 12.099931   \n",
              "1                                 11.950531   \n",
              "2                                 11.912783   \n",
              "3                                 11.999550   \n",
              "4                                 11.953070   \n",
              "\n",
              "   secondary_cleaner.state.floatbank4_b_level  \\\n",
              "0                                 -504.715942   \n",
              "1                                 -501.331529   \n",
              "2                                 -501.133383   \n",
              "3                                 -501.193686   \n",
              "4                                 -501.053894   \n",
              "\n",
              "   secondary_cleaner.state.floatbank5_a_air  \\\n",
              "0                                  9.925633   \n",
              "1                                 10.039245   \n",
              "2                                 10.070913   \n",
              "3                                  9.970366   \n",
              "4                                  9.925709   \n",
              "\n",
              "   secondary_cleaner.state.floatbank5_a_level  \\\n",
              "0                                 -498.310211   \n",
              "1                                 -500.169983   \n",
              "2                                 -500.129135   \n",
              "3                                 -499.201640   \n",
              "4                                 -501.686727   \n",
              "\n",
              "   secondary_cleaner.state.floatbank5_b_air  \\\n",
              "0                                  8.079666   \n",
              "1                                  7.984757   \n",
              "2                                  8.013877   \n",
              "3                                  7.977324   \n",
              "4                                  7.894242   \n",
              "\n",
              "   secondary_cleaner.state.floatbank5_b_level  \\\n",
              "0                                 -500.470978   \n",
              "1                                 -500.582168   \n",
              "2                                 -500.517572   \n",
              "3                                 -500.255908   \n",
              "4                                 -500.356035   \n",
              "\n",
              "   secondary_cleaner.state.floatbank6_a_air  \\\n",
              "0                                 14.151341   \n",
              "1                                 13.998353   \n",
              "2                                 14.028663   \n",
              "3                                 14.005551   \n",
              "4                                 13.996647   \n",
              "\n",
              "   secondary_cleaner.state.floatbank6_a_level  \n",
              "0                                 -605.841980  \n",
              "1                                 -599.787184  \n",
              "2                                 -601.427363  \n",
              "3                                 -599.996129  \n",
              "4                                 -601.496691  \n",
              "\n",
              "[5 rows x 87 columns]"
            ]
          },
          "execution_count": 6,
          "metadata": {},
          "output_type": "execute_result"
        }
      ],
      "source": [
        "try:\n",
        "    data_full = pd.read_csv('gold_recovery_full_new.csv')\n",
        "except:\n",
        "    data_full = pd.read_csv('/datasets/gold_recovery_full_new.csv')\n",
        "data_full.head(5)"
      ]
    },
    {
      "cell_type": "code",
      "execution_count": null,
      "metadata": {
        "scrolled": true,
        "id": "n63KDsL6qfAK",
        "outputId": "146bd840-8fbf-47e1-b988-257f7f978dfd"
      },
      "outputs": [
        {
          "name": "stdout",
          "output_type": "stream",
          "text": [
            "<class 'pandas.core.frame.DataFrame'>\n",
            "RangeIndex: 19439 entries, 0 to 19438\n",
            "Data columns (total 87 columns):\n",
            " #   Column                                              Non-Null Count  Dtype  \n",
            "---  ------                                              --------------  -----  \n",
            " 0   date                                                19439 non-null  object \n",
            " 1   final.output.concentrate_ag                         19438 non-null  float64\n",
            " 2   final.output.concentrate_pb                         19438 non-null  float64\n",
            " 3   final.output.concentrate_sol                        19228 non-null  float64\n",
            " 4   final.output.concentrate_au                         19439 non-null  float64\n",
            " 5   final.output.recovery                               19439 non-null  float64\n",
            " 6   final.output.tail_ag                                19438 non-null  float64\n",
            " 7   final.output.tail_pb                                19338 non-null  float64\n",
            " 8   final.output.tail_sol                               19433 non-null  float64\n",
            " 9   final.output.tail_au                                19439 non-null  float64\n",
            " 10  primary_cleaner.input.sulfate                       19415 non-null  float64\n",
            " 11  primary_cleaner.input.depressant                    19402 non-null  float64\n",
            " 12  primary_cleaner.input.feed_size                     19439 non-null  float64\n",
            " 13  primary_cleaner.input.xanthate                      19335 non-null  float64\n",
            " 14  primary_cleaner.output.concentrate_ag               19439 non-null  float64\n",
            " 15  primary_cleaner.output.concentrate_pb               19323 non-null  float64\n",
            " 16  primary_cleaner.output.concentrate_sol              19069 non-null  float64\n",
            " 17  primary_cleaner.output.concentrate_au               19439 non-null  float64\n",
            " 18  primary_cleaner.output.tail_ag                      19435 non-null  float64\n",
            " 19  primary_cleaner.output.tail_pb                      19418 non-null  float64\n",
            " 20  primary_cleaner.output.tail_sol                     19377 non-null  float64\n",
            " 21  primary_cleaner.output.tail_au                      19439 non-null  float64\n",
            " 22  primary_cleaner.state.floatbank8_a_air              19435 non-null  float64\n",
            " 23  primary_cleaner.state.floatbank8_a_level            19438 non-null  float64\n",
            " 24  primary_cleaner.state.floatbank8_b_air              19435 non-null  float64\n",
            " 25  primary_cleaner.state.floatbank8_b_level            19438 non-null  float64\n",
            " 26  primary_cleaner.state.floatbank8_c_air              19437 non-null  float64\n",
            " 27  primary_cleaner.state.floatbank8_c_level            19438 non-null  float64\n",
            " 28  primary_cleaner.state.floatbank8_d_air              19436 non-null  float64\n",
            " 29  primary_cleaner.state.floatbank8_d_level            19438 non-null  float64\n",
            " 30  rougher.calculation.sulfate_to_au_concentrate       19437 non-null  float64\n",
            " 31  rougher.calculation.floatbank10_sulfate_to_au_feed  19437 non-null  float64\n",
            " 32  rougher.calculation.floatbank11_sulfate_to_au_feed  19437 non-null  float64\n",
            " 33  rougher.calculation.au_pb_ratio                     19439 non-null  float64\n",
            " 34  rougher.input.feed_ag                               19439 non-null  float64\n",
            " 35  rougher.input.feed_pb                               19339 non-null  float64\n",
            " 36  rougher.input.feed_rate                             19428 non-null  float64\n",
            " 37  rougher.input.feed_size                             19294 non-null  float64\n",
            " 38  rougher.input.feed_sol                              19340 non-null  float64\n",
            " 39  rougher.input.feed_au                               19439 non-null  float64\n",
            " 40  rougher.input.floatbank10_sulfate                   19405 non-null  float64\n",
            " 41  rougher.input.floatbank10_xanthate                  19431 non-null  float64\n",
            " 42  rougher.input.floatbank11_sulfate                   19395 non-null  float64\n",
            " 43  rougher.input.floatbank11_xanthate                  18986 non-null  float64\n",
            " 44  rougher.output.concentrate_ag                       19439 non-null  float64\n",
            " 45  rougher.output.concentrate_pb                       19439 non-null  float64\n",
            " 46  rougher.output.concentrate_sol                      19416 non-null  float64\n",
            " 47  rougher.output.concentrate_au                       19439 non-null  float64\n",
            " 48  rougher.output.recovery                             19439 non-null  float64\n",
            " 49  rougher.output.tail_ag                              19438 non-null  float64\n",
            " 50  rougher.output.tail_pb                              19439 non-null  float64\n",
            " 51  rougher.output.tail_sol                             19439 non-null  float64\n",
            " 52  rougher.output.tail_au                              19439 non-null  float64\n",
            " 53  rougher.state.floatbank10_a_air                     19438 non-null  float64\n",
            " 54  rougher.state.floatbank10_a_level                   19438 non-null  float64\n",
            " 55  rougher.state.floatbank10_b_air                     19438 non-null  float64\n",
            " 56  rougher.state.floatbank10_b_level                   19438 non-null  float64\n",
            " 57  rougher.state.floatbank10_c_air                     19438 non-null  float64\n",
            " 58  rougher.state.floatbank10_c_level                   19438 non-null  float64\n",
            " 59  rougher.state.floatbank10_d_air                     19439 non-null  float64\n",
            " 60  rougher.state.floatbank10_d_level                   19439 non-null  float64\n",
            " 61  rougher.state.floatbank10_e_air                     19003 non-null  float64\n",
            " 62  rougher.state.floatbank10_e_level                   19439 non-null  float64\n",
            " 63  rougher.state.floatbank10_f_air                     19439 non-null  float64\n",
            " 64  rougher.state.floatbank10_f_level                   19439 non-null  float64\n",
            " 65  secondary_cleaner.output.tail_ag                    19437 non-null  float64\n",
            " 66  secondary_cleaner.output.tail_pb                    19427 non-null  float64\n",
            " 67  secondary_cleaner.output.tail_sol                   17691 non-null  float64\n",
            " 68  secondary_cleaner.output.tail_au                    19439 non-null  float64\n",
            " 69  secondary_cleaner.state.floatbank2_a_air            19219 non-null  float64\n",
            " 70  secondary_cleaner.state.floatbank2_a_level          19438 non-null  float64\n",
            " 71  secondary_cleaner.state.floatbank2_b_air            19416 non-null  float64\n",
            " 72  secondary_cleaner.state.floatbank2_b_level          19438 non-null  float64\n",
            " 73  secondary_cleaner.state.floatbank3_a_air            19426 non-null  float64\n",
            " 74  secondary_cleaner.state.floatbank3_a_level          19438 non-null  float64\n",
            " 75  secondary_cleaner.state.floatbank3_b_air            19438 non-null  float64\n",
            " 76  secondary_cleaner.state.floatbank3_b_level          19438 non-null  float64\n",
            " 77  secondary_cleaner.state.floatbank4_a_air            19433 non-null  float64\n",
            " 78  secondary_cleaner.state.floatbank4_a_level          19438 non-null  float64\n",
            " 79  secondary_cleaner.state.floatbank4_b_air            19438 non-null  float64\n",
            " 80  secondary_cleaner.state.floatbank4_b_level          19438 non-null  float64\n",
            " 81  secondary_cleaner.state.floatbank5_a_air            19438 non-null  float64\n",
            " 82  secondary_cleaner.state.floatbank5_a_level          19438 non-null  float64\n",
            " 83  secondary_cleaner.state.floatbank5_b_air            19438 non-null  float64\n",
            " 84  secondary_cleaner.state.floatbank5_b_level          19438 non-null  float64\n",
            " 85  secondary_cleaner.state.floatbank6_a_air            19437 non-null  float64\n",
            " 86  secondary_cleaner.state.floatbank6_a_level          19438 non-null  float64\n",
            "dtypes: float64(86), object(1)\n",
            "memory usage: 12.9+ MB\n"
          ]
        }
      ],
      "source": [
        "data_full.info()"
      ]
    },
    {
      "cell_type": "markdown",
      "metadata": {
        "id": "PiC9teywqfAL"
      },
      "source": [
        "Очень много данных... \n",
        "\n",
        "Есть небольшое количество пропусков, которые заполню на стадии предобработки данных, а так же в столбце 'date' данные имеют тип object. Возможно, следует заменить на тип datetime, но не уверен, что имеет смысл"
      ]
    },
    {
      "cell_type": "markdown",
      "metadata": {
        "id": "JrmEe0DWqfAM"
      },
      "source": [
        "### Проверка эффективности обогощения"
      ]
    },
    {
      "cell_type": "markdown",
      "metadata": {
        "id": "brjqC3b8qfAM"
      },
      "source": [
        "По условиям задачи нам необходимо убедиться в правильности расчета эффективности обогащения. Для этой цели используем формулу расчета эффективности: \n",
        "\n",
        "recovery = ((C(F-T))/(FC-T))*100%, где:\n",
        "\n",
        "- С - rougher.output.concentrate_au - доля золота концентрате после фильтрации/очитски\n",
        "- F - rougher.input.feed_au - доля золота в сырье/концентрате до флотации/очистки\n",
        "- T - rougher.output.tail_au - доля золота в отвальных хвостах после фильтрации/очистки\n",
        "\n",
        "После чего найдем МАЕ между собственными расчетами и значением признака.\n"
      ]
    },
    {
      "cell_type": "code",
      "execution_count": null,
      "metadata": {
        "scrolled": true,
        "id": "JCAHaMAIqfAN",
        "outputId": "ef90726b-cdc1-429a-b821-89bbc33edd7e"
      },
      "outputs": [
        {
          "name": "stdout",
          "output_type": "stream",
          "text": [
            "MAE между расчетами и значением признака:  9.73512347450521e-15\n"
          ]
        }
      ],
      "source": [
        "C = data_train['rougher.output.concentrate_au']\n",
        "F = data_train['rougher.input.feed_au']\n",
        "T = data_train['rougher.output.tail_au']\n",
        "recovery = ((C*(F-T))/(F*(C-T))) * 100\n",
        "\n",
        "print('MAE между расчетами и значением признака: ', mean_absolute_error(data_train['rougher.output.recovery'], recovery))"
      ]
    },
    {
      "cell_type": "markdown",
      "metadata": {
        "id": "o0f38Zk7qfAN"
      },
      "source": [
        "Показатель МАЕ достаточно низкий, что говорит о том что предсказания не значительно отличаются от истинных значений."
      ]
    },
    {
      "cell_type": "markdown",
      "metadata": {
        "id": "z3obAvwoqfAO"
      },
      "source": [
        "### Анализ недоступных признаков"
      ]
    },
    {
      "cell_type": "markdown",
      "metadata": {
        "id": "oyrEnHCdqfAO"
      },
      "source": [
        "Тестовая выборка содержит значительно меньше столбцов, чем обучающая и полная (53 против 87).\n",
        "\n",
        "Посмотрим."
      ]
    },
    {
      "cell_type": "code",
      "execution_count": null,
      "metadata": {
        "scrolled": false,
        "id": "sJnMNGkiqfAP",
        "outputId": "b0c319f4-0061-4e77-ed19-0d1e793b85fa"
      },
      "outputs": [
        {
          "data": {
            "text/plain": [
              "{'final.output.concentrate_ag',\n",
              " 'final.output.concentrate_au',\n",
              " 'final.output.concentrate_pb',\n",
              " 'final.output.concentrate_sol',\n",
              " 'final.output.recovery',\n",
              " 'final.output.tail_ag',\n",
              " 'final.output.tail_au',\n",
              " 'final.output.tail_pb',\n",
              " 'final.output.tail_sol',\n",
              " 'primary_cleaner.output.concentrate_ag',\n",
              " 'primary_cleaner.output.concentrate_au',\n",
              " 'primary_cleaner.output.concentrate_pb',\n",
              " 'primary_cleaner.output.concentrate_sol',\n",
              " 'primary_cleaner.output.tail_ag',\n",
              " 'primary_cleaner.output.tail_au',\n",
              " 'primary_cleaner.output.tail_pb',\n",
              " 'primary_cleaner.output.tail_sol',\n",
              " 'rougher.calculation.au_pb_ratio',\n",
              " 'rougher.calculation.floatbank10_sulfate_to_au_feed',\n",
              " 'rougher.calculation.floatbank11_sulfate_to_au_feed',\n",
              " 'rougher.calculation.sulfate_to_au_concentrate',\n",
              " 'rougher.output.concentrate_ag',\n",
              " 'rougher.output.concentrate_au',\n",
              " 'rougher.output.concentrate_pb',\n",
              " 'rougher.output.concentrate_sol',\n",
              " 'rougher.output.recovery',\n",
              " 'rougher.output.tail_ag',\n",
              " 'rougher.output.tail_au',\n",
              " 'rougher.output.tail_pb',\n",
              " 'rougher.output.tail_sol',\n",
              " 'secondary_cleaner.output.tail_ag',\n",
              " 'secondary_cleaner.output.tail_au',\n",
              " 'secondary_cleaner.output.tail_pb',\n",
              " 'secondary_cleaner.output.tail_sol'}"
            ]
          },
          "execution_count": 9,
          "metadata": {},
          "output_type": "execute_result"
        }
      ],
      "source": [
        "set(data_train.columns) - set(data_test.columns)"
      ]
    },
    {
      "cell_type": "markdown",
      "metadata": {
        "id": "weTP9lKOqfAP"
      },
      "source": [
        "В основном в тестовой выборке отсутствуют столбцы содержащие данные о параметрах продукта. Но так же нет столбцов rougher.output.recovery и final.output.recovery, которые содержат целевые признаки. Их необходимо будет добавить из полной выборки."
      ]
    },
    {
      "cell_type": "markdown",
      "metadata": {
        "id": "v34U17RhqfAQ"
      },
      "source": [
        "### Подготовка данных"
      ]
    },
    {
      "cell_type": "markdown",
      "metadata": {
        "id": "sxe0j-5pqfAQ"
      },
      "source": [
        "Добавим столбцы rougher.output.recovery и final.output.recovery в тестовую выборку методом merge."
      ]
    },
    {
      "cell_type": "code",
      "execution_count": null,
      "metadata": {
        "id": "vxXGCVsUqfAR"
      },
      "outputs": [],
      "source": [
        "data_test = data_test.merge(data_full.loc[:, ['date','rougher.output.recovery','final.output.recovery']], on='date')"
      ]
    },
    {
      "cell_type": "code",
      "execution_count": null,
      "metadata": {
        "id": "1k057IW6qfAR",
        "outputId": "385fce1c-ef22-4e1a-92b8-08708cdaed07"
      },
      "outputs": [
        {
          "name": "stdout",
          "output_type": "stream",
          "text": [
            "<class 'pandas.core.frame.DataFrame'>\n",
            "Int64Index: 5290 entries, 0 to 5289\n",
            "Data columns (total 55 columns):\n",
            " #   Column                                      Non-Null Count  Dtype  \n",
            "---  ------                                      --------------  -----  \n",
            " 0   date                                        5290 non-null   object \n",
            " 1   primary_cleaner.input.sulfate               5286 non-null   float64\n",
            " 2   primary_cleaner.input.depressant            5285 non-null   float64\n",
            " 3   primary_cleaner.input.feed_size             5290 non-null   float64\n",
            " 4   primary_cleaner.input.xanthate              5286 non-null   float64\n",
            " 5   primary_cleaner.state.floatbank8_a_air      5290 non-null   float64\n",
            " 6   primary_cleaner.state.floatbank8_a_level    5290 non-null   float64\n",
            " 7   primary_cleaner.state.floatbank8_b_air      5290 non-null   float64\n",
            " 8   primary_cleaner.state.floatbank8_b_level    5290 non-null   float64\n",
            " 9   primary_cleaner.state.floatbank8_c_air      5290 non-null   float64\n",
            " 10  primary_cleaner.state.floatbank8_c_level    5290 non-null   float64\n",
            " 11  primary_cleaner.state.floatbank8_d_air      5290 non-null   float64\n",
            " 12  primary_cleaner.state.floatbank8_d_level    5290 non-null   float64\n",
            " 13  rougher.input.feed_ag                       5290 non-null   float64\n",
            " 14  rougher.input.feed_pb                       5290 non-null   float64\n",
            " 15  rougher.input.feed_rate                     5287 non-null   float64\n",
            " 16  rougher.input.feed_size                     5289 non-null   float64\n",
            " 17  rougher.input.feed_sol                      5269 non-null   float64\n",
            " 18  rougher.input.feed_au                       5290 non-null   float64\n",
            " 19  rougher.input.floatbank10_sulfate           5285 non-null   float64\n",
            " 20  rougher.input.floatbank10_xanthate          5290 non-null   float64\n",
            " 21  rougher.input.floatbank11_sulfate           5282 non-null   float64\n",
            " 22  rougher.input.floatbank11_xanthate          5265 non-null   float64\n",
            " 23  rougher.state.floatbank10_a_air             5290 non-null   float64\n",
            " 24  rougher.state.floatbank10_a_level           5290 non-null   float64\n",
            " 25  rougher.state.floatbank10_b_air             5290 non-null   float64\n",
            " 26  rougher.state.floatbank10_b_level           5290 non-null   float64\n",
            " 27  rougher.state.floatbank10_c_air             5290 non-null   float64\n",
            " 28  rougher.state.floatbank10_c_level           5290 non-null   float64\n",
            " 29  rougher.state.floatbank10_d_air             5290 non-null   float64\n",
            " 30  rougher.state.floatbank10_d_level           5290 non-null   float64\n",
            " 31  rougher.state.floatbank10_e_air             5290 non-null   float64\n",
            " 32  rougher.state.floatbank10_e_level           5290 non-null   float64\n",
            " 33  rougher.state.floatbank10_f_air             5290 non-null   float64\n",
            " 34  rougher.state.floatbank10_f_level           5290 non-null   float64\n",
            " 35  secondary_cleaner.state.floatbank2_a_air    5287 non-null   float64\n",
            " 36  secondary_cleaner.state.floatbank2_a_level  5290 non-null   float64\n",
            " 37  secondary_cleaner.state.floatbank2_b_air    5288 non-null   float64\n",
            " 38  secondary_cleaner.state.floatbank2_b_level  5290 non-null   float64\n",
            " 39  secondary_cleaner.state.floatbank3_a_air    5281 non-null   float64\n",
            " 40  secondary_cleaner.state.floatbank3_a_level  5290 non-null   float64\n",
            " 41  secondary_cleaner.state.floatbank3_b_air    5290 non-null   float64\n",
            " 42  secondary_cleaner.state.floatbank3_b_level  5290 non-null   float64\n",
            " 43  secondary_cleaner.state.floatbank4_a_air    5290 non-null   float64\n",
            " 44  secondary_cleaner.state.floatbank4_a_level  5290 non-null   float64\n",
            " 45  secondary_cleaner.state.floatbank4_b_air    5290 non-null   float64\n",
            " 46  secondary_cleaner.state.floatbank4_b_level  5290 non-null   float64\n",
            " 47  secondary_cleaner.state.floatbank5_a_air    5290 non-null   float64\n",
            " 48  secondary_cleaner.state.floatbank5_a_level  5290 non-null   float64\n",
            " 49  secondary_cleaner.state.floatbank5_b_air    5290 non-null   float64\n",
            " 50  secondary_cleaner.state.floatbank5_b_level  5290 non-null   float64\n",
            " 51  secondary_cleaner.state.floatbank6_a_air    5290 non-null   float64\n",
            " 52  secondary_cleaner.state.floatbank6_a_level  5290 non-null   float64\n",
            " 53  rougher.output.recovery                     5290 non-null   float64\n",
            " 54  final.output.recovery                       5290 non-null   float64\n",
            "dtypes: float64(54), object(1)\n",
            "memory usage: 2.3+ MB\n"
          ]
        }
      ],
      "source": [
        "data_test.info()"
      ]
    },
    {
      "cell_type": "markdown",
      "metadata": {
        "id": "yADBVQ35qfAS"
      },
      "source": [
        "Получилось."
      ]
    },
    {
      "cell_type": "markdown",
      "metadata": {
        "id": "P9WTStywqfAS"
      },
      "source": [
        "Заполним пропуски методом ffill."
      ]
    },
    {
      "cell_type": "code",
      "execution_count": null,
      "metadata": {
        "id": "bF6krai1qfAT"
      },
      "outputs": [],
      "source": [
        "data_train = data_train.ffill(axis=0)\n",
        "data_test = data_test.ffill(axis=0)\n",
        "data_full = data_full.ffill(axis=0)"
      ]
    },
    {
      "cell_type": "markdown",
      "metadata": {
        "id": "4hBqtaSuqfAU"
      },
      "source": [
        "И удалим столбец data,  так как он не несет никакой информативной пользы."
      ]
    },
    {
      "cell_type": "code",
      "execution_count": null,
      "metadata": {
        "id": "9ijC_QdpqfAU"
      },
      "outputs": [],
      "source": [
        "data_train = data_train.drop('date', axis=1)\n",
        "data_test = data_test.drop('date', axis=1)"
      ]
    },
    {
      "cell_type": "markdown",
      "metadata": {
        "id": "BPFhAIuDqfAV"
      },
      "source": [
        "Можно переходить непосредственно к анализу"
      ]
    },
    {
      "cell_type": "markdown",
      "metadata": {
        "id": "mECOKsc5qfAV"
      },
      "source": [
        "## Анализ данных"
      ]
    },
    {
      "cell_type": "markdown",
      "metadata": {
        "id": "DIysAv6jqfAW"
      },
      "source": [
        "Построим графики, чтобы определить распределение концентрации золота, серебра и свинца на всех этапах отчистки."
      ]
    },
    {
      "cell_type": "markdown",
      "metadata": {
        "id": "FK4ZN2w1qfAW"
      },
      "source": [
        "### Распределение концентрации золота на этапах отчистки."
      ]
    },
    {
      "cell_type": "code",
      "execution_count": null,
      "metadata": {
        "scrolled": true,
        "id": "RYzD3X23qfAW",
        "outputId": "60efb6aa-9d4d-4e76-e729-0ffe892cdbeb"
      },
      "outputs": [
        {
          "data": {
            "image/png": "[encoded data removed]",
            "text/plain": [
              "<Figure size 1440x576 with 1 Axes>"
            ]
          },
          "metadata": {
            "needs_background": "light"
          },
          "output_type": "display_data"
        }
      ],
      "source": [
        "plt.figure(figsize=[20, 8])\n",
        "plt.title(f'ГРАФИК РАСПРЕДЕЛЕНИЯ ЗОЛОТА НА РАЗЛИЧНЫХ ЭТАПАХ ОЧИТСКИ', fontsize=13)\n",
        "sns.histplot(data_train[f'rougher.input.feed_au'], color='b', label='Сырье', kde=False)\n",
        "sns.histplot(data_train[f'rougher.output.concentrate_au'], color='g', label='Концентрация после флотации', kde=False)\n",
        "sns.histplot(data_train[f'primary_cleaner.output.concentrate_au'], color='y', label='Концентрация после первичной очистки', kde=False)\n",
        "sns.histplot(data_train[f'final.output.concentrate_au'], color='r', label='Финальная концетрация металла',kde=False)\n",
        "plt.xlabel('Концентрация золота')\n",
        "plt.ylabel('Количество наблюдений')\n",
        "plt.legend()\n",
        "plt.show()"
      ]
    },
    {
      "cell_type": "markdown",
      "metadata": {
        "id": "kubdG1sTqfAX"
      },
      "source": [
        "На каждом этапе отчистки концентрация золота увеличивается. Видимо, само производство нацелено на добычу золота, другие металлы скорее всего сопутствующий бонус"
      ]
    },
    {
      "cell_type": "markdown",
      "metadata": {
        "id": "sVPjLPxjqfAX"
      },
      "source": [
        "### Распределение концентрации свинца на этапах отчистки."
      ]
    },
    {
      "cell_type": "code",
      "execution_count": null,
      "metadata": {
        "id": "VrBJzYdGqfAX",
        "outputId": "c2762e11-81c2-4850-e91e-968a5ab5a100"
      },
      "outputs": [
        {
          "data": {
            "image/png": "[encoded data removed]",
            "text/plain": [
              "<Figure size 1440x576 with 1 Axes>"
            ]
          },
          "metadata": {
            "needs_background": "light"
          },
          "output_type": "display_data"
        }
      ],
      "source": [
        "plt.figure(figsize=[20, 8])\n",
        "plt.title(f'ГРАФИК РАСПРЕДЕЛЕНИЯ СВИНЦА НА РАЗЛИЧНЫХ ЭТАПАХ ОЧИТСКИ', fontsize=13)\n",
        "sns.histplot(data_train[f'rougher.input.feed_pb'], color='b', label='Сырье', kde=False)\n",
        "sns.histplot(data_train[f'rougher.output.concentrate_pb'], color='g', label='Концентрация после флотации', kde=False)\n",
        "sns.histplot(data_train[f'primary_cleaner.output.concentrate_pb'], color='y', label='Концентрация после первичной очистки', kde=False)\n",
        "sns.histplot(data_train[f'final.output.concentrate_pb'], color='r', label='Финальная концетрация металла',kde=False)\n",
        "plt.xlabel('Концентрация свинца')\n",
        "plt.ylabel('Количество наблюдений')\n",
        "plt.legend()\n",
        "plt.show()"
      ]
    },
    {
      "cell_type": "markdown",
      "metadata": {
        "id": "267bnd8aqfAY"
      },
      "source": [
        "Концентрация свинца, как и золота, растет отэтапа к этапу, но после первичной очистки остается примерно одинаковой в сравнении с финальной концентрацией"
      ]
    },
    {
      "cell_type": "markdown",
      "metadata": {
        "id": "mkh_FMzKqfAY"
      },
      "source": [
        "### Распределение концентрации серебра на этапах отчистки."
      ]
    },
    {
      "cell_type": "code",
      "execution_count": null,
      "metadata": {
        "scrolled": true,
        "id": "_8s6qrNXqfAY",
        "outputId": "67ab34d7-6eeb-4430-c796-7fa71116313a"
      },
      "outputs": [
        {
          "data": {
            "image/png": "[encoded data removed]",
            "text/plain": [
              "<Figure size 1440x576 with 1 Axes>"
            ]
          },
          "metadata": {
            "needs_background": "light"
          },
          "output_type": "display_data"
        }
      ],
      "source": [
        "plt.figure(figsize=[20, 8])\n",
        "plt.title(f'ГРАФИК РАСПРЕДЕЛЕНИЯ СЕРЕБРА НА РАЗЛИЧНЫХ ЭТАПАХ ОЧИТСКИ', fontsize=13)\n",
        "sns.histplot(data_train[f'rougher.input.feed_ag'], color='b', label='Сырье', kde=False)\n",
        "sns.histplot(data_train[f'rougher.output.concentrate_ag'], color='g', label='Концентрация после флотации', kde=False)\n",
        "sns.histplot(data_train[f'primary_cleaner.output.concentrate_ag'], color='y', label='Концентрация после первичной очистки', kde=False)\n",
        "sns.histplot(data_train[f'final.output.concentrate_ag'], color='r', label='Финальная концетрация металла',kde=False)\n",
        "plt.xlabel('Концентрация серебра')\n",
        "plt.ylabel('Количество наблюдений')\n",
        "plt.legend()\n",
        "plt.show()"
      ]
    },
    {
      "cell_type": "markdown",
      "metadata": {
        "id": "gjzyyoCVqfAZ"
      },
      "source": [
        "Тут мы видим обратную ситуацию. Концентрация серебра снижается от этапа к этапу."
      ]
    },
    {
      "cell_type": "markdown",
      "metadata": {
        "id": "AO32Mq2uqfAZ"
      },
      "source": [
        "### Сравнение гранул сырья."
      ]
    },
    {
      "cell_type": "markdown",
      "metadata": {
        "id": "LsO6kZB9qfAZ"
      },
      "source": [
        "Для корректной работы моделейнам необходимо убедиться, что распределение размеров гранул сырья в обучающей и тестовой выборках отличаются незначительно."
      ]
    },
    {
      "cell_type": "code",
      "execution_count": null,
      "metadata": {
        "id": "PQQwnlqNqfAZ",
        "outputId": "2216343e-8708-43a2-ce29-ac787e2446ba"
      },
      "outputs": [
        {
          "data": {
            "text/plain": [
              "<matplotlib.legend.Legend at 0x7fa8e07d5d90>"
            ]
          },
          "execution_count": 17,
          "metadata": {},
          "output_type": "execute_result"
        },
        {
          "data": {
            "image/png": "[encoded data removed]",
            "text/plain": [
              "<Figure size 432x288 with 1 Axes>"
            ]
          },
          "metadata": {
            "needs_background": "light"
          },
          "output_type": "display_data"
        }
      ],
      "source": [
        "data_train['primary_cleaner.input.feed_size'].hist(color='y', label='Обучающая выборка', density=True)\n",
        "data_test['primary_cleaner.input.feed_size'].hist(color='g', label='Тестовая выборка', density=True)\n",
        "plt.legend()"
      ]
    },
    {
      "cell_type": "markdown",
      "metadata": {
        "id": "Zh77QWdRqfAa"
      },
      "source": [
        "Распределение размеров гранул сырья в тестовой и обучающей выборках практически не отличаются."
      ]
    },
    {
      "cell_type": "markdown",
      "metadata": {
        "id": "fOCRSHH-qfAa"
      },
      "source": [
        "### Суммарная концентрация "
      ]
    },
    {
      "cell_type": "markdown",
      "metadata": {
        "id": "tEBLjr__qfAa"
      },
      "source": [
        "Посчитаем суммарную концентрацию металлов на разных стадиях обработки, а именно на стадии сырья (rougher_input), после флотации (rougher_output) и финальной обработки (final_output)"
      ]
    },
    {
      "cell_type": "markdown",
      "metadata": {
        "id": "sLW21Hd1qfAb"
      },
      "source": [
        "Введем новые переменные."
      ]
    },
    {
      "cell_type": "code",
      "execution_count": null,
      "metadata": {
        "id": "oHYDim0WqfAb"
      },
      "outputs": [],
      "source": [
        "common_concentrate_rougher_input = 0\n",
        "common_concentrate_rougher_output = 0\n",
        "common_concentrate_final_output = 0"
      ]
    },
    {
      "cell_type": "markdown",
      "metadata": {
        "id": "iJcudPk4qfAb"
      },
      "source": [
        "И посчитаем"
      ]
    },
    {
      "cell_type": "code",
      "execution_count": null,
      "metadata": {
        "id": "cooNrYTXqfAc"
      },
      "outputs": [],
      "source": [
        "for metal in ['au', 'ag', 'pb']:\n",
        "    common_concentrate_rougher_input += data_train[f'rougher.input.feed_{metal}']\n",
        "    common_concentrate_rougher_output += data_train[f'rougher.output.concentrate_{metal}']\n",
        "    common_concentrate_final_output += data_train[f'final.output.concentrate_{metal}']"
      ]
    },
    {
      "cell_type": "code",
      "execution_count": null,
      "metadata": {
        "id": "P9BN1DnYqfAc",
        "outputId": "1eef839e-9bd1-4e3b-f00a-133887e17058"
      },
      "outputs": [
        {
          "data": {
            "image/png": "[encoded data removed]",
            "text/plain": [
              "<Figure size 1440x576 with 1 Axes>"
            ]
          },
          "metadata": {
            "needs_background": "light"
          },
          "output_type": "display_data"
        }
      ],
      "source": [
        "plt.figure(figsize=[20, 8])\n",
        "sns.histplot(common_concentrate_rougher_input, color='g', label='Сырье')\n",
        "sns.histplot(common_concentrate_rougher_output, color='y', label='Концентрация после флотации')\n",
        "sns.histplot(common_concentrate_final_output, color='r', label='Финальная концетрация')\n",
        "plt.xlabel('Концентрация металов')\n",
        "plt.ylabel('Количество наблюдений')\n",
        "plt.legend()\n",
        "plt.show()"
      ]
    },
    {
      "cell_type": "markdown",
      "metadata": {
        "id": "aeMG4ruAqfAd"
      },
      "source": [
        "Суммарная концентрация металлов увеличивается от этапа к этапу"
      ]
    },
    {
      "cell_type": "code",
      "execution_count": null,
      "metadata": {
        "id": "rCi0liLsqfAe"
      },
      "outputs": [],
      "source": [
        "data_train = data_train[(data_train['rougher.output.concentrate_au'] != 0) & (data_train['rougher.output.concentrate_ag'] != 0) & (data_train['rougher.output.concentrate_pb'] != 0)]\n",
        "data_train = data_train[(data_train['final.output.concentrate_au'] != 0) & (data_train['final.output.concentrate_ag'] != 0) & (data_train['final.output.concentrate_pb'] != 0)]\n",
        "\n",
        "data_full = data_full[(data_full['rougher.output.concentrate_au'] != 0) & (data_full['rougher.output.concentrate_ag'] != 0) & (data_full['rougher.output.concentrate_pb'] != 0)]\n",
        "data_full = data_full[(data_full['final.output.concentrate_au'] != 0) & (data_full['final.output.concentrate_ag'] != 0) & (data_full['final.output.concentrate_pb'] != 0)]\n"
      ]
    },
    {
      "cell_type": "markdown",
      "metadata": {
        "id": "iuEGZi3bqfAe"
      },
      "source": [
        "## Модель"
      ]
    },
    {
      "cell_type": "markdown",
      "metadata": {
        "id": "EKs3N3qUqfAe"
      },
      "source": [
        "Напишем функцию для построения итогового sMAPE"
      ]
    },
    {
      "cell_type": "code",
      "execution_count": null,
      "metadata": {
        "id": "tisL5NYZqfAf"
      },
      "outputs": [],
      "source": [
        "def get_smape(target, predict):\n",
        "    smape = (1/len(target))*np.sum((np.abs(target - predict))/( (np.abs(target)+np.abs(predict))/2))*100\n",
        "    return smape"
      ]
    },
    {
      "cell_type": "code",
      "execution_count": null,
      "metadata": {
        "id": "X0ydPV5oqfAf"
      },
      "outputs": [],
      "source": [
        "def get_final_smape(rougher, final):\n",
        "    result = 0.25*rougher+0.75*final\n",
        "    return result"
      ]
    },
    {
      "cell_type": "code",
      "execution_count": null,
      "metadata": {
        "id": "dZOUDXgRqfAf"
      },
      "outputs": [],
      "source": [
        "smape_scorer = make_scorer(get_smape, greater_is_better = False)"
      ]
    },
    {
      "cell_type": "markdown",
      "metadata": {
        "id": "o4IvDwlgqfAg"
      },
      "source": [
        "И обучим модели."
      ]
    },
    {
      "cell_type": "markdown",
      "metadata": {
        "id": "8FVvPw09qfAg"
      },
      "source": [
        "Но перед тем как начать обучение моделей нам необходимо удачить из обучающей выборки признаки, которые отсутствуют в тестовой. "
      ]
    },
    {
      "cell_type": "code",
      "execution_count": null,
      "metadata": {
        "id": "skyk49goqfAg"
      },
      "outputs": [],
      "source": [
        "missed_columns = set(data_train) - set(data_test)"
      ]
    },
    {
      "cell_type": "markdown",
      "metadata": {
        "id": "1bbs1auXqfAh"
      },
      "source": [
        "Оставим целевые признаки"
      ]
    },
    {
      "cell_type": "code",
      "execution_count": null,
      "metadata": {
        "id": "y0PHqByxqfAh"
      },
      "outputs": [],
      "source": [
        "missed_columns = missed_columns - set(['rougher.output.recovery','final.output.recovery'])"
      ]
    },
    {
      "cell_type": "code",
      "execution_count": null,
      "metadata": {
        "id": "XaCfkiOfqfAi"
      },
      "outputs": [],
      "source": [
        "data_train = data_train.drop(columns=missed_columns, axis=1)"
      ]
    },
    {
      "cell_type": "markdown",
      "metadata": {
        "id": "AK-vgvsfqfAi"
      },
      "source": [
        "Выделим признаки для обучения моделей."
      ]
    },
    {
      "cell_type": "code",
      "execution_count": null,
      "metadata": {
        "scrolled": true,
        "id": "KdOeLOL8qfAi"
      },
      "outputs": [],
      "source": [
        "features_train = data_train.drop(['rougher.output.recovery','final.output.recovery'], axis=1)\n",
        "target_rougher_train = data_train['rougher.output.recovery']\n",
        "target_final_train = data_train['final.output.recovery']"
      ]
    },
    {
      "cell_type": "markdown",
      "metadata": {
        "id": "SeYCR-OJqfAj"
      },
      "source": [
        "### Линейная регрессия"
      ]
    },
    {
      "cell_type": "code",
      "execution_count": null,
      "metadata": {
        "id": "tQtU1krnqfAk",
        "outputId": "cb69e7ef-38f8-4d3f-f0e9-96b64fe00d0b"
      },
      "outputs": [
        {
          "name": "stdout",
          "output_type": "stream",
          "text": [
            "Итоговое sMAPE для линейной регрессии составляет: 10.059602069093502\n",
            "CPU times: user 739 ms, sys: 1.6 s, total: 2.34 s\n",
            "Wall time: 2.42 s\n"
          ]
        }
      ],
      "source": [
        "%%time\n",
        "model_lr_rougher = LinearRegression()\n",
        "smape_rougher = cross_val_score(model_lr_rougher,\n",
        "                          features_train,\n",
        "                          target_rougher_train,\n",
        "                          scoring=smape_scorer,\n",
        "                          cv=5)\n",
        "final_smape_rougher = smape_rougher.mean()\n",
        "model_lr_final = LinearRegression()\n",
        "smape_final = cross_val_score(model_lr_final,\n",
        "                        features_train,\n",
        "                        target_final_train,\n",
        "                        scoring=smape_scorer,\n",
        "                        cv=5)\n",
        "final_smape_final = smape_final.mean()\n",
        "result_smape = get_final_smape(final_smape_rougher, final_smape_final)*(-1)\n",
        "print('Итоговое sMAPE для линейной регрессии составляет:', result_smape)"
      ]
    },
    {
      "cell_type": "markdown",
      "metadata": {
        "id": "huGxj19QqfAk"
      },
      "source": [
        "### Дерево решений."
      ]
    },
    {
      "cell_type": "code",
      "execution_count": null,
      "metadata": {
        "id": "APBRmDeTqfAl",
        "outputId": "e91d761f-3557-48aa-ef8f-f8394e36c279"
      },
      "outputs": [
        {
          "name": "stdout",
          "output_type": "stream",
          "text": [
            "Лучший показатель итогового sMAPE для решающего древа составляет: 8.857694214162564\n",
            "Лучшая модель решающего древа имеет глубину: 3\n",
            "CPU times: user 22.2 s, sys: 140 ms, total: 22.3 s\n",
            "Wall time: 22.4 s\n"
          ]
        }
      ],
      "source": [
        "%%time\n",
        "state = RandomState(12345)\n",
        "best_result_dt = 100\n",
        "best_param_dt = 0\n",
        "for n in range(1, 10, 1):\n",
        "    model_dt_rougher = DecisionTreeRegressor(max_depth=n, random_state=state)\n",
        "    smape_rougher = cross_val_score(model_dt_rougher,\n",
        "                              features_train,\n",
        "                              target_rougher_train,\n",
        "                              scoring=smape_scorer,\n",
        "                              cv=5)\n",
        "    final_smape_rougher = smape_rougher.mean()\n",
        "\n",
        "    model_dt_final = DecisionTreeRegressor(max_depth=n, random_state=state)\n",
        "    smape_final = cross_val_score(model_dt_final, \n",
        "                                  features_train,\n",
        "                                  target_final_train,\n",
        "                                  scoring=smape_scorer,\n",
        "                                  cv=5)\n",
        "    final_smape_final = smape_final.mean()\n",
        "    result_smape = get_final_smape(final_smape_rougher, final_smape_final)*(-1)\n",
        "    if result_smape < best_result_dt:\n",
        "        best_result_dt = result_smape\n",
        "        best_param_dt = n\n",
        "print('Лучший показатель итогового sMAPE для решающего древа составляет:', best_result_dt)\n",
        "print('Лучшая модель решающего древа имеет глубину:', best_param_dt)\n"
      ]
    },
    {
      "cell_type": "markdown",
      "metadata": {
        "id": "ML5UM2A3qfAm"
      },
      "source": [
        "С этой метрикой, кажется, еще не сталкивался. Обязаталень изучу. Спасибо."
      ]
    },
    {
      "cell_type": "markdown",
      "metadata": {
        "id": "DOujCoEhqfAm"
      },
      "source": [
        "### Случайный лес."
      ]
    },
    {
      "cell_type": "code",
      "execution_count": null,
      "metadata": {
        "id": "B9GMAxlzqfAm",
        "outputId": "968addb5-f3dc-4480-d2fd-e71dc95db25d"
      },
      "outputs": [
        {
          "name": "stdout",
          "output_type": "stream",
          "text": [
            "Лучший показатель итогового sMAPE для случайного леса составляет: 8.473625873814436\n",
            "Лучшая модель случайного леса имеет глубину: [4] и количество деревьев [70]\n",
            "CPU times: user 11min 53s, sys: 876 ms, total: 11min 54s\n",
            "Wall time: 11min 57s\n"
          ]
        }
      ],
      "source": [
        "%%time\n",
        "best_result_rf = 100\n",
        "best_param_rf = 0\n",
        "for n in range(10, 100, 30):\n",
        "    for d in range(2,10,2):\n",
        "        model_rf_rougher = RandomForestRegressor(n_estimators=n, max_depth=d, random_state=state)\n",
        "        smape_rougher = cross_val_score(model_rf_rougher,\n",
        "                                  features_train,\n",
        "                                  target_rougher_train,\n",
        "                                  scoring=smape_scorer,\n",
        "                                  cv=5)\n",
        "        final_smape_rougher = smape_rougher.mean()\n",
        "\n",
        "        model_rf_final = RandomForestRegressor(n_estimators=n, max_depth=d, random_state=state)\n",
        "        smape_final = cross_val_score(model_rf_final,\n",
        "                                features_train,\n",
        "                                target_final_train,\n",
        "                                scoring=smape_scorer,\n",
        "                                cv=5)\n",
        "        final_smape_final = smape_final.mean()\n",
        "        result_smape = get_final_smape(final_smape_rougher, final_smape_final)*(-1)\n",
        "        if result_smape < best_result_rf:\n",
        "            best_result_rf = result_smape\n",
        "            best_param_n = [n]\n",
        "            best_param_d = [d]\n",
        "print('Лучший показатель итогового sMAPE для случайного леса составляет:', best_result_rf)\n",
        "print('Лучшая модель случайного леса имеет глубину:', best_param_d, 'и количество деревьев', best_param_n)"
      ]
    },
    {
      "cell_type": "markdown",
      "metadata": {
        "id": "JI78UvSHqfAn"
      },
      "source": [
        "Лучший показатель sMAPE у случайного леса с максимальной глубиной 4 и количеством деревьев 70"
      ]
    },
    {
      "cell_type": "markdown",
      "metadata": {
        "id": "74ZmbPqJqfAo"
      },
      "source": [
        "### Модель для тестовой выборки"
      ]
    },
    {
      "cell_type": "markdown",
      "metadata": {
        "id": "axvQysiqqfAo"
      },
      "source": [
        "Подготовим признаки для тестовой модели."
      ]
    },
    {
      "cell_type": "code",
      "execution_count": null,
      "metadata": {
        "id": "aADtQ9k4qfAp"
      },
      "outputs": [],
      "source": [
        "features_test = data_test.drop(['rougher.output.recovery','final.output.recovery'], axis=1)\n",
        "target_rougher_test = data_test['rougher.output.recovery']\n",
        "target_final_test = data_test['final.output.recovery']"
      ]
    },
    {
      "cell_type": "code",
      "execution_count": null,
      "metadata": {
        "id": "VkzgAB-tqfAp"
      },
      "outputs": [],
      "source": [
        "model_rougher = RandomForestRegressor(n_estimators=70, max_depth=4, random_state=state)\n",
        "model_rougher.fit(features_train, target_rougher_train)\n",
        "predicted_rougher = model_rougher.predict(features_test)\n",
        "\n",
        "model_final = RandomForestRegressor(n_estimators=70, max_depth=4, random_state=state)\n",
        "model_final.fit(features_train, target_final_train)\n",
        "predicted_final = model_final.predict(features_test)\n",
        "\n",
        "smape_test_rougher = get_smape(target_rougher_test, predicted_rougher)\n",
        "smape_test_final = get_smape(target_final_test, predicted_final)\n",
        "final_smape_test = get_final_smape(smape_test_rougher, smape_test_final)"
      ]
    },
    {
      "cell_type": "code",
      "execution_count": null,
      "metadata": {
        "id": "773wv619qfAp"
      },
      "outputs": [],
      "source": [
        "print('SMAPE для тестовой выборки составляет:', final_smape_test)"
      ]
    },
    {
      "cell_type": "markdown",
      "metadata": {
        "id": "4OnbYn4bqfAq"
      },
      "source": [
        "Сравним с константной моделью"
      ]
    },
    {
      "cell_type": "code",
      "execution_count": null,
      "metadata": {
        "id": "H_GV4KNAqfAq"
      },
      "outputs": [],
      "source": [
        "from sklearn.dummy import DummyRegressor"
      ]
    },
    {
      "cell_type": "code",
      "execution_count": null,
      "metadata": {
        "id": "piK-UXxmqfAq",
        "outputId": "c1a05823-48e3-4422-e02a-1804c2cd99c9"
      },
      "outputs": [
        {
          "name": "stdout",
          "output_type": "stream",
          "text": [
            "Показатель SMAPE для константной модели: 9.82279305388574\n",
            "Показатель константной модели больше чем показатель тестовой выборки. Модель обучена корректно\n"
          ]
        }
      ],
      "source": [
        "dummy_rougher = DummyRegressor(strategy=\"mean\")\n",
        "dummy_final = DummyRegressor(strategy=\"mean\")\n",
        "\n",
        "dummy_rougher.fit(features_train, target_rougher_train)\n",
        "dummy_final.fit(features_train, target_final_train)\n",
        "\n",
        "dummy_predicted_rougher = dummy_rougher.predict(features_test)\n",
        "dummy_predicted_final = dummy_final.predict(features_test)\n",
        "\n",
        "smape_const_rougher = get_smape(target_rougher_test, dummy_predicted_rougher)\n",
        "smape_const_final = get_smape(target_final_test, dummy_predicted_final)\n",
        "\n",
        "final_smape_const = get_final_smape(smape_const_rougher, smape_const_final)\n",
        "print('Показатель SMAPE для константной модели:', final_smape_const)\n",
        "\n",
        "if final_smapу_test < final_smape_const:\n",
        "    print('Показатель константной модели больше чем показатель тестовой выборки. Модель обучена корректно')\n",
        "else:\n",
        "    print('Показатель константной модели меньше чем показатель тестовой выборки. Модель обучена некорректно')"
      ]
    },
    {
      "cell_type": "markdown",
      "metadata": {
        "id": "ywty8_0SqfAr"
      },
      "source": [
        "## Вывод "
      ]
    },
    {
      "cell_type": "markdown",
      "metadata": {
        "id": "SOHsli9zqfAr"
      },
      "source": [
        "В результате проведения исследования было выяснено, что по мере прохождения этапов обработки сырья концентрация золота и свинца увеличивается, в то время как концентрация серебря уменьщается. Так же стало известно, что сумарное колличество веществ так же снижается от этапа к этапу.\n",
        "\n",
        "По условиям задания лучшей моелью для предсказания результатов стала - RandomForestRegressor"
      ]
    }
  ],
  "metadata": {
    "ExecuteTimeLog": [
      {
        "duration": 51,
        "start_time": "2022-08-28T08:47:13.122Z"
      },
      {
        "duration": 1182,
        "start_time": "2022-08-28T08:47:51.078Z"
      },
      {
        "duration": 1299,
        "start_time": "2022-08-28T08:47:52.261Z"
      },
      {
        "duration": 338,
        "start_time": "2022-08-28T08:48:13.919Z"
      },
      {
        "duration": 342,
        "start_time": "2022-08-28T08:48:54.592Z"
      },
      {
        "duration": 209,
        "start_time": "2022-08-28T08:51:20.140Z"
      },
      {
        "duration": 614,
        "start_time": "2022-08-28T08:53:11.568Z"
      },
      {
        "duration": 18,
        "start_time": "2022-08-28T09:06:32.969Z"
      },
      {
        "duration": 18,
        "start_time": "2022-08-28T10:24:31.511Z"
      },
      {
        "duration": 21,
        "start_time": "2022-08-28T10:25:07.078Z"
      },
      {
        "duration": 1127,
        "start_time": "2022-08-28T10:30:27.581Z"
      },
      {
        "duration": 335,
        "start_time": "2022-08-28T10:30:28.710Z"
      },
      {
        "duration": 25,
        "start_time": "2022-08-28T10:30:29.046Z"
      },
      {
        "duration": 128,
        "start_time": "2022-08-28T10:30:29.073Z"
      },
      {
        "duration": 13,
        "start_time": "2022-08-28T10:30:29.202Z"
      },
      {
        "duration": 387,
        "start_time": "2022-08-28T10:30:29.217Z"
      },
      {
        "duration": 19,
        "start_time": "2022-08-28T10:30:29.606Z"
      },
      {
        "duration": 4,
        "start_time": "2022-08-28T10:32:25.172Z"
      },
      {
        "duration": 100,
        "start_time": "2022-08-28T10:46:42.160Z"
      },
      {
        "duration": 14,
        "start_time": "2022-08-28T10:48:22.293Z"
      },
      {
        "duration": 7,
        "start_time": "2022-08-28T10:48:41.882Z"
      },
      {
        "duration": 1016,
        "start_time": "2022-08-28T17:47:36.222Z"
      },
      {
        "duration": 1110,
        "start_time": "2022-08-28T17:47:37.240Z"
      },
      {
        "duration": 15,
        "start_time": "2022-08-28T17:47:38.351Z"
      },
      {
        "duration": 447,
        "start_time": "2022-08-28T17:47:38.368Z"
      },
      {
        "duration": 11,
        "start_time": "2022-08-28T17:47:38.817Z"
      },
      {
        "duration": 1848,
        "start_time": "2022-08-28T17:47:38.830Z"
      },
      {
        "duration": 17,
        "start_time": "2022-08-28T17:47:40.679Z"
      },
      {
        "duration": 5,
        "start_time": "2022-08-28T17:47:40.698Z"
      },
      {
        "duration": 7,
        "start_time": "2022-08-28T18:01:30.657Z"
      },
      {
        "duration": 5,
        "start_time": "2022-08-28T18:07:29.387Z"
      },
      {
        "duration": 3,
        "start_time": "2022-08-28T18:16:04.731Z"
      },
      {
        "duration": 12,
        "start_time": "2022-08-28T18:26:19.542Z"
      },
      {
        "duration": 12,
        "start_time": "2022-08-28T18:27:05.894Z"
      },
      {
        "duration": 25,
        "start_time": "2022-08-28T18:30:19.443Z"
      },
      {
        "duration": 9,
        "start_time": "2022-08-28T18:32:28.224Z"
      },
      {
        "duration": 102,
        "start_time": "2022-08-28T18:49:25.560Z"
      },
      {
        "duration": 431,
        "start_time": "2022-08-28T18:50:06.183Z"
      },
      {
        "duration": 9,
        "start_time": "2022-08-28T18:50:17.103Z"
      },
      {
        "duration": 4,
        "start_time": "2022-08-28T18:50:35.826Z"
      },
      {
        "duration": 55,
        "start_time": "2022-08-28T18:53:33.467Z"
      },
      {
        "duration": 1061,
        "start_time": "2022-08-28T18:54:10.210Z"
      },
      {
        "duration": 1126,
        "start_time": "2022-08-28T18:55:07.720Z"
      },
      {
        "duration": 1063,
        "start_time": "2022-08-28T18:55:19.629Z"
      },
      {
        "duration": 1140,
        "start_time": "2022-08-28T18:55:29.424Z"
      },
      {
        "duration": 1089,
        "start_time": "2022-08-28T18:55:54.365Z"
      },
      {
        "duration": 1082,
        "start_time": "2022-08-28T18:56:24.176Z"
      },
      {
        "duration": 1007,
        "start_time": "2022-08-28T18:56:36.542Z"
      },
      {
        "duration": 1099,
        "start_time": "2022-08-28T18:56:55.364Z"
      },
      {
        "duration": 1258,
        "start_time": "2022-08-28T19:01:22.238Z"
      },
      {
        "duration": 960,
        "start_time": "2022-08-28T19:01:49.900Z"
      },
      {
        "duration": 0,
        "start_time": "2022-08-28T19:01:50.861Z"
      },
      {
        "duration": 0,
        "start_time": "2022-08-28T19:01:50.862Z"
      },
      {
        "duration": 0,
        "start_time": "2022-08-28T19:01:50.864Z"
      },
      {
        "duration": 0,
        "start_time": "2022-08-28T19:01:50.864Z"
      },
      {
        "duration": 0,
        "start_time": "2022-08-28T19:01:50.866Z"
      },
      {
        "duration": 0,
        "start_time": "2022-08-28T19:01:50.866Z"
      },
      {
        "duration": 0,
        "start_time": "2022-08-28T19:01:50.867Z"
      },
      {
        "duration": 0,
        "start_time": "2022-08-28T19:01:50.868Z"
      },
      {
        "duration": 0,
        "start_time": "2022-08-28T19:01:50.869Z"
      },
      {
        "duration": 0,
        "start_time": "2022-08-28T19:01:50.869Z"
      },
      {
        "duration": 0,
        "start_time": "2022-08-28T19:01:50.870Z"
      },
      {
        "duration": 0,
        "start_time": "2022-08-28T19:01:50.871Z"
      },
      {
        "duration": 0,
        "start_time": "2022-08-28T19:01:50.872Z"
      },
      {
        "duration": 469,
        "start_time": "2022-08-28T19:02:23.576Z"
      },
      {
        "duration": 1384,
        "start_time": "2022-08-28T19:02:31.552Z"
      },
      {
        "duration": 328,
        "start_time": "2022-08-28T19:02:32.938Z"
      },
      {
        "duration": 1439,
        "start_time": "2022-08-29T04:59:41.578Z"
      },
      {
        "duration": 792,
        "start_time": "2022-08-29T04:59:43.019Z"
      },
      {
        "duration": 16,
        "start_time": "2022-08-29T04:59:43.812Z"
      },
      {
        "duration": 435,
        "start_time": "2022-08-29T04:59:43.830Z"
      },
      {
        "duration": 11,
        "start_time": "2022-08-29T04:59:44.267Z"
      },
      {
        "duration": 1852,
        "start_time": "2022-08-29T04:59:44.279Z"
      },
      {
        "duration": 15,
        "start_time": "2022-08-29T04:59:46.133Z"
      },
      {
        "duration": 7,
        "start_time": "2022-08-29T04:59:46.149Z"
      },
      {
        "duration": 19,
        "start_time": "2022-08-29T04:59:46.157Z"
      },
      {
        "duration": 13,
        "start_time": "2022-08-29T04:59:46.178Z"
      },
      {
        "duration": 22,
        "start_time": "2022-08-29T04:59:46.193Z"
      },
      {
        "duration": 29,
        "start_time": "2022-08-29T04:59:46.216Z"
      },
      {
        "duration": 9,
        "start_time": "2022-08-29T04:59:46.247Z"
      },
      {
        "duration": 1055,
        "start_time": "2022-08-29T04:59:46.258Z"
      },
      {
        "duration": 291,
        "start_time": "2022-08-29T05:00:30.266Z"
      },
      {
        "duration": 1217,
        "start_time": "2022-08-29T05:00:37.319Z"
      },
      {
        "duration": 165,
        "start_time": "2022-08-29T05:00:48.078Z"
      },
      {
        "duration": 1088,
        "start_time": "2022-08-29T05:00:53.497Z"
      },
      {
        "duration": 973,
        "start_time": "2022-08-29T05:01:09.062Z"
      },
      {
        "duration": 190,
        "start_time": "2022-08-29T05:01:52.578Z"
      },
      {
        "duration": 1137,
        "start_time": "2022-08-29T05:02:02.890Z"
      },
      {
        "duration": 1065,
        "start_time": "2022-08-29T05:02:41.873Z"
      },
      {
        "duration": 672,
        "start_time": "2022-08-29T05:10:21.274Z"
      },
      {
        "duration": 769,
        "start_time": "2022-08-29T05:15:59.990Z"
      },
      {
        "duration": 695,
        "start_time": "2022-08-29T05:17:01.903Z"
      },
      {
        "duration": 744,
        "start_time": "2022-08-29T05:17:08.746Z"
      },
      {
        "duration": 972,
        "start_time": "2022-08-29T05:17:17.746Z"
      },
      {
        "duration": 7,
        "start_time": "2022-08-29T05:26:18.164Z"
      },
      {
        "duration": 198,
        "start_time": "2022-08-29T05:26:27.358Z"
      },
      {
        "duration": 151,
        "start_time": "2022-08-29T05:27:14.643Z"
      },
      {
        "duration": 113,
        "start_time": "2022-08-29T05:28:20.375Z"
      },
      {
        "duration": 160,
        "start_time": "2022-08-29T05:28:59.596Z"
      },
      {
        "duration": 147,
        "start_time": "2022-08-29T05:33:06.129Z"
      },
      {
        "duration": 1323,
        "start_time": "2022-08-29T06:15:35.180Z"
      },
      {
        "duration": 313,
        "start_time": "2022-08-29T06:15:36.504Z"
      },
      {
        "duration": 15,
        "start_time": "2022-08-29T06:15:36.818Z"
      },
      {
        "duration": 110,
        "start_time": "2022-08-29T06:15:36.834Z"
      },
      {
        "duration": 11,
        "start_time": "2022-08-29T06:15:36.946Z"
      },
      {
        "duration": 372,
        "start_time": "2022-08-29T06:15:36.958Z"
      },
      {
        "duration": 15,
        "start_time": "2022-08-29T06:15:37.332Z"
      },
      {
        "duration": 6,
        "start_time": "2022-08-29T06:15:37.349Z"
      },
      {
        "duration": 12,
        "start_time": "2022-08-29T06:15:37.357Z"
      },
      {
        "duration": 28,
        "start_time": "2022-08-29T06:15:37.371Z"
      },
      {
        "duration": 12,
        "start_time": "2022-08-29T06:15:37.401Z"
      },
      {
        "duration": 25,
        "start_time": "2022-08-29T06:15:37.414Z"
      },
      {
        "duration": 9,
        "start_time": "2022-08-29T06:15:37.440Z"
      },
      {
        "duration": 1075,
        "start_time": "2022-08-29T06:15:37.450Z"
      },
      {
        "duration": 705,
        "start_time": "2022-08-29T06:15:38.526Z"
      },
      {
        "duration": 808,
        "start_time": "2022-08-29T06:15:39.233Z"
      },
      {
        "duration": 161,
        "start_time": "2022-08-29T06:15:40.043Z"
      },
      {
        "duration": 148,
        "start_time": "2022-08-29T06:16:11.773Z"
      },
      {
        "duration": 3,
        "start_time": "2022-08-29T06:47:40.130Z"
      },
      {
        "duration": 2,
        "start_time": "2022-08-29T06:50:09.461Z"
      },
      {
        "duration": 6,
        "start_time": "2022-08-29T06:50:34.990Z"
      },
      {
        "duration": 988,
        "start_time": "2022-08-29T06:53:01.328Z"
      },
      {
        "duration": 917,
        "start_time": "2022-08-29T06:54:34.628Z"
      },
      {
        "duration": 994,
        "start_time": "2022-08-29T06:54:46.448Z"
      },
      {
        "duration": 6,
        "start_time": "2022-08-29T06:55:09.949Z"
      },
      {
        "duration": 1114,
        "start_time": "2022-08-29T06:55:12.324Z"
      },
      {
        "duration": 1134,
        "start_time": "2022-08-29T06:56:08.462Z"
      },
      {
        "duration": 1167,
        "start_time": "2022-08-29T06:57:09.670Z"
      },
      {
        "duration": 998,
        "start_time": "2022-08-29T07:00:10.455Z"
      },
      {
        "duration": 7,
        "start_time": "2022-08-29T17:20:35.362Z"
      },
      {
        "duration": 1563,
        "start_time": "2022-08-29T17:20:44.695Z"
      },
      {
        "duration": 1181,
        "start_time": "2022-08-29T17:20:46.259Z"
      },
      {
        "duration": 16,
        "start_time": "2022-08-29T17:20:47.441Z"
      },
      {
        "duration": 212,
        "start_time": "2022-08-29T17:20:47.459Z"
      },
      {
        "duration": 14,
        "start_time": "2022-08-29T17:20:47.672Z"
      },
      {
        "duration": 621,
        "start_time": "2022-08-29T17:20:47.689Z"
      },
      {
        "duration": 15,
        "start_time": "2022-08-29T17:20:48.311Z"
      },
      {
        "duration": 8,
        "start_time": "2022-08-29T17:20:48.328Z"
      },
      {
        "duration": 5,
        "start_time": "2022-08-29T17:20:48.337Z"
      },
      {
        "duration": 16,
        "start_time": "2022-08-29T17:20:48.345Z"
      },
      {
        "duration": 13,
        "start_time": "2022-08-29T17:20:48.363Z"
      },
      {
        "duration": 55,
        "start_time": "2022-08-29T17:20:48.378Z"
      },
      {
        "duration": 11,
        "start_time": "2022-08-29T17:20:48.435Z"
      },
      {
        "duration": 1138,
        "start_time": "2022-08-29T17:20:48.448Z"
      },
      {
        "duration": 726,
        "start_time": "2022-08-29T17:20:49.588Z"
      },
      {
        "duration": 873,
        "start_time": "2022-08-29T17:20:50.315Z"
      },
      {
        "duration": 188,
        "start_time": "2022-08-29T17:20:51.190Z"
      },
      {
        "duration": 2,
        "start_time": "2022-08-29T17:20:51.380Z"
      },
      {
        "duration": 15,
        "start_time": "2022-08-29T17:20:51.384Z"
      },
      {
        "duration": 1326,
        "start_time": "2022-08-29T17:20:51.401Z"
      },
      {
        "duration": 3,
        "start_time": "2022-08-29T17:20:52.729Z"
      },
      {
        "duration": 3,
        "start_time": "2022-08-29T17:22:43.648Z"
      },
      {
        "duration": 7,
        "start_time": "2022-08-29T17:25:12.189Z"
      },
      {
        "duration": 207,
        "start_time": "2022-08-29T17:30:26.967Z"
      },
      {
        "duration": 4,
        "start_time": "2022-08-29T17:31:05.739Z"
      },
      {
        "duration": 79,
        "start_time": "2022-08-29T17:31:13.200Z"
      },
      {
        "duration": 3,
        "start_time": "2022-08-29T17:32:27.596Z"
      },
      {
        "duration": 9810,
        "start_time": "2022-08-29T17:32:32.128Z"
      },
      {
        "duration": 6633,
        "start_time": "2022-08-29T17:34:51.419Z"
      },
      {
        "duration": 1132,
        "start_time": "2022-08-29T17:47:32.218Z"
      },
      {
        "duration": 36815,
        "start_time": "2022-08-29T17:48:25.458Z"
      },
      {
        "duration": 36689,
        "start_time": "2022-08-29T17:49:17.990Z"
      },
      {
        "duration": 37124,
        "start_time": "2022-08-29T17:50:31.774Z"
      },
      {
        "duration": 11393,
        "start_time": "2022-08-29T17:57:39.024Z"
      },
      {
        "duration": 1399,
        "start_time": "2022-08-29T18:04:14.850Z"
      },
      {
        "duration": 328,
        "start_time": "2022-08-29T18:04:16.251Z"
      },
      {
        "duration": 17,
        "start_time": "2022-08-29T18:04:16.581Z"
      },
      {
        "duration": 126,
        "start_time": "2022-08-29T18:04:16.601Z"
      },
      {
        "duration": 22,
        "start_time": "2022-08-29T18:04:16.729Z"
      },
      {
        "duration": 409,
        "start_time": "2022-08-29T18:04:16.753Z"
      },
      {
        "duration": 16,
        "start_time": "2022-08-29T18:04:17.163Z"
      },
      {
        "duration": 7,
        "start_time": "2022-08-29T18:04:17.181Z"
      },
      {
        "duration": 4,
        "start_time": "2022-08-29T18:04:17.190Z"
      },
      {
        "duration": 13,
        "start_time": "2022-08-29T18:04:17.197Z"
      },
      {
        "duration": 20,
        "start_time": "2022-08-29T18:04:17.232Z"
      },
      {
        "duration": 28,
        "start_time": "2022-08-29T18:04:17.253Z"
      },
      {
        "duration": 11,
        "start_time": "2022-08-29T18:04:17.282Z"
      },
      {
        "duration": 1383,
        "start_time": "2022-08-29T18:04:17.295Z"
      },
      {
        "duration": 821,
        "start_time": "2022-08-29T18:04:18.680Z"
      },
      {
        "duration": 970,
        "start_time": "2022-08-29T18:04:19.502Z"
      },
      {
        "duration": 192,
        "start_time": "2022-08-29T18:04:20.474Z"
      },
      {
        "duration": 3,
        "start_time": "2022-08-29T18:04:20.667Z"
      },
      {
        "duration": 9,
        "start_time": "2022-08-29T18:04:20.671Z"
      },
      {
        "duration": 1358,
        "start_time": "2022-08-29T18:04:20.682Z"
      },
      {
        "duration": 5,
        "start_time": "2022-08-29T18:04:22.041Z"
      },
      {
        "duration": 9,
        "start_time": "2022-08-29T18:04:22.048Z"
      },
      {
        "duration": 5,
        "start_time": "2022-08-29T18:04:22.058Z"
      },
      {
        "duration": 10,
        "start_time": "2022-08-29T18:04:22.065Z"
      },
      {
        "duration": 7470,
        "start_time": "2022-08-29T18:04:22.077Z"
      },
      {
        "duration": 37209,
        "start_time": "2022-08-29T18:04:29.551Z"
      },
      {
        "duration": 1210704,
        "start_time": "2022-08-29T18:05:06.762Z"
      },
      {
        "duration": 5,
        "start_time": "2022-08-29T18:25:17.469Z"
      },
      {
        "duration": 35668,
        "start_time": "2022-08-29T18:33:55.085Z"
      },
      {
        "duration": 32120,
        "start_time": "2022-08-29T18:35:04.166Z"
      },
      {
        "duration": 46,
        "start_time": "2022-08-30T05:44:34.255Z"
      },
      {
        "duration": 8,
        "start_time": "2022-08-30T05:44:54.209Z"
      },
      {
        "duration": 1521,
        "start_time": "2022-08-30T05:44:59.507Z"
      },
      {
        "duration": 1274,
        "start_time": "2022-08-30T05:45:06.884Z"
      },
      {
        "duration": 218,
        "start_time": "2022-08-30T05:45:11.364Z"
      },
      {
        "duration": 13,
        "start_time": "2022-08-30T05:45:15.654Z"
      },
      {
        "duration": 593,
        "start_time": "2022-08-30T05:45:20.215Z"
      },
      {
        "duration": 17,
        "start_time": "2022-08-30T05:45:21.251Z"
      },
      {
        "duration": 3,
        "start_time": "2022-08-30T05:45:42.913Z"
      },
      {
        "duration": 73,
        "start_time": "2022-08-30T05:46:29.997Z"
      },
      {
        "duration": 7,
        "start_time": "2022-08-30T05:46:58.451Z"
      },
      {
        "duration": 29,
        "start_time": "2022-08-30T05:47:20.194Z"
      },
      {
        "duration": 27,
        "start_time": "2022-08-30T05:48:30.630Z"
      },
      {
        "duration": 3,
        "start_time": "2022-08-30T05:49:32.666Z"
      },
      {
        "duration": 6,
        "start_time": "2022-08-30T05:49:35.784Z"
      },
      {
        "duration": 27,
        "start_time": "2022-08-30T05:49:43.958Z"
      },
      {
        "duration": 2,
        "start_time": "2022-08-30T05:51:35.067Z"
      },
      {
        "duration": 6,
        "start_time": "2022-08-30T05:51:36.157Z"
      },
      {
        "duration": 30,
        "start_time": "2022-08-30T05:51:38.907Z"
      },
      {
        "duration": 2,
        "start_time": "2022-08-30T05:51:57.166Z"
      },
      {
        "duration": 3,
        "start_time": "2022-08-30T05:52:14.027Z"
      },
      {
        "duration": 6,
        "start_time": "2022-08-30T05:52:15.247Z"
      },
      {
        "duration": 31,
        "start_time": "2022-08-30T05:52:16.851Z"
      },
      {
        "duration": 1424,
        "start_time": "2022-08-30T05:52:59.729Z"
      },
      {
        "duration": 345,
        "start_time": "2022-08-30T05:53:01.155Z"
      },
      {
        "duration": 23,
        "start_time": "2022-08-30T05:53:01.501Z"
      },
      {
        "duration": 142,
        "start_time": "2022-08-30T05:53:01.527Z"
      },
      {
        "duration": 14,
        "start_time": "2022-08-30T05:53:01.671Z"
      },
      {
        "duration": 437,
        "start_time": "2022-08-30T05:53:01.687Z"
      },
      {
        "duration": 16,
        "start_time": "2022-08-30T05:53:02.126Z"
      },
      {
        "duration": 27,
        "start_time": "2022-08-30T05:53:02.143Z"
      },
      {
        "duration": 5,
        "start_time": "2022-08-30T05:53:02.172Z"
      },
      {
        "duration": 18,
        "start_time": "2022-08-30T05:53:02.180Z"
      },
      {
        "duration": 13,
        "start_time": "2022-08-30T05:53:02.200Z"
      },
      {
        "duration": 33,
        "start_time": "2022-08-30T05:53:02.215Z"
      },
      {
        "duration": 27,
        "start_time": "2022-08-30T05:53:02.250Z"
      },
      {
        "duration": 1291,
        "start_time": "2022-08-30T05:53:02.279Z"
      },
      {
        "duration": 829,
        "start_time": "2022-08-30T05:53:03.572Z"
      },
      {
        "duration": 926,
        "start_time": "2022-08-30T05:53:04.403Z"
      },
      {
        "duration": 368,
        "start_time": "2022-08-30T05:53:05.331Z"
      },
      {
        "duration": 3,
        "start_time": "2022-08-30T05:53:05.701Z"
      },
      {
        "duration": 9,
        "start_time": "2022-08-30T05:53:05.705Z"
      },
      {
        "duration": 2039,
        "start_time": "2022-08-30T05:53:05.767Z"
      },
      {
        "duration": 3,
        "start_time": "2022-08-30T05:53:07.808Z"
      },
      {
        "duration": 9,
        "start_time": "2022-08-30T05:53:07.812Z"
      },
      {
        "duration": 6,
        "start_time": "2022-08-30T05:53:07.822Z"
      },
      {
        "duration": 10,
        "start_time": "2022-08-30T05:53:07.830Z"
      },
      {
        "duration": 7,
        "start_time": "2022-08-30T05:53:07.841Z"
      },
      {
        "duration": 18,
        "start_time": "2022-08-30T05:53:07.850Z"
      },
      {
        "duration": 9,
        "start_time": "2022-08-30T05:53:07.869Z"
      },
      {
        "duration": 26,
        "start_time": "2022-08-30T05:53:07.882Z"
      },
      {
        "duration": 3863,
        "start_time": "2022-08-30T05:53:07.910Z"
      },
      {
        "duration": 38563,
        "start_time": "2022-08-30T05:53:11.775Z"
      },
      {
        "duration": 1471,
        "start_time": "2022-08-30T05:58:48.103Z"
      },
      {
        "duration": 334,
        "start_time": "2022-08-30T05:58:49.576Z"
      },
      {
        "duration": 19,
        "start_time": "2022-08-30T05:58:49.912Z"
      },
      {
        "duration": 131,
        "start_time": "2022-08-30T05:58:49.933Z"
      },
      {
        "duration": 14,
        "start_time": "2022-08-30T05:58:50.065Z"
      },
      {
        "duration": 407,
        "start_time": "2022-08-30T05:58:50.080Z"
      },
      {
        "duration": 18,
        "start_time": "2022-08-30T05:58:50.488Z"
      },
      {
        "duration": 7,
        "start_time": "2022-08-30T05:58:50.508Z"
      },
      {
        "duration": 11,
        "start_time": "2022-08-30T05:58:50.517Z"
      },
      {
        "duration": 16,
        "start_time": "2022-08-30T05:58:50.531Z"
      },
      {
        "duration": 31,
        "start_time": "2022-08-30T05:58:50.549Z"
      },
      {
        "duration": 29,
        "start_time": "2022-08-30T05:58:50.582Z"
      },
      {
        "duration": 11,
        "start_time": "2022-08-30T05:58:50.612Z"
      },
      {
        "duration": 1327,
        "start_time": "2022-08-30T05:58:50.625Z"
      },
      {
        "duration": 765,
        "start_time": "2022-08-30T05:58:51.954Z"
      },
      {
        "duration": 910,
        "start_time": "2022-08-30T05:58:52.720Z"
      },
      {
        "duration": 187,
        "start_time": "2022-08-30T05:58:53.632Z"
      },
      {
        "duration": 2,
        "start_time": "2022-08-30T05:58:53.821Z"
      },
      {
        "duration": 10,
        "start_time": "2022-08-30T05:58:53.825Z"
      },
      {
        "duration": 1314,
        "start_time": "2022-08-30T05:58:53.837Z"
      },
      {
        "duration": 3,
        "start_time": "2022-08-30T05:58:55.153Z"
      },
      {
        "duration": 10,
        "start_time": "2022-08-30T05:58:55.158Z"
      },
      {
        "duration": 5,
        "start_time": "2022-08-30T05:58:55.169Z"
      },
      {
        "duration": 11,
        "start_time": "2022-08-30T05:58:55.175Z"
      },
      {
        "duration": 7,
        "start_time": "2022-08-30T05:58:55.187Z"
      },
      {
        "duration": 5,
        "start_time": "2022-08-30T05:58:55.196Z"
      },
      {
        "duration": 10,
        "start_time": "2022-08-30T05:58:55.203Z"
      },
      {
        "duration": 28,
        "start_time": "2022-08-30T05:58:55.216Z"
      },
      {
        "duration": 3923,
        "start_time": "2022-08-30T05:58:55.246Z"
      },
      {
        "duration": 37219,
        "start_time": "2022-08-30T05:58:59.171Z"
      },
      {
        "duration": 5,
        "start_time": "2022-08-30T05:59:36.392Z"
      },
      {
        "duration": 33798,
        "start_time": "2022-08-30T05:59:36.398Z"
      },
      {
        "duration": 0,
        "start_time": "2022-08-30T06:00:10.197Z"
      },
      {
        "duration": 25,
        "start_time": "2022-08-30T06:01:29.351Z"
      },
      {
        "duration": 13,
        "start_time": "2022-08-30T06:02:11.296Z"
      },
      {
        "duration": 14,
        "start_time": "2022-08-30T06:05:32.021Z"
      },
      {
        "duration": 5,
        "start_time": "2022-08-30T06:06:44.876Z"
      },
      {
        "duration": 1480,
        "start_time": "2022-08-30T06:07:29.550Z"
      },
      {
        "duration": 336,
        "start_time": "2022-08-30T06:07:31.032Z"
      },
      {
        "duration": 18,
        "start_time": "2022-08-30T06:07:31.370Z"
      },
      {
        "duration": 138,
        "start_time": "2022-08-30T06:07:31.390Z"
      },
      {
        "duration": 12,
        "start_time": "2022-08-30T06:07:31.530Z"
      },
      {
        "duration": 378,
        "start_time": "2022-08-30T06:07:31.544Z"
      },
      {
        "duration": 16,
        "start_time": "2022-08-30T06:07:31.924Z"
      },
      {
        "duration": 7,
        "start_time": "2022-08-30T06:07:31.941Z"
      },
      {
        "duration": 21,
        "start_time": "2022-08-30T06:07:31.949Z"
      },
      {
        "duration": 13,
        "start_time": "2022-08-30T06:07:31.974Z"
      },
      {
        "duration": 12,
        "start_time": "2022-08-30T06:07:31.989Z"
      },
      {
        "duration": 27,
        "start_time": "2022-08-30T06:07:32.003Z"
      },
      {
        "duration": 39,
        "start_time": "2022-08-30T06:07:32.032Z"
      },
      {
        "duration": 1222,
        "start_time": "2022-08-30T06:07:32.072Z"
      },
      {
        "duration": 820,
        "start_time": "2022-08-30T06:07:33.296Z"
      },
      {
        "duration": 988,
        "start_time": "2022-08-30T06:07:34.118Z"
      },
      {
        "duration": 201,
        "start_time": "2022-08-30T06:07:35.107Z"
      },
      {
        "duration": 2,
        "start_time": "2022-08-30T06:07:35.310Z"
      },
      {
        "duration": 10,
        "start_time": "2022-08-30T06:07:35.314Z"
      },
      {
        "duration": 1437,
        "start_time": "2022-08-30T06:07:35.325Z"
      },
      {
        "duration": 9,
        "start_time": "2022-08-30T06:07:36.764Z"
      },
      {
        "duration": 4,
        "start_time": "2022-08-30T06:07:36.774Z"
      },
      {
        "duration": 13,
        "start_time": "2022-08-30T06:07:36.780Z"
      },
      {
        "duration": 6,
        "start_time": "2022-08-30T06:07:36.795Z"
      },
      {
        "duration": 7,
        "start_time": "2022-08-30T06:07:36.802Z"
      },
      {
        "duration": 7,
        "start_time": "2022-08-30T06:07:36.811Z"
      },
      {
        "duration": 9,
        "start_time": "2022-08-30T06:07:36.820Z"
      },
      {
        "duration": 3135,
        "start_time": "2022-08-30T06:07:36.833Z"
      },
      {
        "duration": 24227,
        "start_time": "2022-08-30T06:07:39.970Z"
      },
      {
        "duration": 4,
        "start_time": "2022-08-30T06:08:04.199Z"
      },
      {
        "duration": 43152,
        "start_time": "2022-08-30T06:08:04.204Z"
      },
      {
        "duration": 0,
        "start_time": "2022-08-30T06:08:47.357Z"
      },
      {
        "duration": 43227,
        "start_time": "2022-08-30T06:09:49.312Z"
      },
      {
        "duration": 3,
        "start_time": "2022-08-30T06:10:36.136Z"
      },
      {
        "duration": 3,
        "start_time": "2022-08-30T06:12:14.539Z"
      },
      {
        "duration": 3,
        "start_time": "2022-08-30T06:12:25.447Z"
      },
      {
        "duration": 4,
        "start_time": "2022-08-30T06:12:27.556Z"
      },
      {
        "duration": 1433,
        "start_time": "2022-08-30T06:12:53.748Z"
      },
      {
        "duration": 322,
        "start_time": "2022-08-30T06:12:55.183Z"
      },
      {
        "duration": 26,
        "start_time": "2022-08-30T06:12:55.508Z"
      },
      {
        "duration": 143,
        "start_time": "2022-08-30T06:12:55.536Z"
      },
      {
        "duration": 13,
        "start_time": "2022-08-30T06:12:55.680Z"
      },
      {
        "duration": 396,
        "start_time": "2022-08-30T06:12:55.695Z"
      },
      {
        "duration": 17,
        "start_time": "2022-08-30T06:12:56.093Z"
      },
      {
        "duration": 7,
        "start_time": "2022-08-30T06:12:56.112Z"
      },
      {
        "duration": 5,
        "start_time": "2022-08-30T06:12:56.120Z"
      },
      {
        "duration": 46,
        "start_time": "2022-08-30T06:12:56.128Z"
      },
      {
        "duration": 14,
        "start_time": "2022-08-30T06:12:56.175Z"
      },
      {
        "duration": 27,
        "start_time": "2022-08-30T06:12:56.190Z"
      },
      {
        "duration": 11,
        "start_time": "2022-08-30T06:12:56.219Z"
      },
      {
        "duration": 1376,
        "start_time": "2022-08-30T06:12:56.231Z"
      },
      {
        "duration": 811,
        "start_time": "2022-08-30T06:12:57.609Z"
      },
      {
        "duration": 940,
        "start_time": "2022-08-30T06:12:58.423Z"
      },
      {
        "duration": 194,
        "start_time": "2022-08-30T06:12:59.367Z"
      },
      {
        "duration": 5,
        "start_time": "2022-08-30T06:12:59.562Z"
      },
      {
        "duration": 13,
        "start_time": "2022-08-30T06:12:59.569Z"
      },
      {
        "duration": 1451,
        "start_time": "2022-08-30T06:12:59.584Z"
      },
      {
        "duration": 3,
        "start_time": "2022-08-30T06:13:01.037Z"
      },
      {
        "duration": 21,
        "start_time": "2022-08-30T06:13:01.042Z"
      },
      {
        "duration": 9,
        "start_time": "2022-08-30T06:13:01.065Z"
      },
      {
        "duration": 12,
        "start_time": "2022-08-30T06:13:01.076Z"
      },
      {
        "duration": 14,
        "start_time": "2022-08-30T06:13:01.090Z"
      },
      {
        "duration": 35,
        "start_time": "2022-08-30T06:13:01.106Z"
      },
      {
        "duration": 26,
        "start_time": "2022-08-30T06:13:01.143Z"
      },
      {
        "duration": 2704,
        "start_time": "2022-08-30T06:13:01.173Z"
      },
      {
        "duration": 24295,
        "start_time": "2022-08-30T06:13:03.967Z"
      },
      {
        "duration": 736670,
        "start_time": "2022-08-30T06:13:28.264Z"
      },
      {
        "duration": 4,
        "start_time": "2022-08-30T06:25:44.936Z"
      },
      {
        "duration": 42459,
        "start_time": "2022-08-30T06:25:44.942Z"
      },
      {
        "duration": 3,
        "start_time": "2022-08-30T06:26:27.402Z"
      },
      {
        "duration": 30319,
        "start_time": "2022-08-30T06:27:05.802Z"
      },
      {
        "duration": 4,
        "start_time": "2022-08-30T06:27:36.123Z"
      },
      {
        "duration": 18504,
        "start_time": "2022-08-30T06:28:28.953Z"
      },
      {
        "duration": 8,
        "start_time": "2022-08-30T06:28:47.459Z"
      },
      {
        "duration": 1553,
        "start_time": "2022-08-30T17:07:39.875Z"
      },
      {
        "duration": 2221,
        "start_time": "2022-08-30T17:07:41.430Z"
      },
      {
        "duration": 17,
        "start_time": "2022-08-30T17:07:43.652Z"
      },
      {
        "duration": 192,
        "start_time": "2022-08-30T17:07:43.670Z"
      },
      {
        "duration": 12,
        "start_time": "2022-08-30T17:07:43.863Z"
      },
      {
        "duration": 566,
        "start_time": "2022-08-30T17:07:43.876Z"
      },
      {
        "duration": 17,
        "start_time": "2022-08-30T17:07:44.444Z"
      },
      {
        "duration": 8,
        "start_time": "2022-08-30T17:07:44.462Z"
      },
      {
        "duration": 5,
        "start_time": "2022-08-30T17:07:44.471Z"
      },
      {
        "duration": 14,
        "start_time": "2022-08-30T17:07:44.479Z"
      },
      {
        "duration": 22,
        "start_time": "2022-08-30T17:07:44.495Z"
      },
      {
        "duration": 26,
        "start_time": "2022-08-30T17:07:44.518Z"
      },
      {
        "duration": 10,
        "start_time": "2022-08-30T17:07:44.546Z"
      },
      {
        "duration": 1166,
        "start_time": "2022-08-30T17:07:44.558Z"
      },
      {
        "duration": 836,
        "start_time": "2022-08-30T17:07:45.725Z"
      },
      {
        "duration": 902,
        "start_time": "2022-08-30T17:07:46.563Z"
      },
      {
        "duration": 180,
        "start_time": "2022-08-30T17:07:47.466Z"
      },
      {
        "duration": 2,
        "start_time": "2022-08-30T17:07:47.647Z"
      },
      {
        "duration": 8,
        "start_time": "2022-08-30T17:07:47.651Z"
      },
      {
        "duration": 1279,
        "start_time": "2022-08-30T17:07:47.661Z"
      },
      {
        "duration": 1282,
        "start_time": "2022-08-30T17:07:48.942Z"
      },
      {
        "duration": 0,
        "start_time": "2022-08-30T17:07:50.226Z"
      },
      {
        "duration": 0,
        "start_time": "2022-08-30T17:07:50.227Z"
      },
      {
        "duration": 0,
        "start_time": "2022-08-30T17:07:50.228Z"
      },
      {
        "duration": 0,
        "start_time": "2022-08-30T17:07:50.228Z"
      },
      {
        "duration": 0,
        "start_time": "2022-08-30T17:07:50.229Z"
      },
      {
        "duration": 0,
        "start_time": "2022-08-30T17:07:50.231Z"
      },
      {
        "duration": 0,
        "start_time": "2022-08-30T17:07:50.231Z"
      },
      {
        "duration": 0,
        "start_time": "2022-08-30T17:07:50.232Z"
      },
      {
        "duration": 0,
        "start_time": "2022-08-30T17:07:50.233Z"
      },
      {
        "duration": 0,
        "start_time": "2022-08-30T17:07:50.234Z"
      },
      {
        "duration": 0,
        "start_time": "2022-08-30T17:07:50.235Z"
      },
      {
        "duration": 0,
        "start_time": "2022-08-30T17:07:50.236Z"
      },
      {
        "duration": 0,
        "start_time": "2022-08-30T17:07:50.237Z"
      },
      {
        "duration": 1314,
        "start_time": "2022-08-30T17:08:42.141Z"
      },
      {
        "duration": 312,
        "start_time": "2022-08-30T17:08:43.457Z"
      },
      {
        "duration": 17,
        "start_time": "2022-08-30T17:08:43.771Z"
      },
      {
        "duration": 118,
        "start_time": "2022-08-30T17:08:43.789Z"
      },
      {
        "duration": 12,
        "start_time": "2022-08-30T17:08:43.908Z"
      },
      {
        "duration": 373,
        "start_time": "2022-08-30T17:08:43.921Z"
      },
      {
        "duration": 25,
        "start_time": "2022-08-30T17:08:44.295Z"
      },
      {
        "duration": 8,
        "start_time": "2022-08-30T17:08:44.321Z"
      },
      {
        "duration": 5,
        "start_time": "2022-08-30T17:08:44.330Z"
      },
      {
        "duration": 16,
        "start_time": "2022-08-30T17:08:44.337Z"
      },
      {
        "duration": 12,
        "start_time": "2022-08-30T17:08:44.355Z"
      },
      {
        "duration": 55,
        "start_time": "2022-08-30T17:08:44.369Z"
      },
      {
        "duration": 10,
        "start_time": "2022-08-30T17:08:44.426Z"
      },
      {
        "duration": 1209,
        "start_time": "2022-08-30T17:08:44.438Z"
      },
      {
        "duration": 947,
        "start_time": "2022-08-30T17:08:45.649Z"
      },
      {
        "duration": 942,
        "start_time": "2022-08-30T17:08:46.598Z"
      },
      {
        "duration": 184,
        "start_time": "2022-08-30T17:08:47.541Z"
      },
      {
        "duration": 3,
        "start_time": "2022-08-30T17:08:47.726Z"
      },
      {
        "duration": 13,
        "start_time": "2022-08-30T17:08:47.730Z"
      },
      {
        "duration": 1309,
        "start_time": "2022-08-30T17:08:47.744Z"
      },
      {
        "duration": 1392,
        "start_time": "2022-08-30T17:08:49.055Z"
      },
      {
        "duration": 0,
        "start_time": "2022-08-30T17:08:50.449Z"
      },
      {
        "duration": 0,
        "start_time": "2022-08-30T17:08:50.450Z"
      },
      {
        "duration": 0,
        "start_time": "2022-08-30T17:08:50.451Z"
      },
      {
        "duration": 0,
        "start_time": "2022-08-30T17:08:50.452Z"
      },
      {
        "duration": 0,
        "start_time": "2022-08-30T17:08:50.453Z"
      },
      {
        "duration": 0,
        "start_time": "2022-08-30T17:08:50.454Z"
      },
      {
        "duration": 0,
        "start_time": "2022-08-30T17:08:50.455Z"
      },
      {
        "duration": 0,
        "start_time": "2022-08-30T17:08:50.456Z"
      },
      {
        "duration": 0,
        "start_time": "2022-08-30T17:08:50.457Z"
      },
      {
        "duration": 0,
        "start_time": "2022-08-30T17:08:50.458Z"
      },
      {
        "duration": 0,
        "start_time": "2022-08-30T17:08:50.459Z"
      },
      {
        "duration": 0,
        "start_time": "2022-08-30T17:08:50.460Z"
      },
      {
        "duration": 0,
        "start_time": "2022-08-30T17:08:50.461Z"
      },
      {
        "duration": 0,
        "start_time": "2022-08-30T17:08:50.462Z"
      },
      {
        "duration": 1168,
        "start_time": "2022-08-30T17:09:54.191Z"
      },
      {
        "duration": 10,
        "start_time": "2022-08-30T17:12:32.118Z"
      },
      {
        "duration": 1156,
        "start_time": "2022-08-30T17:12:38.754Z"
      },
      {
        "duration": 1199,
        "start_time": "2022-08-30T17:12:46.221Z"
      },
      {
        "duration": 27,
        "start_time": "2022-08-30T17:13:32.670Z"
      },
      {
        "duration": 1457,
        "start_time": "2022-08-30T17:14:45.179Z"
      },
      {
        "duration": 297,
        "start_time": "2022-08-30T17:14:46.638Z"
      },
      {
        "duration": 18,
        "start_time": "2022-08-30T17:14:46.936Z"
      },
      {
        "duration": 120,
        "start_time": "2022-08-30T17:14:46.957Z"
      },
      {
        "duration": 13,
        "start_time": "2022-08-30T17:14:47.079Z"
      },
      {
        "duration": 345,
        "start_time": "2022-08-30T17:14:47.094Z"
      },
      {
        "duration": 18,
        "start_time": "2022-08-30T17:14:47.441Z"
      },
      {
        "duration": 9,
        "start_time": "2022-08-30T17:14:47.461Z"
      },
      {
        "duration": 10,
        "start_time": "2022-08-30T17:14:47.471Z"
      },
      {
        "duration": 31,
        "start_time": "2022-08-30T17:14:47.484Z"
      },
      {
        "duration": 12,
        "start_time": "2022-08-30T17:14:47.516Z"
      },
      {
        "duration": 31,
        "start_time": "2022-08-30T17:14:47.529Z"
      },
      {
        "duration": 10,
        "start_time": "2022-08-30T17:14:47.562Z"
      },
      {
        "duration": 1217,
        "start_time": "2022-08-30T17:14:47.574Z"
      },
      {
        "duration": 771,
        "start_time": "2022-08-30T17:14:48.793Z"
      },
      {
        "duration": 900,
        "start_time": "2022-08-30T17:14:49.566Z"
      },
      {
        "duration": 173,
        "start_time": "2022-08-30T17:14:50.468Z"
      },
      {
        "duration": 2,
        "start_time": "2022-08-30T17:14:50.643Z"
      },
      {
        "duration": 29,
        "start_time": "2022-08-30T17:14:50.647Z"
      },
      {
        "duration": 1281,
        "start_time": "2022-08-30T17:14:50.678Z"
      },
      {
        "duration": 31,
        "start_time": "2022-08-30T17:14:51.960Z"
      },
      {
        "duration": 14,
        "start_time": "2022-08-30T17:14:51.993Z"
      },
      {
        "duration": 30,
        "start_time": "2022-08-30T17:14:52.008Z"
      },
      {
        "duration": 24,
        "start_time": "2022-08-30T17:14:52.039Z"
      },
      {
        "duration": 20,
        "start_time": "2022-08-30T17:14:52.065Z"
      },
      {
        "duration": 27,
        "start_time": "2022-08-30T17:14:52.086Z"
      },
      {
        "duration": 30,
        "start_time": "2022-08-30T17:14:52.114Z"
      },
      {
        "duration": 13,
        "start_time": "2022-08-30T17:14:52.147Z"
      },
      {
        "duration": 2445,
        "start_time": "2022-08-30T17:14:52.162Z"
      },
      {
        "duration": 22397,
        "start_time": "2022-08-30T17:14:54.609Z"
      },
      {
        "duration": 717048,
        "start_time": "2022-08-30T17:15:17.007Z"
      },
      {
        "duration": 4,
        "start_time": "2022-08-30T17:27:14.056Z"
      },
      {
        "duration": 17844,
        "start_time": "2022-08-30T17:27:14.062Z"
      },
      {
        "duration": 3,
        "start_time": "2022-08-30T17:27:31.908Z"
      },
      {
        "duration": 11,
        "start_time": "2022-08-30T17:27:31.912Z"
      },
      {
        "duration": 0,
        "start_time": "2022-08-30T17:27:32.036Z"
      },
      {
        "duration": 22384,
        "start_time": "2022-08-30T17:37:50.365Z"
      },
      {
        "duration": 3,
        "start_time": "2022-08-30T17:38:12.751Z"
      },
      {
        "duration": 2,
        "start_time": "2022-08-30T17:38:18.421Z"
      },
      {
        "duration": 16,
        "start_time": "2022-08-30T17:38:37.941Z"
      },
      {
        "duration": 14,
        "start_time": "2022-08-30T17:39:48.097Z"
      },
      {
        "duration": 9,
        "start_time": "2022-08-30T17:39:55.156Z"
      },
      {
        "duration": 9,
        "start_time": "2022-08-30T17:40:28.978Z"
      },
      {
        "duration": 10,
        "start_time": "2022-08-30T17:41:12.896Z"
      },
      {
        "duration": 8,
        "start_time": "2022-08-30T17:42:24.691Z"
      }
    ],
    "kernelspec": {
      "display_name": "Python 3 (ipykernel)",
      "language": "python",
      "name": "python3"
    },
    "language_info": {
      "codemirror_mode": {
        "name": "ipython",
        "version": 3
      },
      "file_extension": ".py",
      "mimetype": "text/x-python",
      "name": "python",
      "nbconvert_exporter": "python",
      "pygments_lexer": "ipython3",
      "version": "3.9.12"
    },
    "toc": {
      "base_numbering": 1,
      "nav_menu": {},
      "number_sections": true,
      "sideBar": true,
      "skip_h1_title": true,
      "title_cell": "Содержание",
      "title_sidebar": "Contents",
      "toc_cell": true,
      "toc_position": {
        "height": "calc(100% - 180px)",
        "left": "10px",
        "top": "150px",
        "width": "283px"
      },
      "toc_section_display": true,
      "toc_window_display": true
    },
    "colab": {
      "provenance": []
    }
  },
  "nbformat": 4,
  "nbformat_minor": 0
}