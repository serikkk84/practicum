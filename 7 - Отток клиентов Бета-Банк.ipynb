{
  "cells": [
    {
      "cell_type": "markdown",
      "metadata": {
        "id": "CzxG460hTUY6"
      },
      "source": [
        "# Отток клиентов"
      ]
    },
    {
      "cell_type": "markdown",
      "metadata": {
        "id": "e9LwDNRtTUY6"
      },
      "source": [
        "Из «Бета-Банка» стали уходить клиенты. Каждый месяц. Немного, но заметно. Банковские маркетологи посчитали: сохранять текущих клиентов дешевле, чем привлекать новых.\n",
        "\n",
        "Нужно спрогнозировать, уйдёт клиент из банка в ближайшее время или нет. Нам предоставлены исторические данные о поведении клиентов и расторжении договоров с банком. \n",
        "\n",
        "Необходимо построить модель с предельно большим значением *F1*-меры, но не менее 0.59. "
      ]
    },
    {
      "cell_type": "markdown",
      "metadata": {
        "id": "vlUTR7OoTUY9"
      },
      "source": [
        "## Подготовка данных"
      ]
    },
    {
      "cell_type": "markdown",
      "metadata": {
        "id": "yiaez0L9TUY9"
      },
      "source": [
        "Загрузим необходимые библиотеки."
      ]
    },
    {
      "cell_type": "code",
      "execution_count": null,
      "metadata": {
        "id": "Lw-I4OqzTUY-"
      },
      "outputs": [],
      "source": [
        "import pandas as pd\n",
        "from sklearn.tree import DecisionTreeClassifier\n",
        "from sklearn.ensemble import RandomForestClassifier\n",
        "from sklearn.linear_model import LogisticRegression \n",
        "from sklearn.metrics import accuracy_score\n",
        "from sklearn.model_selection import train_test_split\n",
        "from sklearn.preprocessing import StandardScaler \n",
        "from sklearn.metrics import f1_score \n",
        "from sklearn.metrics import roc_auc_score \n",
        "from sklearn.metrics import mean_absolute_error\n",
        "from sklearn.utils import shuffle\n",
        "from sklearn.metrics import confusion_matrix\n",
        "from joblib import dump"
      ]
    },
    {
      "cell_type": "markdown",
      "metadata": {
        "id": "CH99IVSDTUZB"
      },
      "source": [
        "Теперь посмотрим банковскую базу данных."
      ]
    },
    {
      "cell_type": "code",
      "execution_count": null,
      "metadata": {
        "id": "f2WOlCATTUZB",
        "outputId": "9ad090c8-5aed-4c78-d403-87ac7f397702"
      },
      "outputs": [
        {
          "data": {
            "text/html": [
              "<div>\n",
              "<style scoped>\n",
              "    .dataframe tbody tr th:only-of-type {\n",
              "        vertical-align: middle;\n",
              "    }\n",
              "\n",
              "    .dataframe tbody tr th {\n",
              "        vertical-align: top;\n",
              "    }\n",
              "\n",
              "    .dataframe thead th {\n",
              "        text-align: right;\n",
              "    }\n",
              "</style>\n",
              "<table border=\"1\" class=\"dataframe\">\n",
              "  <thead>\n",
              "    <tr style=\"text-align: right;\">\n",
              "      <th></th>\n",
              "      <th>RowNumber</th>\n",
              "      <th>CustomerId</th>\n",
              "      <th>Surname</th>\n",
              "      <th>CreditScore</th>\n",
              "      <th>Geography</th>\n",
              "      <th>Gender</th>\n",
              "      <th>Age</th>\n",
              "      <th>Tenure</th>\n",
              "      <th>Balance</th>\n",
              "      <th>NumOfProducts</th>\n",
              "      <th>HasCrCard</th>\n",
              "      <th>IsActiveMember</th>\n",
              "      <th>EstimatedSalary</th>\n",
              "      <th>Exited</th>\n",
              "    </tr>\n",
              "  </thead>\n",
              "  <tbody>\n",
              "    <tr>\n",
              "      <th>0</th>\n",
              "      <td>1</td>\n",
              "      <td>15634602</td>\n",
              "      <td>Hargrave</td>\n",
              "      <td>619</td>\n",
              "      <td>France</td>\n",
              "      <td>Female</td>\n",
              "      <td>42</td>\n",
              "      <td>2.0</td>\n",
              "      <td>0.00</td>\n",
              "      <td>1</td>\n",
              "      <td>1</td>\n",
              "      <td>1</td>\n",
              "      <td>101348.88</td>\n",
              "      <td>1</td>\n",
              "    </tr>\n",
              "    <tr>\n",
              "      <th>1</th>\n",
              "      <td>2</td>\n",
              "      <td>15647311</td>\n",
              "      <td>Hill</td>\n",
              "      <td>608</td>\n",
              "      <td>Spain</td>\n",
              "      <td>Female</td>\n",
              "      <td>41</td>\n",
              "      <td>1.0</td>\n",
              "      <td>83807.86</td>\n",
              "      <td>1</td>\n",
              "      <td>0</td>\n",
              "      <td>1</td>\n",
              "      <td>112542.58</td>\n",
              "      <td>0</td>\n",
              "    </tr>\n",
              "    <tr>\n",
              "      <th>2</th>\n",
              "      <td>3</td>\n",
              "      <td>15619304</td>\n",
              "      <td>Onio</td>\n",
              "      <td>502</td>\n",
              "      <td>France</td>\n",
              "      <td>Female</td>\n",
              "      <td>42</td>\n",
              "      <td>8.0</td>\n",
              "      <td>159660.80</td>\n",
              "      <td>3</td>\n",
              "      <td>1</td>\n",
              "      <td>0</td>\n",
              "      <td>113931.57</td>\n",
              "      <td>1</td>\n",
              "    </tr>\n",
              "    <tr>\n",
              "      <th>3</th>\n",
              "      <td>4</td>\n",
              "      <td>15701354</td>\n",
              "      <td>Boni</td>\n",
              "      <td>699</td>\n",
              "      <td>France</td>\n",
              "      <td>Female</td>\n",
              "      <td>39</td>\n",
              "      <td>1.0</td>\n",
              "      <td>0.00</td>\n",
              "      <td>2</td>\n",
              "      <td>0</td>\n",
              "      <td>0</td>\n",
              "      <td>93826.63</td>\n",
              "      <td>0</td>\n",
              "    </tr>\n",
              "    <tr>\n",
              "      <th>4</th>\n",
              "      <td>5</td>\n",
              "      <td>15737888</td>\n",
              "      <td>Mitchell</td>\n",
              "      <td>850</td>\n",
              "      <td>Spain</td>\n",
              "      <td>Female</td>\n",
              "      <td>43</td>\n",
              "      <td>2.0</td>\n",
              "      <td>125510.82</td>\n",
              "      <td>1</td>\n",
              "      <td>1</td>\n",
              "      <td>1</td>\n",
              "      <td>79084.10</td>\n",
              "      <td>0</td>\n",
              "    </tr>\n",
              "    <tr>\n",
              "      <th>...</th>\n",
              "      <td>...</td>\n",
              "      <td>...</td>\n",
              "      <td>...</td>\n",
              "      <td>...</td>\n",
              "      <td>...</td>\n",
              "      <td>...</td>\n",
              "      <td>...</td>\n",
              "      <td>...</td>\n",
              "      <td>...</td>\n",
              "      <td>...</td>\n",
              "      <td>...</td>\n",
              "      <td>...</td>\n",
              "      <td>...</td>\n",
              "      <td>...</td>\n",
              "    </tr>\n",
              "    <tr>\n",
              "      <th>9995</th>\n",
              "      <td>9996</td>\n",
              "      <td>15606229</td>\n",
              "      <td>Obijiaku</td>\n",
              "      <td>771</td>\n",
              "      <td>France</td>\n",
              "      <td>Male</td>\n",
              "      <td>39</td>\n",
              "      <td>5.0</td>\n",
              "      <td>0.00</td>\n",
              "      <td>2</td>\n",
              "      <td>1</td>\n",
              "      <td>0</td>\n",
              "      <td>96270.64</td>\n",
              "      <td>0</td>\n",
              "    </tr>\n",
              "    <tr>\n",
              "      <th>9996</th>\n",
              "      <td>9997</td>\n",
              "      <td>15569892</td>\n",
              "      <td>Johnstone</td>\n",
              "      <td>516</td>\n",
              "      <td>France</td>\n",
              "      <td>Male</td>\n",
              "      <td>35</td>\n",
              "      <td>10.0</td>\n",
              "      <td>57369.61</td>\n",
              "      <td>1</td>\n",
              "      <td>1</td>\n",
              "      <td>1</td>\n",
              "      <td>101699.77</td>\n",
              "      <td>0</td>\n",
              "    </tr>\n",
              "    <tr>\n",
              "      <th>9997</th>\n",
              "      <td>9998</td>\n",
              "      <td>15584532</td>\n",
              "      <td>Liu</td>\n",
              "      <td>709</td>\n",
              "      <td>France</td>\n",
              "      <td>Female</td>\n",
              "      <td>36</td>\n",
              "      <td>7.0</td>\n",
              "      <td>0.00</td>\n",
              "      <td>1</td>\n",
              "      <td>0</td>\n",
              "      <td>1</td>\n",
              "      <td>42085.58</td>\n",
              "      <td>1</td>\n",
              "    </tr>\n",
              "    <tr>\n",
              "      <th>9998</th>\n",
              "      <td>9999</td>\n",
              "      <td>15682355</td>\n",
              "      <td>Sabbatini</td>\n",
              "      <td>772</td>\n",
              "      <td>Germany</td>\n",
              "      <td>Male</td>\n",
              "      <td>42</td>\n",
              "      <td>3.0</td>\n",
              "      <td>75075.31</td>\n",
              "      <td>2</td>\n",
              "      <td>1</td>\n",
              "      <td>0</td>\n",
              "      <td>92888.52</td>\n",
              "      <td>1</td>\n",
              "    </tr>\n",
              "    <tr>\n",
              "      <th>9999</th>\n",
              "      <td>10000</td>\n",
              "      <td>15628319</td>\n",
              "      <td>Walker</td>\n",
              "      <td>792</td>\n",
              "      <td>France</td>\n",
              "      <td>Female</td>\n",
              "      <td>28</td>\n",
              "      <td>NaN</td>\n",
              "      <td>130142.79</td>\n",
              "      <td>1</td>\n",
              "      <td>1</td>\n",
              "      <td>0</td>\n",
              "      <td>38190.78</td>\n",
              "      <td>0</td>\n",
              "    </tr>\n",
              "  </tbody>\n",
              "</table>\n",
              "<p>10000 rows × 14 columns</p>\n",
              "</div>"
            ],
            "text/plain": [
              "      RowNumber  CustomerId    Surname  CreditScore Geography  Gender  Age  \\\n",
              "0             1    15634602   Hargrave          619    France  Female   42   \n",
              "1             2    15647311       Hill          608     Spain  Female   41   \n",
              "2             3    15619304       Onio          502    France  Female   42   \n",
              "3             4    15701354       Boni          699    France  Female   39   \n",
              "4             5    15737888   Mitchell          850     Spain  Female   43   \n",
              "...         ...         ...        ...          ...       ...     ...  ...   \n",
              "9995       9996    15606229   Obijiaku          771    France    Male   39   \n",
              "9996       9997    15569892  Johnstone          516    France    Male   35   \n",
              "9997       9998    15584532        Liu          709    France  Female   36   \n",
              "9998       9999    15682355  Sabbatini          772   Germany    Male   42   \n",
              "9999      10000    15628319     Walker          792    France  Female   28   \n",
              "\n",
              "      Tenure    Balance  NumOfProducts  HasCrCard  IsActiveMember  \\\n",
              "0        2.0       0.00              1          1               1   \n",
              "1        1.0   83807.86              1          0               1   \n",
              "2        8.0  159660.80              3          1               0   \n",
              "3        1.0       0.00              2          0               0   \n",
              "4        2.0  125510.82              1          1               1   \n",
              "...      ...        ...            ...        ...             ...   \n",
              "9995     5.0       0.00              2          1               0   \n",
              "9996    10.0   57369.61              1          1               1   \n",
              "9997     7.0       0.00              1          0               1   \n",
              "9998     3.0   75075.31              2          1               0   \n",
              "9999     NaN  130142.79              1          1               0   \n",
              "\n",
              "      EstimatedSalary  Exited  \n",
              "0           101348.88       1  \n",
              "1           112542.58       0  \n",
              "2           113931.57       1  \n",
              "3            93826.63       0  \n",
              "4            79084.10       0  \n",
              "...               ...     ...  \n",
              "9995         96270.64       0  \n",
              "9996        101699.77       0  \n",
              "9997         42085.58       1  \n",
              "9998         92888.52       1  \n",
              "9999         38190.78       0  \n",
              "\n",
              "[10000 rows x 14 columns]"
            ]
          },
          "execution_count": 2,
          "metadata": {},
          "output_type": "execute_result"
        }
      ],
      "source": [
        "try:\n",
        "    data = pd.read_csv('Churn.csv')\n",
        "except:\n",
        "    data = pd.read_csv('/datasets/Churn.csv')\n",
        "data"
      ]
    },
    {
      "cell_type": "markdown",
      "metadata": {
        "id": "Y_dRa5lyTUZD"
      },
      "source": [
        "Итак,  10 тысяч строк и четырнадцать колонок, из которых колонка \"Exited\" является целевым признаком. Кроме того, колонки \"RowNumber\", \"Surname\" и \"CustomerId\" не имеют никакого значения для построения моделей и мы их можем удалить (более того, кажется, эти столбцы могут помещать модели работать корректно)."
      ]
    },
    {
      "cell_type": "code",
      "execution_count": null,
      "metadata": {
        "id": "PqAAxrNtTUZE"
      },
      "outputs": [],
      "source": [
        "df = data.drop(['RowNumber', 'Surname', 'CustomerId'], axis=1)"
      ]
    },
    {
      "cell_type": "markdown",
      "metadata": {
        "id": "p-PJRH3OTUZE"
      },
      "source": [
        "Посмотрим состав данных."
      ]
    },
    {
      "cell_type": "code",
      "execution_count": null,
      "metadata": {
        "scrolled": true,
        "id": "giZrCPOkTUZE",
        "outputId": "6d61ba54-47d6-4e75-a66c-100722355f0d"
      },
      "outputs": [
        {
          "name": "stdout",
          "output_type": "stream",
          "text": [
            "<class 'pandas.core.frame.DataFrame'>\n",
            "RangeIndex: 10000 entries, 0 to 9999\n",
            "Data columns (total 11 columns):\n",
            " #   Column           Non-Null Count  Dtype  \n",
            "---  ------           --------------  -----  \n",
            " 0   CreditScore      10000 non-null  int64  \n",
            " 1   Geography        10000 non-null  object \n",
            " 2   Gender           10000 non-null  object \n",
            " 3   Age              10000 non-null  int64  \n",
            " 4   Tenure           9091 non-null   float64\n",
            " 5   Balance          10000 non-null  float64\n",
            " 6   NumOfProducts    10000 non-null  int64  \n",
            " 7   HasCrCard        10000 non-null  int64  \n",
            " 8   IsActiveMember   10000 non-null  int64  \n",
            " 9   EstimatedSalary  10000 non-null  float64\n",
            " 10  Exited           10000 non-null  int64  \n",
            "dtypes: float64(3), int64(6), object(2)\n",
            "memory usage: 859.5+ KB\n"
          ]
        }
      ],
      "source": [
        "df.info()"
      ]
    },
    {
      "cell_type": "markdown",
      "metadata": {
        "id": "wAJq5LQ_TUZF"
      },
      "source": [
        "В таблице почти 1000 пропусков в столбце \"Tenure\". Учитывая тот факт, что данный показатель является достаточно важным при характеристике клиента банка, а так же тот факт, что других пропусков нет, предположу, что эти пропуски связаны с тем фактом, что клиенты сотрудничают с банком менее года. Заменим пропуски значением 0."
      ]
    },
    {
      "cell_type": "code",
      "execution_count": null,
      "metadata": {
        "id": "HcgOs_E6TUZF"
      },
      "outputs": [],
      "source": [
        "df['Tenure'] = df['Tenure'].fillna(0)"
      ]
    },
    {
      "cell_type": "markdown",
      "metadata": {
        "id": "6IMOs_bPTUZG"
      },
      "source": [
        "Кроме того, мы имеем два столбца с категоральными данными, которые следует перевести в числовые методом \"One-Hot Encoding\" (OHE)."
      ]
    },
    {
      "cell_type": "code",
      "execution_count": null,
      "metadata": {
        "id": "fnp7_tLuTUZG"
      },
      "outputs": [],
      "source": [
        "df_ohe = pd.get_dummies(df, drop_first=False) #Данных не очень много. Думаю нет смысла удалять первый столбец."
      ]
    },
    {
      "cell_type": "markdown",
      "metadata": {
        "id": "AipuRut-TUZG"
      },
      "source": [
        "И посмотрим."
      ]
    },
    {
      "cell_type": "code",
      "execution_count": null,
      "metadata": {
        "scrolled": false,
        "id": "Gk4l0DYFTUZH",
        "outputId": "a9c81644-a723-4ec5-d313-9978c86e6b24"
      },
      "outputs": [
        {
          "data": {
            "text/html": [
              "<div>\n",
              "<style scoped>\n",
              "    .dataframe tbody tr th:only-of-type {\n",
              "        vertical-align: middle;\n",
              "    }\n",
              "\n",
              "    .dataframe tbody tr th {\n",
              "        vertical-align: top;\n",
              "    }\n",
              "\n",
              "    .dataframe thead th {\n",
              "        text-align: right;\n",
              "    }\n",
              "</style>\n",
              "<table border=\"1\" class=\"dataframe\">\n",
              "  <thead>\n",
              "    <tr style=\"text-align: right;\">\n",
              "      <th></th>\n",
              "      <th>CreditScore</th>\n",
              "      <th>Age</th>\n",
              "      <th>Tenure</th>\n",
              "      <th>Balance</th>\n",
              "      <th>NumOfProducts</th>\n",
              "      <th>HasCrCard</th>\n",
              "      <th>IsActiveMember</th>\n",
              "      <th>EstimatedSalary</th>\n",
              "      <th>Exited</th>\n",
              "      <th>Geography_France</th>\n",
              "      <th>Geography_Germany</th>\n",
              "      <th>Geography_Spain</th>\n",
              "      <th>Gender_Female</th>\n",
              "      <th>Gender_Male</th>\n",
              "    </tr>\n",
              "  </thead>\n",
              "  <tbody>\n",
              "    <tr>\n",
              "      <th>0</th>\n",
              "      <td>619</td>\n",
              "      <td>42</td>\n",
              "      <td>2.0</td>\n",
              "      <td>0.00</td>\n",
              "      <td>1</td>\n",
              "      <td>1</td>\n",
              "      <td>1</td>\n",
              "      <td>101348.88</td>\n",
              "      <td>1</td>\n",
              "      <td>1</td>\n",
              "      <td>0</td>\n",
              "      <td>0</td>\n",
              "      <td>1</td>\n",
              "      <td>0</td>\n",
              "    </tr>\n",
              "    <tr>\n",
              "      <th>1</th>\n",
              "      <td>608</td>\n",
              "      <td>41</td>\n",
              "      <td>1.0</td>\n",
              "      <td>83807.86</td>\n",
              "      <td>1</td>\n",
              "      <td>0</td>\n",
              "      <td>1</td>\n",
              "      <td>112542.58</td>\n",
              "      <td>0</td>\n",
              "      <td>0</td>\n",
              "      <td>0</td>\n",
              "      <td>1</td>\n",
              "      <td>1</td>\n",
              "      <td>0</td>\n",
              "    </tr>\n",
              "    <tr>\n",
              "      <th>2</th>\n",
              "      <td>502</td>\n",
              "      <td>42</td>\n",
              "      <td>8.0</td>\n",
              "      <td>159660.80</td>\n",
              "      <td>3</td>\n",
              "      <td>1</td>\n",
              "      <td>0</td>\n",
              "      <td>113931.57</td>\n",
              "      <td>1</td>\n",
              "      <td>1</td>\n",
              "      <td>0</td>\n",
              "      <td>0</td>\n",
              "      <td>1</td>\n",
              "      <td>0</td>\n",
              "    </tr>\n",
              "    <tr>\n",
              "      <th>3</th>\n",
              "      <td>699</td>\n",
              "      <td>39</td>\n",
              "      <td>1.0</td>\n",
              "      <td>0.00</td>\n",
              "      <td>2</td>\n",
              "      <td>0</td>\n",
              "      <td>0</td>\n",
              "      <td>93826.63</td>\n",
              "      <td>0</td>\n",
              "      <td>1</td>\n",
              "      <td>0</td>\n",
              "      <td>0</td>\n",
              "      <td>1</td>\n",
              "      <td>0</td>\n",
              "    </tr>\n",
              "    <tr>\n",
              "      <th>4</th>\n",
              "      <td>850</td>\n",
              "      <td>43</td>\n",
              "      <td>2.0</td>\n",
              "      <td>125510.82</td>\n",
              "      <td>1</td>\n",
              "      <td>1</td>\n",
              "      <td>1</td>\n",
              "      <td>79084.10</td>\n",
              "      <td>0</td>\n",
              "      <td>0</td>\n",
              "      <td>0</td>\n",
              "      <td>1</td>\n",
              "      <td>1</td>\n",
              "      <td>0</td>\n",
              "    </tr>\n",
              "    <tr>\n",
              "      <th>...</th>\n",
              "      <td>...</td>\n",
              "      <td>...</td>\n",
              "      <td>...</td>\n",
              "      <td>...</td>\n",
              "      <td>...</td>\n",
              "      <td>...</td>\n",
              "      <td>...</td>\n",
              "      <td>...</td>\n",
              "      <td>...</td>\n",
              "      <td>...</td>\n",
              "      <td>...</td>\n",
              "      <td>...</td>\n",
              "      <td>...</td>\n",
              "      <td>...</td>\n",
              "    </tr>\n",
              "    <tr>\n",
              "      <th>9995</th>\n",
              "      <td>771</td>\n",
              "      <td>39</td>\n",
              "      <td>5.0</td>\n",
              "      <td>0.00</td>\n",
              "      <td>2</td>\n",
              "      <td>1</td>\n",
              "      <td>0</td>\n",
              "      <td>96270.64</td>\n",
              "      <td>0</td>\n",
              "      <td>1</td>\n",
              "      <td>0</td>\n",
              "      <td>0</td>\n",
              "      <td>0</td>\n",
              "      <td>1</td>\n",
              "    </tr>\n",
              "    <tr>\n",
              "      <th>9996</th>\n",
              "      <td>516</td>\n",
              "      <td>35</td>\n",
              "      <td>10.0</td>\n",
              "      <td>57369.61</td>\n",
              "      <td>1</td>\n",
              "      <td>1</td>\n",
              "      <td>1</td>\n",
              "      <td>101699.77</td>\n",
              "      <td>0</td>\n",
              "      <td>1</td>\n",
              "      <td>0</td>\n",
              "      <td>0</td>\n",
              "      <td>0</td>\n",
              "      <td>1</td>\n",
              "    </tr>\n",
              "    <tr>\n",
              "      <th>9997</th>\n",
              "      <td>709</td>\n",
              "      <td>36</td>\n",
              "      <td>7.0</td>\n",
              "      <td>0.00</td>\n",
              "      <td>1</td>\n",
              "      <td>0</td>\n",
              "      <td>1</td>\n",
              "      <td>42085.58</td>\n",
              "      <td>1</td>\n",
              "      <td>1</td>\n",
              "      <td>0</td>\n",
              "      <td>0</td>\n",
              "      <td>1</td>\n",
              "      <td>0</td>\n",
              "    </tr>\n",
              "    <tr>\n",
              "      <th>9998</th>\n",
              "      <td>772</td>\n",
              "      <td>42</td>\n",
              "      <td>3.0</td>\n",
              "      <td>75075.31</td>\n",
              "      <td>2</td>\n",
              "      <td>1</td>\n",
              "      <td>0</td>\n",
              "      <td>92888.52</td>\n",
              "      <td>1</td>\n",
              "      <td>0</td>\n",
              "      <td>1</td>\n",
              "      <td>0</td>\n",
              "      <td>0</td>\n",
              "      <td>1</td>\n",
              "    </tr>\n",
              "    <tr>\n",
              "      <th>9999</th>\n",
              "      <td>792</td>\n",
              "      <td>28</td>\n",
              "      <td>0.0</td>\n",
              "      <td>130142.79</td>\n",
              "      <td>1</td>\n",
              "      <td>1</td>\n",
              "      <td>0</td>\n",
              "      <td>38190.78</td>\n",
              "      <td>0</td>\n",
              "      <td>1</td>\n",
              "      <td>0</td>\n",
              "      <td>0</td>\n",
              "      <td>1</td>\n",
              "      <td>0</td>\n",
              "    </tr>\n",
              "  </tbody>\n",
              "</table>\n",
              "<p>10000 rows × 14 columns</p>\n",
              "</div>"
            ],
            "text/plain": [
              "      CreditScore  Age  Tenure    Balance  NumOfProducts  HasCrCard  \\\n",
              "0             619   42     2.0       0.00              1          1   \n",
              "1             608   41     1.0   83807.86              1          0   \n",
              "2             502   42     8.0  159660.80              3          1   \n",
              "3             699   39     1.0       0.00              2          0   \n",
              "4             850   43     2.0  125510.82              1          1   \n",
              "...           ...  ...     ...        ...            ...        ...   \n",
              "9995          771   39     5.0       0.00              2          1   \n",
              "9996          516   35    10.0   57369.61              1          1   \n",
              "9997          709   36     7.0       0.00              1          0   \n",
              "9998          772   42     3.0   75075.31              2          1   \n",
              "9999          792   28     0.0  130142.79              1          1   \n",
              "\n",
              "      IsActiveMember  EstimatedSalary  Exited  Geography_France  \\\n",
              "0                  1        101348.88       1                 1   \n",
              "1                  1        112542.58       0                 0   \n",
              "2                  0        113931.57       1                 1   \n",
              "3                  0         93826.63       0                 1   \n",
              "4                  1         79084.10       0                 0   \n",
              "...              ...              ...     ...               ...   \n",
              "9995               0         96270.64       0                 1   \n",
              "9996               1        101699.77       0                 1   \n",
              "9997               1         42085.58       1                 1   \n",
              "9998               0         92888.52       1                 0   \n",
              "9999               0         38190.78       0                 1   \n",
              "\n",
              "      Geography_Germany  Geography_Spain  Gender_Female  Gender_Male  \n",
              "0                     0                0              1            0  \n",
              "1                     0                1              1            0  \n",
              "2                     0                0              1            0  \n",
              "3                     0                0              1            0  \n",
              "4                     0                1              1            0  \n",
              "...                 ...              ...            ...          ...  \n",
              "9995                  0                0              0            1  \n",
              "9996                  0                0              0            1  \n",
              "9997                  0                0              1            0  \n",
              "9998                  1                0              0            1  \n",
              "9999                  0                0              1            0  \n",
              "\n",
              "[10000 rows x 14 columns]"
            ]
          },
          "execution_count": 7,
          "metadata": {},
          "output_type": "execute_result"
        }
      ],
      "source": [
        "df_ohe"
      ]
    },
    {
      "cell_type": "markdown",
      "metadata": {
        "id": "3etDnl8ZTUZH"
      },
      "source": [
        "Можно переходить к исследованию задачи."
      ]
    },
    {
      "cell_type": "markdown",
      "metadata": {
        "id": "QVyC0DFkTUZH"
      },
      "source": [
        "## Исследование задачи"
      ]
    },
    {
      "cell_type": "markdown",
      "metadata": {
        "id": "RYxxLrPCTUZI"
      },
      "source": [
        "Разделим выборку методом train_test_split."
      ]
    },
    {
      "cell_type": "markdown",
      "metadata": {
        "id": "EZe52YLNTUZK"
      },
      "source": [
        "Сначала отделим тестовую выборку от общего датасета в размере 20%"
      ]
    },
    {
      "cell_type": "code",
      "execution_count": null,
      "metadata": {
        "id": "NK0N3gIeTUZL"
      },
      "outputs": [],
      "source": [
        "df_train, df_test = train_test_split(df_ohe, test_size=0.20, random_state=12345)"
      ]
    },
    {
      "cell_type": "markdown",
      "metadata": {
        "id": "fC6xWQc7TUZL"
      },
      "source": [
        "От 10 тысяч строк 20% будет 2000 строк - тестовая выборка.\n",
        "\n",
        "Затем отделим от тренировочной (оставшиеся 8000) 25% для валидационной выборки, что так же составит 2000 строк.\n",
        "\n",
        "Таким образом получим соотношение 3:1:1"
      ]
    },
    {
      "cell_type": "code",
      "execution_count": null,
      "metadata": {
        "id": "WXNAW464TUZM"
      },
      "outputs": [],
      "source": [
        "target = df_train['Exited']\n",
        "features = df_train.drop('Exited', axis=1)\n",
        "features_train, features_valid, target_train, target_valid = train_test_split(features, target, test_size=0.25, random_state=12345)"
      ]
    },
    {
      "cell_type": "markdown",
      "metadata": {
        "id": "aKO8lFacTUZI"
      },
      "source": [
        "Подберем лучшую модель."
      ]
    },
    {
      "cell_type": "markdown",
      "metadata": {
        "id": "-Tr1RsfHTUZM"
      },
      "source": [
        "### Решающее дерево"
      ]
    },
    {
      "cell_type": "markdown",
      "metadata": {
        "id": "GqFA5zrITUZN"
      },
      "source": [
        "Обучим решающее дерево на тренировачном фрейме и посмотрим его аккуратность меняя уровень глубины дерева от 1 до 15"
      ]
    },
    {
      "cell_type": "code",
      "execution_count": null,
      "metadata": {
        "id": "2LJRp8QrTUZN",
        "outputId": "70cd8d15-30ee-4f1a-f9de-694b5120798f"
      },
      "outputs": [
        {
          "name": "stdout",
          "output_type": "stream",
          "text": [
            "max_depth = 1 : 0.8045\n",
            "max_depth = 2 : 0.8325\n",
            "max_depth = 3 : 0.843\n",
            "max_depth = 4 : 0.85\n",
            "max_depth = 5 : 0.855\n",
            "max_depth = 6 : 0.857\n",
            "max_depth = 7 : 0.8575\n",
            "max_depth = 8 : 0.849\n",
            "max_depth = 9 : 0.842\n",
            "max_depth = 10 : 0.8395\n",
            "max_depth = 11 : 0.8275\n",
            "max_depth = 12 : 0.824\n",
            "max_depth = 13 : 0.812\n",
            "max_depth = 14 : 0.8155\n",
            "max_depth = 15 : 0.8115\n"
          ]
        }
      ],
      "source": [
        "for depth in range(1,16): \n",
        "    model = DecisionTreeClassifier(random_state=12345, max_depth=depth)\n",
        "    model.fit(features_train, target_train)\n",
        "    predictions_valid = model.predict(features_valid)\n",
        "    print(\"max_depth =\", depth, \": \", end='')\n",
        "    print(accuracy_score(target_valid, predictions_valid)) \n"
      ]
    },
    {
      "cell_type": "markdown",
      "metadata": {
        "id": "XCYtb1IMTUZO"
      },
      "source": [
        "За лучший вариант возьмем модель с глубиной дерева - 7."
      ]
    },
    {
      "cell_type": "markdown",
      "metadata": {
        "id": "mSIPNEuBTUZO"
      },
      "source": [
        "Попробуем найти F-1 меру, так как по условиям задачи, нам необходимо довести эту меру до показателя не менее 0,59."
      ]
    },
    {
      "cell_type": "code",
      "execution_count": null,
      "metadata": {
        "id": "egXxk_jrTUZO",
        "outputId": "cbcc5da8-134d-43fb-849a-032116ed008e"
      },
      "outputs": [
        {
          "name": "stdout",
          "output_type": "stream",
          "text": [
            "0.5511811023622046\n"
          ]
        }
      ],
      "source": [
        "model = DecisionTreeClassifier(max_depth = 7, random_state=12345)\n",
        "model.fit(features_train, target_train)\n",
        "predicted_valid = model.predict(features_valid)\n",
        "\n",
        "print(f1_score(target_valid, predicted_valid))"
      ]
    },
    {
      "cell_type": "markdown",
      "metadata": {
        "id": "CyYNSM8DTUZP"
      },
      "source": [
        "0,55 меньше чем необходимо."
      ]
    },
    {
      "cell_type": "markdown",
      "metadata": {
        "id": "VClWUO2lTUZP"
      },
      "source": [
        "Чтобы выявить, как сильно полученная модель отличается от случайной, найдем значение AUC-ROC."
      ]
    },
    {
      "cell_type": "code",
      "execution_count": null,
      "metadata": {
        "scrolled": true,
        "id": "jZLQxlExTUZQ",
        "outputId": "8d5bcbcf-9b64-448d-f936-9675c55cab2f"
      },
      "outputs": [
        {
          "name": "stdout",
          "output_type": "stream",
          "text": [
            "0.8300933527679184\n"
          ]
        }
      ],
      "source": [
        "probabilities_valid = model.predict_proba(features_valid)\n",
        "probabilities_one_valid = probabilities_valid[:, 1]\n",
        "auc_roc = roc_auc_score(target_valid, probabilities_one_valid)\n",
        "print(auc_roc)"
      ]
    },
    {
      "cell_type": "markdown",
      "metadata": {
        "id": "TwBK7jU8TUZQ"
      },
      "source": [
        "Показатель AUC-ROC превышает показатели константной модели соответствующей 0,5. Модель работает корректно."
      ]
    },
    {
      "cell_type": "markdown",
      "metadata": {
        "id": "2KLcWKcnTUZQ"
      },
      "source": [
        "### Случайный лес"
      ]
    },
    {
      "cell_type": "markdown",
      "metadata": {
        "id": "9JkdzVMOTUZR"
      },
      "source": [
        "Попробуем обучить модель используя 'случайный лес' с числом деревьев до 15."
      ]
    },
    {
      "cell_type": "code",
      "execution_count": null,
      "metadata": {
        "id": "kE26MvL3TUZR",
        "outputId": "082be0b5-7827-43a2-f825-bd52c04fe756"
      },
      "outputs": [
        {
          "name": "stdout",
          "output_type": "stream",
          "text": [
            "Accuracy наилучшей модели на валидационной выборке: 0.8505\n",
            "Лучшая модель на валидационной выборке: RandomForestClassifier(n_estimators=14, random_state=12345)\n"
          ]
        }
      ],
      "source": [
        "best_model = None\n",
        "best_result = 0\n",
        "for est in range(1, 16):\n",
        "    model = RandomForestClassifier(random_state=12345, n_estimators=est) \n",
        "    model.fit(features_train, target_train) \n",
        "    result = model.score(features_valid, target_valid) \n",
        "    if result > best_result:\n",
        "        best_model = model\n",
        "        best_result = result \n",
        "\n",
        "print(\"Accuracy наилучшей модели на валидационной выборке:\", best_result)\n",
        "print(\"Лучшая модель на валидационной выборке:\", best_model)"
      ]
    },
    {
      "cell_type": "markdown",
      "metadata": {
        "id": "Gsw0i-koTUZR"
      },
      "source": [
        "Метрика Accuracy чуть ниже чем у решающего древа."
      ]
    },
    {
      "cell_type": "markdown",
      "metadata": {
        "id": "wTWgjnppTUZS"
      },
      "source": [
        "Определим меру f-1."
      ]
    },
    {
      "cell_type": "code",
      "execution_count": null,
      "metadata": {
        "id": "pF6aiZhGTUZS",
        "outputId": "9c598532-32b4-48c9-d10d-19fc1cece149"
      },
      "outputs": [
        {
          "name": "stdout",
          "output_type": "stream",
          "text": [
            "0.5331278890600923\n"
          ]
        }
      ],
      "source": [
        "model = RandomForestClassifier(n_estimators=15, random_state=12345)\n",
        "model.fit(features_train, target_train)\n",
        "predicted_valid = model.predict(features_valid)\n",
        "\n",
        "print(f1_score(target_valid, predicted_valid))"
      ]
    },
    {
      "cell_type": "markdown",
      "metadata": {
        "id": "AefmJcgqTUZT"
      },
      "source": [
        "Мера f-1 выше чем у решающего древа, однако, не дотягивает до необходимой величины."
      ]
    },
    {
      "cell_type": "markdown",
      "metadata": {
        "id": "bH8WZvtPTUZT"
      },
      "source": [
        "AUC-ROC."
      ]
    },
    {
      "cell_type": "code",
      "execution_count": null,
      "metadata": {
        "id": "f8zwQItJTUZT",
        "outputId": "3e014a25-f53d-4b86-b0be-4a3e488ccd6e"
      },
      "outputs": [
        {
          "name": "stdout",
          "output_type": "stream",
          "text": [
            "0.8145986689322688\n"
          ]
        }
      ],
      "source": [
        "probabilities_valid = model.predict_proba(features_valid)\n",
        "probabilities_one_valid = probabilities_valid[:, 1]\n",
        "auc_roc = roc_auc_score(target_valid, probabilities_one_valid)\n",
        "print(auc_roc)"
      ]
    },
    {
      "cell_type": "markdown",
      "metadata": {
        "id": "-JRp7_u5TUZU"
      },
      "source": [
        "Показатель AUC-ROC превышает показатели константной модели соответствующей 0,5. Модель работает корректно."
      ]
    },
    {
      "cell_type": "markdown",
      "metadata": {
        "id": "UVXw6sHaTUZV"
      },
      "source": [
        "### Логистическая регрессия"
      ]
    },
    {
      "cell_type": "markdown",
      "metadata": {
        "id": "SuDGDNH3TUZW"
      },
      "source": [
        "Обучим модель использую логистическую регрессию. Возьмем базовый алгоритм 'lbfgs', а колличество итераций обучения - 1000."
      ]
    },
    {
      "cell_type": "code",
      "execution_count": null,
      "metadata": {
        "id": "JytohsMOTUZW",
        "outputId": "eb3f69b2-aa78-4238-a1f9-3832e8547b59"
      },
      "outputs": [
        {
          "name": "stdout",
          "output_type": "stream",
          "text": [
            "Accuracy модели на валидационной выборке: 0.7995\n"
          ]
        }
      ],
      "source": [
        "model = LogisticRegression(random_state=12345, solver='lbfgs', max_iter=1000) \n",
        "model.fit(features_train, target_train) \n",
        "predictions = model.predict(features_valid)\n",
        "print(\"Accuracy модели на валидационной выборке:\", model.score(features_valid, target_valid))"
      ]
    },
    {
      "cell_type": "markdown",
      "metadata": {
        "id": "IIOvqdSpTUZX"
      },
      "source": [
        "f1 мера."
      ]
    },
    {
      "cell_type": "code",
      "execution_count": null,
      "metadata": {
        "id": "O3q17xScTUZY",
        "outputId": "b5b9be56-33a2-4354-dacd-cced960e13c0"
      },
      "outputs": [
        {
          "name": "stdout",
          "output_type": "stream",
          "text": [
            "0.10290827740492169\n"
          ]
        }
      ],
      "source": [
        "model = LogisticRegression(random_state=12345, solver='lbfgs', max_iter=1000) \n",
        "model.fit(features_train, target_train)\n",
        "predicted_valid = model.predict(features_valid)\n",
        "\n",
        "print(f1_score(target_valid, predicted_valid))"
      ]
    },
    {
      "cell_type": "markdown",
      "metadata": {
        "id": "xRB3LyhHTUZY"
      },
      "source": [
        "Видимо где-то ошибся. Не верю, что f-1 может быть настолько низким"
      ]
    },
    {
      "cell_type": "markdown",
      "metadata": {
        "id": "KPKTjE6YTUZZ"
      },
      "source": [
        "AUC-ROC."
      ]
    },
    {
      "cell_type": "code",
      "execution_count": null,
      "metadata": {
        "id": "i-DgdgDeTUZZ",
        "outputId": "18968935-5fbb-43aa-932d-b7f8fc451eff"
      },
      "outputs": [
        {
          "name": "stdout",
          "output_type": "stream",
          "text": [
            "0.6811032570944447\n"
          ]
        }
      ],
      "source": [
        "probabilities_valid = model.predict_proba(features_valid)\n",
        "probabilities_one_valid = probabilities_valid[:, 1]\n",
        "auc_roc = roc_auc_score(target_valid, probabilities_one_valid)\n",
        "print(auc_roc)"
      ]
    },
    {
      "cell_type": "markdown",
      "metadata": {
        "id": "eZmfCriyTUZa"
      },
      "source": [
        "Показатель AUC-ROC превышает показатели константной модели соответствующей 0,5. Модель работает корректно."
      ]
    },
    {
      "cell_type": "markdown",
      "metadata": {
        "id": "wG9PYDiWTUZa"
      },
      "source": [
        "## Борьба с дисбалансом"
      ]
    },
    {
      "cell_type": "markdown",
      "metadata": {
        "id": "YkZSffRhTUZb"
      },
      "source": [
        "Судя по исходному датафрейму, столбцы с числовыми значениями (такие как \"Age\", \"Balance\", \"EstimatedSalary\") могут иметь дисбаланс классов."
      ]
    },
    {
      "cell_type": "code",
      "execution_count": null,
      "metadata": {
        "id": "bulIpANBTUZb",
        "outputId": "741a7ab9-f0de-4c55-fcb9-3ca32ee0ca0d"
      },
      "outputs": [
        {
          "data": {
            "text/plain": [
              "38    407\n",
              "35    385\n",
              "37    378\n",
              "36    359\n",
              "34    356\n",
              "     ... \n",
              "82      1\n",
              "85      1\n",
              "92      1\n",
              "88      1\n",
              "80      1\n",
              "Name: Age, Length: 69, dtype: int64"
            ]
          },
          "metadata": {},
          "output_type": "display_data"
        },
        {
          "data": {
            "text/plain": [
              "<AxesSubplot:>"
            ]
          },
          "execution_count": 21,
          "metadata": {},
          "output_type": "execute_result"
        },
        {
          "data": {
            "image/png": "[encoded data removed]",
            "text/plain": [
              "<Figure size 432x288 with 1 Axes>"
            ]
          },
          "metadata": {
            "needs_background": "light"
          },
          "output_type": "display_data"
        }
      ],
      "source": [
        "display(features['Age'].value_counts())\n",
        "features['Age'].hist()\n"
      ]
    },
    {
      "cell_type": "markdown",
      "metadata": {
        "id": "F1MuV3lnTUZb"
      },
      "source": [
        "Логично, большая часть клиентов имеет возраст от25 до 45 лет, в то время как клиенты старше 70 лет встречаются крайне редко."
      ]
    },
    {
      "cell_type": "code",
      "execution_count": null,
      "metadata": {
        "scrolled": false,
        "id": "Dr_ifCMhTUZc",
        "outputId": "d4fa7b4e-b7d6-4fb2-d61e-e94c4993b45b"
      },
      "outputs": [
        {
          "data": {
            "text/plain": [
              "0.00         2911\n",
              "105473.74       2\n",
              "115115.38       1\n",
              "130181.47       1\n",
              "165969.26       1\n",
              "             ... \n",
              "145081.73       1\n",
              "125724.95       1\n",
              "117866.92       1\n",
              "131736.88       1\n",
              "206014.94       1\n",
              "Name: Balance, Length: 5089, dtype: int64"
            ]
          },
          "metadata": {},
          "output_type": "display_data"
        },
        {
          "data": {
            "text/plain": [
              "<AxesSubplot:>"
            ]
          },
          "execution_count": 22,
          "metadata": {},
          "output_type": "execute_result"
        },
        {
          "data": {
            "image/png": "[encoded data removed]",
            "text/plain": [
              "<Figure size 432x288 with 1 Axes>"
            ]
          },
          "metadata": {
            "needs_background": "light"
          },
          "output_type": "display_data"
        }
      ],
      "source": [
        "display(features['Balance'].value_counts())\n",
        "features['Balance'].hist()"
      ]
    },
    {
      "cell_type": "markdown",
      "metadata": {
        "id": "J4zdFgakTUZc"
      },
      "source": [
        "Здесь так же значительный дисбаланс, так как около трех тысяч клиентов практически не имеют никаких сбережений на счетах банка."
      ]
    },
    {
      "cell_type": "code",
      "execution_count": null,
      "metadata": {
        "id": "nxyPEyUbTUZc",
        "outputId": "69f2b231-d624-4229-de6d-f1d9a3df3af3"
      },
      "outputs": [
        {
          "data": {
            "text/plain": [
              "109145.20    1\n",
              "79580.56     1\n",
              "170705.53    1\n",
              "172149.76    1\n",
              "188809.23    1\n",
              "            ..\n",
              "91957.39     1\n",
              "69056.26     1\n",
              "158610.89    1\n",
              "150757.35    1\n",
              "155061.97    1\n",
              "Name: EstimatedSalary, Length: 8000, dtype: int64"
            ]
          },
          "metadata": {},
          "output_type": "display_data"
        },
        {
          "data": {
            "text/plain": [
              "<AxesSubplot:>"
            ]
          },
          "execution_count": 23,
          "metadata": {},
          "output_type": "execute_result"
        },
        {
          "data": {
            "image/png": "[encoded data removed]",
            "text/plain": [
              "<Figure size 432x288 with 1 Axes>"
            ]
          },
          "metadata": {
            "needs_background": "light"
          },
          "output_type": "display_data"
        }
      ],
      "source": [
        "display(features['EstimatedSalary'].value_counts())\n",
        "features['EstimatedSalary'].hist()"
      ]
    },
    {
      "cell_type": "markdown",
      "metadata": {
        "id": "vxybhgLnTUZc"
      },
      "source": [
        "С зарплатой я ошибся, так как классы здесь сбалансированы."
      ]
    },
    {
      "cell_type": "markdown",
      "metadata": {
        "id": "IRWXxFvvTUZd"
      },
      "source": [
        "Придадим объектам редкого класса больший вес.\n"
      ]
    },
    {
      "cell_type": "markdown",
      "metadata": {
        "id": "VpZprS8rTUZd"
      },
      "source": [
        "Добавим в каждую из моделей аргумент class_weight и посмотрим как изменится мера f-1."
      ]
    },
    {
      "cell_type": "markdown",
      "metadata": {
        "id": "SC6ILapCTUZd"
      },
      "source": [
        "### Решающее дерево."
      ]
    },
    {
      "cell_type": "code",
      "execution_count": null,
      "metadata": {
        "scrolled": true,
        "id": "nZX-dOxWTUZf",
        "outputId": "8357f8a7-db8d-43de-8c89-a209e5c1ef15"
      },
      "outputs": [
        {
          "name": "stdout",
          "output_type": "stream",
          "text": [
            "max_depth = 1 : F1 balanced: 0.4750733137829912\n",
            "max_depth = 2 : F1 balanced: 0.49761677788369874\n",
            "max_depth = 3 : F1 balanced: 0.49761677788369874\n",
            "max_depth = 4 : F1 balanced: 0.5170454545454546\n",
            "max_depth = 5 : F1 balanced: 0.5489078822412156\n",
            "max_depth = 6 : F1 balanced: 0.5571428571428572\n",
            "max_depth = 7 : F1 balanced: 0.5549845837615621\n",
            "max_depth = 8 : F1 balanced: 0.5488958990536278\n",
            "max_depth = 9 : F1 balanced: 0.5266331658291458\n",
            "max_depth = 10 : F1 balanced: 0.5050301810865191\n",
            "max_depth = 11 : F1 balanced: 0.5077605321507761\n",
            "max_depth = 12 : F1 balanced: 0.49723756906077354\n",
            "max_depth = 13 : F1 balanced: 0.4965197215777262\n",
            "max_depth = 14 : F1 balanced: 0.4861111111111111\n",
            "max_depth = 15 : F1 balanced: 0.47757575757575754\n",
            "max_depth = 16 : F1 balanced: 0.47250000000000003\n",
            "max_depth = 17 : F1 balanced: 0.47655259822560203\n",
            "max_depth = 18 : F1 balanced: 0.47483870967741937\n",
            "max_depth = 19 : F1 balanced: 0.4660691421254802\n"
          ]
        }
      ],
      "source": [
        "for depth in range(1,20): \n",
        "    model = DecisionTreeClassifier(random_state=12345, max_depth=depth, class_weight='balanced')\n",
        "    model.fit(features_train, target_train)\n",
        "    predicted_valid = model.predict(features_valid)\n",
        "    print(\"max_depth =\", depth, \": \", end='')\n",
        "    print(\"F1 balanced:\", f1_score(target_valid, predicted_valid))\n"
      ]
    },
    {
      "cell_type": "markdown",
      "metadata": {
        "id": "EQ3IYAZgTUZg"
      },
      "source": [
        "Лучший результат при глубине - 6. Хотя Accuracy показатель снизился по сравнению с несбалансированной моделью."
      ]
    },
    {
      "cell_type": "markdown",
      "metadata": {
        "id": "rMF6XuvpTUZg"
      },
      "source": [
        "Перепроверим f-1 меру"
      ]
    },
    {
      "cell_type": "code",
      "execution_count": null,
      "metadata": {
        "id": "68eXEsBOTUZg",
        "outputId": "efb985cf-4253-4e78-f83d-8579e53df7c0"
      },
      "outputs": [
        {
          "name": "stdout",
          "output_type": "stream",
          "text": [
            "0.5571428571428572\n"
          ]
        }
      ],
      "source": [
        "model = DecisionTreeClassifier(max_depth = 6, random_state=12345, class_weight='balanced')\n",
        "model.fit(features_train, target_train)\n",
        "predicted_valid = model.predict(features_valid)\n",
        "\n",
        "print(f1_score(target_valid, predicted_valid))"
      ]
    },
    {
      "cell_type": "markdown",
      "metadata": {
        "id": "Bq-veM-rTUZh"
      },
      "source": [
        "\n",
        "Желаемого результата нет."
      ]
    },
    {
      "cell_type": "markdown",
      "metadata": {
        "id": "AofbsxnATUZh"
      },
      "source": [
        "Попробуем увеличить выборку с количеством повторений."
      ]
    },
    {
      "cell_type": "markdown",
      "metadata": {
        "id": "VqjwdZ7UTUZh"
      },
      "source": [
        "Посмотрим матрицу ошибок, чтобы сравнить количество положительных и отрицательных решений."
      ]
    },
    {
      "cell_type": "code",
      "execution_count": null,
      "metadata": {
        "id": "mGbKOzUlTUZi",
        "outputId": "d0e7d105-858e-4610-bca1-7c59a41933f0"
      },
      "outputs": [
        {
          "name": "stdout",
          "output_type": "stream",
          "text": [
            "[[1293  316]\n",
            " [ 118  273]]\n"
          ]
        }
      ],
      "source": [
        "print(confusion_matrix(target_valid, predicted_valid))"
      ]
    },
    {
      "cell_type": "markdown",
      "metadata": {
        "id": "urqUbemfTUZi"
      },
      "source": [
        "Отрицательных больше примерно в 4 раза. Исходя из этого увеличим долю положительных ответов в выборке."
      ]
    },
    {
      "cell_type": "code",
      "execution_count": null,
      "metadata": {
        "scrolled": true,
        "id": "ADm_jGHoTUZi",
        "outputId": "2f4b0ad7-694d-4e52-c20c-50d2f3d98044"
      },
      "outputs": [
        {
          "name": "stdout",
          "output_type": "stream",
          "text": [
            "max_depth = 1 : F1 balanced: 0.4750733137829912\n",
            "max_depth = 2 : F1 balanced: 0.49761677788369874\n",
            "max_depth = 3 : F1 balanced: 0.49761677788369874\n",
            "max_depth = 4 : F1 balanced: 0.5170454545454546\n",
            "max_depth = 5 : F1 balanced: 0.5489078822412156\n",
            "max_depth = 6 : F1 balanced: 0.5571428571428572\n",
            "max_depth = 7 : F1 balanced: 0.5564681724845996\n",
            "max_depth = 8 : F1 balanced: 0.547945205479452\n",
            "max_depth = 9 : F1 balanced: 0.5241935483870969\n",
            "max_depth = 10 : F1 balanced: 0.5025227043390514\n",
            "max_depth = 11 : F1 balanced: 0.5060240963855421\n",
            "max_depth = 12 : F1 balanced: 0.49504950495049516\n",
            "max_depth = 13 : F1 balanced: 0.49766355140186913\n",
            "max_depth = 14 : F1 balanced: 0.4749708963911525\n",
            "max_depth = 15 : F1 balanced: 0.4829268292682927\n",
            "max_depth = 16 : F1 balanced: 0.48180677540777916\n",
            "max_depth = 17 : F1 balanced: 0.48662420382165605\n",
            "max_depth = 18 : F1 balanced: 0.458974358974359\n",
            "max_depth = 19 : F1 balanced: 0.4675324675324675\n"
          ]
        }
      ],
      "source": [
        "def upsample(features, target, repeat):\n",
        "    features_zeros = features[target == 0]\n",
        "    features_ones = features[target == 1]\n",
        "    target_zeros = target[target == 0]\n",
        "    target_ones = target[target == 1]\n",
        "\n",
        "    features_upsampled = pd.concat([features_zeros] + [features_ones] * repeat)\n",
        "    target_upsampled = pd.concat([target_zeros] + [target_ones] * repeat)\n",
        "    \n",
        "    features_upsampled, target_upsampled = shuffle(\n",
        "        features_upsampled, target_upsampled, random_state=12345)\n",
        "    \n",
        "    return features_upsampled, target_upsampled\n",
        "\n",
        "features_upsampled, target_upsampled = upsample(features_train, target_train, 4)\n",
        "\n",
        "for depth in range(1,20): \n",
        "    model = DecisionTreeClassifier(random_state=12345, max_depth=depth, class_weight='balanced')\n",
        "    model.fit(features_upsampled, target_upsampled)\n",
        "    predicted_valid = model.predict(features_valid)\n",
        "    print(\"max_depth =\", depth, \": \", end='')\n",
        "    print(\"F1 balanced:\", f1_score(target_valid, predicted_valid)) \n",
        "#model = DecisionTreeClassifier(random_state=12345)\n",
        "#model.fit(features_upsampled, target_upsampled)\n",
        "#predicted_valid = model.predict(features_valid)\n",
        "\n",
        "#print(\"F1:\", f1_score(target_valid, predicted_valid))"
      ]
    },
    {
      "cell_type": "markdown",
      "metadata": {
        "id": "Ec6XgXDMTUZi"
      },
      "source": [
        "Перепроверим."
      ]
    },
    {
      "cell_type": "code",
      "execution_count": null,
      "metadata": {
        "id": "eWPFsqJ9TUZj",
        "outputId": "bf2134bf-9069-4b82-8f91-7e4f68ed4fd1"
      },
      "outputs": [
        {
          "name": "stdout",
          "output_type": "stream",
          "text": [
            "F1 balanced: 0.5571428571428572\n"
          ]
        }
      ],
      "source": [
        "model = DecisionTreeClassifier(max_depth = 6, random_state=12345, class_weight='balanced')\n",
        "model.fit(features_upsampled, target_upsampled)\n",
        "predicted_valid = model.predict(features_valid)\n",
        "\n",
        "print(\"F1 balanced:\", f1_score(target_valid, predicted_valid))"
      ]
    },
    {
      "cell_type": "markdown",
      "metadata": {
        "id": "dPJfwGGETUZj"
      },
      "source": [
        "Результата нет."
      ]
    },
    {
      "cell_type": "markdown",
      "metadata": {
        "id": "q89CwAZ1TUZj"
      },
      "source": [
        "Теперь уменьшим."
      ]
    },
    {
      "cell_type": "code",
      "execution_count": null,
      "metadata": {
        "scrolled": true,
        "id": "ETVhrIpuTUZk",
        "outputId": "e8313982-fb38-4bf9-c100-25d2dc3b6ed9"
      },
      "outputs": [
        {
          "name": "stdout",
          "output_type": "stream",
          "text": [
            "max_depth = 1 : F1 balanced: 0.4750733137829912\n",
            "max_depth = 2 : F1 balanced: 0.49761677788369874\n",
            "max_depth = 3 : F1 balanced: 0.5118376550169109\n",
            "max_depth = 4 : F1 balanced: 0.49569377990430613\n",
            "max_depth = 5 : F1 balanced: 0.5327659574468085\n",
            "max_depth = 6 : F1 balanced: 0.5405405405405406\n",
            "max_depth = 7 : F1 balanced: 0.544776119402985\n",
            "max_depth = 8 : F1 balanced: 0.5136921624173748\n",
            "max_depth = 9 : F1 balanced: 0.502835538752363\n",
            "max_depth = 10 : F1 balanced: 0.48847926267281105\n",
            "max_depth = 11 : F1 balanced: 0.4894837476099426\n",
            "max_depth = 12 : F1 balanced: 0.4822565969062785\n",
            "max_depth = 13 : F1 balanced: 0.4921369102682702\n",
            "max_depth = 14 : F1 balanced: 0.4910714285714286\n",
            "max_depth = 15 : F1 balanced: 0.47907390917186116\n",
            "max_depth = 16 : F1 balanced: 0.4884547069271759\n",
            "max_depth = 17 : F1 balanced: 0.4767747589833479\n",
            "max_depth = 18 : F1 balanced: 0.4750219106047327\n",
            "max_depth = 19 : F1 balanced: 0.4828193832599119\n"
          ]
        }
      ],
      "source": [
        "def downsample(features, target, fraction):\n",
        "    features_zeros = features[target == 0]\n",
        "    features_ones = features[target == 1]\n",
        "    target_zeros = target[target == 0]\n",
        "    target_ones = target[target == 1]\n",
        "\n",
        "    features_downsampled = pd.concat(\n",
        "        [features_zeros.sample(frac=fraction, random_state=12345)] + [features_ones])\n",
        "    target_downsampled = pd.concat(\n",
        "        [target_zeros.sample(frac=fraction, random_state=12345)] + [target_ones])\n",
        "    \n",
        "    features_downsampled, target_downsampled = shuffle(\n",
        "        features_downsampled, target_downsampled, random_state=12345)\n",
        "    \n",
        "    return features_downsampled, target_downsampled\n",
        "\n",
        "features_downsampled, target_downsampled = downsample(features_train, target_train, 0.25)\n",
        "\n",
        "for depth in range(1,20): \n",
        "    model = DecisionTreeClassifier(random_state=12345, max_depth=depth, class_weight='balanced')\n",
        "    model.fit(features_downsampled, target_downsampled)\n",
        "    predicted_valid = model.predict(features_valid)\n",
        "    print(\"max_depth =\", depth, \": \", end='')\n",
        "    print(\"F1 balanced:\", f1_score(target_valid, predicted_valid)) \n"
      ]
    },
    {
      "cell_type": "markdown",
      "metadata": {
        "id": "YMTpXpWhTUZk"
      },
      "source": [
        "Перепроверим лучший показатель"
      ]
    },
    {
      "cell_type": "code",
      "execution_count": null,
      "metadata": {
        "id": "MEAZDSE5TUZl",
        "outputId": "ac0230ee-0cde-4d30-f6d9-46c1e811b51e"
      },
      "outputs": [
        {
          "name": "stdout",
          "output_type": "stream",
          "text": [
            "F1: 0.544776119402985\n"
          ]
        }
      ],
      "source": [
        "model = DecisionTreeClassifier(random_state=12345, max_depth=7, class_weight='balanced')\n",
        "model.fit(features_downsampled, target_downsampled)\n",
        "predicted_valid = model.predict(features_valid)\n",
        "\n",
        "print(\"F1:\", f1_score(target_valid, predicted_valid))"
      ]
    },
    {
      "cell_type": "markdown",
      "metadata": {
        "id": "UyUFu4QlTUZl"
      },
      "source": [
        "Снова мимо."
      ]
    },
    {
      "cell_type": "markdown",
      "metadata": {
        "id": "rwjkdTn5TUZm"
      },
      "source": [
        "### Случайный лес."
      ]
    },
    {
      "cell_type": "markdown",
      "metadata": {
        "id": "Gf0uI0YpTUZm"
      },
      "source": [
        "Повторим теже процедуры с RandomForestClassifier"
      ]
    },
    {
      "cell_type": "markdown",
      "metadata": {
        "id": "yAzxO3A3TUZm"
      },
      "source": [
        "Найдем лучшие гиперпараметры с учетом балансирования классов."
      ]
    },
    {
      "cell_type": "code",
      "execution_count": null,
      "metadata": {
        "scrolled": true,
        "id": "oEgP3hEXTUZn",
        "outputId": "c85ad67e-beb9-48d0-8703-2977ea06ca79"
      },
      "outputs": [
        {
          "name": "stdout",
          "output_type": "stream",
          "text": [
            "F1 balanced лучшей модели: 0.5659777424483307\n",
            "Лучшая модель на валидационной выборке: RandomForestClassifier(class_weight='balanced', n_estimators=29,\n",
            "                       random_state=12345)\n"
          ]
        }
      ],
      "source": [
        "best_model = None\n",
        "best_result = 0\n",
        "for est in range(1, 30):\n",
        "    model = RandomForestClassifier(random_state=12345, n_estimators=est, class_weight='balanced') \n",
        "    model.fit(features_train, target_train) \n",
        "    predicted_valid = model.predict(features_valid)\n",
        "    result = f1_score(target_valid, predicted_valid) \n",
        "    if result > best_result:\n",
        "        best_model = model\n",
        "        best_result = result \n",
        "\n",
        "print(\"F1 balanced лучшей модели:\", f1_score(target_valid, predicted_valid))\n",
        "print(\"Лучшая модель на валидационной выборке:\", best_model)"
      ]
    },
    {
      "cell_type": "markdown",
      "metadata": {
        "id": "pUKqEbOQTUZn"
      },
      "source": [
        "Перепроверим f-1 мера."
      ]
    },
    {
      "cell_type": "code",
      "execution_count": null,
      "metadata": {
        "id": "SivxbrabTUZn",
        "outputId": "f619056f-cd16-4d36-d37f-500b9a783e23"
      },
      "outputs": [
        {
          "name": "stdout",
          "output_type": "stream",
          "text": [
            "0.5659777424483307\n"
          ]
        }
      ],
      "source": [
        "model = RandomForestClassifier(n_estimators=29, random_state=12345, class_weight='balanced')\n",
        "model.fit(features_train, target_train)\n",
        "predicted_valid = model.predict(features_valid)\n",
        "\n",
        "print(f1_score(target_valid, predicted_valid))"
      ]
    },
    {
      "cell_type": "markdown",
      "metadata": {
        "id": "lixA3fn_TUZo"
      },
      "source": [
        "Опять мимо."
      ]
    },
    {
      "cell_type": "markdown",
      "metadata": {
        "id": "JBlUYBN4TUZo"
      },
      "source": [
        "Увеличим выборку и найдем f-1"
      ]
    },
    {
      "cell_type": "code",
      "execution_count": null,
      "metadata": {
        "id": "cTPYSZzOTUZo",
        "outputId": "d1ee7ec5-2dbb-44cd-93d3-80d7004ffa59"
      },
      "outputs": [
        {
          "name": "stdout",
          "output_type": "stream",
          "text": [
            "F1 balanced лучшей модели: 0.5834464043419267\n",
            "Лучшая модель на валидационной выборке: RandomForestClassifier(class_weight='balanced', n_estimators=27,\n",
            "                       random_state=12345)\n"
          ]
        }
      ],
      "source": [
        "best_model = None\n",
        "best_result = 0\n",
        "for est in range(1, 30):\n",
        "    model = RandomForestClassifier(random_state=12345, n_estimators=est, class_weight='balanced') \n",
        "    model.fit(features_upsampled, target_upsampled) \n",
        "    predicted_valid = model.predict(features_valid)\n",
        "    #result = model.score(features_valid, target_valid) \n",
        "    result = f1_score(target_valid, predicted_valid)\n",
        "    if result > best_result:\n",
        "        best_model = model\n",
        "        best_result = result \n",
        "\n",
        "print(\"F1 balanced лучшей модели:\", best_result)\n",
        "print(\"Лучшая модель на валидационной выборке:\", best_model)"
      ]
    },
    {
      "cell_type": "markdown",
      "metadata": {
        "id": "9fHr0CdjTUZo"
      },
      "source": [
        "Уже близко, но по прежнему мимо."
      ]
    },
    {
      "cell_type": "markdown",
      "metadata": {
        "id": "Upj_tDD4TUZp"
      },
      "source": [
        "\n",
        "\n",
        "Попробую добавить максимальную глубину."
      ]
    },
    {
      "cell_type": "code",
      "execution_count": null,
      "metadata": {
        "id": "tOXX6QApTUZq",
        "outputId": "1eaba9d8-40ba-441b-bfc4-f057c9fb9c30"
      },
      "outputs": [
        {
          "name": "stdout",
          "output_type": "stream",
          "text": [
            "F1  лучшей модели: 0.6023778071334214 Количество деревьев: 23 Максимальная глубина: 29\n"
          ]
        }
      ],
      "source": [
        "best_model = None\n",
        "best_result = 0\n",
        "best_est = 0\n",
        "best_depth = 0\n",
        "for est in range(1, 30):\n",
        "    for depth in range (1, 30):\n",
        "        model = RandomForestClassifier(random_state=12345, n_estimators=est, max_depth=depth, class_weight='balanced') \n",
        "        model.fit(features_upsampled, target_upsampled) \n",
        "        predicted_valid = model.predict(features_valid) \n",
        "        result = f1_score(target_valid, predicted_valid) \n",
        "        if result > best_result:\n",
        "            best_model = model\n",
        "            best_result = result\n",
        "            best_est = est\n",
        "            best_depth = depth\n",
        "\n",
        "print(\"F1  лучшей модели:\", best_result, \"Количество деревьев:\", best_est, \"Максимальная глубина:\", depth)"
      ]
    },
    {
      "cell_type": "markdown",
      "metadata": {
        "id": "z0xTAxBzTUZq"
      },
      "source": [
        "Очень медленно, однако, есть результат!!!"
      ]
    },
    {
      "cell_type": "markdown",
      "metadata": {
        "id": "ELGPIOFgTUZq"
      },
      "source": [
        "Перепроверим гиперпараметры"
      ]
    },
    {
      "cell_type": "code",
      "execution_count": null,
      "metadata": {
        "scrolled": true,
        "id": "O9IDNjIaTUZr",
        "outputId": "115c3619-5711-4fa7-ddd1-ad4c96e40f88"
      },
      "outputs": [
        {
          "name": "stdout",
          "output_type": "stream",
          "text": [
            "F1: 0.5599999999999999\n"
          ]
        }
      ],
      "source": [
        "model = RandomForestClassifier(random_state=12345, n_estimators=23, max_depth=29, class_weight='balanced')\n",
        "model.fit(features_upsampled, target_upsampled) \n",
        "predicted_valid = model.predict(features_valid) \n",
        "\n",
        "print(\"F1:\", f1_score(target_valid, predicted_valid))"
      ]
    },
    {
      "cell_type": "markdown",
      "metadata": {
        "id": "bvCoowVSTUZr"
      },
      "source": [
        "<div class=\"alert alert-block alert-info\">Теперь уменьшим."
      ]
    },
    {
      "cell_type": "code",
      "execution_count": null,
      "metadata": {
        "id": "a90QvReQTUZs",
        "outputId": "04a04832-7fcd-4cf0-eb86-68c2154836b5"
      },
      "outputs": [
        {
          "name": "stdout",
          "output_type": "stream",
          "text": [
            "Accuracy наилучшей модели на валидационной выборке: 0.7765\n",
            "Лучшая модель на валидационной выборке: RandomForestClassifier(class_weight='balanced', n_estimators=2,\n",
            "                       random_state=12345)\n"
          ]
        }
      ],
      "source": [
        "best_model = None\n",
        "best_result = 0\n",
        "for est in range(1, 50):\n",
        "    model = RandomForestClassifier(random_state=12345, n_estimators=est, class_weight='balanced') \n",
        "    model.fit(features_downsampled, target_downsampled) \n",
        "    result = model.score(features_valid, target_valid) \n",
        "    if result > best_result:\n",
        "        best_model = model\n",
        "        best_result = result \n",
        "\n",
        "print(\"Accuracy наилучшей модели на валидационной выборке:\", best_result)\n",
        "print(\"Лучшая модель на валидационной выборке:\", best_model)"
      ]
    },
    {
      "cell_type": "code",
      "execution_count": null,
      "metadata": {
        "id": "z5imYFs_TUZs",
        "outputId": "4bb4dee8-22ee-4c99-922b-213d1545a980"
      },
      "outputs": [
        {
          "name": "stdout",
          "output_type": "stream",
          "text": [
            "F1: 0.4467836257309942\n"
          ]
        }
      ],
      "source": [
        "model = RandomForestClassifier(n_estimators=2, random_state=12345)\n",
        "model.fit(features_downsampled, target_downsampled)\n",
        "predicted_valid = model.predict(features_valid)\n",
        "\n",
        "print(\"F1:\", f1_score(target_valid, predicted_valid))"
      ]
    },
    {
      "cell_type": "markdown",
      "metadata": {
        "id": "IMiiL1bETUZt"
      },
      "source": [
        "Результата нет."
      ]
    },
    {
      "cell_type": "markdown",
      "metadata": {
        "id": "MsMU_rwWTUZt"
      },
      "source": [
        "### Логистическая регрессия"
      ]
    },
    {
      "cell_type": "markdown",
      "metadata": {
        "id": "MY5kjp-HTUZu"
      },
      "source": [
        " Провел данные процедуры выше."
      ]
    },
    {
      "cell_type": "markdown",
      "metadata": {
        "id": "2PQDM7M_TUZv"
      },
      "source": [
        "Пробуем."
      ]
    },
    {
      "cell_type": "code",
      "execution_count": null,
      "metadata": {
        "scrolled": true,
        "id": "xRo6mZteTUZw",
        "outputId": "891646c4-6d41-4a1a-f24a-8f4e27bb1f6f"
      },
      "outputs": [
        {
          "name": "stdout",
          "output_type": "stream",
          "text": [
            "F1: 0.43373493975903615\n"
          ]
        }
      ],
      "source": [
        "model = LogisticRegression(random_state=12345, solver='lbfgs', max_iter=1000, class_weight='balanced')\n",
        "model.fit(features_train, target_train)\n",
        "predicted_valid = model.predict(features_valid)\n",
        "\n",
        "print(\"F1:\", f1_score(target_valid, predicted_valid))"
      ]
    },
    {
      "cell_type": "markdown",
      "metadata": {
        "id": "tHKMPKtmTUZw"
      },
      "source": [
        "Увеличим"
      ]
    },
    {
      "cell_type": "code",
      "execution_count": null,
      "metadata": {
        "id": "5fRqDS_tTUZx",
        "outputId": "c63c6846-c460-4bed-a59a-04c5045e787f"
      },
      "outputs": [
        {
          "name": "stdout",
          "output_type": "stream",
          "text": [
            "F1: 0.43373493975903615\n"
          ]
        }
      ],
      "source": [
        "def upsample(features, target, repeat):\n",
        "    features_zeros = features[target == 0]\n",
        "    features_ones = features[target == 1]\n",
        "    target_zeros = target[target == 0]\n",
        "    target_ones = target[target == 1]\n",
        "\n",
        "    features_upsampled = pd.concat([features_zeros] + [features_ones] * repeat)\n",
        "    target_upsampled = pd.concat([target_zeros] + [target_ones] * repeat)\n",
        "    \n",
        "    features_upsampled, target_upsampled = shuffle(\n",
        "        features_upsampled, target_upsampled, random_state=12345)\n",
        "    \n",
        "    return features_upsampled, target_upsampled\n",
        "\n",
        "features_upsampled, target_upsampled = upsample(features_train, target_train, 4)\n",
        "\n",
        "model = LogisticRegression(random_state=12345, solver='lbfgs', max_iter=1000, class_weight='balanced')\n",
        "model.fit(features_upsampled, target_upsampled)\n",
        "predicted_valid = model.predict(features_valid)\n",
        "\n",
        "print(\"F1:\", f1_score(target_valid, predicted_valid))"
      ]
    },
    {
      "cell_type": "markdown",
      "metadata": {
        "id": "_FGU92WlTUZx"
      },
      "source": [
        "Уменьшим"
      ]
    },
    {
      "cell_type": "code",
      "execution_count": null,
      "metadata": {
        "id": "TxTiLsTpTUZy",
        "outputId": "38d5533f-7dc6-43b1-8da4-7b00f7a13f18"
      },
      "outputs": [
        {
          "name": "stdout",
          "output_type": "stream",
          "text": [
            "F1: 0.43471337579617836\n"
          ]
        }
      ],
      "source": [
        "def downsample(features, target, fraction):\n",
        "    features_zeros = features[target == 0]\n",
        "    features_ones = features[target == 1]\n",
        "    target_zeros = target[target == 0]\n",
        "    target_ones = target[target == 1]\n",
        "\n",
        "    features_downsampled = pd.concat(\n",
        "        [features_zeros.sample(frac=fraction, random_state=12345)] + [features_ones])\n",
        "    target_downsampled = pd.concat(\n",
        "        [target_zeros.sample(frac=fraction, random_state=12345)] + [target_ones])\n",
        "    features_downsampled, target_downsampled = shuffle(\n",
        "        features_downsampled, target_downsampled, random_state=12345)\n",
        "    \n",
        "    return features_downsampled, target_downsampled\n",
        "\n",
        "features_downsampled, target_downsampled = downsample(features_train, target_train, 0.25)\n",
        "\n",
        "model = LogisticRegression(random_state=12345, solver='lbfgs', max_iter=1000, class_weight='balanced')\n",
        "model.fit(features_downsampled, target_downsampled)\n",
        "predicted_valid = model.predict(features_valid)\n",
        "\n",
        "print(\"F1:\", f1_score(target_valid, predicted_valid))"
      ]
    },
    {
      "cell_type": "markdown",
      "metadata": {
        "id": "LcYgWpgsTUZy"
      },
      "source": [
        "### Предварительный вывод."
      ]
    },
    {
      "cell_type": "markdown",
      "metadata": {
        "id": "lQlvYKkKTUZz"
      },
      "source": [
        "<div class=\"alert alert-block alert-info\">После проведенных экспериментов, лучшая модель на валидационной выборке по f-1 мере: RandomForestClassifier(n_estimators=23, random_state=12345, max_depth=29) с увеличенной выборкой по положительным ответам с количеством повторений - 4, c балансированием классов."
      ]
    },
    {
      "cell_type": "markdown",
      "metadata": {
        "id": "CRNidwL3TUZz"
      },
      "source": [
        "## Тестирование модели"
      ]
    },
    {
      "cell_type": "markdown",
      "metadata": {
        "id": "ZJFq3wBBTUZz"
      },
      "source": [
        "Для тестирования полученной модели посчитаем коэффициет детерминации (R2) на тестовой и валидационной выборках."
      ]
    },
    {
      "cell_type": "code",
      "execution_count": null,
      "metadata": {
        "id": "PXiq0krmTUZ0",
        "outputId": "f9540a04-4e15-4f13-ad5a-f6a507e3944d"
      },
      "outputs": [
        {
          "name": "stdout",
          "output_type": "stream",
          "text": [
            "Наилучшая модель\n",
            "R2 на обучающей выборке:  0.9998333333333334\n",
            "R2 на валидационной выборке:  0.852\n"
          ]
        }
      ],
      "source": [
        "model = RandomForestClassifier(n_estimators=23, random_state=12345)\n",
        "model.fit(features_upsampled, target_upsampled)\n",
        "\n",
        "print(\"Наилучшая модель\")\n",
        "print(\"R2 на обучающей выборке: \", model.score(features_train, target_train)) \n",
        "print(\"R2 на валидационной выборке: \", model.score(features_valid, target_valid)) "
      ]
    },
    {
      "cell_type": "markdown",
      "metadata": {
        "id": "PLo_ZEyATUZ0"
      },
      "source": [
        "Разница между валидационной и тестовой выборкой минимальная, показатель R2 достаточно высокий, что говорит о корректной работе модели."
      ]
    },
    {
      "cell_type": "markdown",
      "metadata": {
        "id": "DZ634cJ-TUZ1"
      },
      "source": [
        "Проверим полученную модель на тествовой выборке."
      ]
    },
    {
      "cell_type": "code",
      "execution_count": null,
      "metadata": {
        "id": "Q2P4pjgsTUZ2",
        "outputId": "5eae853e-36ca-4b54-bfb9-77ed754c0571"
      },
      "outputs": [
        {
          "name": "stdout",
          "output_type": "stream",
          "text": [
            "F1: 0.5947302383939774\n"
          ]
        }
      ],
      "source": [
        "target_test = df_test['Exited']\n",
        "features_test = df_test.drop('Exited', axis=1)\n",
        "model = RandomForestClassifier(n_estimators=23, random_state=12345, class_weight='balanced', max_depth=29)\n",
        "model.fit(features_upsampled, target_upsampled)\n",
        "predicted_test = model.predict(features_test)\n",
        "\n",
        "print(\"F1:\", f1_score(target_test, predicted_test))"
      ]
    },
    {
      "cell_type": "markdown",
      "metadata": {
        "id": "7DcwcSNyTUZ3"
      },
      "source": [
        " Есть необходимый результат!!!!"
      ]
    },
    {
      "cell_type": "markdown",
      "metadata": {
        "id": "-vI8lqpiTUZ4"
      },
      "source": [
        "## Вывод"
      ]
    },
    {
      "cell_type": "markdown",
      "metadata": {
        "id": "B1zJtkA6TUZ4"
      },
      "source": [
        "<div class=\"alert alert-block alert-info\">\n",
        "<font size=\"4\">Исследовав три модели обучения данных я пришел к выводу, что для прогноза поведения клиентов банка, а именно их желания уйти из банка в ближайшее время, наиболее успешной моделью предсказания по f-1 мере стала модель - \"Случайный лес\" с количеством деревьев - 23, глубиной - 29 и обязательным балансом классов. Кроме того, учитывая значительный перекос в целевых показателях (столбец \"Exited\") в отрицательную сторону, для обучения модели было принято решение увеличить, а затем перемешать тренировочную выборку создав баланс целевых признаков."
      ]
    }
  ],
  "metadata": {
    "ExecuteTimeLog": [
      {
        "duration": 1013,
        "start_time": "2022-07-31T06:53:52.031Z"
      },
      {
        "duration": 3,
        "start_time": "2022-07-31T06:54:25.253Z"
      },
      {
        "duration": 123,
        "start_time": "2022-07-31T06:56:46.421Z"
      },
      {
        "duration": 107,
        "start_time": "2022-07-31T07:12:27.995Z"
      },
      {
        "duration": 6,
        "start_time": "2022-07-31T07:12:40.867Z"
      },
      {
        "duration": 19,
        "start_time": "2022-07-31T07:12:51.896Z"
      },
      {
        "duration": 12,
        "start_time": "2022-07-31T07:13:09.583Z"
      },
      {
        "duration": 8,
        "start_time": "2022-07-31T07:16:48.480Z"
      },
      {
        "duration": 8,
        "start_time": "2022-07-31T07:16:58.282Z"
      },
      {
        "duration": 8,
        "start_time": "2022-07-31T07:22:55.280Z"
      },
      {
        "duration": 15,
        "start_time": "2022-07-31T07:23:01.870Z"
      },
      {
        "duration": 16,
        "start_time": "2022-07-31T07:23:27.013Z"
      },
      {
        "duration": 226,
        "start_time": "2022-07-31T07:35:18.815Z"
      },
      {
        "duration": 25,
        "start_time": "2022-07-31T07:35:51.471Z"
      },
      {
        "duration": 24,
        "start_time": "2022-07-31T07:36:22.246Z"
      },
      {
        "duration": 4,
        "start_time": "2022-07-31T07:45:34.415Z"
      },
      {
        "duration": 11,
        "start_time": "2022-07-31T07:45:38.886Z"
      },
      {
        "duration": 10,
        "start_time": "2022-07-31T07:45:41.829Z"
      },
      {
        "duration": 21,
        "start_time": "2022-07-31T07:45:44.793Z"
      },
      {
        "duration": 17,
        "start_time": "2022-07-31T07:47:00.468Z"
      },
      {
        "duration": 12,
        "start_time": "2022-07-31T07:47:39.014Z"
      },
      {
        "duration": 17,
        "start_time": "2022-07-31T07:47:42.435Z"
      },
      {
        "duration": 11,
        "start_time": "2022-07-31T07:51:12.416Z"
      },
      {
        "duration": 8,
        "start_time": "2022-07-31T08:58:58.874Z"
      },
      {
        "duration": 19,
        "start_time": "2022-07-31T09:17:05.792Z"
      },
      {
        "duration": 4,
        "start_time": "2022-07-31T09:20:55.288Z"
      },
      {
        "duration": 10,
        "start_time": "2022-07-31T09:20:59.696Z"
      },
      {
        "duration": 18,
        "start_time": "2022-07-31T09:21:07.216Z"
      },
      {
        "duration": 9,
        "start_time": "2022-07-31T09:21:13.255Z"
      },
      {
        "duration": 445,
        "start_time": "2022-07-31T09:21:14.726Z"
      },
      {
        "duration": 10,
        "start_time": "2022-07-31T09:34:40.885Z"
      },
      {
        "duration": 36,
        "start_time": "2022-07-31T09:35:01.645Z"
      },
      {
        "duration": 3,
        "start_time": "2022-07-31T09:35:50.191Z"
      },
      {
        "duration": 33,
        "start_time": "2022-07-31T09:35:56.985Z"
      },
      {
        "duration": 11,
        "start_time": "2022-07-31T09:43:44.735Z"
      },
      {
        "duration": 4,
        "start_time": "2022-07-31T09:44:09.758Z"
      },
      {
        "duration": 9,
        "start_time": "2022-07-31T09:44:14.433Z"
      },
      {
        "duration": 1151,
        "start_time": "2022-07-31T09:47:09.562Z"
      },
      {
        "duration": 1162,
        "start_time": "2022-07-31T09:48:04.490Z"
      },
      {
        "duration": 137,
        "start_time": "2022-07-31T09:50:09.383Z"
      },
      {
        "duration": 17,
        "start_time": "2022-07-31T09:52:41.059Z"
      },
      {
        "duration": 34,
        "start_time": "2022-07-31T09:57:42.189Z"
      },
      {
        "duration": 28,
        "start_time": "2022-07-31T09:58:14.565Z"
      },
      {
        "duration": 20,
        "start_time": "2022-07-31T09:58:22.484Z"
      },
      {
        "duration": 356,
        "start_time": "2022-07-31T10:00:47.541Z"
      },
      {
        "duration": 12,
        "start_time": "2022-07-31T10:02:04.830Z"
      },
      {
        "duration": 21,
        "start_time": "2022-07-31T10:03:58.777Z"
      },
      {
        "duration": 15,
        "start_time": "2022-07-31T10:06:23.423Z"
      },
      {
        "duration": 284,
        "start_time": "2022-07-31T10:55:53.420Z"
      },
      {
        "duration": 284,
        "start_time": "2022-07-31T10:56:49.897Z"
      },
      {
        "duration": 1062,
        "start_time": "2022-07-31T10:57:13.237Z"
      },
      {
        "duration": 111,
        "start_time": "2022-07-31T10:57:14.302Z"
      },
      {
        "duration": 9,
        "start_time": "2022-07-31T10:57:14.415Z"
      },
      {
        "duration": 18,
        "start_time": "2022-07-31T10:57:14.427Z"
      },
      {
        "duration": 4,
        "start_time": "2022-07-31T10:57:14.447Z"
      },
      {
        "duration": 19,
        "start_time": "2022-07-31T10:57:14.453Z"
      },
      {
        "duration": 44,
        "start_time": "2022-07-31T10:57:14.474Z"
      },
      {
        "duration": 10,
        "start_time": "2022-07-31T10:57:14.520Z"
      },
      {
        "duration": 524,
        "start_time": "2022-07-31T10:57:14.532Z"
      },
      {
        "duration": 39,
        "start_time": "2022-07-31T10:57:15.059Z"
      },
      {
        "duration": 8,
        "start_time": "2022-07-31T10:57:15.100Z"
      },
      {
        "duration": 1050,
        "start_time": "2022-07-31T10:57:15.109Z"
      },
      {
        "duration": 159,
        "start_time": "2022-07-31T10:57:16.161Z"
      },
      {
        "duration": 16,
        "start_time": "2022-07-31T10:57:16.322Z"
      },
      {
        "duration": 26,
        "start_time": "2022-07-31T10:57:16.341Z"
      },
      {
        "duration": 543,
        "start_time": "2022-07-31T10:57:16.369Z"
      },
      {
        "duration": 201,
        "start_time": "2022-07-31T10:57:16.998Z"
      },
      {
        "duration": 106,
        "start_time": "2022-07-31T10:57:17.200Z"
      },
      {
        "duration": 491,
        "start_time": "2022-07-31T10:57:17.307Z"
      },
      {
        "duration": 285,
        "start_time": "2022-07-31T11:00:11.957Z"
      },
      {
        "duration": 77,
        "start_time": "2022-07-31T11:01:24.213Z"
      },
      {
        "duration": 361,
        "start_time": "2022-07-31T11:01:28.631Z"
      },
      {
        "duration": 148,
        "start_time": "2022-07-31T11:04:08.763Z"
      },
      {
        "duration": 267,
        "start_time": "2022-07-31T11:04:45.134Z"
      },
      {
        "duration": 46,
        "start_time": "2022-07-31T11:18:49.500Z"
      },
      {
        "duration": 3,
        "start_time": "2022-07-31T11:19:29.254Z"
      },
      {
        "duration": 1573,
        "start_time": "2022-07-31T11:19:36.785Z"
      },
      {
        "duration": 91,
        "start_time": "2022-07-31T11:19:38.360Z"
      },
      {
        "duration": 5,
        "start_time": "2022-07-31T11:19:38.453Z"
      },
      {
        "duration": 21,
        "start_time": "2022-07-31T11:19:38.460Z"
      },
      {
        "duration": 3,
        "start_time": "2022-07-31T11:19:38.483Z"
      },
      {
        "duration": 14,
        "start_time": "2022-07-31T11:19:38.498Z"
      },
      {
        "duration": 20,
        "start_time": "2022-07-31T11:19:38.513Z"
      },
      {
        "duration": 15,
        "start_time": "2022-07-31T11:19:38.535Z"
      },
      {
        "duration": 490,
        "start_time": "2022-07-31T11:19:38.552Z"
      },
      {
        "duration": 32,
        "start_time": "2022-07-31T11:19:39.044Z"
      },
      {
        "duration": 23,
        "start_time": "2022-07-31T11:19:39.079Z"
      },
      {
        "duration": 1065,
        "start_time": "2022-07-31T11:19:39.104Z"
      },
      {
        "duration": 145,
        "start_time": "2022-07-31T11:19:40.171Z"
      },
      {
        "duration": 15,
        "start_time": "2022-07-31T11:19:40.318Z"
      },
      {
        "duration": 22,
        "start_time": "2022-07-31T11:19:40.335Z"
      },
      {
        "duration": 57,
        "start_time": "2022-07-31T11:19:40.358Z"
      },
      {
        "duration": 188,
        "start_time": "2022-07-31T11:19:40.417Z"
      },
      {
        "duration": 99,
        "start_time": "2022-07-31T11:19:40.608Z"
      },
      {
        "duration": 234,
        "start_time": "2022-07-31T11:19:40.715Z"
      },
      {
        "duration": 298,
        "start_time": "2022-07-31T11:19:40.951Z"
      },
      {
        "duration": 356,
        "start_time": "2022-07-31T11:19:41.251Z"
      },
      {
        "duration": 120,
        "start_time": "2022-07-31T11:19:41.609Z"
      },
      {
        "duration": 1333,
        "start_time": "2022-07-31T11:27:48.186Z"
      },
      {
        "duration": 89,
        "start_time": "2022-07-31T11:27:49.522Z"
      },
      {
        "duration": 4,
        "start_time": "2022-07-31T11:27:49.612Z"
      },
      {
        "duration": 20,
        "start_time": "2022-07-31T11:27:49.618Z"
      },
      {
        "duration": 6,
        "start_time": "2022-07-31T11:27:49.641Z"
      },
      {
        "duration": 21,
        "start_time": "2022-07-31T11:27:49.649Z"
      },
      {
        "duration": 45,
        "start_time": "2022-07-31T11:27:49.672Z"
      },
      {
        "duration": 9,
        "start_time": "2022-07-31T11:27:49.719Z"
      },
      {
        "duration": 481,
        "start_time": "2022-07-31T11:27:49.730Z"
      },
      {
        "duration": 31,
        "start_time": "2022-07-31T11:27:50.214Z"
      },
      {
        "duration": 10,
        "start_time": "2022-07-31T11:27:50.252Z"
      },
      {
        "duration": 1155,
        "start_time": "2022-07-31T11:27:50.266Z"
      },
      {
        "duration": 152,
        "start_time": "2022-07-31T11:27:51.423Z"
      },
      {
        "duration": 24,
        "start_time": "2022-07-31T11:27:51.577Z"
      },
      {
        "duration": 31,
        "start_time": "2022-07-31T11:27:51.603Z"
      },
      {
        "duration": 103,
        "start_time": "2022-07-31T11:27:51.636Z"
      },
      {
        "duration": 199,
        "start_time": "2022-07-31T11:27:51.799Z"
      },
      {
        "duration": 110,
        "start_time": "2022-07-31T11:27:52.000Z"
      },
      {
        "duration": 243,
        "start_time": "2022-07-31T11:27:52.112Z"
      },
      {
        "duration": 294,
        "start_time": "2022-07-31T11:27:52.357Z"
      },
      {
        "duration": 265,
        "start_time": "2022-07-31T11:27:52.652Z"
      },
      {
        "duration": 130,
        "start_time": "2022-07-31T11:27:52.999Z"
      },
      {
        "duration": 11,
        "start_time": "2022-07-31T11:31:14.949Z"
      },
      {
        "duration": 29,
        "start_time": "2022-07-31T11:31:19.786Z"
      },
      {
        "duration": 7,
        "start_time": "2022-08-01T07:09:23.493Z"
      },
      {
        "duration": 53,
        "start_time": "2022-08-01T07:15:11.368Z"
      },
      {
        "duration": 1166,
        "start_time": "2022-08-01T07:15:17.361Z"
      },
      {
        "duration": 144,
        "start_time": "2022-08-01T07:15:19.490Z"
      },
      {
        "duration": 5,
        "start_time": "2022-08-01T07:15:22.416Z"
      },
      {
        "duration": 12,
        "start_time": "2022-08-01T07:15:24.970Z"
      },
      {
        "duration": 3,
        "start_time": "2022-08-01T07:15:27.471Z"
      },
      {
        "duration": 11,
        "start_time": "2022-08-01T07:15:29.466Z"
      },
      {
        "duration": 19,
        "start_time": "2022-08-01T07:15:31.513Z"
      },
      {
        "duration": 7,
        "start_time": "2022-08-01T07:15:36.190Z"
      },
      {
        "duration": 17,
        "start_time": "2022-08-01T07:16:21.054Z"
      },
      {
        "duration": 7,
        "start_time": "2022-08-01T07:19:48.135Z"
      },
      {
        "duration": 17,
        "start_time": "2022-08-01T07:20:05.259Z"
      },
      {
        "duration": 25,
        "start_time": "2022-08-01T07:26:04.938Z"
      },
      {
        "duration": 68,
        "start_time": "2022-08-01T07:26:18.158Z"
      },
      {
        "duration": 1123,
        "start_time": "2022-08-01T07:26:28.489Z"
      },
      {
        "duration": 85,
        "start_time": "2022-08-01T07:26:29.614Z"
      },
      {
        "duration": 4,
        "start_time": "2022-08-01T07:26:29.701Z"
      },
      {
        "duration": 16,
        "start_time": "2022-08-01T07:26:29.707Z"
      },
      {
        "duration": 2,
        "start_time": "2022-08-01T07:26:29.725Z"
      },
      {
        "duration": 11,
        "start_time": "2022-08-01T07:26:29.729Z"
      },
      {
        "duration": 18,
        "start_time": "2022-08-01T07:26:29.741Z"
      },
      {
        "duration": 2,
        "start_time": "2022-08-01T07:26:29.760Z"
      },
      {
        "duration": 15,
        "start_time": "2022-08-01T07:26:29.764Z"
      },
      {
        "duration": 20,
        "start_time": "2022-08-01T07:26:29.782Z"
      },
      {
        "duration": 367,
        "start_time": "2022-08-01T07:26:29.804Z"
      },
      {
        "duration": 35,
        "start_time": "2022-08-01T07:26:30.173Z"
      },
      {
        "duration": 7,
        "start_time": "2022-08-01T07:26:30.209Z"
      },
      {
        "duration": 926,
        "start_time": "2022-08-01T07:26:30.218Z"
      },
      {
        "duration": 118,
        "start_time": "2022-08-01T07:26:31.146Z"
      },
      {
        "duration": 13,
        "start_time": "2022-08-01T07:26:31.266Z"
      },
      {
        "duration": 37,
        "start_time": "2022-08-01T07:26:31.280Z"
      },
      {
        "duration": 83,
        "start_time": "2022-08-01T07:26:31.319Z"
      },
      {
        "duration": 294,
        "start_time": "2022-08-01T07:26:31.404Z"
      },
      {
        "duration": 104,
        "start_time": "2022-08-01T07:26:31.700Z"
      },
      {
        "duration": 308,
        "start_time": "2022-08-01T07:26:31.806Z"
      },
      {
        "duration": 0,
        "start_time": "2022-08-01T07:26:32.116Z"
      },
      {
        "duration": 0,
        "start_time": "2022-08-01T07:26:32.117Z"
      },
      {
        "duration": 0,
        "start_time": "2022-08-01T07:26:32.118Z"
      },
      {
        "duration": 0,
        "start_time": "2022-08-01T07:26:32.119Z"
      },
      {
        "duration": 25,
        "start_time": "2022-08-01T07:26:43.541Z"
      },
      {
        "duration": 21,
        "start_time": "2022-08-01T07:27:12.184Z"
      },
      {
        "duration": 5,
        "start_time": "2022-08-01T07:44:10.448Z"
      },
      {
        "duration": 673,
        "start_time": "2022-08-01T07:58:05.888Z"
      },
      {
        "duration": 135,
        "start_time": "2022-08-01T07:59:41.116Z"
      },
      {
        "duration": 127,
        "start_time": "2022-08-01T08:00:02.036Z"
      },
      {
        "duration": 122,
        "start_time": "2022-08-01T08:00:12.440Z"
      },
      {
        "duration": 195,
        "start_time": "2022-08-01T08:00:29.811Z"
      },
      {
        "duration": 143,
        "start_time": "2022-08-01T08:01:29.479Z"
      },
      {
        "duration": 376,
        "start_time": "2022-08-01T08:31:08.302Z"
      },
      {
        "duration": 32,
        "start_time": "2022-08-01T08:34:51.039Z"
      },
      {
        "duration": 38,
        "start_time": "2022-08-01T08:39:14.477Z"
      },
      {
        "duration": 32,
        "start_time": "2022-08-01T08:44:11.049Z"
      },
      {
        "duration": 4,
        "start_time": "2022-08-01T08:44:45.883Z"
      },
      {
        "duration": 23,
        "start_time": "2022-08-01T08:44:59.503Z"
      },
      {
        "duration": 75,
        "start_time": "2022-08-01T08:45:40.753Z"
      },
      {
        "duration": 75,
        "start_time": "2022-08-01T08:46:07.267Z"
      },
      {
        "duration": 73,
        "start_time": "2022-08-01T08:46:16.306Z"
      },
      {
        "duration": 75,
        "start_time": "2022-08-01T08:47:01.001Z"
      },
      {
        "duration": 25,
        "start_time": "2022-08-01T08:48:41.301Z"
      },
      {
        "duration": 34,
        "start_time": "2022-08-01T08:50:02.176Z"
      },
      {
        "duration": 24,
        "start_time": "2022-08-01T08:50:10.044Z"
      },
      {
        "duration": 911,
        "start_time": "2022-08-01T08:51:55.309Z"
      },
      {
        "duration": 105,
        "start_time": "2022-08-01T08:54:51.440Z"
      },
      {
        "duration": 213,
        "start_time": "2022-08-01T08:56:33.462Z"
      },
      {
        "duration": 194,
        "start_time": "2022-08-01T08:56:48.111Z"
      },
      {
        "duration": 202,
        "start_time": "2022-08-01T08:57:02.481Z"
      },
      {
        "duration": 51,
        "start_time": "2022-08-01T08:57:55.256Z"
      },
      {
        "duration": 27,
        "start_time": "2022-08-01T09:02:48.382Z"
      },
      {
        "duration": 37,
        "start_time": "2022-08-01T09:06:13.847Z"
      },
      {
        "duration": 61,
        "start_time": "2022-08-01T09:06:49.440Z"
      },
      {
        "duration": 29,
        "start_time": "2022-08-01T09:08:12.543Z"
      },
      {
        "duration": 19,
        "start_time": "2022-08-01T09:08:37.433Z"
      },
      {
        "duration": 60,
        "start_time": "2022-08-01T09:09:29.255Z"
      },
      {
        "duration": 73,
        "start_time": "2022-08-01T09:09:37.394Z"
      },
      {
        "duration": 27,
        "start_time": "2022-08-01T09:09:44.841Z"
      },
      {
        "duration": 24,
        "start_time": "2022-08-01T09:09:51.843Z"
      },
      {
        "duration": 22,
        "start_time": "2022-08-01T09:10:22.751Z"
      },
      {
        "duration": 25,
        "start_time": "2022-08-01T09:10:29.057Z"
      },
      {
        "duration": 174,
        "start_time": "2022-08-01T09:10:47.725Z"
      },
      {
        "duration": 105,
        "start_time": "2022-08-01T09:12:08.272Z"
      },
      {
        "duration": 86,
        "start_time": "2022-08-01T09:12:14.386Z"
      },
      {
        "duration": 667,
        "start_time": "2022-08-01T09:14:25.420Z"
      },
      {
        "duration": 630,
        "start_time": "2022-08-01T09:15:37.957Z"
      },
      {
        "duration": 670,
        "start_time": "2022-08-01T09:15:58.222Z"
      },
      {
        "duration": 64,
        "start_time": "2022-08-01T09:16:39.749Z"
      },
      {
        "duration": 1166,
        "start_time": "2022-08-01T10:18:25.667Z"
      },
      {
        "duration": 118,
        "start_time": "2022-08-01T10:18:26.834Z"
      },
      {
        "duration": 4,
        "start_time": "2022-08-01T10:18:26.954Z"
      },
      {
        "duration": 17,
        "start_time": "2022-08-01T10:18:26.960Z"
      },
      {
        "duration": 10,
        "start_time": "2022-08-01T10:18:26.978Z"
      },
      {
        "duration": 11,
        "start_time": "2022-08-01T10:18:26.990Z"
      },
      {
        "duration": 18,
        "start_time": "2022-08-01T10:18:27.002Z"
      },
      {
        "duration": 2,
        "start_time": "2022-08-01T10:18:27.021Z"
      },
      {
        "duration": 8,
        "start_time": "2022-08-01T10:18:27.025Z"
      },
      {
        "duration": 7,
        "start_time": "2022-08-01T10:18:27.035Z"
      },
      {
        "duration": 391,
        "start_time": "2022-08-01T10:18:27.044Z"
      },
      {
        "duration": 24,
        "start_time": "2022-08-01T10:18:27.437Z"
      },
      {
        "duration": 6,
        "start_time": "2022-08-01T10:18:27.463Z"
      },
      {
        "duration": 1024,
        "start_time": "2022-08-01T10:18:27.470Z"
      },
      {
        "duration": 128,
        "start_time": "2022-08-01T10:18:28.495Z"
      },
      {
        "duration": 14,
        "start_time": "2022-08-01T10:18:28.624Z"
      },
      {
        "duration": 19,
        "start_time": "2022-08-01T10:18:28.640Z"
      },
      {
        "duration": 140,
        "start_time": "2022-08-01T10:18:28.660Z"
      },
      {
        "duration": 109,
        "start_time": "2022-08-01T10:18:28.802Z"
      },
      {
        "duration": 99,
        "start_time": "2022-08-01T10:18:28.998Z"
      },
      {
        "duration": 503,
        "start_time": "2022-08-01T10:18:29.099Z"
      },
      {
        "duration": 142,
        "start_time": "2022-08-01T10:18:29.603Z"
      },
      {
        "duration": 155,
        "start_time": "2022-08-01T10:18:29.747Z"
      },
      {
        "duration": 2,
        "start_time": "2022-08-01T10:18:29.905Z"
      },
      {
        "duration": 407,
        "start_time": "2022-08-01T10:18:29.909Z"
      },
      {
        "duration": 31,
        "start_time": "2022-08-01T10:18:30.318Z"
      },
      {
        "duration": 710,
        "start_time": "2022-08-01T10:18:30.351Z"
      },
      {
        "duration": 79,
        "start_time": "2022-08-01T10:18:31.064Z"
      },
      {
        "duration": 24,
        "start_time": "2022-08-01T10:18:31.145Z"
      },
      {
        "duration": 910,
        "start_time": "2022-08-01T10:18:31.171Z"
      },
      {
        "duration": 120,
        "start_time": "2022-08-01T10:18:32.083Z"
      },
      {
        "duration": 205,
        "start_time": "2022-08-01T10:18:32.204Z"
      },
      {
        "duration": 51,
        "start_time": "2022-08-01T10:18:32.410Z"
      },
      {
        "duration": 2,
        "start_time": "2022-08-01T10:18:32.462Z"
      },
      {
        "duration": 41,
        "start_time": "2022-08-01T10:18:32.466Z"
      },
      {
        "duration": 203,
        "start_time": "2022-08-01T10:18:32.598Z"
      },
      {
        "duration": 109,
        "start_time": "2022-08-01T10:18:32.803Z"
      },
      {
        "duration": 204,
        "start_time": "2022-08-01T10:18:32.913Z"
      },
      {
        "duration": 535,
        "start_time": "2022-08-01T10:51:34.757Z"
      },
      {
        "duration": 874,
        "start_time": "2022-08-01T10:51:48.654Z"
      },
      {
        "duration": 514,
        "start_time": "2022-08-01T10:52:09.734Z"
      },
      {
        "duration": 41,
        "start_time": "2022-08-01T10:52:30.406Z"
      },
      {
        "duration": 525,
        "start_time": "2022-08-01T10:53:21.856Z"
      },
      {
        "duration": 530,
        "start_time": "2022-08-01T10:53:40.742Z"
      },
      {
        "duration": 558,
        "start_time": "2022-08-01T10:54:15.440Z"
      },
      {
        "duration": 507,
        "start_time": "2022-08-01T10:54:41.574Z"
      },
      {
        "duration": 931,
        "start_time": "2022-08-01T10:55:25.191Z"
      },
      {
        "duration": 67,
        "start_time": "2022-08-01T10:55:54.690Z"
      },
      {
        "duration": 964,
        "start_time": "2022-08-01T10:56:33.641Z"
      },
      {
        "duration": 201,
        "start_time": "2022-08-01T10:57:20.644Z"
      },
      {
        "duration": 180,
        "start_time": "2022-08-01T10:57:25.420Z"
      },
      {
        "duration": 1141,
        "start_time": "2022-08-01T10:57:43.951Z"
      },
      {
        "duration": 101,
        "start_time": "2022-08-01T10:57:45.094Z"
      },
      {
        "duration": 4,
        "start_time": "2022-08-01T10:57:45.197Z"
      },
      {
        "duration": 20,
        "start_time": "2022-08-01T10:57:45.202Z"
      },
      {
        "duration": 3,
        "start_time": "2022-08-01T10:57:45.224Z"
      },
      {
        "duration": 21,
        "start_time": "2022-08-01T10:57:45.228Z"
      },
      {
        "duration": 17,
        "start_time": "2022-08-01T10:57:45.251Z"
      },
      {
        "duration": 6,
        "start_time": "2022-08-01T10:57:45.270Z"
      },
      {
        "duration": 26,
        "start_time": "2022-08-01T10:57:45.278Z"
      },
      {
        "duration": 9,
        "start_time": "2022-08-01T10:57:45.307Z"
      },
      {
        "duration": 438,
        "start_time": "2022-08-01T10:57:45.318Z"
      },
      {
        "duration": 27,
        "start_time": "2022-08-01T10:57:45.758Z"
      },
      {
        "duration": 9,
        "start_time": "2022-08-01T10:57:45.797Z"
      },
      {
        "duration": 958,
        "start_time": "2022-08-01T10:57:45.810Z"
      },
      {
        "duration": 124,
        "start_time": "2022-08-01T10:57:46.769Z"
      },
      {
        "duration": 14,
        "start_time": "2022-08-01T10:57:46.897Z"
      },
      {
        "duration": 20,
        "start_time": "2022-08-01T10:57:46.912Z"
      },
      {
        "duration": 69,
        "start_time": "2022-08-01T10:57:46.934Z"
      },
      {
        "duration": 107,
        "start_time": "2022-08-01T10:57:47.004Z"
      },
      {
        "duration": 102,
        "start_time": "2022-08-01T10:57:47.199Z"
      },
      {
        "duration": 509,
        "start_time": "2022-08-01T10:57:47.306Z"
      },
      {
        "duration": 186,
        "start_time": "2022-08-01T10:57:47.817Z"
      },
      {
        "duration": 157,
        "start_time": "2022-08-01T10:57:48.005Z"
      },
      {
        "duration": 2,
        "start_time": "2022-08-01T10:57:48.164Z"
      },
      {
        "duration": 548,
        "start_time": "2022-08-01T10:57:48.168Z"
      },
      {
        "duration": 39,
        "start_time": "2022-08-01T10:57:48.717Z"
      },
      {
        "duration": 945,
        "start_time": "2022-08-01T10:57:48.758Z"
      },
      {
        "duration": 65,
        "start_time": "2022-08-01T10:57:49.705Z"
      },
      {
        "duration": 36,
        "start_time": "2022-08-01T10:57:49.772Z"
      },
      {
        "duration": 914,
        "start_time": "2022-08-01T10:57:49.810Z"
      },
      {
        "duration": 113,
        "start_time": "2022-08-01T10:57:50.726Z"
      },
      {
        "duration": 219,
        "start_time": "2022-08-01T10:57:50.841Z"
      },
      {
        "duration": 57,
        "start_time": "2022-08-01T10:57:51.062Z"
      },
      {
        "duration": 2,
        "start_time": "2022-08-01T10:57:51.121Z"
      },
      {
        "duration": 76,
        "start_time": "2022-08-01T10:57:51.125Z"
      },
      {
        "duration": 205,
        "start_time": "2022-08-01T10:57:51.203Z"
      },
      {
        "duration": 116,
        "start_time": "2022-08-01T10:57:51.499Z"
      },
      {
        "duration": 123,
        "start_time": "2022-08-01T10:57:51.701Z"
      },
      {
        "duration": 299,
        "start_time": "2022-08-01T10:59:13.048Z"
      },
      {
        "duration": 359,
        "start_time": "2022-08-01T10:59:40.642Z"
      },
      {
        "duration": 245,
        "start_time": "2022-08-01T10:59:50.163Z"
      },
      {
        "duration": 637,
        "start_time": "2022-08-01T10:59:56.771Z"
      },
      {
        "duration": 61,
        "start_time": "2022-08-01T11:00:03.148Z"
      },
      {
        "duration": 195,
        "start_time": "2022-08-01T11:00:10.604Z"
      },
      {
        "duration": 37,
        "start_time": "2022-08-01T11:00:21.769Z"
      },
      {
        "duration": 43,
        "start_time": "2022-08-01T11:00:27.956Z"
      },
      {
        "duration": 1198,
        "start_time": "2022-08-01T11:02:43.489Z"
      },
      {
        "duration": 98,
        "start_time": "2022-08-01T11:02:44.688Z"
      },
      {
        "duration": 4,
        "start_time": "2022-08-01T11:02:44.788Z"
      },
      {
        "duration": 18,
        "start_time": "2022-08-01T11:02:44.794Z"
      },
      {
        "duration": 4,
        "start_time": "2022-08-01T11:02:44.814Z"
      },
      {
        "duration": 18,
        "start_time": "2022-08-01T11:02:44.819Z"
      },
      {
        "duration": 32,
        "start_time": "2022-08-01T11:02:44.838Z"
      },
      {
        "duration": 2,
        "start_time": "2022-08-01T11:02:44.872Z"
      },
      {
        "duration": 9,
        "start_time": "2022-08-01T11:02:44.876Z"
      },
      {
        "duration": 8,
        "start_time": "2022-08-01T11:02:44.897Z"
      },
      {
        "duration": 384,
        "start_time": "2022-08-01T11:02:44.906Z"
      },
      {
        "duration": 26,
        "start_time": "2022-08-01T11:02:45.298Z"
      },
      {
        "duration": 7,
        "start_time": "2022-08-01T11:02:45.326Z"
      },
      {
        "duration": 937,
        "start_time": "2022-08-01T11:02:45.334Z"
      },
      {
        "duration": 119,
        "start_time": "2022-08-01T11:02:46.273Z"
      },
      {
        "duration": 15,
        "start_time": "2022-08-01T11:02:46.394Z"
      },
      {
        "duration": 22,
        "start_time": "2022-08-01T11:02:46.411Z"
      },
      {
        "duration": 167,
        "start_time": "2022-08-01T11:02:46.434Z"
      },
      {
        "duration": 196,
        "start_time": "2022-08-01T11:02:46.603Z"
      },
      {
        "duration": 111,
        "start_time": "2022-08-01T11:02:46.801Z"
      },
      {
        "duration": 568,
        "start_time": "2022-08-01T11:02:46.914Z"
      },
      {
        "duration": 137,
        "start_time": "2022-08-01T11:02:47.484Z"
      },
      {
        "duration": 160,
        "start_time": "2022-08-01T11:02:47.623Z"
      },
      {
        "duration": 2,
        "start_time": "2022-08-01T11:02:47.784Z"
      },
      {
        "duration": 547,
        "start_time": "2022-08-01T11:02:47.788Z"
      },
      {
        "duration": 40,
        "start_time": "2022-08-01T11:02:48.336Z"
      },
      {
        "duration": 957,
        "start_time": "2022-08-01T11:02:48.378Z"
      },
      {
        "duration": 71,
        "start_time": "2022-08-01T11:02:49.338Z"
      },
      {
        "duration": 25,
        "start_time": "2022-08-01T11:02:49.410Z"
      },
      {
        "duration": 927,
        "start_time": "2022-08-01T11:02:49.437Z"
      },
      {
        "duration": 113,
        "start_time": "2022-08-01T11:02:50.366Z"
      },
      {
        "duration": 213,
        "start_time": "2022-08-01T11:02:50.481Z"
      },
      {
        "duration": 50,
        "start_time": "2022-08-01T11:02:50.697Z"
      },
      {
        "duration": 2,
        "start_time": "2022-08-01T11:02:50.749Z"
      },
      {
        "duration": 54,
        "start_time": "2022-08-01T11:02:50.753Z"
      },
      {
        "duration": 403,
        "start_time": "2022-08-01T11:02:50.899Z"
      },
      {
        "duration": 298,
        "start_time": "2022-08-01T11:02:51.304Z"
      },
      {
        "duration": 216,
        "start_time": "2022-08-01T11:02:51.604Z"
      },
      {
        "duration": 520,
        "start_time": "2022-08-01T11:03:01.791Z"
      },
      {
        "duration": 387,
        "start_time": "2022-08-01T11:05:02.951Z"
      },
      {
        "duration": 361,
        "start_time": "2022-08-01T11:05:29.869Z"
      },
      {
        "duration": 28,
        "start_time": "2022-08-01T11:05:53.097Z"
      },
      {
        "duration": 9,
        "start_time": "2022-08-01T11:06:11.583Z"
      },
      {
        "duration": 1203,
        "start_time": "2022-08-01T11:07:33.088Z"
      },
      {
        "duration": 100,
        "start_time": "2022-08-01T11:07:34.292Z"
      },
      {
        "duration": 5,
        "start_time": "2022-08-01T11:07:34.394Z"
      },
      {
        "duration": 23,
        "start_time": "2022-08-01T11:07:34.401Z"
      },
      {
        "duration": 4,
        "start_time": "2022-08-01T11:07:34.426Z"
      },
      {
        "duration": 22,
        "start_time": "2022-08-01T11:07:34.432Z"
      },
      {
        "duration": 24,
        "start_time": "2022-08-01T11:07:34.456Z"
      },
      {
        "duration": 16,
        "start_time": "2022-08-01T11:07:34.482Z"
      },
      {
        "duration": 12,
        "start_time": "2022-08-01T11:07:34.500Z"
      },
      {
        "duration": 11,
        "start_time": "2022-08-01T11:07:34.515Z"
      },
      {
        "duration": 401,
        "start_time": "2022-08-01T11:07:34.528Z"
      },
      {
        "duration": 28,
        "start_time": "2022-08-01T11:07:34.931Z"
      },
      {
        "duration": 7,
        "start_time": "2022-08-01T11:07:34.960Z"
      },
      {
        "duration": 936,
        "start_time": "2022-08-01T11:07:34.969Z"
      },
      {
        "duration": 119,
        "start_time": "2022-08-01T11:07:35.906Z"
      },
      {
        "duration": 13,
        "start_time": "2022-08-01T11:07:36.026Z"
      },
      {
        "duration": 30,
        "start_time": "2022-08-01T11:07:36.040Z"
      },
      {
        "duration": 128,
        "start_time": "2022-08-01T11:07:36.072Z"
      },
      {
        "duration": 197,
        "start_time": "2022-08-01T11:07:36.201Z"
      },
      {
        "duration": 106,
        "start_time": "2022-08-01T11:07:36.400Z"
      },
      {
        "duration": 551,
        "start_time": "2022-08-01T11:07:36.508Z"
      },
      {
        "duration": 139,
        "start_time": "2022-08-01T11:07:37.061Z"
      },
      {
        "duration": 154,
        "start_time": "2022-08-01T11:07:37.202Z"
      },
      {
        "duration": 2,
        "start_time": "2022-08-01T11:07:37.357Z"
      },
      {
        "duration": 515,
        "start_time": "2022-08-01T11:07:37.361Z"
      },
      {
        "duration": 56,
        "start_time": "2022-08-01T11:07:37.877Z"
      },
      {
        "duration": 946,
        "start_time": "2022-08-01T11:07:37.935Z"
      },
      {
        "duration": 76,
        "start_time": "2022-08-01T11:07:38.886Z"
      },
      {
        "duration": 35,
        "start_time": "2022-08-01T11:07:38.963Z"
      },
      {
        "duration": 922,
        "start_time": "2022-08-01T11:07:38.999Z"
      },
      {
        "duration": 118,
        "start_time": "2022-08-01T11:07:39.922Z"
      },
      {
        "duration": 225,
        "start_time": "2022-08-01T11:07:40.041Z"
      },
      {
        "duration": 63,
        "start_time": "2022-08-01T11:07:40.268Z"
      },
      {
        "duration": 3,
        "start_time": "2022-08-01T11:07:40.333Z"
      },
      {
        "duration": 65,
        "start_time": "2022-08-01T11:07:40.337Z"
      },
      {
        "duration": 401,
        "start_time": "2022-08-01T11:07:40.403Z"
      },
      {
        "duration": 293,
        "start_time": "2022-08-01T11:07:40.806Z"
      },
      {
        "duration": 126,
        "start_time": "2022-08-01T11:07:41.100Z"
      },
      {
        "duration": 519,
        "start_time": "2022-08-01T11:09:42.051Z"
      },
      {
        "duration": 4,
        "start_time": "2022-08-01T11:10:00.517Z"
      },
      {
        "duration": 142,
        "start_time": "2022-08-01T11:10:00.522Z"
      },
      {
        "duration": 4,
        "start_time": "2022-08-01T11:10:00.665Z"
      },
      {
        "duration": 66,
        "start_time": "2022-08-01T11:10:00.671Z"
      },
      {
        "duration": 26,
        "start_time": "2022-08-01T11:10:00.739Z"
      },
      {
        "duration": 46,
        "start_time": "2022-08-01T11:10:00.766Z"
      },
      {
        "duration": 39,
        "start_time": "2022-08-01T11:10:00.814Z"
      },
      {
        "duration": 6,
        "start_time": "2022-08-01T11:10:00.856Z"
      },
      {
        "duration": 39,
        "start_time": "2022-08-01T11:10:00.863Z"
      },
      {
        "duration": 30,
        "start_time": "2022-08-01T11:10:00.903Z"
      },
      {
        "duration": 396,
        "start_time": "2022-08-01T11:10:00.934Z"
      },
      {
        "duration": 26,
        "start_time": "2022-08-01T11:10:01.332Z"
      },
      {
        "duration": 22,
        "start_time": "2022-08-01T11:10:01.360Z"
      },
      {
        "duration": 954,
        "start_time": "2022-08-01T11:10:01.384Z"
      },
      {
        "duration": 122,
        "start_time": "2022-08-01T11:10:02.340Z"
      },
      {
        "duration": 13,
        "start_time": "2022-08-01T11:10:02.464Z"
      },
      {
        "duration": 36,
        "start_time": "2022-08-01T11:10:02.479Z"
      },
      {
        "duration": 85,
        "start_time": "2022-08-01T11:10:02.517Z"
      },
      {
        "duration": 197,
        "start_time": "2022-08-01T11:10:02.604Z"
      },
      {
        "duration": 101,
        "start_time": "2022-08-01T11:10:02.803Z"
      },
      {
        "duration": 314,
        "start_time": "2022-08-01T11:10:02.906Z"
      },
      {
        "duration": 199,
        "start_time": "2022-08-01T11:10:03.221Z"
      },
      {
        "duration": 167,
        "start_time": "2022-08-01T11:10:03.421Z"
      },
      {
        "duration": 8,
        "start_time": "2022-08-01T11:10:03.590Z"
      },
      {
        "duration": 537,
        "start_time": "2022-08-01T11:10:03.599Z"
      },
      {
        "duration": 42,
        "start_time": "2022-08-01T11:10:04.137Z"
      },
      {
        "duration": 1000,
        "start_time": "2022-08-01T11:10:04.181Z"
      },
      {
        "duration": 80,
        "start_time": "2022-08-01T11:10:05.183Z"
      },
      {
        "duration": 34,
        "start_time": "2022-08-01T11:10:05.265Z"
      },
      {
        "duration": 935,
        "start_time": "2022-08-01T11:10:05.301Z"
      },
      {
        "duration": 111,
        "start_time": "2022-08-01T11:10:06.238Z"
      },
      {
        "duration": 206,
        "start_time": "2022-08-01T11:10:06.351Z"
      },
      {
        "duration": 55,
        "start_time": "2022-08-01T11:10:06.559Z"
      },
      {
        "duration": 2,
        "start_time": "2022-08-01T11:10:06.616Z"
      },
      {
        "duration": 82,
        "start_time": "2022-08-01T11:10:06.620Z"
      },
      {
        "duration": 602,
        "start_time": "2022-08-01T11:10:06.704Z"
      },
      {
        "duration": 201,
        "start_time": "2022-08-01T11:10:07.398Z"
      },
      {
        "duration": 114,
        "start_time": "2022-08-01T11:10:07.600Z"
      },
      {
        "duration": 67,
        "start_time": "2022-08-01T11:12:05.047Z"
      },
      {
        "duration": 3181,
        "start_time": "2022-08-01T11:12:36.060Z"
      },
      {
        "duration": 5972,
        "start_time": "2022-08-01T11:14:36.276Z"
      },
      {
        "duration": 393,
        "start_time": "2022-08-01T11:15:02.396Z"
      },
      {
        "duration": 16645,
        "start_time": "2022-08-01T11:15:17.452Z"
      },
      {
        "duration": 466,
        "start_time": "2022-08-01T11:15:43.963Z"
      },
      {
        "duration": 3711,
        "start_time": "2022-08-01T11:16:51.545Z"
      },
      {
        "duration": 17,
        "start_time": "2022-08-01T11:17:04.252Z"
      },
      {
        "duration": 67050,
        "start_time": "2022-08-01T11:17:15.282Z"
      },
      {
        "duration": 8187,
        "start_time": "2022-08-01T11:18:30.981Z"
      },
      {
        "duration": 1164,
        "start_time": "2022-08-01T11:19:15.378Z"
      },
      {
        "duration": 95,
        "start_time": "2022-08-01T11:19:16.544Z"
      },
      {
        "duration": 4,
        "start_time": "2022-08-01T11:19:16.641Z"
      },
      {
        "duration": 14,
        "start_time": "2022-08-01T11:19:16.647Z"
      },
      {
        "duration": 4,
        "start_time": "2022-08-01T11:19:16.663Z"
      },
      {
        "duration": 30,
        "start_time": "2022-08-01T11:19:16.669Z"
      },
      {
        "duration": 19,
        "start_time": "2022-08-01T11:19:16.701Z"
      },
      {
        "duration": 3,
        "start_time": "2022-08-01T11:19:16.722Z"
      },
      {
        "duration": 15,
        "start_time": "2022-08-01T11:19:16.727Z"
      },
      {
        "duration": 6,
        "start_time": "2022-08-01T11:19:16.745Z"
      },
      {
        "duration": 396,
        "start_time": "2022-08-01T11:19:16.753Z"
      },
      {
        "duration": 27,
        "start_time": "2022-08-01T11:19:17.151Z"
      },
      {
        "duration": 22,
        "start_time": "2022-08-01T11:19:17.180Z"
      },
      {
        "duration": 945,
        "start_time": "2022-08-01T11:19:17.203Z"
      },
      {
        "duration": 125,
        "start_time": "2022-08-01T11:19:18.150Z"
      },
      {
        "duration": 15,
        "start_time": "2022-08-01T11:19:18.276Z"
      },
      {
        "duration": 24,
        "start_time": "2022-08-01T11:19:18.292Z"
      },
      {
        "duration": 86,
        "start_time": "2022-08-01T11:19:18.317Z"
      },
      {
        "duration": 213,
        "start_time": "2022-08-01T11:19:18.404Z"
      },
      {
        "duration": 105,
        "start_time": "2022-08-01T11:19:18.699Z"
      },
      {
        "duration": 564,
        "start_time": "2022-08-01T11:19:18.806Z"
      },
      {
        "duration": 134,
        "start_time": "2022-08-01T11:19:19.372Z"
      },
      {
        "duration": 161,
        "start_time": "2022-08-01T11:19:19.508Z"
      },
      {
        "duration": 2,
        "start_time": "2022-08-01T11:19:19.671Z"
      },
      {
        "duration": 529,
        "start_time": "2022-08-01T11:19:19.675Z"
      },
      {
        "duration": 41,
        "start_time": "2022-08-01T11:19:20.206Z"
      },
      {
        "duration": 1334,
        "start_time": "2022-08-01T11:19:20.249Z"
      },
      {
        "duration": 96,
        "start_time": "2022-08-01T11:19:21.587Z"
      },
      {
        "duration": 31,
        "start_time": "2022-08-01T11:19:21.684Z"
      },
      {
        "duration": 3239,
        "start_time": "2022-08-01T11:19:21.717Z"
      },
      {
        "duration": 113,
        "start_time": "2022-08-01T11:19:24.957Z"
      },
      {
        "duration": 11976,
        "start_time": "2022-08-01T11:19:25.071Z"
      },
      {
        "duration": 634,
        "start_time": "2022-08-01T11:19:37.049Z"
      },
      {
        "duration": 3272,
        "start_time": "2022-08-01T11:19:37.684Z"
      },
      {
        "duration": 16,
        "start_time": "2022-08-01T11:19:40.958Z"
      },
      {
        "duration": 2,
        "start_time": "2022-08-01T11:19:40.976Z"
      },
      {
        "duration": 117,
        "start_time": "2022-08-01T11:19:40.980Z"
      },
      {
        "duration": 306,
        "start_time": "2022-08-01T11:19:41.099Z"
      },
      {
        "duration": 295,
        "start_time": "2022-08-01T11:19:41.407Z"
      },
      {
        "duration": 129,
        "start_time": "2022-08-01T11:19:41.704Z"
      },
      {
        "duration": 1115,
        "start_time": "2022-08-01T11:20:25.628Z"
      },
      {
        "duration": 116,
        "start_time": "2022-08-01T11:20:26.746Z"
      },
      {
        "duration": 4,
        "start_time": "2022-08-01T11:20:26.864Z"
      },
      {
        "duration": 17,
        "start_time": "2022-08-01T11:20:26.869Z"
      },
      {
        "duration": 3,
        "start_time": "2022-08-01T11:20:26.888Z"
      },
      {
        "duration": 15,
        "start_time": "2022-08-01T11:20:26.893Z"
      },
      {
        "duration": 21,
        "start_time": "2022-08-01T11:20:26.909Z"
      },
      {
        "duration": 2,
        "start_time": "2022-08-01T11:20:26.932Z"
      },
      {
        "duration": 16,
        "start_time": "2022-08-01T11:20:26.935Z"
      },
      {
        "duration": 7,
        "start_time": "2022-08-01T11:20:26.952Z"
      },
      {
        "duration": 395,
        "start_time": "2022-08-01T11:20:26.961Z"
      },
      {
        "duration": 42,
        "start_time": "2022-08-01T11:20:27.357Z"
      },
      {
        "duration": 8,
        "start_time": "2022-08-01T11:20:27.400Z"
      },
      {
        "duration": 920,
        "start_time": "2022-08-01T11:20:27.411Z"
      },
      {
        "duration": 118,
        "start_time": "2022-08-01T11:20:28.333Z"
      },
      {
        "duration": 13,
        "start_time": "2022-08-01T11:20:28.453Z"
      },
      {
        "duration": 34,
        "start_time": "2022-08-01T11:20:28.467Z"
      },
      {
        "duration": 98,
        "start_time": "2022-08-01T11:20:28.502Z"
      },
      {
        "duration": 195,
        "start_time": "2022-08-01T11:20:28.602Z"
      },
      {
        "duration": 98,
        "start_time": "2022-08-01T11:20:28.800Z"
      },
      {
        "duration": 476,
        "start_time": "2022-08-01T11:20:28.900Z"
      },
      {
        "duration": 139,
        "start_time": "2022-08-01T11:20:29.378Z"
      },
      {
        "duration": 161,
        "start_time": "2022-08-01T11:20:29.519Z"
      },
      {
        "duration": 2,
        "start_time": "2022-08-01T11:20:29.682Z"
      },
      {
        "duration": 522,
        "start_time": "2022-08-01T11:20:29.686Z"
      },
      {
        "duration": 41,
        "start_time": "2022-08-01T11:20:30.211Z"
      },
      {
        "duration": 764,
        "start_time": "2022-08-01T11:20:30.254Z"
      },
      {
        "duration": 53,
        "start_time": "2022-08-01T11:20:31.020Z"
      },
      {
        "duration": 43,
        "start_time": "2022-08-01T11:20:31.076Z"
      },
      {
        "duration": 3695,
        "start_time": "2022-08-01T11:20:31.121Z"
      },
      {
        "duration": 219,
        "start_time": "2022-08-01T11:20:34.817Z"
      },
      {
        "duration": 6709,
        "start_time": "2022-08-01T11:20:35.038Z"
      },
      {
        "duration": 374,
        "start_time": "2022-08-01T11:20:41.748Z"
      },
      {
        "duration": 4447,
        "start_time": "2022-08-01T11:20:42.124Z"
      },
      {
        "duration": 28,
        "start_time": "2022-08-01T11:20:46.573Z"
      },
      {
        "duration": 3,
        "start_time": "2022-08-01T11:20:46.603Z"
      },
      {
        "duration": 92,
        "start_time": "2022-08-01T11:20:46.607Z"
      },
      {
        "duration": 301,
        "start_time": "2022-08-01T11:20:46.700Z"
      },
      {
        "duration": 297,
        "start_time": "2022-08-01T11:20:47.003Z"
      },
      {
        "duration": 125,
        "start_time": "2022-08-01T11:20:47.302Z"
      },
      {
        "duration": 1072,
        "start_time": "2022-08-01T11:21:21.274Z"
      },
      {
        "duration": 103,
        "start_time": "2022-08-01T11:21:22.348Z"
      },
      {
        "duration": 4,
        "start_time": "2022-08-01T11:21:22.452Z"
      },
      {
        "duration": 18,
        "start_time": "2022-08-01T11:21:22.458Z"
      },
      {
        "duration": 4,
        "start_time": "2022-08-01T11:21:22.477Z"
      },
      {
        "duration": 11,
        "start_time": "2022-08-01T11:21:22.482Z"
      },
      {
        "duration": 18,
        "start_time": "2022-08-01T11:21:22.495Z"
      },
      {
        "duration": 2,
        "start_time": "2022-08-01T11:21:22.514Z"
      },
      {
        "duration": 9,
        "start_time": "2022-08-01T11:21:22.518Z"
      },
      {
        "duration": 6,
        "start_time": "2022-08-01T11:21:22.529Z"
      },
      {
        "duration": 383,
        "start_time": "2022-08-01T11:21:22.536Z"
      },
      {
        "duration": 28,
        "start_time": "2022-08-01T11:21:22.920Z"
      },
      {
        "duration": 8,
        "start_time": "2022-08-01T11:21:22.950Z"
      },
      {
        "duration": 953,
        "start_time": "2022-08-01T11:21:22.959Z"
      },
      {
        "duration": 120,
        "start_time": "2022-08-01T11:21:23.913Z"
      },
      {
        "duration": 13,
        "start_time": "2022-08-01T11:21:24.034Z"
      },
      {
        "duration": 19,
        "start_time": "2022-08-01T11:21:24.049Z"
      },
      {
        "duration": 129,
        "start_time": "2022-08-01T11:21:24.069Z"
      },
      {
        "duration": 201,
        "start_time": "2022-08-01T11:21:24.200Z"
      },
      {
        "duration": 104,
        "start_time": "2022-08-01T11:21:24.404Z"
      },
      {
        "duration": 575,
        "start_time": "2022-08-01T11:21:24.510Z"
      },
      {
        "duration": 136,
        "start_time": "2022-08-01T11:21:25.087Z"
      },
      {
        "duration": 148,
        "start_time": "2022-08-01T11:21:25.225Z"
      },
      {
        "duration": 2,
        "start_time": "2022-08-01T11:21:25.375Z"
      },
      {
        "duration": 530,
        "start_time": "2022-08-01T11:21:25.378Z"
      },
      {
        "duration": 39,
        "start_time": "2022-08-01T11:21:25.910Z"
      },
      {
        "duration": 1008,
        "start_time": "2022-08-01T11:21:25.950Z"
      },
      {
        "duration": 73,
        "start_time": "2022-08-01T11:21:26.961Z"
      },
      {
        "duration": 26,
        "start_time": "2022-08-01T11:21:27.036Z"
      },
      {
        "duration": 4137,
        "start_time": "2022-08-01T11:21:27.063Z"
      },
      {
        "duration": 122,
        "start_time": "2022-08-01T11:21:31.201Z"
      },
      {
        "duration": 8630,
        "start_time": "2022-08-01T11:21:31.325Z"
      },
      {
        "duration": 489,
        "start_time": "2022-08-01T11:21:39.956Z"
      },
      {
        "duration": 4460,
        "start_time": "2022-08-01T11:21:40.447Z"
      },
      {
        "duration": 19,
        "start_time": "2022-08-01T11:21:44.909Z"
      },
      {
        "duration": 3,
        "start_time": "2022-08-01T11:21:44.930Z"
      },
      {
        "duration": 72,
        "start_time": "2022-08-01T11:21:44.935Z"
      },
      {
        "duration": 399,
        "start_time": "2022-08-01T11:21:45.099Z"
      },
      {
        "duration": 201,
        "start_time": "2022-08-01T11:21:45.500Z"
      },
      {
        "duration": 206,
        "start_time": "2022-08-01T11:21:45.703Z"
      },
      {
        "duration": 1144,
        "start_time": "2022-08-01T11:22:06.971Z"
      },
      {
        "duration": 88,
        "start_time": "2022-08-01T11:22:08.117Z"
      },
      {
        "duration": 3,
        "start_time": "2022-08-01T11:22:08.207Z"
      },
      {
        "duration": 18,
        "start_time": "2022-08-01T11:22:08.212Z"
      },
      {
        "duration": 3,
        "start_time": "2022-08-01T11:22:08.231Z"
      },
      {
        "duration": 14,
        "start_time": "2022-08-01T11:22:08.235Z"
      },
      {
        "duration": 18,
        "start_time": "2022-08-01T11:22:08.250Z"
      },
      {
        "duration": 2,
        "start_time": "2022-08-01T11:22:08.270Z"
      },
      {
        "duration": 27,
        "start_time": "2022-08-01T11:22:08.273Z"
      },
      {
        "duration": 8,
        "start_time": "2022-08-01T11:22:08.303Z"
      },
      {
        "duration": 386,
        "start_time": "2022-08-01T11:22:08.313Z"
      },
      {
        "duration": 28,
        "start_time": "2022-08-01T11:22:08.700Z"
      },
      {
        "duration": 7,
        "start_time": "2022-08-01T11:22:08.730Z"
      },
      {
        "duration": 940,
        "start_time": "2022-08-01T11:22:08.739Z"
      },
      {
        "duration": 118,
        "start_time": "2022-08-01T11:22:09.680Z"
      },
      {
        "duration": 12,
        "start_time": "2022-08-01T11:22:09.800Z"
      },
      {
        "duration": 28,
        "start_time": "2022-08-01T11:22:09.814Z"
      },
      {
        "duration": 61,
        "start_time": "2022-08-01T11:22:09.843Z"
      },
      {
        "duration": 196,
        "start_time": "2022-08-01T11:22:09.905Z"
      },
      {
        "duration": 95,
        "start_time": "2022-08-01T11:22:10.103Z"
      },
      {
        "duration": 489,
        "start_time": "2022-08-01T11:22:10.200Z"
      },
      {
        "duration": 143,
        "start_time": "2022-08-01T11:22:10.691Z"
      },
      {
        "duration": 155,
        "start_time": "2022-08-01T11:22:10.835Z"
      },
      {
        "duration": 2,
        "start_time": "2022-08-01T11:22:10.997Z"
      },
      {
        "duration": 526,
        "start_time": "2022-08-01T11:22:11.001Z"
      },
      {
        "duration": 40,
        "start_time": "2022-08-01T11:22:11.528Z"
      },
      {
        "duration": 907,
        "start_time": "2022-08-01T11:22:11.569Z"
      },
      {
        "duration": 69,
        "start_time": "2022-08-01T11:22:12.480Z"
      },
      {
        "duration": 28,
        "start_time": "2022-08-01T11:22:12.551Z"
      },
      {
        "duration": 3271,
        "start_time": "2022-08-01T11:22:12.580Z"
      },
      {
        "duration": 113,
        "start_time": "2022-08-01T11:22:15.853Z"
      },
      {
        "duration": 8567,
        "start_time": "2022-08-01T11:22:15.967Z"
      },
      {
        "duration": 472,
        "start_time": "2022-08-01T11:22:24.536Z"
      },
      {
        "duration": 4405,
        "start_time": "2022-08-01T11:22:25.010Z"
      },
      {
        "duration": 25,
        "start_time": "2022-08-01T11:22:29.417Z"
      },
      {
        "duration": 3,
        "start_time": "2022-08-01T11:22:29.444Z"
      },
      {
        "duration": 258,
        "start_time": "2022-08-01T11:22:29.449Z"
      },
      {
        "duration": 407,
        "start_time": "2022-08-01T11:22:29.798Z"
      },
      {
        "duration": 296,
        "start_time": "2022-08-01T11:22:30.206Z"
      },
      {
        "duration": 213,
        "start_time": "2022-08-01T11:22:30.504Z"
      },
      {
        "duration": 839,
        "start_time": "2022-08-01T11:22:52.831Z"
      },
      {
        "duration": 1224,
        "start_time": "2022-08-01T11:22:59.070Z"
      },
      {
        "duration": 94,
        "start_time": "2022-08-01T11:23:00.297Z"
      },
      {
        "duration": 4,
        "start_time": "2022-08-01T11:23:00.393Z"
      },
      {
        "duration": 17,
        "start_time": "2022-08-01T11:23:00.399Z"
      },
      {
        "duration": 4,
        "start_time": "2022-08-01T11:23:00.417Z"
      },
      {
        "duration": 19,
        "start_time": "2022-08-01T11:23:00.422Z"
      },
      {
        "duration": 35,
        "start_time": "2022-08-01T11:23:00.443Z"
      },
      {
        "duration": 8,
        "start_time": "2022-08-01T11:23:00.479Z"
      },
      {
        "duration": 21,
        "start_time": "2022-08-01T11:23:00.488Z"
      },
      {
        "duration": 19,
        "start_time": "2022-08-01T11:23:00.512Z"
      },
      {
        "duration": 385,
        "start_time": "2022-08-01T11:23:00.532Z"
      },
      {
        "duration": 29,
        "start_time": "2022-08-01T11:23:00.918Z"
      },
      {
        "duration": 6,
        "start_time": "2022-08-01T11:23:00.949Z"
      },
      {
        "duration": 988,
        "start_time": "2022-08-01T11:23:00.956Z"
      },
      {
        "duration": 265,
        "start_time": "2022-08-01T11:23:01.946Z"
      },
      {
        "duration": 13,
        "start_time": "2022-08-01T11:23:02.213Z"
      },
      {
        "duration": 75,
        "start_time": "2022-08-01T11:23:02.227Z"
      },
      {
        "duration": 100,
        "start_time": "2022-08-01T11:23:02.304Z"
      },
      {
        "duration": 293,
        "start_time": "2022-08-01T11:23:02.406Z"
      },
      {
        "duration": 105,
        "start_time": "2022-08-01T11:23:02.701Z"
      },
      {
        "duration": 926,
        "start_time": "2022-08-01T11:23:02.808Z"
      },
      {
        "duration": 291,
        "start_time": "2022-08-01T11:23:03.736Z"
      },
      {
        "duration": 247,
        "start_time": "2022-08-01T11:23:04.029Z"
      },
      {
        "duration": 2,
        "start_time": "2022-08-01T11:23:04.278Z"
      },
      {
        "duration": 581,
        "start_time": "2022-08-01T11:23:04.281Z"
      },
      {
        "duration": 46,
        "start_time": "2022-08-01T11:23:04.863Z"
      },
      {
        "duration": 864,
        "start_time": "2022-08-01T11:23:04.911Z"
      },
      {
        "duration": 69,
        "start_time": "2022-08-01T11:23:05.778Z"
      },
      {
        "duration": 26,
        "start_time": "2022-08-01T11:23:05.848Z"
      },
      {
        "duration": 1125,
        "start_time": "2022-08-01T11:49:16.787Z"
      },
      {
        "duration": 93,
        "start_time": "2022-08-01T11:49:17.914Z"
      },
      {
        "duration": 5,
        "start_time": "2022-08-01T11:49:18.008Z"
      },
      {
        "duration": 17,
        "start_time": "2022-08-01T11:49:18.015Z"
      },
      {
        "duration": 4,
        "start_time": "2022-08-01T11:49:18.033Z"
      },
      {
        "duration": 20,
        "start_time": "2022-08-01T11:49:18.038Z"
      },
      {
        "duration": 17,
        "start_time": "2022-08-01T11:49:18.059Z"
      },
      {
        "duration": 21,
        "start_time": "2022-08-01T11:49:18.077Z"
      },
      {
        "duration": 13,
        "start_time": "2022-08-01T11:49:18.099Z"
      },
      {
        "duration": 7,
        "start_time": "2022-08-01T11:49:18.116Z"
      },
      {
        "duration": 382,
        "start_time": "2022-08-01T11:49:18.125Z"
      },
      {
        "duration": 28,
        "start_time": "2022-08-01T11:49:18.508Z"
      },
      {
        "duration": 8,
        "start_time": "2022-08-01T11:49:18.537Z"
      },
      {
        "duration": 919,
        "start_time": "2022-08-01T11:49:18.547Z"
      },
      {
        "duration": 119,
        "start_time": "2022-08-01T11:49:19.467Z"
      },
      {
        "duration": 18,
        "start_time": "2022-08-01T11:49:19.588Z"
      },
      {
        "duration": 21,
        "start_time": "2022-08-01T11:49:19.608Z"
      },
      {
        "duration": 269,
        "start_time": "2022-08-01T11:49:19.630Z"
      },
      {
        "duration": 109,
        "start_time": "2022-08-01T11:49:19.900Z"
      },
      {
        "duration": 99,
        "start_time": "2022-08-01T11:49:20.099Z"
      },
      {
        "duration": 465,
        "start_time": "2022-08-01T11:49:20.200Z"
      },
      {
        "duration": 133,
        "start_time": "2022-08-01T11:49:20.666Z"
      },
      {
        "duration": 155,
        "start_time": "2022-08-01T11:49:20.800Z"
      },
      {
        "duration": 3,
        "start_time": "2022-08-01T11:49:20.956Z"
      },
      {
        "duration": 517,
        "start_time": "2022-08-01T11:49:20.960Z"
      },
      {
        "duration": 47,
        "start_time": "2022-08-01T11:49:21.478Z"
      },
      {
        "duration": 865,
        "start_time": "2022-08-01T11:49:21.526Z"
      },
      {
        "duration": 65,
        "start_time": "2022-08-01T11:49:22.397Z"
      },
      {
        "duration": 40,
        "start_time": "2022-08-01T11:49:22.463Z"
      },
      {
        "duration": 4117,
        "start_time": "2022-08-01T11:49:22.505Z"
      },
      {
        "duration": 117,
        "start_time": "2022-08-01T11:49:26.624Z"
      },
      {
        "duration": 7393,
        "start_time": "2022-08-01T11:49:26.743Z"
      },
      {
        "duration": 453,
        "start_time": "2022-08-01T11:49:34.138Z"
      },
      {
        "duration": 4383,
        "start_time": "2022-08-01T11:49:34.601Z"
      },
      {
        "duration": 27,
        "start_time": "2022-08-01T11:49:38.986Z"
      },
      {
        "duration": 2,
        "start_time": "2022-08-01T11:49:39.014Z"
      },
      {
        "duration": 83,
        "start_time": "2022-08-01T11:49:39.018Z"
      },
      {
        "duration": 401,
        "start_time": "2022-08-01T11:49:39.103Z"
      },
      {
        "duration": 296,
        "start_time": "2022-08-01T11:49:39.506Z"
      },
      {
        "duration": 213,
        "start_time": "2022-08-01T11:49:39.804Z"
      },
      {
        "duration": 1114,
        "start_time": "2022-08-01T11:50:02.930Z"
      },
      {
        "duration": 104,
        "start_time": "2022-08-01T11:50:04.046Z"
      },
      {
        "duration": 3,
        "start_time": "2022-08-01T11:50:04.152Z"
      },
      {
        "duration": 17,
        "start_time": "2022-08-01T11:50:04.157Z"
      },
      {
        "duration": 3,
        "start_time": "2022-08-01T11:50:04.176Z"
      },
      {
        "duration": 19,
        "start_time": "2022-08-01T11:50:04.181Z"
      },
      {
        "duration": 17,
        "start_time": "2022-08-01T11:50:04.202Z"
      },
      {
        "duration": 3,
        "start_time": "2022-08-01T11:50:04.221Z"
      },
      {
        "duration": 8,
        "start_time": "2022-08-01T11:50:04.225Z"
      },
      {
        "duration": 7,
        "start_time": "2022-08-01T11:50:04.235Z"
      },
      {
        "duration": 422,
        "start_time": "2022-08-01T11:50:04.244Z"
      },
      {
        "duration": 40,
        "start_time": "2022-08-01T11:50:04.668Z"
      },
      {
        "duration": 9,
        "start_time": "2022-08-01T11:50:04.710Z"
      },
      {
        "duration": 929,
        "start_time": "2022-08-01T11:50:04.722Z"
      },
      {
        "duration": 122,
        "start_time": "2022-08-01T11:50:05.652Z"
      },
      {
        "duration": 14,
        "start_time": "2022-08-01T11:50:05.775Z"
      },
      {
        "duration": 21,
        "start_time": "2022-08-01T11:50:05.798Z"
      },
      {
        "duration": 83,
        "start_time": "2022-08-01T11:50:05.820Z"
      },
      {
        "duration": 197,
        "start_time": "2022-08-01T11:50:05.904Z"
      },
      {
        "duration": 104,
        "start_time": "2022-08-01T11:50:06.104Z"
      },
      {
        "duration": 561,
        "start_time": "2022-08-01T11:50:06.209Z"
      },
      {
        "duration": 131,
        "start_time": "2022-08-01T11:50:06.772Z"
      },
      {
        "duration": 155,
        "start_time": "2022-08-01T11:50:06.905Z"
      },
      {
        "duration": 2,
        "start_time": "2022-08-01T11:50:07.062Z"
      },
      {
        "duration": 525,
        "start_time": "2022-08-01T11:50:07.066Z"
      },
      {
        "duration": 39,
        "start_time": "2022-08-01T11:50:07.598Z"
      },
      {
        "duration": 902,
        "start_time": "2022-08-01T11:50:07.638Z"
      },
      {
        "duration": 77,
        "start_time": "2022-08-01T11:50:08.542Z"
      },
      {
        "duration": 27,
        "start_time": "2022-08-01T11:50:08.620Z"
      },
      {
        "duration": 4120,
        "start_time": "2022-08-01T11:50:08.649Z"
      },
      {
        "duration": 111,
        "start_time": "2022-08-01T11:50:12.771Z"
      },
      {
        "duration": 7610,
        "start_time": "2022-08-01T11:50:12.884Z"
      },
      {
        "duration": 443,
        "start_time": "2022-08-01T11:50:20.497Z"
      },
      {
        "duration": 4442,
        "start_time": "2022-08-01T11:50:20.942Z"
      },
      {
        "duration": 29,
        "start_time": "2022-08-01T11:50:25.386Z"
      },
      {
        "duration": 2,
        "start_time": "2022-08-01T11:50:25.417Z"
      },
      {
        "duration": 83,
        "start_time": "2022-08-01T11:50:25.421Z"
      },
      {
        "duration": 398,
        "start_time": "2022-08-01T11:50:25.506Z"
      },
      {
        "duration": 296,
        "start_time": "2022-08-01T11:50:25.906Z"
      },
      {
        "duration": 125,
        "start_time": "2022-08-01T11:50:26.204Z"
      },
      {
        "duration": 1215,
        "start_time": "2022-08-01T13:01:13.581Z"
      },
      {
        "duration": 107,
        "start_time": "2022-08-01T13:01:14.798Z"
      },
      {
        "duration": 4,
        "start_time": "2022-08-01T13:01:14.907Z"
      },
      {
        "duration": 14,
        "start_time": "2022-08-01T13:01:14.913Z"
      },
      {
        "duration": 3,
        "start_time": "2022-08-01T13:01:14.929Z"
      },
      {
        "duration": 28,
        "start_time": "2022-08-01T13:01:14.934Z"
      },
      {
        "duration": 19,
        "start_time": "2022-08-01T13:01:14.963Z"
      },
      {
        "duration": 2,
        "start_time": "2022-08-01T13:01:14.984Z"
      },
      {
        "duration": 40,
        "start_time": "2022-08-01T13:01:14.998Z"
      },
      {
        "duration": 24,
        "start_time": "2022-08-01T13:01:15.040Z"
      },
      {
        "duration": 400,
        "start_time": "2022-08-01T13:01:15.065Z"
      },
      {
        "duration": 37,
        "start_time": "2022-08-01T13:01:15.467Z"
      },
      {
        "duration": 7,
        "start_time": "2022-08-01T13:01:15.506Z"
      },
      {
        "duration": 921,
        "start_time": "2022-08-01T13:01:15.514Z"
      },
      {
        "duration": 131,
        "start_time": "2022-08-01T13:01:16.437Z"
      },
      {
        "duration": 14,
        "start_time": "2022-08-01T13:01:16.571Z"
      },
      {
        "duration": 30,
        "start_time": "2022-08-01T13:01:16.586Z"
      },
      {
        "duration": 88,
        "start_time": "2022-08-01T13:01:16.618Z"
      },
      {
        "duration": 192,
        "start_time": "2022-08-01T13:01:16.709Z"
      },
      {
        "duration": 195,
        "start_time": "2022-08-01T13:01:16.903Z"
      },
      {
        "duration": 462,
        "start_time": "2022-08-01T13:01:17.100Z"
      },
      {
        "duration": 140,
        "start_time": "2022-08-01T13:01:17.564Z"
      },
      {
        "duration": 157,
        "start_time": "2022-08-01T13:01:17.706Z"
      },
      {
        "duration": 3,
        "start_time": "2022-08-01T13:01:17.864Z"
      },
      {
        "duration": 530,
        "start_time": "2022-08-01T13:01:17.869Z"
      },
      {
        "duration": 40,
        "start_time": "2022-08-01T13:01:18.400Z"
      },
      {
        "duration": 921,
        "start_time": "2022-08-01T13:01:18.442Z"
      },
      {
        "duration": 78,
        "start_time": "2022-08-01T13:01:19.366Z"
      },
      {
        "duration": 28,
        "start_time": "2022-08-01T13:01:19.446Z"
      },
      {
        "duration": 3168,
        "start_time": "2022-08-01T13:01:19.476Z"
      },
      {
        "duration": 117,
        "start_time": "2022-08-01T13:01:22.645Z"
      },
      {
        "duration": 7673,
        "start_time": "2022-08-01T13:01:22.764Z"
      },
      {
        "duration": 451,
        "start_time": "2022-08-01T13:01:30.438Z"
      },
      {
        "duration": 4464,
        "start_time": "2022-08-01T13:01:30.891Z"
      },
      {
        "duration": 20,
        "start_time": "2022-08-01T13:01:35.357Z"
      },
      {
        "duration": 4,
        "start_time": "2022-08-01T13:01:35.378Z"
      },
      {
        "duration": 114,
        "start_time": "2022-08-01T13:01:35.397Z"
      },
      {
        "duration": 390,
        "start_time": "2022-08-01T13:01:35.519Z"
      },
      {
        "duration": 285,
        "start_time": "2022-08-01T13:01:35.913Z"
      },
      {
        "duration": 119,
        "start_time": "2022-08-01T13:01:36.201Z"
      },
      {
        "duration": 68,
        "start_time": "2022-08-01T13:09:48.472Z"
      },
      {
        "duration": 1328,
        "start_time": "2022-08-01T16:11:38.656Z"
      },
      {
        "duration": 105,
        "start_time": "2022-08-01T16:12:06.874Z"
      },
      {
        "duration": 320,
        "start_time": "2022-08-01T16:12:06.982Z"
      },
      {
        "duration": 11,
        "start_time": "2022-08-01T16:12:07.305Z"
      },
      {
        "duration": 152,
        "start_time": "2022-08-01T16:12:07.318Z"
      },
      {
        "duration": 48,
        "start_time": "2022-08-01T16:12:07.473Z"
      },
      {
        "duration": 48,
        "start_time": "2022-08-01T16:12:07.524Z"
      },
      {
        "duration": 88,
        "start_time": "2022-08-01T16:12:07.578Z"
      },
      {
        "duration": 4,
        "start_time": "2022-08-01T16:12:07.668Z"
      },
      {
        "duration": 60,
        "start_time": "2022-08-01T16:12:07.674Z"
      },
      {
        "duration": 44,
        "start_time": "2022-08-01T16:12:07.767Z"
      },
      {
        "duration": 529,
        "start_time": "2022-08-01T16:12:07.814Z"
      },
      {
        "duration": 48,
        "start_time": "2022-08-01T16:12:08.346Z"
      },
      {
        "duration": 11,
        "start_time": "2022-08-01T16:12:08.403Z"
      },
      {
        "duration": 1025,
        "start_time": "2022-08-01T16:12:08.416Z"
      },
      {
        "duration": 135,
        "start_time": "2022-08-01T16:12:09.442Z"
      },
      {
        "duration": 18,
        "start_time": "2022-08-01T16:12:09.583Z"
      },
      {
        "duration": 20,
        "start_time": "2022-08-01T16:12:09.603Z"
      },
      {
        "duration": 249,
        "start_time": "2022-08-01T16:12:09.625Z"
      },
      {
        "duration": 392,
        "start_time": "2022-08-01T16:12:09.882Z"
      },
      {
        "duration": 102,
        "start_time": "2022-08-01T16:12:10.279Z"
      },
      {
        "duration": 233,
        "start_time": "2022-08-01T16:12:10.398Z"
      },
      {
        "duration": 282,
        "start_time": "2022-08-01T16:12:10.633Z"
      },
      {
        "duration": 182,
        "start_time": "2022-08-01T16:12:10.919Z"
      },
      {
        "duration": 3,
        "start_time": "2022-08-01T16:12:11.102Z"
      },
      {
        "duration": 531,
        "start_time": "2022-08-01T16:12:11.106Z"
      },
      {
        "duration": 52,
        "start_time": "2022-08-01T16:12:11.639Z"
      },
      {
        "duration": 7,
        "start_time": "2022-08-01T16:12:11.695Z"
      },
      {
        "duration": 927,
        "start_time": "2022-08-01T16:12:11.705Z"
      },
      {
        "duration": 90,
        "start_time": "2022-08-01T16:12:12.634Z"
      },
      {
        "duration": 43,
        "start_time": "2022-08-01T16:12:12.727Z"
      },
      {
        "duration": 3615,
        "start_time": "2022-08-01T16:12:12.772Z"
      },
      {
        "duration": 129,
        "start_time": "2022-08-01T16:12:16.389Z"
      },
      {
        "duration": 8358,
        "start_time": "2022-08-01T16:12:16.520Z"
      },
      {
        "duration": 558,
        "start_time": "2022-08-01T16:12:24.887Z"
      },
      {
        "duration": 4933,
        "start_time": "2022-08-01T16:12:25.448Z"
      },
      {
        "duration": 28,
        "start_time": "2022-08-01T16:12:30.389Z"
      },
      {
        "duration": 15,
        "start_time": "2022-08-01T16:12:30.419Z"
      },
      {
        "duration": 353,
        "start_time": "2022-08-01T16:12:30.436Z"
      },
      {
        "duration": 597,
        "start_time": "2022-08-01T16:12:30.798Z"
      },
      {
        "duration": 680,
        "start_time": "2022-08-01T16:12:31.414Z"
      },
      {
        "duration": 101,
        "start_time": "2022-08-01T16:12:32.096Z"
      },
      {
        "duration": 9,
        "start_time": "2022-08-01T16:14:12.782Z"
      },
      {
        "duration": 722,
        "start_time": "2022-08-01T16:17:28.184Z"
      },
      {
        "duration": 67,
        "start_time": "2022-08-01T16:17:55.920Z"
      },
      {
        "duration": 40,
        "start_time": "2022-08-01T16:18:24.091Z"
      },
      {
        "duration": 3628,
        "start_time": "2022-08-01T16:18:32.262Z"
      },
      {
        "duration": 116,
        "start_time": "2022-08-01T16:18:47.141Z"
      },
      {
        "duration": 6480,
        "start_time": "2022-08-01T16:18:58.895Z"
      },
      {
        "duration": 361,
        "start_time": "2022-08-01T16:19:09.916Z"
      },
      {
        "duration": 5212,
        "start_time": "2022-08-01T16:19:17.720Z"
      },
      {
        "duration": 25,
        "start_time": "2022-08-01T16:19:29.401Z"
      },
      {
        "duration": 772,
        "start_time": "2022-08-01T16:19:47.415Z"
      },
      {
        "duration": 780,
        "start_time": "2022-08-01T16:19:59.519Z"
      },
      {
        "duration": 1238,
        "start_time": "2022-08-02T06:43:26.708Z"
      },
      {
        "duration": 126,
        "start_time": "2022-08-02T06:43:27.948Z"
      },
      {
        "duration": 4,
        "start_time": "2022-08-02T06:43:28.075Z"
      },
      {
        "duration": 17,
        "start_time": "2022-08-02T06:43:28.081Z"
      },
      {
        "duration": 4,
        "start_time": "2022-08-02T06:43:28.100Z"
      },
      {
        "duration": 21,
        "start_time": "2022-08-02T06:43:28.106Z"
      },
      {
        "duration": 19,
        "start_time": "2022-08-02T06:43:28.129Z"
      },
      {
        "duration": 3,
        "start_time": "2022-08-02T06:43:28.150Z"
      },
      {
        "duration": 19,
        "start_time": "2022-08-02T06:43:28.155Z"
      },
      {
        "duration": 8,
        "start_time": "2022-08-02T06:43:28.178Z"
      },
      {
        "duration": 354,
        "start_time": "2022-08-02T06:43:28.188Z"
      },
      {
        "duration": 25,
        "start_time": "2022-08-02T06:43:28.544Z"
      },
      {
        "duration": 10,
        "start_time": "2022-08-02T06:43:28.571Z"
      },
      {
        "duration": 857,
        "start_time": "2022-08-02T06:43:28.582Z"
      },
      {
        "duration": 110,
        "start_time": "2022-08-02T06:43:29.441Z"
      },
      {
        "duration": 15,
        "start_time": "2022-08-02T06:43:29.553Z"
      },
      {
        "duration": 28,
        "start_time": "2022-08-02T06:43:29.570Z"
      },
      {
        "duration": 129,
        "start_time": "2022-08-02T06:43:29.599Z"
      },
      {
        "duration": 194,
        "start_time": "2022-08-02T06:43:29.730Z"
      },
      {
        "duration": 12,
        "start_time": "2022-08-02T06:43:29.927Z"
      },
      {
        "duration": 653,
        "start_time": "2022-08-02T06:43:30.026Z"
      },
      {
        "duration": 161,
        "start_time": "2022-08-02T06:43:30.681Z"
      },
      {
        "duration": 161,
        "start_time": "2022-08-02T06:43:30.844Z"
      },
      {
        "duration": 3,
        "start_time": "2022-08-02T06:43:31.007Z"
      },
      {
        "duration": 497,
        "start_time": "2022-08-02T06:43:31.011Z"
      },
      {
        "duration": 45,
        "start_time": "2022-08-02T06:43:31.510Z"
      },
      {
        "duration": 6,
        "start_time": "2022-08-02T06:43:31.556Z"
      },
      {
        "duration": 631,
        "start_time": "2022-08-02T06:43:31.565Z"
      },
      {
        "duration": 50,
        "start_time": "2022-08-02T06:43:32.197Z"
      },
      {
        "duration": 26,
        "start_time": "2022-08-02T06:43:32.248Z"
      },
      {
        "duration": 3772,
        "start_time": "2022-08-02T06:43:32.276Z"
      },
      {
        "duration": 101,
        "start_time": "2022-08-02T06:43:36.050Z"
      },
      {
        "duration": 5271,
        "start_time": "2022-08-02T06:43:36.153Z"
      },
      {
        "duration": 294,
        "start_time": "2022-08-02T06:43:41.426Z"
      },
      {
        "duration": 4331,
        "start_time": "2022-08-02T06:43:41.724Z"
      },
      {
        "duration": 20,
        "start_time": "2022-08-02T06:43:46.057Z"
      },
      {
        "duration": 3,
        "start_time": "2022-08-02T06:43:46.079Z"
      },
      {
        "duration": 151,
        "start_time": "2022-08-02T06:43:46.083Z"
      },
      {
        "duration": 305,
        "start_time": "2022-08-02T06:43:46.325Z"
      },
      {
        "duration": 394,
        "start_time": "2022-08-02T06:43:46.632Z"
      },
      {
        "duration": 127,
        "start_time": "2022-08-02T06:43:47.029Z"
      },
      {
        "duration": 1133,
        "start_time": "2022-08-02T06:46:12.436Z"
      },
      {
        "duration": 106,
        "start_time": "2022-08-02T06:46:13.572Z"
      },
      {
        "duration": 6,
        "start_time": "2022-08-02T06:46:13.679Z"
      },
      {
        "duration": 20,
        "start_time": "2022-08-02T06:46:13.686Z"
      },
      {
        "duration": 3,
        "start_time": "2022-08-02T06:46:13.708Z"
      },
      {
        "duration": 13,
        "start_time": "2022-08-02T06:46:13.712Z"
      },
      {
        "duration": 19,
        "start_time": "2022-08-02T06:46:13.726Z"
      },
      {
        "duration": 2,
        "start_time": "2022-08-02T06:46:13.746Z"
      },
      {
        "duration": 12,
        "start_time": "2022-08-02T06:46:13.750Z"
      },
      {
        "duration": 7,
        "start_time": "2022-08-02T06:46:13.765Z"
      },
      {
        "duration": 338,
        "start_time": "2022-08-02T06:46:13.773Z"
      },
      {
        "duration": 31,
        "start_time": "2022-08-02T06:46:14.113Z"
      },
      {
        "duration": 7,
        "start_time": "2022-08-02T06:46:14.146Z"
      },
      {
        "duration": 882,
        "start_time": "2022-08-02T06:46:14.155Z"
      },
      {
        "duration": 111,
        "start_time": "2022-08-02T06:46:15.039Z"
      },
      {
        "duration": 16,
        "start_time": "2022-08-02T06:46:15.151Z"
      },
      {
        "duration": 22,
        "start_time": "2022-08-02T06:46:15.168Z"
      },
      {
        "duration": 234,
        "start_time": "2022-08-02T06:46:15.191Z"
      },
      {
        "duration": 203,
        "start_time": "2022-08-02T06:46:15.427Z"
      },
      {
        "duration": 97,
        "start_time": "2022-08-02T06:46:15.633Z"
      },
      {
        "duration": 574,
        "start_time": "2022-08-02T06:46:15.733Z"
      },
      {
        "duration": 138,
        "start_time": "2022-08-02T06:46:16.309Z"
      },
      {
        "duration": 158,
        "start_time": "2022-08-02T06:46:16.449Z"
      },
      {
        "duration": 3,
        "start_time": "2022-08-02T06:46:16.608Z"
      },
      {
        "duration": 451,
        "start_time": "2022-08-02T06:46:16.612Z"
      },
      {
        "duration": 36,
        "start_time": "2022-08-02T06:46:17.065Z"
      },
      {
        "duration": 21,
        "start_time": "2022-08-02T06:46:17.103Z"
      },
      {
        "duration": 659,
        "start_time": "2022-08-02T06:46:17.129Z"
      },
      {
        "duration": 51,
        "start_time": "2022-08-02T06:46:17.789Z"
      },
      {
        "duration": 71,
        "start_time": "2022-08-02T06:46:17.842Z"
      },
      {
        "duration": 0,
        "start_time": "2022-08-02T06:46:17.914Z"
      },
      {
        "duration": 0,
        "start_time": "2022-08-02T06:46:17.915Z"
      },
      {
        "duration": 0,
        "start_time": "2022-08-02T06:46:17.917Z"
      },
      {
        "duration": 0,
        "start_time": "2022-08-02T06:46:17.917Z"
      },
      {
        "duration": 0,
        "start_time": "2022-08-02T06:46:17.919Z"
      },
      {
        "duration": 0,
        "start_time": "2022-08-02T06:46:17.920Z"
      },
      {
        "duration": 0,
        "start_time": "2022-08-02T06:46:17.921Z"
      },
      {
        "duration": 0,
        "start_time": "2022-08-02T06:46:17.922Z"
      },
      {
        "duration": 0,
        "start_time": "2022-08-02T06:46:17.923Z"
      },
      {
        "duration": 0,
        "start_time": "2022-08-02T06:46:17.924Z"
      },
      {
        "duration": 0,
        "start_time": "2022-08-02T06:46:17.925Z"
      },
      {
        "duration": 574,
        "start_time": "2022-08-02T06:46:39.583Z"
      },
      {
        "duration": 19,
        "start_time": "2022-08-02T06:47:40.836Z"
      },
      {
        "duration": 2868,
        "start_time": "2022-08-02T06:47:54.521Z"
      },
      {
        "duration": 119,
        "start_time": "2022-08-02T06:48:07.227Z"
      },
      {
        "duration": 5447,
        "start_time": "2022-08-02T06:48:26.117Z"
      },
      {
        "duration": 302,
        "start_time": "2022-08-02T06:48:51.957Z"
      },
      {
        "duration": 4261,
        "start_time": "2022-08-02T06:49:40.017Z"
      },
      {
        "duration": 18,
        "start_time": "2022-08-02T06:49:49.917Z"
      },
      {
        "duration": 172,
        "start_time": "2022-08-02T06:50:43.155Z"
      },
      {
        "duration": 208,
        "start_time": "2022-08-02T06:50:54.420Z"
      },
      {
        "duration": 195,
        "start_time": "2022-08-02T06:51:08.241Z"
      },
      {
        "duration": 123,
        "start_time": "2022-08-02T06:51:13.415Z"
      },
      {
        "duration": 106,
        "start_time": "2022-08-02T06:51:25.730Z"
      },
      {
        "duration": 5202,
        "start_time": "2022-08-02T06:52:13.921Z"
      },
      {
        "duration": 304,
        "start_time": "2022-08-02T06:52:37.539Z"
      },
      {
        "duration": 5372,
        "start_time": "2022-08-02T06:52:52.207Z"
      },
      {
        "duration": 172,
        "start_time": "2022-08-02T06:53:07.618Z"
      },
      {
        "duration": 108,
        "start_time": "2022-08-02T06:53:43.512Z"
      },
      {
        "duration": 12,
        "start_time": "2022-08-02T06:53:56.414Z"
      },
      {
        "duration": 645,
        "start_time": "2022-08-02T06:54:06.329Z"
      },
      {
        "duration": 49,
        "start_time": "2022-08-02T06:54:22.814Z"
      },
      {
        "duration": 682,
        "start_time": "2022-08-02T06:54:27.291Z"
      },
      {
        "duration": 23,
        "start_time": "2022-08-02T06:54:30.026Z"
      },
      {
        "duration": 2783,
        "start_time": "2022-08-02T06:54:31.510Z"
      },
      {
        "duration": 95,
        "start_time": "2022-08-02T06:54:48.414Z"
      },
      {
        "duration": 5623,
        "start_time": "2022-08-02T06:54:52.688Z"
      },
      {
        "duration": 264,
        "start_time": "2022-08-02T06:55:07.462Z"
      },
      {
        "duration": 594,
        "start_time": "2022-08-02T06:55:23.386Z"
      },
      {
        "duration": 49,
        "start_time": "2022-08-02T06:55:27.114Z"
      },
      {
        "duration": 589,
        "start_time": "2022-08-02T06:55:29.175Z"
      },
      {
        "duration": 20,
        "start_time": "2022-08-02T06:55:31.639Z"
      },
      {
        "duration": 2877,
        "start_time": "2022-08-02T06:55:34.688Z"
      },
      {
        "duration": 96,
        "start_time": "2022-08-02T06:55:48.188Z"
      },
      {
        "duration": 97,
        "start_time": "2022-08-02T06:55:53.554Z"
      },
      {
        "duration": 5208,
        "start_time": "2022-08-02T06:55:55.476Z"
      },
      {
        "duration": 5170,
        "start_time": "2022-08-02T06:57:31.227Z"
      },
      {
        "duration": 210,
        "start_time": "2022-08-02T06:58:02.315Z"
      },
      {
        "duration": 73,
        "start_time": "2022-08-02T06:58:21.114Z"
      },
      {
        "duration": 5336,
        "start_time": "2022-08-02T06:58:28.517Z"
      },
      {
        "duration": 484,
        "start_time": "2022-08-02T07:00:01.315Z"
      },
      {
        "duration": 503,
        "start_time": "2022-08-02T07:00:49.283Z"
      },
      {
        "duration": 33,
        "start_time": "2022-08-02T07:01:48.672Z"
      },
      {
        "duration": 618,
        "start_time": "2022-08-02T07:02:42.945Z"
      },
      {
        "duration": 35,
        "start_time": "2022-08-02T07:03:23.942Z"
      },
      {
        "duration": 31,
        "start_time": "2022-08-02T07:03:32.725Z"
      },
      {
        "duration": 630,
        "start_time": "2022-08-02T07:04:07.828Z"
      },
      {
        "duration": 595,
        "start_time": "2022-08-02T07:04:32.786Z"
      },
      {
        "duration": 620,
        "start_time": "2022-08-02T07:04:40.876Z"
      },
      {
        "duration": 18,
        "start_time": "2022-08-02T07:05:18.343Z"
      },
      {
        "duration": 265,
        "start_time": "2022-08-02T07:06:10.085Z"
      },
      {
        "duration": 18,
        "start_time": "2022-08-02T07:06:22.725Z"
      },
      {
        "duration": 3128,
        "start_time": "2022-08-02T07:09:15.184Z"
      },
      {
        "duration": 192,
        "start_time": "2022-08-02T07:09:52.972Z"
      },
      {
        "duration": 2893,
        "start_time": "2022-08-02T07:10:27.556Z"
      },
      {
        "duration": 5422,
        "start_time": "2022-08-02T07:10:51.573Z"
      },
      {
        "duration": 5219,
        "start_time": "2022-08-02T07:11:32.910Z"
      },
      {
        "duration": 5456,
        "start_time": "2022-08-02T07:11:47.432Z"
      },
      {
        "duration": 5330,
        "start_time": "2022-08-02T07:12:32.628Z"
      },
      {
        "duration": 5376,
        "start_time": "2022-08-02T07:12:42.220Z"
      },
      {
        "duration": 214,
        "start_time": "2022-08-02T07:13:14.810Z"
      },
      {
        "duration": 4480,
        "start_time": "2022-08-02T07:13:24.618Z"
      },
      {
        "duration": 108,
        "start_time": "2022-08-02T07:14:03.916Z"
      },
      {
        "duration": 214,
        "start_time": "2022-08-02T07:14:07.415Z"
      },
      {
        "duration": 289,
        "start_time": "2022-08-02T07:14:09.742Z"
      },
      {
        "duration": 27,
        "start_time": "2022-08-02T07:16:44.176Z"
      },
      {
        "duration": 235,
        "start_time": "2022-08-02T07:18:31.194Z"
      },
      {
        "duration": 272,
        "start_time": "2022-08-02T07:18:46.917Z"
      },
      {
        "duration": 278,
        "start_time": "2022-08-02T07:19:17.017Z"
      },
      {
        "duration": 5,
        "start_time": "2022-08-02T07:21:23.276Z"
      },
      {
        "duration": 208,
        "start_time": "2022-08-02T07:32:01.732Z"
      },
      {
        "duration": 207,
        "start_time": "2022-08-02T07:33:12.972Z"
      },
      {
        "duration": 213,
        "start_time": "2022-08-02T07:33:22.589Z"
      },
      {
        "duration": 248,
        "start_time": "2022-08-02T07:35:09.837Z"
      },
      {
        "duration": 206,
        "start_time": "2022-08-02T07:35:36.053Z"
      },
      {
        "duration": 215,
        "start_time": "2022-08-02T07:39:52.175Z"
      },
      {
        "duration": 254,
        "start_time": "2022-08-02T07:40:15.289Z"
      },
      {
        "duration": 1114,
        "start_time": "2022-08-02T07:40:22.255Z"
      },
      {
        "duration": 94,
        "start_time": "2022-08-02T07:40:23.371Z"
      },
      {
        "duration": 4,
        "start_time": "2022-08-02T07:40:23.467Z"
      },
      {
        "duration": 18,
        "start_time": "2022-08-02T07:40:23.473Z"
      },
      {
        "duration": 3,
        "start_time": "2022-08-02T07:40:23.493Z"
      },
      {
        "duration": 34,
        "start_time": "2022-08-02T07:40:23.498Z"
      },
      {
        "duration": 26,
        "start_time": "2022-08-02T07:40:23.534Z"
      },
      {
        "duration": 3,
        "start_time": "2022-08-02T07:40:23.562Z"
      },
      {
        "duration": 15,
        "start_time": "2022-08-02T07:40:23.567Z"
      },
      {
        "duration": 7,
        "start_time": "2022-08-02T07:40:23.585Z"
      },
      {
        "duration": 369,
        "start_time": "2022-08-02T07:40:23.594Z"
      },
      {
        "duration": 25,
        "start_time": "2022-08-02T07:40:23.965Z"
      },
      {
        "duration": 7,
        "start_time": "2022-08-02T07:40:23.992Z"
      },
      {
        "duration": 901,
        "start_time": "2022-08-02T07:40:24.023Z"
      },
      {
        "duration": 114,
        "start_time": "2022-08-02T07:40:24.926Z"
      },
      {
        "duration": 16,
        "start_time": "2022-08-02T07:40:25.041Z"
      },
      {
        "duration": 32,
        "start_time": "2022-08-02T07:40:25.059Z"
      },
      {
        "duration": 141,
        "start_time": "2022-08-02T07:40:25.093Z"
      },
      {
        "duration": 208,
        "start_time": "2022-08-02T07:40:25.237Z"
      },
      {
        "duration": 109,
        "start_time": "2022-08-02T07:40:25.525Z"
      },
      {
        "duration": 594,
        "start_time": "2022-08-02T07:40:25.636Z"
      },
      {
        "duration": 165,
        "start_time": "2022-08-02T07:40:26.232Z"
      },
      {
        "duration": 168,
        "start_time": "2022-08-02T07:40:26.400Z"
      },
      {
        "duration": 4,
        "start_time": "2022-08-02T07:40:26.570Z"
      },
      {
        "duration": 530,
        "start_time": "2022-08-02T07:40:26.575Z"
      },
      {
        "duration": 34,
        "start_time": "2022-08-02T07:40:27.107Z"
      },
      {
        "duration": 6,
        "start_time": "2022-08-02T07:40:27.142Z"
      },
      {
        "duration": 797,
        "start_time": "2022-08-02T07:40:27.151Z"
      },
      {
        "duration": 31,
        "start_time": "2022-08-02T07:40:27.950Z"
      },
      {
        "duration": 343,
        "start_time": "2022-08-02T07:40:27.983Z"
      },
      {
        "duration": 25,
        "start_time": "2022-08-02T07:40:28.329Z"
      },
      {
        "duration": 3031,
        "start_time": "2022-08-02T07:40:28.356Z"
      },
      {
        "duration": 217,
        "start_time": "2022-08-02T07:40:31.389Z"
      },
      {
        "duration": 5975,
        "start_time": "2022-08-02T07:40:31.608Z"
      },
      {
        "duration": 5447,
        "start_time": "2022-08-02T07:40:37.585Z"
      },
      {
        "duration": 235,
        "start_time": "2022-08-02T07:40:43.034Z"
      },
      {
        "duration": 4654,
        "start_time": "2022-08-02T07:40:43.271Z"
      },
      {
        "duration": 3,
        "start_time": "2022-08-02T07:40:47.927Z"
      },
      {
        "duration": 305,
        "start_time": "2022-08-02T07:40:47.932Z"
      },
      {
        "duration": 397,
        "start_time": "2022-08-02T07:40:48.239Z"
      },
      {
        "duration": 403,
        "start_time": "2022-08-02T07:40:48.639Z"
      },
      {
        "duration": 324,
        "start_time": "2022-08-02T07:40:49.125Z"
      },
      {
        "duration": 247,
        "start_time": "2022-08-02T07:40:49.451Z"
      },
      {
        "duration": 35,
        "start_time": "2022-08-02T07:43:07.713Z"
      },
      {
        "duration": 17,
        "start_time": "2022-08-02T07:43:35.687Z"
      },
      {
        "duration": 19,
        "start_time": "2022-08-02T07:44:18.652Z"
      },
      {
        "duration": 17,
        "start_time": "2022-08-02T07:44:32.899Z"
      },
      {
        "duration": 6,
        "start_time": "2022-08-02T07:44:43.680Z"
      },
      {
        "duration": 16,
        "start_time": "2022-08-02T07:44:57.458Z"
      },
      {
        "duration": 5,
        "start_time": "2022-08-02T07:45:25.377Z"
      },
      {
        "duration": 19,
        "start_time": "2022-08-02T07:45:34.568Z"
      },
      {
        "duration": 17,
        "start_time": "2022-08-02T07:46:00.264Z"
      },
      {
        "duration": 11,
        "start_time": "2022-08-02T07:46:48.971Z"
      },
      {
        "duration": 18,
        "start_time": "2022-08-02T07:46:50.848Z"
      },
      {
        "duration": 10,
        "start_time": "2022-08-02T07:47:04.980Z"
      },
      {
        "duration": 22,
        "start_time": "2022-08-02T07:47:06.198Z"
      },
      {
        "duration": 324,
        "start_time": "2022-08-02T07:47:20.952Z"
      },
      {
        "duration": 26,
        "start_time": "2022-08-02T07:47:42.541Z"
      },
      {
        "duration": 1223,
        "start_time": "2022-08-02T07:47:52.978Z"
      },
      {
        "duration": 96,
        "start_time": "2022-08-02T07:47:54.203Z"
      },
      {
        "duration": 4,
        "start_time": "2022-08-02T07:47:54.301Z"
      },
      {
        "duration": 19,
        "start_time": "2022-08-02T07:47:54.307Z"
      },
      {
        "duration": 4,
        "start_time": "2022-08-02T07:47:54.328Z"
      },
      {
        "duration": 14,
        "start_time": "2022-08-02T07:47:54.333Z"
      },
      {
        "duration": 19,
        "start_time": "2022-08-02T07:47:54.349Z"
      },
      {
        "duration": 3,
        "start_time": "2022-08-02T07:47:54.370Z"
      },
      {
        "duration": 13,
        "start_time": "2022-08-02T07:47:54.375Z"
      },
      {
        "duration": 27,
        "start_time": "2022-08-02T07:47:54.391Z"
      },
      {
        "duration": 28,
        "start_time": "2022-08-02T07:47:54.420Z"
      },
      {
        "duration": 359,
        "start_time": "2022-08-02T07:47:54.450Z"
      },
      {
        "duration": 25,
        "start_time": "2022-08-02T07:47:54.811Z"
      },
      {
        "duration": 7,
        "start_time": "2022-08-02T07:47:54.838Z"
      },
      {
        "duration": 876,
        "start_time": "2022-08-02T07:47:54.847Z"
      },
      {
        "duration": 113,
        "start_time": "2022-08-02T07:47:55.724Z"
      },
      {
        "duration": 16,
        "start_time": "2022-08-02T07:47:55.839Z"
      },
      {
        "duration": 30,
        "start_time": "2022-08-02T07:47:55.856Z"
      },
      {
        "duration": 132,
        "start_time": "2022-08-02T07:47:55.888Z"
      },
      {
        "duration": 386,
        "start_time": "2022-08-02T07:47:56.022Z"
      },
      {
        "duration": 108,
        "start_time": "2022-08-02T07:47:56.412Z"
      },
      {
        "duration": 611,
        "start_time": "2022-08-02T07:47:56.523Z"
      },
      {
        "duration": 202,
        "start_time": "2022-08-02T07:47:57.137Z"
      },
      {
        "duration": 208,
        "start_time": "2022-08-02T07:47:57.341Z"
      },
      {
        "duration": 3,
        "start_time": "2022-08-02T07:47:57.550Z"
      },
      {
        "duration": 527,
        "start_time": "2022-08-02T07:47:57.555Z"
      },
      {
        "duration": 34,
        "start_time": "2022-08-02T07:47:58.084Z"
      },
      {
        "duration": 6,
        "start_time": "2022-08-02T07:47:58.123Z"
      },
      {
        "duration": 663,
        "start_time": "2022-08-02T07:47:58.130Z"
      },
      {
        "duration": 39,
        "start_time": "2022-08-02T07:47:58.795Z"
      },
      {
        "duration": 283,
        "start_time": "2022-08-02T07:47:58.836Z"
      },
      {
        "duration": 16,
        "start_time": "2022-08-02T07:47:59.121Z"
      },
      {
        "duration": 2945,
        "start_time": "2022-08-02T07:47:59.139Z"
      },
      {
        "duration": 200,
        "start_time": "2022-08-02T07:48:02.086Z"
      },
      {
        "duration": 5595,
        "start_time": "2022-08-02T07:48:02.287Z"
      },
      {
        "duration": 5298,
        "start_time": "2022-08-02T07:48:07.885Z"
      },
      {
        "duration": 205,
        "start_time": "2022-08-02T07:48:13.184Z"
      },
      {
        "duration": 4505,
        "start_time": "2022-08-02T07:48:13.390Z"
      },
      {
        "duration": 3,
        "start_time": "2022-08-02T07:48:17.897Z"
      },
      {
        "duration": 309,
        "start_time": "2022-08-02T07:48:17.908Z"
      },
      {
        "duration": 600,
        "start_time": "2022-08-02T07:48:18.309Z"
      },
      {
        "duration": 306,
        "start_time": "2022-08-02T07:48:18.912Z"
      },
      {
        "duration": 429,
        "start_time": "2022-08-02T07:48:19.220Z"
      },
      {
        "duration": 211,
        "start_time": "2022-08-02T07:48:19.651Z"
      },
      {
        "duration": 19,
        "start_time": "2022-08-02T07:48:49.871Z"
      },
      {
        "duration": 7,
        "start_time": "2022-08-02T07:49:03.429Z"
      },
      {
        "duration": 26,
        "start_time": "2022-08-02T07:49:06.172Z"
      },
      {
        "duration": 23,
        "start_time": "2022-08-02T07:49:16.829Z"
      },
      {
        "duration": 1133,
        "start_time": "2022-08-02T07:49:26.941Z"
      },
      {
        "duration": 101,
        "start_time": "2022-08-02T07:49:28.077Z"
      },
      {
        "duration": 5,
        "start_time": "2022-08-02T07:49:28.180Z"
      },
      {
        "duration": 17,
        "start_time": "2022-08-02T07:49:28.186Z"
      },
      {
        "duration": 4,
        "start_time": "2022-08-02T07:49:28.206Z"
      },
      {
        "duration": 23,
        "start_time": "2022-08-02T07:49:28.211Z"
      },
      {
        "duration": 20,
        "start_time": "2022-08-02T07:49:28.235Z"
      },
      {
        "duration": 6,
        "start_time": "2022-08-02T07:49:28.257Z"
      },
      {
        "duration": 16,
        "start_time": "2022-08-02T07:49:28.265Z"
      },
      {
        "duration": 10,
        "start_time": "2022-08-02T07:49:28.283Z"
      },
      {
        "duration": 30,
        "start_time": "2022-08-02T07:49:28.295Z"
      },
      {
        "duration": 336,
        "start_time": "2022-08-02T07:49:28.327Z"
      },
      {
        "duration": 24,
        "start_time": "2022-08-02T07:49:28.665Z"
      },
      {
        "duration": 23,
        "start_time": "2022-08-02T07:49:28.691Z"
      },
      {
        "duration": 812,
        "start_time": "2022-08-02T07:49:28.715Z"
      },
      {
        "duration": 109,
        "start_time": "2022-08-02T07:49:29.529Z"
      },
      {
        "duration": 15,
        "start_time": "2022-08-02T07:49:29.640Z"
      },
      {
        "duration": 65,
        "start_time": "2022-08-02T07:49:29.658Z"
      },
      {
        "duration": 92,
        "start_time": "2022-08-02T07:49:29.726Z"
      },
      {
        "duration": 294,
        "start_time": "2022-08-02T07:49:29.820Z"
      },
      {
        "duration": 201,
        "start_time": "2022-08-02T07:49:30.116Z"
      },
      {
        "duration": 598,
        "start_time": "2022-08-02T07:49:30.319Z"
      },
      {
        "duration": 161,
        "start_time": "2022-08-02T07:49:30.919Z"
      },
      {
        "duration": 181,
        "start_time": "2022-08-02T07:49:31.082Z"
      },
      {
        "duration": 3,
        "start_time": "2022-08-02T07:49:31.265Z"
      },
      {
        "duration": 529,
        "start_time": "2022-08-02T07:49:31.269Z"
      },
      {
        "duration": 34,
        "start_time": "2022-08-02T07:49:31.800Z"
      },
      {
        "duration": 5,
        "start_time": "2022-08-02T07:49:31.835Z"
      },
      {
        "duration": 645,
        "start_time": "2022-08-02T07:49:31.842Z"
      },
      {
        "duration": 44,
        "start_time": "2022-08-02T07:49:32.489Z"
      },
      {
        "duration": 300,
        "start_time": "2022-08-02T07:49:32.535Z"
      },
      {
        "duration": 16,
        "start_time": "2022-08-02T07:49:32.836Z"
      },
      {
        "duration": 3808,
        "start_time": "2022-08-02T07:49:32.854Z"
      },
      {
        "duration": 215,
        "start_time": "2022-08-02T07:49:36.663Z"
      },
      {
        "duration": 5597,
        "start_time": "2022-08-02T07:49:36.879Z"
      },
      {
        "duration": 5263,
        "start_time": "2022-08-02T07:49:42.478Z"
      },
      {
        "duration": 217,
        "start_time": "2022-08-02T07:49:47.743Z"
      },
      {
        "duration": 4399,
        "start_time": "2022-08-02T07:49:47.963Z"
      },
      {
        "duration": 2,
        "start_time": "2022-08-02T07:49:52.364Z"
      },
      {
        "duration": 144,
        "start_time": "2022-08-02T07:49:52.368Z"
      },
      {
        "duration": 303,
        "start_time": "2022-08-02T07:49:52.517Z"
      },
      {
        "duration": 211,
        "start_time": "2022-08-02T07:49:52.910Z"
      },
      {
        "duration": 332,
        "start_time": "2022-08-02T07:49:53.215Z"
      },
      {
        "duration": 221,
        "start_time": "2022-08-02T07:49:53.549Z"
      },
      {
        "duration": 17,
        "start_time": "2022-08-02T07:50:29.468Z"
      },
      {
        "duration": 17,
        "start_time": "2022-08-02T07:50:50.835Z"
      },
      {
        "duration": 6,
        "start_time": "2022-08-02T07:51:11.988Z"
      },
      {
        "duration": 8,
        "start_time": "2022-08-02T07:51:13.565Z"
      },
      {
        "duration": 17,
        "start_time": "2022-08-02T07:51:14.964Z"
      },
      {
        "duration": 346,
        "start_time": "2022-08-02T07:51:21.587Z"
      },
      {
        "duration": 24,
        "start_time": "2022-08-02T07:51:25.638Z"
      },
      {
        "duration": 8,
        "start_time": "2022-08-02T07:51:26.957Z"
      },
      {
        "duration": 813,
        "start_time": "2022-08-02T07:51:28.427Z"
      },
      {
        "duration": 105,
        "start_time": "2022-08-02T07:51:30.371Z"
      },
      {
        "duration": 15,
        "start_time": "2022-08-02T07:51:31.472Z"
      },
      {
        "duration": 21,
        "start_time": "2022-08-02T07:51:33.187Z"
      },
      {
        "duration": 358,
        "start_time": "2022-08-02T07:51:35.153Z"
      },
      {
        "duration": 85,
        "start_time": "2022-08-02T07:51:36.337Z"
      },
      {
        "duration": 16,
        "start_time": "2022-08-02T07:51:39.030Z"
      },
      {
        "duration": 17,
        "start_time": "2022-08-02T07:51:46.535Z"
      },
      {
        "duration": 8,
        "start_time": "2022-08-02T07:51:54.369Z"
      },
      {
        "duration": 19,
        "start_time": "2022-08-02T07:51:56.642Z"
      },
      {
        "duration": 317,
        "start_time": "2022-08-02T07:51:58.546Z"
      },
      {
        "duration": 20,
        "start_time": "2022-08-02T07:52:00.537Z"
      },
      {
        "duration": 26,
        "start_time": "2022-08-02T07:52:03.938Z"
      },
      {
        "duration": 17,
        "start_time": "2022-08-02T07:52:07.458Z"
      },
      {
        "duration": 7,
        "start_time": "2022-08-02T07:52:10.657Z"
      },
      {
        "duration": 22,
        "start_time": "2022-08-02T07:52:13.343Z"
      },
      {
        "duration": 976,
        "start_time": "2022-08-02T07:52:16.695Z"
      },
      {
        "duration": 19,
        "start_time": "2022-08-02T07:52:19.346Z"
      },
      {
        "duration": 119,
        "start_time": "2022-08-02T07:52:27.633Z"
      },
      {
        "duration": 16,
        "start_time": "2022-08-02T07:52:29.593Z"
      },
      {
        "duration": 26,
        "start_time": "2022-08-02T07:52:33.040Z"
      },
      {
        "duration": 19,
        "start_time": "2022-08-02T07:52:55.930Z"
      },
      {
        "duration": 16,
        "start_time": "2022-08-02T07:53:01.085Z"
      },
      {
        "duration": 1170,
        "start_time": "2022-08-02T07:54:13.881Z"
      },
      {
        "duration": 116,
        "start_time": "2022-08-02T07:54:15.053Z"
      },
      {
        "duration": 5,
        "start_time": "2022-08-02T07:54:15.171Z"
      },
      {
        "duration": 17,
        "start_time": "2022-08-02T07:54:15.179Z"
      },
      {
        "duration": 7,
        "start_time": "2022-08-02T07:54:15.197Z"
      },
      {
        "duration": 21,
        "start_time": "2022-08-02T07:54:15.206Z"
      },
      {
        "duration": 22,
        "start_time": "2022-08-02T07:54:15.229Z"
      },
      {
        "duration": 3,
        "start_time": "2022-08-02T07:54:15.252Z"
      },
      {
        "duration": 14,
        "start_time": "2022-08-02T07:54:15.256Z"
      },
      {
        "duration": 7,
        "start_time": "2022-08-02T07:54:15.272Z"
      },
      {
        "duration": 32,
        "start_time": "2022-08-02T07:54:15.281Z"
      },
      {
        "duration": 336,
        "start_time": "2022-08-02T07:54:15.314Z"
      },
      {
        "duration": 26,
        "start_time": "2022-08-02T07:54:15.651Z"
      },
      {
        "duration": 9,
        "start_time": "2022-08-02T07:54:15.679Z"
      },
      {
        "duration": 880,
        "start_time": "2022-08-02T07:54:15.709Z"
      },
      {
        "duration": 112,
        "start_time": "2022-08-02T07:54:16.591Z"
      },
      {
        "duration": 14,
        "start_time": "2022-08-02T07:54:16.708Z"
      },
      {
        "duration": 14,
        "start_time": "2022-08-02T07:54:16.723Z"
      },
      {
        "duration": 773,
        "start_time": "2022-08-02T07:54:16.739Z"
      },
      {
        "duration": 0,
        "start_time": "2022-08-02T07:54:17.515Z"
      },
      {
        "duration": 0,
        "start_time": "2022-08-02T07:54:17.517Z"
      },
      {
        "duration": 0,
        "start_time": "2022-08-02T07:54:17.518Z"
      },
      {
        "duration": 0,
        "start_time": "2022-08-02T07:54:17.520Z"
      },
      {
        "duration": 0,
        "start_time": "2022-08-02T07:54:17.521Z"
      },
      {
        "duration": 0,
        "start_time": "2022-08-02T07:54:17.522Z"
      },
      {
        "duration": 0,
        "start_time": "2022-08-02T07:54:17.524Z"
      },
      {
        "duration": 0,
        "start_time": "2022-08-02T07:54:17.525Z"
      },
      {
        "duration": 0,
        "start_time": "2022-08-02T07:54:17.526Z"
      },
      {
        "duration": 0,
        "start_time": "2022-08-02T07:54:17.527Z"
      },
      {
        "duration": 0,
        "start_time": "2022-08-02T07:54:17.529Z"
      },
      {
        "duration": 0,
        "start_time": "2022-08-02T07:54:17.531Z"
      },
      {
        "duration": 0,
        "start_time": "2022-08-02T07:54:17.532Z"
      },
      {
        "duration": 0,
        "start_time": "2022-08-02T07:54:17.533Z"
      },
      {
        "duration": 0,
        "start_time": "2022-08-02T07:54:17.535Z"
      },
      {
        "duration": 0,
        "start_time": "2022-08-02T07:54:17.536Z"
      },
      {
        "duration": 0,
        "start_time": "2022-08-02T07:54:17.537Z"
      },
      {
        "duration": 0,
        "start_time": "2022-08-02T07:54:17.539Z"
      },
      {
        "duration": 0,
        "start_time": "2022-08-02T07:54:17.540Z"
      },
      {
        "duration": 0,
        "start_time": "2022-08-02T07:54:17.542Z"
      },
      {
        "duration": 0,
        "start_time": "2022-08-02T07:54:17.543Z"
      },
      {
        "duration": 0,
        "start_time": "2022-08-02T07:54:17.545Z"
      },
      {
        "duration": 0,
        "start_time": "2022-08-02T07:54:17.546Z"
      },
      {
        "duration": 0,
        "start_time": "2022-08-02T07:54:17.547Z"
      },
      {
        "duration": 0,
        "start_time": "2022-08-02T07:54:17.549Z"
      },
      {
        "duration": 683,
        "start_time": "2022-08-02T07:54:53.335Z"
      },
      {
        "duration": 327,
        "start_time": "2022-08-02T07:54:57.987Z"
      },
      {
        "duration": 13,
        "start_time": "2022-08-02T07:55:07.355Z"
      },
      {
        "duration": 1022,
        "start_time": "2022-08-02T07:55:13.773Z"
      },
      {
        "duration": 143,
        "start_time": "2022-08-02T07:55:23.728Z"
      },
      {
        "duration": 1070,
        "start_time": "2022-08-02T07:55:28.749Z"
      },
      {
        "duration": 92,
        "start_time": "2022-08-02T07:55:29.821Z"
      },
      {
        "duration": 5,
        "start_time": "2022-08-02T07:55:29.914Z"
      },
      {
        "duration": 17,
        "start_time": "2022-08-02T07:55:29.920Z"
      },
      {
        "duration": 4,
        "start_time": "2022-08-02T07:55:29.939Z"
      },
      {
        "duration": 16,
        "start_time": "2022-08-02T07:55:29.944Z"
      },
      {
        "duration": 20,
        "start_time": "2022-08-02T07:55:29.962Z"
      },
      {
        "duration": 26,
        "start_time": "2022-08-02T07:55:29.983Z"
      },
      {
        "duration": 8,
        "start_time": "2022-08-02T07:55:30.011Z"
      },
      {
        "duration": 14,
        "start_time": "2022-08-02T07:55:30.020Z"
      },
      {
        "duration": 29,
        "start_time": "2022-08-02T07:55:30.036Z"
      },
      {
        "duration": 350,
        "start_time": "2022-08-02T07:55:30.069Z"
      },
      {
        "duration": 26,
        "start_time": "2022-08-02T07:55:30.421Z"
      },
      {
        "duration": 8,
        "start_time": "2022-08-02T07:55:30.450Z"
      },
      {
        "duration": 860,
        "start_time": "2022-08-02T07:55:30.459Z"
      },
      {
        "duration": 116,
        "start_time": "2022-08-02T07:55:31.321Z"
      },
      {
        "duration": 15,
        "start_time": "2022-08-02T07:55:31.439Z"
      },
      {
        "duration": 3,
        "start_time": "2022-08-02T07:55:31.456Z"
      },
      {
        "duration": 649,
        "start_time": "2022-08-02T07:55:31.460Z"
      },
      {
        "duration": 696,
        "start_time": "2022-08-02T07:55:32.112Z"
      },
      {
        "duration": 99,
        "start_time": "2022-08-02T07:55:32.811Z"
      },
      {
        "duration": 480,
        "start_time": "2022-08-02T07:55:32.915Z"
      },
      {
        "duration": 165,
        "start_time": "2022-08-02T07:55:33.397Z"
      },
      {
        "duration": 191,
        "start_time": "2022-08-02T07:55:33.563Z"
      },
      {
        "duration": 3,
        "start_time": "2022-08-02T07:55:33.756Z"
      },
      {
        "duration": 491,
        "start_time": "2022-08-02T07:55:33.762Z"
      },
      {
        "duration": 24,
        "start_time": "2022-08-02T07:55:34.255Z"
      },
      {
        "duration": 6,
        "start_time": "2022-08-02T07:55:34.282Z"
      },
      {
        "duration": 649,
        "start_time": "2022-08-02T07:55:34.309Z"
      },
      {
        "duration": 30,
        "start_time": "2022-08-02T07:55:34.959Z"
      },
      {
        "duration": 278,
        "start_time": "2022-08-02T07:55:35.008Z"
      },
      {
        "duration": 28,
        "start_time": "2022-08-02T07:55:35.288Z"
      },
      {
        "duration": 2993,
        "start_time": "2022-08-02T07:55:35.318Z"
      },
      {
        "duration": 202,
        "start_time": "2022-08-02T07:55:38.313Z"
      },
      {
        "duration": 6682,
        "start_time": "2022-08-02T07:55:38.517Z"
      },
      {
        "duration": 5301,
        "start_time": "2022-08-02T07:55:45.200Z"
      },
      {
        "duration": 208,
        "start_time": "2022-08-02T07:55:50.502Z"
      },
      {
        "duration": 4409,
        "start_time": "2022-08-02T07:55:50.712Z"
      },
      {
        "duration": 2,
        "start_time": "2022-08-02T07:55:55.123Z"
      },
      {
        "duration": 115,
        "start_time": "2022-08-02T07:55:55.127Z"
      },
      {
        "duration": 0,
        "start_time": "2022-08-02T07:55:55.244Z"
      },
      {
        "duration": 0,
        "start_time": "2022-08-02T07:55:55.245Z"
      },
      {
        "duration": 0,
        "start_time": "2022-08-02T07:55:55.246Z"
      },
      {
        "duration": 0,
        "start_time": "2022-08-02T07:55:55.247Z"
      },
      {
        "duration": 550,
        "start_time": "2022-08-02T07:56:09.461Z"
      },
      {
        "duration": 473,
        "start_time": "2022-08-02T07:56:28.746Z"
      },
      {
        "duration": 733,
        "start_time": "2022-08-02T07:56:30.475Z"
      },
      {
        "duration": 458,
        "start_time": "2022-08-02T07:56:32.962Z"
      },
      {
        "duration": 254,
        "start_time": "2022-08-02T07:56:35.965Z"
      },
      {
        "duration": 215,
        "start_time": "2022-08-02T07:56:39.537Z"
      },
      {
        "duration": 21,
        "start_time": "2022-08-02T07:56:56.721Z"
      },
      {
        "duration": 589,
        "start_time": "2022-08-02T07:58:26.434Z"
      },
      {
        "duration": 24,
        "start_time": "2022-08-02T08:00:20.327Z"
      },
      {
        "duration": 11543,
        "start_time": "2022-08-02T08:02:09.949Z"
      },
      {
        "duration": 10923,
        "start_time": "2022-08-02T08:02:32.654Z"
      },
      {
        "duration": 7932,
        "start_time": "2022-08-02T08:08:34.153Z"
      },
      {
        "duration": 5681,
        "start_time": "2022-08-02T08:08:58.873Z"
      },
      {
        "duration": 5774,
        "start_time": "2022-08-02T08:09:43.855Z"
      },
      {
        "duration": 1778,
        "start_time": "2022-08-02T08:10:06.624Z"
      },
      {
        "duration": 12322,
        "start_time": "2022-08-02T08:10:18.490Z"
      },
      {
        "duration": 67458,
        "start_time": "2022-08-02T08:10:48.140Z"
      },
      {
        "duration": 59328,
        "start_time": "2022-08-02T08:12:17.233Z"
      },
      {
        "duration": 57765,
        "start_time": "2022-08-02T08:13:48.847Z"
      },
      {
        "duration": 99405,
        "start_time": "2022-08-02T08:15:06.855Z"
      },
      {
        "duration": 264,
        "start_time": "2022-08-02T08:17:37.875Z"
      },
      {
        "duration": 99590,
        "start_time": "2022-08-02T08:19:24.687Z"
      },
      {
        "duration": 232,
        "start_time": "2022-08-02T08:21:15.568Z"
      },
      {
        "duration": 219,
        "start_time": "2022-08-02T08:22:56.998Z"
      },
      {
        "duration": 1054,
        "start_time": "2022-08-02T08:23:38.358Z"
      },
      {
        "duration": 85,
        "start_time": "2022-08-02T08:23:39.413Z"
      },
      {
        "duration": 4,
        "start_time": "2022-08-02T08:23:39.500Z"
      },
      {
        "duration": 19,
        "start_time": "2022-08-02T08:23:39.506Z"
      },
      {
        "duration": 3,
        "start_time": "2022-08-02T08:23:39.528Z"
      },
      {
        "duration": 17,
        "start_time": "2022-08-02T08:23:39.533Z"
      },
      {
        "duration": 26,
        "start_time": "2022-08-02T08:23:39.552Z"
      },
      {
        "duration": 4,
        "start_time": "2022-08-02T08:23:39.579Z"
      },
      {
        "duration": 12,
        "start_time": "2022-08-02T08:23:39.585Z"
      },
      {
        "duration": 13,
        "start_time": "2022-08-02T08:23:39.599Z"
      },
      {
        "duration": 331,
        "start_time": "2022-08-02T08:23:39.614Z"
      },
      {
        "duration": 25,
        "start_time": "2022-08-02T08:23:39.946Z"
      },
      {
        "duration": 7,
        "start_time": "2022-08-02T08:23:39.973Z"
      },
      {
        "duration": 868,
        "start_time": "2022-08-02T08:23:39.983Z"
      },
      {
        "duration": 112,
        "start_time": "2022-08-02T08:23:40.853Z"
      },
      {
        "duration": 15,
        "start_time": "2022-08-02T08:23:40.967Z"
      },
      {
        "duration": 2,
        "start_time": "2022-08-02T08:23:40.984Z"
      },
      {
        "duration": 621,
        "start_time": "2022-08-02T08:23:40.988Z"
      },
      {
        "duration": 609,
        "start_time": "2022-08-02T08:23:41.611Z"
      },
      {
        "duration": 98,
        "start_time": "2022-08-02T08:23:42.311Z"
      },
      {
        "duration": 497,
        "start_time": "2022-08-02T08:23:42.412Z"
      },
      {
        "duration": 138,
        "start_time": "2022-08-02T08:23:42.911Z"
      },
      {
        "duration": 161,
        "start_time": "2022-08-02T08:23:43.051Z"
      },
      {
        "duration": 3,
        "start_time": "2022-08-02T08:23:43.213Z"
      },
      {
        "duration": 491,
        "start_time": "2022-08-02T08:23:43.218Z"
      },
      {
        "duration": 26,
        "start_time": "2022-08-02T08:23:43.711Z"
      },
      {
        "duration": 6,
        "start_time": "2022-08-02T08:23:43.738Z"
      },
      {
        "duration": 692,
        "start_time": "2022-08-02T08:23:43.746Z"
      },
      {
        "duration": 30,
        "start_time": "2022-08-02T08:23:44.440Z"
      },
      {
        "duration": 309,
        "start_time": "2022-08-02T08:23:44.473Z"
      },
      {
        "duration": 29,
        "start_time": "2022-08-02T08:23:44.784Z"
      },
      {
        "duration": 3023,
        "start_time": "2022-08-02T08:23:44.815Z"
      },
      {
        "duration": 211,
        "start_time": "2022-08-02T08:23:47.840Z"
      },
      {
        "duration": 3947,
        "start_time": "2022-08-02T08:23:48.053Z"
      },
      {
        "duration": 101004,
        "start_time": "2022-08-02T08:23:52.001Z"
      },
      {
        "duration": 229,
        "start_time": "2022-08-02T08:25:33.009Z"
      },
      {
        "duration": 4535,
        "start_time": "2022-08-02T08:25:33.240Z"
      },
      {
        "duration": 17,
        "start_time": "2022-08-02T08:25:37.776Z"
      },
      {
        "duration": 15,
        "start_time": "2022-08-02T08:25:37.795Z"
      },
      {
        "duration": 509,
        "start_time": "2022-08-02T08:25:37.811Z"
      },
      {
        "duration": 802,
        "start_time": "2022-08-02T08:25:38.413Z"
      },
      {
        "duration": 402,
        "start_time": "2022-08-02T08:25:39.218Z"
      },
      {
        "duration": 334,
        "start_time": "2022-08-02T08:25:39.711Z"
      },
      {
        "duration": 234,
        "start_time": "2022-08-02T08:25:40.047Z"
      },
      {
        "duration": 205,
        "start_time": "2022-08-02T08:27:16.831Z"
      },
      {
        "duration": 242,
        "start_time": "2022-08-02T08:28:48.844Z"
      },
      {
        "duration": 224,
        "start_time": "2022-08-02T08:33:46.135Z"
      },
      {
        "duration": 269,
        "start_time": "2022-08-02T08:36:15.242Z"
      },
      {
        "duration": 243,
        "start_time": "2022-08-02T08:37:39.428Z"
      }
    ],
    "kernelspec": {
      "display_name": "Python 3 (ipykernel)",
      "language": "python",
      "name": "python3"
    },
    "language_info": {
      "codemirror_mode": {
        "name": "ipython",
        "version": 3
      },
      "file_extension": ".py",
      "mimetype": "text/x-python",
      "name": "python",
      "nbconvert_exporter": "python",
      "pygments_lexer": "ipython3",
      "version": "3.9.12"
    },
    "toc": {
      "base_numbering": 1,
      "nav_menu": {},
      "number_sections": true,
      "sideBar": true,
      "skip_h1_title": true,
      "title_cell": "Содержание",
      "title_sidebar": "Contents",
      "toc_cell": true,
      "toc_position": {
        "height": "calc(100% - 180px)",
        "left": "10px",
        "top": "150px",
        "width": "165px"
      },
      "toc_section_display": true,
      "toc_window_display": true
    },
    "colab": {
      "provenance": []
    }
  },
  "nbformat": 4,
  "nbformat_minor": 0
}